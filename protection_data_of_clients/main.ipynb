{
 "cells": [
  {
   "cell_type": "markdown",
   "metadata": {},
   "source": [
    "# Защита персональных данных клиентов"
   ]
  },
  {
   "cell_type": "markdown",
   "metadata": {},
   "source": [
    "Нам нужно защитить данные клиентов страховой компании «Хоть потоп». Разработать такой метод преобразования данных, чтобы по ним было сложно восстановить персональную информацию. Обосновать корректность его работы.\n",
    "\n",
    "Нужно защитить данные, чтобы при преобразовании качество моделей машинного обучения не ухудшилось. Подбирать наилучшую модель не требуется."
   ]
  },
  {
   "cell_type": "markdown",
   "metadata": {},
   "source": [
    "## Загрузка данных"
   ]
  },
  {
   "cell_type": "code",
   "execution_count": 1,
   "metadata": {},
   "outputs": [],
   "source": [
    "import pandas as pd\n",
    "import numpy as np\n",
    "from sklearn.model_selection import train_test_split\n",
    "from sklearn.linear_model import LinearRegression\n",
    "from sklearn.metrics import r2_score"
   ]
  },
  {
   "cell_type": "code",
   "execution_count": 2,
   "metadata": {},
   "outputs": [],
   "source": [
    "df = pd.read_csv('/datasets/insurance.csv')"
   ]
  },
  {
   "cell_type": "code",
   "execution_count": 3,
   "metadata": {},
   "outputs": [
    {
     "data": {
      "text/html": [
       "<div>\n",
       "<style scoped>\n",
       "    .dataframe tbody tr th:only-of-type {\n",
       "        vertical-align: middle;\n",
       "    }\n",
       "\n",
       "    .dataframe tbody tr th {\n",
       "        vertical-align: top;\n",
       "    }\n",
       "\n",
       "    .dataframe thead th {\n",
       "        text-align: right;\n",
       "    }\n",
       "</style>\n",
       "<table border=\"1\" class=\"dataframe\">\n",
       "  <thead>\n",
       "    <tr style=\"text-align: right;\">\n",
       "      <th></th>\n",
       "      <th>Пол</th>\n",
       "      <th>Возраст</th>\n",
       "      <th>Зарплата</th>\n",
       "      <th>Члены семьи</th>\n",
       "      <th>Страховые выплаты</th>\n",
       "    </tr>\n",
       "  </thead>\n",
       "  <tbody>\n",
       "    <tr>\n",
       "      <th>0</th>\n",
       "      <td>1</td>\n",
       "      <td>41.0</td>\n",
       "      <td>49600.0</td>\n",
       "      <td>1</td>\n",
       "      <td>0</td>\n",
       "    </tr>\n",
       "    <tr>\n",
       "      <th>1</th>\n",
       "      <td>0</td>\n",
       "      <td>46.0</td>\n",
       "      <td>38000.0</td>\n",
       "      <td>1</td>\n",
       "      <td>1</td>\n",
       "    </tr>\n",
       "    <tr>\n",
       "      <th>2</th>\n",
       "      <td>0</td>\n",
       "      <td>29.0</td>\n",
       "      <td>21000.0</td>\n",
       "      <td>0</td>\n",
       "      <td>0</td>\n",
       "    </tr>\n",
       "    <tr>\n",
       "      <th>3</th>\n",
       "      <td>0</td>\n",
       "      <td>21.0</td>\n",
       "      <td>41700.0</td>\n",
       "      <td>2</td>\n",
       "      <td>0</td>\n",
       "    </tr>\n",
       "    <tr>\n",
       "      <th>4</th>\n",
       "      <td>1</td>\n",
       "      <td>28.0</td>\n",
       "      <td>26100.0</td>\n",
       "      <td>0</td>\n",
       "      <td>0</td>\n",
       "    </tr>\n",
       "  </tbody>\n",
       "</table>\n",
       "</div>"
      ],
      "text/plain": [
       "   Пол  Возраст  Зарплата  Члены семьи  Страховые выплаты\n",
       "0    1     41.0   49600.0            1                  0\n",
       "1    0     46.0   38000.0            1                  1\n",
       "2    0     29.0   21000.0            0                  0\n",
       "3    0     21.0   41700.0            2                  0\n",
       "4    1     28.0   26100.0            0                  0"
      ]
     },
     "metadata": {},
     "output_type": "display_data"
    },
    {
     "name": "stdout",
     "output_type": "stream",
     "text": [
      "<class 'pandas.core.frame.DataFrame'>\n",
      "RangeIndex: 5000 entries, 0 to 4999\n",
      "Data columns (total 5 columns):\n",
      " #   Column             Non-Null Count  Dtype  \n",
      "---  ------             --------------  -----  \n",
      " 0   Пол                5000 non-null   int64  \n",
      " 1   Возраст            5000 non-null   float64\n",
      " 2   Зарплата           5000 non-null   float64\n",
      " 3   Члены семьи        5000 non-null   int64  \n",
      " 4   Страховые выплаты  5000 non-null   int64  \n",
      "dtypes: float64(2), int64(3)\n",
      "memory usage: 195.4 KB\n"
     ]
    }
   ],
   "source": [
    "display(df.head(5))\n",
    "df.info()"
   ]
  },
  {
   "cell_type": "code",
   "execution_count": 4,
   "metadata": {},
   "outputs": [
    {
     "data": {
      "text/html": [
       "<div>\n",
       "<style scoped>\n",
       "    .dataframe tbody tr th:only-of-type {\n",
       "        vertical-align: middle;\n",
       "    }\n",
       "\n",
       "    .dataframe tbody tr th {\n",
       "        vertical-align: top;\n",
       "    }\n",
       "\n",
       "    .dataframe thead th {\n",
       "        text-align: right;\n",
       "    }\n",
       "</style>\n",
       "<table border=\"1\" class=\"dataframe\">\n",
       "  <thead>\n",
       "    <tr style=\"text-align: right;\">\n",
       "      <th></th>\n",
       "      <th>Пол</th>\n",
       "      <th>Возраст</th>\n",
       "      <th>Зарплата</th>\n",
       "      <th>Члены семьи</th>\n",
       "      <th>Страховые выплаты</th>\n",
       "    </tr>\n",
       "  </thead>\n",
       "  <tbody>\n",
       "    <tr>\n",
       "      <th>count</th>\n",
       "      <td>5000.000000</td>\n",
       "      <td>5000.000000</td>\n",
       "      <td>5000.000000</td>\n",
       "      <td>5000.000000</td>\n",
       "      <td>5000.000000</td>\n",
       "    </tr>\n",
       "    <tr>\n",
       "      <th>mean</th>\n",
       "      <td>0.499000</td>\n",
       "      <td>30.952800</td>\n",
       "      <td>39916.360000</td>\n",
       "      <td>1.194200</td>\n",
       "      <td>0.148000</td>\n",
       "    </tr>\n",
       "    <tr>\n",
       "      <th>std</th>\n",
       "      <td>0.500049</td>\n",
       "      <td>8.440807</td>\n",
       "      <td>9900.083569</td>\n",
       "      <td>1.091387</td>\n",
       "      <td>0.463183</td>\n",
       "    </tr>\n",
       "    <tr>\n",
       "      <th>min</th>\n",
       "      <td>0.000000</td>\n",
       "      <td>18.000000</td>\n",
       "      <td>5300.000000</td>\n",
       "      <td>0.000000</td>\n",
       "      <td>0.000000</td>\n",
       "    </tr>\n",
       "    <tr>\n",
       "      <th>25%</th>\n",
       "      <td>0.000000</td>\n",
       "      <td>24.000000</td>\n",
       "      <td>33300.000000</td>\n",
       "      <td>0.000000</td>\n",
       "      <td>0.000000</td>\n",
       "    </tr>\n",
       "    <tr>\n",
       "      <th>50%</th>\n",
       "      <td>0.000000</td>\n",
       "      <td>30.000000</td>\n",
       "      <td>40200.000000</td>\n",
       "      <td>1.000000</td>\n",
       "      <td>0.000000</td>\n",
       "    </tr>\n",
       "    <tr>\n",
       "      <th>75%</th>\n",
       "      <td>1.000000</td>\n",
       "      <td>37.000000</td>\n",
       "      <td>46600.000000</td>\n",
       "      <td>2.000000</td>\n",
       "      <td>0.000000</td>\n",
       "    </tr>\n",
       "    <tr>\n",
       "      <th>max</th>\n",
       "      <td>1.000000</td>\n",
       "      <td>65.000000</td>\n",
       "      <td>79000.000000</td>\n",
       "      <td>6.000000</td>\n",
       "      <td>5.000000</td>\n",
       "    </tr>\n",
       "  </tbody>\n",
       "</table>\n",
       "</div>"
      ],
      "text/plain": [
       "               Пол      Возраст      Зарплата  Члены семьи  Страховые выплаты\n",
       "count  5000.000000  5000.000000   5000.000000  5000.000000        5000.000000\n",
       "mean      0.499000    30.952800  39916.360000     1.194200           0.148000\n",
       "std       0.500049     8.440807   9900.083569     1.091387           0.463183\n",
       "min       0.000000    18.000000   5300.000000     0.000000           0.000000\n",
       "25%       0.000000    24.000000  33300.000000     0.000000           0.000000\n",
       "50%       0.000000    30.000000  40200.000000     1.000000           0.000000\n",
       "75%       1.000000    37.000000  46600.000000     2.000000           0.000000\n",
       "max       1.000000    65.000000  79000.000000     6.000000           5.000000"
      ]
     },
     "execution_count": 4,
     "metadata": {},
     "output_type": "execute_result"
    }
   ],
   "source": [
    "df.describe()"
   ]
  },
  {
   "cell_type": "code",
   "execution_count": 5,
   "metadata": {},
   "outputs": [],
   "source": [
    "features = df.drop(['Страховые выплаты'], axis=1)  # извлекаем признаки \n",
    "target = df['Страховые выплаты'] # извлекаем целевой признак"
   ]
  },
  {
   "cell_type": "code",
   "execution_count": 6,
   "metadata": {},
   "outputs": [
    {
     "name": "stdout",
     "output_type": "stream",
     "text": [
      "[ 7.92580543e-03  3.57083050e-02 -1.70080492e-07 -1.35676623e-02]\n",
      "0.007925805428953745\n",
      "Значение r2: 0.4249455028666801\n"
     ]
    },
    {
     "data": {
      "text/plain": [
       "array([ 7.92580543e-03,  3.57083050e-02, -1.70080492e-07, -1.35676623e-02])"
      ]
     },
     "execution_count": 6,
     "metadata": {},
     "output_type": "execute_result"
    }
   ],
   "source": [
    "X = np.concatenate((np.ones((features.shape[0], 1)), features), axis=1)\n",
    "y = target\n",
    "w = np.linalg.inv(X.T.dot(X)).dot(X.T).dot(y)\n",
    "w = w[1:]\n",
    "w0 = w[0]\n",
    "print(w)\n",
    "print(w0)\n",
    "\n",
    "model = LinearRegression()\n",
    "model.fit(features, target)\n",
    "predictions = model.predict(features)\n",
    "print('Значение r2:', r2_score(target, predictions))\n",
    "model.coef_"
   ]
  },
  {
   "cell_type": "markdown",
   "metadata": {},
   "source": [
    "Вывод: \n",
    "В датасете указаны данные клиентов которые былли застрахованы, за целевой признак берем сколько стрраховых выплат получил клиент.\n",
    "\n",
    "Аномалии в данных не выявлено.\n",
    "\n",
    "Обучили линейную регрессию. Вычитали значения и R2."
   ]
  },
  {
   "cell_type": "markdown",
   "metadata": {},
   "source": [
    "## Умножение матриц"
   ]
  },
  {
   "cell_type": "markdown",
   "metadata": {},
   "source": [
    "В этом задании вы можете записывать формулы в *Jupyter Notebook.*\n",
    "\n",
    "Чтобы записать формулу внутри текста, окружите её символами доллара \\\\$; если снаружи —  двойными символами \\\\$\\\\$. Эти формулы записываются на языке вёрстки *LaTeX.* \n",
    "\n",
    "Для примера мы записали формулы линейной регрессии. Можете их скопировать и отредактировать, чтобы решить задачу.\n",
    "\n",
    "Работать в *LaTeX* необязательно."
   ]
  },
  {
   "cell_type": "markdown",
   "metadata": {},
   "source": [
    "Обозначения:\n",
    "\n",
    "- $X$ — матрица признаков (нулевой столбец состоит из единиц)\n",
    "\n",
    "- $y$ — вектор целевого признака\n",
    "\n",
    "- $P$ — матрица, на которую умножаются признаки\n",
    "\n",
    "- $w$ — вектор весов линейной регрессии (нулевой элемент равен сдвигу)"
   ]
  },
  {
   "cell_type": "markdown",
   "metadata": {},
   "source": [
    "Предсказания:\n",
    "\n",
    "$$\n",
    "a = Xw\n",
    "$$\n",
    "\n",
    "Задача обучения:\n",
    "\n",
    "$$\n",
    "w = \\arg\\min_w MSE(Xw, y)\n",
    "$$\n",
    "\n",
    "Формула обучения:\n",
    "\n",
    "$$\n",
    "w = (X^T X)^{-1} X^T y\n",
    "$$"
   ]
  },
  {
   "cell_type": "markdown",
   "metadata": {},
   "source": [
    "**Ответ:** Не измениться\n",
    "\n",
    "**Обоснование:** Вставим умножение на обратимую матрицу P, чтобы доказать, что : $a'=a$\n",
    "\n",
    "$$ a'= XP((XP)^T XP)^{-1} (XP)^T y $$\n",
    "\n",
    "Для следующего шага понадобиться следующее свойство обатимой матрицы: $$ (AB)^T = A^T B^T $$\n",
    "\n",
    "$$\n",
    "a' = XP (P^T X^T XP)^{-1} P^T X^T y\n",
    "$$\n",
    "\n",
    "Для следующего шага понадобиться следующее свойство транспонированной матрицы:\n",
    "$$\n",
    "(AB)^{-1} = B^{-1} A^{-1} \n",
    "$$\n",
    "\n",
    "$$ a'= XP(P)^{-1} (X^TX)^{-1} (P^T)^{-1} X^T P^T y $$\n",
    "Раскроем скобки: $$ a'= XP(P)^{-1} (X^TX)^{-1} (P^T)^{-1} X^T P^T y $$\n",
    "\n",
    "Умножение $$PP^{-1} = E$$\n",
    "\n",
    "Умножением на единичную матрицу не чего не меняет: \n",
    "$$ a' = XE (X^TX)^{-1} EX^T y $$\n",
    "\n",
    "$$ a' = X (X^TX)^{-1} X^T y $$\n",
    "\n",
    "$$ a' = Xw $$\n",
    "\n",
    "$$a'=a$$\n",
    "\n",
    "Как видно, значение предсказания  не меняется, если умножать матрицу признаков на обратимую матрицу."
   ]
  },
  {
   "cell_type": "markdown",
   "metadata": {},
   "source": [
    "## Алгоритм преобразования"
   ]
  },
  {
   "cell_type": "markdown",
   "metadata": {},
   "source": [
    "**Алгоритм**\n",
    "\n",
    "Для защиты информации будем умножать матрицу признаков на обратимую матрицу , которая будет генерироваться случайным образом.\n",
    "\n",
    "Этапы алгоритма:\n",
    "\n",
    "1.Сгенерировать случайную матрицу размером 4 на 4.\n",
    "\n",
    "2.Проверить сгенерированную матрицу на обратимость.\n",
    "\n",
    "3.Получение матрицы преобразованных признаков, путем умножения исхожной матрицы на сгенерированную.\n",
    "\n",
    "4.Применение алгоритма на преобразованных признаках.\n",
    "\n",
    "5.Сравним метрики R2 на преобразованных и на исходных данных."
   ]
  },
  {
   "cell_type": "markdown",
   "metadata": {},
   "source": [
    "**Обоснование**\n",
    "\n",
    "Матрица B должна иметь необходимую размерность xnx, где n - количество признаков для регрессии. Таким образом матрица C будет иметь туже размерность, что и матрица A. Обратная матрица B существует только для квадратных невырожденных матриц (определитель которых не равен нулю)."
   ]
  },
  {
   "cell_type": "markdown",
   "metadata": {},
   "source": [
    "## Проверка алгоритма"
   ]
  },
  {
   "cell_type": "code",
   "execution_count": 7,
   "metadata": {},
   "outputs": [],
   "source": [
    "features_train, features_test, target_train, target_test = train_test_split(\n",
    "    features, target, test_size=0.25, random_state=1234567)"
   ]
  },
  {
   "cell_type": "code",
   "execution_count": 8,
   "metadata": {},
   "outputs": [
    {
     "name": "stdout",
     "output_type": "stream",
     "text": [
      "[ 1.68387835e-02  3.62788008e-02  7.59473675e-08 -1.25231671e-02]\n",
      "Значение r2: 0.4129570107995183\n"
     ]
    }
   ],
   "source": [
    "model = LinearRegression()\n",
    "model.fit(features_train, target_train)\n",
    "predictions = model.predict(features_test)\n",
    "r2 = r2_score(target_test, predictions)\n",
    "print(model.coef_)\n",
    "print(\"Значение r2:\", r2)"
   ]
  },
  {
   "cell_type": "code",
   "execution_count": 9,
   "metadata": {},
   "outputs": [],
   "source": [
    "def new_features(features):\n",
    "      \n",
    "    # делаем генератор случайных чисел:\n",
    "    np.random.seed(1234567)\n",
    "    # создаем массив случайных чисел из интервала:\n",
    "    new_matrix = np.random.randint(1, 10, (features.shape[1],features.shape[1]))\n",
    "    # вычисляем детерминант матрицы\n",
    "    det = np.linalg.det(new_matrix)\n",
    "    while det == 0:\n",
    "        np.random.seed(1234568)\n",
    "        new_matrix = np.random.randint(1, 10, (features.shape[1],features.shape[1]))\n",
    "    \n",
    "    new_features = features @ new_matrix\n",
    "    return new_features, new_matrix"
   ]
  },
  {
   "cell_type": "markdown",
   "metadata": {},
   "source": [
    "Вывел матрицу на экран и вижу, что данные потеряли свои оригинальные значения, теперь в них хранится непонятные числа. "
   ]
  },
  {
   "cell_type": "code",
   "execution_count": 10,
   "metadata": {},
   "outputs": [
    {
     "data": {
      "text/html": [
       "<div>\n",
       "<style scoped>\n",
       "    .dataframe tbody tr th:only-of-type {\n",
       "        vertical-align: middle;\n",
       "    }\n",
       "\n",
       "    .dataframe tbody tr th {\n",
       "        vertical-align: top;\n",
       "    }\n",
       "\n",
       "    .dataframe thead th {\n",
       "        text-align: right;\n",
       "    }\n",
       "</style>\n",
       "<table border=\"1\" class=\"dataframe\">\n",
       "  <thead>\n",
       "    <tr style=\"text-align: right;\">\n",
       "      <th></th>\n",
       "      <th>0</th>\n",
       "      <th>1</th>\n",
       "      <th>2</th>\n",
       "      <th>3</th>\n",
       "    </tr>\n",
       "  </thead>\n",
       "  <tbody>\n",
       "    <tr>\n",
       "      <th>0</th>\n",
       "      <td>49730.0</td>\n",
       "      <td>148854.0</td>\n",
       "      <td>297653.0</td>\n",
       "      <td>198578.0</td>\n",
       "    </tr>\n",
       "    <tr>\n",
       "      <th>1</th>\n",
       "      <td>38141.0</td>\n",
       "      <td>114054.0</td>\n",
       "      <td>228051.0</td>\n",
       "      <td>152192.0</td>\n",
       "    </tr>\n",
       "    <tr>\n",
       "      <th>2</th>\n",
       "      <td>21087.0</td>\n",
       "      <td>63029.0</td>\n",
       "      <td>126029.0</td>\n",
       "      <td>84116.0</td>\n",
       "    </tr>\n",
       "    <tr>\n",
       "      <th>3</th>\n",
       "      <td>41769.0</td>\n",
       "      <td>125137.0</td>\n",
       "      <td>250231.0</td>\n",
       "      <td>166900.0</td>\n",
       "    </tr>\n",
       "    <tr>\n",
       "      <th>4</th>\n",
       "      <td>26188.0</td>\n",
       "      <td>78333.0</td>\n",
       "      <td>156635.0</td>\n",
       "      <td>104518.0</td>\n",
       "    </tr>\n",
       "  </tbody>\n",
       "</table>\n",
       "</div>"
      ],
      "text/plain": [
       "         0         1         2         3\n",
       "0  49730.0  148854.0  297653.0  198578.0\n",
       "1  38141.0  114054.0  228051.0  152192.0\n",
       "2  21087.0   63029.0  126029.0   84116.0\n",
       "3  41769.0  125137.0  250231.0  166900.0\n",
       "4  26188.0   78333.0  156635.0  104518.0"
      ]
     },
     "metadata": {},
     "output_type": "display_data"
    },
    {
     "data": {
      "text/plain": [
       "array([[4, 5, 7, 6],\n",
       "       [3, 1, 1, 4],\n",
       "       [1, 3, 6, 4],\n",
       "       [3, 8, 5, 8]])"
      ]
     },
     "execution_count": 10,
     "metadata": {},
     "output_type": "execute_result"
    }
   ],
   "source": [
    "features, new_matrix = new_features(features)\n",
    "display(features.head())\n",
    "new_matrix"
   ]
  },
  {
   "cell_type": "code",
   "execution_count": 11,
   "metadata": {},
   "outputs": [],
   "source": [
    "features_train, features_test, target_train, target_test = train_test_split(\n",
    "    features, target, test_size=0.25, random_state=1234567)"
   ]
  },
  {
   "cell_type": "code",
   "execution_count": 12,
   "metadata": {},
   "outputs": [
    {
     "data": {
      "text/html": [
       "<div>\n",
       "<style scoped>\n",
       "    .dataframe tbody tr th:only-of-type {\n",
       "        vertical-align: middle;\n",
       "    }\n",
       "\n",
       "    .dataframe tbody tr th {\n",
       "        vertical-align: top;\n",
       "    }\n",
       "\n",
       "    .dataframe thead th {\n",
       "        text-align: right;\n",
       "    }\n",
       "</style>\n",
       "<table border=\"1\" class=\"dataframe\">\n",
       "  <thead>\n",
       "    <tr style=\"text-align: right;\">\n",
       "      <th></th>\n",
       "      <th>0</th>\n",
       "      <th>1</th>\n",
       "      <th>2</th>\n",
       "      <th>3</th>\n",
       "    </tr>\n",
       "  </thead>\n",
       "  <tbody>\n",
       "    <tr>\n",
       "      <th>878</th>\n",
       "      <td>17906.0</td>\n",
       "      <td>53453.0</td>\n",
       "      <td>106849.0</td>\n",
       "      <td>71350.0</td>\n",
       "    </tr>\n",
       "    <tr>\n",
       "      <th>4996</th>\n",
       "      <td>52505.0</td>\n",
       "      <td>157242.0</td>\n",
       "      <td>314439.0</td>\n",
       "      <td>209744.0</td>\n",
       "    </tr>\n",
       "    <tr>\n",
       "      <th>1052</th>\n",
       "      <td>40187.0</td>\n",
       "      <td>120329.0</td>\n",
       "      <td>240629.0</td>\n",
       "      <td>160516.0</td>\n",
       "    </tr>\n",
       "  </tbody>\n",
       "</table>\n",
       "</div>"
      ],
      "text/plain": [
       "            0         1         2         3\n",
       "878   17906.0   53453.0  106849.0   71350.0\n",
       "4996  52505.0  157242.0  314439.0  209744.0\n",
       "1052  40187.0  120329.0  240629.0  160516.0"
      ]
     },
     "metadata": {},
     "output_type": "display_data"
    },
    {
     "data": {
      "text/html": [
       "<div>\n",
       "<style scoped>\n",
       "    .dataframe tbody tr th:only-of-type {\n",
       "        vertical-align: middle;\n",
       "    }\n",
       "\n",
       "    .dataframe tbody tr th {\n",
       "        vertical-align: top;\n",
       "    }\n",
       "\n",
       "    .dataframe thead th {\n",
       "        text-align: right;\n",
       "    }\n",
       "</style>\n",
       "<table border=\"1\" class=\"dataframe\">\n",
       "  <thead>\n",
       "    <tr style=\"text-align: right;\">\n",
       "      <th></th>\n",
       "      <th>0</th>\n",
       "      <th>1</th>\n",
       "      <th>2</th>\n",
       "      <th>3</th>\n",
       "    </tr>\n",
       "  </thead>\n",
       "  <tbody>\n",
       "    <tr>\n",
       "      <th>3221</th>\n",
       "      <td>47603.0</td>\n",
       "      <td>142545.0</td>\n",
       "      <td>285044.0</td>\n",
       "      <td>190142.0</td>\n",
       "    </tr>\n",
       "    <tr>\n",
       "      <th>4078</th>\n",
       "      <td>55426.0</td>\n",
       "      <td>165956.0</td>\n",
       "      <td>331850.0</td>\n",
       "      <td>221376.0</td>\n",
       "    </tr>\n",
       "    <tr>\n",
       "      <th>4192</th>\n",
       "      <td>55766.0</td>\n",
       "      <td>167122.0</td>\n",
       "      <td>334222.0</td>\n",
       "      <td>222888.0</td>\n",
       "    </tr>\n",
       "  </tbody>\n",
       "</table>\n",
       "</div>"
      ],
      "text/plain": [
       "            0         1         2         3\n",
       "3221  47603.0  142545.0  285044.0  190142.0\n",
       "4078  55426.0  165956.0  331850.0  221376.0\n",
       "4192  55766.0  167122.0  334222.0  222888.0"
      ]
     },
     "metadata": {},
     "output_type": "display_data"
    }
   ],
   "source": [
    "# Код ревьюера\n",
    "display(features_train.head(3))\n",
    "display(features_test.head(3))"
   ]
  },
  {
   "cell_type": "code",
   "execution_count": 13,
   "metadata": {},
   "outputs": [
    {
     "name": "stdout",
     "output_type": "stream",
     "text": [
      "[ 0.00890267 -0.00985182  0.00024605  0.00479414]\n",
      "Значение r2: 0.41295701079950675\n"
     ]
    }
   ],
   "source": [
    "model = LinearRegression()\n",
    "model.fit(features_train, target_train)\n",
    "predictions_new_table = model.predict(features_test)\n",
    "r2_new_table = r2_score(target_test, predictions_new_table)\n",
    "print(model.coef_)\n",
    "print(\"Значение r2:\", r2_new_table)"
   ]
  },
  {
   "cell_type": "markdown",
   "metadata": {},
   "source": [
    "## Вывод"
   ]
  },
  {
   "cell_type": "markdown",
   "metadata": {},
   "source": [
    "Вывод: \n",
    "1. Проанализиовали исходные данные, аномалии не было выявленно.\n",
    "\n",
    "2. Создали матрицу для шифрования исходных данных, преобразовали исходные признаки.\n",
    "\n",
    "3. Проверили метрику R2 до преобразования и после, качество линейной регрессии не изменилось."
   ]
  }
 ],
 "metadata": {
  "ExecuteTimeLog": [
   {
    "duration": 402,
    "start_time": "2022-09-11T16:11:56.335Z"
   },
   {
    "duration": 402,
    "start_time": "2022-09-12T01:28:57.170Z"
   },
   {
    "duration": 78,
    "start_time": "2022-09-12T01:28:57.724Z"
   },
   {
    "duration": 83,
    "start_time": "2022-09-12T01:29:36.679Z"
   },
   {
    "duration": 15,
    "start_time": "2022-09-12T01:29:48.666Z"
   },
   {
    "duration": 24,
    "start_time": "2022-09-12T01:42:08.237Z"
   },
   {
    "duration": 6,
    "start_time": "2022-09-12T01:42:42.554Z"
   },
   {
    "duration": 6,
    "start_time": "2022-09-12T01:43:09.894Z"
   },
   {
    "duration": 9,
    "start_time": "2022-09-12T01:51:46.649Z"
   },
   {
    "duration": 2,
    "start_time": "2022-09-12T01:54:43.400Z"
   },
   {
    "duration": 32,
    "start_time": "2022-09-12T01:54:44.012Z"
   },
   {
    "duration": 22,
    "start_time": "2022-09-12T01:54:44.434Z"
   },
   {
    "duration": 4,
    "start_time": "2022-09-12T01:54:44.891Z"
   },
   {
    "duration": 7,
    "start_time": "2022-09-12T01:55:45.000Z"
   },
   {
    "duration": 2,
    "start_time": "2022-09-12T01:56:09.097Z"
   },
   {
    "duration": 28,
    "start_time": "2022-09-12T01:56:09.935Z"
   },
   {
    "duration": 17,
    "start_time": "2022-09-12T01:56:11.017Z"
   },
   {
    "duration": 4,
    "start_time": "2022-09-12T01:56:11.671Z"
   },
   {
    "duration": 9,
    "start_time": "2022-09-12T01:56:12.327Z"
   },
   {
    "duration": 413,
    "start_time": "2022-09-12T01:56:22.638Z"
   },
   {
    "duration": 31,
    "start_time": "2022-09-12T01:56:23.054Z"
   },
   {
    "duration": 22,
    "start_time": "2022-09-12T01:56:23.086Z"
   },
   {
    "duration": 3,
    "start_time": "2022-09-12T01:56:23.110Z"
   },
   {
    "duration": 71,
    "start_time": "2022-09-12T01:56:23.115Z"
   },
   {
    "duration": 4,
    "start_time": "2022-09-12T01:56:37.060Z"
   },
   {
    "duration": 49,
    "start_time": "2022-09-12T01:57:35.453Z"
   },
   {
    "duration": 4,
    "start_time": "2022-09-12T01:58:58.804Z"
   },
   {
    "duration": 54,
    "start_time": "2022-09-12T01:59:03.358Z"
   },
   {
    "duration": 87,
    "start_time": "2022-09-12T01:59:08.924Z"
   },
   {
    "duration": 5,
    "start_time": "2022-09-12T01:59:18.432Z"
   },
   {
    "duration": 11,
    "start_time": "2022-09-12T02:17:23.707Z"
   },
   {
    "duration": 1002,
    "start_time": "2022-09-12T02:17:55.072Z"
   },
   {
    "duration": 28,
    "start_time": "2022-09-12T02:17:56.076Z"
   },
   {
    "duration": 23,
    "start_time": "2022-09-12T02:17:56.106Z"
   },
   {
    "duration": 3,
    "start_time": "2022-09-12T02:17:56.131Z"
   },
   {
    "duration": 5,
    "start_time": "2022-09-12T02:17:56.137Z"
   },
   {
    "duration": 153,
    "start_time": "2022-09-12T02:17:56.143Z"
   },
   {
    "duration": 0,
    "start_time": "2022-09-12T02:17:56.298Z"
   },
   {
    "duration": 11,
    "start_time": "2022-09-12T02:18:45.192Z"
   },
   {
    "duration": 11,
    "start_time": "2022-09-12T02:19:46.753Z"
   },
   {
    "duration": 1054,
    "start_time": "2022-09-12T02:21:22.015Z"
   },
   {
    "duration": 31,
    "start_time": "2022-09-12T02:21:23.071Z"
   },
   {
    "duration": 27,
    "start_time": "2022-09-12T02:21:23.104Z"
   },
   {
    "duration": 3,
    "start_time": "2022-09-12T02:21:23.133Z"
   },
   {
    "duration": 7,
    "start_time": "2022-09-12T02:21:23.137Z"
   },
   {
    "duration": 255,
    "start_time": "2022-09-12T02:21:23.145Z"
   },
   {
    "duration": 18,
    "start_time": "2022-09-12T02:22:28.899Z"
   },
   {
    "duration": 16,
    "start_time": "2022-09-12T02:24:04.751Z"
   },
   {
    "duration": 1120,
    "start_time": "2022-09-12T02:25:27.478Z"
   },
   {
    "duration": 28,
    "start_time": "2022-09-12T02:25:28.600Z"
   },
   {
    "duration": 21,
    "start_time": "2022-09-12T02:25:28.630Z"
   },
   {
    "duration": 3,
    "start_time": "2022-09-12T02:25:28.653Z"
   },
   {
    "duration": 21,
    "start_time": "2022-09-12T02:25:28.658Z"
   },
   {
    "duration": 20,
    "start_time": "2022-09-12T02:25:28.680Z"
   },
   {
    "duration": 9,
    "start_time": "2022-09-12T02:25:37.779Z"
   },
   {
    "duration": 113,
    "start_time": "2022-09-12T02:29:25.197Z"
   },
   {
    "duration": 9,
    "start_time": "2022-09-12T02:29:41.764Z"
   },
   {
    "duration": 244,
    "start_time": "2022-09-12T02:33:31.354Z"
   },
   {
    "duration": 17,
    "start_time": "2022-09-12T02:34:58.891Z"
   },
   {
    "duration": 995,
    "start_time": "2022-09-12T02:35:08.676Z"
   },
   {
    "duration": 28,
    "start_time": "2022-09-12T02:35:09.673Z"
   },
   {
    "duration": 21,
    "start_time": "2022-09-12T02:35:09.702Z"
   },
   {
    "duration": 3,
    "start_time": "2022-09-12T02:35:09.724Z"
   },
   {
    "duration": 7,
    "start_time": "2022-09-12T02:35:09.729Z"
   },
   {
    "duration": 15,
    "start_time": "2022-09-12T02:35:09.737Z"
   },
   {
    "duration": 239,
    "start_time": "2022-09-12T02:36:28.244Z"
   },
   {
    "duration": 10,
    "start_time": "2022-09-12T02:36:53.720Z"
   },
   {
    "duration": 982,
    "start_time": "2022-09-12T02:37:09.282Z"
   },
   {
    "duration": 29,
    "start_time": "2022-09-12T02:37:10.265Z"
   },
   {
    "duration": 23,
    "start_time": "2022-09-12T02:37:10.295Z"
   },
   {
    "duration": 4,
    "start_time": "2022-09-12T02:37:10.320Z"
   },
   {
    "duration": 8,
    "start_time": "2022-09-12T02:37:10.325Z"
   },
   {
    "duration": 11,
    "start_time": "2022-09-12T02:37:10.335Z"
   },
   {
    "duration": 18,
    "start_time": "2022-09-12T03:02:59.651Z"
   },
   {
    "duration": 10,
    "start_time": "2022-09-12T03:03:09.700Z"
   },
   {
    "duration": 9,
    "start_time": "2022-09-12T03:03:19.918Z"
   },
   {
    "duration": 11,
    "start_time": "2022-09-12T03:03:27.466Z"
   },
   {
    "duration": 13,
    "start_time": "2022-09-12T03:03:42.706Z"
   },
   {
    "duration": 74,
    "start_time": "2022-09-12T03:20:03.550Z"
   },
   {
    "duration": 90,
    "start_time": "2022-09-12T03:20:34.234Z"
   },
   {
    "duration": 9,
    "start_time": "2022-09-13T15:03:10.814Z"
   },
   {
    "duration": 64,
    "start_time": "2022-09-13T15:03:55.785Z"
   },
   {
    "duration": 1090,
    "start_time": "2022-09-13T15:04:24.819Z"
   },
   {
    "duration": 89,
    "start_time": "2022-09-13T15:04:25.911Z"
   },
   {
    "duration": 25,
    "start_time": "2022-09-13T15:04:26.001Z"
   },
   {
    "duration": 4,
    "start_time": "2022-09-13T15:04:26.028Z"
   },
   {
    "duration": 5,
    "start_time": "2022-09-13T15:04:26.034Z"
   },
   {
    "duration": 80,
    "start_time": "2022-09-13T15:04:26.040Z"
   },
   {
    "duration": 92,
    "start_time": "2022-09-13T15:04:26.121Z"
   },
   {
    "duration": 13,
    "start_time": "2022-09-13T15:04:26.215Z"
   },
   {
    "duration": 4,
    "start_time": "2022-09-13T15:09:02.694Z"
   },
   {
    "duration": 861,
    "start_time": "2022-09-13T15:09:12.963Z"
   },
   {
    "duration": 4,
    "start_time": "2022-09-13T15:09:30.540Z"
   },
   {
    "duration": 716,
    "start_time": "2022-09-13T15:09:32.641Z"
   },
   {
    "duration": 63,
    "start_time": "2022-09-13T15:13:59.765Z"
   },
   {
    "duration": 3,
    "start_time": "2022-09-13T15:14:06.387Z"
   },
   {
    "duration": 10,
    "start_time": "2022-09-13T15:14:08.393Z"
   },
   {
    "duration": 3,
    "start_time": "2022-09-13T15:14:19.262Z"
   },
   {
    "duration": 9,
    "start_time": "2022-09-13T15:14:21.491Z"
   },
   {
    "duration": 4,
    "start_time": "2022-09-13T15:15:04.664Z"
   },
   {
    "duration": 9,
    "start_time": "2022-09-13T15:15:05.357Z"
   },
   {
    "duration": 4,
    "start_time": "2022-09-13T15:15:42.594Z"
   },
   {
    "duration": 8,
    "start_time": "2022-09-13T15:15:47.285Z"
   },
   {
    "duration": 1017,
    "start_time": "2022-09-14T02:11:23.700Z"
   },
   {
    "duration": 92,
    "start_time": "2022-09-14T02:11:24.719Z"
   },
   {
    "duration": 21,
    "start_time": "2022-09-14T02:11:24.813Z"
   },
   {
    "duration": 4,
    "start_time": "2022-09-14T02:11:24.836Z"
   },
   {
    "duration": 6,
    "start_time": "2022-09-14T02:11:24.841Z"
   },
   {
    "duration": 199,
    "start_time": "2022-09-14T02:11:24.848Z"
   },
   {
    "duration": 5,
    "start_time": "2022-09-14T02:11:25.048Z"
   },
   {
    "duration": 8,
    "start_time": "2022-09-14T02:11:25.055Z"
   },
   {
    "duration": 18,
    "start_time": "2022-09-14T02:11:25.065Z"
   },
   {
    "duration": 90,
    "start_time": "2022-09-14T02:11:55.381Z"
   },
   {
    "duration": 1013,
    "start_time": "2022-09-14T02:20:48.865Z"
   },
   {
    "duration": 29,
    "start_time": "2022-09-14T02:20:49.880Z"
   },
   {
    "duration": 21,
    "start_time": "2022-09-14T02:20:49.911Z"
   },
   {
    "duration": 3,
    "start_time": "2022-09-14T02:20:49.934Z"
   },
   {
    "duration": 8,
    "start_time": "2022-09-14T02:20:49.939Z"
   },
   {
    "duration": 103,
    "start_time": "2022-09-14T02:20:49.948Z"
   },
   {
    "duration": 93,
    "start_time": "2022-09-14T02:20:50.054Z"
   },
   {
    "duration": 21,
    "start_time": "2022-09-14T02:20:50.149Z"
   },
   {
    "duration": 7,
    "start_time": "2022-09-14T02:20:50.171Z"
   },
   {
    "duration": 19,
    "start_time": "2022-09-14T02:20:50.180Z"
   },
   {
    "duration": 6,
    "start_time": "2022-09-14T02:20:50.201Z"
   },
   {
    "duration": 19,
    "start_time": "2022-09-14T02:20:50.209Z"
   },
   {
    "duration": 61,
    "start_time": "2022-09-14T02:38:56.432Z"
   },
   {
    "duration": 9,
    "start_time": "2022-09-14T02:38:57.718Z"
   },
   {
    "duration": 855,
    "start_time": "2022-09-14T02:40:31.337Z"
   },
   {
    "duration": 3,
    "start_time": "2022-09-14T02:40:32.557Z"
   },
   {
    "duration": 175,
    "start_time": "2022-09-14T02:41:30.729Z"
   },
   {
    "duration": 3,
    "start_time": "2022-09-14T02:41:31.974Z"
   },
   {
    "duration": 137,
    "start_time": "2022-09-14T02:52:07.118Z"
   },
   {
    "duration": 56,
    "start_time": "2022-09-14T02:57:22.047Z"
   },
   {
    "duration": 1005,
    "start_time": "2022-09-14T02:57:39.284Z"
   },
   {
    "duration": 29,
    "start_time": "2022-09-14T02:57:40.290Z"
   },
   {
    "duration": 21,
    "start_time": "2022-09-14T02:57:40.320Z"
   },
   {
    "duration": 3,
    "start_time": "2022-09-14T02:57:40.343Z"
   },
   {
    "duration": 6,
    "start_time": "2022-09-14T02:57:40.348Z"
   },
   {
    "duration": 99,
    "start_time": "2022-09-14T02:57:40.355Z"
   },
   {
    "duration": 98,
    "start_time": "2022-09-14T02:57:40.455Z"
   },
   {
    "duration": 10,
    "start_time": "2022-09-14T02:57:40.555Z"
   },
   {
    "duration": 140,
    "start_time": "2022-09-14T02:57:40.567Z"
   },
   {
    "duration": 0,
    "start_time": "2022-09-14T02:57:40.709Z"
   },
   {
    "duration": 0,
    "start_time": "2022-09-14T02:57:40.711Z"
   },
   {
    "duration": 0,
    "start_time": "2022-09-14T02:57:40.712Z"
   },
   {
    "duration": 0,
    "start_time": "2022-09-14T02:57:40.713Z"
   },
   {
    "duration": 0,
    "start_time": "2022-09-14T02:57:40.715Z"
   },
   {
    "duration": 50,
    "start_time": "2022-09-14T02:58:26.394Z"
   },
   {
    "duration": 95,
    "start_time": "2022-09-14T02:59:18.948Z"
   },
   {
    "duration": 97,
    "start_time": "2022-09-14T03:01:15.593Z"
   },
   {
    "duration": 56,
    "start_time": "2022-09-14T03:01:54.091Z"
   },
   {
    "duration": 53,
    "start_time": "2022-09-14T03:02:22.476Z"
   },
   {
    "duration": 60,
    "start_time": "2022-09-14T03:02:33.095Z"
   },
   {
    "duration": 77,
    "start_time": "2022-09-14T03:02:45.983Z"
   },
   {
    "duration": 2,
    "start_time": "2022-09-14T03:05:30.360Z"
   },
   {
    "duration": 4,
    "start_time": "2022-09-14T03:05:31.653Z"
   },
   {
    "duration": 9,
    "start_time": "2022-09-14T03:05:32.531Z"
   },
   {
    "duration": 4,
    "start_time": "2022-09-14T03:06:06.832Z"
   },
   {
    "duration": 12,
    "start_time": "2022-09-14T03:06:09.340Z"
   },
   {
    "duration": 306,
    "start_time": "2022-09-14T03:15:19.338Z"
   },
   {
    "duration": 57,
    "start_time": "2022-09-14T03:15:27.946Z"
   },
   {
    "duration": 56,
    "start_time": "2022-09-14T03:15:58.407Z"
   },
   {
    "duration": 1085,
    "start_time": "2022-09-16T02:52:06.025Z"
   },
   {
    "duration": 89,
    "start_time": "2022-09-16T02:52:07.112Z"
   },
   {
    "duration": 24,
    "start_time": "2022-09-16T02:52:07.202Z"
   },
   {
    "duration": 3,
    "start_time": "2022-09-16T02:52:07.228Z"
   },
   {
    "duration": 72,
    "start_time": "2022-09-16T02:52:07.233Z"
   },
   {
    "duration": 93,
    "start_time": "2022-09-16T02:52:07.307Z"
   },
   {
    "duration": 11,
    "start_time": "2022-09-16T02:52:07.402Z"
   },
   {
    "duration": 171,
    "start_time": "2022-09-16T02:52:07.415Z"
   },
   {
    "duration": 0,
    "start_time": "2022-09-16T02:52:07.588Z"
   },
   {
    "duration": 0,
    "start_time": "2022-09-16T02:52:07.600Z"
   },
   {
    "duration": 0,
    "start_time": "2022-09-16T02:52:07.601Z"
   },
   {
    "duration": 0,
    "start_time": "2022-09-16T02:52:07.602Z"
   },
   {
    "duration": 0,
    "start_time": "2022-09-16T02:52:07.602Z"
   },
   {
    "duration": 3,
    "start_time": "2022-09-16T02:53:43.184Z"
   },
   {
    "duration": 2,
    "start_time": "2022-09-16T02:53:44.012Z"
   },
   {
    "duration": 3,
    "start_time": "2022-09-16T02:53:44.830Z"
   },
   {
    "duration": 7,
    "start_time": "2022-09-16T02:53:46.213Z"
   },
   {
    "duration": 5,
    "start_time": "2022-09-16T02:53:47.648Z"
   },
   {
    "duration": 9,
    "start_time": "2022-09-16T02:53:55.702Z"
   },
   {
    "duration": 5,
    "start_time": "2022-09-16T02:53:57.641Z"
   },
   {
    "duration": 9,
    "start_time": "2022-09-16T02:53:58.817Z"
   },
   {
    "duration": 1451,
    "start_time": "2022-09-16T02:58:25.348Z"
   },
   {
    "duration": 30,
    "start_time": "2022-09-16T02:58:26.802Z"
   },
   {
    "duration": 23,
    "start_time": "2022-09-16T02:58:26.834Z"
   },
   {
    "duration": 3,
    "start_time": "2022-09-16T02:58:26.859Z"
   },
   {
    "duration": 48,
    "start_time": "2022-09-16T02:58:26.865Z"
   },
   {
    "duration": 100,
    "start_time": "2022-09-16T02:58:27.000Z"
   },
   {
    "duration": 40,
    "start_time": "2022-09-16T02:58:27.102Z"
   },
   {
    "duration": 35,
    "start_time": "2022-09-16T02:58:27.143Z"
   },
   {
    "duration": 126,
    "start_time": "2022-09-16T02:58:27.180Z"
   },
   {
    "duration": 0,
    "start_time": "2022-09-16T02:58:27.308Z"
   },
   {
    "duration": 0,
    "start_time": "2022-09-16T02:58:27.309Z"
   },
   {
    "duration": 0,
    "start_time": "2022-09-16T02:58:27.310Z"
   },
   {
    "duration": 0,
    "start_time": "2022-09-16T02:58:27.311Z"
   },
   {
    "duration": 1188,
    "start_time": "2022-09-16T02:58:42.812Z"
   },
   {
    "duration": 30,
    "start_time": "2022-09-16T02:58:44.002Z"
   },
   {
    "duration": 23,
    "start_time": "2022-09-16T02:58:44.034Z"
   },
   {
    "duration": 4,
    "start_time": "2022-09-16T02:58:44.059Z"
   },
   {
    "duration": 34,
    "start_time": "2022-09-16T02:58:44.066Z"
   },
   {
    "duration": 7,
    "start_time": "2022-09-16T02:58:44.102Z"
   },
   {
    "duration": 11,
    "start_time": "2022-09-16T02:58:44.190Z"
   },
   {
    "duration": 99,
    "start_time": "2022-09-16T02:58:44.203Z"
   },
   {
    "duration": 8,
    "start_time": "2022-09-16T02:58:44.304Z"
   },
   {
    "duration": 5,
    "start_time": "2022-09-16T02:58:44.313Z"
   },
   {
    "duration": 12,
    "start_time": "2022-09-16T02:58:44.319Z"
   },
   {
    "duration": 4,
    "start_time": "2022-09-16T02:58:44.333Z"
   },
   {
    "duration": 8,
    "start_time": "2022-09-16T02:58:44.339Z"
   },
   {
    "duration": 1098,
    "start_time": "2022-09-16T02:59:29.201Z"
   },
   {
    "duration": 30,
    "start_time": "2022-09-16T02:59:30.302Z"
   },
   {
    "duration": 27,
    "start_time": "2022-09-16T02:59:30.334Z"
   },
   {
    "duration": 5,
    "start_time": "2022-09-16T02:59:30.365Z"
   },
   {
    "duration": 123,
    "start_time": "2022-09-16T02:59:30.372Z"
   },
   {
    "duration": 108,
    "start_time": "2022-09-16T02:59:30.503Z"
   },
   {
    "duration": 31,
    "start_time": "2022-09-16T02:59:30.612Z"
   },
   {
    "duration": 18,
    "start_time": "2022-09-16T02:59:30.644Z"
   },
   {
    "duration": 21,
    "start_time": "2022-09-16T02:59:30.663Z"
   },
   {
    "duration": 34,
    "start_time": "2022-09-16T02:59:30.686Z"
   },
   {
    "duration": 43,
    "start_time": "2022-09-16T02:59:30.722Z"
   },
   {
    "duration": 40,
    "start_time": "2022-09-16T02:59:30.766Z"
   },
   {
    "duration": 43,
    "start_time": "2022-09-16T02:59:30.807Z"
   },
   {
    "duration": 1617,
    "start_time": "2022-09-16T03:01:53.662Z"
   },
   {
    "duration": 36,
    "start_time": "2022-09-16T03:01:55.281Z"
   },
   {
    "duration": 24,
    "start_time": "2022-09-16T03:01:55.319Z"
   },
   {
    "duration": 5,
    "start_time": "2022-09-16T03:01:55.346Z"
   },
   {
    "duration": 51,
    "start_time": "2022-09-16T03:01:55.352Z"
   },
   {
    "duration": 206,
    "start_time": "2022-09-16T03:01:55.405Z"
   },
   {
    "duration": 9,
    "start_time": "2022-09-16T03:01:55.612Z"
   },
   {
    "duration": 20,
    "start_time": "2022-09-16T03:01:55.622Z"
   },
   {
    "duration": 18,
    "start_time": "2022-09-16T03:01:55.644Z"
   },
   {
    "duration": 15,
    "start_time": "2022-09-16T03:01:55.664Z"
   },
   {
    "duration": 11,
    "start_time": "2022-09-16T03:01:55.681Z"
   },
   {
    "duration": 15,
    "start_time": "2022-09-16T03:01:55.701Z"
   },
   {
    "duration": 6,
    "start_time": "2022-09-16T03:02:34.235Z"
   },
   {
    "duration": 3,
    "start_time": "2022-09-16T03:02:34.861Z"
   },
   {
    "duration": 11,
    "start_time": "2022-09-16T03:02:35.344Z"
   },
   {
    "duration": 4,
    "start_time": "2022-09-16T03:02:36.101Z"
   },
   {
    "duration": 24,
    "start_time": "2022-09-16T03:02:37.182Z"
   },
   {
    "duration": 6,
    "start_time": "2022-09-16T03:02:37.899Z"
   },
   {
    "duration": 20,
    "start_time": "2022-09-16T03:02:38.480Z"
   },
   {
    "duration": 5,
    "start_time": "2022-09-16T03:03:23.559Z"
   },
   {
    "duration": 2,
    "start_time": "2022-09-16T03:03:24.082Z"
   },
   {
    "duration": 9,
    "start_time": "2022-09-16T03:03:24.518Z"
   },
   {
    "duration": 9,
    "start_time": "2022-09-16T03:03:25.586Z"
   },
   {
    "duration": 8,
    "start_time": "2022-09-16T03:03:26.216Z"
   },
   {
    "duration": 5,
    "start_time": "2022-09-16T03:03:27.240Z"
   },
   {
    "duration": 9,
    "start_time": "2022-09-16T03:03:27.828Z"
   },
   {
    "duration": 5,
    "start_time": "2022-09-16T03:03:41.059Z"
   },
   {
    "duration": 11,
    "start_time": "2022-09-16T03:03:41.541Z"
   },
   {
    "duration": 1267,
    "start_time": "2022-09-16T04:27:50.497Z"
   },
   {
    "duration": 92,
    "start_time": "2022-09-16T04:27:51.767Z"
   },
   {
    "duration": 34,
    "start_time": "2022-09-16T04:27:51.861Z"
   },
   {
    "duration": 5,
    "start_time": "2022-09-16T04:27:51.897Z"
   },
   {
    "duration": 88,
    "start_time": "2022-09-16T04:27:51.904Z"
   },
   {
    "duration": 105,
    "start_time": "2022-09-16T04:27:51.994Z"
   },
   {
    "duration": 10,
    "start_time": "2022-09-16T04:27:52.100Z"
   },
   {
    "duration": 3,
    "start_time": "2022-09-16T04:27:52.112Z"
   },
   {
    "duration": 12,
    "start_time": "2022-09-16T04:27:52.117Z"
   },
   {
    "duration": 5,
    "start_time": "2022-09-16T04:27:52.131Z"
   },
   {
    "duration": 11,
    "start_time": "2022-09-16T04:27:52.137Z"
   },
   {
    "duration": 1598,
    "start_time": "2022-09-16T11:36:37.161Z"
   },
   {
    "duration": 88,
    "start_time": "2022-09-16T11:36:38.762Z"
   },
   {
    "duration": 23,
    "start_time": "2022-09-16T11:36:38.851Z"
   },
   {
    "duration": 4,
    "start_time": "2022-09-16T11:36:38.876Z"
   },
   {
    "duration": 106,
    "start_time": "2022-09-16T11:36:38.882Z"
   },
   {
    "duration": 90,
    "start_time": "2022-09-16T11:36:38.990Z"
   },
   {
    "duration": 17,
    "start_time": "2022-09-16T11:36:39.082Z"
   },
   {
    "duration": 5,
    "start_time": "2022-09-16T11:36:39.101Z"
   },
   {
    "duration": 13,
    "start_time": "2022-09-16T11:36:39.108Z"
   },
   {
    "duration": 4,
    "start_time": "2022-09-16T11:36:39.124Z"
   },
   {
    "duration": 9,
    "start_time": "2022-09-16T11:36:39.130Z"
   },
   {
    "duration": 1254,
    "start_time": "2022-09-16T11:40:48.006Z"
   },
   {
    "duration": 29,
    "start_time": "2022-09-16T11:40:49.262Z"
   },
   {
    "duration": 24,
    "start_time": "2022-09-16T11:40:49.293Z"
   },
   {
    "duration": 4,
    "start_time": "2022-09-16T11:40:49.319Z"
   },
   {
    "duration": 61,
    "start_time": "2022-09-16T11:40:49.325Z"
   },
   {
    "duration": 5,
    "start_time": "2022-09-16T11:40:49.478Z"
   },
   {
    "duration": 11,
    "start_time": "2022-09-16T11:40:49.484Z"
   },
   {
    "duration": 4,
    "start_time": "2022-09-16T11:40:49.496Z"
   },
   {
    "duration": 15,
    "start_time": "2022-09-16T11:40:49.501Z"
   },
   {
    "duration": 7,
    "start_time": "2022-09-16T11:40:49.518Z"
   },
   {
    "duration": 14,
    "start_time": "2022-09-16T11:40:49.527Z"
   },
   {
    "duration": 7,
    "start_time": "2022-09-16T11:40:49.543Z"
   },
   {
    "duration": 49,
    "start_time": "2022-09-17T14:02:50.621Z"
   },
   {
    "duration": 1265,
    "start_time": "2022-09-17T14:02:58.570Z"
   },
   {
    "duration": 117,
    "start_time": "2022-09-17T14:02:59.837Z"
   },
   {
    "duration": 26,
    "start_time": "2022-09-17T14:02:59.956Z"
   },
   {
    "duration": 42,
    "start_time": "2022-09-17T14:02:59.984Z"
   },
   {
    "duration": 11,
    "start_time": "2022-09-17T14:03:00.028Z"
   },
   {
    "duration": 162,
    "start_time": "2022-09-17T14:03:00.041Z"
   },
   {
    "duration": 7,
    "start_time": "2022-09-17T14:03:00.205Z"
   },
   {
    "duration": 33,
    "start_time": "2022-09-17T14:03:00.213Z"
   },
   {
    "duration": 6,
    "start_time": "2022-09-17T14:03:00.247Z"
   },
   {
    "duration": 15,
    "start_time": "2022-09-17T14:03:00.255Z"
   },
   {
    "duration": 6,
    "start_time": "2022-09-17T14:03:00.272Z"
   },
   {
    "duration": 33,
    "start_time": "2022-09-17T14:03:00.280Z"
   },
   {
    "duration": 23,
    "start_time": "2022-09-17T14:03:00.315Z"
   },
   {
    "duration": 1533,
    "start_time": "2022-09-17T14:06:26.021Z"
   },
   {
    "duration": 29,
    "start_time": "2022-09-17T14:06:27.557Z"
   },
   {
    "duration": 33,
    "start_time": "2022-09-17T14:06:27.588Z"
   },
   {
    "duration": 47,
    "start_time": "2022-09-17T14:06:27.624Z"
   },
   {
    "duration": 5,
    "start_time": "2022-09-17T14:06:27.674Z"
   },
   {
    "duration": 133,
    "start_time": "2022-09-17T14:06:27.681Z"
   },
   {
    "duration": 122,
    "start_time": "2022-09-17T14:06:27.818Z"
   },
   {
    "duration": 11,
    "start_time": "2022-09-17T14:06:27.942Z"
   },
   {
    "duration": 5,
    "start_time": "2022-09-17T14:06:27.955Z"
   },
   {
    "duration": 12,
    "start_time": "2022-09-17T14:06:27.962Z"
   },
   {
    "duration": 148,
    "start_time": "2022-09-17T14:06:27.976Z"
   },
   {
    "duration": 0,
    "start_time": "2022-09-17T14:06:28.126Z"
   },
   {
    "duration": 0,
    "start_time": "2022-09-17T14:06:28.128Z"
   },
   {
    "duration": 15,
    "start_time": "2022-09-17T14:06:40.858Z"
   },
   {
    "duration": 15,
    "start_time": "2022-09-17T14:07:34.286Z"
   },
   {
    "duration": 4,
    "start_time": "2022-09-17T14:08:08.537Z"
   },
   {
    "duration": 1517,
    "start_time": "2022-09-17T14:08:54.902Z"
   },
   {
    "duration": 29,
    "start_time": "2022-09-17T14:08:56.422Z"
   },
   {
    "duration": 29,
    "start_time": "2022-09-17T14:08:56.453Z"
   },
   {
    "duration": 28,
    "start_time": "2022-09-17T14:08:56.486Z"
   },
   {
    "duration": 5,
    "start_time": "2022-09-17T14:08:56.516Z"
   },
   {
    "duration": 182,
    "start_time": "2022-09-17T14:08:56.523Z"
   },
   {
    "duration": 10,
    "start_time": "2022-09-17T14:08:56.707Z"
   },
   {
    "duration": 18,
    "start_time": "2022-09-17T14:08:56.798Z"
   },
   {
    "duration": 26,
    "start_time": "2022-09-17T14:08:56.819Z"
   },
   {
    "duration": 159,
    "start_time": "2022-09-17T14:08:56.849Z"
   },
   {
    "duration": 0,
    "start_time": "2022-09-17T14:08:57.011Z"
   },
   {
    "duration": 0,
    "start_time": "2022-09-17T14:08:57.012Z"
   },
   {
    "duration": 0,
    "start_time": "2022-09-17T14:08:57.014Z"
   },
   {
    "duration": 0,
    "start_time": "2022-09-17T14:08:57.015Z"
   },
   {
    "duration": 15,
    "start_time": "2022-09-17T14:09:08.257Z"
   },
   {
    "duration": 5,
    "start_time": "2022-09-17T14:09:09.375Z"
   },
   {
    "duration": 16,
    "start_time": "2022-09-17T14:09:10.714Z"
   },
   {
    "duration": 10,
    "start_time": "2022-09-17T14:09:11.257Z"
   },
   {
    "duration": 5,
    "start_time": "2022-09-17T14:09:24.178Z"
   },
   {
    "duration": 10,
    "start_time": "2022-09-17T14:09:25.350Z"
   },
   {
    "duration": 4,
    "start_time": "2022-09-17T14:09:27.914Z"
   },
   {
    "duration": 17,
    "start_time": "2022-09-17T14:09:29.276Z"
   },
   {
    "duration": 19,
    "start_time": "2022-09-17T14:09:36.731Z"
   },
   {
    "duration": 18,
    "start_time": "2022-09-17T14:10:16.919Z"
   },
   {
    "duration": 4,
    "start_time": "2022-09-17T14:10:31.152Z"
   },
   {
    "duration": 12,
    "start_time": "2022-09-17T14:10:32.269Z"
   },
   {
    "duration": 18,
    "start_time": "2022-09-17T14:10:35.527Z"
   },
   {
    "duration": 15,
    "start_time": "2022-09-17T14:10:36.352Z"
   },
   {
    "duration": 1203,
    "start_time": "2022-09-17T14:10:45.081Z"
   },
   {
    "duration": 47,
    "start_time": "2022-09-17T14:10:46.286Z"
   },
   {
    "duration": 26,
    "start_time": "2022-09-17T14:10:46.335Z"
   },
   {
    "duration": 25,
    "start_time": "2022-09-17T14:10:46.363Z"
   },
   {
    "duration": 5,
    "start_time": "2022-09-17T14:10:46.389Z"
   },
   {
    "duration": 113,
    "start_time": "2022-09-17T14:10:46.396Z"
   },
   {
    "duration": 86,
    "start_time": "2022-09-17T14:10:46.513Z"
   },
   {
    "duration": 48,
    "start_time": "2022-09-17T14:10:46.600Z"
   },
   {
    "duration": 13,
    "start_time": "2022-09-17T14:10:46.650Z"
   },
   {
    "duration": 44,
    "start_time": "2022-09-17T14:10:46.666Z"
   },
   {
    "duration": 167,
    "start_time": "2022-09-17T14:10:46.717Z"
   },
   {
    "duration": 0,
    "start_time": "2022-09-17T14:10:46.886Z"
   },
   {
    "duration": 1,
    "start_time": "2022-09-17T14:10:46.888Z"
   },
   {
    "duration": 0,
    "start_time": "2022-09-17T14:10:46.890Z"
   },
   {
    "duration": 16,
    "start_time": "2022-09-17T14:11:08.384Z"
   },
   {
    "duration": 5,
    "start_time": "2022-09-17T14:11:41.730Z"
   },
   {
    "duration": 16,
    "start_time": "2022-09-17T14:11:44.413Z"
   },
   {
    "duration": 17,
    "start_time": "2022-09-17T14:11:46.365Z"
   },
   {
    "duration": 16,
    "start_time": "2022-09-17T14:11:46.890Z"
   },
   {
    "duration": 4,
    "start_time": "2022-09-17T14:12:54.664Z"
   },
   {
    "duration": 19,
    "start_time": "2022-09-17T14:12:55.689Z"
   },
   {
    "duration": 3,
    "start_time": "2022-09-17T14:13:03.253Z"
   },
   {
    "duration": 5,
    "start_time": "2022-09-17T14:13:04.312Z"
   },
   {
    "duration": 15,
    "start_time": "2022-09-17T14:13:05.252Z"
   },
   {
    "duration": 5,
    "start_time": "2022-09-17T14:13:38.712Z"
   },
   {
    "duration": 14,
    "start_time": "2022-09-17T14:13:41.868Z"
   },
   {
    "duration": 1256,
    "start_time": "2022-09-17T14:13:50.265Z"
   },
   {
    "duration": 32,
    "start_time": "2022-09-17T14:13:51.524Z"
   },
   {
    "duration": 31,
    "start_time": "2022-09-17T14:13:51.558Z"
   },
   {
    "duration": 42,
    "start_time": "2022-09-17T14:13:51.593Z"
   },
   {
    "duration": 5,
    "start_time": "2022-09-17T14:13:51.636Z"
   },
   {
    "duration": 170,
    "start_time": "2022-09-17T14:13:51.643Z"
   },
   {
    "duration": 23,
    "start_time": "2022-09-17T14:13:51.814Z"
   },
   {
    "duration": 30,
    "start_time": "2022-09-17T14:13:51.897Z"
   },
   {
    "duration": 6,
    "start_time": "2022-09-17T14:13:51.929Z"
   },
   {
    "duration": 11,
    "start_time": "2022-09-17T14:13:51.937Z"
   },
   {
    "duration": 19,
    "start_time": "2022-09-17T14:13:51.950Z"
   },
   {
    "duration": 10,
    "start_time": "2022-09-17T14:13:51.971Z"
   },
   {
    "duration": 36,
    "start_time": "2022-09-17T14:13:51.983Z"
   },
   {
    "duration": 17,
    "start_time": "2022-09-17T14:13:52.022Z"
   },
   {
    "duration": 5,
    "start_time": "2022-09-17T14:14:10.214Z"
   },
   {
    "duration": 130,
    "start_time": "2022-09-17T14:14:11.339Z"
   },
   {
    "duration": 24,
    "start_time": "2022-09-17T14:14:12.886Z"
   },
   {
    "duration": 12,
    "start_time": "2022-09-17T14:14:25.968Z"
   },
   {
    "duration": 18,
    "start_time": "2022-09-17T14:14:27.105Z"
   },
   {
    "duration": 13,
    "start_time": "2022-09-17T14:15:08.463Z"
   },
   {
    "duration": 1175,
    "start_time": "2022-09-17T14:15:19.783Z"
   },
   {
    "duration": 29,
    "start_time": "2022-09-17T14:15:20.960Z"
   },
   {
    "duration": 32,
    "start_time": "2022-09-17T14:15:20.991Z"
   },
   {
    "duration": 26,
    "start_time": "2022-09-17T14:15:21.025Z"
   },
   {
    "duration": 5,
    "start_time": "2022-09-17T14:15:21.054Z"
   },
   {
    "duration": 148,
    "start_time": "2022-09-17T14:15:21.061Z"
   },
   {
    "duration": 102,
    "start_time": "2022-09-17T14:15:21.214Z"
   },
   {
    "duration": 17,
    "start_time": "2022-09-17T14:15:21.318Z"
   },
   {
    "duration": 5,
    "start_time": "2022-09-17T14:15:21.337Z"
   },
   {
    "duration": 8,
    "start_time": "2022-09-17T14:15:21.344Z"
   },
   {
    "duration": 21,
    "start_time": "2022-09-17T14:15:21.353Z"
   },
   {
    "duration": 21,
    "start_time": "2022-09-17T14:15:21.376Z"
   },
   {
    "duration": 128,
    "start_time": "2022-09-17T14:15:21.399Z"
   },
   {
    "duration": 0,
    "start_time": "2022-09-17T14:15:21.529Z"
   },
   {
    "duration": 0,
    "start_time": "2022-09-17T14:15:21.531Z"
   },
   {
    "duration": 35,
    "start_time": "2022-09-17T14:15:45.013Z"
   },
   {
    "duration": 7,
    "start_time": "2022-09-17T14:16:22.565Z"
   },
   {
    "duration": 7,
    "start_time": "2022-09-17T14:16:31.758Z"
   },
   {
    "duration": 14,
    "start_time": "2022-09-17T14:16:45.624Z"
   },
   {
    "duration": 8,
    "start_time": "2022-09-17T14:16:53.133Z"
   },
   {
    "duration": 7,
    "start_time": "2022-09-17T14:17:02.370Z"
   },
   {
    "duration": 10,
    "start_time": "2022-09-17T14:22:02.753Z"
   },
   {
    "duration": 12,
    "start_time": "2022-09-17T14:22:15.679Z"
   },
   {
    "duration": 543,
    "start_time": "2022-09-17T14:28:49.587Z"
   },
   {
    "duration": 177,
    "start_time": "2022-09-17T14:28:57.941Z"
   },
   {
    "duration": 159,
    "start_time": "2022-09-17T14:29:08.073Z"
   },
   {
    "duration": 4,
    "start_time": "2022-09-17T14:29:26.512Z"
   },
   {
    "duration": 1513,
    "start_time": "2022-09-17T14:37:32.195Z"
   },
   {
    "duration": 29,
    "start_time": "2022-09-17T14:37:33.713Z"
   },
   {
    "duration": 29,
    "start_time": "2022-09-17T14:37:33.743Z"
   },
   {
    "duration": 36,
    "start_time": "2022-09-17T14:37:33.774Z"
   },
   {
    "duration": 7,
    "start_time": "2022-09-17T14:37:33.813Z"
   },
   {
    "duration": 4,
    "start_time": "2022-09-17T14:37:33.821Z"
   },
   {
    "duration": 75,
    "start_time": "2022-09-17T14:37:33.826Z"
   },
   {
    "duration": 122,
    "start_time": "2022-09-17T14:37:33.903Z"
   },
   {
    "duration": 13,
    "start_time": "2022-09-17T14:37:34.029Z"
   },
   {
    "duration": 5,
    "start_time": "2022-09-17T14:37:34.043Z"
   },
   {
    "duration": 9,
    "start_time": "2022-09-17T14:37:34.049Z"
   },
   {
    "duration": 18,
    "start_time": "2022-09-17T14:37:34.060Z"
   },
   {
    "duration": 30,
    "start_time": "2022-09-17T14:37:34.080Z"
   },
   {
    "duration": 118,
    "start_time": "2022-09-17T14:37:34.113Z"
   },
   {
    "duration": 0,
    "start_time": "2022-09-17T14:37:34.233Z"
   },
   {
    "duration": 0,
    "start_time": "2022-09-17T14:37:34.234Z"
   },
   {
    "duration": 12,
    "start_time": "2022-09-17T14:37:46.549Z"
   },
   {
    "duration": 15,
    "start_time": "2022-09-17T14:37:47.291Z"
   },
   {
    "duration": 1370,
    "start_time": "2022-09-17T14:38:04.921Z"
   },
   {
    "duration": 35,
    "start_time": "2022-09-17T14:38:06.293Z"
   },
   {
    "duration": 28,
    "start_time": "2022-09-17T14:38:06.330Z"
   },
   {
    "duration": 26,
    "start_time": "2022-09-17T14:38:06.360Z"
   },
   {
    "duration": 11,
    "start_time": "2022-09-17T14:38:06.388Z"
   },
   {
    "duration": 7,
    "start_time": "2022-09-17T14:38:06.409Z"
   },
   {
    "duration": 92,
    "start_time": "2022-09-17T14:38:06.418Z"
   },
   {
    "duration": 14,
    "start_time": "2022-09-17T14:38:06.511Z"
   },
   {
    "duration": 30,
    "start_time": "2022-09-17T14:38:06.599Z"
   },
   {
    "duration": 4,
    "start_time": "2022-09-17T14:38:06.633Z"
   },
   {
    "duration": 12,
    "start_time": "2022-09-17T14:38:06.639Z"
   },
   {
    "duration": 24,
    "start_time": "2022-09-17T14:38:06.653Z"
   },
   {
    "duration": 10,
    "start_time": "2022-09-17T14:38:06.679Z"
   },
   {
    "duration": 26,
    "start_time": "2022-09-17T14:38:06.690Z"
   },
   {
    "duration": 27,
    "start_time": "2022-09-17T14:38:06.719Z"
   },
   {
    "duration": 22,
    "start_time": "2022-09-17T14:38:06.748Z"
   },
   {
    "duration": 28,
    "start_time": "2022-09-17T14:38:29.461Z"
   },
   {
    "duration": 2,
    "start_time": "2022-09-17T14:38:33.985Z"
   },
   {
    "duration": 5,
    "start_time": "2022-09-17T14:38:34.366Z"
   },
   {
    "duration": 15,
    "start_time": "2022-09-17T14:38:35.336Z"
   },
   {
    "duration": 9,
    "start_time": "2022-09-17T14:38:39.138Z"
   },
   {
    "duration": 11,
    "start_time": "2022-09-17T14:39:18.923Z"
   },
   {
    "duration": 100,
    "start_time": "2022-09-17T14:39:25.189Z"
   },
   {
    "duration": 20,
    "start_time": "2022-09-17T14:39:40.225Z"
   },
   {
    "duration": 1328,
    "start_time": "2022-09-17T14:39:57.885Z"
   },
   {
    "duration": 28,
    "start_time": "2022-09-17T14:39:59.216Z"
   },
   {
    "duration": 28,
    "start_time": "2022-09-17T14:39:59.247Z"
   },
   {
    "duration": 39,
    "start_time": "2022-09-17T14:39:59.277Z"
   },
   {
    "duration": 8,
    "start_time": "2022-09-17T14:39:59.319Z"
   },
   {
    "duration": 6,
    "start_time": "2022-09-17T14:39:59.329Z"
   },
   {
    "duration": 163,
    "start_time": "2022-09-17T14:39:59.337Z"
   },
   {
    "duration": 92,
    "start_time": "2022-09-17T14:39:59.503Z"
   },
   {
    "duration": 13,
    "start_time": "2022-09-17T14:39:59.598Z"
   },
   {
    "duration": 5,
    "start_time": "2022-09-17T14:39:59.613Z"
   },
   {
    "duration": 10,
    "start_time": "2022-09-17T14:39:59.620Z"
   },
   {
    "duration": 124,
    "start_time": "2022-09-17T14:39:59.632Z"
   },
   {
    "duration": 0,
    "start_time": "2022-09-17T14:39:59.758Z"
   },
   {
    "duration": 0,
    "start_time": "2022-09-17T14:39:59.760Z"
   },
   {
    "duration": 0,
    "start_time": "2022-09-17T14:39:59.762Z"
   },
   {
    "duration": 13,
    "start_time": "2022-09-17T14:40:56.268Z"
   },
   {
    "duration": 13,
    "start_time": "2022-09-17T14:41:03.413Z"
   },
   {
    "duration": 13,
    "start_time": "2022-09-17T14:41:32.430Z"
   },
   {
    "duration": 1395,
    "start_time": "2022-09-17T14:41:42.321Z"
   },
   {
    "duration": 30,
    "start_time": "2022-09-17T14:41:43.718Z"
   },
   {
    "duration": 27,
    "start_time": "2022-09-17T14:41:43.750Z"
   },
   {
    "duration": 30,
    "start_time": "2022-09-17T14:41:43.778Z"
   },
   {
    "duration": 6,
    "start_time": "2022-09-17T14:41:43.810Z"
   },
   {
    "duration": 7,
    "start_time": "2022-09-17T14:41:43.818Z"
   },
   {
    "duration": 171,
    "start_time": "2022-09-17T14:41:43.826Z"
   },
   {
    "duration": 6,
    "start_time": "2022-09-17T14:41:43.999Z"
   },
   {
    "duration": 88,
    "start_time": "2022-09-17T14:41:44.007Z"
   },
   {
    "duration": 5,
    "start_time": "2022-09-17T14:41:44.097Z"
   },
   {
    "duration": 5,
    "start_time": "2022-09-17T14:41:44.104Z"
   },
   {
    "duration": 15,
    "start_time": "2022-09-17T14:41:44.110Z"
   },
   {
    "duration": 5,
    "start_time": "2022-09-17T14:41:44.126Z"
   },
   {
    "duration": 16,
    "start_time": "2022-09-17T14:41:44.133Z"
   },
   {
    "duration": 45,
    "start_time": "2022-09-17T14:41:44.150Z"
   },
   {
    "duration": 139,
    "start_time": "2022-09-17T15:04:38.274Z"
   },
   {
    "duration": 202,
    "start_time": "2022-09-17T15:04:47.548Z"
   },
   {
    "duration": 36,
    "start_time": "2022-09-17T15:10:15.083Z"
   },
   {
    "duration": 16,
    "start_time": "2022-09-17T15:10:20.414Z"
   },
   {
    "duration": 85,
    "start_time": "2022-09-17T15:10:27.112Z"
   },
   {
    "duration": 1322,
    "start_time": "2022-09-17T15:10:44.640Z"
   },
   {
    "duration": 29,
    "start_time": "2022-09-17T15:10:45.964Z"
   },
   {
    "duration": 33,
    "start_time": "2022-09-17T15:10:45.995Z"
   },
   {
    "duration": 28,
    "start_time": "2022-09-17T15:10:46.030Z"
   },
   {
    "duration": 6,
    "start_time": "2022-09-17T15:10:46.060Z"
   },
   {
    "duration": 34,
    "start_time": "2022-09-17T15:10:46.067Z"
   },
   {
    "duration": 115,
    "start_time": "2022-09-17T15:10:46.102Z"
   },
   {
    "duration": 14,
    "start_time": "2022-09-17T15:10:46.298Z"
   },
   {
    "duration": 14,
    "start_time": "2022-09-17T15:10:46.314Z"
   },
   {
    "duration": 6,
    "start_time": "2022-09-17T15:10:46.330Z"
   },
   {
    "duration": 16,
    "start_time": "2022-09-17T15:10:46.338Z"
   },
   {
    "duration": 5,
    "start_time": "2022-09-17T15:10:46.355Z"
   },
   {
    "duration": 48,
    "start_time": "2022-09-17T15:10:46.361Z"
   },
   {
    "duration": 12,
    "start_time": "2022-09-17T15:10:46.411Z"
   },
   {
    "duration": 1187,
    "start_time": "2022-09-17T15:11:08.052Z"
   },
   {
    "duration": 32,
    "start_time": "2022-09-17T15:11:09.242Z"
   },
   {
    "duration": 47,
    "start_time": "2022-09-17T15:11:09.277Z"
   },
   {
    "duration": 29,
    "start_time": "2022-09-17T15:11:09.328Z"
   },
   {
    "duration": 3,
    "start_time": "2022-09-17T15:11:09.360Z"
   },
   {
    "duration": 129,
    "start_time": "2022-09-17T15:11:09.365Z"
   },
   {
    "duration": 38,
    "start_time": "2022-09-17T15:11:09.496Z"
   },
   {
    "duration": 17,
    "start_time": "2022-09-17T15:11:09.594Z"
   },
   {
    "duration": 5,
    "start_time": "2022-09-17T15:11:09.613Z"
   },
   {
    "duration": 13,
    "start_time": "2022-09-17T15:11:09.621Z"
   },
   {
    "duration": 5,
    "start_time": "2022-09-17T15:11:09.636Z"
   },
   {
    "duration": 16,
    "start_time": "2022-09-17T15:11:09.642Z"
   },
   {
    "duration": 40,
    "start_time": "2022-09-17T15:11:09.660Z"
   },
   {
    "duration": 1160,
    "start_time": "2022-09-18T04:38:14.113Z"
   },
   {
    "duration": 107,
    "start_time": "2022-09-18T04:38:15.278Z"
   },
   {
    "duration": 22,
    "start_time": "2022-09-18T04:38:15.387Z"
   },
   {
    "duration": 21,
    "start_time": "2022-09-18T04:38:15.411Z"
   },
   {
    "duration": 3,
    "start_time": "2022-09-18T04:38:15.434Z"
   },
   {
    "duration": 114,
    "start_time": "2022-09-18T04:38:15.439Z"
   },
   {
    "duration": 6,
    "start_time": "2022-09-18T04:38:15.560Z"
   },
   {
    "duration": 113,
    "start_time": "2022-09-18T04:38:15.567Z"
   },
   {
    "duration": 7,
    "start_time": "2022-09-18T04:38:15.682Z"
   },
   {
    "duration": 17,
    "start_time": "2022-09-18T04:38:15.690Z"
   },
   {
    "duration": 6,
    "start_time": "2022-09-18T04:38:15.709Z"
   },
   {
    "duration": 19,
    "start_time": "2022-09-18T04:38:15.717Z"
   },
   {
    "duration": 24,
    "start_time": "2022-09-18T04:38:15.738Z"
   },
   {
    "duration": 1169,
    "start_time": "2022-09-18T14:38:35.490Z"
   },
   {
    "duration": 86,
    "start_time": "2022-09-18T14:38:36.660Z"
   },
   {
    "duration": 22,
    "start_time": "2022-09-18T14:38:36.748Z"
   },
   {
    "duration": 21,
    "start_time": "2022-09-18T14:38:36.771Z"
   },
   {
    "duration": 4,
    "start_time": "2022-09-18T14:38:36.794Z"
   },
   {
    "duration": 96,
    "start_time": "2022-09-18T14:38:36.799Z"
   },
   {
    "duration": 95,
    "start_time": "2022-09-18T14:38:36.897Z"
   },
   {
    "duration": 14,
    "start_time": "2022-09-18T14:38:36.993Z"
   },
   {
    "duration": 5,
    "start_time": "2022-09-18T14:38:37.008Z"
   },
   {
    "duration": 12,
    "start_time": "2022-09-18T14:38:37.014Z"
   },
   {
    "duration": 4,
    "start_time": "2022-09-18T14:38:37.028Z"
   },
   {
    "duration": 17,
    "start_time": "2022-09-18T14:38:37.033Z"
   },
   {
    "duration": 8,
    "start_time": "2022-09-18T14:38:37.052Z"
   },
   {
    "duration": 1288,
    "start_time": "2022-09-20T03:07:51.834Z"
   },
   {
    "duration": 77,
    "start_time": "2022-09-20T03:07:53.124Z"
   },
   {
    "duration": 22,
    "start_time": "2022-09-20T03:07:53.203Z"
   },
   {
    "duration": 20,
    "start_time": "2022-09-20T03:07:53.226Z"
   },
   {
    "duration": 4,
    "start_time": "2022-09-20T03:07:53.248Z"
   },
   {
    "duration": 77,
    "start_time": "2022-09-20T03:07:53.254Z"
   },
   {
    "duration": 106,
    "start_time": "2022-09-20T03:07:53.413Z"
   },
   {
    "duration": 9,
    "start_time": "2022-09-20T03:07:53.520Z"
   },
   {
    "duration": 4,
    "start_time": "2022-09-20T03:07:53.530Z"
   },
   {
    "duration": 115,
    "start_time": "2022-09-20T03:07:53.535Z"
   },
   {
    "duration": 0,
    "start_time": "2022-09-20T03:07:53.652Z"
   },
   {
    "duration": 0,
    "start_time": "2022-09-20T03:07:53.652Z"
   },
   {
    "duration": 0,
    "start_time": "2022-09-20T03:07:53.653Z"
   },
   {
    "duration": 1065,
    "start_time": "2022-09-21T02:17:12.794Z"
   },
   {
    "duration": 80,
    "start_time": "2022-09-21T02:17:13.861Z"
   },
   {
    "duration": 27,
    "start_time": "2022-09-21T02:17:13.943Z"
   },
   {
    "duration": 26,
    "start_time": "2022-09-21T02:17:13.972Z"
   },
   {
    "duration": 4,
    "start_time": "2022-09-21T02:17:13.999Z"
   },
   {
    "duration": 57,
    "start_time": "2022-09-21T02:17:14.005Z"
   },
   {
    "duration": 96,
    "start_time": "2022-09-21T02:17:14.063Z"
   },
   {
    "duration": 99,
    "start_time": "2022-09-21T02:17:14.161Z"
   },
   {
    "duration": 50,
    "start_time": "2022-09-21T02:17:14.261Z"
   },
   {
    "duration": 0,
    "start_time": "2022-09-21T02:17:14.312Z"
   },
   {
    "duration": 0,
    "start_time": "2022-09-21T02:17:14.313Z"
   },
   {
    "duration": 0,
    "start_time": "2022-09-21T02:17:14.314Z"
   },
   {
    "duration": 0,
    "start_time": "2022-09-21T02:17:14.315Z"
   },
   {
    "duration": 4,
    "start_time": "2022-09-21T02:17:54.229Z"
   },
   {
    "duration": 104,
    "start_time": "2022-09-21T02:17:58.296Z"
   },
   {
    "duration": 4,
    "start_time": "2022-09-21T02:22:10.947Z"
   },
   {
    "duration": 13,
    "start_time": "2022-09-21T02:22:14.358Z"
   },
   {
    "duration": 1187,
    "start_time": "2022-09-21T02:25:31.029Z"
   },
   {
    "duration": 32,
    "start_time": "2022-09-21T02:25:32.218Z"
   },
   {
    "duration": 24,
    "start_time": "2022-09-21T02:25:32.251Z"
   },
   {
    "duration": 25,
    "start_time": "2022-09-21T02:25:32.277Z"
   },
   {
    "duration": 4,
    "start_time": "2022-09-21T02:25:32.303Z"
   },
   {
    "duration": 55,
    "start_time": "2022-09-21T02:25:32.308Z"
   },
   {
    "duration": 91,
    "start_time": "2022-09-21T02:25:32.365Z"
   },
   {
    "duration": 104,
    "start_time": "2022-09-21T02:25:32.458Z"
   },
   {
    "duration": 6,
    "start_time": "2022-09-21T02:25:32.564Z"
   },
   {
    "duration": 117,
    "start_time": "2022-09-21T02:25:32.572Z"
   },
   {
    "duration": 0,
    "start_time": "2022-09-21T02:25:32.691Z"
   },
   {
    "duration": 0,
    "start_time": "2022-09-21T02:25:32.692Z"
   },
   {
    "duration": 0,
    "start_time": "2022-09-21T02:25:32.693Z"
   },
   {
    "duration": 4,
    "start_time": "2022-09-21T02:26:28.233Z"
   },
   {
    "duration": 12,
    "start_time": "2022-09-21T02:26:29.993Z"
   },
   {
    "duration": 5,
    "start_time": "2022-09-21T02:26:30.044Z"
   },
   {
    "duration": 1123,
    "start_time": "2022-09-21T02:26:59.124Z"
   },
   {
    "duration": 31,
    "start_time": "2022-09-21T02:27:00.248Z"
   },
   {
    "duration": 26,
    "start_time": "2022-09-21T02:27:00.281Z"
   },
   {
    "duration": 40,
    "start_time": "2022-09-21T02:27:00.309Z"
   },
   {
    "duration": 17,
    "start_time": "2022-09-21T02:27:00.350Z"
   },
   {
    "duration": 87,
    "start_time": "2022-09-21T02:27:00.369Z"
   },
   {
    "duration": 115,
    "start_time": "2022-09-21T02:27:00.457Z"
   },
   {
    "duration": 41,
    "start_time": "2022-09-21T02:27:00.574Z"
   },
   {
    "duration": 49,
    "start_time": "2022-09-21T02:27:00.617Z"
   },
   {
    "duration": 125,
    "start_time": "2022-09-21T02:27:00.669Z"
   },
   {
    "duration": 0,
    "start_time": "2022-09-21T02:27:00.796Z"
   },
   {
    "duration": 0,
    "start_time": "2022-09-21T02:27:00.798Z"
   },
   {
    "duration": 0,
    "start_time": "2022-09-21T02:27:00.799Z"
   },
   {
    "duration": 1088,
    "start_time": "2022-09-21T02:27:35.367Z"
   },
   {
    "duration": 32,
    "start_time": "2022-09-21T02:27:36.457Z"
   },
   {
    "duration": 26,
    "start_time": "2022-09-21T02:27:36.491Z"
   },
   {
    "duration": 24,
    "start_time": "2022-09-21T02:27:36.519Z"
   },
   {
    "duration": 3,
    "start_time": "2022-09-21T02:27:36.545Z"
   },
   {
    "duration": 117,
    "start_time": "2022-09-21T02:27:36.554Z"
   },
   {
    "duration": 5,
    "start_time": "2022-09-21T02:27:36.755Z"
   },
   {
    "duration": 13,
    "start_time": "2022-09-21T02:27:36.761Z"
   },
   {
    "duration": 12,
    "start_time": "2022-09-21T02:27:36.776Z"
   },
   {
    "duration": 14,
    "start_time": "2022-09-21T02:27:36.791Z"
   },
   {
    "duration": 5,
    "start_time": "2022-09-21T02:27:36.806Z"
   },
   {
    "duration": 42,
    "start_time": "2022-09-21T02:27:36.812Z"
   },
   {
    "duration": 9,
    "start_time": "2022-09-21T02:27:36.856Z"
   },
   {
    "duration": 1208,
    "start_time": "2022-09-21T02:39:11.152Z"
   },
   {
    "duration": 31,
    "start_time": "2022-09-21T02:39:12.362Z"
   },
   {
    "duration": 26,
    "start_time": "2022-09-21T02:39:12.394Z"
   },
   {
    "duration": 24,
    "start_time": "2022-09-21T02:39:12.422Z"
   },
   {
    "duration": 4,
    "start_time": "2022-09-21T02:39:12.447Z"
   },
   {
    "duration": 102,
    "start_time": "2022-09-21T02:39:12.453Z"
   },
   {
    "duration": 98,
    "start_time": "2022-09-21T02:39:12.556Z"
   },
   {
    "duration": 16,
    "start_time": "2022-09-21T02:39:12.656Z"
   },
   {
    "duration": 7,
    "start_time": "2022-09-21T02:39:12.674Z"
   },
   {
    "duration": 19,
    "start_time": "2022-09-21T02:39:12.684Z"
   },
   {
    "duration": 7,
    "start_time": "2022-09-21T02:39:12.705Z"
   },
   {
    "duration": 44,
    "start_time": "2022-09-21T02:39:12.714Z"
   },
   {
    "duration": 12,
    "start_time": "2022-09-21T02:39:12.761Z"
   },
   {
    "duration": 1136,
    "start_time": "2022-09-21T02:45:23.534Z"
   },
   {
    "duration": 30,
    "start_time": "2022-09-21T02:45:24.672Z"
   },
   {
    "duration": 24,
    "start_time": "2022-09-21T02:45:24.703Z"
   },
   {
    "duration": 22,
    "start_time": "2022-09-21T02:45:24.729Z"
   },
   {
    "duration": 3,
    "start_time": "2022-09-21T02:45:24.753Z"
   },
   {
    "duration": 99,
    "start_time": "2022-09-21T02:45:24.758Z"
   },
   {
    "duration": 96,
    "start_time": "2022-09-21T02:45:24.858Z"
   },
   {
    "duration": 12,
    "start_time": "2022-09-21T02:45:24.956Z"
   },
   {
    "duration": 3,
    "start_time": "2022-09-21T02:45:24.970Z"
   },
   {
    "duration": 20,
    "start_time": "2022-09-21T02:45:24.975Z"
   },
   {
    "duration": 5,
    "start_time": "2022-09-21T02:45:24.996Z"
   },
   {
    "duration": 28,
    "start_time": "2022-09-21T02:45:25.002Z"
   },
   {
    "duration": 24,
    "start_time": "2022-09-21T02:45:25.032Z"
   },
   {
    "duration": 1228,
    "start_time": "2022-09-21T11:38:36.001Z"
   },
   {
    "duration": 30,
    "start_time": "2022-09-21T11:38:37.231Z"
   },
   {
    "duration": 25,
    "start_time": "2022-09-21T11:38:37.264Z"
   },
   {
    "duration": 28,
    "start_time": "2022-09-21T11:38:37.292Z"
   },
   {
    "duration": 4,
    "start_time": "2022-09-21T11:38:37.322Z"
   },
   {
    "duration": 95,
    "start_time": "2022-09-21T11:38:37.328Z"
   },
   {
    "duration": 9,
    "start_time": "2022-09-21T11:38:37.425Z"
   },
   {
    "duration": 99,
    "start_time": "2022-09-21T11:38:37.436Z"
   },
   {
    "duration": 6,
    "start_time": "2022-09-21T11:38:37.536Z"
   },
   {
    "duration": 23,
    "start_time": "2022-09-21T11:38:37.543Z"
   },
   {
    "duration": 6,
    "start_time": "2022-09-21T11:38:37.568Z"
   },
   {
    "duration": 18,
    "start_time": "2022-09-21T11:38:37.576Z"
   },
   {
    "duration": 27,
    "start_time": "2022-09-21T11:38:37.595Z"
   }
  ],
  "kernelspec": {
   "display_name": "Python 3 (ipykernel)",
   "language": "python",
   "name": "python3"
  },
  "language_info": {
   "codemirror_mode": {
    "name": "ipython",
    "version": 3
   },
   "file_extension": ".py",
   "mimetype": "text/x-python",
   "name": "python",
   "nbconvert_exporter": "python",
   "pygments_lexer": "ipython3",
   "version": "3.9.12"
  },
  "toc": {
   "base_numbering": 1,
   "nav_menu": {},
   "number_sections": true,
   "sideBar": true,
   "skip_h1_title": true,
   "title_cell": "Содержание",
   "title_sidebar": "Contents",
   "toc_cell": true,
   "toc_position": {
    "height": "calc(100% - 180px)",
    "left": "10px",
    "top": "150px",
    "width": "294.594px"
   },
   "toc_section_display": true,
   "toc_window_display": true
  }
 },
 "nbformat": 4,
 "nbformat_minor": 2
}
