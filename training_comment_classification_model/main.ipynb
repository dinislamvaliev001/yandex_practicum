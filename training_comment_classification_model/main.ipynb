{
 "cells": [
  {
   "cell_type": "markdown",
   "metadata": {},
   "source": [
    "# Проект для «Викишоп»"
   ]
  },
  {
   "cell_type": "markdown",
   "metadata": {},
   "source": [
    "Интернет-магазин «Викишоп» запускает новый сервис. Теперь пользователи могут редактировать и дополнять описания товаров, как в вики-сообществах. То есть клиенты предлагают свои правки и комментируют изменения других. Магазину нужен инструмент, который будет искать токсичные комментарии и отправлять их на модерацию. \n",
    "\n",
    "Обучите модель классифицировать комментарии на позитивные и негативные. В вашем распоряжении набор данных с разметкой о токсичности правок.\n",
    "\n",
    "Постройте модель со значением метрики качества *F1* не меньше 0.75. \n",
    "\n",
    "**Инструкция по выполнению проекта**\n",
    "\n",
    "1. Загрузите и подготовьте данные.\n",
    "2. Обучите разные модели. \n",
    "3. Сделайте выводы.\n",
    "\n",
    "**Описание данных**\n",
    "\n",
    "Данные находятся в файле `toxic_comments.csv`. Столбец *text* в нём содержит текст комментария, а *toxic* — целевой признак."
   ]
  },
  {
   "cell_type": "markdown",
   "metadata": {},
   "source": [
    "## Подготовка"
   ]
  },
  {
   "cell_type": "code",
   "execution_count": 1,
   "metadata": {},
   "outputs": [
    {
     "name": "stderr",
     "output_type": "stream",
     "text": [
      "[nltk_data] Downloading package stopwords to /home/jovyan/nltk_data...\n",
      "[nltk_data]   Package stopwords is already up-to-date!\n"
     ]
    },
    {
     "name": "stdout",
     "output_type": "stream",
     "text": [
      "Requirement already satisfied: spacy in /opt/conda/lib/python3.9/site-packages (3.2.0)\n",
      "Requirement already satisfied: cymem<2.1.0,>=2.0.2 in /opt/conda/lib/python3.9/site-packages (from spacy) (2.0.6)\n",
      "Requirement already satisfied: pathy>=0.3.5 in /opt/conda/lib/python3.9/site-packages (from spacy) (0.6.2)\n",
      "Requirement already satisfied: jinja2 in /opt/conda/lib/python3.9/site-packages (from spacy) (3.0.1)\n",
      "Requirement already satisfied: setuptools in /opt/conda/lib/python3.9/site-packages (from spacy) (49.6.0.post20210108)\n",
      "Requirement already satisfied: pydantic!=1.8,!=1.8.1,<1.9.0,>=1.7.4 in /opt/conda/lib/python3.9/site-packages (from spacy) (1.8.2)\n",
      "Requirement already satisfied: spacy-legacy<3.1.0,>=3.0.8 in /opt/conda/lib/python3.9/site-packages (from spacy) (3.0.10)\n",
      "Requirement already satisfied: preshed<3.1.0,>=3.0.2 in /opt/conda/lib/python3.9/site-packages (from spacy) (3.0.7)\n",
      "Requirement already satisfied: blis<0.8.0,>=0.4.0 in /opt/conda/lib/python3.9/site-packages (from spacy) (0.7.8)\n",
      "Requirement already satisfied: numpy>=1.15.0 in /opt/conda/lib/python3.9/site-packages (from spacy) (1.21.1)\n",
      "Requirement already satisfied: requests<3.0.0,>=2.13.0 in /opt/conda/lib/python3.9/site-packages (from spacy) (2.25.1)\n",
      "Requirement already satisfied: typer<0.5.0,>=0.3.0 in /opt/conda/lib/python3.9/site-packages (from spacy) (0.4.2)\n",
      "Requirement already satisfied: spacy-loggers<2.0.0,>=1.0.0 in /opt/conda/lib/python3.9/site-packages (from spacy) (1.0.3)\n",
      "Requirement already satisfied: srsly<3.0.0,>=2.4.1 in /opt/conda/lib/python3.9/site-packages (from spacy) (2.4.4)\n",
      "Requirement already satisfied: packaging>=20.0 in /opt/conda/lib/python3.9/site-packages (from spacy) (21.3)\n",
      "Requirement already satisfied: tqdm<5.0.0,>=4.38.0 in /opt/conda/lib/python3.9/site-packages (from spacy) (4.61.2)\n",
      "Requirement already satisfied: thinc<8.1.0,>=8.0.12 in /opt/conda/lib/python3.9/site-packages (from spacy) (8.0.17)\n",
      "Requirement already satisfied: wasabi<1.1.0,>=0.8.1 in /opt/conda/lib/python3.9/site-packages (from spacy) (0.10.1)\n",
      "Requirement already satisfied: langcodes<4.0.0,>=3.2.0 in /opt/conda/lib/python3.9/site-packages (from spacy) (3.3.0)\n",
      "Requirement already satisfied: murmurhash<1.1.0,>=0.28.0 in /opt/conda/lib/python3.9/site-packages (from spacy) (1.0.8)\n",
      "Requirement already satisfied: catalogue<2.1.0,>=2.0.6 in /opt/conda/lib/python3.9/site-packages (from spacy) (2.0.8)\n",
      "Requirement already satisfied: pyparsing!=3.0.5,>=2.0.2 in /opt/conda/lib/python3.9/site-packages (from packaging>=20.0->spacy) (2.4.7)\n",
      "Requirement already satisfied: smart-open<6.0.0,>=5.2.1 in /opt/conda/lib/python3.9/site-packages (from pathy>=0.3.5->spacy) (5.2.1)\n",
      "Requirement already satisfied: typing-extensions>=3.7.4.3 in /opt/conda/lib/python3.9/site-packages (from pydantic!=1.8,!=1.8.1,<1.9.0,>=1.7.4->spacy) (4.3.0)\n",
      "Requirement already satisfied: idna<3,>=2.5 in /opt/conda/lib/python3.9/site-packages (from requests<3.0.0,>=2.13.0->spacy) (2.10)\n",
      "Requirement already satisfied: certifi>=2017.4.17 in /opt/conda/lib/python3.9/site-packages (from requests<3.0.0,>=2.13.0->spacy) (2022.6.15)\n",
      "Requirement already satisfied: chardet<5,>=3.0.2 in /opt/conda/lib/python3.9/site-packages (from requests<3.0.0,>=2.13.0->spacy) (4.0.0)\n",
      "Requirement already satisfied: urllib3<1.27,>=1.21.1 in /opt/conda/lib/python3.9/site-packages (from requests<3.0.0,>=2.13.0->spacy) (1.26.6)\n",
      "Requirement already satisfied: click<9.0.0,>=7.1.1 in /opt/conda/lib/python3.9/site-packages (from typer<0.5.0,>=0.3.0->spacy) (8.1.3)\n",
      "Requirement already satisfied: MarkupSafe>=2.0 in /opt/conda/lib/python3.9/site-packages (from jinja2->spacy) (2.1.1)\n",
      "\u001b[38;5;3m⚠ As of spaCy v3.0, shortcuts like 'en' are deprecated. Please use the\n",
      "full pipeline package name 'en_core_web_sm' instead.\u001b[0m\n",
      "Collecting en-core-web-sm==3.2.0\n",
      "  Downloading https://github.com/explosion/spacy-models/releases/download/en_core_web_sm-3.2.0/en_core_web_sm-3.2.0-py3-none-any.whl (13.9 MB)\n",
      "\u001b[K     |████████████████████████████████| 13.9 MB 2.3 MB/s eta 0:00:01��        | 10.3 MB 2.3 MB/s eta 0:00:02\n",
      "\u001b[?25hRequirement already satisfied: spacy<3.3.0,>=3.2.0 in /opt/conda/lib/python3.9/site-packages (from en-core-web-sm==3.2.0) (3.2.0)\n",
      "Requirement already satisfied: catalogue<2.1.0,>=2.0.6 in /opt/conda/lib/python3.9/site-packages (from spacy<3.3.0,>=3.2.0->en-core-web-sm==3.2.0) (2.0.8)\n",
      "Requirement already satisfied: pydantic!=1.8,!=1.8.1,<1.9.0,>=1.7.4 in /opt/conda/lib/python3.9/site-packages (from spacy<3.3.0,>=3.2.0->en-core-web-sm==3.2.0) (1.8.2)\n",
      "Requirement already satisfied: spacy-legacy<3.1.0,>=3.0.8 in /opt/conda/lib/python3.9/site-packages (from spacy<3.3.0,>=3.2.0->en-core-web-sm==3.2.0) (3.0.10)\n",
      "Requirement already satisfied: srsly<3.0.0,>=2.4.1 in /opt/conda/lib/python3.9/site-packages (from spacy<3.3.0,>=3.2.0->en-core-web-sm==3.2.0) (2.4.4)\n",
      "Requirement already satisfied: numpy>=1.15.0 in /opt/conda/lib/python3.9/site-packages (from spacy<3.3.0,>=3.2.0->en-core-web-sm==3.2.0) (1.21.1)\n",
      "Requirement already satisfied: jinja2 in /opt/conda/lib/python3.9/site-packages (from spacy<3.3.0,>=3.2.0->en-core-web-sm==3.2.0) (3.0.1)\n",
      "Requirement already satisfied: requests<3.0.0,>=2.13.0 in /opt/conda/lib/python3.9/site-packages (from spacy<3.3.0,>=3.2.0->en-core-web-sm==3.2.0) (2.25.1)\n",
      "Requirement already satisfied: spacy-loggers<2.0.0,>=1.0.0 in /opt/conda/lib/python3.9/site-packages (from spacy<3.3.0,>=3.2.0->en-core-web-sm==3.2.0) (1.0.3)\n",
      "Requirement already satisfied: murmurhash<1.1.0,>=0.28.0 in /opt/conda/lib/python3.9/site-packages (from spacy<3.3.0,>=3.2.0->en-core-web-sm==3.2.0) (1.0.8)\n",
      "Requirement already satisfied: thinc<8.1.0,>=8.0.12 in /opt/conda/lib/python3.9/site-packages (from spacy<3.3.0,>=3.2.0->en-core-web-sm==3.2.0) (8.0.17)\n",
      "Requirement already satisfied: typer<0.5.0,>=0.3.0 in /opt/conda/lib/python3.9/site-packages (from spacy<3.3.0,>=3.2.0->en-core-web-sm==3.2.0) (0.4.2)\n",
      "Requirement already satisfied: tqdm<5.0.0,>=4.38.0 in /opt/conda/lib/python3.9/site-packages (from spacy<3.3.0,>=3.2.0->en-core-web-sm==3.2.0) (4.61.2)\n",
      "Requirement already satisfied: pathy>=0.3.5 in /opt/conda/lib/python3.9/site-packages (from spacy<3.3.0,>=3.2.0->en-core-web-sm==3.2.0) (0.6.2)\n",
      "Requirement already satisfied: setuptools in /opt/conda/lib/python3.9/site-packages (from spacy<3.3.0,>=3.2.0->en-core-web-sm==3.2.0) (49.6.0.post20210108)\n",
      "Requirement already satisfied: wasabi<1.1.0,>=0.8.1 in /opt/conda/lib/python3.9/site-packages (from spacy<3.3.0,>=3.2.0->en-core-web-sm==3.2.0) (0.10.1)\n",
      "Requirement already satisfied: packaging>=20.0 in /opt/conda/lib/python3.9/site-packages (from spacy<3.3.0,>=3.2.0->en-core-web-sm==3.2.0) (21.3)\n",
      "Requirement already satisfied: langcodes<4.0.0,>=3.2.0 in /opt/conda/lib/python3.9/site-packages (from spacy<3.3.0,>=3.2.0->en-core-web-sm==3.2.0) (3.3.0)\n",
      "Requirement already satisfied: cymem<2.1.0,>=2.0.2 in /opt/conda/lib/python3.9/site-packages (from spacy<3.3.0,>=3.2.0->en-core-web-sm==3.2.0) (2.0.6)\n",
      "Requirement already satisfied: preshed<3.1.0,>=3.0.2 in /opt/conda/lib/python3.9/site-packages (from spacy<3.3.0,>=3.2.0->en-core-web-sm==3.2.0) (3.0.7)\n",
      "Requirement already satisfied: blis<0.8.0,>=0.4.0 in /opt/conda/lib/python3.9/site-packages (from spacy<3.3.0,>=3.2.0->en-core-web-sm==3.2.0) (0.7.8)\n",
      "Requirement already satisfied: pyparsing!=3.0.5,>=2.0.2 in /opt/conda/lib/python3.9/site-packages (from packaging>=20.0->spacy<3.3.0,>=3.2.0->en-core-web-sm==3.2.0) (2.4.7)\n",
      "Requirement already satisfied: smart-open<6.0.0,>=5.2.1 in /opt/conda/lib/python3.9/site-packages (from pathy>=0.3.5->spacy<3.3.0,>=3.2.0->en-core-web-sm==3.2.0) (5.2.1)\n",
      "Requirement already satisfied: typing-extensions>=3.7.4.3 in /opt/conda/lib/python3.9/site-packages (from pydantic!=1.8,!=1.8.1,<1.9.0,>=1.7.4->spacy<3.3.0,>=3.2.0->en-core-web-sm==3.2.0) (4.3.0)\n",
      "Requirement already satisfied: idna<3,>=2.5 in /opt/conda/lib/python3.9/site-packages (from requests<3.0.0,>=2.13.0->spacy<3.3.0,>=3.2.0->en-core-web-sm==3.2.0) (2.10)\n",
      "Requirement already satisfied: certifi>=2017.4.17 in /opt/conda/lib/python3.9/site-packages (from requests<3.0.0,>=2.13.0->spacy<3.3.0,>=3.2.0->en-core-web-sm==3.2.0) (2022.6.15)\n",
      "Requirement already satisfied: urllib3<1.27,>=1.21.1 in /opt/conda/lib/python3.9/site-packages (from requests<3.0.0,>=2.13.0->spacy<3.3.0,>=3.2.0->en-core-web-sm==3.2.0) (1.26.6)\n",
      "Requirement already satisfied: chardet<5,>=3.0.2 in /opt/conda/lib/python3.9/site-packages (from requests<3.0.0,>=2.13.0->spacy<3.3.0,>=3.2.0->en-core-web-sm==3.2.0) (4.0.0)\n",
      "Requirement already satisfied: click<9.0.0,>=7.1.1 in /opt/conda/lib/python3.9/site-packages (from typer<0.5.0,>=0.3.0->spacy<3.3.0,>=3.2.0->en-core-web-sm==3.2.0) (8.1.3)\n",
      "Requirement already satisfied: MarkupSafe>=2.0 in /opt/conda/lib/python3.9/site-packages (from jinja2->spacy<3.3.0,>=3.2.0->en-core-web-sm==3.2.0) (2.1.1)\n",
      "\u001b[38;5;2m✔ Download and installation successful\u001b[0m\n",
      "You can now load the package via spacy.load('en_core_web_sm')\n"
     ]
    }
   ],
   "source": [
    "import pandas as pd\n",
    "import numpy as np\n",
    "from pymystem3 import Mystem\n",
    "import re \n",
    "import nltk\n",
    "nltk.download('stopwords') \n",
    "from nltk.corpus import stopwords as nltk_stopwords\n",
    "\n",
    "import sys\n",
    "!{sys.executable} -m pip install spacy\n",
    "!{sys.executable} -m spacy download en\n",
    "import spacy\n",
    "\n",
    "from tqdm import tqdm\n",
    "import matplotlib.pyplot as plt \n",
    "import seaborn as sns \n",
    "from sklearn.feature_extraction.text import TfidfVectorizer \n",
    "from sklearn.feature_extraction.text import CountVectorizer \n",
    "from sklearn.feature_extraction.text import TfidfTransformer\n",
    "\n",
    "from sklearn.metrics import f1_score\n",
    "from sklearn.model_selection import train_test_split\n",
    "from sklearn.model_selection import GridSearchCV\n",
    "from sklearn.linear_model import LogisticRegression\n",
    "from sklearn.ensemble import RandomForestClassifier\n",
    "from catboost import CatBoostClassifier, Pool\n",
    "from sklearn.model_selection import cross_val_score\n",
    "from sklearn.pipeline import Pipeline\n",
    "\n",
    "import warnings\n",
    "warnings.filterwarnings('ignore')"
   ]
  },
  {
   "cell_type": "code",
   "execution_count": 2,
   "metadata": {},
   "outputs": [],
   "source": [
    "data = pd.read_csv('/datasets/toxic_comments.csv')"
   ]
  },
  {
   "cell_type": "code",
   "execution_count": 3,
   "metadata": {},
   "outputs": [
    {
     "data": {
      "text/html": [
       "<div>\n",
       "<style scoped>\n",
       "    .dataframe tbody tr th:only-of-type {\n",
       "        vertical-align: middle;\n",
       "    }\n",
       "\n",
       "    .dataframe tbody tr th {\n",
       "        vertical-align: top;\n",
       "    }\n",
       "\n",
       "    .dataframe thead th {\n",
       "        text-align: right;\n",
       "    }\n",
       "</style>\n",
       "<table border=\"1\" class=\"dataframe\">\n",
       "  <thead>\n",
       "    <tr style=\"text-align: right;\">\n",
       "      <th></th>\n",
       "      <th>Unnamed: 0</th>\n",
       "      <th>text</th>\n",
       "      <th>toxic</th>\n",
       "    </tr>\n",
       "  </thead>\n",
       "  <tbody>\n",
       "    <tr>\n",
       "      <th>0</th>\n",
       "      <td>0</td>\n",
       "      <td>Explanation\\nWhy the edits made under my usern...</td>\n",
       "      <td>0</td>\n",
       "    </tr>\n",
       "    <tr>\n",
       "      <th>1</th>\n",
       "      <td>1</td>\n",
       "      <td>D'aww! He matches this background colour I'm s...</td>\n",
       "      <td>0</td>\n",
       "    </tr>\n",
       "    <tr>\n",
       "      <th>2</th>\n",
       "      <td>2</td>\n",
       "      <td>Hey man, I'm really not trying to edit war. It...</td>\n",
       "      <td>0</td>\n",
       "    </tr>\n",
       "    <tr>\n",
       "      <th>3</th>\n",
       "      <td>3</td>\n",
       "      <td>\"\\nMore\\nI can't make any real suggestions on ...</td>\n",
       "      <td>0</td>\n",
       "    </tr>\n",
       "    <tr>\n",
       "      <th>4</th>\n",
       "      <td>4</td>\n",
       "      <td>You, sir, are my hero. Any chance you remember...</td>\n",
       "      <td>0</td>\n",
       "    </tr>\n",
       "    <tr>\n",
       "      <th>5</th>\n",
       "      <td>5</td>\n",
       "      <td>\"\\n\\nCongratulations from me as well, use the ...</td>\n",
       "      <td>0</td>\n",
       "    </tr>\n",
       "    <tr>\n",
       "      <th>6</th>\n",
       "      <td>6</td>\n",
       "      <td>COCKSUCKER BEFORE YOU PISS AROUND ON MY WORK</td>\n",
       "      <td>1</td>\n",
       "    </tr>\n",
       "    <tr>\n",
       "      <th>7</th>\n",
       "      <td>7</td>\n",
       "      <td>Your vandalism to the Matt Shirvington article...</td>\n",
       "      <td>0</td>\n",
       "    </tr>\n",
       "    <tr>\n",
       "      <th>8</th>\n",
       "      <td>8</td>\n",
       "      <td>Sorry if the word 'nonsense' was offensive to ...</td>\n",
       "      <td>0</td>\n",
       "    </tr>\n",
       "    <tr>\n",
       "      <th>9</th>\n",
       "      <td>9</td>\n",
       "      <td>alignment on this subject and which are contra...</td>\n",
       "      <td>0</td>\n",
       "    </tr>\n",
       "    <tr>\n",
       "      <th>10</th>\n",
       "      <td>10</td>\n",
       "      <td>\"\\nFair use rationale for Image:Wonju.jpg\\n\\nT...</td>\n",
       "      <td>0</td>\n",
       "    </tr>\n",
       "    <tr>\n",
       "      <th>11</th>\n",
       "      <td>11</td>\n",
       "      <td>bbq \\n\\nbe a man and lets discuss it-maybe ove...</td>\n",
       "      <td>0</td>\n",
       "    </tr>\n",
       "    <tr>\n",
       "      <th>12</th>\n",
       "      <td>12</td>\n",
       "      <td>Hey... what is it..\\n@ | talk .\\nWhat is it......</td>\n",
       "      <td>1</td>\n",
       "    </tr>\n",
       "    <tr>\n",
       "      <th>13</th>\n",
       "      <td>13</td>\n",
       "      <td>Before you start throwing accusations and warn...</td>\n",
       "      <td>0</td>\n",
       "    </tr>\n",
       "    <tr>\n",
       "      <th>14</th>\n",
       "      <td>14</td>\n",
       "      <td>Oh, and the girl above started her arguments w...</td>\n",
       "      <td>0</td>\n",
       "    </tr>\n",
       "    <tr>\n",
       "      <th>15</th>\n",
       "      <td>15</td>\n",
       "      <td>\"\\n\\nJuelz Santanas Age\\n\\nIn 2002, Juelz Sant...</td>\n",
       "      <td>0</td>\n",
       "    </tr>\n",
       "    <tr>\n",
       "      <th>16</th>\n",
       "      <td>16</td>\n",
       "      <td>Bye! \\n\\nDon't look, come or think of comming ...</td>\n",
       "      <td>1</td>\n",
       "    </tr>\n",
       "    <tr>\n",
       "      <th>17</th>\n",
       "      <td>17</td>\n",
       "      <td>REDIRECT Talk:Voydan Pop Georgiev- Chernodrinski</td>\n",
       "      <td>0</td>\n",
       "    </tr>\n",
       "    <tr>\n",
       "      <th>18</th>\n",
       "      <td>18</td>\n",
       "      <td>The Mitsurugi point made no sense - why not ar...</td>\n",
       "      <td>0</td>\n",
       "    </tr>\n",
       "    <tr>\n",
       "      <th>19</th>\n",
       "      <td>19</td>\n",
       "      <td>Don't mean to bother you \\n\\nI see that you're...</td>\n",
       "      <td>0</td>\n",
       "    </tr>\n",
       "  </tbody>\n",
       "</table>\n",
       "</div>"
      ],
      "text/plain": [
       "    Unnamed: 0                                               text  toxic\n",
       "0            0  Explanation\\nWhy the edits made under my usern...      0\n",
       "1            1  D'aww! He matches this background colour I'm s...      0\n",
       "2            2  Hey man, I'm really not trying to edit war. It...      0\n",
       "3            3  \"\\nMore\\nI can't make any real suggestions on ...      0\n",
       "4            4  You, sir, are my hero. Any chance you remember...      0\n",
       "5            5  \"\\n\\nCongratulations from me as well, use the ...      0\n",
       "6            6       COCKSUCKER BEFORE YOU PISS AROUND ON MY WORK      1\n",
       "7            7  Your vandalism to the Matt Shirvington article...      0\n",
       "8            8  Sorry if the word 'nonsense' was offensive to ...      0\n",
       "9            9  alignment on this subject and which are contra...      0\n",
       "10          10  \"\\nFair use rationale for Image:Wonju.jpg\\n\\nT...      0\n",
       "11          11  bbq \\n\\nbe a man and lets discuss it-maybe ove...      0\n",
       "12          12  Hey... what is it..\\n@ | talk .\\nWhat is it......      1\n",
       "13          13  Before you start throwing accusations and warn...      0\n",
       "14          14  Oh, and the girl above started her arguments w...      0\n",
       "15          15  \"\\n\\nJuelz Santanas Age\\n\\nIn 2002, Juelz Sant...      0\n",
       "16          16  Bye! \\n\\nDon't look, come or think of comming ...      1\n",
       "17          17   REDIRECT Talk:Voydan Pop Georgiev- Chernodrinski      0\n",
       "18          18  The Mitsurugi point made no sense - why not ar...      0\n",
       "19          19  Don't mean to bother you \\n\\nI see that you're...      0"
      ]
     },
     "metadata": {},
     "output_type": "display_data"
    }
   ],
   "source": [
    "display(data.head(20))"
   ]
  },
  {
   "cell_type": "code",
   "execution_count": 4,
   "metadata": {},
   "outputs": [
    {
     "name": "stdout",
     "output_type": "stream",
     "text": [
      "Unnamed: 0    0\n",
      "text          0\n",
      "toxic         0\n",
      "dtype: int64\n"
     ]
    }
   ],
   "source": [
    "print(data.isna().sum())"
   ]
  },
  {
   "cell_type": "code",
   "execution_count": 5,
   "metadata": {},
   "outputs": [
    {
     "data": {
      "text/html": [
       "<div>\n",
       "<style scoped>\n",
       "    .dataframe tbody tr th:only-of-type {\n",
       "        vertical-align: middle;\n",
       "    }\n",
       "\n",
       "    .dataframe tbody tr th {\n",
       "        vertical-align: top;\n",
       "    }\n",
       "\n",
       "    .dataframe thead th {\n",
       "        text-align: right;\n",
       "    }\n",
       "</style>\n",
       "<table border=\"1\" class=\"dataframe\">\n",
       "  <thead>\n",
       "    <tr style=\"text-align: right;\">\n",
       "      <th></th>\n",
       "      <th>Unnamed: 0</th>\n",
       "      <th>toxic</th>\n",
       "    </tr>\n",
       "  </thead>\n",
       "  <tbody>\n",
       "    <tr>\n",
       "      <th>count</th>\n",
       "      <td>159292.000000</td>\n",
       "      <td>159292.000000</td>\n",
       "    </tr>\n",
       "    <tr>\n",
       "      <th>mean</th>\n",
       "      <td>79725.697242</td>\n",
       "      <td>0.101612</td>\n",
       "    </tr>\n",
       "    <tr>\n",
       "      <th>std</th>\n",
       "      <td>46028.837471</td>\n",
       "      <td>0.302139</td>\n",
       "    </tr>\n",
       "    <tr>\n",
       "      <th>min</th>\n",
       "      <td>0.000000</td>\n",
       "      <td>0.000000</td>\n",
       "    </tr>\n",
       "    <tr>\n",
       "      <th>25%</th>\n",
       "      <td>39872.750000</td>\n",
       "      <td>0.000000</td>\n",
       "    </tr>\n",
       "    <tr>\n",
       "      <th>50%</th>\n",
       "      <td>79721.500000</td>\n",
       "      <td>0.000000</td>\n",
       "    </tr>\n",
       "    <tr>\n",
       "      <th>75%</th>\n",
       "      <td>119573.250000</td>\n",
       "      <td>0.000000</td>\n",
       "    </tr>\n",
       "    <tr>\n",
       "      <th>max</th>\n",
       "      <td>159450.000000</td>\n",
       "      <td>1.000000</td>\n",
       "    </tr>\n",
       "  </tbody>\n",
       "</table>\n",
       "</div>"
      ],
      "text/plain": [
       "          Unnamed: 0          toxic\n",
       "count  159292.000000  159292.000000\n",
       "mean    79725.697242       0.101612\n",
       "std     46028.837471       0.302139\n",
       "min         0.000000       0.000000\n",
       "25%     39872.750000       0.000000\n",
       "50%     79721.500000       0.000000\n",
       "75%    119573.250000       0.000000\n",
       "max    159450.000000       1.000000"
      ]
     },
     "execution_count": 5,
     "metadata": {},
     "output_type": "execute_result"
    }
   ],
   "source": [
    "data.describe()"
   ]
  },
  {
   "cell_type": "code",
   "execution_count": 6,
   "metadata": {},
   "outputs": [],
   "source": [
    "data['text'] = data['text'].str.lower()"
   ]
  },
  {
   "cell_type": "code",
   "execution_count": 8,
   "metadata": {},
   "outputs": [
    {
     "name": "stdout",
     "output_type": "stream",
     "text": [
      "Исходный текст: explanation\n",
      "why the edits made under my username hardcore metallica fan were reverted? they weren't vandalisms, just closure on some gas after i voted at new york dolls fac. and please don't remove the template from the talk page since i'm retired now.89.205.38.27\n",
      "Очищенный и лемматизированный текст: explanation why the edit make under my username hardcore metallica fan be revert   they weren t vandalisms   just closure on some gas after I vote at new york doll fac   and please don t remove the template from the talk page since I m retire now             \n"
     ]
    }
   ],
   "source": [
    "# Напишу функцию lemmatize(text). На вход она принимает текст из корпуса и возвращает лемматизированную строку.\n",
    "nlp = spacy.load('en_core_web_sm', disable=['parser', 'ner'])\n",
    "\n",
    "corpus = list(data['text'])\n",
    "\n",
    "# Напишу функцию clear_text(text), которая оставит в тексте только символы и пробелы.\n",
    "# На вход она принимает текст, а возвращает очищенный текст.\n",
    "\n",
    "def clear_text(text):\n",
    "    text = re.sub(r'[^a-zA-Z]', ' ', text)\n",
    "    doc = nlp(text)\n",
    "    return  \" \".join([token.lemma_ for token in doc])\n",
    "\n",
    "print(\"Исходный текст:\", corpus[0])\n",
    "print(\"Очищенный и лемматизированный текст:\", (clear_text(corpus[0])))"
   ]
  },
  {
   "cell_type": "code",
   "execution_count": 9,
   "metadata": {},
   "outputs": [
    {
     "name": "stderr",
     "output_type": "stream",
     "text": [
      "100%|██████████| 159292/159292 [20:26<00:00, 129.86it/s]\n"
     ]
    }
   ],
   "source": [
    "# В цикле применим функцию для очистки и лемматизации текстов \"clear_text\":\n",
    "for i in tqdm(range(len(corpus))):\n",
    "    corpus[i] = clear_text(corpus[i])"
   ]
  },
  {
   "cell_type": "code",
   "execution_count": 10,
   "metadata": {},
   "outputs": [
    {
     "data": {
      "text/html": [
       "<div>\n",
       "<style scoped>\n",
       "    .dataframe tbody tr th:only-of-type {\n",
       "        vertical-align: middle;\n",
       "    }\n",
       "\n",
       "    .dataframe tbody tr th {\n",
       "        vertical-align: top;\n",
       "    }\n",
       "\n",
       "    .dataframe thead th {\n",
       "        text-align: right;\n",
       "    }\n",
       "</style>\n",
       "<table border=\"1\" class=\"dataframe\">\n",
       "  <thead>\n",
       "    <tr style=\"text-align: right;\">\n",
       "      <th></th>\n",
       "      <th>Unnamed: 0</th>\n",
       "      <th>text</th>\n",
       "      <th>toxic</th>\n",
       "      <th>lemm_text</th>\n",
       "    </tr>\n",
       "  </thead>\n",
       "  <tbody>\n",
       "    <tr>\n",
       "      <th>0</th>\n",
       "      <td>0</td>\n",
       "      <td>explanation\\nwhy the edits made under my usern...</td>\n",
       "      <td>0</td>\n",
       "      <td>explanation why the edit make under my usernam...</td>\n",
       "    </tr>\n",
       "    <tr>\n",
       "      <th>1</th>\n",
       "      <td>1</td>\n",
       "      <td>d'aww! he matches this background colour i'm s...</td>\n",
       "      <td>0</td>\n",
       "      <td>d aww   he match this background colour I m se...</td>\n",
       "    </tr>\n",
       "    <tr>\n",
       "      <th>2</th>\n",
       "      <td>2</td>\n",
       "      <td>hey man, i'm really not trying to edit war. it...</td>\n",
       "      <td>0</td>\n",
       "      <td>hey man   I m really not try to edit war   it ...</td>\n",
       "    </tr>\n",
       "    <tr>\n",
       "      <th>3</th>\n",
       "      <td>3</td>\n",
       "      <td>\"\\nmore\\ni can't make any real suggestions on ...</td>\n",
       "      <td>0</td>\n",
       "      <td>more I can t make any real suggestion on im...</td>\n",
       "    </tr>\n",
       "    <tr>\n",
       "      <th>4</th>\n",
       "      <td>4</td>\n",
       "      <td>you, sir, are my hero. any chance you remember...</td>\n",
       "      <td>0</td>\n",
       "      <td>you   sir   be my hero   any chance you rememb...</td>\n",
       "    </tr>\n",
       "  </tbody>\n",
       "</table>\n",
       "</div>"
      ],
      "text/plain": [
       "   Unnamed: 0                                               text  toxic  \\\n",
       "0           0  explanation\\nwhy the edits made under my usern...      0   \n",
       "1           1  d'aww! he matches this background colour i'm s...      0   \n",
       "2           2  hey man, i'm really not trying to edit war. it...      0   \n",
       "3           3  \"\\nmore\\ni can't make any real suggestions on ...      0   \n",
       "4           4  you, sir, are my hero. any chance you remember...      0   \n",
       "\n",
       "                                           lemm_text  \n",
       "0  explanation why the edit make under my usernam...  \n",
       "1  d aww   he match this background colour I m se...  \n",
       "2  hey man   I m really not try to edit war   it ...  \n",
       "3     more I can t make any real suggestion on im...  \n",
       "4  you   sir   be my hero   any chance you rememb...  "
      ]
     },
     "metadata": {},
     "output_type": "display_data"
    },
    {
     "name": "stdout",
     "output_type": "stream",
     "text": [
      "<class 'pandas.core.frame.DataFrame'>\n",
      "RangeIndex: 159292 entries, 0 to 159291\n",
      "Data columns (total 4 columns):\n",
      " #   Column      Non-Null Count   Dtype \n",
      "---  ------      --------------   ----- \n",
      " 0   Unnamed: 0  159292 non-null  int64 \n",
      " 1   text        159292 non-null  object\n",
      " 2   toxic       159292 non-null  int64 \n",
      " 3   lemm_text   159292 non-null  object\n",
      "dtypes: int64(2), object(2)\n",
      "memory usage: 4.9+ MB\n"
     ]
    }
   ],
   "source": [
    "# Обьеденим датасет и корпус\n",
    "data_corpus = pd.DataFrame(corpus)\n",
    "data['lemm_text'] = data_corpus[0]\n",
    "display(data.head())\n",
    "data.info()"
   ]
  },
  {
   "cell_type": "code",
   "execution_count": 11,
   "metadata": {
    "scrolled": true
   },
   "outputs": [
    {
     "name": "stdout",
     "output_type": "stream",
     "text": [
      "0    143106\n",
      "1     16186\n",
      "Name: toxic, dtype: int64\n"
     ]
    },
    {
     "data": {
      "text/plain": [
       "<AxesSubplot:xlabel='toxic', ylabel='count'>"
      ]
     },
     "execution_count": 11,
     "metadata": {},
     "output_type": "execute_result"
    },
    {
     "data": {
      "image/png": "[encoded data removed]",
      "text/plain": [
       "<Figure size 864x432 with 1 Axes>"
      ]
     },
     "metadata": {
      "needs_background": "light"
     },
     "output_type": "display_data"
    }
   ],
   "source": [
    "# Посмотрим количество токсичных слов\n",
    "print(data['toxic'].value_counts())\n",
    "zeroes = data['toxic'].value_counts()[0]\n",
    "ones = data['toxic'].value_counts()[1]\n",
    "\n",
    "plt.figure(figsize=(12, 6))\n",
    "sns.countplot(x='toxic', data=data)"
   ]
  },
  {
   "cell_type": "code",
   "execution_count": 12,
   "metadata": {},
   "outputs": [],
   "source": [
    "features = data['lemm_text']\n",
    "target = data['toxic']\n",
    "\n",
    "features_train, features_test, target_train, target_test = train_test_split(\n",
    "    features, target, test_size=0.25, random_state=34, stratify = target)"
   ]
  },
  {
   "cell_type": "code",
   "execution_count": 13,
   "metadata": {},
   "outputs": [
    {
     "name": "stdout",
     "output_type": "stream",
     "text": [
      "Размер матрицы: (119469, 128479)\n",
      "Размер матрицы: (39823, 128479)\n"
     ]
    }
   ],
   "source": [
    "stopwords = set(nltk_stopwords.words('english'))\n",
    "count_tf_idf = TfidfVectorizer(stop_words=stopwords) \n",
    "\n",
    "tf_features_train = count_tf_idf.fit_transform(features_train) \n",
    "tf_features_test = count_tf_idf.transform(features_test) \n",
    "\n",
    "print(\"Размер матрицы:\", tf_features_train.shape)\n",
    "print(\"Размер матрицы:\", tf_features_test.shape)"
   ]
  },
  {
   "cell_type": "code",
   "execution_count": 21,
   "metadata": {},
   "outputs": [],
   "source": [
    "features_train_cat = features_train[:2000]\n",
    "features_test_cat = features_test[:800]\n",
    "target_train_cat = target_train[:2000]\n",
    "target_test_cat = target_test[:800]"
   ]
  },
  {
   "cell_type": "code",
   "execution_count": 22,
   "metadata": {},
   "outputs": [],
   "source": [
    "stopwords = set(nltk_stopwords.words('english'))\n",
    "count_tf_idf = TfidfVectorizer(stop_words=stopwords) \n",
    "\n",
    "features_train_cat = count_tf_idf.fit_transform(features_train_cat) \n",
    "features_test_cat = count_tf_idf.transform(features_test_cat)"
   ]
  },
  {
   "cell_type": "code",
   "execution_count": 23,
   "metadata": {},
   "outputs": [
    {
     "name": "stdout",
     "output_type": "stream",
     "text": [
      "Размер матрицы: (2000, 10985)\n",
      "Размер матрицы: (800, 10985)\n",
      "Размер матрицы: (2000,)\n",
      "Размер матрицы: (800,)\n"
     ]
    }
   ],
   "source": [
    "print(\"Размер матрицы:\", features_train_cat.shape)\n",
    "print(\"Размер матрицы:\", features_test_cat.shape)\n",
    "print(\"Размер матрицы:\", target_train_cat.shape)\n",
    "print(\"Размер матрицы:\", target_test_cat.shape)"
   ]
  },
  {
   "cell_type": "markdown",
   "metadata": {},
   "source": [
    "## Обучение"
   ]
  },
  {
   "cell_type": "code",
   "execution_count": 54,
   "metadata": {},
   "outputs": [
    {
     "name": "stdout",
     "output_type": "stream",
     "text": [
      "0.7523677683341236\n"
     ]
    }
   ],
   "source": [
    "model_lr_pl = Pipeline(\n",
    "    [\n",
    "        (\"vectorizer\", TfidfVectorizer()),\n",
    "        (\"clf\", LogisticRegression(solver='liblinear', fit_intercept=True, class_weight='balanced', random_state=34)),\n",
    "    ]\n",
    ")\n",
    "\n",
    "\n",
    "model_lr_pl.fit(features_train, target_train)\n",
    "train_pred_pl = model_lr.predict(tf_features_train)\n",
    "\n",
    "\n",
    "F1_lr_pl = cross_val_score(model_lr, tf_features_train, target_train, scoring='f1', cv=3).mean()\n",
    "print(F1_lr_pl)"
   ]
  },
  {
   "cell_type": "code",
   "execution_count": 42,
   "metadata": {},
   "outputs": [
    {
     "name": "stdout",
     "output_type": "stream",
     "text": [
      "0.7523677683341236\n"
     ]
    }
   ],
   "source": [
    "model_lr = LogisticRegression(solver='liblinear', fit_intercept=True, class_weight='balanced', random_state=34)\n",
    "\n",
    "model_lr.fit(tf_features_train, target_train)\n",
    "train_pred = model_lr.predict(tf_features_train)\n",
    "\n",
    "\n",
    "F1_lr = cross_val_score(model_lr, tf_features_train, target_train, scoring='f1', cv=3).mean()\n",
    "print(F1_lr)"
   ]
  },
  {
   "cell_type": "code",
   "execution_count": 19,
   "metadata": {},
   "outputs": [
    {
     "name": "stdout",
     "output_type": "stream",
     "text": [
      "0.0006587615283267455\n"
     ]
    }
   ],
   "source": [
    "model_forest=RandomForestClassifier(random_state=34, n_estimators=100)\n",
    "model_forest.fit(tf_features_train, target_train)\n",
    "prediction_forest=model_forest.predict(tf_features_train)\n",
    "\n",
    "param_grid = { 'n_estimators': range(10, 50, 10),\n",
    "                     'max_depth': range(1, 10, 2)}\n",
    "\n",
    "clf = RandomForestClassifier()\n",
    "\n",
    "grid_rf = GridSearchCV(clf, param_grid, scoring='f1', cv=3)\n",
    "grid_rf.fit(tf_features_train, target_train)\n",
    "F1_rf = grid_rf.best_score_\n",
    "print(F1_rf)"
   ]
  },
  {
   "cell_type": "code",
   "execution_count": 24,
   "metadata": {
    "collapsed": true
   },
   "outputs": [
    {
     "name": "stderr",
     "output_type": "stream",
     "text": [
      "Custom logger is already specified. Specify more than one logger at same time is not thread safe."
     ]
    },
    {
     "name": "stdout",
     "output_type": "stream",
     "text": [
      "Learning rate set to 0.037607\n",
      "0:\tlearn: 0.6611445\ttest: 0.6612065\tbest: 0.6612065 (0)\ttotal: 109ms\tremaining: 1m 48s\n",
      "100:\tlearn: 0.2079364\ttest: 0.2080203\tbest: 0.2080203 (100)\ttotal: 8.06s\tremaining: 1m 11s\n",
      "200:\tlearn: 0.1697979\ttest: 0.1698750\tbest: 0.1698750 (200)\ttotal: 15.8s\tremaining: 1m 2s\n",
      "300:\tlearn: 0.1369880\ttest: 0.1370598\tbest: 0.1370598 (300)\ttotal: 23.6s\tremaining: 54.7s\n",
      "400:\tlearn: 0.1135031\ttest: 0.1135692\tbest: 0.1135692 (400)\ttotal: 31.5s\tremaining: 47.1s\n",
      "500:\tlearn: 0.0958543\ttest: 0.0959141\tbest: 0.0959141 (500)\ttotal: 39.4s\tremaining: 39.3s\n",
      "600:\tlearn: 0.0813108\ttest: 0.0813691\tbest: 0.0813691 (600)\ttotal: 47.4s\tremaining: 31.5s\n",
      "700:\tlearn: 0.0699738\ttest: 0.0700254\tbest: 0.0700254 (700)\ttotal: 55.6s\tremaining: 23.7s\n",
      "800:\tlearn: 0.0604995\ttest: 0.0605475\tbest: 0.0605475 (800)\ttotal: 1m 3s\tremaining: 15.8s\n",
      "900:\tlearn: 0.0528059\ttest: 0.0528482\tbest: 0.0528482 (900)\ttotal: 1m 11s\tremaining: 7.87s\n",
      "999:\tlearn: 0.0464736\ttest: 0.0465103\tbest: 0.0465103 (999)\ttotal: 1m 19s\tremaining: 0us\n",
      "\n",
      "bestTest = 0.04651025819\n",
      "bestIteration = 999\n",
      "\n",
      "0:\tlearn: 0.6121231\ttotal: 22ms\tremaining: 22s\n",
      "100:\tlearn: 0.1502562\ttotal: 2.17s\tremaining: 19.4s\n",
      "200:\tlearn: 0.0971051\ttotal: 4.4s\tremaining: 17.5s\n",
      "300:\tlearn: 0.0674293\ttotal: 6.66s\tremaining: 15.5s\n",
      "400:\tlearn: 0.0488279\ttotal: 8.96s\tremaining: 13.4s\n",
      "500:\tlearn: 0.0378616\ttotal: 11.2s\tremaining: 11.1s\n",
      "600:\tlearn: 0.0303656\ttotal: 13.4s\tremaining: 8.93s\n",
      "700:\tlearn: 0.0250696\ttotal: 15.7s\tremaining: 6.7s\n",
      "800:\tlearn: 0.0211677\ttotal: 18.2s\tremaining: 4.52s\n",
      "900:\tlearn: 0.0180249\ttotal: 20.5s\tremaining: 2.25s\n",
      "999:\tlearn: 0.0156735\ttotal: 22.7s\tremaining: 0us\n",
      "0:\tlearn: 0.6106864\ttotal: 24.7ms\tremaining: 24.7s\n",
      "100:\tlearn: 0.1630070\ttotal: 2.17s\tremaining: 19.3s\n",
      "200:\tlearn: 0.1052846\ttotal: 4.44s\tremaining: 17.6s\n",
      "300:\tlearn: 0.0748783\ttotal: 6.6s\tremaining: 15.3s\n",
      "400:\tlearn: 0.0563336\ttotal: 8.82s\tremaining: 13.2s\n",
      "500:\tlearn: 0.0439896\ttotal: 11s\tremaining: 10.9s\n",
      "600:\tlearn: 0.0349166\ttotal: 13.1s\tremaining: 8.73s\n",
      "700:\tlearn: 0.0287686\ttotal: 15.4s\tremaining: 6.55s\n",
      "800:\tlearn: 0.0243177\ttotal: 17.5s\tremaining: 4.36s\n",
      "900:\tlearn: 0.0209449\ttotal: 19.8s\tremaining: 2.17s\n",
      "999:\tlearn: 0.0181003\ttotal: 22s\tremaining: 0us\n",
      "0:\tlearn: 0.6055927\ttotal: 25.4ms\tremaining: 25.4s\n",
      "100:\tlearn: 0.1530686\ttotal: 2.52s\tremaining: 22.4s\n",
      "200:\tlearn: 0.0945863\ttotal: 4.83s\tremaining: 19.2s\n",
      "300:\tlearn: 0.0637094\ttotal: 7.15s\tremaining: 16.6s\n",
      "400:\tlearn: 0.0459974\ttotal: 9.66s\tremaining: 14.4s\n",
      "500:\tlearn: 0.0347313\ttotal: 12.3s\tremaining: 12.2s\n",
      "600:\tlearn: 0.0274490\ttotal: 14.9s\tremaining: 9.87s\n",
      "700:\tlearn: 0.0226127\ttotal: 17.4s\tremaining: 7.4s\n",
      "800:\tlearn: 0.0189928\ttotal: 20.1s\tremaining: 5s\n",
      "900:\tlearn: 0.0161628\ttotal: 22.6s\tremaining: 2.48s\n",
      "999:\tlearn: 0.0141208\ttotal: 25.1s\tremaining: 0us\n",
      "0:\tlearn: 0.4378439\ttotal: 21.9ms\tremaining: 21.9s\n",
      "100:\tlearn: 0.0462671\ttotal: 2.4s\tremaining: 21.4s\n",
      "200:\tlearn: 0.0194977\ttotal: 4.82s\tremaining: 19.2s\n",
      "300:\tlearn: 0.0114077\ttotal: 7s\tremaining: 16.3s\n",
      "400:\tlearn: 0.0079125\ttotal: 9.18s\tremaining: 13.7s\n",
      "500:\tlearn: 0.0060743\ttotal: 11.4s\tremaining: 11.4s\n",
      "600:\tlearn: 0.0049328\ttotal: 13.7s\tremaining: 9.1s\n",
      "700:\tlearn: 0.0040208\ttotal: 16s\tremaining: 6.81s\n",
      "800:\tlearn: 0.0034940\ttotal: 18.2s\tremaining: 4.53s\n",
      "900:\tlearn: 0.0031448\ttotal: 20.6s\tremaining: 2.26s\n",
      "999:\tlearn: 0.0031448\ttotal: 23.1s\tremaining: 0us\n",
      "0:\tlearn: 0.4337455\ttotal: 38.3ms\tremaining: 38.3s\n",
      "100:\tlearn: 0.0514458\ttotal: 2.64s\tremaining: 23.5s\n",
      "200:\tlearn: 0.0224490\ttotal: 4.98s\tremaining: 19.8s\n",
      "300:\tlearn: 0.0137099\ttotal: 7.5s\tremaining: 17.4s\n",
      "400:\tlearn: 0.0092464\ttotal: 10s\tremaining: 15s\n",
      "500:\tlearn: 0.0069388\ttotal: 12.3s\tremaining: 12.3s\n",
      "600:\tlearn: 0.0056985\ttotal: 14.7s\tremaining: 9.74s\n",
      "700:\tlearn: 0.0046859\ttotal: 17.1s\tremaining: 7.3s\n",
      "800:\tlearn: 0.0040700\ttotal: 19.6s\tremaining: 4.87s\n",
      "900:\tlearn: 0.0035535\ttotal: 22s\tremaining: 2.42s\n",
      "999:\tlearn: 0.0032524\ttotal: 24.4s\tremaining: 0us\n",
      "0:\tlearn: 0.4245875\ttotal: 27.4ms\tremaining: 27.3s\n",
      "100:\tlearn: 0.0428612\ttotal: 2.58s\tremaining: 23s\n",
      "200:\tlearn: 0.0174841\ttotal: 5.03s\tremaining: 20s\n",
      "300:\tlearn: 0.0103648\ttotal: 7.43s\tremaining: 17.3s\n",
      "400:\tlearn: 0.0071609\ttotal: 9.88s\tremaining: 14.8s\n",
      "500:\tlearn: 0.0055327\ttotal: 12.5s\tremaining: 12.5s\n",
      "600:\tlearn: 0.0044709\ttotal: 15s\tremaining: 9.96s\n",
      "700:\tlearn: 0.0037623\ttotal: 17.5s\tremaining: 7.46s\n",
      "800:\tlearn: 0.0032580\ttotal: 19.9s\tremaining: 4.95s\n",
      "900:\tlearn: 0.0029018\ttotal: 22.5s\tremaining: 2.47s\n",
      "999:\tlearn: 0.0026592\ttotal: 24.9s\tremaining: 0us\n",
      "0:\tlearn: 0.6099540\ttotal: 507ms\tremaining: 8m 26s\n",
      "100:\tlearn: 0.0999084\ttotal: 50.6s\tremaining: 7m 30s\n",
      "200:\tlearn: 0.0396452\ttotal: 1m 41s\tremaining: 6m 44s\n",
      "300:\tlearn: 0.0211220\ttotal: 2m 32s\tremaining: 5m 53s\n",
      "400:\tlearn: 0.0137789\ttotal: 3m 20s\tremaining: 4m 59s\n",
      "500:\tlearn: 0.0099488\ttotal: 4m 8s\tremaining: 4m 7s\n",
      "600:\tlearn: 0.0077344\ttotal: 4m 58s\tremaining: 3m 18s\n",
      "700:\tlearn: 0.0062311\ttotal: 5m 50s\tremaining: 2m 29s\n",
      "800:\tlearn: 0.0052316\ttotal: 6m 41s\tremaining: 1m 39s\n",
      "900:\tlearn: 0.0045049\ttotal: 7m 34s\tremaining: 49.9s\n",
      "999:\tlearn: 0.0039372\ttotal: 8m 25s\tremaining: 0us\n",
      "0:\tlearn: 0.6107359\ttotal: 599ms\tremaining: 9m 58s\n",
      "100:\tlearn: 0.1108352\ttotal: 54.7s\tremaining: 8m 7s\n",
      "200:\tlearn: 0.0452921\ttotal: 1m 48s\tremaining: 7m 12s\n",
      "300:\tlearn: 0.0251479\ttotal: 2m 44s\tremaining: 6m 21s\n",
      "400:\tlearn: 0.0162872\ttotal: 3m 39s\tremaining: 5m 27s\n",
      "500:\tlearn: 0.0116603\ttotal: 4m 34s\tremaining: 4m 33s\n",
      "600:\tlearn: 0.0090278\ttotal: 5m 26s\tremaining: 3m 36s\n",
      "700:\tlearn: 0.0073209\ttotal: 6m 17s\tremaining: 2m 41s\n",
      "800:\tlearn: 0.0061017\ttotal: 7m 9s\tremaining: 1m 46s\n",
      "900:\tlearn: 0.0052300\ttotal: 8m 3s\tremaining: 53.2s\n",
      "999:\tlearn: 0.0045745\ttotal: 8m 56s\tremaining: 0us\n",
      "0:\tlearn: 0.6064449\ttotal: 590ms\tremaining: 9m 49s\n",
      "100:\tlearn: 0.1009518\ttotal: 56.5s\tremaining: 8m 22s\n",
      "200:\tlearn: 0.0381049\ttotal: 1m 51s\tremaining: 7m 24s\n",
      "300:\tlearn: 0.0200181\ttotal: 2m 46s\tremaining: 6m 27s\n",
      "400:\tlearn: 0.0128555\ttotal: 3m 41s\tremaining: 5m 31s\n",
      "500:\tlearn: 0.0091841\ttotal: 4m 36s\tremaining: 4m 35s\n",
      "600:\tlearn: 0.0071083\ttotal: 5m 31s\tremaining: 3m 40s\n",
      "700:\tlearn: 0.0057730\ttotal: 6m 25s\tremaining: 2m 44s\n",
      "800:\tlearn: 0.0048417\ttotal: 7m 18s\tremaining: 1m 48s\n",
      "900:\tlearn: 0.0041574\ttotal: 8m 11s\tremaining: 54s\n",
      "999:\tlearn: 0.0036495\ttotal: 9m 3s\tremaining: 0us\n",
      "0:\tlearn: 0.4313242\ttotal: 509ms\tremaining: 8m 28s\n",
      "100:\tlearn: 0.0128183\ttotal: 49.5s\tremaining: 7m 20s\n",
      "200:\tlearn: 0.0049565\ttotal: 1m 42s\tremaining: 6m 45s\n",
      "300:\tlearn: 0.0029919\ttotal: 2m 37s\tremaining: 6m 5s\n",
      "400:\tlearn: 0.0021543\ttotal: 3m 30s\tremaining: 5m 13s\n",
      "500:\tlearn: 0.0017305\ttotal: 4m 24s\tremaining: 4m 23s\n",
      "600:\tlearn: 0.0016957\ttotal: 5m 20s\tremaining: 3m 32s\n",
      "700:\tlearn: 0.0016911\ttotal: 6m 14s\tremaining: 2m 39s\n",
      "800:\tlearn: 0.0016911\ttotal: 7m 6s\tremaining: 1m 45s\n",
      "900:\tlearn: 0.0016911\ttotal: 7m 58s\tremaining: 52.6s\n",
      "999:\tlearn: 0.0016911\ttotal: 8m 51s\tremaining: 0us\n",
      "0:\tlearn: 0.4339782\ttotal: 520ms\tremaining: 8m 39s\n",
      "100:\tlearn: 0.0150035\ttotal: 52.6s\tremaining: 7m 48s\n",
      "200:\tlearn: 0.0056177\ttotal: 1m 44s\tremaining: 6m 56s\n",
      "300:\tlearn: 0.0034271\ttotal: 2m 36s\tremaining: 6m 4s\n",
      "400:\tlearn: 0.0024711\ttotal: 3m 27s\tremaining: 5m 10s\n",
      "500:\tlearn: 0.0020091\ttotal: 4m 20s\tremaining: 4m 19s\n",
      "600:\tlearn: 0.0019876\ttotal: 5m 13s\tremaining: 3m 28s\n",
      "700:\tlearn: 0.0018492\ttotal: 6m 5s\tremaining: 2m 35s\n",
      "800:\tlearn: 0.0017163\ttotal: 6m 57s\tremaining: 1m 43s\n",
      "900:\tlearn: 0.0016239\ttotal: 7m 47s\tremaining: 51.3s\n",
      "999:\tlearn: 0.0016239\ttotal: 8m 39s\tremaining: 0us\n",
      "0:\tlearn: 0.4266566\ttotal: 519ms\tremaining: 8m 38s\n",
      "100:\tlearn: 0.0122517\ttotal: 54.3s\tremaining: 8m 3s\n",
      "200:\tlearn: 0.0046585\ttotal: 1m 49s\tremaining: 7m 15s\n",
      "300:\tlearn: 0.0028107\ttotal: 2m 45s\tremaining: 6m 25s\n",
      "400:\tlearn: 0.0020189\ttotal: 3m 39s\tremaining: 5m 27s\n",
      "500:\tlearn: 0.0016349\ttotal: 4m 33s\tremaining: 4m 32s\n",
      "600:\tlearn: 0.0015137\ttotal: 5m 27s\tremaining: 3m 37s\n",
      "700:\tlearn: 0.0015137\ttotal: 6m 21s\tremaining: 2m 42s\n",
      "800:\tlearn: 0.0015137\ttotal: 7m 15s\tremaining: 1m 48s\n",
      "900:\tlearn: 0.0014919\ttotal: 8m 8s\tremaining: 53.6s\n",
      "999:\tlearn: 0.0014803\ttotal: 8m 59s\tremaining: 0us\n",
      "0:\tlearn: 0.4354625\ttotal: 373ms\tremaining: 6m 12s\n",
      "100:\tlearn: 0.0191377\ttotal: 1m 11s\tremaining: 10m 38s\n",
      "200:\tlearn: 0.0073737\ttotal: 2m 23s\tremaining: 9m 29s\n",
      "300:\tlearn: 0.0043980\ttotal: 3m 33s\tremaining: 8m 15s\n",
      "400:\tlearn: 0.0031493\ttotal: 4m 43s\tremaining: 7m 3s\n",
      "500:\tlearn: 0.0024694\ttotal: 5m 53s\tremaining: 5m 52s\n",
      "600:\tlearn: 0.0020925\ttotal: 7m 4s\tremaining: 4m 41s\n",
      "700:\tlearn: 0.0019280\ttotal: 8m 15s\tremaining: 3m 31s\n",
      "800:\tlearn: 0.0019222\ttotal: 9m 26s\tremaining: 2m 20s\n",
      "900:\tlearn: 0.0019222\ttotal: 10m 35s\tremaining: 1m 9s\n",
      "999:\tlearn: 0.0019159\ttotal: 11m 50s\tremaining: 0us\n",
      "0.56635381758492\n"
     ]
    }
   ],
   "source": [
    "model_cat = CatBoostClassifier(n_estimators=1000, random_state=34, verbose=100)\n",
    "model_cat.fit(features_train_cat, target_train_cat, eval_set=(features_train_cat,target_train_cat))\n",
    "\n",
    "params_cat = {\n",
    "    'learning_rate': [0.1,0.4],\n",
    "    'depth': [4, 10],\n",
    "    }\n",
    "\n",
    "grid_cat = GridSearchCV(estimator=model_cat,param_grid = params_cat, scoring='f1', cv=3)\n",
    "grid_cat.fit(features_train_cat, target_train_cat)\n",
    "F1_cat = grid_cat.best_score_\n",
    "print(F1_cat)"
   ]
  },
  {
   "cell_type": "code",
   "execution_count": 28,
   "metadata": {},
   "outputs": [
    {
     "name": "stdout",
     "output_type": "stream",
     "text": [
      "0.56635381758492\n"
     ]
    }
   ],
   "source": [
    "F1_cat = grid_cat.best_score_\n",
    "print(F1_cat)"
   ]
  },
  {
   "cell_type": "markdown",
   "metadata": {},
   "source": [
    "## Выводы"
   ]
  },
  {
   "cell_type": "code",
   "execution_count": 58,
   "metadata": {},
   "outputs": [
    {
     "data": {
      "text/html": [
       "<style  type=\"text/css\" >\n",
       "#T_21a2f_row0_col0,#T_21a2f_row1_col0{\n",
       "            background-color:  coral;\n",
       "        }#T_21a2f_row2_col0{\n",
       "            background-color:  yellowgreen;\n",
       "        }</style><table id=\"T_21a2f_\" ><thead>    <tr>        <th class=\"blank level0\" ></th>        <th class=\"col_heading level0 col0\" >F1 модели</th>    </tr></thead><tbody>\n",
       "                <tr>\n",
       "                        <th id=\"T_21a2f_level0_row0\" class=\"row_heading level0 row0\" >LogisticRegression</th>\n",
       "                        <td id=\"T_21a2f_row0_col0\" class=\"data row0 col0\" >0.752368</td>\n",
       "            </tr>\n",
       "            <tr>\n",
       "                        <th id=\"T_21a2f_level0_row1\" class=\"row_heading level0 row1\" >LogisticRegression_pl</th>\n",
       "                        <td id=\"T_21a2f_row1_col0\" class=\"data row1 col0\" >0.752368</td>\n",
       "            </tr>\n",
       "            <tr>\n",
       "                        <th id=\"T_21a2f_level0_row2\" class=\"row_heading level0 row2\" >RandomForestClassifier</th>\n",
       "                        <td id=\"T_21a2f_row2_col0\" class=\"data row2 col0\" >0.000659</td>\n",
       "            </tr>\n",
       "            <tr>\n",
       "                        <th id=\"T_21a2f_level0_row3\" class=\"row_heading level0 row3\" >CatBoostClassifier</th>\n",
       "                        <td id=\"T_21a2f_row3_col0\" class=\"data row3 col0\" >0.566354</td>\n",
       "            </tr>\n",
       "    </tbody></table>"
      ],
      "text/plain": [
       "<pandas.io.formats.style.Styler at 0x7f4206dae670>"
      ]
     },
     "execution_count": 58,
     "metadata": {},
     "output_type": "execute_result"
    }
   ],
   "source": [
    "column=['F1 модели']\n",
    "\n",
    "general_tabl = pd.DataFrame(index=['F1 модели'], columns=['LogisticRegression', 'LogisticRegression_pl' , 'RandomForestClassifier','CatBoostClassifier'])\n",
    "general_tabl['LogisticRegression'] = F1_lr_pl\n",
    "general_tabl['LogisticRegression_pl'] = F1_lr\n",
    "general_tabl['RandomForestClassifier'] = F1_rf\n",
    "general_tabl['CatBoostClassifier'] = F1_cat\n",
    "\n",
    "general_tabl.T.style.highlight_min(color='yellowgreen',subset=column).highlight_null(null_color='lightgrey').highlight_max(color='coral',subset=column)"
   ]
  },
  {
   "cell_type": "code",
   "execution_count": 45,
   "metadata": {},
   "outputs": [
    {
     "name": "stdout",
     "output_type": "stream",
     "text": [
      "0.75\n"
     ]
    }
   ],
   "source": [
    "predict_lr_t=model_lr.predict(tf_features_test)\n",
    "F1_lr_t = round(f1_score(target_test, predict_lr_t), 2)\n",
    "print(F1_lr_t)"
   ]
  },
  {
   "cell_type": "code",
   "execution_count": 56,
   "metadata": {},
   "outputs": [
    {
     "name": "stdout",
     "output_type": "stream",
     "text": [
      "0.75\n"
     ]
    }
   ],
   "source": [
    "predict_lr_t_pl=model_lr_pl.predict(features_test)\n",
    "F1_lr_t_pl = round(f1_score(target_test, predict_lr_t), 2)\n",
    "print(F1_lr_t_pl)"
   ]
  },
  {
   "cell_type": "code",
   "execution_count": 27,
   "metadata": {},
   "outputs": [
    {
     "name": "stdout",
     "output_type": "stream",
     "text": [
      "0.581\n"
     ]
    }
   ],
   "source": [
    "predict_cat_t=grid_cat.predict(features_test_cat)\n",
    "F1_cat_t =  round(f1_score(target_test_cat, predict_cat_t), 3)\n",
    "print(F1_cat_t)"
   ]
  },
  {
   "cell_type": "markdown",
   "metadata": {},
   "source": [
    "# Вывод:\n",
    "\n",
    "Стоит отметить, что CatBoost классификатор выполняет расчеты в десятки раз дольше, нежели Логистическая регрессия, полученное при этом значение метрики f1 ниже, чем у Логистической регрессии, возможно при увеличении количества итераций мы получим результат будет стремиться к логистической регрессии и может быть лучше, но и количество времени на обучение мы потратим колосальное.\n",
    "В связи с этим модели Логистическая регрессия и CatBoost классификатор подходят для решения поставленной задачи. Однако, для экономии времени и вычислителной мощности Логистическая регрессия является оптимальным решением для данной задачи.    "
   ]
  }
 ],
 "metadata": {
  "ExecuteTimeLog": [
   {
    "duration": 417,
    "start_time": "2022-10-16T17:10:09.781Z"
   },
   {
    "duration": 78,
    "start_time": "2022-10-16T17:11:06.071Z"
   },
   {
    "duration": 57,
    "start_time": "2022-10-16T17:11:10.899Z"
   },
   {
    "duration": 35,
    "start_time": "2022-10-16T17:11:26.397Z"
   },
   {
    "duration": 2469,
    "start_time": "2022-10-16T17:12:23.889Z"
   },
   {
    "duration": 16,
    "start_time": "2022-10-16T17:12:44.557Z"
   },
   {
    "duration": 8,
    "start_time": "2022-10-16T17:12:53.624Z"
   },
   {
    "duration": 22,
    "start_time": "2022-10-16T17:13:37.548Z"
   },
   {
    "duration": 20,
    "start_time": "2022-10-16T17:14:01.101Z"
   },
   {
    "duration": 195,
    "start_time": "2022-10-16T17:16:15.873Z"
   },
   {
    "duration": 1082,
    "start_time": "2022-10-18T11:02:00.042Z"
   },
   {
    "duration": 4261,
    "start_time": "2022-10-18T11:02:01.126Z"
   },
   {
    "duration": 15,
    "start_time": "2022-10-18T11:02:05.388Z"
   },
   {
    "duration": 35,
    "start_time": "2022-10-18T11:02:05.404Z"
   },
   {
    "duration": 41,
    "start_time": "2022-10-18T11:02:05.441Z"
   },
   {
    "duration": 2089,
    "start_time": "2022-10-18T11:02:05.483Z"
   },
   {
    "duration": 0,
    "start_time": "2022-10-18T11:02:07.573Z"
   },
   {
    "duration": 5,
    "start_time": "2022-10-18T11:02:34.848Z"
   },
   {
    "duration": 47,
    "start_time": "2022-10-18T11:02:48.360Z"
   },
   {
    "duration": 1127,
    "start_time": "2022-10-18T11:02:56.113Z"
   },
   {
    "duration": 3267,
    "start_time": "2022-10-18T11:02:57.242Z"
   },
   {
    "duration": 15,
    "start_time": "2022-10-18T11:03:00.511Z"
   },
   {
    "duration": 29,
    "start_time": "2022-10-18T11:03:00.528Z"
   },
   {
    "duration": 27,
    "start_time": "2022-10-18T11:03:00.559Z"
   },
   {
    "duration": 2729,
    "start_time": "2022-10-18T11:03:00.587Z"
   },
   {
    "duration": 3,
    "start_time": "2022-10-18T11:03:03.318Z"
   },
   {
    "duration": 3,
    "start_time": "2022-10-18T11:05:36.182Z"
   },
   {
    "duration": 173,
    "start_time": "2022-10-18T11:05:39.905Z"
   },
   {
    "duration": 32,
    "start_time": "2022-10-18T11:06:04.894Z"
   },
   {
    "duration": 683,
    "start_time": "2022-10-18T11:06:18.733Z"
   },
   {
    "duration": 228,
    "start_time": "2022-10-18T11:11:29.284Z"
   },
   {
    "duration": 8,
    "start_time": "2022-10-18T11:12:53.754Z"
   },
   {
    "duration": 148,
    "start_time": "2022-10-18T11:14:06.952Z"
   },
   {
    "duration": 79,
    "start_time": "2022-10-18T11:14:13.669Z"
   },
   {
    "duration": 11,
    "start_time": "2022-10-18T11:16:48.667Z"
   },
   {
    "duration": 67,
    "start_time": "2022-10-18T11:16:50.297Z"
   },
   {
    "duration": 7,
    "start_time": "2022-10-18T11:17:11.835Z"
   },
   {
    "duration": 4111,
    "start_time": "2022-10-18T11:17:18.023Z"
   },
   {
    "duration": 92,
    "start_time": "2022-10-18T11:17:24.156Z"
   },
   {
    "duration": 8,
    "start_time": "2022-10-18T11:17:29.533Z"
   },
   {
    "duration": 79,
    "start_time": "2022-10-18T11:19:50.228Z"
   },
   {
    "duration": 17,
    "start_time": "2022-10-18T11:21:35.769Z"
   },
   {
    "duration": 422,
    "start_time": "2022-10-18T11:22:01.078Z"
   },
   {
    "duration": 35,
    "start_time": "2022-10-18T11:22:06.874Z"
   },
   {
    "duration": 149,
    "start_time": "2022-10-18T11:22:25.958Z"
   },
   {
    "duration": 146,
    "start_time": "2022-10-18T11:22:30.480Z"
   },
   {
    "duration": 126,
    "start_time": "2022-10-18T11:23:37.118Z"
   },
   {
    "duration": 4,
    "start_time": "2022-10-18T11:29:35.379Z"
   },
   {
    "duration": 15,
    "start_time": "2022-10-18T11:31:06.238Z"
   },
   {
    "duration": 11,
    "start_time": "2022-10-18T11:31:07.340Z"
   },
   {
    "duration": 79,
    "start_time": "2022-10-18T11:31:18.551Z"
   },
   {
    "duration": 10,
    "start_time": "2022-10-18T11:31:19.205Z"
   },
   {
    "duration": 5,
    "start_time": "2022-10-18T11:31:45.414Z"
   },
   {
    "duration": 197,
    "start_time": "2022-10-18T11:31:50.607Z"
   },
   {
    "duration": 5,
    "start_time": "2022-10-18T11:32:50.523Z"
   },
   {
    "duration": 11,
    "start_time": "2022-10-18T11:32:56.178Z"
   },
   {
    "duration": 5,
    "start_time": "2022-10-18T11:33:35.708Z"
   },
   {
    "duration": 6315,
    "start_time": "2022-10-18T11:33:40.620Z"
   },
   {
    "duration": 6926,
    "start_time": "2022-10-18T11:35:12.076Z"
   },
   {
    "duration": 6666,
    "start_time": "2022-10-18T11:35:26.072Z"
   },
   {
    "duration": 23,
    "start_time": "2022-10-18T11:38:15.841Z"
   },
   {
    "duration": 5,
    "start_time": "2022-10-18T11:38:34.879Z"
   },
   {
    "duration": 48042,
    "start_time": "2022-10-18T11:40:17.569Z"
   },
   {
    "duration": 6,
    "start_time": "2022-10-18T11:41:38.165Z"
   },
   {
    "duration": 243786,
    "start_time": "2022-10-18T11:41:45.019Z"
   },
   {
    "duration": 0,
    "start_time": "2022-10-18T11:54:51.349Z"
   },
   {
    "duration": 0,
    "start_time": "2022-10-18T11:54:51.351Z"
   },
   {
    "duration": 0,
    "start_time": "2022-10-18T11:54:51.352Z"
   },
   {
    "duration": 560394,
    "start_time": "2022-10-18T11:54:57.510Z"
   },
   {
    "duration": 0,
    "start_time": "2022-10-18T12:04:17.906Z"
   },
   {
    "duration": 0,
    "start_time": "2022-10-18T12:04:17.907Z"
   },
   {
    "duration": 2316008,
    "start_time": "2022-10-18T12:05:43.316Z"
   },
   {
    "duration": 0,
    "start_time": "2022-10-18T12:44:19.326Z"
   },
   {
    "duration": 0,
    "start_time": "2022-10-18T12:44:19.327Z"
   },
   {
    "duration": 2037,
    "start_time": "2022-10-18T12:44:31.923Z"
   },
   {
    "duration": 865,
    "start_time": "2022-10-18T12:44:33.963Z"
   },
   {
    "duration": 13,
    "start_time": "2022-10-18T12:44:34.830Z"
   },
   {
    "duration": 26,
    "start_time": "2022-10-18T12:44:34.845Z"
   },
   {
    "duration": 41,
    "start_time": "2022-10-18T12:44:34.873Z"
   },
   {
    "duration": 2812,
    "start_time": "2022-10-18T12:44:34.916Z"
   },
   {
    "duration": 4469,
    "start_time": "2022-10-18T12:44:37.731Z"
   },
   {
    "duration": 99,
    "start_time": "2022-10-18T12:44:42.201Z"
   },
   {
    "duration": 159,
    "start_time": "2022-10-18T12:44:42.301Z"
   },
   {
    "duration": 77,
    "start_time": "2022-10-18T12:44:42.462Z"
   },
   {
    "duration": 7062,
    "start_time": "2022-10-18T12:44:42.541Z"
   },
   {
    "duration": 137,
    "start_time": "2022-10-18T12:44:49.605Z"
   },
   {
    "duration": 0,
    "start_time": "2022-10-18T12:44:49.744Z"
   },
   {
    "duration": 0,
    "start_time": "2022-10-18T12:44:49.745Z"
   },
   {
    "duration": 0,
    "start_time": "2022-10-18T12:44:49.746Z"
   },
   {
    "duration": 0,
    "start_time": "2022-10-18T12:44:49.748Z"
   },
   {
    "duration": 1980,
    "start_time": "2022-10-18T12:45:09.013Z"
   },
   {
    "duration": 855,
    "start_time": "2022-10-18T12:45:10.996Z"
   },
   {
    "duration": 12,
    "start_time": "2022-10-18T12:45:11.853Z"
   },
   {
    "duration": 39,
    "start_time": "2022-10-18T12:45:11.866Z"
   },
   {
    "duration": 24,
    "start_time": "2022-10-18T12:45:11.909Z"
   },
   {
    "duration": 2925,
    "start_time": "2022-10-18T12:45:11.934Z"
   },
   {
    "duration": 4552,
    "start_time": "2022-10-18T12:45:14.861Z"
   },
   {
    "duration": 102,
    "start_time": "2022-10-18T12:45:19.415Z"
   },
   {
    "duration": 166,
    "start_time": "2022-10-18T12:45:19.520Z"
   },
   {
    "duration": 65,
    "start_time": "2022-10-18T12:45:19.697Z"
   },
   {
    "duration": 7172,
    "start_time": "2022-10-18T12:45:19.764Z"
   },
   {
    "duration": 3,
    "start_time": "2022-10-18T12:45:26.938Z"
   },
   {
    "duration": 256362,
    "start_time": "2022-10-18T12:45:26.943Z"
   },
   {
    "duration": 541757,
    "start_time": "2022-10-18T12:49:43.309Z"
   },
   {
    "duration": 0,
    "start_time": "2022-10-18T12:58:45.067Z"
   },
   {
    "duration": 0,
    "start_time": "2022-10-18T12:58:45.069Z"
   },
   {
    "duration": 67,
    "start_time": "2022-10-18T13:06:26.570Z"
   },
   {
    "duration": 3,
    "start_time": "2022-10-18T13:06:37.853Z"
   },
   {
    "duration": 2167,
    "start_time": "2022-10-18T13:07:47.241Z"
   },
   {
    "duration": 856,
    "start_time": "2022-10-18T13:07:49.409Z"
   },
   {
    "duration": 14,
    "start_time": "2022-10-18T13:07:50.267Z"
   },
   {
    "duration": 42,
    "start_time": "2022-10-18T13:07:50.284Z"
   },
   {
    "duration": 23,
    "start_time": "2022-10-18T13:07:50.328Z"
   },
   {
    "duration": 3001,
    "start_time": "2022-10-18T13:07:50.353Z"
   },
   {
    "duration": 4562,
    "start_time": "2022-10-18T13:07:53.357Z"
   },
   {
    "duration": 114,
    "start_time": "2022-10-18T13:07:57.921Z"
   },
   {
    "duration": 184,
    "start_time": "2022-10-18T13:07:58.037Z"
   },
   {
    "duration": 126,
    "start_time": "2022-10-18T13:07:58.224Z"
   },
   {
    "duration": 7252,
    "start_time": "2022-10-18T13:07:58.353Z"
   },
   {
    "duration": 2,
    "start_time": "2022-10-18T13:08:05.607Z"
   },
   {
    "duration": 28,
    "start_time": "2022-10-18T13:08:05.611Z"
   },
   {
    "duration": 256870,
    "start_time": "2022-10-18T13:08:05.641Z"
   },
   {
    "duration": 3543742,
    "start_time": "2022-10-18T13:12:22.514Z"
   },
   {
    "duration": 1813,
    "start_time": "2022-10-18T14:32:18.941Z"
   },
   {
    "duration": 869,
    "start_time": "2022-10-18T14:32:20.756Z"
   },
   {
    "duration": 12,
    "start_time": "2022-10-18T14:32:21.627Z"
   },
   {
    "duration": 34,
    "start_time": "2022-10-18T14:32:21.641Z"
   },
   {
    "duration": 30,
    "start_time": "2022-10-18T14:32:21.677Z"
   },
   {
    "duration": 3048,
    "start_time": "2022-10-18T14:32:21.709Z"
   },
   {
    "duration": 4443,
    "start_time": "2022-10-18T14:32:24.758Z"
   },
   {
    "duration": 101,
    "start_time": "2022-10-18T14:32:29.203Z"
   },
   {
    "duration": 160,
    "start_time": "2022-10-18T14:32:29.306Z"
   },
   {
    "duration": 68,
    "start_time": "2022-10-18T14:32:29.469Z"
   },
   {
    "duration": 7103,
    "start_time": "2022-10-18T14:32:29.539Z"
   },
   {
    "duration": 3,
    "start_time": "2022-10-18T14:32:36.645Z"
   },
   {
    "duration": 16,
    "start_time": "2022-10-18T14:32:36.649Z"
   },
   {
    "duration": 60,
    "start_time": "2022-10-18T14:32:36.667Z"
   },
   {
    "duration": 255580,
    "start_time": "2022-10-18T14:32:36.730Z"
   },
   {
    "duration": 1919,
    "start_time": "2022-10-18T14:42:58.721Z"
   },
   {
    "duration": 900,
    "start_time": "2022-10-18T14:43:00.643Z"
   },
   {
    "duration": 16,
    "start_time": "2022-10-18T14:43:01.544Z"
   },
   {
    "duration": 48,
    "start_time": "2022-10-18T14:43:01.562Z"
   },
   {
    "duration": 35,
    "start_time": "2022-10-18T14:43:01.612Z"
   },
   {
    "duration": 3027,
    "start_time": "2022-10-18T14:43:01.649Z"
   },
   {
    "duration": 4761,
    "start_time": "2022-10-18T14:43:04.679Z"
   },
   {
    "duration": 115,
    "start_time": "2022-10-18T14:43:09.442Z"
   },
   {
    "duration": 172,
    "start_time": "2022-10-18T14:43:09.559Z"
   },
   {
    "duration": 65,
    "start_time": "2022-10-18T14:43:09.734Z"
   },
   {
    "duration": 7,
    "start_time": "2022-10-18T14:43:09.801Z"
   },
   {
    "duration": 63,
    "start_time": "2022-10-18T14:43:09.810Z"
   },
   {
    "duration": 21,
    "start_time": "2022-10-18T14:43:09.876Z"
   },
   {
    "duration": 3,
    "start_time": "2022-10-18T14:43:09.899Z"
   },
   {
    "duration": 6,
    "start_time": "2022-10-18T14:43:09.905Z"
   },
   {
    "duration": 216,
    "start_time": "2022-10-18T14:43:09.913Z"
   },
   {
    "duration": 57429,
    "start_time": "2022-10-18T14:43:10.131Z"
   },
   {
    "duration": 2125,
    "start_time": "2022-10-18T14:44:31.827Z"
   },
   {
    "duration": 923,
    "start_time": "2022-10-18T14:44:33.954Z"
   },
   {
    "duration": 20,
    "start_time": "2022-10-18T14:44:34.879Z"
   },
   {
    "duration": 34,
    "start_time": "2022-10-18T14:44:34.901Z"
   },
   {
    "duration": 23,
    "start_time": "2022-10-18T14:44:34.939Z"
   },
   {
    "duration": 2968,
    "start_time": "2022-10-18T14:44:34.965Z"
   },
   {
    "duration": 4887,
    "start_time": "2022-10-18T14:44:37.935Z"
   },
   {
    "duration": 103,
    "start_time": "2022-10-18T14:44:42.825Z"
   },
   {
    "duration": 159,
    "start_time": "2022-10-18T14:44:42.930Z"
   },
   {
    "duration": 49,
    "start_time": "2022-10-18T14:44:43.096Z"
   },
   {
    "duration": 11,
    "start_time": "2022-10-18T14:44:43.148Z"
   },
   {
    "duration": 480,
    "start_time": "2022-10-18T14:44:43.161Z"
   },
   {
    "duration": 3,
    "start_time": "2022-10-18T14:44:43.643Z"
   },
   {
    "duration": 23,
    "start_time": "2022-10-18T14:44:43.648Z"
   },
   {
    "duration": 23,
    "start_time": "2022-10-18T14:44:43.673Z"
   },
   {
    "duration": 39299,
    "start_time": "2022-10-18T14:44:43.699Z"
   },
   {
    "duration": 192726,
    "start_time": "2022-10-18T14:45:22.999Z"
   },
   {
    "duration": 1942,
    "start_time": "2022-10-18T15:59:09.765Z"
   },
   {
    "duration": 854,
    "start_time": "2022-10-18T15:59:11.710Z"
   },
   {
    "duration": 12,
    "start_time": "2022-10-18T15:59:12.567Z"
   },
   {
    "duration": 36,
    "start_time": "2022-10-18T15:59:12.581Z"
   },
   {
    "duration": 24,
    "start_time": "2022-10-18T15:59:12.619Z"
   },
   {
    "duration": 2898,
    "start_time": "2022-10-18T15:59:12.645Z"
   },
   {
    "duration": 4984,
    "start_time": "2022-10-18T15:59:15.545Z"
   },
   {
    "duration": 102,
    "start_time": "2022-10-18T15:59:20.531Z"
   },
   {
    "duration": 177,
    "start_time": "2022-10-18T15:59:20.634Z"
   },
   {
    "duration": 53,
    "start_time": "2022-10-18T15:59:20.813Z"
   },
   {
    "duration": 28,
    "start_time": "2022-10-18T15:59:20.869Z"
   },
   {
    "duration": 474,
    "start_time": "2022-10-18T15:59:20.898Z"
   },
   {
    "duration": 2,
    "start_time": "2022-10-18T15:59:21.374Z"
   },
   {
    "duration": 5,
    "start_time": "2022-10-18T15:59:21.378Z"
   },
   {
    "duration": 19408,
    "start_time": "2022-10-18T15:59:21.397Z"
   },
   {
    "duration": 12917,
    "start_time": "2022-10-18T15:59:40.807Z"
   },
   {
    "duration": 1953,
    "start_time": "2022-10-18T16:26:50.679Z"
   },
   {
    "duration": 846,
    "start_time": "2022-10-18T16:26:52.634Z"
   },
   {
    "duration": 20,
    "start_time": "2022-10-18T16:26:53.481Z"
   },
   {
    "duration": 47,
    "start_time": "2022-10-18T16:26:53.504Z"
   },
   {
    "duration": 41,
    "start_time": "2022-10-18T16:26:53.553Z"
   },
   {
    "duration": 3024,
    "start_time": "2022-10-18T16:26:53.597Z"
   },
   {
    "duration": 4453,
    "start_time": "2022-10-18T16:26:56.624Z"
   },
   {
    "duration": 91,
    "start_time": "2022-10-18T16:27:01.079Z"
   },
   {
    "duration": 169,
    "start_time": "2022-10-18T16:27:01.172Z"
   },
   {
    "duration": 63,
    "start_time": "2022-10-18T16:27:01.344Z"
   },
   {
    "duration": 9,
    "start_time": "2022-10-18T16:27:01.410Z"
   },
   {
    "duration": 455,
    "start_time": "2022-10-18T16:27:01.421Z"
   },
   {
    "duration": 3,
    "start_time": "2022-10-18T16:27:01.878Z"
   },
   {
    "duration": 24,
    "start_time": "2022-10-18T16:27:01.882Z"
   },
   {
    "duration": 19191,
    "start_time": "2022-10-18T16:27:01.908Z"
   },
   {
    "duration": 12957,
    "start_time": "2022-10-18T16:27:21.101Z"
   },
   {
    "duration": 1896,
    "start_time": "2022-10-19T08:36:03.549Z"
   },
   {
    "duration": 2156,
    "start_time": "2022-10-19T08:36:05.447Z"
   },
   {
    "duration": 13,
    "start_time": "2022-10-19T08:36:07.605Z"
   },
   {
    "duration": 23,
    "start_time": "2022-10-19T08:36:07.620Z"
   },
   {
    "duration": 21,
    "start_time": "2022-10-19T08:36:07.644Z"
   },
   {
    "duration": 2406,
    "start_time": "2022-10-19T08:36:07.667Z"
   },
   {
    "duration": 3701,
    "start_time": "2022-10-19T08:36:10.075Z"
   },
   {
    "duration": 77,
    "start_time": "2022-10-19T08:36:13.777Z"
   },
   {
    "duration": 130,
    "start_time": "2022-10-19T08:36:13.856Z"
   },
   {
    "duration": 47,
    "start_time": "2022-10-19T08:36:13.988Z"
   },
   {
    "duration": 8,
    "start_time": "2022-10-19T08:36:14.037Z"
   },
   {
    "duration": 449,
    "start_time": "2022-10-19T08:36:14.047Z"
   },
   {
    "duration": 3,
    "start_time": "2022-10-19T08:36:14.499Z"
   },
   {
    "duration": 24,
    "start_time": "2022-10-19T08:36:14.504Z"
   },
   {
    "duration": 11470,
    "start_time": "2022-10-19T08:36:14.531Z"
   },
   {
    "duration": 4297,
    "start_time": "2022-10-19T08:36:26.006Z"
   },
   {
    "duration": 0,
    "start_time": "2022-10-19T08:36:30.304Z"
   },
   {
    "duration": 0,
    "start_time": "2022-10-19T08:36:30.305Z"
   },
   {
    "duration": 0,
    "start_time": "2022-10-19T08:36:30.307Z"
   },
   {
    "duration": 10636,
    "start_time": "2022-10-19T08:38:06.050Z"
   },
   {
    "duration": 1829,
    "start_time": "2022-10-19T09:57:04.488Z"
   },
   {
    "duration": 735,
    "start_time": "2022-10-19T09:57:06.319Z"
   },
   {
    "duration": 12,
    "start_time": "2022-10-19T09:57:07.055Z"
   },
   {
    "duration": 36,
    "start_time": "2022-10-19T09:57:07.069Z"
   },
   {
    "duration": 22,
    "start_time": "2022-10-19T09:57:07.106Z"
   },
   {
    "duration": 2564,
    "start_time": "2022-10-19T09:57:07.129Z"
   },
   {
    "duration": 3770,
    "start_time": "2022-10-19T09:57:09.695Z"
   },
   {
    "duration": 97,
    "start_time": "2022-10-19T09:57:13.467Z"
   },
   {
    "duration": 172,
    "start_time": "2022-10-19T09:57:13.565Z"
   },
   {
    "duration": 53,
    "start_time": "2022-10-19T09:57:13.739Z"
   },
   {
    "duration": 9,
    "start_time": "2022-10-19T09:57:13.794Z"
   },
   {
    "duration": 53,
    "start_time": "2022-10-19T09:57:13.805Z"
   },
   {
    "duration": 3,
    "start_time": "2022-10-19T09:57:13.859Z"
   },
   {
    "duration": 5,
    "start_time": "2022-10-19T09:57:13.863Z"
   },
   {
    "duration": 111,
    "start_time": "2022-10-19T09:57:13.870Z"
   },
   {
    "duration": 2754,
    "start_time": "2022-10-19T09:57:13.982Z"
   },
   {
    "duration": 0,
    "start_time": "2022-10-19T09:59:56.194Z"
   },
   {
    "duration": 0,
    "start_time": "2022-10-19T09:59:56.195Z"
   },
   {
    "duration": 0,
    "start_time": "2022-10-19T09:59:56.196Z"
   },
   {
    "duration": 0,
    "start_time": "2022-10-19T09:59:56.197Z"
   },
   {
    "duration": 0,
    "start_time": "2022-10-19T09:59:56.198Z"
   },
   {
    "duration": 0,
    "start_time": "2022-10-19T09:59:56.201Z"
   },
   {
    "duration": 0,
    "start_time": "2022-10-19T09:59:56.202Z"
   },
   {
    "duration": 0,
    "start_time": "2022-10-19T09:59:56.203Z"
   },
   {
    "duration": 0,
    "start_time": "2022-10-19T09:59:56.204Z"
   },
   {
    "duration": 0,
    "start_time": "2022-10-19T09:59:56.205Z"
   },
   {
    "duration": 0,
    "start_time": "2022-10-19T09:59:56.206Z"
   },
   {
    "duration": 1760,
    "start_time": "2022-10-19T10:00:03.706Z"
   },
   {
    "duration": 680,
    "start_time": "2022-10-19T10:00:05.468Z"
   },
   {
    "duration": 10,
    "start_time": "2022-10-19T10:00:06.150Z"
   },
   {
    "duration": 53,
    "start_time": "2022-10-19T10:00:06.162Z"
   },
   {
    "duration": 99,
    "start_time": "2022-10-19T10:00:06.217Z"
   },
   {
    "duration": 2606,
    "start_time": "2022-10-19T10:00:06.319Z"
   },
   {
    "duration": 3889,
    "start_time": "2022-10-19T10:00:08.927Z"
   },
   {
    "duration": 100,
    "start_time": "2022-10-19T10:00:12.818Z"
   },
   {
    "duration": 143,
    "start_time": "2022-10-19T10:00:12.919Z"
   },
   {
    "duration": 60,
    "start_time": "2022-10-19T10:00:13.064Z"
   },
   {
    "duration": 7,
    "start_time": "2022-10-19T10:00:13.126Z"
   },
   {
    "duration": 72,
    "start_time": "2022-10-19T10:00:13.135Z"
   },
   {
    "duration": 2,
    "start_time": "2022-10-19T10:00:13.209Z"
   },
   {
    "duration": 14,
    "start_time": "2022-10-19T10:00:13.212Z"
   },
   {
    "duration": 97,
    "start_time": "2022-10-19T10:00:13.227Z"
   },
   {
    "duration": 2708,
    "start_time": "2022-10-19T10:00:13.325Z"
   },
   {
    "duration": 1281959,
    "start_time": "2022-10-19T10:00:16.035Z"
   },
   {
    "duration": 3,
    "start_time": "2022-10-19T10:21:37.996Z"
   },
   {
    "duration": 264,
    "start_time": "2022-10-19T10:21:38.000Z"
   },
   {
    "duration": 4,
    "start_time": "2022-10-19T10:39:33.535Z"
   },
   {
    "duration": 3,
    "start_time": "2022-10-19T10:42:14.864Z"
   },
   {
    "duration": 3,
    "start_time": "2022-10-19T10:44:52.291Z"
   },
   {
    "duration": 10,
    "start_time": "2022-10-19T10:45:39.056Z"
   },
   {
    "duration": 10,
    "start_time": "2022-10-19T10:46:34.126Z"
   },
   {
    "duration": 18,
    "start_time": "2022-10-19T10:48:24.809Z"
   },
   {
    "duration": 25,
    "start_time": "2022-10-19T10:48:40.192Z"
   },
   {
    "duration": 4,
    "start_time": "2022-10-19T10:49:11.099Z"
   },
   {
    "duration": 26,
    "start_time": "2022-10-19T10:49:15.704Z"
   },
   {
    "duration": 26,
    "start_time": "2022-10-19T10:49:43.478Z"
   },
   {
    "duration": 4,
    "start_time": "2022-10-19T10:49:57.148Z"
   },
   {
    "duration": 30,
    "start_time": "2022-10-19T10:52:51.488Z"
   },
   {
    "duration": 29,
    "start_time": "2022-10-19T10:53:42.108Z"
   },
   {
    "duration": 20,
    "start_time": "2022-10-19T10:54:55.979Z"
   },
   {
    "duration": 11,
    "start_time": "2022-10-19T10:55:21.466Z"
   },
   {
    "duration": 24,
    "start_time": "2022-10-19T10:55:26.926Z"
   },
   {
    "duration": 28,
    "start_time": "2022-10-19T10:55:35.410Z"
   },
   {
    "duration": 205,
    "start_time": "2022-10-19T11:00:28.071Z"
   },
   {
    "duration": 27,
    "start_time": "2022-10-19T11:00:34.047Z"
   },
   {
    "duration": 27,
    "start_time": "2022-10-19T11:00:34.780Z"
   },
   {
    "duration": 19,
    "start_time": "2022-10-19T11:02:45.008Z"
   },
   {
    "duration": 44,
    "start_time": "2022-10-19T11:03:33.995Z"
   },
   {
    "duration": 55,
    "start_time": "2022-10-19T11:04:24.476Z"
   },
   {
    "duration": 22,
    "start_time": "2022-10-19T11:04:37.674Z"
   },
   {
    "duration": 14,
    "start_time": "2022-10-19T11:05:05.298Z"
   },
   {
    "duration": 6,
    "start_time": "2022-10-19T11:05:15.835Z"
   },
   {
    "duration": 17,
    "start_time": "2022-10-19T11:05:25.432Z"
   },
   {
    "duration": 14,
    "start_time": "2022-10-19T11:05:43.209Z"
   },
   {
    "duration": 9,
    "start_time": "2022-10-19T11:06:07.399Z"
   },
   {
    "duration": 5,
    "start_time": "2022-10-19T11:09:42.006Z"
   },
   {
    "duration": 1535211,
    "start_time": "2022-10-19T11:09:46.673Z"
   },
   {
    "duration": 15,
    "start_time": "2022-10-19T11:35:21.886Z"
   },
   {
    "duration": 15,
    "start_time": "2022-10-19T11:35:21.903Z"
   },
   {
    "duration": 9,
    "start_time": "2022-10-19T11:35:21.919Z"
   },
   {
    "duration": 47,
    "start_time": "2022-10-19T11:35:21.977Z"
   },
   {
    "duration": 21,
    "start_time": "2022-10-19T11:35:22.026Z"
   },
   {
    "duration": 5,
    "start_time": "2022-10-19T11:41:54.873Z"
   },
   {
    "duration": 10,
    "start_time": "2022-10-19T11:43:32.361Z"
   },
   {
    "duration": 9,
    "start_time": "2022-10-19T11:43:52.792Z"
   },
   {
    "duration": 3,
    "start_time": "2022-10-19T11:43:59.659Z"
   },
   {
    "duration": 5,
    "start_time": "2022-10-19T11:45:03.120Z"
   },
   {
    "duration": 3,
    "start_time": "2022-10-19T11:45:13.614Z"
   },
   {
    "duration": 9,
    "start_time": "2022-10-19T11:45:23.127Z"
   },
   {
    "duration": 3,
    "start_time": "2022-10-19T11:46:10.452Z"
   },
   {
    "duration": 3,
    "start_time": "2022-10-19T11:46:45.343Z"
   },
   {
    "duration": 16,
    "start_time": "2022-10-19T11:46:46.283Z"
   },
   {
    "duration": 10,
    "start_time": "2022-10-19T11:51:45.998Z"
   },
   {
    "duration": 3,
    "start_time": "2022-10-19T11:51:57.187Z"
   },
   {
    "duration": 49,
    "start_time": "2022-10-19T11:51:58.137Z"
   },
   {
    "duration": 4,
    "start_time": "2022-10-19T11:52:56.887Z"
   },
   {
    "duration": 1741,
    "start_time": "2022-10-19T11:54:17.442Z"
   },
   {
    "duration": 697,
    "start_time": "2022-10-19T11:54:19.185Z"
   },
   {
    "duration": 11,
    "start_time": "2022-10-19T11:54:19.883Z"
   },
   {
    "duration": 27,
    "start_time": "2022-10-19T11:54:19.901Z"
   },
   {
    "duration": 22,
    "start_time": "2022-10-19T11:54:19.929Z"
   },
   {
    "duration": 2612,
    "start_time": "2022-10-19T11:54:19.953Z"
   },
   {
    "duration": 3814,
    "start_time": "2022-10-19T11:54:22.567Z"
   },
   {
    "duration": 101,
    "start_time": "2022-10-19T11:54:26.382Z"
   },
   {
    "duration": 137,
    "start_time": "2022-10-19T11:54:26.485Z"
   },
   {
    "duration": 2,
    "start_time": "2022-10-19T11:54:26.624Z"
   },
   {
    "duration": 61,
    "start_time": "2022-10-19T11:54:26.628Z"
   },
   {
    "duration": 6120,
    "start_time": "2022-10-19T11:54:26.691Z"
   },
   {
    "duration": 3,
    "start_time": "2022-10-19T11:54:32.813Z"
   },
   {
    "duration": 140,
    "start_time": "2022-10-19T11:54:32.817Z"
   },
   {
    "duration": 5,
    "start_time": "2022-10-19T11:54:32.959Z"
   },
   {
    "duration": 10,
    "start_time": "2022-10-19T11:54:32.965Z"
   },
   {
    "duration": 155030,
    "start_time": "2022-10-19T11:54:32.976Z"
   },
   {
    "duration": 556462,
    "start_time": "2022-10-19T11:57:08.008Z"
   },
   {
    "duration": 3814061,
    "start_time": "2022-10-19T12:06:24.472Z"
   },
   {
    "duration": 4,
    "start_time": "2022-10-19T13:09:58.534Z"
   },
   {
    "duration": 62,
    "start_time": "2022-10-19T13:09:58.539Z"
   },
   {
    "duration": 4,
    "start_time": "2022-10-19T13:16:18.700Z"
   },
   {
    "duration": 2733,
    "start_time": "2022-10-19T13:16:22.457Z"
   },
   {
    "duration": 23,
    "start_time": "2022-10-19T13:17:19.048Z"
   },
   {
    "duration": 14,
    "start_time": "2022-10-19T13:18:21.478Z"
   },
   {
    "duration": 20,
    "start_time": "2022-10-19T13:18:34.597Z"
   },
   {
    "duration": 151551,
    "start_time": "2022-10-19T13:19:12.162Z"
   },
   {
    "duration": 16,
    "start_time": "2022-10-19T13:21:43.714Z"
   },
   {
    "duration": 71,
    "start_time": "2022-10-19T13:21:43.732Z"
   },
   {
    "duration": 18,
    "start_time": "2022-10-19T13:22:19.669Z"
   },
   {
    "duration": 16,
    "start_time": "2022-10-19T13:22:24.685Z"
   },
   {
    "duration": 25,
    "start_time": "2022-10-19T13:22:25.099Z"
   },
   {
    "duration": 127071,
    "start_time": "2022-10-19T13:22:43.346Z"
   },
   {
    "duration": 19,
    "start_time": "2022-10-19T13:24:50.419Z"
   },
   {
    "duration": 12,
    "start_time": "2022-10-19T13:24:50.439Z"
   },
   {
    "duration": 60,
    "start_time": "2022-10-19T13:24:50.453Z"
   },
   {
    "duration": 24,
    "start_time": "2022-10-19T13:24:50.515Z"
   },
   {
    "duration": 124899,
    "start_time": "2022-10-19T13:25:27.613Z"
   },
   {
    "duration": 16,
    "start_time": "2022-10-19T13:27:32.514Z"
   },
   {
    "duration": 14,
    "start_time": "2022-10-19T13:27:32.531Z"
   },
   {
    "duration": 60,
    "start_time": "2022-10-19T13:27:32.547Z"
   },
   {
    "duration": 42885,
    "start_time": "2022-10-19T13:28:16.939Z"
   },
   {
    "duration": 19,
    "start_time": "2022-10-19T13:28:59.826Z"
   },
   {
    "duration": 2,
    "start_time": "2022-10-19T13:28:59.847Z"
   },
   {
    "duration": 21,
    "start_time": "2022-10-19T13:28:59.851Z"
   },
   {
    "duration": 11960,
    "start_time": "2022-10-19T13:30:09.081Z"
   },
   {
    "duration": 0,
    "start_time": "2022-10-19T13:30:21.042Z"
   },
   {
    "duration": 0,
    "start_time": "2022-10-19T13:30:21.043Z"
   },
   {
    "duration": 15,
    "start_time": "2022-10-19T13:30:30.362Z"
   },
   {
    "duration": 43246,
    "start_time": "2022-10-19T13:32:26.875Z"
   },
   {
    "duration": 15,
    "start_time": "2022-10-19T13:33:10.123Z"
   },
   {
    "duration": 20,
    "start_time": "2022-10-19T13:33:10.139Z"
   },
   {
    "duration": 64,
    "start_time": "2022-10-19T13:37:13.471Z"
   },
   {
    "duration": 6175,
    "start_time": "2022-10-19T13:37:14.053Z"
   },
   {
    "duration": 3,
    "start_time": "2022-10-19T13:37:20.230Z"
   },
   {
    "duration": 172,
    "start_time": "2022-10-19T13:37:20.235Z"
   },
   {
    "duration": 4,
    "start_time": "2022-10-19T13:37:22.928Z"
   },
   {
    "duration": 44527,
    "start_time": "2022-10-19T13:37:24.295Z"
   },
   {
    "duration": 16,
    "start_time": "2022-10-19T13:38:08.823Z"
   },
   {
    "duration": 107,
    "start_time": "2022-10-19T13:38:08.841Z"
   },
   {
    "duration": 148,
    "start_time": "2022-10-19T13:38:30.708Z"
   },
   {
    "duration": 676,
    "start_time": "2022-10-19T13:38:31.186Z"
   },
   {
    "duration": 8,
    "start_time": "2022-10-19T13:38:31.864Z"
   },
   {
    "duration": 27,
    "start_time": "2022-10-19T13:38:32.165Z"
   },
   {
    "duration": 20,
    "start_time": "2022-10-19T13:38:32.647Z"
   },
   {
    "duration": 2620,
    "start_time": "2022-10-19T13:38:33.119Z"
   },
   {
    "duration": 3809,
    "start_time": "2022-10-19T13:38:35.741Z"
   },
   {
    "duration": 107,
    "start_time": "2022-10-19T13:38:39.551Z"
   },
   {
    "duration": 149,
    "start_time": "2022-10-19T13:38:39.660Z"
   },
   {
    "duration": 3,
    "start_time": "2022-10-19T13:38:39.810Z"
   },
   {
    "duration": 89,
    "start_time": "2022-10-19T13:38:39.814Z"
   },
   {
    "duration": 6167,
    "start_time": "2022-10-19T13:38:39.905Z"
   },
   {
    "duration": 3,
    "start_time": "2022-10-19T13:38:46.073Z"
   },
   {
    "duration": 134,
    "start_time": "2022-10-19T13:38:46.078Z"
   },
   {
    "duration": 4,
    "start_time": "2022-10-19T13:38:46.215Z"
   },
   {
    "duration": 44401,
    "start_time": "2022-10-19T13:38:46.220Z"
   },
   {
    "duration": 565320,
    "start_time": "2022-10-19T13:39:30.624Z"
   },
   {
    "duration": 133305,
    "start_time": "2022-10-19T13:48:56.009Z"
   },
   {
    "duration": 99,
    "start_time": "2022-10-19T13:51:09.319Z"
   },
   {
    "duration": 19,
    "start_time": "2022-10-19T13:51:09.419Z"
   },
   {
    "duration": 29401,
    "start_time": "2022-10-19T13:59:40.152Z"
   },
   {
    "duration": 16,
    "start_time": "2022-10-19T14:00:09.555Z"
   },
   {
    "duration": 32,
    "start_time": "2022-10-19T14:00:09.572Z"
   },
   {
    "duration": 2409,
    "start_time": "2022-10-20T08:20:41.741Z"
   },
   {
    "duration": 3699,
    "start_time": "2022-10-20T08:20:44.152Z"
   },
   {
    "duration": 14,
    "start_time": "2022-10-20T08:20:47.853Z"
   },
   {
    "duration": 49,
    "start_time": "2022-10-20T08:20:47.869Z"
   },
   {
    "duration": 40,
    "start_time": "2022-10-20T08:20:47.920Z"
   },
   {
    "duration": 933,
    "start_time": "2022-10-20T08:20:47.962Z"
   },
   {
    "duration": 155,
    "start_time": "2022-10-20T08:20:48.897Z"
   },
   {
    "duration": 0,
    "start_time": "2022-10-20T08:20:49.054Z"
   },
   {
    "duration": 106,
    "start_time": "2022-10-20T08:20:49.500Z"
   },
   {
    "duration": 15,
    "start_time": "2022-10-20T08:23:11.083Z"
   },
   {
    "duration": 322,
    "start_time": "2022-10-20T08:23:42.560Z"
   },
   {
    "duration": 17,
    "start_time": "2022-10-20T08:24:07.189Z"
   },
   {
    "duration": 331,
    "start_time": "2022-10-20T08:24:35.367Z"
   },
   {
    "duration": 828,
    "start_time": "2022-10-20T08:24:39.155Z"
   },
   {
    "duration": 341,
    "start_time": "2022-10-20T08:24:40.244Z"
   },
   {
    "duration": 11,
    "start_time": "2022-10-20T08:24:41.219Z"
   },
   {
    "duration": 4792,
    "start_time": "2022-10-20T08:25:21.643Z"
   },
   {
    "duration": 143,
    "start_time": "2022-10-20T08:25:26.438Z"
   },
   {
    "duration": 188,
    "start_time": "2022-10-20T08:25:26.583Z"
   },
   {
    "duration": 2,
    "start_time": "2022-10-20T08:25:26.773Z"
   },
   {
    "duration": 89,
    "start_time": "2022-10-20T08:25:26.777Z"
   },
   {
    "duration": 288,
    "start_time": "2022-10-20T08:26:09.578Z"
   },
   {
    "duration": 863,
    "start_time": "2022-10-20T08:26:10.562Z"
   },
   {
    "duration": 3,
    "start_time": "2022-10-20T08:26:12.044Z"
   },
   {
    "duration": 5199,
    "start_time": "2022-10-20T08:26:12.875Z"
   },
   {
    "duration": 132,
    "start_time": "2022-10-20T08:26:18.076Z"
   },
   {
    "duration": 188,
    "start_time": "2022-10-20T08:26:18.210Z"
   },
   {
    "duration": 2,
    "start_time": "2022-10-20T08:26:18.400Z"
   },
   {
    "duration": 111,
    "start_time": "2022-10-20T08:26:18.404Z"
   },
   {
    "duration": 17732,
    "start_time": "2022-10-20T08:28:10.237Z"
   },
   {
    "duration": 22,
    "start_time": "2022-10-20T08:31:12.816Z"
   },
   {
    "duration": 12851,
    "start_time": "2022-10-20T08:31:23.922Z"
   },
   {
    "duration": 295,
    "start_time": "2022-10-20T08:31:36.775Z"
   },
   {
    "duration": 688,
    "start_time": "2022-10-20T08:34:27.542Z"
   },
   {
    "duration": 640,
    "start_time": "2022-10-20T08:34:57.782Z"
   },
   {
    "duration": 645,
    "start_time": "2022-10-20T08:35:18.435Z"
   },
   {
    "duration": 84,
    "start_time": "2022-10-20T08:36:43.294Z"
   },
   {
    "duration": 177,
    "start_time": "2022-10-20T08:37:13.069Z"
   },
   {
    "duration": 504,
    "start_time": "2022-10-20T08:37:34.271Z"
   },
   {
    "duration": 598,
    "start_time": "2022-10-20T08:39:41.612Z"
   },
   {
    "duration": 533,
    "start_time": "2022-10-20T08:40:11.144Z"
   },
   {
    "duration": 519,
    "start_time": "2022-10-20T08:40:25.747Z"
   },
   {
    "duration": 463,
    "start_time": "2022-10-20T08:42:49.800Z"
   },
   {
    "duration": 502,
    "start_time": "2022-10-20T08:51:04.461Z"
   },
   {
    "duration": 83,
    "start_time": "2022-10-20T08:51:29.497Z"
   },
   {
    "duration": 722,
    "start_time": "2022-10-20T08:52:14.099Z"
   },
   {
    "duration": 1236,
    "start_time": "2022-10-20T08:54:52.661Z"
   },
   {
    "duration": 551,
    "start_time": "2022-10-20T08:57:34.420Z"
   },
   {
    "duration": 1259,
    "start_time": "2022-10-20T08:57:43.087Z"
   },
   {
    "duration": 1150862,
    "start_time": "2022-10-20T08:58:08.798Z"
   },
   {
    "duration": 124,
    "start_time": "2022-10-20T09:17:19.663Z"
   },
   {
    "duration": 155,
    "start_time": "2022-10-20T09:17:19.789Z"
   },
   {
    "duration": 2,
    "start_time": "2022-10-20T09:17:19.946Z"
   },
   {
    "duration": 106,
    "start_time": "2022-10-20T09:17:19.950Z"
   },
   {
    "duration": 7500,
    "start_time": "2022-10-20T09:17:20.058Z"
   },
   {
    "duration": 3,
    "start_time": "2022-10-20T09:17:27.559Z"
   },
   {
    "duration": 192,
    "start_time": "2022-10-20T09:17:27.564Z"
   },
   {
    "duration": 5,
    "start_time": "2022-10-20T09:17:27.757Z"
   },
   {
    "duration": 39001,
    "start_time": "2022-10-20T09:17:27.764Z"
   },
   {
    "duration": 682231,
    "start_time": "2022-10-20T09:18:06.767Z"
   },
   {
    "duration": 4689898,
    "start_time": "2022-10-20T09:29:29.000Z"
   },
   {
    "duration": 3,
    "start_time": "2022-10-20T10:47:38.899Z"
   },
   {
    "duration": 64,
    "start_time": "2022-10-20T10:47:38.903Z"
   },
   {
    "duration": 20,
    "start_time": "2022-10-20T10:47:38.969Z"
   },
   {
    "duration": 34,
    "start_time": "2022-10-20T10:47:38.991Z"
   },
   {
    "duration": 19,
    "start_time": "2022-10-20T10:56:24.455Z"
   },
   {
    "duration": 105,
    "start_time": "2022-10-20T10:56:33.595Z"
   },
   {
    "duration": 14264,
    "start_time": "2022-10-20T10:57:21.377Z"
   },
   {
    "duration": 14519,
    "start_time": "2022-10-20T10:57:59.953Z"
   },
   {
    "duration": 13297,
    "start_time": "2022-10-20T10:58:14.474Z"
   },
   {
    "duration": 13923,
    "start_time": "2022-10-20T10:58:53.424Z"
   },
   {
    "duration": 13215,
    "start_time": "2022-10-20T10:59:53.994Z"
   },
   {
    "duration": 12477,
    "start_time": "2022-10-20T11:00:40.084Z"
   },
   {
    "duration": 11890,
    "start_time": "2022-10-20T11:01:01.597Z"
   },
   {
    "duration": 13029,
    "start_time": "2022-10-20T11:01:13.490Z"
   },
   {
    "duration": 12263,
    "start_time": "2022-10-20T11:01:43.280Z"
   },
   {
    "duration": 43665,
    "start_time": "2022-10-20T11:02:24.838Z"
   },
   {
    "duration": 45159,
    "start_time": "2022-10-20T11:03:26.003Z"
   },
   {
    "duration": 46745,
    "start_time": "2022-10-20T11:05:07.002Z"
   },
   {
    "duration": 49628,
    "start_time": "2022-10-20T11:08:07.340Z"
   },
   {
    "duration": 14213,
    "start_time": "2022-10-20T11:09:50.853Z"
   },
   {
    "duration": 13549,
    "start_time": "2022-10-20T11:10:55.931Z"
   },
   {
    "duration": 46685,
    "start_time": "2022-10-20T11:11:09.769Z"
   },
   {
    "duration": 0,
    "start_time": "2022-10-20T11:11:56.455Z"
   },
   {
    "duration": 13296,
    "start_time": "2022-10-20T11:12:00.596Z"
   },
   {
    "duration": 47382,
    "start_time": "2022-10-20T11:12:13.894Z"
   },
   {
    "duration": 14641,
    "start_time": "2022-10-20T11:13:33.660Z"
   },
   {
    "duration": 45694,
    "start_time": "2022-10-20T11:13:48.303Z"
   },
   {
    "duration": 13714,
    "start_time": "2022-10-20T11:14:33.999Z"
   },
   {
    "duration": 13629,
    "start_time": "2022-10-20T11:16:03.450Z"
   },
   {
    "duration": 0,
    "start_time": "2022-10-20T11:16:17.081Z"
   },
   {
    "duration": 47009,
    "start_time": "2022-10-20T11:16:24.375Z"
   },
   {
    "duration": 47357,
    "start_time": "2022-10-20T11:17:57.277Z"
   },
   {
    "duration": 35,
    "start_time": "2022-10-20T11:21:24.517Z"
   },
   {
    "duration": 28,
    "start_time": "2022-10-20T11:21:32.877Z"
   },
   {
    "duration": 25,
    "start_time": "2022-10-20T11:22:04.654Z"
   },
   {
    "duration": 77,
    "start_time": "2022-10-20T11:22:18.876Z"
   },
   {
    "duration": 75,
    "start_time": "2022-10-20T11:22:28.996Z"
   },
   {
    "duration": 179,
    "start_time": "2022-10-20T11:25:55.084Z"
   },
   {
    "duration": 21,
    "start_time": "2022-10-20T11:26:01.275Z"
   },
   {
    "duration": 26,
    "start_time": "2022-10-20T11:26:11.303Z"
   },
   {
    "duration": 20,
    "start_time": "2022-10-20T11:26:49.675Z"
   },
   {
    "duration": 34,
    "start_time": "2022-10-20T11:26:54.981Z"
   },
   {
    "duration": 28,
    "start_time": "2022-10-20T11:27:30.357Z"
   },
   {
    "duration": 22,
    "start_time": "2022-10-20T11:27:38.972Z"
   },
   {
    "duration": 21670,
    "start_time": "2022-10-20T11:28:20.992Z"
   },
   {
    "duration": 46674,
    "start_time": "2022-10-20T11:28:48.291Z"
   },
   {
    "duration": 271020,
    "start_time": "2022-10-20T11:30:00.646Z"
   },
   {
    "duration": 252046,
    "start_time": "2022-10-20T11:37:48.312Z"
   },
   {
    "duration": 14162,
    "start_time": "2022-10-20T11:42:00.429Z"
   },
   {
    "duration": 43934,
    "start_time": "2022-10-20T11:47:07.525Z"
   },
   {
    "duration": 43855,
    "start_time": "2022-10-20T11:48:22.092Z"
   },
   {
    "duration": 21,
    "start_time": "2022-10-20T11:50:46.261Z"
   },
   {
    "duration": 23,
    "start_time": "2022-10-20T11:51:22.586Z"
   },
   {
    "duration": 22,
    "start_time": "2022-10-20T11:52:13.052Z"
   },
   {
    "duration": 28,
    "start_time": "2022-10-20T11:52:27.223Z"
   },
   {
    "duration": 25,
    "start_time": "2022-10-20T11:52:51.876Z"
   },
   {
    "duration": 26,
    "start_time": "2022-10-20T11:53:00.046Z"
   },
   {
    "duration": 29,
    "start_time": "2022-10-20T11:57:37.887Z"
   },
   {
    "duration": 28,
    "start_time": "2022-10-20T11:59:14.255Z"
   },
   {
    "duration": 27,
    "start_time": "2022-10-20T11:59:58.854Z"
   },
   {
    "duration": 27,
    "start_time": "2022-10-20T12:00:14.653Z"
   },
   {
    "duration": 27,
    "start_time": "2022-10-20T12:00:41.068Z"
   },
   {
    "duration": 26,
    "start_time": "2022-10-20T12:00:47.752Z"
   },
   {
    "duration": 28,
    "start_time": "2022-10-20T12:00:57.649Z"
   },
   {
    "duration": 33,
    "start_time": "2022-10-20T12:01:50.819Z"
   },
   {
    "duration": 29,
    "start_time": "2022-10-20T12:04:17.693Z"
   },
   {
    "duration": 30566,
    "start_time": "2022-10-20T12:05:53.378Z"
   },
   {
    "duration": 3557,
    "start_time": "2022-10-20T12:06:23.946Z"
   },
   {
    "duration": 13,
    "start_time": "2022-10-20T12:06:27.504Z"
   },
   {
    "duration": 29,
    "start_time": "2022-10-20T12:06:27.519Z"
   },
   {
    "duration": 22,
    "start_time": "2022-10-20T12:06:27.550Z"
   },
   {
    "duration": 301,
    "start_time": "2022-10-20T12:06:27.573Z"
   },
   {
    "duration": 2,
    "start_time": "2022-10-20T12:06:27.876Z"
   },
   {
    "duration": 1066,
    "start_time": "2022-10-20T12:06:27.879Z"
   },
   {
    "duration": 0,
    "start_time": "2022-10-20T12:06:28.947Z"
   },
   {
    "duration": 0,
    "start_time": "2022-10-20T12:06:28.948Z"
   },
   {
    "duration": 0,
    "start_time": "2022-10-20T12:06:28.950Z"
   },
   {
    "duration": 0,
    "start_time": "2022-10-20T12:06:28.951Z"
   },
   {
    "duration": 0,
    "start_time": "2022-10-20T12:06:28.951Z"
   },
   {
    "duration": 0,
    "start_time": "2022-10-20T12:06:28.953Z"
   },
   {
    "duration": 0,
    "start_time": "2022-10-20T12:06:28.954Z"
   },
   {
    "duration": 0,
    "start_time": "2022-10-20T12:06:28.955Z"
   },
   {
    "duration": 0,
    "start_time": "2022-10-20T12:06:28.956Z"
   },
   {
    "duration": 0,
    "start_time": "2022-10-20T12:06:28.957Z"
   },
   {
    "duration": 0,
    "start_time": "2022-10-20T12:06:28.957Z"
   },
   {
    "duration": 0,
    "start_time": "2022-10-20T12:06:28.959Z"
   },
   {
    "duration": 0,
    "start_time": "2022-10-20T12:06:28.960Z"
   },
   {
    "duration": 0,
    "start_time": "2022-10-20T12:06:28.961Z"
   },
   {
    "duration": 0,
    "start_time": "2022-10-20T12:06:28.962Z"
   },
   {
    "duration": 0,
    "start_time": "2022-10-20T12:06:28.963Z"
   },
   {
    "duration": 586,
    "start_time": "2022-10-20T12:08:00.520Z"
   },
   {
    "duration": 18834,
    "start_time": "2022-10-20T12:09:22.190Z"
   },
   {
    "duration": 882,
    "start_time": "2022-10-20T12:09:41.026Z"
   },
   {
    "duration": 20,
    "start_time": "2022-10-20T12:09:41.910Z"
   },
   {
    "duration": 32,
    "start_time": "2022-10-20T12:09:41.933Z"
   },
   {
    "duration": 30,
    "start_time": "2022-10-20T12:09:41.967Z"
   },
   {
    "duration": 293,
    "start_time": "2022-10-20T12:09:42.024Z"
   },
   {
    "duration": 2,
    "start_time": "2022-10-20T12:09:42.324Z"
   },
   {
    "duration": 515,
    "start_time": "2022-10-20T12:09:42.328Z"
   },
   {
    "duration": 1226610,
    "start_time": "2022-10-20T12:09:42.845Z"
   },
   {
    "duration": 99,
    "start_time": "2022-10-20T12:30:09.458Z"
   },
   {
    "duration": 174,
    "start_time": "2022-10-20T12:30:09.559Z"
   },
   {
    "duration": 66,
    "start_time": "2022-10-20T12:30:09.737Z"
   },
   {
    "duration": 7347,
    "start_time": "2022-10-20T12:30:09.805Z"
   },
   {
    "duration": 2,
    "start_time": "2022-10-20T12:30:17.154Z"
   },
   {
    "duration": 385,
    "start_time": "2022-10-20T12:30:17.159Z"
   },
   {
    "duration": 0,
    "start_time": "2022-10-20T12:30:17.546Z"
   },
   {
    "duration": 0,
    "start_time": "2022-10-20T12:30:17.547Z"
   },
   {
    "duration": 0,
    "start_time": "2022-10-20T12:30:17.548Z"
   },
   {
    "duration": 0,
    "start_time": "2022-10-20T12:30:17.549Z"
   },
   {
    "duration": 1,
    "start_time": "2022-10-20T12:30:17.550Z"
   },
   {
    "duration": 0,
    "start_time": "2022-10-20T12:30:17.552Z"
   },
   {
    "duration": 0,
    "start_time": "2022-10-20T12:30:17.553Z"
   },
   {
    "duration": 0,
    "start_time": "2022-10-20T12:30:17.554Z"
   },
   {
    "duration": 0,
    "start_time": "2022-10-20T12:30:17.556Z"
   },
   {
    "duration": 2,
    "start_time": "2022-10-20T12:37:55.340Z"
   },
   {
    "duration": 3,
    "start_time": "2022-10-20T12:37:55.903Z"
   },
   {
    "duration": 49158,
    "start_time": "2022-10-20T12:37:56.891Z"
   },
   {
    "duration": 647157,
    "start_time": "2022-10-20T12:38:46.051Z"
   },
   {
    "duration": 13276598,
    "start_time": "2022-10-20T12:49:33.210Z"
   },
   {
    "duration": 0,
    "start_time": "2022-10-20T16:30:49.811Z"
   },
   {
    "duration": 0,
    "start_time": "2022-10-20T16:30:49.812Z"
   },
   {
    "duration": 1,
    "start_time": "2022-10-20T16:30:49.813Z"
   },
   {
    "duration": 0,
    "start_time": "2022-10-20T16:30:49.815Z"
   },
   {
    "duration": 5,
    "start_time": "2022-10-20T16:31:05.138Z"
   },
   {
    "duration": 158,
    "start_time": "2022-10-20T16:31:05.644Z"
   },
   {
    "duration": 5,
    "start_time": "2022-10-20T16:31:06.148Z"
   },
   {
    "duration": 4154997,
    "start_time": "2022-10-20T16:31:44.821Z"
   },
   {
    "duration": 47,
    "start_time": "2022-10-20T17:40:59.820Z"
   },
   {
    "duration": 18,
    "start_time": "2022-10-20T17:40:59.868Z"
   },
   {
    "duration": 20,
    "start_time": "2022-10-20T17:40:59.888Z"
   },
   {
    "duration": 16,
    "start_time": "2022-10-20T17:40:59.910Z"
   },
   {
    "duration": 33,
    "start_time": "2022-10-20T17:41:16.049Z"
   },
   {
    "duration": 32,
    "start_time": "2022-10-20T17:42:04.351Z"
   },
   {
    "duration": 38,
    "start_time": "2022-10-20T17:42:37.424Z"
   },
   {
    "duration": 35,
    "start_time": "2022-10-20T17:43:08.460Z"
   },
   {
    "duration": 38,
    "start_time": "2022-10-20T17:45:02.033Z"
   },
   {
    "duration": 30,
    "start_time": "2022-10-20T17:47:22.268Z"
   },
   {
    "duration": 28,
    "start_time": "2022-10-20T17:51:11.148Z"
   },
   {
    "duration": 27,
    "start_time": "2022-10-20T17:55:32.242Z"
   },
   {
    "duration": 28,
    "start_time": "2022-10-20T17:58:43.183Z"
   },
   {
    "duration": 29,
    "start_time": "2022-10-20T17:59:12.692Z"
   },
   {
    "duration": 22,
    "start_time": "2022-10-20T17:59:44.397Z"
   },
   {
    "duration": 28,
    "start_time": "2022-10-20T18:00:22.447Z"
   },
   {
    "duration": 22,
    "start_time": "2022-10-20T18:00:29.700Z"
   },
   {
    "duration": 50297,
    "start_time": "2022-10-20T18:00:58.250Z"
   },
   {
    "duration": 16,
    "start_time": "2022-10-20T18:01:48.549Z"
   },
   {
    "duration": 19,
    "start_time": "2022-10-20T18:01:48.566Z"
   },
   {
    "duration": 19,
    "start_time": "2022-10-20T18:01:56.688Z"
   },
   {
    "duration": 31,
    "start_time": "2022-10-20T18:06:40.362Z"
   },
   {
    "duration": 27,
    "start_time": "2022-10-20T18:06:44.702Z"
   },
   {
    "duration": 3,
    "start_time": "2022-10-20T18:06:53.964Z"
   },
   {
    "duration": 28,
    "start_time": "2022-10-20T18:06:55.062Z"
   },
   {
    "duration": 95479,
    "start_time": "2022-10-20T18:07:23.671Z"
   },
   {
    "duration": 5186,
    "start_time": "2022-10-20T18:09:34.404Z"
   },
   {
    "duration": 5175,
    "start_time": "2022-10-20T18:10:24.096Z"
   },
   {
    "duration": 20785,
    "start_time": "2022-10-20T18:10:42.006Z"
   },
   {
    "duration": 53226,
    "start_time": "2022-10-20T18:11:42.525Z"
   },
   {
    "duration": 24,
    "start_time": "2022-10-20T18:13:22.281Z"
   },
   {
    "duration": 1746,
    "start_time": "2022-10-20T18:13:34.154Z"
   },
   {
    "duration": 19,
    "start_time": "2022-10-20T18:15:42.945Z"
   },
   {
    "duration": 18,
    "start_time": "2022-10-20T18:16:15.791Z"
   }
  ],
  "kernelspec": {
   "display_name": "Python 3 (ipykernel)",
   "language": "python",
   "name": "python3"
  },
  "language_info": {
   "codemirror_mode": {
    "name": "ipython",
    "version": 3
   },
   "file_extension": ".py",
   "mimetype": "text/x-python",
   "name": "python",
   "nbconvert_exporter": "python",
   "pygments_lexer": "ipython3",
   "version": "3.9.12"
  },
  "toc": {
   "base_numbering": 1,
   "nav_menu": {},
   "number_sections": true,
   "sideBar": true,
   "skip_h1_title": true,
   "title_cell": "Содержание",
   "title_sidebar": "Contents",
   "toc_cell": true,
   "toc_position": {
    "height": "calc(100% - 180px)",
    "left": "10px",
    "top": "150px",
    "width": "302.391px"
   },
   "toc_section_display": true,
   "toc_window_display": false
  }
 },
 "nbformat": 4,
 "nbformat_minor": 2
}
