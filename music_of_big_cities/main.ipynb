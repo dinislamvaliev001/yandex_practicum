{
 "cells": [
  {
   "cell_type": "markdown",
   "metadata": {
    "id": "E0vqbgi9ay0H"
   },
   "source": [
    "# Яндекс.Музыка"
   ]
  },
  {
   "cell_type": "markdown",
   "metadata": {
    "id": "VUC88oWjTJw2"
   },
   "source": [
    "Сравнение Москвы и Петербурга окружено мифами. Например:\n",
    " * Москва — мегаполис, подчинённый жёсткому ритму рабочей недели;\n",
    " * Петербург — культурная столица, со своими вкусами.\n",
    "\n",
    "На данных Яндекс.Музыки вы сравните поведение пользователей двух столиц.\n",
    "\n",
    "**Цель исследования** — проверьте три гипотезы:\n",
    "1. Активность пользователей зависит от дня недели. Причём в Москве и Петербурге это проявляется по-разному.\n",
    "2. В понедельник утром в Москве преобладают одни жанры, а в Петербурге — другие. Так же и вечером пятницы преобладают разные жанры — в зависимости от города. \n",
    "3. Москва и Петербург предпочитают разные жанры музыки. В Москве чаще слушают поп-музыку, в Петербурге — русский рэп.\n",
    "\n",
    "**Ход исследования**\n",
    "\n",
    "Данные о поведении пользователей вы получите из файла `yandex_music_project.csv`. О качестве данных ничего не известно. Поэтому перед проверкой гипотез понадобится обзор данных. \n",
    "\n",
    "Вы проверите данные на ошибки и оцените их влияние на исследование. Затем, на этапе предобработки вы поищете возможность исправить самые критичные ошибки данных.\n",
    " \n",
    "Таким образом, исследование пройдёт в три этапа:\n",
    " 1. Обзор данных.\n",
    " 2. Предобработка данных.\n",
    " 3. Проверка гипотез.\n",
    "\n"
   ]
  },
  {
   "cell_type": "markdown",
   "metadata": {
    "id": "Ml1hmfXC_Zcs"
   },
   "source": [
    "## Обзор данных\n",
    "\n",
    "Составляем первое представление о данных Яндекс.Музыки.\n",
    "\n",
    "\n"
   ]
  },
  {
   "cell_type": "markdown",
   "metadata": {
    "id": "57eAOGIz_Zcs"
   },
   "source": [
    "Основной инструмент аналитика — `pandas`. Импортируем эту библиотеку."
   ]
  },
  {
   "cell_type": "code",
   "execution_count": 1,
   "metadata": {
    "id": "AXN7PHPN_Zcs"
   },
   "outputs": [],
   "source": [
    "# импорт библиотеки pandas\n",
    "import pandas as pd"
   ]
  },
  {
   "cell_type": "markdown",
   "metadata": {
    "id": "SG23P8tt_Zcs"
   },
   "source": [
    "Прочитал файл yandex_music_project.csv из папки `/datasets` и сохранил его в переменной `df`:"
   ]
  },
  {
   "cell_type": "code",
   "execution_count": 3,
   "metadata": {
    "id": "fFVu7vqh_Zct"
   },
   "outputs": [],
   "source": [
    "# чтение файла с данными и сохранение в df\n",
    "df = pd.read_csv('/datasets/yandex_music_project.csv')"
   ]
  },
  {
   "cell_type": "markdown",
   "metadata": {
    "id": "rDoOMd3uTqnZ"
   },
   "source": [
    "Вывел на экран первые десять строк таблицы:"
   ]
  },
  {
   "cell_type": "code",
   "execution_count": 3,
   "metadata": {
    "id": "oWTVX3gW_Zct"
   },
   "outputs": [
    {
     "data": {
      "text/html": [
       "<div>\n",
       "<style scoped>\n",
       "    .dataframe tbody tr th:only-of-type {\n",
       "        vertical-align: middle;\n",
       "    }\n",
       "\n",
       "    .dataframe tbody tr th {\n",
       "        vertical-align: top;\n",
       "    }\n",
       "\n",
       "    .dataframe thead th {\n",
       "        text-align: right;\n",
       "    }\n",
       "</style>\n",
       "<table border=\"1\" class=\"dataframe\">\n",
       "  <thead>\n",
       "    <tr style=\"text-align: right;\">\n",
       "      <th></th>\n",
       "      <th>userID</th>\n",
       "      <th>Track</th>\n",
       "      <th>artist</th>\n",
       "      <th>genre</th>\n",
       "      <th>City</th>\n",
       "      <th>time</th>\n",
       "      <th>Day</th>\n",
       "    </tr>\n",
       "  </thead>\n",
       "  <tbody>\n",
       "    <tr>\n",
       "      <th>0</th>\n",
       "      <td>FFB692EC</td>\n",
       "      <td>Kamigata To Boots</td>\n",
       "      <td>The Mass Missile</td>\n",
       "      <td>rock</td>\n",
       "      <td>Saint-Petersburg</td>\n",
       "      <td>20:28:33</td>\n",
       "      <td>Wednesday</td>\n",
       "    </tr>\n",
       "    <tr>\n",
       "      <th>1</th>\n",
       "      <td>55204538</td>\n",
       "      <td>Delayed Because of Accident</td>\n",
       "      <td>Andreas Rönnberg</td>\n",
       "      <td>rock</td>\n",
       "      <td>Moscow</td>\n",
       "      <td>14:07:09</td>\n",
       "      <td>Friday</td>\n",
       "    </tr>\n",
       "    <tr>\n",
       "      <th>2</th>\n",
       "      <td>20EC38</td>\n",
       "      <td>Funiculì funiculà</td>\n",
       "      <td>Mario Lanza</td>\n",
       "      <td>pop</td>\n",
       "      <td>Saint-Petersburg</td>\n",
       "      <td>20:58:07</td>\n",
       "      <td>Wednesday</td>\n",
       "    </tr>\n",
       "    <tr>\n",
       "      <th>3</th>\n",
       "      <td>A3DD03C9</td>\n",
       "      <td>Dragons in the Sunset</td>\n",
       "      <td>Fire + Ice</td>\n",
       "      <td>folk</td>\n",
       "      <td>Saint-Petersburg</td>\n",
       "      <td>08:37:09</td>\n",
       "      <td>Monday</td>\n",
       "    </tr>\n",
       "    <tr>\n",
       "      <th>4</th>\n",
       "      <td>E2DC1FAE</td>\n",
       "      <td>Soul People</td>\n",
       "      <td>Space Echo</td>\n",
       "      <td>dance</td>\n",
       "      <td>Moscow</td>\n",
       "      <td>08:34:34</td>\n",
       "      <td>Monday</td>\n",
       "    </tr>\n",
       "    <tr>\n",
       "      <th>5</th>\n",
       "      <td>842029A1</td>\n",
       "      <td>Преданная</td>\n",
       "      <td>IMPERVTOR</td>\n",
       "      <td>rusrap</td>\n",
       "      <td>Saint-Petersburg</td>\n",
       "      <td>13:09:41</td>\n",
       "      <td>Friday</td>\n",
       "    </tr>\n",
       "    <tr>\n",
       "      <th>6</th>\n",
       "      <td>4CB90AA5</td>\n",
       "      <td>True</td>\n",
       "      <td>Roman Messer</td>\n",
       "      <td>dance</td>\n",
       "      <td>Moscow</td>\n",
       "      <td>13:00:07</td>\n",
       "      <td>Wednesday</td>\n",
       "    </tr>\n",
       "    <tr>\n",
       "      <th>7</th>\n",
       "      <td>F03E1C1F</td>\n",
       "      <td>Feeling This Way</td>\n",
       "      <td>Polina Griffith</td>\n",
       "      <td>dance</td>\n",
       "      <td>Moscow</td>\n",
       "      <td>20:47:49</td>\n",
       "      <td>Wednesday</td>\n",
       "    </tr>\n",
       "    <tr>\n",
       "      <th>8</th>\n",
       "      <td>8FA1D3BE</td>\n",
       "      <td>И вновь продолжается бой</td>\n",
       "      <td>NaN</td>\n",
       "      <td>ruspop</td>\n",
       "      <td>Moscow</td>\n",
       "      <td>09:17:40</td>\n",
       "      <td>Friday</td>\n",
       "    </tr>\n",
       "    <tr>\n",
       "      <th>9</th>\n",
       "      <td>E772D5C0</td>\n",
       "      <td>Pessimist</td>\n",
       "      <td>NaN</td>\n",
       "      <td>dance</td>\n",
       "      <td>Saint-Petersburg</td>\n",
       "      <td>21:20:49</td>\n",
       "      <td>Wednesday</td>\n",
       "    </tr>\n",
       "  </tbody>\n",
       "</table>\n",
       "</div>"
      ],
      "text/plain": [
       "     userID                        Track            artist   genre  \\\n",
       "0  FFB692EC            Kamigata To Boots  The Mass Missile    rock   \n",
       "1  55204538  Delayed Because of Accident  Andreas Rönnberg    rock   \n",
       "2    20EC38            Funiculì funiculà       Mario Lanza     pop   \n",
       "3  A3DD03C9        Dragons in the Sunset        Fire + Ice    folk   \n",
       "4  E2DC1FAE                  Soul People        Space Echo   dance   \n",
       "5  842029A1                    Преданная         IMPERVTOR  rusrap   \n",
       "6  4CB90AA5                         True      Roman Messer   dance   \n",
       "7  F03E1C1F             Feeling This Way   Polina Griffith   dance   \n",
       "8  8FA1D3BE     И вновь продолжается бой               NaN  ruspop   \n",
       "9  E772D5C0                    Pessimist               NaN   dance   \n",
       "\n",
       "             City        time        Day  \n",
       "0  Saint-Petersburg  20:28:33  Wednesday  \n",
       "1            Moscow  14:07:09     Friday  \n",
       "2  Saint-Petersburg  20:58:07  Wednesday  \n",
       "3  Saint-Petersburg  08:37:09     Monday  \n",
       "4            Moscow  08:34:34     Monday  \n",
       "5  Saint-Petersburg  13:09:41     Friday  \n",
       "6            Moscow  13:00:07  Wednesday  \n",
       "7            Moscow  20:47:49  Wednesday  \n",
       "8            Moscow  09:17:40     Friday  \n",
       "9  Saint-Petersburg  21:20:49  Wednesday  "
      ]
     },
     "metadata": {},
     "output_type": "display_data"
    }
   ],
   "source": [
    "# получение первых 10 строк таблицы df\n",
    "display(df.head(10))"
   ]
  },
  {
   "cell_type": "markdown",
   "metadata": {
    "id": "EO73Kwic_Zct"
   },
   "source": [
    "Одной командой получаем общую информацию о таблице:"
   ]
  },
  {
   "cell_type": "code",
   "execution_count": 4,
   "metadata": {
    "id": "DSf2kIb-_Zct"
   },
   "outputs": [
    {
     "name": "stdout",
     "output_type": "stream",
     "text": [
      "<class 'pandas.core.frame.DataFrame'>\n",
      "RangeIndex: 65079 entries, 0 to 65078\n",
      "Data columns (total 7 columns):\n",
      " #   Column    Non-Null Count  Dtype \n",
      "---  ------    --------------  ----- \n",
      " 0     userID  65079 non-null  object\n",
      " 1   Track     63848 non-null  object\n",
      " 2   artist    57876 non-null  object\n",
      " 3   genre     63881 non-null  object\n",
      " 4     City    65079 non-null  object\n",
      " 5   time      65079 non-null  object\n",
      " 6   Day       65079 non-null  object\n",
      "dtypes: object(7)\n",
      "memory usage: 3.5+ MB\n"
     ]
    }
   ],
   "source": [
    "# получение общей информации о данных в таблице df\n",
    "df.info()"
   ]
  },
  {
   "cell_type": "markdown",
   "metadata": {
    "id": "TaQ2Iwbr_Zct"
   },
   "source": [
    "Итак, в таблице семь столбцов. Тип данных во всех столбцах — `object`.\n",
    "\n",
    "Согласно документации к данным:\n",
    "* `userID` — идентификатор пользователя;\n",
    "* `Track` — название трека;  \n",
    "* `artist` — имя исполнителя;\n",
    "* `genre` — название жанра;\n",
    "* `City` — город пользователя;\n",
    "* `time` — время начала прослушивания;\n",
    "* `Day` — день недели.\n",
    "\n",
    "В названиях колонок видны три нарушения стиля:\n",
    "1. Строчные буквы сочетаются с прописными.\n",
    "2. Встречаются пробелы.\n",
    "3. Найдите ещё одну проблему в названии колонок и опишите её в этом пункте.\n",
    "\n",
    "\n",
    "\n",
    "Количество значений в столбцах различается. Значит, в данных есть пропущенные значения.\n"
   ]
  },
  {
   "cell_type": "markdown",
   "metadata": {
    "id": "MCB6-dXG_Zct"
   },
   "source": [
    "**Выводы**\n",
    "\n",
    "В каждой строке таблицы — данные о прослушанном треке. Часть колонок описывает саму композицию: название, исполнителя и жанр. Остальные данные рассказывают о пользователе: из какого он города, когда он слушал музыку. \n",
    "\n",
    "Предварительно можно утверждать, что, данных достаточно для проверки гипотез. Но встречаются пропуски в данных, а в названиях колонок — расхождения с хорошим стилем.\n",
    "\n",
    "Чтобы двигаться дальше, нужно устранить проблемы в данных."
   ]
  },
  {
   "cell_type": "markdown",
   "metadata": {
    "id": "SjYF6Ub9_Zct"
   },
   "source": [
    "## Предобработка данных\n",
    "Исправим стиль в заголовках столбцов, исключим пропуски. Затем проверем данные на дубликаты."
   ]
  },
  {
   "cell_type": "markdown",
   "metadata": {
    "id": "dIaKXr29_Zct"
   },
   "source": [
    "### Стиль заголовков\n",
    "Выведем на экран названия столбцов:"
   ]
  },
  {
   "cell_type": "code",
   "execution_count": 5,
   "metadata": {
    "id": "oKOTdF_Q_Zct"
   },
   "outputs": [
    {
     "data": {
      "text/plain": [
       "Index(['  userID', 'Track', 'artist', 'genre', '  City  ', 'time', 'Day'], dtype='object')"
      ]
     },
     "metadata": {},
     "output_type": "display_data"
    }
   ],
   "source": [
    "# перечень названий столбцов таблицы df\n",
    "display(df.columns)"
   ]
  },
  {
   "cell_type": "markdown",
   "metadata": {
    "id": "FPZA3ki8xe7T"
   },
   "source": []
  },
  {
   "cell_type": "markdown",
   "metadata": {
    "id": "zj5534cv_Zct"
   },
   "source": [
    "Приведем названия в соответствие с хорошим стилем:\n",
    "* несколько слов в названии запишите в «змеином_регистре»,\n",
    "* все символы сделайте строчными,\n",
    "* устраните пробелы.\n",
    "\n",
    "Для этого переименуйте колонки так:\n",
    "* `'  userID'` → `'user_id'`;\n",
    "* `'Track'` → `'track'`;\n",
    "* `'  City  '` → `'city'`;\n",
    "* `'Day'` → `'day'`."
   ]
  },
  {
   "cell_type": "code",
   "execution_count": 6,
   "metadata": {
    "id": "ISlFqs5y_Zct"
   },
   "outputs": [],
   "source": [
    "# переименование столбцов\n",
    "df = df.rename(columns={'  userID':'user_id','Track':'track','  City  ':'city','Day':'day'})"
   ]
  },
  {
   "cell_type": "markdown",
   "metadata": {
    "id": "1dqbh00J_Zct"
   },
   "source": [
    "Проверим результат. Для этого ещё раз выведим на экран названия столбцов:"
   ]
  },
  {
   "cell_type": "code",
   "execution_count": 7,
   "metadata": {
    "id": "d4NOAmTW_Zct"
   },
   "outputs": [
    {
     "data": {
      "text/plain": [
       "Index(['user_id', 'track', 'artist', 'genre', 'city', 'time', 'day'], dtype='object')"
      ]
     },
     "metadata": {},
     "output_type": "display_data"
    }
   ],
   "source": [
    "# проверка результатов - перечень названий столбцов\n",
    "display(df.columns)"
   ]
  },
  {
   "cell_type": "markdown",
   "metadata": {
    "id": "5ISfbcfY_Zct"
   },
   "source": [
    "### Пропуски значений\n",
    "Сначала посчитаем, сколько в таблице пропущенных значений. Для этого достаточно двух методов `pandas`:"
   ]
  },
  {
   "cell_type": "code",
   "execution_count": 8,
   "metadata": {
    "id": "RskX29qr_Zct"
   },
   "outputs": [
    {
     "data": {
      "text/plain": [
       "user_id       0\n",
       "track      1231\n",
       "artist     7203\n",
       "genre      1198\n",
       "city          0\n",
       "time          0\n",
       "day           0\n",
       "dtype: int64"
      ]
     },
     "execution_count": 8,
     "metadata": {},
     "output_type": "execute_result"
    }
   ],
   "source": [
    "# подсчёт пропусков\n",
    "df.isna().sum()"
   ]
  },
  {
   "cell_type": "markdown",
   "metadata": {
    "id": "qubhgnlO_Zct"
   },
   "source": [
    "Не все пропущенные значения влияют на исследование. Так в `track` и `artist` пропуски не важны для вашей работы. Достаточно заменить их явными обозначениями.\n",
    "\n",
    "Но пропуски в `genre` могут помешать сравнению музыкальных вкусов в Москве и Санкт-Петербурге. На практике было бы правильно установить причину пропусков и восстановить данные. Такой возможности нет в учебном проекте. Придётся:\n",
    "* заполнить и эти пропуски явными обозначениями,\n",
    "* оценить, насколько они повредят расчётам. "
   ]
  },
  {
   "cell_type": "markdown",
   "metadata": {
    "id": "fSv2laPA_Zct"
   },
   "source": [
    "Заменим пропущенные значения в столбцах `track`, `artist` и `genre` на строку `'unknown'`. Для этого создадим список `columns_to_replace`, переберите его элементы циклом `for` и для каждого столбца выполните замену пропущенных значений:"
   ]
  },
  {
   "cell_type": "code",
   "execution_count": 9,
   "metadata": {
    "id": "KplB5qWs_Zct"
   },
   "outputs": [],
   "source": [
    "# перебор названий столбцов в цикле и замена пропущенных значений на 'unknown'\n",
    "columns_to_replace = ['track','artist','genre']\n",
    "for colum in columns_to_replace:\n",
    "    df[colum]=df[colum].fillna('unknown')"
   ]
  },
  {
   "cell_type": "markdown",
   "metadata": {
    "id": "Ilsm-MZo_Zct"
   },
   "source": [
    "Убедимся, что в таблице не осталось пропусков. Для этого ещё раз посчитаем пропущенные значения."
   ]
  },
  {
   "cell_type": "code",
   "execution_count": 10,
   "metadata": {
    "id": "Tq4nYRX4_Zct"
   },
   "outputs": [
    {
     "data": {
      "text/plain": [
       "user_id    0\n",
       "track      0\n",
       "artist     0\n",
       "genre      0\n",
       "city       0\n",
       "time       0\n",
       "day        0\n",
       "dtype: int64"
      ]
     },
     "execution_count": 10,
     "metadata": {},
     "output_type": "execute_result"
    }
   ],
   "source": [
    "# подсчёт пропусков\n",
    "df.isna().sum()"
   ]
  },
  {
   "cell_type": "markdown",
   "metadata": {
    "id": "BWKRtBJ3_Zct"
   },
   "source": [
    "### Дубликаты\n",
    "Посчитаем явные дубликаты в таблице одной командой:"
   ]
  },
  {
   "cell_type": "code",
   "execution_count": 11,
   "metadata": {
    "id": "36eES_S0_Zct"
   },
   "outputs": [
    {
     "name": "stdout",
     "output_type": "stream",
     "text": [
      "3826\n"
     ]
    }
   ],
   "source": [
    "# подсчёт явных дубликатов\n",
    "print(df.duplicated().sum())"
   ]
  },
  {
   "cell_type": "markdown",
   "metadata": {
    "id": "Ot25h6XR_Zct"
   },
   "source": [
    "Вызовим специальный метод `pandas`, чтобы удалить явные дубликаты:"
   ]
  },
  {
   "cell_type": "code",
   "execution_count": 12,
   "metadata": {
    "id": "exFHq6tt_Zct"
   },
   "outputs": [],
   "source": [
    "# удаление явных дубликатов (с удалением старых индексов и формированием новых)\n",
    "df=df.drop_duplicates().reset_index(drop=True)"
   ]
  },
  {
   "cell_type": "markdown",
   "metadata": {
    "id": "Im2YwBEG_Zct"
   },
   "source": [
    "Ещё раз посчитаем явные дубликаты в таблице — убедимся, что полностью от них избавились:"
   ]
  },
  {
   "cell_type": "code",
   "execution_count": 13,
   "metadata": {
    "id": "-8PuNWQ0_Zct"
   },
   "outputs": [
    {
     "name": "stdout",
     "output_type": "stream",
     "text": [
      "0\n"
     ]
    }
   ],
   "source": [
    "# проверка на отсутствие дубликатов\n",
    "print(df.duplicated().sum())"
   ]
  },
  {
   "cell_type": "markdown",
   "metadata": {
    "id": "QlFBsxAr_Zct"
   },
   "source": [
    "Теперь избавимся от неявных дубликатов в колонке `genre`. Например, название одного и того же жанра может быть записано немного по-разному. Такие ошибки тоже повлияют на результат исследования."
   ]
  },
  {
   "cell_type": "markdown",
   "metadata": {
    "id": "eSjWwsOh_Zct"
   },
   "source": [
    "Выведим на экран список уникальных названий жанров, отсортированный в алфавитном порядке. Для этого:\n",
    "* извличем нужный столбец датафрейма, \n",
    "* применим к нему метод сортировки,\n",
    "* для отсортированного столбца вызовим метод, который вернёт уникальные значения из столбца."
   ]
  },
  {
   "cell_type": "code",
   "execution_count": 14,
   "metadata": {
    "id": "JIUcqzZN_Zct"
   },
   "outputs": [
    {
     "data": {
      "text/plain": [
       "array(['acid', 'acoustic', 'action', 'adult', 'africa', 'afrikaans',\n",
       "       'alternative', 'alternativepunk', 'ambient', 'americana',\n",
       "       'animated', 'anime', 'arabesk', 'arabic', 'arena',\n",
       "       'argentinetango', 'art', 'audiobook', 'author', 'avantgarde',\n",
       "       'axé', 'baile', 'balkan', 'beats', 'bigroom', 'black', 'bluegrass',\n",
       "       'blues', 'bollywood', 'bossa', 'brazilian', 'breakbeat', 'breaks',\n",
       "       'broadway', 'cantautori', 'cantopop', 'canzone', 'caribbean',\n",
       "       'caucasian', 'celtic', 'chamber', 'chanson', 'children', 'chill',\n",
       "       'chinese', 'choral', 'christian', 'christmas', 'classical',\n",
       "       'classicmetal', 'club', 'colombian', 'comedy', 'conjazz',\n",
       "       'contemporary', 'country', 'cuban', 'dance', 'dancehall',\n",
       "       'dancepop', 'dark', 'death', 'deep', 'deutschrock', 'deutschspr',\n",
       "       'dirty', 'disco', 'dnb', 'documentary', 'downbeat', 'downtempo',\n",
       "       'drum', 'dub', 'dubstep', 'eastern', 'easy', 'electronic',\n",
       "       'electropop', 'emo', 'entehno', 'epicmetal', 'estrada', 'ethnic',\n",
       "       'eurofolk', 'european', 'experimental', 'extrememetal', 'fado',\n",
       "       'fairytail', 'film', 'fitness', 'flamenco', 'folk', 'folklore',\n",
       "       'folkmetal', 'folkrock', 'folktronica', 'forró', 'frankreich',\n",
       "       'französisch', 'french', 'funk', 'future', 'gangsta', 'garage',\n",
       "       'german', 'ghazal', 'gitarre', 'glitch', 'gospel', 'gothic',\n",
       "       'grime', 'grunge', 'gypsy', 'handsup', \"hard'n'heavy\", 'hardcore',\n",
       "       'hardstyle', 'hardtechno', 'hip', 'hip-hop', 'hiphop',\n",
       "       'historisch', 'holiday', 'hop', 'horror', 'house', 'hymn', 'idm',\n",
       "       'independent', 'indian', 'indie', 'indipop', 'industrial',\n",
       "       'inspirational', 'instrumental', 'international', 'irish', 'jam',\n",
       "       'japanese', 'jazz', 'jewish', 'jpop', 'jungle', 'k-pop',\n",
       "       'karadeniz', 'karaoke', 'kayokyoku', 'korean', 'laiko', 'latin',\n",
       "       'latino', 'leftfield', 'local', 'lounge', 'loungeelectronic',\n",
       "       'lovers', 'malaysian', 'mandopop', 'marschmusik', 'meditative',\n",
       "       'mediterranean', 'melodic', 'metal', 'metalcore', 'mexican',\n",
       "       'middle', 'minimal', 'miscellaneous', 'modern', 'mood', 'mpb',\n",
       "       'muslim', 'native', 'neoklassik', 'neue', 'new', 'newage',\n",
       "       'newwave', 'nu', 'nujazz', 'numetal', 'oceania', 'old', 'opera',\n",
       "       'orchestral', 'other', 'piano', 'podcasts', 'pop', 'popdance',\n",
       "       'popelectronic', 'popeurodance', 'poprussian', 'post',\n",
       "       'posthardcore', 'postrock', 'power', 'progmetal', 'progressive',\n",
       "       'psychedelic', 'punjabi', 'punk', 'quebecois', 'ragga', 'ram',\n",
       "       'rancheras', 'rap', 'rave', 'reggae', 'reggaeton', 'regional',\n",
       "       'relax', 'religious', 'retro', 'rhythm', 'rnb', 'rnr', 'rock',\n",
       "       'rockabilly', 'rockalternative', 'rockindie', 'rockother',\n",
       "       'romance', 'roots', 'ruspop', 'rusrap', 'rusrock', 'russian',\n",
       "       'salsa', 'samba', 'scenic', 'schlager', 'self', 'sertanejo',\n",
       "       'shanson', 'shoegazing', 'showtunes', 'singer', 'ska', 'skarock',\n",
       "       'slow', 'smooth', 'soft', 'soul', 'soulful', 'sound', 'soundtrack',\n",
       "       'southern', 'specialty', 'speech', 'spiritual', 'sport',\n",
       "       'stonerrock', 'surf', 'swing', 'synthpop', 'synthrock',\n",
       "       'sängerportrait', 'tango', 'tanzorchester', 'taraftar', 'tatar',\n",
       "       'tech', 'techno', 'teen', 'thrash', 'top', 'traditional',\n",
       "       'tradjazz', 'trance', 'tribal', 'trip', 'triphop', 'tropical',\n",
       "       'türk', 'türkçe', 'ukrrock', 'unknown', 'urban', 'uzbek',\n",
       "       'variété', 'vi', 'videogame', 'vocal', 'western', 'world',\n",
       "       'worldbeat', 'ïîï', 'электроника'], dtype=object)"
      ]
     },
     "execution_count": 14,
     "metadata": {},
     "output_type": "execute_result"
    }
   ],
   "source": [
    "# Просмотр уникальных названий жанров\n",
    "#df['genre'].unique()\n",
    "df['genre'].sort_values().unique()"
   ]
  },
  {
   "cell_type": "markdown",
   "metadata": {
    "id": "qej-Qmuo_Zct"
   },
   "source": [
    "Просмотрим список и найдите неявные дубликаты названия `hiphop`. Это могут быть названия с ошибками или альтернативные названия того же жанра.\n",
    "\n",
    "Мы увидите следующие неявные дубликаты:\n",
    "* *hip*,\n",
    "* *hop*,\n",
    "* *hip-hop*.\n",
    "\n",
    "Чтобы очистить от них таблицу, напишим функцию `replace_wrong_genres()` с двумя параметрами: \n",
    "* `wrong_genres` — список дубликатов,\n",
    "* `correct_genre` — строка с правильным значением.\n",
    "\n",
    "Функция должна исправить колонку `genre` в таблице `df`: заменить каждое значение из списка `wrong_genres` на значение из `correct_genre`."
   ]
  },
  {
   "cell_type": "code",
   "execution_count": 15,
   "metadata": {
    "id": "ErNDkmns_Zct"
   },
   "outputs": [],
   "source": [
    "# Функция для замены неявных дубликатов\n",
    "wrong_genres = ['hip','hop','hip-hop']# список не павильных имен\n",
    "correct_genre = 'hiphop'# правильное имя"
   ]
  },
  {
   "cell_type": "markdown",
   "metadata": {
    "id": "aDoBJxbA_Zct"
   },
   "source": [
    "Вызовим `replace_wrong_genres()` и передадим ей такие аргументы, чтобы она устранила неявные дубликаты: вместо `hip`, `hop` и `hip-hop` в таблице должно быть значение `hiphop`:"
   ]
  },
  {
   "cell_type": "code",
   "execution_count": 16,
   "metadata": {
    "id": "YN5i2hpmSo09"
   },
   "outputs": [
    {
     "data": {
      "text/html": [
       "<div>\n",
       "<style scoped>\n",
       "    .dataframe tbody tr th:only-of-type {\n",
       "        vertical-align: middle;\n",
       "    }\n",
       "\n",
       "    .dataframe tbody tr th {\n",
       "        vertical-align: top;\n",
       "    }\n",
       "\n",
       "    .dataframe thead th {\n",
       "        text-align: right;\n",
       "    }\n",
       "</style>\n",
       "<table border=\"1\" class=\"dataframe\">\n",
       "  <thead>\n",
       "    <tr style=\"text-align: right;\">\n",
       "      <th></th>\n",
       "      <th>user_id</th>\n",
       "      <th>track</th>\n",
       "      <th>artist</th>\n",
       "      <th>genre</th>\n",
       "      <th>city</th>\n",
       "      <th>time</th>\n",
       "      <th>day</th>\n",
       "    </tr>\n",
       "  </thead>\n",
       "  <tbody>\n",
       "    <tr>\n",
       "      <th>0</th>\n",
       "      <td>FFB692EC</td>\n",
       "      <td>Kamigata To Boots</td>\n",
       "      <td>The Mass Missile</td>\n",
       "      <td>rock</td>\n",
       "      <td>Saint-Petersburg</td>\n",
       "      <td>20:28:33</td>\n",
       "      <td>Wednesday</td>\n",
       "    </tr>\n",
       "    <tr>\n",
       "      <th>1</th>\n",
       "      <td>55204538</td>\n",
       "      <td>Delayed Because of Accident</td>\n",
       "      <td>Andreas Rönnberg</td>\n",
       "      <td>rock</td>\n",
       "      <td>Moscow</td>\n",
       "      <td>14:07:09</td>\n",
       "      <td>Friday</td>\n",
       "    </tr>\n",
       "    <tr>\n",
       "      <th>2</th>\n",
       "      <td>20EC38</td>\n",
       "      <td>Funiculì funiculà</td>\n",
       "      <td>Mario Lanza</td>\n",
       "      <td>pop</td>\n",
       "      <td>Saint-Petersburg</td>\n",
       "      <td>20:58:07</td>\n",
       "      <td>Wednesday</td>\n",
       "    </tr>\n",
       "    <tr>\n",
       "      <th>3</th>\n",
       "      <td>A3DD03C9</td>\n",
       "      <td>Dragons in the Sunset</td>\n",
       "      <td>Fire + Ice</td>\n",
       "      <td>folk</td>\n",
       "      <td>Saint-Petersburg</td>\n",
       "      <td>08:37:09</td>\n",
       "      <td>Monday</td>\n",
       "    </tr>\n",
       "    <tr>\n",
       "      <th>4</th>\n",
       "      <td>E2DC1FAE</td>\n",
       "      <td>Soul People</td>\n",
       "      <td>Space Echo</td>\n",
       "      <td>dance</td>\n",
       "      <td>Moscow</td>\n",
       "      <td>08:34:34</td>\n",
       "      <td>Monday</td>\n",
       "    </tr>\n",
       "    <tr>\n",
       "      <th>...</th>\n",
       "      <td>...</td>\n",
       "      <td>...</td>\n",
       "      <td>...</td>\n",
       "      <td>...</td>\n",
       "      <td>...</td>\n",
       "      <td>...</td>\n",
       "      <td>...</td>\n",
       "    </tr>\n",
       "    <tr>\n",
       "      <th>61248</th>\n",
       "      <td>729CBB09</td>\n",
       "      <td>My Name</td>\n",
       "      <td>McLean</td>\n",
       "      <td>rnb</td>\n",
       "      <td>Moscow</td>\n",
       "      <td>13:32:28</td>\n",
       "      <td>Wednesday</td>\n",
       "    </tr>\n",
       "    <tr>\n",
       "      <th>61249</th>\n",
       "      <td>D08D4A55</td>\n",
       "      <td>Maybe One Day (feat. Black Spade)</td>\n",
       "      <td>Blu &amp; Exile</td>\n",
       "      <td>hiphop</td>\n",
       "      <td>Saint-Petersburg</td>\n",
       "      <td>10:00:00</td>\n",
       "      <td>Monday</td>\n",
       "    </tr>\n",
       "    <tr>\n",
       "      <th>61250</th>\n",
       "      <td>C5E3A0D5</td>\n",
       "      <td>Jalopiina</td>\n",
       "      <td>unknown</td>\n",
       "      <td>industrial</td>\n",
       "      <td>Moscow</td>\n",
       "      <td>20:09:26</td>\n",
       "      <td>Friday</td>\n",
       "    </tr>\n",
       "    <tr>\n",
       "      <th>61251</th>\n",
       "      <td>321D0506</td>\n",
       "      <td>Freight Train</td>\n",
       "      <td>Chas McDevitt</td>\n",
       "      <td>rock</td>\n",
       "      <td>Moscow</td>\n",
       "      <td>21:43:59</td>\n",
       "      <td>Friday</td>\n",
       "    </tr>\n",
       "    <tr>\n",
       "      <th>61252</th>\n",
       "      <td>3A64EF84</td>\n",
       "      <td>Tell Me Sweet Little Lies</td>\n",
       "      <td>Monica Lopez</td>\n",
       "      <td>country</td>\n",
       "      <td>Moscow</td>\n",
       "      <td>21:59:46</td>\n",
       "      <td>Friday</td>\n",
       "    </tr>\n",
       "  </tbody>\n",
       "</table>\n",
       "<p>61253 rows × 7 columns</p>\n",
       "</div>"
      ],
      "text/plain": [
       "        user_id                              track            artist  \\\n",
       "0      FFB692EC                  Kamigata To Boots  The Mass Missile   \n",
       "1      55204538        Delayed Because of Accident  Andreas Rönnberg   \n",
       "2        20EC38                  Funiculì funiculà       Mario Lanza   \n",
       "3      A3DD03C9              Dragons in the Sunset        Fire + Ice   \n",
       "4      E2DC1FAE                        Soul People        Space Echo   \n",
       "...         ...                                ...               ...   \n",
       "61248  729CBB09                            My Name            McLean   \n",
       "61249  D08D4A55  Maybe One Day (feat. Black Spade)       Blu & Exile   \n",
       "61250  C5E3A0D5                          Jalopiina           unknown   \n",
       "61251  321D0506                      Freight Train     Chas McDevitt   \n",
       "61252  3A64EF84          Tell Me Sweet Little Lies      Monica Lopez   \n",
       "\n",
       "            genre              city      time        day  \n",
       "0            rock  Saint-Petersburg  20:28:33  Wednesday  \n",
       "1            rock            Moscow  14:07:09     Friday  \n",
       "2             pop  Saint-Petersburg  20:58:07  Wednesday  \n",
       "3            folk  Saint-Petersburg  08:37:09     Monday  \n",
       "4           dance            Moscow  08:34:34     Monday  \n",
       "...           ...               ...       ...        ...  \n",
       "61248         rnb            Moscow  13:32:28  Wednesday  \n",
       "61249      hiphop  Saint-Petersburg  10:00:00     Monday  \n",
       "61250  industrial            Moscow  20:09:26     Friday  \n",
       "61251        rock            Moscow  21:43:59     Friday  \n",
       "61252     country            Moscow  21:59:46     Friday  \n",
       "\n",
       "[61253 rows x 7 columns]"
      ]
     },
     "metadata": {},
     "output_type": "display_data"
    }
   ],
   "source": [
    "# Устранение неявных дубликатов\n",
    "def replace_wrong_genres(wrong_genres,correct_genre):# список неправильных значений и строка с правильным значением\n",
    "    for wrong_genres in wrong_genres:# перебираем неправильные имена\n",
    "        df['genre']=df['genre'].replace(wrong_genres,correct_genre)# для каждого неправильного имени вызываем метод replace()\n",
    "wrong_genres = ['hip','hop','hip-hop']# список не павильных имен\n",
    "correct_genre = 'hiphop'# правильное имя\n",
    "replace_wrong_genres(wrong_genres,correct_genre)\n",
    "display(df)"
   ]
  },
  {
   "cell_type": "markdown",
   "metadata": {
    "id": "zQKF16_RG15m"
   },
   "source": [
    "Проверим, что заменили неправильные названия:\n",
    "\n",
    "*   hip\n",
    "*   hop\n",
    "*   hip-hop\n",
    "\n",
    "Выведим отсортированный список уникальных значений столбца `genre`:"
   ]
  },
  {
   "cell_type": "code",
   "execution_count": 17,
   "metadata": {
    "id": "wvixALnFG15m"
   },
   "outputs": [
    {
     "data": {
      "text/plain": [
       "array(['acid', 'acoustic', 'action', 'adult', 'africa', 'afrikaans',\n",
       "       'alternative', 'alternativepunk', 'ambient', 'americana',\n",
       "       'animated', 'anime', 'arabesk', 'arabic', 'arena',\n",
       "       'argentinetango', 'art', 'audiobook', 'author', 'avantgarde',\n",
       "       'axé', 'baile', 'balkan', 'beats', 'bigroom', 'black', 'bluegrass',\n",
       "       'blues', 'bollywood', 'bossa', 'brazilian', 'breakbeat', 'breaks',\n",
       "       'broadway', 'cantautori', 'cantopop', 'canzone', 'caribbean',\n",
       "       'caucasian', 'celtic', 'chamber', 'chanson', 'children', 'chill',\n",
       "       'chinese', 'choral', 'christian', 'christmas', 'classical',\n",
       "       'classicmetal', 'club', 'colombian', 'comedy', 'conjazz',\n",
       "       'contemporary', 'country', 'cuban', 'dance', 'dancehall',\n",
       "       'dancepop', 'dark', 'death', 'deep', 'deutschrock', 'deutschspr',\n",
       "       'dirty', 'disco', 'dnb', 'documentary', 'downbeat', 'downtempo',\n",
       "       'drum', 'dub', 'dubstep', 'eastern', 'easy', 'electronic',\n",
       "       'electropop', 'emo', 'entehno', 'epicmetal', 'estrada', 'ethnic',\n",
       "       'eurofolk', 'european', 'experimental', 'extrememetal', 'fado',\n",
       "       'fairytail', 'film', 'fitness', 'flamenco', 'folk', 'folklore',\n",
       "       'folkmetal', 'folkrock', 'folktronica', 'forró', 'frankreich',\n",
       "       'französisch', 'french', 'funk', 'future', 'gangsta', 'garage',\n",
       "       'german', 'ghazal', 'gitarre', 'glitch', 'gospel', 'gothic',\n",
       "       'grime', 'grunge', 'gypsy', 'handsup', \"hard'n'heavy\", 'hardcore',\n",
       "       'hardstyle', 'hardtechno', 'hiphop', 'historisch', 'holiday',\n",
       "       'horror', 'house', 'hymn', 'idm', 'independent', 'indian', 'indie',\n",
       "       'indipop', 'industrial', 'inspirational', 'instrumental',\n",
       "       'international', 'irish', 'jam', 'japanese', 'jazz', 'jewish',\n",
       "       'jpop', 'jungle', 'k-pop', 'karadeniz', 'karaoke', 'kayokyoku',\n",
       "       'korean', 'laiko', 'latin', 'latino', 'leftfield', 'local',\n",
       "       'lounge', 'loungeelectronic', 'lovers', 'malaysian', 'mandopop',\n",
       "       'marschmusik', 'meditative', 'mediterranean', 'melodic', 'metal',\n",
       "       'metalcore', 'mexican', 'middle', 'minimal', 'miscellaneous',\n",
       "       'modern', 'mood', 'mpb', 'muslim', 'native', 'neoklassik', 'neue',\n",
       "       'new', 'newage', 'newwave', 'nu', 'nujazz', 'numetal', 'oceania',\n",
       "       'old', 'opera', 'orchestral', 'other', 'piano', 'podcasts', 'pop',\n",
       "       'popdance', 'popelectronic', 'popeurodance', 'poprussian', 'post',\n",
       "       'posthardcore', 'postrock', 'power', 'progmetal', 'progressive',\n",
       "       'psychedelic', 'punjabi', 'punk', 'quebecois', 'ragga', 'ram',\n",
       "       'rancheras', 'rap', 'rave', 'reggae', 'reggaeton', 'regional',\n",
       "       'relax', 'religious', 'retro', 'rhythm', 'rnb', 'rnr', 'rock',\n",
       "       'rockabilly', 'rockalternative', 'rockindie', 'rockother',\n",
       "       'romance', 'roots', 'ruspop', 'rusrap', 'rusrock', 'russian',\n",
       "       'salsa', 'samba', 'scenic', 'schlager', 'self', 'sertanejo',\n",
       "       'shanson', 'shoegazing', 'showtunes', 'singer', 'ska', 'skarock',\n",
       "       'slow', 'smooth', 'soft', 'soul', 'soulful', 'sound', 'soundtrack',\n",
       "       'southern', 'specialty', 'speech', 'spiritual', 'sport',\n",
       "       'stonerrock', 'surf', 'swing', 'synthpop', 'synthrock',\n",
       "       'sängerportrait', 'tango', 'tanzorchester', 'taraftar', 'tatar',\n",
       "       'tech', 'techno', 'teen', 'thrash', 'top', 'traditional',\n",
       "       'tradjazz', 'trance', 'tribal', 'trip', 'triphop', 'tropical',\n",
       "       'türk', 'türkçe', 'ukrrock', 'unknown', 'urban', 'uzbek',\n",
       "       'variété', 'vi', 'videogame', 'vocal', 'western', 'world',\n",
       "       'worldbeat', 'ïîï', 'электроника'], dtype=object)"
      ]
     },
     "execution_count": 17,
     "metadata": {},
     "output_type": "execute_result"
    }
   ],
   "source": [
    "# Проверка на неявные дубликаты\n",
    "df['genre'].sort_values().unique()"
   ]
  },
  {
   "cell_type": "markdown",
   "metadata": {
    "id": "jz6a9-7HQUDd"
   },
   "source": [
    "**Выводы**\n",
    "\n",
    "Предобработка обнаружила три проблемы в данных:\n",
    "\n",
    "- нарушения в стиле заголовков,\n",
    "- пропущенные значения,\n",
    "- дубликаты — явные и неявные.\n",
    "\n",
    "Мы исправили заголовки, чтобы упростить работу с таблицей. Без дубликатов исследование станет более точным.\n",
    "\n",
    "Пропущенные значения мы заменили на `'unknown'`. Ещё предстоит увидеть, не повредят ли исследованию пропуски в колонке `genre`.\n",
    "\n",
    "Теперь можно перейти к проверке гипотез. "
   ]
  },
  {
   "cell_type": "markdown",
   "metadata": {
    "id": "WttZHXH0SqKk"
   },
   "source": [
    "## Проверка гипотез"
   ]
  },
  {
   "cell_type": "markdown",
   "metadata": {
    "id": "Im936VVi_Zcu"
   },
   "source": [
    "### Сравнение поведения пользователей двух столиц"
   ]
  },
  {
   "cell_type": "markdown",
   "metadata": {
    "id": "nwt_MuaL_Zcu"
   },
   "source": [
    "Первая гипотеза утверждает, что пользователи по-разному слушают музыку в Москве и Санкт-Петербурге. Проверим это предположение по данным о трёх днях недели — понедельнике, среде и пятнице. Для этого:\n",
    "\n",
    "* Разделим пользователей Москвы и Санкт-Петербурга\n",
    "* Сравним, сколько треков послушала каждая группа пользователей в понедельник, среду и пятницу.\n"
   ]
  },
  {
   "cell_type": "markdown",
   "metadata": {
    "id": "8Dw_YMmT_Zcu"
   },
   "source": [
    "Для тренировки сначала выполним каждый из расчётов по отдельности. \n",
    "\n",
    "Оцените активность пользователей в каждом городе. Сгруппируем данные по городу и посчитаем прослушивания в каждой группе.\n",
    "\n"
   ]
  },
  {
   "cell_type": "code",
   "execution_count": 18,
   "metadata": {
    "id": "0_Qs96oh_Zcu"
   },
   "outputs": [
    {
     "data": {
      "text/html": [
       "<div>\n",
       "<style scoped>\n",
       "    .dataframe tbody tr th:only-of-type {\n",
       "        vertical-align: middle;\n",
       "    }\n",
       "\n",
       "    .dataframe tbody tr th {\n",
       "        vertical-align: top;\n",
       "    }\n",
       "\n",
       "    .dataframe thead th {\n",
       "        text-align: right;\n",
       "    }\n",
       "</style>\n",
       "<table border=\"1\" class=\"dataframe\">\n",
       "  <thead>\n",
       "    <tr style=\"text-align: right;\">\n",
       "      <th></th>\n",
       "      <th>user_id</th>\n",
       "      <th>track</th>\n",
       "      <th>artist</th>\n",
       "      <th>genre</th>\n",
       "      <th>time</th>\n",
       "      <th>day</th>\n",
       "    </tr>\n",
       "    <tr>\n",
       "      <th>city</th>\n",
       "      <th></th>\n",
       "      <th></th>\n",
       "      <th></th>\n",
       "      <th></th>\n",
       "      <th></th>\n",
       "      <th></th>\n",
       "    </tr>\n",
       "  </thead>\n",
       "  <tbody>\n",
       "    <tr>\n",
       "      <th>Moscow</th>\n",
       "      <td>42741</td>\n",
       "      <td>42741</td>\n",
       "      <td>42741</td>\n",
       "      <td>42741</td>\n",
       "      <td>42741</td>\n",
       "      <td>42741</td>\n",
       "    </tr>\n",
       "    <tr>\n",
       "      <th>Saint-Petersburg</th>\n",
       "      <td>18512</td>\n",
       "      <td>18512</td>\n",
       "      <td>18512</td>\n",
       "      <td>18512</td>\n",
       "      <td>18512</td>\n",
       "      <td>18512</td>\n",
       "    </tr>\n",
       "  </tbody>\n",
       "</table>\n",
       "</div>"
      ],
      "text/plain": [
       "                  user_id  track  artist  genre   time    day\n",
       "city                                                         \n",
       "Moscow              42741  42741   42741  42741  42741  42741\n",
       "Saint-Petersburg    18512  18512   18512  18512  18512  18512"
      ]
     },
     "metadata": {},
     "output_type": "display_data"
    }
   ],
   "source": [
    "# Подсчёт прослушиваний в каждом городе\n",
    "display(df.groupby('city').count())"
   ]
  },
  {
   "cell_type": "markdown",
   "metadata": {
    "id": "dzli3w8o_Zcu"
   },
   "source": [
    "В Москве прослушиваний больше, чем в Петербурге. Из этого не следует, что московские пользователи чаще слушают музыку. Просто самих пользователей в Москве больше.\n",
    "\n",
    "Теперь сгруппируем данные по дню недели и подсчитаем прослушивания в понедельник, среду и пятницу. Учтем, что в данных есть информация о прослушиваниях только за эти дни.\n"
   ]
  },
  {
   "cell_type": "code",
   "execution_count": 19,
   "metadata": {
    "id": "uZMKjiJz_Zcu"
   },
   "outputs": [
    {
     "data": {
      "text/html": [
       "<div>\n",
       "<style scoped>\n",
       "    .dataframe tbody tr th:only-of-type {\n",
       "        vertical-align: middle;\n",
       "    }\n",
       "\n",
       "    .dataframe tbody tr th {\n",
       "        vertical-align: top;\n",
       "    }\n",
       "\n",
       "    .dataframe thead th {\n",
       "        text-align: right;\n",
       "    }\n",
       "</style>\n",
       "<table border=\"1\" class=\"dataframe\">\n",
       "  <thead>\n",
       "    <tr style=\"text-align: right;\">\n",
       "      <th></th>\n",
       "      <th>user_id</th>\n",
       "      <th>track</th>\n",
       "      <th>artist</th>\n",
       "      <th>genre</th>\n",
       "      <th>city</th>\n",
       "      <th>time</th>\n",
       "    </tr>\n",
       "    <tr>\n",
       "      <th>day</th>\n",
       "      <th></th>\n",
       "      <th></th>\n",
       "      <th></th>\n",
       "      <th></th>\n",
       "      <th></th>\n",
       "      <th></th>\n",
       "    </tr>\n",
       "  </thead>\n",
       "  <tbody>\n",
       "    <tr>\n",
       "      <th>Friday</th>\n",
       "      <td>21840</td>\n",
       "      <td>21840</td>\n",
       "      <td>21840</td>\n",
       "      <td>21840</td>\n",
       "      <td>21840</td>\n",
       "      <td>21840</td>\n",
       "    </tr>\n",
       "    <tr>\n",
       "      <th>Monday</th>\n",
       "      <td>21354</td>\n",
       "      <td>21354</td>\n",
       "      <td>21354</td>\n",
       "      <td>21354</td>\n",
       "      <td>21354</td>\n",
       "      <td>21354</td>\n",
       "    </tr>\n",
       "    <tr>\n",
       "      <th>Wednesday</th>\n",
       "      <td>18059</td>\n",
       "      <td>18059</td>\n",
       "      <td>18059</td>\n",
       "      <td>18059</td>\n",
       "      <td>18059</td>\n",
       "      <td>18059</td>\n",
       "    </tr>\n",
       "  </tbody>\n",
       "</table>\n",
       "</div>"
      ],
      "text/plain": [
       "           user_id  track  artist  genre   city   time\n",
       "day                                                   \n",
       "Friday       21840  21840   21840  21840  21840  21840\n",
       "Monday       21354  21354   21354  21354  21354  21354\n",
       "Wednesday    18059  18059   18059  18059  18059  18059"
      ]
     },
     "metadata": {},
     "output_type": "display_data"
    }
   ],
   "source": [
    "# Подсчёт прослушиваний в каждый из трёх дней\n",
    "display(df.groupby('day').count())"
   ]
  },
  {
   "cell_type": "markdown",
   "metadata": {
    "id": "cC2tNrlL_Zcu"
   },
   "source": [
    "В среднем пользователи из двух городов менее активны по средам. Но картина может измениться, если рассмотреть каждый город в отдельности."
   ]
  },
  {
   "cell_type": "markdown",
   "metadata": {
    "id": "POzs8bGa_Zcu"
   },
   "source": [
    "Мы видели, как работает группировка по городу и по дням недели. Теперь напишим функцию, которая объединит два эти расчёта.\n",
    "\n",
    "Создадим функцию `number_tracks()`, которая посчитает прослушивания для заданного дня и города. Ей понадобятся два параметра:\n",
    "* день недели,\n",
    "* название города.\n",
    "\n",
    "В функции сохраним в переменную строки исходной таблицы, у которых значение:\n",
    "  * в колонке `day` равно параметру `day`,\n",
    "  * в колонке `city` равно параметру `city`.\n",
    "\n",
    "Для этого применим последовательную фильтрацию с логической индексацией.\n",
    "\n",
    "Затем посчитаем значения в столбце `user_id` получившейся таблицы. Результат сохраним в новую переменную. Вернем эту переменную из функции."
   ]
  },
  {
   "cell_type": "code",
   "execution_count": 20,
   "metadata": {
    "id": "Nz3GdQB1_Zcu"
   },
   "outputs": [],
   "source": [
    "# <создание функции number_tracks()>\n",
    "def number_tracks(day,city):\n",
    "# Объявляется функция с двумя параметрами: day, city.\n",
    "# В переменной track_list сохраняются те строки таблицы df, для которых \n",
    "# значение в столбце 'day' равно параметру day и одновременно значение\n",
    "# в столбце 'city' равно параметру city (используйте последовательную фильтрацию\n",
    "# с помощью логической индексации).\n",
    "    track_list = df[(df['day']==day) & (df['city']==city)]\n",
    "# В переменной track_list_count сохраняется число значений столбца 'user_id',\n",
    "    track_list_count = track_list['user_id'].count()# рассчитанное методом count() для таблицы track_list.\n",
    "    return track_list_count# Функция возвращает число - значение track_list_count.\n",
    "# Функция для подсчёта прослушиваний для конкретного города и дня.\n",
    "# С помощью последовательной фильтрации с логической индексацией она \n",
    "# сначала получит из исходной таблицы строки с нужным днём,\n",
    "# затем из результата отфильтрует строки с нужным городом,\n",
    "# методом count() посчитает количество значений в колонке user_id. \n",
    "# Это количество функция вернёт в качестве результата"
   ]
  },
  {
   "cell_type": "markdown",
   "metadata": {
    "id": "ytf7xFrFJQ2r"
   },
   "source": [
    "Вызовим `number_tracks()` шесть раз, меняя значение параметров — так, чтобы получить данные для каждого города в каждый из трёх дней."
   ]
  },
  {
   "cell_type": "code",
   "execution_count": 21,
   "metadata": {
    "id": "rJcRATNQ_Zcu"
   },
   "outputs": [
    {
     "data": {
      "text/plain": [
       "15740"
      ]
     },
     "execution_count": 21,
     "metadata": {},
     "output_type": "execute_result"
    }
   ],
   "source": [
    "# количество прослушиваний в Москве по понедельникам\n",
    "number_tracks('Monday', 'Moscow')"
   ]
  },
  {
   "cell_type": "code",
   "execution_count": 22,
   "metadata": {
    "id": "hq_ncZ5T_Zcu"
   },
   "outputs": [
    {
     "data": {
      "text/plain": [
       "5614"
      ]
     },
     "execution_count": 22,
     "metadata": {},
     "output_type": "execute_result"
    }
   ],
   "source": [
    "# количество прослушиваний в Санкт-Петербурге по понедельникам\n",
    "number_tracks('Monday','Saint-Petersburg')"
   ]
  },
  {
   "cell_type": "code",
   "execution_count": 23,
   "metadata": {
    "id": "_NTy2VPU_Zcu"
   },
   "outputs": [
    {
     "data": {
      "text/plain": [
       "11056"
      ]
     },
     "execution_count": 23,
     "metadata": {},
     "output_type": "execute_result"
    }
   ],
   "source": [
    "# количество прослушиваний в Москве по средам\n",
    "number_tracks('Wednesday','Moscow')"
   ]
  },
  {
   "cell_type": "code",
   "execution_count": 24,
   "metadata": {
    "id": "j2y3TAwo_Zcu"
   },
   "outputs": [
    {
     "data": {
      "text/plain": [
       "7003"
      ]
     },
     "execution_count": 24,
     "metadata": {},
     "output_type": "execute_result"
    }
   ],
   "source": [
    "# количество прослушиваний в Санкт-Петербурге по средам\n",
    "number_tracks('Wednesday','Saint-Petersburg')"
   ]
  },
  {
   "cell_type": "code",
   "execution_count": 25,
   "metadata": {
    "id": "vYDw5u_K_Zcu"
   },
   "outputs": [
    {
     "data": {
      "text/plain": [
       "15945"
      ]
     },
     "execution_count": 25,
     "metadata": {},
     "output_type": "execute_result"
    }
   ],
   "source": [
    "# количество прослушиваний в Москве по пятницам\n",
    "number_tracks('Friday','Moscow')"
   ]
  },
  {
   "cell_type": "code",
   "execution_count": 26,
   "metadata": {
    "id": "8_yzFtW3_Zcu"
   },
   "outputs": [
    {
     "data": {
      "text/plain": [
       "5895"
      ]
     },
     "execution_count": 26,
     "metadata": {},
     "output_type": "execute_result"
    }
   ],
   "source": [
    "# количество прослушиваний в Санкт-Петербурге по пятницам\n",
    "number_tracks('Friday','Saint-Petersburg')"
   ]
  },
  {
   "cell_type": "markdown",
   "metadata": {
    "id": "7QXffbO-_Zcu"
   },
   "source": [
    "Создадим c помощью конструктора `pd.DataFrame` таблицу, где\n",
    "* названия колонок — `['city', 'monday', 'wednesday', 'friday']`;\n",
    "* данные — результаты, которые вы получили с помощью `number_tracks`."
   ]
  },
  {
   "cell_type": "code",
   "execution_count": 27,
   "metadata": {
    "id": "APAcLpOr_Zcu"
   },
   "outputs": [
    {
     "data": {
      "text/html": [
       "<div>\n",
       "<style scoped>\n",
       "    .dataframe tbody tr th:only-of-type {\n",
       "        vertical-align: middle;\n",
       "    }\n",
       "\n",
       "    .dataframe tbody tr th {\n",
       "        vertical-align: top;\n",
       "    }\n",
       "\n",
       "    .dataframe thead th {\n",
       "        text-align: right;\n",
       "    }\n",
       "</style>\n",
       "<table border=\"1\" class=\"dataframe\">\n",
       "  <thead>\n",
       "    <tr style=\"text-align: right;\">\n",
       "      <th></th>\n",
       "      <th>city</th>\n",
       "      <th>monday</th>\n",
       "      <th>wednesday</th>\n",
       "      <th>friday</th>\n",
       "    </tr>\n",
       "  </thead>\n",
       "  <tbody>\n",
       "    <tr>\n",
       "      <th>0</th>\n",
       "      <td>Moscow</td>\n",
       "      <td>15740</td>\n",
       "      <td>11056</td>\n",
       "      <td>15945</td>\n",
       "    </tr>\n",
       "    <tr>\n",
       "      <th>1</th>\n",
       "      <td>Saint-Petersburg</td>\n",
       "      <td>5614</td>\n",
       "      <td>7003</td>\n",
       "      <td>5895</td>\n",
       "    </tr>\n",
       "  </tbody>\n",
       "</table>\n",
       "</div>"
      ],
      "text/plain": [
       "               city  monday  wednesday  friday\n",
       "0            Moscow   15740      11056   15945\n",
       "1  Saint-Petersburg    5614       7003    5895"
      ]
     },
     "execution_count": 27,
     "metadata": {},
     "output_type": "execute_result"
    }
   ],
   "source": [
    "# Таблица с результатами\n",
    "data=[['Moscow',15740,11056,15945],\n",
    "      ['Saint-Petersburg',5614,7003,5895]]\n",
    "columns=['city', 'monday', 'wednesday', 'friday']\n",
    "pd.DataFrame(data = data, columns = columns)"
   ]
  },
  {
   "cell_type": "markdown",
   "metadata": {
    "id": "-EgPIHYu_Zcu"
   },
   "source": [
    "**Выводы**\n",
    "\n",
    "Данные показывают разницу поведения пользователей:\n",
    "\n",
    "- В Москве пик прослушиваний приходится на понедельник и пятницу, а в среду заметен спад.\n",
    "- В Петербурге, наоборот, больше слушают музыку по средам. Активность в понедельник и пятницу здесь почти в равной мере уступает среде.\n",
    "\n",
    "Значит, данные говорят в пользу первой гипотезы."
   ]
  },
  {
   "cell_type": "markdown",
   "metadata": {
    "id": "atZAxtq4_Zcu"
   },
   "source": [
    "### Музыка в начале и в конце недели"
   ]
  },
  {
   "cell_type": "markdown",
   "metadata": {
    "id": "eXrQqXFH_Zcu"
   },
   "source": [
    "Согласно второй гипотезе, утром в понедельник в Москве преобладают одни жанры, а в Петербурге — другие. Так же и вечером пятницы преобладают разные жанры — в зависимости от города."
   ]
  },
  {
   "cell_type": "markdown",
   "metadata": {
    "id": "S8UcW6Hw_Zcu"
   },
   "source": [
    "Сохраним таблицы с данными в две переменные:\n",
    "* по Москве — в `moscow_general`;\n",
    "* по Санкт-Петербургу — в `spb_general`."
   ]
  },
  {
   "cell_type": "code",
   "execution_count": 28,
   "metadata": {
    "id": "qeaFfM_P_Zcu"
   },
   "outputs": [
    {
     "data": {
      "text/html": [
       "<div>\n",
       "<style scoped>\n",
       "    .dataframe tbody tr th:only-of-type {\n",
       "        vertical-align: middle;\n",
       "    }\n",
       "\n",
       "    .dataframe tbody tr th {\n",
       "        vertical-align: top;\n",
       "    }\n",
       "\n",
       "    .dataframe thead th {\n",
       "        text-align: right;\n",
       "    }\n",
       "</style>\n",
       "<table border=\"1\" class=\"dataframe\">\n",
       "  <thead>\n",
       "    <tr style=\"text-align: right;\">\n",
       "      <th></th>\n",
       "      <th>user_id</th>\n",
       "      <th>track</th>\n",
       "      <th>artist</th>\n",
       "      <th>genre</th>\n",
       "      <th>city</th>\n",
       "      <th>time</th>\n",
       "      <th>day</th>\n",
       "    </tr>\n",
       "  </thead>\n",
       "  <tbody>\n",
       "    <tr>\n",
       "      <th>1</th>\n",
       "      <td>55204538</td>\n",
       "      <td>Delayed Because of Accident</td>\n",
       "      <td>Andreas Rönnberg</td>\n",
       "      <td>rock</td>\n",
       "      <td>Moscow</td>\n",
       "      <td>14:07:09</td>\n",
       "      <td>Friday</td>\n",
       "    </tr>\n",
       "    <tr>\n",
       "      <th>4</th>\n",
       "      <td>E2DC1FAE</td>\n",
       "      <td>Soul People</td>\n",
       "      <td>Space Echo</td>\n",
       "      <td>dance</td>\n",
       "      <td>Moscow</td>\n",
       "      <td>08:34:34</td>\n",
       "      <td>Monday</td>\n",
       "    </tr>\n",
       "    <tr>\n",
       "      <th>6</th>\n",
       "      <td>4CB90AA5</td>\n",
       "      <td>True</td>\n",
       "      <td>Roman Messer</td>\n",
       "      <td>dance</td>\n",
       "      <td>Moscow</td>\n",
       "      <td>13:00:07</td>\n",
       "      <td>Wednesday</td>\n",
       "    </tr>\n",
       "    <tr>\n",
       "      <th>7</th>\n",
       "      <td>F03E1C1F</td>\n",
       "      <td>Feeling This Way</td>\n",
       "      <td>Polina Griffith</td>\n",
       "      <td>dance</td>\n",
       "      <td>Moscow</td>\n",
       "      <td>20:47:49</td>\n",
       "      <td>Wednesday</td>\n",
       "    </tr>\n",
       "    <tr>\n",
       "      <th>8</th>\n",
       "      <td>8FA1D3BE</td>\n",
       "      <td>И вновь продолжается бой</td>\n",
       "      <td>unknown</td>\n",
       "      <td>ruspop</td>\n",
       "      <td>Moscow</td>\n",
       "      <td>09:17:40</td>\n",
       "      <td>Friday</td>\n",
       "    </tr>\n",
       "  </tbody>\n",
       "</table>\n",
       "</div>"
      ],
      "text/plain": [
       "    user_id                        track            artist   genre    city  \\\n",
       "1  55204538  Delayed Because of Accident  Andreas Rönnberg    rock  Moscow   \n",
       "4  E2DC1FAE                  Soul People        Space Echo   dance  Moscow   \n",
       "6  4CB90AA5                         True      Roman Messer   dance  Moscow   \n",
       "7  F03E1C1F             Feeling This Way   Polina Griffith   dance  Moscow   \n",
       "8  8FA1D3BE     И вновь продолжается бой           unknown  ruspop  Moscow   \n",
       "\n",
       "       time        day  \n",
       "1  14:07:09     Friday  \n",
       "4  08:34:34     Monday  \n",
       "6  13:00:07  Wednesday  \n",
       "7  20:47:49  Wednesday  \n",
       "8  09:17:40     Friday  "
      ]
     },
     "execution_count": 28,
     "metadata": {},
     "output_type": "execute_result"
    }
   ],
   "source": [
    "# получение таблицы moscow_general из тех строк таблицы df,\n",
    "# для которых значение в столбце 'city' равно 'Moscow'\n",
    "moscow_general=df[df['city']=='Moscow']\n",
    "moscow_general.head()"
   ]
  },
  {
   "cell_type": "code",
   "execution_count": 29,
   "metadata": {
    "id": "ORaVRKto_Zcu"
   },
   "outputs": [
    {
     "data": {
      "text/html": [
       "<div>\n",
       "<style scoped>\n",
       "    .dataframe tbody tr th:only-of-type {\n",
       "        vertical-align: middle;\n",
       "    }\n",
       "\n",
       "    .dataframe tbody tr th {\n",
       "        vertical-align: top;\n",
       "    }\n",
       "\n",
       "    .dataframe thead th {\n",
       "        text-align: right;\n",
       "    }\n",
       "</style>\n",
       "<table border=\"1\" class=\"dataframe\">\n",
       "  <thead>\n",
       "    <tr style=\"text-align: right;\">\n",
       "      <th></th>\n",
       "      <th>user_id</th>\n",
       "      <th>track</th>\n",
       "      <th>artist</th>\n",
       "      <th>genre</th>\n",
       "      <th>city</th>\n",
       "      <th>time</th>\n",
       "      <th>day</th>\n",
       "    </tr>\n",
       "  </thead>\n",
       "  <tbody>\n",
       "    <tr>\n",
       "      <th>0</th>\n",
       "      <td>FFB692EC</td>\n",
       "      <td>Kamigata To Boots</td>\n",
       "      <td>The Mass Missile</td>\n",
       "      <td>rock</td>\n",
       "      <td>Saint-Petersburg</td>\n",
       "      <td>20:28:33</td>\n",
       "      <td>Wednesday</td>\n",
       "    </tr>\n",
       "    <tr>\n",
       "      <th>2</th>\n",
       "      <td>20EC38</td>\n",
       "      <td>Funiculì funiculà</td>\n",
       "      <td>Mario Lanza</td>\n",
       "      <td>pop</td>\n",
       "      <td>Saint-Petersburg</td>\n",
       "      <td>20:58:07</td>\n",
       "      <td>Wednesday</td>\n",
       "    </tr>\n",
       "    <tr>\n",
       "      <th>3</th>\n",
       "      <td>A3DD03C9</td>\n",
       "      <td>Dragons in the Sunset</td>\n",
       "      <td>Fire + Ice</td>\n",
       "      <td>folk</td>\n",
       "      <td>Saint-Petersburg</td>\n",
       "      <td>08:37:09</td>\n",
       "      <td>Monday</td>\n",
       "    </tr>\n",
       "    <tr>\n",
       "      <th>5</th>\n",
       "      <td>842029A1</td>\n",
       "      <td>Преданная</td>\n",
       "      <td>IMPERVTOR</td>\n",
       "      <td>rusrap</td>\n",
       "      <td>Saint-Petersburg</td>\n",
       "      <td>13:09:41</td>\n",
       "      <td>Friday</td>\n",
       "    </tr>\n",
       "    <tr>\n",
       "      <th>9</th>\n",
       "      <td>E772D5C0</td>\n",
       "      <td>Pessimist</td>\n",
       "      <td>unknown</td>\n",
       "      <td>dance</td>\n",
       "      <td>Saint-Petersburg</td>\n",
       "      <td>21:20:49</td>\n",
       "      <td>Wednesday</td>\n",
       "    </tr>\n",
       "  </tbody>\n",
       "</table>\n",
       "</div>"
      ],
      "text/plain": [
       "    user_id                  track            artist   genre  \\\n",
       "0  FFB692EC      Kamigata To Boots  The Mass Missile    rock   \n",
       "2    20EC38      Funiculì funiculà       Mario Lanza     pop   \n",
       "3  A3DD03C9  Dragons in the Sunset        Fire + Ice    folk   \n",
       "5  842029A1              Преданная         IMPERVTOR  rusrap   \n",
       "9  E772D5C0              Pessimist           unknown   dance   \n",
       "\n",
       "               city      time        day  \n",
       "0  Saint-Petersburg  20:28:33  Wednesday  \n",
       "2  Saint-Petersburg  20:58:07  Wednesday  \n",
       "3  Saint-Petersburg  08:37:09     Monday  \n",
       "5  Saint-Petersburg  13:09:41     Friday  \n",
       "9  Saint-Petersburg  21:20:49  Wednesday  "
      ]
     },
     "execution_count": 29,
     "metadata": {},
     "output_type": "execute_result"
    }
   ],
   "source": [
    "# получение таблицы spb_general из тех строк таблицы df,\n",
    "# для которых значение в столбце 'city' равно 'Saint-Petersburg'\n",
    "spb_general=df[df['city']=='Saint-Petersburg']\n",
    "spb_general.head()"
   ]
  },
  {
   "cell_type": "markdown",
   "metadata": {
    "id": "MEJV-CX2_Zcu"
   },
   "source": [
    "Создадим функцию `genre_weekday()` с четырьмя параметрами:\n",
    "* таблица (датафрейм) с данными,\n",
    "* день недели,\n",
    "* начальная временная метка в формате 'hh:mm', \n",
    "* последняя временная метка в формате 'hh:mm'.\n",
    "\n",
    "Функция должна вернуть информацию о топ-10 жанров тех треков, которые прослушивали в указанный день, в промежутке между двумя отметками времени."
   ]
  },
  {
   "cell_type": "code",
   "execution_count": 30,
   "metadata": {
    "id": "laJT9BYl_Zcu"
   },
   "outputs": [],
   "source": [
    "# Объявление функции genre_weekday() с параметрами table, day, time1, time2,\n",
    "# которая возвращает информацию о самых популярных жанрах в указанный день в\n",
    "# заданное время:\n",
    "def genre_weekday(table,day,time1,time2):\n",
    "    \n",
    "# 1) в переменную genre_df сохраняются те строки переданного датафрейма table, для\n",
    "#    которых одновременно:\n",
    "    genre_df = table[(table['day'] == day) & (table['time'] > time1) & (table['time'] < time2)]\n",
    "#    - значение в столбце day равно значению аргумента day\n",
    "#    - значение в столбце time больше значения аргумента time1\n",
    "#    - значение в столбце time меньше значения аргумента time2\n",
    "#    Используйте последовательную фильтрацию с помощью логической индексации.\n",
    "# 2) сгруппировать датафрейм genre_df по столбцу genre, взять один из его\n",
    "#    столбцов и посчитать методом count() количество записей для каждого из\n",
    "#    присутствующих жанров, получившийся Series записать в переменную\n",
    "#    genre_df_count\n",
    "    genre_df_count = genre_df.groupby(by='genre')['genre'].count()\n",
    "# 3) отсортировать genre_df_count по убыванию встречаемости и сохранить\n",
    "#    в переменную genre_df_sorted\n",
    "    genre_df_sorted = genre_df_count.sort_values(ascending=False)\n",
    "# 4) вернуть Series из 10 первых значений genre_df_sorted, это будут топ-10\n",
    "#    популярных жанров (в указанный день, в заданное время)\n",
    "    return genre_df_sorted.head(10)"
   ]
  },
  {
   "cell_type": "markdown",
   "metadata": {
    "id": "la2s2_PF_Zcu"
   },
   "source": [
    "Cравним результаты функции `genre_weekday()` для Москвы и Санкт-Петербурга в понедельник утром (с 7:00 до 11:00) и в пятницу вечером (с 17:00 до 23:00):"
   ]
  },
  {
   "cell_type": "code",
   "execution_count": 31,
   "metadata": {
    "id": "yz7itPUQ_Zcu"
   },
   "outputs": [
    {
     "data": {
      "text/plain": [
       "genre\n",
       "pop            781\n",
       "dance          549\n",
       "electronic     480\n",
       "rock           474\n",
       "hiphop         286\n",
       "ruspop         186\n",
       "world          181\n",
       "rusrap         175\n",
       "alternative    164\n",
       "unknown        161\n",
       "Name: genre, dtype: int64"
      ]
     },
     "execution_count": 31,
     "metadata": {},
     "output_type": "execute_result"
    }
   ],
   "source": [
    "# вызов функции для утра понедельника в Москве (вместо df — таблица moscow_general)\n",
    "# объекты, хранящие время, являются строками и сравниваются как строки\n",
    "# пример вызова: genre_weekday(moscow_general, 'Monday', '07:00', '11:00')\n",
    "genre_weekday(moscow_general, 'Monday', '07:00', '11:00')"
   ]
  },
  {
   "cell_type": "code",
   "execution_count": 32,
   "metadata": {
    "id": "kwUcHPdy_Zcu"
   },
   "outputs": [
    {
     "data": {
      "text/plain": [
       "genre\n",
       "pop            218\n",
       "dance          182\n",
       "rock           162\n",
       "electronic     147\n",
       "hiphop          80\n",
       "ruspop          64\n",
       "alternative     58\n",
       "rusrap          55\n",
       "jazz            44\n",
       "classical       40\n",
       "Name: genre, dtype: int64"
      ]
     },
     "execution_count": 32,
     "metadata": {},
     "output_type": "execute_result"
    }
   ],
   "source": [
    "# вызов функции для утра понедельника в Петербурге (вместо df — таблица spb_general)\n",
    "genre_weekday(spb_general, 'Monday', '07:00', '11:00')"
   ]
  },
  {
   "cell_type": "code",
   "execution_count": 33,
   "metadata": {
    "id": "EzXVRE1o_Zcu"
   },
   "outputs": [
    {
     "data": {
      "text/plain": [
       "genre\n",
       "pop            713\n",
       "rock           517\n",
       "dance          495\n",
       "electronic     482\n",
       "hiphop         273\n",
       "world          208\n",
       "ruspop         170\n",
       "alternative    163\n",
       "classical      163\n",
       "rusrap         142\n",
       "Name: genre, dtype: int64"
      ]
     },
     "execution_count": 33,
     "metadata": {},
     "output_type": "execute_result"
    }
   ],
   "source": [
    "# вызов функции для вечера пятницы в Москве\n",
    "genre_weekday(moscow_general, 'Friday', '17:00', '23:00')"
   ]
  },
  {
   "cell_type": "code",
   "execution_count": 34,
   "metadata": {
    "id": "JZaEKu5v_Zcu"
   },
   "outputs": [
    {
     "data": {
      "text/plain": [
       "genre\n",
       "pop            211\n",
       "dance          192\n",
       "electronic     167\n",
       "rock           156\n",
       "hiphop         109\n",
       "classical       56\n",
       "rusrap          55\n",
       "alternative     55\n",
       "world           46\n",
       "ruspop          45\n",
       "Name: genre, dtype: int64"
      ]
     },
     "execution_count": 34,
     "metadata": {},
     "output_type": "execute_result"
    }
   ],
   "source": [
    "# вызов функции для вечера пятницы в Петербурге\n",
    "genre_weekday(spb_general, 'Friday', '07:00', '11:00')"
   ]
  },
  {
   "cell_type": "markdown",
   "metadata": {
    "id": "wrCe4MNX_Zcu"
   },
   "source": [
    "**Выводы**\n",
    "\n",
    "Если сравнить топ-10 жанров в понедельник утром, можно сделать такие выводы:\n",
    "\n",
    "1. В Москве и Петербурге слушают похожую музыку. Единственное отличие — в московский рейтинг вошёл жанр “world”, а в петербургский — джаз и классика.\n",
    "\n",
    "2. В Москве пропущенных значений оказалось так много, что значение `'unknown'` заняло десятое место среди самых популярных жанров. Значит, пропущенные значения занимают существенную долю в данных и угрожают достоверности исследования.\n",
    "\n",
    "Вечер пятницы не меняет эту картину. Некоторые жанры поднимаются немного выше, другие спускаются, но в целом топ-10 остаётся тем же самым.\n",
    "\n",
    "Таким образом, вторая гипотеза подтвердилась лишь частично:\n",
    "* Пользователи слушают похожую музыку в начале недели и в конце.\n",
    "* Разница между Москвой и Петербургом не слишком выражена. В Москве чаще слушают русскую популярную музыку, в Петербурге — джаз.\n",
    "\n",
    "Однако пропуски в данных ставят под сомнение этот результат. В Москве их так много, что рейтинг топ-10 мог бы выглядеть иначе, если бы не утерянные  данные о жанрах."
   ]
  },
  {
   "cell_type": "markdown",
   "metadata": {
    "id": "JolODAqr_Zcu"
   },
   "source": [
    "### Жанровые предпочтения в Москве и Петербурге\n",
    "\n",
    "Гипотеза: Петербург — столица рэпа, музыку этого жанра там слушают чаще, чем в Москве.  А Москва — город контрастов, в котором, тем не менее, преобладает поп-музыка."
   ]
  },
  {
   "cell_type": "markdown",
   "metadata": {
    "id": "DlegSvaT_Zcu"
   },
   "source": [
    "Сгруппируем таблицу `moscow_general` по жанру и посчитайте прослушивания треков каждого жанра методом `count()`. Затем отсортируем результат в порядке убывания и сохраним его в таблице `moscow_genres`."
   ]
  },
  {
   "cell_type": "code",
   "execution_count": 35,
   "metadata": {
    "id": "r19lIPke_Zcu"
   },
   "outputs": [],
   "source": [
    "# одной строкой: группировка таблицы moscow_general по столбцу 'genre',\n",
    "moscow_genres = moscow_general.groupby('genre')['genre'].count().sort_values(ascending=False)\n",
    "# подсчёт числа значений 'genre' в этой группировке методом count(), \n",
    "# сортировка получившегося Series в порядке убывания и сохранение в moscow_genres"
   ]
  },
  {
   "cell_type": "markdown",
   "metadata": {
    "id": "6kMuomxTiIr8"
   },
   "source": [
    "Выведем на экран первые десять строк `moscow_genres`:"
   ]
  },
  {
   "cell_type": "code",
   "execution_count": 36,
   "metadata": {
    "id": "WhCSooF8_Zcv"
   },
   "outputs": [
    {
     "data": {
      "text/plain": [
       "genre\n",
       "pop            5892\n",
       "dance          4435\n",
       "rock           3965\n",
       "electronic     3786\n",
       "hiphop         2096\n",
       "classical      1616\n",
       "world          1432\n",
       "alternative    1379\n",
       "ruspop         1372\n",
       "rusrap         1161\n",
       "Name: genre, dtype: int64"
      ]
     },
     "metadata": {},
     "output_type": "display_data"
    }
   ],
   "source": [
    "# просмотр первых 10 строк moscow_genres\n",
    "display(moscow_genres.head(10))"
   ]
  },
  {
   "cell_type": "markdown",
   "metadata": {
    "id": "cnPG2vnN_Zcv"
   },
   "source": [
    "Теперь повторим то же и для Петербурга.\n",
    "\n",
    "Сгруппируем таблицу `spb_general` по жанру. Посчитаем прослушивания треков каждого жанра. Результат отсортируем в порядке убывания и сохраним в таблице `spb_genres`:\n"
   ]
  },
  {
   "cell_type": "code",
   "execution_count": 37,
   "metadata": {
    "id": "gluLIpE7_Zcv"
   },
   "outputs": [],
   "source": [
    "spb_genres = spb_general.groupby('genre')['genre'].count().sort_values(ascending=False)\n",
    "# одной строкой: группировка таблицы spb_general по столбцу 'genre',\n",
    "# подсчёт числа значений 'genre' в этой группировке методом count(), \n",
    "# сортировка получившегося Series в порядке убывания и сохранение в spb_genres"
   ]
  },
  {
   "cell_type": "markdown",
   "metadata": {
    "id": "5Doha_ODgyQ8"
   },
   "source": [
    "Выведем на экран первые десять строк `spb_genres`:"
   ]
  },
  {
   "cell_type": "code",
   "execution_count": 38,
   "metadata": {
    "id": "uaGJHjVU_Zcv"
   },
   "outputs": [
    {
     "data": {
      "text/plain": [
       "genre\n",
       "pop            2431\n",
       "dance          1932\n",
       "rock           1879\n",
       "electronic     1736\n",
       "hiphop          960\n",
       "alternative     649\n",
       "classical       646\n",
       "rusrap          564\n",
       "ruspop          538\n",
       "world           515\n",
       "Name: genre, dtype: int64"
      ]
     },
     "metadata": {},
     "output_type": "display_data"
    }
   ],
   "source": [
    "display(spb_genres.head(10))\n",
    "# просмотр первых 10 строк spb_genres"
   ]
  },
  {
   "cell_type": "markdown",
   "metadata": {
    "id": "RY51YJYu_Zcv"
   },
   "source": [
    "**Выводы**"
   ]
  },
  {
   "cell_type": "markdown",
   "metadata": {
    "id": "nVhnJEm__Zcv"
   },
   "source": [
    "Гипотеза частично подтвердилась:\n",
    "* Поп-музыка — самый популярный жанр в Москве, как и предполагала гипотеза. Более того, в топ-10 жанров встречается близкий жанр — русская популярная музыка.\n",
    "* Вопреки ожиданиям, рэп одинаково популярен в Москве и Петербурге. \n"
   ]
  },
  {
   "cell_type": "markdown",
   "metadata": {
    "id": "ykKQ0N65_Zcv"
   },
   "source": [
    "## Итоги исследования"
   ]
  },
  {
   "cell_type": "markdown",
   "metadata": {
    "id": "tjUwbHb3_Zcv"
   },
   "source": [
    "Мы проверили три гипотезы и установили:\n",
    "\n",
    "1. День недели по-разному влияет на активность пользователей в Москве и Петербурге. \n",
    "\n",
    "Первая гипотеза полностью подтвердилась.\n",
    "\n",
    "2. Музыкальные предпочтения не сильно меняются в течение недели — будь то Москва или Петербург. Небольшие различия заметны в начале недели, по понедельникам:\n",
    "* в Москве слушают музыку жанра “world”,\n",
    "* в Петербурге — джаз и классику.\n",
    "\n",
    "Таким образом, вторая гипотеза подтвердилась лишь отчасти. Этот результат мог оказаться иным, если бы не пропуски в данных.\n",
    "\n",
    "3. Во вкусах пользователей Москвы и Петербурга больше общего чем различий. Вопреки ожиданиям, предпочтения жанров в Петербурге напоминают московские.\n",
    "\n",
    "Третья гипотеза не подтвердилась. Если различия в предпочтениях и существуют, на основной массе пользователей они незаметны.\n",
    "\n",
    "**На практике исследования содержат проверки статистических гипотез.**\n",
    "Из данных одного сервиса не всегда можно сделать вывод о всех жителях города.\n",
    "Проверки статистических гипотез покажут, насколько они достоверны, исходя из имеющихся данных. \n",
    "С методами проверок гипотез вы ещё познакомитесь в следующих темах."
   ]
  }
 ],
 "metadata": {
  "ExecuteTimeLog": [
   {
    "duration": 5,
    "start_time": "2022-05-11T17:46:35.336Z"
   },
   {
    "duration": 72,
    "start_time": "2022-05-11T17:48:25.628Z"
   },
   {
    "duration": 9,
    "start_time": "2022-05-11T17:48:35.184Z"
   },
   {
    "duration": 502,
    "start_time": "2022-05-11T17:49:14.494Z"
   },
   {
    "duration": 4,
    "start_time": "2022-05-11T17:49:18.563Z"
   },
   {
    "duration": 3,
    "start_time": "2022-05-11T17:49:23.419Z"
   },
   {
    "duration": 40,
    "start_time": "2022-05-11T17:50:27.020Z"
   },
   {
    "duration": 4,
    "start_time": "2022-05-11T17:51:09.133Z"
   },
   {
    "duration": 202,
    "start_time": "2022-05-11T17:51:22.771Z"
   },
   {
    "duration": 40,
    "start_time": "2022-05-11T17:51:31.582Z"
   },
   {
    "duration": 312,
    "start_time": "2022-05-11T17:51:38.272Z"
   },
   {
    "duration": 204,
    "start_time": "2022-05-11T17:51:44.817Z"
   },
   {
    "duration": 40,
    "start_time": "2022-05-11T17:52:52.581Z"
   },
   {
    "duration": 5,
    "start_time": "2022-05-11T17:54:43.659Z"
   },
   {
    "duration": 5,
    "start_time": "2022-05-11T18:01:32.258Z"
   },
   {
    "duration": 167,
    "start_time": "2022-05-11T18:01:37.161Z"
   },
   {
    "duration": 16,
    "start_time": "2022-05-11T18:01:59.243Z"
   },
   {
    "duration": 8,
    "start_time": "2022-05-11T18:02:02.647Z"
   },
   {
    "duration": 96,
    "start_time": "2022-05-11T18:04:00.812Z"
   },
   {
    "duration": 96,
    "start_time": "2022-05-11T18:04:33.275Z"
   },
   {
    "duration": 39,
    "start_time": "2022-05-11T18:08:26.449Z"
   },
   {
    "duration": 163,
    "start_time": "2022-05-11T18:10:24.842Z"
   },
   {
    "duration": 65,
    "start_time": "2022-05-11T18:11:41.235Z"
   },
   {
    "duration": 23,
    "start_time": "2022-05-11T18:12:25.898Z"
   },
   {
    "duration": 22,
    "start_time": "2022-05-11T18:12:47.282Z"
   },
   {
    "duration": 24,
    "start_time": "2022-05-11T18:13:10.809Z"
   },
   {
    "duration": 13,
    "start_time": "2022-05-11T18:13:19.669Z"
   },
   {
    "duration": 22,
    "start_time": "2022-05-11T18:13:23.354Z"
   },
   {
    "duration": 4,
    "start_time": "2022-05-11T18:13:40.571Z"
   },
   {
    "duration": 22,
    "start_time": "2022-05-11T18:13:45.455Z"
   },
   {
    "duration": 29,
    "start_time": "2022-05-11T18:14:59.220Z"
   },
   {
    "duration": 11,
    "start_time": "2022-05-11T18:15:43.871Z"
   },
   {
    "duration": 11,
    "start_time": "2022-05-11T18:15:49.994Z"
   },
   {
    "duration": 23,
    "start_time": "2022-05-11T18:15:53.113Z"
   },
   {
    "duration": 25,
    "start_time": "2022-05-11T18:16:30.231Z"
   },
   {
    "duration": 22,
    "start_time": "2022-05-11T18:16:47.882Z"
   },
   {
    "duration": 23,
    "start_time": "2022-05-11T18:21:34.387Z"
   },
   {
    "duration": 54,
    "start_time": "2022-05-11T18:22:17.822Z"
   },
   {
    "duration": 54,
    "start_time": "2022-05-11T18:22:31.935Z"
   },
   {
    "duration": 50,
    "start_time": "2022-05-11T18:22:42.778Z"
   },
   {
    "duration": 58,
    "start_time": "2022-05-11T18:24:37.412Z"
   },
   {
    "duration": 56,
    "start_time": "2022-05-11T18:24:42.976Z"
   },
   {
    "duration": 50,
    "start_time": "2022-05-11T18:24:59.007Z"
   },
   {
    "duration": 119,
    "start_time": "2022-05-11T18:26:37.189Z"
   },
   {
    "duration": 6,
    "start_time": "2022-05-11T18:26:43.800Z"
   },
   {
    "duration": 26,
    "start_time": "2022-05-11T18:27:22.328Z"
   },
   {
    "duration": 197,
    "start_time": "2022-05-11T18:28:20.263Z"
   },
   {
    "duration": 3,
    "start_time": "2022-05-11T18:28:28.978Z"
   },
   {
    "duration": 204,
    "start_time": "2022-05-11T18:28:30.573Z"
   },
   {
    "duration": 17,
    "start_time": "2022-05-11T18:28:31.381Z"
   },
   {
    "duration": 45,
    "start_time": "2022-05-11T18:28:39.271Z"
   },
   {
    "duration": 6,
    "start_time": "2022-05-11T18:28:45.104Z"
   },
   {
    "duration": 12,
    "start_time": "2022-05-11T18:28:50.515Z"
   },
   {
    "duration": 6,
    "start_time": "2022-05-11T18:28:57.508Z"
   },
   {
    "duration": 35,
    "start_time": "2022-05-11T18:30:09.843Z"
   },
   {
    "duration": 10,
    "start_time": "2022-05-11T18:31:04.935Z"
   },
   {
    "duration": 14,
    "start_time": "2022-05-11T18:31:14.840Z"
   },
   {
    "duration": 23,
    "start_time": "2022-05-11T18:31:37.411Z"
   },
   {
    "duration": 34,
    "start_time": "2022-05-11T18:32:02.950Z"
   },
   {
    "duration": 23,
    "start_time": "2022-05-11T18:32:07.709Z"
   },
   {
    "duration": 36,
    "start_time": "2022-05-11T18:32:10.839Z"
   },
   {
    "duration": 52,
    "start_time": "2022-05-11T18:32:22.358Z"
   },
   {
    "duration": 46,
    "start_time": "2022-05-11T18:33:44.514Z"
   },
   {
    "duration": 1863,
    "start_time": "2022-05-11T18:38:09.378Z"
   },
   {
    "duration": 1953,
    "start_time": "2022-05-11T18:39:30.145Z"
   },
   {
    "duration": 2073,
    "start_time": "2022-05-11T18:39:49.889Z"
   },
   {
    "duration": 44,
    "start_time": "2022-05-12T05:26:27.949Z"
   },
   {
    "duration": 6,
    "start_time": "2022-05-12T05:27:14.480Z"
   },
   {
    "duration": 6,
    "start_time": "2022-05-12T05:29:41.569Z"
   },
   {
    "duration": 6,
    "start_time": "2022-05-12T05:30:09.707Z"
   },
   {
    "duration": 5,
    "start_time": "2022-05-12T05:30:16.020Z"
   },
   {
    "duration": 6,
    "start_time": "2022-05-12T05:30:22.608Z"
   },
   {
    "duration": 6,
    "start_time": "2022-05-12T05:30:32.639Z"
   },
   {
    "duration": 382,
    "start_time": "2022-05-12T05:30:46.880Z"
   },
   {
    "duration": 140,
    "start_time": "2022-05-12T05:30:48.480Z"
   },
   {
    "duration": 19,
    "start_time": "2022-05-12T05:30:50.020Z"
   },
   {
    "duration": 7,
    "start_time": "2022-05-12T05:31:14.451Z"
   },
   {
    "duration": 28,
    "start_time": "2022-05-12T05:39:40.821Z"
   },
   {
    "duration": 9,
    "start_time": "2022-05-12T05:40:03.762Z"
   },
   {
    "duration": 9,
    "start_time": "2022-05-12T05:40:47.101Z"
   },
   {
    "duration": 9,
    "start_time": "2022-05-12T05:40:58.631Z"
   },
   {
    "duration": 7,
    "start_time": "2022-05-12T05:41:11.312Z"
   },
   {
    "duration": 7,
    "start_time": "2022-05-12T05:43:05.410Z"
   },
   {
    "duration": 11,
    "start_time": "2022-05-12T05:50:37.249Z"
   },
   {
    "duration": 11,
    "start_time": "2022-05-12T05:51:32.610Z"
   },
   {
    "duration": 11,
    "start_time": "2022-05-12T05:51:37.089Z"
   },
   {
    "duration": 18,
    "start_time": "2022-05-12T05:51:59.331Z"
   },
   {
    "duration": 10,
    "start_time": "2022-05-12T05:54:29.084Z"
   },
   {
    "duration": 2,
    "start_time": "2022-05-12T06:01:47.049Z"
   },
   {
    "duration": 3,
    "start_time": "2022-05-12T06:01:51.798Z"
   },
   {
    "duration": 1769,
    "start_time": "2022-05-12T06:04:10.231Z"
   },
   {
    "duration": 10,
    "start_time": "2022-05-12T06:04:24.613Z"
   },
   {
    "duration": 1910,
    "start_time": "2022-05-12T06:04:32.390Z"
   },
   {
    "duration": 44,
    "start_time": "2022-05-12T06:05:06.393Z"
   },
   {
    "duration": 9,
    "start_time": "2022-05-12T06:05:23.020Z"
   },
   {
    "duration": 6,
    "start_time": "2022-05-12T06:05:42.351Z"
   },
   {
    "duration": 12,
    "start_time": "2022-05-12T06:06:05.021Z"
   },
   {
    "duration": 12,
    "start_time": "2022-05-12T06:06:19.131Z"
   },
   {
    "duration": 13,
    "start_time": "2022-05-12T06:06:26.331Z"
   },
   {
    "duration": 9,
    "start_time": "2022-05-12T06:06:49.080Z"
   },
   {
    "duration": 12,
    "start_time": "2022-05-12T06:07:29.961Z"
   },
   {
    "duration": 9,
    "start_time": "2022-05-12T06:07:43.242Z"
   },
   {
    "duration": 7,
    "start_time": "2022-05-12T06:14:42.409Z"
   },
   {
    "duration": 9,
    "start_time": "2022-05-12T06:15:27.878Z"
   },
   {
    "duration": 7,
    "start_time": "2022-05-12T06:16:16.739Z"
   },
   {
    "duration": 8,
    "start_time": "2022-05-12T06:16:41.771Z"
   },
   {
    "duration": 9,
    "start_time": "2022-05-12T06:16:46.840Z"
   },
   {
    "duration": 8,
    "start_time": "2022-05-12T06:17:13.113Z"
   },
   {
    "duration": 10,
    "start_time": "2022-05-12T06:20:14.529Z"
   },
   {
    "duration": 10,
    "start_time": "2022-05-12T06:20:31.031Z"
   },
   {
    "duration": 2,
    "start_time": "2022-05-12T06:24:28.250Z"
   },
   {
    "duration": 142,
    "start_time": "2022-05-12T06:24:29.740Z"
   },
   {
    "duration": 11,
    "start_time": "2022-05-12T06:24:30.620Z"
   },
   {
    "duration": 58,
    "start_time": "2022-05-12T06:24:31.720Z"
   },
   {
    "duration": 5,
    "start_time": "2022-05-12T06:24:35.330Z"
   },
   {
    "duration": 11,
    "start_time": "2022-05-12T06:24:36.999Z"
   },
   {
    "duration": 3,
    "start_time": "2022-05-12T06:24:37.831Z"
   },
   {
    "duration": 22,
    "start_time": "2022-05-12T06:24:38.508Z"
   },
   {
    "duration": 17,
    "start_time": "2022-05-12T06:24:42.420Z"
   },
   {
    "duration": 23,
    "start_time": "2022-05-12T06:24:44.050Z"
   },
   {
    "duration": 62,
    "start_time": "2022-05-12T06:24:46.011Z"
   },
   {
    "duration": 78,
    "start_time": "2022-05-12T06:24:48.120Z"
   },
   {
    "duration": 55,
    "start_time": "2022-05-12T06:24:48.860Z"
   },
   {
    "duration": 7,
    "start_time": "2022-05-12T06:24:51.131Z"
   },
   {
    "duration": 11,
    "start_time": "2022-05-12T06:24:54.210Z"
   },
   {
    "duration": 32,
    "start_time": "2022-05-12T06:24:55.211Z"
   },
   {
    "duration": 11,
    "start_time": "2022-05-12T06:25:05.400Z"
   },
   {
    "duration": 61,
    "start_time": "2022-05-12T06:25:21.841Z"
   },
   {
    "duration": 11,
    "start_time": "2022-05-12T06:28:46.859Z"
   },
   {
    "duration": 19,
    "start_time": "2022-05-12T06:30:32.430Z"
   },
   {
    "duration": 8,
    "start_time": "2022-05-12T06:30:43.051Z"
   },
   {
    "duration": 19,
    "start_time": "2022-05-12T06:32:36.640Z"
   },
   {
    "duration": 7,
    "start_time": "2022-05-12T06:32:40.001Z"
   },
   {
    "duration": 38,
    "start_time": "2022-05-12T06:32:45.570Z"
   },
   {
    "duration": 4,
    "start_time": "2022-05-12T06:55:11.126Z"
   },
   {
    "duration": 30,
    "start_time": "2022-05-12T06:55:36.596Z"
   },
   {
    "duration": 106,
    "start_time": "2022-05-12T07:27:41.061Z"
   },
   {
    "duration": 108,
    "start_time": "2022-05-12T07:31:32.834Z"
   },
   {
    "duration": 3,
    "start_time": "2022-05-12T07:32:05.303Z"
   },
   {
    "duration": 4,
    "start_time": "2022-05-12T07:32:09.453Z"
   },
   {
    "duration": 3,
    "start_time": "2022-05-12T07:32:22.656Z"
   },
   {
    "duration": 7,
    "start_time": "2022-05-12T07:34:31.563Z"
   },
   {
    "duration": 16,
    "start_time": "2022-05-12T07:34:53.533Z"
   },
   {
    "duration": 16,
    "start_time": "2022-05-12T07:35:00.078Z"
   },
   {
    "duration": 22,
    "start_time": "2022-05-12T07:35:24.563Z"
   },
   {
    "duration": 415,
    "start_time": "2022-05-12T07:35:35.627Z"
   },
   {
    "duration": 151,
    "start_time": "2022-05-12T07:35:36.044Z"
   },
   {
    "duration": 16,
    "start_time": "2022-05-12T07:35:36.196Z"
   },
   {
    "duration": 28,
    "start_time": "2022-05-12T07:35:36.214Z"
   },
   {
    "duration": 6,
    "start_time": "2022-05-12T07:35:36.262Z"
   },
   {
    "duration": 22,
    "start_time": "2022-05-12T07:35:36.274Z"
   },
   {
    "duration": 6,
    "start_time": "2022-05-12T07:35:36.298Z"
   },
   {
    "duration": 26,
    "start_time": "2022-05-12T07:35:36.306Z"
   },
   {
    "duration": 29,
    "start_time": "2022-05-12T07:35:36.334Z"
   },
   {
    "duration": 32,
    "start_time": "2022-05-12T07:35:36.366Z"
   },
   {
    "duration": 102,
    "start_time": "2022-05-12T07:35:36.400Z"
   },
   {
    "duration": 81,
    "start_time": "2022-05-12T07:35:36.504Z"
   },
   {
    "duration": 54,
    "start_time": "2022-05-12T07:35:36.587Z"
   },
   {
    "duration": 25,
    "start_time": "2022-05-12T07:35:36.643Z"
   },
   {
    "duration": 19,
    "start_time": "2022-05-12T07:35:36.670Z"
   },
   {
    "duration": 17,
    "start_time": "2022-05-12T07:35:36.691Z"
   },
   {
    "duration": 7,
    "start_time": "2022-05-12T07:35:36.710Z"
   },
   {
    "duration": 52,
    "start_time": "2022-05-12T07:35:36.718Z"
   },
   {
    "duration": 33,
    "start_time": "2022-05-12T07:35:36.772Z"
   },
   {
    "duration": 4,
    "start_time": "2022-05-12T07:35:36.807Z"
   },
   {
    "duration": 87,
    "start_time": "2022-05-12T07:35:36.813Z"
   },
   {
    "duration": 0,
    "start_time": "2022-05-12T07:35:36.902Z"
   },
   {
    "duration": 0,
    "start_time": "2022-05-12T07:35:36.904Z"
   },
   {
    "duration": 0,
    "start_time": "2022-05-12T07:35:36.905Z"
   },
   {
    "duration": 0,
    "start_time": "2022-05-12T07:35:36.906Z"
   },
   {
    "duration": 0,
    "start_time": "2022-05-12T07:35:36.908Z"
   },
   {
    "duration": 0,
    "start_time": "2022-05-12T07:35:36.909Z"
   },
   {
    "duration": 0,
    "start_time": "2022-05-12T07:35:36.910Z"
   },
   {
    "duration": 0,
    "start_time": "2022-05-12T07:35:36.912Z"
   },
   {
    "duration": 0,
    "start_time": "2022-05-12T07:35:36.914Z"
   },
   {
    "duration": 0,
    "start_time": "2022-05-12T07:35:36.915Z"
   },
   {
    "duration": 0,
    "start_time": "2022-05-12T07:35:36.916Z"
   },
   {
    "duration": 0,
    "start_time": "2022-05-12T07:35:36.917Z"
   },
   {
    "duration": 0,
    "start_time": "2022-05-12T07:35:36.919Z"
   },
   {
    "duration": 0,
    "start_time": "2022-05-12T07:35:36.920Z"
   },
   {
    "duration": 0,
    "start_time": "2022-05-12T07:35:36.921Z"
   },
   {
    "duration": 0,
    "start_time": "2022-05-12T07:35:36.923Z"
   },
   {
    "duration": 0,
    "start_time": "2022-05-12T07:35:36.924Z"
   },
   {
    "duration": 25,
    "start_time": "2022-05-12T07:37:05.270Z"
   },
   {
    "duration": 4,
    "start_time": "2022-05-12T07:37:08.119Z"
   },
   {
    "duration": 3,
    "start_time": "2022-05-12T07:37:54.032Z"
   },
   {
    "duration": 195,
    "start_time": "2022-05-12T07:37:55.521Z"
   },
   {
    "duration": 14,
    "start_time": "2022-05-12T07:37:56.490Z"
   },
   {
    "duration": 41,
    "start_time": "2022-05-12T07:37:57.432Z"
   },
   {
    "duration": 7,
    "start_time": "2022-05-12T07:37:58.471Z"
   },
   {
    "duration": 7,
    "start_time": "2022-05-12T07:37:58.901Z"
   },
   {
    "duration": 4,
    "start_time": "2022-05-12T07:37:59.239Z"
   },
   {
    "duration": 22,
    "start_time": "2022-05-12T07:38:01.179Z"
   },
   {
    "duration": 17,
    "start_time": "2022-05-12T07:38:01.730Z"
   },
   {
    "duration": 24,
    "start_time": "2022-05-12T07:38:02.530Z"
   },
   {
    "duration": 62,
    "start_time": "2022-05-12T07:38:02.928Z"
   },
   {
    "duration": 68,
    "start_time": "2022-05-12T07:38:03.950Z"
   },
   {
    "duration": 59,
    "start_time": "2022-05-12T07:38:06.423Z"
   },
   {
    "duration": 7,
    "start_time": "2022-05-12T07:38:07.603Z"
   },
   {
    "duration": 13,
    "start_time": "2022-05-12T07:38:08.861Z"
   },
   {
    "duration": 24,
    "start_time": "2022-05-12T07:38:11.156Z"
   },
   {
    "duration": 9,
    "start_time": "2022-05-12T07:38:12.975Z"
   },
   {
    "duration": 33,
    "start_time": "2022-05-12T07:38:17.241Z"
   },
   {
    "duration": 39,
    "start_time": "2022-05-12T07:38:19.560Z"
   },
   {
    "duration": 3,
    "start_time": "2022-05-12T07:38:21.453Z"
   },
   {
    "duration": 21,
    "start_time": "2022-05-12T07:38:24.879Z"
   },
   {
    "duration": 18,
    "start_time": "2022-05-12T07:38:43.790Z"
   },
   {
    "duration": 18,
    "start_time": "2022-05-12T07:40:32.231Z"
   },
   {
    "duration": 6,
    "start_time": "2022-05-12T07:41:40.060Z"
   },
   {
    "duration": 17,
    "start_time": "2022-05-12T07:41:42.981Z"
   },
   {
    "duration": 23,
    "start_time": "2022-05-12T07:41:44.550Z"
   },
   {
    "duration": 7,
    "start_time": "2022-05-12T07:45:04.029Z"
   },
   {
    "duration": 8,
    "start_time": "2022-05-12T07:45:08.562Z"
   },
   {
    "duration": 7,
    "start_time": "2022-05-12T07:45:16.847Z"
   },
   {
    "duration": 6,
    "start_time": "2022-05-12T07:45:22.441Z"
   },
   {
    "duration": 7,
    "start_time": "2022-05-12T07:45:58.281Z"
   },
   {
    "duration": 3,
    "start_time": "2022-05-12T07:46:01.817Z"
   },
   {
    "duration": 6,
    "start_time": "2022-05-12T07:46:03.737Z"
   },
   {
    "duration": 7,
    "start_time": "2022-05-12T07:46:15.020Z"
   },
   {
    "duration": 1852,
    "start_time": "2022-05-12T07:51:12.280Z"
   },
   {
    "duration": 1934,
    "start_time": "2022-05-12T07:51:17.243Z"
   },
   {
    "duration": 24,
    "start_time": "2022-05-12T07:51:37.301Z"
   },
   {
    "duration": 458,
    "start_time": "2022-05-12T08:07:50.750Z"
   },
   {
    "duration": 136,
    "start_time": "2022-05-12T08:07:51.211Z"
   },
   {
    "duration": 23,
    "start_time": "2022-05-12T08:07:51.351Z"
   },
   {
    "duration": 33,
    "start_time": "2022-05-12T08:07:51.376Z"
   },
   {
    "duration": 4,
    "start_time": "2022-05-12T08:07:51.411Z"
   },
   {
    "duration": 11,
    "start_time": "2022-05-12T08:07:51.417Z"
   },
   {
    "duration": 34,
    "start_time": "2022-05-12T08:07:51.430Z"
   },
   {
    "duration": 31,
    "start_time": "2022-05-12T08:07:51.467Z"
   },
   {
    "duration": 16,
    "start_time": "2022-05-12T08:07:51.500Z"
   },
   {
    "duration": 23,
    "start_time": "2022-05-12T08:07:51.518Z"
   },
   {
    "duration": 83,
    "start_time": "2022-05-12T08:07:51.542Z"
   },
   {
    "duration": 81,
    "start_time": "2022-05-12T08:07:51.626Z"
   },
   {
    "duration": 72,
    "start_time": "2022-05-12T08:07:51.709Z"
   },
   {
    "duration": 8,
    "start_time": "2022-05-12T08:07:51.782Z"
   },
   {
    "duration": 19,
    "start_time": "2022-05-12T08:07:51.791Z"
   },
   {
    "duration": 21,
    "start_time": "2022-05-12T08:07:51.811Z"
   },
   {
    "duration": 10,
    "start_time": "2022-05-12T08:07:51.833Z"
   },
   {
    "duration": 51,
    "start_time": "2022-05-12T08:07:51.844Z"
   },
   {
    "duration": 29,
    "start_time": "2022-05-12T08:07:51.897Z"
   },
   {
    "duration": 3,
    "start_time": "2022-05-12T08:07:51.928Z"
   },
   {
    "duration": 116,
    "start_time": "2022-05-12T08:07:51.933Z"
   },
   {
    "duration": 0,
    "start_time": "2022-05-12T08:07:52.051Z"
   },
   {
    "duration": 0,
    "start_time": "2022-05-12T08:07:52.053Z"
   },
   {
    "duration": 0,
    "start_time": "2022-05-12T08:07:52.054Z"
   },
   {
    "duration": 0,
    "start_time": "2022-05-12T08:07:52.056Z"
   },
   {
    "duration": 0,
    "start_time": "2022-05-12T08:07:52.062Z"
   },
   {
    "duration": 0,
    "start_time": "2022-05-12T08:07:52.063Z"
   },
   {
    "duration": 0,
    "start_time": "2022-05-12T08:07:52.064Z"
   },
   {
    "duration": 0,
    "start_time": "2022-05-12T08:07:52.066Z"
   },
   {
    "duration": 0,
    "start_time": "2022-05-12T08:07:52.067Z"
   },
   {
    "duration": 0,
    "start_time": "2022-05-12T08:07:52.068Z"
   },
   {
    "duration": 0,
    "start_time": "2022-05-12T08:07:52.069Z"
   },
   {
    "duration": 0,
    "start_time": "2022-05-12T08:07:52.070Z"
   },
   {
    "duration": 0,
    "start_time": "2022-05-12T08:07:52.071Z"
   },
   {
    "duration": 0,
    "start_time": "2022-05-12T08:07:52.072Z"
   },
   {
    "duration": 0,
    "start_time": "2022-05-12T08:07:52.073Z"
   },
   {
    "duration": 0,
    "start_time": "2022-05-12T08:07:52.074Z"
   },
   {
    "duration": 0,
    "start_time": "2022-05-12T08:07:52.075Z"
   },
   {
    "duration": 22,
    "start_time": "2022-05-12T08:08:04.243Z"
   },
   {
    "duration": 18,
    "start_time": "2022-05-12T08:09:24.723Z"
   },
   {
    "duration": 3,
    "start_time": "2022-05-12T08:10:51.843Z"
   },
   {
    "duration": 6,
    "start_time": "2022-05-12T08:10:56.350Z"
   },
   {
    "duration": 4,
    "start_time": "2022-05-12T08:11:01.533Z"
   },
   {
    "duration": 23,
    "start_time": "2022-05-12T08:11:33.704Z"
   },
   {
    "duration": 25,
    "start_time": "2022-05-12T08:18:43.603Z"
   },
   {
    "duration": 23,
    "start_time": "2022-05-12T08:18:45.494Z"
   },
   {
    "duration": 3,
    "start_time": "2022-05-12T08:18:46.717Z"
   },
   {
    "duration": 6,
    "start_time": "2022-05-12T08:18:47.883Z"
   },
   {
    "duration": 359,
    "start_time": "2022-05-12T08:18:55.311Z"
   },
   {
    "duration": 183,
    "start_time": "2022-05-12T08:18:55.672Z"
   },
   {
    "duration": 21,
    "start_time": "2022-05-12T08:18:55.857Z"
   },
   {
    "duration": 29,
    "start_time": "2022-05-12T08:18:55.880Z"
   },
   {
    "duration": 4,
    "start_time": "2022-05-12T08:18:55.910Z"
   },
   {
    "duration": 14,
    "start_time": "2022-05-12T08:18:55.915Z"
   },
   {
    "duration": 5,
    "start_time": "2022-05-12T08:18:55.930Z"
   },
   {
    "duration": 51,
    "start_time": "2022-05-12T08:18:55.936Z"
   },
   {
    "duration": 17,
    "start_time": "2022-05-12T08:18:55.988Z"
   },
   {
    "duration": 23,
    "start_time": "2022-05-12T08:18:56.008Z"
   },
   {
    "duration": 85,
    "start_time": "2022-05-12T08:18:56.033Z"
   },
   {
    "duration": 76,
    "start_time": "2022-05-12T08:18:56.119Z"
   },
   {
    "duration": 53,
    "start_time": "2022-05-12T08:18:56.197Z"
   },
   {
    "duration": 15,
    "start_time": "2022-05-12T08:18:56.262Z"
   },
   {
    "duration": 14,
    "start_time": "2022-05-12T08:18:56.279Z"
   },
   {
    "duration": 18,
    "start_time": "2022-05-12T08:18:56.295Z"
   },
   {
    "duration": 7,
    "start_time": "2022-05-12T08:18:56.315Z"
   },
   {
    "duration": 76,
    "start_time": "2022-05-12T08:18:56.323Z"
   },
   {
    "duration": 31,
    "start_time": "2022-05-12T08:18:56.401Z"
   },
   {
    "duration": 3,
    "start_time": "2022-05-12T08:18:56.433Z"
   },
   {
    "duration": 80,
    "start_time": "2022-05-12T08:18:56.438Z"
   },
   {
    "duration": 0,
    "start_time": "2022-05-12T08:18:56.520Z"
   },
   {
    "duration": 0,
    "start_time": "2022-05-12T08:18:56.521Z"
   },
   {
    "duration": 0,
    "start_time": "2022-05-12T08:18:56.522Z"
   },
   {
    "duration": 1,
    "start_time": "2022-05-12T08:18:56.523Z"
   },
   {
    "duration": 0,
    "start_time": "2022-05-12T08:18:56.524Z"
   },
   {
    "duration": 0,
    "start_time": "2022-05-12T08:18:56.525Z"
   },
   {
    "duration": 0,
    "start_time": "2022-05-12T08:18:56.527Z"
   },
   {
    "duration": 0,
    "start_time": "2022-05-12T08:18:56.528Z"
   },
   {
    "duration": 0,
    "start_time": "2022-05-12T08:18:56.528Z"
   },
   {
    "duration": 1,
    "start_time": "2022-05-12T08:18:56.529Z"
   },
   {
    "duration": 0,
    "start_time": "2022-05-12T08:18:56.530Z"
   },
   {
    "duration": 0,
    "start_time": "2022-05-12T08:18:56.531Z"
   },
   {
    "duration": 0,
    "start_time": "2022-05-12T08:18:56.532Z"
   },
   {
    "duration": 0,
    "start_time": "2022-05-12T08:18:56.533Z"
   },
   {
    "duration": 0,
    "start_time": "2022-05-12T08:18:56.562Z"
   },
   {
    "duration": 0,
    "start_time": "2022-05-12T08:18:56.563Z"
   },
   {
    "duration": 0,
    "start_time": "2022-05-12T08:18:56.563Z"
   },
   {
    "duration": 430,
    "start_time": "2022-05-12T09:55:27.892Z"
   },
   {
    "duration": 280,
    "start_time": "2022-05-12T09:55:28.325Z"
   },
   {
    "duration": 27,
    "start_time": "2022-05-12T09:55:28.607Z"
   },
   {
    "duration": 64,
    "start_time": "2022-05-12T09:55:28.637Z"
   },
   {
    "duration": 5,
    "start_time": "2022-05-12T09:55:28.703Z"
   },
   {
    "duration": 20,
    "start_time": "2022-05-12T09:55:28.710Z"
   },
   {
    "duration": 8,
    "start_time": "2022-05-12T09:55:28.732Z"
   },
   {
    "duration": 39,
    "start_time": "2022-05-12T09:55:28.766Z"
   },
   {
    "duration": 40,
    "start_time": "2022-05-12T09:55:28.807Z"
   },
   {
    "duration": 51,
    "start_time": "2022-05-12T09:55:28.861Z"
   },
   {
    "duration": 67,
    "start_time": "2022-05-12T09:55:28.914Z"
   },
   {
    "duration": 100,
    "start_time": "2022-05-12T09:55:28.983Z"
   },
   {
    "duration": 62,
    "start_time": "2022-05-12T09:55:29.085Z"
   },
   {
    "duration": 21,
    "start_time": "2022-05-12T09:55:29.149Z"
   },
   {
    "duration": 36,
    "start_time": "2022-05-12T09:55:29.175Z"
   },
   {
    "duration": 21,
    "start_time": "2022-05-12T09:55:29.214Z"
   },
   {
    "duration": 10,
    "start_time": "2022-05-12T09:55:29.237Z"
   },
   {
    "duration": 61,
    "start_time": "2022-05-12T09:55:29.249Z"
   },
   {
    "duration": 67,
    "start_time": "2022-05-12T09:55:29.312Z"
   },
   {
    "duration": 5,
    "start_time": "2022-05-12T09:55:29.381Z"
   },
   {
    "duration": 61,
    "start_time": "2022-05-12T09:55:29.388Z"
   },
   {
    "duration": 0,
    "start_time": "2022-05-12T09:55:29.451Z"
   },
   {
    "duration": 0,
    "start_time": "2022-05-12T09:55:29.452Z"
   },
   {
    "duration": 0,
    "start_time": "2022-05-12T09:55:29.453Z"
   },
   {
    "duration": 0,
    "start_time": "2022-05-12T09:55:29.454Z"
   },
   {
    "duration": 0,
    "start_time": "2022-05-12T09:55:29.455Z"
   },
   {
    "duration": 0,
    "start_time": "2022-05-12T09:55:29.456Z"
   },
   {
    "duration": 0,
    "start_time": "2022-05-12T09:55:29.457Z"
   },
   {
    "duration": 0,
    "start_time": "2022-05-12T09:55:29.458Z"
   },
   {
    "duration": 0,
    "start_time": "2022-05-12T09:55:29.459Z"
   },
   {
    "duration": 0,
    "start_time": "2022-05-12T09:55:29.460Z"
   },
   {
    "duration": 0,
    "start_time": "2022-05-12T09:55:29.461Z"
   },
   {
    "duration": 0,
    "start_time": "2022-05-12T09:55:29.477Z"
   },
   {
    "duration": 0,
    "start_time": "2022-05-12T09:55:29.478Z"
   },
   {
    "duration": 0,
    "start_time": "2022-05-12T09:55:29.479Z"
   },
   {
    "duration": 0,
    "start_time": "2022-05-12T09:55:29.480Z"
   },
   {
    "duration": 0,
    "start_time": "2022-05-12T09:55:29.482Z"
   },
   {
    "duration": 0,
    "start_time": "2022-05-12T09:55:29.483Z"
   },
   {
    "duration": 8,
    "start_time": "2022-05-12T09:56:24.408Z"
   },
   {
    "duration": 19,
    "start_time": "2022-05-12T09:56:27.442Z"
   },
   {
    "duration": 418,
    "start_time": "2022-05-12T09:56:39.155Z"
   },
   {
    "duration": 220,
    "start_time": "2022-05-12T09:56:39.579Z"
   },
   {
    "duration": 22,
    "start_time": "2022-05-12T09:56:39.801Z"
   },
   {
    "duration": 47,
    "start_time": "2022-05-12T09:56:39.825Z"
   },
   {
    "duration": 17,
    "start_time": "2022-05-12T09:56:39.874Z"
   },
   {
    "duration": 15,
    "start_time": "2022-05-12T09:56:39.893Z"
   },
   {
    "duration": 9,
    "start_time": "2022-05-12T09:56:39.909Z"
   },
   {
    "duration": 52,
    "start_time": "2022-05-12T09:56:39.920Z"
   },
   {
    "duration": 33,
    "start_time": "2022-05-12T09:56:39.974Z"
   },
   {
    "duration": 34,
    "start_time": "2022-05-12T09:56:40.011Z"
   },
   {
    "duration": 75,
    "start_time": "2022-05-12T09:56:40.046Z"
   },
   {
    "duration": 92,
    "start_time": "2022-05-12T09:56:40.123Z"
   },
   {
    "duration": 65,
    "start_time": "2022-05-12T09:56:40.217Z"
   },
   {
    "duration": 13,
    "start_time": "2022-05-12T09:56:40.283Z"
   },
   {
    "duration": 12,
    "start_time": "2022-05-12T09:56:40.298Z"
   },
   {
    "duration": 19,
    "start_time": "2022-05-12T09:56:40.311Z"
   },
   {
    "duration": 39,
    "start_time": "2022-05-12T09:56:40.331Z"
   },
   {
    "duration": 52,
    "start_time": "2022-05-12T09:56:40.372Z"
   },
   {
    "duration": 33,
    "start_time": "2022-05-12T09:56:40.426Z"
   },
   {
    "duration": 7,
    "start_time": "2022-05-12T09:56:40.460Z"
   },
   {
    "duration": 156,
    "start_time": "2022-05-12T09:56:40.468Z"
   },
   {
    "duration": 0,
    "start_time": "2022-05-12T09:56:40.626Z"
   },
   {
    "duration": 0,
    "start_time": "2022-05-12T09:56:40.627Z"
   },
   {
    "duration": 0,
    "start_time": "2022-05-12T09:56:40.628Z"
   },
   {
    "duration": 0,
    "start_time": "2022-05-12T09:56:40.630Z"
   },
   {
    "duration": 0,
    "start_time": "2022-05-12T09:56:40.631Z"
   },
   {
    "duration": 0,
    "start_time": "2022-05-12T09:56:40.632Z"
   },
   {
    "duration": 0,
    "start_time": "2022-05-12T09:56:40.633Z"
   },
   {
    "duration": 0,
    "start_time": "2022-05-12T09:56:40.634Z"
   },
   {
    "duration": 0,
    "start_time": "2022-05-12T09:56:40.636Z"
   },
   {
    "duration": 0,
    "start_time": "2022-05-12T09:56:40.637Z"
   },
   {
    "duration": 0,
    "start_time": "2022-05-12T09:56:40.638Z"
   },
   {
    "duration": 0,
    "start_time": "2022-05-12T09:56:40.639Z"
   },
   {
    "duration": 0,
    "start_time": "2022-05-12T09:56:40.662Z"
   },
   {
    "duration": 0,
    "start_time": "2022-05-12T09:56:40.662Z"
   },
   {
    "duration": 0,
    "start_time": "2022-05-12T09:56:40.663Z"
   },
   {
    "duration": 0,
    "start_time": "2022-05-12T09:56:40.665Z"
   },
   {
    "duration": 0,
    "start_time": "2022-05-12T09:56:40.666Z"
   },
   {
    "duration": 5,
    "start_time": "2022-05-12T09:56:51.894Z"
   },
   {
    "duration": 24,
    "start_time": "2022-05-12T09:56:54.067Z"
   },
   {
    "duration": 4,
    "start_time": "2022-05-12T09:57:23.426Z"
   },
   {
    "duration": 25,
    "start_time": "2022-05-12T09:57:25.924Z"
   },
   {
    "duration": 14,
    "start_time": "2022-05-12T09:57:28.302Z"
   },
   {
    "duration": 13,
    "start_time": "2022-05-12T10:06:43.423Z"
   },
   {
    "duration": 16,
    "start_time": "2022-05-12T10:06:44.302Z"
   },
   {
    "duration": 14,
    "start_time": "2022-05-12T10:06:45.203Z"
   },
   {
    "duration": 17,
    "start_time": "2022-05-12T10:06:45.903Z"
   },
   {
    "duration": 14,
    "start_time": "2022-05-12T10:06:46.634Z"
   },
   {
    "duration": 8,
    "start_time": "2022-05-12T10:17:55.849Z"
   },
   {
    "duration": 436,
    "start_time": "2022-05-12T10:34:08.012Z"
   },
   {
    "duration": 157,
    "start_time": "2022-05-12T10:34:08.450Z"
   },
   {
    "duration": 16,
    "start_time": "2022-05-12T10:34:08.609Z"
   },
   {
    "duration": 45,
    "start_time": "2022-05-12T10:34:08.627Z"
   },
   {
    "duration": 6,
    "start_time": "2022-05-12T10:34:08.674Z"
   },
   {
    "duration": 16,
    "start_time": "2022-05-12T10:34:08.682Z"
   },
   {
    "duration": 7,
    "start_time": "2022-05-12T10:34:08.699Z"
   },
   {
    "duration": 27,
    "start_time": "2022-05-12T10:34:08.707Z"
   },
   {
    "duration": 40,
    "start_time": "2022-05-12T10:34:08.736Z"
   },
   {
    "duration": 28,
    "start_time": "2022-05-12T10:34:08.779Z"
   },
   {
    "duration": 96,
    "start_time": "2022-05-12T10:34:08.809Z"
   },
   {
    "duration": 89,
    "start_time": "2022-05-12T10:34:08.907Z"
   },
   {
    "duration": 67,
    "start_time": "2022-05-12T10:34:08.998Z"
   },
   {
    "duration": 12,
    "start_time": "2022-05-12T10:34:09.066Z"
   },
   {
    "duration": 22,
    "start_time": "2022-05-12T10:34:09.081Z"
   },
   {
    "duration": 19,
    "start_time": "2022-05-12T10:34:09.106Z"
   },
   {
    "duration": 8,
    "start_time": "2022-05-12T10:34:09.127Z"
   },
   {
    "duration": 66,
    "start_time": "2022-05-12T10:34:09.137Z"
   },
   {
    "duration": 30,
    "start_time": "2022-05-12T10:34:09.205Z"
   },
   {
    "duration": 29,
    "start_time": "2022-05-12T10:34:09.237Z"
   },
   {
    "duration": 49,
    "start_time": "2022-05-12T10:34:09.268Z"
   },
   {
    "duration": 35,
    "start_time": "2022-05-12T10:34:09.319Z"
   },
   {
    "duration": 57,
    "start_time": "2022-05-12T10:34:09.356Z"
   },
   {
    "duration": 18,
    "start_time": "2022-05-12T10:34:09.416Z"
   },
   {
    "duration": 24,
    "start_time": "2022-05-12T10:34:09.435Z"
   },
   {
    "duration": 29,
    "start_time": "2022-05-12T10:34:09.461Z"
   },
   {
    "duration": 22,
    "start_time": "2022-05-12T10:34:09.492Z"
   },
   {
    "duration": 98,
    "start_time": "2022-05-12T10:34:09.518Z"
   },
   {
    "duration": 0,
    "start_time": "2022-05-12T10:34:09.619Z"
   },
   {
    "duration": 0,
    "start_time": "2022-05-12T10:34:09.620Z"
   },
   {
    "duration": 0,
    "start_time": "2022-05-12T10:34:09.621Z"
   },
   {
    "duration": 0,
    "start_time": "2022-05-12T10:34:09.622Z"
   },
   {
    "duration": 0,
    "start_time": "2022-05-12T10:34:09.624Z"
   },
   {
    "duration": 0,
    "start_time": "2022-05-12T10:34:09.625Z"
   },
   {
    "duration": 0,
    "start_time": "2022-05-12T10:34:09.626Z"
   },
   {
    "duration": 0,
    "start_time": "2022-05-12T10:34:09.628Z"
   },
   {
    "duration": 0,
    "start_time": "2022-05-12T10:34:09.629Z"
   },
   {
    "duration": 0,
    "start_time": "2022-05-12T10:34:09.630Z"
   },
   {
    "duration": 19,
    "start_time": "2022-05-12T10:38:36.545Z"
   },
   {
    "duration": 23,
    "start_time": "2022-05-12T10:40:20.773Z"
   },
   {
    "duration": 435,
    "start_time": "2022-05-12T10:41:54.487Z"
   },
   {
    "duration": 193,
    "start_time": "2022-05-12T10:41:54.924Z"
   },
   {
    "duration": 21,
    "start_time": "2022-05-12T10:41:55.119Z"
   },
   {
    "duration": 47,
    "start_time": "2022-05-12T10:41:55.141Z"
   },
   {
    "duration": 10,
    "start_time": "2022-05-12T10:41:55.193Z"
   },
   {
    "duration": 15,
    "start_time": "2022-05-12T10:41:55.205Z"
   },
   {
    "duration": 6,
    "start_time": "2022-05-12T10:41:55.222Z"
   },
   {
    "duration": 42,
    "start_time": "2022-05-12T10:41:55.230Z"
   },
   {
    "duration": 25,
    "start_time": "2022-05-12T10:41:55.275Z"
   },
   {
    "duration": 25,
    "start_time": "2022-05-12T10:41:55.301Z"
   },
   {
    "duration": 88,
    "start_time": "2022-05-12T10:41:55.327Z"
   },
   {
    "duration": 99,
    "start_time": "2022-05-12T10:41:55.416Z"
   },
   {
    "duration": 70,
    "start_time": "2022-05-12T10:41:55.517Z"
   },
   {
    "duration": 9,
    "start_time": "2022-05-12T10:41:55.591Z"
   },
   {
    "duration": 11,
    "start_time": "2022-05-12T10:41:55.602Z"
   },
   {
    "duration": 18,
    "start_time": "2022-05-12T10:41:55.615Z"
   },
   {
    "duration": 7,
    "start_time": "2022-05-12T10:41:55.634Z"
   },
   {
    "duration": 45,
    "start_time": "2022-05-12T10:41:55.666Z"
   },
   {
    "duration": 34,
    "start_time": "2022-05-12T10:41:55.713Z"
   },
   {
    "duration": 5,
    "start_time": "2022-05-12T10:41:55.774Z"
   },
   {
    "duration": 37,
    "start_time": "2022-05-12T10:41:55.780Z"
   },
   {
    "duration": 15,
    "start_time": "2022-05-12T10:41:55.819Z"
   },
   {
    "duration": 15,
    "start_time": "2022-05-12T10:41:55.836Z"
   },
   {
    "duration": 23,
    "start_time": "2022-05-12T10:41:55.852Z"
   },
   {
    "duration": 30,
    "start_time": "2022-05-12T10:41:55.878Z"
   },
   {
    "duration": 14,
    "start_time": "2022-05-12T10:41:55.909Z"
   },
   {
    "duration": 8,
    "start_time": "2022-05-12T10:41:55.925Z"
   },
   {
    "duration": 18,
    "start_time": "2022-05-12T10:41:55.935Z"
   },
   {
    "duration": 21,
    "start_time": "2022-05-12T10:41:55.967Z"
   },
   {
    "duration": 3,
    "start_time": "2022-05-12T10:41:55.990Z"
   },
   {
    "duration": 13,
    "start_time": "2022-05-12T10:41:55.995Z"
   },
   {
    "duration": 6,
    "start_time": "2022-05-12T10:41:56.010Z"
   },
   {
    "duration": 7,
    "start_time": "2022-05-12T10:41:56.017Z"
   },
   {
    "duration": 5,
    "start_time": "2022-05-12T10:41:56.025Z"
   },
   {
    "duration": 7,
    "start_time": "2022-05-12T10:41:56.031Z"
   },
   {
    "duration": 6,
    "start_time": "2022-05-12T10:41:56.039Z"
   },
   {
    "duration": 5,
    "start_time": "2022-05-12T10:41:56.047Z"
   },
   {
    "duration": 13,
    "start_time": "2022-05-12T10:41:56.054Z"
   },
   {
    "duration": 113,
    "start_time": "2022-05-12T11:06:04.527Z"
   },
   {
    "duration": 119,
    "start_time": "2022-05-12T11:06:08.987Z"
   },
   {
    "duration": 121,
    "start_time": "2022-05-12T11:06:53.369Z"
   },
   {
    "duration": 153,
    "start_time": "2022-05-12T11:07:16.737Z"
   },
   {
    "duration": 4,
    "start_time": "2022-05-12T11:08:22.543Z"
   },
   {
    "duration": 4,
    "start_time": "2022-05-12T11:08:33.710Z"
   },
   {
    "duration": 4,
    "start_time": "2022-05-12T11:32:47.730Z"
   },
   {
    "duration": 4,
    "start_time": "2022-05-12T11:32:51.104Z"
   },
   {
    "duration": 410,
    "start_time": "2022-05-12T11:33:01.808Z"
   },
   {
    "duration": 150,
    "start_time": "2022-05-12T11:33:02.220Z"
   },
   {
    "duration": 17,
    "start_time": "2022-05-12T11:33:02.371Z"
   },
   {
    "duration": 27,
    "start_time": "2022-05-12T11:33:02.390Z"
   },
   {
    "duration": 8,
    "start_time": "2022-05-12T11:33:02.419Z"
   },
   {
    "duration": 16,
    "start_time": "2022-05-12T11:33:02.428Z"
   },
   {
    "duration": 4,
    "start_time": "2022-05-12T11:33:02.463Z"
   },
   {
    "duration": 26,
    "start_time": "2022-05-12T11:33:02.469Z"
   },
   {
    "duration": 26,
    "start_time": "2022-05-12T11:33:02.497Z"
   },
   {
    "duration": 41,
    "start_time": "2022-05-12T11:33:02.526Z"
   },
   {
    "duration": 98,
    "start_time": "2022-05-12T11:33:02.569Z"
   },
   {
    "duration": 116,
    "start_time": "2022-05-12T11:33:02.668Z"
   },
   {
    "duration": 92,
    "start_time": "2022-05-12T11:33:02.786Z"
   },
   {
    "duration": 10,
    "start_time": "2022-05-12T11:33:02.880Z"
   },
   {
    "duration": 19,
    "start_time": "2022-05-12T11:33:02.892Z"
   },
   {
    "duration": 20,
    "start_time": "2022-05-12T11:33:02.913Z"
   },
   {
    "duration": 28,
    "start_time": "2022-05-12T11:33:02.935Z"
   },
   {
    "duration": 47,
    "start_time": "2022-05-12T11:33:02.964Z"
   },
   {
    "duration": 58,
    "start_time": "2022-05-12T11:33:03.013Z"
   },
   {
    "duration": 4,
    "start_time": "2022-05-12T11:33:03.073Z"
   },
   {
    "duration": 23,
    "start_time": "2022-05-12T11:33:03.078Z"
   },
   {
    "duration": 15,
    "start_time": "2022-05-12T11:33:03.103Z"
   },
   {
    "duration": 42,
    "start_time": "2022-05-12T11:33:03.120Z"
   },
   {
    "duration": 20,
    "start_time": "2022-05-12T11:33:03.164Z"
   },
   {
    "duration": 25,
    "start_time": "2022-05-12T11:33:03.185Z"
   },
   {
    "duration": 14,
    "start_time": "2022-05-12T11:33:03.212Z"
   },
   {
    "duration": 36,
    "start_time": "2022-05-12T11:33:03.227Z"
   },
   {
    "duration": 20,
    "start_time": "2022-05-12T11:33:03.266Z"
   },
   {
    "duration": 16,
    "start_time": "2022-05-12T11:33:03.289Z"
   },
   {
    "duration": 6,
    "start_time": "2022-05-12T11:33:03.307Z"
   },
   {
    "duration": 6,
    "start_time": "2022-05-12T11:33:03.314Z"
   },
   {
    "duration": 9,
    "start_time": "2022-05-12T11:33:03.322Z"
   },
   {
    "duration": 6,
    "start_time": "2022-05-12T11:33:03.333Z"
   },
   {
    "duration": 3,
    "start_time": "2022-05-12T11:33:03.362Z"
   },
   {
    "duration": 8,
    "start_time": "2022-05-12T11:33:03.367Z"
   },
   {
    "duration": 5,
    "start_time": "2022-05-12T11:33:03.377Z"
   },
   {
    "duration": 7,
    "start_time": "2022-05-12T11:33:03.383Z"
   },
   {
    "duration": 10,
    "start_time": "2022-05-12T11:33:03.392Z"
   },
   {
    "duration": 5,
    "start_time": "2022-05-12T11:33:41.355Z"
   },
   {
    "duration": 4,
    "start_time": "2022-05-12T11:33:57.835Z"
   },
   {
    "duration": 6,
    "start_time": "2022-05-12T11:34:23.397Z"
   },
   {
    "duration": 4,
    "start_time": "2022-05-12T11:37:10.684Z"
   },
   {
    "duration": 6,
    "start_time": "2022-05-12T11:37:24.838Z"
   },
   {
    "duration": 4,
    "start_time": "2022-05-12T11:37:29.115Z"
   },
   {
    "duration": 3,
    "start_time": "2022-05-12T11:37:31.104Z"
   },
   {
    "duration": 4,
    "start_time": "2022-05-12T11:37:36.603Z"
   },
   {
    "duration": 4,
    "start_time": "2022-05-12T11:38:35.914Z"
   },
   {
    "duration": 394,
    "start_time": "2022-05-12T11:38:44.314Z"
   },
   {
    "duration": 157,
    "start_time": "2022-05-12T11:38:44.710Z"
   },
   {
    "duration": 18,
    "start_time": "2022-05-12T11:38:44.868Z"
   },
   {
    "duration": 30,
    "start_time": "2022-05-12T11:38:44.888Z"
   },
   {
    "duration": 5,
    "start_time": "2022-05-12T11:38:44.920Z"
   },
   {
    "duration": 50,
    "start_time": "2022-05-12T11:38:44.926Z"
   },
   {
    "duration": 8,
    "start_time": "2022-05-12T11:38:44.978Z"
   },
   {
    "duration": 38,
    "start_time": "2022-05-12T11:38:44.988Z"
   },
   {
    "duration": 45,
    "start_time": "2022-05-12T11:38:45.028Z"
   },
   {
    "duration": 35,
    "start_time": "2022-05-12T11:38:45.075Z"
   },
   {
    "duration": 113,
    "start_time": "2022-05-12T11:38:45.112Z"
   },
   {
    "duration": 125,
    "start_time": "2022-05-12T11:38:45.227Z"
   },
   {
    "duration": 91,
    "start_time": "2022-05-12T11:38:45.354Z"
   },
   {
    "duration": 16,
    "start_time": "2022-05-12T11:38:45.450Z"
   },
   {
    "duration": 19,
    "start_time": "2022-05-12T11:38:45.468Z"
   },
   {
    "duration": 29,
    "start_time": "2022-05-12T11:38:45.490Z"
   },
   {
    "duration": 11,
    "start_time": "2022-05-12T11:38:45.521Z"
   },
   {
    "duration": 62,
    "start_time": "2022-05-12T11:38:45.563Z"
   },
   {
    "duration": 75,
    "start_time": "2022-05-12T11:38:45.627Z"
   },
   {
    "duration": 5,
    "start_time": "2022-05-12T11:38:45.704Z"
   },
   {
    "duration": 21,
    "start_time": "2022-05-12T11:38:45.711Z"
   },
   {
    "duration": 36,
    "start_time": "2022-05-12T11:38:45.734Z"
   },
   {
    "duration": 18,
    "start_time": "2022-05-12T11:38:45.772Z"
   },
   {
    "duration": 14,
    "start_time": "2022-05-12T11:38:45.792Z"
   },
   {
    "duration": 20,
    "start_time": "2022-05-12T11:38:45.807Z"
   },
   {
    "duration": 40,
    "start_time": "2022-05-12T11:38:45.829Z"
   },
   {
    "duration": 8,
    "start_time": "2022-05-12T11:38:45.871Z"
   },
   {
    "duration": 25,
    "start_time": "2022-05-12T11:38:45.881Z"
   },
   {
    "duration": 25,
    "start_time": "2022-05-12T11:38:45.908Z"
   },
   {
    "duration": 27,
    "start_time": "2022-05-12T11:38:45.936Z"
   },
   {
    "duration": 7,
    "start_time": "2022-05-12T11:38:45.965Z"
   },
   {
    "duration": 8,
    "start_time": "2022-05-12T11:38:45.974Z"
   },
   {
    "duration": 5,
    "start_time": "2022-05-12T11:38:45.983Z"
   },
   {
    "duration": 5,
    "start_time": "2022-05-12T11:38:45.990Z"
   },
   {
    "duration": 5,
    "start_time": "2022-05-12T11:38:45.996Z"
   },
   {
    "duration": 5,
    "start_time": "2022-05-12T11:38:46.003Z"
   },
   {
    "duration": 6,
    "start_time": "2022-05-12T11:38:46.009Z"
   },
   {
    "duration": 5,
    "start_time": "2022-05-12T11:38:46.016Z"
   },
   {
    "duration": 5,
    "start_time": "2022-05-12T11:39:05.881Z"
   },
   {
    "duration": 16,
    "start_time": "2022-05-12T11:39:13.927Z"
   },
   {
    "duration": 4,
    "start_time": "2022-05-12T11:39:15.981Z"
   },
   {
    "duration": 3,
    "start_time": "2022-05-12T11:39:17.940Z"
   },
   {
    "duration": 3,
    "start_time": "2022-05-12T11:39:18.753Z"
   },
   {
    "duration": 3,
    "start_time": "2022-05-12T11:39:19.449Z"
   },
   {
    "duration": 2,
    "start_time": "2022-05-12T11:39:20.021Z"
   },
   {
    "duration": 10,
    "start_time": "2022-05-13T12:00:35.444Z"
   },
   {
    "duration": 41,
    "start_time": "2022-05-13T12:00:37.960Z"
   },
   {
    "duration": 6,
    "start_time": "2022-05-13T12:00:38.533Z"
   },
   {
    "duration": 6,
    "start_time": "2022-05-13T12:00:39.639Z"
   },
   {
    "duration": 6,
    "start_time": "2022-05-13T12:00:40.605Z"
   },
   {
    "duration": 7,
    "start_time": "2022-05-13T12:01:57.214Z"
   },
   {
    "duration": 7,
    "start_time": "2022-05-13T12:02:25.688Z"
   },
   {
    "duration": 418,
    "start_time": "2022-05-13T12:02:42.801Z"
   },
   {
    "duration": 141,
    "start_time": "2022-05-13T12:02:43.221Z"
   },
   {
    "duration": 16,
    "start_time": "2022-05-13T12:02:43.364Z"
   },
   {
    "duration": 46,
    "start_time": "2022-05-13T12:02:43.381Z"
   },
   {
    "duration": 17,
    "start_time": "2022-05-13T12:02:43.429Z"
   },
   {
    "duration": 41,
    "start_time": "2022-05-13T12:02:43.448Z"
   },
   {
    "duration": 43,
    "start_time": "2022-05-13T12:02:43.491Z"
   },
   {
    "duration": 40,
    "start_time": "2022-05-13T12:02:43.536Z"
   },
   {
    "duration": 50,
    "start_time": "2022-05-13T12:02:43.577Z"
   },
   {
    "duration": 39,
    "start_time": "2022-05-13T12:02:43.629Z"
   },
   {
    "duration": 101,
    "start_time": "2022-05-13T12:02:43.670Z"
   },
   {
    "duration": 80,
    "start_time": "2022-05-13T12:02:43.773Z"
   },
   {
    "duration": 59,
    "start_time": "2022-05-13T12:02:43.855Z"
   },
   {
    "duration": 7,
    "start_time": "2022-05-13T12:02:43.915Z"
   },
   {
    "duration": 30,
    "start_time": "2022-05-13T12:02:43.924Z"
   },
   {
    "duration": 31,
    "start_time": "2022-05-13T12:02:43.956Z"
   },
   {
    "duration": 41,
    "start_time": "2022-05-13T12:02:43.988Z"
   },
   {
    "duration": 30,
    "start_time": "2022-05-13T12:02:44.031Z"
   },
   {
    "duration": 30,
    "start_time": "2022-05-13T12:02:44.062Z"
   },
   {
    "duration": 3,
    "start_time": "2022-05-13T12:02:44.093Z"
   },
   {
    "duration": 56,
    "start_time": "2022-05-13T12:02:44.098Z"
   },
   {
    "duration": 30,
    "start_time": "2022-05-13T12:02:44.156Z"
   },
   {
    "duration": 44,
    "start_time": "2022-05-13T12:02:44.187Z"
   },
   {
    "duration": 39,
    "start_time": "2022-05-13T12:02:44.232Z"
   },
   {
    "duration": 40,
    "start_time": "2022-05-13T12:02:44.273Z"
   },
   {
    "duration": 29,
    "start_time": "2022-05-13T12:02:44.315Z"
   },
   {
    "duration": 33,
    "start_time": "2022-05-13T12:02:44.345Z"
   },
   {
    "duration": 46,
    "start_time": "2022-05-13T12:02:44.382Z"
   },
   {
    "duration": 15,
    "start_time": "2022-05-13T12:02:44.430Z"
   },
   {
    "duration": 8,
    "start_time": "2022-05-13T12:02:44.446Z"
   },
   {
    "duration": 99,
    "start_time": "2022-05-13T12:02:44.455Z"
   },
   {
    "duration": 0,
    "start_time": "2022-05-13T12:02:44.555Z"
   },
   {
    "duration": 0,
    "start_time": "2022-05-13T12:02:44.556Z"
   },
   {
    "duration": 0,
    "start_time": "2022-05-13T12:02:44.557Z"
   },
   {
    "duration": 0,
    "start_time": "2022-05-13T12:02:44.559Z"
   },
   {
    "duration": 0,
    "start_time": "2022-05-13T12:02:44.560Z"
   },
   {
    "duration": 0,
    "start_time": "2022-05-13T12:02:44.561Z"
   },
   {
    "duration": 0,
    "start_time": "2022-05-13T12:02:44.561Z"
   },
   {
    "duration": 17,
    "start_time": "2022-05-13T12:02:58.971Z"
   },
   {
    "duration": 16,
    "start_time": "2022-05-13T12:03:01.092Z"
   },
   {
    "duration": 4,
    "start_time": "2022-05-13T12:03:03.887Z"
   },
   {
    "duration": 16,
    "start_time": "2022-05-13T12:03:05.841Z"
   },
   {
    "duration": 13,
    "start_time": "2022-05-13T12:03:07.226Z"
   },
   {
    "duration": 16,
    "start_time": "2022-05-13T12:03:08.981Z"
   },
   {
    "duration": 13,
    "start_time": "2022-05-13T12:03:10.076Z"
   },
   {
    "duration": 5,
    "start_time": "2022-05-13T12:06:36.846Z"
   },
   {
    "duration": 14,
    "start_time": "2022-05-13T12:06:39.051Z"
   },
   {
    "duration": 11,
    "start_time": "2022-05-13T12:06:40.156Z"
   },
   {
    "duration": 15,
    "start_time": "2022-05-13T12:06:40.991Z"
   },
   {
    "duration": 14,
    "start_time": "2022-05-13T12:06:41.781Z"
   },
   {
    "duration": 18,
    "start_time": "2022-05-13T12:06:55.716Z"
   },
   {
    "duration": 16,
    "start_time": "2022-05-13T12:06:56.866Z"
   },
   {
    "duration": 420,
    "start_time": "2022-05-13T12:07:10.468Z"
   },
   {
    "duration": 150,
    "start_time": "2022-05-13T12:07:10.890Z"
   },
   {
    "duration": 15,
    "start_time": "2022-05-13T12:07:11.042Z"
   },
   {
    "duration": 39,
    "start_time": "2022-05-13T12:07:11.059Z"
   },
   {
    "duration": 15,
    "start_time": "2022-05-13T12:07:11.100Z"
   },
   {
    "duration": 21,
    "start_time": "2022-05-13T12:07:11.116Z"
   },
   {
    "duration": 33,
    "start_time": "2022-05-13T12:07:11.139Z"
   },
   {
    "duration": 40,
    "start_time": "2022-05-13T12:07:11.173Z"
   },
   {
    "duration": 26,
    "start_time": "2022-05-13T12:07:11.214Z"
   },
   {
    "duration": 27,
    "start_time": "2022-05-13T12:07:11.243Z"
   },
   {
    "duration": 79,
    "start_time": "2022-05-13T12:07:11.271Z"
   },
   {
    "duration": 74,
    "start_time": "2022-05-13T12:07:11.352Z"
   },
   {
    "duration": 59,
    "start_time": "2022-05-13T12:07:11.428Z"
   },
   {
    "duration": 8,
    "start_time": "2022-05-13T12:07:11.500Z"
   },
   {
    "duration": 11,
    "start_time": "2022-05-13T12:07:11.509Z"
   },
   {
    "duration": 17,
    "start_time": "2022-05-13T12:07:11.521Z"
   },
   {
    "duration": 6,
    "start_time": "2022-05-13T12:07:11.539Z"
   },
   {
    "duration": 53,
    "start_time": "2022-05-13T12:07:11.547Z"
   },
   {
    "duration": 29,
    "start_time": "2022-05-13T12:07:11.601Z"
   },
   {
    "duration": 3,
    "start_time": "2022-05-13T12:07:11.632Z"
   },
   {
    "duration": 22,
    "start_time": "2022-05-13T12:07:11.636Z"
   },
   {
    "duration": 14,
    "start_time": "2022-05-13T12:07:11.659Z"
   },
   {
    "duration": 39,
    "start_time": "2022-05-13T12:07:11.674Z"
   },
   {
    "duration": 12,
    "start_time": "2022-05-13T12:07:11.714Z"
   },
   {
    "duration": 17,
    "start_time": "2022-05-13T12:07:11.727Z"
   },
   {
    "duration": 12,
    "start_time": "2022-05-13T12:07:11.745Z"
   },
   {
    "duration": 19,
    "start_time": "2022-05-13T12:07:11.759Z"
   },
   {
    "duration": 29,
    "start_time": "2022-05-13T12:07:11.781Z"
   },
   {
    "duration": 20,
    "start_time": "2022-05-13T12:07:11.811Z"
   },
   {
    "duration": 12,
    "start_time": "2022-05-13T12:07:11.832Z"
   },
   {
    "duration": 89,
    "start_time": "2022-05-13T12:07:11.845Z"
   },
   {
    "duration": 0,
    "start_time": "2022-05-13T12:07:11.935Z"
   },
   {
    "duration": 0,
    "start_time": "2022-05-13T12:07:11.937Z"
   },
   {
    "duration": 0,
    "start_time": "2022-05-13T12:07:11.937Z"
   },
   {
    "duration": 0,
    "start_time": "2022-05-13T12:07:11.938Z"
   },
   {
    "duration": 0,
    "start_time": "2022-05-13T12:07:11.939Z"
   },
   {
    "duration": 0,
    "start_time": "2022-05-13T12:07:11.940Z"
   },
   {
    "duration": 0,
    "start_time": "2022-05-13T12:07:11.941Z"
   },
   {
    "duration": 3,
    "start_time": "2022-05-13T12:07:26.768Z"
   },
   {
    "duration": 15,
    "start_time": "2022-05-13T12:07:28.972Z"
   },
   {
    "duration": 4,
    "start_time": "2022-05-13T12:08:03.558Z"
   },
   {
    "duration": 15,
    "start_time": "2022-05-13T12:08:05.477Z"
   },
   {
    "duration": 15,
    "start_time": "2022-05-13T12:08:46.428Z"
   },
   {
    "duration": 5,
    "start_time": "2022-05-13T12:09:55.663Z"
   },
   {
    "duration": 14,
    "start_time": "2022-05-13T12:09:57.656Z"
   },
   {
    "duration": 13,
    "start_time": "2022-05-13T12:09:58.837Z"
   },
   {
    "duration": 12,
    "start_time": "2022-05-13T12:10:00.167Z"
   },
   {
    "duration": 12,
    "start_time": "2022-05-13T12:10:01.217Z"
   },
   {
    "duration": 441,
    "start_time": "2022-05-13T12:15:36.374Z"
   },
   {
    "duration": 164,
    "start_time": "2022-05-13T12:15:36.818Z"
   },
   {
    "duration": 22,
    "start_time": "2022-05-13T12:15:36.984Z"
   },
   {
    "duration": 39,
    "start_time": "2022-05-13T12:15:37.009Z"
   },
   {
    "duration": 6,
    "start_time": "2022-05-13T12:15:37.050Z"
   },
   {
    "duration": 27,
    "start_time": "2022-05-13T12:15:37.058Z"
   },
   {
    "duration": 16,
    "start_time": "2022-05-13T12:15:37.087Z"
   },
   {
    "duration": 37,
    "start_time": "2022-05-13T12:15:37.104Z"
   },
   {
    "duration": 18,
    "start_time": "2022-05-13T12:15:37.143Z"
   },
   {
    "duration": 23,
    "start_time": "2022-05-13T12:15:37.163Z"
   },
   {
    "duration": 93,
    "start_time": "2022-05-13T12:15:37.187Z"
   },
   {
    "duration": 76,
    "start_time": "2022-05-13T12:15:37.282Z"
   },
   {
    "duration": 64,
    "start_time": "2022-05-13T12:15:37.360Z"
   },
   {
    "duration": 8,
    "start_time": "2022-05-13T12:15:37.425Z"
   },
   {
    "duration": 12,
    "start_time": "2022-05-13T12:15:37.434Z"
   },
   {
    "duration": 19,
    "start_time": "2022-05-13T12:15:37.447Z"
   },
   {
    "duration": 39,
    "start_time": "2022-05-13T12:15:37.468Z"
   },
   {
    "duration": 34,
    "start_time": "2022-05-13T12:15:37.510Z"
   },
   {
    "duration": 33,
    "start_time": "2022-05-13T12:15:37.546Z"
   },
   {
    "duration": 23,
    "start_time": "2022-05-13T12:15:37.581Z"
   },
   {
    "duration": 35,
    "start_time": "2022-05-13T12:15:37.606Z"
   },
   {
    "duration": 13,
    "start_time": "2022-05-13T12:15:37.643Z"
   },
   {
    "duration": 15,
    "start_time": "2022-05-13T12:15:37.657Z"
   },
   {
    "duration": 13,
    "start_time": "2022-05-13T12:15:37.673Z"
   },
   {
    "duration": 28,
    "start_time": "2022-05-13T12:15:37.687Z"
   },
   {
    "duration": 19,
    "start_time": "2022-05-13T12:15:37.717Z"
   },
   {
    "duration": 9,
    "start_time": "2022-05-13T12:15:37.738Z"
   },
   {
    "duration": 19,
    "start_time": "2022-05-13T12:15:37.751Z"
   },
   {
    "duration": 43,
    "start_time": "2022-05-13T12:15:37.772Z"
   },
   {
    "duration": 5,
    "start_time": "2022-05-13T12:15:37.817Z"
   },
   {
    "duration": 126,
    "start_time": "2022-05-13T12:15:37.825Z"
   },
   {
    "duration": 0,
    "start_time": "2022-05-13T12:15:37.953Z"
   },
   {
    "duration": 0,
    "start_time": "2022-05-13T12:15:37.955Z"
   },
   {
    "duration": 0,
    "start_time": "2022-05-13T12:15:37.956Z"
   },
   {
    "duration": 0,
    "start_time": "2022-05-13T12:15:37.957Z"
   },
   {
    "duration": 0,
    "start_time": "2022-05-13T12:15:37.959Z"
   },
   {
    "duration": 0,
    "start_time": "2022-05-13T12:15:37.959Z"
   },
   {
    "duration": 0,
    "start_time": "2022-05-13T12:15:37.961Z"
   },
   {
    "duration": 17,
    "start_time": "2022-05-13T12:17:13.157Z"
   },
   {
    "duration": 4,
    "start_time": "2022-05-13T12:17:14.733Z"
   },
   {
    "duration": 14,
    "start_time": "2022-05-13T12:17:17.548Z"
   },
   {
    "duration": 4,
    "start_time": "2022-05-13T12:19:19.617Z"
   },
   {
    "duration": 15,
    "start_time": "2022-05-13T12:19:21.332Z"
   },
   {
    "duration": 536,
    "start_time": "2022-05-13T12:19:34.992Z"
   },
   {
    "duration": 248,
    "start_time": "2022-05-13T12:19:35.531Z"
   },
   {
    "duration": 32,
    "start_time": "2022-05-13T12:19:35.781Z"
   },
   {
    "duration": 64,
    "start_time": "2022-05-13T12:19:35.816Z"
   },
   {
    "duration": 6,
    "start_time": "2022-05-13T12:19:35.881Z"
   },
   {
    "duration": 28,
    "start_time": "2022-05-13T12:19:35.888Z"
   },
   {
    "duration": 18,
    "start_time": "2022-05-13T12:19:35.918Z"
   },
   {
    "duration": 29,
    "start_time": "2022-05-13T12:19:35.938Z"
   },
   {
    "duration": 18,
    "start_time": "2022-05-13T12:19:35.969Z"
   },
   {
    "duration": 37,
    "start_time": "2022-05-13T12:19:35.990Z"
   },
   {
    "duration": 71,
    "start_time": "2022-05-13T12:19:36.029Z"
   },
   {
    "duration": 77,
    "start_time": "2022-05-13T12:19:36.102Z"
   },
   {
    "duration": 73,
    "start_time": "2022-05-13T12:19:36.181Z"
   },
   {
    "duration": 7,
    "start_time": "2022-05-13T12:19:36.255Z"
   },
   {
    "duration": 12,
    "start_time": "2022-05-13T12:19:36.264Z"
   },
   {
    "duration": 42,
    "start_time": "2022-05-13T12:19:36.277Z"
   },
   {
    "duration": 7,
    "start_time": "2022-05-13T12:19:36.322Z"
   },
   {
    "duration": 30,
    "start_time": "2022-05-13T12:19:36.331Z"
   },
   {
    "duration": 71,
    "start_time": "2022-05-13T12:19:36.363Z"
   },
   {
    "duration": 5,
    "start_time": "2022-05-13T12:19:36.436Z"
   },
   {
    "duration": 30,
    "start_time": "2022-05-13T12:19:36.442Z"
   },
   {
    "duration": 37,
    "start_time": "2022-05-13T12:19:36.474Z"
   },
   {
    "duration": 15,
    "start_time": "2022-05-13T12:19:36.513Z"
   },
   {
    "duration": 13,
    "start_time": "2022-05-13T12:19:36.530Z"
   },
   {
    "duration": 16,
    "start_time": "2022-05-13T12:19:36.544Z"
   },
   {
    "duration": 46,
    "start_time": "2022-05-13T12:19:36.562Z"
   },
   {
    "duration": 23,
    "start_time": "2022-05-13T12:19:36.610Z"
   },
   {
    "duration": 18,
    "start_time": "2022-05-13T12:19:36.637Z"
   },
   {
    "duration": 15,
    "start_time": "2022-05-13T12:19:36.657Z"
   },
   {
    "duration": 4,
    "start_time": "2022-05-13T12:19:36.674Z"
   },
   {
    "duration": 78,
    "start_time": "2022-05-13T12:19:36.700Z"
   },
   {
    "duration": 0,
    "start_time": "2022-05-13T12:19:36.780Z"
   },
   {
    "duration": 0,
    "start_time": "2022-05-13T12:19:36.781Z"
   },
   {
    "duration": 0,
    "start_time": "2022-05-13T12:19:36.782Z"
   },
   {
    "duration": 0,
    "start_time": "2022-05-13T12:19:36.783Z"
   },
   {
    "duration": 0,
    "start_time": "2022-05-13T12:19:36.783Z"
   },
   {
    "duration": 0,
    "start_time": "2022-05-13T12:19:36.784Z"
   },
   {
    "duration": 0,
    "start_time": "2022-05-13T12:19:36.800Z"
   },
   {
    "duration": 3,
    "start_time": "2022-05-13T12:19:49.001Z"
   },
   {
    "duration": 14,
    "start_time": "2022-05-13T12:19:50.881Z"
   },
   {
    "duration": 522,
    "start_time": "2022-05-13T12:22:52.590Z"
   },
   {
    "duration": 265,
    "start_time": "2022-05-13T12:22:53.117Z"
   },
   {
    "duration": 32,
    "start_time": "2022-05-13T12:22:53.384Z"
   },
   {
    "duration": 30,
    "start_time": "2022-05-13T12:22:53.418Z"
   },
   {
    "duration": 4,
    "start_time": "2022-05-13T12:22:53.449Z"
   },
   {
    "duration": 13,
    "start_time": "2022-05-13T12:22:53.454Z"
   },
   {
    "duration": 5,
    "start_time": "2022-05-13T12:22:53.469Z"
   },
   {
    "duration": 54,
    "start_time": "2022-05-13T12:22:53.476Z"
   },
   {
    "duration": 18,
    "start_time": "2022-05-13T12:22:53.532Z"
   },
   {
    "duration": 24,
    "start_time": "2022-05-13T12:22:53.553Z"
   },
   {
    "duration": 85,
    "start_time": "2022-05-13T12:22:53.578Z"
   },
   {
    "duration": 92,
    "start_time": "2022-05-13T12:22:53.665Z"
   },
   {
    "duration": 72,
    "start_time": "2022-05-13T12:22:53.758Z"
   },
   {
    "duration": 9,
    "start_time": "2022-05-13T12:22:53.832Z"
   },
   {
    "duration": 13,
    "start_time": "2022-05-13T12:22:53.843Z"
   },
   {
    "duration": 45,
    "start_time": "2022-05-13T12:22:53.858Z"
   },
   {
    "duration": 12,
    "start_time": "2022-05-13T12:22:53.909Z"
   },
   {
    "duration": 56,
    "start_time": "2022-05-13T12:22:53.923Z"
   },
   {
    "duration": 55,
    "start_time": "2022-05-13T12:22:53.981Z"
   },
   {
    "duration": 3,
    "start_time": "2022-05-13T12:22:54.038Z"
   },
   {
    "duration": 26,
    "start_time": "2022-05-13T12:22:54.043Z"
   },
   {
    "duration": 31,
    "start_time": "2022-05-13T12:22:54.071Z"
   },
   {
    "duration": 32,
    "start_time": "2022-05-13T12:22:54.108Z"
   },
   {
    "duration": 14,
    "start_time": "2022-05-13T12:22:54.141Z"
   },
   {
    "duration": 16,
    "start_time": "2022-05-13T12:22:54.156Z"
   },
   {
    "duration": 15,
    "start_time": "2022-05-13T12:22:54.173Z"
   },
   {
    "duration": 32,
    "start_time": "2022-05-13T12:22:54.190Z"
   },
   {
    "duration": 19,
    "start_time": "2022-05-13T12:22:54.226Z"
   },
   {
    "duration": 15,
    "start_time": "2022-05-13T12:22:54.246Z"
   },
   {
    "duration": 4,
    "start_time": "2022-05-13T12:22:54.262Z"
   },
   {
    "duration": 83,
    "start_time": "2022-05-13T12:22:54.268Z"
   },
   {
    "duration": 0,
    "start_time": "2022-05-13T12:22:54.353Z"
   },
   {
    "duration": 0,
    "start_time": "2022-05-13T12:22:54.355Z"
   },
   {
    "duration": 0,
    "start_time": "2022-05-13T12:22:54.356Z"
   },
   {
    "duration": 0,
    "start_time": "2022-05-13T12:22:54.357Z"
   },
   {
    "duration": 0,
    "start_time": "2022-05-13T12:22:54.359Z"
   },
   {
    "duration": 0,
    "start_time": "2022-05-13T12:22:54.360Z"
   },
   {
    "duration": 0,
    "start_time": "2022-05-13T12:22:54.362Z"
   },
   {
    "duration": 5,
    "start_time": "2022-05-13T12:23:00.811Z"
   },
   {
    "duration": 15,
    "start_time": "2022-05-13T12:23:02.250Z"
   },
   {
    "duration": 3,
    "start_time": "2022-05-13T12:23:40.996Z"
   },
   {
    "duration": 9,
    "start_time": "2022-05-13T12:23:42.380Z"
   },
   {
    "duration": 9,
    "start_time": "2022-05-13T12:23:46.200Z"
   },
   {
    "duration": 14,
    "start_time": "2022-05-13T12:23:47.200Z"
   },
   {
    "duration": 8,
    "start_time": "2022-05-13T12:23:48.080Z"
   },
   {
    "duration": 8,
    "start_time": "2022-05-13T12:33:52.772Z"
   },
   {
    "duration": 10,
    "start_time": "2022-05-13T12:34:24.391Z"
   },
   {
    "duration": 8,
    "start_time": "2022-05-13T12:35:45.159Z"
   },
   {
    "duration": 8,
    "start_time": "2022-05-13T12:36:29.769Z"
   },
   {
    "duration": 6,
    "start_time": "2022-05-13T12:38:40.240Z"
   },
   {
    "duration": 5,
    "start_time": "2022-05-13T12:38:41.640Z"
   },
   {
    "duration": 428,
    "start_time": "2022-05-13T12:39:44.777Z"
   },
   {
    "duration": 142,
    "start_time": "2022-05-13T12:39:45.207Z"
   },
   {
    "duration": 26,
    "start_time": "2022-05-13T12:39:45.351Z"
   },
   {
    "duration": 54,
    "start_time": "2022-05-13T12:39:45.380Z"
   },
   {
    "duration": 5,
    "start_time": "2022-05-13T12:39:45.437Z"
   },
   {
    "duration": 20,
    "start_time": "2022-05-13T12:39:45.444Z"
   },
   {
    "duration": 6,
    "start_time": "2022-05-13T12:39:45.466Z"
   },
   {
    "duration": 42,
    "start_time": "2022-05-13T12:39:45.499Z"
   },
   {
    "duration": 32,
    "start_time": "2022-05-13T12:39:45.543Z"
   },
   {
    "duration": 57,
    "start_time": "2022-05-13T12:39:45.579Z"
   },
   {
    "duration": 131,
    "start_time": "2022-05-13T12:39:45.638Z"
   },
   {
    "duration": 142,
    "start_time": "2022-05-13T12:39:45.771Z"
   },
   {
    "duration": 57,
    "start_time": "2022-05-13T12:39:45.915Z"
   },
   {
    "duration": 9,
    "start_time": "2022-05-13T12:39:45.974Z"
   },
   {
    "duration": 17,
    "start_time": "2022-05-13T12:39:46.001Z"
   },
   {
    "duration": 28,
    "start_time": "2022-05-13T12:39:46.021Z"
   },
   {
    "duration": 12,
    "start_time": "2022-05-13T12:39:46.052Z"
   },
   {
    "duration": 92,
    "start_time": "2022-05-13T12:39:46.066Z"
   },
   {
    "duration": 64,
    "start_time": "2022-05-13T12:39:46.160Z"
   },
   {
    "duration": 13,
    "start_time": "2022-05-13T12:39:46.226Z"
   },
   {
    "duration": 19,
    "start_time": "2022-05-13T12:39:46.242Z"
   },
   {
    "duration": 14,
    "start_time": "2022-05-13T12:39:46.263Z"
   },
   {
    "duration": 36,
    "start_time": "2022-05-13T12:39:46.279Z"
   },
   {
    "duration": 22,
    "start_time": "2022-05-13T12:39:46.318Z"
   },
   {
    "duration": 20,
    "start_time": "2022-05-13T12:39:46.342Z"
   },
   {
    "duration": 43,
    "start_time": "2022-05-13T12:39:46.364Z"
   },
   {
    "duration": 14,
    "start_time": "2022-05-13T12:39:46.409Z"
   },
   {
    "duration": 28,
    "start_time": "2022-05-13T12:39:46.428Z"
   },
   {
    "duration": 24,
    "start_time": "2022-05-13T12:39:46.459Z"
   },
   {
    "duration": 4,
    "start_time": "2022-05-13T12:39:46.500Z"
   },
   {
    "duration": 21,
    "start_time": "2022-05-13T12:39:46.506Z"
   },
   {
    "duration": 20,
    "start_time": "2022-05-13T12:39:46.529Z"
   },
   {
    "duration": 17,
    "start_time": "2022-05-13T12:39:46.551Z"
   },
   {
    "duration": 16,
    "start_time": "2022-05-13T12:39:46.570Z"
   },
   {
    "duration": 27,
    "start_time": "2022-05-13T12:39:46.588Z"
   },
   {
    "duration": 11,
    "start_time": "2022-05-13T12:39:46.617Z"
   },
   {
    "duration": 26,
    "start_time": "2022-05-13T12:39:46.631Z"
   },
   {
    "duration": 16,
    "start_time": "2022-05-13T12:39:46.658Z"
   },
   {
    "duration": 3,
    "start_time": "2022-05-13T12:44:45.379Z"
   },
   {
    "duration": 601,
    "start_time": "2022-05-13T12:44:46.299Z"
   },
   {
    "duration": 12,
    "start_time": "2022-05-13T12:44:46.902Z"
   },
   {
    "duration": 50,
    "start_time": "2022-05-13T12:44:47.023Z"
   },
   {
    "duration": 5,
    "start_time": "2022-05-13T12:44:48.912Z"
   },
   {
    "duration": 8,
    "start_time": "2022-05-13T12:44:49.720Z"
   },
   {
    "duration": 4,
    "start_time": "2022-05-13T12:44:50.059Z"
   },
   {
    "duration": 25,
    "start_time": "2022-05-13T12:44:50.449Z"
   },
   {
    "duration": 34,
    "start_time": "2022-05-13T12:44:50.879Z"
   },
   {
    "duration": 44,
    "start_time": "2022-05-13T12:44:51.248Z"
   },
   {
    "duration": 98,
    "start_time": "2022-05-13T12:44:51.582Z"
   },
   {
    "duration": 99,
    "start_time": "2022-05-13T12:44:51.931Z"
   },
   {
    "duration": 86,
    "start_time": "2022-05-13T12:44:52.272Z"
   },
   {
    "duration": 11,
    "start_time": "2022-05-13T12:44:52.867Z"
   },
   {
    "duration": 17,
    "start_time": "2022-05-13T12:44:53.229Z"
   },
   {
    "duration": 26,
    "start_time": "2022-05-13T12:44:53.580Z"
   },
   {
    "duration": 7,
    "start_time": "2022-05-13T12:44:53.947Z"
   },
   {
    "duration": 32,
    "start_time": "2022-05-13T12:44:55.210Z"
   },
   {
    "duration": 53,
    "start_time": "2022-05-13T12:44:55.540Z"
   },
   {
    "duration": 4,
    "start_time": "2022-05-13T12:44:55.980Z"
   },
   {
    "duration": 25,
    "start_time": "2022-05-13T12:44:56.337Z"
   },
   {
    "duration": 21,
    "start_time": "2022-05-13T12:44:56.612Z"
   },
   {
    "duration": 22,
    "start_time": "2022-05-13T12:44:56.677Z"
   },
   {
    "duration": 21,
    "start_time": "2022-05-13T12:44:56.975Z"
   },
   {
    "duration": 25,
    "start_time": "2022-05-13T12:44:57.037Z"
   },
   {
    "duration": 14,
    "start_time": "2022-05-13T12:44:57.328Z"
   },
   {
    "duration": 10,
    "start_time": "2022-05-13T12:44:57.722Z"
   },
   {
    "duration": 18,
    "start_time": "2022-05-13T12:44:58.510Z"
   },
   {
    "duration": 16,
    "start_time": "2022-05-13T12:44:58.797Z"
   },
   {
    "duration": 4,
    "start_time": "2022-05-13T12:44:59.197Z"
   },
   {
    "duration": 8,
    "start_time": "2022-05-13T12:44:59.549Z"
   },
   {
    "duration": 10,
    "start_time": "2022-05-13T12:44:59.615Z"
   },
   {
    "duration": 12,
    "start_time": "2022-05-13T12:44:59.874Z"
   },
   {
    "duration": 11,
    "start_time": "2022-05-13T12:44:59.945Z"
   },
   {
    "duration": 14,
    "start_time": "2022-05-13T12:45:00.651Z"
   },
   {
    "duration": 6,
    "start_time": "2022-05-13T12:45:00.959Z"
   },
   {
    "duration": 7,
    "start_time": "2022-05-13T12:45:01.346Z"
   },
   {
    "duration": 6,
    "start_time": "2022-05-13T12:45:01.728Z"
   },
   {
    "duration": 32,
    "start_time": "2022-05-13T21:27:03.125Z"
   },
   {
    "duration": 105,
    "start_time": "2022-05-13T21:27:51.268Z"
   },
   {
    "duration": 8,
    "start_time": "2022-05-13T21:41:24.880Z"
   },
   {
    "duration": 64,
    "start_time": "2022-05-13T21:41:28.339Z"
   },
   {
    "duration": 639,
    "start_time": "2022-05-13T21:41:34.136Z"
   },
   {
    "duration": 303,
    "start_time": "2022-05-13T21:41:34.778Z"
   },
   {
    "duration": 51,
    "start_time": "2022-05-13T21:41:35.083Z"
   },
   {
    "duration": 53,
    "start_time": "2022-05-13T21:41:35.138Z"
   },
   {
    "duration": 10,
    "start_time": "2022-05-13T21:41:35.195Z"
   },
   {
    "duration": 21,
    "start_time": "2022-05-13T21:41:35.226Z"
   },
   {
    "duration": 17,
    "start_time": "2022-05-13T21:41:35.250Z"
   },
   {
    "duration": 41,
    "start_time": "2022-05-13T21:41:35.270Z"
   },
   {
    "duration": 37,
    "start_time": "2022-05-13T21:41:35.334Z"
   },
   {
    "duration": 49,
    "start_time": "2022-05-13T21:41:35.374Z"
   },
   {
    "duration": 114,
    "start_time": "2022-05-13T21:41:35.429Z"
   },
   {
    "duration": 168,
    "start_time": "2022-05-13T21:41:35.546Z"
   },
   {
    "duration": 110,
    "start_time": "2022-05-13T21:41:35.717Z"
   },
   {
    "duration": 17,
    "start_time": "2022-05-13T21:41:35.833Z"
   },
   {
    "duration": 20,
    "start_time": "2022-05-13T21:41:35.853Z"
   },
   {
    "duration": 56,
    "start_time": "2022-05-13T21:41:35.875Z"
   },
   {
    "duration": 15,
    "start_time": "2022-05-13T21:41:35.933Z"
   },
   {
    "duration": 59,
    "start_time": "2022-05-13T21:41:35.950Z"
   },
   {
    "duration": 68,
    "start_time": "2022-05-13T21:41:36.011Z"
   },
   {
    "duration": 5,
    "start_time": "2022-05-13T21:41:36.082Z"
   },
   {
    "duration": 56,
    "start_time": "2022-05-13T21:41:36.089Z"
   },
   {
    "duration": 30,
    "start_time": "2022-05-13T21:41:36.148Z"
   },
   {
    "duration": 47,
    "start_time": "2022-05-13T21:41:36.181Z"
   },
   {
    "duration": 24,
    "start_time": "2022-05-13T21:41:36.231Z"
   },
   {
    "duration": 32,
    "start_time": "2022-05-13T21:41:36.257Z"
   },
   {
    "duration": 55,
    "start_time": "2022-05-13T21:41:36.292Z"
   },
   {
    "duration": 16,
    "start_time": "2022-05-13T21:41:36.350Z"
   },
   {
    "duration": 27,
    "start_time": "2022-05-13T21:41:36.368Z"
   },
   {
    "duration": 64,
    "start_time": "2022-05-13T21:41:36.397Z"
   },
   {
    "duration": 7,
    "start_time": "2022-05-13T21:41:36.463Z"
   },
   {
    "duration": 16,
    "start_time": "2022-05-13T21:41:36.473Z"
   },
   {
    "duration": 56,
    "start_time": "2022-05-13T21:41:36.492Z"
   },
   {
    "duration": 14,
    "start_time": "2022-05-13T21:41:36.551Z"
   },
   {
    "duration": 12,
    "start_time": "2022-05-13T21:41:36.568Z"
   },
   {
    "duration": 19,
    "start_time": "2022-05-13T21:41:36.583Z"
   },
   {
    "duration": 26,
    "start_time": "2022-05-13T21:41:36.604Z"
   },
   {
    "duration": 11,
    "start_time": "2022-05-13T21:41:36.633Z"
   },
   {
    "duration": 7,
    "start_time": "2022-05-13T21:41:36.647Z"
   },
   {
    "duration": 6,
    "start_time": "2022-05-13T21:41:49.250Z"
   },
   {
    "duration": 9,
    "start_time": "2022-05-13T21:42:27.704Z"
   },
   {
    "duration": 19,
    "start_time": "2022-05-13T21:42:29.451Z"
   },
   {
    "duration": 9,
    "start_time": "2022-05-13T21:42:41.631Z"
   },
   {
    "duration": 20,
    "start_time": "2022-05-13T21:42:50.982Z"
   },
   {
    "duration": 97,
    "start_time": "2022-05-13T21:42:57.538Z"
   },
   {
    "duration": 5,
    "start_time": "2022-05-13T21:43:00.682Z"
   },
   {
    "duration": 21,
    "start_time": "2022-05-13T21:43:01.193Z"
   },
   {
    "duration": 24,
    "start_time": "2022-05-13T21:43:27.249Z"
   },
   {
    "duration": 21,
    "start_time": "2022-05-13T21:43:31.203Z"
   },
   {
    "duration": 648,
    "start_time": "2022-05-13T21:45:23.563Z"
   },
   {
    "duration": 299,
    "start_time": "2022-05-13T21:45:24.215Z"
   },
   {
    "duration": 34,
    "start_time": "2022-05-13T21:45:24.517Z"
   },
   {
    "duration": 41,
    "start_time": "2022-05-13T21:45:24.554Z"
   },
   {
    "duration": 7,
    "start_time": "2022-05-13T21:45:24.631Z"
   },
   {
    "duration": 28,
    "start_time": "2022-05-13T21:45:24.640Z"
   },
   {
    "duration": 7,
    "start_time": "2022-05-13T21:45:24.671Z"
   },
   {
    "duration": 73,
    "start_time": "2022-05-13T21:45:24.680Z"
   },
   {
    "duration": 27,
    "start_time": "2022-05-13T21:45:24.755Z"
   },
   {
    "duration": 49,
    "start_time": "2022-05-13T21:45:24.785Z"
   },
   {
    "duration": 121,
    "start_time": "2022-05-13T21:45:24.837Z"
   },
   {
    "duration": 136,
    "start_time": "2022-05-13T21:45:24.961Z"
   },
   {
    "duration": 108,
    "start_time": "2022-05-13T21:45:25.100Z"
   },
   {
    "duration": 19,
    "start_time": "2022-05-13T21:45:25.214Z"
   },
   {
    "duration": 26,
    "start_time": "2022-05-13T21:45:25.236Z"
   },
   {
    "duration": 30,
    "start_time": "2022-05-13T21:45:25.264Z"
   },
   {
    "duration": 41,
    "start_time": "2022-05-13T21:45:25.296Z"
   },
   {
    "duration": 53,
    "start_time": "2022-05-13T21:45:25.340Z"
   },
   {
    "duration": 80,
    "start_time": "2022-05-13T21:45:25.395Z"
   },
   {
    "duration": 7,
    "start_time": "2022-05-13T21:45:25.477Z"
   },
   {
    "duration": 45,
    "start_time": "2022-05-13T21:45:25.487Z"
   },
   {
    "duration": 22,
    "start_time": "2022-05-13T21:45:25.535Z"
   },
   {
    "duration": 21,
    "start_time": "2022-05-13T21:45:25.560Z"
   },
   {
    "duration": 55,
    "start_time": "2022-05-13T21:45:25.583Z"
   },
   {
    "duration": 27,
    "start_time": "2022-05-13T21:45:25.640Z"
   },
   {
    "duration": 23,
    "start_time": "2022-05-13T21:45:25.670Z"
   },
   {
    "duration": 44,
    "start_time": "2022-05-13T21:45:25.696Z"
   },
   {
    "duration": 31,
    "start_time": "2022-05-13T21:45:25.743Z"
   },
   {
    "duration": 66,
    "start_time": "2022-05-13T21:45:25.776Z"
   },
   {
    "duration": 6,
    "start_time": "2022-05-13T21:45:25.844Z"
   },
   {
    "duration": 19,
    "start_time": "2022-05-13T21:45:25.853Z"
   },
   {
    "duration": 14,
    "start_time": "2022-05-13T21:45:25.874Z"
   },
   {
    "duration": 43,
    "start_time": "2022-05-13T21:45:25.890Z"
   },
   {
    "duration": 19,
    "start_time": "2022-05-13T21:45:25.936Z"
   },
   {
    "duration": 16,
    "start_time": "2022-05-13T21:45:25.957Z"
   },
   {
    "duration": 6,
    "start_time": "2022-05-13T21:45:25.975Z"
   },
   {
    "duration": 10,
    "start_time": "2022-05-13T21:45:25.983Z"
   },
   {
    "duration": 36,
    "start_time": "2022-05-13T21:45:25.995Z"
   },
   {
    "duration": 528,
    "start_time": "2022-05-13T21:47:49.737Z"
   },
   {
    "duration": 228,
    "start_time": "2022-05-13T21:47:50.267Z"
   },
   {
    "duration": 40,
    "start_time": "2022-05-13T21:47:50.497Z"
   },
   {
    "duration": 46,
    "start_time": "2022-05-13T21:47:50.539Z"
   },
   {
    "duration": 5,
    "start_time": "2022-05-13T21:47:50.590Z"
   },
   {
    "duration": 25,
    "start_time": "2022-05-13T21:47:50.625Z"
   },
   {
    "duration": 15,
    "start_time": "2022-05-13T21:47:50.653Z"
   },
   {
    "duration": 41,
    "start_time": "2022-05-13T21:47:50.670Z"
   },
   {
    "duration": 36,
    "start_time": "2022-05-13T21:47:50.729Z"
   },
   {
    "duration": 34,
    "start_time": "2022-05-13T21:47:50.768Z"
   },
   {
    "duration": 139,
    "start_time": "2022-05-13T21:47:50.804Z"
   },
   {
    "duration": 137,
    "start_time": "2022-05-13T21:47:50.945Z"
   },
   {
    "duration": 103,
    "start_time": "2022-05-13T21:47:51.085Z"
   },
   {
    "duration": 32,
    "start_time": "2022-05-13T21:47:51.196Z"
   },
   {
    "duration": 24,
    "start_time": "2022-05-13T21:47:51.230Z"
   },
   {
    "duration": 29,
    "start_time": "2022-05-13T21:47:51.257Z"
   },
   {
    "duration": 42,
    "start_time": "2022-05-13T21:47:51.288Z"
   },
   {
    "duration": 54,
    "start_time": "2022-05-13T21:47:51.333Z"
   },
   {
    "duration": 76,
    "start_time": "2022-05-13T21:47:51.389Z"
   },
   {
    "duration": 6,
    "start_time": "2022-05-13T21:47:51.467Z"
   },
   {
    "duration": 57,
    "start_time": "2022-05-13T21:47:51.476Z"
   },
   {
    "duration": 29,
    "start_time": "2022-05-13T21:47:51.535Z"
   },
   {
    "duration": 29,
    "start_time": "2022-05-13T21:47:51.567Z"
   },
   {
    "duration": 64,
    "start_time": "2022-05-13T21:47:51.598Z"
   },
   {
    "duration": 27,
    "start_time": "2022-05-13T21:47:51.664Z"
   },
   {
    "duration": 51,
    "start_time": "2022-05-13T21:47:51.693Z"
   },
   {
    "duration": 16,
    "start_time": "2022-05-13T21:47:51.747Z"
   },
   {
    "duration": 34,
    "start_time": "2022-05-13T21:47:51.766Z"
   },
   {
    "duration": 51,
    "start_time": "2022-05-13T21:47:51.803Z"
   },
   {
    "duration": 7,
    "start_time": "2022-05-13T21:47:51.857Z"
   },
   {
    "duration": 20,
    "start_time": "2022-05-13T21:47:51.866Z"
   },
   {
    "duration": 44,
    "start_time": "2022-05-13T21:47:51.890Z"
   },
   {
    "duration": 31,
    "start_time": "2022-05-13T21:47:51.936Z"
   },
   {
    "duration": 15,
    "start_time": "2022-05-13T21:47:51.969Z"
   },
   {
    "duration": 44,
    "start_time": "2022-05-13T21:47:51.987Z"
   },
   {
    "duration": 7,
    "start_time": "2022-05-13T21:47:52.034Z"
   },
   {
    "duration": 14,
    "start_time": "2022-05-13T21:47:52.043Z"
   },
   {
    "duration": 7,
    "start_time": "2022-05-13T21:47:52.059Z"
   },
   {
    "duration": 394,
    "start_time": "2022-05-15T16:09:07.608Z"
   },
   {
    "duration": 149,
    "start_time": "2022-05-15T16:09:08.004Z"
   },
   {
    "duration": 17,
    "start_time": "2022-05-15T16:09:08.154Z"
   },
   {
    "duration": 37,
    "start_time": "2022-05-15T16:09:08.173Z"
   },
   {
    "duration": 4,
    "start_time": "2022-05-15T16:09:08.212Z"
   },
   {
    "duration": 15,
    "start_time": "2022-05-15T16:09:08.218Z"
   },
   {
    "duration": 10,
    "start_time": "2022-05-15T16:09:08.235Z"
   },
   {
    "duration": 24,
    "start_time": "2022-05-15T16:09:08.247Z"
   },
   {
    "duration": 43,
    "start_time": "2022-05-15T16:09:08.272Z"
   },
   {
    "duration": 23,
    "start_time": "2022-05-15T16:09:08.318Z"
   },
   {
    "duration": 69,
    "start_time": "2022-05-15T16:09:08.343Z"
   },
   {
    "duration": 67,
    "start_time": "2022-05-15T16:09:08.414Z"
   },
   {
    "duration": 65,
    "start_time": "2022-05-15T16:09:08.482Z"
   },
   {
    "duration": 52,
    "start_time": "2022-05-15T16:09:08.549Z"
   },
   {
    "duration": 12,
    "start_time": "2022-05-15T16:09:08.603Z"
   },
   {
    "duration": 19,
    "start_time": "2022-05-15T16:09:08.616Z"
   },
   {
    "duration": 7,
    "start_time": "2022-05-15T16:09:08.636Z"
   },
   {
    "duration": 30,
    "start_time": "2022-05-15T16:09:08.644Z"
   },
   {
    "duration": 30,
    "start_time": "2022-05-15T16:09:08.699Z"
   },
   {
    "duration": 4,
    "start_time": "2022-05-15T16:09:08.731Z"
   },
   {
    "duration": 26,
    "start_time": "2022-05-15T16:09:08.737Z"
   },
   {
    "duration": 35,
    "start_time": "2022-05-15T16:09:08.765Z"
   },
   {
    "duration": 20,
    "start_time": "2022-05-15T16:09:08.801Z"
   },
   {
    "duration": 13,
    "start_time": "2022-05-15T16:09:08.822Z"
   },
   {
    "duration": 15,
    "start_time": "2022-05-15T16:09:08.837Z"
   },
   {
    "duration": 13,
    "start_time": "2022-05-15T16:09:08.853Z"
   },
   {
    "duration": 34,
    "start_time": "2022-05-15T16:09:08.867Z"
   },
   {
    "duration": 18,
    "start_time": "2022-05-15T16:09:08.904Z"
   },
   {
    "duration": 14,
    "start_time": "2022-05-15T16:09:08.923Z"
   },
   {
    "duration": 3,
    "start_time": "2022-05-15T16:09:08.938Z"
   },
   {
    "duration": 14,
    "start_time": "2022-05-15T16:09:08.943Z"
   },
   {
    "duration": 9,
    "start_time": "2022-05-15T16:09:08.959Z"
   },
   {
    "duration": 32,
    "start_time": "2022-05-15T16:09:08.969Z"
   },
   {
    "duration": 15,
    "start_time": "2022-05-15T16:09:09.002Z"
   },
   {
    "duration": 10,
    "start_time": "2022-05-15T16:09:09.018Z"
   },
   {
    "duration": 4,
    "start_time": "2022-05-15T16:09:09.029Z"
   },
   {
    "duration": 8,
    "start_time": "2022-05-15T16:09:09.034Z"
   },
   {
    "duration": 7,
    "start_time": "2022-05-15T16:09:09.044Z"
   },
   {
    "duration": 38,
    "start_time": "2022-05-15T16:09:33.456Z"
   },
   {
    "duration": 36,
    "start_time": "2022-05-15T16:10:21.582Z"
   },
   {
    "duration": 36,
    "start_time": "2022-05-15T16:10:40.382Z"
   },
   {
    "duration": 61,
    "start_time": "2022-05-15T16:10:55.725Z"
   },
   {
    "duration": 35,
    "start_time": "2022-05-15T16:11:04.361Z"
   },
   {
    "duration": 53,
    "start_time": "2022-05-15T16:11:51.992Z"
   },
   {
    "duration": 39,
    "start_time": "2022-05-15T16:12:25.006Z"
   },
   {
    "duration": 37,
    "start_time": "2022-05-15T16:15:07.959Z"
   },
   {
    "duration": 36,
    "start_time": "2022-05-15T16:15:35.125Z"
   },
   {
    "duration": 40,
    "start_time": "2022-05-15T16:16:22.862Z"
   },
   {
    "duration": 3,
    "start_time": "2022-05-15T16:17:19.075Z"
   },
   {
    "duration": 423,
    "start_time": "2022-05-15T16:17:28.066Z"
   },
   {
    "duration": 141,
    "start_time": "2022-05-15T16:17:28.491Z"
   },
   {
    "duration": 21,
    "start_time": "2022-05-15T16:17:28.633Z"
   },
   {
    "duration": 57,
    "start_time": "2022-05-15T16:17:28.657Z"
   },
   {
    "duration": 5,
    "start_time": "2022-05-15T16:17:28.716Z"
   },
   {
    "duration": 17,
    "start_time": "2022-05-15T16:17:28.723Z"
   },
   {
    "duration": 9,
    "start_time": "2022-05-15T16:17:28.741Z"
   },
   {
    "duration": 60,
    "start_time": "2022-05-15T16:17:28.752Z"
   },
   {
    "duration": 30,
    "start_time": "2022-05-15T16:17:28.814Z"
   },
   {
    "duration": 54,
    "start_time": "2022-05-15T16:17:28.848Z"
   },
   {
    "duration": 62,
    "start_time": "2022-05-15T16:17:28.905Z"
   },
   {
    "duration": 83,
    "start_time": "2022-05-15T16:17:28.969Z"
   },
   {
    "duration": 59,
    "start_time": "2022-05-15T16:17:29.053Z"
   },
   {
    "duration": 36,
    "start_time": "2022-05-15T16:17:29.114Z"
   },
   {
    "duration": 10,
    "start_time": "2022-05-15T16:17:29.152Z"
   },
   {
    "duration": 37,
    "start_time": "2022-05-15T16:17:29.164Z"
   },
   {
    "duration": 35,
    "start_time": "2022-05-15T16:17:29.203Z"
   },
   {
    "duration": 30,
    "start_time": "2022-05-15T16:17:29.240Z"
   },
   {
    "duration": 51,
    "start_time": "2022-05-15T16:17:29.271Z"
   },
   {
    "duration": 3,
    "start_time": "2022-05-15T16:17:29.324Z"
   },
   {
    "duration": 28,
    "start_time": "2022-05-15T16:17:29.329Z"
   },
   {
    "duration": 21,
    "start_time": "2022-05-15T16:17:29.359Z"
   },
   {
    "duration": 27,
    "start_time": "2022-05-15T16:17:29.382Z"
   },
   {
    "duration": 28,
    "start_time": "2022-05-15T16:17:29.411Z"
   },
   {
    "duration": 20,
    "start_time": "2022-05-15T16:17:29.441Z"
   },
   {
    "duration": 18,
    "start_time": "2022-05-15T16:17:29.463Z"
   },
   {
    "duration": 44,
    "start_time": "2022-05-15T16:17:29.483Z"
   },
   {
    "duration": 17,
    "start_time": "2022-05-15T16:17:29.530Z"
   },
   {
    "duration": 14,
    "start_time": "2022-05-15T16:17:29.549Z"
   },
   {
    "duration": 4,
    "start_time": "2022-05-15T16:17:29.564Z"
   },
   {
    "duration": 20,
    "start_time": "2022-05-15T16:17:29.570Z"
   },
   {
    "duration": 18,
    "start_time": "2022-05-15T16:17:29.591Z"
   },
   {
    "duration": 17,
    "start_time": "2022-05-15T16:17:29.610Z"
   },
   {
    "duration": 15,
    "start_time": "2022-05-15T16:17:29.630Z"
   },
   {
    "duration": 9,
    "start_time": "2022-05-15T16:17:29.647Z"
   },
   {
    "duration": 5,
    "start_time": "2022-05-15T16:17:29.658Z"
   },
   {
    "duration": 15,
    "start_time": "2022-05-15T16:17:29.665Z"
   },
   {
    "duration": 4,
    "start_time": "2022-05-15T16:17:29.682Z"
   },
   {
    "duration": 3,
    "start_time": "2022-05-15T16:18:01.395Z"
   },
   {
    "duration": 13,
    "start_time": "2022-05-15T16:18:03.701Z"
   },
   {
    "duration": 389,
    "start_time": "2022-05-15T16:19:14.307Z"
   },
   {
    "duration": 152,
    "start_time": "2022-05-15T16:19:14.699Z"
   },
   {
    "duration": 16,
    "start_time": "2022-05-15T16:19:14.852Z"
   },
   {
    "duration": 32,
    "start_time": "2022-05-15T16:19:14.870Z"
   },
   {
    "duration": 4,
    "start_time": "2022-05-15T16:19:14.904Z"
   },
   {
    "duration": 17,
    "start_time": "2022-05-15T16:19:14.909Z"
   },
   {
    "duration": 10,
    "start_time": "2022-05-15T16:19:14.928Z"
   },
   {
    "duration": 32,
    "start_time": "2022-05-15T16:19:14.939Z"
   },
   {
    "duration": 33,
    "start_time": "2022-05-15T16:19:14.973Z"
   },
   {
    "duration": 30,
    "start_time": "2022-05-15T16:19:15.010Z"
   },
   {
    "duration": 71,
    "start_time": "2022-05-15T16:19:15.042Z"
   },
   {
    "duration": 86,
    "start_time": "2022-05-15T16:19:15.115Z"
   },
   {
    "duration": 59,
    "start_time": "2022-05-15T16:19:15.202Z"
   },
   {
    "duration": 50,
    "start_time": "2022-05-15T16:19:15.263Z"
   },
   {
    "duration": 12,
    "start_time": "2022-05-15T16:19:15.315Z"
   },
   {
    "duration": 20,
    "start_time": "2022-05-15T16:19:15.328Z"
   },
   {
    "duration": 68,
    "start_time": "2022-05-15T16:19:15.349Z"
   },
   {
    "duration": 30,
    "start_time": "2022-05-15T16:19:15.418Z"
   },
   {
    "duration": 31,
    "start_time": "2022-05-15T16:19:15.449Z"
   },
   {
    "duration": 19,
    "start_time": "2022-05-15T16:19:15.482Z"
   },
   {
    "duration": 24,
    "start_time": "2022-05-15T16:19:15.503Z"
   },
   {
    "duration": 11,
    "start_time": "2022-05-15T16:19:15.529Z"
   },
   {
    "duration": 13,
    "start_time": "2022-05-15T16:19:15.542Z"
   },
   {
    "duration": 13,
    "start_time": "2022-05-15T16:19:15.556Z"
   },
   {
    "duration": 30,
    "start_time": "2022-05-15T16:19:15.571Z"
   },
   {
    "duration": 14,
    "start_time": "2022-05-15T16:19:15.603Z"
   },
   {
    "duration": 8,
    "start_time": "2022-05-15T16:19:15.619Z"
   },
   {
    "duration": 21,
    "start_time": "2022-05-15T16:19:15.631Z"
   },
   {
    "duration": 21,
    "start_time": "2022-05-15T16:19:15.653Z"
   },
   {
    "duration": 3,
    "start_time": "2022-05-15T16:19:15.676Z"
   },
   {
    "duration": 33,
    "start_time": "2022-05-15T16:19:15.681Z"
   },
   {
    "duration": 11,
    "start_time": "2022-05-15T16:19:15.716Z"
   },
   {
    "duration": 13,
    "start_time": "2022-05-15T16:19:15.729Z"
   },
   {
    "duration": 9,
    "start_time": "2022-05-15T16:19:15.744Z"
   },
   {
    "duration": 19,
    "start_time": "2022-05-15T16:19:15.755Z"
   },
   {
    "duration": 24,
    "start_time": "2022-05-15T16:19:15.776Z"
   },
   {
    "duration": 5,
    "start_time": "2022-05-15T16:19:15.801Z"
   },
   {
    "duration": 5,
    "start_time": "2022-05-15T16:19:15.807Z"
   },
   {
    "duration": 2,
    "start_time": "2022-05-15T16:19:29.833Z"
   },
   {
    "duration": 145,
    "start_time": "2022-05-15T16:19:31.684Z"
   },
   {
    "duration": 10,
    "start_time": "2022-05-15T16:19:32.956Z"
   },
   {
    "duration": 32,
    "start_time": "2022-05-15T16:19:36.364Z"
   },
   {
    "duration": 4,
    "start_time": "2022-05-15T16:19:40.238Z"
   },
   {
    "duration": 9,
    "start_time": "2022-05-15T16:19:43.379Z"
   },
   {
    "duration": 4,
    "start_time": "2022-05-15T16:19:48.162Z"
   },
   {
    "duration": 24,
    "start_time": "2022-05-15T16:19:51.064Z"
   },
   {
    "duration": 18,
    "start_time": "2022-05-15T16:19:54.504Z"
   },
   {
    "duration": 23,
    "start_time": "2022-05-15T16:20:03.298Z"
   },
   {
    "duration": 60,
    "start_time": "2022-05-15T16:20:06.904Z"
   },
   {
    "duration": 72,
    "start_time": "2022-05-15T16:20:09.346Z"
   },
   {
    "duration": 52,
    "start_time": "2022-05-15T16:20:11.490Z"
   },
   {
    "duration": 37,
    "start_time": "2022-05-15T16:20:14.101Z"
   },
   {
    "duration": 12,
    "start_time": "2022-05-15T16:20:17.910Z"
   },
   {
    "duration": 17,
    "start_time": "2022-05-15T16:20:58.713Z"
   },
   {
    "duration": 3,
    "start_time": "2022-05-15T16:21:58.997Z"
   },
   {
    "duration": 16,
    "start_time": "2022-05-15T16:22:01.252Z"
   },
   {
    "duration": 35,
    "start_time": "2022-05-15T16:22:03.664Z"
   },
   {
    "duration": 30,
    "start_time": "2022-05-15T16:22:13.786Z"
   },
   {
    "duration": 30,
    "start_time": "2022-05-15T16:22:15.391Z"
   },
   {
    "duration": 4,
    "start_time": "2022-05-15T16:22:17.858Z"
   },
   {
    "duration": 15,
    "start_time": "2022-05-15T16:22:26.593Z"
   },
   {
    "duration": 13,
    "start_time": "2022-05-15T16:22:27.349Z"
   },
   {
    "duration": 15,
    "start_time": "2022-05-15T16:22:28.013Z"
   },
   {
    "duration": 13,
    "start_time": "2022-05-15T16:22:28.930Z"
   },
   {
    "duration": 15,
    "start_time": "2022-05-15T16:22:29.717Z"
   },
   {
    "duration": 13,
    "start_time": "2022-05-15T16:22:30.474Z"
   },
   {
    "duration": 8,
    "start_time": "2022-05-15T16:22:33.025Z"
   },
   {
    "duration": 17,
    "start_time": "2022-05-15T16:22:39.031Z"
   },
   {
    "duration": 16,
    "start_time": "2022-05-15T16:22:40.024Z"
   },
   {
    "duration": 4,
    "start_time": "2022-05-15T16:22:44.385Z"
   },
   {
    "duration": 16,
    "start_time": "2022-05-15T16:22:53.376Z"
   },
   {
    "duration": 12,
    "start_time": "2022-05-15T16:23:02.643Z"
   },
   {
    "duration": 15,
    "start_time": "2022-05-15T16:23:11.740Z"
   },
   {
    "duration": 11,
    "start_time": "2022-05-15T16:23:34.138Z"
   },
   {
    "duration": 16,
    "start_time": "2022-05-15T16:23:34.843Z"
   },
   {
    "duration": 11,
    "start_time": "2022-05-15T16:23:35.621Z"
   },
   {
    "duration": 8,
    "start_time": "2022-05-15T16:23:39.780Z"
   },
   {
    "duration": 4,
    "start_time": "2022-05-15T16:23:47.285Z"
   },
   {
    "duration": 6,
    "start_time": "2022-05-15T16:23:49.407Z"
   },
   {
    "duration": 4,
    "start_time": "2022-05-15T16:23:52.689Z"
   },
   {
    "duration": 4,
    "start_time": "2022-05-15T16:24:18.556Z"
   },
   {
    "duration": 390,
    "start_time": "2022-05-15T16:24:36.589Z"
   },
   {
    "duration": 135,
    "start_time": "2022-05-15T16:24:36.981Z"
   },
   {
    "duration": 15,
    "start_time": "2022-05-15T16:24:37.117Z"
   },
   {
    "duration": 38,
    "start_time": "2022-05-15T16:24:37.134Z"
   },
   {
    "duration": 4,
    "start_time": "2022-05-15T16:24:37.173Z"
   },
   {
    "duration": 13,
    "start_time": "2022-05-15T16:24:37.178Z"
   },
   {
    "duration": 12,
    "start_time": "2022-05-15T16:24:37.192Z"
   },
   {
    "duration": 26,
    "start_time": "2022-05-15T16:24:37.205Z"
   },
   {
    "duration": 17,
    "start_time": "2022-05-15T16:24:37.233Z"
   },
   {
    "duration": 25,
    "start_time": "2022-05-15T16:24:37.252Z"
   },
   {
    "duration": 78,
    "start_time": "2022-05-15T16:24:37.279Z"
   },
   {
    "duration": 87,
    "start_time": "2022-05-15T16:24:37.359Z"
   },
   {
    "duration": 57,
    "start_time": "2022-05-15T16:24:37.447Z"
   },
   {
    "duration": 36,
    "start_time": "2022-05-15T16:24:37.506Z"
   },
   {
    "duration": 3,
    "start_time": "2022-05-15T16:24:37.543Z"
   },
   {
    "duration": 21,
    "start_time": "2022-05-15T16:24:37.547Z"
   },
   {
    "duration": 57,
    "start_time": "2022-05-15T16:24:37.570Z"
   },
   {
    "duration": 31,
    "start_time": "2022-05-15T16:24:37.629Z"
   },
   {
    "duration": 41,
    "start_time": "2022-05-15T16:24:37.661Z"
   },
   {
    "duration": 3,
    "start_time": "2022-05-15T16:24:37.704Z"
   },
   {
    "duration": 20,
    "start_time": "2022-05-15T16:24:37.709Z"
   },
   {
    "duration": 12,
    "start_time": "2022-05-15T16:24:37.731Z"
   },
   {
    "duration": 13,
    "start_time": "2022-05-15T16:24:37.744Z"
   },
   {
    "duration": 12,
    "start_time": "2022-05-15T16:24:37.758Z"
   },
   {
    "duration": 37,
    "start_time": "2022-05-15T16:24:37.772Z"
   },
   {
    "duration": 14,
    "start_time": "2022-05-15T16:24:37.811Z"
   },
   {
    "duration": 13,
    "start_time": "2022-05-15T16:24:37.827Z"
   },
   {
    "duration": 22,
    "start_time": "2022-05-15T16:24:37.843Z"
   },
   {
    "duration": 15,
    "start_time": "2022-05-15T16:24:37.866Z"
   },
   {
    "duration": 17,
    "start_time": "2022-05-15T16:24:37.883Z"
   },
   {
    "duration": 19,
    "start_time": "2022-05-15T16:24:37.902Z"
   },
   {
    "duration": 10,
    "start_time": "2022-05-15T16:24:37.923Z"
   },
   {
    "duration": 14,
    "start_time": "2022-05-15T16:24:37.934Z"
   },
   {
    "duration": 10,
    "start_time": "2022-05-15T16:24:37.950Z"
   },
   {
    "duration": 8,
    "start_time": "2022-05-15T16:24:37.961Z"
   },
   {
    "duration": 31,
    "start_time": "2022-05-15T16:24:37.970Z"
   },
   {
    "duration": 6,
    "start_time": "2022-05-15T16:24:38.002Z"
   },
   {
    "duration": 10,
    "start_time": "2022-05-15T16:24:38.009Z"
   },
   {
    "duration": 541,
    "start_time": "2022-05-17T15:34:22.538Z"
   },
   {
    "duration": 91,
    "start_time": "2022-05-17T15:34:37.620Z"
   },
   {
    "duration": 202,
    "start_time": "2022-05-17T15:35:07.688Z"
   },
   {
    "duration": 146,
    "start_time": "2022-05-17T15:36:12.199Z"
   }
  ],
  "colab": {
   "collapsed_sections": [
    "E0vqbgi9ay0H",
    "VUC88oWjTJw2"
   ],
   "name": "yandex_music_project.ipynb",
   "provenance": []
  },
  "kernelspec": {
   "display_name": "Python 3 (ipykernel)",
   "language": "python",
   "name": "python3"
  },
  "language_info": {
   "codemirror_mode": {
    "name": "ipython",
    "version": 3
   },
   "file_extension": ".py",
   "mimetype": "text/x-python",
   "name": "python",
   "nbconvert_exporter": "python",
   "pygments_lexer": "ipython3",
   "version": "3.9.12"
  },
  "toc": {
   "base_numbering": 1,
   "nav_menu": {},
   "number_sections": true,
   "sideBar": true,
   "skip_h1_title": true,
   "title_cell": "Table of Contents",
   "title_sidebar": "Contents",
   "toc_cell": false,
   "toc_position": {},
   "toc_section_display": true,
   "toc_window_display": true
  }
 },
 "nbformat": 4,
 "nbformat_minor": 1
}
