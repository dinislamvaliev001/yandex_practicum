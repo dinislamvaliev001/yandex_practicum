{
 "cells": [
  {
   "cell_type": "markdown",
   "id": "c895d788",
   "metadata": {},
   "source": [
    "# Исследование надежности заемщиков."
   ]
  },
  {
   "cell_type": "markdown",
   "id": "20432256",
   "metadata": {},
   "source": [
    "Описание проекта\n",
    "\n",
    "Заказчик — кредитный отдел банка. Нужно разобраться, влияет ли семейное положение и количество детей клиента на факт погашения кредита в срок. Входные данные от банка — статистика о платёжеспособности клиентов.\n",
    "\n",
    "Результаты исследования будут учтены при построении модели кредитного скоринга — специальной системы, которая оценивает способность потенциального заёмщика вернуть кредит банку."
   ]
  },
  {
   "cell_type": "markdown",
   "id": "3ab40c56",
   "metadata": {},
   "source": [
    "### Шаг 1. Обзор данных"
   ]
  },
  {
   "cell_type": "markdown",
   "id": "5e3cc8b6",
   "metadata": {},
   "source": [
    "Для получения обзора таблицы напечаем первые 10 строк,применяем метод display. Для получения информации и таблице пименем метод info()"
   ]
  },
  {
   "cell_type": "code",
   "execution_count": 1,
   "id": "1aa02ca4",
   "metadata": {},
   "outputs": [],
   "source": [
    "import pandas as pd \n",
    "import numpy as np"
   ]
  },
  {
   "cell_type": "code",
   "execution_count": 2,
   "id": "d32b5cfa",
   "metadata": {
    "scrolled": false
   },
   "outputs": [
    {
     "name": "stdout",
     "output_type": "stream",
     "text": [
      "<class 'pandas.core.frame.DataFrame'>\n",
      "RangeIndex: 21525 entries, 0 to 21524\n",
      "Data columns (total 12 columns):\n",
      " #   Column            Non-Null Count  Dtype  \n",
      "---  ------            --------------  -----  \n",
      " 0   children          21525 non-null  int64  \n",
      " 1   days_employed     19351 non-null  float64\n",
      " 2   dob_years         21525 non-null  int64  \n",
      " 3   education         21525 non-null  object \n",
      " 4   education_id      21525 non-null  int64  \n",
      " 5   family_status     21525 non-null  object \n",
      " 6   family_status_id  21525 non-null  int64  \n",
      " 7   gender            21525 non-null  object \n",
      " 8   income_type       21525 non-null  object \n",
      " 9   debt              21525 non-null  int64  \n",
      " 10  total_income      19351 non-null  float64\n",
      " 11  purpose           21525 non-null  object \n",
      "dtypes: float64(2), int64(5), object(5)\n",
      "memory usage: 2.0+ MB\n"
     ]
    }
   ],
   "source": [
    "from functools import reduce\n",
    "df = pd.read_csv('/datasets/data.csv')\n",
    "#display(df.head(10)) #вывели первые 5 строк для просмотра таблицы и значений\n",
    "df.info() # вывели информацию по датафрейму узнали количество строк"
   ]
  },
  {
   "cell_type": "markdown",
   "id": "b723f84c",
   "metadata": {},
   "source": [
    "Обнаужены пропуски в столбце total_income(ежемесячный доход) и days_employed(общий трудовой стаж в днях).\n",
    "Пропуски возникли скорее всего в результате технологической ошибки.\n",
    "Чтобы не удалять нужные данные в таблице их можно заменить медианными."
   ]
  },
  {
   "cell_type": "code",
   "execution_count": 3,
   "id": "36c119be",
   "metadata": {},
   "outputs": [
    {
     "name": "stdout",
     "output_type": "stream",
     "text": [
      "children               0\n",
      "days_employed       2174\n",
      "dob_years              0\n",
      "education              0\n",
      "education_id           0\n",
      "family_status          0\n",
      "family_status_id       0\n",
      "gender                 0\n",
      "income_type            0\n",
      "debt                   0\n",
      "total_income           0\n",
      "purpose                0\n",
      "dtype: int64\n",
      "Доля пропущенных значений в стобце total_income: 0.0%\n"
     ]
    }
   ],
   "source": [
    "df_pass = df.isna().sum() # посчитали общую сумму пропусков в столбцах days_employed и total_income\n",
    "total_income_values = df['total_income'].isna().mean()\n",
    "total_income_conversion = total_income_values/df['total_income'].count() # доля пропущенных значений для стольбца total_income\n",
    "total_income_median = df['total_income'].median() # нашли медиану для total_income\n",
    "df['total_income'] = df['total_income'].fillna(total_income_median) # заменили пропущенные значения на медиану\n",
    "\n",
    "print(df.isna().sum())\n",
    "#display(df.head(20))\n",
    "print(f'Доля пропущенных значений в стобце total_income: {total_income_conversion:.1%}') # доля пропущенных значений столбца total_income"
   ]
  },
  {
   "cell_type": "markdown",
   "id": "8aa40094",
   "metadata": {},
   "source": [
    "### Шаг 2.1 Заполнение пропусков"
   ]
  },
  {
   "cell_type": "markdown",
   "id": "b764db2e",
   "metadata": {},
   "source": [
    "### Шаг 2.2 Проверка данных на аномалии и исправления."
   ]
  },
  {
   "cell_type": "markdown",
   "id": "8095dca9",
   "metadata": {},
   "source": [
    "Выявленны аномалии для столбцов days_employed и education. В days_employed имеються минусовые значения, убирем их функцией abs.\n",
    "Также для этого столбца заменим пропущенные значения медианными. В столбце children также имееться минусовое значение и количество детей указано 20, предположим что это ошибка человека вбивавшего данные.Уберем минусовые значения и 20 поменяем на 2."
   ]
  },
  {
   "cell_type": "code",
   "execution_count": 4,
   "id": "d4d1cb83",
   "metadata": {},
   "outputs": [
    {
     "data": {
      "text/html": [
       "<div>\n",
       "<style scoped>\n",
       "    .dataframe tbody tr th:only-of-type {\n",
       "        vertical-align: middle;\n",
       "    }\n",
       "\n",
       "    .dataframe tbody tr th {\n",
       "        vertical-align: top;\n",
       "    }\n",
       "\n",
       "    .dataframe thead th {\n",
       "        text-align: right;\n",
       "    }\n",
       "</style>\n",
       "<table border=\"1\" class=\"dataframe\">\n",
       "  <thead>\n",
       "    <tr style=\"text-align: right;\">\n",
       "      <th></th>\n",
       "      <th>children</th>\n",
       "      <th>days_employed</th>\n",
       "      <th>dob_years</th>\n",
       "      <th>education</th>\n",
       "      <th>education_id</th>\n",
       "      <th>family_status</th>\n",
       "      <th>family_status_id</th>\n",
       "      <th>gender</th>\n",
       "      <th>income_type</th>\n",
       "      <th>debt</th>\n",
       "      <th>total_income</th>\n",
       "      <th>purpose</th>\n",
       "    </tr>\n",
       "  </thead>\n",
       "  <tbody>\n",
       "    <tr>\n",
       "      <th>0</th>\n",
       "      <td>1</td>\n",
       "      <td>8437.673028</td>\n",
       "      <td>42</td>\n",
       "      <td>высшее</td>\n",
       "      <td>0</td>\n",
       "      <td>женат / замужем</td>\n",
       "      <td>0</td>\n",
       "      <td>F</td>\n",
       "      <td>сотрудник</td>\n",
       "      <td>0</td>\n",
       "      <td>253875.639453</td>\n",
       "      <td>покупка жилья</td>\n",
       "    </tr>\n",
       "    <tr>\n",
       "      <th>1</th>\n",
       "      <td>1</td>\n",
       "      <td>4024.803754</td>\n",
       "      <td>36</td>\n",
       "      <td>среднее</td>\n",
       "      <td>1</td>\n",
       "      <td>женат / замужем</td>\n",
       "      <td>0</td>\n",
       "      <td>F</td>\n",
       "      <td>сотрудник</td>\n",
       "      <td>0</td>\n",
       "      <td>112080.014102</td>\n",
       "      <td>приобретение автомобиля</td>\n",
       "    </tr>\n",
       "    <tr>\n",
       "      <th>2</th>\n",
       "      <td>0</td>\n",
       "      <td>5623.422610</td>\n",
       "      <td>33</td>\n",
       "      <td>Среднее</td>\n",
       "      <td>1</td>\n",
       "      <td>женат / замужем</td>\n",
       "      <td>0</td>\n",
       "      <td>M</td>\n",
       "      <td>сотрудник</td>\n",
       "      <td>0</td>\n",
       "      <td>145885.952297</td>\n",
       "      <td>покупка жилья</td>\n",
       "    </tr>\n",
       "    <tr>\n",
       "      <th>3</th>\n",
       "      <td>3</td>\n",
       "      <td>4124.747207</td>\n",
       "      <td>32</td>\n",
       "      <td>среднее</td>\n",
       "      <td>1</td>\n",
       "      <td>женат / замужем</td>\n",
       "      <td>0</td>\n",
       "      <td>M</td>\n",
       "      <td>сотрудник</td>\n",
       "      <td>0</td>\n",
       "      <td>267628.550329</td>\n",
       "      <td>дополнительное образование</td>\n",
       "    </tr>\n",
       "    <tr>\n",
       "      <th>4</th>\n",
       "      <td>0</td>\n",
       "      <td>340266.072047</td>\n",
       "      <td>53</td>\n",
       "      <td>среднее</td>\n",
       "      <td>1</td>\n",
       "      <td>гражданский брак</td>\n",
       "      <td>1</td>\n",
       "      <td>F</td>\n",
       "      <td>пенсионер</td>\n",
       "      <td>0</td>\n",
       "      <td>158616.077870</td>\n",
       "      <td>сыграть свадьбу</td>\n",
       "    </tr>\n",
       "  </tbody>\n",
       "</table>\n",
       "</div>"
      ],
      "text/plain": [
       "   children  days_employed  dob_years education  education_id  \\\n",
       "0         1    8437.673028         42    высшее             0   \n",
       "1         1    4024.803754         36   среднее             1   \n",
       "2         0    5623.422610         33   Среднее             1   \n",
       "3         3    4124.747207         32   среднее             1   \n",
       "4         0  340266.072047         53   среднее             1   \n",
       "\n",
       "      family_status  family_status_id gender income_type  debt   total_income  \\\n",
       "0   женат / замужем                 0      F   сотрудник     0  253875.639453   \n",
       "1   женат / замужем                 0      F   сотрудник     0  112080.014102   \n",
       "2   женат / замужем                 0      M   сотрудник     0  145885.952297   \n",
       "3   женат / замужем                 0      M   сотрудник     0  267628.550329   \n",
       "4  гражданский брак                 1      F   пенсионер     0  158616.077870   \n",
       "\n",
       "                      purpose  \n",
       "0               покупка жилья  \n",
       "1     приобретение автомобиля  \n",
       "2               покупка жилья  \n",
       "3  дополнительное образование  \n",
       "4             сыграть свадьбу  "
      ]
     },
     "metadata": {},
     "output_type": "display_data"
    },
    {
     "name": "stdout",
     "output_type": "stream",
     "text": [
      "[1 0 3 2 4 5]\n",
      "Доля пропущенных значений в стобце days_employed: 11.2%\n"
     ]
    }
   ],
   "source": [
    "df['days_employed'] = df['days_employed'].abs() #убираем отрицательные значения столбца days_employed\n",
    "days_employed_conversion = df['days_employed'].isna().sum()/df['days_employed'].count() # доля пропущенных значений для столбца days_employed\n",
    "days_employed_median = df['days_employed'].median() # нашли медиану для total_income\n",
    "df['days_employed'] = df['days_employed'].fillna(days_employed_median) # заменили пропущенные значения на медиану\n",
    "display(df.head())\n",
    "days_employed_unique = df['children'].unique() # ищем уникальные значения в столбце children\n",
    "df['children'] = df['children'].abs() #убираем отрицательные значения столбца children\n",
    "df['children'] = df['children'].replace(20,2)\n",
    "print(df['children'].unique())\n",
    "\n",
    "print(f'Доля пропущенных значений в стобце days_employed: {days_employed_conversion:.1%}') # доля пропущенных значений столбца days_employed"
   ]
  },
  {
   "cell_type": "markdown",
   "id": "402c3f19",
   "metadata": {},
   "source": [
    "### Шаг 2.3. Изменение типов данных."
   ]
  },
  {
   "cell_type": "markdown",
   "id": "b996ebe1",
   "metadata": {},
   "source": [
    "В столбцах total_income, days_employed переведем все значения в целочисленный."
   ]
  },
  {
   "cell_type": "code",
   "execution_count": 5,
   "id": "5382d636",
   "metadata": {
    "scrolled": true
   },
   "outputs": [
    {
     "data": {
      "text/html": [
       "<div>\n",
       "<style scoped>\n",
       "    .dataframe tbody tr th:only-of-type {\n",
       "        vertical-align: middle;\n",
       "    }\n",
       "\n",
       "    .dataframe tbody tr th {\n",
       "        vertical-align: top;\n",
       "    }\n",
       "\n",
       "    .dataframe thead th {\n",
       "        text-align: right;\n",
       "    }\n",
       "</style>\n",
       "<table border=\"1\" class=\"dataframe\">\n",
       "  <thead>\n",
       "    <tr style=\"text-align: right;\">\n",
       "      <th></th>\n",
       "      <th>children</th>\n",
       "      <th>days_employed</th>\n",
       "      <th>dob_years</th>\n",
       "      <th>education</th>\n",
       "      <th>education_id</th>\n",
       "      <th>family_status</th>\n",
       "      <th>family_status_id</th>\n",
       "      <th>gender</th>\n",
       "      <th>income_type</th>\n",
       "      <th>debt</th>\n",
       "      <th>total_income</th>\n",
       "      <th>purpose</th>\n",
       "    </tr>\n",
       "  </thead>\n",
       "  <tbody>\n",
       "    <tr>\n",
       "      <th>0</th>\n",
       "      <td>1</td>\n",
       "      <td>8437</td>\n",
       "      <td>42</td>\n",
       "      <td>высшее</td>\n",
       "      <td>0</td>\n",
       "      <td>женат / замужем</td>\n",
       "      <td>0</td>\n",
       "      <td>F</td>\n",
       "      <td>сотрудник</td>\n",
       "      <td>0</td>\n",
       "      <td>253875</td>\n",
       "      <td>покупка жилья</td>\n",
       "    </tr>\n",
       "    <tr>\n",
       "      <th>1</th>\n",
       "      <td>1</td>\n",
       "      <td>4024</td>\n",
       "      <td>36</td>\n",
       "      <td>среднее</td>\n",
       "      <td>1</td>\n",
       "      <td>женат / замужем</td>\n",
       "      <td>0</td>\n",
       "      <td>F</td>\n",
       "      <td>сотрудник</td>\n",
       "      <td>0</td>\n",
       "      <td>112080</td>\n",
       "      <td>приобретение автомобиля</td>\n",
       "    </tr>\n",
       "    <tr>\n",
       "      <th>2</th>\n",
       "      <td>0</td>\n",
       "      <td>5623</td>\n",
       "      <td>33</td>\n",
       "      <td>Среднее</td>\n",
       "      <td>1</td>\n",
       "      <td>женат / замужем</td>\n",
       "      <td>0</td>\n",
       "      <td>M</td>\n",
       "      <td>сотрудник</td>\n",
       "      <td>0</td>\n",
       "      <td>145885</td>\n",
       "      <td>покупка жилья</td>\n",
       "    </tr>\n",
       "    <tr>\n",
       "      <th>3</th>\n",
       "      <td>3</td>\n",
       "      <td>4124</td>\n",
       "      <td>32</td>\n",
       "      <td>среднее</td>\n",
       "      <td>1</td>\n",
       "      <td>женат / замужем</td>\n",
       "      <td>0</td>\n",
       "      <td>M</td>\n",
       "      <td>сотрудник</td>\n",
       "      <td>0</td>\n",
       "      <td>267628</td>\n",
       "      <td>дополнительное образование</td>\n",
       "    </tr>\n",
       "    <tr>\n",
       "      <th>4</th>\n",
       "      <td>0</td>\n",
       "      <td>340266</td>\n",
       "      <td>53</td>\n",
       "      <td>среднее</td>\n",
       "      <td>1</td>\n",
       "      <td>гражданский брак</td>\n",
       "      <td>1</td>\n",
       "      <td>F</td>\n",
       "      <td>пенсионер</td>\n",
       "      <td>0</td>\n",
       "      <td>158616</td>\n",
       "      <td>сыграть свадьбу</td>\n",
       "    </tr>\n",
       "  </tbody>\n",
       "</table>\n",
       "</div>"
      ],
      "text/plain": [
       "   children  days_employed  dob_years education  education_id  \\\n",
       "0         1           8437         42    высшее             0   \n",
       "1         1           4024         36   среднее             1   \n",
       "2         0           5623         33   Среднее             1   \n",
       "3         3           4124         32   среднее             1   \n",
       "4         0         340266         53   среднее             1   \n",
       "\n",
       "      family_status  family_status_id gender income_type  debt  total_income  \\\n",
       "0   женат / замужем                 0      F   сотрудник     0        253875   \n",
       "1   женат / замужем                 0      F   сотрудник     0        112080   \n",
       "2   женат / замужем                 0      M   сотрудник     0        145885   \n",
       "3   женат / замужем                 0      M   сотрудник     0        267628   \n",
       "4  гражданский брак                 1      F   пенсионер     0        158616   \n",
       "\n",
       "                      purpose  \n",
       "0               покупка жилья  \n",
       "1     приобретение автомобиля  \n",
       "2               покупка жилья  \n",
       "3  дополнительное образование  \n",
       "4             сыграть свадьбу  "
      ]
     },
     "metadata": {},
     "output_type": "display_data"
    }
   ],
   "source": [
    "df = df.astype({'total_income': int})\n",
    "df = df.astype({'days_employed': int})\n",
    "display(df.head())"
   ]
  },
  {
   "cell_type": "markdown",
   "id": "c77b551d",
   "metadata": {},
   "source": [
    "### Шаг 2.4. Удаление дубликатов."
   ]
  },
  {
   "cell_type": "markdown",
   "id": "98a42858",
   "metadata": {},
   "source": [
    "В education слова написаны с разными регистрами, приведем к одному, строчному.\n",
    "Выявили дупликаты методом duplicated и методом drop_duplicates() удалил дубликаты\n",
    "Дупликаты могли возникнуть из-за сбоя прогрраммы, или ошибки человека который дваждый ввел одни и теже данные"
   ]
  },
  {
   "cell_type": "code",
   "execution_count": 6,
   "id": "ed5f6275",
   "metadata": {},
   "outputs": [
    {
     "name": "stdout",
     "output_type": "stream",
     "text": [
      "0\n"
     ]
    },
    {
     "data": {
      "text/html": [
       "<div>\n",
       "<style scoped>\n",
       "    .dataframe tbody tr th:only-of-type {\n",
       "        vertical-align: middle;\n",
       "    }\n",
       "\n",
       "    .dataframe tbody tr th {\n",
       "        vertical-align: top;\n",
       "    }\n",
       "\n",
       "    .dataframe thead th {\n",
       "        text-align: right;\n",
       "    }\n",
       "</style>\n",
       "<table border=\"1\" class=\"dataframe\">\n",
       "  <thead>\n",
       "    <tr style=\"text-align: right;\">\n",
       "      <th></th>\n",
       "      <th>children</th>\n",
       "      <th>days_employed</th>\n",
       "      <th>dob_years</th>\n",
       "      <th>education</th>\n",
       "      <th>education_id</th>\n",
       "      <th>family_status</th>\n",
       "      <th>family_status_id</th>\n",
       "      <th>gender</th>\n",
       "      <th>income_type</th>\n",
       "      <th>debt</th>\n",
       "      <th>total_income</th>\n",
       "      <th>purpose</th>\n",
       "    </tr>\n",
       "  </thead>\n",
       "  <tbody>\n",
       "    <tr>\n",
       "      <th>0</th>\n",
       "      <td>1</td>\n",
       "      <td>8437</td>\n",
       "      <td>42</td>\n",
       "      <td>высшее</td>\n",
       "      <td>0</td>\n",
       "      <td>женат / замужем</td>\n",
       "      <td>0</td>\n",
       "      <td>F</td>\n",
       "      <td>сотрудник</td>\n",
       "      <td>0</td>\n",
       "      <td>253875</td>\n",
       "      <td>покупка жилья</td>\n",
       "    </tr>\n",
       "    <tr>\n",
       "      <th>1</th>\n",
       "      <td>1</td>\n",
       "      <td>4024</td>\n",
       "      <td>36</td>\n",
       "      <td>среднее</td>\n",
       "      <td>1</td>\n",
       "      <td>женат / замужем</td>\n",
       "      <td>0</td>\n",
       "      <td>F</td>\n",
       "      <td>сотрудник</td>\n",
       "      <td>0</td>\n",
       "      <td>112080</td>\n",
       "      <td>приобретение автомобиля</td>\n",
       "    </tr>\n",
       "    <tr>\n",
       "      <th>2</th>\n",
       "      <td>0</td>\n",
       "      <td>5623</td>\n",
       "      <td>33</td>\n",
       "      <td>среднее</td>\n",
       "      <td>1</td>\n",
       "      <td>женат / замужем</td>\n",
       "      <td>0</td>\n",
       "      <td>M</td>\n",
       "      <td>сотрудник</td>\n",
       "      <td>0</td>\n",
       "      <td>145885</td>\n",
       "      <td>покупка жилья</td>\n",
       "    </tr>\n",
       "    <tr>\n",
       "      <th>3</th>\n",
       "      <td>3</td>\n",
       "      <td>4124</td>\n",
       "      <td>32</td>\n",
       "      <td>среднее</td>\n",
       "      <td>1</td>\n",
       "      <td>женат / замужем</td>\n",
       "      <td>0</td>\n",
       "      <td>M</td>\n",
       "      <td>сотрудник</td>\n",
       "      <td>0</td>\n",
       "      <td>267628</td>\n",
       "      <td>дополнительное образование</td>\n",
       "    </tr>\n",
       "    <tr>\n",
       "      <th>4</th>\n",
       "      <td>0</td>\n",
       "      <td>340266</td>\n",
       "      <td>53</td>\n",
       "      <td>среднее</td>\n",
       "      <td>1</td>\n",
       "      <td>гражданский брак</td>\n",
       "      <td>1</td>\n",
       "      <td>F</td>\n",
       "      <td>пенсионер</td>\n",
       "      <td>0</td>\n",
       "      <td>158616</td>\n",
       "      <td>сыграть свадьбу</td>\n",
       "    </tr>\n",
       "    <tr>\n",
       "      <th>5</th>\n",
       "      <td>0</td>\n",
       "      <td>926</td>\n",
       "      <td>27</td>\n",
       "      <td>высшее</td>\n",
       "      <td>0</td>\n",
       "      <td>гражданский брак</td>\n",
       "      <td>1</td>\n",
       "      <td>M</td>\n",
       "      <td>компаньон</td>\n",
       "      <td>0</td>\n",
       "      <td>255763</td>\n",
       "      <td>покупка жилья</td>\n",
       "    </tr>\n",
       "    <tr>\n",
       "      <th>6</th>\n",
       "      <td>0</td>\n",
       "      <td>2879</td>\n",
       "      <td>43</td>\n",
       "      <td>высшее</td>\n",
       "      <td>0</td>\n",
       "      <td>женат / замужем</td>\n",
       "      <td>0</td>\n",
       "      <td>F</td>\n",
       "      <td>компаньон</td>\n",
       "      <td>0</td>\n",
       "      <td>240525</td>\n",
       "      <td>операции с жильем</td>\n",
       "    </tr>\n",
       "    <tr>\n",
       "      <th>7</th>\n",
       "      <td>0</td>\n",
       "      <td>152</td>\n",
       "      <td>50</td>\n",
       "      <td>среднее</td>\n",
       "      <td>1</td>\n",
       "      <td>женат / замужем</td>\n",
       "      <td>0</td>\n",
       "      <td>M</td>\n",
       "      <td>сотрудник</td>\n",
       "      <td>0</td>\n",
       "      <td>135823</td>\n",
       "      <td>образование</td>\n",
       "    </tr>\n",
       "    <tr>\n",
       "      <th>8</th>\n",
       "      <td>2</td>\n",
       "      <td>6929</td>\n",
       "      <td>35</td>\n",
       "      <td>высшее</td>\n",
       "      <td>0</td>\n",
       "      <td>гражданский брак</td>\n",
       "      <td>1</td>\n",
       "      <td>F</td>\n",
       "      <td>сотрудник</td>\n",
       "      <td>0</td>\n",
       "      <td>95856</td>\n",
       "      <td>на проведение свадьбы</td>\n",
       "    </tr>\n",
       "    <tr>\n",
       "      <th>9</th>\n",
       "      <td>0</td>\n",
       "      <td>2188</td>\n",
       "      <td>41</td>\n",
       "      <td>среднее</td>\n",
       "      <td>1</td>\n",
       "      <td>женат / замужем</td>\n",
       "      <td>0</td>\n",
       "      <td>M</td>\n",
       "      <td>сотрудник</td>\n",
       "      <td>0</td>\n",
       "      <td>144425</td>\n",
       "      <td>покупка жилья для семьи</td>\n",
       "    </tr>\n",
       "  </tbody>\n",
       "</table>\n",
       "</div>"
      ],
      "text/plain": [
       "   children  days_employed  dob_years education  education_id  \\\n",
       "0         1           8437         42    высшее             0   \n",
       "1         1           4024         36   среднее             1   \n",
       "2         0           5623         33   среднее             1   \n",
       "3         3           4124         32   среднее             1   \n",
       "4         0         340266         53   среднее             1   \n",
       "5         0            926         27    высшее             0   \n",
       "6         0           2879         43    высшее             0   \n",
       "7         0            152         50   среднее             1   \n",
       "8         2           6929         35    высшее             0   \n",
       "9         0           2188         41   среднее             1   \n",
       "\n",
       "      family_status  family_status_id gender income_type  debt  total_income  \\\n",
       "0   женат / замужем                 0      F   сотрудник     0        253875   \n",
       "1   женат / замужем                 0      F   сотрудник     0        112080   \n",
       "2   женат / замужем                 0      M   сотрудник     0        145885   \n",
       "3   женат / замужем                 0      M   сотрудник     0        267628   \n",
       "4  гражданский брак                 1      F   пенсионер     0        158616   \n",
       "5  гражданский брак                 1      M   компаньон     0        255763   \n",
       "6   женат / замужем                 0      F   компаньон     0        240525   \n",
       "7   женат / замужем                 0      M   сотрудник     0        135823   \n",
       "8  гражданский брак                 1      F   сотрудник     0         95856   \n",
       "9   женат / замужем                 0      M   сотрудник     0        144425   \n",
       "\n",
       "                      purpose  \n",
       "0               покупка жилья  \n",
       "1     приобретение автомобиля  \n",
       "2               покупка жилья  \n",
       "3  дополнительное образование  \n",
       "4             сыграть свадьбу  \n",
       "5               покупка жилья  \n",
       "6           операции с жильем  \n",
       "7                 образование  \n",
       "8       на проведение свадьбы  \n",
       "9     покупка жилья для семьи  "
      ]
     },
     "metadata": {},
     "output_type": "display_data"
    }
   ],
   "source": [
    "df['education'] = df.education.str.lower() # преобразовали все буквенные символы в строчные.\n",
    "duplicated_df = df[df.duplicated()].head() # нашли все дубликаты\n",
    "#display(duplicated_df) # вывели на экран дупликаты для проверки\n",
    "df = df.drop_duplicates().reset_index(drop=True) # удалили дупликаты с заменой старых индексов\n",
    "print(df.duplicated().sum()) # проверрили количество дупликатов\n",
    "display(df.head(10))"
   ]
  },
  {
   "cell_type": "markdown",
   "id": "df960343",
   "metadata": {},
   "source": [
    "### Шаг 2.5. Формирование дополнительных датафреймов словарей, декомпозиция исходного датафрейма."
   ]
  },
  {
   "cell_type": "markdown",
   "id": "5453ea97",
   "metadata": {},
   "source": [
    "Чтобы не перегружать таблицу данными сделаем следующие действия:\n",
    "Создаем новый датафрейм где каждому уникальному значению из education соответствует уникальное значение education_id\n",
    "Создаем новый датафрейм где каждому уникальному значению из family_status соответствует уникальное значение family_status_id\n",
    "Затем удалим столбцы  education и family_status"
   ]
  },
  {
   "cell_type": "code",
   "execution_count": 7,
   "id": "d261570c",
   "metadata": {},
   "outputs": [
    {
     "data": {
      "text/html": [
       "<div>\n",
       "<style scoped>\n",
       "    .dataframe tbody tr th:only-of-type {\n",
       "        vertical-align: middle;\n",
       "    }\n",
       "\n",
       "    .dataframe tbody tr th {\n",
       "        vertical-align: top;\n",
       "    }\n",
       "\n",
       "    .dataframe thead th {\n",
       "        text-align: right;\n",
       "    }\n",
       "</style>\n",
       "<table border=\"1\" class=\"dataframe\">\n",
       "  <thead>\n",
       "    <tr style=\"text-align: right;\">\n",
       "      <th></th>\n",
       "      <th>children</th>\n",
       "      <th>days_employed</th>\n",
       "      <th>dob_years</th>\n",
       "      <th>education_id</th>\n",
       "      <th>family_status_id</th>\n",
       "      <th>gender</th>\n",
       "      <th>income_type</th>\n",
       "      <th>debt</th>\n",
       "      <th>total_income</th>\n",
       "      <th>purpose</th>\n",
       "    </tr>\n",
       "  </thead>\n",
       "  <tbody>\n",
       "    <tr>\n",
       "      <th>0</th>\n",
       "      <td>1</td>\n",
       "      <td>8437</td>\n",
       "      <td>42</td>\n",
       "      <td>0</td>\n",
       "      <td>0</td>\n",
       "      <td>F</td>\n",
       "      <td>сотрудник</td>\n",
       "      <td>0</td>\n",
       "      <td>253875</td>\n",
       "      <td>покупка жилья</td>\n",
       "    </tr>\n",
       "    <tr>\n",
       "      <th>1</th>\n",
       "      <td>1</td>\n",
       "      <td>4024</td>\n",
       "      <td>36</td>\n",
       "      <td>1</td>\n",
       "      <td>0</td>\n",
       "      <td>F</td>\n",
       "      <td>сотрудник</td>\n",
       "      <td>0</td>\n",
       "      <td>112080</td>\n",
       "      <td>приобретение автомобиля</td>\n",
       "    </tr>\n",
       "    <tr>\n",
       "      <th>2</th>\n",
       "      <td>0</td>\n",
       "      <td>5623</td>\n",
       "      <td>33</td>\n",
       "      <td>1</td>\n",
       "      <td>0</td>\n",
       "      <td>M</td>\n",
       "      <td>сотрудник</td>\n",
       "      <td>0</td>\n",
       "      <td>145885</td>\n",
       "      <td>покупка жилья</td>\n",
       "    </tr>\n",
       "    <tr>\n",
       "      <th>3</th>\n",
       "      <td>3</td>\n",
       "      <td>4124</td>\n",
       "      <td>32</td>\n",
       "      <td>1</td>\n",
       "      <td>0</td>\n",
       "      <td>M</td>\n",
       "      <td>сотрудник</td>\n",
       "      <td>0</td>\n",
       "      <td>267628</td>\n",
       "      <td>дополнительное образование</td>\n",
       "    </tr>\n",
       "    <tr>\n",
       "      <th>4</th>\n",
       "      <td>0</td>\n",
       "      <td>340266</td>\n",
       "      <td>53</td>\n",
       "      <td>1</td>\n",
       "      <td>1</td>\n",
       "      <td>F</td>\n",
       "      <td>пенсионер</td>\n",
       "      <td>0</td>\n",
       "      <td>158616</td>\n",
       "      <td>сыграть свадьбу</td>\n",
       "    </tr>\n",
       "    <tr>\n",
       "      <th>5</th>\n",
       "      <td>0</td>\n",
       "      <td>926</td>\n",
       "      <td>27</td>\n",
       "      <td>0</td>\n",
       "      <td>1</td>\n",
       "      <td>M</td>\n",
       "      <td>компаньон</td>\n",
       "      <td>0</td>\n",
       "      <td>255763</td>\n",
       "      <td>покупка жилья</td>\n",
       "    </tr>\n",
       "    <tr>\n",
       "      <th>6</th>\n",
       "      <td>0</td>\n",
       "      <td>2879</td>\n",
       "      <td>43</td>\n",
       "      <td>0</td>\n",
       "      <td>0</td>\n",
       "      <td>F</td>\n",
       "      <td>компаньон</td>\n",
       "      <td>0</td>\n",
       "      <td>240525</td>\n",
       "      <td>операции с жильем</td>\n",
       "    </tr>\n",
       "    <tr>\n",
       "      <th>7</th>\n",
       "      <td>0</td>\n",
       "      <td>152</td>\n",
       "      <td>50</td>\n",
       "      <td>1</td>\n",
       "      <td>0</td>\n",
       "      <td>M</td>\n",
       "      <td>сотрудник</td>\n",
       "      <td>0</td>\n",
       "      <td>135823</td>\n",
       "      <td>образование</td>\n",
       "    </tr>\n",
       "    <tr>\n",
       "      <th>8</th>\n",
       "      <td>2</td>\n",
       "      <td>6929</td>\n",
       "      <td>35</td>\n",
       "      <td>0</td>\n",
       "      <td>1</td>\n",
       "      <td>F</td>\n",
       "      <td>сотрудник</td>\n",
       "      <td>0</td>\n",
       "      <td>95856</td>\n",
       "      <td>на проведение свадьбы</td>\n",
       "    </tr>\n",
       "    <tr>\n",
       "      <th>9</th>\n",
       "      <td>0</td>\n",
       "      <td>2188</td>\n",
       "      <td>41</td>\n",
       "      <td>1</td>\n",
       "      <td>0</td>\n",
       "      <td>M</td>\n",
       "      <td>сотрудник</td>\n",
       "      <td>0</td>\n",
       "      <td>144425</td>\n",
       "      <td>покупка жилья для семьи</td>\n",
       "    </tr>\n",
       "  </tbody>\n",
       "</table>\n",
       "</div>"
      ],
      "text/plain": [
       "   children  days_employed  dob_years  education_id  family_status_id gender  \\\n",
       "0         1           8437         42             0                 0      F   \n",
       "1         1           4024         36             1                 0      F   \n",
       "2         0           5623         33             1                 0      M   \n",
       "3         3           4124         32             1                 0      M   \n",
       "4         0         340266         53             1                 1      F   \n",
       "5         0            926         27             0                 1      M   \n",
       "6         0           2879         43             0                 0      F   \n",
       "7         0            152         50             1                 0      M   \n",
       "8         2           6929         35             0                 1      F   \n",
       "9         0           2188         41             1                 0      M   \n",
       "\n",
       "  income_type  debt  total_income                     purpose  \n",
       "0   сотрудник     0        253875               покупка жилья  \n",
       "1   сотрудник     0        112080     приобретение автомобиля  \n",
       "2   сотрудник     0        145885               покупка жилья  \n",
       "3   сотрудник     0        267628  дополнительное образование  \n",
       "4   пенсионер     0        158616             сыграть свадьбу  \n",
       "5   компаньон     0        255763               покупка жилья  \n",
       "6   компаньон     0        240525           операции с жильем  \n",
       "7   сотрудник     0        135823                 образование  \n",
       "8   сотрудник     0         95856       на проведение свадьбы  \n",
       "9   сотрудник     0        144425     покупка жилья для семьи  "
      ]
     },
     "metadata": {},
     "output_type": "display_data"
    }
   ],
   "source": [
    "education_id = df['education'].unique() \n",
    "family_status_id = df['family_status'].unique()\n",
    "#print(education_id)\n",
    "#print(family_status_id)\n",
    "df.drop(['education', 'family_status'], axis=1, inplace=True) # удаление столбцов education и family_status методом drop()\n",
    "display(df.head(10))"
   ]
  },
  {
   "cell_type": "markdown",
   "id": "d76ef16e",
   "metadata": {},
   "source": [
    "### Шаг 2.6. Категоризация дохода."
   ]
  },
  {
   "cell_type": "markdown",
   "id": "13cb2fc9",
   "metadata": {},
   "source": [
    "Создадим новую таблицу с присвоением доходов к определенной категории. И посчитаем количество людей в каждой категории."
   ]
  },
  {
   "cell_type": "code",
   "execution_count": 8,
   "id": "6de434ef",
   "metadata": {},
   "outputs": [
    {
     "name": "stdout",
     "output_type": "stream",
     "text": [
      "C    16016\n",
      "B     5041\n",
      "D      350\n",
      "A       25\n",
      "E       22\n",
      "Name: total_income_category, dtype: int64\n"
     ]
    },
    {
     "data": {
      "text/html": [
       "<div>\n",
       "<style scoped>\n",
       "    .dataframe tbody tr th:only-of-type {\n",
       "        vertical-align: middle;\n",
       "    }\n",
       "\n",
       "    .dataframe tbody tr th {\n",
       "        vertical-align: top;\n",
       "    }\n",
       "\n",
       "    .dataframe thead th {\n",
       "        text-align: right;\n",
       "    }\n",
       "</style>\n",
       "<table border=\"1\" class=\"dataframe\">\n",
       "  <thead>\n",
       "    <tr style=\"text-align: right;\">\n",
       "      <th></th>\n",
       "      <th>children</th>\n",
       "      <th>days_employed</th>\n",
       "      <th>dob_years</th>\n",
       "      <th>education_id</th>\n",
       "      <th>family_status_id</th>\n",
       "      <th>gender</th>\n",
       "      <th>income_type</th>\n",
       "      <th>debt</th>\n",
       "      <th>total_income</th>\n",
       "      <th>purpose</th>\n",
       "      <th>total_income_category</th>\n",
       "    </tr>\n",
       "  </thead>\n",
       "  <tbody>\n",
       "    <tr>\n",
       "      <th>0</th>\n",
       "      <td>1</td>\n",
       "      <td>8437</td>\n",
       "      <td>42</td>\n",
       "      <td>0</td>\n",
       "      <td>0</td>\n",
       "      <td>F</td>\n",
       "      <td>сотрудник</td>\n",
       "      <td>0</td>\n",
       "      <td>253875</td>\n",
       "      <td>покупка жилья</td>\n",
       "      <td>B</td>\n",
       "    </tr>\n",
       "    <tr>\n",
       "      <th>1</th>\n",
       "      <td>1</td>\n",
       "      <td>4024</td>\n",
       "      <td>36</td>\n",
       "      <td>1</td>\n",
       "      <td>0</td>\n",
       "      <td>F</td>\n",
       "      <td>сотрудник</td>\n",
       "      <td>0</td>\n",
       "      <td>112080</td>\n",
       "      <td>приобретение автомобиля</td>\n",
       "      <td>C</td>\n",
       "    </tr>\n",
       "    <tr>\n",
       "      <th>2</th>\n",
       "      <td>0</td>\n",
       "      <td>5623</td>\n",
       "      <td>33</td>\n",
       "      <td>1</td>\n",
       "      <td>0</td>\n",
       "      <td>M</td>\n",
       "      <td>сотрудник</td>\n",
       "      <td>0</td>\n",
       "      <td>145885</td>\n",
       "      <td>покупка жилья</td>\n",
       "      <td>C</td>\n",
       "    </tr>\n",
       "    <tr>\n",
       "      <th>3</th>\n",
       "      <td>3</td>\n",
       "      <td>4124</td>\n",
       "      <td>32</td>\n",
       "      <td>1</td>\n",
       "      <td>0</td>\n",
       "      <td>M</td>\n",
       "      <td>сотрудник</td>\n",
       "      <td>0</td>\n",
       "      <td>267628</td>\n",
       "      <td>дополнительное образование</td>\n",
       "      <td>B</td>\n",
       "    </tr>\n",
       "    <tr>\n",
       "      <th>4</th>\n",
       "      <td>0</td>\n",
       "      <td>340266</td>\n",
       "      <td>53</td>\n",
       "      <td>1</td>\n",
       "      <td>1</td>\n",
       "      <td>F</td>\n",
       "      <td>пенсионер</td>\n",
       "      <td>0</td>\n",
       "      <td>158616</td>\n",
       "      <td>сыграть свадьбу</td>\n",
       "      <td>C</td>\n",
       "    </tr>\n",
       "  </tbody>\n",
       "</table>\n",
       "</div>"
      ],
      "text/plain": [
       "   children  days_employed  dob_years  education_id  family_status_id gender  \\\n",
       "0         1           8437         42             0                 0      F   \n",
       "1         1           4024         36             1                 0      F   \n",
       "2         0           5623         33             1                 0      M   \n",
       "3         3           4124         32             1                 0      M   \n",
       "4         0         340266         53             1                 1      F   \n",
       "\n",
       "  income_type  debt  total_income                     purpose  \\\n",
       "0   сотрудник     0        253875               покупка жилья   \n",
       "1   сотрудник     0        112080     приобретение автомобиля   \n",
       "2   сотрудник     0        145885               покупка жилья   \n",
       "3   сотрудник     0        267628  дополнительное образование   \n",
       "4   пенсионер     0        158616             сыграть свадьбу   \n",
       "\n",
       "  total_income_category  \n",
       "0                     B  \n",
       "1                     C  \n",
       "2                     C  \n",
       "3                     B  \n",
       "4                     C  "
      ]
     },
     "metadata": {},
     "output_type": "display_data"
    }
   ],
   "source": [
    "def total_income_category (row):\n",
    "    if 0 <= row <= 30000:\n",
    "        return 'E'\n",
    "    if 30001 <= row <= 50000:\n",
    "        return 'D'\n",
    "    if 50001 <= row <= 200000:\n",
    "        return 'C'\n",
    "    if 200001 <= row <= 1000000:\n",
    "        return 'B'\n",
    "    return 'A'\n",
    "\n",
    "df['total_income_category'] = df['total_income'].apply(total_income_category)\n",
    "print(df['total_income_category'].value_counts())\n",
    "display(df.head())"
   ]
  },
  {
   "cell_type": "markdown",
   "id": "89519f90",
   "metadata": {},
   "source": [
    "### Шаг 2.7. Категоризация целей кредита."
   ]
  },
  {
   "cell_type": "markdown",
   "id": "a7280994",
   "metadata": {},
   "source": [
    "Находим уникальные значения столбца purpose, и видем что там много одинаковых целей написанных по разному.\n",
    "Создаем новую таблицу, чтобы также поделить на категории цели кредита.\n",
    "После этого можем удалить столбец purpose и total_income."
   ]
  },
  {
   "cell_type": "code",
   "execution_count": 9,
   "id": "b54aa88d",
   "metadata": {},
   "outputs": [
    {
     "name": "stdout",
     "output_type": "stream",
     "text": [
      "операции с недвижимостью    10811\n",
      "операции с автомобилем       4306\n",
      "получение образования        4013\n",
      "проведение свадьбы           2324\n",
      "Name: purpose_category, dtype: int64\n"
     ]
    },
    {
     "data": {
      "text/html": [
       "<div>\n",
       "<style scoped>\n",
       "    .dataframe tbody tr th:only-of-type {\n",
       "        vertical-align: middle;\n",
       "    }\n",
       "\n",
       "    .dataframe tbody tr th {\n",
       "        vertical-align: top;\n",
       "    }\n",
       "\n",
       "    .dataframe thead th {\n",
       "        text-align: right;\n",
       "    }\n",
       "</style>\n",
       "<table border=\"1\" class=\"dataframe\">\n",
       "  <thead>\n",
       "    <tr style=\"text-align: right;\">\n",
       "      <th></th>\n",
       "      <th>children</th>\n",
       "      <th>days_employed</th>\n",
       "      <th>dob_years</th>\n",
       "      <th>education_id</th>\n",
       "      <th>family_status_id</th>\n",
       "      <th>gender</th>\n",
       "      <th>income_type</th>\n",
       "      <th>debt</th>\n",
       "      <th>total_income_category</th>\n",
       "      <th>purpose_category</th>\n",
       "    </tr>\n",
       "  </thead>\n",
       "  <tbody>\n",
       "    <tr>\n",
       "      <th>0</th>\n",
       "      <td>1</td>\n",
       "      <td>8437</td>\n",
       "      <td>42</td>\n",
       "      <td>0</td>\n",
       "      <td>0</td>\n",
       "      <td>F</td>\n",
       "      <td>сотрудник</td>\n",
       "      <td>0</td>\n",
       "      <td>B</td>\n",
       "      <td>операции с недвижимостью</td>\n",
       "    </tr>\n",
       "    <tr>\n",
       "      <th>1</th>\n",
       "      <td>1</td>\n",
       "      <td>4024</td>\n",
       "      <td>36</td>\n",
       "      <td>1</td>\n",
       "      <td>0</td>\n",
       "      <td>F</td>\n",
       "      <td>сотрудник</td>\n",
       "      <td>0</td>\n",
       "      <td>C</td>\n",
       "      <td>операции с автомобилем</td>\n",
       "    </tr>\n",
       "    <tr>\n",
       "      <th>2</th>\n",
       "      <td>0</td>\n",
       "      <td>5623</td>\n",
       "      <td>33</td>\n",
       "      <td>1</td>\n",
       "      <td>0</td>\n",
       "      <td>M</td>\n",
       "      <td>сотрудник</td>\n",
       "      <td>0</td>\n",
       "      <td>C</td>\n",
       "      <td>операции с недвижимостью</td>\n",
       "    </tr>\n",
       "    <tr>\n",
       "      <th>3</th>\n",
       "      <td>3</td>\n",
       "      <td>4124</td>\n",
       "      <td>32</td>\n",
       "      <td>1</td>\n",
       "      <td>0</td>\n",
       "      <td>M</td>\n",
       "      <td>сотрудник</td>\n",
       "      <td>0</td>\n",
       "      <td>B</td>\n",
       "      <td>получение образования</td>\n",
       "    </tr>\n",
       "    <tr>\n",
       "      <th>4</th>\n",
       "      <td>0</td>\n",
       "      <td>340266</td>\n",
       "      <td>53</td>\n",
       "      <td>1</td>\n",
       "      <td>1</td>\n",
       "      <td>F</td>\n",
       "      <td>пенсионер</td>\n",
       "      <td>0</td>\n",
       "      <td>C</td>\n",
       "      <td>проведение свадьбы</td>\n",
       "    </tr>\n",
       "    <tr>\n",
       "      <th>5</th>\n",
       "      <td>0</td>\n",
       "      <td>926</td>\n",
       "      <td>27</td>\n",
       "      <td>0</td>\n",
       "      <td>1</td>\n",
       "      <td>M</td>\n",
       "      <td>компаньон</td>\n",
       "      <td>0</td>\n",
       "      <td>B</td>\n",
       "      <td>операции с недвижимостью</td>\n",
       "    </tr>\n",
       "    <tr>\n",
       "      <th>6</th>\n",
       "      <td>0</td>\n",
       "      <td>2879</td>\n",
       "      <td>43</td>\n",
       "      <td>0</td>\n",
       "      <td>0</td>\n",
       "      <td>F</td>\n",
       "      <td>компаньон</td>\n",
       "      <td>0</td>\n",
       "      <td>B</td>\n",
       "      <td>операции с недвижимостью</td>\n",
       "    </tr>\n",
       "    <tr>\n",
       "      <th>7</th>\n",
       "      <td>0</td>\n",
       "      <td>152</td>\n",
       "      <td>50</td>\n",
       "      <td>1</td>\n",
       "      <td>0</td>\n",
       "      <td>M</td>\n",
       "      <td>сотрудник</td>\n",
       "      <td>0</td>\n",
       "      <td>C</td>\n",
       "      <td>получение образования</td>\n",
       "    </tr>\n",
       "    <tr>\n",
       "      <th>8</th>\n",
       "      <td>2</td>\n",
       "      <td>6929</td>\n",
       "      <td>35</td>\n",
       "      <td>0</td>\n",
       "      <td>1</td>\n",
       "      <td>F</td>\n",
       "      <td>сотрудник</td>\n",
       "      <td>0</td>\n",
       "      <td>C</td>\n",
       "      <td>проведение свадьбы</td>\n",
       "    </tr>\n",
       "    <tr>\n",
       "      <th>9</th>\n",
       "      <td>0</td>\n",
       "      <td>2188</td>\n",
       "      <td>41</td>\n",
       "      <td>1</td>\n",
       "      <td>0</td>\n",
       "      <td>M</td>\n",
       "      <td>сотрудник</td>\n",
       "      <td>0</td>\n",
       "      <td>C</td>\n",
       "      <td>операции с недвижимостью</td>\n",
       "    </tr>\n",
       "    <tr>\n",
       "      <th>10</th>\n",
       "      <td>2</td>\n",
       "      <td>4171</td>\n",
       "      <td>36</td>\n",
       "      <td>0</td>\n",
       "      <td>0</td>\n",
       "      <td>M</td>\n",
       "      <td>компаньон</td>\n",
       "      <td>0</td>\n",
       "      <td>C</td>\n",
       "      <td>операции с недвижимостью</td>\n",
       "    </tr>\n",
       "    <tr>\n",
       "      <th>11</th>\n",
       "      <td>0</td>\n",
       "      <td>792</td>\n",
       "      <td>40</td>\n",
       "      <td>1</td>\n",
       "      <td>0</td>\n",
       "      <td>F</td>\n",
       "      <td>сотрудник</td>\n",
       "      <td>0</td>\n",
       "      <td>C</td>\n",
       "      <td>операции с недвижимостью</td>\n",
       "    </tr>\n",
       "    <tr>\n",
       "      <th>12</th>\n",
       "      <td>0</td>\n",
       "      <td>2194</td>\n",
       "      <td>65</td>\n",
       "      <td>1</td>\n",
       "      <td>1</td>\n",
       "      <td>M</td>\n",
       "      <td>пенсионер</td>\n",
       "      <td>0</td>\n",
       "      <td>C</td>\n",
       "      <td>проведение свадьбы</td>\n",
       "    </tr>\n",
       "    <tr>\n",
       "      <th>13</th>\n",
       "      <td>0</td>\n",
       "      <td>1846</td>\n",
       "      <td>54</td>\n",
       "      <td>2</td>\n",
       "      <td>0</td>\n",
       "      <td>F</td>\n",
       "      <td>сотрудник</td>\n",
       "      <td>0</td>\n",
       "      <td>C</td>\n",
       "      <td>операции с автомобилем</td>\n",
       "    </tr>\n",
       "    <tr>\n",
       "      <th>14</th>\n",
       "      <td>0</td>\n",
       "      <td>1844</td>\n",
       "      <td>56</td>\n",
       "      <td>0</td>\n",
       "      <td>1</td>\n",
       "      <td>F</td>\n",
       "      <td>компаньон</td>\n",
       "      <td>1</td>\n",
       "      <td>C</td>\n",
       "      <td>операции с недвижимостью</td>\n",
       "    </tr>\n",
       "    <tr>\n",
       "      <th>15</th>\n",
       "      <td>1</td>\n",
       "      <td>972</td>\n",
       "      <td>26</td>\n",
       "      <td>1</td>\n",
       "      <td>0</td>\n",
       "      <td>F</td>\n",
       "      <td>сотрудник</td>\n",
       "      <td>0</td>\n",
       "      <td>C</td>\n",
       "      <td>операции с недвижимостью</td>\n",
       "    </tr>\n",
       "    <tr>\n",
       "      <th>16</th>\n",
       "      <td>0</td>\n",
       "      <td>1719</td>\n",
       "      <td>35</td>\n",
       "      <td>1</td>\n",
       "      <td>0</td>\n",
       "      <td>F</td>\n",
       "      <td>сотрудник</td>\n",
       "      <td>0</td>\n",
       "      <td>B</td>\n",
       "      <td>операции с недвижимостью</td>\n",
       "    </tr>\n",
       "    <tr>\n",
       "      <th>17</th>\n",
       "      <td>0</td>\n",
       "      <td>2369</td>\n",
       "      <td>33</td>\n",
       "      <td>0</td>\n",
       "      <td>1</td>\n",
       "      <td>M</td>\n",
       "      <td>сотрудник</td>\n",
       "      <td>0</td>\n",
       "      <td>C</td>\n",
       "      <td>операции с недвижимостью</td>\n",
       "    </tr>\n",
       "    <tr>\n",
       "      <th>18</th>\n",
       "      <td>0</td>\n",
       "      <td>400281</td>\n",
       "      <td>53</td>\n",
       "      <td>1</td>\n",
       "      <td>2</td>\n",
       "      <td>F</td>\n",
       "      <td>пенсионер</td>\n",
       "      <td>0</td>\n",
       "      <td>C</td>\n",
       "      <td>операции с автомобилем</td>\n",
       "    </tr>\n",
       "    <tr>\n",
       "      <th>19</th>\n",
       "      <td>0</td>\n",
       "      <td>10038</td>\n",
       "      <td>48</td>\n",
       "      <td>1</td>\n",
       "      <td>3</td>\n",
       "      <td>F</td>\n",
       "      <td>сотрудник</td>\n",
       "      <td>0</td>\n",
       "      <td>B</td>\n",
       "      <td>операции с автомобилем</td>\n",
       "    </tr>\n",
       "  </tbody>\n",
       "</table>\n",
       "</div>"
      ],
      "text/plain": [
       "    children  days_employed  dob_years  education_id  family_status_id gender  \\\n",
       "0          1           8437         42             0                 0      F   \n",
       "1          1           4024         36             1                 0      F   \n",
       "2          0           5623         33             1                 0      M   \n",
       "3          3           4124         32             1                 0      M   \n",
       "4          0         340266         53             1                 1      F   \n",
       "5          0            926         27             0                 1      M   \n",
       "6          0           2879         43             0                 0      F   \n",
       "7          0            152         50             1                 0      M   \n",
       "8          2           6929         35             0                 1      F   \n",
       "9          0           2188         41             1                 0      M   \n",
       "10         2           4171         36             0                 0      M   \n",
       "11         0            792         40             1                 0      F   \n",
       "12         0           2194         65             1                 1      M   \n",
       "13         0           1846         54             2                 0      F   \n",
       "14         0           1844         56             0                 1      F   \n",
       "15         1            972         26             1                 0      F   \n",
       "16         0           1719         35             1                 0      F   \n",
       "17         0           2369         33             0                 1      M   \n",
       "18         0         400281         53             1                 2      F   \n",
       "19         0          10038         48             1                 3      F   \n",
       "\n",
       "   income_type  debt total_income_category          purpose_category  \n",
       "0    сотрудник     0                     B  операции с недвижимостью  \n",
       "1    сотрудник     0                     C    операции с автомобилем  \n",
       "2    сотрудник     0                     C  операции с недвижимостью  \n",
       "3    сотрудник     0                     B     получение образования  \n",
       "4    пенсионер     0                     C        проведение свадьбы  \n",
       "5    компаньон     0                     B  операции с недвижимостью  \n",
       "6    компаньон     0                     B  операции с недвижимостью  \n",
       "7    сотрудник     0                     C     получение образования  \n",
       "8    сотрудник     0                     C        проведение свадьбы  \n",
       "9    сотрудник     0                     C  операции с недвижимостью  \n",
       "10   компаньон     0                     C  операции с недвижимостью  \n",
       "11   сотрудник     0                     C  операции с недвижимостью  \n",
       "12   пенсионер     0                     C        проведение свадьбы  \n",
       "13   сотрудник     0                     C    операции с автомобилем  \n",
       "14   компаньон     1                     C  операции с недвижимостью  \n",
       "15   сотрудник     0                     C  операции с недвижимостью  \n",
       "16   сотрудник     0                     B  операции с недвижимостью  \n",
       "17   сотрудник     0                     C  операции с недвижимостью  \n",
       "18   пенсионер     0                     C    операции с автомобилем  \n",
       "19   сотрудник     0                     B    операции с автомобилем  "
      ]
     },
     "metadata": {},
     "output_type": "display_data"
    },
    {
     "name": "stdout",
     "output_type": "stream",
     "text": [
      "['операции с недвижимостью' 'операции с автомобилем'\n",
      " 'получение образования' 'проведение свадьбы']\n"
     ]
    }
   ],
   "source": [
    "#print(df['purpose'].unique()) # вывели на экрран уникальные значения в столбце purpose\n",
    "def purpose_category(index): # создаем собственную функцию для нового стобца purpose_category\n",
    "# используем подстроки для данных по автомобилю  \n",
    "    if 'авто' in index:\n",
    "        return 'операции с автомобилем'    \n",
    "# используем подстроки для данных по недвижимости  \n",
    "    if 'жиль' in index or 'недвиж' in index:\n",
    "        return 'операции с недвижимостью'\n",
    "# используем подстроки для данных по свальбе\n",
    "    if 'свадьб' in index:\n",
    "         return 'проведение свадьбы'\n",
    "# используем подстроки для данных по образованию         \n",
    "    if 'образо' in index:\n",
    "        return 'получение образования'\n",
    "\n",
    "df['purpose_category'] = df['purpose'].apply(purpose_category) # создаем новый столбец датафрейма\n",
    "print(df['purpose_category'].value_counts()) # вывели количетво в столбце purpose_category по категориям\n",
    "df.drop(['purpose', 'total_income'], axis=1, inplace=True)\n",
    "display(df.head(20)) # вывели на экран для проверки\n",
    "print(df['purpose_category'].unique()) # проверили уникальные значения в столбце purpose_category"
   ]
  },
  {
   "cell_type": "markdown",
   "id": "89d19d11",
   "metadata": {},
   "source": [
    "### Ответы на вопросы."
   ]
  },
  {
   "cell_type": "markdown",
   "id": "850da9dc",
   "metadata": {},
   "source": [
    "##### Вопрос 1:"
   ]
  },
  {
   "cell_type": "markdown",
   "id": "4cac48d1",
   "metadata": {},
   "source": [
    "Есть ли зависимость между количеством детей и возвратом кредита в срок?\n",
    "\n",
    "Есть ли зависимость между семейным положением и возвратом кредита в срок?\n",
    "\n",
    "Есть ли зависимость между уровнем дохода и возвратом кредита в срок?\n",
    "\n",
    "Как разные цели кредита влияют на его возврат в срок?"
   ]
  },
  {
   "cell_type": "markdown",
   "id": "1085447a",
   "metadata": {},
   "source": [
    "##### Вывод 1:"
   ]
  },
  {
   "cell_type": "markdown",
   "id": "753c7f56",
   "metadata": {},
   "source": [
    "К группе людей которые не возвращают кредит в срок, относятся люди с четыремя детьми, меньше количество просрочек у людей с одним ребенком.\n",
    "\n",
    "Люди с семейным положение вдовец/вдова имееют большое количество не возврата кредита в срок, а с семейным положением женат/замужем имеют меньшее количество не возврата в срок.\n",
    "\n",
    "Люди с уровнем дохода категории А и Е имееют большое количество не возврата кредита в срок, а люди с доходом категории В и D имеют меньшее соотношение невозвратов.   \n",
    "\n",
    "Люди берущие кредит на оброзование, чаще не платят кредит в срок, а самый маленькое количество не возврата кредита в срок, взятых на операций с недвижимостью."
   ]
  },
  {
   "cell_type": "markdown",
   "id": "36754f72",
   "metadata": {},
   "source": [
    "## Общий вывод:"
   ]
  },
  {
   "cell_type": "markdown",
   "id": "d79fb973",
   "metadata": {},
   "source": [
    "Из графиков ниже мы видим что наиболее высоким уровнем просрочки относятся следующие типы людей: вдовец/вдова, люди с четыремя детьми,доход категории А и Е, цель кредита оброзование."
   ]
  },
  {
   "cell_type": "code",
   "execution_count": 10,
   "id": "2915c695",
   "metadata": {},
   "outputs": [
    {
     "name": "stdout",
     "output_type": "stream",
     "text": [
      "50-55    4657\n",
      "37-43    4570\n",
      "31-36    3420\n",
      "25-30    2842\n",
      "44-49    2489\n",
      "56-65    1798\n",
      "19-24     875\n",
      "65-75     702\n",
      "Name: age_category, dtype: int64\n"
     ]
    },
    {
     "data": {
      "text/html": [
       "<div>\n",
       "<style scoped>\n",
       "    .dataframe tbody tr th:only-of-type {\n",
       "        vertical-align: middle;\n",
       "    }\n",
       "\n",
       "    .dataframe tbody tr th {\n",
       "        vertical-align: top;\n",
       "    }\n",
       "\n",
       "    .dataframe thead th {\n",
       "        text-align: right;\n",
       "    }\n",
       "</style>\n",
       "<table border=\"1\" class=\"dataframe\">\n",
       "  <thead>\n",
       "    <tr style=\"text-align: right;\">\n",
       "      <th></th>\n",
       "      <th>children</th>\n",
       "      <th>days_employed</th>\n",
       "      <th>dob_years</th>\n",
       "      <th>education_id</th>\n",
       "      <th>family_status_id</th>\n",
       "      <th>gender</th>\n",
       "      <th>income_type</th>\n",
       "      <th>debt</th>\n",
       "      <th>total_income_category</th>\n",
       "      <th>purpose_category</th>\n",
       "      <th>age_category</th>\n",
       "    </tr>\n",
       "  </thead>\n",
       "  <tbody>\n",
       "    <tr>\n",
       "      <th>0</th>\n",
       "      <td>1</td>\n",
       "      <td>8437</td>\n",
       "      <td>42</td>\n",
       "      <td>0</td>\n",
       "      <td>0</td>\n",
       "      <td>F</td>\n",
       "      <td>сотрудник</td>\n",
       "      <td>0</td>\n",
       "      <td>B</td>\n",
       "      <td>операции с недвижимостью</td>\n",
       "      <td>37-43</td>\n",
       "    </tr>\n",
       "    <tr>\n",
       "      <th>1</th>\n",
       "      <td>1</td>\n",
       "      <td>4024</td>\n",
       "      <td>36</td>\n",
       "      <td>1</td>\n",
       "      <td>0</td>\n",
       "      <td>F</td>\n",
       "      <td>сотрудник</td>\n",
       "      <td>0</td>\n",
       "      <td>C</td>\n",
       "      <td>операции с автомобилем</td>\n",
       "      <td>31-36</td>\n",
       "    </tr>\n",
       "    <tr>\n",
       "      <th>2</th>\n",
       "      <td>0</td>\n",
       "      <td>5623</td>\n",
       "      <td>33</td>\n",
       "      <td>1</td>\n",
       "      <td>0</td>\n",
       "      <td>M</td>\n",
       "      <td>сотрудник</td>\n",
       "      <td>0</td>\n",
       "      <td>C</td>\n",
       "      <td>операции с недвижимостью</td>\n",
       "      <td>31-36</td>\n",
       "    </tr>\n",
       "    <tr>\n",
       "      <th>3</th>\n",
       "      <td>3</td>\n",
       "      <td>4124</td>\n",
       "      <td>32</td>\n",
       "      <td>1</td>\n",
       "      <td>0</td>\n",
       "      <td>M</td>\n",
       "      <td>сотрудник</td>\n",
       "      <td>0</td>\n",
       "      <td>B</td>\n",
       "      <td>получение образования</td>\n",
       "      <td>31-36</td>\n",
       "    </tr>\n",
       "    <tr>\n",
       "      <th>4</th>\n",
       "      <td>0</td>\n",
       "      <td>340266</td>\n",
       "      <td>53</td>\n",
       "      <td>1</td>\n",
       "      <td>1</td>\n",
       "      <td>F</td>\n",
       "      <td>пенсионер</td>\n",
       "      <td>0</td>\n",
       "      <td>C</td>\n",
       "      <td>проведение свадьбы</td>\n",
       "      <td>50-55</td>\n",
       "    </tr>\n",
       "  </tbody>\n",
       "</table>\n",
       "</div>"
      ],
      "text/plain": [
       "   children  days_employed  dob_years  education_id  family_status_id gender  \\\n",
       "0         1           8437         42             0                 0      F   \n",
       "1         1           4024         36             1                 0      F   \n",
       "2         0           5623         33             1                 0      M   \n",
       "3         3           4124         32             1                 0      M   \n",
       "4         0         340266         53             1                 1      F   \n",
       "\n",
       "  income_type  debt total_income_category          purpose_category  \\\n",
       "0   сотрудник     0                     B  операции с недвижимостью   \n",
       "1   сотрудник     0                     C    операции с автомобилем   \n",
       "2   сотрудник     0                     C  операции с недвижимостью   \n",
       "3   сотрудник     0                     B     получение образования   \n",
       "4   пенсионер     0                     C        проведение свадьбы   \n",
       "\n",
       "  age_category  \n",
       "0        37-43  \n",
       "1        31-36  \n",
       "2        31-36  \n",
       "3        31-36  \n",
       "4        50-55  "
      ]
     },
     "metadata": {},
     "output_type": "display_data"
    }
   ],
   "source": [
    "def age_category (age):\n",
    "    if 19 <= age <= 24:\n",
    "        return '19-24'\n",
    "    if 25 <= age <= 30:\n",
    "        return '25-30'\n",
    "    if 31 <= age <= 36:\n",
    "        return '31-36'\n",
    "    if 37 <= age <= 44:\n",
    "        return '37-43'\n",
    "    if 40 <= age <= 49:\n",
    "        return '44-49'\n",
    "    if 50 <= age <= 59:\n",
    "        return '50-55'\n",
    "    if 60 <= age <= 65:\n",
    "        return '56-65'\n",
    "    if 66 <= age <= 75:\n",
    "        return '65-75'\n",
    "\n",
    "df['age_category'] = df['dob_years'].apply(age_category)\n",
    "print(df['age_category'].value_counts())\n",
    "display(df.head())"
   ]
  },
  {
   "cell_type": "code",
   "execution_count": 11,
   "id": "06b297c1",
   "metadata": {
    "scrolled": true
   },
   "outputs": [
    {
     "data": {
      "text/html": [
       "<div>\n",
       "<style scoped>\n",
       "    .dataframe tbody tr th:only-of-type {\n",
       "        vertical-align: middle;\n",
       "    }\n",
       "\n",
       "    .dataframe tbody tr th {\n",
       "        vertical-align: top;\n",
       "    }\n",
       "\n",
       "    .dataframe thead th {\n",
       "        text-align: right;\n",
       "    }\n",
       "</style>\n",
       "<table border=\"1\" class=\"dataframe\">\n",
       "  <thead>\n",
       "    <tr style=\"text-align: right;\">\n",
       "      <th>children</th>\n",
       "      <th>0</th>\n",
       "      <th>1</th>\n",
       "      <th>2</th>\n",
       "      <th>3</th>\n",
       "      <th>4</th>\n",
       "      <th>5</th>\n",
       "    </tr>\n",
       "    <tr>\n",
       "      <th>age_category</th>\n",
       "      <th></th>\n",
       "      <th></th>\n",
       "      <th></th>\n",
       "      <th></th>\n",
       "      <th></th>\n",
       "      <th></th>\n",
       "    </tr>\n",
       "  </thead>\n",
       "  <tbody>\n",
       "    <tr>\n",
       "      <th>19-24</th>\n",
       "      <td>9.969325</td>\n",
       "      <td>10.052910</td>\n",
       "      <td>12.500000</td>\n",
       "      <td>0.000000</td>\n",
       "      <td>0.0</td>\n",
       "      <td>NaN</td>\n",
       "    </tr>\n",
       "    <tr>\n",
       "      <th>25-30</th>\n",
       "      <td>11.304348</td>\n",
       "      <td>10.894495</td>\n",
       "      <td>11.163895</td>\n",
       "      <td>6.122449</td>\n",
       "      <td>20.0</td>\n",
       "      <td>NaN</td>\n",
       "    </tr>\n",
       "    <tr>\n",
       "      <th>31-36</th>\n",
       "      <td>9.534050</td>\n",
       "      <td>10.086957</td>\n",
       "      <td>10.192837</td>\n",
       "      <td>11.290323</td>\n",
       "      <td>5.0</td>\n",
       "      <td>0.0</td>\n",
       "    </tr>\n",
       "    <tr>\n",
       "      <th>37-43</th>\n",
       "      <td>8.068783</td>\n",
       "      <td>9.004739</td>\n",
       "      <td>8.563135</td>\n",
       "      <td>6.504065</td>\n",
       "      <td>10.0</td>\n",
       "      <td>0.0</td>\n",
       "    </tr>\n",
       "    <tr>\n",
       "      <th>44-49</th>\n",
       "      <td>7.189901</td>\n",
       "      <td>7.099391</td>\n",
       "      <td>8.000000</td>\n",
       "      <td>10.000000</td>\n",
       "      <td>0.0</td>\n",
       "      <td>NaN</td>\n",
       "    </tr>\n",
       "    <tr>\n",
       "      <th>50-55</th>\n",
       "      <td>6.425406</td>\n",
       "      <td>7.429719</td>\n",
       "      <td>7.058824</td>\n",
       "      <td>0.000000</td>\n",
       "      <td>100.0</td>\n",
       "      <td>0.0</td>\n",
       "    </tr>\n",
       "    <tr>\n",
       "      <th>56-65</th>\n",
       "      <td>4.996990</td>\n",
       "      <td>3.968254</td>\n",
       "      <td>0.000000</td>\n",
       "      <td>0.000000</td>\n",
       "      <td>NaN</td>\n",
       "      <td>NaN</td>\n",
       "    </tr>\n",
       "    <tr>\n",
       "      <th>65-75</th>\n",
       "      <td>4.947526</td>\n",
       "      <td>5.882353</td>\n",
       "      <td>0.000000</td>\n",
       "      <td>NaN</td>\n",
       "      <td>NaN</td>\n",
       "      <td>NaN</td>\n",
       "    </tr>\n",
       "  </tbody>\n",
       "</table>\n",
       "</div>"
      ],
      "text/plain": [
       "children              0          1          2          3      4    5\n",
       "age_category                                                        \n",
       "19-24          9.969325  10.052910  12.500000   0.000000    0.0  NaN\n",
       "25-30         11.304348  10.894495  11.163895   6.122449   20.0  NaN\n",
       "31-36          9.534050  10.086957  10.192837  11.290323    5.0  0.0\n",
       "37-43          8.068783   9.004739   8.563135   6.504065   10.0  0.0\n",
       "44-49          7.189901   7.099391   8.000000  10.000000    0.0  NaN\n",
       "50-55          6.425406   7.429719   7.058824   0.000000  100.0  0.0\n",
       "56-65          4.996990   3.968254   0.000000   0.000000    NaN  NaN\n",
       "65-75          4.947526   5.882353   0.000000        NaN    NaN  NaN"
      ]
     },
     "metadata": {},
     "output_type": "display_data"
    },
    {
     "name": "stdout",
     "output_type": "stream",
     "text": [
      "children\n",
      "0     11.304348\n",
      "1     10.894495\n",
      "2     12.500000\n",
      "3     11.290323\n",
      "4    100.000000\n",
      "5      0.000000\n",
      "dtype: float64\n"
     ]
    }
   ],
   "source": [
    "total_table = df.pivot_table(index =['age_category'], columns =['children'], values = 'debt', aggfunc = 'mean')*100\n",
    "display(total_table)\n",
    "children = total_table.max()\n",
    "print(children)"
   ]
  },
  {
   "cell_type": "code",
   "execution_count": 12,
   "id": "ff47f736",
   "metadata": {},
   "outputs": [
    {
     "data": {
      "text/html": [
       "<div>\n",
       "<style scoped>\n",
       "    .dataframe tbody tr th:only-of-type {\n",
       "        vertical-align: middle;\n",
       "    }\n",
       "\n",
       "    .dataframe tbody tr th {\n",
       "        vertical-align: top;\n",
       "    }\n",
       "\n",
       "    .dataframe thead th {\n",
       "        text-align: right;\n",
       "    }\n",
       "</style>\n",
       "<table border=\"1\" class=\"dataframe\">\n",
       "  <thead>\n",
       "    <tr style=\"text-align: right;\">\n",
       "      <th>family_status_id</th>\n",
       "      <th>0</th>\n",
       "      <th>1</th>\n",
       "      <th>2</th>\n",
       "      <th>3</th>\n",
       "      <th>4</th>\n",
       "    </tr>\n",
       "    <tr>\n",
       "      <th>age_category</th>\n",
       "      <th></th>\n",
       "      <th></th>\n",
       "      <th></th>\n",
       "      <th></th>\n",
       "      <th></th>\n",
       "    </tr>\n",
       "  </thead>\n",
       "  <tbody>\n",
       "    <tr>\n",
       "      <th>19-24</th>\n",
       "      <td>8.695652</td>\n",
       "      <td>9.545455</td>\n",
       "      <td>0.000000</td>\n",
       "      <td>12.500000</td>\n",
       "      <td>11.325967</td>\n",
       "    </tr>\n",
       "    <tr>\n",
       "      <th>25-30</th>\n",
       "      <td>10.737813</td>\n",
       "      <td>11.150442</td>\n",
       "      <td>16.666667</td>\n",
       "      <td>14.851485</td>\n",
       "      <td>11.196319</td>\n",
       "    </tr>\n",
       "    <tr>\n",
       "      <th>31-36</th>\n",
       "      <td>9.296838</td>\n",
       "      <td>11.095306</td>\n",
       "      <td>11.111111</td>\n",
       "      <td>5.405405</td>\n",
       "      <td>12.268519</td>\n",
       "    </tr>\n",
       "    <tr>\n",
       "      <th>37-43</th>\n",
       "      <td>7.823613</td>\n",
       "      <td>10.199790</td>\n",
       "      <td>4.109589</td>\n",
       "      <td>6.737589</td>\n",
       "      <td>9.955752</td>\n",
       "    </tr>\n",
       "    <tr>\n",
       "      <th>44-49</th>\n",
       "      <td>6.496986</td>\n",
       "      <td>8.686869</td>\n",
       "      <td>10.256410</td>\n",
       "      <td>6.111111</td>\n",
       "      <td>8.641975</td>\n",
       "    </tr>\n",
       "    <tr>\n",
       "      <th>50-55</th>\n",
       "      <td>6.080347</td>\n",
       "      <td>8.229426</td>\n",
       "      <td>5.585106</td>\n",
       "      <td>6.270627</td>\n",
       "      <td>7.506053</td>\n",
       "    </tr>\n",
       "    <tr>\n",
       "      <th>56-65</th>\n",
       "      <td>4.361371</td>\n",
       "      <td>4.467354</td>\n",
       "      <td>7.224335</td>\n",
       "      <td>6.034483</td>\n",
       "      <td>4.242424</td>\n",
       "    </tr>\n",
       "    <tr>\n",
       "      <th>65-75</th>\n",
       "      <td>4.624277</td>\n",
       "      <td>4.854369</td>\n",
       "      <td>5.755396</td>\n",
       "      <td>10.256410</td>\n",
       "      <td>2.666667</td>\n",
       "    </tr>\n",
       "  </tbody>\n",
       "</table>\n",
       "</div>"
      ],
      "text/plain": [
       "family_status_id          0          1          2          3          4\n",
       "age_category                                                           \n",
       "19-24              8.695652   9.545455   0.000000  12.500000  11.325967\n",
       "25-30             10.737813  11.150442  16.666667  14.851485  11.196319\n",
       "31-36              9.296838  11.095306  11.111111   5.405405  12.268519\n",
       "37-43              7.823613  10.199790   4.109589   6.737589   9.955752\n",
       "44-49              6.496986   8.686869  10.256410   6.111111   8.641975\n",
       "50-55              6.080347   8.229426   5.585106   6.270627   7.506053\n",
       "56-65              4.361371   4.467354   7.224335   6.034483   4.242424\n",
       "65-75              4.624277   4.854369   5.755396  10.256410   2.666667"
      ]
     },
     "metadata": {},
     "output_type": "display_data"
    },
    {
     "name": "stdout",
     "output_type": "stream",
     "text": [
      "family_status_id\n",
      "0    10.737813\n",
      "1    11.150442\n",
      "2    16.666667\n",
      "3    14.851485\n",
      "4    12.268519\n",
      "dtype: float64\n"
     ]
    }
   ],
   "source": [
    "total_table = df.pivot_table(index =['age_category'], columns =['family_status_id'], values = 'debt', aggfunc = 'mean')*100\n",
    "display(total_table)\n",
    "family_status_id = total_table.max()\n",
    "print(family_status_id)"
   ]
  },
  {
   "cell_type": "code",
   "execution_count": 13,
   "id": "2cf6ee06",
   "metadata": {},
   "outputs": [
    {
     "data": {
      "text/html": [
       "<div>\n",
       "<style scoped>\n",
       "    .dataframe tbody tr th:only-of-type {\n",
       "        vertical-align: middle;\n",
       "    }\n",
       "\n",
       "    .dataframe tbody tr th {\n",
       "        vertical-align: top;\n",
       "    }\n",
       "\n",
       "    .dataframe thead th {\n",
       "        text-align: right;\n",
       "    }\n",
       "</style>\n",
       "<table border=\"1\" class=\"dataframe\">\n",
       "  <thead>\n",
       "    <tr style=\"text-align: right;\">\n",
       "      <th>total_income_category</th>\n",
       "      <th>A</th>\n",
       "      <th>B</th>\n",
       "      <th>C</th>\n",
       "      <th>D</th>\n",
       "      <th>E</th>\n",
       "    </tr>\n",
       "    <tr>\n",
       "      <th>age_category</th>\n",
       "      <th></th>\n",
       "      <th></th>\n",
       "      <th></th>\n",
       "      <th></th>\n",
       "      <th></th>\n",
       "    </tr>\n",
       "  </thead>\n",
       "  <tbody>\n",
       "    <tr>\n",
       "      <th>19-24</th>\n",
       "      <td>NaN</td>\n",
       "      <td>8.474576</td>\n",
       "      <td>10.386152</td>\n",
       "      <td>0.000000</td>\n",
       "      <td>NaN</td>\n",
       "    </tr>\n",
       "    <tr>\n",
       "      <th>25-30</th>\n",
       "      <td>NaN</td>\n",
       "      <td>8.805970</td>\n",
       "      <td>11.833489</td>\n",
       "      <td>9.090909</td>\n",
       "      <td>0.0</td>\n",
       "    </tr>\n",
       "    <tr>\n",
       "      <th>31-36</th>\n",
       "      <td>0.0</td>\n",
       "      <td>7.874865</td>\n",
       "      <td>10.672098</td>\n",
       "      <td>9.090909</td>\n",
       "      <td>NaN</td>\n",
       "    </tr>\n",
       "    <tr>\n",
       "      <th>37-43</th>\n",
       "      <td>10.0</td>\n",
       "      <td>6.356968</td>\n",
       "      <td>9.174032</td>\n",
       "      <td>8.000000</td>\n",
       "      <td>0.0</td>\n",
       "    </tr>\n",
       "    <tr>\n",
       "      <th>44-49</th>\n",
       "      <td>100.0</td>\n",
       "      <td>6.794682</td>\n",
       "      <td>7.488739</td>\n",
       "      <td>0.000000</td>\n",
       "      <td>0.0</td>\n",
       "    </tr>\n",
       "    <tr>\n",
       "      <th>50-55</th>\n",
       "      <td>0.0</td>\n",
       "      <td>7.414830</td>\n",
       "      <td>6.325897</td>\n",
       "      <td>5.825243</td>\n",
       "      <td>12.5</td>\n",
       "    </tr>\n",
       "    <tr>\n",
       "      <th>56-65</th>\n",
       "      <td>0.0</td>\n",
       "      <td>3.470032</td>\n",
       "      <td>5.140845</td>\n",
       "      <td>5.454545</td>\n",
       "      <td>25.0</td>\n",
       "    </tr>\n",
       "    <tr>\n",
       "      <th>65-75</th>\n",
       "      <td>NaN</td>\n",
       "      <td>4.938272</td>\n",
       "      <td>4.991394</td>\n",
       "      <td>5.555556</td>\n",
       "      <td>0.0</td>\n",
       "    </tr>\n",
       "  </tbody>\n",
       "</table>\n",
       "</div>"
      ],
      "text/plain": [
       "total_income_category      A         B          C         D     E\n",
       "age_category                                                     \n",
       "19-24                    NaN  8.474576  10.386152  0.000000   NaN\n",
       "25-30                    NaN  8.805970  11.833489  9.090909   0.0\n",
       "31-36                    0.0  7.874865  10.672098  9.090909   NaN\n",
       "37-43                   10.0  6.356968   9.174032  8.000000   0.0\n",
       "44-49                  100.0  6.794682   7.488739  0.000000   0.0\n",
       "50-55                    0.0  7.414830   6.325897  5.825243  12.5\n",
       "56-65                    0.0  3.470032   5.140845  5.454545  25.0\n",
       "65-75                    NaN  4.938272   4.991394  5.555556   0.0"
      ]
     },
     "metadata": {},
     "output_type": "display_data"
    },
    {
     "name": "stdout",
     "output_type": "stream",
     "text": [
      "total_income_category\n",
      "A    100.000000\n",
      "B      8.805970\n",
      "C     11.833489\n",
      "D      9.090909\n",
      "E     25.000000\n",
      "dtype: float64\n"
     ]
    }
   ],
   "source": [
    "total_table = df.pivot_table(index =['age_category'], columns =['total_income_category'], values = 'debt', aggfunc = 'mean')*100\n",
    "display(total_table)\n",
    "total_income_category = total_table.max()\n",
    "print(total_income_category)"
   ]
  },
  {
   "cell_type": "code",
   "execution_count": 14,
   "id": "744931f2",
   "metadata": {},
   "outputs": [
    {
     "data": {
      "text/html": [
       "<div>\n",
       "<style scoped>\n",
       "    .dataframe tbody tr th:only-of-type {\n",
       "        vertical-align: middle;\n",
       "    }\n",
       "\n",
       "    .dataframe tbody tr th {\n",
       "        vertical-align: top;\n",
       "    }\n",
       "\n",
       "    .dataframe thead th {\n",
       "        text-align: right;\n",
       "    }\n",
       "</style>\n",
       "<table border=\"1\" class=\"dataframe\">\n",
       "  <thead>\n",
       "    <tr style=\"text-align: right;\">\n",
       "      <th>purpose_category</th>\n",
       "      <th>операции с автомобилем</th>\n",
       "      <th>операции с недвижимостью</th>\n",
       "      <th>получение образования</th>\n",
       "      <th>проведение свадьбы</th>\n",
       "    </tr>\n",
       "    <tr>\n",
       "      <th>age_category</th>\n",
       "      <th></th>\n",
       "      <th></th>\n",
       "      <th></th>\n",
       "      <th></th>\n",
       "    </tr>\n",
       "  </thead>\n",
       "  <tbody>\n",
       "    <tr>\n",
       "      <th>19-24</th>\n",
       "      <td>12.422360</td>\n",
       "      <td>8.988764</td>\n",
       "      <td>9.433962</td>\n",
       "      <td>11.818182</td>\n",
       "    </tr>\n",
       "    <tr>\n",
       "      <th>25-30</th>\n",
       "      <td>12.190476</td>\n",
       "      <td>10.033898</td>\n",
       "      <td>13.928571</td>\n",
       "      <td>8.865248</td>\n",
       "    </tr>\n",
       "    <tr>\n",
       "      <th>31-36</th>\n",
       "      <td>12.916667</td>\n",
       "      <td>8.495575</td>\n",
       "      <td>11.038961</td>\n",
       "      <td>8.483290</td>\n",
       "    </tr>\n",
       "    <tr>\n",
       "      <th>37-43</th>\n",
       "      <td>10.064935</td>\n",
       "      <td>7.478261</td>\n",
       "      <td>8.782201</td>\n",
       "      <td>8.943089</td>\n",
       "    </tr>\n",
       "    <tr>\n",
       "      <th>44-49</th>\n",
       "      <td>6.653226</td>\n",
       "      <td>6.718750</td>\n",
       "      <td>9.070295</td>\n",
       "      <td>7.720588</td>\n",
       "    </tr>\n",
       "    <tr>\n",
       "      <th>50-55</th>\n",
       "      <td>6.951872</td>\n",
       "      <td>5.902481</td>\n",
       "      <td>7.449210</td>\n",
       "      <td>7.228916</td>\n",
       "    </tr>\n",
       "    <tr>\n",
       "      <th>56-65</th>\n",
       "      <td>6.648936</td>\n",
       "      <td>3.811659</td>\n",
       "      <td>5.952381</td>\n",
       "      <td>4.639175</td>\n",
       "    </tr>\n",
       "    <tr>\n",
       "      <th>65-75</th>\n",
       "      <td>4.761905</td>\n",
       "      <td>5.014749</td>\n",
       "      <td>5.594406</td>\n",
       "      <td>4.109589</td>\n",
       "    </tr>\n",
       "  </tbody>\n",
       "</table>\n",
       "</div>"
      ],
      "text/plain": [
       "purpose_category  операции с автомобилем  операции с недвижимостью  \\\n",
       "age_category                                                         \n",
       "19-24                          12.422360                  8.988764   \n",
       "25-30                          12.190476                 10.033898   \n",
       "31-36                          12.916667                  8.495575   \n",
       "37-43                          10.064935                  7.478261   \n",
       "44-49                           6.653226                  6.718750   \n",
       "50-55                           6.951872                  5.902481   \n",
       "56-65                           6.648936                  3.811659   \n",
       "65-75                           4.761905                  5.014749   \n",
       "\n",
       "purpose_category  получение образования  проведение свадьбы  \n",
       "age_category                                                 \n",
       "19-24                          9.433962           11.818182  \n",
       "25-30                         13.928571            8.865248  \n",
       "31-36                         11.038961            8.483290  \n",
       "37-43                          8.782201            8.943089  \n",
       "44-49                          9.070295            7.720588  \n",
       "50-55                          7.449210            7.228916  \n",
       "56-65                          5.952381            4.639175  \n",
       "65-75                          5.594406            4.109589  "
      ]
     },
     "metadata": {},
     "output_type": "display_data"
    },
    {
     "name": "stdout",
     "output_type": "stream",
     "text": [
      "purpose_category\n",
      "операции с автомобилем      12.916667\n",
      "операции с недвижимостью    10.033898\n",
      "получение образования       13.928571\n",
      "проведение свадьбы          11.818182\n",
      "dtype: float64\n"
     ]
    }
   ],
   "source": [
    "total_table = df.pivot_table(index =['age_category'], columns =['purpose_category'], values = 'debt', aggfunc = 'mean')*100\n",
    "display(total_table)\n",
    "purpose_category = total_table.max()\n",
    "print(purpose_category)"
   ]
  },
  {
   "cell_type": "code",
   "execution_count": 16,
   "id": "fd7e014d",
   "metadata": {},
   "outputs": [
    {
     "data": {
      "text/html": [
       "<div>\n",
       "<style scoped>\n",
       "    .dataframe tbody tr th:only-of-type {\n",
       "        vertical-align: middle;\n",
       "    }\n",
       "\n",
       "    .dataframe tbody tr th {\n",
       "        vertical-align: top;\n",
       "    }\n",
       "\n",
       "    .dataframe thead th {\n",
       "        text-align: right;\n",
       "    }\n",
       "</style>\n",
       "<table border=\"1\" class=\"dataframe\">\n",
       "  <thead>\n",
       "    <tr style=\"text-align: right;\">\n",
       "      <th></th>\n",
       "      <th></th>\n",
       "      <th>age_category</th>\n",
       "      <th>19-24</th>\n",
       "      <th>25-30</th>\n",
       "      <th>31-36</th>\n",
       "      <th>37-43</th>\n",
       "      <th>44-49</th>\n",
       "      <th>50-55</th>\n",
       "      <th>56-65</th>\n",
       "      <th>65-75</th>\n",
       "    </tr>\n",
       "    <tr>\n",
       "      <th>total_income_category</th>\n",
       "      <th>family_status_id</th>\n",
       "      <th>children</th>\n",
       "      <th></th>\n",
       "      <th></th>\n",
       "      <th></th>\n",
       "      <th></th>\n",
       "      <th></th>\n",
       "      <th></th>\n",
       "      <th></th>\n",
       "      <th></th>\n",
       "    </tr>\n",
       "  </thead>\n",
       "  <tbody>\n",
       "    <tr>\n",
       "      <th rowspan=\"5\" valign=\"top\">A</th>\n",
       "      <th rowspan=\"4\" valign=\"top\">0</th>\n",
       "      <th>0</th>\n",
       "      <td>NaN</td>\n",
       "      <td>NaN</td>\n",
       "      <td>0.0</td>\n",
       "      <td>0.0</td>\n",
       "      <td>NaN</td>\n",
       "      <td>0.0</td>\n",
       "      <td>NaN</td>\n",
       "      <td>NaN</td>\n",
       "    </tr>\n",
       "    <tr>\n",
       "      <th>1</th>\n",
       "      <td>NaN</td>\n",
       "      <td>NaN</td>\n",
       "      <td>NaN</td>\n",
       "      <td>50.0</td>\n",
       "      <td>NaN</td>\n",
       "      <td>0.0</td>\n",
       "      <td>NaN</td>\n",
       "      <td>NaN</td>\n",
       "    </tr>\n",
       "    <tr>\n",
       "      <th>2</th>\n",
       "      <td>NaN</td>\n",
       "      <td>NaN</td>\n",
       "      <td>NaN</td>\n",
       "      <td>0.0</td>\n",
       "      <td>NaN</td>\n",
       "      <td>0.0</td>\n",
       "      <td>NaN</td>\n",
       "      <td>NaN</td>\n",
       "    </tr>\n",
       "    <tr>\n",
       "      <th>3</th>\n",
       "      <td>NaN</td>\n",
       "      <td>NaN</td>\n",
       "      <td>0.0</td>\n",
       "      <td>NaN</td>\n",
       "      <td>NaN</td>\n",
       "      <td>NaN</td>\n",
       "      <td>NaN</td>\n",
       "      <td>NaN</td>\n",
       "    </tr>\n",
       "    <tr>\n",
       "      <th>1</th>\n",
       "      <th>0</th>\n",
       "      <td>NaN</td>\n",
       "      <td>NaN</td>\n",
       "      <td>0.0</td>\n",
       "      <td>0.0</td>\n",
       "      <td>100.0</td>\n",
       "      <td>NaN</td>\n",
       "      <td>NaN</td>\n",
       "      <td>NaN</td>\n",
       "    </tr>\n",
       "  </tbody>\n",
       "</table>\n",
       "</div>"
      ],
      "text/plain": [
       "age_category                                     19-24  25-30  31-36  37-43  \\\n",
       "total_income_category family_status_id children                               \n",
       "A                     0                0           NaN    NaN    0.0    0.0   \n",
       "                                       1           NaN    NaN    NaN   50.0   \n",
       "                                       2           NaN    NaN    NaN    0.0   \n",
       "                                       3           NaN    NaN    0.0    NaN   \n",
       "                      1                0           NaN    NaN    0.0    0.0   \n",
       "\n",
       "age_category                                     44-49  50-55  56-65  65-75  \n",
       "total_income_category family_status_id children                              \n",
       "A                     0                0           NaN    0.0    NaN    NaN  \n",
       "                                       1           NaN    0.0    NaN    NaN  \n",
       "                                       2           NaN    0.0    NaN    NaN  \n",
       "                                       3           NaN    NaN    NaN    NaN  \n",
       "                      1                0         100.0    NaN    NaN    NaN  "
      ]
     },
     "metadata": {},
     "output_type": "display_data"
    }
   ],
   "source": [
    "total_table1 = df.pivot_table(index =['total_income_category', 'family_status_id', 'children'], columns =['age_category'], values = 'debt', aggfunc = 'mean')*100\n",
    "display(total_table1.head())"
   ]
  }
 ],
 "metadata": {
  "ExecuteTimeLog": [
   {
    "duration": 705,
    "start_time": "2022-05-21T13:22:27.178Z"
   },
   {
    "duration": 84,
    "start_time": "2022-05-21T13:23:43.971Z"
   },
   {
    "duration": 71,
    "start_time": "2022-05-21T13:23:59.466Z"
   },
   {
    "duration": 4,
    "start_time": "2022-05-21T13:25:34.514Z"
   },
   {
    "duration": 3,
    "start_time": "2022-05-21T13:25:40.465Z"
   },
   {
    "duration": 4,
    "start_time": "2022-05-21T13:26:21.557Z"
   },
   {
    "duration": 10,
    "start_time": "2022-05-21T13:35:20.382Z"
   },
   {
    "duration": 82,
    "start_time": "2022-05-21T13:44:06.723Z"
   },
   {
    "duration": 17,
    "start_time": "2022-05-21T13:45:46.182Z"
   },
   {
    "duration": 84,
    "start_time": "2022-05-21T13:48:40.256Z"
   },
   {
    "duration": 147,
    "start_time": "2022-05-21T13:49:12.801Z"
   },
   {
    "duration": 85,
    "start_time": "2022-05-21T13:49:26.777Z"
   },
   {
    "duration": 25,
    "start_time": "2022-05-21T13:50:00.526Z"
   },
   {
    "duration": 16,
    "start_time": "2022-05-21T13:50:10.361Z"
   },
   {
    "duration": 560,
    "start_time": "2022-05-21T13:55:14.613Z"
   },
   {
    "duration": 81,
    "start_time": "2022-05-21T13:55:43.948Z"
   },
   {
    "duration": 68,
    "start_time": "2022-05-21T13:56:08.252Z"
   },
   {
    "duration": 18,
    "start_time": "2022-05-21T13:56:30.917Z"
   },
   {
    "duration": 13,
    "start_time": "2022-05-21T13:56:54.156Z"
   },
   {
    "duration": 19,
    "start_time": "2022-05-21T14:00:15.007Z"
   },
   {
    "duration": 16,
    "start_time": "2022-05-21T14:00:29.642Z"
   },
   {
    "duration": 30,
    "start_time": "2022-05-21T14:01:14.070Z"
   },
   {
    "duration": 23,
    "start_time": "2022-05-21T14:02:02.116Z"
   },
   {
    "duration": 26,
    "start_time": "2022-05-21T14:02:15.588Z"
   },
   {
    "duration": 141,
    "start_time": "2022-05-21T14:02:53.279Z"
   },
   {
    "duration": 9,
    "start_time": "2022-05-21T14:04:05.042Z"
   },
   {
    "duration": 15,
    "start_time": "2022-05-21T14:11:03.289Z"
   },
   {
    "duration": 9,
    "start_time": "2022-05-21T14:11:26.275Z"
   },
   {
    "duration": 82,
    "start_time": "2022-05-21T14:18:46.257Z"
   },
   {
    "duration": 22,
    "start_time": "2022-05-21T14:19:07.885Z"
   },
   {
    "duration": 22,
    "start_time": "2022-05-21T14:19:25.386Z"
   },
   {
    "duration": 12,
    "start_time": "2022-05-21T14:19:47.162Z"
   },
   {
    "duration": 37,
    "start_time": "2022-05-21T14:22:17.206Z"
   },
   {
    "duration": 29,
    "start_time": "2022-05-21T14:22:45.588Z"
   },
   {
    "duration": 32,
    "start_time": "2022-05-21T14:23:25.747Z"
   },
   {
    "duration": 42,
    "start_time": "2022-05-21T14:23:33.424Z"
   },
   {
    "duration": 23,
    "start_time": "2022-05-21T14:23:46.603Z"
   },
   {
    "duration": 84,
    "start_time": "2022-05-21T14:24:00.795Z"
   },
   {
    "duration": 52,
    "start_time": "2022-05-21T14:28:33.596Z"
   },
   {
    "duration": 22,
    "start_time": "2022-05-21T14:28:44.646Z"
   },
   {
    "duration": 15,
    "start_time": "2022-05-21T14:29:39.175Z"
   },
   {
    "duration": 12,
    "start_time": "2022-05-21T14:29:53.471Z"
   },
   {
    "duration": 15,
    "start_time": "2022-05-21T14:30:31.017Z"
   },
   {
    "duration": 11,
    "start_time": "2022-05-21T14:30:41.106Z"
   },
   {
    "duration": 12,
    "start_time": "2022-05-21T14:36:04.617Z"
   },
   {
    "duration": 14,
    "start_time": "2022-05-21T14:36:58.574Z"
   },
   {
    "duration": 12,
    "start_time": "2022-05-21T14:39:08.327Z"
   },
   {
    "duration": 13,
    "start_time": "2022-05-21T14:39:46.110Z"
   },
   {
    "duration": 14,
    "start_time": "2022-05-21T14:46:21.454Z"
   },
   {
    "duration": 31,
    "start_time": "2022-05-21T14:47:12.907Z"
   },
   {
    "duration": 27,
    "start_time": "2022-05-21T14:48:38.981Z"
   },
   {
    "duration": 19,
    "start_time": "2022-05-21T14:48:49.768Z"
   },
   {
    "duration": 11,
    "start_time": "2022-05-21T14:49:07.106Z"
   },
   {
    "duration": 13,
    "start_time": "2022-05-21T14:49:28.416Z"
   },
   {
    "duration": 20,
    "start_time": "2022-05-21T14:55:23.189Z"
   },
   {
    "duration": 20,
    "start_time": "2022-05-21T14:55:54.052Z"
   },
   {
    "duration": 17,
    "start_time": "2022-05-21T14:56:30.056Z"
   },
   {
    "duration": 23,
    "start_time": "2022-05-21T14:59:42.088Z"
   },
   {
    "duration": 84,
    "start_time": "2022-05-21T15:09:22.557Z"
   },
   {
    "duration": 13,
    "start_time": "2022-05-21T15:13:38.925Z"
   },
   {
    "duration": 16,
    "start_time": "2022-05-21T15:13:52.402Z"
   },
   {
    "duration": 48,
    "start_time": "2022-05-21T15:14:16.780Z"
   },
   {
    "duration": 33,
    "start_time": "2022-05-21T15:15:11.716Z"
   },
   {
    "duration": 51,
    "start_time": "2022-05-21T15:15:46.614Z"
   },
   {
    "duration": 16,
    "start_time": "2022-05-21T15:16:08.025Z"
   },
   {
    "duration": 502,
    "start_time": "2022-05-21T15:16:22.810Z"
   },
   {
    "duration": 29,
    "start_time": "2022-05-21T15:16:23.314Z"
   },
   {
    "duration": 33,
    "start_time": "2022-05-21T15:16:23.344Z"
   },
   {
    "duration": 22,
    "start_time": "2022-05-21T15:18:04.794Z"
   },
   {
    "duration": 100,
    "start_time": "2022-05-21T15:28:37.334Z"
   },
   {
    "duration": 8,
    "start_time": "2022-05-21T15:28:53.797Z"
   },
   {
    "duration": 8,
    "start_time": "2022-05-21T15:29:06.136Z"
   },
   {
    "duration": 562,
    "start_time": "2022-05-21T15:29:14.214Z"
   },
   {
    "duration": 27,
    "start_time": "2022-05-21T15:29:14.778Z"
   },
   {
    "duration": 93,
    "start_time": "2022-05-21T15:29:14.807Z"
   },
   {
    "duration": 0,
    "start_time": "2022-05-21T15:29:14.902Z"
   },
   {
    "duration": 19,
    "start_time": "2022-05-21T15:29:26.240Z"
   },
   {
    "duration": 8,
    "start_time": "2022-05-21T15:29:32.232Z"
   },
   {
    "duration": 8,
    "start_time": "2022-05-21T15:30:14.519Z"
   },
   {
    "duration": 539,
    "start_time": "2022-05-21T15:30:25.771Z"
   },
   {
    "duration": 26,
    "start_time": "2022-05-21T15:30:26.312Z"
   },
   {
    "duration": 86,
    "start_time": "2022-05-21T15:30:26.340Z"
   },
   {
    "duration": 0,
    "start_time": "2022-05-21T15:30:26.428Z"
   },
   {
    "duration": 74,
    "start_time": "2022-05-21T15:30:37.079Z"
   },
   {
    "duration": 24,
    "start_time": "2022-05-21T15:30:39.372Z"
   },
   {
    "duration": 23,
    "start_time": "2022-05-21T15:30:46.398Z"
   },
   {
    "duration": 76,
    "start_time": "2022-05-21T15:30:54.977Z"
   },
   {
    "duration": 21,
    "start_time": "2022-05-21T15:30:57.797Z"
   },
   {
    "duration": 12,
    "start_time": "2022-05-21T15:31:01.388Z"
   },
   {
    "duration": 22,
    "start_time": "2022-05-21T15:31:07.695Z"
   },
   {
    "duration": 22,
    "start_time": "2022-05-21T15:31:12.886Z"
   },
   {
    "duration": 12,
    "start_time": "2022-05-21T15:33:37.464Z"
   },
   {
    "duration": 9,
    "start_time": "2022-05-21T15:33:54.558Z"
   },
   {
    "duration": 10,
    "start_time": "2022-05-21T15:36:08.959Z"
   },
   {
    "duration": 26,
    "start_time": "2022-05-21T15:44:31.096Z"
   },
   {
    "duration": 25,
    "start_time": "2022-05-21T15:44:51.166Z"
   },
   {
    "duration": 17,
    "start_time": "2022-05-21T15:45:01.212Z"
   },
   {
    "duration": 22,
    "start_time": "2022-05-21T15:45:13.404Z"
   },
   {
    "duration": 23,
    "start_time": "2022-05-21T15:45:34.126Z"
   },
   {
    "duration": 21,
    "start_time": "2022-05-21T15:46:25.959Z"
   },
   {
    "duration": 514,
    "start_time": "2022-05-21T15:46:41.203Z"
   },
   {
    "duration": 16,
    "start_time": "2022-05-21T15:46:41.718Z"
   },
   {
    "duration": 87,
    "start_time": "2022-05-21T15:46:41.736Z"
   },
   {
    "duration": 0,
    "start_time": "2022-05-21T15:46:41.824Z"
   },
   {
    "duration": 13,
    "start_time": "2022-05-21T15:46:47.515Z"
   },
   {
    "duration": 18,
    "start_time": "2022-05-21T15:47:22.460Z"
   },
   {
    "duration": 15,
    "start_time": "2022-05-21T15:47:48.462Z"
   },
   {
    "duration": 21,
    "start_time": "2022-05-21T15:48:32.164Z"
   },
   {
    "duration": 16,
    "start_time": "2022-05-21T15:48:58.505Z"
   },
   {
    "duration": 15,
    "start_time": "2022-05-21T15:49:20.389Z"
   },
   {
    "duration": 16,
    "start_time": "2022-05-21T15:50:06.474Z"
   },
   {
    "duration": 15,
    "start_time": "2022-05-21T15:50:13.286Z"
   },
   {
    "duration": 22,
    "start_time": "2022-05-21T15:50:29.275Z"
   },
   {
    "duration": 31,
    "start_time": "2022-05-21T15:50:39.736Z"
   },
   {
    "duration": 11,
    "start_time": "2022-05-21T15:50:43.613Z"
   },
   {
    "duration": 518,
    "start_time": "2022-05-21T15:50:55.168Z"
   },
   {
    "duration": 24,
    "start_time": "2022-05-21T15:50:55.688Z"
   },
   {
    "duration": 100,
    "start_time": "2022-05-21T15:50:55.714Z"
   },
   {
    "duration": 0,
    "start_time": "2022-05-21T15:50:55.816Z"
   },
   {
    "duration": 21,
    "start_time": "2022-05-21T15:51:00.288Z"
   },
   {
    "duration": 8,
    "start_time": "2022-05-21T15:51:43.662Z"
   },
   {
    "duration": 15,
    "start_time": "2022-05-21T15:52:01.280Z"
   },
   {
    "duration": 2,
    "start_time": "2022-05-21T16:37:47.185Z"
   },
   {
    "duration": 5,
    "start_time": "2022-05-21T16:42:43.452Z"
   },
   {
    "duration": 525,
    "start_time": "2022-05-21T16:42:51.919Z"
   },
   {
    "duration": 87,
    "start_time": "2022-05-21T16:42:52.446Z"
   },
   {
    "duration": 0,
    "start_time": "2022-05-21T16:42:52.534Z"
   },
   {
    "duration": 0,
    "start_time": "2022-05-21T16:42:52.535Z"
   },
   {
    "duration": 7,
    "start_time": "2022-05-21T16:43:12.896Z"
   },
   {
    "duration": 565,
    "start_time": "2022-05-21T16:43:20.730Z"
   },
   {
    "duration": 99,
    "start_time": "2022-05-21T16:43:21.297Z"
   },
   {
    "duration": 0,
    "start_time": "2022-05-21T16:43:21.398Z"
   },
   {
    "duration": 0,
    "start_time": "2022-05-21T16:43:21.400Z"
   },
   {
    "duration": 80,
    "start_time": "2022-05-21T16:43:35.201Z"
   },
   {
    "duration": 23,
    "start_time": "2022-05-21T16:43:36.452Z"
   },
   {
    "duration": 556,
    "start_time": "2022-05-21T16:44:43.947Z"
   },
   {
    "duration": 21,
    "start_time": "2022-05-21T16:44:44.505Z"
   },
   {
    "duration": 6,
    "start_time": "2022-05-21T16:44:44.528Z"
   },
   {
    "duration": 5,
    "start_time": "2022-05-21T16:44:44.536Z"
   },
   {
    "duration": 26,
    "start_time": "2022-05-21T16:44:49.482Z"
   },
   {
    "duration": 7,
    "start_time": "2022-05-21T16:44:56.748Z"
   },
   {
    "duration": 22,
    "start_time": "2022-05-21T16:45:38.013Z"
   },
   {
    "duration": 7,
    "start_time": "2022-05-21T16:57:48.550Z"
   },
   {
    "duration": 84,
    "start_time": "2022-05-21T16:58:02.624Z"
   },
   {
    "duration": 10,
    "start_time": "2022-05-21T16:58:18.352Z"
   },
   {
    "duration": 573,
    "start_time": "2022-05-21T16:58:31.298Z"
   },
   {
    "duration": 34,
    "start_time": "2022-05-21T16:58:31.874Z"
   },
   {
    "duration": 33,
    "start_time": "2022-05-21T16:58:31.911Z"
   },
   {
    "duration": 9,
    "start_time": "2022-05-21T16:58:31.965Z"
   },
   {
    "duration": 102,
    "start_time": "2022-05-21T16:58:38.523Z"
   },
   {
    "duration": 11,
    "start_time": "2022-05-21T17:12:27.546Z"
   },
   {
    "duration": 0,
    "start_time": "2022-05-21T17:12:27.559Z"
   },
   {
    "duration": 0,
    "start_time": "2022-05-21T17:12:27.561Z"
   },
   {
    "duration": 64,
    "start_time": "2022-05-21T17:12:27.569Z"
   },
   {
    "duration": 7,
    "start_time": "2022-05-21T17:14:12.391Z"
   },
   {
    "duration": 7,
    "start_time": "2022-05-21T17:14:37.775Z"
   },
   {
    "duration": 9,
    "start_time": "2022-05-21T17:14:47.476Z"
   },
   {
    "duration": 7,
    "start_time": "2022-05-21T17:14:57.094Z"
   },
   {
    "duration": 7,
    "start_time": "2022-05-21T17:15:44.244Z"
   },
   {
    "duration": 8,
    "start_time": "2022-05-21T17:16:53.607Z"
   },
   {
    "duration": 7,
    "start_time": "2022-05-21T17:16:59.524Z"
   },
   {
    "duration": 6,
    "start_time": "2022-05-21T17:17:17.049Z"
   },
   {
    "duration": 8,
    "start_time": "2022-05-21T17:17:31.822Z"
   },
   {
    "duration": 47,
    "start_time": "2022-05-21T17:17:54.400Z"
   },
   {
    "duration": 38,
    "start_time": "2022-05-21T17:18:05.086Z"
   },
   {
    "duration": 518,
    "start_time": "2022-05-21T17:18:53.383Z"
   },
   {
    "duration": 20,
    "start_time": "2022-05-21T17:18:53.903Z"
   },
   {
    "duration": 19,
    "start_time": "2022-05-21T17:18:53.925Z"
   },
   {
    "duration": 45,
    "start_time": "2022-05-21T17:18:53.946Z"
   },
   {
    "duration": 20,
    "start_time": "2022-05-21T17:19:03.661Z"
   },
   {
    "duration": 19,
    "start_time": "2022-05-21T17:19:22.924Z"
   },
   {
    "duration": 32,
    "start_time": "2022-05-21T17:19:29.990Z"
   },
   {
    "duration": 18,
    "start_time": "2022-05-21T17:19:33.058Z"
   },
   {
    "duration": 17,
    "start_time": "2022-05-21T17:20:29.393Z"
   },
   {
    "duration": 19,
    "start_time": "2022-05-21T17:20:37.670Z"
   },
   {
    "duration": 31,
    "start_time": "2022-05-21T17:20:43.549Z"
   },
   {
    "duration": 20,
    "start_time": "2022-05-21T17:21:20.275Z"
   },
   {
    "duration": 20,
    "start_time": "2022-05-21T17:21:38.696Z"
   },
   {
    "duration": 18,
    "start_time": "2022-05-21T17:21:43.130Z"
   },
   {
    "duration": 480,
    "start_time": "2022-05-21T17:21:52.821Z"
   },
   {
    "duration": 20,
    "start_time": "2022-05-21T17:21:53.303Z"
   },
   {
    "duration": 21,
    "start_time": "2022-05-21T17:21:53.325Z"
   },
   {
    "duration": 20,
    "start_time": "2022-05-21T17:21:53.366Z"
   },
   {
    "duration": 69,
    "start_time": "2022-05-21T17:21:57.755Z"
   },
   {
    "duration": 17,
    "start_time": "2022-05-21T17:21:58.610Z"
   },
   {
    "duration": 22,
    "start_time": "2022-05-21T17:22:05.805Z"
   },
   {
    "duration": 24,
    "start_time": "2022-05-21T17:22:11.570Z"
   },
   {
    "duration": 16,
    "start_time": "2022-05-21T17:24:05.648Z"
   },
   {
    "duration": 17,
    "start_time": "2022-05-21T17:24:10.462Z"
   },
   {
    "duration": 17,
    "start_time": "2022-05-21T17:24:48.753Z"
   },
   {
    "duration": 17,
    "start_time": "2022-05-21T17:24:53.550Z"
   },
   {
    "duration": 20,
    "start_time": "2022-05-21T17:24:56.152Z"
   },
   {
    "duration": 77,
    "start_time": "2022-05-21T17:35:10.010Z"
   },
   {
    "duration": 8,
    "start_time": "2022-05-21T17:36:17.360Z"
   },
   {
    "duration": 10,
    "start_time": "2022-05-21T17:37:12.832Z"
   },
   {
    "duration": 11,
    "start_time": "2022-05-21T17:37:30.450Z"
   },
   {
    "duration": 8,
    "start_time": "2022-05-21T18:01:32.368Z"
   },
   {
    "duration": 8,
    "start_time": "2022-05-21T18:14:29.354Z"
   },
   {
    "duration": 18,
    "start_time": "2022-05-21T18:14:42.887Z"
   },
   {
    "duration": 19,
    "start_time": "2022-05-21T18:15:31.664Z"
   },
   {
    "duration": 41,
    "start_time": "2022-05-21T18:15:56.915Z"
   },
   {
    "duration": 62,
    "start_time": "2022-05-21T18:16:08.632Z"
   },
   {
    "duration": 537,
    "start_time": "2022-05-21T18:16:17.930Z"
   },
   {
    "duration": 21,
    "start_time": "2022-05-21T18:16:18.469Z"
   },
   {
    "duration": 17,
    "start_time": "2022-05-21T18:16:18.491Z"
   },
   {
    "duration": 18,
    "start_time": "2022-05-21T18:16:18.510Z"
   },
   {
    "duration": 4,
    "start_time": "2022-05-21T18:16:18.530Z"
   },
   {
    "duration": 28,
    "start_time": "2022-05-21T18:17:28.910Z"
   },
   {
    "duration": 36,
    "start_time": "2022-05-21T18:17:46.990Z"
   },
   {
    "duration": 27,
    "start_time": "2022-05-21T18:18:04.719Z"
   },
   {
    "duration": 79,
    "start_time": "2022-05-21T18:22:25.963Z"
   },
   {
    "duration": 12,
    "start_time": "2022-05-21T18:23:08.700Z"
   },
   {
    "duration": 9,
    "start_time": "2022-05-21T18:26:26.795Z"
   },
   {
    "duration": 10,
    "start_time": "2022-05-21T18:26:42.528Z"
   },
   {
    "duration": 480,
    "start_time": "2022-05-21T18:26:51.123Z"
   },
   {
    "duration": 20,
    "start_time": "2022-05-21T18:26:51.605Z"
   },
   {
    "duration": 16,
    "start_time": "2022-05-21T18:26:51.626Z"
   },
   {
    "duration": 32,
    "start_time": "2022-05-21T18:26:51.644Z"
   },
   {
    "duration": 91,
    "start_time": "2022-05-21T18:26:51.677Z"
   },
   {
    "duration": 11,
    "start_time": "2022-05-21T18:27:40.653Z"
   },
   {
    "duration": 23,
    "start_time": "2022-05-21T18:29:01.820Z"
   },
   {
    "duration": 11,
    "start_time": "2022-05-21T18:29:20.360Z"
   },
   {
    "duration": 11,
    "start_time": "2022-05-21T18:29:31.903Z"
   },
   {
    "duration": 10,
    "start_time": "2022-05-21T18:30:09.307Z"
   },
   {
    "duration": 47,
    "start_time": "2022-05-21T18:30:16.686Z"
   },
   {
    "duration": 30,
    "start_time": "2022-05-21T18:30:43.297Z"
   },
   {
    "duration": 56,
    "start_time": "2022-05-21T18:31:04.011Z"
   },
   {
    "duration": 19,
    "start_time": "2022-05-21T18:47:25.297Z"
   },
   {
    "duration": 22,
    "start_time": "2022-05-21T18:53:59.588Z"
   },
   {
    "duration": 53,
    "start_time": "2022-05-21T18:55:33.631Z"
   },
   {
    "duration": 53,
    "start_time": "2022-05-21T18:56:41.475Z"
   },
   {
    "duration": 544,
    "start_time": "2022-05-21T18:58:07.531Z"
   },
   {
    "duration": 21,
    "start_time": "2022-05-21T18:58:08.077Z"
   },
   {
    "duration": 22,
    "start_time": "2022-05-21T18:58:08.100Z"
   },
   {
    "duration": 42,
    "start_time": "2022-05-21T18:58:08.125Z"
   },
   {
    "duration": 59,
    "start_time": "2022-05-21T18:58:08.169Z"
   },
   {
    "duration": 56,
    "start_time": "2022-05-21T18:58:47.277Z"
   },
   {
    "duration": 5,
    "start_time": "2022-05-21T19:03:01.856Z"
   },
   {
    "duration": 85,
    "start_time": "2022-05-21T19:04:00.285Z"
   },
   {
    "duration": 11,
    "start_time": "2022-05-21T19:04:23.225Z"
   },
   {
    "duration": 15,
    "start_time": "2022-05-21T19:04:55.420Z"
   },
   {
    "duration": 10,
    "start_time": "2022-05-21T19:05:03.978Z"
   },
   {
    "duration": 5,
    "start_time": "2022-05-21T19:05:10.637Z"
   },
   {
    "duration": 10,
    "start_time": "2022-05-21T19:05:24.035Z"
   },
   {
    "duration": 12,
    "start_time": "2022-05-21T19:06:55.035Z"
   },
   {
    "duration": 7,
    "start_time": "2022-05-21T19:07:16.077Z"
   },
   {
    "duration": 16,
    "start_time": "2022-05-21T19:07:29.066Z"
   },
   {
    "duration": 10,
    "start_time": "2022-05-21T19:07:38.733Z"
   },
   {
    "duration": 8,
    "start_time": "2022-05-21T19:08:22.374Z"
   },
   {
    "duration": 8,
    "start_time": "2022-05-21T19:12:05.674Z"
   },
   {
    "duration": 532,
    "start_time": "2022-05-21T19:12:21.082Z"
   },
   {
    "duration": 20,
    "start_time": "2022-05-21T19:12:21.616Z"
   },
   {
    "duration": 32,
    "start_time": "2022-05-21T19:12:21.638Z"
   },
   {
    "duration": 28,
    "start_time": "2022-05-21T19:12:21.672Z"
   },
   {
    "duration": 73,
    "start_time": "2022-05-21T19:12:21.702Z"
   },
   {
    "duration": 7,
    "start_time": "2022-05-21T19:12:21.777Z"
   },
   {
    "duration": 7,
    "start_time": "2022-05-21T19:12:26.509Z"
   },
   {
    "duration": 22,
    "start_time": "2022-05-21T19:15:34.138Z"
   },
   {
    "duration": 16,
    "start_time": "2022-05-21T19:15:51.479Z"
   },
   {
    "duration": 21,
    "start_time": "2022-05-21T19:16:03.574Z"
   },
   {
    "duration": 23,
    "start_time": "2022-05-21T19:16:19.412Z"
   },
   {
    "duration": 8,
    "start_time": "2022-05-21T19:17:15.684Z"
   },
   {
    "duration": 21,
    "start_time": "2022-05-21T19:29:21.882Z"
   },
   {
    "duration": 48,
    "start_time": "2022-05-21T19:33:49.467Z"
   },
   {
    "duration": 3,
    "start_time": "2022-05-21T19:34:00.081Z"
   },
   {
    "duration": 5,
    "start_time": "2022-05-21T19:39:45.335Z"
   },
   {
    "duration": 634,
    "start_time": "2022-05-21T19:46:00.619Z"
   },
   {
    "duration": 386,
    "start_time": "2022-05-21T19:47:51.209Z"
   },
   {
    "duration": 423,
    "start_time": "2022-05-21T19:48:43.931Z"
   },
   {
    "duration": 543,
    "start_time": "2022-05-21T19:49:03.486Z"
   },
   {
    "duration": 21,
    "start_time": "2022-05-21T19:49:04.031Z"
   },
   {
    "duration": 26,
    "start_time": "2022-05-21T19:49:04.065Z"
   },
   {
    "duration": 27,
    "start_time": "2022-05-21T19:49:04.099Z"
   },
   {
    "duration": 90,
    "start_time": "2022-05-21T19:49:04.127Z"
   },
   {
    "duration": 20,
    "start_time": "2022-05-21T19:49:04.219Z"
   },
   {
    "duration": 125,
    "start_time": "2022-05-21T19:49:04.241Z"
   },
   {
    "duration": 141,
    "start_time": "2022-05-21T19:49:38.400Z"
   },
   {
    "duration": 513,
    "start_time": "2022-05-21T19:49:53.886Z"
   },
   {
    "duration": 22,
    "start_time": "2022-05-21T19:49:54.401Z"
   },
   {
    "duration": 24,
    "start_time": "2022-05-21T19:49:54.425Z"
   },
   {
    "duration": 33,
    "start_time": "2022-05-21T19:49:54.451Z"
   },
   {
    "duration": 52,
    "start_time": "2022-05-21T19:49:54.486Z"
   },
   {
    "duration": 37,
    "start_time": "2022-05-21T19:49:54.540Z"
   },
   {
    "duration": 165,
    "start_time": "2022-05-21T19:49:54.579Z"
   },
   {
    "duration": 146,
    "start_time": "2022-05-21T19:50:09.183Z"
   },
   {
    "duration": 23,
    "start_time": "2022-05-21T19:51:12.582Z"
   },
   {
    "duration": 19,
    "start_time": "2022-05-21T19:52:46.507Z"
   },
   {
    "duration": 10,
    "start_time": "2022-05-21T19:53:28.225Z"
   },
   {
    "duration": 21,
    "start_time": "2022-05-21T19:53:38.998Z"
   },
   {
    "duration": 22,
    "start_time": "2022-05-21T19:54:19.787Z"
   },
   {
    "duration": 27,
    "start_time": "2022-05-21T19:54:28.892Z"
   },
   {
    "duration": 15,
    "start_time": "2022-05-21T19:55:29.806Z"
   },
   {
    "duration": 16,
    "start_time": "2022-05-21T19:55:38.474Z"
   },
   {
    "duration": 21,
    "start_time": "2022-05-21T19:56:39.600Z"
   },
   {
    "duration": 29,
    "start_time": "2022-05-21T19:58:37.923Z"
   },
   {
    "duration": 17,
    "start_time": "2022-05-21T20:00:44.869Z"
   },
   {
    "duration": 115,
    "start_time": "2022-05-21T20:05:11.278Z"
   },
   {
    "duration": 4,
    "start_time": "2022-05-21T20:06:48.924Z"
   },
   {
    "duration": 85,
    "start_time": "2022-05-21T20:06:59.363Z"
   },
   {
    "duration": 107,
    "start_time": "2022-05-21T20:07:58.306Z"
   },
   {
    "duration": 17,
    "start_time": "2022-05-21T20:09:20.962Z"
   },
   {
    "duration": 58,
    "start_time": "2022-05-22T08:16:56.554Z"
   },
   {
    "duration": 8,
    "start_time": "2022-05-22T08:17:12.832Z"
   },
   {
    "duration": 11,
    "start_time": "2022-05-22T08:17:27.193Z"
   },
   {
    "duration": 710,
    "start_time": "2022-05-22T08:18:28.421Z"
   },
   {
    "duration": 20,
    "start_time": "2022-05-22T08:18:29.133Z"
   },
   {
    "duration": 16,
    "start_time": "2022-05-22T08:18:29.154Z"
   },
   {
    "duration": 23,
    "start_time": "2022-05-22T08:18:29.171Z"
   },
   {
    "duration": 51,
    "start_time": "2022-05-22T08:18:29.195Z"
   },
   {
    "duration": 39,
    "start_time": "2022-05-22T08:18:29.247Z"
   },
   {
    "duration": 73,
    "start_time": "2022-05-22T08:18:29.288Z"
   },
   {
    "duration": 9,
    "start_time": "2022-05-22T08:18:33.226Z"
   },
   {
    "duration": 11,
    "start_time": "2022-05-22T08:18:37.924Z"
   },
   {
    "duration": 16,
    "start_time": "2022-05-22T08:18:53.880Z"
   },
   {
    "duration": 10,
    "start_time": "2022-05-22T08:19:07.292Z"
   },
   {
    "duration": 13,
    "start_time": "2022-05-22T08:19:19.064Z"
   },
   {
    "duration": 4,
    "start_time": "2022-05-22T08:21:45.120Z"
   },
   {
    "duration": 4,
    "start_time": "2022-05-22T08:22:01.055Z"
   },
   {
    "duration": 9,
    "start_time": "2022-05-22T08:23:09.431Z"
   },
   {
    "duration": 9,
    "start_time": "2022-05-22T08:26:53.599Z"
   },
   {
    "duration": 10,
    "start_time": "2022-05-22T08:26:58.212Z"
   },
   {
    "duration": 10,
    "start_time": "2022-05-22T08:27:01.620Z"
   },
   {
    "duration": 9,
    "start_time": "2022-05-22T08:28:36.327Z"
   },
   {
    "duration": 551,
    "start_time": "2022-05-22T08:28:44.586Z"
   },
   {
    "duration": 20,
    "start_time": "2022-05-22T08:28:45.139Z"
   },
   {
    "duration": 29,
    "start_time": "2022-05-22T08:28:45.161Z"
   },
   {
    "duration": 21,
    "start_time": "2022-05-22T08:28:45.192Z"
   },
   {
    "duration": 77,
    "start_time": "2022-05-22T08:28:45.214Z"
   },
   {
    "duration": 19,
    "start_time": "2022-05-22T08:28:45.293Z"
   },
   {
    "duration": 13,
    "start_time": "2022-05-22T08:28:45.313Z"
   },
   {
    "duration": 15,
    "start_time": "2022-05-22T08:28:54.210Z"
   },
   {
    "duration": 17,
    "start_time": "2022-05-22T08:29:33.543Z"
   },
   {
    "duration": 22,
    "start_time": "2022-05-22T08:29:45.826Z"
   },
   {
    "duration": 38,
    "start_time": "2022-05-22T08:30:31.710Z"
   },
   {
    "duration": 36,
    "start_time": "2022-05-22T08:37:56.942Z"
   },
   {
    "duration": 39,
    "start_time": "2022-05-22T08:43:55.241Z"
   },
   {
    "duration": 29,
    "start_time": "2022-05-22T08:44:51.990Z"
   },
   {
    "duration": 31,
    "start_time": "2022-05-22T08:46:08.675Z"
   },
   {
    "duration": 652,
    "start_time": "2022-05-22T08:46:39.673Z"
   },
   {
    "duration": 30,
    "start_time": "2022-05-22T08:46:40.329Z"
   },
   {
    "duration": 39,
    "start_time": "2022-05-22T08:46:40.361Z"
   },
   {
    "duration": 27,
    "start_time": "2022-05-22T08:46:40.402Z"
   },
   {
    "duration": 81,
    "start_time": "2022-05-22T08:46:40.431Z"
   },
   {
    "duration": 24,
    "start_time": "2022-05-22T08:46:40.514Z"
   },
   {
    "duration": 55,
    "start_time": "2022-05-22T08:46:40.540Z"
   },
   {
    "duration": 42,
    "start_time": "2022-05-22T08:46:40.598Z"
   },
   {
    "duration": 498,
    "start_time": "2022-05-22T08:47:03.118Z"
   },
   {
    "duration": 20,
    "start_time": "2022-05-22T08:47:03.618Z"
   },
   {
    "duration": 17,
    "start_time": "2022-05-22T08:47:03.640Z"
   },
   {
    "duration": 45,
    "start_time": "2022-05-22T08:47:03.659Z"
   },
   {
    "duration": 78,
    "start_time": "2022-05-22T08:47:03.706Z"
   },
   {
    "duration": 15,
    "start_time": "2022-05-22T08:47:03.786Z"
   },
   {
    "duration": 24,
    "start_time": "2022-05-22T08:47:03.804Z"
   },
   {
    "duration": 25,
    "start_time": "2022-05-22T08:47:03.830Z"
   },
   {
    "duration": 112,
    "start_time": "2022-05-22T09:03:49.731Z"
   },
   {
    "duration": 40,
    "start_time": "2022-05-22T09:10:50.089Z"
   },
   {
    "duration": 34,
    "start_time": "2022-05-22T09:11:14.260Z"
   },
   {
    "duration": 27,
    "start_time": "2022-05-22T09:11:28.930Z"
   },
   {
    "duration": 34,
    "start_time": "2022-05-22T09:11:57.648Z"
   },
   {
    "duration": 41,
    "start_time": "2022-05-22T09:15:40.280Z"
   },
   {
    "duration": 30,
    "start_time": "2022-05-22T09:16:22.037Z"
   },
   {
    "duration": 50,
    "start_time": "2022-05-22T09:16:35.760Z"
   },
   {
    "duration": 39,
    "start_time": "2022-05-22T09:17:24.357Z"
   },
   {
    "duration": 40,
    "start_time": "2022-05-22T09:18:36.168Z"
   },
   {
    "duration": 39,
    "start_time": "2022-05-22T09:20:44.415Z"
   },
   {
    "duration": 42,
    "start_time": "2022-05-22T09:21:23.216Z"
   },
   {
    "duration": 4460,
    "start_time": "2022-05-22T09:22:14.002Z"
   },
   {
    "duration": 31,
    "start_time": "2022-05-22T09:22:32.554Z"
   },
   {
    "duration": 24,
    "start_time": "2022-05-22T09:23:38.697Z"
   },
   {
    "duration": 17,
    "start_time": "2022-05-22T09:24:20.554Z"
   },
   {
    "duration": 15,
    "start_time": "2022-05-22T09:24:37.551Z"
   },
   {
    "duration": 18,
    "start_time": "2022-05-22T09:24:45.997Z"
   },
   {
    "duration": 14,
    "start_time": "2022-05-22T09:25:03.481Z"
   },
   {
    "duration": 15,
    "start_time": "2022-05-22T09:25:11.742Z"
   },
   {
    "duration": 23,
    "start_time": "2022-05-22T09:25:21.092Z"
   },
   {
    "duration": 21,
    "start_time": "2022-05-22T09:27:05.054Z"
   },
   {
    "duration": 13,
    "start_time": "2022-05-22T09:27:32.569Z"
   },
   {
    "duration": 33,
    "start_time": "2022-05-22T09:28:05.929Z"
   },
   {
    "duration": 33,
    "start_time": "2022-05-22T09:28:35.563Z"
   },
   {
    "duration": 56,
    "start_time": "2022-05-22T09:28:46.972Z"
   },
   {
    "duration": 59,
    "start_time": "2022-05-22T09:28:59.370Z"
   },
   {
    "duration": 54,
    "start_time": "2022-05-22T09:30:26.479Z"
   },
   {
    "duration": 51,
    "start_time": "2022-05-22T09:40:53.329Z"
   },
   {
    "duration": 52,
    "start_time": "2022-05-22T09:41:26.014Z"
   },
   {
    "duration": 57,
    "start_time": "2022-05-22T09:42:22.974Z"
   },
   {
    "duration": 49,
    "start_time": "2022-05-22T09:43:36.190Z"
   },
   {
    "duration": 71,
    "start_time": "2022-05-22T09:44:30.969Z"
   },
   {
    "duration": 66,
    "start_time": "2022-05-22T09:45:05.848Z"
   },
   {
    "duration": 47,
    "start_time": "2022-05-22T09:45:16.524Z"
   },
   {
    "duration": 42,
    "start_time": "2022-05-22T09:45:50.866Z"
   },
   {
    "duration": 63,
    "start_time": "2022-05-22T09:46:02.362Z"
   },
   {
    "duration": 69,
    "start_time": "2022-05-22T09:46:55.178Z"
   },
   {
    "duration": 693,
    "start_time": "2022-05-22T09:48:02.081Z"
   },
   {
    "duration": 32,
    "start_time": "2022-05-22T09:48:02.779Z"
   },
   {
    "duration": 27,
    "start_time": "2022-05-22T09:48:02.814Z"
   },
   {
    "duration": 51,
    "start_time": "2022-05-22T09:48:02.843Z"
   },
   {
    "duration": 86,
    "start_time": "2022-05-22T09:48:02.896Z"
   },
   {
    "duration": 19,
    "start_time": "2022-05-22T09:48:02.985Z"
   },
   {
    "duration": 30,
    "start_time": "2022-05-22T09:48:03.007Z"
   },
   {
    "duration": 100,
    "start_time": "2022-05-22T09:48:03.039Z"
   },
   {
    "duration": 119,
    "start_time": "2022-05-22T09:49:01.942Z"
   },
   {
    "duration": 77,
    "start_time": "2022-05-22T09:49:43.711Z"
   },
   {
    "duration": 83,
    "start_time": "2022-05-22T09:50:42.082Z"
   },
   {
    "duration": 91,
    "start_time": "2022-05-22T09:51:13.797Z"
   },
   {
    "duration": 92,
    "start_time": "2022-05-22T09:51:43.763Z"
   },
   {
    "duration": 591,
    "start_time": "2022-05-22T09:52:29.789Z"
   },
   {
    "duration": 29,
    "start_time": "2022-05-22T09:52:30.383Z"
   },
   {
    "duration": 22,
    "start_time": "2022-05-22T09:52:30.414Z"
   },
   {
    "duration": 50,
    "start_time": "2022-05-22T09:52:30.438Z"
   },
   {
    "duration": 78,
    "start_time": "2022-05-22T09:52:30.496Z"
   },
   {
    "duration": 22,
    "start_time": "2022-05-22T09:52:30.576Z"
   },
   {
    "duration": 37,
    "start_time": "2022-05-22T09:52:30.601Z"
   },
   {
    "duration": 84,
    "start_time": "2022-05-22T09:52:30.640Z"
   },
   {
    "duration": 85,
    "start_time": "2022-05-22T09:53:07.859Z"
   },
   {
    "duration": 61,
    "start_time": "2022-05-22T09:53:46.652Z"
   },
   {
    "duration": 48,
    "start_time": "2022-05-22T09:54:27.822Z"
   },
   {
    "duration": 88,
    "start_time": "2022-05-22T09:55:16.797Z"
   },
   {
    "duration": 271,
    "start_time": "2022-05-22T09:56:24.203Z"
   },
   {
    "duration": 68,
    "start_time": "2022-05-22T09:57:57.620Z"
   },
   {
    "duration": 85,
    "start_time": "2022-05-22T09:58:27.163Z"
   },
   {
    "duration": 66,
    "start_time": "2022-05-22T10:00:56.925Z"
   },
   {
    "duration": 90,
    "start_time": "2022-05-22T10:01:20.244Z"
   },
   {
    "duration": 255,
    "start_time": "2022-05-22T10:04:48.770Z"
   },
   {
    "duration": 58,
    "start_time": "2022-05-22T10:05:09.700Z"
   },
   {
    "duration": 98,
    "start_time": "2022-05-22T10:10:41.826Z"
   },
   {
    "duration": 50,
    "start_time": "2022-05-22T10:11:56.191Z"
   },
   {
    "duration": 56,
    "start_time": "2022-05-22T10:12:05.905Z"
   },
   {
    "duration": 109,
    "start_time": "2022-05-22T10:12:21.213Z"
   },
   {
    "duration": 72,
    "start_time": "2022-05-22T10:12:38.405Z"
   },
   {
    "duration": 73,
    "start_time": "2022-05-22T10:12:45.965Z"
   },
   {
    "duration": 75,
    "start_time": "2022-05-22T10:12:53.424Z"
   },
   {
    "duration": 78,
    "start_time": "2022-05-22T10:13:25.666Z"
   },
   {
    "duration": 71,
    "start_time": "2022-05-22T10:13:50.216Z"
   },
   {
    "duration": 56,
    "start_time": "2022-05-22T10:14:23.865Z"
   },
   {
    "duration": 44,
    "start_time": "2022-05-22T10:15:01.418Z"
   },
   {
    "duration": 62,
    "start_time": "2022-05-22T10:15:58.658Z"
   },
   {
    "duration": 68,
    "start_time": "2022-05-22T10:16:24.458Z"
   },
   {
    "duration": 65,
    "start_time": "2022-05-22T10:18:48.024Z"
   },
   {
    "duration": 70,
    "start_time": "2022-05-22T10:19:10.682Z"
   },
   {
    "duration": 43,
    "start_time": "2022-05-22T10:19:27.098Z"
   },
   {
    "duration": 271,
    "start_time": "2022-05-22T10:19:44.517Z"
   },
   {
    "duration": 67,
    "start_time": "2022-05-22T10:20:00.149Z"
   },
   {
    "duration": 42,
    "start_time": "2022-05-22T10:20:14.124Z"
   },
   {
    "duration": 55,
    "start_time": "2022-05-22T10:25:54.990Z"
   },
   {
    "duration": 40,
    "start_time": "2022-05-22T10:26:38.445Z"
   },
   {
    "duration": 47,
    "start_time": "2022-05-22T10:44:57.881Z"
   },
   {
    "duration": 60,
    "start_time": "2022-05-22T10:45:11.765Z"
   },
   {
    "duration": 34,
    "start_time": "2022-05-22T10:45:27.300Z"
   },
   {
    "duration": 40,
    "start_time": "2022-05-22T10:45:42.915Z"
   },
   {
    "duration": 52,
    "start_time": "2022-05-22T10:51:29.267Z"
   },
   {
    "duration": 56,
    "start_time": "2022-05-22T10:56:59.203Z"
   },
   {
    "duration": 55,
    "start_time": "2022-05-22T10:59:43.860Z"
   },
   {
    "duration": 555,
    "start_time": "2022-05-22T11:00:12.794Z"
   },
   {
    "duration": 21,
    "start_time": "2022-05-22T11:00:13.351Z"
   },
   {
    "duration": 36,
    "start_time": "2022-05-22T11:00:13.373Z"
   },
   {
    "duration": 30,
    "start_time": "2022-05-22T11:00:13.411Z"
   },
   {
    "duration": 72,
    "start_time": "2022-05-22T11:00:13.442Z"
   },
   {
    "duration": 24,
    "start_time": "2022-05-22T11:00:13.516Z"
   },
   {
    "duration": 21,
    "start_time": "2022-05-22T11:00:13.542Z"
   },
   {
    "duration": 62,
    "start_time": "2022-05-22T11:00:13.587Z"
   },
   {
    "duration": 54,
    "start_time": "2022-05-22T11:06:27.795Z"
   },
   {
    "duration": 49,
    "start_time": "2022-05-22T11:09:15.503Z"
   },
   {
    "duration": 31,
    "start_time": "2022-05-22T11:28:12.080Z"
   },
   {
    "duration": 33,
    "start_time": "2022-05-22T11:28:52.948Z"
   },
   {
    "duration": 32,
    "start_time": "2022-05-22T11:38:05.360Z"
   },
   {
    "duration": 50,
    "start_time": "2022-05-22T11:38:20.268Z"
   },
   {
    "duration": 52,
    "start_time": "2022-05-22T11:39:27.558Z"
   },
   {
    "duration": 57,
    "start_time": "2022-05-22T11:39:42.180Z"
   },
   {
    "duration": 40,
    "start_time": "2022-05-22T11:48:16.224Z"
   },
   {
    "duration": 37,
    "start_time": "2022-05-22T11:48:51.400Z"
   },
   {
    "duration": 85,
    "start_time": "2022-05-22T12:06:08.690Z"
   },
   {
    "duration": 303,
    "start_time": "2022-05-22T12:07:15.517Z"
   },
   {
    "duration": 19,
    "start_time": "2022-05-22T12:09:21.757Z"
   },
   {
    "duration": 563,
    "start_time": "2022-05-22T12:11:27.270Z"
   },
   {
    "duration": 24,
    "start_time": "2022-05-22T12:11:27.836Z"
   },
   {
    "duration": 40,
    "start_time": "2022-05-22T12:11:27.862Z"
   },
   {
    "duration": 25,
    "start_time": "2022-05-22T12:11:27.905Z"
   },
   {
    "duration": 97,
    "start_time": "2022-05-22T12:11:27.933Z"
   },
   {
    "duration": 22,
    "start_time": "2022-05-22T12:11:28.032Z"
   },
   {
    "duration": 49,
    "start_time": "2022-05-22T12:11:28.058Z"
   },
   {
    "duration": 74,
    "start_time": "2022-05-22T12:11:28.109Z"
   },
   {
    "duration": 64,
    "start_time": "2022-05-22T12:11:28.185Z"
   },
   {
    "duration": 82,
    "start_time": "2022-05-22T12:12:06.720Z"
   },
   {
    "duration": 10,
    "start_time": "2022-05-23T15:00:05.778Z"
   },
   {
    "duration": 7,
    "start_time": "2022-05-23T15:00:18.645Z"
   },
   {
    "duration": 8,
    "start_time": "2022-05-23T15:00:28.054Z"
   },
   {
    "duration": 9,
    "start_time": "2022-05-23T15:01:49.887Z"
   },
   {
    "duration": 605,
    "start_time": "2022-05-23T15:02:55.760Z"
   },
   {
    "duration": 23,
    "start_time": "2022-05-23T15:02:56.368Z"
   },
   {
    "duration": 19,
    "start_time": "2022-05-23T15:02:56.393Z"
   },
   {
    "duration": 20,
    "start_time": "2022-05-23T15:02:56.414Z"
   },
   {
    "duration": 67,
    "start_time": "2022-05-23T15:02:56.454Z"
   },
   {
    "duration": 36,
    "start_time": "2022-05-23T15:02:56.523Z"
   },
   {
    "duration": 22,
    "start_time": "2022-05-23T15:02:56.562Z"
   },
   {
    "duration": 42,
    "start_time": "2022-05-23T15:02:56.586Z"
   },
   {
    "duration": 57,
    "start_time": "2022-05-23T15:02:56.655Z"
   },
   {
    "duration": 87,
    "start_time": "2022-05-23T15:03:23.452Z"
   },
   {
    "duration": 14,
    "start_time": "2022-05-23T15:03:54.449Z"
   },
   {
    "duration": 546,
    "start_time": "2022-05-23T15:04:32.479Z"
   },
   {
    "duration": 25,
    "start_time": "2022-05-23T15:04:33.027Z"
   },
   {
    "duration": 23,
    "start_time": "2022-05-23T15:04:33.054Z"
   },
   {
    "duration": 22,
    "start_time": "2022-05-23T15:04:33.080Z"
   },
   {
    "duration": 100,
    "start_time": "2022-05-23T15:04:33.104Z"
   },
   {
    "duration": 17,
    "start_time": "2022-05-23T15:04:33.206Z"
   },
   {
    "duration": 43,
    "start_time": "2022-05-23T15:04:33.225Z"
   },
   {
    "duration": 46,
    "start_time": "2022-05-23T15:04:33.270Z"
   },
   {
    "duration": 100,
    "start_time": "2022-05-23T15:04:33.318Z"
   },
   {
    "duration": 90,
    "start_time": "2022-05-23T15:04:59.642Z"
   },
   {
    "duration": 501,
    "start_time": "2022-05-23T15:08:34.460Z"
   },
   {
    "duration": 19,
    "start_time": "2022-05-23T15:08:45.281Z"
   },
   {
    "duration": 19,
    "start_time": "2022-05-23T15:08:58.578Z"
   },
   {
    "duration": 18,
    "start_time": "2022-05-23T15:10:26.104Z"
   },
   {
    "duration": 23,
    "start_time": "2022-05-23T15:10:38.796Z"
   },
   {
    "duration": 55,
    "start_time": "2022-05-23T15:10:41.985Z"
   },
   {
    "duration": 16,
    "start_time": "2022-05-23T15:10:46.180Z"
   },
   {
    "duration": 82,
    "start_time": "2022-05-23T15:12:02.384Z"
   },
   {
    "duration": 11,
    "start_time": "2022-05-23T15:12:41.961Z"
   },
   {
    "duration": 517,
    "start_time": "2022-05-23T15:13:12.970Z"
   },
   {
    "duration": 529,
    "start_time": "2022-05-23T15:18:07.265Z"
   },
   {
    "duration": 19,
    "start_time": "2022-05-23T15:18:29.763Z"
   },
   {
    "duration": 13,
    "start_time": "2022-05-23T15:19:16.716Z"
   },
   {
    "duration": 489,
    "start_time": "2022-05-23T15:19:26.208Z"
   },
   {
    "duration": 0,
    "start_time": "2022-05-23T15:19:26.700Z"
   },
   {
    "duration": 0,
    "start_time": "2022-05-23T15:19:26.701Z"
   },
   {
    "duration": 0,
    "start_time": "2022-05-23T15:19:26.703Z"
   },
   {
    "duration": 0,
    "start_time": "2022-05-23T15:19:26.704Z"
   },
   {
    "duration": 0,
    "start_time": "2022-05-23T15:19:26.706Z"
   },
   {
    "duration": 0,
    "start_time": "2022-05-23T15:19:26.707Z"
   },
   {
    "duration": 0,
    "start_time": "2022-05-23T15:19:26.709Z"
   },
   {
    "duration": 0,
    "start_time": "2022-05-23T15:19:26.710Z"
   },
   {
    "duration": 9,
    "start_time": "2022-05-23T15:19:59.924Z"
   },
   {
    "duration": 14,
    "start_time": "2022-05-23T15:22:35.774Z"
   },
   {
    "duration": 873,
    "start_time": "2022-05-23T15:22:59.360Z"
   },
   {
    "duration": 405,
    "start_time": "2022-05-23T15:23:23.110Z"
   },
   {
    "duration": 425,
    "start_time": "2022-05-23T15:23:42.653Z"
   },
   {
    "duration": 421,
    "start_time": "2022-05-23T15:23:52.558Z"
   },
   {
    "duration": 621,
    "start_time": "2022-05-23T16:03:30.594Z"
   },
   {
    "duration": 27,
    "start_time": "2022-05-23T16:03:32.117Z"
   },
   {
    "duration": 22,
    "start_time": "2022-05-23T16:03:39.104Z"
   },
   {
    "duration": 20,
    "start_time": "2022-05-23T16:03:44.769Z"
   },
   {
    "duration": 60,
    "start_time": "2022-05-23T16:03:50.464Z"
   },
   {
    "duration": 23,
    "start_time": "2022-05-23T16:03:57.203Z"
   },
   {
    "duration": 24,
    "start_time": "2022-05-23T16:04:01.785Z"
   },
   {
    "duration": 38,
    "start_time": "2022-05-23T16:04:07.501Z"
   },
   {
    "duration": 563,
    "start_time": "2022-05-24T06:03:42.479Z"
   },
   {
    "duration": 740,
    "start_time": "2022-05-24T06:03:43.044Z"
   },
   {
    "duration": 20,
    "start_time": "2022-05-24T06:03:43.785Z"
   },
   {
    "duration": 43,
    "start_time": "2022-05-24T06:03:43.807Z"
   },
   {
    "duration": 18,
    "start_time": "2022-05-24T06:03:43.852Z"
   },
   {
    "duration": 62,
    "start_time": "2022-05-24T06:03:43.872Z"
   },
   {
    "duration": 15,
    "start_time": "2022-05-24T06:03:43.935Z"
   },
   {
    "duration": 20,
    "start_time": "2022-05-24T06:03:43.951Z"
   },
   {
    "duration": 58,
    "start_time": "2022-05-24T06:03:43.973Z"
   },
   {
    "duration": 59,
    "start_time": "2022-05-24T06:03:44.032Z"
   },
   {
    "duration": 53,
    "start_time": "2022-05-24T06:04:04.779Z"
   },
   {
    "duration": 4,
    "start_time": "2022-05-24T06:08:04.741Z"
   },
   {
    "duration": 121,
    "start_time": "2022-05-24T06:08:15.903Z"
   },
   {
    "duration": 90,
    "start_time": "2022-05-24T06:09:02.687Z"
   },
   {
    "duration": 16,
    "start_time": "2022-05-24T06:15:25.027Z"
   },
   {
    "duration": 18,
    "start_time": "2022-05-24T06:15:29.340Z"
   },
   {
    "duration": 17,
    "start_time": "2022-05-24T06:15:42.957Z"
   },
   {
    "duration": 16,
    "start_time": "2022-05-24T06:15:46.767Z"
   },
   {
    "duration": 16,
    "start_time": "2022-05-24T06:15:51.315Z"
   },
   {
    "duration": 15,
    "start_time": "2022-05-24T06:16:22.486Z"
   },
   {
    "duration": 14,
    "start_time": "2022-05-24T06:16:27.488Z"
   },
   {
    "duration": 37,
    "start_time": "2022-05-24T06:49:41.800Z"
   },
   {
    "duration": 395,
    "start_time": "2022-05-24T06:50:27.558Z"
   },
   {
    "duration": 481,
    "start_time": "2022-05-24T06:50:39.453Z"
   },
   {
    "duration": 17,
    "start_time": "2022-05-24T06:50:39.936Z"
   },
   {
    "duration": 4,
    "start_time": "2022-05-24T06:50:39.955Z"
   },
   {
    "duration": 0,
    "start_time": "2022-05-24T06:50:39.962Z"
   },
   {
    "duration": 0,
    "start_time": "2022-05-24T06:50:39.963Z"
   },
   {
    "duration": 0,
    "start_time": "2022-05-24T06:50:39.965Z"
   },
   {
    "duration": 0,
    "start_time": "2022-05-24T06:50:39.967Z"
   },
   {
    "duration": 0,
    "start_time": "2022-05-24T06:50:39.968Z"
   },
   {
    "duration": 0,
    "start_time": "2022-05-24T06:50:39.969Z"
   },
   {
    "duration": 0,
    "start_time": "2022-05-24T06:50:39.971Z"
   },
   {
    "duration": 0,
    "start_time": "2022-05-24T06:50:39.972Z"
   },
   {
    "duration": 0,
    "start_time": "2022-05-24T06:50:39.973Z"
   },
   {
    "duration": 0,
    "start_time": "2022-05-24T06:50:39.975Z"
   },
   {
    "duration": 0,
    "start_time": "2022-05-24T06:50:39.976Z"
   },
   {
    "duration": 0,
    "start_time": "2022-05-24T06:50:39.978Z"
   },
   {
    "duration": 41,
    "start_time": "2022-05-24T06:50:51.878Z"
   },
   {
    "duration": 79,
    "start_time": "2022-05-24T06:51:08.571Z"
   },
   {
    "duration": 16,
    "start_time": "2022-05-24T06:51:11.398Z"
   },
   {
    "duration": 3,
    "start_time": "2022-05-24T06:51:14.730Z"
   },
   {
    "duration": 15,
    "start_time": "2022-05-24T06:51:28.038Z"
   },
   {
    "duration": 18,
    "start_time": "2022-05-24T06:51:42.397Z"
   },
   {
    "duration": 50,
    "start_time": "2022-05-24T06:51:55.870Z"
   },
   {
    "duration": 69,
    "start_time": "2022-05-24T06:52:15.719Z"
   },
   {
    "duration": 16,
    "start_time": "2022-05-24T06:52:28.069Z"
   },
   {
    "duration": 20,
    "start_time": "2022-05-24T06:52:45.410Z"
   },
   {
    "duration": 21,
    "start_time": "2022-05-24T06:52:50.440Z"
   },
   {
    "duration": 43,
    "start_time": "2022-05-24T06:53:01.960Z"
   },
   {
    "duration": 485,
    "start_time": "2022-05-24T06:53:21.319Z"
   },
   {
    "duration": 385,
    "start_time": "2022-05-24T06:53:30.030Z"
   },
   {
    "duration": 410,
    "start_time": "2022-05-24T06:54:12.550Z"
   },
   {
    "duration": 514,
    "start_time": "2022-05-24T06:54:35.324Z"
   },
   {
    "duration": 17,
    "start_time": "2022-05-24T06:54:37.795Z"
   },
   {
    "duration": 18,
    "start_time": "2022-05-24T06:55:12.886Z"
   },
   {
    "duration": 22,
    "start_time": "2022-05-24T06:55:18.276Z"
   },
   {
    "duration": 15,
    "start_time": "2022-05-24T06:55:39.336Z"
   },
   {
    "duration": 19,
    "start_time": "2022-05-24T06:55:43.186Z"
   },
   {
    "duration": 59,
    "start_time": "2022-05-24T06:55:48.126Z"
   },
   {
    "duration": 15,
    "start_time": "2022-05-24T06:55:51.355Z"
   },
   {
    "duration": 23,
    "start_time": "2022-05-24T06:55:53.575Z"
   },
   {
    "duration": 34,
    "start_time": "2022-05-24T06:56:10.126Z"
   },
   {
    "duration": 192,
    "start_time": "2022-05-24T06:56:33.171Z"
   },
   {
    "duration": 25,
    "start_time": "2022-05-24T07:04:30.595Z"
   },
   {
    "duration": 29,
    "start_time": "2022-05-24T07:04:48.546Z"
   },
   {
    "duration": 34,
    "start_time": "2022-05-24T07:05:30.656Z"
   },
   {
    "duration": 34,
    "start_time": "2022-05-24T07:05:48.438Z"
   },
   {
    "duration": 21,
    "start_time": "2022-05-24T07:10:48.847Z"
   },
   {
    "duration": 40,
    "start_time": "2022-05-24T07:10:58.916Z"
   },
   {
    "duration": 68,
    "start_time": "2022-05-24T07:12:35.176Z"
   },
   {
    "duration": 9,
    "start_time": "2022-05-24T07:12:42.484Z"
   },
   {
    "duration": 19,
    "start_time": "2022-05-24T07:13:03.668Z"
   },
   {
    "duration": 517,
    "start_time": "2022-05-24T07:13:51.417Z"
   },
   {
    "duration": 19,
    "start_time": "2022-05-24T07:13:53.315Z"
   },
   {
    "duration": 33,
    "start_time": "2022-05-24T07:13:57.339Z"
   },
   {
    "duration": 23,
    "start_time": "2022-05-24T07:15:06.167Z"
   },
   {
    "duration": 60,
    "start_time": "2022-05-24T07:15:08.047Z"
   },
   {
    "duration": 14,
    "start_time": "2022-05-24T07:15:10.437Z"
   },
   {
    "duration": 21,
    "start_time": "2022-05-24T07:15:12.586Z"
   },
   {
    "duration": 48,
    "start_time": "2022-05-24T07:15:14.886Z"
   },
   {
    "duration": 21,
    "start_time": "2022-05-24T07:15:19.557Z"
   },
   {
    "duration": 40,
    "start_time": "2022-05-24T07:15:20.467Z"
   },
   {
    "duration": 80,
    "start_time": "2022-05-24T07:17:45.918Z"
   },
   {
    "duration": 38,
    "start_time": "2022-05-24T07:18:11.227Z"
   },
   {
    "duration": 37,
    "start_time": "2022-05-24T07:18:20.780Z"
   },
   {
    "duration": 28,
    "start_time": "2022-05-24T07:21:37.507Z"
   },
   {
    "duration": 32,
    "start_time": "2022-05-24T07:21:55.427Z"
   },
   {
    "duration": 450,
    "start_time": "2022-05-24T07:23:22.913Z"
   },
   {
    "duration": 469,
    "start_time": "2022-05-24T07:23:41.367Z"
   },
   {
    "duration": 17,
    "start_time": "2022-05-24T07:23:42.619Z"
   },
   {
    "duration": 30,
    "start_time": "2022-05-24T07:23:45.639Z"
   },
   {
    "duration": 20,
    "start_time": "2022-05-24T07:23:47.279Z"
   },
   {
    "duration": 61,
    "start_time": "2022-05-24T07:23:49.799Z"
   },
   {
    "duration": 16,
    "start_time": "2022-05-24T07:23:54.960Z"
   },
   {
    "duration": 28,
    "start_time": "2022-05-24T07:26:44.621Z"
   },
   {
    "duration": 19,
    "start_time": "2022-05-24T07:26:50.968Z"
   },
   {
    "duration": 16,
    "start_time": "2022-05-24T07:29:06.839Z"
   },
   {
    "duration": 636,
    "start_time": "2022-05-24T07:29:21.730Z"
   },
   {
    "duration": 19,
    "start_time": "2022-05-24T07:29:23.036Z"
   },
   {
    "duration": 26,
    "start_time": "2022-05-24T07:29:25.847Z"
   },
   {
    "duration": 18,
    "start_time": "2022-05-24T07:29:34.357Z"
   },
   {
    "duration": 18,
    "start_time": "2022-05-24T07:29:50.756Z"
   },
   {
    "duration": 20,
    "start_time": "2022-05-24T07:30:37.340Z"
   },
   {
    "duration": 18,
    "start_time": "2022-05-24T07:30:38.763Z"
   },
   {
    "duration": 59,
    "start_time": "2022-05-24T07:30:39.677Z"
   },
   {
    "duration": 15,
    "start_time": "2022-05-24T07:30:40.327Z"
   },
   {
    "duration": 20,
    "start_time": "2022-05-24T07:30:40.670Z"
   },
   {
    "duration": 33,
    "start_time": "2022-05-24T07:30:41.357Z"
   },
   {
    "duration": 20,
    "start_time": "2022-05-24T07:30:44.947Z"
   },
   {
    "duration": 150,
    "start_time": "2022-05-24T07:30:45.626Z"
   },
   {
    "duration": 45,
    "start_time": "2022-05-24T07:30:46.378Z"
   },
   {
    "duration": 48,
    "start_time": "2022-05-24T07:33:28.187Z"
   },
   {
    "duration": 30,
    "start_time": "2022-05-24T07:36:41.698Z"
   },
   {
    "duration": 27,
    "start_time": "2022-05-24T07:37:22.987Z"
   },
   {
    "duration": 36,
    "start_time": "2022-05-24T07:37:31.905Z"
   },
   {
    "duration": 32,
    "start_time": "2022-05-24T07:39:08.896Z"
   },
   {
    "duration": 34,
    "start_time": "2022-05-24T07:44:57.700Z"
   },
   {
    "duration": 37,
    "start_time": "2022-05-24T07:45:10.330Z"
   },
   {
    "duration": 45,
    "start_time": "2022-05-24T07:48:01.921Z"
   },
   {
    "duration": 36,
    "start_time": "2022-05-24T07:50:26.855Z"
   },
   {
    "duration": 938,
    "start_time": "2022-05-24T08:43:30.868Z"
   },
   {
    "duration": 19,
    "start_time": "2022-05-24T08:43:31.807Z"
   },
   {
    "duration": 29,
    "start_time": "2022-05-24T08:43:31.828Z"
   },
   {
    "duration": 23,
    "start_time": "2022-05-24T08:43:31.859Z"
   },
   {
    "duration": 101,
    "start_time": "2022-05-24T08:43:31.884Z"
   },
   {
    "duration": 16,
    "start_time": "2022-05-24T08:43:31.986Z"
   },
   {
    "duration": 43,
    "start_time": "2022-05-24T08:43:32.004Z"
   },
   {
    "duration": 36,
    "start_time": "2022-05-24T08:43:32.048Z"
   },
   {
    "duration": 50,
    "start_time": "2022-05-24T08:43:32.086Z"
   },
   {
    "duration": 54,
    "start_time": "2022-05-24T08:43:32.139Z"
   },
   {
    "duration": 54,
    "start_time": "2022-05-24T08:43:32.195Z"
   },
   {
    "duration": 11,
    "start_time": "2022-05-24T08:48:11.916Z"
   },
   {
    "duration": 66,
    "start_time": "2022-05-24T10:06:09.599Z"
   },
   {
    "duration": 53,
    "start_time": "2022-05-24T10:06:25.708Z"
   },
   {
    "duration": 5,
    "start_time": "2022-05-24T10:07:13.853Z"
   },
   {
    "duration": 954,
    "start_time": "2022-05-24T10:07:23.013Z"
   },
   {
    "duration": 19,
    "start_time": "2022-05-24T10:07:25.678Z"
   },
   {
    "duration": 25,
    "start_time": "2022-05-24T10:07:27.103Z"
   },
   {
    "duration": 21,
    "start_time": "2022-05-24T10:07:27.794Z"
   },
   {
    "duration": 95,
    "start_time": "2022-05-24T10:07:29.233Z"
   },
   {
    "duration": 17,
    "start_time": "2022-05-24T10:07:30.727Z"
   },
   {
    "duration": 30,
    "start_time": "2022-05-24T10:07:32.368Z"
   },
   {
    "duration": 12,
    "start_time": "2022-05-24T10:07:33.559Z"
   },
   {
    "duration": 27,
    "start_time": "2022-05-24T10:07:38.273Z"
   },
   {
    "duration": 28,
    "start_time": "2022-05-24T10:07:38.783Z"
   },
   {
    "duration": 25,
    "start_time": "2022-05-24T10:09:34.393Z"
   },
   {
    "duration": 24,
    "start_time": "2022-05-24T10:10:18.347Z"
   },
   {
    "duration": 509,
    "start_time": "2022-05-24T10:12:39.814Z"
   },
   {
    "duration": 22,
    "start_time": "2022-05-24T10:12:40.325Z"
   },
   {
    "duration": 24,
    "start_time": "2022-05-24T10:12:40.349Z"
   },
   {
    "duration": 18,
    "start_time": "2022-05-24T10:12:40.375Z"
   },
   {
    "duration": 80,
    "start_time": "2022-05-24T10:12:40.394Z"
   },
   {
    "duration": 20,
    "start_time": "2022-05-24T10:12:40.476Z"
   },
   {
    "duration": 51,
    "start_time": "2022-05-24T10:12:40.497Z"
   },
   {
    "duration": 12,
    "start_time": "2022-05-24T10:12:40.550Z"
   },
   {
    "duration": 0,
    "start_time": "2022-05-24T10:12:40.564Z"
   },
   {
    "duration": 0,
    "start_time": "2022-05-24T10:12:40.565Z"
   },
   {
    "duration": 0,
    "start_time": "2022-05-24T10:12:40.567Z"
   },
   {
    "duration": 0,
    "start_time": "2022-05-24T10:12:40.568Z"
   },
   {
    "duration": 0,
    "start_time": "2022-05-24T10:12:40.569Z"
   },
   {
    "duration": 0,
    "start_time": "2022-05-24T10:12:40.570Z"
   },
   {
    "duration": 0,
    "start_time": "2022-05-24T10:12:40.571Z"
   },
   {
    "duration": 7,
    "start_time": "2022-05-24T10:13:16.499Z"
   },
   {
    "duration": 34,
    "start_time": "2022-05-24T10:13:52.091Z"
   },
   {
    "duration": 24,
    "start_time": "2022-05-24T10:14:01.101Z"
   },
   {
    "duration": 223,
    "start_time": "2022-05-24T10:14:01.127Z"
   },
   {
    "duration": 24,
    "start_time": "2022-05-24T10:14:01.446Z"
   },
   {
    "duration": 46,
    "start_time": "2022-05-24T10:14:01.492Z"
   },
   {
    "duration": 29,
    "start_time": "2022-05-24T10:14:02.053Z"
   },
   {
    "duration": 24,
    "start_time": "2022-05-24T10:14:30.332Z"
   },
   {
    "duration": 141,
    "start_time": "2022-05-24T10:19:34.210Z"
   },
   {
    "duration": 32,
    "start_time": "2022-05-24T10:20:00.487Z"
   },
   {
    "duration": 29,
    "start_time": "2022-05-24T10:20:19.625Z"
   },
   {
    "duration": 31,
    "start_time": "2022-05-24T10:21:32.871Z"
   },
   {
    "duration": 22,
    "start_time": "2022-05-24T10:21:45.801Z"
   },
   {
    "duration": 28,
    "start_time": "2022-05-24T10:21:47.155Z"
   },
   {
    "duration": 26,
    "start_time": "2022-05-24T10:21:48.431Z"
   },
   {
    "duration": 510,
    "start_time": "2022-05-24T10:21:59.991Z"
   },
   {
    "duration": 19,
    "start_time": "2022-05-24T10:22:00.504Z"
   },
   {
    "duration": 35,
    "start_time": "2022-05-24T10:22:00.525Z"
   },
   {
    "duration": 26,
    "start_time": "2022-05-24T10:22:00.563Z"
   },
   {
    "duration": 89,
    "start_time": "2022-05-24T10:22:00.592Z"
   },
   {
    "duration": 15,
    "start_time": "2022-05-24T10:22:00.683Z"
   },
   {
    "duration": 38,
    "start_time": "2022-05-24T10:22:00.700Z"
   },
   {
    "duration": 29,
    "start_time": "2022-05-24T10:22:00.740Z"
   },
   {
    "duration": 44,
    "start_time": "2022-05-24T10:22:00.771Z"
   },
   {
    "duration": 60,
    "start_time": "2022-05-24T10:22:00.818Z"
   },
   {
    "duration": 28,
    "start_time": "2022-05-24T10:22:00.880Z"
   },
   {
    "duration": 33,
    "start_time": "2022-05-24T10:22:00.911Z"
   },
   {
    "duration": 25,
    "start_time": "2022-05-24T10:22:00.945Z"
   },
   {
    "duration": 2,
    "start_time": "2022-05-24T10:22:00.972Z"
   },
   {
    "duration": 87,
    "start_time": "2022-05-24T10:22:00.977Z"
   },
   {
    "duration": 26,
    "start_time": "2022-05-24T10:26:43.573Z"
   },
   {
    "duration": 25,
    "start_time": "2022-05-24T10:28:47.177Z"
   },
   {
    "duration": 27,
    "start_time": "2022-05-24T10:30:11.337Z"
   },
   {
    "duration": 25,
    "start_time": "2022-05-24T10:31:08.093Z"
   },
   {
    "duration": 29,
    "start_time": "2022-05-24T10:33:37.034Z"
   },
   {
    "duration": 31,
    "start_time": "2022-05-24T10:34:05.035Z"
   },
   {
    "duration": 25,
    "start_time": "2022-05-24T10:34:07.069Z"
   },
   {
    "duration": 30,
    "start_time": "2022-05-24T10:34:11.979Z"
   },
   {
    "duration": 29,
    "start_time": "2022-05-24T10:34:21.579Z"
   },
   {
    "duration": 34,
    "start_time": "2022-05-24T10:36:08.876Z"
   },
   {
    "duration": 97,
    "start_time": "2022-05-24T10:37:09.121Z"
   },
   {
    "duration": 32,
    "start_time": "2022-05-24T10:37:57.929Z"
   },
   {
    "duration": 31,
    "start_time": "2022-05-24T10:38:13.661Z"
   },
   {
    "duration": 534,
    "start_time": "2022-05-24T10:39:20.405Z"
   },
   {
    "duration": 29,
    "start_time": "2022-05-24T10:44:38.182Z"
   },
   {
    "duration": 28,
    "start_time": "2022-05-24T10:44:48.206Z"
   },
   {
    "duration": 739,
    "start_time": "2022-05-24T10:45:23.002Z"
   },
   {
    "duration": 28,
    "start_time": "2022-05-24T10:45:52.151Z"
   },
   {
    "duration": 43,
    "start_time": "2022-05-24T10:46:47.408Z"
   },
   {
    "duration": 38,
    "start_time": "2022-05-24T10:48:50.722Z"
   },
   {
    "duration": 588,
    "start_time": "2022-05-24T10:49:28.211Z"
   },
   {
    "duration": 19,
    "start_time": "2022-05-24T10:49:28.801Z"
   },
   {
    "duration": 30,
    "start_time": "2022-05-24T10:49:28.827Z"
   },
   {
    "duration": 27,
    "start_time": "2022-05-24T10:49:28.860Z"
   },
   {
    "duration": 116,
    "start_time": "2022-05-24T10:49:28.889Z"
   },
   {
    "duration": 31,
    "start_time": "2022-05-24T10:49:29.007Z"
   },
   {
    "duration": 32,
    "start_time": "2022-05-24T10:49:29.040Z"
   },
   {
    "duration": 71,
    "start_time": "2022-05-24T10:49:29.074Z"
   },
   {
    "duration": 34,
    "start_time": "2022-05-24T10:49:29.147Z"
   },
   {
    "duration": 63,
    "start_time": "2022-05-24T10:49:29.184Z"
   },
   {
    "duration": 50,
    "start_time": "2022-05-24T10:49:29.249Z"
   },
   {
    "duration": 43,
    "start_time": "2022-05-24T10:49:29.302Z"
   },
   {
    "duration": 35,
    "start_time": "2022-05-24T10:49:29.348Z"
   },
   {
    "duration": 9,
    "start_time": "2022-05-24T10:49:29.385Z"
   },
   {
    "duration": 73,
    "start_time": "2022-05-24T10:49:29.396Z"
   },
   {
    "duration": 32,
    "start_time": "2022-05-24T10:49:36.906Z"
   },
   {
    "duration": 37,
    "start_time": "2022-05-24T10:50:07.487Z"
   },
   {
    "duration": 26,
    "start_time": "2022-05-24T10:50:23.115Z"
   },
   {
    "duration": 33,
    "start_time": "2022-05-24T10:50:53.116Z"
   },
   {
    "duration": 27,
    "start_time": "2022-05-24T10:52:32.624Z"
   },
   {
    "duration": 41,
    "start_time": "2022-05-24T10:52:56.292Z"
   },
   {
    "duration": 42,
    "start_time": "2022-05-24T10:53:16.216Z"
   },
   {
    "duration": 29,
    "start_time": "2022-05-24T10:53:51.996Z"
   },
   {
    "duration": 26,
    "start_time": "2022-05-24T10:54:26.846Z"
   },
   {
    "duration": 38,
    "start_time": "2022-05-24T10:56:16.261Z"
   },
   {
    "duration": 39,
    "start_time": "2022-05-24T10:57:49.797Z"
   },
   {
    "duration": 16,
    "start_time": "2022-05-24T11:01:27.356Z"
   },
   {
    "duration": 107,
    "start_time": "2022-05-24T11:01:46.237Z"
   },
   {
    "duration": 15,
    "start_time": "2022-05-24T11:01:59.766Z"
   },
   {
    "duration": 17,
    "start_time": "2022-05-24T11:15:32.315Z"
   },
   {
    "duration": 20,
    "start_time": "2022-05-24T11:16:03.790Z"
   },
   {
    "duration": 36,
    "start_time": "2022-05-24T11:21:42.580Z"
   },
   {
    "duration": 26,
    "start_time": "2022-05-24T11:22:20.870Z"
   },
   {
    "duration": 22,
    "start_time": "2022-05-24T11:23:02.050Z"
   },
   {
    "duration": 37,
    "start_time": "2022-05-24T11:24:39.120Z"
   },
   {
    "duration": 35,
    "start_time": "2022-05-24T11:25:30.451Z"
   },
   {
    "duration": 23,
    "start_time": "2022-05-24T11:25:42.350Z"
   },
   {
    "duration": 22,
    "start_time": "2022-05-24T11:26:11.443Z"
   },
   {
    "duration": 42,
    "start_time": "2022-05-24T11:27:24.801Z"
   },
   {
    "duration": 35,
    "start_time": "2022-05-24T11:27:51.790Z"
   },
   {
    "duration": 26,
    "start_time": "2022-05-24T11:28:18.281Z"
   },
   {
    "duration": 34,
    "start_time": "2022-05-24T11:28:27.995Z"
   },
   {
    "duration": 35,
    "start_time": "2022-05-24T12:00:04.524Z"
   },
   {
    "duration": 68,
    "start_time": "2022-05-24T12:03:40.102Z"
   },
   {
    "duration": 18,
    "start_time": "2022-05-24T12:03:40.173Z"
   },
   {
    "duration": 49,
    "start_time": "2022-05-24T12:03:40.193Z"
   },
   {
    "duration": 28,
    "start_time": "2022-05-24T12:03:40.249Z"
   },
   {
    "duration": 72,
    "start_time": "2022-05-24T12:03:40.279Z"
   },
   {
    "duration": 15,
    "start_time": "2022-05-24T12:03:40.353Z"
   },
   {
    "duration": 28,
    "start_time": "2022-05-24T12:03:40.370Z"
   },
   {
    "duration": 59,
    "start_time": "2022-05-24T12:03:40.400Z"
   },
   {
    "duration": 34,
    "start_time": "2022-05-24T12:03:40.461Z"
   },
   {
    "duration": 56,
    "start_time": "2022-05-24T12:03:40.497Z"
   },
   {
    "duration": 28,
    "start_time": "2022-05-24T12:03:40.555Z"
   },
   {
    "duration": 54,
    "start_time": "2022-05-24T12:03:40.585Z"
   },
   {
    "duration": 24,
    "start_time": "2022-05-24T12:03:40.642Z"
   },
   {
    "duration": 3,
    "start_time": "2022-05-24T12:03:40.668Z"
   },
   {
    "duration": 59,
    "start_time": "2022-05-24T12:03:40.673Z"
   },
   {
    "duration": 29,
    "start_time": "2022-05-24T12:58:41.263Z"
   },
   {
    "duration": 31,
    "start_time": "2022-05-24T12:59:37.318Z"
   },
   {
    "duration": 559,
    "start_time": "2022-05-24T12:59:54.606Z"
   },
   {
    "duration": 17,
    "start_time": "2022-05-24T12:59:56.822Z"
   },
   {
    "duration": 24,
    "start_time": "2022-05-24T12:59:58.376Z"
   },
   {
    "duration": 21,
    "start_time": "2022-05-24T13:00:01.511Z"
   },
   {
    "duration": 61,
    "start_time": "2022-05-24T13:00:03.301Z"
   },
   {
    "duration": 15,
    "start_time": "2022-05-24T13:00:05.071Z"
   },
   {
    "duration": 34,
    "start_time": "2022-05-24T13:00:06.752Z"
   },
   {
    "duration": 30,
    "start_time": "2022-05-24T13:00:08.746Z"
   },
   {
    "duration": 22,
    "start_time": "2022-05-24T13:00:15.402Z"
   },
   {
    "duration": 36,
    "start_time": "2022-05-24T13:00:16.381Z"
   },
   {
    "duration": 20,
    "start_time": "2022-05-24T13:00:24.041Z"
   },
   {
    "duration": 31,
    "start_time": "2022-05-24T13:00:27.401Z"
   },
   {
    "duration": 24,
    "start_time": "2022-05-24T13:00:27.886Z"
   },
   {
    "duration": 2,
    "start_time": "2022-05-24T13:00:30.562Z"
   },
   {
    "duration": 32,
    "start_time": "2022-05-24T13:00:32.032Z"
   },
   {
    "duration": 530,
    "start_time": "2022-05-24T13:44:01.924Z"
   },
   {
    "duration": 18,
    "start_time": "2022-05-24T13:44:02.456Z"
   },
   {
    "duration": 28,
    "start_time": "2022-05-24T13:44:02.476Z"
   },
   {
    "duration": 41,
    "start_time": "2022-05-24T13:44:02.506Z"
   },
   {
    "duration": 79,
    "start_time": "2022-05-24T13:44:02.549Z"
   },
   {
    "duration": 15,
    "start_time": "2022-05-24T13:44:02.630Z"
   },
   {
    "duration": 23,
    "start_time": "2022-05-24T13:44:02.647Z"
   },
   {
    "duration": 55,
    "start_time": "2022-05-24T13:44:02.672Z"
   },
   {
    "duration": 36,
    "start_time": "2022-05-24T13:44:02.729Z"
   },
   {
    "duration": 77,
    "start_time": "2022-05-24T13:44:02.767Z"
   },
   {
    "duration": 30,
    "start_time": "2022-05-24T13:44:02.846Z"
   },
   {
    "duration": 67,
    "start_time": "2022-05-24T13:44:02.878Z"
   },
   {
    "duration": 81,
    "start_time": "2022-05-24T13:44:02.947Z"
   },
   {
    "duration": 2,
    "start_time": "2022-05-24T13:44:03.032Z"
   },
   {
    "duration": 45,
    "start_time": "2022-05-24T13:44:03.036Z"
   },
   {
    "duration": 64,
    "start_time": "2022-05-27T11:58:08.112Z"
   },
   {
    "duration": 438,
    "start_time": "2022-05-27T11:58:13.919Z"
   },
   {
    "duration": 83,
    "start_time": "2022-05-27T11:58:14.359Z"
   },
   {
    "duration": 18,
    "start_time": "2022-05-27T11:58:14.443Z"
   },
   {
    "duration": 22,
    "start_time": "2022-05-27T11:58:14.462Z"
   },
   {
    "duration": 17,
    "start_time": "2022-05-27T11:58:14.488Z"
   },
   {
    "duration": 58,
    "start_time": "2022-05-27T11:58:14.526Z"
   },
   {
    "duration": 15,
    "start_time": "2022-05-27T11:58:14.586Z"
   },
   {
    "duration": 42,
    "start_time": "2022-05-27T11:58:14.603Z"
   },
   {
    "duration": 29,
    "start_time": "2022-05-27T11:58:14.647Z"
   },
   {
    "duration": 49,
    "start_time": "2022-05-27T11:58:14.678Z"
   },
   {
    "duration": 27,
    "start_time": "2022-05-27T11:58:14.729Z"
   },
   {
    "duration": 20,
    "start_time": "2022-05-27T11:58:14.758Z"
   },
   {
    "duration": 53,
    "start_time": "2022-05-27T11:58:14.780Z"
   },
   {
    "duration": 25,
    "start_time": "2022-05-27T11:58:14.835Z"
   },
   {
    "duration": 6,
    "start_time": "2022-05-27T11:58:14.862Z"
   },
   {
    "duration": 30,
    "start_time": "2022-05-27T11:58:14.870Z"
   },
   {
    "duration": 425,
    "start_time": "2022-05-27T16:35:57.723Z"
   },
   {
    "duration": 150,
    "start_time": "2022-05-27T16:35:58.150Z"
   },
   {
    "duration": 16,
    "start_time": "2022-05-27T16:35:58.302Z"
   },
   {
    "duration": 20,
    "start_time": "2022-05-27T16:35:58.320Z"
   },
   {
    "duration": 20,
    "start_time": "2022-05-27T16:35:58.342Z"
   },
   {
    "duration": 56,
    "start_time": "2022-05-27T16:35:58.363Z"
   },
   {
    "duration": 13,
    "start_time": "2022-05-27T16:35:58.421Z"
   },
   {
    "duration": 39,
    "start_time": "2022-05-27T16:35:58.436Z"
   },
   {
    "duration": 25,
    "start_time": "2022-05-27T16:35:58.476Z"
   },
   {
    "duration": 19,
    "start_time": "2022-05-27T16:35:58.503Z"
   },
   {
    "duration": 55,
    "start_time": "2022-05-27T16:35:58.524Z"
   },
   {
    "duration": 20,
    "start_time": "2022-05-27T16:35:58.581Z"
   },
   {
    "duration": 25,
    "start_time": "2022-05-27T16:35:58.603Z"
   },
   {
    "duration": 53,
    "start_time": "2022-05-27T16:35:58.629Z"
   },
   {
    "duration": 15,
    "start_time": "2022-05-27T16:35:58.684Z"
   },
   {
    "duration": 32,
    "start_time": "2022-05-27T16:35:58.701Z"
   },
   {
    "duration": 373,
    "start_time": "2022-05-27T16:36:50.797Z"
   },
   {
    "duration": 81,
    "start_time": "2022-05-27T16:36:51.172Z"
   },
   {
    "duration": 17,
    "start_time": "2022-05-27T16:36:51.255Z"
   },
   {
    "duration": 22,
    "start_time": "2022-05-27T16:36:51.273Z"
   },
   {
    "duration": 16,
    "start_time": "2022-05-27T16:36:51.297Z"
   },
   {
    "duration": 79,
    "start_time": "2022-05-27T16:36:51.314Z"
   },
   {
    "duration": 14,
    "start_time": "2022-05-27T16:36:51.395Z"
   },
   {
    "duration": 19,
    "start_time": "2022-05-27T16:36:51.410Z"
   },
   {
    "duration": 47,
    "start_time": "2022-05-27T16:36:51.430Z"
   },
   {
    "duration": 19,
    "start_time": "2022-05-27T16:36:51.479Z"
   },
   {
    "duration": 31,
    "start_time": "2022-05-27T16:36:51.499Z"
   },
   {
    "duration": 36,
    "start_time": "2022-05-27T16:36:51.532Z"
   },
   {
    "duration": 27,
    "start_time": "2022-05-27T16:36:51.569Z"
   },
   {
    "duration": 22,
    "start_time": "2022-05-27T16:36:51.597Z"
   },
   {
    "duration": 2,
    "start_time": "2022-05-27T16:36:51.621Z"
   },
   {
    "duration": 59,
    "start_time": "2022-05-27T16:36:51.625Z"
   },
   {
    "duration": 16,
    "start_time": "2022-05-27T16:40:07.577Z"
   },
   {
    "duration": 443,
    "start_time": "2022-05-27T16:40:21.377Z"
   },
   {
    "duration": 89,
    "start_time": "2022-05-27T16:40:21.822Z"
   },
   {
    "duration": 18,
    "start_time": "2022-05-27T16:40:21.913Z"
   },
   {
    "duration": 44,
    "start_time": "2022-05-27T16:40:21.932Z"
   },
   {
    "duration": 21,
    "start_time": "2022-05-27T16:40:21.979Z"
   },
   {
    "duration": 71,
    "start_time": "2022-05-27T16:40:22.001Z"
   },
   {
    "duration": 14,
    "start_time": "2022-05-27T16:40:22.074Z"
   },
   {
    "duration": 21,
    "start_time": "2022-05-27T16:40:22.090Z"
   },
   {
    "duration": 56,
    "start_time": "2022-05-27T16:40:22.113Z"
   },
   {
    "duration": 23,
    "start_time": "2022-05-27T16:40:22.171Z"
   },
   {
    "duration": 28,
    "start_time": "2022-05-27T16:40:22.195Z"
   },
   {
    "duration": 49,
    "start_time": "2022-05-27T16:40:22.225Z"
   },
   {
    "duration": 22,
    "start_time": "2022-05-27T16:40:22.275Z"
   },
   {
    "duration": 23,
    "start_time": "2022-05-27T16:40:22.299Z"
   },
   {
    "duration": 3,
    "start_time": "2022-05-27T16:40:22.323Z"
   },
   {
    "duration": 56,
    "start_time": "2022-05-27T16:40:22.328Z"
   },
   {
    "duration": 76,
    "start_time": "2022-05-27T16:48:40.908Z"
   },
   {
    "duration": 9,
    "start_time": "2022-05-27T16:48:48.393Z"
   },
   {
    "duration": 417,
    "start_time": "2022-05-27T16:48:54.487Z"
   },
   {
    "duration": 89,
    "start_time": "2022-05-27T16:48:54.906Z"
   },
   {
    "duration": 18,
    "start_time": "2022-05-27T16:48:54.997Z"
   },
   {
    "duration": 24,
    "start_time": "2022-05-27T16:48:55.017Z"
   },
   {
    "duration": 28,
    "start_time": "2022-05-27T16:48:55.060Z"
   },
   {
    "duration": 79,
    "start_time": "2022-05-27T16:48:55.090Z"
   },
   {
    "duration": 15,
    "start_time": "2022-05-27T16:48:55.171Z"
   },
   {
    "duration": 21,
    "start_time": "2022-05-27T16:48:55.188Z"
   },
   {
    "duration": 68,
    "start_time": "2022-05-27T16:48:55.210Z"
   },
   {
    "duration": 23,
    "start_time": "2022-05-27T16:48:55.281Z"
   },
   {
    "duration": 28,
    "start_time": "2022-05-27T16:48:55.306Z"
   },
   {
    "duration": 41,
    "start_time": "2022-05-27T16:48:55.336Z"
   },
   {
    "duration": 23,
    "start_time": "2022-05-27T16:48:55.379Z"
   },
   {
    "duration": 59,
    "start_time": "2022-05-27T16:48:55.404Z"
   },
   {
    "duration": 7,
    "start_time": "2022-05-27T16:48:55.465Z"
   },
   {
    "duration": 33,
    "start_time": "2022-05-27T16:48:55.473Z"
   },
   {
    "duration": 411,
    "start_time": "2022-05-29T07:43:19.930Z"
   },
   {
    "duration": 316,
    "start_time": "2022-05-29T07:43:20.343Z"
   },
   {
    "duration": 22,
    "start_time": "2022-05-29T07:43:20.663Z"
   },
   {
    "duration": 23,
    "start_time": "2022-05-29T07:43:20.687Z"
   },
   {
    "duration": 17,
    "start_time": "2022-05-29T07:43:20.712Z"
   },
   {
    "duration": 77,
    "start_time": "2022-05-29T07:43:20.731Z"
   },
   {
    "duration": 14,
    "start_time": "2022-05-29T07:43:20.809Z"
   },
   {
    "duration": 38,
    "start_time": "2022-05-29T07:43:20.824Z"
   },
   {
    "duration": 32,
    "start_time": "2022-05-29T07:43:20.867Z"
   },
   {
    "duration": 23,
    "start_time": "2022-05-29T07:43:20.902Z"
   },
   {
    "duration": 57,
    "start_time": "2022-05-29T07:43:20.926Z"
   },
   {
    "duration": 21,
    "start_time": "2022-05-29T07:43:20.985Z"
   },
   {
    "duration": 22,
    "start_time": "2022-05-29T07:43:21.008Z"
   },
   {
    "duration": 50,
    "start_time": "2022-05-29T07:43:21.031Z"
   },
   {
    "duration": 2,
    "start_time": "2022-05-29T07:43:21.083Z"
   },
   {
    "duration": 30,
    "start_time": "2022-05-29T07:43:21.087Z"
   }
  ],
  "kernelspec": {
   "display_name": "Python 3 (ipykernel)",
   "language": "python",
   "name": "python3"
  },
  "language_info": {
   "codemirror_mode": {
    "name": "ipython",
    "version": 3
   },
   "file_extension": ".py",
   "mimetype": "text/x-python",
   "name": "python",
   "nbconvert_exporter": "python",
   "pygments_lexer": "ipython3",
   "version": "3.9.12"
  },
  "toc": {
   "base_numbering": 1,
   "nav_menu": {},
   "number_sections": true,
   "sideBar": true,
   "skip_h1_title": true,
   "title_cell": "Table of Contents",
   "title_sidebar": "Contents",
   "toc_cell": false,
   "toc_position": {},
   "toc_section_display": true,
   "toc_window_display": false
  }
 },
 "nbformat": 4,
 "nbformat_minor": 5
}
