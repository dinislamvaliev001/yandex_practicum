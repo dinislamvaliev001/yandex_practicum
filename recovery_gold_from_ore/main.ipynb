{
 "cells": [
  {
   "cell_type": "markdown",
   "metadata": {},
   "source": [
    "# Восстановление золота из руды"
   ]
  },
  {
   "cell_type": "markdown",
   "metadata": {},
   "source": [
    "Подготовьте прототип модели машинного обучения для «Цифры». Компания разрабатывает решения для эффективной работы промышленных предприятий.\n",
    "\n",
    "Модель должна предсказать коэффициент восстановления золота из золотосодержащей руды. Используйте данные с параметрами добычи и очистки. \n",
    "\n",
    "Модель поможет оптимизировать производство, чтобы не запускать предприятие с убыточными характеристиками.\n",
    "\n",
    "Вам нужно:\n",
    "\n",
    "1. Подготовить данные;\n",
    "2. Провести исследовательский анализ данных;\n",
    "3. Построить и обучить модель.\n",
    "\n",
    "Чтобы выполнить проект, обращайтесь к библиотекам *pandas*, *matplotlib* и *sklearn.* Вам поможет их документация."
   ]
  },
  {
   "cell_type": "markdown",
   "metadata": {},
   "source": [
    "Инструкция по выполнению проекта\n",
    "1. Подготовим данные\n",
    "1.1. Откроем файлы и изучим их.\n",
    "Путь к файлам:\n",
    "/datasets/gold_recovery_train_new.csv. Скачать датасет\n",
    "/datasets/gold_recovery_test_new.csv. Скачать датасет\n",
    "/datasets/gold_recovery_full_new.csv. Скачать датасет\n",
    "1.2. Проверим, что эффективность обогащения рассчитана правильно. Вычислим её на обучающей выборке для признака rougher.output.recovery. Найдем MAE между нашими расчётами и значением признака.\n",
    "1.3. Проанализируем признаки, недоступные в тестовой выборке. Что это за параметры? К какому типу относятся?\n",
    "1.4. Проведем предобработку данных.\n",
    "2. Проанализируем данные\n",
    "2.1. Посмотрим, как меняется концентрация металлов (Au, Ag, Pb) на различных этапах очистки. Опишите выводы.\n",
    "2.2. Сравним распределения размеров гранул сырья на обучающей и тестовой выборках. Если распределения сильно отличаются друг от друга, оценка модели будет неправильной.\n",
    "2.3. Исследуем суммарную концентрацию всех веществ на разных стадиях: в сырье, в черновом и финальном концентратах.\n",
    "3. Построем модель\n",
    "3.1. Напишим функцию для вычисления итоговой sMAPE.\n",
    "3.2. Обучим разные модели и оценим их качество кросс-валидацией. Выберите лучшую модель и проверем её на тестовой выборке. Опишим выводы."
   ]
  },
  {
   "cell_type": "markdown",
   "metadata": {},
   "source": [
    "## Подготовка данных"
   ]
  },
  {
   "cell_type": "code",
   "execution_count": 1,
   "metadata": {},
   "outputs": [],
   "source": [
    "import pandas as pd\n",
    "import matplotlib.pyplot as plt\n",
    "import numpy as np \n",
    "from sklearn.metrics import mean_absolute_error\n",
    "from sklearn.model_selection import train_test_split\n",
    "from sklearn.ensemble import RandomForestRegressor\n",
    "from sklearn.linear_model import LinearRegression\n",
    "from sklearn.model_selection import cross_val_score\n",
    "from sklearn.metrics import make_scorer\n",
    "from sklearn.model_selection import cross_val_score\n",
    "from sklearn.model_selection import GridSearchCV\n",
    "from sklearn.dummy import DummyRegressor\n"
   ]
  },
  {
   "cell_type": "code",
   "execution_count": 2,
   "metadata": {},
   "outputs": [],
   "source": [
    "gold_train = pd.read_csv('/datasets/gold_recovery_train_new.csv') # обучающая выборка;\n",
    "gold_test = pd.read_csv('/datasets/gold_recovery_test_new.csv') # тестовая выборка;\n",
    "gold_full = pd.read_csv('/datasets/gold_recovery_full_new.csv') # исходные данные."
   ]
  },
  {
   "cell_type": "code",
   "execution_count": 3,
   "metadata": {},
   "outputs": [
    {
     "data": {
      "text/html": [
       "<div>\n",
       "<style scoped>\n",
       "    .dataframe tbody tr th:only-of-type {\n",
       "        vertical-align: middle;\n",
       "    }\n",
       "\n",
       "    .dataframe tbody tr th {\n",
       "        vertical-align: top;\n",
       "    }\n",
       "\n",
       "    .dataframe thead th {\n",
       "        text-align: right;\n",
       "    }\n",
       "</style>\n",
       "<table border=\"1\" class=\"dataframe\">\n",
       "  <thead>\n",
       "    <tr style=\"text-align: right;\">\n",
       "      <th></th>\n",
       "      <th>date</th>\n",
       "      <th>final.output.concentrate_ag</th>\n",
       "      <th>final.output.concentrate_pb</th>\n",
       "      <th>final.output.concentrate_sol</th>\n",
       "      <th>final.output.concentrate_au</th>\n",
       "      <th>final.output.recovery</th>\n",
       "      <th>final.output.tail_ag</th>\n",
       "      <th>final.output.tail_pb</th>\n",
       "      <th>final.output.tail_sol</th>\n",
       "      <th>final.output.tail_au</th>\n",
       "      <th>...</th>\n",
       "      <th>secondary_cleaner.state.floatbank4_a_air</th>\n",
       "      <th>secondary_cleaner.state.floatbank4_a_level</th>\n",
       "      <th>secondary_cleaner.state.floatbank4_b_air</th>\n",
       "      <th>secondary_cleaner.state.floatbank4_b_level</th>\n",
       "      <th>secondary_cleaner.state.floatbank5_a_air</th>\n",
       "      <th>secondary_cleaner.state.floatbank5_a_level</th>\n",
       "      <th>secondary_cleaner.state.floatbank5_b_air</th>\n",
       "      <th>secondary_cleaner.state.floatbank5_b_level</th>\n",
       "      <th>secondary_cleaner.state.floatbank6_a_air</th>\n",
       "      <th>secondary_cleaner.state.floatbank6_a_level</th>\n",
       "    </tr>\n",
       "  </thead>\n",
       "  <tbody>\n",
       "    <tr>\n",
       "      <th>0</th>\n",
       "      <td>2016-01-15 00:00:00</td>\n",
       "      <td>6.055403</td>\n",
       "      <td>9.889648</td>\n",
       "      <td>5.507324</td>\n",
       "      <td>42.192020</td>\n",
       "      <td>70.541216</td>\n",
       "      <td>10.411962</td>\n",
       "      <td>0.895447</td>\n",
       "      <td>16.904297</td>\n",
       "      <td>2.143149</td>\n",
       "      <td>...</td>\n",
       "      <td>14.016835</td>\n",
       "      <td>-502.488007</td>\n",
       "      <td>12.099931</td>\n",
       "      <td>-504.715942</td>\n",
       "      <td>9.925633</td>\n",
       "      <td>-498.310211</td>\n",
       "      <td>8.079666</td>\n",
       "      <td>-500.470978</td>\n",
       "      <td>14.151341</td>\n",
       "      <td>-605.841980</td>\n",
       "    </tr>\n",
       "    <tr>\n",
       "      <th>1</th>\n",
       "      <td>2016-01-15 01:00:00</td>\n",
       "      <td>6.029369</td>\n",
       "      <td>9.968944</td>\n",
       "      <td>5.257781</td>\n",
       "      <td>42.701629</td>\n",
       "      <td>69.266198</td>\n",
       "      <td>10.462676</td>\n",
       "      <td>0.927452</td>\n",
       "      <td>16.634514</td>\n",
       "      <td>2.224930</td>\n",
       "      <td>...</td>\n",
       "      <td>13.992281</td>\n",
       "      <td>-505.503262</td>\n",
       "      <td>11.950531</td>\n",
       "      <td>-501.331529</td>\n",
       "      <td>10.039245</td>\n",
       "      <td>-500.169983</td>\n",
       "      <td>7.984757</td>\n",
       "      <td>-500.582168</td>\n",
       "      <td>13.998353</td>\n",
       "      <td>-599.787184</td>\n",
       "    </tr>\n",
       "    <tr>\n",
       "      <th>2</th>\n",
       "      <td>2016-01-15 02:00:00</td>\n",
       "      <td>6.055926</td>\n",
       "      <td>10.213995</td>\n",
       "      <td>5.383759</td>\n",
       "      <td>42.657501</td>\n",
       "      <td>68.116445</td>\n",
       "      <td>10.507046</td>\n",
       "      <td>0.953716</td>\n",
       "      <td>16.208849</td>\n",
       "      <td>2.257889</td>\n",
       "      <td>...</td>\n",
       "      <td>14.015015</td>\n",
       "      <td>-502.520901</td>\n",
       "      <td>11.912783</td>\n",
       "      <td>-501.133383</td>\n",
       "      <td>10.070913</td>\n",
       "      <td>-500.129135</td>\n",
       "      <td>8.013877</td>\n",
       "      <td>-500.517572</td>\n",
       "      <td>14.028663</td>\n",
       "      <td>-601.427363</td>\n",
       "    </tr>\n",
       "    <tr>\n",
       "      <th>3</th>\n",
       "      <td>2016-01-15 03:00:00</td>\n",
       "      <td>6.047977</td>\n",
       "      <td>9.977019</td>\n",
       "      <td>4.858634</td>\n",
       "      <td>42.689819</td>\n",
       "      <td>68.347543</td>\n",
       "      <td>10.422762</td>\n",
       "      <td>0.883763</td>\n",
       "      <td>16.532835</td>\n",
       "      <td>2.146849</td>\n",
       "      <td>...</td>\n",
       "      <td>14.036510</td>\n",
       "      <td>-500.857308</td>\n",
       "      <td>11.999550</td>\n",
       "      <td>-501.193686</td>\n",
       "      <td>9.970366</td>\n",
       "      <td>-499.201640</td>\n",
       "      <td>7.977324</td>\n",
       "      <td>-500.255908</td>\n",
       "      <td>14.005551</td>\n",
       "      <td>-599.996129</td>\n",
       "    </tr>\n",
       "    <tr>\n",
       "      <th>4</th>\n",
       "      <td>2016-01-15 04:00:00</td>\n",
       "      <td>6.148599</td>\n",
       "      <td>10.142511</td>\n",
       "      <td>4.939416</td>\n",
       "      <td>42.774141</td>\n",
       "      <td>66.927016</td>\n",
       "      <td>10.360302</td>\n",
       "      <td>0.792826</td>\n",
       "      <td>16.525686</td>\n",
       "      <td>2.055292</td>\n",
       "      <td>...</td>\n",
       "      <td>14.027298</td>\n",
       "      <td>-499.838632</td>\n",
       "      <td>11.953070</td>\n",
       "      <td>-501.053894</td>\n",
       "      <td>9.925709</td>\n",
       "      <td>-501.686727</td>\n",
       "      <td>7.894242</td>\n",
       "      <td>-500.356035</td>\n",
       "      <td>13.996647</td>\n",
       "      <td>-601.496691</td>\n",
       "    </tr>\n",
       "  </tbody>\n",
       "</table>\n",
       "<p>5 rows × 87 columns</p>\n",
       "</div>"
      ],
      "text/plain": [
       "                  date  final.output.concentrate_ag  \\\n",
       "0  2016-01-15 00:00:00                     6.055403   \n",
       "1  2016-01-15 01:00:00                     6.029369   \n",
       "2  2016-01-15 02:00:00                     6.055926   \n",
       "3  2016-01-15 03:00:00                     6.047977   \n",
       "4  2016-01-15 04:00:00                     6.148599   \n",
       "\n",
       "   final.output.concentrate_pb  final.output.concentrate_sol  \\\n",
       "0                     9.889648                      5.507324   \n",
       "1                     9.968944                      5.257781   \n",
       "2                    10.213995                      5.383759   \n",
       "3                     9.977019                      4.858634   \n",
       "4                    10.142511                      4.939416   \n",
       "\n",
       "   final.output.concentrate_au  final.output.recovery  final.output.tail_ag  \\\n",
       "0                    42.192020              70.541216             10.411962   \n",
       "1                    42.701629              69.266198             10.462676   \n",
       "2                    42.657501              68.116445             10.507046   \n",
       "3                    42.689819              68.347543             10.422762   \n",
       "4                    42.774141              66.927016             10.360302   \n",
       "\n",
       "   final.output.tail_pb  final.output.tail_sol  final.output.tail_au  ...  \\\n",
       "0              0.895447              16.904297              2.143149  ...   \n",
       "1              0.927452              16.634514              2.224930  ...   \n",
       "2              0.953716              16.208849              2.257889  ...   \n",
       "3              0.883763              16.532835              2.146849  ...   \n",
       "4              0.792826              16.525686              2.055292  ...   \n",
       "\n",
       "   secondary_cleaner.state.floatbank4_a_air  \\\n",
       "0                                 14.016835   \n",
       "1                                 13.992281   \n",
       "2                                 14.015015   \n",
       "3                                 14.036510   \n",
       "4                                 14.027298   \n",
       "\n",
       "   secondary_cleaner.state.floatbank4_a_level  \\\n",
       "0                                 -502.488007   \n",
       "1                                 -505.503262   \n",
       "2                                 -502.520901   \n",
       "3                                 -500.857308   \n",
       "4                                 -499.838632   \n",
       "\n",
       "   secondary_cleaner.state.floatbank4_b_air  \\\n",
       "0                                 12.099931   \n",
       "1                                 11.950531   \n",
       "2                                 11.912783   \n",
       "3                                 11.999550   \n",
       "4                                 11.953070   \n",
       "\n",
       "   secondary_cleaner.state.floatbank4_b_level  \\\n",
       "0                                 -504.715942   \n",
       "1                                 -501.331529   \n",
       "2                                 -501.133383   \n",
       "3                                 -501.193686   \n",
       "4                                 -501.053894   \n",
       "\n",
       "   secondary_cleaner.state.floatbank5_a_air  \\\n",
       "0                                  9.925633   \n",
       "1                                 10.039245   \n",
       "2                                 10.070913   \n",
       "3                                  9.970366   \n",
       "4                                  9.925709   \n",
       "\n",
       "   secondary_cleaner.state.floatbank5_a_level  \\\n",
       "0                                 -498.310211   \n",
       "1                                 -500.169983   \n",
       "2                                 -500.129135   \n",
       "3                                 -499.201640   \n",
       "4                                 -501.686727   \n",
       "\n",
       "   secondary_cleaner.state.floatbank5_b_air  \\\n",
       "0                                  8.079666   \n",
       "1                                  7.984757   \n",
       "2                                  8.013877   \n",
       "3                                  7.977324   \n",
       "4                                  7.894242   \n",
       "\n",
       "   secondary_cleaner.state.floatbank5_b_level  \\\n",
       "0                                 -500.470978   \n",
       "1                                 -500.582168   \n",
       "2                                 -500.517572   \n",
       "3                                 -500.255908   \n",
       "4                                 -500.356035   \n",
       "\n",
       "   secondary_cleaner.state.floatbank6_a_air  \\\n",
       "0                                 14.151341   \n",
       "1                                 13.998353   \n",
       "2                                 14.028663   \n",
       "3                                 14.005551   \n",
       "4                                 13.996647   \n",
       "\n",
       "   secondary_cleaner.state.floatbank6_a_level  \n",
       "0                                 -605.841980  \n",
       "1                                 -599.787184  \n",
       "2                                 -601.427363  \n",
       "3                                 -599.996129  \n",
       "4                                 -601.496691  \n",
       "\n",
       "[5 rows x 87 columns]"
      ]
     },
     "metadata": {},
     "output_type": "display_data"
    }
   ],
   "source": [
    "display(gold_train.head())"
   ]
  },
  {
   "cell_type": "code",
   "execution_count": 4,
   "metadata": {},
   "outputs": [
    {
     "data": {
      "text/html": [
       "<div>\n",
       "<style scoped>\n",
       "    .dataframe tbody tr th:only-of-type {\n",
       "        vertical-align: middle;\n",
       "    }\n",
       "\n",
       "    .dataframe tbody tr th {\n",
       "        vertical-align: top;\n",
       "    }\n",
       "\n",
       "    .dataframe thead th {\n",
       "        text-align: right;\n",
       "    }\n",
       "</style>\n",
       "<table border=\"1\" class=\"dataframe\">\n",
       "  <thead>\n",
       "    <tr style=\"text-align: right;\">\n",
       "      <th></th>\n",
       "      <th>date</th>\n",
       "      <th>primary_cleaner.input.sulfate</th>\n",
       "      <th>primary_cleaner.input.depressant</th>\n",
       "      <th>primary_cleaner.input.feed_size</th>\n",
       "      <th>primary_cleaner.input.xanthate</th>\n",
       "      <th>primary_cleaner.state.floatbank8_a_air</th>\n",
       "      <th>primary_cleaner.state.floatbank8_a_level</th>\n",
       "      <th>primary_cleaner.state.floatbank8_b_air</th>\n",
       "      <th>primary_cleaner.state.floatbank8_b_level</th>\n",
       "      <th>primary_cleaner.state.floatbank8_c_air</th>\n",
       "      <th>...</th>\n",
       "      <th>secondary_cleaner.state.floatbank4_a_air</th>\n",
       "      <th>secondary_cleaner.state.floatbank4_a_level</th>\n",
       "      <th>secondary_cleaner.state.floatbank4_b_air</th>\n",
       "      <th>secondary_cleaner.state.floatbank4_b_level</th>\n",
       "      <th>secondary_cleaner.state.floatbank5_a_air</th>\n",
       "      <th>secondary_cleaner.state.floatbank5_a_level</th>\n",
       "      <th>secondary_cleaner.state.floatbank5_b_air</th>\n",
       "      <th>secondary_cleaner.state.floatbank5_b_level</th>\n",
       "      <th>secondary_cleaner.state.floatbank6_a_air</th>\n",
       "      <th>secondary_cleaner.state.floatbank6_a_level</th>\n",
       "    </tr>\n",
       "  </thead>\n",
       "  <tbody>\n",
       "    <tr>\n",
       "      <th>0</th>\n",
       "      <td>2016-09-01 00:59:59</td>\n",
       "      <td>210.800909</td>\n",
       "      <td>14.993118</td>\n",
       "      <td>8.080000</td>\n",
       "      <td>1.005021</td>\n",
       "      <td>1398.981301</td>\n",
       "      <td>-500.225577</td>\n",
       "      <td>1399.144926</td>\n",
       "      <td>-499.919735</td>\n",
       "      <td>1400.102998</td>\n",
       "      <td>...</td>\n",
       "      <td>12.023554</td>\n",
       "      <td>-497.795834</td>\n",
       "      <td>8.016656</td>\n",
       "      <td>-501.289139</td>\n",
       "      <td>7.946562</td>\n",
       "      <td>-432.317850</td>\n",
       "      <td>4.872511</td>\n",
       "      <td>-500.037437</td>\n",
       "      <td>26.705889</td>\n",
       "      <td>-499.709414</td>\n",
       "    </tr>\n",
       "    <tr>\n",
       "      <th>1</th>\n",
       "      <td>2016-09-01 01:59:59</td>\n",
       "      <td>215.392455</td>\n",
       "      <td>14.987471</td>\n",
       "      <td>8.080000</td>\n",
       "      <td>0.990469</td>\n",
       "      <td>1398.777912</td>\n",
       "      <td>-500.057435</td>\n",
       "      <td>1398.055362</td>\n",
       "      <td>-499.778182</td>\n",
       "      <td>1396.151033</td>\n",
       "      <td>...</td>\n",
       "      <td>12.058140</td>\n",
       "      <td>-498.695773</td>\n",
       "      <td>8.130979</td>\n",
       "      <td>-499.634209</td>\n",
       "      <td>7.958270</td>\n",
       "      <td>-525.839648</td>\n",
       "      <td>4.878850</td>\n",
       "      <td>-500.162375</td>\n",
       "      <td>25.019940</td>\n",
       "      <td>-499.819438</td>\n",
       "    </tr>\n",
       "    <tr>\n",
       "      <th>2</th>\n",
       "      <td>2016-09-01 02:59:59</td>\n",
       "      <td>215.259946</td>\n",
       "      <td>12.884934</td>\n",
       "      <td>7.786667</td>\n",
       "      <td>0.996043</td>\n",
       "      <td>1398.493666</td>\n",
       "      <td>-500.868360</td>\n",
       "      <td>1398.860436</td>\n",
       "      <td>-499.764529</td>\n",
       "      <td>1398.075709</td>\n",
       "      <td>...</td>\n",
       "      <td>11.962366</td>\n",
       "      <td>-498.767484</td>\n",
       "      <td>8.096893</td>\n",
       "      <td>-500.827423</td>\n",
       "      <td>8.071056</td>\n",
       "      <td>-500.801673</td>\n",
       "      <td>4.905125</td>\n",
       "      <td>-499.828510</td>\n",
       "      <td>24.994862</td>\n",
       "      <td>-500.622559</td>\n",
       "    </tr>\n",
       "    <tr>\n",
       "      <th>3</th>\n",
       "      <td>2016-09-01 03:59:59</td>\n",
       "      <td>215.336236</td>\n",
       "      <td>12.006805</td>\n",
       "      <td>7.640000</td>\n",
       "      <td>0.863514</td>\n",
       "      <td>1399.618111</td>\n",
       "      <td>-498.863574</td>\n",
       "      <td>1397.440120</td>\n",
       "      <td>-499.211024</td>\n",
       "      <td>1400.129303</td>\n",
       "      <td>...</td>\n",
       "      <td>12.033091</td>\n",
       "      <td>-498.350935</td>\n",
       "      <td>8.074946</td>\n",
       "      <td>-499.474407</td>\n",
       "      <td>7.897085</td>\n",
       "      <td>-500.868509</td>\n",
       "      <td>4.931400</td>\n",
       "      <td>-499.963623</td>\n",
       "      <td>24.948919</td>\n",
       "      <td>-498.709987</td>\n",
       "    </tr>\n",
       "    <tr>\n",
       "      <th>4</th>\n",
       "      <td>2016-09-01 04:59:59</td>\n",
       "      <td>199.099327</td>\n",
       "      <td>10.682530</td>\n",
       "      <td>7.530000</td>\n",
       "      <td>0.805575</td>\n",
       "      <td>1401.268123</td>\n",
       "      <td>-500.808305</td>\n",
       "      <td>1398.128818</td>\n",
       "      <td>-499.504543</td>\n",
       "      <td>1402.172226</td>\n",
       "      <td>...</td>\n",
       "      <td>12.025367</td>\n",
       "      <td>-500.786497</td>\n",
       "      <td>8.054678</td>\n",
       "      <td>-500.397500</td>\n",
       "      <td>8.107890</td>\n",
       "      <td>-509.526725</td>\n",
       "      <td>4.957674</td>\n",
       "      <td>-500.360026</td>\n",
       "      <td>25.003331</td>\n",
       "      <td>-500.856333</td>\n",
       "    </tr>\n",
       "  </tbody>\n",
       "</table>\n",
       "<p>5 rows × 53 columns</p>\n",
       "</div>"
      ],
      "text/plain": [
       "                  date  primary_cleaner.input.sulfate  \\\n",
       "0  2016-09-01 00:59:59                     210.800909   \n",
       "1  2016-09-01 01:59:59                     215.392455   \n",
       "2  2016-09-01 02:59:59                     215.259946   \n",
       "3  2016-09-01 03:59:59                     215.336236   \n",
       "4  2016-09-01 04:59:59                     199.099327   \n",
       "\n",
       "   primary_cleaner.input.depressant  primary_cleaner.input.feed_size  \\\n",
       "0                         14.993118                         8.080000   \n",
       "1                         14.987471                         8.080000   \n",
       "2                         12.884934                         7.786667   \n",
       "3                         12.006805                         7.640000   \n",
       "4                         10.682530                         7.530000   \n",
       "\n",
       "   primary_cleaner.input.xanthate  primary_cleaner.state.floatbank8_a_air  \\\n",
       "0                        1.005021                             1398.981301   \n",
       "1                        0.990469                             1398.777912   \n",
       "2                        0.996043                             1398.493666   \n",
       "3                        0.863514                             1399.618111   \n",
       "4                        0.805575                             1401.268123   \n",
       "\n",
       "   primary_cleaner.state.floatbank8_a_level  \\\n",
       "0                               -500.225577   \n",
       "1                               -500.057435   \n",
       "2                               -500.868360   \n",
       "3                               -498.863574   \n",
       "4                               -500.808305   \n",
       "\n",
       "   primary_cleaner.state.floatbank8_b_air  \\\n",
       "0                             1399.144926   \n",
       "1                             1398.055362   \n",
       "2                             1398.860436   \n",
       "3                             1397.440120   \n",
       "4                             1398.128818   \n",
       "\n",
       "   primary_cleaner.state.floatbank8_b_level  \\\n",
       "0                               -499.919735   \n",
       "1                               -499.778182   \n",
       "2                               -499.764529   \n",
       "3                               -499.211024   \n",
       "4                               -499.504543   \n",
       "\n",
       "   primary_cleaner.state.floatbank8_c_air  ...  \\\n",
       "0                             1400.102998  ...   \n",
       "1                             1396.151033  ...   \n",
       "2                             1398.075709  ...   \n",
       "3                             1400.129303  ...   \n",
       "4                             1402.172226  ...   \n",
       "\n",
       "   secondary_cleaner.state.floatbank4_a_air  \\\n",
       "0                                 12.023554   \n",
       "1                                 12.058140   \n",
       "2                                 11.962366   \n",
       "3                                 12.033091   \n",
       "4                                 12.025367   \n",
       "\n",
       "   secondary_cleaner.state.floatbank4_a_level  \\\n",
       "0                                 -497.795834   \n",
       "1                                 -498.695773   \n",
       "2                                 -498.767484   \n",
       "3                                 -498.350935   \n",
       "4                                 -500.786497   \n",
       "\n",
       "   secondary_cleaner.state.floatbank4_b_air  \\\n",
       "0                                  8.016656   \n",
       "1                                  8.130979   \n",
       "2                                  8.096893   \n",
       "3                                  8.074946   \n",
       "4                                  8.054678   \n",
       "\n",
       "   secondary_cleaner.state.floatbank4_b_level  \\\n",
       "0                                 -501.289139   \n",
       "1                                 -499.634209   \n",
       "2                                 -500.827423   \n",
       "3                                 -499.474407   \n",
       "4                                 -500.397500   \n",
       "\n",
       "   secondary_cleaner.state.floatbank5_a_air  \\\n",
       "0                                  7.946562   \n",
       "1                                  7.958270   \n",
       "2                                  8.071056   \n",
       "3                                  7.897085   \n",
       "4                                  8.107890   \n",
       "\n",
       "   secondary_cleaner.state.floatbank5_a_level  \\\n",
       "0                                 -432.317850   \n",
       "1                                 -525.839648   \n",
       "2                                 -500.801673   \n",
       "3                                 -500.868509   \n",
       "4                                 -509.526725   \n",
       "\n",
       "   secondary_cleaner.state.floatbank5_b_air  \\\n",
       "0                                  4.872511   \n",
       "1                                  4.878850   \n",
       "2                                  4.905125   \n",
       "3                                  4.931400   \n",
       "4                                  4.957674   \n",
       "\n",
       "   secondary_cleaner.state.floatbank5_b_level  \\\n",
       "0                                 -500.037437   \n",
       "1                                 -500.162375   \n",
       "2                                 -499.828510   \n",
       "3                                 -499.963623   \n",
       "4                                 -500.360026   \n",
       "\n",
       "   secondary_cleaner.state.floatbank6_a_air  \\\n",
       "0                                 26.705889   \n",
       "1                                 25.019940   \n",
       "2                                 24.994862   \n",
       "3                                 24.948919   \n",
       "4                                 25.003331   \n",
       "\n",
       "   secondary_cleaner.state.floatbank6_a_level  \n",
       "0                                 -499.709414  \n",
       "1                                 -499.819438  \n",
       "2                                 -500.622559  \n",
       "3                                 -498.709987  \n",
       "4                                 -500.856333  \n",
       "\n",
       "[5 rows x 53 columns]"
      ]
     },
     "metadata": {},
     "output_type": "display_data"
    }
   ],
   "source": [
    "display(gold_test.head())"
   ]
  },
  {
   "cell_type": "code",
   "execution_count": 5,
   "metadata": {},
   "outputs": [
    {
     "data": {
      "text/html": [
       "<div>\n",
       "<style scoped>\n",
       "    .dataframe tbody tr th:only-of-type {\n",
       "        vertical-align: middle;\n",
       "    }\n",
       "\n",
       "    .dataframe tbody tr th {\n",
       "        vertical-align: top;\n",
       "    }\n",
       "\n",
       "    .dataframe thead th {\n",
       "        text-align: right;\n",
       "    }\n",
       "</style>\n",
       "<table border=\"1\" class=\"dataframe\">\n",
       "  <thead>\n",
       "    <tr style=\"text-align: right;\">\n",
       "      <th></th>\n",
       "      <th>date</th>\n",
       "      <th>final.output.concentrate_ag</th>\n",
       "      <th>final.output.concentrate_pb</th>\n",
       "      <th>final.output.concentrate_sol</th>\n",
       "      <th>final.output.concentrate_au</th>\n",
       "      <th>final.output.recovery</th>\n",
       "      <th>final.output.tail_ag</th>\n",
       "      <th>final.output.tail_pb</th>\n",
       "      <th>final.output.tail_sol</th>\n",
       "      <th>final.output.tail_au</th>\n",
       "      <th>...</th>\n",
       "      <th>secondary_cleaner.state.floatbank4_a_air</th>\n",
       "      <th>secondary_cleaner.state.floatbank4_a_level</th>\n",
       "      <th>secondary_cleaner.state.floatbank4_b_air</th>\n",
       "      <th>secondary_cleaner.state.floatbank4_b_level</th>\n",
       "      <th>secondary_cleaner.state.floatbank5_a_air</th>\n",
       "      <th>secondary_cleaner.state.floatbank5_a_level</th>\n",
       "      <th>secondary_cleaner.state.floatbank5_b_air</th>\n",
       "      <th>secondary_cleaner.state.floatbank5_b_level</th>\n",
       "      <th>secondary_cleaner.state.floatbank6_a_air</th>\n",
       "      <th>secondary_cleaner.state.floatbank6_a_level</th>\n",
       "    </tr>\n",
       "  </thead>\n",
       "  <tbody>\n",
       "    <tr>\n",
       "      <th>0</th>\n",
       "      <td>2016-01-15 00:00:00</td>\n",
       "      <td>6.055403</td>\n",
       "      <td>9.889648</td>\n",
       "      <td>5.507324</td>\n",
       "      <td>42.192020</td>\n",
       "      <td>70.541216</td>\n",
       "      <td>10.411962</td>\n",
       "      <td>0.895447</td>\n",
       "      <td>16.904297</td>\n",
       "      <td>2.143149</td>\n",
       "      <td>...</td>\n",
       "      <td>14.016835</td>\n",
       "      <td>-502.488007</td>\n",
       "      <td>12.099931</td>\n",
       "      <td>-504.715942</td>\n",
       "      <td>9.925633</td>\n",
       "      <td>-498.310211</td>\n",
       "      <td>8.079666</td>\n",
       "      <td>-500.470978</td>\n",
       "      <td>14.151341</td>\n",
       "      <td>-605.841980</td>\n",
       "    </tr>\n",
       "    <tr>\n",
       "      <th>1</th>\n",
       "      <td>2016-01-15 01:00:00</td>\n",
       "      <td>6.029369</td>\n",
       "      <td>9.968944</td>\n",
       "      <td>5.257781</td>\n",
       "      <td>42.701629</td>\n",
       "      <td>69.266198</td>\n",
       "      <td>10.462676</td>\n",
       "      <td>0.927452</td>\n",
       "      <td>16.634514</td>\n",
       "      <td>2.224930</td>\n",
       "      <td>...</td>\n",
       "      <td>13.992281</td>\n",
       "      <td>-505.503262</td>\n",
       "      <td>11.950531</td>\n",
       "      <td>-501.331529</td>\n",
       "      <td>10.039245</td>\n",
       "      <td>-500.169983</td>\n",
       "      <td>7.984757</td>\n",
       "      <td>-500.582168</td>\n",
       "      <td>13.998353</td>\n",
       "      <td>-599.787184</td>\n",
       "    </tr>\n",
       "    <tr>\n",
       "      <th>2</th>\n",
       "      <td>2016-01-15 02:00:00</td>\n",
       "      <td>6.055926</td>\n",
       "      <td>10.213995</td>\n",
       "      <td>5.383759</td>\n",
       "      <td>42.657501</td>\n",
       "      <td>68.116445</td>\n",
       "      <td>10.507046</td>\n",
       "      <td>0.953716</td>\n",
       "      <td>16.208849</td>\n",
       "      <td>2.257889</td>\n",
       "      <td>...</td>\n",
       "      <td>14.015015</td>\n",
       "      <td>-502.520901</td>\n",
       "      <td>11.912783</td>\n",
       "      <td>-501.133383</td>\n",
       "      <td>10.070913</td>\n",
       "      <td>-500.129135</td>\n",
       "      <td>8.013877</td>\n",
       "      <td>-500.517572</td>\n",
       "      <td>14.028663</td>\n",
       "      <td>-601.427363</td>\n",
       "    </tr>\n",
       "    <tr>\n",
       "      <th>3</th>\n",
       "      <td>2016-01-15 03:00:00</td>\n",
       "      <td>6.047977</td>\n",
       "      <td>9.977019</td>\n",
       "      <td>4.858634</td>\n",
       "      <td>42.689819</td>\n",
       "      <td>68.347543</td>\n",
       "      <td>10.422762</td>\n",
       "      <td>0.883763</td>\n",
       "      <td>16.532835</td>\n",
       "      <td>2.146849</td>\n",
       "      <td>...</td>\n",
       "      <td>14.036510</td>\n",
       "      <td>-500.857308</td>\n",
       "      <td>11.999550</td>\n",
       "      <td>-501.193686</td>\n",
       "      <td>9.970366</td>\n",
       "      <td>-499.201640</td>\n",
       "      <td>7.977324</td>\n",
       "      <td>-500.255908</td>\n",
       "      <td>14.005551</td>\n",
       "      <td>-599.996129</td>\n",
       "    </tr>\n",
       "    <tr>\n",
       "      <th>4</th>\n",
       "      <td>2016-01-15 04:00:00</td>\n",
       "      <td>6.148599</td>\n",
       "      <td>10.142511</td>\n",
       "      <td>4.939416</td>\n",
       "      <td>42.774141</td>\n",
       "      <td>66.927016</td>\n",
       "      <td>10.360302</td>\n",
       "      <td>0.792826</td>\n",
       "      <td>16.525686</td>\n",
       "      <td>2.055292</td>\n",
       "      <td>...</td>\n",
       "      <td>14.027298</td>\n",
       "      <td>-499.838632</td>\n",
       "      <td>11.953070</td>\n",
       "      <td>-501.053894</td>\n",
       "      <td>9.925709</td>\n",
       "      <td>-501.686727</td>\n",
       "      <td>7.894242</td>\n",
       "      <td>-500.356035</td>\n",
       "      <td>13.996647</td>\n",
       "      <td>-601.496691</td>\n",
       "    </tr>\n",
       "  </tbody>\n",
       "</table>\n",
       "<p>5 rows × 87 columns</p>\n",
       "</div>"
      ],
      "text/plain": [
       "                  date  final.output.concentrate_ag  \\\n",
       "0  2016-01-15 00:00:00                     6.055403   \n",
       "1  2016-01-15 01:00:00                     6.029369   \n",
       "2  2016-01-15 02:00:00                     6.055926   \n",
       "3  2016-01-15 03:00:00                     6.047977   \n",
       "4  2016-01-15 04:00:00                     6.148599   \n",
       "\n",
       "   final.output.concentrate_pb  final.output.concentrate_sol  \\\n",
       "0                     9.889648                      5.507324   \n",
       "1                     9.968944                      5.257781   \n",
       "2                    10.213995                      5.383759   \n",
       "3                     9.977019                      4.858634   \n",
       "4                    10.142511                      4.939416   \n",
       "\n",
       "   final.output.concentrate_au  final.output.recovery  final.output.tail_ag  \\\n",
       "0                    42.192020              70.541216             10.411962   \n",
       "1                    42.701629              69.266198             10.462676   \n",
       "2                    42.657501              68.116445             10.507046   \n",
       "3                    42.689819              68.347543             10.422762   \n",
       "4                    42.774141              66.927016             10.360302   \n",
       "\n",
       "   final.output.tail_pb  final.output.tail_sol  final.output.tail_au  ...  \\\n",
       "0              0.895447              16.904297              2.143149  ...   \n",
       "1              0.927452              16.634514              2.224930  ...   \n",
       "2              0.953716              16.208849              2.257889  ...   \n",
       "3              0.883763              16.532835              2.146849  ...   \n",
       "4              0.792826              16.525686              2.055292  ...   \n",
       "\n",
       "   secondary_cleaner.state.floatbank4_a_air  \\\n",
       "0                                 14.016835   \n",
       "1                                 13.992281   \n",
       "2                                 14.015015   \n",
       "3                                 14.036510   \n",
       "4                                 14.027298   \n",
       "\n",
       "   secondary_cleaner.state.floatbank4_a_level  \\\n",
       "0                                 -502.488007   \n",
       "1                                 -505.503262   \n",
       "2                                 -502.520901   \n",
       "3                                 -500.857308   \n",
       "4                                 -499.838632   \n",
       "\n",
       "   secondary_cleaner.state.floatbank4_b_air  \\\n",
       "0                                 12.099931   \n",
       "1                                 11.950531   \n",
       "2                                 11.912783   \n",
       "3                                 11.999550   \n",
       "4                                 11.953070   \n",
       "\n",
       "   secondary_cleaner.state.floatbank4_b_level  \\\n",
       "0                                 -504.715942   \n",
       "1                                 -501.331529   \n",
       "2                                 -501.133383   \n",
       "3                                 -501.193686   \n",
       "4                                 -501.053894   \n",
       "\n",
       "   secondary_cleaner.state.floatbank5_a_air  \\\n",
       "0                                  9.925633   \n",
       "1                                 10.039245   \n",
       "2                                 10.070913   \n",
       "3                                  9.970366   \n",
       "4                                  9.925709   \n",
       "\n",
       "   secondary_cleaner.state.floatbank5_a_level  \\\n",
       "0                                 -498.310211   \n",
       "1                                 -500.169983   \n",
       "2                                 -500.129135   \n",
       "3                                 -499.201640   \n",
       "4                                 -501.686727   \n",
       "\n",
       "   secondary_cleaner.state.floatbank5_b_air  \\\n",
       "0                                  8.079666   \n",
       "1                                  7.984757   \n",
       "2                                  8.013877   \n",
       "3                                  7.977324   \n",
       "4                                  7.894242   \n",
       "\n",
       "   secondary_cleaner.state.floatbank5_b_level  \\\n",
       "0                                 -500.470978   \n",
       "1                                 -500.582168   \n",
       "2                                 -500.517572   \n",
       "3                                 -500.255908   \n",
       "4                                 -500.356035   \n",
       "\n",
       "   secondary_cleaner.state.floatbank6_a_air  \\\n",
       "0                                 14.151341   \n",
       "1                                 13.998353   \n",
       "2                                 14.028663   \n",
       "3                                 14.005551   \n",
       "4                                 13.996647   \n",
       "\n",
       "   secondary_cleaner.state.floatbank6_a_level  \n",
       "0                                 -605.841980  \n",
       "1                                 -599.787184  \n",
       "2                                 -601.427363  \n",
       "3                                 -599.996129  \n",
       "4                                 -601.496691  \n",
       "\n",
       "[5 rows x 87 columns]"
      ]
     },
     "metadata": {},
     "output_type": "display_data"
    }
   ],
   "source": [
    "display(gold_full.head())"
   ]
  },
  {
   "cell_type": "code",
   "execution_count": 6,
   "metadata": {},
   "outputs": [
    {
     "name": "stdout",
     "output_type": "stream",
     "text": [
      "Index(['date', 'final.output.concentrate_ag', 'final.output.concentrate_pb',\n",
      "       'final.output.concentrate_sol', 'final.output.concentrate_au',\n",
      "       'final.output.recovery', 'final.output.tail_ag', 'final.output.tail_pb',\n",
      "       'final.output.tail_sol', 'final.output.tail_au',\n",
      "       'primary_cleaner.input.sulfate', 'primary_cleaner.input.depressant',\n",
      "       'primary_cleaner.input.feed_size', 'primary_cleaner.input.xanthate',\n",
      "       'primary_cleaner.output.concentrate_ag',\n",
      "       'primary_cleaner.output.concentrate_pb',\n",
      "       'primary_cleaner.output.concentrate_sol',\n",
      "       'primary_cleaner.output.concentrate_au',\n",
      "       'primary_cleaner.output.tail_ag', 'primary_cleaner.output.tail_pb',\n",
      "       'primary_cleaner.output.tail_sol', 'primary_cleaner.output.tail_au',\n",
      "       'primary_cleaner.state.floatbank8_a_air',\n",
      "       'primary_cleaner.state.floatbank8_a_level',\n",
      "       'primary_cleaner.state.floatbank8_b_air',\n",
      "       'primary_cleaner.state.floatbank8_b_level',\n",
      "       'primary_cleaner.state.floatbank8_c_air',\n",
      "       'primary_cleaner.state.floatbank8_c_level',\n",
      "       'primary_cleaner.state.floatbank8_d_air',\n",
      "       'primary_cleaner.state.floatbank8_d_level',\n",
      "       'rougher.calculation.sulfate_to_au_concentrate',\n",
      "       'rougher.calculation.floatbank10_sulfate_to_au_feed',\n",
      "       'rougher.calculation.floatbank11_sulfate_to_au_feed',\n",
      "       'rougher.calculation.au_pb_ratio', 'rougher.input.feed_ag',\n",
      "       'rougher.input.feed_pb', 'rougher.input.feed_rate',\n",
      "       'rougher.input.feed_size', 'rougher.input.feed_sol',\n",
      "       'rougher.input.feed_au', 'rougher.input.floatbank10_sulfate',\n",
      "       'rougher.input.floatbank10_xanthate',\n",
      "       'rougher.input.floatbank11_sulfate',\n",
      "       'rougher.input.floatbank11_xanthate', 'rougher.output.concentrate_ag',\n",
      "       'rougher.output.concentrate_pb', 'rougher.output.concentrate_sol',\n",
      "       'rougher.output.concentrate_au', 'rougher.output.recovery',\n",
      "       'rougher.output.tail_ag', 'rougher.output.tail_pb',\n",
      "       'rougher.output.tail_sol', 'rougher.output.tail_au',\n",
      "       'rougher.state.floatbank10_a_air', 'rougher.state.floatbank10_a_level',\n",
      "       'rougher.state.floatbank10_b_air', 'rougher.state.floatbank10_b_level',\n",
      "       'rougher.state.floatbank10_c_air', 'rougher.state.floatbank10_c_level',\n",
      "       'rougher.state.floatbank10_d_air', 'rougher.state.floatbank10_d_level',\n",
      "       'rougher.state.floatbank10_e_air', 'rougher.state.floatbank10_e_level',\n",
      "       'rougher.state.floatbank10_f_air', 'rougher.state.floatbank10_f_level',\n",
      "       'secondary_cleaner.output.tail_ag', 'secondary_cleaner.output.tail_pb',\n",
      "       'secondary_cleaner.output.tail_sol', 'secondary_cleaner.output.tail_au',\n",
      "       'secondary_cleaner.state.floatbank2_a_air',\n",
      "       'secondary_cleaner.state.floatbank2_a_level',\n",
      "       'secondary_cleaner.state.floatbank2_b_air',\n",
      "       'secondary_cleaner.state.floatbank2_b_level',\n",
      "       'secondary_cleaner.state.floatbank3_a_air',\n",
      "       'secondary_cleaner.state.floatbank3_a_level',\n",
      "       'secondary_cleaner.state.floatbank3_b_air',\n",
      "       'secondary_cleaner.state.floatbank3_b_level',\n",
      "       'secondary_cleaner.state.floatbank4_a_air',\n",
      "       'secondary_cleaner.state.floatbank4_a_level',\n",
      "       'secondary_cleaner.state.floatbank4_b_air',\n",
      "       'secondary_cleaner.state.floatbank4_b_level',\n",
      "       'secondary_cleaner.state.floatbank5_a_air',\n",
      "       'secondary_cleaner.state.floatbank5_a_level',\n",
      "       'secondary_cleaner.state.floatbank5_b_air',\n",
      "       'secondary_cleaner.state.floatbank5_b_level',\n",
      "       'secondary_cleaner.state.floatbank6_a_air',\n",
      "       'secondary_cleaner.state.floatbank6_a_level'],\n",
      "      dtype='object')\n"
     ]
    }
   ],
   "source": [
    "print(gold_train.columns)"
   ]
  },
  {
   "cell_type": "code",
   "execution_count": 7,
   "metadata": {},
   "outputs": [
    {
     "name": "stdout",
     "output_type": "stream",
     "text": [
      "Index(['date', 'final.output.concentrate_ag', 'final.output.concentrate_pb',\n",
      "       'final.output.concentrate_sol', 'final.output.concentrate_au',\n",
      "       'final.output.recovery', 'final.output.tail_ag', 'final.output.tail_pb',\n",
      "       'final.output.tail_sol', 'final.output.tail_au',\n",
      "       'primary_cleaner.input.sulfate', 'primary_cleaner.input.depressant',\n",
      "       'primary_cleaner.input.feed_size', 'primary_cleaner.input.xanthate',\n",
      "       'primary_cleaner.output.concentrate_ag',\n",
      "       'primary_cleaner.output.concentrate_pb',\n",
      "       'primary_cleaner.output.concentrate_sol',\n",
      "       'primary_cleaner.output.concentrate_au',\n",
      "       'primary_cleaner.output.tail_ag', 'primary_cleaner.output.tail_pb',\n",
      "       'primary_cleaner.output.tail_sol', 'primary_cleaner.output.tail_au',\n",
      "       'primary_cleaner.state.floatbank8_a_air',\n",
      "       'primary_cleaner.state.floatbank8_a_level',\n",
      "       'primary_cleaner.state.floatbank8_b_air',\n",
      "       'primary_cleaner.state.floatbank8_b_level',\n",
      "       'primary_cleaner.state.floatbank8_c_air',\n",
      "       'primary_cleaner.state.floatbank8_c_level',\n",
      "       'primary_cleaner.state.floatbank8_d_air',\n",
      "       'primary_cleaner.state.floatbank8_d_level',\n",
      "       'rougher.calculation.sulfate_to_au_concentrate',\n",
      "       'rougher.calculation.floatbank10_sulfate_to_au_feed',\n",
      "       'rougher.calculation.floatbank11_sulfate_to_au_feed',\n",
      "       'rougher.calculation.au_pb_ratio', 'rougher.input.feed_ag',\n",
      "       'rougher.input.feed_pb', 'rougher.input.feed_rate',\n",
      "       'rougher.input.feed_size', 'rougher.input.feed_sol',\n",
      "       'rougher.input.feed_au', 'rougher.input.floatbank10_sulfate',\n",
      "       'rougher.input.floatbank10_xanthate',\n",
      "       'rougher.input.floatbank11_sulfate',\n",
      "       'rougher.input.floatbank11_xanthate', 'rougher.output.concentrate_ag',\n",
      "       'rougher.output.concentrate_pb', 'rougher.output.concentrate_sol',\n",
      "       'rougher.output.concentrate_au', 'rougher.output.recovery',\n",
      "       'rougher.output.tail_ag', 'rougher.output.tail_pb',\n",
      "       'rougher.output.tail_sol', 'rougher.output.tail_au',\n",
      "       'rougher.state.floatbank10_a_air', 'rougher.state.floatbank10_a_level',\n",
      "       'rougher.state.floatbank10_b_air', 'rougher.state.floatbank10_b_level',\n",
      "       'rougher.state.floatbank10_c_air', 'rougher.state.floatbank10_c_level',\n",
      "       'rougher.state.floatbank10_d_air', 'rougher.state.floatbank10_d_level',\n",
      "       'rougher.state.floatbank10_e_air', 'rougher.state.floatbank10_e_level',\n",
      "       'rougher.state.floatbank10_f_air', 'rougher.state.floatbank10_f_level',\n",
      "       'secondary_cleaner.output.tail_ag', 'secondary_cleaner.output.tail_pb',\n",
      "       'secondary_cleaner.output.tail_sol', 'secondary_cleaner.output.tail_au',\n",
      "       'secondary_cleaner.state.floatbank2_a_air',\n",
      "       'secondary_cleaner.state.floatbank2_a_level',\n",
      "       'secondary_cleaner.state.floatbank2_b_air',\n",
      "       'secondary_cleaner.state.floatbank2_b_level',\n",
      "       'secondary_cleaner.state.floatbank3_a_air',\n",
      "       'secondary_cleaner.state.floatbank3_a_level',\n",
      "       'secondary_cleaner.state.floatbank3_b_air',\n",
      "       'secondary_cleaner.state.floatbank3_b_level',\n",
      "       'secondary_cleaner.state.floatbank4_a_air',\n",
      "       'secondary_cleaner.state.floatbank4_a_level',\n",
      "       'secondary_cleaner.state.floatbank4_b_air',\n",
      "       'secondary_cleaner.state.floatbank4_b_level',\n",
      "       'secondary_cleaner.state.floatbank5_a_air',\n",
      "       'secondary_cleaner.state.floatbank5_a_level',\n",
      "       'secondary_cleaner.state.floatbank5_b_air',\n",
      "       'secondary_cleaner.state.floatbank5_b_level',\n",
      "       'secondary_cleaner.state.floatbank6_a_air',\n",
      "       'secondary_cleaner.state.floatbank6_a_level'],\n",
      "      dtype='object')\n"
     ]
    }
   ],
   "source": [
    "print(gold_full.columns)"
   ]
  },
  {
   "cell_type": "code",
   "execution_count": 8,
   "metadata": {},
   "outputs": [
    {
     "name": "stdout",
     "output_type": "stream",
     "text": [
      "0        87.107763\n",
      "1        86.843261\n",
      "2        86.842308\n",
      "3        87.226430\n",
      "4        86.688794\n",
      "           ...    \n",
      "14144    89.574376\n",
      "14145    87.724007\n",
      "14146    88.890579\n",
      "14147    89.858126\n",
      "14148    89.514960\n",
      "Name: rougher.output.recovery, Length: 14149, dtype: float64\n"
     ]
    }
   ],
   "source": [
    "print(gold_train['rougher.output.recovery'])"
   ]
  },
  {
   "cell_type": "markdown",
   "metadata": {},
   "source": [
    "### Праверим правильность расчета обогащения"
   ]
  },
  {
   "cell_type": "code",
   "execution_count": 9,
   "metadata": {},
   "outputs": [],
   "source": [
    "recovery=gold_train\n",
    "recovery=recovery.dropna().reset_index() \n",
    "rougher_output_recovery=recovery['rougher.output.recovery']\n",
    "rougher_output_tail_au=recovery['rougher.output.tail_au']\n",
    "rougher_input_feed_au=recovery['rougher.input.feed_au']\n",
    "rougher_output_concentrate_au=recovery['rougher.output.concentrate_au']"
   ]
  },
  {
   "cell_type": "code",
   "execution_count": 10,
   "metadata": {},
   "outputs": [],
   "source": [
    "# Функция Эффективность обогащения\n",
    "def calc_rougher_output_recovery(rougher_output_concentrate,rougher_input_feed,rougher_output_tail):\n",
    "    calc_rougher_output_recovery=((rougher_output_concentrate_au*(rougher_input_feed_au-rougher_output_tail_au))/(rougher_input_feed_au*(rougher_output_concentrate_au-rougher_output_tail_au)))*100\n",
    "    return calc_rougher_output_recovery"
   ]
  },
  {
   "cell_type": "code",
   "execution_count": 11,
   "metadata": {},
   "outputs": [],
   "source": [
    "calc_rougher_output_recovery=calc_rougher_output_recovery(rougher_output_concentrate_au,rougher_input_feed_au,rougher_output_tail_au)"
   ]
  },
  {
   "cell_type": "code",
   "execution_count": 12,
   "metadata": {},
   "outputs": [
    {
     "data": {
      "text/plain": [
       "0        87.107763\n",
       "1        86.843261\n",
       "2        86.842308\n",
       "3        87.226430\n",
       "4        86.688794\n",
       "           ...    \n",
       "11012    89.574376\n",
       "11013    87.724007\n",
       "11014    88.890579\n",
       "11015    89.858126\n",
       "11016    89.514960\n",
       "Name: rougher.output.recovery, Length: 11017, dtype: float64"
      ]
     },
     "execution_count": 12,
     "metadata": {},
     "output_type": "execute_result"
    }
   ],
   "source": [
    "rougher_output_recovery"
   ]
  },
  {
   "cell_type": "code",
   "execution_count": 13,
   "metadata": {},
   "outputs": [
    {
     "data": {
      "text/plain": [
       "0        87.107763\n",
       "1        86.843261\n",
       "2        86.842308\n",
       "3        87.226430\n",
       "4        86.688794\n",
       "           ...    \n",
       "11012    89.574376\n",
       "11013    87.724007\n",
       "11014    88.890579\n",
       "11015    89.858126\n",
       "11016    89.514960\n",
       "Length: 11017, dtype: float64"
      ]
     },
     "execution_count": 13,
     "metadata": {},
     "output_type": "execute_result"
    }
   ],
   "source": [
    "calc_rougher_output_recovery"
   ]
  },
  {
   "cell_type": "markdown",
   "metadata": {},
   "source": [
    "### Посчитаем метрику MAE для табличного значения и rougher.output.recovery"
   ]
  },
  {
   "cell_type": "code",
   "execution_count": 14,
   "metadata": {
    "scrolled": true
   },
   "outputs": [
    {
     "data": {
      "text/plain": [
       "9.82970122149377e-15"
      ]
     },
     "execution_count": 14,
     "metadata": {},
     "output_type": "execute_result"
    }
   ],
   "source": [
    "mean_absolute_error(rougher_output_recovery,calc_rougher_output_recovery)"
   ]
  },
  {
   "cell_type": "markdown",
   "metadata": {},
   "source": [
    "Вывод: Абсолютная средняя ошибка получилась 9,82. В целом можно сказать, что значения посчитаны верно."
   ]
  },
  {
   "cell_type": "code",
   "execution_count": 15,
   "metadata": {},
   "outputs": [
    {
     "name": "stdout",
     "output_type": "stream",
     "text": [
      "date                                            0\n",
      "final.output.concentrate_ag                     1\n",
      "final.output.concentrate_pb                     1\n",
      "final.output.concentrate_sol                  211\n",
      "final.output.concentrate_au                     0\n",
      "                                             ... \n",
      "secondary_cleaner.state.floatbank5_a_level      1\n",
      "secondary_cleaner.state.floatbank5_b_air        1\n",
      "secondary_cleaner.state.floatbank5_b_level      1\n",
      "secondary_cleaner.state.floatbank6_a_air        2\n",
      "secondary_cleaner.state.floatbank6_a_level      1\n",
      "Length: 87, dtype: int64\n"
     ]
    }
   ],
   "source": [
    "print(gold_train.isna().sum())"
   ]
  },
  {
   "cell_type": "code",
   "execution_count": 16,
   "metadata": {},
   "outputs": [
    {
     "name": "stdout",
     "output_type": "stream",
     "text": [
      "date                                           0\n",
      "primary_cleaner.input.sulfate                  4\n",
      "primary_cleaner.input.depressant               5\n",
      "primary_cleaner.input.feed_size                0\n",
      "primary_cleaner.input.xanthate                 4\n",
      "primary_cleaner.state.floatbank8_a_air         0\n",
      "primary_cleaner.state.floatbank8_a_level       0\n",
      "primary_cleaner.state.floatbank8_b_air         0\n",
      "primary_cleaner.state.floatbank8_b_level       0\n",
      "primary_cleaner.state.floatbank8_c_air         0\n",
      "primary_cleaner.state.floatbank8_c_level       0\n",
      "primary_cleaner.state.floatbank8_d_air         0\n",
      "primary_cleaner.state.floatbank8_d_level       0\n",
      "rougher.input.feed_ag                          0\n",
      "rougher.input.feed_pb                          0\n",
      "rougher.input.feed_rate                        3\n",
      "rougher.input.feed_size                        1\n",
      "rougher.input.feed_sol                        21\n",
      "rougher.input.feed_au                          0\n",
      "rougher.input.floatbank10_sulfate              5\n",
      "rougher.input.floatbank10_xanthate             0\n",
      "rougher.input.floatbank11_sulfate              8\n",
      "rougher.input.floatbank11_xanthate            25\n",
      "rougher.state.floatbank10_a_air                0\n",
      "rougher.state.floatbank10_a_level              0\n",
      "rougher.state.floatbank10_b_air                0\n",
      "rougher.state.floatbank10_b_level              0\n",
      "rougher.state.floatbank10_c_air                0\n",
      "rougher.state.floatbank10_c_level              0\n",
      "rougher.state.floatbank10_d_air                0\n",
      "rougher.state.floatbank10_d_level              0\n",
      "rougher.state.floatbank10_e_air                0\n",
      "rougher.state.floatbank10_e_level              0\n",
      "rougher.state.floatbank10_f_air                0\n",
      "rougher.state.floatbank10_f_level              0\n",
      "secondary_cleaner.state.floatbank2_a_air       3\n",
      "secondary_cleaner.state.floatbank2_a_level     0\n",
      "secondary_cleaner.state.floatbank2_b_air       2\n",
      "secondary_cleaner.state.floatbank2_b_level     0\n",
      "secondary_cleaner.state.floatbank3_a_air       9\n",
      "secondary_cleaner.state.floatbank3_a_level     0\n",
      "secondary_cleaner.state.floatbank3_b_air       0\n",
      "secondary_cleaner.state.floatbank3_b_level     0\n",
      "secondary_cleaner.state.floatbank4_a_air       0\n",
      "secondary_cleaner.state.floatbank4_a_level     0\n",
      "secondary_cleaner.state.floatbank4_b_air       0\n",
      "secondary_cleaner.state.floatbank4_b_level     0\n",
      "secondary_cleaner.state.floatbank5_a_air       0\n",
      "secondary_cleaner.state.floatbank5_a_level     0\n",
      "secondary_cleaner.state.floatbank5_b_air       0\n",
      "secondary_cleaner.state.floatbank5_b_level     0\n",
      "secondary_cleaner.state.floatbank6_a_air       0\n",
      "secondary_cleaner.state.floatbank6_a_level     0\n",
      "dtype: int64\n"
     ]
    }
   ],
   "source": [
    "gold_train.fillna(method='ffill', inplace=True)\n",
    "print(gold_test.isna().sum())"
   ]
  },
  {
   "cell_type": "code",
   "execution_count": 17,
   "metadata": {},
   "outputs": [
    {
     "name": "stdout",
     "output_type": "stream",
     "text": [
      "date                                           0\n",
      "primary_cleaner.input.sulfate                  4\n",
      "primary_cleaner.input.depressant               5\n",
      "primary_cleaner.input.feed_size                0\n",
      "primary_cleaner.input.xanthate                 4\n",
      "primary_cleaner.state.floatbank8_a_air         0\n",
      "primary_cleaner.state.floatbank8_a_level       0\n",
      "primary_cleaner.state.floatbank8_b_air         0\n",
      "primary_cleaner.state.floatbank8_b_level       0\n",
      "primary_cleaner.state.floatbank8_c_air         0\n",
      "primary_cleaner.state.floatbank8_c_level       0\n",
      "primary_cleaner.state.floatbank8_d_air         0\n",
      "primary_cleaner.state.floatbank8_d_level       0\n",
      "rougher.input.feed_ag                          0\n",
      "rougher.input.feed_pb                          0\n",
      "rougher.input.feed_rate                        3\n",
      "rougher.input.feed_size                        1\n",
      "rougher.input.feed_sol                        21\n",
      "rougher.input.feed_au                          0\n",
      "rougher.input.floatbank10_sulfate              5\n",
      "rougher.input.floatbank10_xanthate             0\n",
      "rougher.input.floatbank11_sulfate              8\n",
      "rougher.input.floatbank11_xanthate            25\n",
      "rougher.state.floatbank10_a_air                0\n",
      "rougher.state.floatbank10_a_level              0\n",
      "rougher.state.floatbank10_b_air                0\n",
      "rougher.state.floatbank10_b_level              0\n",
      "rougher.state.floatbank10_c_air                0\n",
      "rougher.state.floatbank10_c_level              0\n",
      "rougher.state.floatbank10_d_air                0\n",
      "rougher.state.floatbank10_d_level              0\n",
      "rougher.state.floatbank10_e_air                0\n",
      "rougher.state.floatbank10_e_level              0\n",
      "rougher.state.floatbank10_f_air                0\n",
      "rougher.state.floatbank10_f_level              0\n",
      "secondary_cleaner.state.floatbank2_a_air       3\n",
      "secondary_cleaner.state.floatbank2_a_level     0\n",
      "secondary_cleaner.state.floatbank2_b_air       2\n",
      "secondary_cleaner.state.floatbank2_b_level     0\n",
      "secondary_cleaner.state.floatbank3_a_air       9\n",
      "secondary_cleaner.state.floatbank3_a_level     0\n",
      "secondary_cleaner.state.floatbank3_b_air       0\n",
      "secondary_cleaner.state.floatbank3_b_level     0\n",
      "secondary_cleaner.state.floatbank4_a_air       0\n",
      "secondary_cleaner.state.floatbank4_a_level     0\n",
      "secondary_cleaner.state.floatbank4_b_air       0\n",
      "secondary_cleaner.state.floatbank4_b_level     0\n",
      "secondary_cleaner.state.floatbank5_a_air       0\n",
      "secondary_cleaner.state.floatbank5_a_level     0\n",
      "secondary_cleaner.state.floatbank5_b_air       0\n",
      "secondary_cleaner.state.floatbank5_b_level     0\n",
      "secondary_cleaner.state.floatbank6_a_air       0\n",
      "secondary_cleaner.state.floatbank6_a_level     0\n",
      "dtype: int64\n"
     ]
    }
   ],
   "source": [
    "print(gold_test.isna().sum())"
   ]
  },
  {
   "cell_type": "code",
   "execution_count": 18,
   "metadata": {},
   "outputs": [
    {
     "name": "stdout",
     "output_type": "stream",
     "text": [
      "date                                          0\n",
      "primary_cleaner.input.sulfate                 0\n",
      "primary_cleaner.input.depressant              0\n",
      "primary_cleaner.input.feed_size               0\n",
      "primary_cleaner.input.xanthate                0\n",
      "primary_cleaner.state.floatbank8_a_air        0\n",
      "primary_cleaner.state.floatbank8_a_level      0\n",
      "primary_cleaner.state.floatbank8_b_air        0\n",
      "primary_cleaner.state.floatbank8_b_level      0\n",
      "primary_cleaner.state.floatbank8_c_air        0\n",
      "primary_cleaner.state.floatbank8_c_level      0\n",
      "primary_cleaner.state.floatbank8_d_air        0\n",
      "primary_cleaner.state.floatbank8_d_level      0\n",
      "rougher.input.feed_ag                         0\n",
      "rougher.input.feed_pb                         0\n",
      "rougher.input.feed_rate                       0\n",
      "rougher.input.feed_size                       0\n",
      "rougher.input.feed_sol                        0\n",
      "rougher.input.feed_au                         0\n",
      "rougher.input.floatbank10_sulfate             0\n",
      "rougher.input.floatbank10_xanthate            0\n",
      "rougher.input.floatbank11_sulfate             0\n",
      "rougher.input.floatbank11_xanthate            0\n",
      "rougher.state.floatbank10_a_air               0\n",
      "rougher.state.floatbank10_a_level             0\n",
      "rougher.state.floatbank10_b_air               0\n",
      "rougher.state.floatbank10_b_level             0\n",
      "rougher.state.floatbank10_c_air               0\n",
      "rougher.state.floatbank10_c_level             0\n",
      "rougher.state.floatbank10_d_air               0\n",
      "rougher.state.floatbank10_d_level             0\n",
      "rougher.state.floatbank10_e_air               0\n",
      "rougher.state.floatbank10_e_level             0\n",
      "rougher.state.floatbank10_f_air               0\n",
      "rougher.state.floatbank10_f_level             0\n",
      "secondary_cleaner.state.floatbank2_a_air      0\n",
      "secondary_cleaner.state.floatbank2_a_level    0\n",
      "secondary_cleaner.state.floatbank2_b_air      0\n",
      "secondary_cleaner.state.floatbank2_b_level    0\n",
      "secondary_cleaner.state.floatbank3_a_air      0\n",
      "secondary_cleaner.state.floatbank3_a_level    0\n",
      "secondary_cleaner.state.floatbank3_b_air      0\n",
      "secondary_cleaner.state.floatbank3_b_level    0\n",
      "secondary_cleaner.state.floatbank4_a_air      0\n",
      "secondary_cleaner.state.floatbank4_a_level    0\n",
      "secondary_cleaner.state.floatbank4_b_air      0\n",
      "secondary_cleaner.state.floatbank4_b_level    0\n",
      "secondary_cleaner.state.floatbank5_a_air      0\n",
      "secondary_cleaner.state.floatbank5_a_level    0\n",
      "secondary_cleaner.state.floatbank5_b_air      0\n",
      "secondary_cleaner.state.floatbank5_b_level    0\n",
      "secondary_cleaner.state.floatbank6_a_air      0\n",
      "secondary_cleaner.state.floatbank6_a_level    0\n",
      "dtype: int64\n"
     ]
    }
   ],
   "source": [
    "gold_test.fillna(method='ffill', inplace=True)\n",
    "print(gold_test.isna().sum())"
   ]
  },
  {
   "cell_type": "code",
   "execution_count": 19,
   "metadata": {},
   "outputs": [
    {
     "name": "stdout",
     "output_type": "stream",
     "text": [
      "date                                            0\n",
      "final.output.concentrate_ag                     1\n",
      "final.output.concentrate_pb                     1\n",
      "final.output.concentrate_sol                  211\n",
      "final.output.concentrate_au                     0\n",
      "                                             ... \n",
      "secondary_cleaner.state.floatbank5_a_level      1\n",
      "secondary_cleaner.state.floatbank5_b_air        1\n",
      "secondary_cleaner.state.floatbank5_b_level      1\n",
      "secondary_cleaner.state.floatbank6_a_air        2\n",
      "secondary_cleaner.state.floatbank6_a_level      1\n",
      "Length: 87, dtype: int64\n"
     ]
    }
   ],
   "source": [
    "print(gold_full.isna().sum())"
   ]
  },
  {
   "cell_type": "code",
   "execution_count": 20,
   "metadata": {},
   "outputs": [
    {
     "name": "stdout",
     "output_type": "stream",
     "text": [
      "date                                          0\n",
      "primary_cleaner.input.sulfate                 0\n",
      "primary_cleaner.input.depressant              0\n",
      "primary_cleaner.input.feed_size               0\n",
      "primary_cleaner.input.xanthate                0\n",
      "primary_cleaner.state.floatbank8_a_air        0\n",
      "primary_cleaner.state.floatbank8_a_level      0\n",
      "primary_cleaner.state.floatbank8_b_air        0\n",
      "primary_cleaner.state.floatbank8_b_level      0\n",
      "primary_cleaner.state.floatbank8_c_air        0\n",
      "primary_cleaner.state.floatbank8_c_level      0\n",
      "primary_cleaner.state.floatbank8_d_air        0\n",
      "primary_cleaner.state.floatbank8_d_level      0\n",
      "rougher.input.feed_ag                         0\n",
      "rougher.input.feed_pb                         0\n",
      "rougher.input.feed_rate                       0\n",
      "rougher.input.feed_size                       0\n",
      "rougher.input.feed_sol                        0\n",
      "rougher.input.feed_au                         0\n",
      "rougher.input.floatbank10_sulfate             0\n",
      "rougher.input.floatbank10_xanthate            0\n",
      "rougher.input.floatbank11_sulfate             0\n",
      "rougher.input.floatbank11_xanthate            0\n",
      "rougher.state.floatbank10_a_air               0\n",
      "rougher.state.floatbank10_a_level             0\n",
      "rougher.state.floatbank10_b_air               0\n",
      "rougher.state.floatbank10_b_level             0\n",
      "rougher.state.floatbank10_c_air               0\n",
      "rougher.state.floatbank10_c_level             0\n",
      "rougher.state.floatbank10_d_air               0\n",
      "rougher.state.floatbank10_d_level             0\n",
      "rougher.state.floatbank10_e_air               0\n",
      "rougher.state.floatbank10_e_level             0\n",
      "rougher.state.floatbank10_f_air               0\n",
      "rougher.state.floatbank10_f_level             0\n",
      "secondary_cleaner.state.floatbank2_a_air      0\n",
      "secondary_cleaner.state.floatbank2_a_level    0\n",
      "secondary_cleaner.state.floatbank2_b_air      0\n",
      "secondary_cleaner.state.floatbank2_b_level    0\n",
      "secondary_cleaner.state.floatbank3_a_air      0\n",
      "secondary_cleaner.state.floatbank3_a_level    0\n",
      "secondary_cleaner.state.floatbank3_b_air      0\n",
      "secondary_cleaner.state.floatbank3_b_level    0\n",
      "secondary_cleaner.state.floatbank4_a_air      0\n",
      "secondary_cleaner.state.floatbank4_a_level    0\n",
      "secondary_cleaner.state.floatbank4_b_air      0\n",
      "secondary_cleaner.state.floatbank4_b_level    0\n",
      "secondary_cleaner.state.floatbank5_a_air      0\n",
      "secondary_cleaner.state.floatbank5_a_level    0\n",
      "secondary_cleaner.state.floatbank5_b_air      0\n",
      "secondary_cleaner.state.floatbank5_b_level    0\n",
      "secondary_cleaner.state.floatbank6_a_air      0\n",
      "secondary_cleaner.state.floatbank6_a_level    0\n",
      "dtype: int64\n"
     ]
    }
   ],
   "source": [
    "gold_full.fillna(method='ffill', inplace=True)\n",
    "print(gold_test.isna().sum())"
   ]
  },
  {
   "cell_type": "code",
   "execution_count": 21,
   "metadata": {},
   "outputs": [
    {
     "data": {
      "text/html": [
       "<div>\n",
       "<style scoped>\n",
       "    .dataframe tbody tr th:only-of-type {\n",
       "        vertical-align: middle;\n",
       "    }\n",
       "\n",
       "    .dataframe tbody tr th {\n",
       "        vertical-align: top;\n",
       "    }\n",
       "\n",
       "    .dataframe thead th {\n",
       "        text-align: right;\n",
       "    }\n",
       "</style>\n",
       "<table border=\"1\" class=\"dataframe\">\n",
       "  <thead>\n",
       "    <tr style=\"text-align: right;\">\n",
       "      <th></th>\n",
       "      <th>primary_cleaner.input.sulfate</th>\n",
       "      <th>primary_cleaner.input.depressant</th>\n",
       "      <th>primary_cleaner.input.feed_size</th>\n",
       "      <th>primary_cleaner.input.xanthate</th>\n",
       "      <th>primary_cleaner.state.floatbank8_a_air</th>\n",
       "      <th>primary_cleaner.state.floatbank8_a_level</th>\n",
       "      <th>primary_cleaner.state.floatbank8_b_air</th>\n",
       "      <th>primary_cleaner.state.floatbank8_b_level</th>\n",
       "      <th>primary_cleaner.state.floatbank8_c_air</th>\n",
       "      <th>primary_cleaner.state.floatbank8_c_level</th>\n",
       "      <th>...</th>\n",
       "      <th>secondary_cleaner.state.floatbank4_a_air</th>\n",
       "      <th>secondary_cleaner.state.floatbank4_a_level</th>\n",
       "      <th>secondary_cleaner.state.floatbank4_b_air</th>\n",
       "      <th>secondary_cleaner.state.floatbank4_b_level</th>\n",
       "      <th>secondary_cleaner.state.floatbank5_a_air</th>\n",
       "      <th>secondary_cleaner.state.floatbank5_a_level</th>\n",
       "      <th>secondary_cleaner.state.floatbank5_b_air</th>\n",
       "      <th>secondary_cleaner.state.floatbank5_b_level</th>\n",
       "      <th>secondary_cleaner.state.floatbank6_a_air</th>\n",
       "      <th>secondary_cleaner.state.floatbank6_a_level</th>\n",
       "    </tr>\n",
       "  </thead>\n",
       "  <tbody>\n",
       "    <tr>\n",
       "      <th>primary_cleaner.input.sulfate</th>\n",
       "      <td>1.000000</td>\n",
       "      <td>0.452138</td>\n",
       "      <td>0.114564</td>\n",
       "      <td>0.496786</td>\n",
       "      <td>0.100810</td>\n",
       "      <td>0.047802</td>\n",
       "      <td>0.074719</td>\n",
       "      <td>0.139819</td>\n",
       "      <td>0.024925</td>\n",
       "      <td>0.028155</td>\n",
       "      <td>...</td>\n",
       "      <td>0.305068</td>\n",
       "      <td>0.116753</td>\n",
       "      <td>0.347817</td>\n",
       "      <td>0.067733</td>\n",
       "      <td>0.093433</td>\n",
       "      <td>0.127277</td>\n",
       "      <td>0.156416</td>\n",
       "      <td>0.072229</td>\n",
       "      <td>-0.134194</td>\n",
       "      <td>0.034655</td>\n",
       "    </tr>\n",
       "    <tr>\n",
       "      <th>primary_cleaner.input.depressant</th>\n",
       "      <td>0.452138</td>\n",
       "      <td>1.000000</td>\n",
       "      <td>0.214707</td>\n",
       "      <td>0.144649</td>\n",
       "      <td>0.128135</td>\n",
       "      <td>0.215392</td>\n",
       "      <td>0.133109</td>\n",
       "      <td>0.200031</td>\n",
       "      <td>0.025947</td>\n",
       "      <td>0.185370</td>\n",
       "      <td>...</td>\n",
       "      <td>0.321422</td>\n",
       "      <td>0.108111</td>\n",
       "      <td>0.234910</td>\n",
       "      <td>-0.087961</td>\n",
       "      <td>-0.092530</td>\n",
       "      <td>-0.001364</td>\n",
       "      <td>0.062158</td>\n",
       "      <td>-0.003504</td>\n",
       "      <td>-0.200422</td>\n",
       "      <td>0.029256</td>\n",
       "    </tr>\n",
       "    <tr>\n",
       "      <th>primary_cleaner.input.feed_size</th>\n",
       "      <td>0.114564</td>\n",
       "      <td>0.214707</td>\n",
       "      <td>1.000000</td>\n",
       "      <td>-0.291292</td>\n",
       "      <td>-0.064628</td>\n",
       "      <td>0.082869</td>\n",
       "      <td>-0.063490</td>\n",
       "      <td>0.071470</td>\n",
       "      <td>-0.091542</td>\n",
       "      <td>0.066384</td>\n",
       "      <td>...</td>\n",
       "      <td>-0.148328</td>\n",
       "      <td>-0.121148</td>\n",
       "      <td>-0.173658</td>\n",
       "      <td>-0.137180</td>\n",
       "      <td>-0.192880</td>\n",
       "      <td>-0.059167</td>\n",
       "      <td>-0.214970</td>\n",
       "      <td>-0.054173</td>\n",
       "      <td>0.026930</td>\n",
       "      <td>-0.083021</td>\n",
       "    </tr>\n",
       "    <tr>\n",
       "      <th>primary_cleaner.input.xanthate</th>\n",
       "      <td>0.496786</td>\n",
       "      <td>0.144649</td>\n",
       "      <td>-0.291292</td>\n",
       "      <td>1.000000</td>\n",
       "      <td>0.208295</td>\n",
       "      <td>-0.056301</td>\n",
       "      <td>0.153433</td>\n",
       "      <td>0.017111</td>\n",
       "      <td>0.045527</td>\n",
       "      <td>-0.075309</td>\n",
       "      <td>...</td>\n",
       "      <td>0.313515</td>\n",
       "      <td>0.131815</td>\n",
       "      <td>0.361214</td>\n",
       "      <td>0.122248</td>\n",
       "      <td>0.059953</td>\n",
       "      <td>0.128417</td>\n",
       "      <td>0.078242</td>\n",
       "      <td>0.096969</td>\n",
       "      <td>-0.217392</td>\n",
       "      <td>0.081986</td>\n",
       "    </tr>\n",
       "    <tr>\n",
       "      <th>primary_cleaner.state.floatbank8_a_air</th>\n",
       "      <td>0.100810</td>\n",
       "      <td>0.128135</td>\n",
       "      <td>-0.064628</td>\n",
       "      <td>0.208295</td>\n",
       "      <td>1.000000</td>\n",
       "      <td>0.121274</td>\n",
       "      <td>0.968679</td>\n",
       "      <td>-0.018713</td>\n",
       "      <td>0.814992</td>\n",
       "      <td>0.114058</td>\n",
       "      <td>...</td>\n",
       "      <td>0.469180</td>\n",
       "      <td>0.005962</td>\n",
       "      <td>0.476742</td>\n",
       "      <td>-0.058593</td>\n",
       "      <td>0.408050</td>\n",
       "      <td>0.271547</td>\n",
       "      <td>0.465492</td>\n",
       "      <td>0.161509</td>\n",
       "      <td>0.345231</td>\n",
       "      <td>0.172154</td>\n",
       "    </tr>\n",
       "    <tr>\n",
       "      <th>primary_cleaner.state.floatbank8_a_level</th>\n",
       "      <td>0.047802</td>\n",
       "      <td>0.215392</td>\n",
       "      <td>0.082869</td>\n",
       "      <td>-0.056301</td>\n",
       "      <td>0.121274</td>\n",
       "      <td>1.000000</td>\n",
       "      <td>0.101975</td>\n",
       "      <td>0.417515</td>\n",
       "      <td>-0.018378</td>\n",
       "      <td>0.784061</td>\n",
       "      <td>...</td>\n",
       "      <td>0.171716</td>\n",
       "      <td>0.096500</td>\n",
       "      <td>0.084418</td>\n",
       "      <td>-0.005819</td>\n",
       "      <td>-0.036132</td>\n",
       "      <td>0.164220</td>\n",
       "      <td>-0.012665</td>\n",
       "      <td>0.091263</td>\n",
       "      <td>-0.107710</td>\n",
       "      <td>0.076271</td>\n",
       "    </tr>\n",
       "    <tr>\n",
       "      <th>primary_cleaner.state.floatbank8_b_air</th>\n",
       "      <td>0.074719</td>\n",
       "      <td>0.133109</td>\n",
       "      <td>-0.063490</td>\n",
       "      <td>0.153433</td>\n",
       "      <td>0.968679</td>\n",
       "      <td>0.101975</td>\n",
       "      <td>1.000000</td>\n",
       "      <td>0.010220</td>\n",
       "      <td>0.862946</td>\n",
       "      <td>0.101127</td>\n",
       "      <td>...</td>\n",
       "      <td>0.483741</td>\n",
       "      <td>0.023801</td>\n",
       "      <td>0.487327</td>\n",
       "      <td>-0.080058</td>\n",
       "      <td>0.415343</td>\n",
       "      <td>0.260220</td>\n",
       "      <td>0.499829</td>\n",
       "      <td>0.155978</td>\n",
       "      <td>0.389594</td>\n",
       "      <td>0.187429</td>\n",
       "    </tr>\n",
       "    <tr>\n",
       "      <th>primary_cleaner.state.floatbank8_b_level</th>\n",
       "      <td>0.139819</td>\n",
       "      <td>0.200031</td>\n",
       "      <td>0.071470</td>\n",
       "      <td>0.017111</td>\n",
       "      <td>-0.018713</td>\n",
       "      <td>0.417515</td>\n",
       "      <td>0.010220</td>\n",
       "      <td>1.000000</td>\n",
       "      <td>-0.029228</td>\n",
       "      <td>0.406721</td>\n",
       "      <td>...</td>\n",
       "      <td>0.078411</td>\n",
       "      <td>0.216342</td>\n",
       "      <td>0.054902</td>\n",
       "      <td>-0.038440</td>\n",
       "      <td>-0.009671</td>\n",
       "      <td>0.029409</td>\n",
       "      <td>0.012115</td>\n",
       "      <td>0.004864</td>\n",
       "      <td>-0.006694</td>\n",
       "      <td>0.012904</td>\n",
       "    </tr>\n",
       "    <tr>\n",
       "      <th>primary_cleaner.state.floatbank8_c_air</th>\n",
       "      <td>0.024925</td>\n",
       "      <td>0.025947</td>\n",
       "      <td>-0.091542</td>\n",
       "      <td>0.045527</td>\n",
       "      <td>0.814992</td>\n",
       "      <td>-0.018378</td>\n",
       "      <td>0.862946</td>\n",
       "      <td>-0.029228</td>\n",
       "      <td>1.000000</td>\n",
       "      <td>0.003322</td>\n",
       "      <td>...</td>\n",
       "      <td>0.366373</td>\n",
       "      <td>0.047373</td>\n",
       "      <td>0.396029</td>\n",
       "      <td>-0.031081</td>\n",
       "      <td>0.400765</td>\n",
       "      <td>0.239333</td>\n",
       "      <td>0.500353</td>\n",
       "      <td>0.117465</td>\n",
       "      <td>0.490672</td>\n",
       "      <td>0.169634</td>\n",
       "    </tr>\n",
       "    <tr>\n",
       "      <th>primary_cleaner.state.floatbank8_c_level</th>\n",
       "      <td>0.028155</td>\n",
       "      <td>0.185370</td>\n",
       "      <td>0.066384</td>\n",
       "      <td>-0.075309</td>\n",
       "      <td>0.114058</td>\n",
       "      <td>0.784061</td>\n",
       "      <td>0.101127</td>\n",
       "      <td>0.406721</td>\n",
       "      <td>0.003322</td>\n",
       "      <td>1.000000</td>\n",
       "      <td>...</td>\n",
       "      <td>0.151945</td>\n",
       "      <td>0.093293</td>\n",
       "      <td>0.071559</td>\n",
       "      <td>-0.013814</td>\n",
       "      <td>-0.018878</td>\n",
       "      <td>0.143313</td>\n",
       "      <td>-0.004169</td>\n",
       "      <td>0.061153</td>\n",
       "      <td>-0.087866</td>\n",
       "      <td>0.067955</td>\n",
       "    </tr>\n",
       "    <tr>\n",
       "      <th>primary_cleaner.state.floatbank8_d_air</th>\n",
       "      <td>0.093636</td>\n",
       "      <td>0.126572</td>\n",
       "      <td>-0.074156</td>\n",
       "      <td>0.174404</td>\n",
       "      <td>0.959166</td>\n",
       "      <td>0.110760</td>\n",
       "      <td>0.974342</td>\n",
       "      <td>0.015972</td>\n",
       "      <td>0.848010</td>\n",
       "      <td>0.113492</td>\n",
       "      <td>...</td>\n",
       "      <td>0.485859</td>\n",
       "      <td>0.022615</td>\n",
       "      <td>0.491643</td>\n",
       "      <td>-0.072571</td>\n",
       "      <td>0.412552</td>\n",
       "      <td>0.259882</td>\n",
       "      <td>0.492616</td>\n",
       "      <td>0.158148</td>\n",
       "      <td>0.378070</td>\n",
       "      <td>0.184031</td>\n",
       "    </tr>\n",
       "    <tr>\n",
       "      <th>primary_cleaner.state.floatbank8_d_level</th>\n",
       "      <td>-0.019008</td>\n",
       "      <td>0.073040</td>\n",
       "      <td>0.065808</td>\n",
       "      <td>-0.141550</td>\n",
       "      <td>0.061389</td>\n",
       "      <td>0.406960</td>\n",
       "      <td>0.059940</td>\n",
       "      <td>0.233257</td>\n",
       "      <td>0.013847</td>\n",
       "      <td>0.486463</td>\n",
       "      <td>...</td>\n",
       "      <td>0.053297</td>\n",
       "      <td>0.043851</td>\n",
       "      <td>0.001856</td>\n",
       "      <td>-0.017416</td>\n",
       "      <td>0.008748</td>\n",
       "      <td>0.078442</td>\n",
       "      <td>0.006287</td>\n",
       "      <td>0.006570</td>\n",
       "      <td>-0.036983</td>\n",
       "      <td>0.029999</td>\n",
       "    </tr>\n",
       "    <tr>\n",
       "      <th>rougher.input.feed_ag</th>\n",
       "      <td>0.359236</td>\n",
       "      <td>0.497323</td>\n",
       "      <td>0.338795</td>\n",
       "      <td>0.049574</td>\n",
       "      <td>0.252818</td>\n",
       "      <td>0.197111</td>\n",
       "      <td>0.250553</td>\n",
       "      <td>0.128053</td>\n",
       "      <td>0.149500</td>\n",
       "      <td>0.162198</td>\n",
       "      <td>...</td>\n",
       "      <td>0.167571</td>\n",
       "      <td>-0.069478</td>\n",
       "      <td>0.150561</td>\n",
       "      <td>-0.291577</td>\n",
       "      <td>-0.033441</td>\n",
       "      <td>-0.011144</td>\n",
       "      <td>-0.042389</td>\n",
       "      <td>0.039210</td>\n",
       "      <td>0.212922</td>\n",
       "      <td>-0.001060</td>\n",
       "    </tr>\n",
       "    <tr>\n",
       "      <th>rougher.input.feed_pb</th>\n",
       "      <td>0.428248</td>\n",
       "      <td>0.466184</td>\n",
       "      <td>0.000398</td>\n",
       "      <td>0.241885</td>\n",
       "      <td>0.064620</td>\n",
       "      <td>0.231743</td>\n",
       "      <td>0.054633</td>\n",
       "      <td>0.223188</td>\n",
       "      <td>-0.054736</td>\n",
       "      <td>0.176345</td>\n",
       "      <td>...</td>\n",
       "      <td>0.114111</td>\n",
       "      <td>-0.004391</td>\n",
       "      <td>0.138647</td>\n",
       "      <td>-0.206534</td>\n",
       "      <td>-0.068303</td>\n",
       "      <td>0.052358</td>\n",
       "      <td>-0.029590</td>\n",
       "      <td>0.077829</td>\n",
       "      <td>-0.125363</td>\n",
       "      <td>0.067297</td>\n",
       "    </tr>\n",
       "    <tr>\n",
       "      <th>rougher.input.feed_rate</th>\n",
       "      <td>0.461740</td>\n",
       "      <td>0.133046</td>\n",
       "      <td>0.019618</td>\n",
       "      <td>0.464580</td>\n",
       "      <td>-0.010564</td>\n",
       "      <td>-0.009139</td>\n",
       "      <td>-0.044562</td>\n",
       "      <td>0.031262</td>\n",
       "      <td>-0.101521</td>\n",
       "      <td>-0.006190</td>\n",
       "      <td>...</td>\n",
       "      <td>0.169978</td>\n",
       "      <td>0.123496</td>\n",
       "      <td>0.128504</td>\n",
       "      <td>0.357253</td>\n",
       "      <td>-0.137284</td>\n",
       "      <td>0.089104</td>\n",
       "      <td>-0.073595</td>\n",
       "      <td>0.012324</td>\n",
       "      <td>-0.413417</td>\n",
       "      <td>0.022949</td>\n",
       "    </tr>\n",
       "    <tr>\n",
       "      <th>rougher.input.feed_size</th>\n",
       "      <td>-0.010257</td>\n",
       "      <td>0.005012</td>\n",
       "      <td>-0.087339</td>\n",
       "      <td>0.195480</td>\n",
       "      <td>-0.073142</td>\n",
       "      <td>0.004788</td>\n",
       "      <td>-0.098048</td>\n",
       "      <td>-0.043022</td>\n",
       "      <td>-0.162543</td>\n",
       "      <td>0.002130</td>\n",
       "      <td>...</td>\n",
       "      <td>0.127876</td>\n",
       "      <td>0.062334</td>\n",
       "      <td>0.037296</td>\n",
       "      <td>0.324755</td>\n",
       "      <td>-0.117026</td>\n",
       "      <td>0.042609</td>\n",
       "      <td>-0.104550</td>\n",
       "      <td>-0.004300</td>\n",
       "      <td>-0.355951</td>\n",
       "      <td>0.006842</td>\n",
       "    </tr>\n",
       "    <tr>\n",
       "      <th>rougher.input.feed_sol</th>\n",
       "      <td>0.423813</td>\n",
       "      <td>0.171353</td>\n",
       "      <td>0.057400</td>\n",
       "      <td>0.372327</td>\n",
       "      <td>-0.060574</td>\n",
       "      <td>0.055251</td>\n",
       "      <td>-0.088980</td>\n",
       "      <td>0.049419</td>\n",
       "      <td>-0.157935</td>\n",
       "      <td>0.040593</td>\n",
       "      <td>...</td>\n",
       "      <td>0.146671</td>\n",
       "      <td>0.065137</td>\n",
       "      <td>0.084524</td>\n",
       "      <td>0.407716</td>\n",
       "      <td>-0.226731</td>\n",
       "      <td>0.089657</td>\n",
       "      <td>-0.172539</td>\n",
       "      <td>0.009571</td>\n",
       "      <td>-0.483905</td>\n",
       "      <td>0.038228</td>\n",
       "    </tr>\n",
       "    <tr>\n",
       "      <th>rougher.input.feed_au</th>\n",
       "      <td>0.436207</td>\n",
       "      <td>0.460382</td>\n",
       "      <td>0.238692</td>\n",
       "      <td>0.095280</td>\n",
       "      <td>0.218384</td>\n",
       "      <td>0.184980</td>\n",
       "      <td>0.243540</td>\n",
       "      <td>0.178838</td>\n",
       "      <td>0.168597</td>\n",
       "      <td>0.143132</td>\n",
       "      <td>...</td>\n",
       "      <td>0.165834</td>\n",
       "      <td>-0.039397</td>\n",
       "      <td>0.160088</td>\n",
       "      <td>-0.266889</td>\n",
       "      <td>-0.037379</td>\n",
       "      <td>0.016553</td>\n",
       "      <td>-0.015953</td>\n",
       "      <td>0.074743</td>\n",
       "      <td>0.191477</td>\n",
       "      <td>0.036998</td>\n",
       "    </tr>\n",
       "    <tr>\n",
       "      <th>rougher.input.floatbank10_sulfate</th>\n",
       "      <td>0.616477</td>\n",
       "      <td>0.231353</td>\n",
       "      <td>-0.186211</td>\n",
       "      <td>0.581719</td>\n",
       "      <td>0.041911</td>\n",
       "      <td>-0.058344</td>\n",
       "      <td>0.035523</td>\n",
       "      <td>0.023787</td>\n",
       "      <td>-0.016792</td>\n",
       "      <td>-0.069795</td>\n",
       "      <td>...</td>\n",
       "      <td>0.306822</td>\n",
       "      <td>0.163263</td>\n",
       "      <td>0.330181</td>\n",
       "      <td>0.298407</td>\n",
       "      <td>0.041357</td>\n",
       "      <td>0.084638</td>\n",
       "      <td>0.144253</td>\n",
       "      <td>0.060772</td>\n",
       "      <td>-0.312294</td>\n",
       "      <td>0.067931</td>\n",
       "    </tr>\n",
       "    <tr>\n",
       "      <th>rougher.input.floatbank10_xanthate</th>\n",
       "      <td>0.550640</td>\n",
       "      <td>0.339256</td>\n",
       "      <td>0.224360</td>\n",
       "      <td>0.350601</td>\n",
       "      <td>0.187693</td>\n",
       "      <td>0.110566</td>\n",
       "      <td>0.172360</td>\n",
       "      <td>0.067695</td>\n",
       "      <td>0.135009</td>\n",
       "      <td>0.082145</td>\n",
       "      <td>...</td>\n",
       "      <td>0.240843</td>\n",
       "      <td>0.070772</td>\n",
       "      <td>0.187300</td>\n",
       "      <td>0.163137</td>\n",
       "      <td>-0.141634</td>\n",
       "      <td>0.130590</td>\n",
       "      <td>-0.043725</td>\n",
       "      <td>0.081810</td>\n",
       "      <td>-0.112190</td>\n",
       "      <td>0.112981</td>\n",
       "    </tr>\n",
       "    <tr>\n",
       "      <th>rougher.input.floatbank11_sulfate</th>\n",
       "      <td>0.585522</td>\n",
       "      <td>0.210909</td>\n",
       "      <td>-0.231701</td>\n",
       "      <td>0.594250</td>\n",
       "      <td>0.046837</td>\n",
       "      <td>-0.079213</td>\n",
       "      <td>0.047361</td>\n",
       "      <td>0.045953</td>\n",
       "      <td>0.016075</td>\n",
       "      <td>-0.083834</td>\n",
       "      <td>...</td>\n",
       "      <td>0.277188</td>\n",
       "      <td>0.191199</td>\n",
       "      <td>0.306050</td>\n",
       "      <td>0.321607</td>\n",
       "      <td>0.069535</td>\n",
       "      <td>0.111017</td>\n",
       "      <td>0.165928</td>\n",
       "      <td>0.069145</td>\n",
       "      <td>-0.315921</td>\n",
       "      <td>0.080315</td>\n",
       "    </tr>\n",
       "    <tr>\n",
       "      <th>rougher.input.floatbank11_xanthate</th>\n",
       "      <td>0.539113</td>\n",
       "      <td>0.345551</td>\n",
       "      <td>0.200080</td>\n",
       "      <td>0.378950</td>\n",
       "      <td>0.199009</td>\n",
       "      <td>0.090125</td>\n",
       "      <td>0.194925</td>\n",
       "      <td>0.102405</td>\n",
       "      <td>0.181177</td>\n",
       "      <td>0.067524</td>\n",
       "      <td>...</td>\n",
       "      <td>0.214027</td>\n",
       "      <td>0.099220</td>\n",
       "      <td>0.160767</td>\n",
       "      <td>0.203885</td>\n",
       "      <td>-0.136782</td>\n",
       "      <td>0.153905</td>\n",
       "      <td>-0.033273</td>\n",
       "      <td>0.088701</td>\n",
       "      <td>-0.126049</td>\n",
       "      <td>0.133275</td>\n",
       "    </tr>\n",
       "    <tr>\n",
       "      <th>rougher.state.floatbank10_a_air</th>\n",
       "      <td>0.234925</td>\n",
       "      <td>0.408884</td>\n",
       "      <td>0.023678</td>\n",
       "      <td>0.402104</td>\n",
       "      <td>0.215473</td>\n",
       "      <td>0.387206</td>\n",
       "      <td>0.169211</td>\n",
       "      <td>0.207161</td>\n",
       "      <td>-0.087974</td>\n",
       "      <td>0.333690</td>\n",
       "      <td>...</td>\n",
       "      <td>0.296594</td>\n",
       "      <td>0.087591</td>\n",
       "      <td>0.239912</td>\n",
       "      <td>-0.123604</td>\n",
       "      <td>-0.043592</td>\n",
       "      <td>0.105358</td>\n",
       "      <td>-0.078618</td>\n",
       "      <td>0.072453</td>\n",
       "      <td>-0.334347</td>\n",
       "      <td>0.046717</td>\n",
       "    </tr>\n",
       "    <tr>\n",
       "      <th>rougher.state.floatbank10_a_level</th>\n",
       "      <td>0.222601</td>\n",
       "      <td>0.130801</td>\n",
       "      <td>-0.236632</td>\n",
       "      <td>0.424813</td>\n",
       "      <td>-0.033903</td>\n",
       "      <td>0.159607</td>\n",
       "      <td>-0.073373</td>\n",
       "      <td>0.076225</td>\n",
       "      <td>-0.222135</td>\n",
       "      <td>0.131849</td>\n",
       "      <td>...</td>\n",
       "      <td>0.207514</td>\n",
       "      <td>0.131345</td>\n",
       "      <td>0.116369</td>\n",
       "      <td>0.261028</td>\n",
       "      <td>-0.130661</td>\n",
       "      <td>0.119156</td>\n",
       "      <td>0.023681</td>\n",
       "      <td>0.012086</td>\n",
       "      <td>-0.561842</td>\n",
       "      <td>0.087695</td>\n",
       "    </tr>\n",
       "    <tr>\n",
       "      <th>rougher.state.floatbank10_b_air</th>\n",
       "      <td>-0.229253</td>\n",
       "      <td>-0.356190</td>\n",
       "      <td>0.044605</td>\n",
       "      <td>-0.385724</td>\n",
       "      <td>0.199338</td>\n",
       "      <td>-0.076365</td>\n",
       "      <td>0.230489</td>\n",
       "      <td>-0.014215</td>\n",
       "      <td>0.300457</td>\n",
       "      <td>-0.039398</td>\n",
       "      <td>...</td>\n",
       "      <td>-0.171947</td>\n",
       "      <td>0.009334</td>\n",
       "      <td>-0.099376</td>\n",
       "      <td>-0.213919</td>\n",
       "      <td>0.351196</td>\n",
       "      <td>0.116437</td>\n",
       "      <td>0.291708</td>\n",
       "      <td>0.078298</td>\n",
       "      <td>0.533462</td>\n",
       "      <td>0.022975</td>\n",
       "    </tr>\n",
       "    <tr>\n",
       "      <th>rougher.state.floatbank10_b_level</th>\n",
       "      <td>-0.047140</td>\n",
       "      <td>-0.114405</td>\n",
       "      <td>0.051614</td>\n",
       "      <td>-0.341158</td>\n",
       "      <td>0.291111</td>\n",
       "      <td>-0.037724</td>\n",
       "      <td>0.371841</td>\n",
       "      <td>0.020230</td>\n",
       "      <td>0.451746</td>\n",
       "      <td>-0.015591</td>\n",
       "      <td>...</td>\n",
       "      <td>0.067727</td>\n",
       "      <td>0.010268</td>\n",
       "      <td>0.105702</td>\n",
       "      <td>-0.213382</td>\n",
       "      <td>0.177808</td>\n",
       "      <td>0.089507</td>\n",
       "      <td>0.345947</td>\n",
       "      <td>0.058823</td>\n",
       "      <td>0.455330</td>\n",
       "      <td>0.034661</td>\n",
       "    </tr>\n",
       "    <tr>\n",
       "      <th>rougher.state.floatbank10_c_air</th>\n",
       "      <td>-0.245993</td>\n",
       "      <td>-0.367074</td>\n",
       "      <td>0.064617</td>\n",
       "      <td>-0.404612</td>\n",
       "      <td>0.216971</td>\n",
       "      <td>-0.129885</td>\n",
       "      <td>0.259523</td>\n",
       "      <td>-0.052763</td>\n",
       "      <td>0.360889</td>\n",
       "      <td>-0.089468</td>\n",
       "      <td>...</td>\n",
       "      <td>-0.168834</td>\n",
       "      <td>-0.010049</td>\n",
       "      <td>-0.100264</td>\n",
       "      <td>-0.229330</td>\n",
       "      <td>0.334076</td>\n",
       "      <td>0.092861</td>\n",
       "      <td>0.309043</td>\n",
       "      <td>0.070987</td>\n",
       "      <td>0.621525</td>\n",
       "      <td>0.018168</td>\n",
       "    </tr>\n",
       "    <tr>\n",
       "      <th>rougher.state.floatbank10_c_level</th>\n",
       "      <td>-0.052403</td>\n",
       "      <td>-0.105012</td>\n",
       "      <td>0.049608</td>\n",
       "      <td>-0.345842</td>\n",
       "      <td>0.285786</td>\n",
       "      <td>-0.043906</td>\n",
       "      <td>0.368792</td>\n",
       "      <td>0.007639</td>\n",
       "      <td>0.453606</td>\n",
       "      <td>-0.020945</td>\n",
       "      <td>...</td>\n",
       "      <td>0.068885</td>\n",
       "      <td>0.011038</td>\n",
       "      <td>0.104035</td>\n",
       "      <td>-0.217125</td>\n",
       "      <td>0.172000</td>\n",
       "      <td>0.078225</td>\n",
       "      <td>0.353681</td>\n",
       "      <td>0.054056</td>\n",
       "      <td>0.455477</td>\n",
       "      <td>0.031861</td>\n",
       "    </tr>\n",
       "    <tr>\n",
       "      <th>rougher.state.floatbank10_d_air</th>\n",
       "      <td>-0.246659</td>\n",
       "      <td>-0.348432</td>\n",
       "      <td>-0.009526</td>\n",
       "      <td>-0.392190</td>\n",
       "      <td>0.160151</td>\n",
       "      <td>-0.134939</td>\n",
       "      <td>0.203227</td>\n",
       "      <td>-0.015855</td>\n",
       "      <td>0.310832</td>\n",
       "      <td>-0.089773</td>\n",
       "      <td>...</td>\n",
       "      <td>-0.173221</td>\n",
       "      <td>0.025358</td>\n",
       "      <td>-0.084851</td>\n",
       "      <td>-0.262495</td>\n",
       "      <td>0.368140</td>\n",
       "      <td>0.060210</td>\n",
       "      <td>0.340406</td>\n",
       "      <td>0.045190</td>\n",
       "      <td>0.598880</td>\n",
       "      <td>0.008341</td>\n",
       "    </tr>\n",
       "    <tr>\n",
       "      <th>rougher.state.floatbank10_d_level</th>\n",
       "      <td>-0.014574</td>\n",
       "      <td>-0.075352</td>\n",
       "      <td>0.073623</td>\n",
       "      <td>-0.325264</td>\n",
       "      <td>0.245276</td>\n",
       "      <td>-0.071941</td>\n",
       "      <td>0.327134</td>\n",
       "      <td>0.005728</td>\n",
       "      <td>0.406637</td>\n",
       "      <td>-0.049447</td>\n",
       "      <td>...</td>\n",
       "      <td>0.072947</td>\n",
       "      <td>-0.013329</td>\n",
       "      <td>0.109479</td>\n",
       "      <td>-0.220828</td>\n",
       "      <td>0.148741</td>\n",
       "      <td>0.048372</td>\n",
       "      <td>0.332464</td>\n",
       "      <td>0.039969</td>\n",
       "      <td>0.430585</td>\n",
       "      <td>0.021169</td>\n",
       "    </tr>\n",
       "    <tr>\n",
       "      <th>rougher.state.floatbank10_e_air</th>\n",
       "      <td>-0.233454</td>\n",
       "      <td>-0.362110</td>\n",
       "      <td>-0.012558</td>\n",
       "      <td>-0.320581</td>\n",
       "      <td>0.347687</td>\n",
       "      <td>-0.098849</td>\n",
       "      <td>0.402047</td>\n",
       "      <td>-0.052321</td>\n",
       "      <td>0.452348</td>\n",
       "      <td>-0.067798</td>\n",
       "      <td>...</td>\n",
       "      <td>0.018780</td>\n",
       "      <td>-0.034684</td>\n",
       "      <td>0.067346</td>\n",
       "      <td>-0.169546</td>\n",
       "      <td>0.395027</td>\n",
       "      <td>0.087056</td>\n",
       "      <td>0.414665</td>\n",
       "      <td>0.084650</td>\n",
       "      <td>0.578157</td>\n",
       "      <td>0.040936</td>\n",
       "    </tr>\n",
       "    <tr>\n",
       "      <th>rougher.state.floatbank10_e_level</th>\n",
       "      <td>-0.119842</td>\n",
       "      <td>-0.127322</td>\n",
       "      <td>0.006890</td>\n",
       "      <td>-0.362139</td>\n",
       "      <td>0.280493</td>\n",
       "      <td>-0.072159</td>\n",
       "      <td>0.391511</td>\n",
       "      <td>0.002047</td>\n",
       "      <td>0.463951</td>\n",
       "      <td>-0.048384</td>\n",
       "      <td>...</td>\n",
       "      <td>0.150501</td>\n",
       "      <td>0.006505</td>\n",
       "      <td>0.168247</td>\n",
       "      <td>-0.214266</td>\n",
       "      <td>0.264139</td>\n",
       "      <td>0.050704</td>\n",
       "      <td>0.407902</td>\n",
       "      <td>0.048908</td>\n",
       "      <td>0.484825</td>\n",
       "      <td>0.056080</td>\n",
       "    </tr>\n",
       "    <tr>\n",
       "      <th>rougher.state.floatbank10_f_air</th>\n",
       "      <td>-0.248709</td>\n",
       "      <td>-0.377406</td>\n",
       "      <td>-0.129796</td>\n",
       "      <td>-0.289656</td>\n",
       "      <td>0.280753</td>\n",
       "      <td>-0.050940</td>\n",
       "      <td>0.344900</td>\n",
       "      <td>-0.007648</td>\n",
       "      <td>0.354735</td>\n",
       "      <td>-0.022972</td>\n",
       "      <td>...</td>\n",
       "      <td>0.043791</td>\n",
       "      <td>0.025162</td>\n",
       "      <td>0.084106</td>\n",
       "      <td>-0.112751</td>\n",
       "      <td>0.409527</td>\n",
       "      <td>0.085782</td>\n",
       "      <td>0.415871</td>\n",
       "      <td>0.074507</td>\n",
       "      <td>0.434982</td>\n",
       "      <td>0.053557</td>\n",
       "    </tr>\n",
       "    <tr>\n",
       "      <th>rougher.state.floatbank10_f_level</th>\n",
       "      <td>-0.063864</td>\n",
       "      <td>-0.112718</td>\n",
       "      <td>0.036627</td>\n",
       "      <td>-0.333668</td>\n",
       "      <td>0.289477</td>\n",
       "      <td>-0.042153</td>\n",
       "      <td>0.394670</td>\n",
       "      <td>0.013656</td>\n",
       "      <td>0.471963</td>\n",
       "      <td>-0.019199</td>\n",
       "      <td>...</td>\n",
       "      <td>0.168028</td>\n",
       "      <td>0.024309</td>\n",
       "      <td>0.188557</td>\n",
       "      <td>-0.210791</td>\n",
       "      <td>0.261930</td>\n",
       "      <td>0.066304</td>\n",
       "      <td>0.392998</td>\n",
       "      <td>0.056624</td>\n",
       "      <td>0.483501</td>\n",
       "      <td>0.064456</td>\n",
       "    </tr>\n",
       "    <tr>\n",
       "      <th>secondary_cleaner.state.floatbank2_a_air</th>\n",
       "      <td>0.051477</td>\n",
       "      <td>0.077763</td>\n",
       "      <td>-0.128544</td>\n",
       "      <td>-0.038199</td>\n",
       "      <td>0.258797</td>\n",
       "      <td>0.108288</td>\n",
       "      <td>0.326207</td>\n",
       "      <td>0.064035</td>\n",
       "      <td>0.277849</td>\n",
       "      <td>0.107413</td>\n",
       "      <td>...</td>\n",
       "      <td>0.394394</td>\n",
       "      <td>0.181484</td>\n",
       "      <td>0.375035</td>\n",
       "      <td>-0.007873</td>\n",
       "      <td>0.364503</td>\n",
       "      <td>0.161537</td>\n",
       "      <td>0.482914</td>\n",
       "      <td>0.088558</td>\n",
       "      <td>0.146562</td>\n",
       "      <td>0.127210</td>\n",
       "    </tr>\n",
       "    <tr>\n",
       "      <th>secondary_cleaner.state.floatbank2_a_level</th>\n",
       "      <td>-0.037756</td>\n",
       "      <td>-0.089231</td>\n",
       "      <td>0.044605</td>\n",
       "      <td>-0.160438</td>\n",
       "      <td>-0.059849</td>\n",
       "      <td>0.083484</td>\n",
       "      <td>-0.052484</td>\n",
       "      <td>0.006019</td>\n",
       "      <td>0.022228</td>\n",
       "      <td>0.075413</td>\n",
       "      <td>...</td>\n",
       "      <td>-0.076507</td>\n",
       "      <td>0.029511</td>\n",
       "      <td>-0.097089</td>\n",
       "      <td>-0.016680</td>\n",
       "      <td>-0.013389</td>\n",
       "      <td>0.077666</td>\n",
       "      <td>0.001987</td>\n",
       "      <td>0.010127</td>\n",
       "      <td>0.048933</td>\n",
       "      <td>0.025503</td>\n",
       "    </tr>\n",
       "    <tr>\n",
       "      <th>secondary_cleaner.state.floatbank2_b_air</th>\n",
       "      <td>0.257649</td>\n",
       "      <td>0.231374</td>\n",
       "      <td>-0.182687</td>\n",
       "      <td>0.221401</td>\n",
       "      <td>0.422603</td>\n",
       "      <td>0.163920</td>\n",
       "      <td>0.458442</td>\n",
       "      <td>0.104585</td>\n",
       "      <td>0.363017</td>\n",
       "      <td>0.150466</td>\n",
       "      <td>...</td>\n",
       "      <td>0.637334</td>\n",
       "      <td>0.182724</td>\n",
       "      <td>0.660157</td>\n",
       "      <td>0.000320</td>\n",
       "      <td>0.511434</td>\n",
       "      <td>0.227661</td>\n",
       "      <td>0.667856</td>\n",
       "      <td>0.129761</td>\n",
       "      <td>0.104266</td>\n",
       "      <td>0.157649</td>\n",
       "    </tr>\n",
       "    <tr>\n",
       "      <th>secondary_cleaner.state.floatbank2_b_level</th>\n",
       "      <td>-0.010734</td>\n",
       "      <td>-0.102904</td>\n",
       "      <td>0.005911</td>\n",
       "      <td>-0.111152</td>\n",
       "      <td>-0.084396</td>\n",
       "      <td>0.080897</td>\n",
       "      <td>-0.079535</td>\n",
       "      <td>0.009400</td>\n",
       "      <td>-0.014146</td>\n",
       "      <td>0.066475</td>\n",
       "      <td>...</td>\n",
       "      <td>-0.062850</td>\n",
       "      <td>0.030289</td>\n",
       "      <td>-0.077545</td>\n",
       "      <td>0.013354</td>\n",
       "      <td>-0.020293</td>\n",
       "      <td>0.078675</td>\n",
       "      <td>-0.006990</td>\n",
       "      <td>0.014914</td>\n",
       "      <td>0.010788</td>\n",
       "      <td>0.023177</td>\n",
       "    </tr>\n",
       "    <tr>\n",
       "      <th>secondary_cleaner.state.floatbank3_a_air</th>\n",
       "      <td>0.144912</td>\n",
       "      <td>0.280420</td>\n",
       "      <td>0.024735</td>\n",
       "      <td>-0.041667</td>\n",
       "      <td>0.369040</td>\n",
       "      <td>0.083934</td>\n",
       "      <td>0.415503</td>\n",
       "      <td>0.086051</td>\n",
       "      <td>0.412137</td>\n",
       "      <td>0.074927</td>\n",
       "      <td>...</td>\n",
       "      <td>0.413034</td>\n",
       "      <td>0.051117</td>\n",
       "      <td>0.434205</td>\n",
       "      <td>-0.059103</td>\n",
       "      <td>0.313944</td>\n",
       "      <td>0.185076</td>\n",
       "      <td>0.526658</td>\n",
       "      <td>0.097897</td>\n",
       "      <td>0.273846</td>\n",
       "      <td>0.123084</td>\n",
       "    </tr>\n",
       "    <tr>\n",
       "      <th>secondary_cleaner.state.floatbank3_a_level</th>\n",
       "      <td>0.004598</td>\n",
       "      <td>0.119902</td>\n",
       "      <td>0.032868</td>\n",
       "      <td>-0.033249</td>\n",
       "      <td>-0.040073</td>\n",
       "      <td>0.069909</td>\n",
       "      <td>-0.023823</td>\n",
       "      <td>0.094441</td>\n",
       "      <td>-0.030285</td>\n",
       "      <td>0.065685</td>\n",
       "      <td>...</td>\n",
       "      <td>-0.067846</td>\n",
       "      <td>0.007752</td>\n",
       "      <td>-0.088951</td>\n",
       "      <td>0.018798</td>\n",
       "      <td>-0.197216</td>\n",
       "      <td>0.045148</td>\n",
       "      <td>-0.088070</td>\n",
       "      <td>-0.024978</td>\n",
       "      <td>-0.127807</td>\n",
       "      <td>0.010255</td>\n",
       "    </tr>\n",
       "    <tr>\n",
       "      <th>secondary_cleaner.state.floatbank3_b_air</th>\n",
       "      <td>0.147967</td>\n",
       "      <td>0.253658</td>\n",
       "      <td>-0.017527</td>\n",
       "      <td>-0.050318</td>\n",
       "      <td>0.457278</td>\n",
       "      <td>0.057372</td>\n",
       "      <td>0.518832</td>\n",
       "      <td>0.081030</td>\n",
       "      <td>0.493835</td>\n",
       "      <td>0.058887</td>\n",
       "      <td>...</td>\n",
       "      <td>0.480531</td>\n",
       "      <td>0.073603</td>\n",
       "      <td>0.534658</td>\n",
       "      <td>-0.188031</td>\n",
       "      <td>0.462017</td>\n",
       "      <td>0.174008</td>\n",
       "      <td>0.641391</td>\n",
       "      <td>0.089819</td>\n",
       "      <td>0.395344</td>\n",
       "      <td>0.114933</td>\n",
       "    </tr>\n",
       "    <tr>\n",
       "      <th>secondary_cleaner.state.floatbank3_b_level</th>\n",
       "      <td>0.020321</td>\n",
       "      <td>0.109505</td>\n",
       "      <td>0.025709</td>\n",
       "      <td>-0.008513</td>\n",
       "      <td>-0.007847</td>\n",
       "      <td>0.053060</td>\n",
       "      <td>0.008616</td>\n",
       "      <td>0.100982</td>\n",
       "      <td>-0.000623</td>\n",
       "      <td>0.050184</td>\n",
       "      <td>...</td>\n",
       "      <td>-0.048674</td>\n",
       "      <td>0.003195</td>\n",
       "      <td>-0.061874</td>\n",
       "      <td>0.035838</td>\n",
       "      <td>-0.174450</td>\n",
       "      <td>0.189707</td>\n",
       "      <td>-0.061240</td>\n",
       "      <td>0.049728</td>\n",
       "      <td>-0.144723</td>\n",
       "      <td>0.076089</td>\n",
       "    </tr>\n",
       "    <tr>\n",
       "      <th>secondary_cleaner.state.floatbank4_a_air</th>\n",
       "      <td>0.305068</td>\n",
       "      <td>0.321422</td>\n",
       "      <td>-0.148328</td>\n",
       "      <td>0.313515</td>\n",
       "      <td>0.469180</td>\n",
       "      <td>0.171716</td>\n",
       "      <td>0.483741</td>\n",
       "      <td>0.078411</td>\n",
       "      <td>0.366373</td>\n",
       "      <td>0.151945</td>\n",
       "      <td>...</td>\n",
       "      <td>1.000000</td>\n",
       "      <td>0.346120</td>\n",
       "      <td>0.925344</td>\n",
       "      <td>0.256080</td>\n",
       "      <td>0.523977</td>\n",
       "      <td>0.221838</td>\n",
       "      <td>0.630029</td>\n",
       "      <td>0.132053</td>\n",
       "      <td>0.082357</td>\n",
       "      <td>0.145112</td>\n",
       "    </tr>\n",
       "    <tr>\n",
       "      <th>secondary_cleaner.state.floatbank4_a_level</th>\n",
       "      <td>0.116753</td>\n",
       "      <td>0.108111</td>\n",
       "      <td>-0.121148</td>\n",
       "      <td>0.131815</td>\n",
       "      <td>0.005962</td>\n",
       "      <td>0.096500</td>\n",
       "      <td>0.023801</td>\n",
       "      <td>0.216342</td>\n",
       "      <td>0.047373</td>\n",
       "      <td>0.093293</td>\n",
       "      <td>...</td>\n",
       "      <td>0.346120</td>\n",
       "      <td>1.000000</td>\n",
       "      <td>0.291668</td>\n",
       "      <td>0.322602</td>\n",
       "      <td>0.139509</td>\n",
       "      <td>0.129475</td>\n",
       "      <td>0.196989</td>\n",
       "      <td>0.038650</td>\n",
       "      <td>0.027717</td>\n",
       "      <td>0.028501</td>\n",
       "    </tr>\n",
       "    <tr>\n",
       "      <th>secondary_cleaner.state.floatbank4_b_air</th>\n",
       "      <td>0.347817</td>\n",
       "      <td>0.234910</td>\n",
       "      <td>-0.173658</td>\n",
       "      <td>0.361214</td>\n",
       "      <td>0.476742</td>\n",
       "      <td>0.084418</td>\n",
       "      <td>0.487327</td>\n",
       "      <td>0.054902</td>\n",
       "      <td>0.396029</td>\n",
       "      <td>0.071559</td>\n",
       "      <td>...</td>\n",
       "      <td>0.925344</td>\n",
       "      <td>0.291668</td>\n",
       "      <td>1.000000</td>\n",
       "      <td>0.162442</td>\n",
       "      <td>0.621448</td>\n",
       "      <td>0.231617</td>\n",
       "      <td>0.690637</td>\n",
       "      <td>0.151066</td>\n",
       "      <td>0.188092</td>\n",
       "      <td>0.142336</td>\n",
       "    </tr>\n",
       "    <tr>\n",
       "      <th>secondary_cleaner.state.floatbank4_b_level</th>\n",
       "      <td>0.067733</td>\n",
       "      <td>-0.087961</td>\n",
       "      <td>-0.137180</td>\n",
       "      <td>0.122248</td>\n",
       "      <td>-0.058593</td>\n",
       "      <td>-0.005819</td>\n",
       "      <td>-0.080058</td>\n",
       "      <td>-0.038440</td>\n",
       "      <td>-0.031081</td>\n",
       "      <td>-0.013814</td>\n",
       "      <td>...</td>\n",
       "      <td>0.256080</td>\n",
       "      <td>0.322602</td>\n",
       "      <td>0.162442</td>\n",
       "      <td>1.000000</td>\n",
       "      <td>-0.107707</td>\n",
       "      <td>0.147114</td>\n",
       "      <td>-0.061246</td>\n",
       "      <td>0.085526</td>\n",
       "      <td>-0.336132</td>\n",
       "      <td>0.046965</td>\n",
       "    </tr>\n",
       "    <tr>\n",
       "      <th>secondary_cleaner.state.floatbank5_a_air</th>\n",
       "      <td>0.093433</td>\n",
       "      <td>-0.092530</td>\n",
       "      <td>-0.192880</td>\n",
       "      <td>0.059953</td>\n",
       "      <td>0.408050</td>\n",
       "      <td>-0.036132</td>\n",
       "      <td>0.415343</td>\n",
       "      <td>-0.009671</td>\n",
       "      <td>0.400765</td>\n",
       "      <td>-0.018878</td>\n",
       "      <td>...</td>\n",
       "      <td>0.523977</td>\n",
       "      <td>0.139509</td>\n",
       "      <td>0.621448</td>\n",
       "      <td>-0.107707</td>\n",
       "      <td>1.000000</td>\n",
       "      <td>0.159737</td>\n",
       "      <td>0.839300</td>\n",
       "      <td>0.097730</td>\n",
       "      <td>0.508881</td>\n",
       "      <td>0.080659</td>\n",
       "    </tr>\n",
       "    <tr>\n",
       "      <th>secondary_cleaner.state.floatbank5_a_level</th>\n",
       "      <td>0.127277</td>\n",
       "      <td>-0.001364</td>\n",
       "      <td>-0.059167</td>\n",
       "      <td>0.128417</td>\n",
       "      <td>0.271547</td>\n",
       "      <td>0.164220</td>\n",
       "      <td>0.260220</td>\n",
       "      <td>0.029409</td>\n",
       "      <td>0.239333</td>\n",
       "      <td>0.143313</td>\n",
       "      <td>...</td>\n",
       "      <td>0.221838</td>\n",
       "      <td>0.129475</td>\n",
       "      <td>0.231617</td>\n",
       "      <td>0.147114</td>\n",
       "      <td>0.159737</td>\n",
       "      <td>1.000000</td>\n",
       "      <td>0.224178</td>\n",
       "      <td>0.516684</td>\n",
       "      <td>-0.013499</td>\n",
       "      <td>0.404586</td>\n",
       "    </tr>\n",
       "    <tr>\n",
       "      <th>secondary_cleaner.state.floatbank5_b_air</th>\n",
       "      <td>0.156416</td>\n",
       "      <td>0.062158</td>\n",
       "      <td>-0.214970</td>\n",
       "      <td>0.078242</td>\n",
       "      <td>0.465492</td>\n",
       "      <td>-0.012665</td>\n",
       "      <td>0.499829</td>\n",
       "      <td>0.012115</td>\n",
       "      <td>0.500353</td>\n",
       "      <td>-0.004169</td>\n",
       "      <td>...</td>\n",
       "      <td>0.630029</td>\n",
       "      <td>0.196989</td>\n",
       "      <td>0.690637</td>\n",
       "      <td>-0.061246</td>\n",
       "      <td>0.839300</td>\n",
       "      <td>0.224178</td>\n",
       "      <td>1.000000</td>\n",
       "      <td>0.131951</td>\n",
       "      <td>0.463425</td>\n",
       "      <td>0.156877</td>\n",
       "    </tr>\n",
       "    <tr>\n",
       "      <th>secondary_cleaner.state.floatbank5_b_level</th>\n",
       "      <td>0.072229</td>\n",
       "      <td>-0.003504</td>\n",
       "      <td>-0.054173</td>\n",
       "      <td>0.096969</td>\n",
       "      <td>0.161509</td>\n",
       "      <td>0.091263</td>\n",
       "      <td>0.155978</td>\n",
       "      <td>0.004864</td>\n",
       "      <td>0.117465</td>\n",
       "      <td>0.061153</td>\n",
       "      <td>...</td>\n",
       "      <td>0.132053</td>\n",
       "      <td>0.038650</td>\n",
       "      <td>0.151066</td>\n",
       "      <td>0.085526</td>\n",
       "      <td>0.097730</td>\n",
       "      <td>0.516684</td>\n",
       "      <td>0.131951</td>\n",
       "      <td>1.000000</td>\n",
       "      <td>0.028312</td>\n",
       "      <td>0.336502</td>\n",
       "    </tr>\n",
       "    <tr>\n",
       "      <th>secondary_cleaner.state.floatbank6_a_air</th>\n",
       "      <td>-0.134194</td>\n",
       "      <td>-0.200422</td>\n",
       "      <td>0.026930</td>\n",
       "      <td>-0.217392</td>\n",
       "      <td>0.345231</td>\n",
       "      <td>-0.107710</td>\n",
       "      <td>0.389594</td>\n",
       "      <td>-0.006694</td>\n",
       "      <td>0.490672</td>\n",
       "      <td>-0.087866</td>\n",
       "      <td>...</td>\n",
       "      <td>0.082357</td>\n",
       "      <td>0.027717</td>\n",
       "      <td>0.188092</td>\n",
       "      <td>-0.336132</td>\n",
       "      <td>0.508881</td>\n",
       "      <td>-0.013499</td>\n",
       "      <td>0.463425</td>\n",
       "      <td>0.028312</td>\n",
       "      <td>1.000000</td>\n",
       "      <td>0.189606</td>\n",
       "    </tr>\n",
       "    <tr>\n",
       "      <th>secondary_cleaner.state.floatbank6_a_level</th>\n",
       "      <td>0.034655</td>\n",
       "      <td>0.029256</td>\n",
       "      <td>-0.083021</td>\n",
       "      <td>0.081986</td>\n",
       "      <td>0.172154</td>\n",
       "      <td>0.076271</td>\n",
       "      <td>0.187429</td>\n",
       "      <td>0.012904</td>\n",
       "      <td>0.169634</td>\n",
       "      <td>0.067955</td>\n",
       "      <td>...</td>\n",
       "      <td>0.145112</td>\n",
       "      <td>0.028501</td>\n",
       "      <td>0.142336</td>\n",
       "      <td>0.046965</td>\n",
       "      <td>0.080659</td>\n",
       "      <td>0.404586</td>\n",
       "      <td>0.156877</td>\n",
       "      <td>0.336502</td>\n",
       "      <td>0.189606</td>\n",
       "      <td>1.000000</td>\n",
       "    </tr>\n",
       "  </tbody>\n",
       "</table>\n",
       "<p>52 rows × 52 columns</p>\n",
       "</div>"
      ],
      "text/plain": [
       "                                            primary_cleaner.input.sulfate  \\\n",
       "primary_cleaner.input.sulfate                                    1.000000   \n",
       "primary_cleaner.input.depressant                                 0.452138   \n",
       "primary_cleaner.input.feed_size                                  0.114564   \n",
       "primary_cleaner.input.xanthate                                   0.496786   \n",
       "primary_cleaner.state.floatbank8_a_air                           0.100810   \n",
       "primary_cleaner.state.floatbank8_a_level                         0.047802   \n",
       "primary_cleaner.state.floatbank8_b_air                           0.074719   \n",
       "primary_cleaner.state.floatbank8_b_level                         0.139819   \n",
       "primary_cleaner.state.floatbank8_c_air                           0.024925   \n",
       "primary_cleaner.state.floatbank8_c_level                         0.028155   \n",
       "primary_cleaner.state.floatbank8_d_air                           0.093636   \n",
       "primary_cleaner.state.floatbank8_d_level                        -0.019008   \n",
       "rougher.input.feed_ag                                            0.359236   \n",
       "rougher.input.feed_pb                                            0.428248   \n",
       "rougher.input.feed_rate                                          0.461740   \n",
       "rougher.input.feed_size                                         -0.010257   \n",
       "rougher.input.feed_sol                                           0.423813   \n",
       "rougher.input.feed_au                                            0.436207   \n",
       "rougher.input.floatbank10_sulfate                                0.616477   \n",
       "rougher.input.floatbank10_xanthate                               0.550640   \n",
       "rougher.input.floatbank11_sulfate                                0.585522   \n",
       "rougher.input.floatbank11_xanthate                               0.539113   \n",
       "rougher.state.floatbank10_a_air                                  0.234925   \n",
       "rougher.state.floatbank10_a_level                                0.222601   \n",
       "rougher.state.floatbank10_b_air                                 -0.229253   \n",
       "rougher.state.floatbank10_b_level                               -0.047140   \n",
       "rougher.state.floatbank10_c_air                                 -0.245993   \n",
       "rougher.state.floatbank10_c_level                               -0.052403   \n",
       "rougher.state.floatbank10_d_air                                 -0.246659   \n",
       "rougher.state.floatbank10_d_level                               -0.014574   \n",
       "rougher.state.floatbank10_e_air                                 -0.233454   \n",
       "rougher.state.floatbank10_e_level                               -0.119842   \n",
       "rougher.state.floatbank10_f_air                                 -0.248709   \n",
       "rougher.state.floatbank10_f_level                               -0.063864   \n",
       "secondary_cleaner.state.floatbank2_a_air                         0.051477   \n",
       "secondary_cleaner.state.floatbank2_a_level                      -0.037756   \n",
       "secondary_cleaner.state.floatbank2_b_air                         0.257649   \n",
       "secondary_cleaner.state.floatbank2_b_level                      -0.010734   \n",
       "secondary_cleaner.state.floatbank3_a_air                         0.144912   \n",
       "secondary_cleaner.state.floatbank3_a_level                       0.004598   \n",
       "secondary_cleaner.state.floatbank3_b_air                         0.147967   \n",
       "secondary_cleaner.state.floatbank3_b_level                       0.020321   \n",
       "secondary_cleaner.state.floatbank4_a_air                         0.305068   \n",
       "secondary_cleaner.state.floatbank4_a_level                       0.116753   \n",
       "secondary_cleaner.state.floatbank4_b_air                         0.347817   \n",
       "secondary_cleaner.state.floatbank4_b_level                       0.067733   \n",
       "secondary_cleaner.state.floatbank5_a_air                         0.093433   \n",
       "secondary_cleaner.state.floatbank5_a_level                       0.127277   \n",
       "secondary_cleaner.state.floatbank5_b_air                         0.156416   \n",
       "secondary_cleaner.state.floatbank5_b_level                       0.072229   \n",
       "secondary_cleaner.state.floatbank6_a_air                        -0.134194   \n",
       "secondary_cleaner.state.floatbank6_a_level                       0.034655   \n",
       "\n",
       "                                            primary_cleaner.input.depressant  \\\n",
       "primary_cleaner.input.sulfate                                       0.452138   \n",
       "primary_cleaner.input.depressant                                    1.000000   \n",
       "primary_cleaner.input.feed_size                                     0.214707   \n",
       "primary_cleaner.input.xanthate                                      0.144649   \n",
       "primary_cleaner.state.floatbank8_a_air                              0.128135   \n",
       "primary_cleaner.state.floatbank8_a_level                            0.215392   \n",
       "primary_cleaner.state.floatbank8_b_air                              0.133109   \n",
       "primary_cleaner.state.floatbank8_b_level                            0.200031   \n",
       "primary_cleaner.state.floatbank8_c_air                              0.025947   \n",
       "primary_cleaner.state.floatbank8_c_level                            0.185370   \n",
       "primary_cleaner.state.floatbank8_d_air                              0.126572   \n",
       "primary_cleaner.state.floatbank8_d_level                            0.073040   \n",
       "rougher.input.feed_ag                                               0.497323   \n",
       "rougher.input.feed_pb                                               0.466184   \n",
       "rougher.input.feed_rate                                             0.133046   \n",
       "rougher.input.feed_size                                             0.005012   \n",
       "rougher.input.feed_sol                                              0.171353   \n",
       "rougher.input.feed_au                                               0.460382   \n",
       "rougher.input.floatbank10_sulfate                                   0.231353   \n",
       "rougher.input.floatbank10_xanthate                                  0.339256   \n",
       "rougher.input.floatbank11_sulfate                                   0.210909   \n",
       "rougher.input.floatbank11_xanthate                                  0.345551   \n",
       "rougher.state.floatbank10_a_air                                     0.408884   \n",
       "rougher.state.floatbank10_a_level                                   0.130801   \n",
       "rougher.state.floatbank10_b_air                                    -0.356190   \n",
       "rougher.state.floatbank10_b_level                                  -0.114405   \n",
       "rougher.state.floatbank10_c_air                                    -0.367074   \n",
       "rougher.state.floatbank10_c_level                                  -0.105012   \n",
       "rougher.state.floatbank10_d_air                                    -0.348432   \n",
       "rougher.state.floatbank10_d_level                                  -0.075352   \n",
       "rougher.state.floatbank10_e_air                                    -0.362110   \n",
       "rougher.state.floatbank10_e_level                                  -0.127322   \n",
       "rougher.state.floatbank10_f_air                                    -0.377406   \n",
       "rougher.state.floatbank10_f_level                                  -0.112718   \n",
       "secondary_cleaner.state.floatbank2_a_air                            0.077763   \n",
       "secondary_cleaner.state.floatbank2_a_level                         -0.089231   \n",
       "secondary_cleaner.state.floatbank2_b_air                            0.231374   \n",
       "secondary_cleaner.state.floatbank2_b_level                         -0.102904   \n",
       "secondary_cleaner.state.floatbank3_a_air                            0.280420   \n",
       "secondary_cleaner.state.floatbank3_a_level                          0.119902   \n",
       "secondary_cleaner.state.floatbank3_b_air                            0.253658   \n",
       "secondary_cleaner.state.floatbank3_b_level                          0.109505   \n",
       "secondary_cleaner.state.floatbank4_a_air                            0.321422   \n",
       "secondary_cleaner.state.floatbank4_a_level                          0.108111   \n",
       "secondary_cleaner.state.floatbank4_b_air                            0.234910   \n",
       "secondary_cleaner.state.floatbank4_b_level                         -0.087961   \n",
       "secondary_cleaner.state.floatbank5_a_air                           -0.092530   \n",
       "secondary_cleaner.state.floatbank5_a_level                         -0.001364   \n",
       "secondary_cleaner.state.floatbank5_b_air                            0.062158   \n",
       "secondary_cleaner.state.floatbank5_b_level                         -0.003504   \n",
       "secondary_cleaner.state.floatbank6_a_air                           -0.200422   \n",
       "secondary_cleaner.state.floatbank6_a_level                          0.029256   \n",
       "\n",
       "                                            primary_cleaner.input.feed_size  \\\n",
       "primary_cleaner.input.sulfate                                      0.114564   \n",
       "primary_cleaner.input.depressant                                   0.214707   \n",
       "primary_cleaner.input.feed_size                                    1.000000   \n",
       "primary_cleaner.input.xanthate                                    -0.291292   \n",
       "primary_cleaner.state.floatbank8_a_air                            -0.064628   \n",
       "primary_cleaner.state.floatbank8_a_level                           0.082869   \n",
       "primary_cleaner.state.floatbank8_b_air                            -0.063490   \n",
       "primary_cleaner.state.floatbank8_b_level                           0.071470   \n",
       "primary_cleaner.state.floatbank8_c_air                            -0.091542   \n",
       "primary_cleaner.state.floatbank8_c_level                           0.066384   \n",
       "primary_cleaner.state.floatbank8_d_air                            -0.074156   \n",
       "primary_cleaner.state.floatbank8_d_level                           0.065808   \n",
       "rougher.input.feed_ag                                              0.338795   \n",
       "rougher.input.feed_pb                                              0.000398   \n",
       "rougher.input.feed_rate                                            0.019618   \n",
       "rougher.input.feed_size                                           -0.087339   \n",
       "rougher.input.feed_sol                                             0.057400   \n",
       "rougher.input.feed_au                                              0.238692   \n",
       "rougher.input.floatbank10_sulfate                                 -0.186211   \n",
       "rougher.input.floatbank10_xanthate                                 0.224360   \n",
       "rougher.input.floatbank11_sulfate                                 -0.231701   \n",
       "rougher.input.floatbank11_xanthate                                 0.200080   \n",
       "rougher.state.floatbank10_a_air                                    0.023678   \n",
       "rougher.state.floatbank10_a_level                                 -0.236632   \n",
       "rougher.state.floatbank10_b_air                                    0.044605   \n",
       "rougher.state.floatbank10_b_level                                  0.051614   \n",
       "rougher.state.floatbank10_c_air                                    0.064617   \n",
       "rougher.state.floatbank10_c_level                                  0.049608   \n",
       "rougher.state.floatbank10_d_air                                   -0.009526   \n",
       "rougher.state.floatbank10_d_level                                  0.073623   \n",
       "rougher.state.floatbank10_e_air                                   -0.012558   \n",
       "rougher.state.floatbank10_e_level                                  0.006890   \n",
       "rougher.state.floatbank10_f_air                                   -0.129796   \n",
       "rougher.state.floatbank10_f_level                                  0.036627   \n",
       "secondary_cleaner.state.floatbank2_a_air                          -0.128544   \n",
       "secondary_cleaner.state.floatbank2_a_level                         0.044605   \n",
       "secondary_cleaner.state.floatbank2_b_air                          -0.182687   \n",
       "secondary_cleaner.state.floatbank2_b_level                         0.005911   \n",
       "secondary_cleaner.state.floatbank3_a_air                           0.024735   \n",
       "secondary_cleaner.state.floatbank3_a_level                         0.032868   \n",
       "secondary_cleaner.state.floatbank3_b_air                          -0.017527   \n",
       "secondary_cleaner.state.floatbank3_b_level                         0.025709   \n",
       "secondary_cleaner.state.floatbank4_a_air                          -0.148328   \n",
       "secondary_cleaner.state.floatbank4_a_level                        -0.121148   \n",
       "secondary_cleaner.state.floatbank4_b_air                          -0.173658   \n",
       "secondary_cleaner.state.floatbank4_b_level                        -0.137180   \n",
       "secondary_cleaner.state.floatbank5_a_air                          -0.192880   \n",
       "secondary_cleaner.state.floatbank5_a_level                        -0.059167   \n",
       "secondary_cleaner.state.floatbank5_b_air                          -0.214970   \n",
       "secondary_cleaner.state.floatbank5_b_level                        -0.054173   \n",
       "secondary_cleaner.state.floatbank6_a_air                           0.026930   \n",
       "secondary_cleaner.state.floatbank6_a_level                        -0.083021   \n",
       "\n",
       "                                            primary_cleaner.input.xanthate  \\\n",
       "primary_cleaner.input.sulfate                                     0.496786   \n",
       "primary_cleaner.input.depressant                                  0.144649   \n",
       "primary_cleaner.input.feed_size                                  -0.291292   \n",
       "primary_cleaner.input.xanthate                                    1.000000   \n",
       "primary_cleaner.state.floatbank8_a_air                            0.208295   \n",
       "primary_cleaner.state.floatbank8_a_level                         -0.056301   \n",
       "primary_cleaner.state.floatbank8_b_air                            0.153433   \n",
       "primary_cleaner.state.floatbank8_b_level                          0.017111   \n",
       "primary_cleaner.state.floatbank8_c_air                            0.045527   \n",
       "primary_cleaner.state.floatbank8_c_level                         -0.075309   \n",
       "primary_cleaner.state.floatbank8_d_air                            0.174404   \n",
       "primary_cleaner.state.floatbank8_d_level                         -0.141550   \n",
       "rougher.input.feed_ag                                             0.049574   \n",
       "rougher.input.feed_pb                                             0.241885   \n",
       "rougher.input.feed_rate                                           0.464580   \n",
       "rougher.input.feed_size                                           0.195480   \n",
       "rougher.input.feed_sol                                            0.372327   \n",
       "rougher.input.feed_au                                             0.095280   \n",
       "rougher.input.floatbank10_sulfate                                 0.581719   \n",
       "rougher.input.floatbank10_xanthate                                0.350601   \n",
       "rougher.input.floatbank11_sulfate                                 0.594250   \n",
       "rougher.input.floatbank11_xanthate                                0.378950   \n",
       "rougher.state.floatbank10_a_air                                   0.402104   \n",
       "rougher.state.floatbank10_a_level                                 0.424813   \n",
       "rougher.state.floatbank10_b_air                                  -0.385724   \n",
       "rougher.state.floatbank10_b_level                                -0.341158   \n",
       "rougher.state.floatbank10_c_air                                  -0.404612   \n",
       "rougher.state.floatbank10_c_level                                -0.345842   \n",
       "rougher.state.floatbank10_d_air                                  -0.392190   \n",
       "rougher.state.floatbank10_d_level                                -0.325264   \n",
       "rougher.state.floatbank10_e_air                                  -0.320581   \n",
       "rougher.state.floatbank10_e_level                                -0.362139   \n",
       "rougher.state.floatbank10_f_air                                  -0.289656   \n",
       "rougher.state.floatbank10_f_level                                -0.333668   \n",
       "secondary_cleaner.state.floatbank2_a_air                         -0.038199   \n",
       "secondary_cleaner.state.floatbank2_a_level                       -0.160438   \n",
       "secondary_cleaner.state.floatbank2_b_air                          0.221401   \n",
       "secondary_cleaner.state.floatbank2_b_level                       -0.111152   \n",
       "secondary_cleaner.state.floatbank3_a_air                         -0.041667   \n",
       "secondary_cleaner.state.floatbank3_a_level                       -0.033249   \n",
       "secondary_cleaner.state.floatbank3_b_air                         -0.050318   \n",
       "secondary_cleaner.state.floatbank3_b_level                       -0.008513   \n",
       "secondary_cleaner.state.floatbank4_a_air                          0.313515   \n",
       "secondary_cleaner.state.floatbank4_a_level                        0.131815   \n",
       "secondary_cleaner.state.floatbank4_b_air                          0.361214   \n",
       "secondary_cleaner.state.floatbank4_b_level                        0.122248   \n",
       "secondary_cleaner.state.floatbank5_a_air                          0.059953   \n",
       "secondary_cleaner.state.floatbank5_a_level                        0.128417   \n",
       "secondary_cleaner.state.floatbank5_b_air                          0.078242   \n",
       "secondary_cleaner.state.floatbank5_b_level                        0.096969   \n",
       "secondary_cleaner.state.floatbank6_a_air                         -0.217392   \n",
       "secondary_cleaner.state.floatbank6_a_level                        0.081986   \n",
       "\n",
       "                                            primary_cleaner.state.floatbank8_a_air  \\\n",
       "primary_cleaner.input.sulfate                                             0.100810   \n",
       "primary_cleaner.input.depressant                                          0.128135   \n",
       "primary_cleaner.input.feed_size                                          -0.064628   \n",
       "primary_cleaner.input.xanthate                                            0.208295   \n",
       "primary_cleaner.state.floatbank8_a_air                                    1.000000   \n",
       "primary_cleaner.state.floatbank8_a_level                                  0.121274   \n",
       "primary_cleaner.state.floatbank8_b_air                                    0.968679   \n",
       "primary_cleaner.state.floatbank8_b_level                                 -0.018713   \n",
       "primary_cleaner.state.floatbank8_c_air                                    0.814992   \n",
       "primary_cleaner.state.floatbank8_c_level                                  0.114058   \n",
       "primary_cleaner.state.floatbank8_d_air                                    0.959166   \n",
       "primary_cleaner.state.floatbank8_d_level                                  0.061389   \n",
       "rougher.input.feed_ag                                                     0.252818   \n",
       "rougher.input.feed_pb                                                     0.064620   \n",
       "rougher.input.feed_rate                                                  -0.010564   \n",
       "rougher.input.feed_size                                                  -0.073142   \n",
       "rougher.input.feed_sol                                                   -0.060574   \n",
       "rougher.input.feed_au                                                     0.218384   \n",
       "rougher.input.floatbank10_sulfate                                         0.041911   \n",
       "rougher.input.floatbank10_xanthate                                        0.187693   \n",
       "rougher.input.floatbank11_sulfate                                         0.046837   \n",
       "rougher.input.floatbank11_xanthate                                        0.199009   \n",
       "rougher.state.floatbank10_a_air                                           0.215473   \n",
       "rougher.state.floatbank10_a_level                                        -0.033903   \n",
       "rougher.state.floatbank10_b_air                                           0.199338   \n",
       "rougher.state.floatbank10_b_level                                         0.291111   \n",
       "rougher.state.floatbank10_c_air                                           0.216971   \n",
       "rougher.state.floatbank10_c_level                                         0.285786   \n",
       "rougher.state.floatbank10_d_air                                           0.160151   \n",
       "rougher.state.floatbank10_d_level                                         0.245276   \n",
       "rougher.state.floatbank10_e_air                                           0.347687   \n",
       "rougher.state.floatbank10_e_level                                         0.280493   \n",
       "rougher.state.floatbank10_f_air                                           0.280753   \n",
       "rougher.state.floatbank10_f_level                                         0.289477   \n",
       "secondary_cleaner.state.floatbank2_a_air                                  0.258797   \n",
       "secondary_cleaner.state.floatbank2_a_level                               -0.059849   \n",
       "secondary_cleaner.state.floatbank2_b_air                                  0.422603   \n",
       "secondary_cleaner.state.floatbank2_b_level                               -0.084396   \n",
       "secondary_cleaner.state.floatbank3_a_air                                  0.369040   \n",
       "secondary_cleaner.state.floatbank3_a_level                               -0.040073   \n",
       "secondary_cleaner.state.floatbank3_b_air                                  0.457278   \n",
       "secondary_cleaner.state.floatbank3_b_level                               -0.007847   \n",
       "secondary_cleaner.state.floatbank4_a_air                                  0.469180   \n",
       "secondary_cleaner.state.floatbank4_a_level                                0.005962   \n",
       "secondary_cleaner.state.floatbank4_b_air                                  0.476742   \n",
       "secondary_cleaner.state.floatbank4_b_level                               -0.058593   \n",
       "secondary_cleaner.state.floatbank5_a_air                                  0.408050   \n",
       "secondary_cleaner.state.floatbank5_a_level                                0.271547   \n",
       "secondary_cleaner.state.floatbank5_b_air                                  0.465492   \n",
       "secondary_cleaner.state.floatbank5_b_level                                0.161509   \n",
       "secondary_cleaner.state.floatbank6_a_air                                  0.345231   \n",
       "secondary_cleaner.state.floatbank6_a_level                                0.172154   \n",
       "\n",
       "                                            primary_cleaner.state.floatbank8_a_level  \\\n",
       "primary_cleaner.input.sulfate                                               0.047802   \n",
       "primary_cleaner.input.depressant                                            0.215392   \n",
       "primary_cleaner.input.feed_size                                             0.082869   \n",
       "primary_cleaner.input.xanthate                                             -0.056301   \n",
       "primary_cleaner.state.floatbank8_a_air                                      0.121274   \n",
       "primary_cleaner.state.floatbank8_a_level                                    1.000000   \n",
       "primary_cleaner.state.floatbank8_b_air                                      0.101975   \n",
       "primary_cleaner.state.floatbank8_b_level                                    0.417515   \n",
       "primary_cleaner.state.floatbank8_c_air                                     -0.018378   \n",
       "primary_cleaner.state.floatbank8_c_level                                    0.784061   \n",
       "primary_cleaner.state.floatbank8_d_air                                      0.110760   \n",
       "primary_cleaner.state.floatbank8_d_level                                    0.406960   \n",
       "rougher.input.feed_ag                                                       0.197111   \n",
       "rougher.input.feed_pb                                                       0.231743   \n",
       "rougher.input.feed_rate                                                    -0.009139   \n",
       "rougher.input.feed_size                                                     0.004788   \n",
       "rougher.input.feed_sol                                                      0.055251   \n",
       "rougher.input.feed_au                                                       0.184980   \n",
       "rougher.input.floatbank10_sulfate                                          -0.058344   \n",
       "rougher.input.floatbank10_xanthate                                          0.110566   \n",
       "rougher.input.floatbank11_sulfate                                          -0.079213   \n",
       "rougher.input.floatbank11_xanthate                                          0.090125   \n",
       "rougher.state.floatbank10_a_air                                             0.387206   \n",
       "rougher.state.floatbank10_a_level                                           0.159607   \n",
       "rougher.state.floatbank10_b_air                                            -0.076365   \n",
       "rougher.state.floatbank10_b_level                                          -0.037724   \n",
       "rougher.state.floatbank10_c_air                                            -0.129885   \n",
       "rougher.state.floatbank10_c_level                                          -0.043906   \n",
       "rougher.state.floatbank10_d_air                                            -0.134939   \n",
       "rougher.state.floatbank10_d_level                                          -0.071941   \n",
       "rougher.state.floatbank10_e_air                                            -0.098849   \n",
       "rougher.state.floatbank10_e_level                                          -0.072159   \n",
       "rougher.state.floatbank10_f_air                                            -0.050940   \n",
       "rougher.state.floatbank10_f_level                                          -0.042153   \n",
       "secondary_cleaner.state.floatbank2_a_air                                    0.108288   \n",
       "secondary_cleaner.state.floatbank2_a_level                                  0.083484   \n",
       "secondary_cleaner.state.floatbank2_b_air                                    0.163920   \n",
       "secondary_cleaner.state.floatbank2_b_level                                  0.080897   \n",
       "secondary_cleaner.state.floatbank3_a_air                                    0.083934   \n",
       "secondary_cleaner.state.floatbank3_a_level                                  0.069909   \n",
       "secondary_cleaner.state.floatbank3_b_air                                    0.057372   \n",
       "secondary_cleaner.state.floatbank3_b_level                                  0.053060   \n",
       "secondary_cleaner.state.floatbank4_a_air                                    0.171716   \n",
       "secondary_cleaner.state.floatbank4_a_level                                  0.096500   \n",
       "secondary_cleaner.state.floatbank4_b_air                                    0.084418   \n",
       "secondary_cleaner.state.floatbank4_b_level                                 -0.005819   \n",
       "secondary_cleaner.state.floatbank5_a_air                                   -0.036132   \n",
       "secondary_cleaner.state.floatbank5_a_level                                  0.164220   \n",
       "secondary_cleaner.state.floatbank5_b_air                                   -0.012665   \n",
       "secondary_cleaner.state.floatbank5_b_level                                  0.091263   \n",
       "secondary_cleaner.state.floatbank6_a_air                                   -0.107710   \n",
       "secondary_cleaner.state.floatbank6_a_level                                  0.076271   \n",
       "\n",
       "                                            primary_cleaner.state.floatbank8_b_air  \\\n",
       "primary_cleaner.input.sulfate                                             0.074719   \n",
       "primary_cleaner.input.depressant                                          0.133109   \n",
       "primary_cleaner.input.feed_size                                          -0.063490   \n",
       "primary_cleaner.input.xanthate                                            0.153433   \n",
       "primary_cleaner.state.floatbank8_a_air                                    0.968679   \n",
       "primary_cleaner.state.floatbank8_a_level                                  0.101975   \n",
       "primary_cleaner.state.floatbank8_b_air                                    1.000000   \n",
       "primary_cleaner.state.floatbank8_b_level                                  0.010220   \n",
       "primary_cleaner.state.floatbank8_c_air                                    0.862946   \n",
       "primary_cleaner.state.floatbank8_c_level                                  0.101127   \n",
       "primary_cleaner.state.floatbank8_d_air                                    0.974342   \n",
       "primary_cleaner.state.floatbank8_d_level                                  0.059940   \n",
       "rougher.input.feed_ag                                                     0.250553   \n",
       "rougher.input.feed_pb                                                     0.054633   \n",
       "rougher.input.feed_rate                                                  -0.044562   \n",
       "rougher.input.feed_size                                                  -0.098048   \n",
       "rougher.input.feed_sol                                                   -0.088980   \n",
       "rougher.input.feed_au                                                     0.243540   \n",
       "rougher.input.floatbank10_sulfate                                         0.035523   \n",
       "rougher.input.floatbank10_xanthate                                        0.172360   \n",
       "rougher.input.floatbank11_sulfate                                         0.047361   \n",
       "rougher.input.floatbank11_xanthate                                        0.194925   \n",
       "rougher.state.floatbank10_a_air                                           0.169211   \n",
       "rougher.state.floatbank10_a_level                                        -0.073373   \n",
       "rougher.state.floatbank10_b_air                                           0.230489   \n",
       "rougher.state.floatbank10_b_level                                         0.371841   \n",
       "rougher.state.floatbank10_c_air                                           0.259523   \n",
       "rougher.state.floatbank10_c_level                                         0.368792   \n",
       "rougher.state.floatbank10_d_air                                           0.203227   \n",
       "rougher.state.floatbank10_d_level                                         0.327134   \n",
       "rougher.state.floatbank10_e_air                                           0.402047   \n",
       "rougher.state.floatbank10_e_level                                         0.391511   \n",
       "rougher.state.floatbank10_f_air                                           0.344900   \n",
       "rougher.state.floatbank10_f_level                                         0.394670   \n",
       "secondary_cleaner.state.floatbank2_a_air                                  0.326207   \n",
       "secondary_cleaner.state.floatbank2_a_level                               -0.052484   \n",
       "secondary_cleaner.state.floatbank2_b_air                                  0.458442   \n",
       "secondary_cleaner.state.floatbank2_b_level                               -0.079535   \n",
       "secondary_cleaner.state.floatbank3_a_air                                  0.415503   \n",
       "secondary_cleaner.state.floatbank3_a_level                               -0.023823   \n",
       "secondary_cleaner.state.floatbank3_b_air                                  0.518832   \n",
       "secondary_cleaner.state.floatbank3_b_level                                0.008616   \n",
       "secondary_cleaner.state.floatbank4_a_air                                  0.483741   \n",
       "secondary_cleaner.state.floatbank4_a_level                                0.023801   \n",
       "secondary_cleaner.state.floatbank4_b_air                                  0.487327   \n",
       "secondary_cleaner.state.floatbank4_b_level                               -0.080058   \n",
       "secondary_cleaner.state.floatbank5_a_air                                  0.415343   \n",
       "secondary_cleaner.state.floatbank5_a_level                                0.260220   \n",
       "secondary_cleaner.state.floatbank5_b_air                                  0.499829   \n",
       "secondary_cleaner.state.floatbank5_b_level                                0.155978   \n",
       "secondary_cleaner.state.floatbank6_a_air                                  0.389594   \n",
       "secondary_cleaner.state.floatbank6_a_level                                0.187429   \n",
       "\n",
       "                                            primary_cleaner.state.floatbank8_b_level  \\\n",
       "primary_cleaner.input.sulfate                                               0.139819   \n",
       "primary_cleaner.input.depressant                                            0.200031   \n",
       "primary_cleaner.input.feed_size                                             0.071470   \n",
       "primary_cleaner.input.xanthate                                              0.017111   \n",
       "primary_cleaner.state.floatbank8_a_air                                     -0.018713   \n",
       "primary_cleaner.state.floatbank8_a_level                                    0.417515   \n",
       "primary_cleaner.state.floatbank8_b_air                                      0.010220   \n",
       "primary_cleaner.state.floatbank8_b_level                                    1.000000   \n",
       "primary_cleaner.state.floatbank8_c_air                                     -0.029228   \n",
       "primary_cleaner.state.floatbank8_c_level                                    0.406721   \n",
       "primary_cleaner.state.floatbank8_d_air                                      0.015972   \n",
       "primary_cleaner.state.floatbank8_d_level                                    0.233257   \n",
       "rougher.input.feed_ag                                                       0.128053   \n",
       "rougher.input.feed_pb                                                       0.223188   \n",
       "rougher.input.feed_rate                                                     0.031262   \n",
       "rougher.input.feed_size                                                    -0.043022   \n",
       "rougher.input.feed_sol                                                      0.049419   \n",
       "rougher.input.feed_au                                                       0.178838   \n",
       "rougher.input.floatbank10_sulfate                                           0.023787   \n",
       "rougher.input.floatbank10_xanthate                                          0.067695   \n",
       "rougher.input.floatbank11_sulfate                                           0.045953   \n",
       "rougher.input.floatbank11_xanthate                                          0.102405   \n",
       "rougher.state.floatbank10_a_air                                             0.207161   \n",
       "rougher.state.floatbank10_a_level                                           0.076225   \n",
       "rougher.state.floatbank10_b_air                                            -0.014215   \n",
       "rougher.state.floatbank10_b_level                                           0.020230   \n",
       "rougher.state.floatbank10_c_air                                            -0.052763   \n",
       "rougher.state.floatbank10_c_level                                           0.007639   \n",
       "rougher.state.floatbank10_d_air                                            -0.015855   \n",
       "rougher.state.floatbank10_d_level                                           0.005728   \n",
       "rougher.state.floatbank10_e_air                                            -0.052321   \n",
       "rougher.state.floatbank10_e_level                                           0.002047   \n",
       "rougher.state.floatbank10_f_air                                            -0.007648   \n",
       "rougher.state.floatbank10_f_level                                           0.013656   \n",
       "secondary_cleaner.state.floatbank2_a_air                                    0.064035   \n",
       "secondary_cleaner.state.floatbank2_a_level                                  0.006019   \n",
       "secondary_cleaner.state.floatbank2_b_air                                    0.104585   \n",
       "secondary_cleaner.state.floatbank2_b_level                                  0.009400   \n",
       "secondary_cleaner.state.floatbank3_a_air                                    0.086051   \n",
       "secondary_cleaner.state.floatbank3_a_level                                  0.094441   \n",
       "secondary_cleaner.state.floatbank3_b_air                                    0.081030   \n",
       "secondary_cleaner.state.floatbank3_b_level                                  0.100982   \n",
       "secondary_cleaner.state.floatbank4_a_air                                    0.078411   \n",
       "secondary_cleaner.state.floatbank4_a_level                                  0.216342   \n",
       "secondary_cleaner.state.floatbank4_b_air                                    0.054902   \n",
       "secondary_cleaner.state.floatbank4_b_level                                 -0.038440   \n",
       "secondary_cleaner.state.floatbank5_a_air                                   -0.009671   \n",
       "secondary_cleaner.state.floatbank5_a_level                                  0.029409   \n",
       "secondary_cleaner.state.floatbank5_b_air                                    0.012115   \n",
       "secondary_cleaner.state.floatbank5_b_level                                  0.004864   \n",
       "secondary_cleaner.state.floatbank6_a_air                                   -0.006694   \n",
       "secondary_cleaner.state.floatbank6_a_level                                  0.012904   \n",
       "\n",
       "                                            primary_cleaner.state.floatbank8_c_air  \\\n",
       "primary_cleaner.input.sulfate                                             0.024925   \n",
       "primary_cleaner.input.depressant                                          0.025947   \n",
       "primary_cleaner.input.feed_size                                          -0.091542   \n",
       "primary_cleaner.input.xanthate                                            0.045527   \n",
       "primary_cleaner.state.floatbank8_a_air                                    0.814992   \n",
       "primary_cleaner.state.floatbank8_a_level                                 -0.018378   \n",
       "primary_cleaner.state.floatbank8_b_air                                    0.862946   \n",
       "primary_cleaner.state.floatbank8_b_level                                 -0.029228   \n",
       "primary_cleaner.state.floatbank8_c_air                                    1.000000   \n",
       "primary_cleaner.state.floatbank8_c_level                                  0.003322   \n",
       "primary_cleaner.state.floatbank8_d_air                                    0.848010   \n",
       "primary_cleaner.state.floatbank8_d_level                                  0.013847   \n",
       "rougher.input.feed_ag                                                     0.149500   \n",
       "rougher.input.feed_pb                                                    -0.054736   \n",
       "rougher.input.feed_rate                                                  -0.101521   \n",
       "rougher.input.feed_size                                                  -0.162543   \n",
       "rougher.input.feed_sol                                                   -0.157935   \n",
       "rougher.input.feed_au                                                     0.168597   \n",
       "rougher.input.floatbank10_sulfate                                        -0.016792   \n",
       "rougher.input.floatbank10_xanthate                                        0.135009   \n",
       "rougher.input.floatbank11_sulfate                                         0.016075   \n",
       "rougher.input.floatbank11_xanthate                                        0.181177   \n",
       "rougher.state.floatbank10_a_air                                          -0.087974   \n",
       "rougher.state.floatbank10_a_level                                        -0.222135   \n",
       "rougher.state.floatbank10_b_air                                           0.300457   \n",
       "rougher.state.floatbank10_b_level                                         0.451746   \n",
       "rougher.state.floatbank10_c_air                                           0.360889   \n",
       "rougher.state.floatbank10_c_level                                         0.453606   \n",
       "rougher.state.floatbank10_d_air                                           0.310832   \n",
       "rougher.state.floatbank10_d_level                                         0.406637   \n",
       "rougher.state.floatbank10_e_air                                           0.452348   \n",
       "rougher.state.floatbank10_e_level                                         0.463951   \n",
       "rougher.state.floatbank10_f_air                                           0.354735   \n",
       "rougher.state.floatbank10_f_level                                         0.471963   \n",
       "secondary_cleaner.state.floatbank2_a_air                                  0.277849   \n",
       "secondary_cleaner.state.floatbank2_a_level                                0.022228   \n",
       "secondary_cleaner.state.floatbank2_b_air                                  0.363017   \n",
       "secondary_cleaner.state.floatbank2_b_level                               -0.014146   \n",
       "secondary_cleaner.state.floatbank3_a_air                                  0.412137   \n",
       "secondary_cleaner.state.floatbank3_a_level                               -0.030285   \n",
       "secondary_cleaner.state.floatbank3_b_air                                  0.493835   \n",
       "secondary_cleaner.state.floatbank3_b_level                               -0.000623   \n",
       "secondary_cleaner.state.floatbank4_a_air                                  0.366373   \n",
       "secondary_cleaner.state.floatbank4_a_level                                0.047373   \n",
       "secondary_cleaner.state.floatbank4_b_air                                  0.396029   \n",
       "secondary_cleaner.state.floatbank4_b_level                               -0.031081   \n",
       "secondary_cleaner.state.floatbank5_a_air                                  0.400765   \n",
       "secondary_cleaner.state.floatbank5_a_level                                0.239333   \n",
       "secondary_cleaner.state.floatbank5_b_air                                  0.500353   \n",
       "secondary_cleaner.state.floatbank5_b_level                                0.117465   \n",
       "secondary_cleaner.state.floatbank6_a_air                                  0.490672   \n",
       "secondary_cleaner.state.floatbank6_a_level                                0.169634   \n",
       "\n",
       "                                            primary_cleaner.state.floatbank8_c_level  \\\n",
       "primary_cleaner.input.sulfate                                               0.028155   \n",
       "primary_cleaner.input.depressant                                            0.185370   \n",
       "primary_cleaner.input.feed_size                                             0.066384   \n",
       "primary_cleaner.input.xanthate                                             -0.075309   \n",
       "primary_cleaner.state.floatbank8_a_air                                      0.114058   \n",
       "primary_cleaner.state.floatbank8_a_level                                    0.784061   \n",
       "primary_cleaner.state.floatbank8_b_air                                      0.101127   \n",
       "primary_cleaner.state.floatbank8_b_level                                    0.406721   \n",
       "primary_cleaner.state.floatbank8_c_air                                      0.003322   \n",
       "primary_cleaner.state.floatbank8_c_level                                    1.000000   \n",
       "primary_cleaner.state.floatbank8_d_air                                      0.113492   \n",
       "primary_cleaner.state.floatbank8_d_level                                    0.486463   \n",
       "rougher.input.feed_ag                                                       0.162198   \n",
       "rougher.input.feed_pb                                                       0.176345   \n",
       "rougher.input.feed_rate                                                    -0.006190   \n",
       "rougher.input.feed_size                                                     0.002130   \n",
       "rougher.input.feed_sol                                                      0.040593   \n",
       "rougher.input.feed_au                                                       0.143132   \n",
       "rougher.input.floatbank10_sulfate                                          -0.069795   \n",
       "rougher.input.floatbank10_xanthate                                          0.082145   \n",
       "rougher.input.floatbank11_sulfate                                          -0.083834   \n",
       "rougher.input.floatbank11_xanthate                                          0.067524   \n",
       "rougher.state.floatbank10_a_air                                             0.333690   \n",
       "rougher.state.floatbank10_a_level                                           0.131849   \n",
       "rougher.state.floatbank10_b_air                                            -0.039398   \n",
       "rougher.state.floatbank10_b_level                                          -0.015591   \n",
       "rougher.state.floatbank10_c_air                                            -0.089468   \n",
       "rougher.state.floatbank10_c_level                                          -0.020945   \n",
       "rougher.state.floatbank10_d_air                                            -0.089773   \n",
       "rougher.state.floatbank10_d_level                                          -0.049447   \n",
       "rougher.state.floatbank10_e_air                                            -0.067798   \n",
       "rougher.state.floatbank10_e_level                                          -0.048384   \n",
       "rougher.state.floatbank10_f_air                                            -0.022972   \n",
       "rougher.state.floatbank10_f_level                                          -0.019199   \n",
       "secondary_cleaner.state.floatbank2_a_air                                    0.107413   \n",
       "secondary_cleaner.state.floatbank2_a_level                                  0.075413   \n",
       "secondary_cleaner.state.floatbank2_b_air                                    0.150466   \n",
       "secondary_cleaner.state.floatbank2_b_level                                  0.066475   \n",
       "secondary_cleaner.state.floatbank3_a_air                                    0.074927   \n",
       "secondary_cleaner.state.floatbank3_a_level                                  0.065685   \n",
       "secondary_cleaner.state.floatbank3_b_air                                    0.058887   \n",
       "secondary_cleaner.state.floatbank3_b_level                                  0.050184   \n",
       "secondary_cleaner.state.floatbank4_a_air                                    0.151945   \n",
       "secondary_cleaner.state.floatbank4_a_level                                  0.093293   \n",
       "secondary_cleaner.state.floatbank4_b_air                                    0.071559   \n",
       "secondary_cleaner.state.floatbank4_b_level                                 -0.013814   \n",
       "secondary_cleaner.state.floatbank5_a_air                                   -0.018878   \n",
       "secondary_cleaner.state.floatbank5_a_level                                  0.143313   \n",
       "secondary_cleaner.state.floatbank5_b_air                                   -0.004169   \n",
       "secondary_cleaner.state.floatbank5_b_level                                  0.061153   \n",
       "secondary_cleaner.state.floatbank6_a_air                                   -0.087866   \n",
       "secondary_cleaner.state.floatbank6_a_level                                  0.067955   \n",
       "\n",
       "                                            ...  \\\n",
       "primary_cleaner.input.sulfate               ...   \n",
       "primary_cleaner.input.depressant            ...   \n",
       "primary_cleaner.input.feed_size             ...   \n",
       "primary_cleaner.input.xanthate              ...   \n",
       "primary_cleaner.state.floatbank8_a_air      ...   \n",
       "primary_cleaner.state.floatbank8_a_level    ...   \n",
       "primary_cleaner.state.floatbank8_b_air      ...   \n",
       "primary_cleaner.state.floatbank8_b_level    ...   \n",
       "primary_cleaner.state.floatbank8_c_air      ...   \n",
       "primary_cleaner.state.floatbank8_c_level    ...   \n",
       "primary_cleaner.state.floatbank8_d_air      ...   \n",
       "primary_cleaner.state.floatbank8_d_level    ...   \n",
       "rougher.input.feed_ag                       ...   \n",
       "rougher.input.feed_pb                       ...   \n",
       "rougher.input.feed_rate                     ...   \n",
       "rougher.input.feed_size                     ...   \n",
       "rougher.input.feed_sol                      ...   \n",
       "rougher.input.feed_au                       ...   \n",
       "rougher.input.floatbank10_sulfate           ...   \n",
       "rougher.input.floatbank10_xanthate          ...   \n",
       "rougher.input.floatbank11_sulfate           ...   \n",
       "rougher.input.floatbank11_xanthate          ...   \n",
       "rougher.state.floatbank10_a_air             ...   \n",
       "rougher.state.floatbank10_a_level           ...   \n",
       "rougher.state.floatbank10_b_air             ...   \n",
       "rougher.state.floatbank10_b_level           ...   \n",
       "rougher.state.floatbank10_c_air             ...   \n",
       "rougher.state.floatbank10_c_level           ...   \n",
       "rougher.state.floatbank10_d_air             ...   \n",
       "rougher.state.floatbank10_d_level           ...   \n",
       "rougher.state.floatbank10_e_air             ...   \n",
       "rougher.state.floatbank10_e_level           ...   \n",
       "rougher.state.floatbank10_f_air             ...   \n",
       "rougher.state.floatbank10_f_level           ...   \n",
       "secondary_cleaner.state.floatbank2_a_air    ...   \n",
       "secondary_cleaner.state.floatbank2_a_level  ...   \n",
       "secondary_cleaner.state.floatbank2_b_air    ...   \n",
       "secondary_cleaner.state.floatbank2_b_level  ...   \n",
       "secondary_cleaner.state.floatbank3_a_air    ...   \n",
       "secondary_cleaner.state.floatbank3_a_level  ...   \n",
       "secondary_cleaner.state.floatbank3_b_air    ...   \n",
       "secondary_cleaner.state.floatbank3_b_level  ...   \n",
       "secondary_cleaner.state.floatbank4_a_air    ...   \n",
       "secondary_cleaner.state.floatbank4_a_level  ...   \n",
       "secondary_cleaner.state.floatbank4_b_air    ...   \n",
       "secondary_cleaner.state.floatbank4_b_level  ...   \n",
       "secondary_cleaner.state.floatbank5_a_air    ...   \n",
       "secondary_cleaner.state.floatbank5_a_level  ...   \n",
       "secondary_cleaner.state.floatbank5_b_air    ...   \n",
       "secondary_cleaner.state.floatbank5_b_level  ...   \n",
       "secondary_cleaner.state.floatbank6_a_air    ...   \n",
       "secondary_cleaner.state.floatbank6_a_level  ...   \n",
       "\n",
       "                                            secondary_cleaner.state.floatbank4_a_air  \\\n",
       "primary_cleaner.input.sulfate                                               0.305068   \n",
       "primary_cleaner.input.depressant                                            0.321422   \n",
       "primary_cleaner.input.feed_size                                            -0.148328   \n",
       "primary_cleaner.input.xanthate                                              0.313515   \n",
       "primary_cleaner.state.floatbank8_a_air                                      0.469180   \n",
       "primary_cleaner.state.floatbank8_a_level                                    0.171716   \n",
       "primary_cleaner.state.floatbank8_b_air                                      0.483741   \n",
       "primary_cleaner.state.floatbank8_b_level                                    0.078411   \n",
       "primary_cleaner.state.floatbank8_c_air                                      0.366373   \n",
       "primary_cleaner.state.floatbank8_c_level                                    0.151945   \n",
       "primary_cleaner.state.floatbank8_d_air                                      0.485859   \n",
       "primary_cleaner.state.floatbank8_d_level                                    0.053297   \n",
       "rougher.input.feed_ag                                                       0.167571   \n",
       "rougher.input.feed_pb                                                       0.114111   \n",
       "rougher.input.feed_rate                                                     0.169978   \n",
       "rougher.input.feed_size                                                     0.127876   \n",
       "rougher.input.feed_sol                                                      0.146671   \n",
       "rougher.input.feed_au                                                       0.165834   \n",
       "rougher.input.floatbank10_sulfate                                           0.306822   \n",
       "rougher.input.floatbank10_xanthate                                          0.240843   \n",
       "rougher.input.floatbank11_sulfate                                           0.277188   \n",
       "rougher.input.floatbank11_xanthate                                          0.214027   \n",
       "rougher.state.floatbank10_a_air                                             0.296594   \n",
       "rougher.state.floatbank10_a_level                                           0.207514   \n",
       "rougher.state.floatbank10_b_air                                            -0.171947   \n",
       "rougher.state.floatbank10_b_level                                           0.067727   \n",
       "rougher.state.floatbank10_c_air                                            -0.168834   \n",
       "rougher.state.floatbank10_c_level                                           0.068885   \n",
       "rougher.state.floatbank10_d_air                                            -0.173221   \n",
       "rougher.state.floatbank10_d_level                                           0.072947   \n",
       "rougher.state.floatbank10_e_air                                             0.018780   \n",
       "rougher.state.floatbank10_e_level                                           0.150501   \n",
       "rougher.state.floatbank10_f_air                                             0.043791   \n",
       "rougher.state.floatbank10_f_level                                           0.168028   \n",
       "secondary_cleaner.state.floatbank2_a_air                                    0.394394   \n",
       "secondary_cleaner.state.floatbank2_a_level                                 -0.076507   \n",
       "secondary_cleaner.state.floatbank2_b_air                                    0.637334   \n",
       "secondary_cleaner.state.floatbank2_b_level                                 -0.062850   \n",
       "secondary_cleaner.state.floatbank3_a_air                                    0.413034   \n",
       "secondary_cleaner.state.floatbank3_a_level                                 -0.067846   \n",
       "secondary_cleaner.state.floatbank3_b_air                                    0.480531   \n",
       "secondary_cleaner.state.floatbank3_b_level                                 -0.048674   \n",
       "secondary_cleaner.state.floatbank4_a_air                                    1.000000   \n",
       "secondary_cleaner.state.floatbank4_a_level                                  0.346120   \n",
       "secondary_cleaner.state.floatbank4_b_air                                    0.925344   \n",
       "secondary_cleaner.state.floatbank4_b_level                                  0.256080   \n",
       "secondary_cleaner.state.floatbank5_a_air                                    0.523977   \n",
       "secondary_cleaner.state.floatbank5_a_level                                  0.221838   \n",
       "secondary_cleaner.state.floatbank5_b_air                                    0.630029   \n",
       "secondary_cleaner.state.floatbank5_b_level                                  0.132053   \n",
       "secondary_cleaner.state.floatbank6_a_air                                    0.082357   \n",
       "secondary_cleaner.state.floatbank6_a_level                                  0.145112   \n",
       "\n",
       "                                            secondary_cleaner.state.floatbank4_a_level  \\\n",
       "primary_cleaner.input.sulfate                                                 0.116753   \n",
       "primary_cleaner.input.depressant                                              0.108111   \n",
       "primary_cleaner.input.feed_size                                              -0.121148   \n",
       "primary_cleaner.input.xanthate                                                0.131815   \n",
       "primary_cleaner.state.floatbank8_a_air                                        0.005962   \n",
       "primary_cleaner.state.floatbank8_a_level                                      0.096500   \n",
       "primary_cleaner.state.floatbank8_b_air                                        0.023801   \n",
       "primary_cleaner.state.floatbank8_b_level                                      0.216342   \n",
       "primary_cleaner.state.floatbank8_c_air                                        0.047373   \n",
       "primary_cleaner.state.floatbank8_c_level                                      0.093293   \n",
       "primary_cleaner.state.floatbank8_d_air                                        0.022615   \n",
       "primary_cleaner.state.floatbank8_d_level                                      0.043851   \n",
       "rougher.input.feed_ag                                                        -0.069478   \n",
       "rougher.input.feed_pb                                                        -0.004391   \n",
       "rougher.input.feed_rate                                                       0.123496   \n",
       "rougher.input.feed_size                                                       0.062334   \n",
       "rougher.input.feed_sol                                                        0.065137   \n",
       "rougher.input.feed_au                                                        -0.039397   \n",
       "rougher.input.floatbank10_sulfate                                             0.163263   \n",
       "rougher.input.floatbank10_xanthate                                            0.070772   \n",
       "rougher.input.floatbank11_sulfate                                             0.191199   \n",
       "rougher.input.floatbank11_xanthate                                            0.099220   \n",
       "rougher.state.floatbank10_a_air                                               0.087591   \n",
       "rougher.state.floatbank10_a_level                                             0.131345   \n",
       "rougher.state.floatbank10_b_air                                               0.009334   \n",
       "rougher.state.floatbank10_b_level                                             0.010268   \n",
       "rougher.state.floatbank10_c_air                                              -0.010049   \n",
       "rougher.state.floatbank10_c_level                                             0.011038   \n",
       "rougher.state.floatbank10_d_air                                               0.025358   \n",
       "rougher.state.floatbank10_d_level                                            -0.013329   \n",
       "rougher.state.floatbank10_e_air                                              -0.034684   \n",
       "rougher.state.floatbank10_e_level                                             0.006505   \n",
       "rougher.state.floatbank10_f_air                                               0.025162   \n",
       "rougher.state.floatbank10_f_level                                             0.024309   \n",
       "secondary_cleaner.state.floatbank2_a_air                                      0.181484   \n",
       "secondary_cleaner.state.floatbank2_a_level                                    0.029511   \n",
       "secondary_cleaner.state.floatbank2_b_air                                      0.182724   \n",
       "secondary_cleaner.state.floatbank2_b_level                                    0.030289   \n",
       "secondary_cleaner.state.floatbank3_a_air                                      0.051117   \n",
       "secondary_cleaner.state.floatbank3_a_level                                    0.007752   \n",
       "secondary_cleaner.state.floatbank3_b_air                                      0.073603   \n",
       "secondary_cleaner.state.floatbank3_b_level                                    0.003195   \n",
       "secondary_cleaner.state.floatbank4_a_air                                      0.346120   \n",
       "secondary_cleaner.state.floatbank4_a_level                                    1.000000   \n",
       "secondary_cleaner.state.floatbank4_b_air                                      0.291668   \n",
       "secondary_cleaner.state.floatbank4_b_level                                    0.322602   \n",
       "secondary_cleaner.state.floatbank5_a_air                                      0.139509   \n",
       "secondary_cleaner.state.floatbank5_a_level                                    0.129475   \n",
       "secondary_cleaner.state.floatbank5_b_air                                      0.196989   \n",
       "secondary_cleaner.state.floatbank5_b_level                                    0.038650   \n",
       "secondary_cleaner.state.floatbank6_a_air                                      0.027717   \n",
       "secondary_cleaner.state.floatbank6_a_level                                    0.028501   \n",
       "\n",
       "                                            secondary_cleaner.state.floatbank4_b_air  \\\n",
       "primary_cleaner.input.sulfate                                               0.347817   \n",
       "primary_cleaner.input.depressant                                            0.234910   \n",
       "primary_cleaner.input.feed_size                                            -0.173658   \n",
       "primary_cleaner.input.xanthate                                              0.361214   \n",
       "primary_cleaner.state.floatbank8_a_air                                      0.476742   \n",
       "primary_cleaner.state.floatbank8_a_level                                    0.084418   \n",
       "primary_cleaner.state.floatbank8_b_air                                      0.487327   \n",
       "primary_cleaner.state.floatbank8_b_level                                    0.054902   \n",
       "primary_cleaner.state.floatbank8_c_air                                      0.396029   \n",
       "primary_cleaner.state.floatbank8_c_level                                    0.071559   \n",
       "primary_cleaner.state.floatbank8_d_air                                      0.491643   \n",
       "primary_cleaner.state.floatbank8_d_level                                    0.001856   \n",
       "rougher.input.feed_ag                                                       0.150561   \n",
       "rougher.input.feed_pb                                                       0.138647   \n",
       "rougher.input.feed_rate                                                     0.128504   \n",
       "rougher.input.feed_size                                                     0.037296   \n",
       "rougher.input.feed_sol                                                      0.084524   \n",
       "rougher.input.feed_au                                                       0.160088   \n",
       "rougher.input.floatbank10_sulfate                                           0.330181   \n",
       "rougher.input.floatbank10_xanthate                                          0.187300   \n",
       "rougher.input.floatbank11_sulfate                                           0.306050   \n",
       "rougher.input.floatbank11_xanthate                                          0.160767   \n",
       "rougher.state.floatbank10_a_air                                             0.239912   \n",
       "rougher.state.floatbank10_a_level                                           0.116369   \n",
       "rougher.state.floatbank10_b_air                                            -0.099376   \n",
       "rougher.state.floatbank10_b_level                                           0.105702   \n",
       "rougher.state.floatbank10_c_air                                            -0.100264   \n",
       "rougher.state.floatbank10_c_level                                           0.104035   \n",
       "rougher.state.floatbank10_d_air                                            -0.084851   \n",
       "rougher.state.floatbank10_d_level                                           0.109479   \n",
       "rougher.state.floatbank10_e_air                                             0.067346   \n",
       "rougher.state.floatbank10_e_level                                           0.168247   \n",
       "rougher.state.floatbank10_f_air                                             0.084106   \n",
       "rougher.state.floatbank10_f_level                                           0.188557   \n",
       "secondary_cleaner.state.floatbank2_a_air                                    0.375035   \n",
       "secondary_cleaner.state.floatbank2_a_level                                 -0.097089   \n",
       "secondary_cleaner.state.floatbank2_b_air                                    0.660157   \n",
       "secondary_cleaner.state.floatbank2_b_level                                 -0.077545   \n",
       "secondary_cleaner.state.floatbank3_a_air                                    0.434205   \n",
       "secondary_cleaner.state.floatbank3_a_level                                 -0.088951   \n",
       "secondary_cleaner.state.floatbank3_b_air                                    0.534658   \n",
       "secondary_cleaner.state.floatbank3_b_level                                 -0.061874   \n",
       "secondary_cleaner.state.floatbank4_a_air                                    0.925344   \n",
       "secondary_cleaner.state.floatbank4_a_level                                  0.291668   \n",
       "secondary_cleaner.state.floatbank4_b_air                                    1.000000   \n",
       "secondary_cleaner.state.floatbank4_b_level                                  0.162442   \n",
       "secondary_cleaner.state.floatbank5_a_air                                    0.621448   \n",
       "secondary_cleaner.state.floatbank5_a_level                                  0.231617   \n",
       "secondary_cleaner.state.floatbank5_b_air                                    0.690637   \n",
       "secondary_cleaner.state.floatbank5_b_level                                  0.151066   \n",
       "secondary_cleaner.state.floatbank6_a_air                                    0.188092   \n",
       "secondary_cleaner.state.floatbank6_a_level                                  0.142336   \n",
       "\n",
       "                                            secondary_cleaner.state.floatbank4_b_level  \\\n",
       "primary_cleaner.input.sulfate                                                 0.067733   \n",
       "primary_cleaner.input.depressant                                             -0.087961   \n",
       "primary_cleaner.input.feed_size                                              -0.137180   \n",
       "primary_cleaner.input.xanthate                                                0.122248   \n",
       "primary_cleaner.state.floatbank8_a_air                                       -0.058593   \n",
       "primary_cleaner.state.floatbank8_a_level                                     -0.005819   \n",
       "primary_cleaner.state.floatbank8_b_air                                       -0.080058   \n",
       "primary_cleaner.state.floatbank8_b_level                                     -0.038440   \n",
       "primary_cleaner.state.floatbank8_c_air                                       -0.031081   \n",
       "primary_cleaner.state.floatbank8_c_level                                     -0.013814   \n",
       "primary_cleaner.state.floatbank8_d_air                                       -0.072571   \n",
       "primary_cleaner.state.floatbank8_d_level                                     -0.017416   \n",
       "rougher.input.feed_ag                                                        -0.291577   \n",
       "rougher.input.feed_pb                                                        -0.206534   \n",
       "rougher.input.feed_rate                                                       0.357253   \n",
       "rougher.input.feed_size                                                       0.324755   \n",
       "rougher.input.feed_sol                                                        0.407716   \n",
       "rougher.input.feed_au                                                        -0.266889   \n",
       "rougher.input.floatbank10_sulfate                                             0.298407   \n",
       "rougher.input.floatbank10_xanthate                                            0.163137   \n",
       "rougher.input.floatbank11_sulfate                                             0.321607   \n",
       "rougher.input.floatbank11_xanthate                                            0.203885   \n",
       "rougher.state.floatbank10_a_air                                              -0.123604   \n",
       "rougher.state.floatbank10_a_level                                             0.261028   \n",
       "rougher.state.floatbank10_b_air                                              -0.213919   \n",
       "rougher.state.floatbank10_b_level                                            -0.213382   \n",
       "rougher.state.floatbank10_c_air                                              -0.229330   \n",
       "rougher.state.floatbank10_c_level                                            -0.217125   \n",
       "rougher.state.floatbank10_d_air                                              -0.262495   \n",
       "rougher.state.floatbank10_d_level                                            -0.220828   \n",
       "rougher.state.floatbank10_e_air                                              -0.169546   \n",
       "rougher.state.floatbank10_e_level                                            -0.214266   \n",
       "rougher.state.floatbank10_f_air                                              -0.112751   \n",
       "rougher.state.floatbank10_f_level                                            -0.210791   \n",
       "secondary_cleaner.state.floatbank2_a_air                                     -0.007873   \n",
       "secondary_cleaner.state.floatbank2_a_level                                   -0.016680   \n",
       "secondary_cleaner.state.floatbank2_b_air                                      0.000320   \n",
       "secondary_cleaner.state.floatbank2_b_level                                    0.013354   \n",
       "secondary_cleaner.state.floatbank3_a_air                                     -0.059103   \n",
       "secondary_cleaner.state.floatbank3_a_level                                    0.018798   \n",
       "secondary_cleaner.state.floatbank3_b_air                                     -0.188031   \n",
       "secondary_cleaner.state.floatbank3_b_level                                    0.035838   \n",
       "secondary_cleaner.state.floatbank4_a_air                                      0.256080   \n",
       "secondary_cleaner.state.floatbank4_a_level                                    0.322602   \n",
       "secondary_cleaner.state.floatbank4_b_air                                      0.162442   \n",
       "secondary_cleaner.state.floatbank4_b_level                                    1.000000   \n",
       "secondary_cleaner.state.floatbank5_a_air                                     -0.107707   \n",
       "secondary_cleaner.state.floatbank5_a_level                                    0.147114   \n",
       "secondary_cleaner.state.floatbank5_b_air                                     -0.061246   \n",
       "secondary_cleaner.state.floatbank5_b_level                                    0.085526   \n",
       "secondary_cleaner.state.floatbank6_a_air                                     -0.336132   \n",
       "secondary_cleaner.state.floatbank6_a_level                                    0.046965   \n",
       "\n",
       "                                            secondary_cleaner.state.floatbank5_a_air  \\\n",
       "primary_cleaner.input.sulfate                                               0.093433   \n",
       "primary_cleaner.input.depressant                                           -0.092530   \n",
       "primary_cleaner.input.feed_size                                            -0.192880   \n",
       "primary_cleaner.input.xanthate                                              0.059953   \n",
       "primary_cleaner.state.floatbank8_a_air                                      0.408050   \n",
       "primary_cleaner.state.floatbank8_a_level                                   -0.036132   \n",
       "primary_cleaner.state.floatbank8_b_air                                      0.415343   \n",
       "primary_cleaner.state.floatbank8_b_level                                   -0.009671   \n",
       "primary_cleaner.state.floatbank8_c_air                                      0.400765   \n",
       "primary_cleaner.state.floatbank8_c_level                                   -0.018878   \n",
       "primary_cleaner.state.floatbank8_d_air                                      0.412552   \n",
       "primary_cleaner.state.floatbank8_d_level                                    0.008748   \n",
       "rougher.input.feed_ag                                                      -0.033441   \n",
       "rougher.input.feed_pb                                                      -0.068303   \n",
       "rougher.input.feed_rate                                                    -0.137284   \n",
       "rougher.input.feed_size                                                    -0.117026   \n",
       "rougher.input.feed_sol                                                     -0.226731   \n",
       "rougher.input.feed_au                                                      -0.037379   \n",
       "rougher.input.floatbank10_sulfate                                           0.041357   \n",
       "rougher.input.floatbank10_xanthate                                         -0.141634   \n",
       "rougher.input.floatbank11_sulfate                                           0.069535   \n",
       "rougher.input.floatbank11_xanthate                                         -0.136782   \n",
       "rougher.state.floatbank10_a_air                                            -0.043592   \n",
       "rougher.state.floatbank10_a_level                                          -0.130661   \n",
       "rougher.state.floatbank10_b_air                                             0.351196   \n",
       "rougher.state.floatbank10_b_level                                           0.177808   \n",
       "rougher.state.floatbank10_c_air                                             0.334076   \n",
       "rougher.state.floatbank10_c_level                                           0.172000   \n",
       "rougher.state.floatbank10_d_air                                             0.368140   \n",
       "rougher.state.floatbank10_d_level                                           0.148741   \n",
       "rougher.state.floatbank10_e_air                                             0.395027   \n",
       "rougher.state.floatbank10_e_level                                           0.264139   \n",
       "rougher.state.floatbank10_f_air                                             0.409527   \n",
       "rougher.state.floatbank10_f_level                                           0.261930   \n",
       "secondary_cleaner.state.floatbank2_a_air                                    0.364503   \n",
       "secondary_cleaner.state.floatbank2_a_level                                 -0.013389   \n",
       "secondary_cleaner.state.floatbank2_b_air                                    0.511434   \n",
       "secondary_cleaner.state.floatbank2_b_level                                 -0.020293   \n",
       "secondary_cleaner.state.floatbank3_a_air                                    0.313944   \n",
       "secondary_cleaner.state.floatbank3_a_level                                 -0.197216   \n",
       "secondary_cleaner.state.floatbank3_b_air                                    0.462017   \n",
       "secondary_cleaner.state.floatbank3_b_level                                 -0.174450   \n",
       "secondary_cleaner.state.floatbank4_a_air                                    0.523977   \n",
       "secondary_cleaner.state.floatbank4_a_level                                  0.139509   \n",
       "secondary_cleaner.state.floatbank4_b_air                                    0.621448   \n",
       "secondary_cleaner.state.floatbank4_b_level                                 -0.107707   \n",
       "secondary_cleaner.state.floatbank5_a_air                                    1.000000   \n",
       "secondary_cleaner.state.floatbank5_a_level                                  0.159737   \n",
       "secondary_cleaner.state.floatbank5_b_air                                    0.839300   \n",
       "secondary_cleaner.state.floatbank5_b_level                                  0.097730   \n",
       "secondary_cleaner.state.floatbank6_a_air                                    0.508881   \n",
       "secondary_cleaner.state.floatbank6_a_level                                  0.080659   \n",
       "\n",
       "                                            secondary_cleaner.state.floatbank5_a_level  \\\n",
       "primary_cleaner.input.sulfate                                                 0.127277   \n",
       "primary_cleaner.input.depressant                                             -0.001364   \n",
       "primary_cleaner.input.feed_size                                              -0.059167   \n",
       "primary_cleaner.input.xanthate                                                0.128417   \n",
       "primary_cleaner.state.floatbank8_a_air                                        0.271547   \n",
       "primary_cleaner.state.floatbank8_a_level                                      0.164220   \n",
       "primary_cleaner.state.floatbank8_b_air                                        0.260220   \n",
       "primary_cleaner.state.floatbank8_b_level                                      0.029409   \n",
       "primary_cleaner.state.floatbank8_c_air                                        0.239333   \n",
       "primary_cleaner.state.floatbank8_c_level                                      0.143313   \n",
       "primary_cleaner.state.floatbank8_d_air                                        0.259882   \n",
       "primary_cleaner.state.floatbank8_d_level                                      0.078442   \n",
       "rougher.input.feed_ag                                                        -0.011144   \n",
       "rougher.input.feed_pb                                                         0.052358   \n",
       "rougher.input.feed_rate                                                       0.089104   \n",
       "rougher.input.feed_size                                                       0.042609   \n",
       "rougher.input.feed_sol                                                        0.089657   \n",
       "rougher.input.feed_au                                                         0.016553   \n",
       "rougher.input.floatbank10_sulfate                                             0.084638   \n",
       "rougher.input.floatbank10_xanthate                                            0.130590   \n",
       "rougher.input.floatbank11_sulfate                                             0.111017   \n",
       "rougher.input.floatbank11_xanthate                                            0.153905   \n",
       "rougher.state.floatbank10_a_air                                               0.105358   \n",
       "rougher.state.floatbank10_a_level                                             0.119156   \n",
       "rougher.state.floatbank10_b_air                                               0.116437   \n",
       "rougher.state.floatbank10_b_level                                             0.089507   \n",
       "rougher.state.floatbank10_c_air                                               0.092861   \n",
       "rougher.state.floatbank10_c_level                                             0.078225   \n",
       "rougher.state.floatbank10_d_air                                               0.060210   \n",
       "rougher.state.floatbank10_d_level                                             0.048372   \n",
       "rougher.state.floatbank10_e_air                                               0.087056   \n",
       "rougher.state.floatbank10_e_level                                             0.050704   \n",
       "rougher.state.floatbank10_f_air                                               0.085782   \n",
       "rougher.state.floatbank10_f_level                                             0.066304   \n",
       "secondary_cleaner.state.floatbank2_a_air                                      0.161537   \n",
       "secondary_cleaner.state.floatbank2_a_level                                    0.077666   \n",
       "secondary_cleaner.state.floatbank2_b_air                                      0.227661   \n",
       "secondary_cleaner.state.floatbank2_b_level                                    0.078675   \n",
       "secondary_cleaner.state.floatbank3_a_air                                      0.185076   \n",
       "secondary_cleaner.state.floatbank3_a_level                                    0.045148   \n",
       "secondary_cleaner.state.floatbank3_b_air                                      0.174008   \n",
       "secondary_cleaner.state.floatbank3_b_level                                    0.189707   \n",
       "secondary_cleaner.state.floatbank4_a_air                                      0.221838   \n",
       "secondary_cleaner.state.floatbank4_a_level                                    0.129475   \n",
       "secondary_cleaner.state.floatbank4_b_air                                      0.231617   \n",
       "secondary_cleaner.state.floatbank4_b_level                                    0.147114   \n",
       "secondary_cleaner.state.floatbank5_a_air                                      0.159737   \n",
       "secondary_cleaner.state.floatbank5_a_level                                    1.000000   \n",
       "secondary_cleaner.state.floatbank5_b_air                                      0.224178   \n",
       "secondary_cleaner.state.floatbank5_b_level                                    0.516684   \n",
       "secondary_cleaner.state.floatbank6_a_air                                     -0.013499   \n",
       "secondary_cleaner.state.floatbank6_a_level                                    0.404586   \n",
       "\n",
       "                                            secondary_cleaner.state.floatbank5_b_air  \\\n",
       "primary_cleaner.input.sulfate                                               0.156416   \n",
       "primary_cleaner.input.depressant                                            0.062158   \n",
       "primary_cleaner.input.feed_size                                            -0.214970   \n",
       "primary_cleaner.input.xanthate                                              0.078242   \n",
       "primary_cleaner.state.floatbank8_a_air                                      0.465492   \n",
       "primary_cleaner.state.floatbank8_a_level                                   -0.012665   \n",
       "primary_cleaner.state.floatbank8_b_air                                      0.499829   \n",
       "primary_cleaner.state.floatbank8_b_level                                    0.012115   \n",
       "primary_cleaner.state.floatbank8_c_air                                      0.500353   \n",
       "primary_cleaner.state.floatbank8_c_level                                   -0.004169   \n",
       "primary_cleaner.state.floatbank8_d_air                                      0.492616   \n",
       "primary_cleaner.state.floatbank8_d_level                                    0.006287   \n",
       "rougher.input.feed_ag                                                      -0.042389   \n",
       "rougher.input.feed_pb                                                      -0.029590   \n",
       "rougher.input.feed_rate                                                    -0.073595   \n",
       "rougher.input.feed_size                                                    -0.104550   \n",
       "rougher.input.feed_sol                                                     -0.172539   \n",
       "rougher.input.feed_au                                                      -0.015953   \n",
       "rougher.input.floatbank10_sulfate                                           0.144253   \n",
       "rougher.input.floatbank10_xanthate                                         -0.043725   \n",
       "rougher.input.floatbank11_sulfate                                           0.165928   \n",
       "rougher.input.floatbank11_xanthate                                         -0.033273   \n",
       "rougher.state.floatbank10_a_air                                            -0.078618   \n",
       "rougher.state.floatbank10_a_level                                           0.023681   \n",
       "rougher.state.floatbank10_b_air                                             0.291708   \n",
       "rougher.state.floatbank10_b_level                                           0.345947   \n",
       "rougher.state.floatbank10_c_air                                             0.309043   \n",
       "rougher.state.floatbank10_c_level                                           0.353681   \n",
       "rougher.state.floatbank10_d_air                                             0.340406   \n",
       "rougher.state.floatbank10_d_level                                           0.332464   \n",
       "rougher.state.floatbank10_e_air                                             0.414665   \n",
       "rougher.state.floatbank10_e_level                                           0.407902   \n",
       "rougher.state.floatbank10_f_air                                             0.415871   \n",
       "rougher.state.floatbank10_f_level                                           0.392998   \n",
       "secondary_cleaner.state.floatbank2_a_air                                    0.482914   \n",
       "secondary_cleaner.state.floatbank2_a_level                                  0.001987   \n",
       "secondary_cleaner.state.floatbank2_b_air                                    0.667856   \n",
       "secondary_cleaner.state.floatbank2_b_level                                 -0.006990   \n",
       "secondary_cleaner.state.floatbank3_a_air                                    0.526658   \n",
       "secondary_cleaner.state.floatbank3_a_level                                 -0.088070   \n",
       "secondary_cleaner.state.floatbank3_b_air                                    0.641391   \n",
       "secondary_cleaner.state.floatbank3_b_level                                 -0.061240   \n",
       "secondary_cleaner.state.floatbank4_a_air                                    0.630029   \n",
       "secondary_cleaner.state.floatbank4_a_level                                  0.196989   \n",
       "secondary_cleaner.state.floatbank4_b_air                                    0.690637   \n",
       "secondary_cleaner.state.floatbank4_b_level                                 -0.061246   \n",
       "secondary_cleaner.state.floatbank5_a_air                                    0.839300   \n",
       "secondary_cleaner.state.floatbank5_a_level                                  0.224178   \n",
       "secondary_cleaner.state.floatbank5_b_air                                    1.000000   \n",
       "secondary_cleaner.state.floatbank5_b_level                                  0.131951   \n",
       "secondary_cleaner.state.floatbank6_a_air                                    0.463425   \n",
       "secondary_cleaner.state.floatbank6_a_level                                  0.156877   \n",
       "\n",
       "                                            secondary_cleaner.state.floatbank5_b_level  \\\n",
       "primary_cleaner.input.sulfate                                                 0.072229   \n",
       "primary_cleaner.input.depressant                                             -0.003504   \n",
       "primary_cleaner.input.feed_size                                              -0.054173   \n",
       "primary_cleaner.input.xanthate                                                0.096969   \n",
       "primary_cleaner.state.floatbank8_a_air                                        0.161509   \n",
       "primary_cleaner.state.floatbank8_a_level                                      0.091263   \n",
       "primary_cleaner.state.floatbank8_b_air                                        0.155978   \n",
       "primary_cleaner.state.floatbank8_b_level                                      0.004864   \n",
       "primary_cleaner.state.floatbank8_c_air                                        0.117465   \n",
       "primary_cleaner.state.floatbank8_c_level                                      0.061153   \n",
       "primary_cleaner.state.floatbank8_d_air                                        0.158148   \n",
       "primary_cleaner.state.floatbank8_d_level                                      0.006570   \n",
       "rougher.input.feed_ag                                                         0.039210   \n",
       "rougher.input.feed_pb                                                         0.077829   \n",
       "rougher.input.feed_rate                                                       0.012324   \n",
       "rougher.input.feed_size                                                      -0.004300   \n",
       "rougher.input.feed_sol                                                        0.009571   \n",
       "rougher.input.feed_au                                                         0.074743   \n",
       "rougher.input.floatbank10_sulfate                                             0.060772   \n",
       "rougher.input.floatbank10_xanthate                                            0.081810   \n",
       "rougher.input.floatbank11_sulfate                                             0.069145   \n",
       "rougher.input.floatbank11_xanthate                                            0.088701   \n",
       "rougher.state.floatbank10_a_air                                               0.072453   \n",
       "rougher.state.floatbank10_a_level                                             0.012086   \n",
       "rougher.state.floatbank10_b_air                                               0.078298   \n",
       "rougher.state.floatbank10_b_level                                             0.058823   \n",
       "rougher.state.floatbank10_c_air                                               0.070987   \n",
       "rougher.state.floatbank10_c_level                                             0.054056   \n",
       "rougher.state.floatbank10_d_air                                               0.045190   \n",
       "rougher.state.floatbank10_d_level                                             0.039969   \n",
       "rougher.state.floatbank10_e_air                                               0.084650   \n",
       "rougher.state.floatbank10_e_level                                             0.048908   \n",
       "rougher.state.floatbank10_f_air                                               0.074507   \n",
       "rougher.state.floatbank10_f_level                                             0.056624   \n",
       "secondary_cleaner.state.floatbank2_a_air                                      0.088558   \n",
       "secondary_cleaner.state.floatbank2_a_level                                    0.010127   \n",
       "secondary_cleaner.state.floatbank2_b_air                                      0.129761   \n",
       "secondary_cleaner.state.floatbank2_b_level                                    0.014914   \n",
       "secondary_cleaner.state.floatbank3_a_air                                      0.097897   \n",
       "secondary_cleaner.state.floatbank3_a_level                                   -0.024978   \n",
       "secondary_cleaner.state.floatbank3_b_air                                      0.089819   \n",
       "secondary_cleaner.state.floatbank3_b_level                                    0.049728   \n",
       "secondary_cleaner.state.floatbank4_a_air                                      0.132053   \n",
       "secondary_cleaner.state.floatbank4_a_level                                    0.038650   \n",
       "secondary_cleaner.state.floatbank4_b_air                                      0.151066   \n",
       "secondary_cleaner.state.floatbank4_b_level                                    0.085526   \n",
       "secondary_cleaner.state.floatbank5_a_air                                      0.097730   \n",
       "secondary_cleaner.state.floatbank5_a_level                                    0.516684   \n",
       "secondary_cleaner.state.floatbank5_b_air                                      0.131951   \n",
       "secondary_cleaner.state.floatbank5_b_level                                    1.000000   \n",
       "secondary_cleaner.state.floatbank6_a_air                                      0.028312   \n",
       "secondary_cleaner.state.floatbank6_a_level                                    0.336502   \n",
       "\n",
       "                                            secondary_cleaner.state.floatbank6_a_air  \\\n",
       "primary_cleaner.input.sulfate                                              -0.134194   \n",
       "primary_cleaner.input.depressant                                           -0.200422   \n",
       "primary_cleaner.input.feed_size                                             0.026930   \n",
       "primary_cleaner.input.xanthate                                             -0.217392   \n",
       "primary_cleaner.state.floatbank8_a_air                                      0.345231   \n",
       "primary_cleaner.state.floatbank8_a_level                                   -0.107710   \n",
       "primary_cleaner.state.floatbank8_b_air                                      0.389594   \n",
       "primary_cleaner.state.floatbank8_b_level                                   -0.006694   \n",
       "primary_cleaner.state.floatbank8_c_air                                      0.490672   \n",
       "primary_cleaner.state.floatbank8_c_level                                   -0.087866   \n",
       "primary_cleaner.state.floatbank8_d_air                                      0.378070   \n",
       "primary_cleaner.state.floatbank8_d_level                                   -0.036983   \n",
       "rougher.input.feed_ag                                                       0.212922   \n",
       "rougher.input.feed_pb                                                      -0.125363   \n",
       "rougher.input.feed_rate                                                    -0.413417   \n",
       "rougher.input.feed_size                                                    -0.355951   \n",
       "rougher.input.feed_sol                                                     -0.483905   \n",
       "rougher.input.feed_au                                                       0.191477   \n",
       "rougher.input.floatbank10_sulfate                                          -0.312294   \n",
       "rougher.input.floatbank10_xanthate                                         -0.112190   \n",
       "rougher.input.floatbank11_sulfate                                          -0.315921   \n",
       "rougher.input.floatbank11_xanthate                                         -0.126049   \n",
       "rougher.state.floatbank10_a_air                                            -0.334347   \n",
       "rougher.state.floatbank10_a_level                                          -0.561842   \n",
       "rougher.state.floatbank10_b_air                                             0.533462   \n",
       "rougher.state.floatbank10_b_level                                           0.455330   \n",
       "rougher.state.floatbank10_c_air                                             0.621525   \n",
       "rougher.state.floatbank10_c_level                                           0.455477   \n",
       "rougher.state.floatbank10_d_air                                             0.598880   \n",
       "rougher.state.floatbank10_d_level                                           0.430585   \n",
       "rougher.state.floatbank10_e_air                                             0.578157   \n",
       "rougher.state.floatbank10_e_level                                           0.484825   \n",
       "rougher.state.floatbank10_f_air                                             0.434982   \n",
       "rougher.state.floatbank10_f_level                                           0.483501   \n",
       "secondary_cleaner.state.floatbank2_a_air                                    0.146562   \n",
       "secondary_cleaner.state.floatbank2_a_level                                  0.048933   \n",
       "secondary_cleaner.state.floatbank2_b_air                                    0.104266   \n",
       "secondary_cleaner.state.floatbank2_b_level                                  0.010788   \n",
       "secondary_cleaner.state.floatbank3_a_air                                    0.273846   \n",
       "secondary_cleaner.state.floatbank3_a_level                                 -0.127807   \n",
       "secondary_cleaner.state.floatbank3_b_air                                    0.395344   \n",
       "secondary_cleaner.state.floatbank3_b_level                                 -0.144723   \n",
       "secondary_cleaner.state.floatbank4_a_air                                    0.082357   \n",
       "secondary_cleaner.state.floatbank4_a_level                                  0.027717   \n",
       "secondary_cleaner.state.floatbank4_b_air                                    0.188092   \n",
       "secondary_cleaner.state.floatbank4_b_level                                 -0.336132   \n",
       "secondary_cleaner.state.floatbank5_a_air                                    0.508881   \n",
       "secondary_cleaner.state.floatbank5_a_level                                 -0.013499   \n",
       "secondary_cleaner.state.floatbank5_b_air                                    0.463425   \n",
       "secondary_cleaner.state.floatbank5_b_level                                  0.028312   \n",
       "secondary_cleaner.state.floatbank6_a_air                                    1.000000   \n",
       "secondary_cleaner.state.floatbank6_a_level                                  0.189606   \n",
       "\n",
       "                                            secondary_cleaner.state.floatbank6_a_level  \n",
       "primary_cleaner.input.sulfate                                                 0.034655  \n",
       "primary_cleaner.input.depressant                                              0.029256  \n",
       "primary_cleaner.input.feed_size                                              -0.083021  \n",
       "primary_cleaner.input.xanthate                                                0.081986  \n",
       "primary_cleaner.state.floatbank8_a_air                                        0.172154  \n",
       "primary_cleaner.state.floatbank8_a_level                                      0.076271  \n",
       "primary_cleaner.state.floatbank8_b_air                                        0.187429  \n",
       "primary_cleaner.state.floatbank8_b_level                                      0.012904  \n",
       "primary_cleaner.state.floatbank8_c_air                                        0.169634  \n",
       "primary_cleaner.state.floatbank8_c_level                                      0.067955  \n",
       "primary_cleaner.state.floatbank8_d_air                                        0.184031  \n",
       "primary_cleaner.state.floatbank8_d_level                                      0.029999  \n",
       "rougher.input.feed_ag                                                        -0.001060  \n",
       "rougher.input.feed_pb                                                         0.067297  \n",
       "rougher.input.feed_rate                                                       0.022949  \n",
       "rougher.input.feed_size                                                       0.006842  \n",
       "rougher.input.feed_sol                                                        0.038228  \n",
       "rougher.input.feed_au                                                         0.036998  \n",
       "rougher.input.floatbank10_sulfate                                             0.067931  \n",
       "rougher.input.floatbank10_xanthate                                            0.112981  \n",
       "rougher.input.floatbank11_sulfate                                             0.080315  \n",
       "rougher.input.floatbank11_xanthate                                            0.133275  \n",
       "rougher.state.floatbank10_a_air                                               0.046717  \n",
       "rougher.state.floatbank10_a_level                                             0.087695  \n",
       "rougher.state.floatbank10_b_air                                               0.022975  \n",
       "rougher.state.floatbank10_b_level                                             0.034661  \n",
       "rougher.state.floatbank10_c_air                                               0.018168  \n",
       "rougher.state.floatbank10_c_level                                             0.031861  \n",
       "rougher.state.floatbank10_d_air                                               0.008341  \n",
       "rougher.state.floatbank10_d_level                                             0.021169  \n",
       "rougher.state.floatbank10_e_air                                               0.040936  \n",
       "rougher.state.floatbank10_e_level                                             0.056080  \n",
       "rougher.state.floatbank10_f_air                                               0.053557  \n",
       "rougher.state.floatbank10_f_level                                             0.064456  \n",
       "secondary_cleaner.state.floatbank2_a_air                                      0.127210  \n",
       "secondary_cleaner.state.floatbank2_a_level                                    0.025503  \n",
       "secondary_cleaner.state.floatbank2_b_air                                      0.157649  \n",
       "secondary_cleaner.state.floatbank2_b_level                                    0.023177  \n",
       "secondary_cleaner.state.floatbank3_a_air                                      0.123084  \n",
       "secondary_cleaner.state.floatbank3_a_level                                    0.010255  \n",
       "secondary_cleaner.state.floatbank3_b_air                                      0.114933  \n",
       "secondary_cleaner.state.floatbank3_b_level                                    0.076089  \n",
       "secondary_cleaner.state.floatbank4_a_air                                      0.145112  \n",
       "secondary_cleaner.state.floatbank4_a_level                                    0.028501  \n",
       "secondary_cleaner.state.floatbank4_b_air                                      0.142336  \n",
       "secondary_cleaner.state.floatbank4_b_level                                    0.046965  \n",
       "secondary_cleaner.state.floatbank5_a_air                                      0.080659  \n",
       "secondary_cleaner.state.floatbank5_a_level                                    0.404586  \n",
       "secondary_cleaner.state.floatbank5_b_air                                      0.156877  \n",
       "secondary_cleaner.state.floatbank5_b_level                                    0.336502  \n",
       "secondary_cleaner.state.floatbank6_a_air                                      0.189606  \n",
       "secondary_cleaner.state.floatbank6_a_level                                    1.000000  \n",
       "\n",
       "[52 rows x 52 columns]"
      ]
     },
     "metadata": {},
     "output_type": "display_data"
    },
    {
     "data": {
      "text/html": [
       "<div>\n",
       "<style scoped>\n",
       "    .dataframe tbody tr th:only-of-type {\n",
       "        vertical-align: middle;\n",
       "    }\n",
       "\n",
       "    .dataframe tbody tr th {\n",
       "        vertical-align: top;\n",
       "    }\n",
       "\n",
       "    .dataframe thead th {\n",
       "        text-align: right;\n",
       "    }\n",
       "</style>\n",
       "<table border=\"1\" class=\"dataframe\">\n",
       "  <thead>\n",
       "    <tr style=\"text-align: right;\">\n",
       "      <th></th>\n",
       "      <th>final.output.concentrate_ag</th>\n",
       "      <th>final.output.concentrate_pb</th>\n",
       "      <th>final.output.concentrate_sol</th>\n",
       "      <th>final.output.concentrate_au</th>\n",
       "      <th>final.output.recovery</th>\n",
       "      <th>final.output.tail_ag</th>\n",
       "      <th>final.output.tail_pb</th>\n",
       "      <th>final.output.tail_sol</th>\n",
       "      <th>final.output.tail_au</th>\n",
       "      <th>primary_cleaner.input.sulfate</th>\n",
       "      <th>...</th>\n",
       "      <th>secondary_cleaner.state.floatbank4_a_air</th>\n",
       "      <th>secondary_cleaner.state.floatbank4_a_level</th>\n",
       "      <th>secondary_cleaner.state.floatbank4_b_air</th>\n",
       "      <th>secondary_cleaner.state.floatbank4_b_level</th>\n",
       "      <th>secondary_cleaner.state.floatbank5_a_air</th>\n",
       "      <th>secondary_cleaner.state.floatbank5_a_level</th>\n",
       "      <th>secondary_cleaner.state.floatbank5_b_air</th>\n",
       "      <th>secondary_cleaner.state.floatbank5_b_level</th>\n",
       "      <th>secondary_cleaner.state.floatbank6_a_air</th>\n",
       "      <th>secondary_cleaner.state.floatbank6_a_level</th>\n",
       "    </tr>\n",
       "  </thead>\n",
       "  <tbody>\n",
       "    <tr>\n",
       "      <th>final.output.concentrate_ag</th>\n",
       "      <td>1.000000</td>\n",
       "      <td>0.063618</td>\n",
       "      <td>0.345467</td>\n",
       "      <td>-0.038185</td>\n",
       "      <td>0.185964</td>\n",
       "      <td>0.334671</td>\n",
       "      <td>-0.059697</td>\n",
       "      <td>0.029064</td>\n",
       "      <td>0.206570</td>\n",
       "      <td>0.070281</td>\n",
       "      <td>...</td>\n",
       "      <td>0.028778</td>\n",
       "      <td>0.104144</td>\n",
       "      <td>0.029968</td>\n",
       "      <td>-0.063206</td>\n",
       "      <td>-0.004185</td>\n",
       "      <td>0.184402</td>\n",
       "      <td>0.003746</td>\n",
       "      <td>0.156545</td>\n",
       "      <td>0.162637</td>\n",
       "      <td>0.059583</td>\n",
       "    </tr>\n",
       "    <tr>\n",
       "      <th>final.output.concentrate_pb</th>\n",
       "      <td>0.063618</td>\n",
       "      <td>1.000000</td>\n",
       "      <td>-0.041863</td>\n",
       "      <td>0.374439</td>\n",
       "      <td>0.151998</td>\n",
       "      <td>-0.126458</td>\n",
       "      <td>0.235350</td>\n",
       "      <td>0.094307</td>\n",
       "      <td>-0.047438</td>\n",
       "      <td>0.073662</td>\n",
       "      <td>...</td>\n",
       "      <td>0.060320</td>\n",
       "      <td>0.028965</td>\n",
       "      <td>0.115445</td>\n",
       "      <td>0.093847</td>\n",
       "      <td>0.125937</td>\n",
       "      <td>-0.024605</td>\n",
       "      <td>0.149282</td>\n",
       "      <td>-0.059971</td>\n",
       "      <td>-0.042138</td>\n",
       "      <td>0.067421</td>\n",
       "    </tr>\n",
       "    <tr>\n",
       "      <th>final.output.concentrate_sol</th>\n",
       "      <td>0.345467</td>\n",
       "      <td>-0.041863</td>\n",
       "      <td>1.000000</td>\n",
       "      <td>0.254728</td>\n",
       "      <td>0.287121</td>\n",
       "      <td>0.262552</td>\n",
       "      <td>0.245992</td>\n",
       "      <td>-0.043652</td>\n",
       "      <td>0.259872</td>\n",
       "      <td>0.331918</td>\n",
       "      <td>...</td>\n",
       "      <td>-0.027307</td>\n",
       "      <td>0.147140</td>\n",
       "      <td>0.024136</td>\n",
       "      <td>0.013480</td>\n",
       "      <td>0.000944</td>\n",
       "      <td>0.159780</td>\n",
       "      <td>-0.012732</td>\n",
       "      <td>0.150391</td>\n",
       "      <td>0.237028</td>\n",
       "      <td>-0.214283</td>\n",
       "    </tr>\n",
       "    <tr>\n",
       "      <th>final.output.concentrate_au</th>\n",
       "      <td>-0.038185</td>\n",
       "      <td>0.374439</td>\n",
       "      <td>0.254728</td>\n",
       "      <td>1.000000</td>\n",
       "      <td>0.288568</td>\n",
       "      <td>0.080601</td>\n",
       "      <td>0.075289</td>\n",
       "      <td>0.135003</td>\n",
       "      <td>-0.031696</td>\n",
       "      <td>0.103999</td>\n",
       "      <td>...</td>\n",
       "      <td>0.010936</td>\n",
       "      <td>-0.019465</td>\n",
       "      <td>-0.015278</td>\n",
       "      <td>-0.018620</td>\n",
       "      <td>-0.000962</td>\n",
       "      <td>-0.080779</td>\n",
       "      <td>-0.016953</td>\n",
       "      <td>-0.084959</td>\n",
       "      <td>-0.081693</td>\n",
       "      <td>-0.019498</td>\n",
       "    </tr>\n",
       "    <tr>\n",
       "      <th>final.output.recovery</th>\n",
       "      <td>0.185964</td>\n",
       "      <td>0.151998</td>\n",
       "      <td>0.287121</td>\n",
       "      <td>0.288568</td>\n",
       "      <td>1.000000</td>\n",
       "      <td>0.126129</td>\n",
       "      <td>-0.128088</td>\n",
       "      <td>-0.049642</td>\n",
       "      <td>-0.409200</td>\n",
       "      <td>0.355877</td>\n",
       "      <td>...</td>\n",
       "      <td>0.168594</td>\n",
       "      <td>0.031254</td>\n",
       "      <td>0.158530</td>\n",
       "      <td>-0.050028</td>\n",
       "      <td>0.066974</td>\n",
       "      <td>0.011848</td>\n",
       "      <td>0.051987</td>\n",
       "      <td>0.016467</td>\n",
       "      <td>-0.024962</td>\n",
       "      <td>-0.005395</td>\n",
       "    </tr>\n",
       "    <tr>\n",
       "      <th>...</th>\n",
       "      <td>...</td>\n",
       "      <td>...</td>\n",
       "      <td>...</td>\n",
       "      <td>...</td>\n",
       "      <td>...</td>\n",
       "      <td>...</td>\n",
       "      <td>...</td>\n",
       "      <td>...</td>\n",
       "      <td>...</td>\n",
       "      <td>...</td>\n",
       "      <td>...</td>\n",
       "      <td>...</td>\n",
       "      <td>...</td>\n",
       "      <td>...</td>\n",
       "      <td>...</td>\n",
       "      <td>...</td>\n",
       "      <td>...</td>\n",
       "      <td>...</td>\n",
       "      <td>...</td>\n",
       "      <td>...</td>\n",
       "      <td>...</td>\n",
       "    </tr>\n",
       "    <tr>\n",
       "      <th>secondary_cleaner.state.floatbank5_a_level</th>\n",
       "      <td>0.184402</td>\n",
       "      <td>-0.024605</td>\n",
       "      <td>0.159780</td>\n",
       "      <td>-0.080779</td>\n",
       "      <td>0.011848</td>\n",
       "      <td>-0.021678</td>\n",
       "      <td>0.018596</td>\n",
       "      <td>-0.073829</td>\n",
       "      <td>0.035270</td>\n",
       "      <td>-0.097621</td>\n",
       "      <td>...</td>\n",
       "      <td>0.175787</td>\n",
       "      <td>0.737526</td>\n",
       "      <td>0.069884</td>\n",
       "      <td>0.417909</td>\n",
       "      <td>0.154749</td>\n",
       "      <td>1.000000</td>\n",
       "      <td>0.108128</td>\n",
       "      <td>0.818407</td>\n",
       "      <td>0.464163</td>\n",
       "      <td>0.344514</td>\n",
       "    </tr>\n",
       "    <tr>\n",
       "      <th>secondary_cleaner.state.floatbank5_b_air</th>\n",
       "      <td>0.003746</td>\n",
       "      <td>0.149282</td>\n",
       "      <td>-0.012732</td>\n",
       "      <td>-0.016953</td>\n",
       "      <td>0.051987</td>\n",
       "      <td>-0.013680</td>\n",
       "      <td>0.111670</td>\n",
       "      <td>-0.135575</td>\n",
       "      <td>-0.160522</td>\n",
       "      <td>-0.087909</td>\n",
       "      <td>...</td>\n",
       "      <td>0.734151</td>\n",
       "      <td>0.289100</td>\n",
       "      <td>0.855788</td>\n",
       "      <td>0.099804</td>\n",
       "      <td>0.895835</td>\n",
       "      <td>0.108128</td>\n",
       "      <td>1.000000</td>\n",
       "      <td>0.090763</td>\n",
       "      <td>0.491736</td>\n",
       "      <td>-0.011875</td>\n",
       "    </tr>\n",
       "    <tr>\n",
       "      <th>secondary_cleaner.state.floatbank5_b_level</th>\n",
       "      <td>0.156545</td>\n",
       "      <td>-0.059971</td>\n",
       "      <td>0.150391</td>\n",
       "      <td>-0.084959</td>\n",
       "      <td>0.016467</td>\n",
       "      <td>-0.003764</td>\n",
       "      <td>0.044840</td>\n",
       "      <td>-0.087587</td>\n",
       "      <td>0.063403</td>\n",
       "      <td>-0.055629</td>\n",
       "      <td>...</td>\n",
       "      <td>0.148105</td>\n",
       "      <td>0.630450</td>\n",
       "      <td>0.076261</td>\n",
       "      <td>0.364585</td>\n",
       "      <td>0.136005</td>\n",
       "      <td>0.818407</td>\n",
       "      <td>0.090763</td>\n",
       "      <td>1.000000</td>\n",
       "      <td>0.411520</td>\n",
       "      <td>0.327852</td>\n",
       "    </tr>\n",
       "    <tr>\n",
       "      <th>secondary_cleaner.state.floatbank6_a_air</th>\n",
       "      <td>0.162637</td>\n",
       "      <td>-0.042138</td>\n",
       "      <td>0.237028</td>\n",
       "      <td>-0.081693</td>\n",
       "      <td>-0.024962</td>\n",
       "      <td>-0.055208</td>\n",
       "      <td>-0.000143</td>\n",
       "      <td>-0.070651</td>\n",
       "      <td>0.038829</td>\n",
       "      <td>-0.174421</td>\n",
       "      <td>...</td>\n",
       "      <td>0.229689</td>\n",
       "      <td>0.503695</td>\n",
       "      <td>0.311739</td>\n",
       "      <td>0.087614</td>\n",
       "      <td>0.473326</td>\n",
       "      <td>0.464163</td>\n",
       "      <td>0.491736</td>\n",
       "      <td>0.411520</td>\n",
       "      <td>1.000000</td>\n",
       "      <td>0.106402</td>\n",
       "    </tr>\n",
       "    <tr>\n",
       "      <th>secondary_cleaner.state.floatbank6_a_level</th>\n",
       "      <td>0.059583</td>\n",
       "      <td>0.067421</td>\n",
       "      <td>-0.214283</td>\n",
       "      <td>-0.019498</td>\n",
       "      <td>-0.005395</td>\n",
       "      <td>-0.088574</td>\n",
       "      <td>-0.117994</td>\n",
       "      <td>0.021198</td>\n",
       "      <td>-0.065568</td>\n",
       "      <td>-0.056397</td>\n",
       "      <td>...</td>\n",
       "      <td>0.007283</td>\n",
       "      <td>0.186354</td>\n",
       "      <td>-0.064453</td>\n",
       "      <td>0.191710</td>\n",
       "      <td>-0.008657</td>\n",
       "      <td>0.344514</td>\n",
       "      <td>-0.011875</td>\n",
       "      <td>0.327852</td>\n",
       "      <td>0.106402</td>\n",
       "      <td>1.000000</td>\n",
       "    </tr>\n",
       "  </tbody>\n",
       "</table>\n",
       "<p>86 rows × 86 columns</p>\n",
       "</div>"
      ],
      "text/plain": [
       "                                            final.output.concentrate_ag  \\\n",
       "final.output.concentrate_ag                                    1.000000   \n",
       "final.output.concentrate_pb                                    0.063618   \n",
       "final.output.concentrate_sol                                   0.345467   \n",
       "final.output.concentrate_au                                   -0.038185   \n",
       "final.output.recovery                                          0.185964   \n",
       "...                                                                 ...   \n",
       "secondary_cleaner.state.floatbank5_a_level                     0.184402   \n",
       "secondary_cleaner.state.floatbank5_b_air                       0.003746   \n",
       "secondary_cleaner.state.floatbank5_b_level                     0.156545   \n",
       "secondary_cleaner.state.floatbank6_a_air                       0.162637   \n",
       "secondary_cleaner.state.floatbank6_a_level                     0.059583   \n",
       "\n",
       "                                            final.output.concentrate_pb  \\\n",
       "final.output.concentrate_ag                                    0.063618   \n",
       "final.output.concentrate_pb                                    1.000000   \n",
       "final.output.concentrate_sol                                  -0.041863   \n",
       "final.output.concentrate_au                                    0.374439   \n",
       "final.output.recovery                                          0.151998   \n",
       "...                                                                 ...   \n",
       "secondary_cleaner.state.floatbank5_a_level                    -0.024605   \n",
       "secondary_cleaner.state.floatbank5_b_air                       0.149282   \n",
       "secondary_cleaner.state.floatbank5_b_level                    -0.059971   \n",
       "secondary_cleaner.state.floatbank6_a_air                      -0.042138   \n",
       "secondary_cleaner.state.floatbank6_a_level                     0.067421   \n",
       "\n",
       "                                            final.output.concentrate_sol  \\\n",
       "final.output.concentrate_ag                                     0.345467   \n",
       "final.output.concentrate_pb                                    -0.041863   \n",
       "final.output.concentrate_sol                                    1.000000   \n",
       "final.output.concentrate_au                                     0.254728   \n",
       "final.output.recovery                                           0.287121   \n",
       "...                                                                  ...   \n",
       "secondary_cleaner.state.floatbank5_a_level                      0.159780   \n",
       "secondary_cleaner.state.floatbank5_b_air                       -0.012732   \n",
       "secondary_cleaner.state.floatbank5_b_level                      0.150391   \n",
       "secondary_cleaner.state.floatbank6_a_air                        0.237028   \n",
       "secondary_cleaner.state.floatbank6_a_level                     -0.214283   \n",
       "\n",
       "                                            final.output.concentrate_au  \\\n",
       "final.output.concentrate_ag                                   -0.038185   \n",
       "final.output.concentrate_pb                                    0.374439   \n",
       "final.output.concentrate_sol                                   0.254728   \n",
       "final.output.concentrate_au                                    1.000000   \n",
       "final.output.recovery                                          0.288568   \n",
       "...                                                                 ...   \n",
       "secondary_cleaner.state.floatbank5_a_level                    -0.080779   \n",
       "secondary_cleaner.state.floatbank5_b_air                      -0.016953   \n",
       "secondary_cleaner.state.floatbank5_b_level                    -0.084959   \n",
       "secondary_cleaner.state.floatbank6_a_air                      -0.081693   \n",
       "secondary_cleaner.state.floatbank6_a_level                    -0.019498   \n",
       "\n",
       "                                            final.output.recovery  \\\n",
       "final.output.concentrate_ag                              0.185964   \n",
       "final.output.concentrate_pb                              0.151998   \n",
       "final.output.concentrate_sol                             0.287121   \n",
       "final.output.concentrate_au                              0.288568   \n",
       "final.output.recovery                                    1.000000   \n",
       "...                                                           ...   \n",
       "secondary_cleaner.state.floatbank5_a_level               0.011848   \n",
       "secondary_cleaner.state.floatbank5_b_air                 0.051987   \n",
       "secondary_cleaner.state.floatbank5_b_level               0.016467   \n",
       "secondary_cleaner.state.floatbank6_a_air                -0.024962   \n",
       "secondary_cleaner.state.floatbank6_a_level              -0.005395   \n",
       "\n",
       "                                            final.output.tail_ag  \\\n",
       "final.output.concentrate_ag                             0.334671   \n",
       "final.output.concentrate_pb                            -0.126458   \n",
       "final.output.concentrate_sol                            0.262552   \n",
       "final.output.concentrate_au                             0.080601   \n",
       "final.output.recovery                                   0.126129   \n",
       "...                                                          ...   \n",
       "secondary_cleaner.state.floatbank5_a_level             -0.021678   \n",
       "secondary_cleaner.state.floatbank5_b_air               -0.013680   \n",
       "secondary_cleaner.state.floatbank5_b_level             -0.003764   \n",
       "secondary_cleaner.state.floatbank6_a_air               -0.055208   \n",
       "secondary_cleaner.state.floatbank6_a_level             -0.088574   \n",
       "\n",
       "                                            final.output.tail_pb  \\\n",
       "final.output.concentrate_ag                            -0.059697   \n",
       "final.output.concentrate_pb                             0.235350   \n",
       "final.output.concentrate_sol                            0.245992   \n",
       "final.output.concentrate_au                             0.075289   \n",
       "final.output.recovery                                  -0.128088   \n",
       "...                                                          ...   \n",
       "secondary_cleaner.state.floatbank5_a_level              0.018596   \n",
       "secondary_cleaner.state.floatbank5_b_air                0.111670   \n",
       "secondary_cleaner.state.floatbank5_b_level              0.044840   \n",
       "secondary_cleaner.state.floatbank6_a_air               -0.000143   \n",
       "secondary_cleaner.state.floatbank6_a_level             -0.117994   \n",
       "\n",
       "                                            final.output.tail_sol  \\\n",
       "final.output.concentrate_ag                              0.029064   \n",
       "final.output.concentrate_pb                              0.094307   \n",
       "final.output.concentrate_sol                            -0.043652   \n",
       "final.output.concentrate_au                              0.135003   \n",
       "final.output.recovery                                   -0.049642   \n",
       "...                                                           ...   \n",
       "secondary_cleaner.state.floatbank5_a_level              -0.073829   \n",
       "secondary_cleaner.state.floatbank5_b_air                -0.135575   \n",
       "secondary_cleaner.state.floatbank5_b_level              -0.087587   \n",
       "secondary_cleaner.state.floatbank6_a_air                -0.070651   \n",
       "secondary_cleaner.state.floatbank6_a_level               0.021198   \n",
       "\n",
       "                                            final.output.tail_au  \\\n",
       "final.output.concentrate_ag                             0.206570   \n",
       "final.output.concentrate_pb                            -0.047438   \n",
       "final.output.concentrate_sol                            0.259872   \n",
       "final.output.concentrate_au                            -0.031696   \n",
       "final.output.recovery                                  -0.409200   \n",
       "...                                                          ...   \n",
       "secondary_cleaner.state.floatbank5_a_level              0.035270   \n",
       "secondary_cleaner.state.floatbank5_b_air               -0.160522   \n",
       "secondary_cleaner.state.floatbank5_b_level              0.063403   \n",
       "secondary_cleaner.state.floatbank6_a_air                0.038829   \n",
       "secondary_cleaner.state.floatbank6_a_level             -0.065568   \n",
       "\n",
       "                                            primary_cleaner.input.sulfate  \\\n",
       "final.output.concentrate_ag                                      0.070281   \n",
       "final.output.concentrate_pb                                      0.073662   \n",
       "final.output.concentrate_sol                                     0.331918   \n",
       "final.output.concentrate_au                                      0.103999   \n",
       "final.output.recovery                                            0.355877   \n",
       "...                                                                   ...   \n",
       "secondary_cleaner.state.floatbank5_a_level                      -0.097621   \n",
       "secondary_cleaner.state.floatbank5_b_air                        -0.087909   \n",
       "secondary_cleaner.state.floatbank5_b_level                      -0.055629   \n",
       "secondary_cleaner.state.floatbank6_a_air                        -0.174421   \n",
       "secondary_cleaner.state.floatbank6_a_level                      -0.056397   \n",
       "\n",
       "                                            ...  \\\n",
       "final.output.concentrate_ag                 ...   \n",
       "final.output.concentrate_pb                 ...   \n",
       "final.output.concentrate_sol                ...   \n",
       "final.output.concentrate_au                 ...   \n",
       "final.output.recovery                       ...   \n",
       "...                                         ...   \n",
       "secondary_cleaner.state.floatbank5_a_level  ...   \n",
       "secondary_cleaner.state.floatbank5_b_air    ...   \n",
       "secondary_cleaner.state.floatbank5_b_level  ...   \n",
       "secondary_cleaner.state.floatbank6_a_air    ...   \n",
       "secondary_cleaner.state.floatbank6_a_level  ...   \n",
       "\n",
       "                                            secondary_cleaner.state.floatbank4_a_air  \\\n",
       "final.output.concentrate_ag                                                 0.028778   \n",
       "final.output.concentrate_pb                                                 0.060320   \n",
       "final.output.concentrate_sol                                               -0.027307   \n",
       "final.output.concentrate_au                                                 0.010936   \n",
       "final.output.recovery                                                       0.168594   \n",
       "...                                                                              ...   \n",
       "secondary_cleaner.state.floatbank5_a_level                                  0.175787   \n",
       "secondary_cleaner.state.floatbank5_b_air                                    0.734151   \n",
       "secondary_cleaner.state.floatbank5_b_level                                  0.148105   \n",
       "secondary_cleaner.state.floatbank6_a_air                                    0.229689   \n",
       "secondary_cleaner.state.floatbank6_a_level                                  0.007283   \n",
       "\n",
       "                                            secondary_cleaner.state.floatbank4_a_level  \\\n",
       "final.output.concentrate_ag                                                   0.104144   \n",
       "final.output.concentrate_pb                                                   0.028965   \n",
       "final.output.concentrate_sol                                                  0.147140   \n",
       "final.output.concentrate_au                                                  -0.019465   \n",
       "final.output.recovery                                                         0.031254   \n",
       "...                                                                                ...   \n",
       "secondary_cleaner.state.floatbank5_a_level                                    0.737526   \n",
       "secondary_cleaner.state.floatbank5_b_air                                      0.289100   \n",
       "secondary_cleaner.state.floatbank5_b_level                                    0.630450   \n",
       "secondary_cleaner.state.floatbank6_a_air                                      0.503695   \n",
       "secondary_cleaner.state.floatbank6_a_level                                    0.186354   \n",
       "\n",
       "                                            secondary_cleaner.state.floatbank4_b_air  \\\n",
       "final.output.concentrate_ag                                                 0.029968   \n",
       "final.output.concentrate_pb                                                 0.115445   \n",
       "final.output.concentrate_sol                                                0.024136   \n",
       "final.output.concentrate_au                                                -0.015278   \n",
       "final.output.recovery                                                       0.158530   \n",
       "...                                                                              ...   \n",
       "secondary_cleaner.state.floatbank5_a_level                                  0.069884   \n",
       "secondary_cleaner.state.floatbank5_b_air                                    0.855788   \n",
       "secondary_cleaner.state.floatbank5_b_level                                  0.076261   \n",
       "secondary_cleaner.state.floatbank6_a_air                                    0.311739   \n",
       "secondary_cleaner.state.floatbank6_a_level                                 -0.064453   \n",
       "\n",
       "                                            secondary_cleaner.state.floatbank4_b_level  \\\n",
       "final.output.concentrate_ag                                                  -0.063206   \n",
       "final.output.concentrate_pb                                                   0.093847   \n",
       "final.output.concentrate_sol                                                  0.013480   \n",
       "final.output.concentrate_au                                                  -0.018620   \n",
       "final.output.recovery                                                        -0.050028   \n",
       "...                                                                                ...   \n",
       "secondary_cleaner.state.floatbank5_a_level                                    0.417909   \n",
       "secondary_cleaner.state.floatbank5_b_air                                      0.099804   \n",
       "secondary_cleaner.state.floatbank5_b_level                                    0.364585   \n",
       "secondary_cleaner.state.floatbank6_a_air                                      0.087614   \n",
       "secondary_cleaner.state.floatbank6_a_level                                    0.191710   \n",
       "\n",
       "                                            secondary_cleaner.state.floatbank5_a_air  \\\n",
       "final.output.concentrate_ag                                                -0.004185   \n",
       "final.output.concentrate_pb                                                 0.125937   \n",
       "final.output.concentrate_sol                                                0.000944   \n",
       "final.output.concentrate_au                                                -0.000962   \n",
       "final.output.recovery                                                       0.066974   \n",
       "...                                                                              ...   \n",
       "secondary_cleaner.state.floatbank5_a_level                                  0.154749   \n",
       "secondary_cleaner.state.floatbank5_b_air                                    0.895835   \n",
       "secondary_cleaner.state.floatbank5_b_level                                  0.136005   \n",
       "secondary_cleaner.state.floatbank6_a_air                                    0.473326   \n",
       "secondary_cleaner.state.floatbank6_a_level                                 -0.008657   \n",
       "\n",
       "                                            secondary_cleaner.state.floatbank5_a_level  \\\n",
       "final.output.concentrate_ag                                                   0.184402   \n",
       "final.output.concentrate_pb                                                  -0.024605   \n",
       "final.output.concentrate_sol                                                  0.159780   \n",
       "final.output.concentrate_au                                                  -0.080779   \n",
       "final.output.recovery                                                         0.011848   \n",
       "...                                                                                ...   \n",
       "secondary_cleaner.state.floatbank5_a_level                                    1.000000   \n",
       "secondary_cleaner.state.floatbank5_b_air                                      0.108128   \n",
       "secondary_cleaner.state.floatbank5_b_level                                    0.818407   \n",
       "secondary_cleaner.state.floatbank6_a_air                                      0.464163   \n",
       "secondary_cleaner.state.floatbank6_a_level                                    0.344514   \n",
       "\n",
       "                                            secondary_cleaner.state.floatbank5_b_air  \\\n",
       "final.output.concentrate_ag                                                 0.003746   \n",
       "final.output.concentrate_pb                                                 0.149282   \n",
       "final.output.concentrate_sol                                               -0.012732   \n",
       "final.output.concentrate_au                                                -0.016953   \n",
       "final.output.recovery                                                       0.051987   \n",
       "...                                                                              ...   \n",
       "secondary_cleaner.state.floatbank5_a_level                                  0.108128   \n",
       "secondary_cleaner.state.floatbank5_b_air                                    1.000000   \n",
       "secondary_cleaner.state.floatbank5_b_level                                  0.090763   \n",
       "secondary_cleaner.state.floatbank6_a_air                                    0.491736   \n",
       "secondary_cleaner.state.floatbank6_a_level                                 -0.011875   \n",
       "\n",
       "                                            secondary_cleaner.state.floatbank5_b_level  \\\n",
       "final.output.concentrate_ag                                                   0.156545   \n",
       "final.output.concentrate_pb                                                  -0.059971   \n",
       "final.output.concentrate_sol                                                  0.150391   \n",
       "final.output.concentrate_au                                                  -0.084959   \n",
       "final.output.recovery                                                         0.016467   \n",
       "...                                                                                ...   \n",
       "secondary_cleaner.state.floatbank5_a_level                                    0.818407   \n",
       "secondary_cleaner.state.floatbank5_b_air                                      0.090763   \n",
       "secondary_cleaner.state.floatbank5_b_level                                    1.000000   \n",
       "secondary_cleaner.state.floatbank6_a_air                                      0.411520   \n",
       "secondary_cleaner.state.floatbank6_a_level                                    0.327852   \n",
       "\n",
       "                                            secondary_cleaner.state.floatbank6_a_air  \\\n",
       "final.output.concentrate_ag                                                 0.162637   \n",
       "final.output.concentrate_pb                                                -0.042138   \n",
       "final.output.concentrate_sol                                                0.237028   \n",
       "final.output.concentrate_au                                                -0.081693   \n",
       "final.output.recovery                                                      -0.024962   \n",
       "...                                                                              ...   \n",
       "secondary_cleaner.state.floatbank5_a_level                                  0.464163   \n",
       "secondary_cleaner.state.floatbank5_b_air                                    0.491736   \n",
       "secondary_cleaner.state.floatbank5_b_level                                  0.411520   \n",
       "secondary_cleaner.state.floatbank6_a_air                                    1.000000   \n",
       "secondary_cleaner.state.floatbank6_a_level                                  0.106402   \n",
       "\n",
       "                                            secondary_cleaner.state.floatbank6_a_level  \n",
       "final.output.concentrate_ag                                                   0.059583  \n",
       "final.output.concentrate_pb                                                   0.067421  \n",
       "final.output.concentrate_sol                                                 -0.214283  \n",
       "final.output.concentrate_au                                                  -0.019498  \n",
       "final.output.recovery                                                        -0.005395  \n",
       "...                                                                                ...  \n",
       "secondary_cleaner.state.floatbank5_a_level                                    0.344514  \n",
       "secondary_cleaner.state.floatbank5_b_air                                     -0.011875  \n",
       "secondary_cleaner.state.floatbank5_b_level                                    0.327852  \n",
       "secondary_cleaner.state.floatbank6_a_air                                      0.106402  \n",
       "secondary_cleaner.state.floatbank6_a_level                                    1.000000  \n",
       "\n",
       "[86 rows x 86 columns]"
      ]
     },
     "metadata": {},
     "output_type": "display_data"
    },
    {
     "data": {
      "text/html": [
       "<div>\n",
       "<style scoped>\n",
       "    .dataframe tbody tr th:only-of-type {\n",
       "        vertical-align: middle;\n",
       "    }\n",
       "\n",
       "    .dataframe tbody tr th {\n",
       "        vertical-align: top;\n",
       "    }\n",
       "\n",
       "    .dataframe thead th {\n",
       "        text-align: right;\n",
       "    }\n",
       "</style>\n",
       "<table border=\"1\" class=\"dataframe\">\n",
       "  <thead>\n",
       "    <tr style=\"text-align: right;\">\n",
       "      <th></th>\n",
       "      <th>final.output.concentrate_ag</th>\n",
       "      <th>final.output.concentrate_pb</th>\n",
       "      <th>final.output.concentrate_sol</th>\n",
       "      <th>final.output.concentrate_au</th>\n",
       "      <th>final.output.recovery</th>\n",
       "      <th>final.output.tail_ag</th>\n",
       "      <th>final.output.tail_pb</th>\n",
       "      <th>final.output.tail_sol</th>\n",
       "      <th>final.output.tail_au</th>\n",
       "      <th>primary_cleaner.input.sulfate</th>\n",
       "      <th>...</th>\n",
       "      <th>secondary_cleaner.state.floatbank4_a_air</th>\n",
       "      <th>secondary_cleaner.state.floatbank4_a_level</th>\n",
       "      <th>secondary_cleaner.state.floatbank4_b_air</th>\n",
       "      <th>secondary_cleaner.state.floatbank4_b_level</th>\n",
       "      <th>secondary_cleaner.state.floatbank5_a_air</th>\n",
       "      <th>secondary_cleaner.state.floatbank5_a_level</th>\n",
       "      <th>secondary_cleaner.state.floatbank5_b_air</th>\n",
       "      <th>secondary_cleaner.state.floatbank5_b_level</th>\n",
       "      <th>secondary_cleaner.state.floatbank6_a_air</th>\n",
       "      <th>secondary_cleaner.state.floatbank6_a_level</th>\n",
       "    </tr>\n",
       "  </thead>\n",
       "  <tbody>\n",
       "    <tr>\n",
       "      <th>final.output.concentrate_ag</th>\n",
       "      <td>1.000000</td>\n",
       "      <td>0.021188</td>\n",
       "      <td>0.308293</td>\n",
       "      <td>-0.104643</td>\n",
       "      <td>0.133253</td>\n",
       "      <td>0.289608</td>\n",
       "      <td>-0.109474</td>\n",
       "      <td>0.046245</td>\n",
       "      <td>0.193927</td>\n",
       "      <td>0.015657</td>\n",
       "      <td>...</td>\n",
       "      <td>0.043730</td>\n",
       "      <td>0.169557</td>\n",
       "      <td>0.020938</td>\n",
       "      <td>0.005363</td>\n",
       "      <td>0.013101</td>\n",
       "      <td>0.228833</td>\n",
       "      <td>0.021730</td>\n",
       "      <td>0.199140</td>\n",
       "      <td>0.170380</td>\n",
       "      <td>0.061006</td>\n",
       "    </tr>\n",
       "    <tr>\n",
       "      <th>final.output.concentrate_pb</th>\n",
       "      <td>0.021188</td>\n",
       "      <td>1.000000</td>\n",
       "      <td>0.001457</td>\n",
       "      <td>0.321006</td>\n",
       "      <td>0.095015</td>\n",
       "      <td>-0.100545</td>\n",
       "      <td>0.258941</td>\n",
       "      <td>0.068584</td>\n",
       "      <td>0.029186</td>\n",
       "      <td>0.116948</td>\n",
       "      <td>...</td>\n",
       "      <td>0.001758</td>\n",
       "      <td>-0.035179</td>\n",
       "      <td>0.092703</td>\n",
       "      <td>0.069321</td>\n",
       "      <td>0.095191</td>\n",
       "      <td>-0.096081</td>\n",
       "      <td>0.123802</td>\n",
       "      <td>-0.115075</td>\n",
       "      <td>-0.018394</td>\n",
       "      <td>0.075271</td>\n",
       "    </tr>\n",
       "    <tr>\n",
       "      <th>final.output.concentrate_sol</th>\n",
       "      <td>0.308293</td>\n",
       "      <td>0.001457</td>\n",
       "      <td>1.000000</td>\n",
       "      <td>0.210736</td>\n",
       "      <td>0.276327</td>\n",
       "      <td>0.196280</td>\n",
       "      <td>0.282889</td>\n",
       "      <td>-0.048919</td>\n",
       "      <td>0.231138</td>\n",
       "      <td>0.358490</td>\n",
       "      <td>...</td>\n",
       "      <td>0.023835</td>\n",
       "      <td>0.267074</td>\n",
       "      <td>0.038815</td>\n",
       "      <td>0.146107</td>\n",
       "      <td>0.039611</td>\n",
       "      <td>0.241744</td>\n",
       "      <td>0.015752</td>\n",
       "      <td>0.231101</td>\n",
       "      <td>0.222563</td>\n",
       "      <td>-0.271875</td>\n",
       "    </tr>\n",
       "    <tr>\n",
       "      <th>final.output.concentrate_au</th>\n",
       "      <td>-0.104643</td>\n",
       "      <td>0.321006</td>\n",
       "      <td>0.210736</td>\n",
       "      <td>1.000000</td>\n",
       "      <td>0.253067</td>\n",
       "      <td>0.079619</td>\n",
       "      <td>0.059601</td>\n",
       "      <td>0.099187</td>\n",
       "      <td>-0.070600</td>\n",
       "      <td>0.111357</td>\n",
       "      <td>...</td>\n",
       "      <td>0.039461</td>\n",
       "      <td>-0.042076</td>\n",
       "      <td>0.002315</td>\n",
       "      <td>-0.011141</td>\n",
       "      <td>0.005822</td>\n",
       "      <td>-0.098005</td>\n",
       "      <td>-0.014605</td>\n",
       "      <td>-0.086365</td>\n",
       "      <td>-0.122757</td>\n",
       "      <td>-0.030591</td>\n",
       "    </tr>\n",
       "    <tr>\n",
       "      <th>final.output.recovery</th>\n",
       "      <td>0.133253</td>\n",
       "      <td>0.095015</td>\n",
       "      <td>0.276327</td>\n",
       "      <td>0.253067</td>\n",
       "      <td>1.000000</td>\n",
       "      <td>0.151610</td>\n",
       "      <td>-0.133966</td>\n",
       "      <td>-0.087200</td>\n",
       "      <td>-0.435553</td>\n",
       "      <td>0.384798</td>\n",
       "      <td>...</td>\n",
       "      <td>0.209659</td>\n",
       "      <td>0.057357</td>\n",
       "      <td>0.170796</td>\n",
       "      <td>-0.089021</td>\n",
       "      <td>0.098198</td>\n",
       "      <td>0.024159</td>\n",
       "      <td>0.068281</td>\n",
       "      <td>0.043815</td>\n",
       "      <td>-0.027253</td>\n",
       "      <td>-0.035782</td>\n",
       "    </tr>\n",
       "    <tr>\n",
       "      <th>...</th>\n",
       "      <td>...</td>\n",
       "      <td>...</td>\n",
       "      <td>...</td>\n",
       "      <td>...</td>\n",
       "      <td>...</td>\n",
       "      <td>...</td>\n",
       "      <td>...</td>\n",
       "      <td>...</td>\n",
       "      <td>...</td>\n",
       "      <td>...</td>\n",
       "      <td>...</td>\n",
       "      <td>...</td>\n",
       "      <td>...</td>\n",
       "      <td>...</td>\n",
       "      <td>...</td>\n",
       "      <td>...</td>\n",
       "      <td>...</td>\n",
       "      <td>...</td>\n",
       "      <td>...</td>\n",
       "      <td>...</td>\n",
       "      <td>...</td>\n",
       "    </tr>\n",
       "    <tr>\n",
       "      <th>secondary_cleaner.state.floatbank5_a_level</th>\n",
       "      <td>0.228833</td>\n",
       "      <td>-0.096081</td>\n",
       "      <td>0.241744</td>\n",
       "      <td>-0.098005</td>\n",
       "      <td>0.024159</td>\n",
       "      <td>-0.008393</td>\n",
       "      <td>0.071651</td>\n",
       "      <td>-0.085958</td>\n",
       "      <td>0.116355</td>\n",
       "      <td>-0.030974</td>\n",
       "      <td>...</td>\n",
       "      <td>0.105582</td>\n",
       "      <td>0.790025</td>\n",
       "      <td>0.013065</td>\n",
       "      <td>0.554616</td>\n",
       "      <td>0.083474</td>\n",
       "      <td>1.000000</td>\n",
       "      <td>0.036597</td>\n",
       "      <td>0.884422</td>\n",
       "      <td>0.512319</td>\n",
       "      <td>0.379862</td>\n",
       "    </tr>\n",
       "    <tr>\n",
       "      <th>secondary_cleaner.state.floatbank5_b_air</th>\n",
       "      <td>0.021730</td>\n",
       "      <td>0.123802</td>\n",
       "      <td>0.015752</td>\n",
       "      <td>-0.014605</td>\n",
       "      <td>0.068281</td>\n",
       "      <td>0.008668</td>\n",
       "      <td>0.192483</td>\n",
       "      <td>-0.133394</td>\n",
       "      <td>-0.104752</td>\n",
       "      <td>0.000540</td>\n",
       "      <td>...</td>\n",
       "      <td>0.722636</td>\n",
       "      <td>0.244834</td>\n",
       "      <td>0.878031</td>\n",
       "      <td>0.154015</td>\n",
       "      <td>0.892487</td>\n",
       "      <td>0.036597</td>\n",
       "      <td>1.000000</td>\n",
       "      <td>0.046376</td>\n",
       "      <td>0.474673</td>\n",
       "      <td>-0.025748</td>\n",
       "    </tr>\n",
       "    <tr>\n",
       "      <th>secondary_cleaner.state.floatbank5_b_level</th>\n",
       "      <td>0.199140</td>\n",
       "      <td>-0.115075</td>\n",
       "      <td>0.231101</td>\n",
       "      <td>-0.086365</td>\n",
       "      <td>0.043815</td>\n",
       "      <td>-0.000428</td>\n",
       "      <td>0.080436</td>\n",
       "      <td>-0.104676</td>\n",
       "      <td>0.101255</td>\n",
       "      <td>-0.024671</td>\n",
       "      <td>...</td>\n",
       "      <td>0.110995</td>\n",
       "      <td>0.747246</td>\n",
       "      <td>0.035827</td>\n",
       "      <td>0.515631</td>\n",
       "      <td>0.100726</td>\n",
       "      <td>0.884422</td>\n",
       "      <td>0.046376</td>\n",
       "      <td>1.000000</td>\n",
       "      <td>0.493124</td>\n",
       "      <td>0.342091</td>\n",
       "    </tr>\n",
       "    <tr>\n",
       "      <th>secondary_cleaner.state.floatbank6_a_air</th>\n",
       "      <td>0.170380</td>\n",
       "      <td>-0.018394</td>\n",
       "      <td>0.222563</td>\n",
       "      <td>-0.122757</td>\n",
       "      <td>-0.027253</td>\n",
       "      <td>-0.103813</td>\n",
       "      <td>0.063197</td>\n",
       "      <td>0.002036</td>\n",
       "      <td>0.068412</td>\n",
       "      <td>-0.104186</td>\n",
       "      <td>...</td>\n",
       "      <td>0.206262</td>\n",
       "      <td>0.566279</td>\n",
       "      <td>0.311866</td>\n",
       "      <td>0.271922</td>\n",
       "      <td>0.440986</td>\n",
       "      <td>0.512319</td>\n",
       "      <td>0.474673</td>\n",
       "      <td>0.493124</td>\n",
       "      <td>1.000000</td>\n",
       "      <td>0.098835</td>\n",
       "    </tr>\n",
       "    <tr>\n",
       "      <th>secondary_cleaner.state.floatbank6_a_level</th>\n",
       "      <td>0.061006</td>\n",
       "      <td>0.075271</td>\n",
       "      <td>-0.271875</td>\n",
       "      <td>-0.030591</td>\n",
       "      <td>-0.035782</td>\n",
       "      <td>-0.123257</td>\n",
       "      <td>-0.183512</td>\n",
       "      <td>0.016747</td>\n",
       "      <td>-0.107121</td>\n",
       "      <td>-0.142148</td>\n",
       "      <td>...</td>\n",
       "      <td>-0.001740</td>\n",
       "      <td>0.257172</td>\n",
       "      <td>-0.108056</td>\n",
       "      <td>0.281521</td>\n",
       "      <td>-0.002858</td>\n",
       "      <td>0.379862</td>\n",
       "      <td>-0.025748</td>\n",
       "      <td>0.342091</td>\n",
       "      <td>0.098835</td>\n",
       "      <td>1.000000</td>\n",
       "    </tr>\n",
       "  </tbody>\n",
       "</table>\n",
       "<p>86 rows × 86 columns</p>\n",
       "</div>"
      ],
      "text/plain": [
       "                                            final.output.concentrate_ag  \\\n",
       "final.output.concentrate_ag                                    1.000000   \n",
       "final.output.concentrate_pb                                    0.021188   \n",
       "final.output.concentrate_sol                                   0.308293   \n",
       "final.output.concentrate_au                                   -0.104643   \n",
       "final.output.recovery                                          0.133253   \n",
       "...                                                                 ...   \n",
       "secondary_cleaner.state.floatbank5_a_level                     0.228833   \n",
       "secondary_cleaner.state.floatbank5_b_air                       0.021730   \n",
       "secondary_cleaner.state.floatbank5_b_level                     0.199140   \n",
       "secondary_cleaner.state.floatbank6_a_air                       0.170380   \n",
       "secondary_cleaner.state.floatbank6_a_level                     0.061006   \n",
       "\n",
       "                                            final.output.concentrate_pb  \\\n",
       "final.output.concentrate_ag                                    0.021188   \n",
       "final.output.concentrate_pb                                    1.000000   \n",
       "final.output.concentrate_sol                                   0.001457   \n",
       "final.output.concentrate_au                                    0.321006   \n",
       "final.output.recovery                                          0.095015   \n",
       "...                                                                 ...   \n",
       "secondary_cleaner.state.floatbank5_a_level                    -0.096081   \n",
       "secondary_cleaner.state.floatbank5_b_air                       0.123802   \n",
       "secondary_cleaner.state.floatbank5_b_level                    -0.115075   \n",
       "secondary_cleaner.state.floatbank6_a_air                      -0.018394   \n",
       "secondary_cleaner.state.floatbank6_a_level                     0.075271   \n",
       "\n",
       "                                            final.output.concentrate_sol  \\\n",
       "final.output.concentrate_ag                                     0.308293   \n",
       "final.output.concentrate_pb                                     0.001457   \n",
       "final.output.concentrate_sol                                    1.000000   \n",
       "final.output.concentrate_au                                     0.210736   \n",
       "final.output.recovery                                           0.276327   \n",
       "...                                                                  ...   \n",
       "secondary_cleaner.state.floatbank5_a_level                      0.241744   \n",
       "secondary_cleaner.state.floatbank5_b_air                        0.015752   \n",
       "secondary_cleaner.state.floatbank5_b_level                      0.231101   \n",
       "secondary_cleaner.state.floatbank6_a_air                        0.222563   \n",
       "secondary_cleaner.state.floatbank6_a_level                     -0.271875   \n",
       "\n",
       "                                            final.output.concentrate_au  \\\n",
       "final.output.concentrate_ag                                   -0.104643   \n",
       "final.output.concentrate_pb                                    0.321006   \n",
       "final.output.concentrate_sol                                   0.210736   \n",
       "final.output.concentrate_au                                    1.000000   \n",
       "final.output.recovery                                          0.253067   \n",
       "...                                                                 ...   \n",
       "secondary_cleaner.state.floatbank5_a_level                    -0.098005   \n",
       "secondary_cleaner.state.floatbank5_b_air                      -0.014605   \n",
       "secondary_cleaner.state.floatbank5_b_level                    -0.086365   \n",
       "secondary_cleaner.state.floatbank6_a_air                      -0.122757   \n",
       "secondary_cleaner.state.floatbank6_a_level                    -0.030591   \n",
       "\n",
       "                                            final.output.recovery  \\\n",
       "final.output.concentrate_ag                              0.133253   \n",
       "final.output.concentrate_pb                              0.095015   \n",
       "final.output.concentrate_sol                             0.276327   \n",
       "final.output.concentrate_au                              0.253067   \n",
       "final.output.recovery                                    1.000000   \n",
       "...                                                           ...   \n",
       "secondary_cleaner.state.floatbank5_a_level               0.024159   \n",
       "secondary_cleaner.state.floatbank5_b_air                 0.068281   \n",
       "secondary_cleaner.state.floatbank5_b_level               0.043815   \n",
       "secondary_cleaner.state.floatbank6_a_air                -0.027253   \n",
       "secondary_cleaner.state.floatbank6_a_level              -0.035782   \n",
       "\n",
       "                                            final.output.tail_ag  \\\n",
       "final.output.concentrate_ag                             0.289608   \n",
       "final.output.concentrate_pb                            -0.100545   \n",
       "final.output.concentrate_sol                            0.196280   \n",
       "final.output.concentrate_au                             0.079619   \n",
       "final.output.recovery                                   0.151610   \n",
       "...                                                          ...   \n",
       "secondary_cleaner.state.floatbank5_a_level             -0.008393   \n",
       "secondary_cleaner.state.floatbank5_b_air                0.008668   \n",
       "secondary_cleaner.state.floatbank5_b_level             -0.000428   \n",
       "secondary_cleaner.state.floatbank6_a_air               -0.103813   \n",
       "secondary_cleaner.state.floatbank6_a_level             -0.123257   \n",
       "\n",
       "                                            final.output.tail_pb  \\\n",
       "final.output.concentrate_ag                            -0.109474   \n",
       "final.output.concentrate_pb                             0.258941   \n",
       "final.output.concentrate_sol                            0.282889   \n",
       "final.output.concentrate_au                             0.059601   \n",
       "final.output.recovery                                  -0.133966   \n",
       "...                                                          ...   \n",
       "secondary_cleaner.state.floatbank5_a_level              0.071651   \n",
       "secondary_cleaner.state.floatbank5_b_air                0.192483   \n",
       "secondary_cleaner.state.floatbank5_b_level              0.080436   \n",
       "secondary_cleaner.state.floatbank6_a_air                0.063197   \n",
       "secondary_cleaner.state.floatbank6_a_level             -0.183512   \n",
       "\n",
       "                                            final.output.tail_sol  \\\n",
       "final.output.concentrate_ag                              0.046245   \n",
       "final.output.concentrate_pb                              0.068584   \n",
       "final.output.concentrate_sol                            -0.048919   \n",
       "final.output.concentrate_au                              0.099187   \n",
       "final.output.recovery                                   -0.087200   \n",
       "...                                                           ...   \n",
       "secondary_cleaner.state.floatbank5_a_level              -0.085958   \n",
       "secondary_cleaner.state.floatbank5_b_air                -0.133394   \n",
       "secondary_cleaner.state.floatbank5_b_level              -0.104676   \n",
       "secondary_cleaner.state.floatbank6_a_air                 0.002036   \n",
       "secondary_cleaner.state.floatbank6_a_level               0.016747   \n",
       "\n",
       "                                            final.output.tail_au  \\\n",
       "final.output.concentrate_ag                             0.193927   \n",
       "final.output.concentrate_pb                             0.029186   \n",
       "final.output.concentrate_sol                            0.231138   \n",
       "final.output.concentrate_au                            -0.070600   \n",
       "final.output.recovery                                  -0.435553   \n",
       "...                                                          ...   \n",
       "secondary_cleaner.state.floatbank5_a_level              0.116355   \n",
       "secondary_cleaner.state.floatbank5_b_air               -0.104752   \n",
       "secondary_cleaner.state.floatbank5_b_level              0.101255   \n",
       "secondary_cleaner.state.floatbank6_a_air                0.068412   \n",
       "secondary_cleaner.state.floatbank6_a_level             -0.107121   \n",
       "\n",
       "                                            primary_cleaner.input.sulfate  \\\n",
       "final.output.concentrate_ag                                      0.015657   \n",
       "final.output.concentrate_pb                                      0.116948   \n",
       "final.output.concentrate_sol                                     0.358490   \n",
       "final.output.concentrate_au                                      0.111357   \n",
       "final.output.recovery                                            0.384798   \n",
       "...                                                                   ...   \n",
       "secondary_cleaner.state.floatbank5_a_level                      -0.030974   \n",
       "secondary_cleaner.state.floatbank5_b_air                         0.000540   \n",
       "secondary_cleaner.state.floatbank5_b_level                      -0.024671   \n",
       "secondary_cleaner.state.floatbank6_a_air                        -0.104186   \n",
       "secondary_cleaner.state.floatbank6_a_level                      -0.142148   \n",
       "\n",
       "                                            ...  \\\n",
       "final.output.concentrate_ag                 ...   \n",
       "final.output.concentrate_pb                 ...   \n",
       "final.output.concentrate_sol                ...   \n",
       "final.output.concentrate_au                 ...   \n",
       "final.output.recovery                       ...   \n",
       "...                                         ...   \n",
       "secondary_cleaner.state.floatbank5_a_level  ...   \n",
       "secondary_cleaner.state.floatbank5_b_air    ...   \n",
       "secondary_cleaner.state.floatbank5_b_level  ...   \n",
       "secondary_cleaner.state.floatbank6_a_air    ...   \n",
       "secondary_cleaner.state.floatbank6_a_level  ...   \n",
       "\n",
       "                                            secondary_cleaner.state.floatbank4_a_air  \\\n",
       "final.output.concentrate_ag                                                 0.043730   \n",
       "final.output.concentrate_pb                                                 0.001758   \n",
       "final.output.concentrate_sol                                                0.023835   \n",
       "final.output.concentrate_au                                                 0.039461   \n",
       "final.output.recovery                                                       0.209659   \n",
       "...                                                                              ...   \n",
       "secondary_cleaner.state.floatbank5_a_level                                  0.105582   \n",
       "secondary_cleaner.state.floatbank5_b_air                                    0.722636   \n",
       "secondary_cleaner.state.floatbank5_b_level                                  0.110995   \n",
       "secondary_cleaner.state.floatbank6_a_air                                    0.206262   \n",
       "secondary_cleaner.state.floatbank6_a_level                                 -0.001740   \n",
       "\n",
       "                                            secondary_cleaner.state.floatbank4_a_level  \\\n",
       "final.output.concentrate_ag                                                   0.169557   \n",
       "final.output.concentrate_pb                                                  -0.035179   \n",
       "final.output.concentrate_sol                                                  0.267074   \n",
       "final.output.concentrate_au                                                  -0.042076   \n",
       "final.output.recovery                                                         0.057357   \n",
       "...                                                                                ...   \n",
       "secondary_cleaner.state.floatbank5_a_level                                    0.790025   \n",
       "secondary_cleaner.state.floatbank5_b_air                                      0.244834   \n",
       "secondary_cleaner.state.floatbank5_b_level                                    0.747246   \n",
       "secondary_cleaner.state.floatbank6_a_air                                      0.566279   \n",
       "secondary_cleaner.state.floatbank6_a_level                                    0.257172   \n",
       "\n",
       "                                            secondary_cleaner.state.floatbank4_b_air  \\\n",
       "final.output.concentrate_ag                                                 0.020938   \n",
       "final.output.concentrate_pb                                                 0.092703   \n",
       "final.output.concentrate_sol                                                0.038815   \n",
       "final.output.concentrate_au                                                 0.002315   \n",
       "final.output.recovery                                                       0.170796   \n",
       "...                                                                              ...   \n",
       "secondary_cleaner.state.floatbank5_a_level                                  0.013065   \n",
       "secondary_cleaner.state.floatbank5_b_air                                    0.878031   \n",
       "secondary_cleaner.state.floatbank5_b_level                                  0.035827   \n",
       "secondary_cleaner.state.floatbank6_a_air                                    0.311866   \n",
       "secondary_cleaner.state.floatbank6_a_level                                 -0.108056   \n",
       "\n",
       "                                            secondary_cleaner.state.floatbank4_b_level  \\\n",
       "final.output.concentrate_ag                                                   0.005363   \n",
       "final.output.concentrate_pb                                                   0.069321   \n",
       "final.output.concentrate_sol                                                  0.146107   \n",
       "final.output.concentrate_au                                                  -0.011141   \n",
       "final.output.recovery                                                        -0.089021   \n",
       "...                                                                                ...   \n",
       "secondary_cleaner.state.floatbank5_a_level                                    0.554616   \n",
       "secondary_cleaner.state.floatbank5_b_air                                      0.154015   \n",
       "secondary_cleaner.state.floatbank5_b_level                                    0.515631   \n",
       "secondary_cleaner.state.floatbank6_a_air                                      0.271922   \n",
       "secondary_cleaner.state.floatbank6_a_level                                    0.281521   \n",
       "\n",
       "                                            secondary_cleaner.state.floatbank5_a_air  \\\n",
       "final.output.concentrate_ag                                                 0.013101   \n",
       "final.output.concentrate_pb                                                 0.095191   \n",
       "final.output.concentrate_sol                                                0.039611   \n",
       "final.output.concentrate_au                                                 0.005822   \n",
       "final.output.recovery                                                       0.098198   \n",
       "...                                                                              ...   \n",
       "secondary_cleaner.state.floatbank5_a_level                                  0.083474   \n",
       "secondary_cleaner.state.floatbank5_b_air                                    0.892487   \n",
       "secondary_cleaner.state.floatbank5_b_level                                  0.100726   \n",
       "secondary_cleaner.state.floatbank6_a_air                                    0.440986   \n",
       "secondary_cleaner.state.floatbank6_a_level                                 -0.002858   \n",
       "\n",
       "                                            secondary_cleaner.state.floatbank5_a_level  \\\n",
       "final.output.concentrate_ag                                                   0.228833   \n",
       "final.output.concentrate_pb                                                  -0.096081   \n",
       "final.output.concentrate_sol                                                  0.241744   \n",
       "final.output.concentrate_au                                                  -0.098005   \n",
       "final.output.recovery                                                         0.024159   \n",
       "...                                                                                ...   \n",
       "secondary_cleaner.state.floatbank5_a_level                                    1.000000   \n",
       "secondary_cleaner.state.floatbank5_b_air                                      0.036597   \n",
       "secondary_cleaner.state.floatbank5_b_level                                    0.884422   \n",
       "secondary_cleaner.state.floatbank6_a_air                                      0.512319   \n",
       "secondary_cleaner.state.floatbank6_a_level                                    0.379862   \n",
       "\n",
       "                                            secondary_cleaner.state.floatbank5_b_air  \\\n",
       "final.output.concentrate_ag                                                 0.021730   \n",
       "final.output.concentrate_pb                                                 0.123802   \n",
       "final.output.concentrate_sol                                                0.015752   \n",
       "final.output.concentrate_au                                                -0.014605   \n",
       "final.output.recovery                                                       0.068281   \n",
       "...                                                                              ...   \n",
       "secondary_cleaner.state.floatbank5_a_level                                  0.036597   \n",
       "secondary_cleaner.state.floatbank5_b_air                                    1.000000   \n",
       "secondary_cleaner.state.floatbank5_b_level                                  0.046376   \n",
       "secondary_cleaner.state.floatbank6_a_air                                    0.474673   \n",
       "secondary_cleaner.state.floatbank6_a_level                                 -0.025748   \n",
       "\n",
       "                                            secondary_cleaner.state.floatbank5_b_level  \\\n",
       "final.output.concentrate_ag                                                   0.199140   \n",
       "final.output.concentrate_pb                                                  -0.115075   \n",
       "final.output.concentrate_sol                                                  0.231101   \n",
       "final.output.concentrate_au                                                  -0.086365   \n",
       "final.output.recovery                                                         0.043815   \n",
       "...                                                                                ...   \n",
       "secondary_cleaner.state.floatbank5_a_level                                    0.884422   \n",
       "secondary_cleaner.state.floatbank5_b_air                                      0.046376   \n",
       "secondary_cleaner.state.floatbank5_b_level                                    1.000000   \n",
       "secondary_cleaner.state.floatbank6_a_air                                      0.493124   \n",
       "secondary_cleaner.state.floatbank6_a_level                                    0.342091   \n",
       "\n",
       "                                            secondary_cleaner.state.floatbank6_a_air  \\\n",
       "final.output.concentrate_ag                                                 0.170380   \n",
       "final.output.concentrate_pb                                                -0.018394   \n",
       "final.output.concentrate_sol                                                0.222563   \n",
       "final.output.concentrate_au                                                -0.122757   \n",
       "final.output.recovery                                                      -0.027253   \n",
       "...                                                                              ...   \n",
       "secondary_cleaner.state.floatbank5_a_level                                  0.512319   \n",
       "secondary_cleaner.state.floatbank5_b_air                                    0.474673   \n",
       "secondary_cleaner.state.floatbank5_b_level                                  0.493124   \n",
       "secondary_cleaner.state.floatbank6_a_air                                    1.000000   \n",
       "secondary_cleaner.state.floatbank6_a_level                                  0.098835   \n",
       "\n",
       "                                            secondary_cleaner.state.floatbank6_a_level  \n",
       "final.output.concentrate_ag                                                   0.061006  \n",
       "final.output.concentrate_pb                                                   0.075271  \n",
       "final.output.concentrate_sol                                                 -0.271875  \n",
       "final.output.concentrate_au                                                  -0.030591  \n",
       "final.output.recovery                                                        -0.035782  \n",
       "...                                                                                ...  \n",
       "secondary_cleaner.state.floatbank5_a_level                                    0.379862  \n",
       "secondary_cleaner.state.floatbank5_b_air                                     -0.025748  \n",
       "secondary_cleaner.state.floatbank5_b_level                                    0.342091  \n",
       "secondary_cleaner.state.floatbank6_a_air                                      0.098835  \n",
       "secondary_cleaner.state.floatbank6_a_level                                    1.000000  \n",
       "\n",
       "[86 rows x 86 columns]"
      ]
     },
     "metadata": {},
     "output_type": "display_data"
    }
   ],
   "source": [
    "display(gold_test.corr())\n",
    "display(gold_full.corr())\n",
    "display(gold_train.corr())"
   ]
  },
  {
   "cell_type": "markdown",
   "metadata": {},
   "source": [
    "### Проанализируем признаки, недоступные в тестовой выборке."
   ]
  },
  {
   "cell_type": "code",
   "execution_count": 22,
   "metadata": {},
   "outputs": [
    {
     "data": {
      "text/plain": [
       "31                          final.output.concentrate_ag\n",
       "6                           final.output.concentrate_au\n",
       "5                           final.output.concentrate_pb\n",
       "12                         final.output.concentrate_sol\n",
       "24                                final.output.recovery\n",
       "15                                 final.output.tail_ag\n",
       "9                                  final.output.tail_au\n",
       "8                                  final.output.tail_pb\n",
       "33                                final.output.tail_sol\n",
       "1                 primary_cleaner.output.concentrate_ag\n",
       "2                 primary_cleaner.output.concentrate_au\n",
       "4                 primary_cleaner.output.concentrate_pb\n",
       "20               primary_cleaner.output.concentrate_sol\n",
       "3                        primary_cleaner.output.tail_ag\n",
       "21                       primary_cleaner.output.tail_au\n",
       "22                       primary_cleaner.output.tail_pb\n",
       "13                      primary_cleaner.output.tail_sol\n",
       "17                      rougher.calculation.au_pb_ratio\n",
       "7     rougher.calculation.floatbank10_sulfate_to_au_...\n",
       "10    rougher.calculation.floatbank11_sulfate_to_au_...\n",
       "28        rougher.calculation.sulfate_to_au_concentrate\n",
       "29                        rougher.output.concentrate_ag\n",
       "14                        rougher.output.concentrate_au\n",
       "19                        rougher.output.concentrate_pb\n",
       "30                       rougher.output.concentrate_sol\n",
       "0                               rougher.output.recovery\n",
       "26                               rougher.output.tail_ag\n",
       "25                               rougher.output.tail_au\n",
       "32                               rougher.output.tail_pb\n",
       "16                              rougher.output.tail_sol\n",
       "27                     secondary_cleaner.output.tail_ag\n",
       "11                     secondary_cleaner.output.tail_au\n",
       "18                     secondary_cleaner.output.tail_pb\n",
       "23                    secondary_cleaner.output.tail_sol\n",
       "dtype: object"
      ]
     },
     "execution_count": 22,
     "metadata": {},
     "output_type": "execute_result"
    }
   ],
   "source": [
    "#Признаки в тестовой выборке\n",
    "gold_test_columns=gold_test.columns\n",
    "#Признаки в полной выборке\n",
    "gold_full_columns=gold_full.columns\n",
    "#Разница признаков. \n",
    "column_difference=list(set(gold_full_columns)-set(gold_test_columns))\n",
    "# Этих признаков нет в тестовой выборке\n",
    "column_difference=pd.Series(column_difference)\n",
    "column_difference.sort_values()\n",
    "#print(column_difference)"
   ]
  },
  {
   "cell_type": "markdown",
   "metadata": {},
   "source": [
    "Вывод: Здесь находяться все признаки по которые можно сделать целевыми и предсказывать по ним. Тут присутствуют и наши целевые признаки final.output.recovery и rougher.output.recovery."
   ]
  },
  {
   "cell_type": "markdown",
   "metadata": {},
   "source": [
    "## Анализ данных"
   ]
  },
  {
   "cell_type": "markdown",
   "metadata": {},
   "source": [
    "### Посмотрим, как меняется концентрация металлов (Au, Ag, Pb) на различных этапах очистки."
   ]
  },
  {
   "cell_type": "code",
   "execution_count": 23,
   "metadata": {},
   "outputs": [],
   "source": [
    "# Создаю датасеты с концентрациями металлов на первичной очистке\n",
    "concetrates_primary=[]\n",
    "concetrates_primary=pd.DataFrame(concetrates_primary)\n",
    "concetrates_primary['primary_cleaner.output.concentrate_au']=gold_full['primary_cleaner.output.concentrate_au']\n",
    "concetrates_primary['primary_cleaner.output.concentrate_ag']=gold_full['primary_cleaner.output.concentrate_ag']\n",
    "concetrates_primary['primary_cleaner.output.concentrate_pb']=gold_full['primary_cleaner.output.concentrate_pb']"
   ]
  },
  {
   "cell_type": "code",
   "execution_count": 24,
   "metadata": {},
   "outputs": [
    {
     "name": "stdout",
     "output_type": "stream",
     "text": [
      "32.1194004078765\n",
      "8.44240807771906\n",
      "9.810316539310149\n"
     ]
    }
   ],
   "source": [
    "print(concetrates_primary['primary_cleaner.output.concentrate_au'].mean())\n",
    "print(concetrates_primary['primary_cleaner.output.concentrate_ag'].mean())\n",
    "print(concetrates_primary['primary_cleaner.output.concentrate_pb'].mean())"
   ]
  },
  {
   "cell_type": "code",
   "execution_count": 25,
   "metadata": {},
   "outputs": [
    {
     "data": {
      "image/png": "[encoded data removed]",
      "text/plain": [
       "<Figure size 864x432 with 1 Axes>"
      ]
     },
     "metadata": {
      "needs_background": "light"
     },
     "output_type": "display_data"
    }
   ],
   "source": [
    "plt.figure(figsize=(12,6))\n",
    "gold_full['primary_cleaner.output.concentrate_au'].hist(bins=30, density=True, label='primary_cleaner.output.concentrate_au', alpha=0.6, color='c')\n",
    "gold_full['primary_cleaner.output.concentrate_ag'].hist(bins=30, density=True, label='primary_cleaner.output.concentrate_ag', alpha=0.6, color='y')\n",
    "gold_full['primary_cleaner.output.concentrate_pb'].hist(bins=30, density=True, label='primary_cleaner.output.concentrate_pb', alpha=0.6, color='r')\n",
    "\n",
    "plt.legend();"
   ]
  },
  {
   "cell_type": "code",
   "execution_count": 26,
   "metadata": {},
   "outputs": [],
   "source": [
    "# Создаю датасеты с концентрациями металлов на финальной очистке\n",
    "concetrates_final=[]\n",
    "concetrates_final=pd.DataFrame(concetrates_final)\n",
    "concetrates_final['final.output.concentrate_au']=gold_full['final.output.concentrate_au']\n",
    "concetrates_final['final.output.concentrate_ag']=gold_full['final.output.concentrate_ag']\n",
    "concetrates_final['final.output.concentrate_pb']=gold_full['final.output.concentrate_pb']"
   ]
  },
  {
   "cell_type": "code",
   "execution_count": 27,
   "metadata": {},
   "outputs": [
    {
     "name": "stdout",
     "output_type": "stream",
     "text": [
      "44.0765129419528\n",
      "5.168386967510243\n",
      "9.978821384192907\n"
     ]
    }
   ],
   "source": [
    "print(concetrates_final['final.output.concentrate_au'].mean())\n",
    "print(concetrates_final['final.output.concentrate_ag'].mean())\n",
    "print(concetrates_final['final.output.concentrate_pb'].mean())"
   ]
  },
  {
   "cell_type": "code",
   "execution_count": 28,
   "metadata": {},
   "outputs": [
    {
     "data": {
      "image/png": "[encoded data removed]",
      "text/plain": [
       "<Figure size 864x432 with 1 Axes>"
      ]
     },
     "metadata": {
      "needs_background": "light"
     },
     "output_type": "display_data"
    }
   ],
   "source": [
    "plt.figure(figsize=(12,6))\n",
    "gold_full['final.output.concentrate_au'].hist(bins=30, density=True, label='final.output.concentrate_au', alpha=0.6, color='c')\n",
    "gold_full['final.output.concentrate_ag'].hist(bins=30, density=True, label='final.output.concentrate_ag', alpha=0.6, color='y')\n",
    "gold_full['final.output.concentrate_pb'].hist(bins=30, density=True, label='final.output.concentrate_pb', alpha=0.6, color='r')\n",
    "\n",
    "plt.legend();"
   ]
  },
  {
   "cell_type": "markdown",
   "metadata": {},
   "source": [
    "Вывод: По графику видим, что концентрация золота после финальной очистки увеличилась, концентрация серебра осталась примерно на том же уровне, а концентрация свинца также осталась примерно на том же уровне."
   ]
  },
  {
   "cell_type": "markdown",
   "metadata": {},
   "source": [
    "### Сравним распределения размеров гранул сырья на обучающей и тестовой выборках. "
   ]
  },
  {
   "cell_type": "code",
   "execution_count": 29,
   "metadata": {},
   "outputs": [
    {
     "name": "stdout",
     "output_type": "stream",
     "text": [
      "7.866576841919407\n",
      "8.579195196596277\n",
      "3.5054646776095564\n"
     ]
    }
   ],
   "source": [
    "#print(gold_train['primary_cleaner.input.feed_ag'].mean())\n",
    "gold_train_feed_au = gold_train['rougher.input.feed_au'].mean()\n",
    "print(gold_train_feed_au)\n",
    "gold_train_feed_ag = gold_train['rougher.input.feed_ag'].mean()\n",
    "print(gold_train_feed_ag)\n",
    "gold_train_feed_pb = gold_train['rougher.input.feed_pb'].mean()\n",
    "print(gold_train_feed_pb)"
   ]
  },
  {
   "cell_type": "code",
   "execution_count": 30,
   "metadata": {},
   "outputs": [
    {
     "data": {
      "image/png": "[encoded data removed]",
      "text/plain": [
       "<Figure size 864x432 with 1 Axes>"
      ]
     },
     "metadata": {
      "needs_background": "light"
     },
     "output_type": "display_data"
    }
   ],
   "source": [
    "plt.figure(figsize=(12,6))\n",
    "gold_train['rougher.input.feed_au'].hist(bins=30, density=True, label='rougher.input.feed_au', alpha=0.6, color='c')\n",
    "gold_train['rougher.input.feed_ag'].hist(bins=30, density=True, label='rougher.input.feed_ag', alpha=0.6, color='y')\n",
    "gold_train['rougher.input.feed_pb'].hist(bins=30, density=True, label='rougher.input.feed_pb', alpha=0.6, color='r')\n",
    "\n",
    "plt.legend();"
   ]
  },
  {
   "cell_type": "code",
   "execution_count": 31,
   "metadata": {},
   "outputs": [
    {
     "name": "stdout",
     "output_type": "stream",
     "text": [
      "9.3346824565686\n",
      "9.371939771979395\n",
      "3.7980823845024076\n"
     ]
    }
   ],
   "source": [
    "gold_test_feed_au = gold_test['rougher.input.feed_au'].mean()\n",
    "print(gold_test_feed_au)\n",
    "gold_test_feed_ag = gold_test['rougher.input.feed_ag'].mean()\n",
    "print(gold_test_feed_ag)\n",
    "gold_test_feed_pb = gold_test['rougher.input.feed_pb'].mean()\n",
    "print(gold_test_feed_pb)"
   ]
  },
  {
   "cell_type": "code",
   "execution_count": 32,
   "metadata": {},
   "outputs": [
    {
     "data": {
      "image/png": "[encoded data removed]",
      "text/plain": [
       "<Figure size 864x432 with 1 Axes>"
      ]
     },
     "metadata": {
      "needs_background": "light"
     },
     "output_type": "display_data"
    }
   ],
   "source": [
    "plt.figure(figsize=(12,6))\n",
    "gold_test['rougher.input.feed_au'].hist(bins=30, density=True, label='rougher.input.feed_au', alpha=0.6, color='c')\n",
    "gold_test['rougher.input.feed_ag'].hist(bins=30, density=True, label='rougher.input.feed_ag', alpha=0.6, color='y')\n",
    "gold_test['rougher.input.feed_pb'].hist(bins=30, density=True, label='rougher.input.feed_pb', alpha=0.6, color='r')\n",
    "\n",
    "plt.legend();"
   ]
  },
  {
   "cell_type": "code",
   "execution_count": 33,
   "metadata": {},
   "outputs": [
    {
     "name": "stdout",
     "output_type": "stream",
     "text": [
      "Размер гранулов au обучающей от тестовой составляет: 0.8427257036883862\n",
      "Размер гранулов ag обучающей от тестовой составляет: 0.9154129673610049\n",
      "Размер гранулов pb обучающей от тестовой составляет: 0.922956461374603\n"
     ]
    }
   ],
   "source": [
    "print('Размер гранулов au обучающей от тестовой составляет:', gold_train_feed_au/gold_test_feed_au)\n",
    "print('Размер гранулов ag обучающей от тестовой составляет:', gold_train_feed_ag/gold_test_feed_ag)\n",
    "print('Размер гранулов pb обучающей от тестовой составляет:', gold_train_feed_pb/gold_test_feed_pb)"
   ]
  },
  {
   "cell_type": "markdown",
   "metadata": {},
   "source": [
    "Вывод: По графикам видно, что грануля сырья в тестовой выборке больше."
   ]
  },
  {
   "cell_type": "markdown",
   "metadata": {},
   "source": [
    "### Исследуем суммарную концентрацию всех веществ на разных стадиях: в сырье, в черновом и финальном концентратах"
   ]
  },
  {
   "cell_type": "code",
   "execution_count": 34,
   "metadata": {},
   "outputs": [
    {
     "name": "stdout",
     "output_type": "stream",
     "text": [
      "8.794927425814688\n"
     ]
    }
   ],
   "source": [
    "# Считаем сумму концентраций металлов в сырье на исходных данных\n",
    "gold_full['concentrate_sum_feed'] = gold_full['rougher.input.feed_ag']\n",
    "+ gold_full['rougher.input.feed_au'] + gold_full['rougher.input.feed_pb']\n",
    "print(gold_full['concentrate_sum_feed'].mean())"
   ]
  },
  {
   "cell_type": "code",
   "execution_count": 35,
   "metadata": {},
   "outputs": [
    {
     "name": "stdout",
     "output_type": "stream",
     "text": [
      "11.994759359873429\n"
     ]
    }
   ],
   "source": [
    "# Считаем сумму концентраций металлов в черновом концентрате на исходных данных\n",
    "gold_full['concentrate_sum_output_concentrate'] = gold_full['rougher.output.concentrate_ag']\n",
    "+ gold_full['rougher.output.concentrate_au'] + gold_full['rougher.output.concentrate_pb']\n",
    "print(gold_full['concentrate_sum_output_concentrate'].mean())"
   ]
  },
  {
   "cell_type": "code",
   "execution_count": 36,
   "metadata": {},
   "outputs": [
    {
     "name": "stdout",
     "output_type": "stream",
     "text": [
      "49.244899909463044\n"
     ]
    }
   ],
   "source": [
    "# Считаем сумму концентраций металлов после финальной очистки на исходных данных\n",
    "gold_full['concentrate_sum_final'] = gold_full['final.output.concentrate_ag'] + gold_full['final.output.concentrate_au']\n",
    "+ gold_full['final.output.concentrate_pb']\n",
    "print(gold_full['concentrate_sum_final'].mean())"
   ]
  },
  {
   "cell_type": "code",
   "execution_count": 37,
   "metadata": {},
   "outputs": [
    {
     "data": {
      "image/png": "[encoded data removed]",
      "text/plain": [
       "<Figure size 1440x720 with 1 Axes>"
      ]
     },
     "metadata": {
      "needs_background": "light"
     },
     "output_type": "display_data"
    }
   ],
   "source": [
    "plt.figure(figsize=(20,10))\n",
    "gold_full['concentrate_sum_feed'].hist(bins=30, density=True, label='concentrate_sum_feed', alpha=0.6, color='c')\n",
    "gold_full['concentrate_sum_output_concentrate'].hist(bins=30, density=True, label='concentrate_sum_output_concentrate', alpha=0.6, color='y')\n",
    "gold_full['concentrate_sum_final'].hist(bins=30, density=True, label='concentrate_sum_final', alpha=0.6, color='r')\n",
    "\n",
    "plt.legend();"
   ]
  },
  {
   "cell_type": "markdown",
   "metadata": {},
   "source": [
    "Видим много значений около 0, убираем все что меньше 4."
   ]
  },
  {
   "cell_type": "markdown",
   "metadata": {},
   "source": [
    "Видим боьшие выбросы до 40 убираем их."
   ]
  },
  {
   "cell_type": "code",
   "execution_count": 38,
   "metadata": {},
   "outputs": [],
   "source": [
    "gold_full=gold_full[gold_full['concentrate_sum_final']>40]\n",
    "gold_full=gold_full[gold_full['concentrate_sum_feed']>4]\n",
    "gold_full=gold_full[gold_full['concentrate_sum_output_concentrate']>4]"
   ]
  },
  {
   "cell_type": "code",
   "execution_count": 39,
   "metadata": {},
   "outputs": [
    {
     "data": {
      "image/png": "[encoded data removed]",
      "text/plain": [
       "<Figure size 1440x720 with 1 Axes>"
      ]
     },
     "metadata": {
      "needs_background": "light"
     },
     "output_type": "display_data"
    }
   ],
   "source": [
    "plt.figure(figsize=(20,10))\n",
    "gold_full['concentrate_sum_feed'].hist(bins=30, density=True, label='concentrate_sum_feed', alpha=0.6, color='c')\n",
    "gold_full['concentrate_sum_output_concentrate'].hist(bins=30, density=True, label='concentrate_sum_output_concentrate', alpha=0.6, color='y')\n",
    "gold_full['concentrate_sum_final'].hist(bins=30, density=True, label='concentrate_sum_final', alpha=0.6, color='r')\n",
    "\n",
    "plt.legend();"
   ]
  },
  {
   "cell_type": "markdown",
   "metadata": {},
   "source": [
    "### Посчитаем сумму концентрации после флотации."
   ]
  },
  {
   "cell_type": "code",
   "execution_count": 40,
   "metadata": {},
   "outputs": [
    {
     "name": "stdout",
     "output_type": "stream",
     "text": [
      "11.775812314356036\n"
     ]
    }
   ],
   "source": [
    "# Считаем сумму концентраций металлов после флотации на обучающих данных\n",
    "gold_train['concentrate_sum_rougher'] = gold_train['rougher.output.concentrate_ag']\n",
    "+ gold_train['rougher.output.concentrate_au'] + gold_train['rougher.output.concentrate_pb']\n",
    "print(gold_train['concentrate_sum_rougher'].mean())"
   ]
  },
  {
   "cell_type": "code",
   "execution_count": 41,
   "metadata": {},
   "outputs": [
    {
     "name": "stdout",
     "output_type": "stream",
     "text": [
      "8.200915815165981\n"
     ]
    }
   ],
   "source": [
    "# Считаем сумму концентраций металлов после первичной очистки на обучающих данных данных\n",
    "gold_train['concentrate_sum_primary_cleaner'] = gold_train['primary_cleaner.output.concentrate_ag']\n",
    "+ gold_train['primary_cleaner.output.concentrate_au'] + gold_train['primary_cleaner.output.concentrate_pb']\n",
    "print(gold_train['concentrate_sum_primary_cleaner'].mean())"
   ]
  },
  {
   "cell_type": "code",
   "execution_count": 42,
   "metadata": {},
   "outputs": [
    {
     "name": "stdout",
     "output_type": "stream",
     "text": [
      "49.1457125459128\n"
     ]
    }
   ],
   "source": [
    "# Считаем сумму концентраций металлов после финальной очистки на обучающих данных\n",
    "gold_train['concentrate_sum_final'] = gold_train['final.output.concentrate_ag'] + gold_train['final.output.concentrate_au']\n",
    "+ gold_train['final.output.concentrate_pb']\n",
    "print(gold_train['concentrate_sum_final'].mean())"
   ]
  },
  {
   "cell_type": "code",
   "execution_count": 43,
   "metadata": {},
   "outputs": [],
   "source": [
    "# Также удаляем выбросы для обучающей выборки\n",
    "gold_train=gold_train[gold_train['concentrate_sum_final']>40]\n",
    "gold_train=gold_train[gold_train['concentrate_sum_primary_cleaner']>4]\n",
    "gold_train=gold_train[gold_train['concentrate_sum_rougher']>4]\n",
    "gold_train=gold_train.reset_index()"
   ]
  },
  {
   "cell_type": "code",
   "execution_count": 44,
   "metadata": {},
   "outputs": [
    {
     "data": {
      "image/png": "[encoded data removed]",
      "text/plain": [
       "<Figure size 864x432 with 1 Axes>"
      ]
     },
     "metadata": {
      "needs_background": "light"
     },
     "output_type": "display_data"
    }
   ],
   "source": [
    "plt.figure(figsize=(12,6))\n",
    "gold_train['concentrate_sum_rougher'].hist(bins=30, density=True, label='concentrate_sum_rougher', alpha=0.6, color='c')\n",
    "gold_train['concentrate_sum_primary_cleaner'].hist(bins=30, density=True, label='concentrate_sum_primary_cleaner', alpha=0.6, color='y')\n",
    "gold_train['concentrate_sum_final'].hist(bins=30, density=True, label='concentrate_sum_final', alpha=0.6, color='r')\n",
    "\n",
    "plt.legend();"
   ]
  },
  {
   "cell_type": "markdown",
   "metadata": {},
   "source": [
    "## Модель"
   ]
  },
  {
   "cell_type": "markdown",
   "metadata": {},
   "source": [
    "### Функция для вычисления итоговой sMAPE."
   ]
  },
  {
   "cell_type": "code",
   "execution_count": 45,
   "metadata": {},
   "outputs": [],
   "source": [
    "def sMAPE(y_true,y_pred):\n",
    "    numerator = np.abs(y_true - y_pred)\n",
    "    denominator = (np.abs(y_true) + np.abs(y_pred))/2\n",
    "    smape = ((numerator/denominator)*100).sum() / len(y_pred)\n",
    "    return 0.25*smape[0] + 0.75*smape[1]"
   ]
  },
  {
   "cell_type": "code",
   "execution_count": 46,
   "metadata": {},
   "outputs": [],
   "source": [
    "columns=gold_test.columns # Колонки которые в тестовой выборке\n",
    "feature=gold_train[columns] # Формируем признаки Выбираем из trian только те колонки, которые есть в test\n",
    "feature=feature.drop(['date'],axis=1)\n",
    "target=gold_train[['rougher.output.recovery','final.output.recovery']] # Формируем вектор целевых признаков\n",
    "target_array=np.array(target) # конвертирую в array\n",
    "sample_size=int(len(target)/5)#Формирую длину датасета для кровв-валидации. Их будет 4"
   ]
  },
  {
   "cell_type": "code",
   "execution_count": 47,
   "metadata": {},
   "outputs": [],
   "source": [
    "features_train, features_valid, target_train, target_valid = train_test_split(\n",
    "    feature, target, test_size=0.25, random_state=12345) # разобьем на обучающую и валидационную выборки"
   ]
  },
  {
   "cell_type": "code",
   "execution_count": 48,
   "metadata": {},
   "outputs": [
    {
     "name": "stdout",
     "output_type": "stream",
     "text": [
      "-6.783430597737959\n"
     ]
    }
   ],
   "source": [
    "# Кросс-валидация Линейная регрессия\n",
    "\n",
    "model_regression = LinearRegression()\n",
    "model_regression.fit(features_train, target_train)\n",
    "prediction_regress = model_regression.predict(features_valid)   \n",
    "\n",
    "smape_scorer = make_scorer(sMAPE, greater_is_better=False)\n",
    "    \n",
    "score = cross_val_score(model_regression, features_train, target_train, scoring=smape_scorer, cv=5).mean()\n",
    "\n",
    "print(score)"
   ]
  },
  {
   "cell_type": "code",
   "execution_count": 49,
   "metadata": {},
   "outputs": [
    {
     "name": "stdout",
     "output_type": "stream",
     "text": [
      "{'max_depth': 4, 'n_estimators': 50}\n",
      "-4.651747526521052\n"
     ]
    }
   ],
   "source": [
    "# Кросс-валидация Случайный лес\n",
    "\n",
    "model_forest=RandomForestRegressor(random_state=1234)\n",
    "model_forest.fit(features_train, target_train)\n",
    "prediction_forest=model_forest.predict(features_valid)\n",
    "\n",
    "param_grid = {'n_estimators': range (10, 51, 10),\n",
    "              'max_depth': range (1,5, 1)}\n",
    "\n",
    "smape_scorer = make_scorer(sMAPE, greater_is_better=False)\n",
    "\n",
    "clf = RandomForestRegressor()\n",
    "grid = GridSearchCV(clf, param_grid, scoring=smape_scorer,cv=5)\n",
    "\n",
    "score = cross_val_score(model_forest, features_train, target_train, scoring=smape_scorer, cv=5).mean()\n",
    "\n",
    "grid.fit(features_train, target_train)\n",
    "print(grid.best_params_)\n",
    "\n",
    "print(score)"
   ]
  },
  {
   "cell_type": "code",
   "execution_count": 54,
   "metadata": {},
   "outputs": [
    {
     "name": "stdout",
     "output_type": "stream",
     "text": [
      "-9.070941436286596\n"
     ]
    }
   ],
   "source": [
    "dummy_regr = DummyRegressor(strategy=\"mean\")\n",
    "dummy_regr.fit(features_train, target_train)\n",
    "DummyRegressor()\n",
    "dummy_regr.predict(features_train, return_std=False)\n",
    "smape_scorer = make_scorer(sMAPE, greater_is_better=False)\n",
    "    \n",
    "score = cross_val_score(dummy_regr, features_train, target_train, scoring=smape_scorer, cv=5).mean()\n",
    "\n",
    "print(score)"
   ]
  },
  {
   "cell_type": "markdown",
   "metadata": {},
   "source": [
    "### Сделаем предсказания на тестовой выборке."
   ]
  },
  {
   "cell_type": "code",
   "execution_count": 55,
   "metadata": {},
   "outputs": [],
   "source": [
    "target=gold_full[['date','rougher.output.recovery','final.output.recovery']]\n",
    "gold_test=gold_test.merge(target,on=['date'],how='left')\n",
    "gold_test=gold_test.dropna()"
   ]
  },
  {
   "cell_type": "code",
   "execution_count": 56,
   "metadata": {},
   "outputs": [],
   "source": [
    "target=gold_test[['rougher.output.recovery','final.output.recovery']]\n",
    "feature=gold_test.drop(['date','rougher.output.recovery','final.output.recovery'],axis=1)"
   ]
  },
  {
   "cell_type": "code",
   "execution_count": 57,
   "metadata": {},
   "outputs": [
    {
     "name": "stdout",
     "output_type": "stream",
     "text": [
      "sMAPE LinearRegression: 7.042379276247026\n"
     ]
    }
   ],
   "source": [
    "prediction_reg=model_regression.predict(feature)\n",
    "smape_line=sMAPE(prediction_reg,target)\n",
    "print('sMAPE LinearRegression:', smape_line)"
   ]
  },
  {
   "cell_type": "code",
   "execution_count": 58,
   "metadata": {},
   "outputs": [
    {
     "name": "stdout",
     "output_type": "stream",
     "text": [
      "sMAPE RandomForestRegressor: 7.5759598378943185\n"
     ]
    }
   ],
   "source": [
    "prediction_forest=model_forest.predict(feature)\n",
    "smape_forest=sMAPE(prediction_forest,target)\n",
    "print('sMAPE RandomForestRegressor:', smape_forest)"
   ]
  },
  {
   "cell_type": "code",
   "execution_count": 59,
   "metadata": {},
   "outputs": [
    {
     "name": "stdout",
     "output_type": "stream",
     "text": [
      "sMAPE DummyRegressor: 7.367145968070032\n"
     ]
    }
   ],
   "source": [
    "prediction_dummy=dummy_regr.predict(feature)\n",
    "smape_dummy=sMAPE(prediction_dummy,target)\n",
    "print('sMAPE DummyRegressor:', smape_dummy)"
   ]
  },
  {
   "cell_type": "markdown",
   "metadata": {},
   "source": [
    "Вывод: По графикам видно, что грануля сырья в тестовой выборке больше.\n",
    "\n",
    "По графикам при подсчете общей концентрации увидили что есть выбросы, при тесте не стали их удалять чтобы не подгонять к лучшему результату.\n",
    "\n",
    "Видим что лучше всего себя показала модель sMAPE при линейной регресии 7.042379276247026."
   ]
  }
 ],
 "metadata": {
  "ExecuteTimeLog": [
   {
    "duration": 433,
    "start_time": "2022-08-23T16:08:33.782Z"
   },
   {
    "duration": 58,
    "start_time": "2022-08-23T16:09:50.004Z"
   },
   {
    "duration": 48,
    "start_time": "2022-08-23T16:09:58.489Z"
   },
   {
    "duration": 14,
    "start_time": "2022-08-23T16:10:46.421Z"
   },
   {
    "duration": 54,
    "start_time": "2022-08-23T16:11:00.231Z"
   },
   {
    "duration": 1167,
    "start_time": "2022-08-23T16:11:31.419Z"
   },
   {
    "duration": 1037,
    "start_time": "2022-08-23T16:13:15.998Z"
   },
   {
    "duration": 26,
    "start_time": "2022-08-23T16:13:38.825Z"
   },
   {
    "duration": 18,
    "start_time": "2022-08-23T16:14:20.387Z"
   },
   {
    "duration": 21,
    "start_time": "2022-08-23T16:14:20.959Z"
   },
   {
    "duration": 647,
    "start_time": "2022-08-23T16:16:08.618Z"
   },
   {
    "duration": 682,
    "start_time": "2022-08-23T16:16:09.267Z"
   },
   {
    "duration": 19,
    "start_time": "2022-08-23T16:16:09.951Z"
   },
   {
    "duration": 28,
    "start_time": "2022-08-23T16:16:10.048Z"
   },
   {
    "duration": 18,
    "start_time": "2022-08-23T16:16:10.445Z"
   },
   {
    "duration": 1030,
    "start_time": "2022-08-23T16:19:24.423Z"
   },
   {
    "duration": 721,
    "start_time": "2022-08-23T16:19:25.455Z"
   },
   {
    "duration": 41,
    "start_time": "2022-08-23T16:19:26.178Z"
   },
   {
    "duration": 28,
    "start_time": "2022-08-23T16:19:26.222Z"
   },
   {
    "duration": 32,
    "start_time": "2022-08-23T16:19:26.252Z"
   },
   {
    "duration": 109,
    "start_time": "2022-08-23T16:19:26.285Z"
   },
   {
    "duration": 0,
    "start_time": "2022-08-23T16:19:26.396Z"
   },
   {
    "duration": 24,
    "start_time": "2022-08-23T16:20:02.305Z"
   },
   {
    "duration": 1246,
    "start_time": "2022-08-23T16:20:32.668Z"
   },
   {
    "duration": 728,
    "start_time": "2022-08-23T16:20:33.916Z"
   },
   {
    "duration": 30,
    "start_time": "2022-08-23T16:20:34.646Z"
   },
   {
    "duration": 36,
    "start_time": "2022-08-23T16:20:34.678Z"
   },
   {
    "duration": 31,
    "start_time": "2022-08-23T16:20:34.716Z"
   },
   {
    "duration": 187,
    "start_time": "2022-08-23T16:20:34.749Z"
   },
   {
    "duration": 0,
    "start_time": "2022-08-23T16:20:34.938Z"
   },
   {
    "duration": 44,
    "start_time": "2022-08-23T16:21:10.736Z"
   },
   {
    "duration": 16,
    "start_time": "2022-08-23T16:27:27.001Z"
   },
   {
    "duration": 9,
    "start_time": "2022-08-23T16:27:41.801Z"
   },
   {
    "duration": 16,
    "start_time": "2022-08-23T16:27:53.135Z"
   },
   {
    "duration": 15,
    "start_time": "2022-08-23T16:44:44.881Z"
   },
   {
    "duration": 8,
    "start_time": "2022-08-23T16:44:54.189Z"
   },
   {
    "duration": 9,
    "start_time": "2022-08-23T16:45:00.347Z"
   },
   {
    "duration": 6,
    "start_time": "2022-08-23T16:46:08.077Z"
   },
   {
    "duration": 8,
    "start_time": "2022-08-23T16:46:16.807Z"
   },
   {
    "duration": 8,
    "start_time": "2022-08-23T16:50:37.188Z"
   },
   {
    "duration": 6,
    "start_time": "2022-08-23T16:50:59.343Z"
   },
   {
    "duration": 4,
    "start_time": "2022-08-23T16:51:32.148Z"
   },
   {
    "duration": 6,
    "start_time": "2022-08-23T16:51:33.890Z"
   },
   {
    "duration": 7,
    "start_time": "2022-08-23T16:51:46.523Z"
   },
   {
    "duration": 11,
    "start_time": "2022-08-23T16:52:29.709Z"
   },
   {
    "duration": 11,
    "start_time": "2022-08-23T16:53:06.752Z"
   },
   {
    "duration": 35632,
    "start_time": "2022-08-23T16:53:07.738Z"
   },
   {
    "duration": 5,
    "start_time": "2022-08-23T16:53:43.372Z"
   },
   {
    "duration": 1052,
    "start_time": "2022-08-23T16:54:18.970Z"
   },
   {
    "duration": 626,
    "start_time": "2022-08-23T16:54:20.024Z"
   },
   {
    "duration": 29,
    "start_time": "2022-08-23T16:54:20.652Z"
   },
   {
    "duration": 23,
    "start_time": "2022-08-23T16:54:20.683Z"
   },
   {
    "duration": 14,
    "start_time": "2022-08-23T16:54:20.708Z"
   },
   {
    "duration": 30,
    "start_time": "2022-08-23T16:54:20.724Z"
   },
   {
    "duration": 9,
    "start_time": "2022-08-23T16:54:20.755Z"
   },
   {
    "duration": 7,
    "start_time": "2022-08-23T16:54:20.766Z"
   },
   {
    "duration": 53,
    "start_time": "2022-08-23T16:54:20.774Z"
   },
   {
    "duration": 10,
    "start_time": "2022-08-23T16:54:20.829Z"
   },
   {
    "duration": 11,
    "start_time": "2022-08-23T16:54:20.840Z"
   },
   {
    "duration": 34725,
    "start_time": "2022-08-23T16:54:20.853Z"
   },
   {
    "duration": 34863,
    "start_time": "2022-08-23T16:57:45.692Z"
   },
   {
    "duration": 35096,
    "start_time": "2022-08-23T16:58:51.896Z"
   },
   {
    "duration": 34703,
    "start_time": "2022-08-23T16:59:52.662Z"
   },
   {
    "duration": 4,
    "start_time": "2022-08-23T17:04:24.777Z"
   },
   {
    "duration": 4,
    "start_time": "2022-08-23T17:05:15.058Z"
   },
   {
    "duration": 1032,
    "start_time": "2022-08-23T17:07:18.412Z"
   },
   {
    "duration": 672,
    "start_time": "2022-08-23T17:07:19.446Z"
   },
   {
    "duration": 28,
    "start_time": "2022-08-23T17:07:20.120Z"
   },
   {
    "duration": 4,
    "start_time": "2022-08-23T17:07:20.150Z"
   },
   {
    "duration": 6,
    "start_time": "2022-08-23T17:07:20.156Z"
   },
   {
    "duration": 13,
    "start_time": "2022-08-23T17:07:20.163Z"
   },
   {
    "duration": 31,
    "start_time": "2022-08-23T17:07:20.177Z"
   },
   {
    "duration": 20,
    "start_time": "2022-08-23T17:07:20.210Z"
   },
   {
    "duration": 6,
    "start_time": "2022-08-23T17:07:20.231Z"
   },
   {
    "duration": 8,
    "start_time": "2022-08-23T17:07:20.240Z"
   },
   {
    "duration": 22,
    "start_time": "2022-08-23T17:07:20.250Z"
   },
   {
    "duration": 36,
    "start_time": "2022-08-23T17:07:20.274Z"
   },
   {
    "duration": 9,
    "start_time": "2022-08-23T17:07:20.312Z"
   },
   {
    "duration": 74,
    "start_time": "2022-08-23T17:13:20.268Z"
   },
   {
    "duration": 74,
    "start_time": "2022-08-23T17:13:31.777Z"
   },
   {
    "duration": 76,
    "start_time": "2022-08-23T17:13:43.186Z"
   },
   {
    "duration": 9,
    "start_time": "2022-08-23T17:13:52.126Z"
   },
   {
    "duration": 103,
    "start_time": "2022-08-23T17:15:40.674Z"
   },
   {
    "duration": 934,
    "start_time": "2022-08-23T17:15:49.865Z"
   },
   {
    "duration": 642,
    "start_time": "2022-08-23T17:15:50.800Z"
   },
   {
    "duration": 26,
    "start_time": "2022-08-23T17:15:51.443Z"
   },
   {
    "duration": 10,
    "start_time": "2022-08-23T17:15:51.470Z"
   },
   {
    "duration": 15,
    "start_time": "2022-08-23T17:15:51.482Z"
   },
   {
    "duration": 12,
    "start_time": "2022-08-23T17:15:51.499Z"
   },
   {
    "duration": 9,
    "start_time": "2022-08-23T17:15:51.512Z"
   },
   {
    "duration": 20,
    "start_time": "2022-08-23T17:15:51.522Z"
   },
   {
    "duration": 6,
    "start_time": "2022-08-23T17:15:51.544Z"
   },
   {
    "duration": 6,
    "start_time": "2022-08-23T17:15:51.552Z"
   },
   {
    "duration": 48,
    "start_time": "2022-08-23T17:15:51.560Z"
   },
   {
    "duration": 13,
    "start_time": "2022-08-23T17:15:51.611Z"
   },
   {
    "duration": 9,
    "start_time": "2022-08-23T17:15:51.625Z"
   },
   {
    "duration": 274,
    "start_time": "2022-08-23T17:15:51.636Z"
   },
   {
    "duration": 24236,
    "start_time": "2022-08-23T17:16:22.080Z"
   },
   {
    "duration": 1002,
    "start_time": "2022-08-23T17:17:02.524Z"
   },
   {
    "duration": 648,
    "start_time": "2022-08-23T17:17:03.527Z"
   },
   {
    "duration": 33,
    "start_time": "2022-08-23T17:17:04.176Z"
   },
   {
    "duration": 4,
    "start_time": "2022-08-23T17:17:04.210Z"
   },
   {
    "duration": 5,
    "start_time": "2022-08-23T17:17:04.216Z"
   },
   {
    "duration": 10,
    "start_time": "2022-08-23T17:17:04.222Z"
   },
   {
    "duration": 9,
    "start_time": "2022-08-23T17:17:04.233Z"
   },
   {
    "duration": 19,
    "start_time": "2022-08-23T17:17:04.243Z"
   },
   {
    "duration": 5,
    "start_time": "2022-08-23T17:17:04.263Z"
   },
   {
    "duration": 39,
    "start_time": "2022-08-23T17:17:04.269Z"
   },
   {
    "duration": 19,
    "start_time": "2022-08-23T17:17:04.309Z"
   },
   {
    "duration": 11,
    "start_time": "2022-08-23T17:17:04.329Z"
   },
   {
    "duration": 10,
    "start_time": "2022-08-23T17:17:04.341Z"
   },
   {
    "duration": 24934,
    "start_time": "2022-08-23T17:17:04.353Z"
   },
   {
    "duration": 315,
    "start_time": "2022-08-23T17:24:05.991Z"
   },
   {
    "duration": 641,
    "start_time": "2022-08-23T17:24:53.046Z"
   },
   {
    "duration": 23630,
    "start_time": "2022-08-23T17:25:48.436Z"
   },
   {
    "duration": 24366,
    "start_time": "2022-08-23T17:26:28.704Z"
   },
   {
    "duration": 651,
    "start_time": "2022-08-23T17:26:53.072Z"
   },
   {
    "duration": 50,
    "start_time": "2022-08-25T11:48:59.491Z"
   },
   {
    "duration": 1213,
    "start_time": "2022-08-25T11:49:46.199Z"
   },
   {
    "duration": 3035,
    "start_time": "2022-08-25T11:49:47.414Z"
   },
   {
    "duration": 31,
    "start_time": "2022-08-25T11:49:50.450Z"
   },
   {
    "duration": 5,
    "start_time": "2022-08-25T11:49:50.483Z"
   },
   {
    "duration": 26,
    "start_time": "2022-08-25T11:49:50.489Z"
   },
   {
    "duration": 26,
    "start_time": "2022-08-25T11:49:50.517Z"
   },
   {
    "duration": 26,
    "start_time": "2022-08-25T11:49:50.545Z"
   },
   {
    "duration": 39,
    "start_time": "2022-08-25T11:49:50.573Z"
   },
   {
    "duration": 21,
    "start_time": "2022-08-25T11:49:50.613Z"
   },
   {
    "duration": 15,
    "start_time": "2022-08-25T11:49:50.636Z"
   },
   {
    "duration": 38,
    "start_time": "2022-08-25T11:49:50.653Z"
   },
   {
    "duration": 22,
    "start_time": "2022-08-25T11:49:50.692Z"
   },
   {
    "duration": 21,
    "start_time": "2022-08-25T11:49:50.716Z"
   },
   {
    "duration": 806,
    "start_time": "2022-08-25T11:49:50.738Z"
   },
   {
    "duration": 18,
    "start_time": "2022-08-25T11:49:51.546Z"
   },
   {
    "duration": 16,
    "start_time": "2022-08-25T11:49:51.566Z"
   },
   {
    "duration": 3,
    "start_time": "2022-08-25T11:50:27.868Z"
   },
   {
    "duration": 8,
    "start_time": "2022-08-25T11:51:06.581Z"
   },
   {
    "duration": 3,
    "start_time": "2022-08-25T11:51:35.272Z"
   },
   {
    "duration": 10,
    "start_time": "2022-08-25T11:51:57.082Z"
   },
   {
    "duration": 6,
    "start_time": "2022-08-25T11:51:57.665Z"
   },
   {
    "duration": 4,
    "start_time": "2022-08-25T11:51:58.260Z"
   },
   {
    "duration": 113,
    "start_time": "2022-08-25T11:53:23.966Z"
   },
   {
    "duration": 1108,
    "start_time": "2022-08-25T12:02:30.855Z"
   },
   {
    "duration": 768,
    "start_time": "2022-08-25T12:02:31.965Z"
   },
   {
    "duration": 30,
    "start_time": "2022-08-25T12:02:32.735Z"
   },
   {
    "duration": 23,
    "start_time": "2022-08-25T12:02:32.767Z"
   },
   {
    "duration": 22,
    "start_time": "2022-08-25T12:02:32.802Z"
   },
   {
    "duration": 8,
    "start_time": "2022-08-25T12:02:32.826Z"
   },
   {
    "duration": 9,
    "start_time": "2022-08-25T12:02:32.836Z"
   },
   {
    "duration": 22,
    "start_time": "2022-08-25T12:02:32.847Z"
   },
   {
    "duration": 4,
    "start_time": "2022-08-25T12:02:32.871Z"
   },
   {
    "duration": 7,
    "start_time": "2022-08-25T12:02:32.904Z"
   },
   {
    "duration": 12,
    "start_time": "2022-08-25T12:02:32.913Z"
   },
   {
    "duration": 119,
    "start_time": "2022-08-25T12:02:32.926Z"
   },
   {
    "duration": 0,
    "start_time": "2022-08-25T12:02:33.047Z"
   },
   {
    "duration": 0,
    "start_time": "2022-08-25T12:02:33.049Z"
   },
   {
    "duration": 0,
    "start_time": "2022-08-25T12:02:33.050Z"
   },
   {
    "duration": 0,
    "start_time": "2022-08-25T12:02:33.050Z"
   },
   {
    "duration": 0,
    "start_time": "2022-08-25T12:02:33.051Z"
   },
   {
    "duration": 0,
    "start_time": "2022-08-25T12:02:33.052Z"
   },
   {
    "duration": 0,
    "start_time": "2022-08-25T12:02:33.053Z"
   },
   {
    "duration": 0,
    "start_time": "2022-08-25T12:02:33.054Z"
   },
   {
    "duration": 1100,
    "start_time": "2022-08-25T12:28:09.367Z"
   },
   {
    "duration": 702,
    "start_time": "2022-08-25T12:28:10.469Z"
   },
   {
    "duration": 32,
    "start_time": "2022-08-25T12:28:11.173Z"
   },
   {
    "duration": 24,
    "start_time": "2022-08-25T12:28:11.207Z"
   },
   {
    "duration": 30,
    "start_time": "2022-08-25T12:28:11.234Z"
   },
   {
    "duration": 4,
    "start_time": "2022-08-25T12:28:11.266Z"
   },
   {
    "duration": 32,
    "start_time": "2022-08-25T12:28:11.272Z"
   },
   {
    "duration": 30,
    "start_time": "2022-08-25T12:28:11.306Z"
   },
   {
    "duration": 6,
    "start_time": "2022-08-25T12:28:11.337Z"
   },
   {
    "duration": 17,
    "start_time": "2022-08-25T12:28:11.345Z"
   },
   {
    "duration": 12,
    "start_time": "2022-08-25T12:28:11.364Z"
   },
   {
    "duration": 5,
    "start_time": "2022-08-25T12:28:11.378Z"
   },
   {
    "duration": 20,
    "start_time": "2022-08-25T12:28:11.385Z"
   },
   {
    "duration": 10,
    "start_time": "2022-08-25T12:28:11.408Z"
   },
   {
    "duration": 6,
    "start_time": "2022-08-25T12:28:11.420Z"
   },
   {
    "duration": 8,
    "start_time": "2022-08-25T12:28:11.427Z"
   },
   {
    "duration": 9,
    "start_time": "2022-08-25T12:28:11.437Z"
   },
   {
    "duration": 11,
    "start_time": "2022-08-25T12:28:11.447Z"
   },
   {
    "duration": 800,
    "start_time": "2022-08-25T12:28:11.460Z"
   },
   {
    "duration": 2,
    "start_time": "2022-08-25T12:28:12.262Z"
   },
   {
    "duration": 102,
    "start_time": "2022-08-25T12:31:55.433Z"
   },
   {
    "duration": 10,
    "start_time": "2022-08-25T12:33:54.237Z"
   },
   {
    "duration": 7,
    "start_time": "2022-08-25T12:34:00.497Z"
   },
   {
    "duration": 1153,
    "start_time": "2022-08-25T12:34:10.343Z"
   },
   {
    "duration": 702,
    "start_time": "2022-08-25T12:34:11.499Z"
   },
   {
    "duration": 35,
    "start_time": "2022-08-25T12:34:12.203Z"
   },
   {
    "duration": 22,
    "start_time": "2022-08-25T12:34:12.240Z"
   },
   {
    "duration": 42,
    "start_time": "2022-08-25T12:34:12.264Z"
   },
   {
    "duration": 3,
    "start_time": "2022-08-25T12:34:12.309Z"
   },
   {
    "duration": 10,
    "start_time": "2022-08-25T12:34:12.315Z"
   },
   {
    "duration": 28,
    "start_time": "2022-08-25T12:34:12.327Z"
   },
   {
    "duration": 4,
    "start_time": "2022-08-25T12:34:12.357Z"
   },
   {
    "duration": 10,
    "start_time": "2022-08-25T12:34:12.363Z"
   },
   {
    "duration": 32,
    "start_time": "2022-08-25T12:34:12.375Z"
   },
   {
    "duration": 10,
    "start_time": "2022-08-25T12:34:12.409Z"
   },
   {
    "duration": 17,
    "start_time": "2022-08-25T12:34:12.421Z"
   },
   {
    "duration": 11,
    "start_time": "2022-08-25T12:34:12.440Z"
   },
   {
    "duration": 5,
    "start_time": "2022-08-25T12:34:12.453Z"
   },
   {
    "duration": 7,
    "start_time": "2022-08-25T12:34:12.460Z"
   },
   {
    "duration": 38,
    "start_time": "2022-08-25T12:34:12.469Z"
   },
   {
    "duration": 11,
    "start_time": "2022-08-25T12:34:12.509Z"
   },
   {
    "duration": 786,
    "start_time": "2022-08-25T12:34:12.522Z"
   },
   {
    "duration": 7,
    "start_time": "2022-08-25T12:34:13.309Z"
   },
   {
    "duration": 6,
    "start_time": "2022-08-25T12:34:13.318Z"
   },
   {
    "duration": 126,
    "start_time": "2022-08-25T12:35:08.914Z"
   },
   {
    "duration": 7,
    "start_time": "2022-08-25T12:35:14.008Z"
   },
   {
    "duration": 3,
    "start_time": "2022-08-25T12:36:02.594Z"
   },
   {
    "duration": 4,
    "start_time": "2022-08-25T12:36:31.171Z"
   },
   {
    "duration": 6,
    "start_time": "2022-08-25T12:36:41.826Z"
   },
   {
    "duration": 11,
    "start_time": "2022-08-25T12:40:07.292Z"
   },
   {
    "duration": 9,
    "start_time": "2022-08-25T12:40:32.073Z"
   },
   {
    "duration": 7,
    "start_time": "2022-08-25T12:41:26.244Z"
   },
   {
    "duration": 11,
    "start_time": "2022-08-25T12:42:23.226Z"
   },
   {
    "duration": 172,
    "start_time": "2022-08-25T12:42:57.613Z"
   },
   {
    "duration": 6,
    "start_time": "2022-08-25T12:43:02.340Z"
   },
   {
    "duration": 8,
    "start_time": "2022-08-25T12:49:00.535Z"
   },
   {
    "duration": 6,
    "start_time": "2022-08-25T12:49:01.088Z"
   },
   {
    "duration": 10,
    "start_time": "2022-08-25T12:49:47.743Z"
   },
   {
    "duration": 823,
    "start_time": "2022-08-25T12:49:48.118Z"
   },
   {
    "duration": 8,
    "start_time": "2022-08-25T12:50:01.408Z"
   },
   {
    "duration": 8,
    "start_time": "2022-08-25T12:50:05.497Z"
   },
   {
    "duration": 852,
    "start_time": "2022-08-25T12:50:07.366Z"
   },
   {
    "duration": 7,
    "start_time": "2022-08-25T12:50:26.117Z"
   },
   {
    "duration": 880,
    "start_time": "2022-08-25T12:54:34.321Z"
   },
   {
    "duration": 0,
    "start_time": "2022-08-25T12:54:35.203Z"
   },
   {
    "duration": 4,
    "start_time": "2022-08-25T12:55:54.701Z"
   },
   {
    "duration": 5,
    "start_time": "2022-08-25T12:56:54.113Z"
   },
   {
    "duration": 4,
    "start_time": "2022-08-25T12:57:12.342Z"
   },
   {
    "duration": 8,
    "start_time": "2022-08-25T13:00:12.518Z"
   },
   {
    "duration": 6,
    "start_time": "2022-08-25T13:00:13.257Z"
   },
   {
    "duration": 6,
    "start_time": "2022-08-25T13:00:13.990Z"
   },
   {
    "duration": 6,
    "start_time": "2022-08-25T13:00:14.606Z"
   },
   {
    "duration": 7,
    "start_time": "2022-08-25T13:00:15.333Z"
   },
   {
    "duration": 7,
    "start_time": "2022-08-25T13:00:16.500Z"
   },
   {
    "duration": 7,
    "start_time": "2022-08-25T13:24:45.477Z"
   },
   {
    "duration": 5,
    "start_time": "2022-08-25T13:25:00.928Z"
   },
   {
    "duration": 818,
    "start_time": "2022-08-25T13:25:19.617Z"
   },
   {
    "duration": 4,
    "start_time": "2022-08-25T13:26:22.912Z"
   },
   {
    "duration": 5,
    "start_time": "2022-08-25T13:36:06.592Z"
   },
   {
    "duration": 7,
    "start_time": "2022-08-25T13:36:09.043Z"
   },
   {
    "duration": 5,
    "start_time": "2022-08-25T13:41:55.031Z"
   },
   {
    "duration": 4,
    "start_time": "2022-08-25T13:42:09.418Z"
   },
   {
    "duration": 4,
    "start_time": "2022-08-25T13:42:35.364Z"
   },
   {
    "duration": 6,
    "start_time": "2022-08-25T13:43:08.808Z"
   },
   {
    "duration": 6,
    "start_time": "2022-08-25T13:48:39.290Z"
   },
   {
    "duration": 7,
    "start_time": "2022-08-25T13:50:13.008Z"
   },
   {
    "duration": 8,
    "start_time": "2022-08-25T13:52:47.433Z"
   },
   {
    "duration": 7,
    "start_time": "2022-08-25T13:53:08.230Z"
   },
   {
    "duration": 7,
    "start_time": "2022-08-25T13:53:28.543Z"
   },
   {
    "duration": 48,
    "start_time": "2022-08-25T13:53:53.267Z"
   },
   {
    "duration": 49,
    "start_time": "2022-08-25T13:53:58.080Z"
   },
   {
    "duration": 820,
    "start_time": "2022-08-25T13:54:11.727Z"
   },
   {
    "duration": 9,
    "start_time": "2022-08-25T13:54:21.810Z"
   },
   {
    "duration": 6,
    "start_time": "2022-08-25T13:54:35.085Z"
   },
   {
    "duration": 72,
    "start_time": "2022-08-25T13:56:19.774Z"
   },
   {
    "duration": 89,
    "start_time": "2022-08-25T13:56:32.524Z"
   },
   {
    "duration": 6,
    "start_time": "2022-08-25T13:58:54.963Z"
   },
   {
    "duration": 5,
    "start_time": "2022-08-25T14:00:02.111Z"
   },
   {
    "duration": 64,
    "start_time": "2022-08-25T14:01:23.194Z"
   },
   {
    "duration": 4,
    "start_time": "2022-08-25T14:01:54.421Z"
   },
   {
    "duration": 6,
    "start_time": "2022-08-25T14:02:09.148Z"
   },
   {
    "duration": 5,
    "start_time": "2022-08-25T14:02:33.075Z"
   },
   {
    "duration": 331,
    "start_time": "2022-08-25T14:04:11.101Z"
   },
   {
    "duration": 6,
    "start_time": "2022-08-25T14:04:18.908Z"
   },
   {
    "duration": 90,
    "start_time": "2022-08-25T14:11:46.072Z"
   },
   {
    "duration": 6,
    "start_time": "2022-08-25T14:12:03.062Z"
   },
   {
    "duration": 11,
    "start_time": "2022-08-25T14:12:11.976Z"
   },
   {
    "duration": 6,
    "start_time": "2022-08-25T14:12:17.449Z"
   },
   {
    "duration": 4,
    "start_time": "2022-08-25T14:14:43.468Z"
   },
   {
    "duration": 5,
    "start_time": "2022-08-25T14:14:44.068Z"
   },
   {
    "duration": 5,
    "start_time": "2022-08-25T14:14:44.592Z"
   },
   {
    "duration": 4,
    "start_time": "2022-08-25T14:16:23.113Z"
   },
   {
    "duration": 6,
    "start_time": "2022-08-25T14:16:23.648Z"
   },
   {
    "duration": 5,
    "start_time": "2022-08-25T14:16:24.107Z"
   },
   {
    "duration": 5,
    "start_time": "2022-08-25T14:20:10.523Z"
   },
   {
    "duration": 5,
    "start_time": "2022-08-25T14:20:11.088Z"
   },
   {
    "duration": 4,
    "start_time": "2022-08-25T14:20:11.653Z"
   },
   {
    "duration": 1587,
    "start_time": "2022-08-25T14:21:19.691Z"
   },
   {
    "duration": 743,
    "start_time": "2022-08-25T14:21:21.280Z"
   },
   {
    "duration": 28,
    "start_time": "2022-08-25T14:21:22.025Z"
   },
   {
    "duration": 24,
    "start_time": "2022-08-25T14:21:22.055Z"
   },
   {
    "duration": 43,
    "start_time": "2022-08-25T14:21:22.080Z"
   },
   {
    "duration": 9,
    "start_time": "2022-08-25T14:21:22.125Z"
   },
   {
    "duration": 5,
    "start_time": "2022-08-25T14:21:22.137Z"
   },
   {
    "duration": 8,
    "start_time": "2022-08-25T14:21:22.144Z"
   },
   {
    "duration": 28,
    "start_time": "2022-08-25T14:21:22.154Z"
   },
   {
    "duration": 24,
    "start_time": "2022-08-25T14:21:22.185Z"
   },
   {
    "duration": 36,
    "start_time": "2022-08-25T14:21:22.210Z"
   },
   {
    "duration": 31,
    "start_time": "2022-08-25T14:21:22.247Z"
   },
   {
    "duration": 14,
    "start_time": "2022-08-25T14:21:22.279Z"
   },
   {
    "duration": 40,
    "start_time": "2022-08-25T14:21:22.295Z"
   },
   {
    "duration": 16,
    "start_time": "2022-08-25T14:21:22.337Z"
   },
   {
    "duration": 25,
    "start_time": "2022-08-25T14:21:22.355Z"
   },
   {
    "duration": 29,
    "start_time": "2022-08-25T14:21:22.382Z"
   },
   {
    "duration": 12,
    "start_time": "2022-08-25T14:21:22.413Z"
   },
   {
    "duration": 26,
    "start_time": "2022-08-25T14:21:22.427Z"
   },
   {
    "duration": 811,
    "start_time": "2022-08-25T14:21:22.455Z"
   },
   {
    "duration": 7,
    "start_time": "2022-08-25T14:21:23.267Z"
   },
   {
    "duration": 28,
    "start_time": "2022-08-25T14:21:23.275Z"
   },
   {
    "duration": 51,
    "start_time": "2022-08-25T14:21:23.304Z"
   },
   {
    "duration": 33,
    "start_time": "2022-08-25T14:21:23.357Z"
   },
   {
    "duration": 21,
    "start_time": "2022-08-25T14:21:23.392Z"
   },
   {
    "duration": 26,
    "start_time": "2022-08-25T14:21:23.415Z"
   },
   {
    "duration": 19,
    "start_time": "2022-08-25T14:21:23.443Z"
   },
   {
    "duration": 44,
    "start_time": "2022-08-25T14:21:23.465Z"
   },
   {
    "duration": 33,
    "start_time": "2022-08-25T14:21:23.512Z"
   },
   {
    "duration": 23,
    "start_time": "2022-08-25T14:21:23.547Z"
   },
   {
    "duration": 47,
    "start_time": "2022-08-25T14:21:23.572Z"
   },
   {
    "duration": 17,
    "start_time": "2022-08-25T14:21:23.621Z"
   },
   {
    "duration": 122,
    "start_time": "2022-08-25T14:21:23.639Z"
   },
   {
    "duration": 0,
    "start_time": "2022-08-25T14:21:23.763Z"
   },
   {
    "duration": 0,
    "start_time": "2022-08-25T14:21:23.765Z"
   },
   {
    "duration": 0,
    "start_time": "2022-08-25T14:21:23.766Z"
   },
   {
    "duration": 0,
    "start_time": "2022-08-25T14:21:23.768Z"
   },
   {
    "duration": 0,
    "start_time": "2022-08-25T14:21:23.769Z"
   },
   {
    "duration": 0,
    "start_time": "2022-08-25T14:21:23.770Z"
   },
   {
    "duration": 3,
    "start_time": "2022-08-25T14:21:37.462Z"
   },
   {
    "duration": 5,
    "start_time": "2022-08-25T14:21:38.036Z"
   },
   {
    "duration": 6,
    "start_time": "2022-08-25T14:21:38.456Z"
   },
   {
    "duration": 5,
    "start_time": "2022-08-25T14:21:38.906Z"
   },
   {
    "duration": 7,
    "start_time": "2022-08-25T14:21:39.310Z"
   },
   {
    "duration": 5,
    "start_time": "2022-08-25T14:21:39.765Z"
   },
   {
    "duration": 5,
    "start_time": "2022-08-25T14:21:40.163Z"
   },
   {
    "duration": 216,
    "start_time": "2022-08-25T14:51:40.500Z"
   },
   {
    "duration": 174,
    "start_time": "2022-08-25T14:51:58.651Z"
   },
   {
    "duration": 165,
    "start_time": "2022-08-25T14:52:29.940Z"
   },
   {
    "duration": 264,
    "start_time": "2022-08-25T14:52:37.140Z"
   },
   {
    "duration": 5,
    "start_time": "2022-08-25T14:53:10.892Z"
   },
   {
    "duration": 344,
    "start_time": "2022-08-25T15:09:25.333Z"
   },
   {
    "duration": 250,
    "start_time": "2022-08-25T15:11:16.932Z"
   },
   {
    "duration": 266,
    "start_time": "2022-08-25T15:11:26.443Z"
   },
   {
    "duration": 1445,
    "start_time": "2022-08-26T15:01:41.481Z"
   },
   {
    "duration": 1710,
    "start_time": "2022-08-26T15:01:42.928Z"
   },
   {
    "duration": 23,
    "start_time": "2022-08-26T15:01:44.640Z"
   },
   {
    "duration": 35,
    "start_time": "2022-08-26T15:01:44.665Z"
   },
   {
    "duration": 30,
    "start_time": "2022-08-26T15:01:44.702Z"
   },
   {
    "duration": 29,
    "start_time": "2022-08-26T15:01:44.734Z"
   },
   {
    "duration": 32,
    "start_time": "2022-08-26T15:01:44.765Z"
   },
   {
    "duration": 31,
    "start_time": "2022-08-26T15:01:44.799Z"
   },
   {
    "duration": 30,
    "start_time": "2022-08-26T15:01:44.831Z"
   },
   {
    "duration": 9,
    "start_time": "2022-08-26T15:01:44.864Z"
   },
   {
    "duration": 32,
    "start_time": "2022-08-26T15:01:44.874Z"
   },
   {
    "duration": 16,
    "start_time": "2022-08-26T15:01:44.908Z"
   },
   {
    "duration": 29,
    "start_time": "2022-08-26T15:01:44.926Z"
   },
   {
    "duration": 16,
    "start_time": "2022-08-26T15:01:44.956Z"
   },
   {
    "duration": 20,
    "start_time": "2022-08-26T15:01:44.973Z"
   },
   {
    "duration": 8,
    "start_time": "2022-08-26T15:01:44.995Z"
   },
   {
    "duration": 40,
    "start_time": "2022-08-26T15:01:45.004Z"
   },
   {
    "duration": 24,
    "start_time": "2022-08-26T15:01:45.046Z"
   },
   {
    "duration": 46,
    "start_time": "2022-08-26T15:01:45.071Z"
   },
   {
    "duration": 660,
    "start_time": "2022-08-26T15:01:45.118Z"
   },
   {
    "duration": 6,
    "start_time": "2022-08-26T15:01:45.779Z"
   },
   {
    "duration": 9,
    "start_time": "2022-08-26T15:01:45.786Z"
   },
   {
    "duration": 4,
    "start_time": "2022-08-26T15:01:45.805Z"
   },
   {
    "duration": 3,
    "start_time": "2022-08-26T15:01:45.811Z"
   },
   {
    "duration": 4,
    "start_time": "2022-08-26T15:01:45.816Z"
   },
   {
    "duration": 10,
    "start_time": "2022-08-26T15:01:45.822Z"
   },
   {
    "duration": 7,
    "start_time": "2022-08-26T15:01:45.834Z"
   },
   {
    "duration": 3,
    "start_time": "2022-08-26T15:01:45.844Z"
   },
   {
    "duration": 9,
    "start_time": "2022-08-26T15:01:45.848Z"
   },
   {
    "duration": 8,
    "start_time": "2022-08-26T15:01:45.858Z"
   },
   {
    "duration": 7,
    "start_time": "2022-08-26T15:01:45.868Z"
   },
   {
    "duration": 8,
    "start_time": "2022-08-26T15:01:45.876Z"
   },
   {
    "duration": 7,
    "start_time": "2022-08-26T15:01:45.885Z"
   },
   {
    "duration": 4,
    "start_time": "2022-08-26T15:01:45.906Z"
   },
   {
    "duration": 6,
    "start_time": "2022-08-26T15:01:45.912Z"
   },
   {
    "duration": 5,
    "start_time": "2022-08-26T15:01:45.920Z"
   },
   {
    "duration": 6,
    "start_time": "2022-08-26T15:01:45.926Z"
   },
   {
    "duration": 130,
    "start_time": "2022-08-26T15:01:45.934Z"
   },
   {
    "duration": 0,
    "start_time": "2022-08-26T15:01:46.066Z"
   },
   {
    "duration": 0,
    "start_time": "2022-08-26T15:01:46.068Z"
   },
   {
    "duration": 0,
    "start_time": "2022-08-26T15:01:46.069Z"
   },
   {
    "duration": 240,
    "start_time": "2022-08-26T15:02:45.524Z"
   },
   {
    "duration": 95,
    "start_time": "2022-08-26T15:03:35.884Z"
   },
   {
    "duration": 162,
    "start_time": "2022-08-26T15:03:41.925Z"
   },
   {
    "duration": 89,
    "start_time": "2022-08-26T15:03:46.700Z"
   },
   {
    "duration": 125,
    "start_time": "2022-08-26T15:05:30.981Z"
   },
   {
    "duration": 216,
    "start_time": "2022-08-26T15:05:38.147Z"
   },
   {
    "duration": 306,
    "start_time": "2022-08-26T15:05:48.238Z"
   },
   {
    "duration": 10,
    "start_time": "2022-08-26T15:06:34.326Z"
   },
   {
    "duration": 143,
    "start_time": "2022-08-26T15:06:44.164Z"
   },
   {
    "duration": 94,
    "start_time": "2022-08-26T15:07:33.890Z"
   },
   {
    "duration": 95,
    "start_time": "2022-08-26T15:10:33.032Z"
   },
   {
    "duration": 83,
    "start_time": "2022-08-26T15:10:40.719Z"
   },
   {
    "duration": 102,
    "start_time": "2022-08-26T15:10:58.638Z"
   },
   {
    "duration": 232,
    "start_time": "2022-08-26T15:14:17.942Z"
   },
   {
    "duration": 102,
    "start_time": "2022-08-26T15:14:25.291Z"
   },
   {
    "duration": 435,
    "start_time": "2022-08-26T15:15:13.376Z"
   },
   {
    "duration": 505,
    "start_time": "2022-08-26T15:15:28.399Z"
   },
   {
    "duration": 218,
    "start_time": "2022-08-26T15:17:52.971Z"
   },
   {
    "duration": 362,
    "start_time": "2022-08-26T15:17:59.923Z"
   },
   {
    "duration": 511,
    "start_time": "2022-08-26T15:19:22.238Z"
   },
   {
    "duration": 338,
    "start_time": "2022-08-26T15:19:32.487Z"
   },
   {
    "duration": 6,
    "start_time": "2022-08-26T15:20:29.518Z"
   },
   {
    "duration": 6,
    "start_time": "2022-08-26T15:20:47.388Z"
   },
   {
    "duration": 375,
    "start_time": "2022-08-26T15:21:07.659Z"
   },
   {
    "duration": 351,
    "start_time": "2022-08-26T15:21:22.821Z"
   },
   {
    "duration": 108,
    "start_time": "2022-08-26T15:21:36.004Z"
   },
   {
    "duration": 90,
    "start_time": "2022-08-26T15:21:46.590Z"
   },
   {
    "duration": 79,
    "start_time": "2022-08-26T15:21:55.643Z"
   },
   {
    "duration": 359,
    "start_time": "2022-08-26T15:22:16.889Z"
   },
   {
    "duration": 139,
    "start_time": "2022-08-26T15:23:23.545Z"
   },
   {
    "duration": 184,
    "start_time": "2022-08-26T15:23:59.270Z"
   },
   {
    "duration": 185,
    "start_time": "2022-08-26T15:24:25.001Z"
   },
   {
    "duration": 152,
    "start_time": "2022-08-26T15:24:30.375Z"
   },
   {
    "duration": 189,
    "start_time": "2022-08-26T15:24:50.486Z"
   },
   {
    "duration": 6,
    "start_time": "2022-08-26T15:25:38.415Z"
   },
   {
    "duration": 210,
    "start_time": "2022-08-26T15:25:45.411Z"
   },
   {
    "duration": 268,
    "start_time": "2022-08-26T15:26:00.945Z"
   },
   {
    "duration": 11,
    "start_time": "2022-08-26T15:26:28.679Z"
   },
   {
    "duration": 540,
    "start_time": "2022-08-26T15:26:35.986Z"
   },
   {
    "duration": 76,
    "start_time": "2022-08-26T15:26:56.687Z"
   },
   {
    "duration": 208,
    "start_time": "2022-08-26T15:27:03.493Z"
   },
   {
    "duration": 244,
    "start_time": "2022-08-26T15:27:34.477Z"
   },
   {
    "duration": 256,
    "start_time": "2022-08-26T15:28:00.893Z"
   },
   {
    "duration": 280,
    "start_time": "2022-08-26T15:28:18.926Z"
   },
   {
    "duration": 4,
    "start_time": "2022-08-26T15:28:45.496Z"
   },
   {
    "duration": 5,
    "start_time": "2022-08-26T15:28:46.340Z"
   },
   {
    "duration": 5,
    "start_time": "2022-08-26T15:28:47.686Z"
   },
   {
    "duration": 229,
    "start_time": "2022-08-26T15:30:04.661Z"
   },
   {
    "duration": 141,
    "start_time": "2022-08-26T15:30:05.594Z"
   },
   {
    "duration": 5,
    "start_time": "2022-08-26T15:32:44.573Z"
   },
   {
    "duration": 5,
    "start_time": "2022-08-26T15:33:02.124Z"
   },
   {
    "duration": 5,
    "start_time": "2022-08-26T15:33:28.690Z"
   },
   {
    "duration": 1791,
    "start_time": "2022-08-26T15:37:01.121Z"
   },
   {
    "duration": 34,
    "start_time": "2022-08-26T15:37:23.129Z"
   },
   {
    "duration": 222,
    "start_time": "2022-08-26T15:37:36.912Z"
   },
   {
    "duration": 308,
    "start_time": "2022-08-26T15:37:45.932Z"
   },
   {
    "duration": 244,
    "start_time": "2022-08-26T15:38:05.029Z"
   },
   {
    "duration": 428,
    "start_time": "2022-08-26T15:38:05.926Z"
   },
   {
    "duration": 15,
    "start_time": "2022-08-26T15:38:23.717Z"
   },
   {
    "duration": 220,
    "start_time": "2022-08-26T15:38:24.188Z"
   },
   {
    "duration": 15,
    "start_time": "2022-08-26T15:38:34.691Z"
   },
   {
    "duration": 219,
    "start_time": "2022-08-26T15:38:36.707Z"
   },
   {
    "duration": 17,
    "start_time": "2022-08-26T15:38:40.458Z"
   },
   {
    "duration": 223,
    "start_time": "2022-08-26T15:38:41.033Z"
   },
   {
    "duration": 14,
    "start_time": "2022-08-26T15:38:46.828Z"
   },
   {
    "duration": 243,
    "start_time": "2022-08-26T15:38:47.605Z"
   },
   {
    "duration": 19,
    "start_time": "2022-08-26T15:40:57.950Z"
   },
   {
    "duration": 244,
    "start_time": "2022-08-26T15:41:47.766Z"
   },
   {
    "duration": 168,
    "start_time": "2022-08-26T15:41:48.638Z"
   },
   {
    "duration": 10,
    "start_time": "2022-08-26T15:48:30.287Z"
   },
   {
    "duration": 16,
    "start_time": "2022-08-26T15:48:38.672Z"
   },
   {
    "duration": 1200,
    "start_time": "2022-08-26T15:49:17.537Z"
   },
   {
    "duration": 606,
    "start_time": "2022-08-26T15:49:18.739Z"
   },
   {
    "duration": 25,
    "start_time": "2022-08-26T15:49:19.346Z"
   },
   {
    "duration": 35,
    "start_time": "2022-08-26T15:49:19.373Z"
   },
   {
    "duration": 34,
    "start_time": "2022-08-26T15:49:19.410Z"
   },
   {
    "duration": 23,
    "start_time": "2022-08-26T15:49:19.446Z"
   },
   {
    "duration": 12,
    "start_time": "2022-08-26T15:49:19.471Z"
   },
   {
    "duration": 26,
    "start_time": "2022-08-26T15:49:19.485Z"
   },
   {
    "duration": 43,
    "start_time": "2022-08-26T15:49:19.512Z"
   },
   {
    "duration": 16,
    "start_time": "2022-08-26T15:49:19.556Z"
   },
   {
    "duration": 44,
    "start_time": "2022-08-26T15:49:19.574Z"
   },
   {
    "duration": 25,
    "start_time": "2022-08-26T15:49:19.619Z"
   },
   {
    "duration": 23,
    "start_time": "2022-08-26T15:49:19.646Z"
   },
   {
    "duration": 27,
    "start_time": "2022-08-26T15:49:19.672Z"
   },
   {
    "duration": 22,
    "start_time": "2022-08-26T15:49:19.701Z"
   },
   {
    "duration": 29,
    "start_time": "2022-08-26T15:49:19.725Z"
   },
   {
    "duration": 29,
    "start_time": "2022-08-26T15:49:19.756Z"
   },
   {
    "duration": 30,
    "start_time": "2022-08-26T15:49:19.787Z"
   },
   {
    "duration": 24,
    "start_time": "2022-08-26T15:49:19.818Z"
   },
   {
    "duration": 691,
    "start_time": "2022-08-26T15:49:19.844Z"
   },
   {
    "duration": 6,
    "start_time": "2022-08-26T15:49:20.536Z"
   },
   {
    "duration": 10,
    "start_time": "2022-08-26T15:49:20.544Z"
   },
   {
    "duration": 6,
    "start_time": "2022-08-26T15:49:20.556Z"
   },
   {
    "duration": 3,
    "start_time": "2022-08-26T15:49:20.565Z"
   },
   {
    "duration": 5,
    "start_time": "2022-08-26T15:49:20.570Z"
   },
   {
    "duration": 36,
    "start_time": "2022-08-26T15:49:20.577Z"
   },
   {
    "duration": 6,
    "start_time": "2022-08-26T15:49:20.615Z"
   },
   {
    "duration": 4,
    "start_time": "2022-08-26T15:49:20.623Z"
   },
   {
    "duration": 4,
    "start_time": "2022-08-26T15:49:20.629Z"
   },
   {
    "duration": 7,
    "start_time": "2022-08-26T15:49:20.635Z"
   },
   {
    "duration": 7,
    "start_time": "2022-08-26T15:49:20.644Z"
   },
   {
    "duration": 5,
    "start_time": "2022-08-26T15:49:20.653Z"
   },
   {
    "duration": 5,
    "start_time": "2022-08-26T15:49:20.660Z"
   },
   {
    "duration": 39,
    "start_time": "2022-08-26T15:49:20.667Z"
   },
   {
    "duration": 7,
    "start_time": "2022-08-26T15:49:20.708Z"
   },
   {
    "duration": 5,
    "start_time": "2022-08-26T15:49:20.717Z"
   },
   {
    "duration": 125,
    "start_time": "2022-08-26T15:49:20.724Z"
   },
   {
    "duration": 0,
    "start_time": "2022-08-26T15:49:20.851Z"
   },
   {
    "duration": 0,
    "start_time": "2022-08-26T15:49:20.852Z"
   },
   {
    "duration": 0,
    "start_time": "2022-08-26T15:49:20.853Z"
   },
   {
    "duration": 0,
    "start_time": "2022-08-26T15:49:20.854Z"
   },
   {
    "duration": 0,
    "start_time": "2022-08-26T15:49:20.855Z"
   },
   {
    "duration": 0,
    "start_time": "2022-08-26T15:49:20.856Z"
   },
   {
    "duration": 0,
    "start_time": "2022-08-26T15:49:20.858Z"
   },
   {
    "duration": 0,
    "start_time": "2022-08-26T15:49:20.859Z"
   },
   {
    "duration": 0,
    "start_time": "2022-08-26T15:49:20.860Z"
   },
   {
    "duration": 0,
    "start_time": "2022-08-26T15:49:20.861Z"
   },
   {
    "duration": 0,
    "start_time": "2022-08-26T15:49:20.861Z"
   },
   {
    "duration": 0,
    "start_time": "2022-08-26T15:49:20.862Z"
   },
   {
    "duration": 72,
    "start_time": "2022-08-26T16:18:58.881Z"
   },
   {
    "duration": 1338,
    "start_time": "2022-08-26T16:22:55.793Z"
   },
   {
    "duration": 642,
    "start_time": "2022-08-26T16:22:57.133Z"
   },
   {
    "duration": 30,
    "start_time": "2022-08-26T16:22:57.777Z"
   },
   {
    "duration": 19,
    "start_time": "2022-08-26T16:22:57.809Z"
   },
   {
    "duration": 18,
    "start_time": "2022-08-26T16:22:57.830Z"
   },
   {
    "duration": 5,
    "start_time": "2022-08-26T16:22:57.849Z"
   },
   {
    "duration": 4,
    "start_time": "2022-08-26T16:22:57.856Z"
   },
   {
    "duration": 5,
    "start_time": "2022-08-26T16:22:57.862Z"
   },
   {
    "duration": 48,
    "start_time": "2022-08-26T16:22:57.869Z"
   },
   {
    "duration": 2,
    "start_time": "2022-08-26T16:22:57.920Z"
   },
   {
    "duration": 12,
    "start_time": "2022-08-26T16:22:57.924Z"
   },
   {
    "duration": 4,
    "start_time": "2022-08-26T16:22:57.937Z"
   },
   {
    "duration": 3,
    "start_time": "2022-08-26T16:22:57.943Z"
   },
   {
    "duration": 8,
    "start_time": "2022-08-26T16:22:57.948Z"
   },
   {
    "duration": 8,
    "start_time": "2022-08-26T16:22:57.957Z"
   },
   {
    "duration": 4,
    "start_time": "2022-08-26T16:22:57.967Z"
   },
   {
    "duration": 6,
    "start_time": "2022-08-26T16:22:57.972Z"
   },
   {
    "duration": 7,
    "start_time": "2022-08-26T16:22:58.006Z"
   },
   {
    "duration": 10,
    "start_time": "2022-08-26T16:22:58.015Z"
   },
   {
    "duration": 675,
    "start_time": "2022-08-26T16:22:58.026Z"
   },
   {
    "duration": 8,
    "start_time": "2022-08-26T16:22:58.702Z"
   },
   {
    "duration": 7,
    "start_time": "2022-08-26T16:22:58.712Z"
   },
   {
    "duration": 6,
    "start_time": "2022-08-26T16:22:58.720Z"
   },
   {
    "duration": 8,
    "start_time": "2022-08-26T16:22:58.727Z"
   },
   {
    "duration": 9,
    "start_time": "2022-08-26T16:22:58.736Z"
   },
   {
    "duration": 9,
    "start_time": "2022-08-26T16:22:58.747Z"
   },
   {
    "duration": 7,
    "start_time": "2022-08-26T16:22:58.757Z"
   },
   {
    "duration": 7,
    "start_time": "2022-08-26T16:22:58.767Z"
   },
   {
    "duration": 7,
    "start_time": "2022-08-26T16:22:58.775Z"
   },
   {
    "duration": 24,
    "start_time": "2022-08-26T16:22:58.784Z"
   },
   {
    "duration": 5,
    "start_time": "2022-08-26T16:22:58.809Z"
   },
   {
    "duration": 7,
    "start_time": "2022-08-26T16:22:58.815Z"
   },
   {
    "duration": 4,
    "start_time": "2022-08-26T16:22:58.824Z"
   },
   {
    "duration": 7,
    "start_time": "2022-08-26T16:22:58.830Z"
   },
   {
    "duration": 4,
    "start_time": "2022-08-26T16:22:58.839Z"
   },
   {
    "duration": 7,
    "start_time": "2022-08-26T16:22:58.844Z"
   },
   {
    "duration": 117,
    "start_time": "2022-08-26T16:22:58.852Z"
   },
   {
    "duration": 0,
    "start_time": "2022-08-26T16:22:58.970Z"
   },
   {
    "duration": 0,
    "start_time": "2022-08-26T16:22:58.971Z"
   },
   {
    "duration": 0,
    "start_time": "2022-08-26T16:22:58.973Z"
   },
   {
    "duration": 0,
    "start_time": "2022-08-26T16:22:58.974Z"
   },
   {
    "duration": 0,
    "start_time": "2022-08-26T16:22:58.975Z"
   },
   {
    "duration": 0,
    "start_time": "2022-08-26T16:22:58.977Z"
   },
   {
    "duration": 0,
    "start_time": "2022-08-26T16:22:58.978Z"
   },
   {
    "duration": 0,
    "start_time": "2022-08-26T16:22:58.980Z"
   },
   {
    "duration": 0,
    "start_time": "2022-08-26T16:22:58.981Z"
   },
   {
    "duration": 0,
    "start_time": "2022-08-26T16:22:58.982Z"
   },
   {
    "duration": 0,
    "start_time": "2022-08-26T16:22:59.006Z"
   },
   {
    "duration": 0,
    "start_time": "2022-08-26T16:22:59.007Z"
   },
   {
    "duration": 0,
    "start_time": "2022-08-26T16:22:59.008Z"
   },
   {
    "duration": 72,
    "start_time": "2022-08-26T16:24:38.429Z"
   },
   {
    "duration": 10,
    "start_time": "2022-08-26T16:25:01.556Z"
   },
   {
    "duration": 10,
    "start_time": "2022-08-26T16:30:31.201Z"
   },
   {
    "duration": 11,
    "start_time": "2022-08-26T16:32:25.109Z"
   },
   {
    "duration": 22,
    "start_time": "2022-08-26T16:32:49.769Z"
   },
   {
    "duration": 17,
    "start_time": "2022-08-26T16:32:50.932Z"
   },
   {
    "duration": 10,
    "start_time": "2022-08-26T16:34:02.934Z"
   },
   {
    "duration": 192,
    "start_time": "2022-08-26T16:34:04.515Z"
   },
   {
    "duration": 201,
    "start_time": "2022-08-26T16:34:20.409Z"
   },
   {
    "duration": 999,
    "start_time": "2022-08-26T16:34:25.417Z"
   },
   {
    "duration": 803,
    "start_time": "2022-08-26T16:35:53.524Z"
   },
   {
    "duration": 1214,
    "start_time": "2022-08-26T16:39:14.105Z"
   },
   {
    "duration": 955,
    "start_time": "2022-08-26T16:39:26.273Z"
   },
   {
    "duration": 10,
    "start_time": "2022-08-26T16:41:52.906Z"
   },
   {
    "duration": 14,
    "start_time": "2022-08-26T16:42:26.270Z"
   },
   {
    "duration": 94,
    "start_time": "2022-08-26T16:42:37.712Z"
   },
   {
    "duration": 95,
    "start_time": "2022-08-26T16:43:08.276Z"
   },
   {
    "duration": 10,
    "start_time": "2022-08-26T16:43:15.495Z"
   },
   {
    "duration": 11,
    "start_time": "2022-08-26T16:43:28.581Z"
   },
   {
    "duration": 14,
    "start_time": "2022-08-26T16:43:49.839Z"
   },
   {
    "duration": 11,
    "start_time": "2022-08-26T16:44:07.282Z"
   },
   {
    "duration": 9,
    "start_time": "2022-08-26T16:47:33.348Z"
   },
   {
    "duration": 1228,
    "start_time": "2022-08-26T16:51:38.624Z"
   },
   {
    "duration": 661,
    "start_time": "2022-08-26T16:51:39.854Z"
   },
   {
    "duration": 23,
    "start_time": "2022-08-26T16:51:40.516Z"
   },
   {
    "duration": 18,
    "start_time": "2022-08-26T16:51:40.541Z"
   },
   {
    "duration": 22,
    "start_time": "2022-08-26T16:51:40.560Z"
   },
   {
    "duration": 23,
    "start_time": "2022-08-26T16:51:40.583Z"
   },
   {
    "duration": 8,
    "start_time": "2022-08-26T16:51:40.608Z"
   },
   {
    "duration": 9,
    "start_time": "2022-08-26T16:51:40.617Z"
   },
   {
    "duration": 23,
    "start_time": "2022-08-26T16:51:40.627Z"
   },
   {
    "duration": 3,
    "start_time": "2022-08-26T16:51:40.652Z"
   },
   {
    "duration": 10,
    "start_time": "2022-08-26T16:51:40.656Z"
   },
   {
    "duration": 5,
    "start_time": "2022-08-26T16:51:40.667Z"
   },
   {
    "duration": 4,
    "start_time": "2022-08-26T16:51:40.673Z"
   },
   {
    "duration": 29,
    "start_time": "2022-08-26T16:51:40.678Z"
   },
   {
    "duration": 9,
    "start_time": "2022-08-26T16:51:40.708Z"
   },
   {
    "duration": 5,
    "start_time": "2022-08-26T16:51:40.719Z"
   },
   {
    "duration": 6,
    "start_time": "2022-08-26T16:51:40.725Z"
   },
   {
    "duration": 8,
    "start_time": "2022-08-26T16:51:40.732Z"
   },
   {
    "duration": 9,
    "start_time": "2022-08-26T16:51:40.742Z"
   },
   {
    "duration": 688,
    "start_time": "2022-08-26T16:51:40.752Z"
   },
   {
    "duration": 5,
    "start_time": "2022-08-26T16:51:41.442Z"
   },
   {
    "duration": 20,
    "start_time": "2022-08-26T16:51:41.449Z"
   },
   {
    "duration": 9,
    "start_time": "2022-08-26T16:51:41.470Z"
   },
   {
    "duration": 7,
    "start_time": "2022-08-26T16:51:41.480Z"
   },
   {
    "duration": 11,
    "start_time": "2022-08-26T16:51:41.488Z"
   },
   {
    "duration": 12,
    "start_time": "2022-08-26T16:51:41.500Z"
   },
   {
    "duration": 8,
    "start_time": "2022-08-26T16:51:41.514Z"
   },
   {
    "duration": 4,
    "start_time": "2022-08-26T16:51:41.524Z"
   },
   {
    "duration": 27,
    "start_time": "2022-08-26T16:51:41.529Z"
   },
   {
    "duration": 17,
    "start_time": "2022-08-26T16:51:41.558Z"
   },
   {
    "duration": 21,
    "start_time": "2022-08-26T16:51:41.577Z"
   },
   {
    "duration": 23,
    "start_time": "2022-08-26T16:51:41.600Z"
   },
   {
    "duration": 7,
    "start_time": "2022-08-26T16:51:41.624Z"
   },
   {
    "duration": 22,
    "start_time": "2022-08-26T16:51:41.632Z"
   },
   {
    "duration": 16,
    "start_time": "2022-08-26T16:51:41.655Z"
   },
   {
    "duration": 18,
    "start_time": "2022-08-26T16:51:41.672Z"
   },
   {
    "duration": 103,
    "start_time": "2022-08-26T16:51:41.692Z"
   },
   {
    "duration": 0,
    "start_time": "2022-08-26T16:51:41.796Z"
   },
   {
    "duration": 0,
    "start_time": "2022-08-26T16:51:41.797Z"
   },
   {
    "duration": 0,
    "start_time": "2022-08-26T16:51:41.799Z"
   },
   {
    "duration": 0,
    "start_time": "2022-08-26T16:51:41.807Z"
   },
   {
    "duration": 0,
    "start_time": "2022-08-26T16:51:41.808Z"
   },
   {
    "duration": 0,
    "start_time": "2022-08-26T16:51:41.809Z"
   },
   {
    "duration": 0,
    "start_time": "2022-08-26T16:51:41.811Z"
   },
   {
    "duration": 0,
    "start_time": "2022-08-26T16:51:41.811Z"
   },
   {
    "duration": 0,
    "start_time": "2022-08-26T16:51:41.812Z"
   },
   {
    "duration": 0,
    "start_time": "2022-08-26T16:51:41.813Z"
   },
   {
    "duration": 0,
    "start_time": "2022-08-26T16:51:41.814Z"
   },
   {
    "duration": 0,
    "start_time": "2022-08-26T16:51:41.815Z"
   },
   {
    "duration": 0,
    "start_time": "2022-08-26T16:51:41.816Z"
   },
   {
    "duration": 0,
    "start_time": "2022-08-26T16:51:41.817Z"
   },
   {
    "duration": 0,
    "start_time": "2022-08-26T16:51:41.818Z"
   },
   {
    "duration": 0,
    "start_time": "2022-08-26T16:51:41.819Z"
   },
   {
    "duration": 256,
    "start_time": "2022-08-26T16:52:10.097Z"
   },
   {
    "duration": 147,
    "start_time": "2022-08-26T16:52:10.922Z"
   },
   {
    "duration": 32,
    "start_time": "2022-08-26T16:52:11.733Z"
   },
   {
    "duration": 235,
    "start_time": "2022-08-26T16:52:12.181Z"
   },
   {
    "duration": 227,
    "start_time": "2022-08-26T16:52:12.686Z"
   },
   {
    "duration": 5,
    "start_time": "2022-08-26T16:52:13.087Z"
   },
   {
    "duration": 6,
    "start_time": "2022-08-26T16:52:13.981Z"
   },
   {
    "duration": 5,
    "start_time": "2022-08-26T16:52:14.398Z"
   },
   {
    "duration": 19,
    "start_time": "2022-08-26T16:52:14.841Z"
   },
   {
    "duration": 227,
    "start_time": "2022-08-26T16:52:15.241Z"
   },
   {
    "duration": 161,
    "start_time": "2022-08-26T16:52:15.676Z"
   },
   {
    "duration": 9,
    "start_time": "2022-08-26T16:52:16.556Z"
   },
   {
    "duration": 11,
    "start_time": "2022-08-26T16:52:17.024Z"
   },
   {
    "duration": 10,
    "start_time": "2022-08-26T16:52:17.427Z"
   },
   {
    "duration": 215747,
    "start_time": "2022-08-26T16:52:19.013Z"
   },
   {
    "duration": 0,
    "start_time": "2022-08-26T16:55:54.772Z"
   },
   {
    "duration": 0,
    "start_time": "2022-08-26T16:55:54.773Z"
   },
   {
    "duration": 1712,
    "start_time": "2022-08-26T16:56:04.012Z"
   },
   {
    "duration": 15,
    "start_time": "2022-08-26T16:56:08.396Z"
   },
   {
    "duration": 10,
    "start_time": "2022-08-26T17:47:57.238Z"
   },
   {
    "duration": 1333,
    "start_time": "2022-08-26T17:48:09.873Z"
   },
   {
    "duration": 9,
    "start_time": "2022-08-26T17:59:20.323Z"
   },
   {
    "duration": 9,
    "start_time": "2022-08-26T17:59:44.693Z"
   },
   {
    "duration": 1269,
    "start_time": "2022-08-26T17:59:51.741Z"
   },
   {
    "duration": 81,
    "start_time": "2022-08-26T18:03:07.674Z"
   },
   {
    "duration": 16,
    "start_time": "2022-08-26T18:03:31.498Z"
   },
   {
    "duration": 1407,
    "start_time": "2022-08-27T07:20:28.646Z"
   },
   {
    "duration": 2963,
    "start_time": "2022-08-27T07:20:30.055Z"
   },
   {
    "duration": 26,
    "start_time": "2022-08-27T07:20:33.020Z"
   },
   {
    "duration": 19,
    "start_time": "2022-08-27T07:20:33.048Z"
   },
   {
    "duration": 27,
    "start_time": "2022-08-27T07:20:33.069Z"
   },
   {
    "duration": 7,
    "start_time": "2022-08-27T07:20:33.098Z"
   },
   {
    "duration": 7,
    "start_time": "2022-08-27T07:20:33.106Z"
   },
   {
    "duration": 8,
    "start_time": "2022-08-27T07:20:33.114Z"
   },
   {
    "duration": 22,
    "start_time": "2022-08-27T07:20:33.123Z"
   },
   {
    "duration": 4,
    "start_time": "2022-08-27T07:20:33.147Z"
   },
   {
    "duration": 33,
    "start_time": "2022-08-27T07:20:33.153Z"
   },
   {
    "duration": 7,
    "start_time": "2022-08-27T07:20:33.188Z"
   },
   {
    "duration": 5,
    "start_time": "2022-08-27T07:20:33.196Z"
   },
   {
    "duration": 10,
    "start_time": "2022-08-27T07:20:33.204Z"
   },
   {
    "duration": 9,
    "start_time": "2022-08-27T07:20:33.215Z"
   },
   {
    "duration": 5,
    "start_time": "2022-08-27T07:20:33.226Z"
   },
   {
    "duration": 8,
    "start_time": "2022-08-27T07:20:33.232Z"
   },
   {
    "duration": 44,
    "start_time": "2022-08-27T07:20:33.242Z"
   },
   {
    "duration": 10,
    "start_time": "2022-08-27T07:20:33.288Z"
   },
   {
    "duration": 751,
    "start_time": "2022-08-27T07:20:33.302Z"
   },
   {
    "duration": 6,
    "start_time": "2022-08-27T07:20:34.055Z"
   },
   {
    "duration": 9,
    "start_time": "2022-08-27T07:20:34.062Z"
   },
   {
    "duration": 6,
    "start_time": "2022-08-27T07:20:34.084Z"
   },
   {
    "duration": 6,
    "start_time": "2022-08-27T07:20:34.092Z"
   },
   {
    "duration": 7,
    "start_time": "2022-08-27T07:20:34.099Z"
   },
   {
    "duration": 19,
    "start_time": "2022-08-27T07:20:34.108Z"
   },
   {
    "duration": 12,
    "start_time": "2022-08-27T07:20:34.130Z"
   },
   {
    "duration": 10,
    "start_time": "2022-08-27T07:20:34.150Z"
   },
   {
    "duration": 8,
    "start_time": "2022-08-27T07:20:34.162Z"
   },
   {
    "duration": 8,
    "start_time": "2022-08-27T07:20:34.171Z"
   },
   {
    "duration": 13,
    "start_time": "2022-08-27T07:20:34.180Z"
   },
   {
    "duration": 7,
    "start_time": "2022-08-27T07:20:34.195Z"
   },
   {
    "duration": 5,
    "start_time": "2022-08-27T07:20:34.203Z"
   },
   {
    "duration": 11,
    "start_time": "2022-08-27T07:20:34.209Z"
   },
   {
    "duration": 5,
    "start_time": "2022-08-27T07:20:34.221Z"
   },
   {
    "duration": 6,
    "start_time": "2022-08-27T07:20:34.228Z"
   },
   {
    "duration": 4,
    "start_time": "2022-08-27T07:20:34.235Z"
   },
   {
    "duration": 319,
    "start_time": "2022-08-27T07:20:34.241Z"
   },
   {
    "duration": 183,
    "start_time": "2022-08-27T07:20:34.562Z"
   },
   {
    "duration": 43,
    "start_time": "2022-08-27T07:20:34.747Z"
   },
   {
    "duration": 259,
    "start_time": "2022-08-27T07:20:34.794Z"
   },
   {
    "duration": 259,
    "start_time": "2022-08-27T07:20:35.054Z"
   },
   {
    "duration": 6,
    "start_time": "2022-08-27T07:20:35.314Z"
   },
   {
    "duration": 8,
    "start_time": "2022-08-27T07:20:35.321Z"
   },
   {
    "duration": 9,
    "start_time": "2022-08-27T07:20:35.330Z"
   },
   {
    "duration": 23,
    "start_time": "2022-08-27T07:20:35.340Z"
   },
   {
    "duration": 260,
    "start_time": "2022-08-27T07:20:35.365Z"
   },
   {
    "duration": 186,
    "start_time": "2022-08-27T07:20:35.626Z"
   },
   {
    "duration": 10,
    "start_time": "2022-08-27T07:20:35.814Z"
   },
   {
    "duration": 7,
    "start_time": "2022-08-27T07:20:35.826Z"
   },
   {
    "duration": 113,
    "start_time": "2022-08-27T07:20:35.834Z"
   },
   {
    "duration": 0,
    "start_time": "2022-08-27T07:20:35.949Z"
   },
   {
    "duration": 0,
    "start_time": "2022-08-27T07:20:35.950Z"
   },
   {
    "duration": 0,
    "start_time": "2022-08-27T07:20:35.951Z"
   },
   {
    "duration": 224501,
    "start_time": "2022-08-27T07:20:51.790Z"
   },
   {
    "duration": 1696,
    "start_time": "2022-08-27T07:24:36.293Z"
   },
   {
    "duration": 1199,
    "start_time": "2022-08-27T07:26:52.838Z"
   },
   {
    "duration": 659,
    "start_time": "2022-08-27T07:26:54.039Z"
   },
   {
    "duration": 23,
    "start_time": "2022-08-27T07:26:54.699Z"
   },
   {
    "duration": 18,
    "start_time": "2022-08-27T07:26:54.724Z"
   },
   {
    "duration": 18,
    "start_time": "2022-08-27T07:26:54.745Z"
   },
   {
    "duration": 5,
    "start_time": "2022-08-27T07:26:54.784Z"
   },
   {
    "duration": 6,
    "start_time": "2022-08-27T07:26:54.790Z"
   },
   {
    "duration": 10,
    "start_time": "2022-08-27T07:26:54.797Z"
   },
   {
    "duration": 22,
    "start_time": "2022-08-27T07:26:54.809Z"
   },
   {
    "duration": 3,
    "start_time": "2022-08-27T07:26:54.833Z"
   },
   {
    "duration": 10,
    "start_time": "2022-08-27T07:26:54.837Z"
   },
   {
    "duration": 5,
    "start_time": "2022-08-27T07:26:54.849Z"
   },
   {
    "duration": 30,
    "start_time": "2022-08-27T07:26:54.855Z"
   },
   {
    "duration": 10,
    "start_time": "2022-08-27T07:26:54.889Z"
   },
   {
    "duration": 9,
    "start_time": "2022-08-27T07:26:54.901Z"
   },
   {
    "duration": 6,
    "start_time": "2022-08-27T07:26:54.912Z"
   },
   {
    "duration": 8,
    "start_time": "2022-08-27T07:26:54.920Z"
   },
   {
    "duration": 9,
    "start_time": "2022-08-27T07:26:54.930Z"
   },
   {
    "duration": 45,
    "start_time": "2022-08-27T07:26:54.941Z"
   },
   {
    "duration": 748,
    "start_time": "2022-08-27T07:26:54.988Z"
   },
   {
    "duration": 7,
    "start_time": "2022-08-27T07:26:55.738Z"
   },
   {
    "duration": 10,
    "start_time": "2022-08-27T07:26:55.747Z"
   },
   {
    "duration": 15,
    "start_time": "2022-08-27T07:26:55.759Z"
   },
   {
    "duration": 4,
    "start_time": "2022-08-27T07:26:55.785Z"
   },
   {
    "duration": 10,
    "start_time": "2022-08-27T07:26:55.792Z"
   },
   {
    "duration": 13,
    "start_time": "2022-08-27T07:26:55.804Z"
   },
   {
    "duration": 15,
    "start_time": "2022-08-27T07:26:55.819Z"
   },
   {
    "duration": 11,
    "start_time": "2022-08-27T07:26:55.836Z"
   },
   {
    "duration": 17,
    "start_time": "2022-08-27T07:26:55.849Z"
   },
   {
    "duration": 9,
    "start_time": "2022-08-27T07:26:55.868Z"
   },
   {
    "duration": 9,
    "start_time": "2022-08-27T07:26:55.879Z"
   },
   {
    "duration": 10,
    "start_time": "2022-08-27T07:26:55.889Z"
   },
   {
    "duration": 5,
    "start_time": "2022-08-27T07:26:55.901Z"
   },
   {
    "duration": 7,
    "start_time": "2022-08-27T07:26:55.908Z"
   },
   {
    "duration": 5,
    "start_time": "2022-08-27T07:26:55.917Z"
   },
   {
    "duration": 9,
    "start_time": "2022-08-27T07:26:55.923Z"
   },
   {
    "duration": 3,
    "start_time": "2022-08-27T07:26:55.933Z"
   },
   {
    "duration": 298,
    "start_time": "2022-08-27T07:26:55.937Z"
   },
   {
    "duration": 169,
    "start_time": "2022-08-27T07:26:56.236Z"
   },
   {
    "duration": 32,
    "start_time": "2022-08-27T07:26:56.406Z"
   },
   {
    "duration": 272,
    "start_time": "2022-08-27T07:26:56.441Z"
   },
   {
    "duration": 252,
    "start_time": "2022-08-27T07:26:56.715Z"
   },
   {
    "duration": 16,
    "start_time": "2022-08-27T07:26:56.969Z"
   },
   {
    "duration": 9,
    "start_time": "2022-08-27T07:26:56.987Z"
   },
   {
    "duration": 8,
    "start_time": "2022-08-27T07:26:56.997Z"
   },
   {
    "duration": 26,
    "start_time": "2022-08-27T07:26:57.007Z"
   },
   {
    "duration": 306,
    "start_time": "2022-08-27T07:26:57.034Z"
   },
   {
    "duration": 195,
    "start_time": "2022-08-27T07:26:57.342Z"
   },
   {
    "duration": 11,
    "start_time": "2022-08-27T07:26:57.539Z"
   },
   {
    "duration": 8,
    "start_time": "2022-08-27T07:26:57.551Z"
   },
   {
    "duration": 4,
    "start_time": "2022-08-27T07:26:57.561Z"
   },
   {
    "duration": 225820,
    "start_time": "2022-08-27T07:26:57.566Z"
   },
   {
    "duration": 2901,
    "start_time": "2022-08-27T07:30:43.388Z"
   },
   {
    "duration": 5,
    "start_time": "2022-08-27T07:30:46.291Z"
   },
   {
    "duration": 674,
    "start_time": "2022-08-27T07:31:40.431Z"
   },
   {
    "duration": 31566,
    "start_time": "2022-08-27T07:32:02.727Z"
   },
   {
    "duration": 17721,
    "start_time": "2022-08-27T07:33:38.213Z"
   },
   {
    "duration": 1301,
    "start_time": "2022-08-27T08:38:20.477Z"
   },
   {
    "duration": 654,
    "start_time": "2022-08-27T08:38:21.780Z"
   },
   {
    "duration": 24,
    "start_time": "2022-08-27T08:38:22.435Z"
   },
   {
    "duration": 30,
    "start_time": "2022-08-27T08:38:22.461Z"
   },
   {
    "duration": 21,
    "start_time": "2022-08-27T08:38:22.493Z"
   },
   {
    "duration": 8,
    "start_time": "2022-08-27T08:38:22.517Z"
   },
   {
    "duration": 8,
    "start_time": "2022-08-27T08:38:22.526Z"
   },
   {
    "duration": 7,
    "start_time": "2022-08-27T08:38:22.536Z"
   },
   {
    "duration": 42,
    "start_time": "2022-08-27T08:38:22.544Z"
   },
   {
    "duration": 3,
    "start_time": "2022-08-27T08:38:22.589Z"
   },
   {
    "duration": 11,
    "start_time": "2022-08-27T08:38:22.593Z"
   },
   {
    "duration": 6,
    "start_time": "2022-08-27T08:38:22.606Z"
   },
   {
    "duration": 6,
    "start_time": "2022-08-27T08:38:22.613Z"
   },
   {
    "duration": 12,
    "start_time": "2022-08-27T08:38:22.621Z"
   },
   {
    "duration": 11,
    "start_time": "2022-08-27T08:38:22.635Z"
   },
   {
    "duration": 37,
    "start_time": "2022-08-27T08:38:22.648Z"
   },
   {
    "duration": 9,
    "start_time": "2022-08-27T08:38:22.687Z"
   },
   {
    "duration": 10,
    "start_time": "2022-08-27T08:38:22.698Z"
   },
   {
    "duration": 14,
    "start_time": "2022-08-27T08:38:22.710Z"
   },
   {
    "duration": 821,
    "start_time": "2022-08-27T08:38:22.726Z"
   },
   {
    "duration": 7,
    "start_time": "2022-08-27T08:38:23.549Z"
   },
   {
    "duration": 16,
    "start_time": "2022-08-27T08:38:23.557Z"
   },
   {
    "duration": 13,
    "start_time": "2022-08-27T08:38:23.574Z"
   },
   {
    "duration": 3,
    "start_time": "2022-08-27T08:38:23.589Z"
   },
   {
    "duration": 5,
    "start_time": "2022-08-27T08:38:23.594Z"
   },
   {
    "duration": 8,
    "start_time": "2022-08-27T08:38:23.600Z"
   },
   {
    "duration": 6,
    "start_time": "2022-08-27T08:38:23.610Z"
   },
   {
    "duration": 7,
    "start_time": "2022-08-27T08:38:23.619Z"
   },
   {
    "duration": 10,
    "start_time": "2022-08-27T08:38:23.627Z"
   },
   {
    "duration": 14,
    "start_time": "2022-08-27T08:38:23.639Z"
   },
   {
    "duration": 7,
    "start_time": "2022-08-27T08:38:23.684Z"
   },
   {
    "duration": 4,
    "start_time": "2022-08-27T08:38:23.693Z"
   },
   {
    "duration": 5,
    "start_time": "2022-08-27T08:38:23.699Z"
   },
   {
    "duration": 9,
    "start_time": "2022-08-27T08:38:23.705Z"
   },
   {
    "duration": 7,
    "start_time": "2022-08-27T08:38:23.716Z"
   },
   {
    "duration": 7,
    "start_time": "2022-08-27T08:38:23.725Z"
   },
   {
    "duration": 6,
    "start_time": "2022-08-27T08:38:23.734Z"
   },
   {
    "duration": 319,
    "start_time": "2022-08-27T08:38:23.741Z"
   },
   {
    "duration": 179,
    "start_time": "2022-08-27T08:38:24.062Z"
   },
   {
    "duration": 43,
    "start_time": "2022-08-27T08:38:24.242Z"
   },
   {
    "duration": 328,
    "start_time": "2022-08-27T08:38:24.287Z"
   },
   {
    "duration": 300,
    "start_time": "2022-08-27T08:38:24.616Z"
   },
   {
    "duration": 6,
    "start_time": "2022-08-27T08:38:24.917Z"
   },
   {
    "duration": 12,
    "start_time": "2022-08-27T08:38:24.924Z"
   },
   {
    "duration": 8,
    "start_time": "2022-08-27T08:38:24.938Z"
   },
   {
    "duration": 37,
    "start_time": "2022-08-27T08:38:24.948Z"
   },
   {
    "duration": 257,
    "start_time": "2022-08-27T08:38:24.987Z"
   },
   {
    "duration": 186,
    "start_time": "2022-08-27T08:38:25.246Z"
   },
   {
    "duration": 10,
    "start_time": "2022-08-27T08:38:25.434Z"
   },
   {
    "duration": 7,
    "start_time": "2022-08-27T08:38:25.446Z"
   },
   {
    "duration": 5,
    "start_time": "2022-08-27T08:38:25.455Z"
   },
   {
    "duration": 18063,
    "start_time": "2022-08-27T08:38:25.462Z"
   },
   {
    "duration": 1565,
    "start_time": "2022-08-27T08:38:43.527Z"
   },
   {
    "duration": 31950,
    "start_time": "2022-08-27T08:38:45.094Z"
   },
   {
    "duration": 5,
    "start_time": "2022-08-27T08:39:17.046Z"
   },
   {
    "duration": 103,
    "start_time": "2022-08-27T08:41:16.356Z"
   },
   {
    "duration": 9,
    "start_time": "2022-08-27T09:39:28.628Z"
   },
   {
    "duration": 8,
    "start_time": "2022-08-27T09:39:41.931Z"
   },
   {
    "duration": 22,
    "start_time": "2022-08-27T09:39:54.471Z"
   },
   {
    "duration": 8,
    "start_time": "2022-08-27T09:41:26.771Z"
   },
   {
    "duration": 84,
    "start_time": "2022-08-27T09:43:15.336Z"
   },
   {
    "duration": 11,
    "start_time": "2022-08-27T09:43:20.912Z"
   },
   {
    "duration": 20,
    "start_time": "2022-08-27T09:43:24.418Z"
   },
   {
    "duration": 1294,
    "start_time": "2022-08-27T09:45:14.415Z"
   },
   {
    "duration": 668,
    "start_time": "2022-08-27T09:45:15.711Z"
   },
   {
    "duration": 24,
    "start_time": "2022-08-27T09:45:16.380Z"
   },
   {
    "duration": 19,
    "start_time": "2022-08-27T09:45:16.405Z"
   },
   {
    "duration": 21,
    "start_time": "2022-08-27T09:45:16.425Z"
   },
   {
    "duration": 4,
    "start_time": "2022-08-27T09:45:16.447Z"
   },
   {
    "duration": 3,
    "start_time": "2022-08-27T09:45:16.485Z"
   },
   {
    "duration": 7,
    "start_time": "2022-08-27T09:45:16.490Z"
   },
   {
    "duration": 31,
    "start_time": "2022-08-27T09:45:16.498Z"
   },
   {
    "duration": 3,
    "start_time": "2022-08-27T09:45:16.531Z"
   },
   {
    "duration": 9,
    "start_time": "2022-08-27T09:45:16.536Z"
   },
   {
    "duration": 5,
    "start_time": "2022-08-27T09:45:16.547Z"
   },
   {
    "duration": 4,
    "start_time": "2022-08-27T09:45:16.553Z"
   },
   {
    "duration": 27,
    "start_time": "2022-08-27T09:45:16.558Z"
   },
   {
    "duration": 8,
    "start_time": "2022-08-27T09:45:16.587Z"
   },
   {
    "duration": 5,
    "start_time": "2022-08-27T09:45:16.596Z"
   },
   {
    "duration": 7,
    "start_time": "2022-08-27T09:45:16.602Z"
   },
   {
    "duration": 8,
    "start_time": "2022-08-27T09:45:16.610Z"
   },
   {
    "duration": 9,
    "start_time": "2022-08-27T09:45:16.620Z"
   },
   {
    "duration": 764,
    "start_time": "2022-08-27T09:45:16.631Z"
   },
   {
    "duration": 6,
    "start_time": "2022-08-27T09:45:17.397Z"
   },
   {
    "duration": 16,
    "start_time": "2022-08-27T09:45:17.404Z"
   },
   {
    "duration": 15,
    "start_time": "2022-08-27T09:45:17.421Z"
   },
   {
    "duration": 14,
    "start_time": "2022-08-27T09:45:17.438Z"
   },
   {
    "duration": 11,
    "start_time": "2022-08-27T09:45:17.453Z"
   },
   {
    "duration": 25,
    "start_time": "2022-08-27T09:45:17.465Z"
   },
   {
    "duration": 8,
    "start_time": "2022-08-27T09:45:17.492Z"
   },
   {
    "duration": 32,
    "start_time": "2022-08-27T09:45:17.504Z"
   },
   {
    "duration": 5,
    "start_time": "2022-08-27T09:45:17.538Z"
   },
   {
    "duration": 8,
    "start_time": "2022-08-27T09:45:17.545Z"
   },
   {
    "duration": 9,
    "start_time": "2022-08-27T09:45:17.554Z"
   },
   {
    "duration": 4,
    "start_time": "2022-08-27T09:45:17.565Z"
   },
   {
    "duration": 4,
    "start_time": "2022-08-27T09:45:17.570Z"
   },
   {
    "duration": 7,
    "start_time": "2022-08-27T09:45:17.576Z"
   },
   {
    "duration": 6,
    "start_time": "2022-08-27T09:45:17.584Z"
   },
   {
    "duration": 8,
    "start_time": "2022-08-27T09:45:17.591Z"
   },
   {
    "duration": 6,
    "start_time": "2022-08-27T09:45:17.601Z"
   },
   {
    "duration": 300,
    "start_time": "2022-08-27T09:45:17.609Z"
   },
   {
    "duration": 215,
    "start_time": "2022-08-27T09:45:17.911Z"
   },
   {
    "duration": 32,
    "start_time": "2022-08-27T09:45:18.128Z"
   },
   {
    "duration": 271,
    "start_time": "2022-08-27T09:45:18.162Z"
   },
   {
    "duration": 254,
    "start_time": "2022-08-27T09:45:18.434Z"
   },
   {
    "duration": 6,
    "start_time": "2022-08-27T09:45:18.689Z"
   },
   {
    "duration": 7,
    "start_time": "2022-08-27T09:45:18.696Z"
   },
   {
    "duration": 8,
    "start_time": "2022-08-27T09:45:18.704Z"
   },
   {
    "duration": 17,
    "start_time": "2022-08-27T09:45:18.714Z"
   },
   {
    "duration": 259,
    "start_time": "2022-08-27T09:45:18.733Z"
   },
   {
    "duration": 177,
    "start_time": "2022-08-27T09:45:18.993Z"
   },
   {
    "duration": 15,
    "start_time": "2022-08-27T09:45:19.171Z"
   },
   {
    "duration": 112,
    "start_time": "2022-08-27T09:45:19.188Z"
   },
   {
    "duration": 0,
    "start_time": "2022-08-27T09:45:19.301Z"
   },
   {
    "duration": 0,
    "start_time": "2022-08-27T09:45:19.302Z"
   },
   {
    "duration": 0,
    "start_time": "2022-08-27T09:45:19.303Z"
   },
   {
    "duration": 0,
    "start_time": "2022-08-27T09:45:19.304Z"
   },
   {
    "duration": 0,
    "start_time": "2022-08-27T09:45:19.305Z"
   },
   {
    "duration": 0,
    "start_time": "2022-08-27T09:45:19.306Z"
   },
   {
    "duration": 0,
    "start_time": "2022-08-27T09:45:19.307Z"
   },
   {
    "duration": 0,
    "start_time": "2022-08-27T09:45:19.308Z"
   },
   {
    "duration": 11,
    "start_time": "2022-08-27T09:45:51.650Z"
   },
   {
    "duration": 247,
    "start_time": "2022-08-27T09:45:52.439Z"
   },
   {
    "duration": 1114,
    "start_time": "2022-08-27T09:46:35.776Z"
   },
   {
    "duration": 4,
    "start_time": "2022-08-27T09:52:50.622Z"
   },
   {
    "duration": 9,
    "start_time": "2022-08-27T09:52:51.419Z"
   },
   {
    "duration": 1616,
    "start_time": "2022-08-27T09:52:52.272Z"
   },
   {
    "duration": 2354,
    "start_time": "2022-08-27T09:53:02.638Z"
   },
   {
    "duration": 13157,
    "start_time": "2022-08-27T09:54:46.249Z"
   },
   {
    "duration": 30,
    "start_time": "2022-08-27T10:03:45.930Z"
   },
   {
    "duration": 10,
    "start_time": "2022-08-27T10:04:37.717Z"
   },
   {
    "duration": 27,
    "start_time": "2022-08-27T10:07:02.320Z"
   },
   {
    "duration": 1360,
    "start_time": "2022-08-27T10:07:21.346Z"
   },
   {
    "duration": 718,
    "start_time": "2022-08-27T10:07:22.709Z"
   },
   {
    "duration": 23,
    "start_time": "2022-08-27T10:07:23.428Z"
   },
   {
    "duration": 18,
    "start_time": "2022-08-27T10:07:23.452Z"
   },
   {
    "duration": 34,
    "start_time": "2022-08-27T10:07:23.471Z"
   },
   {
    "duration": 6,
    "start_time": "2022-08-27T10:07:23.506Z"
   },
   {
    "duration": 9,
    "start_time": "2022-08-27T10:07:23.513Z"
   },
   {
    "duration": 7,
    "start_time": "2022-08-27T10:07:23.524Z"
   },
   {
    "duration": 20,
    "start_time": "2022-08-27T10:07:23.532Z"
   },
   {
    "duration": 3,
    "start_time": "2022-08-27T10:07:23.555Z"
   },
   {
    "duration": 8,
    "start_time": "2022-08-27T10:07:23.590Z"
   },
   {
    "duration": 9,
    "start_time": "2022-08-27T10:07:23.601Z"
   },
   {
    "duration": 5,
    "start_time": "2022-08-27T10:07:23.612Z"
   },
   {
    "duration": 10,
    "start_time": "2022-08-27T10:07:23.618Z"
   },
   {
    "duration": 8,
    "start_time": "2022-08-27T10:07:23.630Z"
   },
   {
    "duration": 4,
    "start_time": "2022-08-27T10:07:23.640Z"
   },
   {
    "duration": 9,
    "start_time": "2022-08-27T10:07:23.645Z"
   },
   {
    "duration": 36,
    "start_time": "2022-08-27T10:07:23.655Z"
   },
   {
    "duration": 10,
    "start_time": "2022-08-27T10:07:23.693Z"
   },
   {
    "duration": 729,
    "start_time": "2022-08-27T10:07:23.705Z"
   },
   {
    "duration": 8,
    "start_time": "2022-08-27T10:07:24.436Z"
   },
   {
    "duration": 19,
    "start_time": "2022-08-27T10:07:24.446Z"
   },
   {
    "duration": 6,
    "start_time": "2022-08-27T10:07:24.467Z"
   },
   {
    "duration": 19,
    "start_time": "2022-08-27T10:07:24.475Z"
   },
   {
    "duration": 28,
    "start_time": "2022-08-27T10:07:24.500Z"
   },
   {
    "duration": 13,
    "start_time": "2022-08-27T10:07:24.530Z"
   },
   {
    "duration": 9,
    "start_time": "2022-08-27T10:07:24.545Z"
   },
   {
    "duration": 10,
    "start_time": "2022-08-27T10:07:24.557Z"
   },
   {
    "duration": 42,
    "start_time": "2022-08-27T10:07:24.569Z"
   },
   {
    "duration": 12,
    "start_time": "2022-08-27T10:07:24.613Z"
   },
   {
    "duration": 11,
    "start_time": "2022-08-27T10:07:24.627Z"
   },
   {
    "duration": 22,
    "start_time": "2022-08-27T10:07:24.640Z"
   },
   {
    "duration": 10,
    "start_time": "2022-08-27T10:07:24.664Z"
   },
   {
    "duration": 10,
    "start_time": "2022-08-27T10:07:24.676Z"
   },
   {
    "duration": 18,
    "start_time": "2022-08-27T10:07:24.688Z"
   },
   {
    "duration": 8,
    "start_time": "2022-08-27T10:07:24.709Z"
   },
   {
    "duration": 3,
    "start_time": "2022-08-27T10:07:24.719Z"
   },
   {
    "duration": 327,
    "start_time": "2022-08-27T10:07:24.724Z"
   },
   {
    "duration": 193,
    "start_time": "2022-08-27T10:07:25.052Z"
   },
   {
    "duration": 38,
    "start_time": "2022-08-27T10:07:25.247Z"
   },
   {
    "duration": 293,
    "start_time": "2022-08-27T10:07:25.288Z"
   },
   {
    "duration": 294,
    "start_time": "2022-08-27T10:07:25.584Z"
   },
   {
    "duration": 7,
    "start_time": "2022-08-27T10:07:25.884Z"
   },
   {
    "duration": 23,
    "start_time": "2022-08-27T10:07:25.893Z"
   },
   {
    "duration": 9,
    "start_time": "2022-08-27T10:07:25.918Z"
   },
   {
    "duration": 27,
    "start_time": "2022-08-27T10:07:25.928Z"
   },
   {
    "duration": 295,
    "start_time": "2022-08-27T10:07:25.957Z"
   },
   {
    "duration": 208,
    "start_time": "2022-08-27T10:07:26.254Z"
   },
   {
    "duration": 5,
    "start_time": "2022-08-27T10:07:26.464Z"
   },
   {
    "duration": 34,
    "start_time": "2022-08-27T10:07:26.471Z"
   },
   {
    "duration": 1991,
    "start_time": "2022-08-27T10:07:26.507Z"
   },
   {
    "duration": 13941,
    "start_time": "2022-08-27T10:07:28.501Z"
   },
   {
    "duration": 1537,
    "start_time": "2022-08-27T10:07:42.444Z"
   },
   {
    "duration": 35,
    "start_time": "2022-08-27T10:07:43.985Z"
   },
   {
    "duration": 65,
    "start_time": "2022-08-27T10:07:44.022Z"
   },
   {
    "duration": 146,
    "start_time": "2022-08-27T10:08:03.630Z"
   },
   {
    "duration": 31,
    "start_time": "2022-08-27T10:08:12.900Z"
   },
   {
    "duration": 22,
    "start_time": "2022-08-27T10:08:13.659Z"
   },
   {
    "duration": 1422,
    "start_time": "2022-08-27T10:08:25.965Z"
   },
   {
    "duration": 726,
    "start_time": "2022-08-27T10:08:27.391Z"
   },
   {
    "duration": 35,
    "start_time": "2022-08-27T10:08:28.119Z"
   },
   {
    "duration": 21,
    "start_time": "2022-08-27T10:08:28.156Z"
   },
   {
    "duration": 32,
    "start_time": "2022-08-27T10:08:28.186Z"
   },
   {
    "duration": 4,
    "start_time": "2022-08-27T10:08:28.219Z"
   },
   {
    "duration": 8,
    "start_time": "2022-08-27T10:08:28.224Z"
   },
   {
    "duration": 7,
    "start_time": "2022-08-27T10:08:28.234Z"
   },
   {
    "duration": 26,
    "start_time": "2022-08-27T10:08:28.243Z"
   },
   {
    "duration": 5,
    "start_time": "2022-08-27T10:08:28.286Z"
   },
   {
    "duration": 24,
    "start_time": "2022-08-27T10:08:28.293Z"
   },
   {
    "duration": 6,
    "start_time": "2022-08-27T10:08:28.319Z"
   },
   {
    "duration": 5,
    "start_time": "2022-08-27T10:08:28.327Z"
   },
   {
    "duration": 9,
    "start_time": "2022-08-27T10:08:28.334Z"
   },
   {
    "duration": 9,
    "start_time": "2022-08-27T10:08:28.345Z"
   },
   {
    "duration": 7,
    "start_time": "2022-08-27T10:08:28.356Z"
   },
   {
    "duration": 13,
    "start_time": "2022-08-27T10:08:28.387Z"
   },
   {
    "duration": 13,
    "start_time": "2022-08-27T10:08:28.403Z"
   },
   {
    "duration": 10,
    "start_time": "2022-08-27T10:08:28.418Z"
   },
   {
    "duration": 783,
    "start_time": "2022-08-27T10:08:28.430Z"
   },
   {
    "duration": 6,
    "start_time": "2022-08-27T10:08:29.215Z"
   },
   {
    "duration": 10,
    "start_time": "2022-08-27T10:08:29.223Z"
   },
   {
    "duration": 6,
    "start_time": "2022-08-27T10:08:29.235Z"
   },
   {
    "duration": 3,
    "start_time": "2022-08-27T10:08:29.243Z"
   },
   {
    "duration": 9,
    "start_time": "2022-08-27T10:08:29.247Z"
   },
   {
    "duration": 8,
    "start_time": "2022-08-27T10:08:29.257Z"
   },
   {
    "duration": 6,
    "start_time": "2022-08-27T10:08:29.284Z"
   },
   {
    "duration": 8,
    "start_time": "2022-08-27T10:08:29.297Z"
   },
   {
    "duration": 10,
    "start_time": "2022-08-27T10:08:29.307Z"
   },
   {
    "duration": 7,
    "start_time": "2022-08-27T10:08:29.319Z"
   },
   {
    "duration": 5,
    "start_time": "2022-08-27T10:08:29.328Z"
   },
   {
    "duration": 8,
    "start_time": "2022-08-27T10:08:29.334Z"
   },
   {
    "duration": 4,
    "start_time": "2022-08-27T10:08:29.344Z"
   },
   {
    "duration": 7,
    "start_time": "2022-08-27T10:08:29.349Z"
   },
   {
    "duration": 32,
    "start_time": "2022-08-27T10:08:29.357Z"
   },
   {
    "duration": 14,
    "start_time": "2022-08-27T10:08:29.390Z"
   },
   {
    "duration": 5,
    "start_time": "2022-08-27T10:08:29.407Z"
   },
   {
    "duration": 310,
    "start_time": "2022-08-27T10:08:29.413Z"
   },
   {
    "duration": 179,
    "start_time": "2022-08-27T10:08:29.725Z"
   },
   {
    "duration": 33,
    "start_time": "2022-08-27T10:08:29.906Z"
   },
   {
    "duration": 297,
    "start_time": "2022-08-27T10:08:29.941Z"
   },
   {
    "duration": 293,
    "start_time": "2022-08-27T10:08:30.239Z"
   },
   {
    "duration": 5,
    "start_time": "2022-08-27T10:08:30.534Z"
   },
   {
    "duration": 28,
    "start_time": "2022-08-27T10:08:30.540Z"
   },
   {
    "duration": 14,
    "start_time": "2022-08-27T10:08:30.570Z"
   },
   {
    "duration": 42,
    "start_time": "2022-08-27T10:08:30.587Z"
   },
   {
    "duration": 290,
    "start_time": "2022-08-27T10:08:30.630Z"
   },
   {
    "duration": 215,
    "start_time": "2022-08-27T10:08:30.922Z"
   },
   {
    "duration": 4,
    "start_time": "2022-08-27T10:08:31.139Z"
   },
   {
    "duration": 26,
    "start_time": "2022-08-27T10:08:31.144Z"
   },
   {
    "duration": 2823,
    "start_time": "2022-08-27T10:08:31.171Z"
   },
   {
    "duration": 13737,
    "start_time": "2022-08-27T10:08:33.997Z"
   },
   {
    "duration": 2175,
    "start_time": "2022-08-27T10:08:47.736Z"
   },
   {
    "duration": 23,
    "start_time": "2022-08-27T10:08:49.913Z"
   },
   {
    "duration": 151,
    "start_time": "2022-08-27T10:08:49.938Z"
   },
   {
    "duration": 124,
    "start_time": "2022-08-27T10:09:16.510Z"
   },
   {
    "duration": 1303,
    "start_time": "2022-08-27T10:09:24.650Z"
   },
   {
    "duration": 697,
    "start_time": "2022-08-27T10:09:25.955Z"
   },
   {
    "duration": 24,
    "start_time": "2022-08-27T10:09:26.654Z"
   },
   {
    "duration": 32,
    "start_time": "2022-08-27T10:09:26.685Z"
   },
   {
    "duration": 21,
    "start_time": "2022-08-27T10:09:26.719Z"
   },
   {
    "duration": 4,
    "start_time": "2022-08-27T10:09:26.741Z"
   },
   {
    "duration": 9,
    "start_time": "2022-08-27T10:09:26.747Z"
   },
   {
    "duration": 31,
    "start_time": "2022-08-27T10:09:26.757Z"
   },
   {
    "duration": 31,
    "start_time": "2022-08-27T10:09:26.789Z"
   },
   {
    "duration": 4,
    "start_time": "2022-08-27T10:09:26.824Z"
   },
   {
    "duration": 13,
    "start_time": "2022-08-27T10:09:26.829Z"
   },
   {
    "duration": 5,
    "start_time": "2022-08-27T10:09:26.844Z"
   },
   {
    "duration": 6,
    "start_time": "2022-08-27T10:09:26.850Z"
   },
   {
    "duration": 11,
    "start_time": "2022-08-27T10:09:26.858Z"
   },
   {
    "duration": 12,
    "start_time": "2022-08-27T10:09:26.886Z"
   },
   {
    "duration": 8,
    "start_time": "2022-08-27T10:09:26.901Z"
   },
   {
    "duration": 8,
    "start_time": "2022-08-27T10:09:26.911Z"
   },
   {
    "duration": 11,
    "start_time": "2022-08-27T10:09:26.921Z"
   },
   {
    "duration": 9,
    "start_time": "2022-08-27T10:09:26.933Z"
   },
   {
    "duration": 837,
    "start_time": "2022-08-27T10:09:26.943Z"
   },
   {
    "duration": 9,
    "start_time": "2022-08-27T10:09:27.782Z"
   },
   {
    "duration": 21,
    "start_time": "2022-08-27T10:09:27.793Z"
   },
   {
    "duration": 6,
    "start_time": "2022-08-27T10:09:27.815Z"
   },
   {
    "duration": 4,
    "start_time": "2022-08-27T10:09:27.823Z"
   },
   {
    "duration": 6,
    "start_time": "2022-08-27T10:09:27.828Z"
   },
   {
    "duration": 14,
    "start_time": "2022-08-27T10:09:27.835Z"
   },
   {
    "duration": 7,
    "start_time": "2022-08-27T10:09:27.851Z"
   },
   {
    "duration": 23,
    "start_time": "2022-08-27T10:09:27.862Z"
   },
   {
    "duration": 8,
    "start_time": "2022-08-27T10:09:27.887Z"
   },
   {
    "duration": 11,
    "start_time": "2022-08-27T10:09:27.896Z"
   },
   {
    "duration": 9,
    "start_time": "2022-08-27T10:09:27.909Z"
   },
   {
    "duration": 11,
    "start_time": "2022-08-27T10:09:27.920Z"
   },
   {
    "duration": 5,
    "start_time": "2022-08-27T10:09:27.933Z"
   },
   {
    "duration": 8,
    "start_time": "2022-08-27T10:09:27.939Z"
   },
   {
    "duration": 12,
    "start_time": "2022-08-27T10:09:27.949Z"
   },
   {
    "duration": 22,
    "start_time": "2022-08-27T10:09:27.963Z"
   },
   {
    "duration": 6,
    "start_time": "2022-08-27T10:09:27.987Z"
   },
   {
    "duration": 291,
    "start_time": "2022-08-27T10:09:27.995Z"
   },
   {
    "duration": 173,
    "start_time": "2022-08-27T10:09:28.290Z"
   },
   {
    "duration": 41,
    "start_time": "2022-08-27T10:09:28.464Z"
   },
   {
    "duration": 301,
    "start_time": "2022-08-27T10:09:28.507Z"
   },
   {
    "duration": 291,
    "start_time": "2022-08-27T10:09:28.810Z"
   },
   {
    "duration": 12,
    "start_time": "2022-08-27T10:09:29.103Z"
   },
   {
    "duration": 7,
    "start_time": "2022-08-27T10:09:29.116Z"
   },
   {
    "duration": 6,
    "start_time": "2022-08-27T10:09:29.125Z"
   },
   {
    "duration": 21,
    "start_time": "2022-08-27T10:09:29.133Z"
   },
   {
    "duration": 302,
    "start_time": "2022-08-27T10:09:29.155Z"
   },
   {
    "duration": 204,
    "start_time": "2022-08-27T10:09:29.459Z"
   },
   {
    "duration": 4,
    "start_time": "2022-08-27T10:09:29.664Z"
   },
   {
    "duration": 31,
    "start_time": "2022-08-27T10:09:29.670Z"
   },
   {
    "duration": 1792,
    "start_time": "2022-08-27T10:09:29.704Z"
   },
   {
    "duration": 14157,
    "start_time": "2022-08-27T10:09:31.499Z"
   },
   {
    "duration": 1409,
    "start_time": "2022-08-27T10:09:45.658Z"
   },
   {
    "duration": 123,
    "start_time": "2022-08-27T10:09:47.069Z"
   },
   {
    "duration": 91,
    "start_time": "2022-08-27T10:09:47.194Z"
   },
   {
    "duration": 2,
    "start_time": "2022-08-27T10:17:30.840Z"
   },
   {
    "duration": 8,
    "start_time": "2022-08-27T10:18:10.956Z"
   },
   {
    "duration": 57,
    "start_time": "2022-08-27T12:23:16.346Z"
   },
   {
    "duration": 1778,
    "start_time": "2022-08-27T12:23:25.729Z"
   },
   {
    "duration": 1957,
    "start_time": "2022-08-27T12:23:27.509Z"
   },
   {
    "duration": 43,
    "start_time": "2022-08-27T12:23:29.469Z"
   },
   {
    "duration": 33,
    "start_time": "2022-08-27T12:23:29.515Z"
   },
   {
    "duration": 32,
    "start_time": "2022-08-27T12:23:29.550Z"
   },
   {
    "duration": 23,
    "start_time": "2022-08-27T12:23:29.585Z"
   },
   {
    "duration": 14,
    "start_time": "2022-08-27T12:23:29.610Z"
   },
   {
    "duration": 13,
    "start_time": "2022-08-27T12:23:29.626Z"
   },
   {
    "duration": 21,
    "start_time": "2022-08-27T12:23:29.641Z"
   },
   {
    "duration": 3,
    "start_time": "2022-08-27T12:23:29.666Z"
   },
   {
    "duration": 12,
    "start_time": "2022-08-27T12:23:29.672Z"
   },
   {
    "duration": 8,
    "start_time": "2022-08-27T12:23:29.707Z"
   },
   {
    "duration": 25,
    "start_time": "2022-08-27T12:23:29.717Z"
   },
   {
    "duration": 26,
    "start_time": "2022-08-27T12:23:29.748Z"
   },
   {
    "duration": 35,
    "start_time": "2022-08-27T12:23:29.776Z"
   },
   {
    "duration": 7,
    "start_time": "2022-08-27T12:23:29.813Z"
   },
   {
    "duration": 12,
    "start_time": "2022-08-27T12:23:29.823Z"
   },
   {
    "duration": 11,
    "start_time": "2022-08-27T12:23:29.837Z"
   },
   {
    "duration": 15,
    "start_time": "2022-08-27T12:23:29.850Z"
   },
   {
    "duration": 1017,
    "start_time": "2022-08-27T12:23:29.867Z"
   },
   {
    "duration": 8,
    "start_time": "2022-08-27T12:23:30.887Z"
   },
   {
    "duration": 13,
    "start_time": "2022-08-27T12:23:30.907Z"
   },
   {
    "duration": 20,
    "start_time": "2022-08-27T12:23:30.922Z"
   },
   {
    "duration": 15,
    "start_time": "2022-08-27T12:23:30.944Z"
   },
   {
    "duration": 25,
    "start_time": "2022-08-27T12:23:30.961Z"
   },
   {
    "duration": 27,
    "start_time": "2022-08-27T12:23:30.988Z"
   },
   {
    "duration": 438,
    "start_time": "2022-08-27T12:23:31.018Z"
   },
   {
    "duration": 7,
    "start_time": "2022-08-27T12:23:31.462Z"
   },
   {
    "duration": 13,
    "start_time": "2022-08-27T12:23:31.471Z"
   },
   {
    "duration": 23,
    "start_time": "2022-08-27T12:23:31.485Z"
   },
   {
    "duration": 12,
    "start_time": "2022-08-27T12:23:31.510Z"
   },
   {
    "duration": 11,
    "start_time": "2022-08-27T12:23:31.525Z"
   },
   {
    "duration": 14,
    "start_time": "2022-08-27T12:23:31.538Z"
   },
   {
    "duration": 303,
    "start_time": "2022-08-27T12:23:31.554Z"
   },
   {
    "duration": 208,
    "start_time": "2022-08-27T12:23:31.858Z"
   },
   {
    "duration": 49,
    "start_time": "2022-08-27T12:23:32.068Z"
   },
   {
    "duration": 357,
    "start_time": "2022-08-27T12:23:32.119Z"
   },
   {
    "duration": 222,
    "start_time": "2022-08-27T12:23:32.478Z"
   },
   {
    "duration": 9,
    "start_time": "2022-08-27T12:23:32.702Z"
   },
   {
    "duration": 7,
    "start_time": "2022-08-27T12:23:32.713Z"
   },
   {
    "duration": 12,
    "start_time": "2022-08-27T12:23:32.721Z"
   },
   {
    "duration": 25,
    "start_time": "2022-08-27T12:23:32.735Z"
   },
   {
    "duration": 298,
    "start_time": "2022-08-27T12:23:32.762Z"
   },
   {
    "duration": 218,
    "start_time": "2022-08-27T12:23:33.062Z"
   },
   {
    "duration": 4,
    "start_time": "2022-08-27T12:23:33.282Z"
   },
   {
    "duration": 18,
    "start_time": "2022-08-27T12:23:33.288Z"
   },
   {
    "duration": 2830,
    "start_time": "2022-08-27T12:23:33.308Z"
   },
   {
    "duration": 12811,
    "start_time": "2022-08-27T12:23:36.141Z"
   },
   {
    "duration": 1389,
    "start_time": "2022-08-27T12:23:48.953Z"
   },
   {
    "duration": 68,
    "start_time": "2022-08-27T12:23:50.344Z"
   },
   {
    "duration": 97,
    "start_time": "2022-08-27T12:23:50.414Z"
   },
   {
    "duration": 307,
    "start_time": "2022-08-27T12:23:54.666Z"
   },
   {
    "duration": 274,
    "start_time": "2022-08-27T12:25:03.222Z"
   },
   {
    "duration": 7,
    "start_time": "2022-08-27T12:31:46.025Z"
   },
   {
    "duration": 6,
    "start_time": "2022-08-27T12:32:39.177Z"
   },
   {
    "duration": 7,
    "start_time": "2022-08-27T12:33:08.311Z"
   },
   {
    "duration": 6,
    "start_time": "2022-08-27T12:34:17.133Z"
   },
   {
    "duration": 5,
    "start_time": "2022-08-27T12:34:48.567Z"
   },
   {
    "duration": 6,
    "start_time": "2022-08-27T12:35:21.928Z"
   },
   {
    "duration": 397,
    "start_time": "2022-08-27T12:36:16.588Z"
   },
   {
    "duration": 379,
    "start_time": "2022-08-27T12:36:34.595Z"
   },
   {
    "duration": 368,
    "start_time": "2022-08-27T12:36:46.352Z"
   },
   {
    "duration": 132,
    "start_time": "2022-08-27T12:37:22.242Z"
   },
   {
    "duration": 366,
    "start_time": "2022-08-27T12:38:29.428Z"
   },
   {
    "duration": 4,
    "start_time": "2022-08-27T12:39:24.160Z"
   },
   {
    "duration": 131,
    "start_time": "2022-08-27T12:40:43.307Z"
   },
   {
    "duration": 1300,
    "start_time": "2022-08-27T12:42:37.257Z"
   },
   {
    "duration": 715,
    "start_time": "2022-08-27T12:42:38.559Z"
   },
   {
    "duration": 46,
    "start_time": "2022-08-27T12:42:39.276Z"
   },
   {
    "duration": 22,
    "start_time": "2022-08-27T12:42:39.324Z"
   },
   {
    "duration": 21,
    "start_time": "2022-08-27T12:42:39.348Z"
   },
   {
    "duration": 5,
    "start_time": "2022-08-27T12:42:39.370Z"
   },
   {
    "duration": 6,
    "start_time": "2022-08-27T12:42:39.376Z"
   },
   {
    "duration": 10,
    "start_time": "2022-08-27T12:42:39.405Z"
   },
   {
    "duration": 37,
    "start_time": "2022-08-27T12:42:39.422Z"
   },
   {
    "duration": 4,
    "start_time": "2022-08-27T12:42:39.461Z"
   },
   {
    "duration": 12,
    "start_time": "2022-08-27T12:42:39.467Z"
   },
   {
    "duration": 6,
    "start_time": "2022-08-27T12:42:39.481Z"
   },
   {
    "duration": 18,
    "start_time": "2022-08-27T12:42:39.489Z"
   },
   {
    "duration": 14,
    "start_time": "2022-08-27T12:42:39.508Z"
   },
   {
    "duration": 12,
    "start_time": "2022-08-27T12:42:39.524Z"
   },
   {
    "duration": 7,
    "start_time": "2022-08-27T12:42:39.538Z"
   },
   {
    "duration": 9,
    "start_time": "2022-08-27T12:42:39.546Z"
   },
   {
    "duration": 10,
    "start_time": "2022-08-27T12:42:39.556Z"
   },
   {
    "duration": 55,
    "start_time": "2022-08-27T12:42:39.568Z"
   },
   {
    "duration": 759,
    "start_time": "2022-08-27T12:42:39.625Z"
   },
   {
    "duration": 7,
    "start_time": "2022-08-27T12:42:40.386Z"
   },
   {
    "duration": 24,
    "start_time": "2022-08-27T12:42:40.409Z"
   },
   {
    "duration": 7,
    "start_time": "2022-08-27T12:42:40.435Z"
   },
   {
    "duration": 17,
    "start_time": "2022-08-27T12:42:40.444Z"
   },
   {
    "duration": 7,
    "start_time": "2022-08-27T12:42:40.463Z"
   },
   {
    "duration": 19,
    "start_time": "2022-08-27T12:42:40.472Z"
   },
   {
    "duration": 337,
    "start_time": "2022-08-27T12:42:40.493Z"
   },
   {
    "duration": 6,
    "start_time": "2022-08-27T12:42:40.833Z"
   },
   {
    "duration": 307,
    "start_time": "2022-08-27T12:42:40.841Z"
   },
   {
    "duration": 4,
    "start_time": "2022-08-27T12:42:41.150Z"
   },
   {
    "duration": 7,
    "start_time": "2022-08-27T12:42:41.156Z"
   },
   {
    "duration": 9,
    "start_time": "2022-08-27T12:42:41.164Z"
   },
   {
    "duration": 5,
    "start_time": "2022-08-27T12:42:41.174Z"
   },
   {
    "duration": 1393,
    "start_time": "2022-08-27T12:42:41.180Z"
   },
   {
    "duration": 0,
    "start_time": "2022-08-27T12:42:42.575Z"
   },
   {
    "duration": 0,
    "start_time": "2022-08-27T12:42:42.576Z"
   },
   {
    "duration": 0,
    "start_time": "2022-08-27T12:42:42.577Z"
   },
   {
    "duration": 0,
    "start_time": "2022-08-27T12:42:42.578Z"
   },
   {
    "duration": 0,
    "start_time": "2022-08-27T12:42:42.580Z"
   },
   {
    "duration": 0,
    "start_time": "2022-08-27T12:42:42.581Z"
   },
   {
    "duration": 0,
    "start_time": "2022-08-27T12:42:42.582Z"
   },
   {
    "duration": 0,
    "start_time": "2022-08-27T12:42:42.583Z"
   },
   {
    "duration": 0,
    "start_time": "2022-08-27T12:42:42.584Z"
   },
   {
    "duration": 0,
    "start_time": "2022-08-27T12:42:42.585Z"
   },
   {
    "duration": 0,
    "start_time": "2022-08-27T12:42:42.587Z"
   },
   {
    "duration": 0,
    "start_time": "2022-08-27T12:42:42.588Z"
   },
   {
    "duration": 0,
    "start_time": "2022-08-27T12:42:42.589Z"
   },
   {
    "duration": 0,
    "start_time": "2022-08-27T12:42:42.590Z"
   },
   {
    "duration": 0,
    "start_time": "2022-08-27T12:42:42.591Z"
   },
   {
    "duration": 0,
    "start_time": "2022-08-27T12:42:42.592Z"
   },
   {
    "duration": 417,
    "start_time": "2022-08-27T12:44:02.629Z"
   },
   {
    "duration": 1467,
    "start_time": "2022-08-27T12:44:13.395Z"
   },
   {
    "duration": 683,
    "start_time": "2022-08-27T12:44:14.863Z"
   },
   {
    "duration": 23,
    "start_time": "2022-08-27T12:44:15.548Z"
   },
   {
    "duration": 38,
    "start_time": "2022-08-27T12:44:15.573Z"
   },
   {
    "duration": 32,
    "start_time": "2022-08-27T12:44:15.616Z"
   },
   {
    "duration": 6,
    "start_time": "2022-08-27T12:44:15.651Z"
   },
   {
    "duration": 9,
    "start_time": "2022-08-27T12:44:15.658Z"
   },
   {
    "duration": 10,
    "start_time": "2022-08-27T12:44:15.668Z"
   },
   {
    "duration": 31,
    "start_time": "2022-08-27T12:44:15.680Z"
   },
   {
    "duration": 7,
    "start_time": "2022-08-27T12:44:15.714Z"
   },
   {
    "duration": 13,
    "start_time": "2022-08-27T12:44:15.723Z"
   },
   {
    "duration": 5,
    "start_time": "2022-08-27T12:44:15.738Z"
   },
   {
    "duration": 3,
    "start_time": "2022-08-27T12:44:15.745Z"
   },
   {
    "duration": 11,
    "start_time": "2022-08-27T12:44:15.749Z"
   },
   {
    "duration": 9,
    "start_time": "2022-08-27T12:44:15.761Z"
   },
   {
    "duration": 5,
    "start_time": "2022-08-27T12:44:15.771Z"
   },
   {
    "duration": 35,
    "start_time": "2022-08-27T12:44:15.778Z"
   },
   {
    "duration": 18,
    "start_time": "2022-08-27T12:44:15.814Z"
   },
   {
    "duration": 13,
    "start_time": "2022-08-27T12:44:15.834Z"
   },
   {
    "duration": 832,
    "start_time": "2022-08-27T12:44:15.849Z"
   },
   {
    "duration": 7,
    "start_time": "2022-08-27T12:44:16.683Z"
   },
   {
    "duration": 10,
    "start_time": "2022-08-27T12:44:16.705Z"
   },
   {
    "duration": 18,
    "start_time": "2022-08-27T12:44:16.716Z"
   },
   {
    "duration": 7,
    "start_time": "2022-08-27T12:44:16.736Z"
   },
   {
    "duration": 7,
    "start_time": "2022-08-27T12:44:16.745Z"
   },
   {
    "duration": 9,
    "start_time": "2022-08-27T12:44:16.753Z"
   },
   {
    "duration": 333,
    "start_time": "2022-08-27T12:44:16.764Z"
   },
   {
    "duration": 20,
    "start_time": "2022-08-27T12:44:17.100Z"
   },
   {
    "duration": 307,
    "start_time": "2022-08-27T12:44:17.124Z"
   },
   {
    "duration": 4,
    "start_time": "2022-08-27T12:44:17.433Z"
   },
   {
    "duration": 8,
    "start_time": "2022-08-27T12:44:17.438Z"
   },
   {
    "duration": 13,
    "start_time": "2022-08-27T12:44:17.448Z"
   },
   {
    "duration": 7,
    "start_time": "2022-08-27T12:44:17.463Z"
   },
   {
    "duration": 456,
    "start_time": "2022-08-27T12:44:17.471Z"
   },
   {
    "duration": 1501,
    "start_time": "2022-08-27T12:44:17.928Z"
   },
   {
    "duration": 0,
    "start_time": "2022-08-27T12:44:19.431Z"
   },
   {
    "duration": 0,
    "start_time": "2022-08-27T12:44:19.432Z"
   },
   {
    "duration": 0,
    "start_time": "2022-08-27T12:44:19.434Z"
   },
   {
    "duration": 0,
    "start_time": "2022-08-27T12:44:19.436Z"
   },
   {
    "duration": 0,
    "start_time": "2022-08-27T12:44:19.437Z"
   },
   {
    "duration": 0,
    "start_time": "2022-08-27T12:44:19.438Z"
   },
   {
    "duration": 0,
    "start_time": "2022-08-27T12:44:19.440Z"
   },
   {
    "duration": 0,
    "start_time": "2022-08-27T12:44:19.441Z"
   },
   {
    "duration": 0,
    "start_time": "2022-08-27T12:44:19.443Z"
   },
   {
    "duration": 0,
    "start_time": "2022-08-27T12:44:19.444Z"
   },
   {
    "duration": 0,
    "start_time": "2022-08-27T12:44:19.446Z"
   },
   {
    "duration": 0,
    "start_time": "2022-08-27T12:44:19.447Z"
   },
   {
    "duration": 0,
    "start_time": "2022-08-27T12:44:19.448Z"
   },
   {
    "duration": 0,
    "start_time": "2022-08-27T12:44:19.450Z"
   },
   {
    "duration": 0,
    "start_time": "2022-08-27T12:44:19.451Z"
   },
   {
    "duration": 26,
    "start_time": "2022-08-27T12:45:29.677Z"
   },
   {
    "duration": 335,
    "start_time": "2022-08-27T12:45:58.521Z"
   },
   {
    "duration": 7,
    "start_time": "2022-08-27T12:46:03.007Z"
   },
   {
    "duration": 8,
    "start_time": "2022-08-27T12:46:04.016Z"
   },
   {
    "duration": 7,
    "start_time": "2022-08-27T12:46:04.604Z"
   },
   {
    "duration": 26,
    "start_time": "2022-08-27T12:46:05.168Z"
   },
   {
    "duration": 264,
    "start_time": "2022-08-27T12:46:05.769Z"
   },
   {
    "duration": 251,
    "start_time": "2022-08-27T12:46:06.236Z"
   },
   {
    "duration": 4,
    "start_time": "2022-08-27T12:47:15.493Z"
   },
   {
    "duration": 3,
    "start_time": "2022-08-27T12:47:16.256Z"
   },
   {
    "duration": 9,
    "start_time": "2022-08-27T12:47:17.437Z"
   },
   {
    "duration": 285,
    "start_time": "2022-08-27T12:47:18.624Z"
   },
   {
    "duration": 495,
    "start_time": "2022-08-27T12:47:44.820Z"
   },
   {
    "duration": 146,
    "start_time": "2022-08-27T12:48:36.064Z"
   },
   {
    "duration": 329,
    "start_time": "2022-08-27T12:48:45.685Z"
   },
   {
    "duration": 4,
    "start_time": "2022-08-27T12:49:54.277Z"
   },
   {
    "duration": 10,
    "start_time": "2022-08-27T12:51:48.124Z"
   },
   {
    "duration": 4,
    "start_time": "2022-08-27T12:52:26.027Z"
   },
   {
    "duration": 3,
    "start_time": "2022-08-27T12:52:26.844Z"
   },
   {
    "duration": 12,
    "start_time": "2022-08-27T12:52:27.902Z"
   },
   {
    "duration": 552,
    "start_time": "2022-08-27T12:52:28.978Z"
   },
   {
    "duration": 9,
    "start_time": "2022-08-27T12:52:38.595Z"
   },
   {
    "duration": 8,
    "start_time": "2022-08-27T12:52:55.605Z"
   },
   {
    "duration": 4,
    "start_time": "2022-08-27T12:52:56.211Z"
   },
   {
    "duration": 8,
    "start_time": "2022-08-27T12:52:57.341Z"
   },
   {
    "duration": 240,
    "start_time": "2022-08-27T12:52:58.680Z"
   },
   {
    "duration": 211,
    "start_time": "2022-08-27T12:53:07.019Z"
   },
   {
    "duration": 670,
    "start_time": "2022-08-27T12:53:31.736Z"
   },
   {
    "duration": 14,
    "start_time": "2022-08-27T12:53:32.692Z"
   },
   {
    "duration": 1433,
    "start_time": "2022-08-28T07:52:15.552Z"
   },
   {
    "duration": 2968,
    "start_time": "2022-08-28T07:52:16.986Z"
   },
   {
    "duration": 21,
    "start_time": "2022-08-28T07:52:19.956Z"
   },
   {
    "duration": 18,
    "start_time": "2022-08-28T07:52:19.979Z"
   },
   {
    "duration": 19,
    "start_time": "2022-08-28T07:52:19.999Z"
   },
   {
    "duration": 11,
    "start_time": "2022-08-28T07:52:20.019Z"
   },
   {
    "duration": 13,
    "start_time": "2022-08-28T07:52:20.032Z"
   },
   {
    "duration": 9,
    "start_time": "2022-08-28T07:52:20.046Z"
   },
   {
    "duration": 23,
    "start_time": "2022-08-28T07:52:20.056Z"
   },
   {
    "duration": 2,
    "start_time": "2022-08-28T07:52:20.082Z"
   },
   {
    "duration": 9,
    "start_time": "2022-08-28T07:52:20.086Z"
   },
   {
    "duration": 5,
    "start_time": "2022-08-28T07:52:20.096Z"
   },
   {
    "duration": 8,
    "start_time": "2022-08-28T07:52:20.103Z"
   },
   {
    "duration": 9,
    "start_time": "2022-08-28T07:52:20.113Z"
   },
   {
    "duration": 10,
    "start_time": "2022-08-28T07:52:20.124Z"
   },
   {
    "duration": 5,
    "start_time": "2022-08-28T07:52:20.136Z"
   },
   {
    "duration": 7,
    "start_time": "2022-08-28T07:52:20.142Z"
   },
   {
    "duration": 12,
    "start_time": "2022-08-28T07:52:20.150Z"
   },
   {
    "duration": 9,
    "start_time": "2022-08-28T07:52:20.163Z"
   },
   {
    "duration": 869,
    "start_time": "2022-08-28T07:52:20.173Z"
   },
   {
    "duration": 6,
    "start_time": "2022-08-28T07:52:21.044Z"
   },
   {
    "duration": 12,
    "start_time": "2022-08-28T07:52:21.051Z"
   },
   {
    "duration": 10,
    "start_time": "2022-08-28T07:52:21.064Z"
   },
   {
    "duration": 8,
    "start_time": "2022-08-28T07:52:21.076Z"
   },
   {
    "duration": 25,
    "start_time": "2022-08-28T07:52:21.086Z"
   },
   {
    "duration": 5,
    "start_time": "2022-08-28T07:52:21.113Z"
   },
   {
    "duration": 318,
    "start_time": "2022-08-28T07:52:21.119Z"
   },
   {
    "duration": 5,
    "start_time": "2022-08-28T07:52:21.440Z"
   },
   {
    "duration": 280,
    "start_time": "2022-08-28T07:52:21.447Z"
   },
   {
    "duration": 3,
    "start_time": "2022-08-28T07:52:21.728Z"
   },
   {
    "duration": 16,
    "start_time": "2022-08-28T07:52:21.733Z"
   },
   {
    "duration": 13,
    "start_time": "2022-08-28T07:52:21.750Z"
   },
   {
    "duration": 8,
    "start_time": "2022-08-28T07:52:21.764Z"
   },
   {
    "duration": 405,
    "start_time": "2022-08-28T07:52:21.773Z"
   },
   {
    "duration": 35,
    "start_time": "2022-08-28T07:52:22.180Z"
   },
   {
    "duration": 342,
    "start_time": "2022-08-28T07:52:22.217Z"
   },
   {
    "duration": 7,
    "start_time": "2022-08-28T07:52:22.561Z"
   },
   {
    "duration": 20,
    "start_time": "2022-08-28T07:52:22.570Z"
   },
   {
    "duration": 21,
    "start_time": "2022-08-28T07:52:22.592Z"
   },
   {
    "duration": 33,
    "start_time": "2022-08-28T07:52:22.615Z"
   },
   {
    "duration": 335,
    "start_time": "2022-08-28T07:52:22.650Z"
   },
   {
    "duration": 166,
    "start_time": "2022-08-28T07:52:22.986Z"
   },
   {
    "duration": 3,
    "start_time": "2022-08-28T07:52:23.154Z"
   },
   {
    "duration": 12,
    "start_time": "2022-08-28T07:52:23.159Z"
   },
   {
    "duration": 10,
    "start_time": "2022-08-28T07:52:23.173Z"
   },
   {
    "duration": 457,
    "start_time": "2022-08-28T07:52:23.184Z"
   },
   {
    "duration": 0,
    "start_time": "2022-08-28T07:52:23.643Z"
   },
   {
    "duration": 0,
    "start_time": "2022-08-28T07:52:23.644Z"
   },
   {
    "duration": 0,
    "start_time": "2022-08-28T07:52:23.645Z"
   },
   {
    "duration": 0,
    "start_time": "2022-08-28T07:52:23.646Z"
   },
   {
    "duration": 0,
    "start_time": "2022-08-28T07:52:23.648Z"
   },
   {
    "duration": 0,
    "start_time": "2022-08-28T07:52:23.649Z"
   },
   {
    "duration": 8,
    "start_time": "2022-08-28T07:52:58.362Z"
   },
   {
    "duration": 43,
    "start_time": "2022-08-28T07:54:54.189Z"
   },
   {
    "duration": 197,
    "start_time": "2022-08-28T07:55:14.115Z"
   },
   {
    "duration": 10,
    "start_time": "2022-08-28T07:56:27.572Z"
   },
   {
    "duration": 168,
    "start_time": "2022-08-28T07:56:41.054Z"
   },
   {
    "duration": 228,
    "start_time": "2022-08-28T07:57:02.184Z"
   },
   {
    "duration": 867,
    "start_time": "2022-08-28T07:57:13.944Z"
   },
   {
    "duration": 1008,
    "start_time": "2022-08-28T07:57:45.504Z"
   },
   {
    "duration": 1014,
    "start_time": "2022-08-28T07:58:02.607Z"
   },
   {
    "duration": 1117,
    "start_time": "2022-08-28T07:58:33.911Z"
   },
   {
    "duration": 968,
    "start_time": "2022-08-28T07:59:13.643Z"
   },
   {
    "duration": 1262,
    "start_time": "2022-08-28T08:02:07.159Z"
   },
   {
    "duration": 677,
    "start_time": "2022-08-28T08:02:08.422Z"
   },
   {
    "duration": 35,
    "start_time": "2022-08-28T08:02:09.100Z"
   },
   {
    "duration": 17,
    "start_time": "2022-08-28T08:02:09.137Z"
   },
   {
    "duration": 17,
    "start_time": "2022-08-28T08:02:09.156Z"
   },
   {
    "duration": 10,
    "start_time": "2022-08-28T08:02:09.175Z"
   },
   {
    "duration": 26,
    "start_time": "2022-08-28T08:02:09.187Z"
   },
   {
    "duration": 69,
    "start_time": "2022-08-28T08:02:09.214Z"
   },
   {
    "duration": 22,
    "start_time": "2022-08-28T08:02:09.284Z"
   },
   {
    "duration": 3,
    "start_time": "2022-08-28T08:02:09.307Z"
   },
   {
    "duration": 22,
    "start_time": "2022-08-28T08:02:09.312Z"
   },
   {
    "duration": 5,
    "start_time": "2022-08-28T08:02:09.336Z"
   },
   {
    "duration": 8,
    "start_time": "2022-08-28T08:02:09.343Z"
   },
   {
    "duration": 9,
    "start_time": "2022-08-28T08:02:09.355Z"
   },
   {
    "duration": 9,
    "start_time": "2022-08-28T08:02:09.366Z"
   },
   {
    "duration": 6,
    "start_time": "2022-08-28T08:02:09.377Z"
   },
   {
    "duration": 27,
    "start_time": "2022-08-28T08:02:09.384Z"
   },
   {
    "duration": 8,
    "start_time": "2022-08-28T08:02:09.412Z"
   },
   {
    "duration": 13,
    "start_time": "2022-08-28T08:02:09.422Z"
   },
   {
    "duration": 920,
    "start_time": "2022-08-28T08:02:09.437Z"
   },
   {
    "duration": 6,
    "start_time": "2022-08-28T08:02:10.359Z"
   },
   {
    "duration": 17,
    "start_time": "2022-08-28T08:02:10.367Z"
   },
   {
    "duration": 23,
    "start_time": "2022-08-28T08:02:10.386Z"
   },
   {
    "duration": 25,
    "start_time": "2022-08-28T08:02:10.411Z"
   },
   {
    "duration": 23,
    "start_time": "2022-08-28T08:02:10.438Z"
   },
   {
    "duration": 16,
    "start_time": "2022-08-28T08:02:10.463Z"
   },
   {
    "duration": 294,
    "start_time": "2022-08-28T08:02:10.481Z"
   },
   {
    "duration": 5,
    "start_time": "2022-08-28T08:02:10.777Z"
   },
   {
    "duration": 287,
    "start_time": "2022-08-28T08:02:10.783Z"
   },
   {
    "duration": 4,
    "start_time": "2022-08-28T08:02:11.072Z"
   },
   {
    "duration": 16,
    "start_time": "2022-08-28T08:02:11.077Z"
   },
   {
    "duration": 24,
    "start_time": "2022-08-28T08:02:11.094Z"
   },
   {
    "duration": 15,
    "start_time": "2022-08-28T08:02:11.120Z"
   },
   {
    "duration": 439,
    "start_time": "2022-08-28T08:02:11.137Z"
   },
   {
    "duration": 33,
    "start_time": "2022-08-28T08:02:11.578Z"
   },
   {
    "duration": 341,
    "start_time": "2022-08-28T08:02:11.612Z"
   },
   {
    "duration": 6,
    "start_time": "2022-08-28T08:02:11.954Z"
   },
   {
    "duration": 7,
    "start_time": "2022-08-28T08:02:11.961Z"
   },
   {
    "duration": 6,
    "start_time": "2022-08-28T08:02:11.969Z"
   },
   {
    "duration": 45,
    "start_time": "2022-08-28T08:02:11.976Z"
   },
   {
    "duration": 278,
    "start_time": "2022-08-28T08:02:12.024Z"
   },
   {
    "duration": 8,
    "start_time": "2022-08-28T08:02:12.304Z"
   },
   {
    "duration": 4,
    "start_time": "2022-08-28T08:02:12.314Z"
   },
   {
    "duration": 12,
    "start_time": "2022-08-28T08:02:12.320Z"
   },
   {
    "duration": 4,
    "start_time": "2022-08-28T08:02:12.334Z"
   },
   {
    "duration": 152,
    "start_time": "2022-08-28T08:02:12.340Z"
   },
   {
    "duration": 0,
    "start_time": "2022-08-28T08:02:12.494Z"
   },
   {
    "duration": 0,
    "start_time": "2022-08-28T08:02:12.495Z"
   },
   {
    "duration": 0,
    "start_time": "2022-08-28T08:02:12.496Z"
   },
   {
    "duration": 0,
    "start_time": "2022-08-28T08:02:12.497Z"
   },
   {
    "duration": 0,
    "start_time": "2022-08-28T08:02:12.498Z"
   },
   {
    "duration": 17,
    "start_time": "2022-08-28T08:03:09.410Z"
   },
   {
    "duration": 7,
    "start_time": "2022-08-28T08:03:35.069Z"
   },
   {
    "duration": 11,
    "start_time": "2022-08-28T08:03:35.948Z"
   },
   {
    "duration": 9,
    "start_time": "2022-08-28T08:03:51.504Z"
   },
   {
    "duration": 19,
    "start_time": "2022-08-28T08:04:02.864Z"
   },
   {
    "duration": 16,
    "start_time": "2022-08-28T08:04:12.584Z"
   },
   {
    "duration": 7,
    "start_time": "2022-08-28T08:04:19.187Z"
   },
   {
    "duration": 17,
    "start_time": "2022-08-28T08:04:19.852Z"
   },
   {
    "duration": 12,
    "start_time": "2022-08-28T08:05:29.145Z"
   },
   {
    "duration": 12,
    "start_time": "2022-08-28T08:05:40.808Z"
   },
   {
    "duration": 11,
    "start_time": "2022-08-28T08:05:45.116Z"
   },
   {
    "duration": 10,
    "start_time": "2022-08-28T08:05:45.759Z"
   },
   {
    "duration": 1016,
    "start_time": "2022-08-28T08:05:54.003Z"
   },
   {
    "duration": 84,
    "start_time": "2022-08-28T08:08:01.780Z"
   },
   {
    "duration": 13,
    "start_time": "2022-08-28T08:09:34.246Z"
   },
   {
    "duration": 10,
    "start_time": "2022-08-28T08:09:48.090Z"
   },
   {
    "duration": 7,
    "start_time": "2022-08-28T08:10:10.559Z"
   },
   {
    "duration": 9,
    "start_time": "2022-08-28T08:10:11.336Z"
   },
   {
    "duration": 1252,
    "start_time": "2022-08-28T08:10:23.907Z"
   },
   {
    "duration": 624,
    "start_time": "2022-08-28T08:10:25.161Z"
   },
   {
    "duration": 25,
    "start_time": "2022-08-28T08:10:25.786Z"
   },
   {
    "duration": 17,
    "start_time": "2022-08-28T08:10:25.813Z"
   },
   {
    "duration": 17,
    "start_time": "2022-08-28T08:10:25.832Z"
   },
   {
    "duration": 9,
    "start_time": "2022-08-28T08:10:25.851Z"
   },
   {
    "duration": 10,
    "start_time": "2022-08-28T08:10:25.861Z"
   },
   {
    "duration": 7,
    "start_time": "2022-08-28T08:10:25.872Z"
   },
   {
    "duration": 36,
    "start_time": "2022-08-28T08:10:25.880Z"
   },
   {
    "duration": 4,
    "start_time": "2022-08-28T08:10:25.918Z"
   },
   {
    "duration": 9,
    "start_time": "2022-08-28T08:10:25.923Z"
   },
   {
    "duration": 5,
    "start_time": "2022-08-28T08:10:25.934Z"
   },
   {
    "duration": 3,
    "start_time": "2022-08-28T08:10:25.941Z"
   },
   {
    "duration": 13,
    "start_time": "2022-08-28T08:10:25.946Z"
   },
   {
    "duration": 11,
    "start_time": "2022-08-28T08:10:25.961Z"
   },
   {
    "duration": 5,
    "start_time": "2022-08-28T08:10:25.974Z"
   },
   {
    "duration": 9,
    "start_time": "2022-08-28T08:10:26.010Z"
   },
   {
    "duration": 7,
    "start_time": "2022-08-28T08:10:26.021Z"
   },
   {
    "duration": 8,
    "start_time": "2022-08-28T08:10:26.030Z"
   },
   {
    "duration": 830,
    "start_time": "2022-08-28T08:10:26.039Z"
   },
   {
    "duration": 6,
    "start_time": "2022-08-28T08:10:26.870Z"
   },
   {
    "duration": 11,
    "start_time": "2022-08-28T08:10:26.878Z"
   },
   {
    "duration": 6,
    "start_time": "2022-08-28T08:10:26.890Z"
   },
   {
    "duration": 6,
    "start_time": "2022-08-28T08:10:26.910Z"
   },
   {
    "duration": 5,
    "start_time": "2022-08-28T08:10:26.918Z"
   },
   {
    "duration": 5,
    "start_time": "2022-08-28T08:10:26.925Z"
   },
   {
    "duration": 321,
    "start_time": "2022-08-28T08:10:26.931Z"
   },
   {
    "duration": 6,
    "start_time": "2022-08-28T08:10:27.255Z"
   },
   {
    "duration": 276,
    "start_time": "2022-08-28T08:10:27.262Z"
   },
   {
    "duration": 4,
    "start_time": "2022-08-28T08:10:27.539Z"
   },
   {
    "duration": 5,
    "start_time": "2022-08-28T08:10:27.545Z"
   },
   {
    "duration": 6,
    "start_time": "2022-08-28T08:10:27.551Z"
   },
   {
    "duration": 6,
    "start_time": "2022-08-28T08:10:27.559Z"
   },
   {
    "duration": 401,
    "start_time": "2022-08-28T08:10:27.566Z"
   },
   {
    "duration": 28,
    "start_time": "2022-08-28T08:10:27.968Z"
   },
   {
    "duration": 326,
    "start_time": "2022-08-28T08:10:27.998Z"
   },
   {
    "duration": 6,
    "start_time": "2022-08-28T08:10:28.326Z"
   },
   {
    "duration": 6,
    "start_time": "2022-08-28T08:10:28.333Z"
   },
   {
    "duration": 8,
    "start_time": "2022-08-28T08:10:28.341Z"
   },
   {
    "duration": 18,
    "start_time": "2022-08-28T08:10:28.350Z"
   },
   {
    "duration": 312,
    "start_time": "2022-08-28T08:10:28.369Z"
   },
   {
    "duration": 4,
    "start_time": "2022-08-28T08:10:28.682Z"
   },
   {
    "duration": 8,
    "start_time": "2022-08-28T08:10:28.687Z"
   },
   {
    "duration": 19,
    "start_time": "2022-08-28T08:10:28.697Z"
   },
   {
    "duration": 45,
    "start_time": "2022-08-28T08:10:28.718Z"
   },
   {
    "duration": 0,
    "start_time": "2022-08-28T08:10:28.764Z"
   },
   {
    "duration": 0,
    "start_time": "2022-08-28T08:10:28.766Z"
   },
   {
    "duration": 0,
    "start_time": "2022-08-28T08:10:28.767Z"
   },
   {
    "duration": 0,
    "start_time": "2022-08-28T08:10:28.769Z"
   },
   {
    "duration": 0,
    "start_time": "2022-08-28T08:10:28.770Z"
   },
   {
    "duration": 0,
    "start_time": "2022-08-28T08:10:28.771Z"
   },
   {
    "duration": 0,
    "start_time": "2022-08-28T08:10:28.773Z"
   },
   {
    "duration": 0,
    "start_time": "2022-08-28T08:10:28.774Z"
   },
   {
    "duration": 8,
    "start_time": "2022-08-28T08:10:47.611Z"
   },
   {
    "duration": 1298,
    "start_time": "2022-08-28T08:10:48.224Z"
   },
   {
    "duration": 3,
    "start_time": "2022-08-28T08:10:57.415Z"
   },
   {
    "duration": 132,
    "start_time": "2022-08-28T08:10:57.912Z"
   },
   {
    "duration": 7,
    "start_time": "2022-08-28T08:11:05.921Z"
   },
   {
    "duration": 10,
    "start_time": "2022-08-28T08:11:06.555Z"
   },
   {
    "duration": 1271,
    "start_time": "2022-08-28T08:11:29.705Z"
   },
   {
    "duration": 633,
    "start_time": "2022-08-28T08:11:30.978Z"
   },
   {
    "duration": 21,
    "start_time": "2022-08-28T08:11:31.613Z"
   },
   {
    "duration": 20,
    "start_time": "2022-08-28T08:11:31.635Z"
   },
   {
    "duration": 39,
    "start_time": "2022-08-28T08:11:31.657Z"
   },
   {
    "duration": 9,
    "start_time": "2022-08-28T08:11:31.697Z"
   },
   {
    "duration": 7,
    "start_time": "2022-08-28T08:11:31.707Z"
   },
   {
    "duration": 8,
    "start_time": "2022-08-28T08:11:31.715Z"
   },
   {
    "duration": 18,
    "start_time": "2022-08-28T08:11:31.724Z"
   },
   {
    "duration": 3,
    "start_time": "2022-08-28T08:11:31.744Z"
   },
   {
    "duration": 28,
    "start_time": "2022-08-28T08:11:31.748Z"
   },
   {
    "duration": 11,
    "start_time": "2022-08-28T08:11:31.777Z"
   },
   {
    "duration": 6,
    "start_time": "2022-08-28T08:11:31.789Z"
   },
   {
    "duration": 43,
    "start_time": "2022-08-28T08:11:31.798Z"
   },
   {
    "duration": 69,
    "start_time": "2022-08-28T08:11:31.842Z"
   },
   {
    "duration": 37,
    "start_time": "2022-08-28T08:11:31.913Z"
   },
   {
    "duration": 25,
    "start_time": "2022-08-28T08:11:31.951Z"
   },
   {
    "duration": 12,
    "start_time": "2022-08-28T08:11:31.978Z"
   },
   {
    "duration": 13,
    "start_time": "2022-08-28T08:11:31.991Z"
   },
   {
    "duration": 850,
    "start_time": "2022-08-28T08:11:32.005Z"
   },
   {
    "duration": 6,
    "start_time": "2022-08-28T08:11:32.857Z"
   },
   {
    "duration": 102,
    "start_time": "2022-08-28T08:11:32.865Z"
   },
   {
    "duration": 14,
    "start_time": "2022-08-28T08:11:32.969Z"
   },
   {
    "duration": 9,
    "start_time": "2022-08-28T08:11:32.984Z"
   },
   {
    "duration": 12,
    "start_time": "2022-08-28T08:11:32.994Z"
   },
   {
    "duration": 62,
    "start_time": "2022-08-28T08:11:33.007Z"
   },
   {
    "duration": 306,
    "start_time": "2022-08-28T08:11:33.071Z"
   },
   {
    "duration": 6,
    "start_time": "2022-08-28T08:11:33.379Z"
   },
   {
    "duration": 314,
    "start_time": "2022-08-28T08:11:33.386Z"
   },
   {
    "duration": 10,
    "start_time": "2022-08-28T08:11:33.702Z"
   },
   {
    "duration": 6,
    "start_time": "2022-08-28T08:11:33.714Z"
   },
   {
    "duration": 8,
    "start_time": "2022-08-28T08:11:33.721Z"
   },
   {
    "duration": 8,
    "start_time": "2022-08-28T08:11:33.731Z"
   },
   {
    "duration": 382,
    "start_time": "2022-08-28T08:11:33.741Z"
   },
   {
    "duration": 27,
    "start_time": "2022-08-28T08:11:34.124Z"
   },
   {
    "duration": 316,
    "start_time": "2022-08-28T08:11:34.153Z"
   },
   {
    "duration": 5,
    "start_time": "2022-08-28T08:11:34.471Z"
   },
   {
    "duration": 9,
    "start_time": "2022-08-28T08:11:34.477Z"
   },
   {
    "duration": 5,
    "start_time": "2022-08-28T08:11:34.488Z"
   },
   {
    "duration": 31,
    "start_time": "2022-08-28T08:11:34.494Z"
   },
   {
    "duration": 278,
    "start_time": "2022-08-28T08:11:34.529Z"
   },
   {
    "duration": 4,
    "start_time": "2022-08-28T08:11:34.810Z"
   },
   {
    "duration": 13,
    "start_time": "2022-08-28T08:11:34.815Z"
   },
   {
    "duration": 11,
    "start_time": "2022-08-28T08:11:34.829Z"
   },
   {
    "duration": 8,
    "start_time": "2022-08-28T08:11:34.841Z"
   },
   {
    "duration": 1168,
    "start_time": "2022-08-28T08:11:34.850Z"
   },
   {
    "duration": 96,
    "start_time": "2022-08-28T08:11:36.020Z"
   },
   {
    "duration": 123,
    "start_time": "2022-08-28T08:11:36.118Z"
   },
   {
    "duration": 0,
    "start_time": "2022-08-28T08:11:36.243Z"
   },
   {
    "duration": 0,
    "start_time": "2022-08-28T08:11:36.244Z"
   },
   {
    "duration": 0,
    "start_time": "2022-08-28T08:11:36.245Z"
   },
   {
    "duration": 0,
    "start_time": "2022-08-28T08:11:36.246Z"
   },
   {
    "duration": 8,
    "start_time": "2022-08-28T08:12:05.867Z"
   },
   {
    "duration": 10,
    "start_time": "2022-08-28T08:12:06.611Z"
   },
   {
    "duration": 0,
    "start_time": "2022-08-28T08:13:44.021Z"
   },
   {
    "duration": 47779,
    "start_time": "2022-08-28T08:14:28.847Z"
   },
   {
    "duration": 1171,
    "start_time": "2022-08-28T08:16:53.164Z"
   },
   {
    "duration": 662,
    "start_time": "2022-08-28T08:16:54.336Z"
   },
   {
    "duration": 22,
    "start_time": "2022-08-28T08:16:55.000Z"
   },
   {
    "duration": 16,
    "start_time": "2022-08-28T08:16:55.025Z"
   },
   {
    "duration": 19,
    "start_time": "2022-08-28T08:16:55.042Z"
   },
   {
    "duration": 6,
    "start_time": "2022-08-28T08:16:55.063Z"
   },
   {
    "duration": 4,
    "start_time": "2022-08-28T08:16:55.071Z"
   },
   {
    "duration": 6,
    "start_time": "2022-08-28T08:16:55.077Z"
   },
   {
    "duration": 18,
    "start_time": "2022-08-28T08:16:55.111Z"
   },
   {
    "duration": 2,
    "start_time": "2022-08-28T08:16:55.132Z"
   },
   {
    "duration": 11,
    "start_time": "2022-08-28T08:16:55.135Z"
   },
   {
    "duration": 5,
    "start_time": "2022-08-28T08:16:55.147Z"
   },
   {
    "duration": 5,
    "start_time": "2022-08-28T08:16:55.153Z"
   },
   {
    "duration": 10,
    "start_time": "2022-08-28T08:16:55.160Z"
   },
   {
    "duration": 9,
    "start_time": "2022-08-28T08:16:55.171Z"
   },
   {
    "duration": 30,
    "start_time": "2022-08-28T08:16:55.182Z"
   },
   {
    "duration": 7,
    "start_time": "2022-08-28T08:16:55.214Z"
   },
   {
    "duration": 9,
    "start_time": "2022-08-28T08:16:55.223Z"
   },
   {
    "duration": 10,
    "start_time": "2022-08-28T08:16:55.233Z"
   },
   {
    "duration": 826,
    "start_time": "2022-08-28T08:16:55.244Z"
   },
   {
    "duration": 6,
    "start_time": "2022-08-28T08:16:56.072Z"
   },
   {
    "duration": 11,
    "start_time": "2022-08-28T08:16:56.079Z"
   },
   {
    "duration": 9,
    "start_time": "2022-08-28T08:16:56.092Z"
   },
   {
    "duration": 7,
    "start_time": "2022-08-28T08:16:56.110Z"
   },
   {
    "duration": 7,
    "start_time": "2022-08-28T08:16:56.118Z"
   },
   {
    "duration": 5,
    "start_time": "2022-08-28T08:16:56.126Z"
   },
   {
    "duration": 302,
    "start_time": "2022-08-28T08:16:56.132Z"
   },
   {
    "duration": 5,
    "start_time": "2022-08-28T08:16:56.437Z"
   },
   {
    "duration": 285,
    "start_time": "2022-08-28T08:16:56.443Z"
   },
   {
    "duration": 4,
    "start_time": "2022-08-28T08:16:56.729Z"
   },
   {
    "duration": 11,
    "start_time": "2022-08-28T08:16:56.735Z"
   },
   {
    "duration": 19,
    "start_time": "2022-08-28T08:16:56.748Z"
   },
   {
    "duration": 10,
    "start_time": "2022-08-28T08:16:56.769Z"
   },
   {
    "duration": 391,
    "start_time": "2022-08-28T08:16:56.781Z"
   },
   {
    "duration": 37,
    "start_time": "2022-08-28T08:16:57.174Z"
   },
   {
    "duration": 308,
    "start_time": "2022-08-28T08:16:57.213Z"
   },
   {
    "duration": 4,
    "start_time": "2022-08-28T08:16:57.523Z"
   },
   {
    "duration": 7,
    "start_time": "2022-08-28T08:16:57.528Z"
   },
   {
    "duration": 5,
    "start_time": "2022-08-28T08:16:57.536Z"
   },
   {
    "duration": 19,
    "start_time": "2022-08-28T08:16:57.542Z"
   },
   {
    "duration": 296,
    "start_time": "2022-08-28T08:16:57.563Z"
   },
   {
    "duration": 3,
    "start_time": "2022-08-28T08:16:57.861Z"
   },
   {
    "duration": 6,
    "start_time": "2022-08-28T08:16:57.865Z"
   },
   {
    "duration": 8,
    "start_time": "2022-08-28T08:16:57.873Z"
   },
   {
    "duration": 9,
    "start_time": "2022-08-28T08:16:57.883Z"
   },
   {
    "duration": 921,
    "start_time": "2022-08-28T08:16:57.894Z"
   },
   {
    "duration": 95,
    "start_time": "2022-08-28T08:16:58.816Z"
   },
   {
    "duration": 47942,
    "start_time": "2022-08-28T08:16:58.913Z"
   },
   {
    "duration": 0,
    "start_time": "2022-08-28T08:17:46.857Z"
   },
   {
    "duration": 0,
    "start_time": "2022-08-28T08:17:46.859Z"
   },
   {
    "duration": 0,
    "start_time": "2022-08-28T08:17:46.860Z"
   },
   {
    "duration": 47495,
    "start_time": "2022-08-28T08:19:00.007Z"
   },
   {
    "duration": 1294,
    "start_time": "2022-08-28T08:33:59.709Z"
   },
   {
    "duration": 659,
    "start_time": "2022-08-28T08:34:01.006Z"
   },
   {
    "duration": 21,
    "start_time": "2022-08-28T08:34:01.667Z"
   },
   {
    "duration": 37,
    "start_time": "2022-08-28T08:34:01.690Z"
   },
   {
    "duration": 44,
    "start_time": "2022-08-28T08:34:01.729Z"
   },
   {
    "duration": 35,
    "start_time": "2022-08-28T08:34:01.775Z"
   },
   {
    "duration": 34,
    "start_time": "2022-08-28T08:34:01.811Z"
   },
   {
    "duration": 9,
    "start_time": "2022-08-28T08:34:01.846Z"
   },
   {
    "duration": 27,
    "start_time": "2022-08-28T08:34:01.856Z"
   },
   {
    "duration": 3,
    "start_time": "2022-08-28T08:34:01.885Z"
   },
   {
    "duration": 9,
    "start_time": "2022-08-28T08:34:01.889Z"
   },
   {
    "duration": 8,
    "start_time": "2022-08-28T08:34:01.899Z"
   },
   {
    "duration": 11,
    "start_time": "2022-08-28T08:34:01.908Z"
   },
   {
    "duration": 28,
    "start_time": "2022-08-28T08:34:01.922Z"
   },
   {
    "duration": 16,
    "start_time": "2022-08-28T08:34:01.951Z"
   },
   {
    "duration": 18,
    "start_time": "2022-08-28T08:34:01.968Z"
   },
   {
    "duration": 16,
    "start_time": "2022-08-28T08:34:01.988Z"
   },
   {
    "duration": 13,
    "start_time": "2022-08-28T08:34:02.006Z"
   },
   {
    "duration": 16,
    "start_time": "2022-08-28T08:34:02.021Z"
   },
   {
    "duration": 847,
    "start_time": "2022-08-28T08:34:02.039Z"
   },
   {
    "duration": 6,
    "start_time": "2022-08-28T08:34:02.887Z"
   },
   {
    "duration": 21,
    "start_time": "2022-08-28T08:34:02.895Z"
   },
   {
    "duration": 6,
    "start_time": "2022-08-28T08:34:02.918Z"
   },
   {
    "duration": 16,
    "start_time": "2022-08-28T08:34:02.926Z"
   },
   {
    "duration": 17,
    "start_time": "2022-08-28T08:34:02.944Z"
   },
   {
    "duration": 7,
    "start_time": "2022-08-28T08:34:02.963Z"
   },
   {
    "duration": 305,
    "start_time": "2022-08-28T08:34:02.972Z"
   },
   {
    "duration": 5,
    "start_time": "2022-08-28T08:34:03.280Z"
   },
   {
    "duration": 275,
    "start_time": "2022-08-28T08:34:03.286Z"
   },
   {
    "duration": 5,
    "start_time": "2022-08-28T08:34:03.563Z"
   },
   {
    "duration": 12,
    "start_time": "2022-08-28T08:34:03.570Z"
   },
   {
    "duration": 22,
    "start_time": "2022-08-28T08:34:03.583Z"
   },
   {
    "duration": 28,
    "start_time": "2022-08-28T08:34:03.606Z"
   },
   {
    "duration": 360,
    "start_time": "2022-08-28T08:34:03.635Z"
   },
   {
    "duration": 31,
    "start_time": "2022-08-28T08:34:03.996Z"
   },
   {
    "duration": 311,
    "start_time": "2022-08-28T08:34:04.029Z"
   },
   {
    "duration": 5,
    "start_time": "2022-08-28T08:34:04.342Z"
   },
   {
    "duration": 8,
    "start_time": "2022-08-28T08:34:04.348Z"
   },
   {
    "duration": 7,
    "start_time": "2022-08-28T08:34:04.357Z"
   },
   {
    "duration": 22,
    "start_time": "2022-08-28T08:34:04.366Z"
   },
   {
    "duration": 274,
    "start_time": "2022-08-28T08:34:04.390Z"
   },
   {
    "duration": 3,
    "start_time": "2022-08-28T08:34:04.666Z"
   },
   {
    "duration": 6,
    "start_time": "2022-08-28T08:34:04.670Z"
   },
   {
    "duration": 10,
    "start_time": "2022-08-28T08:34:04.677Z"
   },
   {
    "duration": 26,
    "start_time": "2022-08-28T08:34:04.688Z"
   },
   {
    "duration": 1398,
    "start_time": "2022-08-28T08:34:04.716Z"
   },
   {
    "duration": 98,
    "start_time": "2022-08-28T08:34:06.117Z"
   },
   {
    "duration": 229668,
    "start_time": "2022-08-28T08:34:06.216Z"
   },
   {
    "duration": 890,
    "start_time": "2022-08-28T08:37:55.885Z"
   },
   {
    "duration": 0,
    "start_time": "2022-08-28T08:37:56.777Z"
   },
   {
    "duration": 0,
    "start_time": "2022-08-28T08:37:56.778Z"
   },
   {
    "duration": 20,
    "start_time": "2022-08-28T08:38:38.343Z"
   },
   {
    "duration": 18,
    "start_time": "2022-08-28T08:39:12.379Z"
   },
   {
    "duration": 77,
    "start_time": "2022-08-28T08:39:50.435Z"
   },
   {
    "duration": 11,
    "start_time": "2022-08-28T08:39:52.115Z"
   },
   {
    "duration": 1345,
    "start_time": "2022-08-28T08:41:03.011Z"
   },
   {
    "duration": 630,
    "start_time": "2022-08-28T08:41:04.358Z"
   },
   {
    "duration": 26,
    "start_time": "2022-08-28T08:41:04.989Z"
   },
   {
    "duration": 17,
    "start_time": "2022-08-28T08:41:05.016Z"
   },
   {
    "duration": 19,
    "start_time": "2022-08-28T08:41:05.035Z"
   },
   {
    "duration": 6,
    "start_time": "2022-08-28T08:41:05.055Z"
   },
   {
    "duration": 8,
    "start_time": "2022-08-28T08:41:05.062Z"
   },
   {
    "duration": 13,
    "start_time": "2022-08-28T08:41:05.072Z"
   },
   {
    "duration": 33,
    "start_time": "2022-08-28T08:41:05.086Z"
   },
   {
    "duration": 3,
    "start_time": "2022-08-28T08:41:05.121Z"
   },
   {
    "duration": 8,
    "start_time": "2022-08-28T08:41:05.125Z"
   },
   {
    "duration": 5,
    "start_time": "2022-08-28T08:41:05.135Z"
   },
   {
    "duration": 4,
    "start_time": "2022-08-28T08:41:05.141Z"
   },
   {
    "duration": 10,
    "start_time": "2022-08-28T08:41:05.146Z"
   },
   {
    "duration": 8,
    "start_time": "2022-08-28T08:41:05.157Z"
   },
   {
    "duration": 9,
    "start_time": "2022-08-28T08:41:05.167Z"
   },
   {
    "duration": 7,
    "start_time": "2022-08-28T08:41:05.178Z"
   },
   {
    "duration": 8,
    "start_time": "2022-08-28T08:41:05.211Z"
   },
   {
    "duration": 9,
    "start_time": "2022-08-28T08:41:05.220Z"
   },
   {
    "duration": 837,
    "start_time": "2022-08-28T08:41:05.231Z"
   },
   {
    "duration": 6,
    "start_time": "2022-08-28T08:41:06.069Z"
   },
   {
    "duration": 8,
    "start_time": "2022-08-28T08:41:06.077Z"
   },
   {
    "duration": 8,
    "start_time": "2022-08-28T08:41:06.086Z"
   },
   {
    "duration": 19,
    "start_time": "2022-08-28T08:41:06.096Z"
   },
   {
    "duration": 8,
    "start_time": "2022-08-28T08:41:06.117Z"
   },
   {
    "duration": 19,
    "start_time": "2022-08-28T08:41:06.126Z"
   },
   {
    "duration": 304,
    "start_time": "2022-08-28T08:41:06.147Z"
   },
   {
    "duration": 5,
    "start_time": "2022-08-28T08:41:06.455Z"
   },
   {
    "duration": 292,
    "start_time": "2022-08-28T08:41:06.462Z"
   },
   {
    "duration": 4,
    "start_time": "2022-08-28T08:41:06.756Z"
   },
   {
    "duration": 13,
    "start_time": "2022-08-28T08:41:06.762Z"
   },
   {
    "duration": 6,
    "start_time": "2022-08-28T08:41:06.777Z"
   },
   {
    "duration": 7,
    "start_time": "2022-08-28T08:41:06.784Z"
   },
   {
    "duration": 397,
    "start_time": "2022-08-28T08:41:06.810Z"
   },
   {
    "duration": 29,
    "start_time": "2022-08-28T08:41:07.211Z"
   },
   {
    "duration": 351,
    "start_time": "2022-08-28T08:41:07.242Z"
   },
   {
    "duration": 15,
    "start_time": "2022-08-28T08:41:07.595Z"
   },
   {
    "duration": 6,
    "start_time": "2022-08-28T08:41:07.612Z"
   },
   {
    "duration": 6,
    "start_time": "2022-08-28T08:41:07.620Z"
   },
   {
    "duration": 18,
    "start_time": "2022-08-28T08:41:07.628Z"
   },
   {
    "duration": 305,
    "start_time": "2022-08-28T08:41:07.648Z"
   },
   {
    "duration": 4,
    "start_time": "2022-08-28T08:41:07.955Z"
   },
   {
    "duration": 7,
    "start_time": "2022-08-28T08:41:07.960Z"
   },
   {
    "duration": 10,
    "start_time": "2022-08-28T08:41:07.968Z"
   },
   {
    "duration": 11,
    "start_time": "2022-08-28T08:41:07.979Z"
   },
   {
    "duration": 1120,
    "start_time": "2022-08-28T08:41:07.992Z"
   },
   {
    "duration": 97,
    "start_time": "2022-08-28T08:41:09.114Z"
   },
   {
    "duration": 228700,
    "start_time": "2022-08-28T08:41:09.213Z"
   },
   {
    "duration": 899,
    "start_time": "2022-08-28T08:44:57.914Z"
   },
   {
    "duration": 0,
    "start_time": "2022-08-28T08:44:58.815Z"
   },
   {
    "duration": 0,
    "start_time": "2022-08-28T08:44:58.816Z"
   },
   {
    "duration": 8,
    "start_time": "2022-08-28T08:45:45.693Z"
   },
   {
    "duration": 156,
    "start_time": "2022-08-28T08:47:05.456Z"
   },
   {
    "duration": 1332,
    "start_time": "2022-08-28T08:47:59.238Z"
   },
   {
    "duration": 646,
    "start_time": "2022-08-28T08:48:00.571Z"
   },
   {
    "duration": 21,
    "start_time": "2022-08-28T08:48:01.219Z"
   },
   {
    "duration": 16,
    "start_time": "2022-08-28T08:48:01.242Z"
   },
   {
    "duration": 25,
    "start_time": "2022-08-28T08:48:01.260Z"
   },
   {
    "duration": 8,
    "start_time": "2022-08-28T08:48:01.287Z"
   },
   {
    "duration": 14,
    "start_time": "2022-08-28T08:48:01.297Z"
   },
   {
    "duration": 10,
    "start_time": "2022-08-28T08:48:01.313Z"
   },
   {
    "duration": 35,
    "start_time": "2022-08-28T08:48:01.324Z"
   },
   {
    "duration": 3,
    "start_time": "2022-08-28T08:48:01.361Z"
   },
   {
    "duration": 11,
    "start_time": "2022-08-28T08:48:01.365Z"
   },
   {
    "duration": 6,
    "start_time": "2022-08-28T08:48:01.378Z"
   },
   {
    "duration": 15,
    "start_time": "2022-08-28T08:48:01.386Z"
   },
   {
    "duration": 29,
    "start_time": "2022-08-28T08:48:01.402Z"
   },
   {
    "duration": 14,
    "start_time": "2022-08-28T08:48:01.433Z"
   },
   {
    "duration": 26,
    "start_time": "2022-08-28T08:48:01.449Z"
   },
   {
    "duration": 7,
    "start_time": "2022-08-28T08:48:01.477Z"
   },
   {
    "duration": 21,
    "start_time": "2022-08-28T08:48:01.485Z"
   },
   {
    "duration": 13,
    "start_time": "2022-08-28T08:48:01.507Z"
   },
   {
    "duration": 802,
    "start_time": "2022-08-28T08:48:01.521Z"
   },
   {
    "duration": 6,
    "start_time": "2022-08-28T08:48:02.324Z"
   },
   {
    "duration": 8,
    "start_time": "2022-08-28T08:48:02.331Z"
   },
   {
    "duration": 6,
    "start_time": "2022-08-28T08:48:02.340Z"
   },
   {
    "duration": 7,
    "start_time": "2022-08-28T08:48:02.347Z"
   },
   {
    "duration": 9,
    "start_time": "2022-08-28T08:48:02.355Z"
   },
   {
    "duration": 6,
    "start_time": "2022-08-28T08:48:02.365Z"
   },
   {
    "duration": 365,
    "start_time": "2022-08-28T08:48:02.373Z"
   },
   {
    "duration": 5,
    "start_time": "2022-08-28T08:48:02.742Z"
   },
   {
    "duration": 298,
    "start_time": "2022-08-28T08:48:02.749Z"
   },
   {
    "duration": 4,
    "start_time": "2022-08-28T08:48:03.049Z"
   },
   {
    "duration": 9,
    "start_time": "2022-08-28T08:48:03.054Z"
   },
   {
    "duration": 6,
    "start_time": "2022-08-28T08:48:03.064Z"
   },
   {
    "duration": 5,
    "start_time": "2022-08-28T08:48:03.072Z"
   },
   {
    "duration": 426,
    "start_time": "2022-08-28T08:48:03.078Z"
   },
   {
    "duration": 29,
    "start_time": "2022-08-28T08:48:03.506Z"
   },
   {
    "duration": 319,
    "start_time": "2022-08-28T08:48:03.536Z"
   },
   {
    "duration": 6,
    "start_time": "2022-08-28T08:48:03.856Z"
   },
   {
    "duration": 17,
    "start_time": "2022-08-28T08:48:03.863Z"
   },
   {
    "duration": 5,
    "start_time": "2022-08-28T08:48:03.881Z"
   },
   {
    "duration": 33,
    "start_time": "2022-08-28T08:48:03.888Z"
   },
   {
    "duration": 346,
    "start_time": "2022-08-28T08:48:03.923Z"
   },
   {
    "duration": 3,
    "start_time": "2022-08-28T08:48:04.270Z"
   },
   {
    "duration": 4,
    "start_time": "2022-08-28T08:48:04.275Z"
   },
   {
    "duration": 10,
    "start_time": "2022-08-28T08:48:04.281Z"
   },
   {
    "duration": 19,
    "start_time": "2022-08-28T08:48:04.292Z"
   },
   {
    "duration": 1204,
    "start_time": "2022-08-28T08:48:04.312Z"
   },
   {
    "duration": 91,
    "start_time": "2022-08-28T08:48:05.521Z"
   },
   {
    "duration": 444871,
    "start_time": "2022-08-28T08:48:05.614Z"
   },
   {
    "duration": 3,
    "start_time": "2022-08-28T08:55:30.486Z"
   },
   {
    "duration": 330,
    "start_time": "2022-08-28T08:55:30.490Z"
   },
   {
    "duration": 0,
    "start_time": "2022-08-28T08:55:30.822Z"
   },
   {
    "duration": 25,
    "start_time": "2022-08-28T08:57:55.858Z"
   },
   {
    "duration": 14,
    "start_time": "2022-08-28T08:58:33.236Z"
   },
   {
    "duration": 5,
    "start_time": "2022-08-28T08:58:34.936Z"
   },
   {
    "duration": 17,
    "start_time": "2022-08-28T08:58:37.544Z"
   },
   {
    "duration": 14,
    "start_time": "2022-08-28T08:59:17.472Z"
   },
   {
    "duration": 11,
    "start_time": "2022-08-28T08:59:22.627Z"
   },
   {
    "duration": 9,
    "start_time": "2022-08-28T08:59:30.045Z"
   },
   {
    "duration": 1290,
    "start_time": "2022-08-28T09:00:07.687Z"
   },
   {
    "duration": 652,
    "start_time": "2022-08-28T09:00:08.978Z"
   },
   {
    "duration": 22,
    "start_time": "2022-08-28T09:00:09.632Z"
   },
   {
    "duration": 25,
    "start_time": "2022-08-28T09:00:09.655Z"
   },
   {
    "duration": 34,
    "start_time": "2022-08-28T09:00:09.682Z"
   },
   {
    "duration": 27,
    "start_time": "2022-08-28T09:00:09.718Z"
   },
   {
    "duration": 14,
    "start_time": "2022-08-28T09:00:09.747Z"
   },
   {
    "duration": 28,
    "start_time": "2022-08-28T09:00:09.762Z"
   },
   {
    "duration": 60,
    "start_time": "2022-08-28T09:00:09.792Z"
   },
   {
    "duration": 19,
    "start_time": "2022-08-28T09:00:09.854Z"
   },
   {
    "duration": 31,
    "start_time": "2022-08-28T09:00:09.875Z"
   },
   {
    "duration": 46,
    "start_time": "2022-08-28T09:00:09.908Z"
   },
   {
    "duration": 28,
    "start_time": "2022-08-28T09:00:09.955Z"
   },
   {
    "duration": 36,
    "start_time": "2022-08-28T09:00:09.984Z"
   },
   {
    "duration": 24,
    "start_time": "2022-08-28T09:00:10.022Z"
   },
   {
    "duration": 27,
    "start_time": "2022-08-28T09:00:10.048Z"
   },
   {
    "duration": 25,
    "start_time": "2022-08-28T09:00:10.077Z"
   },
   {
    "duration": 35,
    "start_time": "2022-08-28T09:00:10.103Z"
   },
   {
    "duration": 24,
    "start_time": "2022-08-28T09:00:10.140Z"
   },
   {
    "duration": 830,
    "start_time": "2022-08-28T09:00:10.166Z"
   },
   {
    "duration": 5,
    "start_time": "2022-08-28T09:00:10.998Z"
   },
   {
    "duration": 27,
    "start_time": "2022-08-28T09:00:11.004Z"
   },
   {
    "duration": 15,
    "start_time": "2022-08-28T09:00:11.033Z"
   },
   {
    "duration": 28,
    "start_time": "2022-08-28T09:00:11.049Z"
   },
   {
    "duration": 15,
    "start_time": "2022-08-28T09:00:11.079Z"
   },
   {
    "duration": 31,
    "start_time": "2022-08-28T09:00:11.095Z"
   },
   {
    "duration": 312,
    "start_time": "2022-08-28T09:00:11.127Z"
   },
   {
    "duration": 6,
    "start_time": "2022-08-28T09:00:11.444Z"
   },
   {
    "duration": 289,
    "start_time": "2022-08-28T09:00:11.451Z"
   },
   {
    "duration": 2,
    "start_time": "2022-08-28T09:00:11.742Z"
   },
   {
    "duration": 19,
    "start_time": "2022-08-28T09:00:11.746Z"
   },
   {
    "duration": 38,
    "start_time": "2022-08-28T09:00:11.767Z"
   },
   {
    "duration": 20,
    "start_time": "2022-08-28T09:00:11.806Z"
   },
   {
    "duration": 378,
    "start_time": "2022-08-28T09:00:11.827Z"
   },
   {
    "duration": 28,
    "start_time": "2022-08-28T09:00:12.207Z"
   },
   {
    "duration": 340,
    "start_time": "2022-08-28T09:00:12.237Z"
   },
   {
    "duration": 7,
    "start_time": "2022-08-28T09:00:12.579Z"
   },
   {
    "duration": 30,
    "start_time": "2022-08-28T09:00:12.588Z"
   },
   {
    "duration": 18,
    "start_time": "2022-08-28T09:00:12.620Z"
   },
   {
    "duration": 35,
    "start_time": "2022-08-28T09:00:12.640Z"
   },
   {
    "duration": 295,
    "start_time": "2022-08-28T09:00:12.677Z"
   },
   {
    "duration": 4,
    "start_time": "2022-08-28T09:00:12.973Z"
   },
   {
    "duration": 24,
    "start_time": "2022-08-28T09:00:12.978Z"
   },
   {
    "duration": 18,
    "start_time": "2022-08-28T09:00:13.004Z"
   },
   {
    "duration": 890,
    "start_time": "2022-08-28T09:00:13.024Z"
   },
   {
    "duration": 97,
    "start_time": "2022-08-28T09:00:13.916Z"
   },
   {
    "duration": 440562,
    "start_time": "2022-08-28T09:00:14.015Z"
   },
   {
    "duration": 7,
    "start_time": "2022-08-28T09:07:34.579Z"
   },
   {
    "duration": 3,
    "start_time": "2022-08-28T09:07:34.588Z"
   },
   {
    "duration": 32,
    "start_time": "2022-08-28T09:07:34.592Z"
   },
   {
    "duration": 4,
    "start_time": "2022-08-28T09:07:34.626Z"
   },
   {
    "duration": 262,
    "start_time": "2022-08-28T09:07:34.631Z"
   },
   {
    "duration": 0,
    "start_time": "2022-08-28T09:07:34.895Z"
   },
   {
    "duration": 1299,
    "start_time": "2022-08-28T10:21:50.750Z"
   },
   {
    "duration": 706,
    "start_time": "2022-08-28T10:21:52.051Z"
   },
   {
    "duration": 25,
    "start_time": "2022-08-28T10:21:52.759Z"
   },
   {
    "duration": 26,
    "start_time": "2022-08-28T10:21:52.786Z"
   },
   {
    "duration": 34,
    "start_time": "2022-08-28T10:21:52.813Z"
   },
   {
    "duration": 12,
    "start_time": "2022-08-28T10:21:52.848Z"
   },
   {
    "duration": 9,
    "start_time": "2022-08-28T10:21:52.862Z"
   },
   {
    "duration": 15,
    "start_time": "2022-08-28T10:21:52.873Z"
   },
   {
    "duration": 19,
    "start_time": "2022-08-28T10:21:52.889Z"
   },
   {
    "duration": 2,
    "start_time": "2022-08-28T10:21:52.912Z"
   },
   {
    "duration": 17,
    "start_time": "2022-08-28T10:21:52.915Z"
   },
   {
    "duration": 8,
    "start_time": "2022-08-28T10:21:52.933Z"
   },
   {
    "duration": 124,
    "start_time": "2022-08-28T10:21:52.942Z"
   },
   {
    "duration": 0,
    "start_time": "2022-08-28T10:21:53.068Z"
   },
   {
    "duration": 0,
    "start_time": "2022-08-28T10:21:53.069Z"
   },
   {
    "duration": 0,
    "start_time": "2022-08-28T10:21:53.069Z"
   },
   {
    "duration": 0,
    "start_time": "2022-08-28T10:21:53.070Z"
   },
   {
    "duration": 0,
    "start_time": "2022-08-28T10:21:53.071Z"
   },
   {
    "duration": 0,
    "start_time": "2022-08-28T10:21:53.072Z"
   },
   {
    "duration": 0,
    "start_time": "2022-08-28T10:21:53.073Z"
   },
   {
    "duration": 0,
    "start_time": "2022-08-28T10:21:53.074Z"
   },
   {
    "duration": 0,
    "start_time": "2022-08-28T10:21:53.074Z"
   },
   {
    "duration": 0,
    "start_time": "2022-08-28T10:21:53.075Z"
   },
   {
    "duration": 0,
    "start_time": "2022-08-28T10:21:53.076Z"
   },
   {
    "duration": 0,
    "start_time": "2022-08-28T10:21:53.077Z"
   },
   {
    "duration": 0,
    "start_time": "2022-08-28T10:21:53.077Z"
   },
   {
    "duration": 0,
    "start_time": "2022-08-28T10:21:53.078Z"
   },
   {
    "duration": 0,
    "start_time": "2022-08-28T10:21:53.079Z"
   },
   {
    "duration": 0,
    "start_time": "2022-08-28T10:21:53.080Z"
   },
   {
    "duration": 0,
    "start_time": "2022-08-28T10:21:53.081Z"
   },
   {
    "duration": 0,
    "start_time": "2022-08-28T10:21:53.082Z"
   },
   {
    "duration": 0,
    "start_time": "2022-08-28T10:21:53.083Z"
   },
   {
    "duration": 0,
    "start_time": "2022-08-28T10:21:53.083Z"
   },
   {
    "duration": 0,
    "start_time": "2022-08-28T10:21:53.084Z"
   },
   {
    "duration": 0,
    "start_time": "2022-08-28T10:21:53.085Z"
   },
   {
    "duration": 0,
    "start_time": "2022-08-28T10:21:53.086Z"
   },
   {
    "duration": 0,
    "start_time": "2022-08-28T10:21:53.087Z"
   },
   {
    "duration": 0,
    "start_time": "2022-08-28T10:21:53.087Z"
   },
   {
    "duration": 0,
    "start_time": "2022-08-28T10:21:53.111Z"
   },
   {
    "duration": 0,
    "start_time": "2022-08-28T10:21:53.112Z"
   },
   {
    "duration": 0,
    "start_time": "2022-08-28T10:21:53.112Z"
   },
   {
    "duration": 0,
    "start_time": "2022-08-28T10:21:53.113Z"
   },
   {
    "duration": 0,
    "start_time": "2022-08-28T10:21:53.114Z"
   },
   {
    "duration": 0,
    "start_time": "2022-08-28T10:21:53.115Z"
   },
   {
    "duration": 0,
    "start_time": "2022-08-28T10:21:53.116Z"
   },
   {
    "duration": 0,
    "start_time": "2022-08-28T10:21:53.116Z"
   },
   {
    "duration": 0,
    "start_time": "2022-08-28T10:21:53.117Z"
   },
   {
    "duration": 0,
    "start_time": "2022-08-28T10:21:53.118Z"
   },
   {
    "duration": 0,
    "start_time": "2022-08-28T10:21:53.119Z"
   },
   {
    "duration": 0,
    "start_time": "2022-08-28T10:21:53.119Z"
   },
   {
    "duration": 0,
    "start_time": "2022-08-28T10:21:53.120Z"
   },
   {
    "duration": 0,
    "start_time": "2022-08-28T10:21:53.121Z"
   },
   {
    "duration": 1266,
    "start_time": "2022-08-28T10:23:44.254Z"
   },
   {
    "duration": 652,
    "start_time": "2022-08-28T10:23:45.522Z"
   },
   {
    "duration": 21,
    "start_time": "2022-08-28T10:23:46.175Z"
   },
   {
    "duration": 22,
    "start_time": "2022-08-28T10:23:46.198Z"
   },
   {
    "duration": 18,
    "start_time": "2022-08-28T10:23:46.221Z"
   },
   {
    "duration": 7,
    "start_time": "2022-08-28T10:23:46.240Z"
   },
   {
    "duration": 6,
    "start_time": "2022-08-28T10:23:46.249Z"
   },
   {
    "duration": 7,
    "start_time": "2022-08-28T10:23:46.256Z"
   },
   {
    "duration": 46,
    "start_time": "2022-08-28T10:23:46.265Z"
   },
   {
    "duration": 3,
    "start_time": "2022-08-28T10:23:46.314Z"
   },
   {
    "duration": 9,
    "start_time": "2022-08-28T10:23:46.318Z"
   },
   {
    "duration": 5,
    "start_time": "2022-08-28T10:23:46.328Z"
   },
   {
    "duration": 123,
    "start_time": "2022-08-28T10:23:46.335Z"
   },
   {
    "duration": 0,
    "start_time": "2022-08-28T10:23:46.460Z"
   },
   {
    "duration": 0,
    "start_time": "2022-08-28T10:23:46.462Z"
   },
   {
    "duration": 0,
    "start_time": "2022-08-28T10:23:46.463Z"
   },
   {
    "duration": 0,
    "start_time": "2022-08-28T10:23:46.465Z"
   },
   {
    "duration": 0,
    "start_time": "2022-08-28T10:23:46.466Z"
   },
   {
    "duration": 0,
    "start_time": "2022-08-28T10:23:46.467Z"
   },
   {
    "duration": 0,
    "start_time": "2022-08-28T10:23:46.468Z"
   },
   {
    "duration": 0,
    "start_time": "2022-08-28T10:23:46.470Z"
   },
   {
    "duration": 0,
    "start_time": "2022-08-28T10:23:46.472Z"
   },
   {
    "duration": 0,
    "start_time": "2022-08-28T10:23:46.473Z"
   },
   {
    "duration": 0,
    "start_time": "2022-08-28T10:23:46.474Z"
   },
   {
    "duration": 0,
    "start_time": "2022-08-28T10:23:46.475Z"
   },
   {
    "duration": 0,
    "start_time": "2022-08-28T10:23:46.477Z"
   },
   {
    "duration": 0,
    "start_time": "2022-08-28T10:23:46.478Z"
   },
   {
    "duration": 0,
    "start_time": "2022-08-28T10:23:46.479Z"
   },
   {
    "duration": 0,
    "start_time": "2022-08-28T10:23:46.480Z"
   },
   {
    "duration": 0,
    "start_time": "2022-08-28T10:23:46.480Z"
   },
   {
    "duration": 0,
    "start_time": "2022-08-28T10:23:46.481Z"
   },
   {
    "duration": 0,
    "start_time": "2022-08-28T10:23:46.511Z"
   },
   {
    "duration": 0,
    "start_time": "2022-08-28T10:23:46.513Z"
   },
   {
    "duration": 0,
    "start_time": "2022-08-28T10:23:46.515Z"
   },
   {
    "duration": 0,
    "start_time": "2022-08-28T10:23:46.516Z"
   },
   {
    "duration": 0,
    "start_time": "2022-08-28T10:23:46.517Z"
   },
   {
    "duration": 1,
    "start_time": "2022-08-28T10:23:46.518Z"
   },
   {
    "duration": 0,
    "start_time": "2022-08-28T10:23:46.520Z"
   },
   {
    "duration": 0,
    "start_time": "2022-08-28T10:23:46.521Z"
   },
   {
    "duration": 0,
    "start_time": "2022-08-28T10:23:46.522Z"
   },
   {
    "duration": 0,
    "start_time": "2022-08-28T10:23:46.523Z"
   },
   {
    "duration": 0,
    "start_time": "2022-08-28T10:23:46.524Z"
   },
   {
    "duration": 0,
    "start_time": "2022-08-28T10:23:46.526Z"
   },
   {
    "duration": 0,
    "start_time": "2022-08-28T10:23:46.527Z"
   },
   {
    "duration": 0,
    "start_time": "2022-08-28T10:23:46.528Z"
   },
   {
    "duration": 0,
    "start_time": "2022-08-28T10:23:46.530Z"
   },
   {
    "duration": 0,
    "start_time": "2022-08-28T10:23:46.531Z"
   },
   {
    "duration": 0,
    "start_time": "2022-08-28T10:23:46.533Z"
   },
   {
    "duration": 0,
    "start_time": "2022-08-28T10:23:46.534Z"
   },
   {
    "duration": 0,
    "start_time": "2022-08-28T10:23:46.535Z"
   },
   {
    "duration": 0,
    "start_time": "2022-08-28T10:23:46.537Z"
   },
   {
    "duration": 0,
    "start_time": "2022-08-28T10:23:46.538Z"
   },
   {
    "duration": 0,
    "start_time": "2022-08-28T10:23:46.539Z"
   },
   {
    "duration": 9,
    "start_time": "2022-08-28T10:24:19.957Z"
   },
   {
    "duration": 8,
    "start_time": "2022-08-28T10:24:59.704Z"
   },
   {
    "duration": 57,
    "start_time": "2022-08-28T10:25:37.048Z"
   },
   {
    "duration": 9,
    "start_time": "2022-08-28T10:25:59.919Z"
   },
   {
    "duration": 2,
    "start_time": "2022-08-28T10:26:09.220Z"
   },
   {
    "duration": 13,
    "start_time": "2022-08-28T10:26:10.124Z"
   },
   {
    "duration": 1219,
    "start_time": "2022-08-28T10:27:34.554Z"
   },
   {
    "duration": 631,
    "start_time": "2022-08-28T10:27:35.774Z"
   },
   {
    "duration": 22,
    "start_time": "2022-08-28T10:27:36.406Z"
   },
   {
    "duration": 16,
    "start_time": "2022-08-28T10:27:36.430Z"
   },
   {
    "duration": 22,
    "start_time": "2022-08-28T10:27:36.448Z"
   },
   {
    "duration": 4,
    "start_time": "2022-08-28T10:27:36.472Z"
   },
   {
    "duration": 14,
    "start_time": "2022-08-28T10:27:36.477Z"
   },
   {
    "duration": 19,
    "start_time": "2022-08-28T10:27:36.492Z"
   },
   {
    "duration": 21,
    "start_time": "2022-08-28T10:27:36.513Z"
   },
   {
    "duration": 4,
    "start_time": "2022-08-28T10:27:36.537Z"
   },
   {
    "duration": 22,
    "start_time": "2022-08-28T10:27:36.542Z"
   },
   {
    "duration": 13,
    "start_time": "2022-08-28T10:27:36.565Z"
   },
   {
    "duration": 11,
    "start_time": "2022-08-28T10:27:36.580Z"
   },
   {
    "duration": 21,
    "start_time": "2022-08-28T10:27:36.592Z"
   },
   {
    "duration": 12,
    "start_time": "2022-08-28T10:27:36.614Z"
   },
   {
    "duration": 20,
    "start_time": "2022-08-28T10:27:36.628Z"
   },
   {
    "duration": 4,
    "start_time": "2022-08-28T10:27:36.650Z"
   },
   {
    "duration": 14,
    "start_time": "2022-08-28T10:27:36.656Z"
   },
   {
    "duration": 18,
    "start_time": "2022-08-28T10:27:36.672Z"
   },
   {
    "duration": 25,
    "start_time": "2022-08-28T10:27:36.691Z"
   },
   {
    "duration": 809,
    "start_time": "2022-08-28T10:27:36.717Z"
   },
   {
    "duration": 6,
    "start_time": "2022-08-28T10:27:37.527Z"
   },
   {
    "duration": 8,
    "start_time": "2022-08-28T10:27:37.534Z"
   },
   {
    "duration": 22,
    "start_time": "2022-08-28T10:27:37.543Z"
   },
   {
    "duration": 17,
    "start_time": "2022-08-28T10:27:37.566Z"
   },
   {
    "duration": 10,
    "start_time": "2022-08-28T10:27:37.584Z"
   },
   {
    "duration": 20,
    "start_time": "2022-08-28T10:27:37.596Z"
   },
   {
    "duration": 287,
    "start_time": "2022-08-28T10:27:37.619Z"
   },
   {
    "duration": 6,
    "start_time": "2022-08-28T10:27:37.907Z"
   },
   {
    "duration": 285,
    "start_time": "2022-08-28T10:27:37.914Z"
   },
   {
    "duration": 4,
    "start_time": "2022-08-28T10:27:38.200Z"
   },
   {
    "duration": 9,
    "start_time": "2022-08-28T10:27:38.205Z"
   },
   {
    "duration": 8,
    "start_time": "2022-08-28T10:27:38.215Z"
   },
   {
    "duration": 7,
    "start_time": "2022-08-28T10:27:38.225Z"
   },
   {
    "duration": 379,
    "start_time": "2022-08-28T10:27:38.233Z"
   },
   {
    "duration": 27,
    "start_time": "2022-08-28T10:27:38.614Z"
   },
   {
    "duration": 319,
    "start_time": "2022-08-28T10:27:38.643Z"
   },
   {
    "duration": 5,
    "start_time": "2022-08-28T10:27:38.963Z"
   },
   {
    "duration": 10,
    "start_time": "2022-08-28T10:27:38.969Z"
   },
   {
    "duration": 7,
    "start_time": "2022-08-28T10:27:38.980Z"
   },
   {
    "duration": 28,
    "start_time": "2022-08-28T10:27:38.989Z"
   },
   {
    "duration": 269,
    "start_time": "2022-08-28T10:27:39.018Z"
   },
   {
    "duration": 3,
    "start_time": "2022-08-28T10:27:39.288Z"
   },
   {
    "duration": 22,
    "start_time": "2022-08-28T10:27:39.293Z"
   },
   {
    "duration": 13,
    "start_time": "2022-08-28T10:27:39.317Z"
   },
   {
    "duration": 983,
    "start_time": "2022-08-28T10:27:39.331Z"
   },
   {
    "duration": 96,
    "start_time": "2022-08-28T10:27:40.316Z"
   },
   {
    "duration": 1260,
    "start_time": "2022-08-28T10:28:34.696Z"
   },
   {
    "duration": 649,
    "start_time": "2022-08-28T10:28:35.957Z"
   },
   {
    "duration": 22,
    "start_time": "2022-08-28T10:28:36.608Z"
   },
   {
    "duration": 16,
    "start_time": "2022-08-28T10:28:36.632Z"
   },
   {
    "duration": 23,
    "start_time": "2022-08-28T10:28:36.649Z"
   },
   {
    "duration": 4,
    "start_time": "2022-08-28T10:28:36.674Z"
   },
   {
    "duration": 5,
    "start_time": "2022-08-28T10:28:36.680Z"
   },
   {
    "duration": 32,
    "start_time": "2022-08-28T10:28:36.687Z"
   },
   {
    "duration": 19,
    "start_time": "2022-08-28T10:28:36.721Z"
   },
   {
    "duration": 3,
    "start_time": "2022-08-28T10:28:36.743Z"
   },
   {
    "duration": 9,
    "start_time": "2022-08-28T10:28:36.749Z"
   },
   {
    "duration": 5,
    "start_time": "2022-08-28T10:28:36.759Z"
   },
   {
    "duration": 3,
    "start_time": "2022-08-28T10:28:36.765Z"
   },
   {
    "duration": 4,
    "start_time": "2022-08-28T10:28:36.770Z"
   },
   {
    "duration": 9,
    "start_time": "2022-08-28T10:28:36.775Z"
   },
   {
    "duration": 28,
    "start_time": "2022-08-28T10:28:36.786Z"
   },
   {
    "duration": 5,
    "start_time": "2022-08-28T10:28:36.816Z"
   },
   {
    "duration": 7,
    "start_time": "2022-08-28T10:28:36.822Z"
   },
   {
    "duration": 8,
    "start_time": "2022-08-28T10:28:36.830Z"
   },
   {
    "duration": 9,
    "start_time": "2022-08-28T10:28:36.839Z"
   },
   {
    "duration": 808,
    "start_time": "2022-08-28T10:28:36.849Z"
   },
   {
    "duration": 5,
    "start_time": "2022-08-28T10:28:37.659Z"
   },
   {
    "duration": 9,
    "start_time": "2022-08-28T10:28:37.665Z"
   },
   {
    "duration": 6,
    "start_time": "2022-08-28T10:28:37.675Z"
   },
   {
    "duration": 7,
    "start_time": "2022-08-28T10:28:37.682Z"
   },
   {
    "duration": 24,
    "start_time": "2022-08-28T10:28:37.690Z"
   },
   {
    "duration": 6,
    "start_time": "2022-08-28T10:28:37.715Z"
   },
   {
    "duration": 297,
    "start_time": "2022-08-28T10:28:37.725Z"
   },
   {
    "duration": 4,
    "start_time": "2022-08-28T10:28:38.024Z"
   },
   {
    "duration": 264,
    "start_time": "2022-08-28T10:28:38.030Z"
   },
   {
    "duration": 3,
    "start_time": "2022-08-28T10:28:38.296Z"
   },
   {
    "duration": 14,
    "start_time": "2022-08-28T10:28:38.301Z"
   },
   {
    "duration": 7,
    "start_time": "2022-08-28T10:28:38.316Z"
   },
   {
    "duration": 5,
    "start_time": "2022-08-28T10:28:38.324Z"
   },
   {
    "duration": 383,
    "start_time": "2022-08-28T10:28:38.330Z"
   },
   {
    "duration": 27,
    "start_time": "2022-08-28T10:28:38.715Z"
   },
   {
    "duration": 328,
    "start_time": "2022-08-28T10:28:38.744Z"
   },
   {
    "duration": 5,
    "start_time": "2022-08-28T10:28:39.074Z"
   },
   {
    "duration": 9,
    "start_time": "2022-08-28T10:28:39.080Z"
   },
   {
    "duration": 10,
    "start_time": "2022-08-28T10:28:39.091Z"
   },
   {
    "duration": 25,
    "start_time": "2022-08-28T10:28:39.103Z"
   },
   {
    "duration": 270,
    "start_time": "2022-08-28T10:28:39.130Z"
   },
   {
    "duration": 4,
    "start_time": "2022-08-28T10:28:39.402Z"
   },
   {
    "duration": 10,
    "start_time": "2022-08-28T10:28:39.411Z"
   },
   {
    "duration": 11,
    "start_time": "2022-08-28T10:28:39.423Z"
   },
   {
    "duration": 1076,
    "start_time": "2022-08-28T10:28:39.436Z"
   },
   {
    "duration": 3,
    "start_time": "2022-08-28T10:28:40.514Z"
   },
   {
    "duration": 439312,
    "start_time": "2022-08-28T10:28:40.518Z"
   },
   {
    "duration": 8,
    "start_time": "2022-08-28T10:35:59.832Z"
   },
   {
    "duration": 19,
    "start_time": "2022-08-28T10:35:59.842Z"
   },
   {
    "duration": 5,
    "start_time": "2022-08-28T10:35:59.863Z"
   },
   {
    "duration": 256,
    "start_time": "2022-08-28T10:35:59.869Z"
   },
   {
    "duration": 0,
    "start_time": "2022-08-28T10:36:00.127Z"
   },
   {
    "duration": 9,
    "start_time": "2022-08-28T10:39:13.594Z"
   },
   {
    "duration": 76,
    "start_time": "2022-08-28T10:39:15.167Z"
   },
   {
    "duration": 66,
    "start_time": "2022-08-28T10:39:39.676Z"
   },
   {
    "duration": 8,
    "start_time": "2022-08-28T10:41:54.788Z"
   },
   {
    "duration": 205,
    "start_time": "2022-08-28T10:42:27.954Z"
   },
   {
    "duration": 168,
    "start_time": "2022-08-28T10:42:31.579Z"
   },
   {
    "duration": 11,
    "start_time": "2022-08-28T10:42:46.074Z"
   },
   {
    "duration": 74,
    "start_time": "2022-08-28T10:42:46.913Z"
   },
   {
    "duration": 6,
    "start_time": "2022-08-28T10:42:47.678Z"
   },
   {
    "duration": 43,
    "start_time": "2022-08-28T10:43:51.316Z"
   },
   {
    "duration": 8,
    "start_time": "2022-08-28T10:43:57.672Z"
   },
   {
    "duration": 6,
    "start_time": "2022-08-28T10:44:36.632Z"
   },
   {
    "duration": 7,
    "start_time": "2022-08-28T10:45:35.828Z"
   },
   {
    "duration": 66,
    "start_time": "2022-08-28T10:45:36.416Z"
   },
   {
    "duration": 6,
    "start_time": "2022-08-28T10:45:37.116Z"
   },
   {
    "duration": 6,
    "start_time": "2022-08-28T10:46:05.837Z"
   },
   {
    "duration": 9,
    "start_time": "2022-08-28T10:46:10.225Z"
   },
   {
    "duration": 69,
    "start_time": "2022-08-28T10:46:10.859Z"
   },
   {
    "duration": 7,
    "start_time": "2022-08-28T10:46:12.449Z"
   },
   {
    "duration": 56,
    "start_time": "2022-08-28T10:47:20.379Z"
   },
   {
    "duration": 1228,
    "start_time": "2022-08-28T10:47:53.415Z"
   },
   {
    "duration": 656,
    "start_time": "2022-08-28T10:47:54.645Z"
   },
   {
    "duration": 21,
    "start_time": "2022-08-28T10:47:55.303Z"
   },
   {
    "duration": 16,
    "start_time": "2022-08-28T10:47:55.326Z"
   },
   {
    "duration": 27,
    "start_time": "2022-08-28T10:47:55.343Z"
   },
   {
    "duration": 9,
    "start_time": "2022-08-28T10:47:55.372Z"
   },
   {
    "duration": 15,
    "start_time": "2022-08-28T10:47:55.382Z"
   },
   {
    "duration": 14,
    "start_time": "2022-08-28T10:47:55.399Z"
   },
   {
    "duration": 23,
    "start_time": "2022-08-28T10:47:55.415Z"
   },
   {
    "duration": 4,
    "start_time": "2022-08-28T10:47:55.441Z"
   },
   {
    "duration": 22,
    "start_time": "2022-08-28T10:47:55.447Z"
   },
   {
    "duration": 5,
    "start_time": "2022-08-28T10:47:55.470Z"
   },
   {
    "duration": 5,
    "start_time": "2022-08-28T10:47:55.476Z"
   },
   {
    "duration": 6,
    "start_time": "2022-08-28T10:47:55.482Z"
   },
   {
    "duration": 21,
    "start_time": "2022-08-28T10:47:55.490Z"
   },
   {
    "duration": 8,
    "start_time": "2022-08-28T10:47:55.513Z"
   },
   {
    "duration": 5,
    "start_time": "2022-08-28T10:47:55.522Z"
   },
   {
    "duration": 6,
    "start_time": "2022-08-28T10:47:55.528Z"
   },
   {
    "duration": 8,
    "start_time": "2022-08-28T10:47:55.535Z"
   },
   {
    "duration": 9,
    "start_time": "2022-08-28T10:47:55.544Z"
   },
   {
    "duration": 812,
    "start_time": "2022-08-28T10:47:55.555Z"
   },
   {
    "duration": 6,
    "start_time": "2022-08-28T10:47:56.369Z"
   },
   {
    "duration": 8,
    "start_time": "2022-08-28T10:47:56.376Z"
   },
   {
    "duration": 8,
    "start_time": "2022-08-28T10:47:56.385Z"
   },
   {
    "duration": 21,
    "start_time": "2022-08-28T10:47:56.394Z"
   },
   {
    "duration": 5,
    "start_time": "2022-08-28T10:47:56.417Z"
   },
   {
    "duration": 6,
    "start_time": "2022-08-28T10:47:56.423Z"
   },
   {
    "duration": 324,
    "start_time": "2022-08-28T10:47:56.433Z"
   },
   {
    "duration": 5,
    "start_time": "2022-08-28T10:47:56.759Z"
   },
   {
    "duration": 319,
    "start_time": "2022-08-28T10:47:56.766Z"
   },
   {
    "duration": 3,
    "start_time": "2022-08-28T10:47:57.087Z"
   },
   {
    "duration": 22,
    "start_time": "2022-08-28T10:47:57.092Z"
   },
   {
    "duration": 6,
    "start_time": "2022-08-28T10:47:57.115Z"
   },
   {
    "duration": 10,
    "start_time": "2022-08-28T10:47:57.122Z"
   },
   {
    "duration": 403,
    "start_time": "2022-08-28T10:47:57.134Z"
   },
   {
    "duration": 28,
    "start_time": "2022-08-28T10:47:57.539Z"
   },
   {
    "duration": 317,
    "start_time": "2022-08-28T10:47:57.569Z"
   },
   {
    "duration": 5,
    "start_time": "2022-08-28T10:47:57.888Z"
   },
   {
    "duration": 17,
    "start_time": "2022-08-28T10:47:57.895Z"
   },
   {
    "duration": 5,
    "start_time": "2022-08-28T10:47:57.913Z"
   },
   {
    "duration": 20,
    "start_time": "2022-08-28T10:47:57.919Z"
   },
   {
    "duration": 299,
    "start_time": "2022-08-28T10:47:57.940Z"
   },
   {
    "duration": 4,
    "start_time": "2022-08-28T10:47:58.240Z"
   },
   {
    "duration": 32,
    "start_time": "2022-08-28T10:47:58.245Z"
   },
   {
    "duration": 25,
    "start_time": "2022-08-28T10:47:58.278Z"
   },
   {
    "duration": 905,
    "start_time": "2022-08-28T10:47:58.305Z"
   },
   {
    "duration": 2,
    "start_time": "2022-08-28T10:47:59.213Z"
   },
   {
    "duration": 446133,
    "start_time": "2022-08-28T10:47:59.218Z"
   },
   {
    "duration": 8,
    "start_time": "2022-08-28T10:55:25.352Z"
   },
   {
    "duration": 16,
    "start_time": "2022-08-28T10:55:25.362Z"
   },
   {
    "duration": 5,
    "start_time": "2022-08-28T10:55:25.379Z"
   },
   {
    "duration": 126,
    "start_time": "2022-08-28T10:55:25.385Z"
   },
   {
    "duration": 152,
    "start_time": "2022-08-28T10:55:25.513Z"
   },
   {
    "duration": 7,
    "start_time": "2022-08-28T10:55:25.666Z"
   },
   {
    "duration": 63,
    "start_time": "2022-08-28T11:02:19.919Z"
   },
   {
    "duration": 269,
    "start_time": "2022-08-28T11:08:42.079Z"
   },
   {
    "duration": 331,
    "start_time": "2022-08-28T11:09:22.591Z"
   },
   {
    "duration": 343,
    "start_time": "2022-08-28T11:09:56.644Z"
   },
   {
    "duration": 77,
    "start_time": "2022-08-28T11:10:49.636Z"
   },
   {
    "duration": 113,
    "start_time": "2022-08-28T11:14:58.150Z"
   },
   {
    "duration": 12,
    "start_time": "2022-08-28T11:17:16.949Z"
   },
   {
    "duration": 4,
    "start_time": "2022-08-28T11:18:00.921Z"
   },
   {
    "duration": 12,
    "start_time": "2022-08-28T11:18:07.984Z"
   },
   {
    "duration": 16,
    "start_time": "2022-08-28T11:19:03.437Z"
   },
   {
    "duration": 13,
    "start_time": "2022-08-28T11:19:17.677Z"
   },
   {
    "duration": 4,
    "start_time": "2022-08-28T11:21:17.451Z"
   },
   {
    "duration": 13,
    "start_time": "2022-08-28T11:21:26.664Z"
   },
   {
    "duration": 12,
    "start_time": "2022-08-28T11:25:03.926Z"
   },
   {
    "duration": 4,
    "start_time": "2022-08-28T11:25:25.593Z"
   },
   {
    "duration": 4,
    "start_time": "2022-08-28T11:25:49.680Z"
   },
   {
    "duration": 3,
    "start_time": "2022-08-28T11:26:05.888Z"
   },
   {
    "duration": 4,
    "start_time": "2022-08-28T11:26:16.040Z"
   },
   {
    "duration": 4,
    "start_time": "2022-08-28T11:26:27.127Z"
   },
   {
    "duration": 10,
    "start_time": "2022-08-28T11:26:39.901Z"
   },
   {
    "duration": 5,
    "start_time": "2022-08-28T11:27:14.771Z"
   },
   {
    "duration": 8,
    "start_time": "2022-08-28T11:27:26.645Z"
   },
   {
    "duration": 7,
    "start_time": "2022-08-28T11:27:31.376Z"
   },
   {
    "duration": 6,
    "start_time": "2022-08-28T11:27:32.028Z"
   },
   {
    "duration": 6,
    "start_time": "2022-08-28T11:27:37.836Z"
   },
   {
    "duration": 10,
    "start_time": "2022-08-28T11:27:58.568Z"
   },
   {
    "duration": 9,
    "start_time": "2022-08-28T11:28:09.892Z"
   },
   {
    "duration": 9,
    "start_time": "2022-08-28T11:28:32.927Z"
   },
   {
    "duration": 1355,
    "start_time": "2022-08-28T11:28:41.724Z"
   },
   {
    "duration": 660,
    "start_time": "2022-08-28T11:28:43.081Z"
   },
   {
    "duration": 22,
    "start_time": "2022-08-28T11:28:43.743Z"
   },
   {
    "duration": 17,
    "start_time": "2022-08-28T11:28:43.767Z"
   },
   {
    "duration": 47,
    "start_time": "2022-08-28T11:28:43.785Z"
   },
   {
    "duration": 9,
    "start_time": "2022-08-28T11:28:43.834Z"
   },
   {
    "duration": 18,
    "start_time": "2022-08-28T11:28:43.845Z"
   },
   {
    "duration": 12,
    "start_time": "2022-08-28T11:28:43.864Z"
   },
   {
    "duration": 40,
    "start_time": "2022-08-28T11:28:43.878Z"
   },
   {
    "duration": 8,
    "start_time": "2022-08-28T11:28:43.920Z"
   },
   {
    "duration": 13,
    "start_time": "2022-08-28T11:28:43.929Z"
   },
   {
    "duration": 19,
    "start_time": "2022-08-28T11:28:43.943Z"
   },
   {
    "duration": 13,
    "start_time": "2022-08-28T11:28:43.964Z"
   },
   {
    "duration": 10,
    "start_time": "2022-08-28T11:28:43.979Z"
   },
   {
    "duration": 18,
    "start_time": "2022-08-28T11:28:43.990Z"
   },
   {
    "duration": 30,
    "start_time": "2022-08-28T11:28:44.009Z"
   },
   {
    "duration": 20,
    "start_time": "2022-08-28T11:28:44.041Z"
   },
   {
    "duration": 13,
    "start_time": "2022-08-28T11:28:44.063Z"
   },
   {
    "duration": 21,
    "start_time": "2022-08-28T11:28:44.078Z"
   },
   {
    "duration": 22,
    "start_time": "2022-08-28T11:28:44.100Z"
   },
   {
    "duration": 791,
    "start_time": "2022-08-28T11:28:44.123Z"
   },
   {
    "duration": 5,
    "start_time": "2022-08-28T11:28:44.916Z"
   },
   {
    "duration": 28,
    "start_time": "2022-08-28T11:28:44.923Z"
   },
   {
    "duration": 11,
    "start_time": "2022-08-28T11:28:44.952Z"
   },
   {
    "duration": 269,
    "start_time": "2022-08-28T11:28:44.965Z"
   },
   {
    "duration": 7,
    "start_time": "2022-08-28T11:28:45.236Z"
   },
   {
    "duration": 29,
    "start_time": "2022-08-28T11:28:45.244Z"
   },
   {
    "duration": 278,
    "start_time": "2022-08-28T11:28:45.276Z"
   },
   {
    "duration": 6,
    "start_time": "2022-08-28T11:28:45.555Z"
   },
   {
    "duration": 356,
    "start_time": "2022-08-28T11:28:45.562Z"
   },
   {
    "duration": 5,
    "start_time": "2022-08-28T11:28:45.920Z"
   },
   {
    "duration": 270,
    "start_time": "2022-08-28T11:28:45.926Z"
   },
   {
    "duration": 4,
    "start_time": "2022-08-28T11:28:46.198Z"
   },
   {
    "duration": 7,
    "start_time": "2022-08-28T11:28:46.211Z"
   },
   {
    "duration": 10,
    "start_time": "2022-08-28T11:28:46.220Z"
   },
   {
    "duration": 8,
    "start_time": "2022-08-28T11:28:46.231Z"
   },
   {
    "duration": 331,
    "start_time": "2022-08-28T11:28:46.240Z"
   },
   {
    "duration": 38,
    "start_time": "2022-08-28T11:28:46.573Z"
   },
   {
    "duration": 352,
    "start_time": "2022-08-28T11:28:46.613Z"
   },
   {
    "duration": 7,
    "start_time": "2022-08-28T11:28:46.967Z"
   },
   {
    "duration": 11,
    "start_time": "2022-08-28T11:28:46.976Z"
   },
   {
    "duration": 23,
    "start_time": "2022-08-28T11:28:46.988Z"
   },
   {
    "duration": 19,
    "start_time": "2022-08-28T11:28:47.012Z"
   },
   {
    "duration": 314,
    "start_time": "2022-08-28T11:28:47.033Z"
   },
   {
    "duration": 3,
    "start_time": "2022-08-28T11:28:47.349Z"
   },
   {
    "duration": 11,
    "start_time": "2022-08-28T11:28:47.354Z"
   },
   {
    "duration": 9,
    "start_time": "2022-08-28T11:28:47.366Z"
   },
   {
    "duration": 1235,
    "start_time": "2022-08-28T11:28:47.376Z"
   },
   {
    "duration": 3,
    "start_time": "2022-08-28T11:28:48.613Z"
   },
   {
    "duration": 445591,
    "start_time": "2022-08-28T11:28:48.617Z"
   },
   {
    "duration": 9,
    "start_time": "2022-08-28T11:36:14.210Z"
   },
   {
    "duration": 17,
    "start_time": "2022-08-28T11:36:14.221Z"
   },
   {
    "duration": 5,
    "start_time": "2022-08-28T11:36:14.240Z"
   },
   {
    "duration": 74,
    "start_time": "2022-08-28T11:36:14.247Z"
   },
   {
    "duration": 67,
    "start_time": "2022-08-28T11:36:14.412Z"
   },
   {
    "duration": 6,
    "start_time": "2022-08-28T11:36:14.480Z"
   },
   {
    "duration": 48,
    "start_time": "2022-08-28T14:34:25.851Z"
   },
   {
    "duration": 1489,
    "start_time": "2022-08-28T14:34:36.283Z"
   },
   {
    "duration": 2973,
    "start_time": "2022-08-28T14:34:37.774Z"
   },
   {
    "duration": 23,
    "start_time": "2022-08-28T14:34:40.748Z"
   },
   {
    "duration": 18,
    "start_time": "2022-08-28T14:34:40.773Z"
   },
   {
    "duration": 18,
    "start_time": "2022-08-28T14:34:40.792Z"
   },
   {
    "duration": 6,
    "start_time": "2022-08-28T14:34:40.812Z"
   },
   {
    "duration": 5,
    "start_time": "2022-08-28T14:34:40.820Z"
   },
   {
    "duration": 7,
    "start_time": "2022-08-28T14:34:40.826Z"
   },
   {
    "duration": 20,
    "start_time": "2022-08-28T14:34:40.834Z"
   },
   {
    "duration": 3,
    "start_time": "2022-08-28T14:34:40.857Z"
   },
   {
    "duration": 5,
    "start_time": "2022-08-28T14:34:40.862Z"
   },
   {
    "duration": 31,
    "start_time": "2022-08-28T14:34:40.868Z"
   },
   {
    "duration": 6,
    "start_time": "2022-08-28T14:34:40.900Z"
   },
   {
    "duration": 6,
    "start_time": "2022-08-28T14:34:40.908Z"
   },
   {
    "duration": 10,
    "start_time": "2022-08-28T14:34:40.915Z"
   },
   {
    "duration": 14,
    "start_time": "2022-08-28T14:34:40.926Z"
   },
   {
    "duration": 5,
    "start_time": "2022-08-28T14:34:40.941Z"
   },
   {
    "duration": 7,
    "start_time": "2022-08-28T14:34:40.948Z"
   },
   {
    "duration": 8,
    "start_time": "2022-08-28T14:34:40.957Z"
   },
   {
    "duration": 9,
    "start_time": "2022-08-28T14:34:40.998Z"
   },
   {
    "duration": 829,
    "start_time": "2022-08-28T14:34:41.009Z"
   },
   {
    "duration": 6,
    "start_time": "2022-08-28T14:34:41.840Z"
   },
   {
    "duration": 8,
    "start_time": "2022-08-28T14:34:41.848Z"
   },
   {
    "duration": 4,
    "start_time": "2022-08-28T14:34:41.857Z"
   },
   {
    "duration": 298,
    "start_time": "2022-08-28T14:34:41.863Z"
   },
   {
    "duration": 9,
    "start_time": "2022-08-28T14:34:42.163Z"
   },
   {
    "duration": 7,
    "start_time": "2022-08-28T14:34:42.174Z"
   },
   {
    "duration": 283,
    "start_time": "2022-08-28T14:34:42.199Z"
   },
   {
    "duration": 5,
    "start_time": "2022-08-28T14:34:42.483Z"
   },
   {
    "duration": 381,
    "start_time": "2022-08-28T14:34:42.489Z"
   },
   {
    "duration": 5,
    "start_time": "2022-08-28T14:34:42.871Z"
   },
   {
    "duration": 267,
    "start_time": "2022-08-28T14:34:42.877Z"
   },
   {
    "duration": 5,
    "start_time": "2022-08-28T14:34:43.146Z"
   },
   {
    "duration": 7,
    "start_time": "2022-08-28T14:34:43.152Z"
   },
   {
    "duration": 6,
    "start_time": "2022-08-28T14:34:43.161Z"
   },
   {
    "duration": 30,
    "start_time": "2022-08-28T14:34:43.168Z"
   },
   {
    "duration": 316,
    "start_time": "2022-08-28T14:34:43.200Z"
   },
   {
    "duration": 26,
    "start_time": "2022-08-28T14:34:43.517Z"
   },
   {
    "duration": 312,
    "start_time": "2022-08-28T14:34:43.545Z"
   },
   {
    "duration": 5,
    "start_time": "2022-08-28T14:34:43.858Z"
   },
   {
    "duration": 8,
    "start_time": "2022-08-28T14:34:43.864Z"
   },
   {
    "duration": 5,
    "start_time": "2022-08-28T14:34:43.873Z"
   },
   {
    "duration": 34,
    "start_time": "2022-08-28T14:34:43.879Z"
   },
   {
    "duration": 288,
    "start_time": "2022-08-28T14:34:43.915Z"
   },
   {
    "duration": 5,
    "start_time": "2022-08-28T14:34:44.204Z"
   },
   {
    "duration": 13,
    "start_time": "2022-08-28T14:34:44.210Z"
   },
   {
    "duration": 10,
    "start_time": "2022-08-28T14:34:44.224Z"
   },
   {
    "duration": 869,
    "start_time": "2022-08-28T14:34:44.236Z"
   },
   {
    "duration": 4,
    "start_time": "2022-08-28T14:34:45.107Z"
   },
   {
    "duration": 1297,
    "start_time": "2022-08-28T14:37:52.420Z"
   },
   {
    "duration": 636,
    "start_time": "2022-08-28T14:37:53.719Z"
   },
   {
    "duration": 22,
    "start_time": "2022-08-28T14:37:54.357Z"
   },
   {
    "duration": 43,
    "start_time": "2022-08-28T14:37:54.382Z"
   },
   {
    "duration": 42,
    "start_time": "2022-08-28T14:37:54.427Z"
   },
   {
    "duration": 8,
    "start_time": "2022-08-28T14:37:54.471Z"
   },
   {
    "duration": 8,
    "start_time": "2022-08-28T14:37:54.481Z"
   },
   {
    "duration": 37,
    "start_time": "2022-08-28T14:37:54.491Z"
   },
   {
    "duration": 38,
    "start_time": "2022-08-28T14:37:54.530Z"
   },
   {
    "duration": 9,
    "start_time": "2022-08-28T14:37:54.573Z"
   },
   {
    "duration": 49,
    "start_time": "2022-08-28T14:37:54.583Z"
   },
   {
    "duration": 20,
    "start_time": "2022-08-28T14:37:54.633Z"
   },
   {
    "duration": 32,
    "start_time": "2022-08-28T14:37:54.655Z"
   },
   {
    "duration": 7,
    "start_time": "2022-08-28T14:37:54.689Z"
   },
   {
    "duration": 14,
    "start_time": "2022-08-28T14:37:54.698Z"
   },
   {
    "duration": 18,
    "start_time": "2022-08-28T14:37:54.714Z"
   },
   {
    "duration": 6,
    "start_time": "2022-08-28T14:37:54.734Z"
   },
   {
    "duration": 19,
    "start_time": "2022-08-28T14:37:54.741Z"
   },
   {
    "duration": 13,
    "start_time": "2022-08-28T14:37:54.762Z"
   },
   {
    "duration": 40,
    "start_time": "2022-08-28T14:37:54.776Z"
   },
   {
    "duration": 835,
    "start_time": "2022-08-28T14:37:54.817Z"
   },
   {
    "duration": 19,
    "start_time": "2022-08-28T14:37:55.654Z"
   },
   {
    "duration": 22,
    "start_time": "2022-08-28T14:37:55.674Z"
   },
   {
    "duration": 23,
    "start_time": "2022-08-28T14:37:55.698Z"
   },
   {
    "duration": 279,
    "start_time": "2022-08-28T14:37:55.722Z"
   },
   {
    "duration": 7,
    "start_time": "2022-08-28T14:37:56.003Z"
   },
   {
    "duration": 15,
    "start_time": "2022-08-28T14:37:56.012Z"
   },
   {
    "duration": 277,
    "start_time": "2022-08-28T14:37:56.032Z"
   },
   {
    "duration": 6,
    "start_time": "2022-08-28T14:37:56.311Z"
   },
   {
    "duration": 367,
    "start_time": "2022-08-28T14:37:56.319Z"
   },
   {
    "duration": 10,
    "start_time": "2022-08-28T14:37:56.688Z"
   },
   {
    "duration": 290,
    "start_time": "2022-08-28T14:37:56.701Z"
   },
   {
    "duration": 7,
    "start_time": "2022-08-28T14:37:56.993Z"
   },
   {
    "duration": 21,
    "start_time": "2022-08-28T14:37:57.002Z"
   },
   {
    "duration": 8,
    "start_time": "2022-08-28T14:37:57.025Z"
   },
   {
    "duration": 15,
    "start_time": "2022-08-28T14:37:57.034Z"
   },
   {
    "duration": 310,
    "start_time": "2022-08-28T14:37:57.050Z"
   },
   {
    "duration": 27,
    "start_time": "2022-08-28T14:37:57.361Z"
   },
   {
    "duration": 321,
    "start_time": "2022-08-28T14:37:57.390Z"
   },
   {
    "duration": 6,
    "start_time": "2022-08-28T14:37:57.712Z"
   },
   {
    "duration": 9,
    "start_time": "2022-08-28T14:37:57.720Z"
   },
   {
    "duration": 10,
    "start_time": "2022-08-28T14:37:57.731Z"
   },
   {
    "duration": 26,
    "start_time": "2022-08-28T14:37:57.743Z"
   },
   {
    "duration": 290,
    "start_time": "2022-08-28T14:37:57.771Z"
   },
   {
    "duration": 4,
    "start_time": "2022-08-28T14:37:58.062Z"
   },
   {
    "duration": 25,
    "start_time": "2022-08-28T14:37:58.067Z"
   },
   {
    "duration": 13,
    "start_time": "2022-08-28T14:37:58.094Z"
   },
   {
    "duration": 1203,
    "start_time": "2022-08-28T14:37:58.109Z"
   },
   {
    "duration": 449294,
    "start_time": "2022-08-28T14:37:59.313Z"
   },
   {
    "duration": 115,
    "start_time": "2022-08-28T14:45:28.608Z"
   },
   {
    "duration": 0,
    "start_time": "2022-08-28T14:45:28.725Z"
   },
   {
    "duration": 0,
    "start_time": "2022-08-28T14:45:28.726Z"
   },
   {
    "duration": 0,
    "start_time": "2022-08-28T14:45:28.727Z"
   },
   {
    "duration": 0,
    "start_time": "2022-08-28T14:45:28.728Z"
   },
   {
    "duration": 0,
    "start_time": "2022-08-28T14:45:28.728Z"
   },
   {
    "duration": 10,
    "start_time": "2022-08-28T14:46:01.353Z"
   },
   {
    "duration": 10,
    "start_time": "2022-08-28T14:46:30.769Z"
   },
   {
    "duration": 29,
    "start_time": "2022-08-28T14:47:59.366Z"
   },
   {
    "duration": 37,
    "start_time": "2022-08-28T14:48:21.713Z"
   },
   {
    "duration": 17,
    "start_time": "2022-08-28T14:48:28.280Z"
   },
   {
    "duration": 5,
    "start_time": "2022-08-28T14:48:28.840Z"
   },
   {
    "duration": 13,
    "start_time": "2022-08-28T14:48:29.375Z"
   },
   {
    "duration": 73,
    "start_time": "2022-08-28T14:48:29.926Z"
   },
   {
    "duration": 6,
    "start_time": "2022-08-28T14:48:30.513Z"
   }
  ],
  "kernelspec": {
   "display_name": "Python 3 (ipykernel)",
   "language": "python",
   "name": "python3"
  },
  "language_info": {
   "codemirror_mode": {
    "name": "ipython",
    "version": 3
   },
   "file_extension": ".py",
   "mimetype": "text/x-python",
   "name": "python",
   "nbconvert_exporter": "python",
   "pygments_lexer": "ipython3",
   "version": "3.9.12"
  },
  "toc": {
   "base_numbering": 1,
   "nav_menu": {},
   "number_sections": true,
   "sideBar": true,
   "skip_h1_title": true,
   "title_cell": "Содержание",
   "title_sidebar": "Contents",
   "toc_cell": true,
   "toc_position": {
    "height": "calc(100% - 180px)",
    "left": "10px",
    "top": "150px",
    "width": "301px"
   },
   "toc_section_display": true,
   "toc_window_display": true
  }
 },
 "nbformat": 4,
 "nbformat_minor": 2
}
