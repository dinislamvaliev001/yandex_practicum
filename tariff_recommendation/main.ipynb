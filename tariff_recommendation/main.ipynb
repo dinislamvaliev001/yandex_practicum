{
 "cells": [
  {
   "cell_type": "markdown",
   "metadata": {},
   "source": [
    "# Рекомендация тарифов"
   ]
  },
  {
   "cell_type": "markdown",
   "metadata": {},
   "source": [
    "В нашем распоряжении данные о поведении клиентов, которые уже перешли на эти тарифы (из проекта курса «Статистический анализ данных»). Нужно построить модель для задачи классификации, которая выберет подходящий тариф. Предобработка данных не понадобится — вы её уже сделали.\n",
    "\n",
    "Постройте модель с максимально большим значением *accuracy*. Чтобы сдать проект успешно, нужно довести долю правильных ответов по крайней мере до 0.75. Проверьте *accuracy* на тестовой выборке самостоятельно."
   ]
  },
  {
   "cell_type": "markdown",
   "metadata": {},
   "source": [
    "## Откройте и изучите файл"
   ]
  },
  {
   "cell_type": "code",
   "execution_count": 1,
   "metadata": {
    "scrolled": true
   },
   "outputs": [
    {
     "name": "stdout",
     "output_type": "stream",
     "text": [
      "Requirement already satisfied: fast_ml in /opt/conda/lib/python3.9/site-packages (3.68)\r\n"
     ]
    }
   ],
   "source": [
    "import pandas as pd\n",
    "from sklearn.model_selection import train_test_split\n",
    "from sklearn.tree import DecisionTreeClassifier\n",
    "from sklearn.ensemble import RandomForestClassifier\n",
    "from sklearn.metrics import accuracy_score\n",
    "from joblib import dump\n",
    "from sklearn.linear_model import LogisticRegression\n",
    "from sklearn.linear_model import LinearRegression\n",
    "import numpy as np\n",
    "!pip install fast_ml\n",
    "from fast_ml.model_development import train_valid_test_split\n",
    "from sklearn.dummy import DummyClassifier"
   ]
  },
  {
   "cell_type": "code",
   "execution_count": 2,
   "metadata": {},
   "outputs": [
    {
     "data": {
      "text/html": [
       "<div>\n",
       "<style scoped>\n",
       "    .dataframe tbody tr th:only-of-type {\n",
       "        vertical-align: middle;\n",
       "    }\n",
       "\n",
       "    .dataframe tbody tr th {\n",
       "        vertical-align: top;\n",
       "    }\n",
       "\n",
       "    .dataframe thead th {\n",
       "        text-align: right;\n",
       "    }\n",
       "</style>\n",
       "<table border=\"1\" class=\"dataframe\">\n",
       "  <thead>\n",
       "    <tr style=\"text-align: right;\">\n",
       "      <th></th>\n",
       "      <th>calls</th>\n",
       "      <th>minutes</th>\n",
       "      <th>messages</th>\n",
       "      <th>mb_used</th>\n",
       "      <th>is_ultra</th>\n",
       "    </tr>\n",
       "  </thead>\n",
       "  <tbody>\n",
       "    <tr>\n",
       "      <th>0</th>\n",
       "      <td>40.0</td>\n",
       "      <td>311.90</td>\n",
       "      <td>83.0</td>\n",
       "      <td>19915.42</td>\n",
       "      <td>0</td>\n",
       "    </tr>\n",
       "    <tr>\n",
       "      <th>1</th>\n",
       "      <td>85.0</td>\n",
       "      <td>516.75</td>\n",
       "      <td>56.0</td>\n",
       "      <td>22696.96</td>\n",
       "      <td>0</td>\n",
       "    </tr>\n",
       "    <tr>\n",
       "      <th>2</th>\n",
       "      <td>77.0</td>\n",
       "      <td>467.66</td>\n",
       "      <td>86.0</td>\n",
       "      <td>21060.45</td>\n",
       "      <td>0</td>\n",
       "    </tr>\n",
       "    <tr>\n",
       "      <th>3</th>\n",
       "      <td>106.0</td>\n",
       "      <td>745.53</td>\n",
       "      <td>81.0</td>\n",
       "      <td>8437.39</td>\n",
       "      <td>1</td>\n",
       "    </tr>\n",
       "    <tr>\n",
       "      <th>4</th>\n",
       "      <td>66.0</td>\n",
       "      <td>418.74</td>\n",
       "      <td>1.0</td>\n",
       "      <td>14502.75</td>\n",
       "      <td>0</td>\n",
       "    </tr>\n",
       "    <tr>\n",
       "      <th>5</th>\n",
       "      <td>58.0</td>\n",
       "      <td>344.56</td>\n",
       "      <td>21.0</td>\n",
       "      <td>15823.37</td>\n",
       "      <td>0</td>\n",
       "    </tr>\n",
       "    <tr>\n",
       "      <th>6</th>\n",
       "      <td>57.0</td>\n",
       "      <td>431.64</td>\n",
       "      <td>20.0</td>\n",
       "      <td>3738.90</td>\n",
       "      <td>1</td>\n",
       "    </tr>\n",
       "    <tr>\n",
       "      <th>7</th>\n",
       "      <td>15.0</td>\n",
       "      <td>132.40</td>\n",
       "      <td>6.0</td>\n",
       "      <td>21911.60</td>\n",
       "      <td>0</td>\n",
       "    </tr>\n",
       "    <tr>\n",
       "      <th>8</th>\n",
       "      <td>7.0</td>\n",
       "      <td>43.39</td>\n",
       "      <td>3.0</td>\n",
       "      <td>2538.67</td>\n",
       "      <td>1</td>\n",
       "    </tr>\n",
       "    <tr>\n",
       "      <th>9</th>\n",
       "      <td>90.0</td>\n",
       "      <td>665.41</td>\n",
       "      <td>38.0</td>\n",
       "      <td>17358.61</td>\n",
       "      <td>0</td>\n",
       "    </tr>\n",
       "  </tbody>\n",
       "</table>\n",
       "</div>"
      ],
      "text/plain": [
       "   calls  minutes  messages   mb_used  is_ultra\n",
       "0   40.0   311.90      83.0  19915.42         0\n",
       "1   85.0   516.75      56.0  22696.96         0\n",
       "2   77.0   467.66      86.0  21060.45         0\n",
       "3  106.0   745.53      81.0   8437.39         1\n",
       "4   66.0   418.74       1.0  14502.75         0\n",
       "5   58.0   344.56      21.0  15823.37         0\n",
       "6   57.0   431.64      20.0   3738.90         1\n",
       "7   15.0   132.40       6.0  21911.60         0\n",
       "8    7.0    43.39       3.0   2538.67         1\n",
       "9   90.0   665.41      38.0  17358.61         0"
      ]
     },
     "metadata": {},
     "output_type": "display_data"
    }
   ],
   "source": [
    "df = pd.read_csv('/datasets/users_behavior.csv')\n",
    "display(df.head(10))"
   ]
  },
  {
   "cell_type": "markdown",
   "metadata": {},
   "source": [
    "Видим что загрузили данные по старым тарифам и тарифу ультра,Установим целевой признак 'is_ultra' запишем в target. Признаки запишем в features."
   ]
  },
  {
   "cell_type": "markdown",
   "metadata": {},
   "source": [
    "## Разбейте данные на выборки"
   ]
  },
  {
   "cell_type": "code",
   "execution_count": 3,
   "metadata": {},
   "outputs": [
    {
     "data": {
      "text/html": [
       "<div>\n",
       "<style scoped>\n",
       "    .dataframe tbody tr th:only-of-type {\n",
       "        vertical-align: middle;\n",
       "    }\n",
       "\n",
       "    .dataframe tbody tr th {\n",
       "        vertical-align: top;\n",
       "    }\n",
       "\n",
       "    .dataframe thead th {\n",
       "        text-align: right;\n",
       "    }\n",
       "</style>\n",
       "<table border=\"1\" class=\"dataframe\">\n",
       "  <thead>\n",
       "    <tr style=\"text-align: right;\">\n",
       "      <th></th>\n",
       "      <th>calls</th>\n",
       "      <th>minutes</th>\n",
       "      <th>messages</th>\n",
       "      <th>mb_used</th>\n",
       "    </tr>\n",
       "  </thead>\n",
       "  <tbody>\n",
       "    <tr>\n",
       "      <th>0</th>\n",
       "      <td>40.0</td>\n",
       "      <td>311.90</td>\n",
       "      <td>83.0</td>\n",
       "      <td>19915.42</td>\n",
       "    </tr>\n",
       "    <tr>\n",
       "      <th>1</th>\n",
       "      <td>85.0</td>\n",
       "      <td>516.75</td>\n",
       "      <td>56.0</td>\n",
       "      <td>22696.96</td>\n",
       "    </tr>\n",
       "    <tr>\n",
       "      <th>2</th>\n",
       "      <td>77.0</td>\n",
       "      <td>467.66</td>\n",
       "      <td>86.0</td>\n",
       "      <td>21060.45</td>\n",
       "    </tr>\n",
       "    <tr>\n",
       "      <th>3</th>\n",
       "      <td>106.0</td>\n",
       "      <td>745.53</td>\n",
       "      <td>81.0</td>\n",
       "      <td>8437.39</td>\n",
       "    </tr>\n",
       "    <tr>\n",
       "      <th>4</th>\n",
       "      <td>66.0</td>\n",
       "      <td>418.74</td>\n",
       "      <td>1.0</td>\n",
       "      <td>14502.75</td>\n",
       "    </tr>\n",
       "  </tbody>\n",
       "</table>\n",
       "</div>"
      ],
      "text/plain": [
       "   calls  minutes  messages   mb_used\n",
       "0   40.0   311.90      83.0  19915.42\n",
       "1   85.0   516.75      56.0  22696.96\n",
       "2   77.0   467.66      86.0  21060.45\n",
       "3  106.0   745.53      81.0   8437.39\n",
       "4   66.0   418.74       1.0  14502.75"
      ]
     },
     "metadata": {},
     "output_type": "display_data"
    },
    {
     "data": {
      "text/plain": [
       "0    0\n",
       "1    0\n",
       "2    0\n",
       "3    1\n",
       "4    0\n",
       "Name: is_ultra, dtype: int64"
      ]
     },
     "metadata": {},
     "output_type": "display_data"
    }
   ],
   "source": [
    "features = df.drop(['is_ultra'], axis=1)\n",
    "target = df['is_ultra']\n",
    "display(features.head())\n",
    "display(target.head())"
   ]
  },
  {
   "cell_type": "code",
   "execution_count": 4,
   "metadata": {},
   "outputs": [],
   "source": [
    "features_train, target_train, features_valid, target_valid, features_test, target_test = train_valid_test_split(df,\n",
    "                                                        target = 'is_ultra', train_size=0.6, valid_size=0.2, test_size=0.2)"
   ]
  },
  {
   "cell_type": "markdown",
   "metadata": {},
   "source": [
    "## Исследуйте модели"
   ]
  },
  {
   "cell_type": "markdown",
   "metadata": {},
   "source": [
    "# DecisionTreeClassifier"
   ]
  },
  {
   "cell_type": "code",
   "execution_count": 5,
   "metadata": {},
   "outputs": [
    {
     "name": "stdout",
     "output_type": "stream",
     "text": [
      "max_depth = 1 : 0.7465007776049767\n",
      "max_depth = 2 : 0.7713841368584758\n",
      "max_depth = 3 : 0.7791601866251944\n",
      "max_depth = 4 : 0.7853810264385692\n",
      "max_depth = 5 : 0.7713841368584758\n"
     ]
    }
   ],
   "source": [
    "for depth in range(1, 6):\n",
    "        # < создаем модель, указав max_depth=depth >\n",
    "    model = DecisionTreeClassifier(random_state=12345, max_depth=depth)\n",
    "    # < обучите модель >\n",
    "    model.fit(features_train, target_train)\n",
    "    # < найдите предсказания на валидационной выборке >\n",
    "    predictions_valid = model.predict(features_valid)\n",
    "    \n",
    "    print(\"max_depth =\", depth, \": \", end='')\n",
    "    print(accuracy_score(target_valid, predictions_valid))"
   ]
  },
  {
   "cell_type": "markdown",
   "metadata": {},
   "source": [
    "Вывод: лучшая модель на глубине дерева 4. "
   ]
  },
  {
   "cell_type": "code",
   "execution_count": 6,
   "metadata": {},
   "outputs": [
    {
     "name": "stdout",
     "output_type": "stream",
     "text": [
      "criterion =  gini \n",
      "Accuracy лучшей модели: 0.7853810264385692\n",
      "criterion =  entropy \n",
      "Accuracy лучшей модели: 0.7791601866251944\n"
     ]
    }
   ],
   "source": [
    "criterion = ['gini', 'entropy']\n",
    "for i in criterion:\n",
    "    model = DecisionTreeClassifier(random_state=12345, criterion = i,max_depth=4) # обучите модель с заданной глубиной дерева\n",
    "    model.fit(features_train, target_train) # обучаем модель\n",
    "    predictions = model.predict(features_valid) # получаем предсказания модели\n",
    "    accuracy_score(target_valid, predictions) # посчитаем качество модели\n",
    "            \n",
    "    print('criterion = ', i, '\\nAccuracy лучшей модели:', accuracy_score(target_valid, predictions))"
   ]
  },
  {
   "cell_type": "markdown",
   "metadata": {},
   "source": [
    "Вывод: лучшая модель с гиперпараметром gini."
   ]
  },
  {
   "cell_type": "code",
   "execution_count": 7,
   "metadata": {},
   "outputs": [
    {
     "name": "stdout",
     "output_type": "stream",
     "text": [
      "splitter =  best \n",
      "Accuracy лучшей модели: 0.7853810264385692\n",
      "splitter =  random \n",
      "Accuracy лучшей модели: 0.7527216174183515\n"
     ]
    }
   ],
   "source": [
    "splitter = ['best', 'random']\n",
    "for i in splitter:\n",
    "    model = DecisionTreeClassifier(random_state=12345, splitter = i,max_depth=4) # обучите модель с заданной глубиной дерева\n",
    "    model.fit(features_train, target_train) # обучаем модель\n",
    "    predictions = model.predict(features_valid) # получаем предсказания модели\n",
    "    accuracy_score(target_valid, predictions) # посчитаем качество модели\n",
    "            \n",
    "    print('splitter = ', i, '\\nAccuracy лучшей модели:', accuracy_score(target_valid, predictions))"
   ]
  },
  {
   "cell_type": "markdown",
   "metadata": {},
   "source": [
    "Вывод: лучшая модель с гиперпараметром best."
   ]
  },
  {
   "cell_type": "markdown",
   "metadata": {},
   "source": [
    "# RandomForestClassifier"
   ]
  },
  {
   "cell_type": "code",
   "execution_count": 8,
   "metadata": {},
   "outputs": [
    {
     "name": "stdout",
     "output_type": "stream",
     "text": [
      "Accuracy наилучшей модели на валидационной выборке: 0.7465007776049767\n",
      "Accuracy наилучшей модели на валидационной выборке: 0.7713841368584758\n",
      "Accuracy наилучшей модели на валидационной выборке: 0.7713841368584758\n",
      "Accuracy наилучшей модели на валидационной выборке: 0.7838258164852255\n",
      "Accuracy наилучшей модели на валидационной выборке: 0.7838258164852255\n",
      "Accuracy наилучшей модели на валидационной выборке: 0.7947122861586314\n",
      "Accuracy наилучшей модели на валидационной выборке: 0.7947122861586314\n",
      "Accuracy наилучшей модели на валидационной выборке: 0.7947122861586314\n",
      "Accuracy наилучшей модели на валидационной выборке: 0.7947122861586314\n",
      "Accuracy наилучшей модели на валидационной выборке: 0.7947122861586314\n"
     ]
    }
   ],
   "source": [
    "best_model = None\n",
    "best_result = 0\n",
    "for est in range(1, 11):\n",
    "    model = RandomForestClassifier(random_state=12345, n_estimators=est) # обучаем модель с заданным количеством деревьев\n",
    "    model.fit(features_train, target_train) # обучаем модель на тренировочной выборке\n",
    "    result = model.score(features_valid, target_valid) # получаем качество модели на валидационной выборке\n",
    "    if result > best_result:\n",
    "        best_model = model # сохраним наилучшую модель\n",
    "        best_result = result #  сохраним наилучшее значение метрики accuracy на валидационных данных\n",
    "\n",
    "    print(\"Accuracy наилучшей модели на валидационной выборке:\", best_result) "
   ]
  },
  {
   "cell_type": "markdown",
   "metadata": {},
   "source": [
    "# LogisticRegression"
   ]
  },
  {
   "cell_type": "code",
   "execution_count": 9,
   "metadata": {
    "scrolled": true
   },
   "outputs": [
    {
     "name": "stdout",
     "output_type": "stream",
     "text": [
      "solver =  newton-cg \n",
      "Accuracy лучшей модели: 0.7371695178849145\n",
      "solver =  lbfgs \n",
      "Accuracy лучшей модели: 0.7371695178849145\n",
      "solver =  liblinear \n",
      "Accuracy лучшей модели: 0.6936236391912908\n",
      "solver =  sag \n",
      "Accuracy лучшей модели: 0.6858475894245724\n",
      "solver =  saga \n",
      "Accuracy лучшей модели: 0.687402799377916\n"
     ]
    }
   ],
   "source": [
    "solver = ['newton-cg', 'lbfgs', 'liblinear', 'sag', 'saga']\n",
    "for i in solver:\n",
    "    model = LogisticRegression(random_state=12345, solver = i,max_iter = 1000)\n",
    "    model.fit(features_train, target_train) # обучаем модель\n",
    "    predictions = model.predict(features_valid) # получаем предсказания модели\n",
    "    accuracy_score(target_valid, predictions) # посчитаем качество модели\n",
    "            \n",
    "    print('solver = ', i, '\\nAccuracy лучшей модели:', accuracy_score(target_valid, predictions))"
   ]
  },
  {
   "cell_type": "markdown",
   "metadata": {},
   "source": [
    "Вывод: лучшая модель с гиперпараметром newton-cg."
   ]
  },
  {
   "cell_type": "markdown",
   "metadata": {},
   "source": [
    "## Проверьте модель на тестовой выборке"
   ]
  },
  {
   "cell_type": "markdown",
   "metadata": {},
   "source": [
    "RandomForestClassifier лучшие показатели, берем его с глубиной 10 для проверки: "
   ]
  },
  {
   "cell_type": "code",
   "execution_count": 12,
   "metadata": {},
   "outputs": [
    {
     "name": "stdout",
     "output_type": "stream",
     "text": [
      "Accuracy наилучшей модели на валидационной выборке: 0.7884914463452566\n"
     ]
    }
   ],
   "source": [
    "model = RandomForestClassifier(random_state=12345, n_estimators=10) # обучаем модель с заданным количеством деревьев\n",
    "model.fit(features_train, target_train) # обучаем модель на тренировочной выборке\n",
    "result = model.score(features_test, target_test) # получаем качество модели на тестовой выборке\n",
    "\n",
    "print(\"Accuracy наилучшей модели на валидационной выборке:\", result)  "
   ]
  },
  {
   "cell_type": "markdown",
   "metadata": {},
   "source": [
    "## (бонус) Проверьте модели на адекватность"
   ]
  },
  {
   "cell_type": "code",
   "execution_count": 13,
   "metadata": {},
   "outputs": [
    {
     "data": {
      "text/plain": [
       "0.6811819595645412"
      ]
     },
     "execution_count": 13,
     "metadata": {},
     "output_type": "execute_result"
    }
   ],
   "source": [
    "dummy_clf = DummyClassifier(strategy=\"most_frequent\")\n",
    "dummy_clf.fit(features_test, target_test)\n",
    "DummyClassifier(strategy='most_frequent')\n",
    "dummy_clf.predict(features_test)\n",
    "dummy_clf.score(features_test, target_test)"
   ]
  },
  {
   "cell_type": "markdown",
   "metadata": {},
   "source": [
    "#### Вывод: константная модель выдает 68%.Наша модель показывает 78%, значит она адекватна."
   ]
  },
  {
   "cell_type": "markdown",
   "metadata": {},
   "source": [
    "Лучший Accuracy получился в тестовой выборке в RandomForestClassifier при глубине 10.\n",
    "\n",
    "Не все гиперпараметры дают большое значение Accuracy.\n",
    "\n",
    "Итоговый Accuracy получился больше 75%."
   ]
  }
 ],
 "metadata": {
  "ExecuteTimeLog": [
   {
    "duration": 52,
    "start_time": "2022-07-18T17:04:15.131Z"
   },
   {
    "duration": 346,
    "start_time": "2022-07-18T17:04:40.098Z"
   },
   {
    "duration": 62,
    "start_time": "2022-07-18T17:04:40.981Z"
   },
   {
    "duration": 54,
    "start_time": "2022-07-18T17:05:08.851Z"
   },
   {
    "duration": 53,
    "start_time": "2022-07-18T17:05:15.954Z"
   },
   {
    "duration": 45,
    "start_time": "2022-07-18T17:28:44.145Z"
   },
   {
    "duration": 67,
    "start_time": "2022-07-18T17:41:43.924Z"
   },
   {
    "duration": 50,
    "start_time": "2022-07-18T17:41:55.550Z"
   },
   {
    "duration": 41,
    "start_time": "2022-07-18T17:42:11.400Z"
   },
   {
    "duration": 57,
    "start_time": "2022-07-18T17:42:19.644Z"
   },
   {
    "duration": 66,
    "start_time": "2022-07-18T17:42:33.341Z"
   },
   {
    "duration": 64,
    "start_time": "2022-07-18T17:43:24.642Z"
   },
   {
    "duration": 682,
    "start_time": "2022-07-18T17:43:27.834Z"
   },
   {
    "duration": 45,
    "start_time": "2022-07-18T17:43:28.573Z"
   },
   {
    "duration": 44,
    "start_time": "2022-07-18T17:47:12.334Z"
   },
   {
    "duration": 5,
    "start_time": "2022-07-18T17:52:42.691Z"
   },
   {
    "duration": 7,
    "start_time": "2022-07-18T17:53:06.599Z"
   },
   {
    "duration": 42,
    "start_time": "2022-07-18T17:57:44.031Z"
   },
   {
    "duration": 8,
    "start_time": "2022-07-18T17:57:46.170Z"
   },
   {
    "duration": 39,
    "start_time": "2022-07-18T17:58:30.409Z"
   },
   {
    "duration": 11,
    "start_time": "2022-07-18T18:22:52.659Z"
   },
   {
    "duration": 1000,
    "start_time": "2022-07-18T18:23:04.893Z"
   },
   {
    "duration": 47,
    "start_time": "2022-07-18T18:23:05.895Z"
   },
   {
    "duration": 4,
    "start_time": "2022-07-18T18:23:05.943Z"
   },
   {
    "duration": 135,
    "start_time": "2022-07-18T18:23:05.948Z"
   },
   {
    "duration": 0,
    "start_time": "2022-07-18T18:23:06.084Z"
   },
   {
    "duration": 1038,
    "start_time": "2022-07-18T18:23:32.927Z"
   },
   {
    "duration": 48,
    "start_time": "2022-07-18T18:23:33.967Z"
   },
   {
    "duration": 4,
    "start_time": "2022-07-18T18:23:34.018Z"
   },
   {
    "duration": 124,
    "start_time": "2022-07-18T18:23:34.024Z"
   },
   {
    "duration": 0,
    "start_time": "2022-07-18T18:23:34.150Z"
   },
   {
    "duration": 9,
    "start_time": "2022-07-18T18:25:39.182Z"
   },
   {
    "duration": 42,
    "start_time": "2022-07-18T18:28:38.498Z"
   },
   {
    "duration": 1061,
    "start_time": "2022-07-18T18:33:13.423Z"
   },
   {
    "duration": 50,
    "start_time": "2022-07-18T18:33:14.486Z"
   },
   {
    "duration": 5,
    "start_time": "2022-07-18T18:33:14.538Z"
   },
   {
    "duration": 3,
    "start_time": "2022-07-18T18:33:14.545Z"
   },
   {
    "duration": 121,
    "start_time": "2022-07-18T18:33:14.550Z"
   },
   {
    "duration": 0,
    "start_time": "2022-07-18T18:33:14.673Z"
   },
   {
    "duration": 11,
    "start_time": "2022-07-18T18:34:19.780Z"
   },
   {
    "duration": 11,
    "start_time": "2022-07-18T18:34:29.292Z"
   },
   {
    "duration": 4,
    "start_time": "2022-07-18T18:36:07.929Z"
   },
   {
    "duration": 10,
    "start_time": "2022-07-18T18:36:10.213Z"
   },
   {
    "duration": 6,
    "start_time": "2022-07-18T18:36:45.157Z"
   },
   {
    "duration": 13,
    "start_time": "2022-07-18T18:43:54.492Z"
   },
   {
    "duration": 18,
    "start_time": "2022-07-18T18:43:56.209Z"
   },
   {
    "duration": 12,
    "start_time": "2022-07-18T18:44:04.882Z"
   },
   {
    "duration": 9,
    "start_time": "2022-07-18T18:44:15.282Z"
   },
   {
    "duration": 21,
    "start_time": "2022-07-18T18:44:17.977Z"
   },
   {
    "duration": 1138,
    "start_time": "2022-07-18T18:45:01.580Z"
   },
   {
    "duration": 75,
    "start_time": "2022-07-18T18:45:02.720Z"
   },
   {
    "duration": 6,
    "start_time": "2022-07-18T18:45:02.796Z"
   },
   {
    "duration": 13,
    "start_time": "2022-07-18T18:45:02.803Z"
   },
   {
    "duration": 18,
    "start_time": "2022-07-18T18:45:02.817Z"
   },
   {
    "duration": 21,
    "start_time": "2022-07-18T18:45:02.837Z"
   },
   {
    "duration": 80,
    "start_time": "2022-07-18T18:45:02.860Z"
   },
   {
    "duration": 25,
    "start_time": "2022-07-18T18:46:58.010Z"
   },
   {
    "duration": 125,
    "start_time": "2022-07-18T18:48:35.924Z"
   },
   {
    "duration": 30,
    "start_time": "2022-07-18T18:49:26.187Z"
   },
   {
    "duration": 23,
    "start_time": "2022-07-18T18:49:51.398Z"
   },
   {
    "duration": 1129,
    "start_time": "2022-07-18T18:50:00.051Z"
   },
   {
    "duration": 53,
    "start_time": "2022-07-18T18:50:01.181Z"
   },
   {
    "duration": 5,
    "start_time": "2022-07-18T18:50:01.236Z"
   },
   {
    "duration": 37,
    "start_time": "2022-07-18T18:50:01.242Z"
   },
   {
    "duration": 21,
    "start_time": "2022-07-18T18:50:01.280Z"
   },
   {
    "duration": 17,
    "start_time": "2022-07-18T18:50:01.303Z"
   },
   {
    "duration": 41,
    "start_time": "2022-07-18T18:50:01.322Z"
   },
   {
    "duration": 1094,
    "start_time": "2022-07-18T19:00:59.680Z"
   },
   {
    "duration": 51,
    "start_time": "2022-07-18T19:01:00.776Z"
   },
   {
    "duration": 5,
    "start_time": "2022-07-18T19:01:00.828Z"
   },
   {
    "duration": 8,
    "start_time": "2022-07-18T19:01:00.834Z"
   },
   {
    "duration": 23,
    "start_time": "2022-07-18T19:01:00.844Z"
   },
   {
    "duration": 19,
    "start_time": "2022-07-18T19:01:00.875Z"
   },
   {
    "duration": 23,
    "start_time": "2022-07-18T19:01:00.896Z"
   },
   {
    "duration": 979,
    "start_time": "2022-07-18T19:02:03.512Z"
   },
   {
    "duration": 52,
    "start_time": "2022-07-18T19:02:04.492Z"
   },
   {
    "duration": 5,
    "start_time": "2022-07-18T19:02:04.546Z"
   },
   {
    "duration": 21,
    "start_time": "2022-07-18T19:02:04.556Z"
   },
   {
    "duration": 29,
    "start_time": "2022-07-18T19:02:04.578Z"
   },
   {
    "duration": 13,
    "start_time": "2022-07-18T19:02:04.608Z"
   },
   {
    "duration": 43,
    "start_time": "2022-07-18T19:02:04.623Z"
   },
   {
    "duration": 8,
    "start_time": "2022-07-18T19:02:19.047Z"
   },
   {
    "duration": 3,
    "start_time": "2022-07-18T19:02:19.688Z"
   },
   {
    "duration": 6,
    "start_time": "2022-07-18T19:02:20.296Z"
   },
   {
    "duration": 6,
    "start_time": "2022-07-18T19:02:20.886Z"
   },
   {
    "duration": 23,
    "start_time": "2022-07-18T19:02:22.638Z"
   },
   {
    "duration": 10,
    "start_time": "2022-07-18T19:05:58.660Z"
   },
   {
    "duration": 15,
    "start_time": "2022-07-18T19:06:22.066Z"
   },
   {
    "duration": 1340,
    "start_time": "2022-07-18T19:07:27.499Z"
   },
   {
    "duration": 15,
    "start_time": "2022-07-18T19:08:00.245Z"
   },
   {
    "duration": 17,
    "start_time": "2022-07-18T19:08:14.799Z"
   },
   {
    "duration": 1094,
    "start_time": "2022-07-18T19:08:36.514Z"
   },
   {
    "duration": 55,
    "start_time": "2022-07-18T19:08:37.610Z"
   },
   {
    "duration": 13,
    "start_time": "2022-07-18T19:08:37.666Z"
   },
   {
    "duration": 11,
    "start_time": "2022-07-18T19:08:37.680Z"
   },
   {
    "duration": 7,
    "start_time": "2022-07-18T19:08:37.693Z"
   },
   {
    "duration": 6,
    "start_time": "2022-07-18T19:08:37.702Z"
   },
   {
    "duration": 64,
    "start_time": "2022-07-18T19:08:37.710Z"
   },
   {
    "duration": 12,
    "start_time": "2022-07-18T19:09:22.129Z"
   },
   {
    "duration": 11,
    "start_time": "2022-07-18T19:09:22.707Z"
   },
   {
    "duration": 6,
    "start_time": "2022-07-18T19:09:23.286Z"
   },
   {
    "duration": 7,
    "start_time": "2022-07-18T19:09:23.968Z"
   },
   {
    "duration": 25,
    "start_time": "2022-07-18T19:09:27.794Z"
   },
   {
    "duration": 25,
    "start_time": "2022-07-18T19:10:07.994Z"
   },
   {
    "duration": 26,
    "start_time": "2022-07-18T19:10:14.744Z"
   },
   {
    "duration": 146,
    "start_time": "2022-07-18T19:12:36.840Z"
   },
   {
    "duration": 961,
    "start_time": "2022-07-19T15:05:43.326Z"
   },
   {
    "duration": 84,
    "start_time": "2022-07-19T15:05:44.289Z"
   },
   {
    "duration": 11,
    "start_time": "2022-07-19T15:05:44.375Z"
   },
   {
    "duration": 14,
    "start_time": "2022-07-19T15:05:44.387Z"
   },
   {
    "duration": 13,
    "start_time": "2022-07-19T15:05:44.402Z"
   },
   {
    "duration": 7,
    "start_time": "2022-07-19T15:05:44.416Z"
   },
   {
    "duration": 8,
    "start_time": "2022-07-19T15:05:44.425Z"
   },
   {
    "duration": 23,
    "start_time": "2022-07-19T15:05:44.435Z"
   },
   {
    "duration": 136,
    "start_time": "2022-07-19T15:05:44.460Z"
   },
   {
    "duration": 3,
    "start_time": "2022-07-19T15:05:55.937Z"
   },
   {
    "duration": 23,
    "start_time": "2022-07-19T15:05:56.625Z"
   },
   {
    "duration": 7,
    "start_time": "2022-07-19T15:06:55.492Z"
   },
   {
    "duration": 8,
    "start_time": "2022-07-19T15:07:14.457Z"
   },
   {
    "duration": 27,
    "start_time": "2022-07-19T15:09:07.220Z"
   },
   {
    "duration": 29,
    "start_time": "2022-07-19T15:09:45.197Z"
   },
   {
    "duration": 27,
    "start_time": "2022-07-19T15:11:52.223Z"
   },
   {
    "duration": 12,
    "start_time": "2022-07-19T15:13:07.252Z"
   },
   {
    "duration": 989,
    "start_time": "2022-07-19T15:13:18.934Z"
   },
   {
    "duration": 51,
    "start_time": "2022-07-19T15:13:19.925Z"
   },
   {
    "duration": 11,
    "start_time": "2022-07-19T15:13:19.978Z"
   },
   {
    "duration": 10,
    "start_time": "2022-07-19T15:13:19.990Z"
   },
   {
    "duration": 8,
    "start_time": "2022-07-19T15:13:20.001Z"
   },
   {
    "duration": 9,
    "start_time": "2022-07-19T15:13:20.010Z"
   },
   {
    "duration": 6,
    "start_time": "2022-07-19T15:13:20.021Z"
   },
   {
    "duration": 34,
    "start_time": "2022-07-19T15:13:20.028Z"
   },
   {
    "duration": 242,
    "start_time": "2022-07-19T15:13:20.063Z"
   },
   {
    "duration": 1142,
    "start_time": "2022-07-19T15:14:32.699Z"
   },
   {
    "duration": 51,
    "start_time": "2022-07-19T15:14:33.843Z"
   },
   {
    "duration": 13,
    "start_time": "2022-07-19T15:14:33.895Z"
   },
   {
    "duration": 27,
    "start_time": "2022-07-19T15:14:33.910Z"
   },
   {
    "duration": 25,
    "start_time": "2022-07-19T15:14:33.938Z"
   },
   {
    "duration": 26,
    "start_time": "2022-07-19T15:14:33.964Z"
   },
   {
    "duration": 34,
    "start_time": "2022-07-19T15:14:33.991Z"
   },
   {
    "duration": 39,
    "start_time": "2022-07-19T15:14:34.026Z"
   },
   {
    "duration": 290,
    "start_time": "2022-07-19T15:14:34.067Z"
   },
   {
    "duration": 87,
    "start_time": "2022-07-19T15:15:38.604Z"
   },
   {
    "duration": 1021,
    "start_time": "2022-07-19T15:16:12.655Z"
   },
   {
    "duration": 52,
    "start_time": "2022-07-19T15:16:13.678Z"
   },
   {
    "duration": 12,
    "start_time": "2022-07-19T15:16:13.732Z"
   },
   {
    "duration": 19,
    "start_time": "2022-07-19T15:16:13.745Z"
   },
   {
    "duration": 19,
    "start_time": "2022-07-19T15:16:13.766Z"
   },
   {
    "duration": 31,
    "start_time": "2022-07-19T15:16:13.787Z"
   },
   {
    "duration": 11,
    "start_time": "2022-07-19T15:16:13.820Z"
   },
   {
    "duration": 49,
    "start_time": "2022-07-19T15:16:13.832Z"
   },
   {
    "duration": 268,
    "start_time": "2022-07-19T15:16:13.882Z"
   },
   {
    "duration": 275,
    "start_time": "2022-07-19T15:16:14.151Z"
   },
   {
    "duration": 34,
    "start_time": "2022-07-19T15:17:16.365Z"
   },
   {
    "duration": 97,
    "start_time": "2022-07-19T15:23:13.936Z"
   },
   {
    "duration": 93,
    "start_time": "2022-07-19T15:23:23.906Z"
   },
   {
    "duration": 997,
    "start_time": "2022-07-19T15:23:33.095Z"
   },
   {
    "duration": 52,
    "start_time": "2022-07-19T15:23:34.094Z"
   },
   {
    "duration": 14,
    "start_time": "2022-07-19T15:23:34.148Z"
   },
   {
    "duration": 11,
    "start_time": "2022-07-19T15:23:34.164Z"
   },
   {
    "duration": 83,
    "start_time": "2022-07-19T15:23:34.177Z"
   },
   {
    "duration": 0,
    "start_time": "2022-07-19T15:23:34.261Z"
   },
   {
    "duration": 0,
    "start_time": "2022-07-19T15:23:34.263Z"
   },
   {
    "duration": 0,
    "start_time": "2022-07-19T15:23:34.264Z"
   },
   {
    "duration": 0,
    "start_time": "2022-07-19T15:23:34.265Z"
   },
   {
    "duration": 0,
    "start_time": "2022-07-19T15:23:34.266Z"
   },
   {
    "duration": 0,
    "start_time": "2022-07-19T15:23:34.267Z"
   },
   {
    "duration": 0,
    "start_time": "2022-07-19T15:23:34.268Z"
   },
   {
    "duration": 5,
    "start_time": "2022-07-19T15:24:04.080Z"
   },
   {
    "duration": 1017,
    "start_time": "2022-07-19T15:24:55.401Z"
   },
   {
    "duration": 49,
    "start_time": "2022-07-19T15:24:56.421Z"
   },
   {
    "duration": 11,
    "start_time": "2022-07-19T15:24:56.471Z"
   },
   {
    "duration": 11,
    "start_time": "2022-07-19T15:24:56.484Z"
   },
   {
    "duration": 8,
    "start_time": "2022-07-19T15:24:56.496Z"
   },
   {
    "duration": 12,
    "start_time": "2022-07-19T15:24:56.505Z"
   },
   {
    "duration": 105,
    "start_time": "2022-07-19T15:24:56.518Z"
   },
   {
    "duration": 0,
    "start_time": "2022-07-19T15:24:56.624Z"
   },
   {
    "duration": 0,
    "start_time": "2022-07-19T15:24:56.625Z"
   },
   {
    "duration": 0,
    "start_time": "2022-07-19T15:24:56.626Z"
   },
   {
    "duration": 0,
    "start_time": "2022-07-19T15:24:56.627Z"
   },
   {
    "duration": 0,
    "start_time": "2022-07-19T15:24:56.628Z"
   },
   {
    "duration": 1018,
    "start_time": "2022-07-19T15:25:33.399Z"
   },
   {
    "duration": 53,
    "start_time": "2022-07-19T15:25:34.419Z"
   },
   {
    "duration": 14,
    "start_time": "2022-07-19T15:25:34.474Z"
   },
   {
    "duration": 12,
    "start_time": "2022-07-19T15:25:34.491Z"
   },
   {
    "duration": 5,
    "start_time": "2022-07-19T15:25:34.505Z"
   },
   {
    "duration": 6,
    "start_time": "2022-07-19T15:25:34.511Z"
   },
   {
    "duration": 6,
    "start_time": "2022-07-19T15:25:34.519Z"
   },
   {
    "duration": 5,
    "start_time": "2022-07-19T15:25:34.526Z"
   },
   {
    "duration": 36,
    "start_time": "2022-07-19T15:25:34.533Z"
   },
   {
    "duration": 50,
    "start_time": "2022-07-19T15:25:34.571Z"
   },
   {
    "duration": 302,
    "start_time": "2022-07-19T15:25:34.622Z"
   },
   {
    "duration": 305,
    "start_time": "2022-07-19T15:25:34.925Z"
   },
   {
    "duration": 51,
    "start_time": "2022-07-19T17:23:10.059Z"
   },
   {
    "duration": 6,
    "start_time": "2022-07-19T17:23:23.939Z"
   },
   {
    "duration": 1106,
    "start_time": "2022-07-19T17:23:53.929Z"
   },
   {
    "duration": 145,
    "start_time": "2022-07-19T17:23:55.037Z"
   },
   {
    "duration": 15,
    "start_time": "2022-07-19T17:23:55.184Z"
   },
   {
    "duration": 12,
    "start_time": "2022-07-19T17:23:55.202Z"
   },
   {
    "duration": 94,
    "start_time": "2022-07-19T17:23:55.216Z"
   },
   {
    "duration": 0,
    "start_time": "2022-07-19T17:23:55.312Z"
   },
   {
    "duration": 0,
    "start_time": "2022-07-19T17:23:55.313Z"
   },
   {
    "duration": 0,
    "start_time": "2022-07-19T17:23:55.314Z"
   },
   {
    "duration": 0,
    "start_time": "2022-07-19T17:23:55.315Z"
   },
   {
    "duration": 0,
    "start_time": "2022-07-19T17:23:55.316Z"
   },
   {
    "duration": 0,
    "start_time": "2022-07-19T17:23:55.323Z"
   },
   {
    "duration": 0,
    "start_time": "2022-07-19T17:23:55.324Z"
   },
   {
    "duration": 55,
    "start_time": "2022-07-19T17:25:19.644Z"
   },
   {
    "duration": 62,
    "start_time": "2022-07-19T17:25:29.351Z"
   },
   {
    "duration": 1064,
    "start_time": "2022-07-19T17:25:36.762Z"
   },
   {
    "duration": 54,
    "start_time": "2022-07-19T17:25:37.828Z"
   },
   {
    "duration": 13,
    "start_time": "2022-07-19T17:25:37.884Z"
   },
   {
    "duration": 11,
    "start_time": "2022-07-19T17:25:37.898Z"
   },
   {
    "duration": 54,
    "start_time": "2022-07-19T17:25:37.911Z"
   },
   {
    "duration": 0,
    "start_time": "2022-07-19T17:25:37.966Z"
   },
   {
    "duration": 0,
    "start_time": "2022-07-19T17:25:37.968Z"
   },
   {
    "duration": 0,
    "start_time": "2022-07-19T17:25:37.969Z"
   },
   {
    "duration": 0,
    "start_time": "2022-07-19T17:25:37.970Z"
   },
   {
    "duration": 0,
    "start_time": "2022-07-19T17:25:37.971Z"
   },
   {
    "duration": 0,
    "start_time": "2022-07-19T17:25:37.973Z"
   },
   {
    "duration": 0,
    "start_time": "2022-07-19T17:25:37.975Z"
   },
   {
    "duration": 71,
    "start_time": "2022-07-19T17:26:18.109Z"
   },
   {
    "duration": 94,
    "start_time": "2022-07-19T17:26:23.174Z"
   },
   {
    "duration": 5,
    "start_time": "2022-07-19T17:26:43.522Z"
   },
   {
    "duration": 5,
    "start_time": "2022-07-19T17:27:26.397Z"
   },
   {
    "duration": 1120,
    "start_time": "2022-07-19T17:27:35.003Z"
   },
   {
    "duration": 56,
    "start_time": "2022-07-19T17:27:36.125Z"
   },
   {
    "duration": 14,
    "start_time": "2022-07-19T17:27:36.183Z"
   },
   {
    "duration": 12,
    "start_time": "2022-07-19T17:27:36.199Z"
   },
   {
    "duration": 6,
    "start_time": "2022-07-19T17:27:36.212Z"
   },
   {
    "duration": 4,
    "start_time": "2022-07-19T17:27:36.220Z"
   },
   {
    "duration": 35,
    "start_time": "2022-07-19T17:27:36.226Z"
   },
   {
    "duration": 34,
    "start_time": "2022-07-19T17:27:36.262Z"
   },
   {
    "duration": 319,
    "start_time": "2022-07-19T17:27:36.297Z"
   },
   {
    "duration": 65,
    "start_time": "2022-07-19T17:27:36.618Z"
   },
   {
    "duration": 37,
    "start_time": "2022-07-19T17:30:06.036Z"
   },
   {
    "duration": 292,
    "start_time": "2022-07-19T17:30:25.883Z"
   },
   {
    "duration": 1007,
    "start_time": "2022-07-19T17:31:05.278Z"
   },
   {
    "duration": 62,
    "start_time": "2022-07-19T17:31:06.287Z"
   },
   {
    "duration": 13,
    "start_time": "2022-07-19T17:31:06.351Z"
   },
   {
    "duration": 11,
    "start_time": "2022-07-19T17:31:06.367Z"
   },
   {
    "duration": 7,
    "start_time": "2022-07-19T17:31:06.380Z"
   },
   {
    "duration": 6,
    "start_time": "2022-07-19T17:31:06.388Z"
   },
   {
    "duration": 50,
    "start_time": "2022-07-19T17:31:06.395Z"
   },
   {
    "duration": 30,
    "start_time": "2022-07-19T17:31:06.446Z"
   },
   {
    "duration": 304,
    "start_time": "2022-07-19T17:31:06.478Z"
   },
   {
    "duration": 116,
    "start_time": "2022-07-19T17:31:06.784Z"
   },
   {
    "duration": 35,
    "start_time": "2022-07-19T17:31:06.901Z"
   },
   {
    "duration": 307,
    "start_time": "2022-07-19T17:31:06.937Z"
   },
   {
    "duration": 31,
    "start_time": "2022-07-19T17:33:46.859Z"
   },
   {
    "duration": 24,
    "start_time": "2022-07-19T17:34:24.131Z"
   },
   {
    "duration": 176,
    "start_time": "2022-07-19T17:35:24.783Z"
   },
   {
    "duration": 1042,
    "start_time": "2022-07-19T17:35:33.545Z"
   },
   {
    "duration": 60,
    "start_time": "2022-07-19T17:35:34.589Z"
   },
   {
    "duration": 16,
    "start_time": "2022-07-19T17:35:34.650Z"
   },
   {
    "duration": 11,
    "start_time": "2022-07-19T17:35:34.668Z"
   },
   {
    "duration": 6,
    "start_time": "2022-07-19T17:35:34.681Z"
   },
   {
    "duration": 6,
    "start_time": "2022-07-19T17:35:34.689Z"
   },
   {
    "duration": 55,
    "start_time": "2022-07-19T17:35:34.697Z"
   },
   {
    "duration": 31,
    "start_time": "2022-07-19T17:35:34.754Z"
   },
   {
    "duration": 38,
    "start_time": "2022-07-19T17:35:34.787Z"
   },
   {
    "duration": 302,
    "start_time": "2022-07-19T17:35:34.826Z"
   },
   {
    "duration": 183,
    "start_time": "2022-07-19T17:35:35.130Z"
   },
   {
    "duration": 63,
    "start_time": "2022-07-19T17:35:35.314Z"
   },
   {
    "duration": 32,
    "start_time": "2022-07-19T17:35:35.378Z"
   },
   {
    "duration": 302,
    "start_time": "2022-07-19T17:35:35.413Z"
   },
   {
    "duration": 32,
    "start_time": "2022-07-19T17:35:57.403Z"
   },
   {
    "duration": 333,
    "start_time": "2022-07-19T17:36:11.841Z"
   },
   {
    "duration": 96,
    "start_time": "2022-07-19T17:38:17.740Z"
   },
   {
    "duration": 1082,
    "start_time": "2022-07-19T17:38:26.885Z"
   },
   {
    "duration": 58,
    "start_time": "2022-07-19T17:38:27.969Z"
   },
   {
    "duration": 15,
    "start_time": "2022-07-19T17:38:28.028Z"
   },
   {
    "duration": 10,
    "start_time": "2022-07-19T17:38:28.045Z"
   },
   {
    "duration": 7,
    "start_time": "2022-07-19T17:38:28.057Z"
   },
   {
    "duration": 8,
    "start_time": "2022-07-19T17:38:28.066Z"
   },
   {
    "duration": 53,
    "start_time": "2022-07-19T17:38:28.075Z"
   },
   {
    "duration": 30,
    "start_time": "2022-07-19T17:38:28.130Z"
   },
   {
    "duration": 26,
    "start_time": "2022-07-19T17:38:28.162Z"
   },
   {
    "duration": 336,
    "start_time": "2022-07-19T17:38:28.190Z"
   },
   {
    "duration": 176,
    "start_time": "2022-07-19T17:38:28.528Z"
   },
   {
    "duration": 121,
    "start_time": "2022-07-19T17:38:28.705Z"
   },
   {
    "duration": 121,
    "start_time": "2022-07-19T17:38:28.827Z"
   },
   {
    "duration": 0,
    "start_time": "2022-07-19T17:38:28.950Z"
   },
   {
    "duration": 0,
    "start_time": "2022-07-19T17:38:28.952Z"
   },
   {
    "duration": 1414,
    "start_time": "2022-07-19T17:38:54.139Z"
   },
   {
    "duration": 58,
    "start_time": "2022-07-19T17:38:55.555Z"
   },
   {
    "duration": 15,
    "start_time": "2022-07-19T17:38:55.615Z"
   },
   {
    "duration": 11,
    "start_time": "2022-07-19T17:38:55.632Z"
   },
   {
    "duration": 7,
    "start_time": "2022-07-19T17:38:55.644Z"
   },
   {
    "duration": 6,
    "start_time": "2022-07-19T17:38:55.653Z"
   },
   {
    "duration": 37,
    "start_time": "2022-07-19T17:38:55.660Z"
   },
   {
    "duration": 48,
    "start_time": "2022-07-19T17:38:55.699Z"
   },
   {
    "duration": 23,
    "start_time": "2022-07-19T17:38:55.749Z"
   },
   {
    "duration": 316,
    "start_time": "2022-07-19T17:38:55.774Z"
   },
   {
    "duration": 171,
    "start_time": "2022-07-19T17:38:56.092Z"
   },
   {
    "duration": 99,
    "start_time": "2022-07-19T17:38:56.264Z"
   },
   {
    "duration": 15,
    "start_time": "2022-07-19T17:38:56.364Z"
   },
   {
    "duration": 30,
    "start_time": "2022-07-19T17:38:56.381Z"
   },
   {
    "duration": 310,
    "start_time": "2022-07-19T17:38:56.412Z"
   },
   {
    "duration": 50,
    "start_time": "2022-07-21T17:29:23.948Z"
   },
   {
    "duration": 3,
    "start_time": "2022-07-21T17:29:34.080Z"
   },
   {
    "duration": 110,
    "start_time": "2022-07-21T17:30:32.461Z"
   },
   {
    "duration": 78,
    "start_time": "2022-07-21T17:30:48.102Z"
   },
   {
    "duration": 0,
    "start_time": "2022-07-21T17:30:48.182Z"
   },
   {
    "duration": 0,
    "start_time": "2022-07-21T17:30:48.184Z"
   },
   {
    "duration": 0,
    "start_time": "2022-07-21T17:30:48.185Z"
   },
   {
    "duration": 0,
    "start_time": "2022-07-21T17:30:48.186Z"
   },
   {
    "duration": 0,
    "start_time": "2022-07-21T17:30:48.187Z"
   },
   {
    "duration": 0,
    "start_time": "2022-07-21T17:30:48.188Z"
   },
   {
    "duration": 0,
    "start_time": "2022-07-21T17:30:48.189Z"
   },
   {
    "duration": 0,
    "start_time": "2022-07-21T17:30:48.190Z"
   },
   {
    "duration": 0,
    "start_time": "2022-07-21T17:30:48.191Z"
   },
   {
    "duration": 0,
    "start_time": "2022-07-21T17:30:48.192Z"
   },
   {
    "duration": 0,
    "start_time": "2022-07-21T17:30:48.193Z"
   },
   {
    "duration": 0,
    "start_time": "2022-07-21T17:30:48.194Z"
   },
   {
    "duration": 0,
    "start_time": "2022-07-21T17:30:48.195Z"
   },
   {
    "duration": 0,
    "start_time": "2022-07-21T17:30:48.196Z"
   },
   {
    "duration": 0,
    "start_time": "2022-07-21T17:30:48.197Z"
   },
   {
    "duration": 1188,
    "start_time": "2022-07-21T17:31:04.302Z"
   },
   {
    "duration": 1171,
    "start_time": "2022-07-21T17:31:13.398Z"
   },
   {
    "duration": 82,
    "start_time": "2022-07-21T17:31:14.571Z"
   },
   {
    "duration": 17,
    "start_time": "2022-07-21T17:31:14.655Z"
   },
   {
    "duration": 14,
    "start_time": "2022-07-21T17:31:14.675Z"
   },
   {
    "duration": 3,
    "start_time": "2022-07-21T17:31:14.691Z"
   },
   {
    "duration": 7,
    "start_time": "2022-07-21T17:31:14.704Z"
   },
   {
    "duration": 9,
    "start_time": "2022-07-21T17:31:14.713Z"
   },
   {
    "duration": 40,
    "start_time": "2022-07-21T17:31:14.724Z"
   },
   {
    "duration": 68,
    "start_time": "2022-07-21T17:31:14.766Z"
   },
   {
    "duration": 26,
    "start_time": "2022-07-21T17:31:14.836Z"
   },
   {
    "duration": 341,
    "start_time": "2022-07-21T17:31:14.864Z"
   },
   {
    "duration": 184,
    "start_time": "2022-07-21T17:31:15.207Z"
   },
   {
    "duration": 79,
    "start_time": "2022-07-21T17:31:15.394Z"
   },
   {
    "duration": 16,
    "start_time": "2022-07-21T17:31:15.475Z"
   },
   {
    "duration": 34,
    "start_time": "2022-07-21T17:31:15.493Z"
   },
   {
    "duration": 338,
    "start_time": "2022-07-21T17:31:15.529Z"
   },
   {
    "duration": 1110,
    "start_time": "2022-07-21T17:31:39.629Z"
   },
   {
    "duration": 48,
    "start_time": "2022-07-21T17:31:40.741Z"
   },
   {
    "duration": 15,
    "start_time": "2022-07-21T17:31:40.791Z"
   },
   {
    "duration": 15,
    "start_time": "2022-07-21T17:31:40.809Z"
   },
   {
    "duration": 11,
    "start_time": "2022-07-21T17:31:40.825Z"
   },
   {
    "duration": 11,
    "start_time": "2022-07-21T17:31:40.838Z"
   },
   {
    "duration": 18,
    "start_time": "2022-07-21T17:31:40.851Z"
   },
   {
    "duration": 106,
    "start_time": "2022-07-21T17:31:40.871Z"
   },
   {
    "duration": 0,
    "start_time": "2022-07-21T17:31:40.979Z"
   },
   {
    "duration": 0,
    "start_time": "2022-07-21T17:31:40.981Z"
   },
   {
    "duration": 0,
    "start_time": "2022-07-21T17:31:40.982Z"
   },
   {
    "duration": 0,
    "start_time": "2022-07-21T17:31:40.984Z"
   },
   {
    "duration": 0,
    "start_time": "2022-07-21T17:31:40.985Z"
   },
   {
    "duration": 0,
    "start_time": "2022-07-21T17:31:40.986Z"
   },
   {
    "duration": 0,
    "start_time": "2022-07-21T17:31:41.005Z"
   },
   {
    "duration": 0,
    "start_time": "2022-07-21T17:31:41.007Z"
   },
   {
    "duration": 1137,
    "start_time": "2022-07-21T17:33:28.025Z"
   },
   {
    "duration": 51,
    "start_time": "2022-07-21T17:33:29.164Z"
   },
   {
    "duration": 16,
    "start_time": "2022-07-21T17:33:29.217Z"
   },
   {
    "duration": 13,
    "start_time": "2022-07-21T17:33:29.235Z"
   },
   {
    "duration": 5,
    "start_time": "2022-07-21T17:33:29.250Z"
   },
   {
    "duration": 15,
    "start_time": "2022-07-21T17:33:29.256Z"
   },
   {
    "duration": 34,
    "start_time": "2022-07-21T17:33:29.272Z"
   },
   {
    "duration": 37,
    "start_time": "2022-07-21T17:33:29.308Z"
   },
   {
    "duration": 57,
    "start_time": "2022-07-21T17:33:29.347Z"
   },
   {
    "duration": 27,
    "start_time": "2022-07-21T17:33:29.407Z"
   },
   {
    "duration": 331,
    "start_time": "2022-07-21T17:33:29.435Z"
   },
   {
    "duration": 190,
    "start_time": "2022-07-21T17:33:29.768Z"
   },
   {
    "duration": 84,
    "start_time": "2022-07-21T17:33:29.960Z"
   },
   {
    "duration": 16,
    "start_time": "2022-07-21T17:33:30.045Z"
   },
   {
    "duration": 49,
    "start_time": "2022-07-21T17:33:30.063Z"
   },
   {
    "duration": 362,
    "start_time": "2022-07-21T17:33:30.114Z"
   },
   {
    "duration": 76,
    "start_time": "2022-07-21T17:36:38.391Z"
   },
   {
    "duration": 118,
    "start_time": "2022-07-21T17:44:55.502Z"
   },
   {
    "duration": 1235,
    "start_time": "2022-07-21T17:45:06.724Z"
   },
   {
    "duration": 0,
    "start_time": "2022-07-21T17:45:07.962Z"
   },
   {
    "duration": 0,
    "start_time": "2022-07-21T17:45:07.964Z"
   },
   {
    "duration": 0,
    "start_time": "2022-07-21T17:45:07.966Z"
   },
   {
    "duration": 0,
    "start_time": "2022-07-21T17:45:07.967Z"
   },
   {
    "duration": 0,
    "start_time": "2022-07-21T17:45:07.969Z"
   },
   {
    "duration": 0,
    "start_time": "2022-07-21T17:45:07.971Z"
   },
   {
    "duration": 0,
    "start_time": "2022-07-21T17:45:07.972Z"
   },
   {
    "duration": 0,
    "start_time": "2022-07-21T17:45:07.973Z"
   },
   {
    "duration": 0,
    "start_time": "2022-07-21T17:45:07.975Z"
   },
   {
    "duration": 0,
    "start_time": "2022-07-21T17:45:07.976Z"
   },
   {
    "duration": 0,
    "start_time": "2022-07-21T17:45:08.004Z"
   },
   {
    "duration": 0,
    "start_time": "2022-07-21T17:45:08.006Z"
   },
   {
    "duration": 1,
    "start_time": "2022-07-21T17:45:08.007Z"
   },
   {
    "duration": 0,
    "start_time": "2022-07-21T17:45:08.009Z"
   },
   {
    "duration": 1,
    "start_time": "2022-07-21T17:45:08.010Z"
   },
   {
    "duration": 83,
    "start_time": "2022-07-21T17:45:54.666Z"
   },
   {
    "duration": 3,
    "start_time": "2022-07-21T17:51:09.404Z"
   },
   {
    "duration": 49,
    "start_time": "2022-07-21T17:51:10.318Z"
   },
   {
    "duration": 18,
    "start_time": "2022-07-21T17:51:11.400Z"
   },
   {
    "duration": 19,
    "start_time": "2022-07-21T17:51:11.870Z"
   },
   {
    "duration": 3,
    "start_time": "2022-07-21T17:51:12.369Z"
   },
   {
    "duration": 5,
    "start_time": "2022-07-21T17:51:12.900Z"
   },
   {
    "duration": 5,
    "start_time": "2022-07-21T17:51:13.325Z"
   },
   {
    "duration": 38,
    "start_time": "2022-07-21T17:51:15.048Z"
   },
   {
    "duration": 16,
    "start_time": "2022-07-21T17:51:15.526Z"
   },
   {
    "duration": 82,
    "start_time": "2022-07-21T17:51:36.468Z"
   },
   {
    "duration": 76,
    "start_time": "2022-07-21T17:51:43.540Z"
   },
   {
    "duration": 12,
    "start_time": "2022-07-21T17:52:05.440Z"
   },
   {
    "duration": 25,
    "start_time": "2022-07-21T17:57:33.373Z"
   },
   {
    "duration": 10,
    "start_time": "2022-07-21T17:58:05.668Z"
   },
   {
    "duration": 10,
    "start_time": "2022-07-21T17:58:14.557Z"
   },
   {
    "duration": 4,
    "start_time": "2022-07-21T17:58:26.599Z"
   },
   {
    "duration": 46,
    "start_time": "2022-07-21T18:06:52.014Z"
   },
   {
    "duration": 32,
    "start_time": "2022-07-21T18:07:50.550Z"
   },
   {
    "duration": 27,
    "start_time": "2022-07-21T18:08:47.830Z"
   },
   {
    "duration": 21,
    "start_time": "2022-07-21T18:09:58.698Z"
   },
   {
    "duration": 29,
    "start_time": "2022-07-21T18:11:39.240Z"
   },
   {
    "duration": 1139,
    "start_time": "2022-07-21T18:11:56.352Z"
   },
   {
    "duration": 48,
    "start_time": "2022-07-21T18:11:57.494Z"
   },
   {
    "duration": 16,
    "start_time": "2022-07-21T18:11:57.544Z"
   },
   {
    "duration": 13,
    "start_time": "2022-07-21T18:11:57.563Z"
   },
   {
    "duration": 6,
    "start_time": "2022-07-21T18:11:57.577Z"
   },
   {
    "duration": 22,
    "start_time": "2022-07-21T18:11:57.584Z"
   },
   {
    "duration": 29,
    "start_time": "2022-07-21T18:11:57.608Z"
   },
   {
    "duration": 46,
    "start_time": "2022-07-21T18:11:57.638Z"
   },
   {
    "duration": 23,
    "start_time": "2022-07-21T18:11:57.686Z"
   },
   {
    "duration": 18,
    "start_time": "2022-07-21T18:11:57.711Z"
   },
   {
    "duration": 134,
    "start_time": "2022-07-21T18:11:57.731Z"
   },
   {
    "duration": 0,
    "start_time": "2022-07-21T18:11:57.867Z"
   },
   {
    "duration": 0,
    "start_time": "2022-07-21T18:11:57.868Z"
   },
   {
    "duration": 0,
    "start_time": "2022-07-21T18:11:57.870Z"
   },
   {
    "duration": 0,
    "start_time": "2022-07-21T18:11:57.871Z"
   },
   {
    "duration": 0,
    "start_time": "2022-07-21T18:11:57.873Z"
   },
   {
    "duration": 0,
    "start_time": "2022-07-21T18:11:57.874Z"
   },
   {
    "duration": 0,
    "start_time": "2022-07-21T18:11:57.876Z"
   },
   {
    "duration": 28,
    "start_time": "2022-07-21T18:12:12.472Z"
   },
   {
    "duration": 24,
    "start_time": "2022-07-21T18:12:52.946Z"
   },
   {
    "duration": 22,
    "start_time": "2022-07-21T18:13:02.046Z"
   },
   {
    "duration": 42,
    "start_time": "2022-07-21T18:13:54.088Z"
   },
   {
    "duration": 1257,
    "start_time": "2022-07-21T18:14:03.134Z"
   },
   {
    "duration": 75,
    "start_time": "2022-07-21T18:14:04.393Z"
   },
   {
    "duration": 16,
    "start_time": "2022-07-21T18:14:04.469Z"
   },
   {
    "duration": 49,
    "start_time": "2022-07-21T18:14:04.487Z"
   },
   {
    "duration": 30,
    "start_time": "2022-07-21T18:14:04.538Z"
   },
   {
    "duration": 35,
    "start_time": "2022-07-21T18:14:04.570Z"
   },
   {
    "duration": 76,
    "start_time": "2022-07-21T18:14:04.607Z"
   },
   {
    "duration": 55,
    "start_time": "2022-07-21T18:14:04.685Z"
   },
   {
    "duration": 31,
    "start_time": "2022-07-21T18:14:04.742Z"
   },
   {
    "duration": 36,
    "start_time": "2022-07-21T18:14:04.776Z"
   },
   {
    "duration": 54,
    "start_time": "2022-07-21T18:14:04.814Z"
   },
   {
    "duration": 23,
    "start_time": "2022-07-21T18:14:04.870Z"
   },
   {
    "duration": 39,
    "start_time": "2022-07-21T18:14:04.895Z"
   },
   {
    "duration": 370,
    "start_time": "2022-07-21T18:14:04.936Z"
   },
   {
    "duration": 221,
    "start_time": "2022-07-21T18:14:05.307Z"
   },
   {
    "duration": 5,
    "start_time": "2022-07-21T18:14:05.531Z"
   },
   {
    "duration": 0,
    "start_time": "2022-07-21T18:14:05.538Z"
   },
   {
    "duration": 0,
    "start_time": "2022-07-21T18:14:05.540Z"
   },
   {
    "duration": 0,
    "start_time": "2022-07-21T18:14:05.542Z"
   },
   {
    "duration": 175,
    "start_time": "2022-07-21T18:14:25.944Z"
   },
   {
    "duration": 19,
    "start_time": "2022-07-21T18:14:27.679Z"
   },
   {
    "duration": 219,
    "start_time": "2022-07-21T18:14:36.627Z"
   },
   {
    "duration": 6,
    "start_time": "2022-07-21T18:21:12.573Z"
   },
   {
    "duration": 6,
    "start_time": "2022-07-21T18:21:23.960Z"
   },
   {
    "duration": 129,
    "start_time": "2022-07-21T18:22:49.260Z"
   },
   {
    "duration": 24,
    "start_time": "2022-07-21T18:23:00.422Z"
   },
   {
    "duration": 26,
    "start_time": "2022-07-21T18:23:09.831Z"
   },
   {
    "duration": 18,
    "start_time": "2022-07-21T18:23:17.792Z"
   },
   {
    "duration": 4,
    "start_time": "2022-07-21T18:26:34.410Z"
   },
   {
    "duration": 81,
    "start_time": "2022-07-21T18:27:24.334Z"
   },
   {
    "duration": 12,
    "start_time": "2022-07-21T18:28:09.174Z"
   },
   {
    "duration": 617,
    "start_time": "2022-07-21T18:28:29.268Z"
   },
   {
    "duration": 620,
    "start_time": "2022-07-21T18:52:04.188Z"
   },
   {
    "duration": 78,
    "start_time": "2022-07-21T19:29:37.953Z"
   },
   {
    "duration": 62,
    "start_time": "2022-07-22T16:43:19.467Z"
   },
   {
    "duration": 1055,
    "start_time": "2022-07-22T16:50:17.319Z"
   },
   {
    "duration": 136,
    "start_time": "2022-07-22T16:50:18.376Z"
   },
   {
    "duration": 12,
    "start_time": "2022-07-22T16:50:18.514Z"
   },
   {
    "duration": 10,
    "start_time": "2022-07-22T16:50:18.528Z"
   },
   {
    "duration": 3,
    "start_time": "2022-07-22T16:50:18.540Z"
   },
   {
    "duration": 21,
    "start_time": "2022-07-22T16:50:18.545Z"
   },
   {
    "duration": 8,
    "start_time": "2022-07-22T16:50:18.568Z"
   },
   {
    "duration": 33,
    "start_time": "2022-07-22T16:50:18.577Z"
   },
   {
    "duration": 19,
    "start_time": "2022-07-22T16:50:18.611Z"
   },
   {
    "duration": 30,
    "start_time": "2022-07-22T16:50:18.632Z"
   },
   {
    "duration": 30,
    "start_time": "2022-07-22T16:50:18.664Z"
   },
   {
    "duration": 19,
    "start_time": "2022-07-22T16:50:18.696Z"
   },
   {
    "duration": 46,
    "start_time": "2022-07-22T16:50:18.716Z"
   },
   {
    "duration": 3,
    "start_time": "2022-07-22T16:50:18.764Z"
   },
   {
    "duration": 371,
    "start_time": "2022-07-22T16:50:18.768Z"
   },
   {
    "duration": 184,
    "start_time": "2022-07-22T16:50:19.141Z"
   },
   {
    "duration": 613,
    "start_time": "2022-07-22T16:50:19.327Z"
   },
   {
    "duration": 600,
    "start_time": "2022-07-22T16:50:19.946Z"
   },
   {
    "duration": 15,
    "start_time": "2022-07-22T16:50:20.547Z"
   },
   {
    "duration": 33,
    "start_time": "2022-07-22T16:50:20.564Z"
   },
   {
    "duration": 311,
    "start_time": "2022-07-22T16:50:20.599Z"
   },
   {
    "duration": 3,
    "start_time": "2022-07-22T16:59:21.378Z"
   },
   {
    "duration": 4,
    "start_time": "2022-07-22T16:59:42.886Z"
   },
   {
    "duration": 98,
    "start_time": "2022-07-22T17:51:46.402Z"
   },
   {
    "duration": 1035,
    "start_time": "2022-07-22T17:51:55.517Z"
   },
   {
    "duration": 46,
    "start_time": "2022-07-22T17:51:56.554Z"
   },
   {
    "duration": 13,
    "start_time": "2022-07-22T17:51:56.602Z"
   },
   {
    "duration": 10,
    "start_time": "2022-07-22T17:51:56.618Z"
   },
   {
    "duration": 2,
    "start_time": "2022-07-22T17:51:56.630Z"
   },
   {
    "duration": 12,
    "start_time": "2022-07-22T17:51:56.634Z"
   },
   {
    "duration": 11,
    "start_time": "2022-07-22T17:51:56.648Z"
   },
   {
    "duration": 37,
    "start_time": "2022-07-22T17:51:56.660Z"
   },
   {
    "duration": 19,
    "start_time": "2022-07-22T17:51:56.699Z"
   },
   {
    "duration": 34,
    "start_time": "2022-07-22T17:51:56.720Z"
   },
   {
    "duration": 31,
    "start_time": "2022-07-22T17:51:56.756Z"
   },
   {
    "duration": 19,
    "start_time": "2022-07-22T17:51:56.788Z"
   },
   {
    "duration": 42,
    "start_time": "2022-07-22T17:51:56.809Z"
   },
   {
    "duration": 2,
    "start_time": "2022-07-22T17:51:56.854Z"
   },
   {
    "duration": 303,
    "start_time": "2022-07-22T17:51:56.858Z"
   },
   {
    "duration": 169,
    "start_time": "2022-07-22T17:51:57.163Z"
   },
   {
    "duration": 533,
    "start_time": "2022-07-22T17:51:57.334Z"
   },
   {
    "duration": 535,
    "start_time": "2022-07-22T17:51:57.869Z"
   },
   {
    "duration": 4,
    "start_time": "2022-07-22T17:51:58.405Z"
   },
   {
    "duration": 36,
    "start_time": "2022-07-22T17:51:58.410Z"
   },
   {
    "duration": 109,
    "start_time": "2022-07-22T17:51:58.447Z"
   },
   {
    "duration": 0,
    "start_time": "2022-07-22T17:51:58.558Z"
   },
   {
    "duration": 0,
    "start_time": "2022-07-22T17:51:58.559Z"
   },
   {
    "duration": 999,
    "start_time": "2022-07-22T18:04:35.872Z"
   },
   {
    "duration": 47,
    "start_time": "2022-07-22T18:04:36.873Z"
   },
   {
    "duration": 13,
    "start_time": "2022-07-22T18:04:36.921Z"
   },
   {
    "duration": 12,
    "start_time": "2022-07-22T18:04:36.937Z"
   },
   {
    "duration": 6,
    "start_time": "2022-07-22T18:04:36.950Z"
   },
   {
    "duration": 9,
    "start_time": "2022-07-22T18:04:36.958Z"
   },
   {
    "duration": 7,
    "start_time": "2022-07-22T18:04:36.969Z"
   },
   {
    "duration": 38,
    "start_time": "2022-07-22T18:04:36.977Z"
   },
   {
    "duration": 42,
    "start_time": "2022-07-22T18:04:37.016Z"
   },
   {
    "duration": 16,
    "start_time": "2022-07-22T18:04:37.061Z"
   },
   {
    "duration": 32,
    "start_time": "2022-07-22T18:04:37.079Z"
   },
   {
    "duration": 48,
    "start_time": "2022-07-22T18:04:37.113Z"
   },
   {
    "duration": 16,
    "start_time": "2022-07-22T18:04:37.163Z"
   },
   {
    "duration": 3,
    "start_time": "2022-07-22T18:04:37.181Z"
   },
   {
    "duration": 121,
    "start_time": "2022-07-22T18:04:37.185Z"
   },
   {
    "duration": 0,
    "start_time": "2022-07-22T18:04:37.308Z"
   },
   {
    "duration": 0,
    "start_time": "2022-07-22T18:04:37.309Z"
   },
   {
    "duration": 0,
    "start_time": "2022-07-22T18:04:37.310Z"
   },
   {
    "duration": 1,
    "start_time": "2022-07-22T18:04:37.311Z"
   },
   {
    "duration": 0,
    "start_time": "2022-07-22T18:04:37.312Z"
   },
   {
    "duration": 0,
    "start_time": "2022-07-22T18:04:37.313Z"
   },
   {
    "duration": 0,
    "start_time": "2022-07-22T18:04:37.314Z"
   },
   {
    "duration": 0,
    "start_time": "2022-07-22T18:04:37.315Z"
   },
   {
    "duration": 0,
    "start_time": "2022-07-22T18:04:37.316Z"
   },
   {
    "duration": 987,
    "start_time": "2022-07-22T18:06:36.872Z"
   },
   {
    "duration": 45,
    "start_time": "2022-07-22T18:06:37.861Z"
   },
   {
    "duration": 12,
    "start_time": "2022-07-22T18:06:37.908Z"
   },
   {
    "duration": 10,
    "start_time": "2022-07-22T18:06:37.922Z"
   },
   {
    "duration": 2,
    "start_time": "2022-07-22T18:06:37.933Z"
   },
   {
    "duration": 9,
    "start_time": "2022-07-22T18:06:37.937Z"
   },
   {
    "duration": 8,
    "start_time": "2022-07-22T18:06:37.947Z"
   },
   {
    "duration": 34,
    "start_time": "2022-07-22T18:06:37.956Z"
   },
   {
    "duration": 21,
    "start_time": "2022-07-22T18:06:37.992Z"
   },
   {
    "duration": 39,
    "start_time": "2022-07-22T18:06:38.015Z"
   },
   {
    "duration": 30,
    "start_time": "2022-07-22T18:06:38.056Z"
   },
   {
    "duration": 19,
    "start_time": "2022-07-22T18:06:38.088Z"
   },
   {
    "duration": 43,
    "start_time": "2022-07-22T18:06:38.109Z"
   },
   {
    "duration": 2,
    "start_time": "2022-07-22T18:06:38.154Z"
   },
   {
    "duration": 305,
    "start_time": "2022-07-22T18:06:38.158Z"
   },
   {
    "duration": 173,
    "start_time": "2022-07-22T18:06:38.465Z"
   },
   {
    "duration": 635,
    "start_time": "2022-07-22T18:06:38.645Z"
   },
   {
    "duration": 568,
    "start_time": "2022-07-22T18:06:39.281Z"
   },
   {
    "duration": 3,
    "start_time": "2022-07-22T18:06:39.851Z"
   },
   {
    "duration": 16,
    "start_time": "2022-07-22T18:06:39.855Z"
   },
   {
    "duration": 124,
    "start_time": "2022-07-22T18:06:39.872Z"
   },
   {
    "duration": 0,
    "start_time": "2022-07-22T18:06:39.997Z"
   },
   {
    "duration": 0,
    "start_time": "2022-07-22T18:06:39.998Z"
   },
   {
    "duration": 165,
    "start_time": "2022-07-22T18:12:44.743Z"
   },
   {
    "duration": 52,
    "start_time": "2022-07-22T18:16:14.546Z"
   },
   {
    "duration": 17,
    "start_time": "2022-07-22T18:16:23.565Z"
   },
   {
    "duration": 45,
    "start_time": "2022-07-22T18:16:54.360Z"
   },
   {
    "duration": 18,
    "start_time": "2022-07-22T18:16:56.348Z"
   },
   {
    "duration": 1077,
    "start_time": "2022-07-22T18:17:03.060Z"
   },
   {
    "duration": 45,
    "start_time": "2022-07-22T18:17:04.139Z"
   },
   {
    "duration": 13,
    "start_time": "2022-07-22T18:17:04.185Z"
   },
   {
    "duration": 10,
    "start_time": "2022-07-22T18:17:04.200Z"
   },
   {
    "duration": 2,
    "start_time": "2022-07-22T18:17:04.212Z"
   },
   {
    "duration": 7,
    "start_time": "2022-07-22T18:17:04.216Z"
   },
   {
    "duration": 9,
    "start_time": "2022-07-22T18:17:04.225Z"
   },
   {
    "duration": 40,
    "start_time": "2022-07-22T18:17:04.235Z"
   },
   {
    "duration": 19,
    "start_time": "2022-07-22T18:17:04.276Z"
   },
   {
    "duration": 15,
    "start_time": "2022-07-22T18:17:04.297Z"
   },
   {
    "duration": 61,
    "start_time": "2022-07-22T18:17:04.313Z"
   },
   {
    "duration": 20,
    "start_time": "2022-07-22T18:17:04.376Z"
   },
   {
    "duration": 17,
    "start_time": "2022-07-22T18:17:04.398Z"
   },
   {
    "duration": 3,
    "start_time": "2022-07-22T18:17:04.445Z"
   },
   {
    "duration": 308,
    "start_time": "2022-07-22T18:17:04.449Z"
   },
   {
    "duration": 170,
    "start_time": "2022-07-22T18:17:04.758Z"
   },
   {
    "duration": 535,
    "start_time": "2022-07-22T18:17:04.930Z"
   },
   {
    "duration": 551,
    "start_time": "2022-07-22T18:17:05.467Z"
   },
   {
    "duration": 3,
    "start_time": "2022-07-22T18:17:06.020Z"
   },
   {
    "duration": 51,
    "start_time": "2022-07-22T18:17:06.025Z"
   },
   {
    "duration": 0,
    "start_time": "2022-07-22T18:17:06.077Z"
   },
   {
    "duration": 0,
    "start_time": "2022-07-22T18:17:06.079Z"
   },
   {
    "duration": 0,
    "start_time": "2022-07-22T18:17:06.080Z"
   },
   {
    "duration": 94,
    "start_time": "2022-07-22T18:17:30.120Z"
   },
   {
    "duration": 9,
    "start_time": "2022-07-22T18:18:17.458Z"
   },
   {
    "duration": 10,
    "start_time": "2022-07-22T18:19:17.568Z"
   },
   {
    "duration": 15,
    "start_time": "2022-07-22T18:19:51.641Z"
   },
   {
    "duration": 9,
    "start_time": "2022-07-22T18:20:10.763Z"
   },
   {
    "duration": 49,
    "start_time": "2022-07-22T18:20:56.535Z"
   },
   {
    "duration": 12,
    "start_time": "2022-07-22T18:21:06.802Z"
   },
   {
    "duration": 17,
    "start_time": "2022-07-22T18:21:17.445Z"
   },
   {
    "duration": 11,
    "start_time": "2022-07-22T18:21:54.604Z"
   },
   {
    "duration": 11,
    "start_time": "2022-07-22T18:22:00.910Z"
   },
   {
    "duration": 19,
    "start_time": "2022-07-22T18:22:16.218Z"
   },
   {
    "duration": 34,
    "start_time": "2022-07-22T18:22:54.535Z"
   },
   {
    "duration": 304,
    "start_time": "2022-07-22T18:22:56.077Z"
   },
   {
    "duration": 19,
    "start_time": "2022-07-22T18:24:03.172Z"
   },
   {
    "duration": 17,
    "start_time": "2022-07-22T18:24:51.964Z"
   },
   {
    "duration": 301,
    "start_time": "2022-07-22T18:27:32.500Z"
   },
   {
    "duration": 1000,
    "start_time": "2022-07-22T18:28:34.764Z"
   },
   {
    "duration": 131,
    "start_time": "2022-07-23T10:43:11.373Z"
   },
   {
    "duration": 49,
    "start_time": "2022-07-23T18:51:52.254Z"
   },
   {
    "duration": 1077,
    "start_time": "2022-07-23T18:57:15.780Z"
   },
   {
    "duration": 81,
    "start_time": "2022-07-23T18:57:16.859Z"
   },
   {
    "duration": 14,
    "start_time": "2022-07-23T18:57:16.942Z"
   },
   {
    "duration": 10,
    "start_time": "2022-07-23T18:57:16.957Z"
   },
   {
    "duration": 109,
    "start_time": "2022-07-23T18:57:16.969Z"
   },
   {
    "duration": 0,
    "start_time": "2022-07-23T18:57:17.080Z"
   },
   {
    "duration": 0,
    "start_time": "2022-07-23T18:57:17.081Z"
   },
   {
    "duration": 0,
    "start_time": "2022-07-23T18:57:17.082Z"
   },
   {
    "duration": 0,
    "start_time": "2022-07-23T18:57:17.084Z"
   },
   {
    "duration": 0,
    "start_time": "2022-07-23T18:57:17.084Z"
   },
   {
    "duration": 0,
    "start_time": "2022-07-23T18:57:17.086Z"
   },
   {
    "duration": 0,
    "start_time": "2022-07-23T18:57:17.086Z"
   },
   {
    "duration": 0,
    "start_time": "2022-07-23T18:57:17.087Z"
   },
   {
    "duration": 0,
    "start_time": "2022-07-23T18:57:17.089Z"
   },
   {
    "duration": 0,
    "start_time": "2022-07-23T18:57:17.090Z"
   },
   {
    "duration": 0,
    "start_time": "2022-07-23T18:57:17.091Z"
   },
   {
    "duration": 0,
    "start_time": "2022-07-23T18:57:17.092Z"
   },
   {
    "duration": 0,
    "start_time": "2022-07-23T18:57:17.093Z"
   },
   {
    "duration": 0,
    "start_time": "2022-07-23T18:57:17.094Z"
   },
   {
    "duration": 0,
    "start_time": "2022-07-23T18:57:17.095Z"
   },
   {
    "duration": 0,
    "start_time": "2022-07-23T18:57:17.096Z"
   },
   {
    "duration": 0,
    "start_time": "2022-07-23T18:57:17.097Z"
   },
   {
    "duration": 0,
    "start_time": "2022-07-23T18:57:17.098Z"
   },
   {
    "duration": 10,
    "start_time": "2022-07-23T18:57:54.573Z"
   },
   {
    "duration": 3,
    "start_time": "2022-07-23T18:58:48.467Z"
   },
   {
    "duration": 1013,
    "start_time": "2022-07-23T18:58:57.663Z"
   },
   {
    "duration": 47,
    "start_time": "2022-07-23T18:58:58.678Z"
   },
   {
    "duration": 17,
    "start_time": "2022-07-23T18:58:58.727Z"
   },
   {
    "duration": 16,
    "start_time": "2022-07-23T18:58:58.746Z"
   },
   {
    "duration": 154,
    "start_time": "2022-07-23T18:58:58.764Z"
   },
   {
    "duration": 0,
    "start_time": "2022-07-23T18:58:58.920Z"
   },
   {
    "duration": 0,
    "start_time": "2022-07-23T18:58:58.921Z"
   },
   {
    "duration": 0,
    "start_time": "2022-07-23T18:58:58.922Z"
   },
   {
    "duration": 0,
    "start_time": "2022-07-23T18:58:58.923Z"
   },
   {
    "duration": 0,
    "start_time": "2022-07-23T18:58:58.924Z"
   },
   {
    "duration": 0,
    "start_time": "2022-07-23T18:58:58.925Z"
   },
   {
    "duration": 0,
    "start_time": "2022-07-23T18:58:58.926Z"
   },
   {
    "duration": 0,
    "start_time": "2022-07-23T18:58:58.927Z"
   },
   {
    "duration": 0,
    "start_time": "2022-07-23T18:58:58.928Z"
   },
   {
    "duration": 0,
    "start_time": "2022-07-23T18:58:58.929Z"
   },
   {
    "duration": 0,
    "start_time": "2022-07-23T18:58:58.952Z"
   },
   {
    "duration": 0,
    "start_time": "2022-07-23T18:58:58.953Z"
   },
   {
    "duration": 0,
    "start_time": "2022-07-23T18:58:58.955Z"
   },
   {
    "duration": 0,
    "start_time": "2022-07-23T18:58:58.956Z"
   },
   {
    "duration": 0,
    "start_time": "2022-07-23T18:58:58.957Z"
   },
   {
    "duration": 0,
    "start_time": "2022-07-23T18:58:58.959Z"
   },
   {
    "duration": 0,
    "start_time": "2022-07-23T18:58:58.960Z"
   },
   {
    "duration": 0,
    "start_time": "2022-07-23T18:58:58.961Z"
   },
   {
    "duration": 10,
    "start_time": "2022-07-23T18:59:49.219Z"
   },
   {
    "duration": 12,
    "start_time": "2022-07-23T19:00:30.084Z"
   },
   {
    "duration": 3,
    "start_time": "2022-07-23T19:00:49.798Z"
   },
   {
    "duration": 10,
    "start_time": "2022-07-23T19:00:54.947Z"
   },
   {
    "duration": 10,
    "start_time": "2022-07-23T19:01:26.494Z"
   },
   {
    "duration": 9,
    "start_time": "2022-07-23T19:01:51.375Z"
   },
   {
    "duration": 9,
    "start_time": "2022-07-23T19:04:09.905Z"
   },
   {
    "duration": 9,
    "start_time": "2022-07-23T19:04:57.891Z"
   },
   {
    "duration": 9,
    "start_time": "2022-07-23T19:05:06.789Z"
   },
   {
    "duration": 11,
    "start_time": "2022-07-23T19:05:11.404Z"
   },
   {
    "duration": 10,
    "start_time": "2022-07-23T19:05:19.925Z"
   },
   {
    "duration": 24,
    "start_time": "2022-07-23T19:06:27.701Z"
   },
   {
    "duration": 1039,
    "start_time": "2022-07-23T19:06:34.727Z"
   },
   {
    "duration": 44,
    "start_time": "2022-07-23T19:06:35.768Z"
   },
   {
    "duration": 13,
    "start_time": "2022-07-23T19:06:35.814Z"
   },
   {
    "duration": 13,
    "start_time": "2022-07-23T19:06:35.829Z"
   },
   {
    "duration": 85,
    "start_time": "2022-07-23T19:06:35.845Z"
   },
   {
    "duration": 0,
    "start_time": "2022-07-23T19:06:35.932Z"
   },
   {
    "duration": 0,
    "start_time": "2022-07-23T19:06:35.933Z"
   },
   {
    "duration": 0,
    "start_time": "2022-07-23T19:06:35.935Z"
   },
   {
    "duration": 0,
    "start_time": "2022-07-23T19:06:35.952Z"
   },
   {
    "duration": 0,
    "start_time": "2022-07-23T19:06:35.953Z"
   },
   {
    "duration": 0,
    "start_time": "2022-07-23T19:06:35.954Z"
   },
   {
    "duration": 0,
    "start_time": "2022-07-23T19:06:35.956Z"
   },
   {
    "duration": 0,
    "start_time": "2022-07-23T19:06:35.957Z"
   },
   {
    "duration": 0,
    "start_time": "2022-07-23T19:06:35.958Z"
   },
   {
    "duration": 0,
    "start_time": "2022-07-23T19:06:35.959Z"
   },
   {
    "duration": 0,
    "start_time": "2022-07-23T19:06:35.961Z"
   },
   {
    "duration": 0,
    "start_time": "2022-07-23T19:06:35.962Z"
   },
   {
    "duration": 0,
    "start_time": "2022-07-23T19:06:35.963Z"
   },
   {
    "duration": 0,
    "start_time": "2022-07-23T19:06:35.965Z"
   },
   {
    "duration": 0,
    "start_time": "2022-07-23T19:06:35.966Z"
   },
   {
    "duration": 0,
    "start_time": "2022-07-23T19:06:35.967Z"
   },
   {
    "duration": 0,
    "start_time": "2022-07-23T19:06:35.969Z"
   },
   {
    "duration": 0,
    "start_time": "2022-07-23T19:06:35.970Z"
   },
   {
    "duration": 0,
    "start_time": "2022-07-23T19:06:35.971Z"
   },
   {
    "duration": 1007,
    "start_time": "2022-07-23T19:09:10.445Z"
   },
   {
    "duration": 46,
    "start_time": "2022-07-23T19:09:11.454Z"
   },
   {
    "duration": 18,
    "start_time": "2022-07-23T19:09:11.502Z"
   },
   {
    "duration": 12,
    "start_time": "2022-07-23T19:09:11.522Z"
   },
   {
    "duration": 119,
    "start_time": "2022-07-23T19:09:11.536Z"
   },
   {
    "duration": 0,
    "start_time": "2022-07-23T19:09:11.657Z"
   },
   {
    "duration": 0,
    "start_time": "2022-07-23T19:09:11.659Z"
   },
   {
    "duration": 0,
    "start_time": "2022-07-23T19:09:11.660Z"
   },
   {
    "duration": 0,
    "start_time": "2022-07-23T19:09:11.662Z"
   },
   {
    "duration": 0,
    "start_time": "2022-07-23T19:09:11.663Z"
   },
   {
    "duration": 0,
    "start_time": "2022-07-23T19:09:11.665Z"
   },
   {
    "duration": 0,
    "start_time": "2022-07-23T19:09:11.666Z"
   },
   {
    "duration": 0,
    "start_time": "2022-07-23T19:09:11.667Z"
   },
   {
    "duration": 0,
    "start_time": "2022-07-23T19:09:11.668Z"
   },
   {
    "duration": 0,
    "start_time": "2022-07-23T19:09:11.670Z"
   },
   {
    "duration": 0,
    "start_time": "2022-07-23T19:09:11.671Z"
   },
   {
    "duration": 0,
    "start_time": "2022-07-23T19:09:11.673Z"
   },
   {
    "duration": 0,
    "start_time": "2022-07-23T19:09:11.674Z"
   },
   {
    "duration": 0,
    "start_time": "2022-07-23T19:09:11.675Z"
   },
   {
    "duration": 3,
    "start_time": "2022-07-23T19:14:03.687Z"
   },
   {
    "duration": 985,
    "start_time": "2022-07-23T19:14:12.043Z"
   },
   {
    "duration": 46,
    "start_time": "2022-07-23T19:14:13.029Z"
   },
   {
    "duration": 13,
    "start_time": "2022-07-23T19:14:13.077Z"
   },
   {
    "duration": 10,
    "start_time": "2022-07-23T19:14:13.091Z"
   },
   {
    "duration": 103,
    "start_time": "2022-07-23T19:14:13.102Z"
   },
   {
    "duration": 0,
    "start_time": "2022-07-23T19:14:13.207Z"
   },
   {
    "duration": 0,
    "start_time": "2022-07-23T19:14:13.208Z"
   },
   {
    "duration": 0,
    "start_time": "2022-07-23T19:14:13.208Z"
   },
   {
    "duration": 0,
    "start_time": "2022-07-23T19:14:13.209Z"
   },
   {
    "duration": 0,
    "start_time": "2022-07-23T19:14:13.210Z"
   },
   {
    "duration": 0,
    "start_time": "2022-07-23T19:14:13.211Z"
   },
   {
    "duration": 0,
    "start_time": "2022-07-23T19:14:13.212Z"
   },
   {
    "duration": 0,
    "start_time": "2022-07-23T19:14:13.213Z"
   },
   {
    "duration": 0,
    "start_time": "2022-07-23T19:14:13.214Z"
   },
   {
    "duration": 0,
    "start_time": "2022-07-23T19:14:13.214Z"
   },
   {
    "duration": 0,
    "start_time": "2022-07-23T19:14:13.215Z"
   },
   {
    "duration": 0,
    "start_time": "2022-07-23T19:14:13.216Z"
   },
   {
    "duration": 0,
    "start_time": "2022-07-23T19:14:13.217Z"
   },
   {
    "duration": 0,
    "start_time": "2022-07-23T19:14:13.218Z"
   },
   {
    "duration": 8,
    "start_time": "2022-07-23T19:18:00.164Z"
   },
   {
    "duration": 1006,
    "start_time": "2022-07-23T19:18:11.944Z"
   },
   {
    "duration": 44,
    "start_time": "2022-07-23T19:18:12.952Z"
   },
   {
    "duration": 12,
    "start_time": "2022-07-23T19:18:12.998Z"
   },
   {
    "duration": 10,
    "start_time": "2022-07-23T19:18:13.011Z"
   },
   {
    "duration": 89,
    "start_time": "2022-07-23T19:18:13.023Z"
   },
   {
    "duration": 0,
    "start_time": "2022-07-23T19:18:13.114Z"
   },
   {
    "duration": 0,
    "start_time": "2022-07-23T19:18:13.116Z"
   },
   {
    "duration": 0,
    "start_time": "2022-07-23T19:18:13.117Z"
   },
   {
    "duration": 0,
    "start_time": "2022-07-23T19:18:13.118Z"
   },
   {
    "duration": 0,
    "start_time": "2022-07-23T19:18:13.119Z"
   },
   {
    "duration": 0,
    "start_time": "2022-07-23T19:18:13.120Z"
   },
   {
    "duration": 0,
    "start_time": "2022-07-23T19:18:13.121Z"
   },
   {
    "duration": 0,
    "start_time": "2022-07-23T19:18:13.122Z"
   },
   {
    "duration": 0,
    "start_time": "2022-07-23T19:18:13.124Z"
   },
   {
    "duration": 0,
    "start_time": "2022-07-23T19:18:13.125Z"
   },
   {
    "duration": 0,
    "start_time": "2022-07-23T19:18:13.126Z"
   },
   {
    "duration": 0,
    "start_time": "2022-07-23T19:18:13.127Z"
   },
   {
    "duration": 0,
    "start_time": "2022-07-23T19:18:13.152Z"
   },
   {
    "duration": 0,
    "start_time": "2022-07-23T19:18:13.153Z"
   },
   {
    "duration": 916,
    "start_time": "2022-07-23T19:23:40.811Z"
   },
   {
    "duration": 44,
    "start_time": "2022-07-23T19:23:41.729Z"
   },
   {
    "duration": 13,
    "start_time": "2022-07-23T19:23:41.775Z"
   },
   {
    "duration": 10,
    "start_time": "2022-07-23T19:23:41.789Z"
   },
   {
    "duration": 100,
    "start_time": "2022-07-23T19:23:41.801Z"
   },
   {
    "duration": 0,
    "start_time": "2022-07-23T19:23:41.902Z"
   },
   {
    "duration": 0,
    "start_time": "2022-07-23T19:23:41.904Z"
   },
   {
    "duration": 0,
    "start_time": "2022-07-23T19:23:41.905Z"
   },
   {
    "duration": 0,
    "start_time": "2022-07-23T19:23:41.906Z"
   },
   {
    "duration": 0,
    "start_time": "2022-07-23T19:23:41.907Z"
   },
   {
    "duration": 0,
    "start_time": "2022-07-23T19:23:41.907Z"
   },
   {
    "duration": 0,
    "start_time": "2022-07-23T19:23:41.908Z"
   },
   {
    "duration": 0,
    "start_time": "2022-07-23T19:23:41.909Z"
   },
   {
    "duration": 0,
    "start_time": "2022-07-23T19:23:41.910Z"
   },
   {
    "duration": 0,
    "start_time": "2022-07-23T19:23:41.911Z"
   },
   {
    "duration": 0,
    "start_time": "2022-07-23T19:23:41.912Z"
   },
   {
    "duration": 0,
    "start_time": "2022-07-23T19:23:41.912Z"
   },
   {
    "duration": 0,
    "start_time": "2022-07-23T19:23:41.913Z"
   },
   {
    "duration": 0,
    "start_time": "2022-07-23T19:23:41.914Z"
   },
   {
    "duration": 997,
    "start_time": "2022-07-23T19:33:36.450Z"
   },
   {
    "duration": 46,
    "start_time": "2022-07-23T19:33:37.449Z"
   },
   {
    "duration": 13,
    "start_time": "2022-07-23T19:33:37.497Z"
   },
   {
    "duration": 10,
    "start_time": "2022-07-23T19:33:37.512Z"
   },
   {
    "duration": 89,
    "start_time": "2022-07-23T19:33:37.523Z"
   },
   {
    "duration": 0,
    "start_time": "2022-07-23T19:33:37.614Z"
   },
   {
    "duration": 1,
    "start_time": "2022-07-23T19:33:37.615Z"
   },
   {
    "duration": 0,
    "start_time": "2022-07-23T19:33:37.616Z"
   },
   {
    "duration": 0,
    "start_time": "2022-07-23T19:33:37.617Z"
   },
   {
    "duration": 0,
    "start_time": "2022-07-23T19:33:37.618Z"
   },
   {
    "duration": 0,
    "start_time": "2022-07-23T19:33:37.619Z"
   },
   {
    "duration": 0,
    "start_time": "2022-07-23T19:33:37.620Z"
   },
   {
    "duration": 0,
    "start_time": "2022-07-23T19:33:37.621Z"
   },
   {
    "duration": 0,
    "start_time": "2022-07-23T19:33:37.622Z"
   },
   {
    "duration": 0,
    "start_time": "2022-07-23T19:33:37.622Z"
   },
   {
    "duration": 0,
    "start_time": "2022-07-23T19:33:37.623Z"
   },
   {
    "duration": 0,
    "start_time": "2022-07-23T19:33:37.624Z"
   },
   {
    "duration": 0,
    "start_time": "2022-07-23T19:33:37.625Z"
   },
   {
    "duration": 0,
    "start_time": "2022-07-23T19:33:37.626Z"
   },
   {
    "duration": 1072,
    "start_time": "2022-07-23T19:33:59.542Z"
   },
   {
    "duration": 46,
    "start_time": "2022-07-23T19:34:00.616Z"
   },
   {
    "duration": 17,
    "start_time": "2022-07-23T19:34:00.669Z"
   },
   {
    "duration": 15,
    "start_time": "2022-07-23T19:34:00.688Z"
   },
   {
    "duration": 157,
    "start_time": "2022-07-23T19:34:00.705Z"
   },
   {
    "duration": 0,
    "start_time": "2022-07-23T19:34:00.864Z"
   },
   {
    "duration": 0,
    "start_time": "2022-07-23T19:34:00.865Z"
   },
   {
    "duration": 0,
    "start_time": "2022-07-23T19:34:00.867Z"
   },
   {
    "duration": 0,
    "start_time": "2022-07-23T19:34:00.868Z"
   },
   {
    "duration": 0,
    "start_time": "2022-07-23T19:34:00.870Z"
   },
   {
    "duration": 0,
    "start_time": "2022-07-23T19:34:00.871Z"
   },
   {
    "duration": 0,
    "start_time": "2022-07-23T19:34:00.872Z"
   },
   {
    "duration": 0,
    "start_time": "2022-07-23T19:34:00.873Z"
   },
   {
    "duration": 0,
    "start_time": "2022-07-23T19:34:00.874Z"
   },
   {
    "duration": 0,
    "start_time": "2022-07-23T19:34:00.876Z"
   },
   {
    "duration": 0,
    "start_time": "2022-07-23T19:34:00.876Z"
   },
   {
    "duration": 0,
    "start_time": "2022-07-23T19:34:00.877Z"
   },
   {
    "duration": 0,
    "start_time": "2022-07-23T19:34:00.878Z"
   },
   {
    "duration": 9,
    "start_time": "2022-07-23T19:34:42.512Z"
   },
   {
    "duration": 7,
    "start_time": "2022-07-23T19:37:56.179Z"
   },
   {
    "duration": 1046,
    "start_time": "2022-07-23T19:38:06.516Z"
   },
   {
    "duration": 0,
    "start_time": "2022-07-23T19:38:07.564Z"
   },
   {
    "duration": 0,
    "start_time": "2022-07-23T19:38:07.565Z"
   },
   {
    "duration": 1,
    "start_time": "2022-07-23T19:38:07.565Z"
   },
   {
    "duration": 0,
    "start_time": "2022-07-23T19:38:07.566Z"
   },
   {
    "duration": 0,
    "start_time": "2022-07-23T19:38:07.567Z"
   },
   {
    "duration": 0,
    "start_time": "2022-07-23T19:38:07.568Z"
   },
   {
    "duration": 0,
    "start_time": "2022-07-23T19:38:07.569Z"
   },
   {
    "duration": 0,
    "start_time": "2022-07-23T19:38:07.570Z"
   },
   {
    "duration": 0,
    "start_time": "2022-07-23T19:38:07.571Z"
   },
   {
    "duration": 0,
    "start_time": "2022-07-23T19:38:07.572Z"
   },
   {
    "duration": 0,
    "start_time": "2022-07-23T19:38:07.573Z"
   },
   {
    "duration": 0,
    "start_time": "2022-07-23T19:38:07.574Z"
   },
   {
    "duration": 0,
    "start_time": "2022-07-23T19:38:07.575Z"
   },
   {
    "duration": 0,
    "start_time": "2022-07-23T19:38:07.576Z"
   },
   {
    "duration": 0,
    "start_time": "2022-07-23T19:38:07.578Z"
   },
   {
    "duration": 0,
    "start_time": "2022-07-23T19:38:07.579Z"
   },
   {
    "duration": 0,
    "start_time": "2022-07-23T19:38:07.580Z"
   },
   {
    "duration": 0,
    "start_time": "2022-07-23T19:38:07.580Z"
   },
   {
    "duration": 3,
    "start_time": "2022-07-23T19:38:32.743Z"
   },
   {
    "duration": 995,
    "start_time": "2022-07-23T19:38:40.773Z"
   },
   {
    "duration": 44,
    "start_time": "2022-07-23T19:38:41.770Z"
   },
   {
    "duration": 13,
    "start_time": "2022-07-23T19:38:41.816Z"
   },
   {
    "duration": 9,
    "start_time": "2022-07-23T19:38:41.831Z"
   },
   {
    "duration": 10,
    "start_time": "2022-07-23T19:38:41.842Z"
   },
   {
    "duration": 2,
    "start_time": "2022-07-23T19:38:41.853Z"
   },
   {
    "duration": 102,
    "start_time": "2022-07-23T19:38:41.857Z"
   },
   {
    "duration": 0,
    "start_time": "2022-07-23T19:38:41.960Z"
   },
   {
    "duration": 0,
    "start_time": "2022-07-23T19:38:41.961Z"
   },
   {
    "duration": 0,
    "start_time": "2022-07-23T19:38:41.962Z"
   },
   {
    "duration": 0,
    "start_time": "2022-07-23T19:38:41.963Z"
   },
   {
    "duration": 0,
    "start_time": "2022-07-23T19:38:41.964Z"
   },
   {
    "duration": 0,
    "start_time": "2022-07-23T19:38:41.965Z"
   },
   {
    "duration": 1,
    "start_time": "2022-07-23T19:38:41.966Z"
   },
   {
    "duration": 0,
    "start_time": "2022-07-23T19:38:41.968Z"
   },
   {
    "duration": 0,
    "start_time": "2022-07-23T19:38:41.968Z"
   },
   {
    "duration": 0,
    "start_time": "2022-07-23T19:38:41.970Z"
   },
   {
    "duration": 0,
    "start_time": "2022-07-23T19:38:41.971Z"
   },
   {
    "duration": 1,
    "start_time": "2022-07-23T19:38:41.971Z"
   },
   {
    "duration": 1055,
    "start_time": "2022-07-23T19:40:15.443Z"
   },
   {
    "duration": 44,
    "start_time": "2022-07-23T19:40:16.500Z"
   },
   {
    "duration": 11,
    "start_time": "2022-07-23T19:40:16.545Z"
   },
   {
    "duration": 9,
    "start_time": "2022-07-23T19:40:16.558Z"
   },
   {
    "duration": 7,
    "start_time": "2022-07-23T19:40:16.568Z"
   },
   {
    "duration": 7,
    "start_time": "2022-07-23T19:40:16.576Z"
   },
   {
    "duration": 37,
    "start_time": "2022-07-23T19:40:16.585Z"
   },
   {
    "duration": 42,
    "start_time": "2022-07-23T19:40:16.623Z"
   },
   {
    "duration": 16,
    "start_time": "2022-07-23T19:40:16.667Z"
   },
   {
    "duration": 2,
    "start_time": "2022-07-23T19:40:16.686Z"
   },
   {
    "duration": 127,
    "start_time": "2022-07-23T19:40:16.689Z"
   },
   {
    "duration": 3012,
    "start_time": "2022-07-23T19:40:16.818Z"
   },
   {
    "duration": 2,
    "start_time": "2022-07-23T19:40:19.831Z"
   },
   {
    "duration": 18,
    "start_time": "2022-07-23T19:40:19.835Z"
   },
   {
    "duration": 20,
    "start_time": "2022-07-23T19:40:19.854Z"
   },
   {
    "duration": 18,
    "start_time": "2022-07-23T19:40:19.876Z"
   },
   {
    "duration": 13,
    "start_time": "2022-07-23T19:40:19.896Z"
   },
   {
    "duration": 135,
    "start_time": "2022-07-23T19:40:19.911Z"
   },
   {
    "duration": 2859,
    "start_time": "2022-07-23T19:40:20.048Z"
   },
   {
    "duration": 258,
    "start_time": "2022-07-23T19:40:51.096Z"
   },
   {
    "duration": 266,
    "start_time": "2022-07-23T19:41:46.194Z"
   },
   {
    "duration": 1099,
    "start_time": "2022-07-23T19:43:26.651Z"
   },
   {
    "duration": 45,
    "start_time": "2022-07-23T19:43:27.752Z"
   },
   {
    "duration": 13,
    "start_time": "2022-07-23T19:43:27.798Z"
   },
   {
    "duration": 12,
    "start_time": "2022-07-23T19:43:27.813Z"
   },
   {
    "duration": 6,
    "start_time": "2022-07-23T19:43:27.826Z"
   },
   {
    "duration": 3,
    "start_time": "2022-07-23T19:43:27.833Z"
   },
   {
    "duration": 48,
    "start_time": "2022-07-23T19:43:27.838Z"
   },
   {
    "duration": 19,
    "start_time": "2022-07-23T19:43:27.887Z"
   },
   {
    "duration": 16,
    "start_time": "2022-07-23T19:43:27.908Z"
   },
   {
    "duration": 288,
    "start_time": "2022-07-23T19:43:27.926Z"
   },
   {
    "duration": 3109,
    "start_time": "2022-07-23T19:43:28.215Z"
   },
   {
    "duration": 10,
    "start_time": "2022-07-23T19:43:31.325Z"
   },
   {
    "duration": 99,
    "start_time": "2022-07-23T19:43:31.336Z"
   },
   {
    "duration": 77,
    "start_time": "2022-07-23T19:46:04.166Z"
   },
   {
    "duration": 12,
    "start_time": "2022-07-23T19:46:19.539Z"
   },
   {
    "duration": 111,
    "start_time": "2022-07-23T19:46:49.403Z"
   },
   {
    "duration": 929,
    "start_time": "2022-07-23T19:48:12.395Z"
   },
   {
    "duration": 44,
    "start_time": "2022-07-23T19:48:13.326Z"
   },
   {
    "duration": 13,
    "start_time": "2022-07-23T19:48:13.372Z"
   },
   {
    "duration": 9,
    "start_time": "2022-07-23T19:48:13.387Z"
   },
   {
    "duration": 5,
    "start_time": "2022-07-23T19:48:13.397Z"
   },
   {
    "duration": 4,
    "start_time": "2022-07-23T19:48:13.403Z"
   },
   {
    "duration": 60,
    "start_time": "2022-07-23T19:48:13.408Z"
   },
   {
    "duration": 18,
    "start_time": "2022-07-23T19:48:13.469Z"
   },
   {
    "duration": 14,
    "start_time": "2022-07-23T19:48:13.489Z"
   },
   {
    "duration": 268,
    "start_time": "2022-07-23T19:48:13.504Z"
   },
   {
    "duration": 2592,
    "start_time": "2022-07-23T19:48:13.773Z"
   },
   {
    "duration": 12,
    "start_time": "2022-07-23T19:48:16.367Z"
   },
   {
    "duration": 114,
    "start_time": "2022-07-23T19:48:16.380Z"
   },
   {
    "duration": 10,
    "start_time": "2022-07-23T19:48:34.925Z"
   },
   {
    "duration": 12,
    "start_time": "2022-07-23T19:49:36.221Z"
   },
   {
    "duration": 11,
    "start_time": "2022-07-23T19:50:14.815Z"
   },
   {
    "duration": 74,
    "start_time": "2022-07-24T17:52:22.416Z"
   },
   {
    "duration": 1072,
    "start_time": "2022-07-24T17:52:30.399Z"
   },
   {
    "duration": 140,
    "start_time": "2022-07-24T17:52:31.474Z"
   },
   {
    "duration": 15,
    "start_time": "2022-07-24T17:52:31.617Z"
   },
   {
    "duration": 13,
    "start_time": "2022-07-24T17:52:31.634Z"
   },
   {
    "duration": 8,
    "start_time": "2022-07-24T17:52:31.649Z"
   },
   {
    "duration": 11,
    "start_time": "2022-07-24T17:52:31.659Z"
   },
   {
    "duration": 42,
    "start_time": "2022-07-24T17:52:31.672Z"
   },
   {
    "duration": 21,
    "start_time": "2022-07-24T17:52:31.716Z"
   },
   {
    "duration": 39,
    "start_time": "2022-07-24T17:52:31.740Z"
   },
   {
    "duration": 285,
    "start_time": "2022-07-24T17:52:31.781Z"
   },
   {
    "duration": 3962,
    "start_time": "2022-07-24T17:52:32.068Z"
   },
   {
    "duration": 9,
    "start_time": "2022-07-24T17:52:36.031Z"
   },
   {
    "duration": 28,
    "start_time": "2022-07-24T17:52:36.042Z"
   },
   {
    "duration": 17,
    "start_time": "2022-07-24T17:52:36.072Z"
   },
   {
    "duration": 45,
    "start_time": "2022-07-24T17:57:50.890Z"
   },
   {
    "duration": 73,
    "start_time": "2022-07-24T17:57:55.518Z"
   },
   {
    "duration": 51,
    "start_time": "2022-07-24T17:58:15.391Z"
   },
   {
    "duration": 59,
    "start_time": "2022-07-24T17:58:19.747Z"
   },
   {
    "duration": 98,
    "start_time": "2022-07-24T17:58:26.200Z"
   },
   {
    "duration": 59,
    "start_time": "2022-07-24T17:58:31.877Z"
   },
   {
    "duration": 12,
    "start_time": "2022-07-24T18:02:56.386Z"
   },
   {
    "duration": 12,
    "start_time": "2022-07-24T18:04:58.284Z"
   },
   {
    "duration": 1206,
    "start_time": "2022-07-24T18:05:07.419Z"
   },
   {
    "duration": 53,
    "start_time": "2022-07-24T18:05:08.627Z"
   },
   {
    "duration": 16,
    "start_time": "2022-07-24T18:05:08.682Z"
   },
   {
    "duration": 20,
    "start_time": "2022-07-24T18:05:08.701Z"
   },
   {
    "duration": 16,
    "start_time": "2022-07-24T18:05:08.723Z"
   },
   {
    "duration": 41,
    "start_time": "2022-07-24T18:05:08.742Z"
   },
   {
    "duration": 49,
    "start_time": "2022-07-24T18:05:08.785Z"
   },
   {
    "duration": 25,
    "start_time": "2022-07-24T18:05:08.836Z"
   },
   {
    "duration": 26,
    "start_time": "2022-07-24T18:05:08.864Z"
   },
   {
    "duration": 330,
    "start_time": "2022-07-24T18:05:08.893Z"
   },
   {
    "duration": 4810,
    "start_time": "2022-07-24T18:05:09.224Z"
   },
   {
    "duration": 13,
    "start_time": "2022-07-24T18:05:14.036Z"
   },
   {
    "duration": 37,
    "start_time": "2022-07-24T18:05:14.050Z"
   },
   {
    "duration": 11,
    "start_time": "2022-07-24T18:05:14.088Z"
   },
   {
    "duration": 100,
    "start_time": "2022-07-24T18:07:50.855Z"
   },
   {
    "duration": 5,
    "start_time": "2022-07-24T18:08:55.915Z"
   },
   {
    "duration": 5,
    "start_time": "2022-07-24T18:09:10.967Z"
   },
   {
    "duration": 4,
    "start_time": "2022-07-24T18:13:41.171Z"
   },
   {
    "duration": 6,
    "start_time": "2022-07-24T18:13:57.826Z"
   },
   {
    "duration": 9,
    "start_time": "2022-07-24T18:14:46.509Z"
   },
   {
    "duration": 9,
    "start_time": "2022-07-24T18:15:04.244Z"
   },
   {
    "duration": 85,
    "start_time": "2022-07-24T18:16:53.589Z"
   },
   {
    "duration": 6,
    "start_time": "2022-07-24T18:17:18.064Z"
   },
   {
    "duration": 6,
    "start_time": "2022-07-24T18:21:09.665Z"
   },
   {
    "duration": 12,
    "start_time": "2022-07-24T18:21:54.772Z"
   },
   {
    "duration": 148,
    "start_time": "2022-07-25T14:31:50.870Z"
   },
   {
    "duration": 95,
    "start_time": "2022-07-25T15:14:46.116Z"
   },
   {
    "duration": 103,
    "start_time": "2022-07-25T16:26:47.872Z"
   },
   {
    "duration": 76,
    "start_time": "2022-07-25T16:28:01.654Z"
   },
   {
    "duration": 92,
    "start_time": "2022-07-25T16:28:17.402Z"
   },
   {
    "duration": 2174,
    "start_time": "2022-07-25T16:29:02.202Z"
   },
   {
    "duration": 77,
    "start_time": "2022-07-25T16:29:04.378Z"
   },
   {
    "duration": 2221,
    "start_time": "2022-07-25T16:29:07.749Z"
   },
   {
    "duration": 45,
    "start_time": "2022-07-25T16:29:09.972Z"
   },
   {
    "duration": 8,
    "start_time": "2022-07-25T16:30:00.938Z"
   },
   {
    "duration": 22,
    "start_time": "2022-07-25T16:30:30.073Z"
   },
   {
    "duration": 18,
    "start_time": "2022-07-25T16:31:03.472Z"
   },
   {
    "duration": 3890,
    "start_time": "2022-07-25T16:31:14.051Z"
   },
   {
    "duration": 46,
    "start_time": "2022-07-25T16:31:17.944Z"
   },
   {
    "duration": 145,
    "start_time": "2022-07-25T16:31:17.992Z"
   },
   {
    "duration": 0,
    "start_time": "2022-07-25T16:31:18.140Z"
   },
   {
    "duration": 0,
    "start_time": "2022-07-25T16:31:18.142Z"
   },
   {
    "duration": 0,
    "start_time": "2022-07-25T16:31:18.144Z"
   },
   {
    "duration": 0,
    "start_time": "2022-07-25T16:31:18.146Z"
   },
   {
    "duration": 0,
    "start_time": "2022-07-25T16:31:18.147Z"
   },
   {
    "duration": 0,
    "start_time": "2022-07-25T16:31:18.150Z"
   },
   {
    "duration": 0,
    "start_time": "2022-07-25T16:31:18.152Z"
   },
   {
    "duration": 0,
    "start_time": "2022-07-25T16:31:18.156Z"
   },
   {
    "duration": 0,
    "start_time": "2022-07-25T16:31:18.158Z"
   },
   {
    "duration": 0,
    "start_time": "2022-07-25T16:31:18.160Z"
   },
   {
    "duration": 0,
    "start_time": "2022-07-25T16:31:18.162Z"
   },
   {
    "duration": 3863,
    "start_time": "2022-07-25T16:31:55.745Z"
   },
   {
    "duration": 44,
    "start_time": "2022-07-25T16:31:59.610Z"
   },
   {
    "duration": 125,
    "start_time": "2022-07-25T16:31:59.655Z"
   },
   {
    "duration": 0,
    "start_time": "2022-07-25T16:31:59.782Z"
   },
   {
    "duration": 0,
    "start_time": "2022-07-25T16:31:59.784Z"
   },
   {
    "duration": 0,
    "start_time": "2022-07-25T16:31:59.785Z"
   },
   {
    "duration": 0,
    "start_time": "2022-07-25T16:31:59.787Z"
   },
   {
    "duration": 0,
    "start_time": "2022-07-25T16:31:59.788Z"
   },
   {
    "duration": 0,
    "start_time": "2022-07-25T16:31:59.789Z"
   },
   {
    "duration": 0,
    "start_time": "2022-07-25T16:31:59.805Z"
   },
   {
    "duration": 0,
    "start_time": "2022-07-25T16:31:59.806Z"
   },
   {
    "duration": 0,
    "start_time": "2022-07-25T16:31:59.807Z"
   },
   {
    "duration": 0,
    "start_time": "2022-07-25T16:31:59.808Z"
   },
   {
    "duration": 0,
    "start_time": "2022-07-25T16:31:59.809Z"
   },
   {
    "duration": 20,
    "start_time": "2022-07-25T16:32:36.695Z"
   },
   {
    "duration": 3705,
    "start_time": "2022-07-25T16:32:45.975Z"
   },
   {
    "duration": 43,
    "start_time": "2022-07-25T16:32:49.682Z"
   },
   {
    "duration": 14,
    "start_time": "2022-07-25T16:32:49.727Z"
   },
   {
    "duration": 13,
    "start_time": "2022-07-25T16:32:49.743Z"
   },
   {
    "duration": 24,
    "start_time": "2022-07-25T16:32:49.758Z"
   },
   {
    "duration": 48,
    "start_time": "2022-07-25T16:32:49.784Z"
   },
   {
    "duration": 17,
    "start_time": "2022-07-25T16:32:49.834Z"
   },
   {
    "duration": 15,
    "start_time": "2022-07-25T16:32:49.853Z"
   },
   {
    "duration": 165,
    "start_time": "2022-07-25T16:32:49.869Z"
   },
   {
    "duration": 134,
    "start_time": "2022-07-25T16:32:50.037Z"
   },
   {
    "duration": 0,
    "start_time": "2022-07-25T16:32:50.172Z"
   },
   {
    "duration": 0,
    "start_time": "2022-07-25T16:32:50.174Z"
   },
   {
    "duration": 0,
    "start_time": "2022-07-25T16:32:50.176Z"
   },
   {
    "duration": 0,
    "start_time": "2022-07-25T16:32:50.177Z"
   },
   {
    "duration": 27,
    "start_time": "2022-07-25T16:34:45.578Z"
   },
   {
    "duration": 4125,
    "start_time": "2022-07-25T16:35:58.279Z"
   },
   {
    "duration": 44,
    "start_time": "2022-07-25T16:36:02.407Z"
   },
   {
    "duration": 18,
    "start_time": "2022-07-25T16:36:02.454Z"
   },
   {
    "duration": 14,
    "start_time": "2022-07-25T16:36:02.475Z"
   },
   {
    "duration": 25,
    "start_time": "2022-07-25T16:36:02.491Z"
   },
   {
    "duration": 44,
    "start_time": "2022-07-25T16:36:02.518Z"
   },
   {
    "duration": 17,
    "start_time": "2022-07-25T16:36:02.564Z"
   },
   {
    "duration": 31,
    "start_time": "2022-07-25T16:36:02.583Z"
   },
   {
    "duration": 154,
    "start_time": "2022-07-25T16:36:02.616Z"
   },
   {
    "duration": 136,
    "start_time": "2022-07-25T16:36:02.773Z"
   },
   {
    "duration": 0,
    "start_time": "2022-07-25T16:36:02.911Z"
   },
   {
    "duration": 0,
    "start_time": "2022-07-25T16:36:02.912Z"
   },
   {
    "duration": 0,
    "start_time": "2022-07-25T16:36:02.913Z"
   },
   {
    "duration": 0,
    "start_time": "2022-07-25T16:36:02.915Z"
   },
   {
    "duration": 11,
    "start_time": "2022-07-25T16:36:47.256Z"
   },
   {
    "duration": 12,
    "start_time": "2022-07-25T16:37:45.536Z"
   },
   {
    "duration": 12,
    "start_time": "2022-07-25T16:37:52.485Z"
   },
   {
    "duration": 3862,
    "start_time": "2022-07-25T16:38:09.623Z"
   },
   {
    "duration": 43,
    "start_time": "2022-07-25T16:38:13.487Z"
   },
   {
    "duration": 13,
    "start_time": "2022-07-25T16:38:13.532Z"
   },
   {
    "duration": 12,
    "start_time": "2022-07-25T16:38:13.548Z"
   },
   {
    "duration": 11,
    "start_time": "2022-07-25T16:38:13.562Z"
   },
   {
    "duration": 52,
    "start_time": "2022-07-25T16:38:13.575Z"
   },
   {
    "duration": 18,
    "start_time": "2022-07-25T16:38:13.629Z"
   },
   {
    "duration": 15,
    "start_time": "2022-07-25T16:38:13.649Z"
   },
   {
    "duration": 186,
    "start_time": "2022-07-25T16:38:13.667Z"
   },
   {
    "duration": 908,
    "start_time": "2022-07-25T16:38:13.856Z"
   },
   {
    "duration": 39,
    "start_time": "2022-07-25T16:38:14.766Z"
   },
   {
    "duration": 105,
    "start_time": "2022-07-25T16:38:14.807Z"
   },
   {
    "duration": 10,
    "start_time": "2022-07-25T16:38:14.913Z"
   },
   {
    "duration": 158,
    "start_time": "2022-07-25T16:38:14.926Z"
   },
   {
    "duration": 228,
    "start_time": "2022-07-25T16:40:12.757Z"
   },
   {
    "duration": 4126,
    "start_time": "2022-07-25T16:40:17.773Z"
   },
   {
    "duration": 2225,
    "start_time": "2022-07-25T16:40:56.958Z"
   },
   {
    "duration": 2214,
    "start_time": "2022-07-25T16:41:04.955Z"
   },
   {
    "duration": 17,
    "start_time": "2022-07-25T16:42:53.799Z"
   },
   {
    "duration": 17,
    "start_time": "2022-07-25T16:43:04.454Z"
   },
   {
    "duration": 12,
    "start_time": "2022-07-25T16:43:07.628Z"
   },
   {
    "duration": 14,
    "start_time": "2022-07-25T16:43:20.605Z"
   },
   {
    "duration": 3968,
    "start_time": "2022-07-25T16:43:30.657Z"
   },
   {
    "duration": 42,
    "start_time": "2022-07-25T16:43:34.627Z"
   },
   {
    "duration": 15,
    "start_time": "2022-07-25T16:43:34.671Z"
   },
   {
    "duration": 12,
    "start_time": "2022-07-25T16:43:34.688Z"
   },
   {
    "duration": 14,
    "start_time": "2022-07-25T16:43:34.704Z"
   },
   {
    "duration": 40,
    "start_time": "2022-07-25T16:43:34.720Z"
   },
   {
    "duration": 15,
    "start_time": "2022-07-25T16:43:34.762Z"
   },
   {
    "duration": 28,
    "start_time": "2022-07-25T16:43:34.778Z"
   },
   {
    "duration": 138,
    "start_time": "2022-07-25T16:43:34.808Z"
   },
   {
    "duration": 131,
    "start_time": "2022-07-25T16:43:34.948Z"
   },
   {
    "duration": 0,
    "start_time": "2022-07-25T16:43:35.081Z"
   },
   {
    "duration": 0,
    "start_time": "2022-07-25T16:43:35.082Z"
   },
   {
    "duration": 0,
    "start_time": "2022-07-25T16:43:35.084Z"
   },
   {
    "duration": 0,
    "start_time": "2022-07-25T16:43:35.084Z"
   },
   {
    "duration": 14,
    "start_time": "2022-07-25T16:45:12.434Z"
   },
   {
    "duration": 12,
    "start_time": "2022-07-25T16:45:13.606Z"
   },
   {
    "duration": 15,
    "start_time": "2022-07-25T16:45:32.833Z"
   },
   {
    "duration": 3883,
    "start_time": "2022-07-25T16:45:41.954Z"
   },
   {
    "duration": 44,
    "start_time": "2022-07-25T16:45:45.840Z"
   },
   {
    "duration": 16,
    "start_time": "2022-07-25T16:45:45.886Z"
   },
   {
    "duration": 25,
    "start_time": "2022-07-25T16:45:45.904Z"
   },
   {
    "duration": 68,
    "start_time": "2022-07-25T16:45:45.931Z"
   },
   {
    "duration": 86,
    "start_time": "2022-07-25T16:45:46.001Z"
   },
   {
    "duration": 46,
    "start_time": "2022-07-25T16:45:46.090Z"
   },
   {
    "duration": 28,
    "start_time": "2022-07-25T16:45:46.139Z"
   },
   {
    "duration": 249,
    "start_time": "2022-07-25T16:45:46.169Z"
   },
   {
    "duration": 628,
    "start_time": "2022-07-25T16:45:46.421Z"
   },
   {
    "duration": 54,
    "start_time": "2022-07-25T16:45:47.051Z"
   },
   {
    "duration": 112,
    "start_time": "2022-07-25T16:45:47.108Z"
   },
   {
    "duration": 30,
    "start_time": "2022-07-25T16:45:47.222Z"
   },
   {
    "duration": 160,
    "start_time": "2022-07-25T16:45:47.254Z"
   },
   {
    "duration": 16,
    "start_time": "2022-07-25T16:46:34.983Z"
   },
   {
    "duration": 20,
    "start_time": "2022-07-25T16:50:02.946Z"
   },
   {
    "duration": 98,
    "start_time": "2022-07-25T16:50:26.014Z"
   },
   {
    "duration": 19,
    "start_time": "2022-07-25T16:50:31.297Z"
   },
   {
    "duration": 12,
    "start_time": "2022-07-25T16:50:35.682Z"
   },
   {
    "duration": 3944,
    "start_time": "2022-07-25T16:50:45.481Z"
   },
   {
    "duration": 44,
    "start_time": "2022-07-25T16:50:49.429Z"
   },
   {
    "duration": 16,
    "start_time": "2022-07-25T16:50:49.475Z"
   },
   {
    "duration": 40,
    "start_time": "2022-07-25T16:50:49.494Z"
   },
   {
    "duration": 10,
    "start_time": "2022-07-25T16:50:49.535Z"
   },
   {
    "duration": 30,
    "start_time": "2022-07-25T16:50:49.547Z"
   },
   {
    "duration": 49,
    "start_time": "2022-07-25T16:50:49.578Z"
   },
   {
    "duration": 18,
    "start_time": "2022-07-25T16:50:49.630Z"
   },
   {
    "duration": 206,
    "start_time": "2022-07-25T16:50:49.650Z"
   },
   {
    "duration": 998,
    "start_time": "2022-07-25T16:50:49.858Z"
   },
   {
    "duration": 55,
    "start_time": "2022-07-25T16:50:50.858Z"
   },
   {
    "duration": 94,
    "start_time": "2022-07-25T16:50:50.920Z"
   },
   {
    "duration": 33,
    "start_time": "2022-07-25T16:50:51.017Z"
   },
   {
    "duration": 162,
    "start_time": "2022-07-25T16:50:51.052Z"
   },
   {
    "duration": 24,
    "start_time": "2022-07-25T16:51:33.188Z"
   },
   {
    "duration": 3,
    "start_time": "2022-07-25T16:53:16.496Z"
   },
   {
    "duration": 27,
    "start_time": "2022-07-25T16:53:17.211Z"
   },
   {
    "duration": 3425,
    "start_time": "2022-07-25T16:53:26.960Z"
   },
   {
    "duration": 42,
    "start_time": "2022-07-25T16:53:30.387Z"
   },
   {
    "duration": 2,
    "start_time": "2022-07-25T16:53:30.431Z"
   },
   {
    "duration": 47,
    "start_time": "2022-07-25T16:53:30.436Z"
   },
   {
    "duration": 8,
    "start_time": "2022-07-25T16:53:30.486Z"
   },
   {
    "duration": 58,
    "start_time": "2022-07-25T16:53:30.496Z"
   },
   {
    "duration": 21,
    "start_time": "2022-07-25T16:53:30.556Z"
   },
   {
    "duration": 15,
    "start_time": "2022-07-25T16:53:30.578Z"
   },
   {
    "duration": 256,
    "start_time": "2022-07-25T16:53:30.595Z"
   },
   {
    "duration": 495,
    "start_time": "2022-07-25T16:53:30.853Z"
   },
   {
    "duration": 54,
    "start_time": "2022-07-25T16:53:31.351Z"
   },
   {
    "duration": 105,
    "start_time": "2022-07-25T16:53:31.407Z"
   },
   {
    "duration": 5,
    "start_time": "2022-07-25T16:53:31.514Z"
   },
   {
    "duration": 142,
    "start_time": "2022-07-25T16:53:31.521Z"
   },
   {
    "duration": 19,
    "start_time": "2022-07-25T16:53:50.361Z"
   },
   {
    "duration": 16,
    "start_time": "2022-07-25T16:53:56.873Z"
   },
   {
    "duration": 273,
    "start_time": "2022-07-25T16:55:14.224Z"
   },
   {
    "duration": 17,
    "start_time": "2022-07-25T16:55:31.773Z"
   },
   {
    "duration": 290,
    "start_time": "2022-07-25T16:55:58.831Z"
   },
   {
    "duration": 313,
    "start_time": "2022-07-25T16:56:22.135Z"
   },
   {
    "duration": 16,
    "start_time": "2022-07-25T16:56:51.506Z"
   },
   {
    "duration": 55,
    "start_time": "2022-07-25T16:57:09.552Z"
   },
   {
    "duration": 55,
    "start_time": "2022-07-25T16:57:20.625Z"
   },
   {
    "duration": 18,
    "start_time": "2022-07-25T16:57:29.579Z"
   },
   {
    "duration": 3748,
    "start_time": "2022-07-25T16:58:58.780Z"
   },
   {
    "duration": 43,
    "start_time": "2022-07-25T16:59:02.530Z"
   },
   {
    "duration": 2,
    "start_time": "2022-07-25T16:59:02.575Z"
   },
   {
    "duration": 28,
    "start_time": "2022-07-25T16:59:02.579Z"
   },
   {
    "duration": 9,
    "start_time": "2022-07-25T16:59:02.610Z"
   },
   {
    "duration": 38,
    "start_time": "2022-07-25T16:59:02.621Z"
   },
   {
    "duration": 48,
    "start_time": "2022-07-25T16:59:02.661Z"
   },
   {
    "duration": 19,
    "start_time": "2022-07-25T16:59:02.710Z"
   },
   {
    "duration": 337,
    "start_time": "2022-07-25T16:59:02.731Z"
   },
   {
    "duration": 535,
    "start_time": "2022-07-25T16:59:03.070Z"
   },
   {
    "duration": 15,
    "start_time": "2022-07-25T16:59:03.607Z"
   },
   {
    "duration": 99,
    "start_time": "2022-07-25T16:59:03.707Z"
   },
   {
    "duration": 15,
    "start_time": "2022-07-25T16:59:03.807Z"
   },
   {
    "duration": 62,
    "start_time": "2022-07-25T16:59:03.825Z"
   },
   {
    "duration": 128,
    "start_time": "2022-07-25T16:59:03.889Z"
   },
   {
    "duration": 4086,
    "start_time": "2022-07-25T16:59:44.801Z"
   },
   {
    "duration": 44,
    "start_time": "2022-07-25T16:59:48.890Z"
   },
   {
    "duration": 15,
    "start_time": "2022-07-25T16:59:48.937Z"
   },
   {
    "duration": 22,
    "start_time": "2022-07-25T16:59:48.955Z"
   },
   {
    "duration": 43,
    "start_time": "2022-07-25T16:59:48.979Z"
   },
   {
    "duration": 20,
    "start_time": "2022-07-25T16:59:49.025Z"
   },
   {
    "duration": 18,
    "start_time": "2022-07-25T16:59:49.048Z"
   },
   {
    "duration": 356,
    "start_time": "2022-07-25T16:59:49.068Z"
   },
   {
    "duration": 569,
    "start_time": "2022-07-25T16:59:49.426Z"
   },
   {
    "duration": 19,
    "start_time": "2022-07-25T16:59:49.998Z"
   },
   {
    "duration": 188,
    "start_time": "2022-07-25T16:59:50.020Z"
   },
   {
    "duration": 12,
    "start_time": "2022-07-25T16:59:50.210Z"
   },
   {
    "duration": 58,
    "start_time": "2022-07-25T16:59:50.224Z"
   },
   {
    "duration": 139,
    "start_time": "2022-07-25T16:59:50.284Z"
   },
   {
    "duration": 12,
    "start_time": "2022-07-25T17:00:40.164Z"
   },
   {
    "duration": 14,
    "start_time": "2022-07-25T17:02:07.554Z"
   },
   {
    "duration": 3,
    "start_time": "2022-07-25T17:03:12.158Z"
   },
   {
    "duration": 6,
    "start_time": "2022-07-25T17:03:37.958Z"
   },
   {
    "duration": 7,
    "start_time": "2022-07-25T17:03:40.586Z"
   },
   {
    "duration": 3828,
    "start_time": "2022-07-25T17:03:54.406Z"
   },
   {
    "duration": 45,
    "start_time": "2022-07-25T17:03:58.236Z"
   },
   {
    "duration": 16,
    "start_time": "2022-07-25T17:03:58.282Z"
   },
   {
    "duration": 10,
    "start_time": "2022-07-25T17:03:58.303Z"
   },
   {
    "duration": 45,
    "start_time": "2022-07-25T17:03:58.315Z"
   },
   {
    "duration": 43,
    "start_time": "2022-07-25T17:03:58.362Z"
   },
   {
    "duration": 20,
    "start_time": "2022-07-25T17:03:58.407Z"
   },
   {
    "duration": 331,
    "start_time": "2022-07-25T17:03:58.429Z"
   },
   {
    "duration": 554,
    "start_time": "2022-07-25T17:03:58.762Z"
   },
   {
    "duration": 12,
    "start_time": "2022-07-25T17:03:59.319Z"
   },
   {
    "duration": 103,
    "start_time": "2022-07-25T17:03:59.405Z"
   },
   {
    "duration": 23,
    "start_time": "2022-07-25T17:03:59.510Z"
   },
   {
    "duration": 7,
    "start_time": "2022-07-25T17:03:59.535Z"
   },
   {
    "duration": 125,
    "start_time": "2022-07-25T17:03:59.544Z"
   },
   {
    "duration": 7,
    "start_time": "2022-07-25T17:05:10.961Z"
   },
   {
    "duration": 6,
    "start_time": "2022-07-25T17:05:11.801Z"
   },
   {
    "duration": 3,
    "start_time": "2022-07-25T17:05:13.944Z"
   },
   {
    "duration": 78,
    "start_time": "2022-07-25T17:06:03.333Z"
   },
   {
    "duration": 115,
    "start_time": "2022-07-25T17:06:23.136Z"
   },
   {
    "duration": 55,
    "start_time": "2022-07-25T17:06:37.663Z"
   },
   {
    "duration": 53,
    "start_time": "2022-07-25T17:06:59.067Z"
   },
   {
    "duration": 19,
    "start_time": "2022-07-25T17:07:04.045Z"
   },
   {
    "duration": 51,
    "start_time": "2022-07-25T17:07:45.667Z"
   },
   {
    "duration": 12,
    "start_time": "2022-07-25T17:07:50.465Z"
   },
   {
    "duration": 2077,
    "start_time": "2022-07-25T17:08:32.600Z"
   },
   {
    "duration": 3646,
    "start_time": "2022-07-25T17:08:41.905Z"
   },
   {
    "duration": 42,
    "start_time": "2022-07-25T17:08:45.554Z"
   },
   {
    "duration": 15,
    "start_time": "2022-07-25T17:08:45.597Z"
   },
   {
    "duration": 10,
    "start_time": "2022-07-25T17:08:45.614Z"
   },
   {
    "duration": 40,
    "start_time": "2022-07-25T17:08:45.625Z"
   },
   {
    "duration": 44,
    "start_time": "2022-07-25T17:08:45.666Z"
   },
   {
    "duration": 15,
    "start_time": "2022-07-25T17:08:45.712Z"
   },
   {
    "duration": 299,
    "start_time": "2022-07-25T17:08:45.729Z"
   },
   {
    "duration": 598,
    "start_time": "2022-07-25T17:08:46.029Z"
   },
   {
    "duration": 14,
    "start_time": "2022-07-25T17:08:46.631Z"
   },
   {
    "duration": 110,
    "start_time": "2022-07-25T17:08:46.705Z"
   },
   {
    "duration": 7,
    "start_time": "2022-07-25T17:08:46.818Z"
   },
   {
    "duration": 62,
    "start_time": "2022-07-25T17:08:46.827Z"
   },
   {
    "duration": 16,
    "start_time": "2022-07-25T17:08:46.891Z"
   },
   {
    "duration": 49,
    "start_time": "2022-07-25T17:09:47.363Z"
   },
   {
    "duration": 3721,
    "start_time": "2022-07-25T17:14:15.996Z"
   },
   {
    "duration": 44,
    "start_time": "2022-07-25T17:14:19.719Z"
   },
   {
    "duration": 15,
    "start_time": "2022-07-25T17:14:19.765Z"
   },
   {
    "duration": 10,
    "start_time": "2022-07-25T17:14:19.783Z"
   },
   {
    "duration": 50,
    "start_time": "2022-07-25T17:14:19.795Z"
   },
   {
    "duration": 19,
    "start_time": "2022-07-25T17:14:19.847Z"
   },
   {
    "duration": 45,
    "start_time": "2022-07-25T17:14:19.868Z"
   },
   {
    "duration": 346,
    "start_time": "2022-07-25T17:14:19.915Z"
   },
   {
    "duration": 567,
    "start_time": "2022-07-25T17:14:20.263Z"
   },
   {
    "duration": 6,
    "start_time": "2022-07-25T17:14:20.833Z"
   },
   {
    "duration": 33,
    "start_time": "2022-07-25T17:14:20.841Z"
   },
   {
    "duration": 101,
    "start_time": "2022-07-25T17:14:20.876Z"
   },
   {
    "duration": 7,
    "start_time": "2022-07-25T17:14:20.979Z"
   },
   {
    "duration": 3638,
    "start_time": "2022-07-25T17:16:47.271Z"
   },
   {
    "duration": 40,
    "start_time": "2022-07-25T17:16:50.912Z"
   },
   {
    "duration": 12,
    "start_time": "2022-07-25T17:16:50.954Z"
   },
   {
    "duration": 9,
    "start_time": "2022-07-25T17:16:50.968Z"
   },
   {
    "duration": 41,
    "start_time": "2022-07-25T17:16:50.979Z"
   },
   {
    "duration": 17,
    "start_time": "2022-07-25T17:16:51.022Z"
   },
   {
    "duration": 15,
    "start_time": "2022-07-25T17:16:51.041Z"
   },
   {
    "duration": 306,
    "start_time": "2022-07-25T17:16:51.058Z"
   },
   {
    "duration": 556,
    "start_time": "2022-07-25T17:16:51.366Z"
   },
   {
    "duration": 5,
    "start_time": "2022-07-25T17:16:51.924Z"
   },
   {
    "duration": 6,
    "start_time": "2022-07-25T17:16:51.930Z"
   },
   {
    "duration": 72,
    "start_time": "2022-07-25T17:16:51.938Z"
   },
   {
    "duration": 6,
    "start_time": "2022-07-25T17:16:52.011Z"
   },
   {
    "duration": 21,
    "start_time": "2022-07-25T17:17:41.649Z"
   },
   {
    "duration": 18,
    "start_time": "2022-07-25T17:17:50.423Z"
   },
   {
    "duration": 3685,
    "start_time": "2022-07-25T17:19:23.138Z"
   },
   {
    "duration": 40,
    "start_time": "2022-07-25T17:19:26.825Z"
   },
   {
    "duration": 14,
    "start_time": "2022-07-25T17:19:26.867Z"
   },
   {
    "duration": 11,
    "start_time": "2022-07-25T17:19:26.883Z"
   },
   {
    "duration": 44,
    "start_time": "2022-07-25T17:19:26.896Z"
   },
   {
    "duration": 22,
    "start_time": "2022-07-25T17:19:26.942Z"
   },
   {
    "duration": 39,
    "start_time": "2022-07-25T17:19:26.966Z"
   },
   {
    "duration": 303,
    "start_time": "2022-07-25T17:19:27.007Z"
   },
   {
    "duration": 541,
    "start_time": "2022-07-25T17:19:27.312Z"
   },
   {
    "duration": 6,
    "start_time": "2022-07-25T17:19:27.855Z"
   },
   {
    "duration": 8,
    "start_time": "2022-07-25T17:19:27.862Z"
   },
   {
    "duration": 65,
    "start_time": "2022-07-25T17:19:27.871Z"
   },
   {
    "duration": 7,
    "start_time": "2022-07-25T17:19:27.937Z"
   },
   {
    "duration": 3466,
    "start_time": "2022-07-25T17:19:41.511Z"
   },
   {
    "duration": 42,
    "start_time": "2022-07-25T17:19:44.979Z"
   },
   {
    "duration": 14,
    "start_time": "2022-07-25T17:19:45.023Z"
   },
   {
    "duration": 13,
    "start_time": "2022-07-25T17:19:45.038Z"
   },
   {
    "duration": 57,
    "start_time": "2022-07-25T17:19:45.053Z"
   },
   {
    "duration": 19,
    "start_time": "2022-07-25T17:19:45.112Z"
   },
   {
    "duration": 16,
    "start_time": "2022-07-25T17:19:45.132Z"
   },
   {
    "duration": 307,
    "start_time": "2022-07-25T17:19:45.149Z"
   },
   {
    "duration": 572,
    "start_time": "2022-07-25T17:19:45.458Z"
   },
   {
    "duration": 6,
    "start_time": "2022-07-25T17:19:46.033Z"
   },
   {
    "duration": 7,
    "start_time": "2022-07-25T17:19:46.040Z"
   },
   {
    "duration": 67,
    "start_time": "2022-07-25T17:19:46.049Z"
   },
   {
    "duration": 7,
    "start_time": "2022-07-25T17:19:46.118Z"
   },
   {
    "duration": 3695,
    "start_time": "2022-07-25T17:20:08.846Z"
   },
   {
    "duration": 41,
    "start_time": "2022-07-25T17:20:12.544Z"
   },
   {
    "duration": 16,
    "start_time": "2022-07-25T17:20:12.587Z"
   },
   {
    "duration": 9,
    "start_time": "2022-07-25T17:20:12.606Z"
   },
   {
    "duration": 36,
    "start_time": "2022-07-25T17:20:12.617Z"
   },
   {
    "duration": 19,
    "start_time": "2022-07-25T17:20:12.655Z"
   },
   {
    "duration": 41,
    "start_time": "2022-07-25T17:20:12.676Z"
   },
   {
    "duration": 294,
    "start_time": "2022-07-25T17:20:12.719Z"
   },
   {
    "duration": 512,
    "start_time": "2022-07-25T17:20:13.015Z"
   },
   {
    "duration": 6,
    "start_time": "2022-07-25T17:20:13.529Z"
   },
   {
    "duration": 10,
    "start_time": "2022-07-25T17:20:13.537Z"
   },
   {
    "duration": 70,
    "start_time": "2022-07-25T17:20:13.548Z"
   },
   {
    "duration": 6,
    "start_time": "2022-07-25T17:20:13.620Z"
   },
   {
    "duration": 3678,
    "start_time": "2022-07-25T17:20:38.187Z"
   },
   {
    "duration": 41,
    "start_time": "2022-07-25T17:20:41.867Z"
   },
   {
    "duration": 13,
    "start_time": "2022-07-25T17:20:41.909Z"
   },
   {
    "duration": 10,
    "start_time": "2022-07-25T17:20:41.923Z"
   },
   {
    "duration": 44,
    "start_time": "2022-07-25T17:20:41.935Z"
   },
   {
    "duration": 37,
    "start_time": "2022-07-25T17:20:41.981Z"
   },
   {
    "duration": 16,
    "start_time": "2022-07-25T17:20:42.020Z"
   },
   {
    "duration": 310,
    "start_time": "2022-07-25T17:20:42.038Z"
   },
   {
    "duration": 560,
    "start_time": "2022-07-25T17:20:42.350Z"
   },
   {
    "duration": 5,
    "start_time": "2022-07-25T17:20:42.913Z"
   },
   {
    "duration": 6,
    "start_time": "2022-07-25T17:20:42.920Z"
   },
   {
    "duration": 52,
    "start_time": "2022-07-25T17:20:42.927Z"
   },
   {
    "duration": 26,
    "start_time": "2022-07-25T17:20:42.981Z"
   },
   {
    "duration": 19,
    "start_time": "2022-07-25T17:21:17.694Z"
   },
   {
    "duration": 16,
    "start_time": "2022-07-25T17:21:38.765Z"
   },
   {
    "duration": 253,
    "start_time": "2022-07-25T17:21:57.064Z"
   },
   {
    "duration": 501,
    "start_time": "2022-07-25T17:22:02.749Z"
   },
   {
    "duration": 5,
    "start_time": "2022-07-25T17:22:08.014Z"
   },
   {
    "duration": 6,
    "start_time": "2022-07-25T17:22:08.781Z"
   },
   {
    "duration": 47,
    "start_time": "2022-07-25T17:22:09.712Z"
   },
   {
    "duration": 6,
    "start_time": "2022-07-25T17:22:21.571Z"
   },
   {
    "duration": 6,
    "start_time": "2022-07-25T17:22:22.459Z"
   },
   {
    "duration": 47,
    "start_time": "2022-07-25T17:22:23.304Z"
   },
   {
    "duration": 3327,
    "start_time": "2022-07-25T17:22:37.251Z"
   },
   {
    "duration": 42,
    "start_time": "2022-07-25T17:22:40.580Z"
   },
   {
    "duration": 13,
    "start_time": "2022-07-25T17:22:40.623Z"
   },
   {
    "duration": 9,
    "start_time": "2022-07-25T17:22:40.638Z"
   },
   {
    "duration": 33,
    "start_time": "2022-07-25T17:22:40.649Z"
   },
   {
    "duration": 35,
    "start_time": "2022-07-25T17:22:40.683Z"
   },
   {
    "duration": 14,
    "start_time": "2022-07-25T17:22:40.720Z"
   },
   {
    "duration": 287,
    "start_time": "2022-07-25T17:22:40.736Z"
   },
   {
    "duration": 483,
    "start_time": "2022-07-25T17:22:41.024Z"
   },
   {
    "duration": 5,
    "start_time": "2022-07-25T17:22:41.510Z"
   },
   {
    "duration": 9,
    "start_time": "2022-07-25T17:22:41.516Z"
   },
   {
    "duration": 52,
    "start_time": "2022-07-25T17:22:41.527Z"
   },
   {
    "duration": 25,
    "start_time": "2022-07-25T17:22:41.581Z"
   },
   {
    "duration": 3593,
    "start_time": "2022-07-25T17:24:05.243Z"
   },
   {
    "duration": 43,
    "start_time": "2022-07-25T17:24:08.838Z"
   },
   {
    "duration": 16,
    "start_time": "2022-07-25T17:24:08.883Z"
   },
   {
    "duration": 9,
    "start_time": "2022-07-25T17:24:08.901Z"
   },
   {
    "duration": 46,
    "start_time": "2022-07-25T17:24:08.912Z"
   },
   {
    "duration": 20,
    "start_time": "2022-07-25T17:24:08.960Z"
   },
   {
    "duration": 34,
    "start_time": "2022-07-25T17:24:08.982Z"
   },
   {
    "duration": 313,
    "start_time": "2022-07-25T17:24:09.018Z"
   },
   {
    "duration": 539,
    "start_time": "2022-07-25T17:24:09.333Z"
   },
   {
    "duration": 6,
    "start_time": "2022-07-25T17:24:09.874Z"
   },
   {
    "duration": 6,
    "start_time": "2022-07-25T17:24:09.882Z"
   },
   {
    "duration": 64,
    "start_time": "2022-07-25T17:24:09.890Z"
   },
   {
    "duration": 7,
    "start_time": "2022-07-25T17:24:09.955Z"
   },
   {
    "duration": 124,
    "start_time": "2022-07-26T15:40:08.482Z"
   }
  ],
  "kernelspec": {
   "display_name": "Python 3 (ipykernel)",
   "language": "python",
   "name": "python3"
  },
  "language_info": {
   "codemirror_mode": {
    "name": "ipython",
    "version": 3
   },
   "file_extension": ".py",
   "mimetype": "text/x-python",
   "name": "python",
   "nbconvert_exporter": "python",
   "pygments_lexer": "ipython3",
   "version": "3.9.12"
  },
  "toc": {
   "base_numbering": 1,
   "nav_menu": {},
   "number_sections": true,
   "sideBar": true,
   "skip_h1_title": true,
   "title_cell": "Table of Contents",
   "title_sidebar": "Contents",
   "toc_cell": false,
   "toc_position": {},
   "toc_section_display": true,
   "toc_window_display": false
  }
 },
 "nbformat": 4,
 "nbformat_minor": 2
}
