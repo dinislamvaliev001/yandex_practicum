{
 "cells": [
  {
   "cell_type": "markdown",
   "metadata": {},
   "source": [
    "### Описание проекта\n",
    "\n",
    "Вы аналитик компании «Мегалайн» — федерального оператора сотовой связи. Клиентам предлагают два тарифных плана: «Смарт» и «Ультра». Чтобы скорректировать рекламный бюджет, коммерческий департамент хочет понять, какой тариф приносит больше денег.\n",
    "\n",
    "Вам предстоит сделать предварительный анализ тарифов на небольшой выборке клиентов. В вашем распоряжении данные 500 пользователей «Мегалайна»: кто они, откуда, каким тарифом пользуются, сколько звонков и сообщений каждый отправил за 2018 год. Нужно проанализировать поведение клиентов и сделать вывод — какой тариф лучше."
   ]
  },
  {
   "cell_type": "code",
   "execution_count": 84,
   "metadata": {},
   "outputs": [],
   "source": [
    "import random\n",
    "import numpy as np\n",
    "from matplotlib import pyplot as plt\n",
    "from math import factorial\n",
    "from scipy import stats as st\n",
    "import math as mt\n",
    "import pandas as pd"
   ]
  },
  {
   "cell_type": "markdown",
   "metadata": {},
   "source": [
    "## Откроем файл с данными и изучим общую информацию"
   ]
  },
  {
   "cell_type": "markdown",
   "metadata": {},
   "source": [
    "# Прочитаем данные из файлов "
   ]
  },
  {
   "cell_type": "code",
   "execution_count": 85,
   "metadata": {},
   "outputs": [],
   "source": [
    "calls = pd.read_csv('/datasets/calls.csv')\n",
    "internet = pd.read_csv('/datasets/internet.csv', index_col=0)\n",
    "messages = pd.read_csv('/datasets/messages.csv')\n",
    "tariffs = pd.read_csv('/datasets/tariffs.csv')\n",
    "users = pd.read_csv('/datasets/users.csv')"
   ]
  },
  {
   "cell_type": "markdown",
   "metadata": {},
   "source": [
    "# Выведем первые 10 строк и получим информацию о данных"
   ]
  },
  {
   "cell_type": "code",
   "execution_count": 86,
   "metadata": {},
   "outputs": [
    {
     "data": {
      "text/html": [
       "<div>\n",
       "<style scoped>\n",
       "    .dataframe tbody tr th:only-of-type {\n",
       "        vertical-align: middle;\n",
       "    }\n",
       "\n",
       "    .dataframe tbody tr th {\n",
       "        vertical-align: top;\n",
       "    }\n",
       "\n",
       "    .dataframe thead th {\n",
       "        text-align: right;\n",
       "    }\n",
       "</style>\n",
       "<table border=\"1\" class=\"dataframe\">\n",
       "  <thead>\n",
       "    <tr style=\"text-align: right;\">\n",
       "      <th></th>\n",
       "      <th>id</th>\n",
       "      <th>call_date</th>\n",
       "      <th>duration</th>\n",
       "      <th>user_id</th>\n",
       "    </tr>\n",
       "  </thead>\n",
       "  <tbody>\n",
       "    <tr>\n",
       "      <th>0</th>\n",
       "      <td>1000_0</td>\n",
       "      <td>2018-07-25</td>\n",
       "      <td>0.00</td>\n",
       "      <td>1000</td>\n",
       "    </tr>\n",
       "    <tr>\n",
       "      <th>1</th>\n",
       "      <td>1000_1</td>\n",
       "      <td>2018-08-17</td>\n",
       "      <td>0.00</td>\n",
       "      <td>1000</td>\n",
       "    </tr>\n",
       "    <tr>\n",
       "      <th>2</th>\n",
       "      <td>1000_2</td>\n",
       "      <td>2018-06-11</td>\n",
       "      <td>2.85</td>\n",
       "      <td>1000</td>\n",
       "    </tr>\n",
       "    <tr>\n",
       "      <th>3</th>\n",
       "      <td>1000_3</td>\n",
       "      <td>2018-09-21</td>\n",
       "      <td>13.80</td>\n",
       "      <td>1000</td>\n",
       "    </tr>\n",
       "    <tr>\n",
       "      <th>4</th>\n",
       "      <td>1000_4</td>\n",
       "      <td>2018-12-15</td>\n",
       "      <td>5.18</td>\n",
       "      <td>1000</td>\n",
       "    </tr>\n",
       "    <tr>\n",
       "      <th>5</th>\n",
       "      <td>1000_5</td>\n",
       "      <td>2018-11-02</td>\n",
       "      <td>0.00</td>\n",
       "      <td>1000</td>\n",
       "    </tr>\n",
       "    <tr>\n",
       "      <th>6</th>\n",
       "      <td>1000_6</td>\n",
       "      <td>2018-10-18</td>\n",
       "      <td>0.00</td>\n",
       "      <td>1000</td>\n",
       "    </tr>\n",
       "    <tr>\n",
       "      <th>7</th>\n",
       "      <td>1000_7</td>\n",
       "      <td>2018-08-22</td>\n",
       "      <td>18.31</td>\n",
       "      <td>1000</td>\n",
       "    </tr>\n",
       "    <tr>\n",
       "      <th>8</th>\n",
       "      <td>1000_8</td>\n",
       "      <td>2018-09-15</td>\n",
       "      <td>18.44</td>\n",
       "      <td>1000</td>\n",
       "    </tr>\n",
       "    <tr>\n",
       "      <th>9</th>\n",
       "      <td>1000_9</td>\n",
       "      <td>2018-08-15</td>\n",
       "      <td>0.00</td>\n",
       "      <td>1000</td>\n",
       "    </tr>\n",
       "  </tbody>\n",
       "</table>\n",
       "</div>"
      ],
      "text/plain": [
       "       id   call_date  duration  user_id\n",
       "0  1000_0  2018-07-25      0.00     1000\n",
       "1  1000_1  2018-08-17      0.00     1000\n",
       "2  1000_2  2018-06-11      2.85     1000\n",
       "3  1000_3  2018-09-21     13.80     1000\n",
       "4  1000_4  2018-12-15      5.18     1000\n",
       "5  1000_5  2018-11-02      0.00     1000\n",
       "6  1000_6  2018-10-18      0.00     1000\n",
       "7  1000_7  2018-08-22     18.31     1000\n",
       "8  1000_8  2018-09-15     18.44     1000\n",
       "9  1000_9  2018-08-15      0.00     1000"
      ]
     },
     "metadata": {},
     "output_type": "display_data"
    },
    {
     "data": {
      "text/html": [
       "<div>\n",
       "<style scoped>\n",
       "    .dataframe tbody tr th:only-of-type {\n",
       "        vertical-align: middle;\n",
       "    }\n",
       "\n",
       "    .dataframe tbody tr th {\n",
       "        vertical-align: top;\n",
       "    }\n",
       "\n",
       "    .dataframe thead th {\n",
       "        text-align: right;\n",
       "    }\n",
       "</style>\n",
       "<table border=\"1\" class=\"dataframe\">\n",
       "  <thead>\n",
       "    <tr style=\"text-align: right;\">\n",
       "      <th></th>\n",
       "      <th>user_id</th>\n",
       "      <th>age</th>\n",
       "      <th>churn_date</th>\n",
       "      <th>city</th>\n",
       "      <th>first_name</th>\n",
       "      <th>last_name</th>\n",
       "      <th>reg_date</th>\n",
       "      <th>tariff</th>\n",
       "    </tr>\n",
       "  </thead>\n",
       "  <tbody>\n",
       "    <tr>\n",
       "      <th>0</th>\n",
       "      <td>1000</td>\n",
       "      <td>52</td>\n",
       "      <td>NaN</td>\n",
       "      <td>Краснодар</td>\n",
       "      <td>Рафаил</td>\n",
       "      <td>Верещагин</td>\n",
       "      <td>2018-05-25</td>\n",
       "      <td>ultra</td>\n",
       "    </tr>\n",
       "    <tr>\n",
       "      <th>1</th>\n",
       "      <td>1001</td>\n",
       "      <td>41</td>\n",
       "      <td>NaN</td>\n",
       "      <td>Москва</td>\n",
       "      <td>Иван</td>\n",
       "      <td>Ежов</td>\n",
       "      <td>2018-11-01</td>\n",
       "      <td>smart</td>\n",
       "    </tr>\n",
       "    <tr>\n",
       "      <th>2</th>\n",
       "      <td>1002</td>\n",
       "      <td>59</td>\n",
       "      <td>NaN</td>\n",
       "      <td>Стерлитамак</td>\n",
       "      <td>Евгений</td>\n",
       "      <td>Абрамович</td>\n",
       "      <td>2018-06-17</td>\n",
       "      <td>smart</td>\n",
       "    </tr>\n",
       "    <tr>\n",
       "      <th>3</th>\n",
       "      <td>1003</td>\n",
       "      <td>23</td>\n",
       "      <td>NaN</td>\n",
       "      <td>Москва</td>\n",
       "      <td>Белла</td>\n",
       "      <td>Белякова</td>\n",
       "      <td>2018-08-17</td>\n",
       "      <td>ultra</td>\n",
       "    </tr>\n",
       "    <tr>\n",
       "      <th>4</th>\n",
       "      <td>1004</td>\n",
       "      <td>68</td>\n",
       "      <td>NaN</td>\n",
       "      <td>Новокузнецк</td>\n",
       "      <td>Татьяна</td>\n",
       "      <td>Авдеенко</td>\n",
       "      <td>2018-05-14</td>\n",
       "      <td>ultra</td>\n",
       "    </tr>\n",
       "    <tr>\n",
       "      <th>5</th>\n",
       "      <td>1005</td>\n",
       "      <td>67</td>\n",
       "      <td>NaN</td>\n",
       "      <td>Набережные Челны</td>\n",
       "      <td>Афанасий</td>\n",
       "      <td>Горлов</td>\n",
       "      <td>2018-01-25</td>\n",
       "      <td>smart</td>\n",
       "    </tr>\n",
       "    <tr>\n",
       "      <th>6</th>\n",
       "      <td>1006</td>\n",
       "      <td>21</td>\n",
       "      <td>NaN</td>\n",
       "      <td>Ульяновск</td>\n",
       "      <td>Леонид</td>\n",
       "      <td>Ермолаев</td>\n",
       "      <td>2018-02-26</td>\n",
       "      <td>smart</td>\n",
       "    </tr>\n",
       "    <tr>\n",
       "      <th>7</th>\n",
       "      <td>1007</td>\n",
       "      <td>65</td>\n",
       "      <td>NaN</td>\n",
       "      <td>Москва</td>\n",
       "      <td>Юна</td>\n",
       "      <td>Березина</td>\n",
       "      <td>2018-04-19</td>\n",
       "      <td>smart</td>\n",
       "    </tr>\n",
       "    <tr>\n",
       "      <th>8</th>\n",
       "      <td>1008</td>\n",
       "      <td>63</td>\n",
       "      <td>NaN</td>\n",
       "      <td>Челябинск</td>\n",
       "      <td>Рустэм</td>\n",
       "      <td>Пономарёв</td>\n",
       "      <td>2018-12-19</td>\n",
       "      <td>smart</td>\n",
       "    </tr>\n",
       "    <tr>\n",
       "      <th>9</th>\n",
       "      <td>1009</td>\n",
       "      <td>24</td>\n",
       "      <td>NaN</td>\n",
       "      <td>Пермь</td>\n",
       "      <td>Василиса</td>\n",
       "      <td>Блинова</td>\n",
       "      <td>2018-03-22</td>\n",
       "      <td>smart</td>\n",
       "    </tr>\n",
       "  </tbody>\n",
       "</table>\n",
       "</div>"
      ],
      "text/plain": [
       "   user_id  age churn_date              city first_name  last_name  \\\n",
       "0     1000   52        NaN         Краснодар     Рафаил  Верещагин   \n",
       "1     1001   41        NaN            Москва       Иван       Ежов   \n",
       "2     1002   59        NaN       Стерлитамак    Евгений  Абрамович   \n",
       "3     1003   23        NaN            Москва      Белла   Белякова   \n",
       "4     1004   68        NaN       Новокузнецк    Татьяна   Авдеенко   \n",
       "5     1005   67        NaN  Набережные Челны   Афанасий     Горлов   \n",
       "6     1006   21        NaN         Ульяновск     Леонид   Ермолаев   \n",
       "7     1007   65        NaN            Москва        Юна   Березина   \n",
       "8     1008   63        NaN         Челябинск     Рустэм  Пономарёв   \n",
       "9     1009   24        NaN             Пермь   Василиса    Блинова   \n",
       "\n",
       "     reg_date tariff  \n",
       "0  2018-05-25  ultra  \n",
       "1  2018-11-01  smart  \n",
       "2  2018-06-17  smart  \n",
       "3  2018-08-17  ultra  \n",
       "4  2018-05-14  ultra  \n",
       "5  2018-01-25  smart  \n",
       "6  2018-02-26  smart  \n",
       "7  2018-04-19  smart  \n",
       "8  2018-12-19  smart  \n",
       "9  2018-03-22  smart  "
      ]
     },
     "metadata": {},
     "output_type": "display_data"
    }
   ],
   "source": [
    "display(calls.head(10))\n",
    "#display(internet.head(10))\n",
    "#display(messages.head(10))\n",
    "#display(tariffs.head(10))\n",
    "display(users.head(10))\n",
    "\n",
    "#calls.info()\n",
    "#internet.info()\n",
    "#messages.info()\n",
    "#tariffs.info()\n",
    "#users.info()\n",
    "\n",
    "#calls.describe()\n",
    "#internet.describe()\n",
    "#messages.describe()\n",
    "#tariffs.describe()\n",
    "#users.describe()"
   ]
  },
  {
   "cell_type": "markdown",
   "metadata": {},
   "source": [
    "## Подготовка данных"
   ]
  },
  {
   "cell_type": "code",
   "execution_count": 87,
   "metadata": {},
   "outputs": [
    {
     "name": "stdout",
     "output_type": "stream",
     "text": [
      "<class 'pandas.core.frame.DataFrame'>\n",
      "RangeIndex: 202607 entries, 0 to 202606\n",
      "Data columns (total 4 columns):\n",
      " #   Column     Non-Null Count   Dtype         \n",
      "---  ------     --------------   -----         \n",
      " 0   id         202607 non-null  int64         \n",
      " 1   call_date  202607 non-null  datetime64[ns]\n",
      " 2   duration   202607 non-null  float32       \n",
      " 3   user_id    202607 non-null  int64         \n",
      "dtypes: datetime64[ns](1), float32(1), int64(2)\n",
      "memory usage: 5.4 MB\n"
     ]
    }
   ],
   "source": [
    "# Изменим тип данных из calls\n",
    "calls = calls.astype({'id': int})\n",
    "# столбец 'call_date' приведем к фрмату to_datetime\n",
    "calls['call_date'] = pd.to_datetime(calls['call_date'],format='%Y-%m-%d')\n",
    "# столбец 'duration' приведем к фрмату float32\n",
    "calls = calls.astype({'duration': 'float32'})\n",
    "\n",
    "calls.info()"
   ]
  },
  {
   "cell_type": "code",
   "execution_count": 88,
   "metadata": {},
   "outputs": [
    {
     "name": "stdout",
     "output_type": "stream",
     "text": [
      "<class 'pandas.core.frame.DataFrame'>\n",
      "Int64Index: 149396 entries, 0 to 149395\n",
      "Data columns (total 4 columns):\n",
      " #   Column        Non-Null Count   Dtype         \n",
      "---  ------        --------------   -----         \n",
      " 0   id            149396 non-null  int64         \n",
      " 1   mb_used       149396 non-null  float64       \n",
      " 2   session_date  149396 non-null  datetime64[ns]\n",
      " 3   user_id       149396 non-null  int64         \n",
      "dtypes: datetime64[ns](1), float64(1), int64(2)\n",
      "memory usage: 5.7 MB\n"
     ]
    }
   ],
   "source": [
    "# Изменим тип данных из internet\n",
    "internet = internet.astype({'id': int})\n",
    "# столбец 'call_date' приведем к фрмату to_datetime\n",
    "internet['session_date'] = pd.to_datetime(internet['session_date'],format='%Y-%m-%d')\n",
    "# столбец 'duration' приведем к фрмату float32\n",
    "\n",
    "internet.info()"
   ]
  },
  {
   "cell_type": "code",
   "execution_count": 89,
   "metadata": {},
   "outputs": [
    {
     "name": "stdout",
     "output_type": "stream",
     "text": [
      "<class 'pandas.core.frame.DataFrame'>\n",
      "RangeIndex: 123036 entries, 0 to 123035\n",
      "Data columns (total 3 columns):\n",
      " #   Column        Non-Null Count   Dtype         \n",
      "---  ------        --------------   -----         \n",
      " 0   id            123036 non-null  int64         \n",
      " 1   message_date  123036 non-null  datetime64[ns]\n",
      " 2   user_id       123036 non-null  int64         \n",
      "dtypes: datetime64[ns](1), int64(2)\n",
      "memory usage: 2.8 MB\n"
     ]
    }
   ],
   "source": [
    "# Изменим тип данных из messages\n",
    "messages = messages.astype({'id': int})\n",
    "# столбец 'message_date' приведем к фрмату to_datetime\n",
    "messages['message_date'] = pd.to_datetime(messages['message_date'],format='%Y-%m-%d')\n",
    "\n",
    "messages.info()"
   ]
  },
  {
   "cell_type": "code",
   "execution_count": 90,
   "metadata": {},
   "outputs": [
    {
     "name": "stdout",
     "output_type": "stream",
     "text": [
      "<class 'pandas.core.frame.DataFrame'>\n",
      "RangeIndex: 500 entries, 0 to 499\n",
      "Data columns (total 8 columns):\n",
      " #   Column      Non-Null Count  Dtype         \n",
      "---  ------      --------------  -----         \n",
      " 0   user_id     500 non-null    int64         \n",
      " 1   age         500 non-null    int64         \n",
      " 2   churn_date  38 non-null     object        \n",
      " 3   city        500 non-null    object        \n",
      " 4   first_name  500 non-null    object        \n",
      " 5   last_name   500 non-null    object        \n",
      " 6   reg_date    500 non-null    datetime64[ns]\n",
      " 7   tariff      500 non-null    object        \n",
      "dtypes: datetime64[ns](1), int64(2), object(5)\n",
      "memory usage: 31.4+ KB\n"
     ]
    }
   ],
   "source": [
    "# столбец 'call_date' приведем к фрмату to_datetime\n",
    "users['reg_date'] = pd.to_datetime(users['reg_date'],format='%Y-%m-%d')\n",
    "\n",
    "users.info()"
   ]
  },
  {
   "cell_type": "markdown",
   "metadata": {},
   "source": [
    "Посчитаем для каждого пользователя:количество сделанных звонков и израсходованных минут разговора по месяцам."
   ]
  },
  {
   "cell_type": "code",
   "execution_count": 91,
   "metadata": {
    "scrolled": true
   },
   "outputs": [
    {
     "data": {
      "text/html": [
       "<div>\n",
       "<style scoped>\n",
       "    .dataframe tbody tr th:only-of-type {\n",
       "        vertical-align: middle;\n",
       "    }\n",
       "\n",
       "    .dataframe tbody tr th {\n",
       "        vertical-align: top;\n",
       "    }\n",
       "\n",
       "    .dataframe thead th {\n",
       "        text-align: right;\n",
       "    }\n",
       "</style>\n",
       "<table border=\"1\" class=\"dataframe\">\n",
       "  <thead>\n",
       "    <tr style=\"text-align: right;\">\n",
       "      <th></th>\n",
       "      <th></th>\n",
       "      <th>minutes</th>\n",
       "      <th>count_durat</th>\n",
       "    </tr>\n",
       "    <tr>\n",
       "      <th>user_id</th>\n",
       "      <th>month</th>\n",
       "      <th></th>\n",
       "      <th></th>\n",
       "    </tr>\n",
       "  </thead>\n",
       "  <tbody>\n",
       "    <tr>\n",
       "      <th rowspan=\"8\" valign=\"top\">1000</th>\n",
       "      <th>5</th>\n",
       "      <td>159.0</td>\n",
       "      <td>22</td>\n",
       "    </tr>\n",
       "    <tr>\n",
       "      <th>6</th>\n",
       "      <td>172.0</td>\n",
       "      <td>43</td>\n",
       "    </tr>\n",
       "    <tr>\n",
       "      <th>7</th>\n",
       "      <td>340.0</td>\n",
       "      <td>47</td>\n",
       "    </tr>\n",
       "    <tr>\n",
       "      <th>8</th>\n",
       "      <td>408.0</td>\n",
       "      <td>52</td>\n",
       "    </tr>\n",
       "    <tr>\n",
       "      <th>9</th>\n",
       "      <td>466.0</td>\n",
       "      <td>58</td>\n",
       "    </tr>\n",
       "    <tr>\n",
       "      <th>10</th>\n",
       "      <td>350.0</td>\n",
       "      <td>57</td>\n",
       "    </tr>\n",
       "    <tr>\n",
       "      <th>11</th>\n",
       "      <td>338.0</td>\n",
       "      <td>43</td>\n",
       "    </tr>\n",
       "    <tr>\n",
       "      <th>12</th>\n",
       "      <td>333.0</td>\n",
       "      <td>46</td>\n",
       "    </tr>\n",
       "    <tr>\n",
       "      <th rowspan=\"2\" valign=\"top\">1001</th>\n",
       "      <th>11</th>\n",
       "      <td>430.0</td>\n",
       "      <td>59</td>\n",
       "    </tr>\n",
       "    <tr>\n",
       "      <th>12</th>\n",
       "      <td>414.0</td>\n",
       "      <td>63</td>\n",
       "    </tr>\n",
       "  </tbody>\n",
       "</table>\n",
       "</div>"
      ],
      "text/plain": [
       "               minutes  count_durat\n",
       "user_id month                      \n",
       "1000    5        159.0           22\n",
       "        6        172.0           43\n",
       "        7        340.0           47\n",
       "        8        408.0           52\n",
       "        9        466.0           58\n",
       "        10       350.0           57\n",
       "        11       338.0           43\n",
       "        12       333.0           46\n",
       "1001    11       430.0           59\n",
       "        12       414.0           63"
      ]
     },
     "metadata": {},
     "output_type": "display_data"
    }
   ],
   "source": [
    "# округляем минуты в большую сторону\n",
    "calls['duration'] = np.ceil(calls['duration'])\n",
    "calls['month'] = calls['call_date'].dt.month\n",
    "total_calls = calls.pivot_table(index = ['user_id', 'month'], values = ['duration'], aggfunc = ['sum', 'count'])\n",
    "total_calls.columns = ['minutes', 'count_durat']\n",
    "\n",
    "display(total_calls.head(10))\n",
    "#display(calls)"
   ]
  },
  {
   "cell_type": "markdown",
   "metadata": {},
   "source": [
    "Посчитаем для каждого пользователя: количество отправленных сообщений по месяцам."
   ]
  },
  {
   "cell_type": "code",
   "execution_count": 92,
   "metadata": {},
   "outputs": [
    {
     "data": {
      "text/html": [
       "<div>\n",
       "<style scoped>\n",
       "    .dataframe tbody tr th:only-of-type {\n",
       "        vertical-align: middle;\n",
       "    }\n",
       "\n",
       "    .dataframe tbody tr th {\n",
       "        vertical-align: top;\n",
       "    }\n",
       "\n",
       "    .dataframe thead th {\n",
       "        text-align: right;\n",
       "    }\n",
       "</style>\n",
       "<table border=\"1\" class=\"dataframe\">\n",
       "  <thead>\n",
       "    <tr style=\"text-align: right;\">\n",
       "      <th></th>\n",
       "      <th></th>\n",
       "      <th>count_message</th>\n",
       "    </tr>\n",
       "    <tr>\n",
       "      <th>user_id</th>\n",
       "      <th>month</th>\n",
       "      <th></th>\n",
       "    </tr>\n",
       "  </thead>\n",
       "  <tbody>\n",
       "    <tr>\n",
       "      <th rowspan=\"8\" valign=\"top\">1000</th>\n",
       "      <th>5</th>\n",
       "      <td>22</td>\n",
       "    </tr>\n",
       "    <tr>\n",
       "      <th>6</th>\n",
       "      <td>60</td>\n",
       "    </tr>\n",
       "    <tr>\n",
       "      <th>7</th>\n",
       "      <td>75</td>\n",
       "    </tr>\n",
       "    <tr>\n",
       "      <th>8</th>\n",
       "      <td>81</td>\n",
       "    </tr>\n",
       "    <tr>\n",
       "      <th>9</th>\n",
       "      <td>57</td>\n",
       "    </tr>\n",
       "    <tr>\n",
       "      <th>10</th>\n",
       "      <td>73</td>\n",
       "    </tr>\n",
       "    <tr>\n",
       "      <th>11</th>\n",
       "      <td>58</td>\n",
       "    </tr>\n",
       "    <tr>\n",
       "      <th>12</th>\n",
       "      <td>70</td>\n",
       "    </tr>\n",
       "    <tr>\n",
       "      <th rowspan=\"2\" valign=\"top\">1002</th>\n",
       "      <th>6</th>\n",
       "      <td>4</td>\n",
       "    </tr>\n",
       "    <tr>\n",
       "      <th>7</th>\n",
       "      <td>11</td>\n",
       "    </tr>\n",
       "  </tbody>\n",
       "</table>\n",
       "</div>"
      ],
      "text/plain": [
       "               count_message\n",
       "user_id month               \n",
       "1000    5                 22\n",
       "        6                 60\n",
       "        7                 75\n",
       "        8                 81\n",
       "        9                 57\n",
       "        10                73\n",
       "        11                58\n",
       "        12                70\n",
       "1002    6                  4\n",
       "        7                 11"
      ]
     },
     "metadata": {},
     "output_type": "display_data"
    }
   ],
   "source": [
    "messages['month'] = messages['message_date'].dt.month\n",
    "total_messages = messages.pivot_table(index = ['user_id', 'month'], values = 'id', aggfunc = 'count')\n",
    "total_messages.columns = ['count_message']\n",
    "display(total_messages.head(10))"
   ]
  },
  {
   "cell_type": "markdown",
   "metadata": {},
   "source": [
    "Посчитаем для каждого пользователя: объем израсходованного интернет-трафика по месяцам."
   ]
  },
  {
   "cell_type": "code",
   "execution_count": 93,
   "metadata": {},
   "outputs": [
    {
     "data": {
      "text/html": [
       "<div>\n",
       "<style scoped>\n",
       "    .dataframe tbody tr th:only-of-type {\n",
       "        vertical-align: middle;\n",
       "    }\n",
       "\n",
       "    .dataframe tbody tr th {\n",
       "        vertical-align: top;\n",
       "    }\n",
       "\n",
       "    .dataframe thead th {\n",
       "        text-align: right;\n",
       "    }\n",
       "</style>\n",
       "<table border=\"1\" class=\"dataframe\">\n",
       "  <thead>\n",
       "    <tr style=\"text-align: right;\">\n",
       "      <th></th>\n",
       "      <th></th>\n",
       "      <th>internets</th>\n",
       "    </tr>\n",
       "    <tr>\n",
       "      <th>user_id</th>\n",
       "      <th>month</th>\n",
       "      <th></th>\n",
       "    </tr>\n",
       "  </thead>\n",
       "  <tbody>\n",
       "    <tr>\n",
       "      <th rowspan=\"8\" valign=\"top\">1000</th>\n",
       "      <th>5</th>\n",
       "      <td>2253.49</td>\n",
       "    </tr>\n",
       "    <tr>\n",
       "      <th>6</th>\n",
       "      <td>23233.77</td>\n",
       "    </tr>\n",
       "    <tr>\n",
       "      <th>7</th>\n",
       "      <td>14003.64</td>\n",
       "    </tr>\n",
       "    <tr>\n",
       "      <th>8</th>\n",
       "      <td>14055.93</td>\n",
       "    </tr>\n",
       "    <tr>\n",
       "      <th>9</th>\n",
       "      <td>14568.91</td>\n",
       "    </tr>\n",
       "    <tr>\n",
       "      <th>10</th>\n",
       "      <td>14702.49</td>\n",
       "    </tr>\n",
       "    <tr>\n",
       "      <th>11</th>\n",
       "      <td>14756.47</td>\n",
       "    </tr>\n",
       "    <tr>\n",
       "      <th>12</th>\n",
       "      <td>9817.61</td>\n",
       "    </tr>\n",
       "    <tr>\n",
       "      <th rowspan=\"2\" valign=\"top\">1001</th>\n",
       "      <th>11</th>\n",
       "      <td>18429.34</td>\n",
       "    </tr>\n",
       "    <tr>\n",
       "      <th>12</th>\n",
       "      <td>14036.66</td>\n",
       "    </tr>\n",
       "  </tbody>\n",
       "</table>\n",
       "</div>"
      ],
      "text/plain": [
       "               internets\n",
       "user_id month           \n",
       "1000    5        2253.49\n",
       "        6       23233.77\n",
       "        7       14003.64\n",
       "        8       14055.93\n",
       "        9       14568.91\n",
       "        10      14702.49\n",
       "        11      14756.47\n",
       "        12       9817.61\n",
       "1001    11      18429.34\n",
       "        12      14036.66"
      ]
     },
     "metadata": {},
     "output_type": "display_data"
    }
   ],
   "source": [
    "internet['month'] = internet['session_date'].dt.month\n",
    "total_session = internet.pivot_table(index = ['user_id', 'month'], values = 'mb_used', aggfunc = 'sum')\n",
    "total_session.columns = ['internets']\n",
    "display(total_session.head(10))"
   ]
  },
  {
   "cell_type": "markdown",
   "metadata": {},
   "source": [
    "# Обьединим все таблицы"
   ]
  },
  {
   "cell_type": "code",
   "execution_count": 94,
   "metadata": {},
   "outputs": [
    {
     "data": {
      "text/html": [
       "<div>\n",
       "<style scoped>\n",
       "    .dataframe tbody tr th:only-of-type {\n",
       "        vertical-align: middle;\n",
       "    }\n",
       "\n",
       "    .dataframe tbody tr th {\n",
       "        vertical-align: top;\n",
       "    }\n",
       "\n",
       "    .dataframe thead th {\n",
       "        text-align: right;\n",
       "    }\n",
       "</style>\n",
       "<table border=\"1\" class=\"dataframe\">\n",
       "  <thead>\n",
       "    <tr style=\"text-align: right;\">\n",
       "      <th></th>\n",
       "      <th></th>\n",
       "      <th>minutes</th>\n",
       "      <th>count_durat</th>\n",
       "      <th>internets</th>\n",
       "      <th>count_message</th>\n",
       "    </tr>\n",
       "    <tr>\n",
       "      <th>user_id</th>\n",
       "      <th>month</th>\n",
       "      <th></th>\n",
       "      <th></th>\n",
       "      <th></th>\n",
       "      <th></th>\n",
       "    </tr>\n",
       "  </thead>\n",
       "  <tbody>\n",
       "    <tr>\n",
       "      <th rowspan=\"8\" valign=\"top\">1000</th>\n",
       "      <th>5</th>\n",
       "      <td>159.0</td>\n",
       "      <td>22.0</td>\n",
       "      <td>2253.49</td>\n",
       "      <td>22.0</td>\n",
       "    </tr>\n",
       "    <tr>\n",
       "      <th>6</th>\n",
       "      <td>172.0</td>\n",
       "      <td>43.0</td>\n",
       "      <td>23233.77</td>\n",
       "      <td>60.0</td>\n",
       "    </tr>\n",
       "    <tr>\n",
       "      <th>7</th>\n",
       "      <td>340.0</td>\n",
       "      <td>47.0</td>\n",
       "      <td>14003.64</td>\n",
       "      <td>75.0</td>\n",
       "    </tr>\n",
       "    <tr>\n",
       "      <th>8</th>\n",
       "      <td>408.0</td>\n",
       "      <td>52.0</td>\n",
       "      <td>14055.93</td>\n",
       "      <td>81.0</td>\n",
       "    </tr>\n",
       "    <tr>\n",
       "      <th>9</th>\n",
       "      <td>466.0</td>\n",
       "      <td>58.0</td>\n",
       "      <td>14568.91</td>\n",
       "      <td>57.0</td>\n",
       "    </tr>\n",
       "    <tr>\n",
       "      <th>10</th>\n",
       "      <td>350.0</td>\n",
       "      <td>57.0</td>\n",
       "      <td>14702.49</td>\n",
       "      <td>73.0</td>\n",
       "    </tr>\n",
       "    <tr>\n",
       "      <th>11</th>\n",
       "      <td>338.0</td>\n",
       "      <td>43.0</td>\n",
       "      <td>14756.47</td>\n",
       "      <td>58.0</td>\n",
       "    </tr>\n",
       "    <tr>\n",
       "      <th>12</th>\n",
       "      <td>333.0</td>\n",
       "      <td>46.0</td>\n",
       "      <td>9817.61</td>\n",
       "      <td>70.0</td>\n",
       "    </tr>\n",
       "    <tr>\n",
       "      <th rowspan=\"2\" valign=\"top\">1001</th>\n",
       "      <th>11</th>\n",
       "      <td>430.0</td>\n",
       "      <td>59.0</td>\n",
       "      <td>18429.34</td>\n",
       "      <td>NaN</td>\n",
       "    </tr>\n",
       "    <tr>\n",
       "      <th>12</th>\n",
       "      <td>414.0</td>\n",
       "      <td>63.0</td>\n",
       "      <td>14036.66</td>\n",
       "      <td>NaN</td>\n",
       "    </tr>\n",
       "  </tbody>\n",
       "</table>\n",
       "</div>"
      ],
      "text/plain": [
       "               minutes  count_durat  internets  count_message\n",
       "user_id month                                                \n",
       "1000    5        159.0         22.0    2253.49           22.0\n",
       "        6        172.0         43.0   23233.77           60.0\n",
       "        7        340.0         47.0   14003.64           75.0\n",
       "        8        408.0         52.0   14055.93           81.0\n",
       "        9        466.0         58.0   14568.91           57.0\n",
       "        10       350.0         57.0   14702.49           73.0\n",
       "        11       338.0         43.0   14756.47           58.0\n",
       "        12       333.0         46.0    9817.61           70.0\n",
       "1001    11       430.0         59.0   18429.34            NaN\n",
       "        12       414.0         63.0   14036.66            NaN"
      ]
     },
     "metadata": {},
     "output_type": "display_data"
    }
   ],
   "source": [
    "total_tarif = total_calls.join([total_session, total_messages], how='outer')\n",
    "display(total_tarif.head(10))"
   ]
  },
  {
   "cell_type": "code",
   "execution_count": 95,
   "metadata": {},
   "outputs": [
    {
     "data": {
      "text/plain": [
       "123036"
      ]
     },
     "metadata": {},
     "output_type": "display_data"
    },
    {
     "data": {
      "text/plain": [
       "123036.0"
      ]
     },
     "execution_count": 95,
     "metadata": {},
     "output_type": "execute_result"
    }
   ],
   "source": [
    "display(messages['id'].count())\n",
    "total_tarif['count_message'].sum()"
   ]
  },
  {
   "cell_type": "code",
   "execution_count": 96,
   "metadata": {},
   "outputs": [
    {
     "data": {
      "text/html": [
       "<div>\n",
       "<style scoped>\n",
       "    .dataframe tbody tr th:only-of-type {\n",
       "        vertical-align: middle;\n",
       "    }\n",
       "\n",
       "    .dataframe tbody tr th {\n",
       "        vertical-align: top;\n",
       "    }\n",
       "\n",
       "    .dataframe thead th {\n",
       "        text-align: right;\n",
       "    }\n",
       "</style>\n",
       "<table border=\"1\" class=\"dataframe\">\n",
       "  <thead>\n",
       "    <tr style=\"text-align: right;\">\n",
       "      <th></th>\n",
       "      <th>month</th>\n",
       "      <th>minutes</th>\n",
       "      <th>count_durat</th>\n",
       "      <th>internets</th>\n",
       "      <th>count_message</th>\n",
       "    </tr>\n",
       "    <tr>\n",
       "      <th>user_id</th>\n",
       "      <th></th>\n",
       "      <th></th>\n",
       "      <th></th>\n",
       "      <th></th>\n",
       "      <th></th>\n",
       "    </tr>\n",
       "  </thead>\n",
       "  <tbody>\n",
       "    <tr>\n",
       "      <th>1000</th>\n",
       "      <td>5</td>\n",
       "      <td>159.0</td>\n",
       "      <td>22.0</td>\n",
       "      <td>2253.49</td>\n",
       "      <td>22.0</td>\n",
       "    </tr>\n",
       "    <tr>\n",
       "      <th>1000</th>\n",
       "      <td>6</td>\n",
       "      <td>172.0</td>\n",
       "      <td>43.0</td>\n",
       "      <td>23233.77</td>\n",
       "      <td>60.0</td>\n",
       "    </tr>\n",
       "    <tr>\n",
       "      <th>1000</th>\n",
       "      <td>7</td>\n",
       "      <td>340.0</td>\n",
       "      <td>47.0</td>\n",
       "      <td>14003.64</td>\n",
       "      <td>75.0</td>\n",
       "    </tr>\n",
       "    <tr>\n",
       "      <th>1000</th>\n",
       "      <td>8</td>\n",
       "      <td>408.0</td>\n",
       "      <td>52.0</td>\n",
       "      <td>14055.93</td>\n",
       "      <td>81.0</td>\n",
       "    </tr>\n",
       "    <tr>\n",
       "      <th>1000</th>\n",
       "      <td>9</td>\n",
       "      <td>466.0</td>\n",
       "      <td>58.0</td>\n",
       "      <td>14568.91</td>\n",
       "      <td>57.0</td>\n",
       "    </tr>\n",
       "    <tr>\n",
       "      <th>...</th>\n",
       "      <td>...</td>\n",
       "      <td>...</td>\n",
       "      <td>...</td>\n",
       "      <td>...</td>\n",
       "      <td>...</td>\n",
       "    </tr>\n",
       "    <tr>\n",
       "      <th>1498</th>\n",
       "      <td>10</td>\n",
       "      <td>247.0</td>\n",
       "      <td>41.0</td>\n",
       "      <td>20579.36</td>\n",
       "      <td>42.0</td>\n",
       "    </tr>\n",
       "    <tr>\n",
       "      <th>1499</th>\n",
       "      <td>9</td>\n",
       "      <td>70.0</td>\n",
       "      <td>9.0</td>\n",
       "      <td>1845.75</td>\n",
       "      <td>11.0</td>\n",
       "    </tr>\n",
       "    <tr>\n",
       "      <th>1499</th>\n",
       "      <td>10</td>\n",
       "      <td>449.0</td>\n",
       "      <td>68.0</td>\n",
       "      <td>17788.51</td>\n",
       "      <td>48.0</td>\n",
       "    </tr>\n",
       "    <tr>\n",
       "      <th>1499</th>\n",
       "      <td>11</td>\n",
       "      <td>612.0</td>\n",
       "      <td>74.0</td>\n",
       "      <td>17963.31</td>\n",
       "      <td>59.0</td>\n",
       "    </tr>\n",
       "    <tr>\n",
       "      <th>1499</th>\n",
       "      <td>12</td>\n",
       "      <td>492.0</td>\n",
       "      <td>69.0</td>\n",
       "      <td>13055.58</td>\n",
       "      <td>66.0</td>\n",
       "    </tr>\n",
       "  </tbody>\n",
       "</table>\n",
       "<p>3214 rows × 5 columns</p>\n",
       "</div>"
      ],
      "text/plain": [
       "         month  minutes  count_durat  internets  count_message\n",
       "user_id                                                       \n",
       "1000         5    159.0         22.0    2253.49           22.0\n",
       "1000         6    172.0         43.0   23233.77           60.0\n",
       "1000         7    340.0         47.0   14003.64           75.0\n",
       "1000         8    408.0         52.0   14055.93           81.0\n",
       "1000         9    466.0         58.0   14568.91           57.0\n",
       "...        ...      ...          ...        ...            ...\n",
       "1498        10    247.0         41.0   20579.36           42.0\n",
       "1499         9     70.0          9.0    1845.75           11.0\n",
       "1499        10    449.0         68.0   17788.51           48.0\n",
       "1499        11    612.0         74.0   17963.31           59.0\n",
       "1499        12    492.0         69.0   13055.58           66.0\n",
       "\n",
       "[3214 rows x 5 columns]"
      ]
     },
     "metadata": {},
     "output_type": "display_data"
    }
   ],
   "source": [
    "total_tarif = total_tarif.reset_index(level = 'month')\n",
    "display(total_tarif)"
   ]
  },
  {
   "cell_type": "code",
   "execution_count": 97,
   "metadata": {},
   "outputs": [
    {
     "data": {
      "text/html": [
       "<div>\n",
       "<style scoped>\n",
       "    .dataframe tbody tr th:only-of-type {\n",
       "        vertical-align: middle;\n",
       "    }\n",
       "\n",
       "    .dataframe tbody tr th {\n",
       "        vertical-align: top;\n",
       "    }\n",
       "\n",
       "    .dataframe thead th {\n",
       "        text-align: right;\n",
       "    }\n",
       "</style>\n",
       "<table border=\"1\" class=\"dataframe\">\n",
       "  <thead>\n",
       "    <tr style=\"text-align: right;\">\n",
       "      <th></th>\n",
       "      <th>user_id</th>\n",
       "      <th>age</th>\n",
       "      <th>churn_date</th>\n",
       "      <th>city</th>\n",
       "      <th>first_name</th>\n",
       "      <th>last_name</th>\n",
       "      <th>reg_date</th>\n",
       "      <th>tariff</th>\n",
       "      <th>month</th>\n",
       "      <th>minutes</th>\n",
       "      <th>count_durat</th>\n",
       "      <th>internets</th>\n",
       "      <th>count_message</th>\n",
       "    </tr>\n",
       "  </thead>\n",
       "  <tbody>\n",
       "    <tr>\n",
       "      <th>0</th>\n",
       "      <td>1000</td>\n",
       "      <td>52</td>\n",
       "      <td>NaN</td>\n",
       "      <td>Краснодар</td>\n",
       "      <td>Рафаил</td>\n",
       "      <td>Верещагин</td>\n",
       "      <td>2018-05-25</td>\n",
       "      <td>ultra</td>\n",
       "      <td>5.0</td>\n",
       "      <td>159.0</td>\n",
       "      <td>22.0</td>\n",
       "      <td>2253.49</td>\n",
       "      <td>22.0</td>\n",
       "    </tr>\n",
       "    <tr>\n",
       "      <th>0</th>\n",
       "      <td>1000</td>\n",
       "      <td>52</td>\n",
       "      <td>NaN</td>\n",
       "      <td>Краснодар</td>\n",
       "      <td>Рафаил</td>\n",
       "      <td>Верещагин</td>\n",
       "      <td>2018-05-25</td>\n",
       "      <td>ultra</td>\n",
       "      <td>6.0</td>\n",
       "      <td>172.0</td>\n",
       "      <td>43.0</td>\n",
       "      <td>23233.77</td>\n",
       "      <td>60.0</td>\n",
       "    </tr>\n",
       "    <tr>\n",
       "      <th>0</th>\n",
       "      <td>1000</td>\n",
       "      <td>52</td>\n",
       "      <td>NaN</td>\n",
       "      <td>Краснодар</td>\n",
       "      <td>Рафаил</td>\n",
       "      <td>Верещагин</td>\n",
       "      <td>2018-05-25</td>\n",
       "      <td>ultra</td>\n",
       "      <td>7.0</td>\n",
       "      <td>340.0</td>\n",
       "      <td>47.0</td>\n",
       "      <td>14003.64</td>\n",
       "      <td>75.0</td>\n",
       "    </tr>\n",
       "    <tr>\n",
       "      <th>0</th>\n",
       "      <td>1000</td>\n",
       "      <td>52</td>\n",
       "      <td>NaN</td>\n",
       "      <td>Краснодар</td>\n",
       "      <td>Рафаил</td>\n",
       "      <td>Верещагин</td>\n",
       "      <td>2018-05-25</td>\n",
       "      <td>ultra</td>\n",
       "      <td>8.0</td>\n",
       "      <td>408.0</td>\n",
       "      <td>52.0</td>\n",
       "      <td>14055.93</td>\n",
       "      <td>81.0</td>\n",
       "    </tr>\n",
       "    <tr>\n",
       "      <th>0</th>\n",
       "      <td>1000</td>\n",
       "      <td>52</td>\n",
       "      <td>NaN</td>\n",
       "      <td>Краснодар</td>\n",
       "      <td>Рафаил</td>\n",
       "      <td>Верещагин</td>\n",
       "      <td>2018-05-25</td>\n",
       "      <td>ultra</td>\n",
       "      <td>9.0</td>\n",
       "      <td>466.0</td>\n",
       "      <td>58.0</td>\n",
       "      <td>14568.91</td>\n",
       "      <td>57.0</td>\n",
       "    </tr>\n",
       "    <tr>\n",
       "      <th>...</th>\n",
       "      <td>...</td>\n",
       "      <td>...</td>\n",
       "      <td>...</td>\n",
       "      <td>...</td>\n",
       "      <td>...</td>\n",
       "      <td>...</td>\n",
       "      <td>...</td>\n",
       "      <td>...</td>\n",
       "      <td>...</td>\n",
       "      <td>...</td>\n",
       "      <td>...</td>\n",
       "      <td>...</td>\n",
       "      <td>...</td>\n",
       "    </tr>\n",
       "    <tr>\n",
       "      <th>498</th>\n",
       "      <td>1498</td>\n",
       "      <td>68</td>\n",
       "      <td>2018-10-25</td>\n",
       "      <td>Владикавказ</td>\n",
       "      <td>Всеволод</td>\n",
       "      <td>Акимчин</td>\n",
       "      <td>2018-07-19</td>\n",
       "      <td>smart</td>\n",
       "      <td>10.0</td>\n",
       "      <td>247.0</td>\n",
       "      <td>41.0</td>\n",
       "      <td>20579.36</td>\n",
       "      <td>42.0</td>\n",
       "    </tr>\n",
       "    <tr>\n",
       "      <th>499</th>\n",
       "      <td>1499</td>\n",
       "      <td>35</td>\n",
       "      <td>NaN</td>\n",
       "      <td>Пермь</td>\n",
       "      <td>Гектор</td>\n",
       "      <td>Корнилов</td>\n",
       "      <td>2018-09-27</td>\n",
       "      <td>smart</td>\n",
       "      <td>9.0</td>\n",
       "      <td>70.0</td>\n",
       "      <td>9.0</td>\n",
       "      <td>1845.75</td>\n",
       "      <td>11.0</td>\n",
       "    </tr>\n",
       "    <tr>\n",
       "      <th>499</th>\n",
       "      <td>1499</td>\n",
       "      <td>35</td>\n",
       "      <td>NaN</td>\n",
       "      <td>Пермь</td>\n",
       "      <td>Гектор</td>\n",
       "      <td>Корнилов</td>\n",
       "      <td>2018-09-27</td>\n",
       "      <td>smart</td>\n",
       "      <td>10.0</td>\n",
       "      <td>449.0</td>\n",
       "      <td>68.0</td>\n",
       "      <td>17788.51</td>\n",
       "      <td>48.0</td>\n",
       "    </tr>\n",
       "    <tr>\n",
       "      <th>499</th>\n",
       "      <td>1499</td>\n",
       "      <td>35</td>\n",
       "      <td>NaN</td>\n",
       "      <td>Пермь</td>\n",
       "      <td>Гектор</td>\n",
       "      <td>Корнилов</td>\n",
       "      <td>2018-09-27</td>\n",
       "      <td>smart</td>\n",
       "      <td>11.0</td>\n",
       "      <td>612.0</td>\n",
       "      <td>74.0</td>\n",
       "      <td>17963.31</td>\n",
       "      <td>59.0</td>\n",
       "    </tr>\n",
       "    <tr>\n",
       "      <th>499</th>\n",
       "      <td>1499</td>\n",
       "      <td>35</td>\n",
       "      <td>NaN</td>\n",
       "      <td>Пермь</td>\n",
       "      <td>Гектор</td>\n",
       "      <td>Корнилов</td>\n",
       "      <td>2018-09-27</td>\n",
       "      <td>smart</td>\n",
       "      <td>12.0</td>\n",
       "      <td>492.0</td>\n",
       "      <td>69.0</td>\n",
       "      <td>13055.58</td>\n",
       "      <td>66.0</td>\n",
       "    </tr>\n",
       "  </tbody>\n",
       "</table>\n",
       "<p>3216 rows × 13 columns</p>\n",
       "</div>"
      ],
      "text/plain": [
       "     user_id  age  churn_date         city first_name  last_name   reg_date  \\\n",
       "0       1000   52         NaN    Краснодар     Рафаил  Верещагин 2018-05-25   \n",
       "0       1000   52         NaN    Краснодар     Рафаил  Верещагин 2018-05-25   \n",
       "0       1000   52         NaN    Краснодар     Рафаил  Верещагин 2018-05-25   \n",
       "0       1000   52         NaN    Краснодар     Рафаил  Верещагин 2018-05-25   \n",
       "0       1000   52         NaN    Краснодар     Рафаил  Верещагин 2018-05-25   \n",
       "..       ...  ...         ...          ...        ...        ...        ...   \n",
       "498     1498   68  2018-10-25  Владикавказ   Всеволод    Акимчин 2018-07-19   \n",
       "499     1499   35         NaN        Пермь     Гектор   Корнилов 2018-09-27   \n",
       "499     1499   35         NaN        Пермь     Гектор   Корнилов 2018-09-27   \n",
       "499     1499   35         NaN        Пермь     Гектор   Корнилов 2018-09-27   \n",
       "499     1499   35         NaN        Пермь     Гектор   Корнилов 2018-09-27   \n",
       "\n",
       "    tariff  month  minutes  count_durat  internets  count_message  \n",
       "0    ultra    5.0    159.0         22.0    2253.49           22.0  \n",
       "0    ultra    6.0    172.0         43.0   23233.77           60.0  \n",
       "0    ultra    7.0    340.0         47.0   14003.64           75.0  \n",
       "0    ultra    8.0    408.0         52.0   14055.93           81.0  \n",
       "0    ultra    9.0    466.0         58.0   14568.91           57.0  \n",
       "..     ...    ...      ...          ...        ...            ...  \n",
       "498  smart   10.0    247.0         41.0   20579.36           42.0  \n",
       "499  smart    9.0     70.0          9.0    1845.75           11.0  \n",
       "499  smart   10.0    449.0         68.0   17788.51           48.0  \n",
       "499  smart   11.0    612.0         74.0   17963.31           59.0  \n",
       "499  smart   12.0    492.0         69.0   13055.58           66.0  \n",
       "\n",
       "[3216 rows x 13 columns]"
      ]
     },
     "metadata": {},
     "output_type": "display_data"
    }
   ],
   "source": [
    "total_tarif_table = users.join(total_tarif, on='user_id')\n",
    "\n",
    "display(total_tarif_table)"
   ]
  },
  {
   "cell_type": "code",
   "execution_count": 98,
   "metadata": {},
   "outputs": [
    {
     "data": {
      "text/html": [
       "<div>\n",
       "<style scoped>\n",
       "    .dataframe tbody tr th:only-of-type {\n",
       "        vertical-align: middle;\n",
       "    }\n",
       "\n",
       "    .dataframe tbody tr th {\n",
       "        vertical-align: top;\n",
       "    }\n",
       "\n",
       "    .dataframe thead th {\n",
       "        text-align: right;\n",
       "    }\n",
       "</style>\n",
       "<table border=\"1\" class=\"dataframe\">\n",
       "  <thead>\n",
       "    <tr style=\"text-align: right;\">\n",
       "      <th></th>\n",
       "      <th>user_id</th>\n",
       "      <th>age</th>\n",
       "      <th>city</th>\n",
       "      <th>tariff</th>\n",
       "      <th>month</th>\n",
       "      <th>minutes</th>\n",
       "      <th>count_durat</th>\n",
       "      <th>internets</th>\n",
       "      <th>count_message</th>\n",
       "    </tr>\n",
       "  </thead>\n",
       "  <tbody>\n",
       "    <tr>\n",
       "      <th>0</th>\n",
       "      <td>1000</td>\n",
       "      <td>52</td>\n",
       "      <td>Краснодар</td>\n",
       "      <td>ultra</td>\n",
       "      <td>5.0</td>\n",
       "      <td>159.0</td>\n",
       "      <td>22.0</td>\n",
       "      <td>2253.49</td>\n",
       "      <td>22.0</td>\n",
       "    </tr>\n",
       "    <tr>\n",
       "      <th>0</th>\n",
       "      <td>1000</td>\n",
       "      <td>52</td>\n",
       "      <td>Краснодар</td>\n",
       "      <td>ultra</td>\n",
       "      <td>6.0</td>\n",
       "      <td>172.0</td>\n",
       "      <td>43.0</td>\n",
       "      <td>23233.77</td>\n",
       "      <td>60.0</td>\n",
       "    </tr>\n",
       "    <tr>\n",
       "      <th>0</th>\n",
       "      <td>1000</td>\n",
       "      <td>52</td>\n",
       "      <td>Краснодар</td>\n",
       "      <td>ultra</td>\n",
       "      <td>7.0</td>\n",
       "      <td>340.0</td>\n",
       "      <td>47.0</td>\n",
       "      <td>14003.64</td>\n",
       "      <td>75.0</td>\n",
       "    </tr>\n",
       "    <tr>\n",
       "      <th>0</th>\n",
       "      <td>1000</td>\n",
       "      <td>52</td>\n",
       "      <td>Краснодар</td>\n",
       "      <td>ultra</td>\n",
       "      <td>8.0</td>\n",
       "      <td>408.0</td>\n",
       "      <td>52.0</td>\n",
       "      <td>14055.93</td>\n",
       "      <td>81.0</td>\n",
       "    </tr>\n",
       "    <tr>\n",
       "      <th>0</th>\n",
       "      <td>1000</td>\n",
       "      <td>52</td>\n",
       "      <td>Краснодар</td>\n",
       "      <td>ultra</td>\n",
       "      <td>9.0</td>\n",
       "      <td>466.0</td>\n",
       "      <td>58.0</td>\n",
       "      <td>14568.91</td>\n",
       "      <td>57.0</td>\n",
       "    </tr>\n",
       "    <tr>\n",
       "      <th>0</th>\n",
       "      <td>1000</td>\n",
       "      <td>52</td>\n",
       "      <td>Краснодар</td>\n",
       "      <td>ultra</td>\n",
       "      <td>10.0</td>\n",
       "      <td>350.0</td>\n",
       "      <td>57.0</td>\n",
       "      <td>14702.49</td>\n",
       "      <td>73.0</td>\n",
       "    </tr>\n",
       "    <tr>\n",
       "      <th>0</th>\n",
       "      <td>1000</td>\n",
       "      <td>52</td>\n",
       "      <td>Краснодар</td>\n",
       "      <td>ultra</td>\n",
       "      <td>11.0</td>\n",
       "      <td>338.0</td>\n",
       "      <td>43.0</td>\n",
       "      <td>14756.47</td>\n",
       "      <td>58.0</td>\n",
       "    </tr>\n",
       "    <tr>\n",
       "      <th>0</th>\n",
       "      <td>1000</td>\n",
       "      <td>52</td>\n",
       "      <td>Краснодар</td>\n",
       "      <td>ultra</td>\n",
       "      <td>12.0</td>\n",
       "      <td>333.0</td>\n",
       "      <td>46.0</td>\n",
       "      <td>9817.61</td>\n",
       "      <td>70.0</td>\n",
       "    </tr>\n",
       "    <tr>\n",
       "      <th>1</th>\n",
       "      <td>1001</td>\n",
       "      <td>41</td>\n",
       "      <td>Москва</td>\n",
       "      <td>smart</td>\n",
       "      <td>11.0</td>\n",
       "      <td>430.0</td>\n",
       "      <td>59.0</td>\n",
       "      <td>18429.34</td>\n",
       "      <td>NaN</td>\n",
       "    </tr>\n",
       "    <tr>\n",
       "      <th>1</th>\n",
       "      <td>1001</td>\n",
       "      <td>41</td>\n",
       "      <td>Москва</td>\n",
       "      <td>smart</td>\n",
       "      <td>12.0</td>\n",
       "      <td>414.0</td>\n",
       "      <td>63.0</td>\n",
       "      <td>14036.66</td>\n",
       "      <td>NaN</td>\n",
       "    </tr>\n",
       "  </tbody>\n",
       "</table>\n",
       "</div>"
      ],
      "text/plain": [
       "   user_id  age       city tariff  month  minutes  count_durat  internets  \\\n",
       "0     1000   52  Краснодар  ultra    5.0    159.0         22.0    2253.49   \n",
       "0     1000   52  Краснодар  ultra    6.0    172.0         43.0   23233.77   \n",
       "0     1000   52  Краснодар  ultra    7.0    340.0         47.0   14003.64   \n",
       "0     1000   52  Краснодар  ultra    8.0    408.0         52.0   14055.93   \n",
       "0     1000   52  Краснодар  ultra    9.0    466.0         58.0   14568.91   \n",
       "0     1000   52  Краснодар  ultra   10.0    350.0         57.0   14702.49   \n",
       "0     1000   52  Краснодар  ultra   11.0    338.0         43.0   14756.47   \n",
       "0     1000   52  Краснодар  ultra   12.0    333.0         46.0    9817.61   \n",
       "1     1001   41     Москва  smart   11.0    430.0         59.0   18429.34   \n",
       "1     1001   41     Москва  smart   12.0    414.0         63.0   14036.66   \n",
       "\n",
       "   count_message  \n",
       "0           22.0  \n",
       "0           60.0  \n",
       "0           75.0  \n",
       "0           81.0  \n",
       "0           57.0  \n",
       "0           73.0  \n",
       "0           58.0  \n",
       "0           70.0  \n",
       "1            NaN  \n",
       "1            NaN  "
      ]
     },
     "metadata": {},
     "output_type": "display_data"
    }
   ],
   "source": [
    "# Уберем лишние столбцы\n",
    "total_tarif_table = total_tarif_table.drop(['churn_date', 'first_name', 'last_name', 'reg_date'], axis='columns')\n",
    "display(total_tarif_table.head(10))"
   ]
  },
  {
   "cell_type": "code",
   "execution_count": 99,
   "metadata": {},
   "outputs": [
    {
     "data": {
      "text/html": [
       "<div>\n",
       "<style scoped>\n",
       "    .dataframe tbody tr th:only-of-type {\n",
       "        vertical-align: middle;\n",
       "    }\n",
       "\n",
       "    .dataframe tbody tr th {\n",
       "        vertical-align: top;\n",
       "    }\n",
       "\n",
       "    .dataframe thead th {\n",
       "        text-align: right;\n",
       "    }\n",
       "</style>\n",
       "<table border=\"1\" class=\"dataframe\">\n",
       "  <thead>\n",
       "    <tr style=\"text-align: right;\">\n",
       "      <th></th>\n",
       "      <th>messages_included</th>\n",
       "      <th>mb_per_month_included</th>\n",
       "      <th>minutes_included</th>\n",
       "      <th>rub_monthly_fee</th>\n",
       "      <th>rub_per_gb</th>\n",
       "      <th>rub_per_message</th>\n",
       "      <th>rub_per_minute</th>\n",
       "      <th>tariff</th>\n",
       "    </tr>\n",
       "  </thead>\n",
       "  <tbody>\n",
       "    <tr>\n",
       "      <th>0</th>\n",
       "      <td>50</td>\n",
       "      <td>15360</td>\n",
       "      <td>500</td>\n",
       "      <td>550</td>\n",
       "      <td>200</td>\n",
       "      <td>3</td>\n",
       "      <td>3</td>\n",
       "      <td>smart</td>\n",
       "    </tr>\n",
       "    <tr>\n",
       "      <th>1</th>\n",
       "      <td>1000</td>\n",
       "      <td>30720</td>\n",
       "      <td>3000</td>\n",
       "      <td>1950</td>\n",
       "      <td>150</td>\n",
       "      <td>1</td>\n",
       "      <td>1</td>\n",
       "      <td>ultra</td>\n",
       "    </tr>\n",
       "  </tbody>\n",
       "</table>\n",
       "</div>"
      ],
      "text/plain": [
       "   messages_included  mb_per_month_included  minutes_included  \\\n",
       "0                 50                  15360               500   \n",
       "1               1000                  30720              3000   \n",
       "\n",
       "   rub_monthly_fee  rub_per_gb  rub_per_message  rub_per_minute tariff  \n",
       "0              550         200                3               3  smart  \n",
       "1             1950         150                1               1  ultra  "
      ]
     },
     "metadata": {},
     "output_type": "display_data"
    }
   ],
   "source": [
    "# Переименуем столбец, чтобы было как в остальных столбцах\n",
    "tariffs.rename(columns = {'tariff_name' : 'tariff'}, inplace = True)\n",
    "display(tariffs)"
   ]
  },
  {
   "cell_type": "code",
   "execution_count": 100,
   "metadata": {},
   "outputs": [
    {
     "data": {
      "text/html": [
       "<div>\n",
       "<style scoped>\n",
       "    .dataframe tbody tr th:only-of-type {\n",
       "        vertical-align: middle;\n",
       "    }\n",
       "\n",
       "    .dataframe tbody tr th {\n",
       "        vertical-align: top;\n",
       "    }\n",
       "\n",
       "    .dataframe thead th {\n",
       "        text-align: right;\n",
       "    }\n",
       "</style>\n",
       "<table border=\"1\" class=\"dataframe\">\n",
       "  <thead>\n",
       "    <tr style=\"text-align: right;\">\n",
       "      <th></th>\n",
       "      <th>messages_included</th>\n",
       "      <th>mb_per_month_included</th>\n",
       "      <th>minutes_included</th>\n",
       "      <th>rub_monthly_fee</th>\n",
       "      <th>rub_per_gb</th>\n",
       "      <th>rub_per_message</th>\n",
       "      <th>rub_per_minute</th>\n",
       "      <th>tariff</th>\n",
       "      <th>user_id</th>\n",
       "      <th>age</th>\n",
       "      <th>city</th>\n",
       "      <th>month</th>\n",
       "      <th>minutes</th>\n",
       "      <th>count_durat</th>\n",
       "      <th>internets</th>\n",
       "      <th>count_message</th>\n",
       "    </tr>\n",
       "  </thead>\n",
       "  <tbody>\n",
       "    <tr>\n",
       "      <th>0</th>\n",
       "      <td>50</td>\n",
       "      <td>15360</td>\n",
       "      <td>500</td>\n",
       "      <td>550</td>\n",
       "      <td>200</td>\n",
       "      <td>3</td>\n",
       "      <td>3</td>\n",
       "      <td>smart</td>\n",
       "      <td>1001</td>\n",
       "      <td>41</td>\n",
       "      <td>Москва</td>\n",
       "      <td>11.0</td>\n",
       "      <td>430.0</td>\n",
       "      <td>59.0</td>\n",
       "      <td>18429.34</td>\n",
       "      <td>NaN</td>\n",
       "    </tr>\n",
       "    <tr>\n",
       "      <th>1</th>\n",
       "      <td>50</td>\n",
       "      <td>15360</td>\n",
       "      <td>500</td>\n",
       "      <td>550</td>\n",
       "      <td>200</td>\n",
       "      <td>3</td>\n",
       "      <td>3</td>\n",
       "      <td>smart</td>\n",
       "      <td>1001</td>\n",
       "      <td>41</td>\n",
       "      <td>Москва</td>\n",
       "      <td>12.0</td>\n",
       "      <td>414.0</td>\n",
       "      <td>63.0</td>\n",
       "      <td>14036.66</td>\n",
       "      <td>NaN</td>\n",
       "    </tr>\n",
       "    <tr>\n",
       "      <th>2</th>\n",
       "      <td>50</td>\n",
       "      <td>15360</td>\n",
       "      <td>500</td>\n",
       "      <td>550</td>\n",
       "      <td>200</td>\n",
       "      <td>3</td>\n",
       "      <td>3</td>\n",
       "      <td>smart</td>\n",
       "      <td>1002</td>\n",
       "      <td>59</td>\n",
       "      <td>Стерлитамак</td>\n",
       "      <td>6.0</td>\n",
       "      <td>117.0</td>\n",
       "      <td>15.0</td>\n",
       "      <td>10856.82</td>\n",
       "      <td>4.0</td>\n",
       "    </tr>\n",
       "    <tr>\n",
       "      <th>3</th>\n",
       "      <td>50</td>\n",
       "      <td>15360</td>\n",
       "      <td>500</td>\n",
       "      <td>550</td>\n",
       "      <td>200</td>\n",
       "      <td>3</td>\n",
       "      <td>3</td>\n",
       "      <td>smart</td>\n",
       "      <td>1002</td>\n",
       "      <td>59</td>\n",
       "      <td>Стерлитамак</td>\n",
       "      <td>7.0</td>\n",
       "      <td>214.0</td>\n",
       "      <td>26.0</td>\n",
       "      <td>17580.10</td>\n",
       "      <td>11.0</td>\n",
       "    </tr>\n",
       "    <tr>\n",
       "      <th>4</th>\n",
       "      <td>50</td>\n",
       "      <td>15360</td>\n",
       "      <td>500</td>\n",
       "      <td>550</td>\n",
       "      <td>200</td>\n",
       "      <td>3</td>\n",
       "      <td>3</td>\n",
       "      <td>smart</td>\n",
       "      <td>1002</td>\n",
       "      <td>59</td>\n",
       "      <td>Стерлитамак</td>\n",
       "      <td>8.0</td>\n",
       "      <td>289.0</td>\n",
       "      <td>42.0</td>\n",
       "      <td>20319.26</td>\n",
       "      <td>13.0</td>\n",
       "    </tr>\n",
       "    <tr>\n",
       "      <th>5</th>\n",
       "      <td>50</td>\n",
       "      <td>15360</td>\n",
       "      <td>500</td>\n",
       "      <td>550</td>\n",
       "      <td>200</td>\n",
       "      <td>3</td>\n",
       "      <td>3</td>\n",
       "      <td>smart</td>\n",
       "      <td>1002</td>\n",
       "      <td>59</td>\n",
       "      <td>Стерлитамак</td>\n",
       "      <td>9.0</td>\n",
       "      <td>206.0</td>\n",
       "      <td>36.0</td>\n",
       "      <td>16691.08</td>\n",
       "      <td>4.0</td>\n",
       "    </tr>\n",
       "    <tr>\n",
       "      <th>6</th>\n",
       "      <td>50</td>\n",
       "      <td>15360</td>\n",
       "      <td>500</td>\n",
       "      <td>550</td>\n",
       "      <td>200</td>\n",
       "      <td>3</td>\n",
       "      <td>3</td>\n",
       "      <td>smart</td>\n",
       "      <td>1002</td>\n",
       "      <td>59</td>\n",
       "      <td>Стерлитамак</td>\n",
       "      <td>10.0</td>\n",
       "      <td>212.0</td>\n",
       "      <td>33.0</td>\n",
       "      <td>13888.25</td>\n",
       "      <td>10.0</td>\n",
       "    </tr>\n",
       "    <tr>\n",
       "      <th>7</th>\n",
       "      <td>50</td>\n",
       "      <td>15360</td>\n",
       "      <td>500</td>\n",
       "      <td>550</td>\n",
       "      <td>200</td>\n",
       "      <td>3</td>\n",
       "      <td>3</td>\n",
       "      <td>smart</td>\n",
       "      <td>1002</td>\n",
       "      <td>59</td>\n",
       "      <td>Стерлитамак</td>\n",
       "      <td>11.0</td>\n",
       "      <td>243.0</td>\n",
       "      <td>32.0</td>\n",
       "      <td>18587.28</td>\n",
       "      <td>16.0</td>\n",
       "    </tr>\n",
       "    <tr>\n",
       "      <th>8</th>\n",
       "      <td>50</td>\n",
       "      <td>15360</td>\n",
       "      <td>500</td>\n",
       "      <td>550</td>\n",
       "      <td>200</td>\n",
       "      <td>3</td>\n",
       "      <td>3</td>\n",
       "      <td>smart</td>\n",
       "      <td>1002</td>\n",
       "      <td>59</td>\n",
       "      <td>Стерлитамак</td>\n",
       "      <td>12.0</td>\n",
       "      <td>236.0</td>\n",
       "      <td>33.0</td>\n",
       "      <td>18113.73</td>\n",
       "      <td>12.0</td>\n",
       "    </tr>\n",
       "    <tr>\n",
       "      <th>9</th>\n",
       "      <td>50</td>\n",
       "      <td>15360</td>\n",
       "      <td>500</td>\n",
       "      <td>550</td>\n",
       "      <td>200</td>\n",
       "      <td>3</td>\n",
       "      <td>3</td>\n",
       "      <td>smart</td>\n",
       "      <td>1005</td>\n",
       "      <td>67</td>\n",
       "      <td>Набережные Челны</td>\n",
       "      <td>1.0</td>\n",
       "      <td>95.0</td>\n",
       "      <td>15.0</td>\n",
       "      <td>2727.97</td>\n",
       "      <td>7.0</td>\n",
       "    </tr>\n",
       "  </tbody>\n",
       "</table>\n",
       "</div>"
      ],
      "text/plain": [
       "   messages_included  mb_per_month_included  minutes_included  \\\n",
       "0                 50                  15360               500   \n",
       "1                 50                  15360               500   \n",
       "2                 50                  15360               500   \n",
       "3                 50                  15360               500   \n",
       "4                 50                  15360               500   \n",
       "5                 50                  15360               500   \n",
       "6                 50                  15360               500   \n",
       "7                 50                  15360               500   \n",
       "8                 50                  15360               500   \n",
       "9                 50                  15360               500   \n",
       "\n",
       "   rub_monthly_fee  rub_per_gb  rub_per_message  rub_per_minute tariff  \\\n",
       "0              550         200                3               3  smart   \n",
       "1              550         200                3               3  smart   \n",
       "2              550         200                3               3  smart   \n",
       "3              550         200                3               3  smart   \n",
       "4              550         200                3               3  smart   \n",
       "5              550         200                3               3  smart   \n",
       "6              550         200                3               3  smart   \n",
       "7              550         200                3               3  smart   \n",
       "8              550         200                3               3  smart   \n",
       "9              550         200                3               3  smart   \n",
       "\n",
       "   user_id  age              city  month  minutes  count_durat  internets  \\\n",
       "0     1001   41            Москва   11.0    430.0         59.0   18429.34   \n",
       "1     1001   41            Москва   12.0    414.0         63.0   14036.66   \n",
       "2     1002   59       Стерлитамак    6.0    117.0         15.0   10856.82   \n",
       "3     1002   59       Стерлитамак    7.0    214.0         26.0   17580.10   \n",
       "4     1002   59       Стерлитамак    8.0    289.0         42.0   20319.26   \n",
       "5     1002   59       Стерлитамак    9.0    206.0         36.0   16691.08   \n",
       "6     1002   59       Стерлитамак   10.0    212.0         33.0   13888.25   \n",
       "7     1002   59       Стерлитамак   11.0    243.0         32.0   18587.28   \n",
       "8     1002   59       Стерлитамак   12.0    236.0         33.0   18113.73   \n",
       "9     1005   67  Набережные Челны    1.0     95.0         15.0    2727.97   \n",
       "\n",
       "   count_message  \n",
       "0            NaN  \n",
       "1            NaN  \n",
       "2            4.0  \n",
       "3           11.0  \n",
       "4           13.0  \n",
       "5            4.0  \n",
       "6           10.0  \n",
       "7           16.0  \n",
       "8           12.0  \n",
       "9            7.0  "
      ]
     },
     "metadata": {},
     "output_type": "display_data"
    }
   ],
   "source": [
    "# Обьеденим таблицы по тарифу\n",
    "tariffs_table = tariffs.merge(total_tarif_table, on='tariff')\n",
    "display(tariffs_table.head(10))"
   ]
  },
  {
   "cell_type": "markdown",
   "metadata": {},
   "source": [
    "Выведем на экран столбцы с нулевыми значениями, в столбце month, значения не можем заменить и удалим их, их всего 8 значений, в остальных столбцах заполним нулями. Как будто в это время не было использованных минут, трафика, смс."
   ]
  },
  {
   "cell_type": "code",
   "execution_count": 101,
   "metadata": {},
   "outputs": [
    {
     "data": {
      "text/html": [
       "<div>\n",
       "<style scoped>\n",
       "    .dataframe tbody tr th:only-of-type {\n",
       "        vertical-align: middle;\n",
       "    }\n",
       "\n",
       "    .dataframe tbody tr th {\n",
       "        vertical-align: top;\n",
       "    }\n",
       "\n",
       "    .dataframe thead th {\n",
       "        text-align: right;\n",
       "    }\n",
       "</style>\n",
       "<table border=\"1\" class=\"dataframe\">\n",
       "  <thead>\n",
       "    <tr style=\"text-align: right;\">\n",
       "      <th></th>\n",
       "      <th>messages_included</th>\n",
       "      <th>mb_per_month_included</th>\n",
       "      <th>minutes_included</th>\n",
       "      <th>rub_monthly_fee</th>\n",
       "      <th>rub_per_gb</th>\n",
       "      <th>rub_per_message</th>\n",
       "      <th>rub_per_minute</th>\n",
       "      <th>tariff</th>\n",
       "      <th>user_id</th>\n",
       "      <th>age</th>\n",
       "      <th>city</th>\n",
       "      <th>month</th>\n",
       "      <th>minutes</th>\n",
       "      <th>count_durat</th>\n",
       "      <th>internets</th>\n",
       "      <th>count_message</th>\n",
       "    </tr>\n",
       "  </thead>\n",
       "  <tbody>\n",
       "    <tr>\n",
       "      <th>0</th>\n",
       "      <td>50</td>\n",
       "      <td>15360</td>\n",
       "      <td>500</td>\n",
       "      <td>550</td>\n",
       "      <td>200</td>\n",
       "      <td>3</td>\n",
       "      <td>3</td>\n",
       "      <td>smart</td>\n",
       "      <td>1001</td>\n",
       "      <td>41</td>\n",
       "      <td>Москва</td>\n",
       "      <td>11.0</td>\n",
       "      <td>430.0</td>\n",
       "      <td>59.0</td>\n",
       "      <td>18429.34</td>\n",
       "      <td>0.0</td>\n",
       "    </tr>\n",
       "    <tr>\n",
       "      <th>1</th>\n",
       "      <td>50</td>\n",
       "      <td>15360</td>\n",
       "      <td>500</td>\n",
       "      <td>550</td>\n",
       "      <td>200</td>\n",
       "      <td>3</td>\n",
       "      <td>3</td>\n",
       "      <td>smart</td>\n",
       "      <td>1001</td>\n",
       "      <td>41</td>\n",
       "      <td>Москва</td>\n",
       "      <td>12.0</td>\n",
       "      <td>414.0</td>\n",
       "      <td>63.0</td>\n",
       "      <td>14036.66</td>\n",
       "      <td>0.0</td>\n",
       "    </tr>\n",
       "    <tr>\n",
       "      <th>2</th>\n",
       "      <td>50</td>\n",
       "      <td>15360</td>\n",
       "      <td>500</td>\n",
       "      <td>550</td>\n",
       "      <td>200</td>\n",
       "      <td>3</td>\n",
       "      <td>3</td>\n",
       "      <td>smart</td>\n",
       "      <td>1002</td>\n",
       "      <td>59</td>\n",
       "      <td>Стерлитамак</td>\n",
       "      <td>6.0</td>\n",
       "      <td>117.0</td>\n",
       "      <td>15.0</td>\n",
       "      <td>10856.82</td>\n",
       "      <td>4.0</td>\n",
       "    </tr>\n",
       "    <tr>\n",
       "      <th>3</th>\n",
       "      <td>50</td>\n",
       "      <td>15360</td>\n",
       "      <td>500</td>\n",
       "      <td>550</td>\n",
       "      <td>200</td>\n",
       "      <td>3</td>\n",
       "      <td>3</td>\n",
       "      <td>smart</td>\n",
       "      <td>1002</td>\n",
       "      <td>59</td>\n",
       "      <td>Стерлитамак</td>\n",
       "      <td>7.0</td>\n",
       "      <td>214.0</td>\n",
       "      <td>26.0</td>\n",
       "      <td>17580.10</td>\n",
       "      <td>11.0</td>\n",
       "    </tr>\n",
       "    <tr>\n",
       "      <th>4</th>\n",
       "      <td>50</td>\n",
       "      <td>15360</td>\n",
       "      <td>500</td>\n",
       "      <td>550</td>\n",
       "      <td>200</td>\n",
       "      <td>3</td>\n",
       "      <td>3</td>\n",
       "      <td>smart</td>\n",
       "      <td>1002</td>\n",
       "      <td>59</td>\n",
       "      <td>Стерлитамак</td>\n",
       "      <td>8.0</td>\n",
       "      <td>289.0</td>\n",
       "      <td>42.0</td>\n",
       "      <td>20319.26</td>\n",
       "      <td>13.0</td>\n",
       "    </tr>\n",
       "    <tr>\n",
       "      <th>5</th>\n",
       "      <td>50</td>\n",
       "      <td>15360</td>\n",
       "      <td>500</td>\n",
       "      <td>550</td>\n",
       "      <td>200</td>\n",
       "      <td>3</td>\n",
       "      <td>3</td>\n",
       "      <td>smart</td>\n",
       "      <td>1002</td>\n",
       "      <td>59</td>\n",
       "      <td>Стерлитамак</td>\n",
       "      <td>9.0</td>\n",
       "      <td>206.0</td>\n",
       "      <td>36.0</td>\n",
       "      <td>16691.08</td>\n",
       "      <td>4.0</td>\n",
       "    </tr>\n",
       "    <tr>\n",
       "      <th>6</th>\n",
       "      <td>50</td>\n",
       "      <td>15360</td>\n",
       "      <td>500</td>\n",
       "      <td>550</td>\n",
       "      <td>200</td>\n",
       "      <td>3</td>\n",
       "      <td>3</td>\n",
       "      <td>smart</td>\n",
       "      <td>1002</td>\n",
       "      <td>59</td>\n",
       "      <td>Стерлитамак</td>\n",
       "      <td>10.0</td>\n",
       "      <td>212.0</td>\n",
       "      <td>33.0</td>\n",
       "      <td>13888.25</td>\n",
       "      <td>10.0</td>\n",
       "    </tr>\n",
       "    <tr>\n",
       "      <th>7</th>\n",
       "      <td>50</td>\n",
       "      <td>15360</td>\n",
       "      <td>500</td>\n",
       "      <td>550</td>\n",
       "      <td>200</td>\n",
       "      <td>3</td>\n",
       "      <td>3</td>\n",
       "      <td>smart</td>\n",
       "      <td>1002</td>\n",
       "      <td>59</td>\n",
       "      <td>Стерлитамак</td>\n",
       "      <td>11.0</td>\n",
       "      <td>243.0</td>\n",
       "      <td>32.0</td>\n",
       "      <td>18587.28</td>\n",
       "      <td>16.0</td>\n",
       "    </tr>\n",
       "    <tr>\n",
       "      <th>8</th>\n",
       "      <td>50</td>\n",
       "      <td>15360</td>\n",
       "      <td>500</td>\n",
       "      <td>550</td>\n",
       "      <td>200</td>\n",
       "      <td>3</td>\n",
       "      <td>3</td>\n",
       "      <td>smart</td>\n",
       "      <td>1002</td>\n",
       "      <td>59</td>\n",
       "      <td>Стерлитамак</td>\n",
       "      <td>12.0</td>\n",
       "      <td>236.0</td>\n",
       "      <td>33.0</td>\n",
       "      <td>18113.73</td>\n",
       "      <td>12.0</td>\n",
       "    </tr>\n",
       "    <tr>\n",
       "      <th>9</th>\n",
       "      <td>50</td>\n",
       "      <td>15360</td>\n",
       "      <td>500</td>\n",
       "      <td>550</td>\n",
       "      <td>200</td>\n",
       "      <td>3</td>\n",
       "      <td>3</td>\n",
       "      <td>smart</td>\n",
       "      <td>1005</td>\n",
       "      <td>67</td>\n",
       "      <td>Набережные Челны</td>\n",
       "      <td>1.0</td>\n",
       "      <td>95.0</td>\n",
       "      <td>15.0</td>\n",
       "      <td>2727.97</td>\n",
       "      <td>7.0</td>\n",
       "    </tr>\n",
       "  </tbody>\n",
       "</table>\n",
       "</div>"
      ],
      "text/plain": [
       "   messages_included  mb_per_month_included  minutes_included  \\\n",
       "0                 50                  15360               500   \n",
       "1                 50                  15360               500   \n",
       "2                 50                  15360               500   \n",
       "3                 50                  15360               500   \n",
       "4                 50                  15360               500   \n",
       "5                 50                  15360               500   \n",
       "6                 50                  15360               500   \n",
       "7                 50                  15360               500   \n",
       "8                 50                  15360               500   \n",
       "9                 50                  15360               500   \n",
       "\n",
       "   rub_monthly_fee  rub_per_gb  rub_per_message  rub_per_minute tariff  \\\n",
       "0              550         200                3               3  smart   \n",
       "1              550         200                3               3  smart   \n",
       "2              550         200                3               3  smart   \n",
       "3              550         200                3               3  smart   \n",
       "4              550         200                3               3  smart   \n",
       "5              550         200                3               3  smart   \n",
       "6              550         200                3               3  smart   \n",
       "7              550         200                3               3  smart   \n",
       "8              550         200                3               3  smart   \n",
       "9              550         200                3               3  smart   \n",
       "\n",
       "   user_id  age              city  month  minutes  count_durat  internets  \\\n",
       "0     1001   41            Москва   11.0    430.0         59.0   18429.34   \n",
       "1     1001   41            Москва   12.0    414.0         63.0   14036.66   \n",
       "2     1002   59       Стерлитамак    6.0    117.0         15.0   10856.82   \n",
       "3     1002   59       Стерлитамак    7.0    214.0         26.0   17580.10   \n",
       "4     1002   59       Стерлитамак    8.0    289.0         42.0   20319.26   \n",
       "5     1002   59       Стерлитамак    9.0    206.0         36.0   16691.08   \n",
       "6     1002   59       Стерлитамак   10.0    212.0         33.0   13888.25   \n",
       "7     1002   59       Стерлитамак   11.0    243.0         32.0   18587.28   \n",
       "8     1002   59       Стерлитамак   12.0    236.0         33.0   18113.73   \n",
       "9     1005   67  Набережные Челны    1.0     95.0         15.0    2727.97   \n",
       "\n",
       "   count_message  \n",
       "0            0.0  \n",
       "1            0.0  \n",
       "2            4.0  \n",
       "3           11.0  \n",
       "4           13.0  \n",
       "5            4.0  \n",
       "6           10.0  \n",
       "7           16.0  \n",
       "8           12.0  \n",
       "9            7.0  "
      ]
     },
     "metadata": {},
     "output_type": "display_data"
    }
   ],
   "source": [
    "#tariffs_table.isnull().sum()\n",
    "tariffs_table = tariffs_table.dropna(subset=['month'])\n",
    "tariffs_table.isnull().sum()\n",
    "tariffs_table = tariffs_table.fillna(0)\n",
    "#tariffs_table.isnull().sum()\n",
    "display(tariffs_table.head(10))"
   ]
  },
  {
   "cell_type": "markdown",
   "metadata": {},
   "source": [
    "Посчитаем помесячную выручку для каждого пользователя."
   ]
  },
  {
   "cell_type": "code",
   "execution_count": 102,
   "metadata": {},
   "outputs": [
    {
     "data": {
      "text/html": [
       "<div>\n",
       "<style scoped>\n",
       "    .dataframe tbody tr th:only-of-type {\n",
       "        vertical-align: middle;\n",
       "    }\n",
       "\n",
       "    .dataframe tbody tr th {\n",
       "        vertical-align: top;\n",
       "    }\n",
       "\n",
       "    .dataframe thead th {\n",
       "        text-align: right;\n",
       "    }\n",
       "</style>\n",
       "<table border=\"1\" class=\"dataframe\">\n",
       "  <thead>\n",
       "    <tr style=\"text-align: right;\">\n",
       "      <th></th>\n",
       "      <th>messages_included</th>\n",
       "      <th>mb_per_month_included</th>\n",
       "      <th>minutes_included</th>\n",
       "      <th>rub_monthly_fee</th>\n",
       "      <th>rub_per_gb</th>\n",
       "      <th>rub_per_message</th>\n",
       "      <th>rub_per_minute</th>\n",
       "      <th>tariff</th>\n",
       "      <th>user_id</th>\n",
       "      <th>age</th>\n",
       "      <th>city</th>\n",
       "      <th>month</th>\n",
       "      <th>minutes</th>\n",
       "      <th>count_durat</th>\n",
       "      <th>internets</th>\n",
       "      <th>count_message</th>\n",
       "      <th>totalls</th>\n",
       "    </tr>\n",
       "  </thead>\n",
       "  <tbody>\n",
       "    <tr>\n",
       "      <th>0</th>\n",
       "      <td>50</td>\n",
       "      <td>15360</td>\n",
       "      <td>500</td>\n",
       "      <td>550</td>\n",
       "      <td>200</td>\n",
       "      <td>3</td>\n",
       "      <td>3</td>\n",
       "      <td>smart</td>\n",
       "      <td>1001</td>\n",
       "      <td>41</td>\n",
       "      <td>Москва</td>\n",
       "      <td>11.0</td>\n",
       "      <td>430.0</td>\n",
       "      <td>59.0</td>\n",
       "      <td>18.0</td>\n",
       "      <td>0.0</td>\n",
       "      <td>1150.0</td>\n",
       "    </tr>\n",
       "    <tr>\n",
       "      <th>1</th>\n",
       "      <td>50</td>\n",
       "      <td>15360</td>\n",
       "      <td>500</td>\n",
       "      <td>550</td>\n",
       "      <td>200</td>\n",
       "      <td>3</td>\n",
       "      <td>3</td>\n",
       "      <td>smart</td>\n",
       "      <td>1001</td>\n",
       "      <td>41</td>\n",
       "      <td>Москва</td>\n",
       "      <td>12.0</td>\n",
       "      <td>414.0</td>\n",
       "      <td>63.0</td>\n",
       "      <td>14.0</td>\n",
       "      <td>0.0</td>\n",
       "      <td>550.0</td>\n",
       "    </tr>\n",
       "    <tr>\n",
       "      <th>2</th>\n",
       "      <td>50</td>\n",
       "      <td>15360</td>\n",
       "      <td>500</td>\n",
       "      <td>550</td>\n",
       "      <td>200</td>\n",
       "      <td>3</td>\n",
       "      <td>3</td>\n",
       "      <td>smart</td>\n",
       "      <td>1002</td>\n",
       "      <td>59</td>\n",
       "      <td>Стерлитамак</td>\n",
       "      <td>6.0</td>\n",
       "      <td>117.0</td>\n",
       "      <td>15.0</td>\n",
       "      <td>11.0</td>\n",
       "      <td>4.0</td>\n",
       "      <td>550.0</td>\n",
       "    </tr>\n",
       "    <tr>\n",
       "      <th>3</th>\n",
       "      <td>50</td>\n",
       "      <td>15360</td>\n",
       "      <td>500</td>\n",
       "      <td>550</td>\n",
       "      <td>200</td>\n",
       "      <td>3</td>\n",
       "      <td>3</td>\n",
       "      <td>smart</td>\n",
       "      <td>1002</td>\n",
       "      <td>59</td>\n",
       "      <td>Стерлитамак</td>\n",
       "      <td>7.0</td>\n",
       "      <td>214.0</td>\n",
       "      <td>26.0</td>\n",
       "      <td>18.0</td>\n",
       "      <td>11.0</td>\n",
       "      <td>1150.0</td>\n",
       "    </tr>\n",
       "    <tr>\n",
       "      <th>4</th>\n",
       "      <td>50</td>\n",
       "      <td>15360</td>\n",
       "      <td>500</td>\n",
       "      <td>550</td>\n",
       "      <td>200</td>\n",
       "      <td>3</td>\n",
       "      <td>3</td>\n",
       "      <td>smart</td>\n",
       "      <td>1002</td>\n",
       "      <td>59</td>\n",
       "      <td>Стерлитамак</td>\n",
       "      <td>8.0</td>\n",
       "      <td>289.0</td>\n",
       "      <td>42.0</td>\n",
       "      <td>20.0</td>\n",
       "      <td>13.0</td>\n",
       "      <td>1550.0</td>\n",
       "    </tr>\n",
       "    <tr>\n",
       "      <th>...</th>\n",
       "      <td>...</td>\n",
       "      <td>...</td>\n",
       "      <td>...</td>\n",
       "      <td>...</td>\n",
       "      <td>...</td>\n",
       "      <td>...</td>\n",
       "      <td>...</td>\n",
       "      <td>...</td>\n",
       "      <td>...</td>\n",
       "      <td>...</td>\n",
       "      <td>...</td>\n",
       "      <td>...</td>\n",
       "      <td>...</td>\n",
       "      <td>...</td>\n",
       "      <td>...</td>\n",
       "      <td>...</td>\n",
       "      <td>...</td>\n",
       "    </tr>\n",
       "    <tr>\n",
       "      <th>3211</th>\n",
       "      <td>1000</td>\n",
       "      <td>30720</td>\n",
       "      <td>3000</td>\n",
       "      <td>1950</td>\n",
       "      <td>150</td>\n",
       "      <td>1</td>\n",
       "      <td>1</td>\n",
       "      <td>ultra</td>\n",
       "      <td>1495</td>\n",
       "      <td>65</td>\n",
       "      <td>Иркутск</td>\n",
       "      <td>8.0</td>\n",
       "      <td>92.0</td>\n",
       "      <td>17.0</td>\n",
       "      <td>3.0</td>\n",
       "      <td>13.0</td>\n",
       "      <td>1950.0</td>\n",
       "    </tr>\n",
       "    <tr>\n",
       "      <th>3212</th>\n",
       "      <td>1000</td>\n",
       "      <td>30720</td>\n",
       "      <td>3000</td>\n",
       "      <td>1950</td>\n",
       "      <td>150</td>\n",
       "      <td>1</td>\n",
       "      <td>1</td>\n",
       "      <td>ultra</td>\n",
       "      <td>1495</td>\n",
       "      <td>65</td>\n",
       "      <td>Иркутск</td>\n",
       "      <td>9.0</td>\n",
       "      <td>813.0</td>\n",
       "      <td>112.0</td>\n",
       "      <td>33.0</td>\n",
       "      <td>82.0</td>\n",
       "      <td>2400.0</td>\n",
       "    </tr>\n",
       "    <tr>\n",
       "      <th>3213</th>\n",
       "      <td>1000</td>\n",
       "      <td>30720</td>\n",
       "      <td>3000</td>\n",
       "      <td>1950</td>\n",
       "      <td>150</td>\n",
       "      <td>1</td>\n",
       "      <td>1</td>\n",
       "      <td>ultra</td>\n",
       "      <td>1495</td>\n",
       "      <td>65</td>\n",
       "      <td>Иркутск</td>\n",
       "      <td>10.0</td>\n",
       "      <td>1030.0</td>\n",
       "      <td>152.0</td>\n",
       "      <td>29.0</td>\n",
       "      <td>82.0</td>\n",
       "      <td>1950.0</td>\n",
       "    </tr>\n",
       "    <tr>\n",
       "      <th>3214</th>\n",
       "      <td>1000</td>\n",
       "      <td>30720</td>\n",
       "      <td>3000</td>\n",
       "      <td>1950</td>\n",
       "      <td>150</td>\n",
       "      <td>1</td>\n",
       "      <td>1</td>\n",
       "      <td>ultra</td>\n",
       "      <td>1495</td>\n",
       "      <td>65</td>\n",
       "      <td>Иркутск</td>\n",
       "      <td>11.0</td>\n",
       "      <td>954.0</td>\n",
       "      <td>129.0</td>\n",
       "      <td>39.0</td>\n",
       "      <td>79.0</td>\n",
       "      <td>3300.0</td>\n",
       "    </tr>\n",
       "    <tr>\n",
       "      <th>3215</th>\n",
       "      <td>1000</td>\n",
       "      <td>30720</td>\n",
       "      <td>3000</td>\n",
       "      <td>1950</td>\n",
       "      <td>150</td>\n",
       "      <td>1</td>\n",
       "      <td>1</td>\n",
       "      <td>ultra</td>\n",
       "      <td>1495</td>\n",
       "      <td>65</td>\n",
       "      <td>Иркутск</td>\n",
       "      <td>12.0</td>\n",
       "      <td>1031.0</td>\n",
       "      <td>155.0</td>\n",
       "      <td>23.0</td>\n",
       "      <td>84.0</td>\n",
       "      <td>1950.0</td>\n",
       "    </tr>\n",
       "  </tbody>\n",
       "</table>\n",
       "<p>3214 rows × 17 columns</p>\n",
       "</div>"
      ],
      "text/plain": [
       "      messages_included  mb_per_month_included  minutes_included  \\\n",
       "0                    50                  15360               500   \n",
       "1                    50                  15360               500   \n",
       "2                    50                  15360               500   \n",
       "3                    50                  15360               500   \n",
       "4                    50                  15360               500   \n",
       "...                 ...                    ...               ...   \n",
       "3211               1000                  30720              3000   \n",
       "3212               1000                  30720              3000   \n",
       "3213               1000                  30720              3000   \n",
       "3214               1000                  30720              3000   \n",
       "3215               1000                  30720              3000   \n",
       "\n",
       "      rub_monthly_fee  rub_per_gb  rub_per_message  rub_per_minute tariff  \\\n",
       "0                 550         200                3               3  smart   \n",
       "1                 550         200                3               3  smart   \n",
       "2                 550         200                3               3  smart   \n",
       "3                 550         200                3               3  smart   \n",
       "4                 550         200                3               3  smart   \n",
       "...               ...         ...              ...             ...    ...   \n",
       "3211             1950         150                1               1  ultra   \n",
       "3212             1950         150                1               1  ultra   \n",
       "3213             1950         150                1               1  ultra   \n",
       "3214             1950         150                1               1  ultra   \n",
       "3215             1950         150                1               1  ultra   \n",
       "\n",
       "      user_id  age         city  month  minutes  count_durat  internets  \\\n",
       "0        1001   41       Москва   11.0    430.0         59.0       18.0   \n",
       "1        1001   41       Москва   12.0    414.0         63.0       14.0   \n",
       "2        1002   59  Стерлитамак    6.0    117.0         15.0       11.0   \n",
       "3        1002   59  Стерлитамак    7.0    214.0         26.0       18.0   \n",
       "4        1002   59  Стерлитамак    8.0    289.0         42.0       20.0   \n",
       "...       ...  ...          ...    ...      ...          ...        ...   \n",
       "3211     1495   65      Иркутск    8.0     92.0         17.0        3.0   \n",
       "3212     1495   65      Иркутск    9.0    813.0        112.0       33.0   \n",
       "3213     1495   65      Иркутск   10.0   1030.0        152.0       29.0   \n",
       "3214     1495   65      Иркутск   11.0    954.0        129.0       39.0   \n",
       "3215     1495   65      Иркутск   12.0   1031.0        155.0       23.0   \n",
       "\n",
       "      count_message  totalls  \n",
       "0               0.0   1150.0  \n",
       "1               0.0    550.0  \n",
       "2               4.0    550.0  \n",
       "3              11.0   1150.0  \n",
       "4              13.0   1550.0  \n",
       "...             ...      ...  \n",
       "3211           13.0   1950.0  \n",
       "3212           82.0   2400.0  \n",
       "3213           82.0   1950.0  \n",
       "3214           79.0   3300.0  \n",
       "3215           84.0   1950.0  \n",
       "\n",
       "[3214 rows x 17 columns]"
      ]
     },
     "metadata": {},
     "output_type": "display_data"
    }
   ],
   "source": [
    "def total_sum(row):\n",
    "    message_sum = 0\n",
    "    minut_sum = 0\n",
    "    internet_sum = 0\n",
    "    tariff = row['tariff']\n",
    "    minutes = row['minutes']\n",
    "    internets = row['internets']\n",
    "    sms = row['count_message']\n",
    "    price_minute = row['rub_per_minute']\n",
    "    price_message = row['rub_per_message']\n",
    "    price_gb = row['rub_per_gb']\n",
    "    messages_included = row['messages_included']\n",
    "    mb_included = row['mb_per_month_included']\n",
    "    minutes_included = row['minutes_included']\n",
    "    rub_monthly_fee = row['rub_monthly_fee']\n",
    "\n",
    "    if minutes > minutes_included:\n",
    "        minut_sum+=(minutes-minutes_included)*price_minute\n",
    "    if internets > mb_included / 1024:\n",
    "        internet_sum += (internets-mb_included/1024)*price_gb\n",
    "    if sms > messages_included:\n",
    "        message_sum += (sms-messages_included)*price_message\n",
    "    return minut_sum + internet_sum + message_sum + rub_monthly_fee\n",
    "\n",
    "\n",
    "# tariffs_table['totalls'] = tariffs_table.apply(total_sum, axis=1)\n",
    "# tariffs_table['internets'] = np.ceil(tariffs_table['internets'] / 1024)\n",
    "\n",
    "# Код ревьюера\n",
    "\n",
    "tariffs_table['internets'] = np.ceil(tariffs_table['internets'] / 1024)\n",
    "tariffs_table['totalls'] = tariffs_table.apply(total_sum, axis=1)\n",
    "\n",
    "\n",
    "display(tariffs_table)"
   ]
  },
  {
   "cell_type": "markdown",
   "metadata": {},
   "source": [
    "## Анализ данных"
   ]
  },
  {
   "cell_type": "markdown",
   "metadata": {},
   "source": [
    "# Проанализируем сколько по месяцам потратили в тарифах пользователи"
   ]
  },
  {
   "cell_type": "code",
   "execution_count": 103,
   "metadata": {},
   "outputs": [
    {
     "data": {
      "text/html": [
       "<div>\n",
       "<style scoped>\n",
       "    .dataframe tbody tr th:only-of-type {\n",
       "        vertical-align: middle;\n",
       "    }\n",
       "\n",
       "    .dataframe tbody tr th {\n",
       "        vertical-align: top;\n",
       "    }\n",
       "\n",
       "    .dataframe thead th {\n",
       "        text-align: right;\n",
       "    }\n",
       "</style>\n",
       "<table border=\"1\" class=\"dataframe\">\n",
       "  <thead>\n",
       "    <tr style=\"text-align: right;\">\n",
       "      <th></th>\n",
       "      <th>tariff</th>\n",
       "      <th>month</th>\n",
       "      <th>count_durat</th>\n",
       "      <th>count_message</th>\n",
       "      <th>internets</th>\n",
       "      <th>minutes</th>\n",
       "      <th>totalls</th>\n",
       "    </tr>\n",
       "    <tr>\n",
       "      <th>user_id</th>\n",
       "      <th></th>\n",
       "      <th></th>\n",
       "      <th></th>\n",
       "      <th></th>\n",
       "      <th></th>\n",
       "      <th></th>\n",
       "      <th></th>\n",
       "    </tr>\n",
       "  </thead>\n",
       "  <tbody>\n",
       "    <tr>\n",
       "      <th>1005</th>\n",
       "      <td>smart</td>\n",
       "      <td>1.0</td>\n",
       "      <td>15.0</td>\n",
       "      <td>7.0</td>\n",
       "      <td>3.0</td>\n",
       "      <td>95.0</td>\n",
       "      <td>550.0</td>\n",
       "    </tr>\n",
       "    <tr>\n",
       "      <th>1032</th>\n",
       "      <td>smart</td>\n",
       "      <td>1.0</td>\n",
       "      <td>61.0</td>\n",
       "      <td>38.0</td>\n",
       "      <td>24.0</td>\n",
       "      <td>380.0</td>\n",
       "      <td>2350.0</td>\n",
       "    </tr>\n",
       "    <tr>\n",
       "      <th>1045</th>\n",
       "      <td>smart</td>\n",
       "      <td>1.0</td>\n",
       "      <td>1.0</td>\n",
       "      <td>5.0</td>\n",
       "      <td>3.0</td>\n",
       "      <td>9.0</td>\n",
       "      <td>550.0</td>\n",
       "    </tr>\n",
       "    <tr>\n",
       "      <th>1055</th>\n",
       "      <td>smart</td>\n",
       "      <td>1.0</td>\n",
       "      <td>64.0</td>\n",
       "      <td>30.0</td>\n",
       "      <td>17.0</td>\n",
       "      <td>551.0</td>\n",
       "      <td>1103.0</td>\n",
       "    </tr>\n",
       "    <tr>\n",
       "      <th>1071</th>\n",
       "      <td>smart</td>\n",
       "      <td>1.0</td>\n",
       "      <td>24.0</td>\n",
       "      <td>16.0</td>\n",
       "      <td>16.0</td>\n",
       "      <td>194.0</td>\n",
       "      <td>750.0</td>\n",
       "    </tr>\n",
       "    <tr>\n",
       "      <th>...</th>\n",
       "      <td>...</td>\n",
       "      <td>...</td>\n",
       "      <td>...</td>\n",
       "      <td>...</td>\n",
       "      <td>...</td>\n",
       "      <td>...</td>\n",
       "      <td>...</td>\n",
       "    </tr>\n",
       "    <tr>\n",
       "      <th>1476</th>\n",
       "      <td>ultra</td>\n",
       "      <td>12.0</td>\n",
       "      <td>81.0</td>\n",
       "      <td>11.0</td>\n",
       "      <td>14.0</td>\n",
       "      <td>588.0</td>\n",
       "      <td>1950.0</td>\n",
       "    </tr>\n",
       "    <tr>\n",
       "      <th>1485</th>\n",
       "      <td>ultra</td>\n",
       "      <td>12.0</td>\n",
       "      <td>94.0</td>\n",
       "      <td>155.0</td>\n",
       "      <td>23.0</td>\n",
       "      <td>584.0</td>\n",
       "      <td>1950.0</td>\n",
       "    </tr>\n",
       "    <tr>\n",
       "      <th>1491</th>\n",
       "      <td>ultra</td>\n",
       "      <td>12.0</td>\n",
       "      <td>90.0</td>\n",
       "      <td>51.0</td>\n",
       "      <td>22.0</td>\n",
       "      <td>674.0</td>\n",
       "      <td>1950.0</td>\n",
       "    </tr>\n",
       "    <tr>\n",
       "      <th>1493</th>\n",
       "      <td>ultra</td>\n",
       "      <td>12.0</td>\n",
       "      <td>84.0</td>\n",
       "      <td>78.0</td>\n",
       "      <td>42.0</td>\n",
       "      <td>571.0</td>\n",
       "      <td>3750.0</td>\n",
       "    </tr>\n",
       "    <tr>\n",
       "      <th>1495</th>\n",
       "      <td>ultra</td>\n",
       "      <td>12.0</td>\n",
       "      <td>155.0</td>\n",
       "      <td>84.0</td>\n",
       "      <td>23.0</td>\n",
       "      <td>1031.0</td>\n",
       "      <td>1950.0</td>\n",
       "    </tr>\n",
       "  </tbody>\n",
       "</table>\n",
       "<p>3214 rows × 7 columns</p>\n",
       "</div>"
      ],
      "text/plain": [
       "        tariff  month  count_durat  count_message  internets  minutes  totalls\n",
       "user_id                                                                       \n",
       "1005     smart    1.0         15.0            7.0        3.0     95.0    550.0\n",
       "1032     smart    1.0         61.0           38.0       24.0    380.0   2350.0\n",
       "1045     smart    1.0          1.0            5.0        3.0      9.0    550.0\n",
       "1055     smart    1.0         64.0           30.0       17.0    551.0   1103.0\n",
       "1071     smart    1.0         24.0           16.0       16.0    194.0    750.0\n",
       "...        ...    ...          ...            ...        ...      ...      ...\n",
       "1476     ultra   12.0         81.0           11.0       14.0    588.0   1950.0\n",
       "1485     ultra   12.0         94.0          155.0       23.0    584.0   1950.0\n",
       "1491     ultra   12.0         90.0           51.0       22.0    674.0   1950.0\n",
       "1493     ultra   12.0         84.0           78.0       42.0    571.0   3750.0\n",
       "1495     ultra   12.0        155.0           84.0       23.0   1031.0   1950.0\n",
       "\n",
       "[3214 rows x 7 columns]"
      ]
     },
     "metadata": {},
     "output_type": "display_data"
    }
   ],
   "source": [
    "totalls_month = tariffs_table.pivot_table(index = ['tariff', 'month', 'user_id'], values = ['minutes', 'count_durat', 'internets', 'count_message', 'totalls'], aggfunc='sum')\n",
    "totalls_month = totalls_month.reset_index(level='month')\n",
    "totalls_month = totalls_month.reset_index(level='tariff')\n",
    "display(totalls_month)"
   ]
  },
  {
   "cell_type": "code",
   "execution_count": 104,
   "metadata": {},
   "outputs": [
    {
     "data": {
      "text/plain": [
       "month               8.346792\n",
       "count_durat        58.463437\n",
       "count_message      33.384029\n",
       "internets          16.328847\n",
       "minutes           417.934937\n",
       "totalls          1289.973531\n",
       "dtype: float64"
      ]
     },
     "metadata": {},
     "output_type": "display_data"
    },
    {
     "data": {
      "text/plain": [
       "month               8.250761\n",
       "count_durat        73.392893\n",
       "count_message      49.363452\n",
       "internets          19.494416\n",
       "minutes           526.623352\n",
       "totalls          2070.152284\n",
       "dtype: float64"
      ]
     },
     "metadata": {},
     "output_type": "display_data"
    }
   ],
   "source": [
    "# Выведем среднее\n",
    "value_smart = totalls_month[totalls_month['tariff']=='smart'].mean()\n",
    "value_ultra = totalls_month[totalls_month['tariff']=='ultra'].mean()\n",
    "display(value_smart)\n",
    "display(value_ultra)"
   ]
  },
  {
   "cell_type": "markdown",
   "metadata": {},
   "source": [
    "Видим что в тарифе ультра средние значения больше, чем в тарифе смарт"
   ]
  },
  {
   "cell_type": "code",
   "execution_count": 105,
   "metadata": {},
   "outputs": [
    {
     "data": {
      "text/plain": [
       "month                 8.524419\n",
       "count_durat         672.574370\n",
       "count_message       796.455483\n",
       "internets            33.013887\n",
       "minutes           36203.066406\n",
       "totalls          669485.220923\n",
       "dtype: float64"
      ]
     },
     "metadata": {},
     "output_type": "display_data"
    },
    {
     "data": {
      "text/plain": [
       "month                 8.238642\n",
       "count_durat        1926.731929\n",
       "count_message      2282.946075\n",
       "internets            96.993116\n",
       "minutes          100771.226562\n",
       "totalls          141373.073256\n",
       "dtype: float64"
      ]
     },
     "metadata": {},
     "output_type": "display_data"
    }
   ],
   "source": [
    "# Посчитаем дисперсию\n",
    "var_smart = np.var(totalls_month[totalls_month['tariff']=='smart'])\n",
    "var_ultra = np.var(totalls_month[totalls_month['tariff']=='ultra'])\n",
    "display(var_smart)\n",
    "display(var_ultra)"
   ]
  },
  {
   "cell_type": "markdown",
   "metadata": {},
   "source": [
    "По всем параметрам в тарифе ультра дисперсия больше, кроме общего значения"
   ]
  },
  {
   "cell_type": "code",
   "execution_count": 106,
   "metadata": {},
   "outputs": [
    {
     "data": {
      "text/plain": [
       "month              2.919661\n",
       "count_durat       25.934039\n",
       "count_message     28.221543\n",
       "internets          5.745771\n",
       "minutes          190.271034\n",
       "totalls          818.220765\n",
       "dtype: float64"
      ]
     },
     "metadata": {},
     "output_type": "display_data"
    },
    {
     "data": {
      "text/plain": [
       "month              2.870303\n",
       "count_durat       43.894555\n",
       "count_message     47.780185\n",
       "internets          9.848508\n",
       "minutes          317.444840\n",
       "totalls          375.996108\n",
       "dtype: float64"
      ]
     },
     "metadata": {},
     "output_type": "display_data"
    }
   ],
   "source": [
    "# Посчитаем среднее отклонение\n",
    "standart_dev_smart = np.sqrt(var_smart)\n",
    "standart_dev_ultra = np.sqrt(var_ultra)\n",
    "display(standart_dev_smart)\n",
    "display(standart_dev_ultra)"
   ]
  },
  {
   "cell_type": "markdown",
   "metadata": {},
   "source": [
    "среднее отклонения также в тарифе ультра больше, кроме общего занчения."
   ]
  },
  {
   "cell_type": "markdown",
   "metadata": {},
   "source": [
    "Построим гистограммы, для тарифа смарт, для тарриф ультра."
   ]
  },
  {
   "cell_type": "code",
   "execution_count": 107,
   "metadata": {},
   "outputs": [
    {
     "data": {
      "image/png": "[encoded data removed]",
      "text/plain": [
       "<Figure size 432x288 with 1 Axes>"
      ]
     },
     "metadata": {
      "needs_background": "light"
     },
     "output_type": "display_data"
    }
   ],
   "source": [
    "tariffs_table[tariffs_table['tariff'] == 'ultra']['count_durat'].hist(bins=30, density=True, label='ultra', alpha=0.6, color='cyan')\n",
    "tariffs_table[tariffs_table['tariff'] == 'smart']['count_durat'].hist(bins=30, density=True, label='smart', alpha=0.6, color='purple')\n",
    "plt.legend();"
   ]
  },
  {
   "cell_type": "markdown",
   "metadata": {},
   "source": [
    "По гисторгамме видим количество звонков больше в тарифе ультра, хотя в тарифе смарт больше совершают звонков. "
   ]
  },
  {
   "cell_type": "code",
   "execution_count": 108,
   "metadata": {},
   "outputs": [
    {
     "data": {
      "image/png": "[encoded data removed]",
      "text/plain": [
       "<Figure size 432x288 with 1 Axes>"
      ]
     },
     "metadata": {
      "needs_background": "light"
     },
     "output_type": "display_data"
    }
   ],
   "source": [
    "tariffs_table[tariffs_table['tariff'] == 'ultra']['count_message'].hist(bins=30, density=True, label='ultra', alpha=0.6, color='cyan')\n",
    "tariffs_table[tariffs_table['tariff'] == 'smart']['count_message'].hist(bins=30, density=True, label='smart', alpha=0.6, color='purple')\n",
    "plt.legend();"
   ]
  },
  {
   "cell_type": "markdown",
   "metadata": {},
   "source": [
    "В тарифе ультра смс больше."
   ]
  },
  {
   "cell_type": "code",
   "execution_count": 109,
   "metadata": {},
   "outputs": [
    {
     "data": {
      "image/png": "[encoded data removed]",
      "text/plain": [
       "<Figure size 432x288 with 1 Axes>"
      ]
     },
     "metadata": {
      "needs_background": "light"
     },
     "output_type": "display_data"
    }
   ],
   "source": [
    "tariffs_table[tariffs_table['tariff'] == 'ultra']['internets'].hist(bins=30, density=True, label='ultra', alpha=0.6, color='cyan')\n",
    "tariffs_table[tariffs_table['tariff'] == 'smart']['internets'].hist(bins=30, density=True, label='smart', alpha=0.6, color='purple')\n",
    "plt.legend();"
   ]
  },
  {
   "cell_type": "markdown",
   "metadata": {},
   "source": [
    "Интернет трафик также больше людей использует в тарифе ультра, хотя максимальное значение  трафика в тарифе ультра."
   ]
  },
  {
   "cell_type": "code",
   "execution_count": 110,
   "metadata": {},
   "outputs": [
    {
     "data": {
      "text/html": [
       "<div>\n",
       "<style scoped>\n",
       "    .dataframe tbody tr th:only-of-type {\n",
       "        vertical-align: middle;\n",
       "    }\n",
       "\n",
       "    .dataframe tbody tr th {\n",
       "        vertical-align: top;\n",
       "    }\n",
       "\n",
       "    .dataframe thead th {\n",
       "        text-align: right;\n",
       "    }\n",
       "</style>\n",
       "<table border=\"1\" class=\"dataframe\">\n",
       "  <thead>\n",
       "    <tr style=\"text-align: right;\">\n",
       "      <th></th>\n",
       "      <th>messages_included</th>\n",
       "      <th>mb_per_month_included</th>\n",
       "      <th>minutes_included</th>\n",
       "      <th>rub_monthly_fee</th>\n",
       "      <th>rub_per_gb</th>\n",
       "      <th>rub_per_message</th>\n",
       "      <th>rub_per_minute</th>\n",
       "      <th>tariff</th>\n",
       "      <th>user_id</th>\n",
       "      <th>age</th>\n",
       "      <th>city</th>\n",
       "      <th>month</th>\n",
       "      <th>minutes</th>\n",
       "      <th>count_durat</th>\n",
       "      <th>internets</th>\n",
       "      <th>count_message</th>\n",
       "      <th>totalls</th>\n",
       "    </tr>\n",
       "  </thead>\n",
       "  <tbody>\n",
       "    <tr>\n",
       "      <th>2458</th>\n",
       "      <td>1000</td>\n",
       "      <td>30720</td>\n",
       "      <td>3000</td>\n",
       "      <td>1950</td>\n",
       "      <td>150</td>\n",
       "      <td>1</td>\n",
       "      <td>1</td>\n",
       "      <td>ultra</td>\n",
       "      <td>1124</td>\n",
       "      <td>54</td>\n",
       "      <td>Махачкала</td>\n",
       "      <td>10.0</td>\n",
       "      <td>1225.0</td>\n",
       "      <td>152.0</td>\n",
       "      <td>49.0</td>\n",
       "      <td>121.0</td>\n",
       "      <td>4800.0</td>\n",
       "    </tr>\n",
       "  </tbody>\n",
       "</table>\n",
       "</div>"
      ],
      "text/plain": [
       "      messages_included  mb_per_month_included  minutes_included  \\\n",
       "2458               1000                  30720              3000   \n",
       "\n",
       "      rub_monthly_fee  rub_per_gb  rub_per_message  rub_per_minute tariff  \\\n",
       "2458             1950         150                1               1  ultra   \n",
       "\n",
       "      user_id  age       city  month  minutes  count_durat  internets  \\\n",
       "2458     1124   54  Махачкала   10.0   1225.0        152.0       49.0   \n",
       "\n",
       "      count_message  totalls  \n",
       "2458          121.0   4800.0  "
      ]
     },
     "execution_count": 110,
     "metadata": {},
     "output_type": "execute_result"
    }
   ],
   "source": [
    "\n",
    "tariffs_table[tariffs_table['internets'] == tariffs_table['internets'].max()]"
   ]
  },
  {
   "cell_type": "code",
   "execution_count": 111,
   "metadata": {},
   "outputs": [
    {
     "data": {
      "image/png": "[encoded data removed]",
      "text/plain": [
       "<Figure size 432x288 with 1 Axes>"
      ]
     },
     "metadata": {
      "needs_background": "light"
     },
     "output_type": "display_data"
    }
   ],
   "source": [
    "tariffs_table[tariffs_table['tariff'] == 'ultra']['minutes'].hist(bins=30, density=True, label='ultra', alpha=0.6, color='cyan')\n",
    "tariffs_table[tariffs_table['tariff'] == 'smart']['minutes'].hist(bins=30, density=True, label='smart', alpha=0.6, color='purple')\n",
    "plt.legend();"
   ]
  },
  {
   "cell_type": "markdown",
   "metadata": {},
   "source": [
    "Клиенты ультры часто используют в месяц больше минут, чем клиенты Смарта"
   ]
  },
  {
   "cell_type": "code",
   "execution_count": 112,
   "metadata": {},
   "outputs": [
    {
     "data": {
      "image/png": "[encoded data removed]",
      "text/plain": [
       "<Figure size 432x288 with 1 Axes>"
      ]
     },
     "metadata": {
      "needs_background": "light"
     },
     "output_type": "display_data"
    }
   ],
   "source": [
    "tariffs_table[tariffs_table['tariff'] == 'ultra']['totalls'].hist(bins=10, density=True, label='ultra', alpha=0.6, color='cyan')\n",
    "tariffs_table[tariffs_table['tariff'] == 'smart']['totalls'].hist(bins=10, density=True, label='smart', alpha=0.6, color='purple')\n",
    "plt.legend();"
   ]
  },
  {
   "cell_type": "markdown",
   "metadata": {},
   "source": [
    "Выручка от тарифа смарт больше"
   ]
  },
  {
   "cell_type": "code",
   "execution_count": 113,
   "metadata": {},
   "outputs": [
    {
     "data": {
      "image/png": "[encoded data removed]",
      "text/plain": [
       "<Figure size 432x288 with 1 Axes>"
      ]
     },
     "metadata": {
      "needs_background": "light"
     },
     "output_type": "display_data"
    }
   ],
   "source": [
    "# Код ревьюера\n",
    "\n",
    "tariffs_table[tariffs_table['tariff'] == 'ultra']['minutes'].hist(bins=30, density=True, label='ultra', alpha=0.6, color='cyan')\n",
    "tariffs_table[tariffs_table['tariff'] == 'smart']['minutes'].hist(bins=30, density=True, label='smart', alpha=0.6, color='purple')\n",
    "plt.legend();"
   ]
  },
  {
   "cell_type": "markdown",
   "metadata": {},
   "source": [
    "## Проверка гипотезы"
   ]
  },
  {
   "cell_type": "markdown",
   "metadata": {},
   "source": [
    "Используем гипотезу о равенстве средних двух генеральных совокупностей методом scipy.stats.ttest_ind().\n"
   ]
  },
  {
   "cell_type": "markdown",
   "metadata": {},
   "source": [
    "За нулевую гипотезу Ho примем что средняя выручка пользователей тарифов «Ультра» и «Смарт» равны(Ho всегда со знаком равенства)\n",
    "\n",
    "За альтернативную гипотезу берем H1 средняя выручка пользователей тарифов «Ультра» и «Смарт» различаются."
   ]
  },
  {
   "cell_type": "code",
   "execution_count": 114,
   "metadata": {},
   "outputs": [
    {
     "data": {
      "text/html": [
       "<div>\n",
       "<style scoped>\n",
       "    .dataframe tbody tr th:only-of-type {\n",
       "        vertical-align: middle;\n",
       "    }\n",
       "\n",
       "    .dataframe tbody tr th {\n",
       "        vertical-align: top;\n",
       "    }\n",
       "\n",
       "    .dataframe thead th {\n",
       "        text-align: right;\n",
       "    }\n",
       "</style>\n",
       "<table border=\"1\" class=\"dataframe\">\n",
       "  <thead>\n",
       "    <tr style=\"text-align: right;\">\n",
       "      <th></th>\n",
       "      <th>tariff</th>\n",
       "      <th>month</th>\n",
       "      <th>count_durat</th>\n",
       "      <th>count_message</th>\n",
       "      <th>internets</th>\n",
       "      <th>minutes</th>\n",
       "      <th>totalls</th>\n",
       "    </tr>\n",
       "    <tr>\n",
       "      <th>user_id</th>\n",
       "      <th></th>\n",
       "      <th></th>\n",
       "      <th></th>\n",
       "      <th></th>\n",
       "      <th></th>\n",
       "      <th></th>\n",
       "      <th></th>\n",
       "    </tr>\n",
       "  </thead>\n",
       "  <tbody>\n",
       "    <tr>\n",
       "      <th>1005</th>\n",
       "      <td>smart</td>\n",
       "      <td>1.0</td>\n",
       "      <td>15.0</td>\n",
       "      <td>7.0</td>\n",
       "      <td>3.0</td>\n",
       "      <td>95.0</td>\n",
       "      <td>550.0</td>\n",
       "    </tr>\n",
       "    <tr>\n",
       "      <th>1032</th>\n",
       "      <td>smart</td>\n",
       "      <td>1.0</td>\n",
       "      <td>61.0</td>\n",
       "      <td>38.0</td>\n",
       "      <td>24.0</td>\n",
       "      <td>380.0</td>\n",
       "      <td>2350.0</td>\n",
       "    </tr>\n",
       "    <tr>\n",
       "      <th>1045</th>\n",
       "      <td>smart</td>\n",
       "      <td>1.0</td>\n",
       "      <td>1.0</td>\n",
       "      <td>5.0</td>\n",
       "      <td>3.0</td>\n",
       "      <td>9.0</td>\n",
       "      <td>550.0</td>\n",
       "    </tr>\n",
       "    <tr>\n",
       "      <th>1055</th>\n",
       "      <td>smart</td>\n",
       "      <td>1.0</td>\n",
       "      <td>64.0</td>\n",
       "      <td>30.0</td>\n",
       "      <td>17.0</td>\n",
       "      <td>551.0</td>\n",
       "      <td>1103.0</td>\n",
       "    </tr>\n",
       "    <tr>\n",
       "      <th>1071</th>\n",
       "      <td>smart</td>\n",
       "      <td>1.0</td>\n",
       "      <td>24.0</td>\n",
       "      <td>16.0</td>\n",
       "      <td>16.0</td>\n",
       "      <td>194.0</td>\n",
       "      <td>750.0</td>\n",
       "    </tr>\n",
       "  </tbody>\n",
       "</table>\n",
       "</div>"
      ],
      "text/plain": [
       "        tariff  month  count_durat  count_message  internets  minutes  totalls\n",
       "user_id                                                                       \n",
       "1005     smart    1.0         15.0            7.0        3.0     95.0    550.0\n",
       "1032     smart    1.0         61.0           38.0       24.0    380.0   2350.0\n",
       "1045     smart    1.0          1.0            5.0        3.0      9.0    550.0\n",
       "1055     smart    1.0         64.0           30.0       17.0    551.0   1103.0\n",
       "1071     smart    1.0         24.0           16.0       16.0    194.0    750.0"
      ]
     },
     "metadata": {},
     "output_type": "display_data"
    }
   ],
   "source": [
    "display(totalls_month.head())\n",
    "\n",
    "#totalls_month.drop('tariff_y', inplace=True, axis=1)\n",
    "\n",
    "#display(totalls_month.head())\n",
    "#totalls_month.rename(columns = {'tariff_x' : 'tariff'})\n",
    "#display(totalls_month.head())"
   ]
  },
  {
   "cell_type": "code",
   "execution_count": 115,
   "metadata": {},
   "outputs": [
    {
     "name": "stdout",
     "output_type": "stream",
     "text": [
      "p-значение: 4.2606313931076085e-250\n",
      "Отвергаем нулевую гипотезу\n"
     ]
    }
   ],
   "source": [
    "smart_test = totalls_month[totalls_month['tariff']=='smart']['totalls']\n",
    "ultra_test = totalls_month[totalls_month['tariff']=='ultra']['totalls']\n",
    "\n",
    "# уровень значимости 5%\n",
    "alpha = 0.05\n",
    "# устанавливаем значение equal_var=False, потому что мы знаем что дисперсии не равны\n",
    "results = st.ttest_ind(smart_test, ultra_test, equal_var = False)\n",
    "\n",
    "print('p-значение:', results.pvalue)\n",
    "\n",
    "if results.pvalue < alpha:\n",
    "\n",
    "    print(\"Отвергаем нулевую гипотезу\")\n",
    "else:\n",
    "    print(\"Не получилось отвергнуть нулевую гипотезу\")"
   ]
  },
  {
   "cell_type": "markdown",
   "metadata": {},
   "source": [
    "Выручка тарифов отличается друг от друга."
   ]
  },
  {
   "cell_type": "code",
   "execution_count": 116,
   "metadata": {},
   "outputs": [
    {
     "data": {
      "text/plain": [
       "1289.9735307312696"
      ]
     },
     "metadata": {},
     "output_type": "display_data"
    }
   ],
   "source": [
    "# Расчитаем среднею выручку тарифа смарт\n",
    "totalls_smart_mean = totalls_month[totalls_month['tariff']=='smart']['totalls'].mean()\n",
    "display(totalls_smart_mean)"
   ]
  },
  {
   "cell_type": "code",
   "execution_count": 117,
   "metadata": {},
   "outputs": [
    {
     "data": {
      "text/plain": [
       "2070.1522842639592"
      ]
     },
     "metadata": {},
     "output_type": "display_data"
    }
   ],
   "source": [
    "# Расчитаем среднею выручку тарифа ультра\n",
    "totalls_ultra_mean = totalls_month[totalls_month['tariff']=='ultra']['totalls'].mean()\n",
    "display(totalls_ultra_mean)"
   ]
  },
  {
   "cell_type": "code",
   "execution_count": 118,
   "metadata": {},
   "outputs": [
    {
     "name": "stdout",
     "output_type": "stream",
     "text": [
      "160.480%\n"
     ]
    }
   ],
   "source": [
    "# Процентное соотношение\n",
    "print(\"{:.3%}\".format((totalls_ultra_mean / totalls_smart_mean)))"
   ]
  },
  {
   "cell_type": "markdown",
   "metadata": {},
   "source": [
    "Средняя выручка от тарифа ультра составляет всего лишь 31% тарифа смарт."
   ]
  },
  {
   "cell_type": "code",
   "execution_count": 119,
   "metadata": {},
   "outputs": [
    {
     "data": {
      "text/html": [
       "<div>\n",
       "<style scoped>\n",
       "    .dataframe tbody tr th:only-of-type {\n",
       "        vertical-align: middle;\n",
       "    }\n",
       "\n",
       "    .dataframe tbody tr th {\n",
       "        vertical-align: top;\n",
       "    }\n",
       "\n",
       "    .dataframe thead th {\n",
       "        text-align: right;\n",
       "    }\n",
       "</style>\n",
       "<table border=\"1\" class=\"dataframe\">\n",
       "  <thead>\n",
       "    <tr style=\"text-align: right;\">\n",
       "      <th></th>\n",
       "      <th>user_id</th>\n",
       "      <th>tariff_x</th>\n",
       "      <th>month</th>\n",
       "      <th>count_durat</th>\n",
       "      <th>count_message</th>\n",
       "      <th>internets</th>\n",
       "      <th>minutes</th>\n",
       "      <th>totalls</th>\n",
       "      <th>tariff_y</th>\n",
       "      <th>city</th>\n",
       "    </tr>\n",
       "  </thead>\n",
       "  <tbody>\n",
       "    <tr>\n",
       "      <th>0</th>\n",
       "      <td>1005</td>\n",
       "      <td>smart</td>\n",
       "      <td>1.0</td>\n",
       "      <td>15.0</td>\n",
       "      <td>7.0</td>\n",
       "      <td>3.0</td>\n",
       "      <td>95.0</td>\n",
       "      <td>550.0</td>\n",
       "      <td>smart</td>\n",
       "      <td>Набережные Челны</td>\n",
       "    </tr>\n",
       "    <tr>\n",
       "      <th>1</th>\n",
       "      <td>1005</td>\n",
       "      <td>smart</td>\n",
       "      <td>2.0</td>\n",
       "      <td>69.0</td>\n",
       "      <td>38.0</td>\n",
       "      <td>8.0</td>\n",
       "      <td>456.0</td>\n",
       "      <td>550.0</td>\n",
       "      <td>smart</td>\n",
       "      <td>Набережные Челны</td>\n",
       "    </tr>\n",
       "    <tr>\n",
       "      <th>2</th>\n",
       "      <td>1005</td>\n",
       "      <td>smart</td>\n",
       "      <td>3.0</td>\n",
       "      <td>77.0</td>\n",
       "      <td>56.0</td>\n",
       "      <td>11.0</td>\n",
       "      <td>606.0</td>\n",
       "      <td>886.0</td>\n",
       "      <td>smart</td>\n",
       "      <td>Набережные Челны</td>\n",
       "    </tr>\n",
       "    <tr>\n",
       "      <th>3</th>\n",
       "      <td>1005</td>\n",
       "      <td>smart</td>\n",
       "      <td>4.0</td>\n",
       "      <td>101.0</td>\n",
       "      <td>41.0</td>\n",
       "      <td>10.0</td>\n",
       "      <td>712.0</td>\n",
       "      <td>1186.0</td>\n",
       "      <td>smart</td>\n",
       "      <td>Набережные Челны</td>\n",
       "    </tr>\n",
       "    <tr>\n",
       "      <th>4</th>\n",
       "      <td>1005</td>\n",
       "      <td>smart</td>\n",
       "      <td>5.0</td>\n",
       "      <td>73.0</td>\n",
       "      <td>42.0</td>\n",
       "      <td>8.0</td>\n",
       "      <td>595.0</td>\n",
       "      <td>835.0</td>\n",
       "      <td>smart</td>\n",
       "      <td>Набережные Челны</td>\n",
       "    </tr>\n",
       "    <tr>\n",
       "      <th>5</th>\n",
       "      <td>1005</td>\n",
       "      <td>smart</td>\n",
       "      <td>6.0</td>\n",
       "      <td>80.0</td>\n",
       "      <td>47.0</td>\n",
       "      <td>10.0</td>\n",
       "      <td>612.0</td>\n",
       "      <td>886.0</td>\n",
       "      <td>smart</td>\n",
       "      <td>Набережные Челны</td>\n",
       "    </tr>\n",
       "    <tr>\n",
       "      <th>6</th>\n",
       "      <td>1005</td>\n",
       "      <td>smart</td>\n",
       "      <td>7.0</td>\n",
       "      <td>77.0</td>\n",
       "      <td>56.0</td>\n",
       "      <td>8.0</td>\n",
       "      <td>569.0</td>\n",
       "      <td>775.0</td>\n",
       "      <td>smart</td>\n",
       "      <td>Набережные Челны</td>\n",
       "    </tr>\n",
       "    <tr>\n",
       "      <th>7</th>\n",
       "      <td>1005</td>\n",
       "      <td>smart</td>\n",
       "      <td>8.0</td>\n",
       "      <td>71.0</td>\n",
       "      <td>64.0</td>\n",
       "      <td>8.0</td>\n",
       "      <td>619.0</td>\n",
       "      <td>949.0</td>\n",
       "      <td>smart</td>\n",
       "      <td>Набережные Челны</td>\n",
       "    </tr>\n",
       "    <tr>\n",
       "      <th>8</th>\n",
       "      <td>1005</td>\n",
       "      <td>smart</td>\n",
       "      <td>9.0</td>\n",
       "      <td>66.0</td>\n",
       "      <td>52.0</td>\n",
       "      <td>7.0</td>\n",
       "      <td>479.0</td>\n",
       "      <td>556.0</td>\n",
       "      <td>smart</td>\n",
       "      <td>Набережные Челны</td>\n",
       "    </tr>\n",
       "    <tr>\n",
       "      <th>9</th>\n",
       "      <td>1005</td>\n",
       "      <td>smart</td>\n",
       "      <td>10.0</td>\n",
       "      <td>100.0</td>\n",
       "      <td>44.0</td>\n",
       "      <td>8.0</td>\n",
       "      <td>723.0</td>\n",
       "      <td>1219.0</td>\n",
       "      <td>smart</td>\n",
       "      <td>Набережные Челны</td>\n",
       "    </tr>\n",
       "  </tbody>\n",
       "</table>\n",
       "</div>"
      ],
      "text/plain": [
       "   user_id tariff_x  month  count_durat  count_message  internets  minutes  \\\n",
       "0     1005    smart    1.0         15.0            7.0        3.0     95.0   \n",
       "1     1005    smart    2.0         69.0           38.0        8.0    456.0   \n",
       "2     1005    smart    3.0         77.0           56.0       11.0    606.0   \n",
       "3     1005    smart    4.0        101.0           41.0       10.0    712.0   \n",
       "4     1005    smart    5.0         73.0           42.0        8.0    595.0   \n",
       "5     1005    smart    6.0         80.0           47.0       10.0    612.0   \n",
       "6     1005    smart    7.0         77.0           56.0        8.0    569.0   \n",
       "7     1005    smart    8.0         71.0           64.0        8.0    619.0   \n",
       "8     1005    smart    9.0         66.0           52.0        7.0    479.0   \n",
       "9     1005    smart   10.0        100.0           44.0        8.0    723.0   \n",
       "\n",
       "   totalls tariff_y              city  \n",
       "0    550.0    smart  Набережные Челны  \n",
       "1    550.0    smart  Набережные Челны  \n",
       "2    886.0    smart  Набережные Челны  \n",
       "3   1186.0    smart  Набережные Челны  \n",
       "4    835.0    smart  Набережные Челны  \n",
       "5    886.0    smart  Набережные Челны  \n",
       "6    775.0    smart  Набережные Челны  \n",
       "7    949.0    smart  Набережные Челны  \n",
       "8    556.0    smart  Набережные Челны  \n",
       "9   1219.0    smart  Набережные Челны  "
      ]
     },
     "metadata": {},
     "output_type": "display_data"
    }
   ],
   "source": [
    "totalls_month = totalls_month.merge(users[['tariff','city', 'user_id']], on='user_id')\n",
    "\n",
    "display(totalls_month.head(10))"
   ]
  },
  {
   "cell_type": "code",
   "execution_count": 120,
   "metadata": {},
   "outputs": [
    {
     "name": "stdout",
     "output_type": "stream",
     "text": [
      "<class 'pandas.core.frame.DataFrame'>\n",
      "Int64Index: 3214 entries, 0 to 3213\n",
      "Data columns (total 10 columns):\n",
      " #   Column         Non-Null Count  Dtype  \n",
      "---  ------         --------------  -----  \n",
      " 0   user_id        3214 non-null   int64  \n",
      " 1   tariff_x       3214 non-null   object \n",
      " 2   month          3214 non-null   float64\n",
      " 3   count_durat    3214 non-null   float64\n",
      " 4   count_message  3214 non-null   float64\n",
      " 5   internets      3214 non-null   float64\n",
      " 6   minutes        3214 non-null   float32\n",
      " 7   totalls        3214 non-null   float64\n",
      " 8   tariff_y       3214 non-null   object \n",
      " 9   city           3214 non-null   object \n",
      "dtypes: float32(1), float64(5), int64(1), object(3)\n",
      "memory usage: 263.6+ KB\n"
     ]
    }
   ],
   "source": [
    "# Код ревьюера\n",
    "\n",
    "totalls_month.info()"
   ]
  },
  {
   "cell_type": "markdown",
   "metadata": {},
   "source": [
    "За нулевую гипотезу Ho примем средняя выручка пользователей из Москвы равна от выручки пользователей из других регионов.\n",
    "За альтернативную гипотезу берем H1 средняя выручка пользователей из Москвы отличается от выручки пользователей из других регионов."
   ]
  },
  {
   "cell_type": "code",
   "execution_count": 121,
   "metadata": {},
   "outputs": [
    {
     "name": "stdout",
     "output_type": "stream",
     "text": [
      "p-значение: 0.5440152911670224\n",
      "Не получилось отвергнуть нулевую гипотезу\n"
     ]
    }
   ],
   "source": [
    "test_moscow = totalls_month[totalls_month['city']=='Москва']['totalls']\n",
    "smart_no_moscow = totalls_month[totalls_month['city']!='Москва']['totalls']\n",
    "\n",
    "# уровень значимости 5%\n",
    "alpha = 0.05\n",
    "\n",
    "results = st.ttest_ind(test_moscow, smart_no_moscow)\n",
    "\n",
    "print('p-значение:', results.pvalue)\n",
    "\n",
    "if results.pvalue < alpha:\n",
    "\n",
    "    print(\"Отвергаем нулевую гипотезу\")\n",
    "else:\n",
    "    print(\"Не получилось отвергнуть нулевую гипотезу\")"
   ]
  },
  {
   "cell_type": "markdown",
   "metadata": {},
   "source": [
    "Выручка по Москве отличаеться от выручки других городов."
   ]
  },
  {
   "cell_type": "markdown",
   "metadata": {},
   "source": [
    "## Вывод"
   ]
  },
  {
   "cell_type": "markdown",
   "metadata": {},
   "source": [
    "Средние чеки тарифов смарт и ультра значимо различаются.Выручка от тарифа смарт больше.\n",
    "\n",
    "Выручка по Москве отличается от других городов."
   ]
  }
 ],
 "metadata": {
  "ExecuteTimeLog": [
   {
    "duration": 999,
    "start_time": "2022-06-20T17:05:06.228Z"
   },
   {
    "duration": 945,
    "start_time": "2022-06-20T17:05:07.229Z"
   },
   {
    "duration": 41,
    "start_time": "2022-06-20T17:05:08.176Z"
   },
   {
    "duration": 3,
    "start_time": "2022-06-20T17:09:40.136Z"
   },
   {
    "duration": 23,
    "start_time": "2022-06-20T17:11:20.629Z"
   },
   {
    "duration": 27,
    "start_time": "2022-06-20T17:11:34.647Z"
   },
   {
    "duration": 55,
    "start_time": "2022-06-20T17:14:14.237Z"
   },
   {
    "duration": 60,
    "start_time": "2022-06-20T17:16:35.601Z"
   },
   {
    "duration": 35,
    "start_time": "2022-06-20T17:21:22.390Z"
   },
   {
    "duration": 40,
    "start_time": "2022-06-20T17:26:04.924Z"
   },
   {
    "duration": 112,
    "start_time": "2022-06-20T17:28:01.870Z"
   },
   {
    "duration": 39,
    "start_time": "2022-06-20T17:28:14.622Z"
   },
   {
    "duration": 69,
    "start_time": "2022-06-20T17:30:27.286Z"
   },
   {
    "duration": 698,
    "start_time": "2022-06-20T17:33:58.566Z"
   },
   {
    "duration": 760,
    "start_time": "2022-06-20T17:34:44.138Z"
   },
   {
    "duration": 1075,
    "start_time": "2022-06-20T17:34:57.460Z"
   },
   {
    "duration": 399,
    "start_time": "2022-06-20T17:34:58.537Z"
   },
   {
    "duration": 74,
    "start_time": "2022-06-20T17:34:58.938Z"
   },
   {
    "duration": 79,
    "start_time": "2022-06-20T17:34:59.014Z"
   },
   {
    "duration": 974,
    "start_time": "2022-06-20T17:34:59.095Z"
   },
   {
    "duration": 16,
    "start_time": "2022-06-20T17:35:31.625Z"
   },
   {
    "duration": 20,
    "start_time": "2022-06-20T17:35:37.710Z"
   },
   {
    "duration": 57,
    "start_time": "2022-06-20T17:36:56.227Z"
   },
   {
    "duration": 46,
    "start_time": "2022-06-25T15:04:49.742Z"
   },
   {
    "duration": 1321,
    "start_time": "2022-06-25T15:05:01.477Z"
   },
   {
    "duration": 933,
    "start_time": "2022-06-25T15:05:02.800Z"
   },
   {
    "duration": 67,
    "start_time": "2022-06-25T15:05:03.734Z"
   },
   {
    "duration": 80,
    "start_time": "2022-06-25T15:05:03.803Z"
   },
   {
    "duration": 116,
    "start_time": "2022-06-25T15:05:03.885Z"
   },
   {
    "duration": 850,
    "start_time": "2022-06-25T15:05:37.929Z"
   },
   {
    "duration": 12,
    "start_time": "2022-06-25T15:08:58.311Z"
   },
   {
    "duration": 1136,
    "start_time": "2022-06-25T15:09:04.512Z"
   },
   {
    "duration": 446,
    "start_time": "2022-06-25T15:09:05.650Z"
   },
   {
    "duration": 66,
    "start_time": "2022-06-25T15:09:06.098Z"
   },
   {
    "duration": 87,
    "start_time": "2022-06-25T15:09:06.166Z"
   },
   {
    "duration": 75,
    "start_time": "2022-06-25T15:09:06.254Z"
   },
   {
    "duration": 51,
    "start_time": "2022-06-25T15:09:06.332Z"
   },
   {
    "duration": 12,
    "start_time": "2022-06-25T15:09:06.385Z"
   },
   {
    "duration": 105,
    "start_time": "2022-06-25T15:09:06.398Z"
   },
   {
    "duration": 43,
    "start_time": "2022-06-25T15:09:06.505Z"
   },
   {
    "duration": 50,
    "start_time": "2022-06-25T15:09:06.551Z"
   },
   {
    "duration": 46,
    "start_time": "2022-06-25T15:09:06.622Z"
   },
   {
    "duration": 23,
    "start_time": "2022-06-25T15:09:06.670Z"
   },
   {
    "duration": 39,
    "start_time": "2022-06-25T15:09:06.694Z"
   },
   {
    "duration": 9,
    "start_time": "2022-06-25T15:09:06.736Z"
   },
   {
    "duration": 31,
    "start_time": "2022-06-25T15:09:06.747Z"
   },
   {
    "duration": 44,
    "start_time": "2022-06-25T15:09:06.780Z"
   },
   {
    "duration": 122,
    "start_time": "2022-06-25T15:09:06.827Z"
   },
   {
    "duration": 1158,
    "start_time": "2022-06-25T15:13:59.994Z"
   },
   {
    "duration": 447,
    "start_time": "2022-06-25T15:14:01.154Z"
   },
   {
    "duration": 63,
    "start_time": "2022-06-25T15:14:01.603Z"
   },
   {
    "duration": 98,
    "start_time": "2022-06-25T15:14:01.668Z"
   },
   {
    "duration": 70,
    "start_time": "2022-06-25T15:14:01.768Z"
   },
   {
    "duration": 41,
    "start_time": "2022-06-25T15:14:01.840Z"
   },
   {
    "duration": 11,
    "start_time": "2022-06-25T15:14:01.883Z"
   },
   {
    "duration": 105,
    "start_time": "2022-06-25T15:14:01.896Z"
   },
   {
    "duration": 40,
    "start_time": "2022-06-25T15:14:02.003Z"
   },
   {
    "duration": 38,
    "start_time": "2022-06-25T15:14:02.046Z"
   },
   {
    "duration": 52,
    "start_time": "2022-06-25T15:14:02.086Z"
   },
   {
    "duration": 22,
    "start_time": "2022-06-25T15:14:02.140Z"
   },
   {
    "duration": 39,
    "start_time": "2022-06-25T15:14:02.163Z"
   },
   {
    "duration": 7,
    "start_time": "2022-06-25T15:14:02.204Z"
   },
   {
    "duration": 28,
    "start_time": "2022-06-25T15:14:02.213Z"
   },
   {
    "duration": 21,
    "start_time": "2022-06-25T15:14:02.242Z"
   },
   {
    "duration": 142,
    "start_time": "2022-06-25T15:14:02.264Z"
   },
   {
    "duration": 36,
    "start_time": "2022-06-25T15:14:02.407Z"
   },
   {
    "duration": 11,
    "start_time": "2022-06-25T15:14:02.444Z"
   },
   {
    "duration": 16,
    "start_time": "2022-06-25T15:14:02.457Z"
   },
   {
    "duration": 17,
    "start_time": "2022-06-25T15:14:02.474Z"
   },
   {
    "duration": 375,
    "start_time": "2022-06-25T15:14:02.493Z"
   },
   {
    "duration": 267,
    "start_time": "2022-06-25T15:14:02.870Z"
   },
   {
    "duration": 275,
    "start_time": "2022-06-25T15:14:03.138Z"
   },
   {
    "duration": 280,
    "start_time": "2022-06-25T15:14:03.415Z"
   },
   {
    "duration": 285,
    "start_time": "2022-06-25T15:14:03.697Z"
   },
   {
    "duration": 112,
    "start_time": "2022-06-25T15:14:03.983Z"
   },
   {
    "duration": 8,
    "start_time": "2022-06-25T15:17:05.988Z"
   },
   {
    "duration": 2397,
    "start_time": "2022-06-25T15:17:41.296Z"
   },
   {
    "duration": 878,
    "start_time": "2022-06-25T15:18:18.490Z"
   },
   {
    "duration": 55,
    "start_time": "2022-06-25T15:18:38.979Z"
   },
   {
    "duration": 7,
    "start_time": "2022-06-25T15:18:45.960Z"
   },
   {
    "duration": 1150,
    "start_time": "2022-06-25T15:18:56.194Z"
   },
   {
    "duration": 957,
    "start_time": "2022-06-25T15:18:57.346Z"
   },
   {
    "duration": 58,
    "start_time": "2022-06-25T15:18:58.305Z"
   },
   {
    "duration": 95,
    "start_time": "2022-06-25T15:18:58.365Z"
   },
   {
    "duration": 69,
    "start_time": "2022-06-25T15:18:58.463Z"
   },
   {
    "duration": 41,
    "start_time": "2022-06-25T15:18:58.533Z"
   },
   {
    "duration": 12,
    "start_time": "2022-06-25T15:18:58.576Z"
   },
   {
    "duration": 106,
    "start_time": "2022-06-25T15:18:58.589Z"
   },
   {
    "duration": 41,
    "start_time": "2022-06-25T15:18:58.697Z"
   },
   {
    "duration": 41,
    "start_time": "2022-06-25T15:18:58.740Z"
   },
   {
    "duration": 48,
    "start_time": "2022-06-25T15:18:58.783Z"
   },
   {
    "duration": 34,
    "start_time": "2022-06-25T15:18:58.833Z"
   },
   {
    "duration": 17,
    "start_time": "2022-06-25T15:18:58.869Z"
   },
   {
    "duration": 8,
    "start_time": "2022-06-25T15:18:58.888Z"
   },
   {
    "duration": 50,
    "start_time": "2022-06-25T15:18:58.897Z"
   },
   {
    "duration": 25,
    "start_time": "2022-06-25T15:18:58.949Z"
   },
   {
    "duration": 148,
    "start_time": "2022-06-25T15:18:58.976Z"
   },
   {
    "duration": 27,
    "start_time": "2022-06-25T15:18:59.126Z"
   },
   {
    "duration": 12,
    "start_time": "2022-06-25T15:18:59.155Z"
   },
   {
    "duration": 10,
    "start_time": "2022-06-25T15:18:59.169Z"
   },
   {
    "duration": 7,
    "start_time": "2022-06-25T15:18:59.180Z"
   },
   {
    "duration": 283,
    "start_time": "2022-06-25T15:18:59.223Z"
   },
   {
    "duration": 308,
    "start_time": "2022-06-25T15:18:59.508Z"
   },
   {
    "duration": 300,
    "start_time": "2022-06-25T15:18:59.817Z"
   },
   {
    "duration": 286,
    "start_time": "2022-06-25T15:19:00.123Z"
   },
   {
    "duration": 298,
    "start_time": "2022-06-25T15:19:00.411Z"
   },
   {
    "duration": 119,
    "start_time": "2022-06-25T15:19:00.711Z"
   },
   {
    "duration": 0,
    "start_time": "2022-06-25T15:19:00.832Z"
   },
   {
    "duration": 30,
    "start_time": "2022-06-25T15:19:05.772Z"
   },
   {
    "duration": 17,
    "start_time": "2022-06-25T15:19:20.039Z"
   },
   {
    "duration": 17,
    "start_time": "2022-06-25T15:19:24.442Z"
   },
   {
    "duration": 1101,
    "start_time": "2022-06-25T15:19:33.248Z"
   },
   {
    "duration": 429,
    "start_time": "2022-06-25T15:19:34.351Z"
   },
   {
    "duration": 82,
    "start_time": "2022-06-25T15:19:34.782Z"
   },
   {
    "duration": 80,
    "start_time": "2022-06-25T15:19:34.867Z"
   },
   {
    "duration": 60,
    "start_time": "2022-06-25T15:19:34.949Z"
   },
   {
    "duration": 44,
    "start_time": "2022-06-25T15:19:35.024Z"
   },
   {
    "duration": 12,
    "start_time": "2022-06-25T15:19:35.070Z"
   },
   {
    "duration": 99,
    "start_time": "2022-06-25T15:19:35.084Z"
   },
   {
    "duration": 33,
    "start_time": "2022-06-25T15:19:35.184Z"
   },
   {
    "duration": 46,
    "start_time": "2022-06-25T15:19:35.224Z"
   },
   {
    "duration": 32,
    "start_time": "2022-06-25T15:19:35.271Z"
   },
   {
    "duration": 40,
    "start_time": "2022-06-25T15:19:35.305Z"
   },
   {
    "duration": 15,
    "start_time": "2022-06-25T15:19:35.347Z"
   },
   {
    "duration": 10,
    "start_time": "2022-06-25T15:19:35.364Z"
   },
   {
    "duration": 22,
    "start_time": "2022-06-25T15:19:35.375Z"
   },
   {
    "duration": 52,
    "start_time": "2022-06-25T15:19:35.399Z"
   },
   {
    "duration": 131,
    "start_time": "2022-06-25T15:19:35.452Z"
   },
   {
    "duration": 25,
    "start_time": "2022-06-25T15:19:35.585Z"
   },
   {
    "duration": 21,
    "start_time": "2022-06-25T15:19:35.612Z"
   },
   {
    "duration": 13,
    "start_time": "2022-06-25T15:19:35.635Z"
   },
   {
    "duration": 10,
    "start_time": "2022-06-25T15:19:35.650Z"
   },
   {
    "duration": 306,
    "start_time": "2022-06-25T15:19:35.662Z"
   },
   {
    "duration": 276,
    "start_time": "2022-06-25T15:19:35.971Z"
   },
   {
    "duration": 274,
    "start_time": "2022-06-25T15:19:36.249Z"
   },
   {
    "duration": 285,
    "start_time": "2022-06-25T15:19:36.525Z"
   },
   {
    "duration": 275,
    "start_time": "2022-06-25T15:19:36.812Z"
   },
   {
    "duration": 117,
    "start_time": "2022-06-25T15:19:37.089Z"
   },
   {
    "duration": 0,
    "start_time": "2022-06-25T15:19:37.208Z"
   },
   {
    "duration": 16,
    "start_time": "2022-06-25T15:19:41.870Z"
   },
   {
    "duration": 31,
    "start_time": "2022-06-25T15:20:36.928Z"
   },
   {
    "duration": 31,
    "start_time": "2022-06-25T15:20:42.248Z"
   },
   {
    "duration": 1142,
    "start_time": "2022-06-25T15:20:52.798Z"
   },
   {
    "duration": 453,
    "start_time": "2022-06-25T15:20:53.942Z"
   },
   {
    "duration": 57,
    "start_time": "2022-06-25T15:20:54.397Z"
   },
   {
    "duration": 94,
    "start_time": "2022-06-25T15:20:54.456Z"
   },
   {
    "duration": 72,
    "start_time": "2022-06-25T15:20:54.552Z"
   },
   {
    "duration": 39,
    "start_time": "2022-06-25T15:20:54.625Z"
   },
   {
    "duration": 15,
    "start_time": "2022-06-25T15:20:54.666Z"
   },
   {
    "duration": 109,
    "start_time": "2022-06-25T15:20:54.683Z"
   },
   {
    "duration": 41,
    "start_time": "2022-06-25T15:20:54.794Z"
   },
   {
    "duration": 39,
    "start_time": "2022-06-25T15:20:54.838Z"
   },
   {
    "duration": 52,
    "start_time": "2022-06-25T15:20:54.879Z"
   },
   {
    "duration": 28,
    "start_time": "2022-06-25T15:20:54.932Z"
   },
   {
    "duration": 17,
    "start_time": "2022-06-25T15:20:54.962Z"
   },
   {
    "duration": 10,
    "start_time": "2022-06-25T15:20:54.981Z"
   },
   {
    "duration": 48,
    "start_time": "2022-06-25T15:20:54.993Z"
   },
   {
    "duration": 22,
    "start_time": "2022-06-25T15:20:55.044Z"
   },
   {
    "duration": 133,
    "start_time": "2022-06-25T15:20:55.068Z"
   },
   {
    "duration": 39,
    "start_time": "2022-06-25T15:20:55.203Z"
   },
   {
    "duration": 13,
    "start_time": "2022-06-25T15:20:55.243Z"
   },
   {
    "duration": 14,
    "start_time": "2022-06-25T15:20:55.258Z"
   },
   {
    "duration": 9,
    "start_time": "2022-06-25T15:20:55.273Z"
   },
   {
    "duration": 1068,
    "start_time": "2022-06-25T15:21:25.771Z"
   },
   {
    "duration": 445,
    "start_time": "2022-06-25T15:21:26.841Z"
   },
   {
    "duration": 56,
    "start_time": "2022-06-25T15:21:27.288Z"
   },
   {
    "duration": 95,
    "start_time": "2022-06-25T15:21:27.346Z"
   },
   {
    "duration": 66,
    "start_time": "2022-06-25T15:21:27.443Z"
   },
   {
    "duration": 48,
    "start_time": "2022-06-25T15:21:27.511Z"
   },
   {
    "duration": 12,
    "start_time": "2022-06-25T15:21:27.560Z"
   },
   {
    "duration": 95,
    "start_time": "2022-06-25T15:21:27.573Z"
   },
   {
    "duration": 33,
    "start_time": "2022-06-25T15:21:27.670Z"
   },
   {
    "duration": 50,
    "start_time": "2022-06-25T15:21:27.706Z"
   },
   {
    "duration": 32,
    "start_time": "2022-06-25T15:21:27.757Z"
   },
   {
    "duration": 45,
    "start_time": "2022-06-25T15:21:27.791Z"
   },
   {
    "duration": 16,
    "start_time": "2022-06-25T15:21:27.838Z"
   },
   {
    "duration": 8,
    "start_time": "2022-06-25T15:21:27.855Z"
   },
   {
    "duration": 23,
    "start_time": "2022-06-25T15:21:27.865Z"
   },
   {
    "duration": 58,
    "start_time": "2022-06-25T15:21:27.890Z"
   },
   {
    "duration": 130,
    "start_time": "2022-06-25T15:21:27.957Z"
   },
   {
    "duration": 43,
    "start_time": "2022-06-25T15:21:28.088Z"
   },
   {
    "duration": 13,
    "start_time": "2022-06-25T15:21:28.133Z"
   },
   {
    "duration": 14,
    "start_time": "2022-06-25T15:21:28.148Z"
   },
   {
    "duration": 8,
    "start_time": "2022-06-25T15:21:28.164Z"
   },
   {
    "duration": 13096,
    "start_time": "2022-06-25T15:21:28.173Z"
   },
   {
    "duration": 1147,
    "start_time": "2022-06-25T15:21:54.124Z"
   },
   {
    "duration": 450,
    "start_time": "2022-06-25T15:21:55.272Z"
   },
   {
    "duration": 55,
    "start_time": "2022-06-25T15:21:55.725Z"
   },
   {
    "duration": 97,
    "start_time": "2022-06-25T15:21:55.782Z"
   },
   {
    "duration": 75,
    "start_time": "2022-06-25T15:21:55.880Z"
   },
   {
    "duration": 44,
    "start_time": "2022-06-25T15:21:55.957Z"
   },
   {
    "duration": 29,
    "start_time": "2022-06-25T15:21:56.003Z"
   },
   {
    "duration": 83,
    "start_time": "2022-06-25T15:21:56.035Z"
   },
   {
    "duration": 40,
    "start_time": "2022-06-25T15:21:56.119Z"
   },
   {
    "duration": 38,
    "start_time": "2022-06-25T15:21:56.161Z"
   },
   {
    "duration": 68,
    "start_time": "2022-06-25T15:21:56.201Z"
   },
   {
    "duration": 21,
    "start_time": "2022-06-25T15:21:56.271Z"
   },
   {
    "duration": 17,
    "start_time": "2022-06-25T15:21:56.293Z"
   },
   {
    "duration": 23,
    "start_time": "2022-06-25T15:21:56.312Z"
   },
   {
    "duration": 19,
    "start_time": "2022-06-25T15:21:56.337Z"
   },
   {
    "duration": 20,
    "start_time": "2022-06-25T15:21:56.358Z"
   },
   {
    "duration": 144,
    "start_time": "2022-06-25T15:21:56.379Z"
   },
   {
    "duration": 134,
    "start_time": "2022-06-25T15:21:56.527Z"
   },
   {
    "duration": 0,
    "start_time": "2022-06-25T15:21:56.663Z"
   },
   {
    "duration": 0,
    "start_time": "2022-06-25T15:21:56.664Z"
   },
   {
    "duration": 0,
    "start_time": "2022-06-25T15:21:56.665Z"
   },
   {
    "duration": 0,
    "start_time": "2022-06-25T15:21:56.666Z"
   },
   {
    "duration": 0,
    "start_time": "2022-06-25T15:21:56.667Z"
   },
   {
    "duration": 0,
    "start_time": "2022-06-25T15:21:56.668Z"
   },
   {
    "duration": 0,
    "start_time": "2022-06-25T15:21:56.669Z"
   },
   {
    "duration": 0,
    "start_time": "2022-06-25T15:21:56.670Z"
   },
   {
    "duration": 0,
    "start_time": "2022-06-25T15:21:56.671Z"
   },
   {
    "duration": 0,
    "start_time": "2022-06-25T15:21:56.672Z"
   },
   {
    "duration": 29,
    "start_time": "2022-06-25T15:22:06.569Z"
   },
   {
    "duration": 11,
    "start_time": "2022-06-25T15:22:11.469Z"
   },
   {
    "duration": 11,
    "start_time": "2022-06-25T15:22:11.994Z"
   },
   {
    "duration": 11,
    "start_time": "2022-06-25T15:22:12.370Z"
   },
   {
    "duration": 323,
    "start_time": "2022-06-25T15:22:12.414Z"
   },
   {
    "duration": 303,
    "start_time": "2022-06-25T15:22:12.739Z"
   },
   {
    "duration": 276,
    "start_time": "2022-06-25T15:22:13.044Z"
   },
   {
    "duration": 271,
    "start_time": "2022-06-25T15:22:13.323Z"
   },
   {
    "duration": 282,
    "start_time": "2022-06-25T15:22:13.595Z"
   },
   {
    "duration": 19,
    "start_time": "2022-06-25T15:22:13.879Z"
   },
   {
    "duration": 0,
    "start_time": "2022-06-25T15:22:13.900Z"
   },
   {
    "duration": 18,
    "start_time": "2022-06-25T15:22:26.856Z"
   },
   {
    "duration": 28,
    "start_time": "2022-06-25T15:23:28.891Z"
   },
   {
    "duration": 343,
    "start_time": "2022-06-25T15:23:50.144Z"
   },
   {
    "duration": 58,
    "start_time": "2022-06-25T15:27:35.074Z"
   },
   {
    "duration": 1070,
    "start_time": "2022-06-25T15:27:55.971Z"
   },
   {
    "duration": 961,
    "start_time": "2022-06-25T15:27:57.042Z"
   },
   {
    "duration": 52,
    "start_time": "2022-06-25T15:27:58.006Z"
   },
   {
    "duration": 86,
    "start_time": "2022-06-25T15:27:58.060Z"
   },
   {
    "duration": 83,
    "start_time": "2022-06-25T15:27:58.147Z"
   },
   {
    "duration": 52,
    "start_time": "2022-06-25T15:27:58.232Z"
   },
   {
    "duration": 14,
    "start_time": "2022-06-25T15:27:58.285Z"
   },
   {
    "duration": 91,
    "start_time": "2022-06-25T15:27:58.301Z"
   },
   {
    "duration": 46,
    "start_time": "2022-06-25T15:27:58.394Z"
   },
   {
    "duration": 42,
    "start_time": "2022-06-25T15:27:58.443Z"
   },
   {
    "duration": 50,
    "start_time": "2022-06-25T15:27:58.487Z"
   },
   {
    "duration": 22,
    "start_time": "2022-06-25T15:27:58.538Z"
   },
   {
    "duration": 14,
    "start_time": "2022-06-25T15:27:58.562Z"
   },
   {
    "duration": 11,
    "start_time": "2022-06-25T15:27:58.577Z"
   },
   {
    "duration": 44,
    "start_time": "2022-06-25T15:27:58.590Z"
   },
   {
    "duration": 20,
    "start_time": "2022-06-25T15:27:58.636Z"
   },
   {
    "duration": 127,
    "start_time": "2022-06-25T15:27:58.657Z"
   },
   {
    "duration": 37,
    "start_time": "2022-06-25T15:27:58.786Z"
   },
   {
    "duration": 11,
    "start_time": "2022-06-25T15:27:58.824Z"
   },
   {
    "duration": 11,
    "start_time": "2022-06-25T15:27:58.837Z"
   },
   {
    "duration": 7,
    "start_time": "2022-06-25T15:27:58.849Z"
   },
   {
    "duration": 292,
    "start_time": "2022-06-25T15:27:58.857Z"
   },
   {
    "duration": 322,
    "start_time": "2022-06-25T15:27:59.151Z"
   },
   {
    "duration": 305,
    "start_time": "2022-06-25T15:27:59.474Z"
   },
   {
    "duration": 306,
    "start_time": "2022-06-25T15:27:59.781Z"
   },
   {
    "duration": 271,
    "start_time": "2022-06-25T15:28:00.089Z"
   },
   {
    "duration": 123,
    "start_time": "2022-06-25T15:28:00.362Z"
   },
   {
    "duration": 0,
    "start_time": "2022-06-25T15:28:00.487Z"
   },
   {
    "duration": 30,
    "start_time": "2022-06-25T15:28:03.963Z"
   },
   {
    "duration": 26,
    "start_time": "2022-06-25T15:28:23.052Z"
   },
   {
    "duration": 74,
    "start_time": "2022-06-25T15:37:21.120Z"
   },
   {
    "duration": 57,
    "start_time": "2022-06-25T15:37:30.339Z"
   },
   {
    "duration": 46,
    "start_time": "2022-06-25T15:37:57.271Z"
   },
   {
    "duration": 1086,
    "start_time": "2022-06-25T15:38:06.275Z"
   },
   {
    "duration": 457,
    "start_time": "2022-06-25T15:38:07.364Z"
   },
   {
    "duration": 77,
    "start_time": "2022-06-25T15:38:07.822Z"
   },
   {
    "duration": 97,
    "start_time": "2022-06-25T15:38:07.901Z"
   },
   {
    "duration": 77,
    "start_time": "2022-06-25T15:38:08.000Z"
   },
   {
    "duration": 58,
    "start_time": "2022-06-25T15:38:08.079Z"
   },
   {
    "duration": 12,
    "start_time": "2022-06-25T15:38:08.139Z"
   },
   {
    "duration": 99,
    "start_time": "2022-06-25T15:38:08.153Z"
   },
   {
    "duration": 33,
    "start_time": "2022-06-25T15:38:08.253Z"
   },
   {
    "duration": 59,
    "start_time": "2022-06-25T15:38:08.289Z"
   },
   {
    "duration": 31,
    "start_time": "2022-06-25T15:38:08.350Z"
   },
   {
    "duration": 52,
    "start_time": "2022-06-25T15:38:08.383Z"
   },
   {
    "duration": 22,
    "start_time": "2022-06-25T15:38:08.437Z"
   },
   {
    "duration": 10,
    "start_time": "2022-06-25T15:38:08.462Z"
   },
   {
    "duration": 52,
    "start_time": "2022-06-25T15:38:08.473Z"
   },
   {
    "duration": 22,
    "start_time": "2022-06-25T15:38:08.526Z"
   },
   {
    "duration": 134,
    "start_time": "2022-06-25T15:38:08.550Z"
   },
   {
    "duration": 39,
    "start_time": "2022-06-25T15:38:08.686Z"
   },
   {
    "duration": 13,
    "start_time": "2022-06-25T15:38:08.727Z"
   },
   {
    "duration": 13,
    "start_time": "2022-06-25T15:38:08.742Z"
   },
   {
    "duration": 9,
    "start_time": "2022-06-25T15:38:08.756Z"
   },
   {
    "duration": 328,
    "start_time": "2022-06-25T15:38:08.766Z"
   },
   {
    "duration": 328,
    "start_time": "2022-06-25T15:38:09.096Z"
   },
   {
    "duration": 294,
    "start_time": "2022-06-25T15:38:09.426Z"
   },
   {
    "duration": 307,
    "start_time": "2022-06-25T15:38:09.724Z"
   },
   {
    "duration": 294,
    "start_time": "2022-06-25T15:38:10.032Z"
   },
   {
    "duration": 120,
    "start_time": "2022-06-25T15:38:10.328Z"
   },
   {
    "duration": 0,
    "start_time": "2022-06-25T15:38:10.449Z"
   },
   {
    "duration": 34,
    "start_time": "2022-06-25T15:40:05.755Z"
   },
   {
    "duration": 63,
    "start_time": "2022-06-25T15:40:58.405Z"
   },
   {
    "duration": 137,
    "start_time": "2022-06-25T15:44:52.891Z"
   },
   {
    "duration": 109,
    "start_time": "2022-06-25T15:48:04.659Z"
   },
   {
    "duration": 185,
    "start_time": "2022-06-25T15:49:02.260Z"
   },
   {
    "duration": 1093,
    "start_time": "2022-06-25T15:49:12.654Z"
   },
   {
    "duration": 456,
    "start_time": "2022-06-25T15:49:13.749Z"
   },
   {
    "duration": 46,
    "start_time": "2022-06-25T15:49:14.207Z"
   },
   {
    "duration": 84,
    "start_time": "2022-06-25T15:49:14.255Z"
   },
   {
    "duration": 60,
    "start_time": "2022-06-25T15:49:14.341Z"
   },
   {
    "duration": 55,
    "start_time": "2022-06-25T15:49:14.403Z"
   },
   {
    "duration": 16,
    "start_time": "2022-06-25T15:49:14.460Z"
   },
   {
    "duration": 109,
    "start_time": "2022-06-25T15:49:14.478Z"
   },
   {
    "duration": 39,
    "start_time": "2022-06-25T15:49:14.589Z"
   },
   {
    "duration": 40,
    "start_time": "2022-06-25T15:49:14.631Z"
   },
   {
    "duration": 30,
    "start_time": "2022-06-25T15:49:14.673Z"
   },
   {
    "duration": 43,
    "start_time": "2022-06-25T15:49:14.705Z"
   },
   {
    "duration": 14,
    "start_time": "2022-06-25T15:49:14.750Z"
   },
   {
    "duration": 8,
    "start_time": "2022-06-25T15:49:14.766Z"
   },
   {
    "duration": 57,
    "start_time": "2022-06-25T15:49:14.775Z"
   },
   {
    "duration": 25,
    "start_time": "2022-06-25T15:49:14.834Z"
   },
   {
    "duration": 141,
    "start_time": "2022-06-25T15:49:14.860Z"
   },
   {
    "duration": 39,
    "start_time": "2022-06-25T15:49:15.003Z"
   },
   {
    "duration": 14,
    "start_time": "2022-06-25T15:49:15.044Z"
   },
   {
    "duration": 12,
    "start_time": "2022-06-25T15:49:15.059Z"
   },
   {
    "duration": 9,
    "start_time": "2022-06-25T15:49:15.073Z"
   },
   {
    "duration": 301,
    "start_time": "2022-06-25T15:49:15.083Z"
   },
   {
    "duration": 272,
    "start_time": "2022-06-25T15:49:15.386Z"
   },
   {
    "duration": 272,
    "start_time": "2022-06-25T15:49:15.660Z"
   },
   {
    "duration": 298,
    "start_time": "2022-06-25T15:49:15.934Z"
   },
   {
    "duration": 271,
    "start_time": "2022-06-25T15:49:16.234Z"
   },
   {
    "duration": 109,
    "start_time": "2022-06-25T15:49:16.507Z"
   },
   {
    "duration": 0,
    "start_time": "2022-06-25T15:49:16.618Z"
   },
   {
    "duration": 1339,
    "start_time": "2022-06-25T15:49:22.711Z"
   },
   {
    "duration": 798,
    "start_time": "2022-06-25T15:49:37.824Z"
   },
   {
    "duration": 78,
    "start_time": "2022-06-25T15:50:17.271Z"
   },
   {
    "duration": 1133,
    "start_time": "2022-06-25T15:50:29.325Z"
   },
   {
    "duration": 432,
    "start_time": "2022-06-25T15:50:30.460Z"
   },
   {
    "duration": 60,
    "start_time": "2022-06-25T15:50:30.894Z"
   },
   {
    "duration": 96,
    "start_time": "2022-06-25T15:50:30.957Z"
   },
   {
    "duration": 81,
    "start_time": "2022-06-25T15:50:31.057Z"
   },
   {
    "duration": 42,
    "start_time": "2022-06-25T15:50:31.141Z"
   },
   {
    "duration": 13,
    "start_time": "2022-06-25T15:50:31.184Z"
   },
   {
    "duration": 72,
    "start_time": "2022-06-25T15:50:31.224Z"
   },
   {
    "duration": 49,
    "start_time": "2022-06-25T15:50:31.297Z"
   },
   {
    "duration": 39,
    "start_time": "2022-06-25T15:50:31.347Z"
   },
   {
    "duration": 53,
    "start_time": "2022-06-25T15:50:31.388Z"
   },
   {
    "duration": 28,
    "start_time": "2022-06-25T15:50:31.443Z"
   },
   {
    "duration": 15,
    "start_time": "2022-06-25T15:50:31.472Z"
   },
   {
    "duration": 37,
    "start_time": "2022-06-25T15:50:31.489Z"
   },
   {
    "duration": 37,
    "start_time": "2022-06-25T15:50:31.529Z"
   },
   {
    "duration": 30,
    "start_time": "2022-06-25T15:50:31.568Z"
   },
   {
    "duration": 187,
    "start_time": "2022-06-25T15:50:31.600Z"
   },
   {
    "duration": 40,
    "start_time": "2022-06-25T15:50:31.789Z"
   },
   {
    "duration": 15,
    "start_time": "2022-06-25T15:50:31.831Z"
   },
   {
    "duration": 31,
    "start_time": "2022-06-25T15:50:31.848Z"
   },
   {
    "duration": 24,
    "start_time": "2022-06-25T15:50:31.881Z"
   },
   {
    "duration": 315,
    "start_time": "2022-06-25T15:50:31.907Z"
   },
   {
    "duration": 286,
    "start_time": "2022-06-25T15:50:32.225Z"
   },
   {
    "duration": 426,
    "start_time": "2022-06-25T15:50:32.514Z"
   },
   {
    "duration": 285,
    "start_time": "2022-06-25T15:50:32.942Z"
   },
   {
    "duration": 283,
    "start_time": "2022-06-25T15:50:33.229Z"
   },
   {
    "duration": 110,
    "start_time": "2022-06-25T15:50:33.514Z"
   },
   {
    "duration": 0,
    "start_time": "2022-06-25T15:50:33.626Z"
   },
   {
    "duration": 1,
    "start_time": "2022-06-25T15:50:33.627Z"
   },
   {
    "duration": 99,
    "start_time": "2022-06-25T15:50:37.903Z"
   },
   {
    "duration": 26,
    "start_time": "2022-06-25T15:52:39.195Z"
   },
   {
    "duration": 29,
    "start_time": "2022-06-25T15:52:46.449Z"
   },
   {
    "duration": 10,
    "start_time": "2022-06-25T15:54:52.575Z"
   },
   {
    "duration": 10,
    "start_time": "2022-06-25T15:55:06.304Z"
   },
   {
    "duration": 10,
    "start_time": "2022-06-25T16:05:03.974Z"
   },
   {
    "duration": 12,
    "start_time": "2022-06-25T16:06:57.943Z"
   },
   {
    "duration": 10,
    "start_time": "2022-06-25T16:11:07.387Z"
   },
   {
    "duration": 9,
    "start_time": "2022-06-25T16:14:29.978Z"
   },
   {
    "duration": 8,
    "start_time": "2022-06-25T16:14:39.800Z"
   },
   {
    "duration": 9,
    "start_time": "2022-06-25T16:14:48.779Z"
   },
   {
    "duration": 9,
    "start_time": "2022-06-25T16:14:59.507Z"
   },
   {
    "duration": 1232,
    "start_time": "2022-06-25T16:15:10.566Z"
   },
   {
    "duration": 569,
    "start_time": "2022-06-25T16:15:11.800Z"
   },
   {
    "duration": 49,
    "start_time": "2022-06-25T16:15:12.371Z"
   },
   {
    "duration": 100,
    "start_time": "2022-06-25T16:15:12.421Z"
   },
   {
    "duration": 86,
    "start_time": "2022-06-25T16:15:12.535Z"
   },
   {
    "duration": 72,
    "start_time": "2022-06-25T16:15:12.634Z"
   },
   {
    "duration": 16,
    "start_time": "2022-06-25T16:15:12.708Z"
   },
   {
    "duration": 166,
    "start_time": "2022-06-25T16:15:12.725Z"
   },
   {
    "duration": 45,
    "start_time": "2022-06-25T16:15:12.893Z"
   },
   {
    "duration": 59,
    "start_time": "2022-06-25T16:15:12.939Z"
   },
   {
    "duration": 68,
    "start_time": "2022-06-25T16:15:13.000Z"
   },
   {
    "duration": 32,
    "start_time": "2022-06-25T16:15:13.071Z"
   },
   {
    "duration": 37,
    "start_time": "2022-06-25T16:15:13.105Z"
   },
   {
    "duration": 24,
    "start_time": "2022-06-25T16:15:13.146Z"
   },
   {
    "duration": 31,
    "start_time": "2022-06-25T16:15:13.172Z"
   },
   {
    "duration": 34,
    "start_time": "2022-06-25T16:15:13.205Z"
   },
   {
    "duration": 150,
    "start_time": "2022-06-25T16:15:13.242Z"
   },
   {
    "duration": 35,
    "start_time": "2022-06-25T16:15:13.394Z"
   },
   {
    "duration": 12,
    "start_time": "2022-06-25T16:15:13.431Z"
   },
   {
    "duration": 39,
    "start_time": "2022-06-25T16:15:13.445Z"
   },
   {
    "duration": 15,
    "start_time": "2022-06-25T16:15:13.486Z"
   },
   {
    "duration": 344,
    "start_time": "2022-06-25T16:15:13.502Z"
   },
   {
    "duration": 328,
    "start_time": "2022-06-25T16:15:13.859Z"
   },
   {
    "duration": 308,
    "start_time": "2022-06-25T16:15:14.189Z"
   },
   {
    "duration": 351,
    "start_time": "2022-06-25T16:15:14.499Z"
   },
   {
    "duration": 307,
    "start_time": "2022-06-25T16:15:14.851Z"
   },
   {
    "duration": 9,
    "start_time": "2022-06-25T16:15:15.163Z"
   },
   {
    "duration": 85,
    "start_time": "2022-06-25T16:15:15.174Z"
   },
   {
    "duration": 0,
    "start_time": "2022-06-25T16:15:15.261Z"
   },
   {
    "duration": 0,
    "start_time": "2022-06-25T16:15:15.262Z"
   },
   {
    "duration": 7,
    "start_time": "2022-06-25T16:15:37.864Z"
   },
   {
    "duration": 8,
    "start_time": "2022-06-25T16:15:43.700Z"
   },
   {
    "duration": 1179,
    "start_time": "2022-06-25T16:15:51.217Z"
   },
   {
    "duration": 574,
    "start_time": "2022-06-25T16:15:52.399Z"
   },
   {
    "duration": 83,
    "start_time": "2022-06-25T16:15:52.975Z"
   },
   {
    "duration": 122,
    "start_time": "2022-06-25T16:15:53.060Z"
   },
   {
    "duration": 99,
    "start_time": "2022-06-25T16:15:53.184Z"
   },
   {
    "duration": 56,
    "start_time": "2022-06-25T16:15:53.285Z"
   },
   {
    "duration": 19,
    "start_time": "2022-06-25T16:15:53.351Z"
   },
   {
    "duration": 104,
    "start_time": "2022-06-25T16:15:53.372Z"
   },
   {
    "duration": 31,
    "start_time": "2022-06-25T16:15:53.478Z"
   },
   {
    "duration": 54,
    "start_time": "2022-06-25T16:15:53.512Z"
   },
   {
    "duration": 31,
    "start_time": "2022-06-25T16:15:53.567Z"
   },
   {
    "duration": 57,
    "start_time": "2022-06-25T16:15:53.600Z"
   },
   {
    "duration": 14,
    "start_time": "2022-06-25T16:15:53.665Z"
   },
   {
    "duration": 10,
    "start_time": "2022-06-25T16:15:53.681Z"
   },
   {
    "duration": 22,
    "start_time": "2022-06-25T16:15:53.692Z"
   },
   {
    "duration": 37,
    "start_time": "2022-06-25T16:15:53.716Z"
   },
   {
    "duration": 156,
    "start_time": "2022-06-25T16:15:53.757Z"
   },
   {
    "duration": 48,
    "start_time": "2022-06-25T16:15:53.914Z"
   },
   {
    "duration": 15,
    "start_time": "2022-06-25T16:15:53.968Z"
   },
   {
    "duration": 21,
    "start_time": "2022-06-25T16:15:53.985Z"
   },
   {
    "duration": 17,
    "start_time": "2022-06-25T16:15:54.008Z"
   },
   {
    "duration": 317,
    "start_time": "2022-06-25T16:15:54.026Z"
   },
   {
    "duration": 329,
    "start_time": "2022-06-25T16:15:54.344Z"
   },
   {
    "duration": 317,
    "start_time": "2022-06-25T16:15:54.675Z"
   },
   {
    "duration": 324,
    "start_time": "2022-06-25T16:15:54.994Z"
   },
   {
    "duration": 323,
    "start_time": "2022-06-25T16:15:55.320Z"
   },
   {
    "duration": 18,
    "start_time": "2022-06-25T16:15:55.644Z"
   },
   {
    "duration": 27,
    "start_time": "2022-06-25T16:15:55.666Z"
   },
   {
    "duration": 8,
    "start_time": "2022-06-25T16:15:55.694Z"
   },
   {
    "duration": 1294,
    "start_time": "2022-06-25T16:16:34.821Z"
   },
   {
    "duration": 555,
    "start_time": "2022-06-25T16:16:36.117Z"
   },
   {
    "duration": 55,
    "start_time": "2022-06-25T16:16:36.674Z"
   },
   {
    "duration": 109,
    "start_time": "2022-06-25T16:16:36.739Z"
   },
   {
    "duration": 64,
    "start_time": "2022-06-25T16:16:36.855Z"
   },
   {
    "duration": 66,
    "start_time": "2022-06-25T16:16:36.921Z"
   },
   {
    "duration": 10,
    "start_time": "2022-06-25T16:16:36.989Z"
   },
   {
    "duration": 88,
    "start_time": "2022-06-25T16:16:37.001Z"
   },
   {
    "duration": 44,
    "start_time": "2022-06-25T16:16:37.090Z"
   },
   {
    "duration": 50,
    "start_time": "2022-06-25T16:16:37.136Z"
   },
   {
    "duration": 49,
    "start_time": "2022-06-25T16:16:37.187Z"
   },
   {
    "duration": 41,
    "start_time": "2022-06-25T16:16:37.238Z"
   },
   {
    "duration": 20,
    "start_time": "2022-06-25T16:16:37.281Z"
   },
   {
    "duration": 15,
    "start_time": "2022-06-25T16:16:37.303Z"
   },
   {
    "duration": 70,
    "start_time": "2022-06-25T16:16:37.320Z"
   },
   {
    "duration": 25,
    "start_time": "2022-06-25T16:16:37.391Z"
   },
   {
    "duration": 176,
    "start_time": "2022-06-25T16:16:37.418Z"
   },
   {
    "duration": 35,
    "start_time": "2022-06-25T16:16:37.596Z"
   },
   {
    "duration": 31,
    "start_time": "2022-06-25T16:16:37.633Z"
   },
   {
    "duration": 20,
    "start_time": "2022-06-25T16:16:37.667Z"
   },
   {
    "duration": 11,
    "start_time": "2022-06-25T16:16:37.689Z"
   },
   {
    "duration": 319,
    "start_time": "2022-06-25T16:16:37.702Z"
   },
   {
    "duration": 318,
    "start_time": "2022-06-25T16:16:38.026Z"
   },
   {
    "duration": 307,
    "start_time": "2022-06-25T16:16:38.347Z"
   },
   {
    "duration": 305,
    "start_time": "2022-06-25T16:16:38.655Z"
   },
   {
    "duration": 340,
    "start_time": "2022-06-25T16:16:38.962Z"
   },
   {
    "duration": 7,
    "start_time": "2022-06-25T16:16:39.304Z"
   },
   {
    "duration": 40,
    "start_time": "2022-06-25T16:16:39.314Z"
   },
   {
    "duration": 38,
    "start_time": "2022-06-25T16:16:39.360Z"
   },
   {
    "duration": 9,
    "start_time": "2022-06-25T16:17:18.178Z"
   },
   {
    "duration": 28,
    "start_time": "2022-06-25T16:17:22.123Z"
   },
   {
    "duration": 11,
    "start_time": "2022-06-25T16:17:31.602Z"
   },
   {
    "duration": 10,
    "start_time": "2022-06-25T16:17:39.173Z"
   },
   {
    "duration": 11,
    "start_time": "2022-06-25T16:17:42.994Z"
   },
   {
    "duration": 13,
    "start_time": "2022-06-25T16:17:50.453Z"
   },
   {
    "duration": 22,
    "start_time": "2022-06-25T16:17:56.951Z"
   },
   {
    "duration": 12,
    "start_time": "2022-06-25T16:18:03.001Z"
   },
   {
    "duration": 8,
    "start_time": "2022-06-25T16:18:24.975Z"
   },
   {
    "duration": 1272,
    "start_time": "2022-06-25T16:21:01.350Z"
   },
   {
    "duration": 682,
    "start_time": "2022-06-25T16:21:02.627Z"
   },
   {
    "duration": 72,
    "start_time": "2022-06-25T16:21:03.311Z"
   },
   {
    "duration": 111,
    "start_time": "2022-06-25T16:21:03.385Z"
   },
   {
    "duration": 88,
    "start_time": "2022-06-25T16:21:03.499Z"
   },
   {
    "duration": 50,
    "start_time": "2022-06-25T16:21:03.589Z"
   },
   {
    "duration": 23,
    "start_time": "2022-06-25T16:21:03.641Z"
   },
   {
    "duration": 104,
    "start_time": "2022-06-25T16:21:03.668Z"
   },
   {
    "duration": 31,
    "start_time": "2022-06-25T16:21:03.775Z"
   },
   {
    "duration": 60,
    "start_time": "2022-06-25T16:21:03.808Z"
   },
   {
    "duration": 33,
    "start_time": "2022-06-25T16:21:03.870Z"
   },
   {
    "duration": 49,
    "start_time": "2022-06-25T16:21:03.904Z"
   },
   {
    "duration": 25,
    "start_time": "2022-06-25T16:21:03.955Z"
   },
   {
    "duration": 8,
    "start_time": "2022-06-25T16:21:03.983Z"
   },
   {
    "duration": 21,
    "start_time": "2022-06-25T16:21:03.993Z"
   },
   {
    "duration": 40,
    "start_time": "2022-06-25T16:21:04.016Z"
   },
   {
    "duration": 155,
    "start_time": "2022-06-25T16:21:04.059Z"
   },
   {
    "duration": 44,
    "start_time": "2022-06-25T16:21:04.215Z"
   },
   {
    "duration": 20,
    "start_time": "2022-06-25T16:21:04.262Z"
   },
   {
    "duration": 12,
    "start_time": "2022-06-25T16:21:04.285Z"
   },
   {
    "duration": 7,
    "start_time": "2022-06-25T16:21:04.299Z"
   },
   {
    "duration": 317,
    "start_time": "2022-06-25T16:21:04.308Z"
   },
   {
    "duration": 315,
    "start_time": "2022-06-25T16:21:04.627Z"
   },
   {
    "duration": 312,
    "start_time": "2022-06-25T16:21:04.944Z"
   },
   {
    "duration": 310,
    "start_time": "2022-06-25T16:21:05.257Z"
   },
   {
    "duration": 331,
    "start_time": "2022-06-25T16:21:05.573Z"
   },
   {
    "duration": 7,
    "start_time": "2022-06-25T16:21:05.906Z"
   },
   {
    "duration": 75,
    "start_time": "2022-06-25T16:21:05.915Z"
   },
   {
    "duration": 12,
    "start_time": "2022-06-25T16:21:05.992Z"
   },
   {
    "duration": 10,
    "start_time": "2022-06-25T16:21:24.575Z"
   },
   {
    "duration": 8,
    "start_time": "2022-06-25T16:22:16.856Z"
   },
   {
    "duration": 1164,
    "start_time": "2022-06-25T16:48:57.005Z"
   },
   {
    "duration": 519,
    "start_time": "2022-06-25T16:48:58.171Z"
   },
   {
    "duration": 58,
    "start_time": "2022-06-25T16:48:58.692Z"
   },
   {
    "duration": 90,
    "start_time": "2022-06-25T16:48:58.757Z"
   },
   {
    "duration": 65,
    "start_time": "2022-06-25T16:48:58.850Z"
   },
   {
    "duration": 73,
    "start_time": "2022-06-25T16:48:58.924Z"
   },
   {
    "duration": 13,
    "start_time": "2022-06-25T16:48:58.999Z"
   },
   {
    "duration": 138,
    "start_time": "2022-06-25T16:48:59.014Z"
   },
   {
    "duration": 46,
    "start_time": "2022-06-25T16:48:59.158Z"
   },
   {
    "duration": 66,
    "start_time": "2022-06-25T16:48:59.206Z"
   },
   {
    "duration": 34,
    "start_time": "2022-06-25T16:48:59.278Z"
   },
   {
    "duration": 44,
    "start_time": "2022-06-25T16:48:59.313Z"
   },
   {
    "duration": 26,
    "start_time": "2022-06-25T16:48:59.359Z"
   },
   {
    "duration": 7,
    "start_time": "2022-06-25T16:48:59.388Z"
   },
   {
    "duration": 23,
    "start_time": "2022-06-25T16:48:59.397Z"
   },
   {
    "duration": 34,
    "start_time": "2022-06-25T16:48:59.421Z"
   },
   {
    "duration": 147,
    "start_time": "2022-06-25T16:48:59.459Z"
   },
   {
    "duration": 43,
    "start_time": "2022-06-25T16:48:59.608Z"
   },
   {
    "duration": 15,
    "start_time": "2022-06-25T16:48:59.653Z"
   },
   {
    "duration": 20,
    "start_time": "2022-06-25T16:48:59.669Z"
   },
   {
    "duration": 29,
    "start_time": "2022-06-25T16:48:59.691Z"
   },
   {
    "duration": 373,
    "start_time": "2022-06-25T16:48:59.728Z"
   },
   {
    "duration": 363,
    "start_time": "2022-06-25T16:49:00.103Z"
   },
   {
    "duration": 374,
    "start_time": "2022-06-25T16:49:00.467Z"
   },
   {
    "duration": 367,
    "start_time": "2022-06-25T16:49:00.843Z"
   },
   {
    "duration": 454,
    "start_time": "2022-06-25T16:49:01.211Z"
   },
   {
    "duration": 10,
    "start_time": "2022-06-25T16:49:01.668Z"
   },
   {
    "duration": 44,
    "start_time": "2022-06-25T16:49:01.680Z"
   },
   {
    "duration": 16,
    "start_time": "2022-06-25T16:49:01.734Z"
   },
   {
    "duration": 1066,
    "start_time": "2022-06-25T16:50:29.468Z"
   },
   {
    "duration": 448,
    "start_time": "2022-06-25T16:50:30.536Z"
   },
   {
    "duration": 58,
    "start_time": "2022-06-25T16:50:30.986Z"
   },
   {
    "duration": 91,
    "start_time": "2022-06-25T16:50:31.046Z"
   },
   {
    "duration": 61,
    "start_time": "2022-06-25T16:50:31.138Z"
   },
   {
    "duration": 57,
    "start_time": "2022-06-25T16:50:31.201Z"
   },
   {
    "duration": 12,
    "start_time": "2022-06-25T16:50:31.259Z"
   },
   {
    "duration": 90,
    "start_time": "2022-06-25T16:50:31.273Z"
   },
   {
    "duration": 31,
    "start_time": "2022-06-25T16:50:31.365Z"
   },
   {
    "duration": 56,
    "start_time": "2022-06-25T16:50:31.398Z"
   },
   {
    "duration": 32,
    "start_time": "2022-06-25T16:50:31.456Z"
   },
   {
    "duration": 48,
    "start_time": "2022-06-25T16:50:31.489Z"
   },
   {
    "duration": 13,
    "start_time": "2022-06-25T16:50:31.539Z"
   },
   {
    "duration": 28,
    "start_time": "2022-06-25T16:50:31.554Z"
   },
   {
    "duration": 58,
    "start_time": "2022-06-25T16:50:31.584Z"
   },
   {
    "duration": 44,
    "start_time": "2022-06-25T16:50:31.644Z"
   },
   {
    "duration": 119,
    "start_time": "2022-06-25T16:50:31.690Z"
   },
   {
    "duration": 32,
    "start_time": "2022-06-25T16:50:31.810Z"
   },
   {
    "duration": 15,
    "start_time": "2022-06-25T16:50:31.844Z"
   },
   {
    "duration": 27,
    "start_time": "2022-06-25T16:50:31.860Z"
   },
   {
    "duration": 42,
    "start_time": "2022-06-25T16:50:31.888Z"
   },
   {
    "duration": 283,
    "start_time": "2022-06-25T16:50:31.931Z"
   },
   {
    "duration": 271,
    "start_time": "2022-06-25T16:50:32.216Z"
   },
   {
    "duration": 331,
    "start_time": "2022-06-25T16:50:32.488Z"
   },
   {
    "duration": 268,
    "start_time": "2022-06-25T16:50:32.830Z"
   },
   {
    "duration": 275,
    "start_time": "2022-06-25T16:50:33.100Z"
   },
   {
    "duration": 7,
    "start_time": "2022-06-25T16:50:33.377Z"
   },
   {
    "duration": 21,
    "start_time": "2022-06-25T16:50:33.387Z"
   },
   {
    "duration": 26,
    "start_time": "2022-06-25T16:50:33.410Z"
   },
   {
    "duration": 131,
    "start_time": "2022-06-25T17:11:19.638Z"
   },
   {
    "duration": 162,
    "start_time": "2022-06-25T17:11:39.210Z"
   },
   {
    "duration": 1329,
    "start_time": "2022-06-25T20:11:05.627Z"
   },
   {
    "duration": 1011,
    "start_time": "2022-06-25T20:11:06.959Z"
   },
   {
    "duration": 55,
    "start_time": "2022-06-25T20:11:07.972Z"
   },
   {
    "duration": 74,
    "start_time": "2022-06-25T20:11:08.029Z"
   },
   {
    "duration": 88,
    "start_time": "2022-06-25T20:11:08.105Z"
   },
   {
    "duration": 54,
    "start_time": "2022-06-25T20:11:08.194Z"
   },
   {
    "duration": 14,
    "start_time": "2022-06-25T20:11:08.250Z"
   },
   {
    "duration": 86,
    "start_time": "2022-06-25T20:11:08.266Z"
   },
   {
    "duration": 33,
    "start_time": "2022-06-25T20:11:08.353Z"
   },
   {
    "duration": 73,
    "start_time": "2022-06-25T20:11:08.389Z"
   },
   {
    "duration": 51,
    "start_time": "2022-06-25T20:11:08.464Z"
   },
   {
    "duration": 32,
    "start_time": "2022-06-25T20:11:08.527Z"
   },
   {
    "duration": 18,
    "start_time": "2022-06-25T20:11:08.561Z"
   },
   {
    "duration": 8,
    "start_time": "2022-06-25T20:11:08.580Z"
   },
   {
    "duration": 59,
    "start_time": "2022-06-25T20:11:08.591Z"
   },
   {
    "duration": 22,
    "start_time": "2022-06-25T20:11:08.652Z"
   },
   {
    "duration": 147,
    "start_time": "2022-06-25T20:11:08.676Z"
   },
   {
    "duration": 27,
    "start_time": "2022-06-25T20:11:08.827Z"
   },
   {
    "duration": 21,
    "start_time": "2022-06-25T20:11:08.856Z"
   },
   {
    "duration": 22,
    "start_time": "2022-06-25T20:11:08.879Z"
   },
   {
    "duration": 26,
    "start_time": "2022-06-25T20:11:08.903Z"
   },
   {
    "duration": 293,
    "start_time": "2022-06-25T20:11:08.931Z"
   },
   {
    "duration": 392,
    "start_time": "2022-06-25T20:11:09.225Z"
   },
   {
    "duration": 329,
    "start_time": "2022-06-25T20:11:09.619Z"
   },
   {
    "duration": 308,
    "start_time": "2022-06-25T20:11:09.950Z"
   },
   {
    "duration": 288,
    "start_time": "2022-06-25T20:11:10.259Z"
   },
   {
    "duration": 8,
    "start_time": "2022-06-25T20:11:10.549Z"
   },
   {
    "duration": 28,
    "start_time": "2022-06-25T20:11:10.560Z"
   },
   {
    "duration": 10,
    "start_time": "2022-06-25T20:11:10.589Z"
   },
   {
    "duration": 9,
    "start_time": "2022-06-25T20:14:04.524Z"
   },
   {
    "duration": 1172,
    "start_time": "2022-06-25T20:14:20.841Z"
   },
   {
    "duration": 423,
    "start_time": "2022-06-25T20:14:22.015Z"
   },
   {
    "duration": 57,
    "start_time": "2022-06-25T20:14:22.440Z"
   },
   {
    "duration": 79,
    "start_time": "2022-06-25T20:14:22.500Z"
   },
   {
    "duration": 79,
    "start_time": "2022-06-25T20:14:22.581Z"
   },
   {
    "duration": 45,
    "start_time": "2022-06-25T20:14:22.661Z"
   },
   {
    "duration": 30,
    "start_time": "2022-06-25T20:14:22.708Z"
   },
   {
    "duration": 75,
    "start_time": "2022-06-25T20:14:22.739Z"
   },
   {
    "duration": 32,
    "start_time": "2022-06-25T20:14:22.827Z"
   },
   {
    "duration": 67,
    "start_time": "2022-06-25T20:14:22.863Z"
   },
   {
    "duration": 45,
    "start_time": "2022-06-25T20:14:22.932Z"
   },
   {
    "duration": 48,
    "start_time": "2022-06-25T20:14:22.979Z"
   },
   {
    "duration": 19,
    "start_time": "2022-06-25T20:14:23.029Z"
   },
   {
    "duration": 10,
    "start_time": "2022-06-25T20:14:23.050Z"
   },
   {
    "duration": 44,
    "start_time": "2022-06-25T20:14:23.062Z"
   },
   {
    "duration": 38,
    "start_time": "2022-06-25T20:14:23.108Z"
   },
   {
    "duration": 190,
    "start_time": "2022-06-25T20:14:23.148Z"
   },
   {
    "duration": 26,
    "start_time": "2022-06-25T20:14:23.340Z"
   },
   {
    "duration": 10,
    "start_time": "2022-06-25T20:14:23.368Z"
   },
   {
    "duration": 11,
    "start_time": "2022-06-25T20:14:23.380Z"
   },
   {
    "duration": 40,
    "start_time": "2022-06-25T20:14:23.392Z"
   },
   {
    "duration": 268,
    "start_time": "2022-06-25T20:14:23.434Z"
   },
   {
    "duration": 300,
    "start_time": "2022-06-25T20:14:23.704Z"
   },
   {
    "duration": 267,
    "start_time": "2022-06-25T20:14:24.006Z"
   },
   {
    "duration": 278,
    "start_time": "2022-06-25T20:14:24.275Z"
   },
   {
    "duration": 281,
    "start_time": "2022-06-25T20:14:24.555Z"
   },
   {
    "duration": 8,
    "start_time": "2022-06-25T20:14:24.838Z"
   },
   {
    "duration": 24,
    "start_time": "2022-06-25T20:14:24.849Z"
   },
   {
    "duration": 8,
    "start_time": "2022-06-25T20:14:24.875Z"
   },
   {
    "duration": 9,
    "start_time": "2022-06-25T20:14:29.663Z"
   },
   {
    "duration": 10,
    "start_time": "2022-06-25T20:14:35.733Z"
   },
   {
    "duration": 62,
    "start_time": "2022-06-25T23:46:55.300Z"
   },
   {
    "duration": 1219,
    "start_time": "2022-06-25T23:46:59.144Z"
   },
   {
    "duration": 923,
    "start_time": "2022-06-25T23:47:00.367Z"
   },
   {
    "duration": 46,
    "start_time": "2022-06-25T23:47:01.292Z"
   },
   {
    "duration": 68,
    "start_time": "2022-06-25T23:47:01.339Z"
   },
   {
    "duration": 66,
    "start_time": "2022-06-25T23:47:01.409Z"
   },
   {
    "duration": 45,
    "start_time": "2022-06-25T23:47:01.477Z"
   },
   {
    "duration": 12,
    "start_time": "2022-06-25T23:47:01.523Z"
   },
   {
    "duration": 101,
    "start_time": "2022-06-25T23:47:01.537Z"
   },
   {
    "duration": 49,
    "start_time": "2022-06-25T23:47:01.640Z"
   },
   {
    "duration": 41,
    "start_time": "2022-06-25T23:47:01.691Z"
   },
   {
    "duration": 48,
    "start_time": "2022-06-25T23:47:01.734Z"
   },
   {
    "duration": 11,
    "start_time": "2022-06-25T23:47:01.784Z"
   },
   {
    "duration": 49,
    "start_time": "2022-06-25T23:47:01.797Z"
   },
   {
    "duration": 21,
    "start_time": "2022-06-25T23:47:01.850Z"
   },
   {
    "duration": 11,
    "start_time": "2022-06-25T23:47:01.872Z"
   },
   {
    "duration": 22,
    "start_time": "2022-06-25T23:47:01.884Z"
   },
   {
    "duration": 22,
    "start_time": "2022-06-25T23:47:01.908Z"
   },
   {
    "duration": 156,
    "start_time": "2022-06-25T23:47:01.932Z"
   },
   {
    "duration": 26,
    "start_time": "2022-06-25T23:47:02.089Z"
   },
   {
    "duration": 14,
    "start_time": "2022-06-25T23:47:02.117Z"
   },
   {
    "duration": 39,
    "start_time": "2022-06-25T23:47:02.133Z"
   },
   {
    "duration": 10,
    "start_time": "2022-06-25T23:47:02.174Z"
   },
   {
    "duration": 278,
    "start_time": "2022-06-25T23:47:02.186Z"
   },
   {
    "duration": 286,
    "start_time": "2022-06-25T23:47:02.466Z"
   },
   {
    "duration": 273,
    "start_time": "2022-06-25T23:47:02.755Z"
   },
   {
    "duration": 308,
    "start_time": "2022-06-25T23:47:03.031Z"
   },
   {
    "duration": 285,
    "start_time": "2022-06-25T23:47:03.341Z"
   },
   {
    "duration": 8,
    "start_time": "2022-06-25T23:47:03.627Z"
   },
   {
    "duration": 33,
    "start_time": "2022-06-25T23:47:03.636Z"
   },
   {
    "duration": 9,
    "start_time": "2022-06-25T23:47:03.672Z"
   },
   {
    "duration": 6,
    "start_time": "2022-06-25T23:47:12.182Z"
   },
   {
    "duration": 7,
    "start_time": "2022-06-25T23:47:33.918Z"
   },
   {
    "duration": 34,
    "start_time": "2022-06-25T23:54:53.351Z"
   },
   {
    "duration": 293,
    "start_time": "2022-06-25T23:56:01.795Z"
   },
   {
    "duration": 482,
    "start_time": "2022-06-25T23:56:23.127Z"
   },
   {
    "duration": 41,
    "start_time": "2022-06-26T18:13:07.529Z"
   },
   {
    "duration": 1126,
    "start_time": "2022-06-26T18:13:18.284Z"
   },
   {
    "duration": 1225,
    "start_time": "2022-06-26T18:13:19.412Z"
   },
   {
    "duration": 38,
    "start_time": "2022-06-26T18:13:20.639Z"
   },
   {
    "duration": 59,
    "start_time": "2022-06-26T18:13:20.679Z"
   },
   {
    "duration": 73,
    "start_time": "2022-06-26T18:13:20.739Z"
   },
   {
    "duration": 42,
    "start_time": "2022-06-26T18:13:20.813Z"
   },
   {
    "duration": 10,
    "start_time": "2022-06-26T18:13:20.856Z"
   },
   {
    "duration": 147,
    "start_time": "2022-06-26T18:13:20.867Z"
   },
   {
    "duration": 0,
    "start_time": "2022-06-26T18:13:21.016Z"
   },
   {
    "duration": 0,
    "start_time": "2022-06-26T18:13:21.017Z"
   },
   {
    "duration": 0,
    "start_time": "2022-06-26T18:13:21.018Z"
   },
   {
    "duration": 0,
    "start_time": "2022-06-26T18:13:21.019Z"
   },
   {
    "duration": 0,
    "start_time": "2022-06-26T18:13:21.020Z"
   },
   {
    "duration": 0,
    "start_time": "2022-06-26T18:13:21.021Z"
   },
   {
    "duration": 0,
    "start_time": "2022-06-26T18:13:21.022Z"
   },
   {
    "duration": 0,
    "start_time": "2022-06-26T18:13:21.023Z"
   },
   {
    "duration": 0,
    "start_time": "2022-06-26T18:13:21.026Z"
   },
   {
    "duration": 0,
    "start_time": "2022-06-26T18:13:21.027Z"
   },
   {
    "duration": 0,
    "start_time": "2022-06-26T18:13:21.029Z"
   },
   {
    "duration": 0,
    "start_time": "2022-06-26T18:13:21.031Z"
   },
   {
    "duration": 0,
    "start_time": "2022-06-26T18:13:21.032Z"
   },
   {
    "duration": 0,
    "start_time": "2022-06-26T18:13:21.033Z"
   },
   {
    "duration": 0,
    "start_time": "2022-06-26T18:13:21.034Z"
   },
   {
    "duration": 0,
    "start_time": "2022-06-26T18:13:21.036Z"
   },
   {
    "duration": 0,
    "start_time": "2022-06-26T18:13:21.037Z"
   },
   {
    "duration": 0,
    "start_time": "2022-06-26T18:13:21.038Z"
   },
   {
    "duration": 0,
    "start_time": "2022-06-26T18:13:21.039Z"
   },
   {
    "duration": 0,
    "start_time": "2022-06-26T18:13:21.041Z"
   },
   {
    "duration": 0,
    "start_time": "2022-06-26T18:13:21.041Z"
   },
   {
    "duration": 0,
    "start_time": "2022-06-26T18:13:21.042Z"
   },
   {
    "duration": 0,
    "start_time": "2022-06-26T18:13:21.043Z"
   },
   {
    "duration": 51,
    "start_time": "2022-06-26T18:13:59.263Z"
   },
   {
    "duration": 50,
    "start_time": "2022-06-26T18:17:46.111Z"
   },
   {
    "duration": 53,
    "start_time": "2022-06-26T18:18:10.501Z"
   },
   {
    "duration": 948,
    "start_time": "2022-06-26T18:18:18.357Z"
   },
   {
    "duration": 344,
    "start_time": "2022-06-26T18:18:19.307Z"
   },
   {
    "duration": 37,
    "start_time": "2022-06-26T18:18:19.653Z"
   },
   {
    "duration": 58,
    "start_time": "2022-06-26T18:18:19.692Z"
   },
   {
    "duration": 55,
    "start_time": "2022-06-26T18:18:19.752Z"
   },
   {
    "duration": 33,
    "start_time": "2022-06-26T18:18:19.808Z"
   },
   {
    "duration": 10,
    "start_time": "2022-06-26T18:18:19.842Z"
   },
   {
    "duration": 147,
    "start_time": "2022-06-26T18:18:19.853Z"
   },
   {
    "duration": 0,
    "start_time": "2022-06-26T18:18:20.002Z"
   },
   {
    "duration": 0,
    "start_time": "2022-06-26T18:18:20.003Z"
   },
   {
    "duration": 0,
    "start_time": "2022-06-26T18:18:20.004Z"
   },
   {
    "duration": 0,
    "start_time": "2022-06-26T18:18:20.005Z"
   },
   {
    "duration": 0,
    "start_time": "2022-06-26T18:18:20.006Z"
   },
   {
    "duration": 0,
    "start_time": "2022-06-26T18:18:20.007Z"
   },
   {
    "duration": 0,
    "start_time": "2022-06-26T18:18:20.008Z"
   },
   {
    "duration": 0,
    "start_time": "2022-06-26T18:18:20.008Z"
   },
   {
    "duration": 0,
    "start_time": "2022-06-26T18:18:20.009Z"
   },
   {
    "duration": 0,
    "start_time": "2022-06-26T18:18:20.011Z"
   },
   {
    "duration": 0,
    "start_time": "2022-06-26T18:18:20.012Z"
   },
   {
    "duration": 0,
    "start_time": "2022-06-26T18:18:20.013Z"
   },
   {
    "duration": 0,
    "start_time": "2022-06-26T18:18:20.013Z"
   },
   {
    "duration": 0,
    "start_time": "2022-06-26T18:18:20.014Z"
   },
   {
    "duration": 0,
    "start_time": "2022-06-26T18:18:20.015Z"
   },
   {
    "duration": 0,
    "start_time": "2022-06-26T18:18:20.016Z"
   },
   {
    "duration": 0,
    "start_time": "2022-06-26T18:18:20.017Z"
   },
   {
    "duration": 0,
    "start_time": "2022-06-26T18:18:20.018Z"
   },
   {
    "duration": 0,
    "start_time": "2022-06-26T18:18:20.019Z"
   },
   {
    "duration": 0,
    "start_time": "2022-06-26T18:18:20.020Z"
   },
   {
    "duration": 0,
    "start_time": "2022-06-26T18:18:20.021Z"
   },
   {
    "duration": 0,
    "start_time": "2022-06-26T18:18:20.022Z"
   },
   {
    "duration": 0,
    "start_time": "2022-06-26T18:18:20.022Z"
   },
   {
    "duration": 60,
    "start_time": "2022-06-26T18:20:44.824Z"
   },
   {
    "duration": 62,
    "start_time": "2022-06-26T18:21:03.489Z"
   },
   {
    "duration": 70,
    "start_time": "2022-06-26T18:38:15.785Z"
   },
   {
    "duration": 1110,
    "start_time": "2022-06-26T18:39:16.364Z"
   },
   {
    "duration": 350,
    "start_time": "2022-06-26T18:39:17.476Z"
   },
   {
    "duration": 39,
    "start_time": "2022-06-26T18:39:17.828Z"
   },
   {
    "duration": 70,
    "start_time": "2022-06-26T18:39:17.868Z"
   },
   {
    "duration": 72,
    "start_time": "2022-06-26T18:39:17.941Z"
   },
   {
    "duration": 44,
    "start_time": "2022-06-26T18:39:18.015Z"
   },
   {
    "duration": 11,
    "start_time": "2022-06-26T18:39:18.060Z"
   },
   {
    "duration": 168,
    "start_time": "2022-06-26T18:39:18.072Z"
   },
   {
    "duration": 0,
    "start_time": "2022-06-26T18:39:18.242Z"
   },
   {
    "duration": 0,
    "start_time": "2022-06-26T18:39:18.244Z"
   },
   {
    "duration": 0,
    "start_time": "2022-06-26T18:39:18.245Z"
   },
   {
    "duration": 0,
    "start_time": "2022-06-26T18:39:18.246Z"
   },
   {
    "duration": 0,
    "start_time": "2022-06-26T18:39:18.247Z"
   },
   {
    "duration": 0,
    "start_time": "2022-06-26T18:39:18.248Z"
   },
   {
    "duration": 0,
    "start_time": "2022-06-26T18:39:18.250Z"
   },
   {
    "duration": 0,
    "start_time": "2022-06-26T18:39:18.251Z"
   },
   {
    "duration": 0,
    "start_time": "2022-06-26T18:39:18.252Z"
   },
   {
    "duration": 0,
    "start_time": "2022-06-26T18:39:18.254Z"
   },
   {
    "duration": 0,
    "start_time": "2022-06-26T18:39:18.255Z"
   },
   {
    "duration": 0,
    "start_time": "2022-06-26T18:39:18.256Z"
   },
   {
    "duration": 0,
    "start_time": "2022-06-26T18:39:18.258Z"
   },
   {
    "duration": 0,
    "start_time": "2022-06-26T18:39:18.259Z"
   },
   {
    "duration": 0,
    "start_time": "2022-06-26T18:39:18.260Z"
   },
   {
    "duration": 0,
    "start_time": "2022-06-26T18:39:18.261Z"
   },
   {
    "duration": 1,
    "start_time": "2022-06-26T18:39:18.291Z"
   },
   {
    "duration": 0,
    "start_time": "2022-06-26T18:39:18.293Z"
   },
   {
    "duration": 0,
    "start_time": "2022-06-26T18:39:18.294Z"
   },
   {
    "duration": 0,
    "start_time": "2022-06-26T18:39:18.296Z"
   },
   {
    "duration": 0,
    "start_time": "2022-06-26T18:39:18.297Z"
   },
   {
    "duration": 0,
    "start_time": "2022-06-26T18:39:18.298Z"
   },
   {
    "duration": 0,
    "start_time": "2022-06-26T18:39:18.299Z"
   },
   {
    "duration": 82,
    "start_time": "2022-06-26T18:39:57.597Z"
   },
   {
    "duration": 63,
    "start_time": "2022-06-26T18:41:27.989Z"
   },
   {
    "duration": 64,
    "start_time": "2022-06-26T18:41:36.927Z"
   },
   {
    "duration": 9,
    "start_time": "2022-06-26T18:42:02.344Z"
   },
   {
    "duration": 8,
    "start_time": "2022-06-26T18:42:04.966Z"
   },
   {
    "duration": 61,
    "start_time": "2022-06-26T18:42:18.066Z"
   },
   {
    "duration": 30,
    "start_time": "2022-06-26T18:42:19.867Z"
   },
   {
    "duration": 35,
    "start_time": "2022-06-26T18:42:20.697Z"
   },
   {
    "duration": 27,
    "start_time": "2022-06-26T18:42:21.116Z"
   },
   {
    "duration": 7,
    "start_time": "2022-06-26T18:42:22.945Z"
   },
   {
    "duration": 115,
    "start_time": "2022-06-26T18:45:08.011Z"
   },
   {
    "duration": 11,
    "start_time": "2022-06-26T18:45:18.638Z"
   },
   {
    "duration": 986,
    "start_time": "2022-06-26T18:45:29.444Z"
   },
   {
    "duration": 414,
    "start_time": "2022-06-26T18:45:30.432Z"
   },
   {
    "duration": 43,
    "start_time": "2022-06-26T18:45:30.848Z"
   },
   {
    "duration": 64,
    "start_time": "2022-06-26T18:45:30.893Z"
   },
   {
    "duration": 58,
    "start_time": "2022-06-26T18:45:30.959Z"
   },
   {
    "duration": 32,
    "start_time": "2022-06-26T18:45:31.018Z"
   },
   {
    "duration": 10,
    "start_time": "2022-06-26T18:45:31.052Z"
   },
   {
    "duration": 167,
    "start_time": "2022-06-26T18:45:31.064Z"
   },
   {
    "duration": 0,
    "start_time": "2022-06-26T18:45:31.233Z"
   },
   {
    "duration": 0,
    "start_time": "2022-06-26T18:45:31.234Z"
   },
   {
    "duration": 0,
    "start_time": "2022-06-26T18:45:31.235Z"
   },
   {
    "duration": 0,
    "start_time": "2022-06-26T18:45:31.237Z"
   },
   {
    "duration": 0,
    "start_time": "2022-06-26T18:45:31.238Z"
   },
   {
    "duration": 0,
    "start_time": "2022-06-26T18:45:31.239Z"
   },
   {
    "duration": 0,
    "start_time": "2022-06-26T18:45:31.240Z"
   },
   {
    "duration": 0,
    "start_time": "2022-06-26T18:45:31.241Z"
   },
   {
    "duration": 0,
    "start_time": "2022-06-26T18:45:31.243Z"
   },
   {
    "duration": 0,
    "start_time": "2022-06-26T18:45:31.244Z"
   },
   {
    "duration": 0,
    "start_time": "2022-06-26T18:45:31.245Z"
   },
   {
    "duration": 0,
    "start_time": "2022-06-26T18:45:31.246Z"
   },
   {
    "duration": 0,
    "start_time": "2022-06-26T18:45:31.247Z"
   },
   {
    "duration": 0,
    "start_time": "2022-06-26T18:45:31.249Z"
   },
   {
    "duration": 0,
    "start_time": "2022-06-26T18:45:31.250Z"
   },
   {
    "duration": 0,
    "start_time": "2022-06-26T18:45:31.251Z"
   },
   {
    "duration": 0,
    "start_time": "2022-06-26T18:45:31.253Z"
   },
   {
    "duration": 0,
    "start_time": "2022-06-26T18:45:31.254Z"
   },
   {
    "duration": 0,
    "start_time": "2022-06-26T18:45:31.255Z"
   },
   {
    "duration": 0,
    "start_time": "2022-06-26T18:45:31.291Z"
   },
   {
    "duration": 0,
    "start_time": "2022-06-26T18:45:31.293Z"
   },
   {
    "duration": 0,
    "start_time": "2022-06-26T18:45:31.294Z"
   },
   {
    "duration": 1,
    "start_time": "2022-06-26T18:45:31.295Z"
   },
   {
    "duration": 52,
    "start_time": "2022-06-26T18:45:41.228Z"
   },
   {
    "duration": 28,
    "start_time": "2022-06-26T18:45:44.468Z"
   },
   {
    "duration": 32,
    "start_time": "2022-06-26T18:45:45.386Z"
   },
   {
    "duration": 74,
    "start_time": "2022-06-26T18:45:45.721Z"
   },
   {
    "duration": 8,
    "start_time": "2022-06-26T18:45:46.600Z"
   },
   {
    "duration": 1012,
    "start_time": "2022-06-26T18:45:54.771Z"
   },
   {
    "duration": 344,
    "start_time": "2022-06-26T18:45:55.785Z"
   },
   {
    "duration": 39,
    "start_time": "2022-06-26T18:45:56.131Z"
   },
   {
    "duration": 64,
    "start_time": "2022-06-26T18:45:56.172Z"
   },
   {
    "duration": 60,
    "start_time": "2022-06-26T18:45:56.238Z"
   },
   {
    "duration": 33,
    "start_time": "2022-06-26T18:45:56.300Z"
   },
   {
    "duration": 11,
    "start_time": "2022-06-26T18:45:56.335Z"
   },
   {
    "duration": 83,
    "start_time": "2022-06-26T18:45:56.347Z"
   },
   {
    "duration": 29,
    "start_time": "2022-06-26T18:45:56.432Z"
   },
   {
    "duration": 51,
    "start_time": "2022-06-26T18:45:56.464Z"
   },
   {
    "duration": 75,
    "start_time": "2022-06-26T18:45:56.517Z"
   },
   {
    "duration": 0,
    "start_time": "2022-06-26T18:45:56.593Z"
   },
   {
    "duration": 0,
    "start_time": "2022-06-26T18:45:56.595Z"
   },
   {
    "duration": 0,
    "start_time": "2022-06-26T18:45:56.596Z"
   },
   {
    "duration": 0,
    "start_time": "2022-06-26T18:45:56.597Z"
   },
   {
    "duration": 0,
    "start_time": "2022-06-26T18:45:56.598Z"
   },
   {
    "duration": 0,
    "start_time": "2022-06-26T18:45:56.599Z"
   },
   {
    "duration": 0,
    "start_time": "2022-06-26T18:45:56.601Z"
   },
   {
    "duration": 0,
    "start_time": "2022-06-26T18:45:56.602Z"
   },
   {
    "duration": 0,
    "start_time": "2022-06-26T18:45:56.602Z"
   },
   {
    "duration": 0,
    "start_time": "2022-06-26T18:45:56.603Z"
   },
   {
    "duration": 0,
    "start_time": "2022-06-26T18:45:56.604Z"
   },
   {
    "duration": 0,
    "start_time": "2022-06-26T18:45:56.605Z"
   },
   {
    "duration": 0,
    "start_time": "2022-06-26T18:45:56.606Z"
   },
   {
    "duration": 0,
    "start_time": "2022-06-26T18:45:56.607Z"
   },
   {
    "duration": 0,
    "start_time": "2022-06-26T18:45:56.608Z"
   },
   {
    "duration": 0,
    "start_time": "2022-06-26T18:45:56.609Z"
   },
   {
    "duration": 0,
    "start_time": "2022-06-26T18:45:56.610Z"
   },
   {
    "duration": 1,
    "start_time": "2022-06-26T18:45:56.610Z"
   },
   {
    "duration": 0,
    "start_time": "2022-06-26T18:45:56.612Z"
   },
   {
    "duration": 0,
    "start_time": "2022-06-26T18:45:56.613Z"
   },
   {
    "duration": 27,
    "start_time": "2022-06-26T18:46:10.520Z"
   },
   {
    "duration": 6,
    "start_time": "2022-06-26T18:46:12.186Z"
   },
   {
    "duration": 22,
    "start_time": "2022-06-26T18:46:12.955Z"
   },
   {
    "duration": 14,
    "start_time": "2022-06-26T18:46:13.708Z"
   },
   {
    "duration": 84,
    "start_time": "2022-06-26T18:46:40.313Z"
   },
   {
    "duration": 100,
    "start_time": "2022-06-26T18:47:49.307Z"
   },
   {
    "duration": 82,
    "start_time": "2022-06-26T18:48:10.197Z"
   },
   {
    "duration": 10,
    "start_time": "2022-06-26T18:48:17.143Z"
   },
   {
    "duration": 108,
    "start_time": "2022-06-26T18:48:24.631Z"
   },
   {
    "duration": 992,
    "start_time": "2022-06-26T18:48:30.673Z"
   },
   {
    "duration": 368,
    "start_time": "2022-06-26T18:48:31.666Z"
   },
   {
    "duration": 45,
    "start_time": "2022-06-26T18:48:32.035Z"
   },
   {
    "duration": 59,
    "start_time": "2022-06-26T18:48:32.082Z"
   },
   {
    "duration": 52,
    "start_time": "2022-06-26T18:48:32.142Z"
   },
   {
    "duration": 34,
    "start_time": "2022-06-26T18:48:32.196Z"
   },
   {
    "duration": 9,
    "start_time": "2022-06-26T18:48:32.231Z"
   },
   {
    "duration": 77,
    "start_time": "2022-06-26T18:48:32.241Z"
   },
   {
    "duration": 26,
    "start_time": "2022-06-26T18:48:32.319Z"
   },
   {
    "duration": 44,
    "start_time": "2022-06-26T18:48:32.348Z"
   },
   {
    "duration": 75,
    "start_time": "2022-06-26T18:48:32.394Z"
   },
   {
    "duration": 0,
    "start_time": "2022-06-26T18:48:32.470Z"
   },
   {
    "duration": 0,
    "start_time": "2022-06-26T18:48:32.471Z"
   },
   {
    "duration": 0,
    "start_time": "2022-06-26T18:48:32.472Z"
   },
   {
    "duration": 0,
    "start_time": "2022-06-26T18:48:32.474Z"
   },
   {
    "duration": 0,
    "start_time": "2022-06-26T18:48:32.475Z"
   },
   {
    "duration": 0,
    "start_time": "2022-06-26T18:48:32.475Z"
   },
   {
    "duration": 0,
    "start_time": "2022-06-26T18:48:32.477Z"
   },
   {
    "duration": 0,
    "start_time": "2022-06-26T18:48:32.478Z"
   },
   {
    "duration": 0,
    "start_time": "2022-06-26T18:48:32.479Z"
   },
   {
    "duration": 0,
    "start_time": "2022-06-26T18:48:32.480Z"
   },
   {
    "duration": 0,
    "start_time": "2022-06-26T18:48:32.481Z"
   },
   {
    "duration": 0,
    "start_time": "2022-06-26T18:48:32.482Z"
   },
   {
    "duration": 0,
    "start_time": "2022-06-26T18:48:32.483Z"
   },
   {
    "duration": 0,
    "start_time": "2022-06-26T18:48:32.484Z"
   },
   {
    "duration": 0,
    "start_time": "2022-06-26T18:48:32.485Z"
   },
   {
    "duration": 0,
    "start_time": "2022-06-26T18:48:32.486Z"
   },
   {
    "duration": 0,
    "start_time": "2022-06-26T18:48:32.486Z"
   },
   {
    "duration": 0,
    "start_time": "2022-06-26T18:48:32.487Z"
   },
   {
    "duration": 0,
    "start_time": "2022-06-26T18:48:32.488Z"
   },
   {
    "duration": 0,
    "start_time": "2022-06-26T18:48:32.490Z"
   },
   {
    "duration": 76,
    "start_time": "2022-06-26T18:49:39.009Z"
   },
   {
    "duration": 86,
    "start_time": "2022-06-26T18:49:45.386Z"
   },
   {
    "duration": 15,
    "start_time": "2022-06-26T18:50:47.475Z"
   },
   {
    "duration": 13,
    "start_time": "2022-06-26T18:51:20.603Z"
   },
   {
    "duration": 14,
    "start_time": "2022-06-26T18:53:16.734Z"
   },
   {
    "duration": 975,
    "start_time": "2022-06-26T18:53:23.179Z"
   },
   {
    "duration": 346,
    "start_time": "2022-06-26T18:53:24.156Z"
   },
   {
    "duration": 49,
    "start_time": "2022-06-26T18:53:24.503Z"
   },
   {
    "duration": 67,
    "start_time": "2022-06-26T18:53:24.554Z"
   },
   {
    "duration": 53,
    "start_time": "2022-06-26T18:53:24.622Z"
   },
   {
    "duration": 42,
    "start_time": "2022-06-26T18:53:24.677Z"
   },
   {
    "duration": 10,
    "start_time": "2022-06-26T18:53:24.721Z"
   },
   {
    "duration": 78,
    "start_time": "2022-06-26T18:53:24.733Z"
   },
   {
    "duration": 27,
    "start_time": "2022-06-26T18:53:24.813Z"
   },
   {
    "duration": 51,
    "start_time": "2022-06-26T18:53:24.843Z"
   },
   {
    "duration": 88,
    "start_time": "2022-06-26T18:53:24.895Z"
   },
   {
    "duration": 0,
    "start_time": "2022-06-26T18:53:24.992Z"
   },
   {
    "duration": 0,
    "start_time": "2022-06-26T18:53:24.993Z"
   },
   {
    "duration": 0,
    "start_time": "2022-06-26T18:53:24.995Z"
   },
   {
    "duration": 0,
    "start_time": "2022-06-26T18:53:24.996Z"
   },
   {
    "duration": 0,
    "start_time": "2022-06-26T18:53:24.998Z"
   },
   {
    "duration": 0,
    "start_time": "2022-06-26T18:53:24.999Z"
   },
   {
    "duration": 0,
    "start_time": "2022-06-26T18:53:25.000Z"
   },
   {
    "duration": 0,
    "start_time": "2022-06-26T18:53:25.001Z"
   },
   {
    "duration": 0,
    "start_time": "2022-06-26T18:53:25.002Z"
   },
   {
    "duration": 0,
    "start_time": "2022-06-26T18:53:25.004Z"
   },
   {
    "duration": 0,
    "start_time": "2022-06-26T18:53:25.005Z"
   },
   {
    "duration": 0,
    "start_time": "2022-06-26T18:53:25.007Z"
   },
   {
    "duration": 0,
    "start_time": "2022-06-26T18:53:25.008Z"
   },
   {
    "duration": 0,
    "start_time": "2022-06-26T18:53:25.009Z"
   },
   {
    "duration": 0,
    "start_time": "2022-06-26T18:53:25.010Z"
   },
   {
    "duration": 0,
    "start_time": "2022-06-26T18:53:25.012Z"
   },
   {
    "duration": 1,
    "start_time": "2022-06-26T18:53:25.013Z"
   },
   {
    "duration": 0,
    "start_time": "2022-06-26T18:53:25.015Z"
   },
   {
    "duration": 0,
    "start_time": "2022-06-26T18:53:25.016Z"
   },
   {
    "duration": 0,
    "start_time": "2022-06-26T18:53:25.018Z"
   },
   {
    "duration": 12,
    "start_time": "2022-06-26T18:53:32.527Z"
   },
   {
    "duration": 15,
    "start_time": "2022-06-26T18:54:26.794Z"
   },
   {
    "duration": 11,
    "start_time": "2022-06-26T18:54:32.078Z"
   },
   {
    "duration": 11,
    "start_time": "2022-06-26T18:54:54.346Z"
   },
   {
    "duration": 998,
    "start_time": "2022-06-26T18:55:11.423Z"
   },
   {
    "duration": 376,
    "start_time": "2022-06-26T18:55:14.581Z"
   },
   {
    "duration": 57,
    "start_time": "2022-06-26T18:55:16.377Z"
   },
   {
    "duration": 74,
    "start_time": "2022-06-26T18:55:18.239Z"
   },
   {
    "duration": 46,
    "start_time": "2022-06-26T18:55:18.839Z"
   },
   {
    "duration": 43,
    "start_time": "2022-06-26T18:55:20.060Z"
   },
   {
    "duration": 12,
    "start_time": "2022-06-26T18:55:20.745Z"
   },
   {
    "duration": 90,
    "start_time": "2022-06-26T18:55:27.003Z"
   },
   {
    "duration": 36,
    "start_time": "2022-06-26T18:55:34.638Z"
   },
   {
    "duration": 42,
    "start_time": "2022-06-26T18:55:36.353Z"
   },
   {
    "duration": 97,
    "start_time": "2022-06-26T18:55:39.853Z"
   },
   {
    "duration": 9,
    "start_time": "2022-06-26T18:55:55.991Z"
   },
   {
    "duration": 8,
    "start_time": "2022-06-26T18:56:04.671Z"
   },
   {
    "duration": 7,
    "start_time": "2022-06-26T18:56:16.169Z"
   },
   {
    "duration": 9,
    "start_time": "2022-06-26T18:59:18.846Z"
   },
   {
    "duration": 7,
    "start_time": "2022-06-26T18:59:19.578Z"
   },
   {
    "duration": 9,
    "start_time": "2022-06-26T18:59:20.131Z"
   },
   {
    "duration": 10,
    "start_time": "2022-06-26T18:59:20.856Z"
   },
   {
    "duration": 10,
    "start_time": "2022-06-26T18:59:21.421Z"
   },
   {
    "duration": 9,
    "start_time": "2022-06-26T18:59:23.516Z"
   },
   {
    "duration": 13,
    "start_time": "2022-06-26T18:59:24.698Z"
   },
   {
    "duration": 28,
    "start_time": "2022-06-26T18:59:45.053Z"
   },
   {
    "duration": 7,
    "start_time": "2022-06-26T18:59:46.846Z"
   },
   {
    "duration": 32,
    "start_time": "2022-06-26T18:59:47.752Z"
   },
   {
    "duration": 19,
    "start_time": "2022-06-26T18:59:48.393Z"
   },
   {
    "duration": 10,
    "start_time": "2022-06-26T18:59:48.807Z"
   },
   {
    "duration": 25,
    "start_time": "2022-06-26T18:59:49.286Z"
   },
   {
    "duration": 25,
    "start_time": "2022-06-26T18:59:50.383Z"
   },
   {
    "duration": 121,
    "start_time": "2022-06-26T18:59:51.265Z"
   },
   {
    "duration": 24,
    "start_time": "2022-06-26T18:59:54.668Z"
   },
   {
    "duration": 11,
    "start_time": "2022-06-26T18:59:55.346Z"
   },
   {
    "duration": 10,
    "start_time": "2022-06-26T18:59:55.392Z"
   },
   {
    "duration": 7,
    "start_time": "2022-06-26T18:59:55.747Z"
   },
   {
    "duration": 238,
    "start_time": "2022-06-26T18:59:56.125Z"
   },
   {
    "duration": 253,
    "start_time": "2022-06-26T18:59:56.364Z"
   },
   {
    "duration": 242,
    "start_time": "2022-06-26T18:59:56.619Z"
   },
   {
    "duration": 263,
    "start_time": "2022-06-26T18:59:57.140Z"
   },
   {
    "duration": 233,
    "start_time": "2022-06-26T18:59:58.682Z"
   },
   {
    "duration": 261,
    "start_time": "2022-06-26T19:00:12.508Z"
   },
   {
    "duration": 199,
    "start_time": "2022-06-26T19:00:43.487Z"
   },
   {
    "duration": 237,
    "start_time": "2022-06-26T19:01:16.802Z"
   },
   {
    "duration": 223,
    "start_time": "2022-06-26T19:02:30.178Z"
   },
   {
    "duration": 201,
    "start_time": "2022-06-26T19:02:48.406Z"
   },
   {
    "duration": 207,
    "start_time": "2022-06-26T19:02:49.550Z"
   },
   {
    "duration": 273,
    "start_time": "2022-06-26T19:02:52.531Z"
   },
   {
    "duration": 210,
    "start_time": "2022-06-26T19:02:56.115Z"
   },
   {
    "duration": 186,
    "start_time": "2022-06-26T19:03:23.434Z"
   },
   {
    "duration": 170,
    "start_time": "2022-06-26T19:03:41.642Z"
   },
   {
    "duration": 146,
    "start_time": "2022-06-26T19:03:53.732Z"
   },
   {
    "duration": 75,
    "start_time": "2022-06-26T19:09:15.338Z"
   },
   {
    "duration": 76,
    "start_time": "2022-06-26T19:11:00.539Z"
   },
   {
    "duration": 34,
    "start_time": "2022-06-26T19:11:03.059Z"
   },
   {
    "duration": 35,
    "start_time": "2022-06-26T19:11:04.218Z"
   },
   {
    "duration": 95,
    "start_time": "2022-06-26T19:11:05.924Z"
   },
   {
    "duration": 6,
    "start_time": "2022-06-26T19:11:13.483Z"
   },
   {
    "duration": 25,
    "start_time": "2022-06-26T19:11:15.781Z"
   },
   {
    "duration": 14,
    "start_time": "2022-06-26T19:11:18.020Z"
   },
   {
    "duration": 21,
    "start_time": "2022-06-26T19:11:20.585Z"
   },
   {
    "duration": 18,
    "start_time": "2022-06-26T19:11:22.371Z"
   },
   {
    "duration": 22,
    "start_time": "2022-06-26T19:11:32.406Z"
   },
   {
    "duration": 154,
    "start_time": "2022-06-26T19:11:35.428Z"
   },
   {
    "duration": 26,
    "start_time": "2022-06-26T19:12:18.507Z"
   },
   {
    "duration": 13,
    "start_time": "2022-06-26T19:12:25.643Z"
   },
   {
    "duration": 13,
    "start_time": "2022-06-26T19:12:27.274Z"
   },
   {
    "duration": 7,
    "start_time": "2022-06-26T19:12:28.077Z"
   },
   {
    "duration": 114,
    "start_time": "2022-06-26T19:14:05.708Z"
   },
   {
    "duration": 132,
    "start_time": "2022-06-26T19:15:10.488Z"
   },
   {
    "duration": 125,
    "start_time": "2022-06-26T19:15:32.705Z"
   },
   {
    "duration": 117,
    "start_time": "2022-06-26T19:15:47.681Z"
   },
   {
    "duration": 971,
    "start_time": "2022-06-26T19:16:02.204Z"
   },
   {
    "duration": 368,
    "start_time": "2022-06-26T19:16:03.177Z"
   },
   {
    "duration": 39,
    "start_time": "2022-06-26T19:16:03.546Z"
   },
   {
    "duration": 70,
    "start_time": "2022-06-26T19:16:03.587Z"
   },
   {
    "duration": 66,
    "start_time": "2022-06-26T19:16:03.659Z"
   },
   {
    "duration": 33,
    "start_time": "2022-06-26T19:16:03.727Z"
   },
   {
    "duration": 10,
    "start_time": "2022-06-26T19:16:03.761Z"
   },
   {
    "duration": 80,
    "start_time": "2022-06-26T19:16:03.773Z"
   },
   {
    "duration": 26,
    "start_time": "2022-06-26T19:16:03.855Z"
   },
   {
    "duration": 36,
    "start_time": "2022-06-26T19:16:03.893Z"
   },
   {
    "duration": 25,
    "start_time": "2022-06-26T19:16:03.930Z"
   },
   {
    "duration": 5,
    "start_time": "2022-06-26T19:16:03.957Z"
   },
   {
    "duration": 42,
    "start_time": "2022-06-26T19:16:03.963Z"
   },
   {
    "duration": 12,
    "start_time": "2022-06-26T19:16:04.007Z"
   },
   {
    "duration": 9,
    "start_time": "2022-06-26T19:16:04.021Z"
   },
   {
    "duration": 18,
    "start_time": "2022-06-26T19:16:04.032Z"
   },
   {
    "duration": 16,
    "start_time": "2022-06-26T19:16:04.051Z"
   },
   {
    "duration": 149,
    "start_time": "2022-06-26T19:16:04.069Z"
   },
   {
    "duration": 26,
    "start_time": "2022-06-26T19:16:04.220Z"
   },
   {
    "duration": 11,
    "start_time": "2022-06-26T19:16:04.248Z"
   },
   {
    "duration": 31,
    "start_time": "2022-06-26T19:16:04.261Z"
   },
   {
    "duration": 8,
    "start_time": "2022-06-26T19:16:04.294Z"
   },
   {
    "duration": 225,
    "start_time": "2022-06-26T19:16:04.303Z"
   },
   {
    "duration": 208,
    "start_time": "2022-06-26T19:16:04.529Z"
   },
   {
    "duration": 215,
    "start_time": "2022-06-26T19:16:04.738Z"
   },
   {
    "duration": 271,
    "start_time": "2022-06-26T19:16:04.954Z"
   },
   {
    "duration": 173,
    "start_time": "2022-06-26T19:16:05.226Z"
   },
   {
    "duration": 217,
    "start_time": "2022-06-26T19:16:05.402Z"
   },
   {
    "duration": 6,
    "start_time": "2022-06-26T19:16:05.620Z"
   },
   {
    "duration": 21,
    "start_time": "2022-06-26T19:16:05.627Z"
   },
   {
    "duration": 6,
    "start_time": "2022-06-26T19:16:05.649Z"
   },
   {
    "duration": 199,
    "start_time": "2022-06-26T19:17:12.718Z"
   },
   {
    "duration": 127,
    "start_time": "2022-06-26T19:17:26.908Z"
   },
   {
    "duration": 997,
    "start_time": "2022-06-26T19:17:49.909Z"
   },
   {
    "duration": 362,
    "start_time": "2022-06-26T19:17:50.908Z"
   },
   {
    "duration": 42,
    "start_time": "2022-06-26T19:17:51.272Z"
   },
   {
    "duration": 62,
    "start_time": "2022-06-26T19:17:51.316Z"
   },
   {
    "duration": 51,
    "start_time": "2022-06-26T19:17:51.391Z"
   },
   {
    "duration": 32,
    "start_time": "2022-06-26T19:17:51.444Z"
   },
   {
    "duration": 13,
    "start_time": "2022-06-26T19:17:51.490Z"
   },
   {
    "duration": 61,
    "start_time": "2022-06-26T19:17:51.505Z"
   },
   {
    "duration": 41,
    "start_time": "2022-06-26T19:17:51.567Z"
   },
   {
    "duration": 31,
    "start_time": "2022-06-26T19:17:51.611Z"
   },
   {
    "duration": 25,
    "start_time": "2022-06-26T19:17:51.644Z"
   },
   {
    "duration": 21,
    "start_time": "2022-06-26T19:17:51.670Z"
   },
   {
    "duration": 29,
    "start_time": "2022-06-26T19:17:51.692Z"
   },
   {
    "duration": 13,
    "start_time": "2022-06-26T19:17:51.723Z"
   },
   {
    "duration": 7,
    "start_time": "2022-06-26T19:17:51.738Z"
   },
   {
    "duration": 17,
    "start_time": "2022-06-26T19:17:51.747Z"
   },
   {
    "duration": 46,
    "start_time": "2022-06-26T19:17:51.765Z"
   },
   {
    "duration": 126,
    "start_time": "2022-06-26T19:17:51.813Z"
   },
   {
    "duration": 23,
    "start_time": "2022-06-26T19:17:51.941Z"
   },
   {
    "duration": 10,
    "start_time": "2022-06-26T19:17:51.965Z"
   },
   {
    "duration": 22,
    "start_time": "2022-06-26T19:17:51.990Z"
   },
   {
    "duration": 6,
    "start_time": "2022-06-26T19:17:52.013Z"
   },
   {
    "duration": 233,
    "start_time": "2022-06-26T19:17:52.020Z"
   },
   {
    "duration": 214,
    "start_time": "2022-06-26T19:17:52.256Z"
   },
   {
    "duration": 223,
    "start_time": "2022-06-26T19:17:52.472Z"
   },
   {
    "duration": 290,
    "start_time": "2022-06-26T19:17:52.696Z"
   },
   {
    "duration": 162,
    "start_time": "2022-06-26T19:17:52.987Z"
   },
   {
    "duration": 207,
    "start_time": "2022-06-26T19:17:53.151Z"
   },
   {
    "duration": 6,
    "start_time": "2022-06-26T19:17:53.359Z"
   },
   {
    "duration": 42,
    "start_time": "2022-06-26T19:17:53.367Z"
   },
   {
    "duration": 15,
    "start_time": "2022-06-26T19:17:53.410Z"
   },
   {
    "duration": 76,
    "start_time": "2022-06-26T19:26:17.774Z"
   },
   {
    "duration": 88,
    "start_time": "2022-06-26T19:27:56.245Z"
   },
   {
    "duration": 965,
    "start_time": "2022-06-26T19:28:10.941Z"
   },
   {
    "duration": 362,
    "start_time": "2022-06-26T19:28:11.908Z"
   },
   {
    "duration": 40,
    "start_time": "2022-06-26T19:28:12.271Z"
   },
   {
    "duration": 61,
    "start_time": "2022-06-26T19:28:12.313Z"
   },
   {
    "duration": 60,
    "start_time": "2022-06-26T19:28:12.375Z"
   },
   {
    "duration": 33,
    "start_time": "2022-06-26T19:28:12.437Z"
   },
   {
    "duration": 26,
    "start_time": "2022-06-26T19:28:12.472Z"
   },
   {
    "duration": 66,
    "start_time": "2022-06-26T19:28:12.499Z"
   },
   {
    "duration": 33,
    "start_time": "2022-06-26T19:28:12.566Z"
   },
   {
    "duration": 33,
    "start_time": "2022-06-26T19:28:12.602Z"
   },
   {
    "duration": 98,
    "start_time": "2022-06-26T19:28:12.636Z"
   },
   {
    "duration": 0,
    "start_time": "2022-06-26T19:28:12.735Z"
   },
   {
    "duration": 0,
    "start_time": "2022-06-26T19:28:12.736Z"
   },
   {
    "duration": 0,
    "start_time": "2022-06-26T19:28:12.737Z"
   },
   {
    "duration": 0,
    "start_time": "2022-06-26T19:28:12.738Z"
   },
   {
    "duration": 0,
    "start_time": "2022-06-26T19:28:12.739Z"
   },
   {
    "duration": 0,
    "start_time": "2022-06-26T19:28:12.740Z"
   },
   {
    "duration": 0,
    "start_time": "2022-06-26T19:28:12.741Z"
   },
   {
    "duration": 0,
    "start_time": "2022-06-26T19:28:12.741Z"
   },
   {
    "duration": 0,
    "start_time": "2022-06-26T19:28:12.742Z"
   },
   {
    "duration": 0,
    "start_time": "2022-06-26T19:28:12.743Z"
   },
   {
    "duration": 0,
    "start_time": "2022-06-26T19:28:12.744Z"
   },
   {
    "duration": 0,
    "start_time": "2022-06-26T19:28:12.745Z"
   },
   {
    "duration": 0,
    "start_time": "2022-06-26T19:28:12.746Z"
   },
   {
    "duration": 0,
    "start_time": "2022-06-26T19:28:12.746Z"
   },
   {
    "duration": 0,
    "start_time": "2022-06-26T19:28:12.747Z"
   },
   {
    "duration": 0,
    "start_time": "2022-06-26T19:28:12.748Z"
   },
   {
    "duration": 0,
    "start_time": "2022-06-26T19:28:12.749Z"
   },
   {
    "duration": 0,
    "start_time": "2022-06-26T19:28:12.750Z"
   },
   {
    "duration": 0,
    "start_time": "2022-06-26T19:28:12.751Z"
   },
   {
    "duration": 0,
    "start_time": "2022-06-26T19:28:12.752Z"
   },
   {
    "duration": 12,
    "start_time": "2022-06-26T19:28:23.617Z"
   },
   {
    "duration": 48,
    "start_time": "2022-06-28T14:46:24.909Z"
   },
   {
    "duration": 7,
    "start_time": "2022-06-28T14:47:13.279Z"
   },
   {
    "duration": 1273,
    "start_time": "2022-06-28T14:47:29.079Z"
   },
   {
    "duration": 693,
    "start_time": "2022-06-28T14:47:30.354Z"
   },
   {
    "duration": 51,
    "start_time": "2022-06-28T14:47:31.049Z"
   },
   {
    "duration": 75,
    "start_time": "2022-06-28T14:47:31.102Z"
   },
   {
    "duration": 58,
    "start_time": "2022-06-28T14:47:31.179Z"
   },
   {
    "duration": 40,
    "start_time": "2022-06-28T14:47:31.239Z"
   },
   {
    "duration": 12,
    "start_time": "2022-06-28T14:47:31.281Z"
   },
   {
    "duration": 99,
    "start_time": "2022-06-28T14:47:31.294Z"
   },
   {
    "duration": 46,
    "start_time": "2022-06-28T14:47:31.395Z"
   },
   {
    "duration": 42,
    "start_time": "2022-06-28T14:47:31.444Z"
   },
   {
    "duration": 111,
    "start_time": "2022-06-28T14:47:31.488Z"
   },
   {
    "duration": 0,
    "start_time": "2022-06-28T14:47:31.601Z"
   },
   {
    "duration": 0,
    "start_time": "2022-06-28T14:47:31.602Z"
   },
   {
    "duration": 0,
    "start_time": "2022-06-28T14:47:31.603Z"
   },
   {
    "duration": 0,
    "start_time": "2022-06-28T14:47:31.604Z"
   },
   {
    "duration": 0,
    "start_time": "2022-06-28T14:47:31.606Z"
   },
   {
    "duration": 0,
    "start_time": "2022-06-28T14:47:31.606Z"
   },
   {
    "duration": 0,
    "start_time": "2022-06-28T14:47:31.623Z"
   },
   {
    "duration": 0,
    "start_time": "2022-06-28T14:47:31.625Z"
   },
   {
    "duration": 0,
    "start_time": "2022-06-28T14:47:31.625Z"
   },
   {
    "duration": 0,
    "start_time": "2022-06-28T14:47:31.627Z"
   },
   {
    "duration": 0,
    "start_time": "2022-06-28T14:47:31.628Z"
   },
   {
    "duration": 0,
    "start_time": "2022-06-28T14:47:31.629Z"
   },
   {
    "duration": 0,
    "start_time": "2022-06-28T14:47:31.630Z"
   },
   {
    "duration": 0,
    "start_time": "2022-06-28T14:47:31.631Z"
   },
   {
    "duration": 0,
    "start_time": "2022-06-28T14:47:31.632Z"
   },
   {
    "duration": 0,
    "start_time": "2022-06-28T14:47:31.633Z"
   },
   {
    "duration": 0,
    "start_time": "2022-06-28T14:47:31.634Z"
   },
   {
    "duration": 0,
    "start_time": "2022-06-28T14:47:31.635Z"
   },
   {
    "duration": 0,
    "start_time": "2022-06-28T14:47:31.636Z"
   },
   {
    "duration": 0,
    "start_time": "2022-06-28T14:47:31.637Z"
   },
   {
    "duration": 13,
    "start_time": "2022-06-28T14:51:49.900Z"
   },
   {
    "duration": 1115,
    "start_time": "2022-06-28T14:52:03.614Z"
   },
   {
    "duration": 382,
    "start_time": "2022-06-28T14:52:04.731Z"
   },
   {
    "duration": 46,
    "start_time": "2022-06-28T14:52:05.115Z"
   },
   {
    "duration": 79,
    "start_time": "2022-06-28T14:52:05.163Z"
   },
   {
    "duration": 56,
    "start_time": "2022-06-28T14:52:05.244Z"
   },
   {
    "duration": 54,
    "start_time": "2022-06-28T14:52:05.301Z"
   },
   {
    "duration": 12,
    "start_time": "2022-06-28T14:52:05.357Z"
   },
   {
    "duration": 81,
    "start_time": "2022-06-28T14:52:05.370Z"
   },
   {
    "duration": 30,
    "start_time": "2022-06-28T14:52:05.452Z"
   },
   {
    "duration": 54,
    "start_time": "2022-06-28T14:52:05.485Z"
   },
   {
    "duration": 104,
    "start_time": "2022-06-28T14:52:05.541Z"
   },
   {
    "duration": 0,
    "start_time": "2022-06-28T14:52:05.648Z"
   },
   {
    "duration": 0,
    "start_time": "2022-06-28T14:52:05.650Z"
   },
   {
    "duration": 0,
    "start_time": "2022-06-28T14:52:05.651Z"
   },
   {
    "duration": 0,
    "start_time": "2022-06-28T14:52:05.653Z"
   },
   {
    "duration": 0,
    "start_time": "2022-06-28T14:52:05.654Z"
   },
   {
    "duration": 0,
    "start_time": "2022-06-28T14:52:05.656Z"
   },
   {
    "duration": 0,
    "start_time": "2022-06-28T14:52:05.657Z"
   },
   {
    "duration": 0,
    "start_time": "2022-06-28T14:52:05.659Z"
   },
   {
    "duration": 0,
    "start_time": "2022-06-28T14:52:05.660Z"
   },
   {
    "duration": 0,
    "start_time": "2022-06-28T14:52:05.662Z"
   },
   {
    "duration": 0,
    "start_time": "2022-06-28T14:52:05.663Z"
   },
   {
    "duration": 0,
    "start_time": "2022-06-28T14:52:05.665Z"
   },
   {
    "duration": 0,
    "start_time": "2022-06-28T14:52:05.666Z"
   },
   {
    "duration": 0,
    "start_time": "2022-06-28T14:52:05.668Z"
   },
   {
    "duration": 0,
    "start_time": "2022-06-28T14:52:05.669Z"
   },
   {
    "duration": 0,
    "start_time": "2022-06-28T14:52:05.670Z"
   },
   {
    "duration": 0,
    "start_time": "2022-06-28T14:52:05.672Z"
   },
   {
    "duration": 0,
    "start_time": "2022-06-28T14:52:05.673Z"
   },
   {
    "duration": 0,
    "start_time": "2022-06-28T14:52:05.674Z"
   },
   {
    "duration": 1,
    "start_time": "2022-06-28T14:52:05.676Z"
   },
   {
    "duration": 14,
    "start_time": "2022-06-28T14:52:18.528Z"
   },
   {
    "duration": 10,
    "start_time": "2022-06-28T14:52:24.386Z"
   },
   {
    "duration": 1102,
    "start_time": "2022-06-28T14:52:44.121Z"
   },
   {
    "duration": 383,
    "start_time": "2022-06-28T14:52:45.225Z"
   },
   {
    "duration": 46,
    "start_time": "2022-06-28T14:52:45.609Z"
   },
   {
    "duration": 82,
    "start_time": "2022-06-28T14:52:45.657Z"
   },
   {
    "duration": 53,
    "start_time": "2022-06-28T14:52:45.741Z"
   },
   {
    "duration": 53,
    "start_time": "2022-06-28T14:52:45.795Z"
   },
   {
    "duration": 11,
    "start_time": "2022-06-28T14:52:45.849Z"
   },
   {
    "duration": 91,
    "start_time": "2022-06-28T14:52:45.861Z"
   },
   {
    "duration": 38,
    "start_time": "2022-06-28T14:52:45.954Z"
   },
   {
    "duration": 56,
    "start_time": "2022-06-28T14:52:45.994Z"
   },
   {
    "duration": 109,
    "start_time": "2022-06-28T14:52:46.052Z"
   },
   {
    "duration": 0,
    "start_time": "2022-06-28T14:52:46.164Z"
   },
   {
    "duration": 0,
    "start_time": "2022-06-28T14:52:46.165Z"
   },
   {
    "duration": 0,
    "start_time": "2022-06-28T14:52:46.166Z"
   },
   {
    "duration": 0,
    "start_time": "2022-06-28T14:52:46.167Z"
   },
   {
    "duration": 0,
    "start_time": "2022-06-28T14:52:46.168Z"
   },
   {
    "duration": 0,
    "start_time": "2022-06-28T14:52:46.170Z"
   },
   {
    "duration": 0,
    "start_time": "2022-06-28T14:52:46.171Z"
   },
   {
    "duration": 0,
    "start_time": "2022-06-28T14:52:46.172Z"
   },
   {
    "duration": 0,
    "start_time": "2022-06-28T14:52:46.173Z"
   },
   {
    "duration": 0,
    "start_time": "2022-06-28T14:52:46.174Z"
   },
   {
    "duration": 0,
    "start_time": "2022-06-28T14:52:46.175Z"
   },
   {
    "duration": 0,
    "start_time": "2022-06-28T14:52:46.176Z"
   },
   {
    "duration": 0,
    "start_time": "2022-06-28T14:52:46.177Z"
   },
   {
    "duration": 0,
    "start_time": "2022-06-28T14:52:46.178Z"
   },
   {
    "duration": 0,
    "start_time": "2022-06-28T14:52:46.179Z"
   },
   {
    "duration": 0,
    "start_time": "2022-06-28T14:52:46.180Z"
   },
   {
    "duration": 0,
    "start_time": "2022-06-28T14:52:46.181Z"
   },
   {
    "duration": 0,
    "start_time": "2022-06-28T14:52:46.182Z"
   },
   {
    "duration": 0,
    "start_time": "2022-06-28T14:52:46.183Z"
   },
   {
    "duration": 0,
    "start_time": "2022-06-28T14:52:46.184Z"
   },
   {
    "duration": 13,
    "start_time": "2022-06-28T14:52:59.507Z"
   },
   {
    "duration": 12,
    "start_time": "2022-06-28T14:53:12.055Z"
   },
   {
    "duration": 1076,
    "start_time": "2022-06-28T14:53:28.282Z"
   },
   {
    "duration": 395,
    "start_time": "2022-06-28T14:53:30.477Z"
   },
   {
    "duration": 55,
    "start_time": "2022-06-28T14:53:31.104Z"
   },
   {
    "duration": 71,
    "start_time": "2022-06-28T14:53:32.140Z"
   },
   {
    "duration": 54,
    "start_time": "2022-06-28T14:53:32.404Z"
   },
   {
    "duration": 41,
    "start_time": "2022-06-28T14:53:32.930Z"
   },
   {
    "duration": 12,
    "start_time": "2022-06-28T14:53:33.159Z"
   },
   {
    "duration": 67,
    "start_time": "2022-06-28T14:53:34.216Z"
   },
   {
    "duration": 32,
    "start_time": "2022-06-28T14:53:35.473Z"
   },
   {
    "duration": 37,
    "start_time": "2022-06-28T14:53:36.054Z"
   },
   {
    "duration": 148,
    "start_time": "2022-06-28T14:53:37.437Z"
   },
   {
    "duration": 13,
    "start_time": "2022-06-28T14:53:53.728Z"
   },
   {
    "duration": 19,
    "start_time": "2022-06-28T14:55:16.175Z"
   },
   {
    "duration": 18,
    "start_time": "2022-06-28T14:57:44.972Z"
   },
   {
    "duration": 33,
    "start_time": "2022-06-28T15:00:10.244Z"
   },
   {
    "duration": 7,
    "start_time": "2022-06-28T15:00:17.527Z"
   },
   {
    "duration": 34,
    "start_time": "2022-06-28T15:01:02.107Z"
   },
   {
    "duration": 6,
    "start_time": "2022-06-28T15:01:06.271Z"
   },
   {
    "duration": 76,
    "start_time": "2022-06-28T15:01:28.024Z"
   },
   {
    "duration": 27,
    "start_time": "2022-06-28T15:01:34.345Z"
   },
   {
    "duration": 27,
    "start_time": "2022-06-28T15:02:00.374Z"
   },
   {
    "duration": 33,
    "start_time": "2022-06-28T15:03:27.694Z"
   },
   {
    "duration": 6,
    "start_time": "2022-06-28T15:03:34.257Z"
   },
   {
    "duration": 8,
    "start_time": "2022-06-28T15:05:30.672Z"
   },
   {
    "duration": 24,
    "start_time": "2022-06-28T15:08:22.484Z"
   },
   {
    "duration": 12,
    "start_time": "2022-06-28T15:08:30.496Z"
   },
   {
    "duration": 86,
    "start_time": "2022-06-28T15:11:04.293Z"
   },
   {
    "duration": 8,
    "start_time": "2022-06-28T15:11:10.585Z"
   },
   {
    "duration": 6,
    "start_time": "2022-06-28T15:11:12.412Z"
   },
   {
    "duration": 27,
    "start_time": "2022-06-28T15:14:53.775Z"
   },
   {
    "duration": 8,
    "start_time": "2022-06-28T15:14:57.415Z"
   },
   {
    "duration": 7,
    "start_time": "2022-06-28T15:15:03.685Z"
   },
   {
    "duration": 18,
    "start_time": "2022-06-28T15:15:32.751Z"
   },
   {
    "duration": 9,
    "start_time": "2022-06-28T15:15:36.544Z"
   },
   {
    "duration": 1110,
    "start_time": "2022-06-28T15:15:43.691Z"
   },
   {
    "duration": 396,
    "start_time": "2022-06-28T15:15:44.803Z"
   },
   {
    "duration": 48,
    "start_time": "2022-06-28T15:15:45.201Z"
   },
   {
    "duration": 80,
    "start_time": "2022-06-28T15:15:45.251Z"
   },
   {
    "duration": 54,
    "start_time": "2022-06-28T15:15:45.332Z"
   },
   {
    "duration": 56,
    "start_time": "2022-06-28T15:15:45.387Z"
   },
   {
    "duration": 12,
    "start_time": "2022-06-28T15:15:45.445Z"
   },
   {
    "duration": 83,
    "start_time": "2022-06-28T15:15:45.459Z"
   },
   {
    "duration": 31,
    "start_time": "2022-06-28T15:15:45.544Z"
   },
   {
    "duration": 60,
    "start_time": "2022-06-28T15:15:45.578Z"
   },
   {
    "duration": 6,
    "start_time": "2022-06-28T15:15:45.641Z"
   },
   {
    "duration": 29,
    "start_time": "2022-06-28T15:15:45.649Z"
   },
   {
    "duration": 8,
    "start_time": "2022-06-28T15:15:45.680Z"
   },
   {
    "duration": 12,
    "start_time": "2022-06-28T15:15:45.689Z"
   },
   {
    "duration": 101,
    "start_time": "2022-06-28T15:15:45.723Z"
   },
   {
    "duration": 0,
    "start_time": "2022-06-28T15:15:45.826Z"
   },
   {
    "duration": 0,
    "start_time": "2022-06-28T15:15:45.827Z"
   },
   {
    "duration": 0,
    "start_time": "2022-06-28T15:15:45.828Z"
   },
   {
    "duration": 0,
    "start_time": "2022-06-28T15:15:45.829Z"
   },
   {
    "duration": 0,
    "start_time": "2022-06-28T15:15:45.830Z"
   },
   {
    "duration": 0,
    "start_time": "2022-06-28T15:15:45.831Z"
   },
   {
    "duration": 0,
    "start_time": "2022-06-28T15:15:45.833Z"
   },
   {
    "duration": 0,
    "start_time": "2022-06-28T15:15:45.834Z"
   },
   {
    "duration": 0,
    "start_time": "2022-06-28T15:15:45.835Z"
   },
   {
    "duration": 0,
    "start_time": "2022-06-28T15:15:45.836Z"
   },
   {
    "duration": 0,
    "start_time": "2022-06-28T15:15:45.837Z"
   },
   {
    "duration": 0,
    "start_time": "2022-06-28T15:15:45.838Z"
   },
   {
    "duration": 0,
    "start_time": "2022-06-28T15:15:45.840Z"
   },
   {
    "duration": 0,
    "start_time": "2022-06-28T15:15:45.841Z"
   },
   {
    "duration": 0,
    "start_time": "2022-06-28T15:15:45.842Z"
   },
   {
    "duration": 0,
    "start_time": "2022-06-28T15:15:45.843Z"
   },
   {
    "duration": 0,
    "start_time": "2022-06-28T15:15:45.844Z"
   },
   {
    "duration": 0,
    "start_time": "2022-06-28T15:15:45.845Z"
   },
   {
    "duration": 9,
    "start_time": "2022-06-28T15:16:08.872Z"
   },
   {
    "duration": 16,
    "start_time": "2022-06-28T15:16:46.220Z"
   },
   {
    "duration": 18,
    "start_time": "2022-06-28T15:17:57.269Z"
   },
   {
    "duration": 13,
    "start_time": "2022-06-28T15:18:12.821Z"
   },
   {
    "duration": 26,
    "start_time": "2022-06-28T15:18:33.500Z"
   },
   {
    "duration": 19,
    "start_time": "2022-06-28T15:20:19.881Z"
   },
   {
    "duration": 14,
    "start_time": "2022-06-28T15:22:16.980Z"
   },
   {
    "duration": 13,
    "start_time": "2022-06-28T15:23:23.095Z"
   },
   {
    "duration": 15,
    "start_time": "2022-06-28T15:23:49.544Z"
   },
   {
    "duration": 20,
    "start_time": "2022-06-28T15:25:28.000Z"
   },
   {
    "duration": 15,
    "start_time": "2022-06-28T15:25:55.024Z"
   },
   {
    "duration": 13,
    "start_time": "2022-06-28T15:31:07.587Z"
   },
   {
    "duration": 1083,
    "start_time": "2022-06-28T15:31:13.852Z"
   },
   {
    "duration": 397,
    "start_time": "2022-06-28T15:31:14.936Z"
   },
   {
    "duration": 46,
    "start_time": "2022-06-28T15:31:15.335Z"
   },
   {
    "duration": 88,
    "start_time": "2022-06-28T15:31:15.383Z"
   },
   {
    "duration": 66,
    "start_time": "2022-06-28T15:31:15.473Z"
   },
   {
    "duration": 41,
    "start_time": "2022-06-28T15:31:15.540Z"
   },
   {
    "duration": 11,
    "start_time": "2022-06-28T15:31:15.582Z"
   },
   {
    "duration": 102,
    "start_time": "2022-06-28T15:31:15.596Z"
   },
   {
    "duration": 45,
    "start_time": "2022-06-28T15:31:15.699Z"
   },
   {
    "duration": 41,
    "start_time": "2022-06-28T15:31:15.747Z"
   },
   {
    "duration": 35,
    "start_time": "2022-06-28T15:31:15.790Z"
   },
   {
    "duration": 31,
    "start_time": "2022-06-28T15:31:15.827Z"
   },
   {
    "duration": 8,
    "start_time": "2022-06-28T15:31:15.860Z"
   },
   {
    "duration": 11,
    "start_time": "2022-06-28T15:31:15.869Z"
   },
   {
    "duration": 18,
    "start_time": "2022-06-28T15:31:15.881Z"
   },
   {
    "duration": 33,
    "start_time": "2022-06-28T15:31:15.900Z"
   },
   {
    "duration": 113,
    "start_time": "2022-06-28T15:31:15.935Z"
   },
   {
    "duration": 0,
    "start_time": "2022-06-28T15:31:16.049Z"
   },
   {
    "duration": 0,
    "start_time": "2022-06-28T15:31:16.051Z"
   },
   {
    "duration": 0,
    "start_time": "2022-06-28T15:31:16.052Z"
   },
   {
    "duration": 0,
    "start_time": "2022-06-28T15:31:16.053Z"
   },
   {
    "duration": 0,
    "start_time": "2022-06-28T15:31:16.054Z"
   },
   {
    "duration": 0,
    "start_time": "2022-06-28T15:31:16.056Z"
   },
   {
    "duration": 0,
    "start_time": "2022-06-28T15:31:16.057Z"
   },
   {
    "duration": 0,
    "start_time": "2022-06-28T15:31:16.058Z"
   },
   {
    "duration": 0,
    "start_time": "2022-06-28T15:31:16.059Z"
   },
   {
    "duration": 0,
    "start_time": "2022-06-28T15:31:16.060Z"
   },
   {
    "duration": 0,
    "start_time": "2022-06-28T15:31:16.061Z"
   },
   {
    "duration": 0,
    "start_time": "2022-06-28T15:31:16.062Z"
   },
   {
    "duration": 0,
    "start_time": "2022-06-28T15:31:16.063Z"
   },
   {
    "duration": 0,
    "start_time": "2022-06-28T15:31:16.064Z"
   },
   {
    "duration": 0,
    "start_time": "2022-06-28T15:31:16.065Z"
   },
   {
    "duration": 0,
    "start_time": "2022-06-28T15:31:16.066Z"
   },
   {
    "duration": 0,
    "start_time": "2022-06-28T15:31:16.067Z"
   },
   {
    "duration": 0,
    "start_time": "2022-06-28T15:31:16.068Z"
   },
   {
    "duration": 19,
    "start_time": "2022-06-28T15:31:48.703Z"
   },
   {
    "duration": 28,
    "start_time": "2022-06-28T15:32:56.741Z"
   },
   {
    "duration": 24,
    "start_time": "2022-06-28T15:33:05.323Z"
   },
   {
    "duration": 26,
    "start_time": "2022-06-28T15:33:19.702Z"
   },
   {
    "duration": 19,
    "start_time": "2022-06-28T15:34:52.411Z"
   },
   {
    "duration": 29,
    "start_time": "2022-06-28T15:35:57.498Z"
   },
   {
    "duration": 13,
    "start_time": "2022-06-28T15:36:44.350Z"
   },
   {
    "duration": 1085,
    "start_time": "2022-06-28T15:36:52.634Z"
   },
   {
    "duration": 425,
    "start_time": "2022-06-28T15:36:53.723Z"
   },
   {
    "duration": 51,
    "start_time": "2022-06-28T15:36:54.150Z"
   },
   {
    "duration": 76,
    "start_time": "2022-06-28T15:36:54.204Z"
   },
   {
    "duration": 64,
    "start_time": "2022-06-28T15:36:54.282Z"
   },
   {
    "duration": 40,
    "start_time": "2022-06-28T15:36:54.348Z"
   },
   {
    "duration": 34,
    "start_time": "2022-06-28T15:36:54.390Z"
   },
   {
    "duration": 92,
    "start_time": "2022-06-28T15:36:54.426Z"
   },
   {
    "duration": 36,
    "start_time": "2022-06-28T15:36:54.519Z"
   },
   {
    "duration": 42,
    "start_time": "2022-06-28T15:36:54.559Z"
   },
   {
    "duration": 20,
    "start_time": "2022-06-28T15:36:54.623Z"
   },
   {
    "duration": 30,
    "start_time": "2022-06-28T15:36:54.644Z"
   },
   {
    "duration": 8,
    "start_time": "2022-06-28T15:36:54.676Z"
   },
   {
    "duration": 41,
    "start_time": "2022-06-28T15:36:54.686Z"
   },
   {
    "duration": 3,
    "start_time": "2022-06-28T15:36:54.728Z"
   },
   {
    "duration": 28,
    "start_time": "2022-06-28T15:36:54.732Z"
   },
   {
    "duration": 115,
    "start_time": "2022-06-28T15:36:54.761Z"
   },
   {
    "duration": 0,
    "start_time": "2022-06-28T15:36:54.878Z"
   },
   {
    "duration": 0,
    "start_time": "2022-06-28T15:36:54.879Z"
   },
   {
    "duration": 0,
    "start_time": "2022-06-28T15:36:54.880Z"
   },
   {
    "duration": 0,
    "start_time": "2022-06-28T15:36:54.882Z"
   },
   {
    "duration": 0,
    "start_time": "2022-06-28T15:36:54.883Z"
   },
   {
    "duration": 0,
    "start_time": "2022-06-28T15:36:54.884Z"
   },
   {
    "duration": 0,
    "start_time": "2022-06-28T15:36:54.885Z"
   },
   {
    "duration": 0,
    "start_time": "2022-06-28T15:36:54.886Z"
   },
   {
    "duration": 0,
    "start_time": "2022-06-28T15:36:54.887Z"
   },
   {
    "duration": 0,
    "start_time": "2022-06-28T15:36:54.888Z"
   },
   {
    "duration": 0,
    "start_time": "2022-06-28T15:36:54.889Z"
   },
   {
    "duration": 0,
    "start_time": "2022-06-28T15:36:54.890Z"
   },
   {
    "duration": 0,
    "start_time": "2022-06-28T15:36:54.891Z"
   },
   {
    "duration": 0,
    "start_time": "2022-06-28T15:36:54.893Z"
   },
   {
    "duration": 0,
    "start_time": "2022-06-28T15:36:54.923Z"
   },
   {
    "duration": 0,
    "start_time": "2022-06-28T15:36:54.924Z"
   },
   {
    "duration": 0,
    "start_time": "2022-06-28T15:36:54.925Z"
   },
   {
    "duration": 0,
    "start_time": "2022-06-28T15:36:54.926Z"
   },
   {
    "duration": 16,
    "start_time": "2022-06-28T15:37:19.199Z"
   },
   {
    "duration": 9,
    "start_time": "2022-06-28T15:37:20.851Z"
   },
   {
    "duration": 15,
    "start_time": "2022-06-28T15:37:35.050Z"
   },
   {
    "duration": 1044,
    "start_time": "2022-06-28T15:37:56.876Z"
   },
   {
    "duration": 419,
    "start_time": "2022-06-28T15:37:57.922Z"
   },
   {
    "duration": 46,
    "start_time": "2022-06-28T15:37:58.343Z"
   },
   {
    "duration": 77,
    "start_time": "2022-06-28T15:37:58.391Z"
   },
   {
    "duration": 63,
    "start_time": "2022-06-28T15:37:58.470Z"
   },
   {
    "duration": 40,
    "start_time": "2022-06-28T15:37:58.535Z"
   },
   {
    "duration": 11,
    "start_time": "2022-06-28T15:37:58.576Z"
   },
   {
    "duration": 90,
    "start_time": "2022-06-28T15:37:58.589Z"
   },
   {
    "duration": 29,
    "start_time": "2022-06-28T15:37:58.680Z"
   },
   {
    "duration": 46,
    "start_time": "2022-06-28T15:37:58.710Z"
   },
   {
    "duration": 17,
    "start_time": "2022-06-28T15:37:58.758Z"
   },
   {
    "duration": 57,
    "start_time": "2022-06-28T15:37:58.776Z"
   },
   {
    "duration": 8,
    "start_time": "2022-06-28T15:37:58.835Z"
   },
   {
    "duration": 12,
    "start_time": "2022-06-28T15:37:58.847Z"
   },
   {
    "duration": 5,
    "start_time": "2022-06-28T15:37:58.861Z"
   },
   {
    "duration": 23,
    "start_time": "2022-06-28T15:37:58.868Z"
   },
   {
    "duration": 46,
    "start_time": "2022-06-28T15:37:58.893Z"
   },
   {
    "duration": 21,
    "start_time": "2022-06-28T15:37:58.940Z"
   },
   {
    "duration": 12,
    "start_time": "2022-06-28T15:37:58.963Z"
   },
   {
    "duration": 49,
    "start_time": "2022-06-28T15:37:58.977Z"
   },
   {
    "duration": 138,
    "start_time": "2022-06-28T15:37:59.028Z"
   },
   {
    "duration": 0,
    "start_time": "2022-06-28T15:37:59.168Z"
   },
   {
    "duration": 0,
    "start_time": "2022-06-28T15:37:59.169Z"
   },
   {
    "duration": 0,
    "start_time": "2022-06-28T15:37:59.170Z"
   },
   {
    "duration": 0,
    "start_time": "2022-06-28T15:37:59.171Z"
   },
   {
    "duration": 0,
    "start_time": "2022-06-28T15:37:59.172Z"
   },
   {
    "duration": 0,
    "start_time": "2022-06-28T15:37:59.173Z"
   },
   {
    "duration": 0,
    "start_time": "2022-06-28T15:37:59.174Z"
   },
   {
    "duration": 0,
    "start_time": "2022-06-28T15:37:59.175Z"
   },
   {
    "duration": 0,
    "start_time": "2022-06-28T15:37:59.176Z"
   },
   {
    "duration": 0,
    "start_time": "2022-06-28T15:37:59.177Z"
   },
   {
    "duration": 0,
    "start_time": "2022-06-28T15:37:59.179Z"
   },
   {
    "duration": 0,
    "start_time": "2022-06-28T15:37:59.180Z"
   },
   {
    "duration": 0,
    "start_time": "2022-06-28T15:37:59.181Z"
   },
   {
    "duration": 0,
    "start_time": "2022-06-28T15:37:59.182Z"
   },
   {
    "duration": 27,
    "start_time": "2022-06-28T15:38:14.834Z"
   },
   {
    "duration": 28,
    "start_time": "2022-06-28T15:38:47.992Z"
   },
   {
    "duration": 28,
    "start_time": "2022-06-28T15:39:10.353Z"
   },
   {
    "duration": 26,
    "start_time": "2022-06-28T15:39:15.613Z"
   },
   {
    "duration": 27,
    "start_time": "2022-06-28T15:39:20.343Z"
   },
   {
    "duration": 27,
    "start_time": "2022-06-28T15:39:56.767Z"
   },
   {
    "duration": 25,
    "start_time": "2022-06-28T15:41:56.746Z"
   },
   {
    "duration": 21,
    "start_time": "2022-06-28T15:42:21.182Z"
   },
   {
    "duration": 12,
    "start_time": "2022-06-28T15:42:37.823Z"
   },
   {
    "duration": 1254,
    "start_time": "2022-06-28T15:42:54.292Z"
   },
   {
    "duration": 413,
    "start_time": "2022-06-28T15:42:55.547Z"
   },
   {
    "duration": 51,
    "start_time": "2022-06-28T15:42:55.962Z"
   },
   {
    "duration": 74,
    "start_time": "2022-06-28T15:42:56.015Z"
   },
   {
    "duration": 71,
    "start_time": "2022-06-28T15:42:56.091Z"
   },
   {
    "duration": 43,
    "start_time": "2022-06-28T15:42:56.164Z"
   },
   {
    "duration": 24,
    "start_time": "2022-06-28T15:42:56.209Z"
   },
   {
    "duration": 89,
    "start_time": "2022-06-28T15:42:56.235Z"
   },
   {
    "duration": 30,
    "start_time": "2022-06-28T15:42:56.325Z"
   },
   {
    "duration": 39,
    "start_time": "2022-06-28T15:42:56.357Z"
   },
   {
    "duration": 17,
    "start_time": "2022-06-28T15:42:56.422Z"
   },
   {
    "duration": 32,
    "start_time": "2022-06-28T15:42:56.441Z"
   },
   {
    "duration": 8,
    "start_time": "2022-06-28T15:42:56.475Z"
   },
   {
    "duration": 9,
    "start_time": "2022-06-28T15:42:56.484Z"
   },
   {
    "duration": 3,
    "start_time": "2022-06-28T15:42:56.523Z"
   },
   {
    "duration": 23,
    "start_time": "2022-06-28T15:42:56.527Z"
   },
   {
    "duration": 14,
    "start_time": "2022-06-28T15:42:56.552Z"
   },
   {
    "duration": 115,
    "start_time": "2022-06-28T15:42:56.568Z"
   },
   {
    "duration": 0,
    "start_time": "2022-06-28T15:42:56.685Z"
   },
   {
    "duration": 0,
    "start_time": "2022-06-28T15:42:56.686Z"
   },
   {
    "duration": 0,
    "start_time": "2022-06-28T15:42:56.687Z"
   },
   {
    "duration": 0,
    "start_time": "2022-06-28T15:42:56.688Z"
   },
   {
    "duration": 0,
    "start_time": "2022-06-28T15:42:56.689Z"
   },
   {
    "duration": 0,
    "start_time": "2022-06-28T15:42:56.690Z"
   },
   {
    "duration": 0,
    "start_time": "2022-06-28T15:42:56.691Z"
   },
   {
    "duration": 0,
    "start_time": "2022-06-28T15:42:56.693Z"
   },
   {
    "duration": 0,
    "start_time": "2022-06-28T15:42:56.694Z"
   },
   {
    "duration": 0,
    "start_time": "2022-06-28T15:42:56.695Z"
   },
   {
    "duration": 0,
    "start_time": "2022-06-28T15:42:56.696Z"
   },
   {
    "duration": 0,
    "start_time": "2022-06-28T15:42:56.697Z"
   },
   {
    "duration": 0,
    "start_time": "2022-06-28T15:42:56.722Z"
   },
   {
    "duration": 0,
    "start_time": "2022-06-28T15:42:56.724Z"
   },
   {
    "duration": 0,
    "start_time": "2022-06-28T15:42:56.725Z"
   },
   {
    "duration": 0,
    "start_time": "2022-06-28T15:42:56.726Z"
   },
   {
    "duration": 0,
    "start_time": "2022-06-28T15:42:56.727Z"
   },
   {
    "duration": 15,
    "start_time": "2022-06-28T15:43:36.580Z"
   },
   {
    "duration": 16,
    "start_time": "2022-06-28T15:44:33.781Z"
   },
   {
    "duration": 13,
    "start_time": "2022-06-28T15:44:44.730Z"
   },
   {
    "duration": 15,
    "start_time": "2022-06-28T15:44:54.626Z"
   },
   {
    "duration": 13,
    "start_time": "2022-06-28T15:44:56.912Z"
   },
   {
    "duration": 1068,
    "start_time": "2022-06-28T15:45:25.610Z"
   },
   {
    "duration": 386,
    "start_time": "2022-06-28T15:45:26.680Z"
   },
   {
    "duration": 46,
    "start_time": "2022-06-28T15:45:27.068Z"
   },
   {
    "duration": 74,
    "start_time": "2022-06-28T15:45:27.116Z"
   },
   {
    "duration": 61,
    "start_time": "2022-06-28T15:45:27.193Z"
   },
   {
    "duration": 41,
    "start_time": "2022-06-28T15:45:27.255Z"
   },
   {
    "duration": 29,
    "start_time": "2022-06-28T15:45:27.297Z"
   },
   {
    "duration": 88,
    "start_time": "2022-06-28T15:45:27.328Z"
   },
   {
    "duration": 29,
    "start_time": "2022-06-28T15:45:27.417Z"
   },
   {
    "duration": 37,
    "start_time": "2022-06-28T15:45:27.448Z"
   },
   {
    "duration": 17,
    "start_time": "2022-06-28T15:45:27.486Z"
   },
   {
    "duration": 27,
    "start_time": "2022-06-28T15:45:27.522Z"
   },
   {
    "duration": 7,
    "start_time": "2022-06-28T15:45:27.551Z"
   },
   {
    "duration": 13,
    "start_time": "2022-06-28T15:45:27.561Z"
   },
   {
    "duration": 19,
    "start_time": "2022-06-28T15:45:27.576Z"
   },
   {
    "duration": 37,
    "start_time": "2022-06-28T15:45:27.597Z"
   },
   {
    "duration": 18,
    "start_time": "2022-06-28T15:45:27.635Z"
   },
   {
    "duration": 16,
    "start_time": "2022-06-28T15:45:27.655Z"
   },
   {
    "duration": 103,
    "start_time": "2022-06-28T15:45:27.673Z"
   },
   {
    "duration": 0,
    "start_time": "2022-06-28T15:45:27.777Z"
   },
   {
    "duration": 0,
    "start_time": "2022-06-28T15:45:27.778Z"
   },
   {
    "duration": 0,
    "start_time": "2022-06-28T15:45:27.779Z"
   },
   {
    "duration": 0,
    "start_time": "2022-06-28T15:45:27.780Z"
   },
   {
    "duration": 0,
    "start_time": "2022-06-28T15:45:27.781Z"
   },
   {
    "duration": 0,
    "start_time": "2022-06-28T15:45:27.782Z"
   },
   {
    "duration": 0,
    "start_time": "2022-06-28T15:45:27.783Z"
   },
   {
    "duration": 0,
    "start_time": "2022-06-28T15:45:27.784Z"
   },
   {
    "duration": 0,
    "start_time": "2022-06-28T15:45:27.784Z"
   },
   {
    "duration": 0,
    "start_time": "2022-06-28T15:45:27.785Z"
   },
   {
    "duration": 0,
    "start_time": "2022-06-28T15:45:27.786Z"
   },
   {
    "duration": 0,
    "start_time": "2022-06-28T15:45:27.787Z"
   },
   {
    "duration": 0,
    "start_time": "2022-06-28T15:45:27.788Z"
   },
   {
    "duration": 0,
    "start_time": "2022-06-28T15:45:27.789Z"
   },
   {
    "duration": 0,
    "start_time": "2022-06-28T15:45:27.790Z"
   },
   {
    "duration": 0,
    "start_time": "2022-06-28T15:45:27.791Z"
   },
   {
    "duration": 0,
    "start_time": "2022-06-28T15:45:27.792Z"
   },
   {
    "duration": 0,
    "start_time": "2022-06-28T15:45:27.793Z"
   },
   {
    "duration": 35,
    "start_time": "2022-06-28T15:47:00.644Z"
   },
   {
    "duration": 39,
    "start_time": "2022-06-28T15:48:21.599Z"
   },
   {
    "duration": 21,
    "start_time": "2022-06-28T15:50:22.576Z"
   },
   {
    "duration": 1096,
    "start_time": "2022-06-28T15:50:31.574Z"
   },
   {
    "duration": 442,
    "start_time": "2022-06-28T15:50:32.673Z"
   },
   {
    "duration": 47,
    "start_time": "2022-06-28T15:50:33.116Z"
   },
   {
    "duration": 91,
    "start_time": "2022-06-28T15:50:33.166Z"
   },
   {
    "duration": 106,
    "start_time": "2022-06-28T15:50:33.259Z"
   },
   {
    "duration": 56,
    "start_time": "2022-06-28T15:50:33.367Z"
   },
   {
    "duration": 12,
    "start_time": "2022-06-28T15:50:33.425Z"
   },
   {
    "duration": 109,
    "start_time": "2022-06-28T15:50:33.440Z"
   },
   {
    "duration": 33,
    "start_time": "2022-06-28T15:50:33.550Z"
   },
   {
    "duration": 58,
    "start_time": "2022-06-28T15:50:33.586Z"
   },
   {
    "duration": 19,
    "start_time": "2022-06-28T15:50:33.646Z"
   },
   {
    "duration": 56,
    "start_time": "2022-06-28T15:50:33.667Z"
   },
   {
    "duration": 8,
    "start_time": "2022-06-28T15:50:33.725Z"
   },
   {
    "duration": 8,
    "start_time": "2022-06-28T15:50:33.735Z"
   },
   {
    "duration": 4,
    "start_time": "2022-06-28T15:50:33.744Z"
   },
   {
    "duration": 21,
    "start_time": "2022-06-28T15:50:33.749Z"
   },
   {
    "duration": 51,
    "start_time": "2022-06-28T15:50:33.772Z"
   },
   {
    "duration": 33,
    "start_time": "2022-06-28T15:50:33.825Z"
   },
   {
    "duration": 16,
    "start_time": "2022-06-28T15:50:33.859Z"
   },
   {
    "duration": 11,
    "start_time": "2022-06-28T15:50:33.877Z"
   },
   {
    "duration": 45,
    "start_time": "2022-06-28T15:50:33.890Z"
   },
   {
    "duration": 14,
    "start_time": "2022-06-28T15:50:33.937Z"
   },
   {
    "duration": 1409,
    "start_time": "2022-06-28T15:50:33.953Z"
   },
   {
    "duration": 0,
    "start_time": "2022-06-28T15:50:35.365Z"
   },
   {
    "duration": 1,
    "start_time": "2022-06-28T15:50:35.366Z"
   },
   {
    "duration": 0,
    "start_time": "2022-06-28T15:50:35.368Z"
   },
   {
    "duration": 0,
    "start_time": "2022-06-28T15:50:35.370Z"
   },
   {
    "duration": 0,
    "start_time": "2022-06-28T15:50:35.371Z"
   },
   {
    "duration": 0,
    "start_time": "2022-06-28T15:50:35.373Z"
   },
   {
    "duration": 0,
    "start_time": "2022-06-28T15:50:35.374Z"
   },
   {
    "duration": 0,
    "start_time": "2022-06-28T15:50:35.375Z"
   },
   {
    "duration": 0,
    "start_time": "2022-06-28T15:50:35.377Z"
   },
   {
    "duration": 0,
    "start_time": "2022-06-28T15:50:35.378Z"
   },
   {
    "duration": 0,
    "start_time": "2022-06-28T15:50:35.379Z"
   },
   {
    "duration": 0,
    "start_time": "2022-06-28T15:50:35.381Z"
   },
   {
    "duration": 0,
    "start_time": "2022-06-28T15:50:35.382Z"
   },
   {
    "duration": 36,
    "start_time": "2022-06-28T15:51:22.847Z"
   },
   {
    "duration": 48,
    "start_time": "2022-06-28T15:53:04.335Z"
   },
   {
    "duration": 1154,
    "start_time": "2022-06-28T15:54:02.920Z"
   },
   {
    "duration": 397,
    "start_time": "2022-06-28T15:54:04.076Z"
   },
   {
    "duration": 46,
    "start_time": "2022-06-28T15:54:04.475Z"
   },
   {
    "duration": 73,
    "start_time": "2022-06-28T15:54:04.522Z"
   },
   {
    "duration": 63,
    "start_time": "2022-06-28T15:54:04.598Z"
   },
   {
    "duration": 60,
    "start_time": "2022-06-28T15:54:04.663Z"
   },
   {
    "duration": 12,
    "start_time": "2022-06-28T15:54:04.725Z"
   },
   {
    "duration": 91,
    "start_time": "2022-06-28T15:54:04.738Z"
   },
   {
    "duration": 31,
    "start_time": "2022-06-28T15:54:04.831Z"
   },
   {
    "duration": 59,
    "start_time": "2022-06-28T15:54:04.864Z"
   },
   {
    "duration": 20,
    "start_time": "2022-06-28T15:54:04.925Z"
   },
   {
    "duration": 34,
    "start_time": "2022-06-28T15:54:04.947Z"
   },
   {
    "duration": 9,
    "start_time": "2022-06-28T15:54:04.983Z"
   },
   {
    "duration": 33,
    "start_time": "2022-06-28T15:54:04.996Z"
   },
   {
    "duration": 9,
    "start_time": "2022-06-28T15:54:05.030Z"
   },
   {
    "duration": 28,
    "start_time": "2022-06-28T15:54:05.040Z"
   },
   {
    "duration": 18,
    "start_time": "2022-06-28T15:54:05.070Z"
   },
   {
    "duration": 66,
    "start_time": "2022-06-28T15:54:05.089Z"
   },
   {
    "duration": 17,
    "start_time": "2022-06-28T15:54:05.157Z"
   },
   {
    "duration": 10,
    "start_time": "2022-06-28T15:54:05.175Z"
   },
   {
    "duration": 45,
    "start_time": "2022-06-28T15:54:05.186Z"
   },
   {
    "duration": 25,
    "start_time": "2022-06-28T15:54:05.232Z"
   },
   {
    "duration": 182,
    "start_time": "2022-06-28T15:54:05.259Z"
   },
   {
    "duration": 32,
    "start_time": "2022-06-28T15:54:05.443Z"
   },
   {
    "duration": 13,
    "start_time": "2022-06-28T15:54:05.477Z"
   },
   {
    "duration": 53,
    "start_time": "2022-06-28T15:54:05.492Z"
   },
   {
    "duration": 28,
    "start_time": "2022-06-28T15:54:05.547Z"
   },
   {
    "duration": 287,
    "start_time": "2022-06-28T15:54:05.577Z"
   },
   {
    "duration": 318,
    "start_time": "2022-06-28T15:54:05.866Z"
   },
   {
    "duration": 287,
    "start_time": "2022-06-28T15:54:06.187Z"
   },
   {
    "duration": 359,
    "start_time": "2022-06-28T15:54:06.477Z"
   },
   {
    "duration": 203,
    "start_time": "2022-06-28T15:54:06.838Z"
   },
   {
    "duration": 255,
    "start_time": "2022-06-28T15:54:07.043Z"
   },
   {
    "duration": 7,
    "start_time": "2022-06-28T15:54:07.300Z"
   },
   {
    "duration": 37,
    "start_time": "2022-06-28T15:54:07.309Z"
   },
   {
    "duration": 12,
    "start_time": "2022-06-28T15:54:07.348Z"
   },
   {
    "duration": 131,
    "start_time": "2022-06-28T15:55:03.230Z"
   },
   {
    "duration": 1123,
    "start_time": "2022-06-28T15:55:51.334Z"
   },
   {
    "duration": 467,
    "start_time": "2022-06-28T15:55:52.459Z"
   },
   {
    "duration": 49,
    "start_time": "2022-06-28T15:55:52.928Z"
   },
   {
    "duration": 93,
    "start_time": "2022-06-28T15:55:52.979Z"
   },
   {
    "duration": 71,
    "start_time": "2022-06-28T15:55:53.074Z"
   },
   {
    "duration": 43,
    "start_time": "2022-06-28T15:55:53.147Z"
   },
   {
    "duration": 12,
    "start_time": "2022-06-28T15:55:53.191Z"
   },
   {
    "duration": 94,
    "start_time": "2022-06-28T15:55:53.205Z"
   },
   {
    "duration": 49,
    "start_time": "2022-06-28T15:55:53.301Z"
   },
   {
    "duration": 40,
    "start_time": "2022-06-28T15:55:53.352Z"
   },
   {
    "duration": 36,
    "start_time": "2022-06-28T15:55:53.394Z"
   },
   {
    "duration": 27,
    "start_time": "2022-06-28T15:55:53.432Z"
   },
   {
    "duration": 8,
    "start_time": "2022-06-28T15:55:53.461Z"
   },
   {
    "duration": 9,
    "start_time": "2022-06-28T15:55:53.472Z"
   },
   {
    "duration": 2,
    "start_time": "2022-06-28T15:55:53.483Z"
   },
   {
    "duration": 51,
    "start_time": "2022-06-28T15:55:53.487Z"
   },
   {
    "duration": 14,
    "start_time": "2022-06-28T15:55:53.540Z"
   },
   {
    "duration": 32,
    "start_time": "2022-06-28T15:55:53.556Z"
   },
   {
    "duration": 39,
    "start_time": "2022-06-28T15:55:53.590Z"
   },
   {
    "duration": 7,
    "start_time": "2022-06-28T15:55:53.631Z"
   },
   {
    "duration": 25,
    "start_time": "2022-06-28T15:55:53.640Z"
   },
   {
    "duration": 21,
    "start_time": "2022-06-28T15:55:53.667Z"
   },
   {
    "duration": 150,
    "start_time": "2022-06-28T15:55:53.689Z"
   },
   {
    "duration": 42,
    "start_time": "2022-06-28T15:55:53.841Z"
   },
   {
    "duration": 12,
    "start_time": "2022-06-28T15:55:53.885Z"
   },
   {
    "duration": 12,
    "start_time": "2022-06-28T15:55:53.923Z"
   },
   {
    "duration": 7,
    "start_time": "2022-06-28T15:55:53.937Z"
   },
   {
    "duration": 270,
    "start_time": "2022-06-28T15:55:53.946Z"
   },
   {
    "duration": 229,
    "start_time": "2022-06-28T15:55:54.222Z"
   },
   {
    "duration": 236,
    "start_time": "2022-06-28T15:55:54.453Z"
   },
   {
    "duration": 336,
    "start_time": "2022-06-28T15:55:54.691Z"
   },
   {
    "duration": 178,
    "start_time": "2022-06-28T15:55:55.029Z"
   },
   {
    "duration": 245,
    "start_time": "2022-06-28T15:55:55.208Z"
   },
   {
    "duration": 9,
    "start_time": "2022-06-28T15:55:55.455Z"
   },
   {
    "duration": 33,
    "start_time": "2022-06-28T15:55:55.466Z"
   },
   {
    "duration": 26,
    "start_time": "2022-06-28T15:55:55.501Z"
   },
   {
    "duration": 147,
    "start_time": "2022-06-28T15:58:09.273Z"
   },
   {
    "duration": 122,
    "start_time": "2022-06-28T15:58:51.271Z"
   },
   {
    "duration": 123,
    "start_time": "2022-06-28T15:59:11.421Z"
   },
   {
    "duration": 128,
    "start_time": "2022-06-28T15:59:29.698Z"
   },
   {
    "duration": 1062,
    "start_time": "2022-06-28T15:59:47.867Z"
   },
   {
    "duration": 437,
    "start_time": "2022-06-28T15:59:48.932Z"
   },
   {
    "duration": 46,
    "start_time": "2022-06-28T15:59:49.371Z"
   },
   {
    "duration": 75,
    "start_time": "2022-06-28T15:59:49.420Z"
   },
   {
    "duration": 63,
    "start_time": "2022-06-28T15:59:49.496Z"
   },
   {
    "duration": 42,
    "start_time": "2022-06-28T15:59:49.561Z"
   },
   {
    "duration": 26,
    "start_time": "2022-06-28T15:59:49.606Z"
   },
   {
    "duration": 71,
    "start_time": "2022-06-28T15:59:49.633Z"
   },
   {
    "duration": 43,
    "start_time": "2022-06-28T15:59:49.706Z"
   },
   {
    "duration": 36,
    "start_time": "2022-06-28T15:59:49.752Z"
   },
   {
    "duration": 40,
    "start_time": "2022-06-28T15:59:49.790Z"
   },
   {
    "duration": 30,
    "start_time": "2022-06-28T15:59:49.832Z"
   },
   {
    "duration": 8,
    "start_time": "2022-06-28T15:59:49.864Z"
   },
   {
    "duration": 12,
    "start_time": "2022-06-28T15:59:49.874Z"
   },
   {
    "duration": 3,
    "start_time": "2022-06-28T15:59:49.887Z"
   },
   {
    "duration": 45,
    "start_time": "2022-06-28T15:59:49.892Z"
   },
   {
    "duration": 24,
    "start_time": "2022-06-28T15:59:49.938Z"
   },
   {
    "duration": 59,
    "start_time": "2022-06-28T15:59:49.965Z"
   },
   {
    "duration": 17,
    "start_time": "2022-06-28T15:59:50.026Z"
   },
   {
    "duration": 9,
    "start_time": "2022-06-28T15:59:50.044Z"
   },
   {
    "duration": 24,
    "start_time": "2022-06-28T15:59:50.055Z"
   },
   {
    "duration": 51,
    "start_time": "2022-06-28T15:59:50.081Z"
   },
   {
    "duration": 136,
    "start_time": "2022-06-28T15:59:50.134Z"
   },
   {
    "duration": 29,
    "start_time": "2022-06-28T15:59:50.272Z"
   },
   {
    "duration": 13,
    "start_time": "2022-06-28T15:59:50.322Z"
   },
   {
    "duration": 15,
    "start_time": "2022-06-28T15:59:50.337Z"
   },
   {
    "duration": 10,
    "start_time": "2022-06-28T15:59:50.354Z"
   },
   {
    "duration": 269,
    "start_time": "2022-06-28T15:59:50.367Z"
   },
   {
    "duration": 247,
    "start_time": "2022-06-28T15:59:50.637Z"
   },
   {
    "duration": 244,
    "start_time": "2022-06-28T15:59:50.885Z"
   },
   {
    "duration": 335,
    "start_time": "2022-06-28T15:59:51.131Z"
   },
   {
    "duration": 183,
    "start_time": "2022-06-28T15:59:51.468Z"
   },
   {
    "duration": 246,
    "start_time": "2022-06-28T15:59:51.653Z"
   },
   {
    "duration": 7,
    "start_time": "2022-06-28T15:59:51.901Z"
   },
   {
    "duration": 33,
    "start_time": "2022-06-28T15:59:51.910Z"
   },
   {
    "duration": 9,
    "start_time": "2022-06-28T15:59:51.945Z"
   },
   {
    "duration": 193,
    "start_time": "2022-06-28T16:01:19.126Z"
   },
   {
    "duration": 40,
    "start_time": "2022-06-28T16:12:25.696Z"
   },
   {
    "duration": 1187,
    "start_time": "2022-06-28T16:12:41.672Z"
   },
   {
    "duration": 404,
    "start_time": "2022-06-28T16:12:42.860Z"
   },
   {
    "duration": 50,
    "start_time": "2022-06-28T16:12:43.266Z"
   },
   {
    "duration": 80,
    "start_time": "2022-06-28T16:12:43.319Z"
   },
   {
    "duration": 101,
    "start_time": "2022-06-28T16:12:43.402Z"
   },
   {
    "duration": 51,
    "start_time": "2022-06-28T16:12:43.505Z"
   },
   {
    "duration": 11,
    "start_time": "2022-06-28T16:12:43.557Z"
   },
   {
    "duration": 94,
    "start_time": "2022-06-28T16:12:43.570Z"
   },
   {
    "duration": 33,
    "start_time": "2022-06-28T16:12:43.666Z"
   },
   {
    "duration": 52,
    "start_time": "2022-06-28T16:12:43.701Z"
   },
   {
    "duration": 19,
    "start_time": "2022-06-28T16:12:43.755Z"
   },
   {
    "duration": 49,
    "start_time": "2022-06-28T16:12:43.775Z"
   },
   {
    "duration": 8,
    "start_time": "2022-06-28T16:12:43.826Z"
   },
   {
    "duration": 7,
    "start_time": "2022-06-28T16:12:43.837Z"
   },
   {
    "duration": 2,
    "start_time": "2022-06-28T16:12:43.846Z"
   },
   {
    "duration": 21,
    "start_time": "2022-06-28T16:12:43.850Z"
   },
   {
    "duration": 15,
    "start_time": "2022-06-28T16:12:43.873Z"
   },
   {
    "duration": 37,
    "start_time": "2022-06-28T16:12:43.924Z"
   },
   {
    "duration": 16,
    "start_time": "2022-06-28T16:12:43.963Z"
   },
   {
    "duration": 13,
    "start_time": "2022-06-28T16:12:43.981Z"
   },
   {
    "duration": 23,
    "start_time": "2022-06-28T16:12:44.024Z"
   },
   {
    "duration": 23,
    "start_time": "2022-06-28T16:12:44.049Z"
   },
   {
    "duration": 149,
    "start_time": "2022-06-28T16:12:44.074Z"
   },
   {
    "duration": 30,
    "start_time": "2022-06-28T16:12:44.225Z"
   },
   {
    "duration": 13,
    "start_time": "2022-06-28T16:12:44.256Z"
   },
   {
    "duration": 12,
    "start_time": "2022-06-28T16:12:44.270Z"
   },
   {
    "duration": 7,
    "start_time": "2022-06-28T16:12:44.284Z"
   },
   {
    "duration": 253,
    "start_time": "2022-06-28T16:12:44.323Z"
   },
   {
    "duration": 226,
    "start_time": "2022-06-28T16:12:44.578Z"
   },
   {
    "duration": 229,
    "start_time": "2022-06-28T16:12:44.806Z"
   },
   {
    "duration": 324,
    "start_time": "2022-06-28T16:12:45.037Z"
   },
   {
    "duration": 187,
    "start_time": "2022-06-28T16:12:45.364Z"
   },
   {
    "duration": 232,
    "start_time": "2022-06-28T16:12:45.552Z"
   },
   {
    "duration": 8,
    "start_time": "2022-06-28T16:12:45.786Z"
   },
   {
    "duration": 158,
    "start_time": "2022-06-28T16:12:45.795Z"
   },
   {
    "duration": 250,
    "start_time": "2022-06-28T16:12:45.955Z"
   },
   {
    "duration": 73,
    "start_time": "2022-06-28T16:16:48.200Z"
   },
   {
    "duration": 71,
    "start_time": "2022-06-28T16:16:54.199Z"
   },
   {
    "duration": 107,
    "start_time": "2022-06-28T16:18:49.376Z"
   },
   {
    "duration": 64,
    "start_time": "2022-06-28T16:18:57.239Z"
   },
   {
    "duration": 54,
    "start_time": "2022-06-28T16:19:01.447Z"
   },
   {
    "duration": 60,
    "start_time": "2022-06-28T16:19:22.409Z"
   },
   {
    "duration": 1199,
    "start_time": "2022-06-28T17:07:09.535Z"
   },
   {
    "duration": 404,
    "start_time": "2022-06-28T17:07:10.737Z"
   },
   {
    "duration": 47,
    "start_time": "2022-06-28T17:07:11.143Z"
   },
   {
    "duration": 80,
    "start_time": "2022-06-28T17:07:11.192Z"
   },
   {
    "duration": 65,
    "start_time": "2022-06-28T17:07:11.273Z"
   },
   {
    "duration": 43,
    "start_time": "2022-06-28T17:07:11.340Z"
   },
   {
    "duration": 12,
    "start_time": "2022-06-28T17:07:11.385Z"
   },
   {
    "duration": 99,
    "start_time": "2022-06-28T17:07:11.399Z"
   },
   {
    "duration": 48,
    "start_time": "2022-06-28T17:07:11.500Z"
   },
   {
    "duration": 42,
    "start_time": "2022-06-28T17:07:11.550Z"
   },
   {
    "duration": 47,
    "start_time": "2022-06-28T17:07:11.594Z"
   },
   {
    "duration": 7,
    "start_time": "2022-06-28T17:07:11.643Z"
   },
   {
    "duration": 20,
    "start_time": "2022-06-28T17:07:11.652Z"
   },
   {
    "duration": 108,
    "start_time": "2022-06-28T17:07:11.674Z"
   },
   {
    "duration": 0,
    "start_time": "2022-06-28T17:07:11.784Z"
   },
   {
    "duration": 0,
    "start_time": "2022-06-28T17:07:11.785Z"
   },
   {
    "duration": 0,
    "start_time": "2022-06-28T17:07:11.787Z"
   },
   {
    "duration": 0,
    "start_time": "2022-06-28T17:07:11.787Z"
   },
   {
    "duration": 0,
    "start_time": "2022-06-28T17:07:11.789Z"
   },
   {
    "duration": 0,
    "start_time": "2022-06-28T17:07:11.790Z"
   },
   {
    "duration": 0,
    "start_time": "2022-06-28T17:07:11.791Z"
   },
   {
    "duration": 0,
    "start_time": "2022-06-28T17:07:11.792Z"
   },
   {
    "duration": 0,
    "start_time": "2022-06-28T17:07:11.793Z"
   },
   {
    "duration": 0,
    "start_time": "2022-06-28T17:07:11.794Z"
   },
   {
    "duration": 0,
    "start_time": "2022-06-28T17:07:11.795Z"
   },
   {
    "duration": 0,
    "start_time": "2022-06-28T17:07:11.797Z"
   },
   {
    "duration": 0,
    "start_time": "2022-06-28T17:07:11.823Z"
   },
   {
    "duration": 0,
    "start_time": "2022-06-28T17:07:11.824Z"
   },
   {
    "duration": 0,
    "start_time": "2022-06-28T17:07:11.826Z"
   },
   {
    "duration": 0,
    "start_time": "2022-06-28T17:07:11.827Z"
   },
   {
    "duration": 0,
    "start_time": "2022-06-28T17:07:11.828Z"
   },
   {
    "duration": 0,
    "start_time": "2022-06-28T17:07:11.829Z"
   },
   {
    "duration": 27,
    "start_time": "2022-06-28T17:07:30.956Z"
   },
   {
    "duration": 1152,
    "start_time": "2022-06-28T17:07:37.620Z"
   },
   {
    "duration": 421,
    "start_time": "2022-06-28T17:07:38.774Z"
   },
   {
    "duration": 54,
    "start_time": "2022-06-28T17:07:39.197Z"
   },
   {
    "duration": 93,
    "start_time": "2022-06-28T17:07:39.254Z"
   },
   {
    "duration": 59,
    "start_time": "2022-06-28T17:07:39.348Z"
   },
   {
    "duration": 54,
    "start_time": "2022-06-28T17:07:39.408Z"
   },
   {
    "duration": 11,
    "start_time": "2022-06-28T17:07:39.464Z"
   },
   {
    "duration": 92,
    "start_time": "2022-06-28T17:07:39.477Z"
   },
   {
    "duration": 32,
    "start_time": "2022-06-28T17:07:39.571Z"
   },
   {
    "duration": 53,
    "start_time": "2022-06-28T17:07:39.606Z"
   },
   {
    "duration": 30,
    "start_time": "2022-06-28T17:07:39.661Z"
   },
   {
    "duration": 7,
    "start_time": "2022-06-28T17:07:39.693Z"
   },
   {
    "duration": 16,
    "start_time": "2022-06-28T17:07:39.723Z"
   },
   {
    "duration": 25,
    "start_time": "2022-06-28T17:07:39.740Z"
   },
   {
    "duration": 15,
    "start_time": "2022-06-28T17:07:39.766Z"
   },
   {
    "duration": 8,
    "start_time": "2022-06-28T17:07:39.782Z"
   },
   {
    "duration": 20,
    "start_time": "2022-06-28T17:07:39.824Z"
   },
   {
    "duration": 21,
    "start_time": "2022-06-28T17:07:39.845Z"
   },
   {
    "duration": 157,
    "start_time": "2022-06-28T17:07:39.867Z"
   },
   {
    "duration": 30,
    "start_time": "2022-06-28T17:07:40.026Z"
   },
   {
    "duration": 13,
    "start_time": "2022-06-28T17:07:40.057Z"
   },
   {
    "duration": 12,
    "start_time": "2022-06-28T17:07:40.072Z"
   },
   {
    "duration": 38,
    "start_time": "2022-06-28T17:07:40.086Z"
   },
   {
    "duration": 241,
    "start_time": "2022-06-28T17:07:40.126Z"
   },
   {
    "duration": 247,
    "start_time": "2022-06-28T17:07:40.368Z"
   },
   {
    "duration": 234,
    "start_time": "2022-06-28T17:07:40.616Z"
   },
   {
    "duration": 322,
    "start_time": "2022-06-28T17:07:40.852Z"
   },
   {
    "duration": 175,
    "start_time": "2022-06-28T17:07:41.177Z"
   },
   {
    "duration": 246,
    "start_time": "2022-06-28T17:07:41.354Z"
   },
   {
    "duration": 9,
    "start_time": "2022-06-28T17:07:41.602Z"
   },
   {
    "duration": 157,
    "start_time": "2022-06-28T17:07:41.624Z"
   },
   {
    "duration": 265,
    "start_time": "2022-06-28T17:07:41.783Z"
   },
   {
    "duration": 50,
    "start_time": "2022-06-29T11:57:34.854Z"
   },
   {
    "duration": 1399,
    "start_time": "2022-06-29T11:57:37.880Z"
   },
   {
    "duration": 1027,
    "start_time": "2022-06-29T11:57:39.281Z"
   },
   {
    "duration": 69,
    "start_time": "2022-06-29T11:57:40.310Z"
   },
   {
    "duration": 103,
    "start_time": "2022-06-29T11:57:40.382Z"
   },
   {
    "duration": 81,
    "start_time": "2022-06-29T11:57:40.487Z"
   },
   {
    "duration": 90,
    "start_time": "2022-06-29T11:57:40.570Z"
   },
   {
    "duration": 17,
    "start_time": "2022-06-29T11:57:40.668Z"
   },
   {
    "duration": 92,
    "start_time": "2022-06-29T11:57:40.688Z"
   },
   {
    "duration": 29,
    "start_time": "2022-06-29T11:57:40.781Z"
   },
   {
    "duration": 53,
    "start_time": "2022-06-29T11:57:40.813Z"
   },
   {
    "duration": 36,
    "start_time": "2022-06-29T11:57:40.868Z"
   },
   {
    "duration": 7,
    "start_time": "2022-06-29T11:57:40.905Z"
   },
   {
    "duration": 36,
    "start_time": "2022-06-29T11:57:40.934Z"
   },
   {
    "duration": 40,
    "start_time": "2022-06-29T11:57:40.972Z"
   },
   {
    "duration": 28,
    "start_time": "2022-06-29T11:57:41.015Z"
   },
   {
    "duration": 38,
    "start_time": "2022-06-29T11:57:41.046Z"
   },
   {
    "duration": 31,
    "start_time": "2022-06-29T11:57:41.085Z"
   },
   {
    "duration": 35,
    "start_time": "2022-06-29T11:57:41.118Z"
   },
   {
    "duration": 194,
    "start_time": "2022-06-29T11:57:41.154Z"
   },
   {
    "duration": 33,
    "start_time": "2022-06-29T11:57:41.350Z"
   },
   {
    "duration": 13,
    "start_time": "2022-06-29T11:57:41.386Z"
   },
   {
    "duration": 44,
    "start_time": "2022-06-29T11:57:41.401Z"
   },
   {
    "duration": 11,
    "start_time": "2022-06-29T11:57:41.447Z"
   },
   {
    "duration": 418,
    "start_time": "2022-06-29T11:57:41.461Z"
   },
   {
    "duration": 376,
    "start_time": "2022-06-29T11:57:41.883Z"
   },
   {
    "duration": 259,
    "start_time": "2022-06-29T11:57:42.261Z"
   },
   {
    "duration": 18,
    "start_time": "2022-06-29T11:57:42.526Z"
   },
   {
    "duration": 355,
    "start_time": "2022-06-29T11:57:42.547Z"
   },
   {
    "duration": 198,
    "start_time": "2022-06-29T11:57:42.904Z"
   },
   {
    "duration": 281,
    "start_time": "2022-06-29T11:57:43.103Z"
   },
   {
    "duration": 9,
    "start_time": "2022-06-29T11:57:43.385Z"
   },
   {
    "duration": 176,
    "start_time": "2022-06-29T11:57:43.396Z"
   },
   {
    "duration": 273,
    "start_time": "2022-06-29T11:57:43.576Z"
   },
   {
    "duration": 277,
    "start_time": "2022-06-29T12:02:39.872Z"
   },
   {
    "duration": 115,
    "start_time": "2022-06-29T12:09:27.228Z"
   },
   {
    "duration": 52,
    "start_time": "2022-06-29T15:15:35.150Z"
   },
   {
    "duration": 1196,
    "start_time": "2022-06-29T15:15:44.076Z"
   },
   {
    "duration": 673,
    "start_time": "2022-06-29T15:15:45.274Z"
   },
   {
    "duration": 48,
    "start_time": "2022-06-29T15:15:45.948Z"
   },
   {
    "duration": 103,
    "start_time": "2022-06-29T15:15:45.999Z"
   },
   {
    "duration": 62,
    "start_time": "2022-06-29T15:15:46.104Z"
   },
   {
    "duration": 41,
    "start_time": "2022-06-29T15:15:46.167Z"
   },
   {
    "duration": 12,
    "start_time": "2022-06-29T15:15:46.227Z"
   },
   {
    "duration": 94,
    "start_time": "2022-06-29T15:15:46.241Z"
   },
   {
    "duration": 30,
    "start_time": "2022-06-29T15:15:46.337Z"
   },
   {
    "duration": 36,
    "start_time": "2022-06-29T15:15:46.370Z"
   },
   {
    "duration": 62,
    "start_time": "2022-06-29T15:15:46.408Z"
   },
   {
    "duration": 6,
    "start_time": "2022-06-29T15:15:46.473Z"
   },
   {
    "duration": 14,
    "start_time": "2022-06-29T15:15:46.481Z"
   },
   {
    "duration": 47,
    "start_time": "2022-06-29T15:15:46.497Z"
   },
   {
    "duration": 15,
    "start_time": "2022-06-29T15:15:46.546Z"
   },
   {
    "duration": 10,
    "start_time": "2022-06-29T15:15:46.562Z"
   },
   {
    "duration": 28,
    "start_time": "2022-06-29T15:15:46.574Z"
   },
   {
    "duration": 42,
    "start_time": "2022-06-29T15:15:46.603Z"
   },
   {
    "duration": 143,
    "start_time": "2022-06-29T15:15:46.647Z"
   },
   {
    "duration": 39,
    "start_time": "2022-06-29T15:15:46.792Z"
   },
   {
    "duration": 12,
    "start_time": "2022-06-29T15:15:46.834Z"
   },
   {
    "duration": 11,
    "start_time": "2022-06-29T15:15:46.848Z"
   },
   {
    "duration": 8,
    "start_time": "2022-06-29T15:15:46.861Z"
   },
   {
    "duration": 280,
    "start_time": "2022-06-29T15:15:46.871Z"
   },
   {
    "duration": 241,
    "start_time": "2022-06-29T15:15:47.153Z"
   },
   {
    "duration": 235,
    "start_time": "2022-06-29T15:15:47.397Z"
   },
   {
    "duration": 14,
    "start_time": "2022-06-29T15:15:47.634Z"
   },
   {
    "duration": 315,
    "start_time": "2022-06-29T15:15:47.650Z"
   },
   {
    "duration": 184,
    "start_time": "2022-06-29T15:15:47.967Z"
   },
   {
    "duration": 244,
    "start_time": "2022-06-29T15:15:48.153Z"
   },
   {
    "duration": 8,
    "start_time": "2022-06-29T15:15:48.399Z"
   },
   {
    "duration": 155,
    "start_time": "2022-06-29T15:15:48.409Z"
   },
   {
    "duration": 120,
    "start_time": "2022-06-29T15:15:48.566Z"
   },
   {
    "duration": 256,
    "start_time": "2022-06-29T15:15:48.688Z"
   },
   {
    "duration": 1083,
    "start_time": "2022-06-29T15:16:16.852Z"
   },
   {
    "duration": 405,
    "start_time": "2022-06-29T15:16:17.937Z"
   },
   {
    "duration": 52,
    "start_time": "2022-06-29T15:16:18.344Z"
   },
   {
    "duration": 79,
    "start_time": "2022-06-29T15:16:18.398Z"
   },
   {
    "duration": 56,
    "start_time": "2022-06-29T15:16:18.479Z"
   },
   {
    "duration": 40,
    "start_time": "2022-06-29T15:16:18.537Z"
   },
   {
    "duration": 12,
    "start_time": "2022-06-29T15:16:18.579Z"
   },
   {
    "duration": 109,
    "start_time": "2022-06-29T15:16:18.593Z"
   },
   {
    "duration": 41,
    "start_time": "2022-06-29T15:16:18.704Z"
   },
   {
    "duration": 38,
    "start_time": "2022-06-29T15:16:18.748Z"
   },
   {
    "duration": 43,
    "start_time": "2022-06-29T15:16:18.788Z"
   },
   {
    "duration": 7,
    "start_time": "2022-06-29T15:16:18.832Z"
   },
   {
    "duration": 18,
    "start_time": "2022-06-29T15:16:18.840Z"
   },
   {
    "duration": 23,
    "start_time": "2022-06-29T15:16:18.859Z"
   },
   {
    "duration": 46,
    "start_time": "2022-06-29T15:16:18.884Z"
   },
   {
    "duration": 8,
    "start_time": "2022-06-29T15:16:18.933Z"
   },
   {
    "duration": 23,
    "start_time": "2022-06-29T15:16:18.942Z"
   },
   {
    "duration": 24,
    "start_time": "2022-06-29T15:16:18.967Z"
   },
   {
    "duration": 169,
    "start_time": "2022-06-29T15:16:18.993Z"
   },
   {
    "duration": 38,
    "start_time": "2022-06-29T15:16:19.165Z"
   },
   {
    "duration": 27,
    "start_time": "2022-06-29T15:16:19.205Z"
   },
   {
    "duration": 12,
    "start_time": "2022-06-29T15:16:19.234Z"
   },
   {
    "duration": 7,
    "start_time": "2022-06-29T15:16:19.248Z"
   },
   {
    "duration": 284,
    "start_time": "2022-06-29T15:16:19.257Z"
   },
   {
    "duration": 272,
    "start_time": "2022-06-29T15:16:19.543Z"
   },
   {
    "duration": 258,
    "start_time": "2022-06-29T15:16:19.817Z"
   },
   {
    "duration": 16,
    "start_time": "2022-06-29T15:16:20.077Z"
   },
   {
    "duration": 348,
    "start_time": "2022-06-29T15:16:20.096Z"
   },
   {
    "duration": 195,
    "start_time": "2022-06-29T15:16:20.446Z"
   },
   {
    "duration": 253,
    "start_time": "2022-06-29T15:16:20.642Z"
   },
   {
    "duration": 8,
    "start_time": "2022-06-29T15:16:20.897Z"
   },
   {
    "duration": 159,
    "start_time": "2022-06-29T15:16:20.907Z"
   },
   {
    "duration": 112,
    "start_time": "2022-06-29T15:16:21.067Z"
   },
   {
    "duration": 247,
    "start_time": "2022-06-29T15:16:21.181Z"
   },
   {
    "duration": 1095,
    "start_time": "2022-06-29T15:19:49.885Z"
   },
   {
    "duration": 383,
    "start_time": "2022-06-29T15:19:50.982Z"
   },
   {
    "duration": 47,
    "start_time": "2022-06-29T15:19:51.366Z"
   },
   {
    "duration": 95,
    "start_time": "2022-06-29T15:19:51.415Z"
   },
   {
    "duration": 69,
    "start_time": "2022-06-29T15:19:51.512Z"
   },
   {
    "duration": 72,
    "start_time": "2022-06-29T15:19:51.583Z"
   },
   {
    "duration": 16,
    "start_time": "2022-06-29T15:19:51.657Z"
   },
   {
    "duration": 128,
    "start_time": "2022-06-29T15:19:51.675Z"
   },
   {
    "duration": 54,
    "start_time": "2022-06-29T15:19:51.804Z"
   },
   {
    "duration": 38,
    "start_time": "2022-06-29T15:19:51.862Z"
   },
   {
    "duration": 44,
    "start_time": "2022-06-29T15:19:51.901Z"
   },
   {
    "duration": 7,
    "start_time": "2022-06-29T15:19:51.947Z"
   },
   {
    "duration": 22,
    "start_time": "2022-06-29T15:19:51.955Z"
   },
   {
    "duration": 25,
    "start_time": "2022-06-29T15:19:51.979Z"
   },
   {
    "duration": 35,
    "start_time": "2022-06-29T15:19:52.005Z"
   },
   {
    "duration": 8,
    "start_time": "2022-06-29T15:19:52.042Z"
   },
   {
    "duration": 24,
    "start_time": "2022-06-29T15:19:52.051Z"
   },
   {
    "duration": 51,
    "start_time": "2022-06-29T15:19:52.077Z"
   },
   {
    "duration": 145,
    "start_time": "2022-06-29T15:19:52.130Z"
   },
   {
    "duration": 30,
    "start_time": "2022-06-29T15:19:52.276Z"
   },
   {
    "duration": 24,
    "start_time": "2022-06-29T15:19:52.308Z"
   },
   {
    "duration": 12,
    "start_time": "2022-06-29T15:19:52.333Z"
   },
   {
    "duration": 18,
    "start_time": "2022-06-29T15:19:52.346Z"
   },
   {
    "duration": 264,
    "start_time": "2022-06-29T15:19:52.365Z"
   },
   {
    "duration": 254,
    "start_time": "2022-06-29T15:19:52.630Z"
   },
   {
    "duration": 230,
    "start_time": "2022-06-29T15:19:52.887Z"
   },
   {
    "duration": 18,
    "start_time": "2022-06-29T15:19:53.119Z"
   },
   {
    "duration": 341,
    "start_time": "2022-06-29T15:19:53.140Z"
   },
   {
    "duration": 196,
    "start_time": "2022-06-29T15:19:53.482Z"
   },
   {
    "duration": 244,
    "start_time": "2022-06-29T15:19:53.679Z"
   },
   {
    "duration": 7,
    "start_time": "2022-06-29T15:19:53.926Z"
   },
   {
    "duration": 149,
    "start_time": "2022-06-29T15:19:53.935Z"
   },
   {
    "duration": 91,
    "start_time": "2022-06-29T15:19:54.085Z"
   },
   {
    "duration": 238,
    "start_time": "2022-06-29T15:19:54.178Z"
   },
   {
    "duration": 97,
    "start_time": "2022-06-29T15:20:59.519Z"
   },
   {
    "duration": 61,
    "start_time": "2022-06-29T15:21:19.226Z"
   },
   {
    "duration": 38,
    "start_time": "2022-06-29T15:21:46.320Z"
   },
   {
    "duration": 1153,
    "start_time": "2022-06-29T15:21:58.397Z"
   },
   {
    "duration": 414,
    "start_time": "2022-06-29T15:21:59.552Z"
   },
   {
    "duration": 65,
    "start_time": "2022-06-29T15:21:59.968Z"
   },
   {
    "duration": 94,
    "start_time": "2022-06-29T15:22:00.035Z"
   },
   {
    "duration": 67,
    "start_time": "2022-06-29T15:22:00.131Z"
   },
   {
    "duration": 61,
    "start_time": "2022-06-29T15:22:00.200Z"
   },
   {
    "duration": 12,
    "start_time": "2022-06-29T15:22:00.263Z"
   },
   {
    "duration": 104,
    "start_time": "2022-06-29T15:22:00.277Z"
   },
   {
    "duration": 34,
    "start_time": "2022-06-29T15:22:00.383Z"
   },
   {
    "duration": 42,
    "start_time": "2022-06-29T15:22:00.428Z"
   },
   {
    "duration": 29,
    "start_time": "2022-06-29T15:22:00.471Z"
   },
   {
    "duration": 28,
    "start_time": "2022-06-29T15:22:00.502Z"
   },
   {
    "duration": 15,
    "start_time": "2022-06-29T15:22:00.532Z"
   },
   {
    "duration": 25,
    "start_time": "2022-06-29T15:22:00.549Z"
   },
   {
    "duration": 14,
    "start_time": "2022-06-29T15:22:00.576Z"
   },
   {
    "duration": 37,
    "start_time": "2022-06-29T15:22:00.592Z"
   },
   {
    "duration": 40,
    "start_time": "2022-06-29T15:22:00.630Z"
   },
   {
    "duration": 64,
    "start_time": "2022-06-29T15:22:00.672Z"
   },
   {
    "duration": 185,
    "start_time": "2022-06-29T15:22:00.738Z"
   },
   {
    "duration": 31,
    "start_time": "2022-06-29T15:22:00.925Z"
   },
   {
    "duration": 15,
    "start_time": "2022-06-29T15:22:00.958Z"
   },
   {
    "duration": 29,
    "start_time": "2022-06-29T15:22:00.974Z"
   },
   {
    "duration": 31,
    "start_time": "2022-06-29T15:22:01.005Z"
   },
   {
    "duration": 332,
    "start_time": "2022-06-29T15:22:01.038Z"
   },
   {
    "duration": 329,
    "start_time": "2022-06-29T15:22:01.373Z"
   },
   {
    "duration": 372,
    "start_time": "2022-06-29T15:22:01.704Z"
   },
   {
    "duration": 20,
    "start_time": "2022-06-29T15:22:02.078Z"
   },
   {
    "duration": 349,
    "start_time": "2022-06-29T15:22:02.103Z"
   },
   {
    "duration": 198,
    "start_time": "2022-06-29T15:22:02.454Z"
   },
   {
    "duration": 272,
    "start_time": "2022-06-29T15:22:02.654Z"
   },
   {
    "duration": 8,
    "start_time": "2022-06-29T15:22:02.928Z"
   },
   {
    "duration": 154,
    "start_time": "2022-06-29T15:22:02.938Z"
   },
   {
    "duration": 90,
    "start_time": "2022-06-29T15:22:03.094Z"
   },
   {
    "duration": 254,
    "start_time": "2022-06-29T15:22:03.185Z"
   },
   {
    "duration": 61,
    "start_time": "2022-06-29T15:22:17.847Z"
   },
   {
    "duration": 5,
    "start_time": "2022-06-29T15:23:25.575Z"
   },
   {
    "duration": 58,
    "start_time": "2022-06-29T15:23:34.540Z"
   },
   {
    "duration": 1055,
    "start_time": "2022-06-29T15:23:47.463Z"
   },
   {
    "duration": 385,
    "start_time": "2022-06-29T15:23:48.520Z"
   },
   {
    "duration": 40,
    "start_time": "2022-06-29T15:23:48.907Z"
   },
   {
    "duration": 82,
    "start_time": "2022-06-29T15:23:48.949Z"
   },
   {
    "duration": 47,
    "start_time": "2022-06-29T15:23:49.032Z"
   },
   {
    "duration": 55,
    "start_time": "2022-06-29T15:23:49.081Z"
   },
   {
    "duration": 13,
    "start_time": "2022-06-29T15:23:49.138Z"
   },
   {
    "duration": 95,
    "start_time": "2022-06-29T15:23:49.152Z"
   },
   {
    "duration": 34,
    "start_time": "2022-06-29T15:23:49.248Z"
   },
   {
    "duration": 55,
    "start_time": "2022-06-29T15:23:49.285Z"
   },
   {
    "duration": 44,
    "start_time": "2022-06-29T15:23:49.342Z"
   },
   {
    "duration": 8,
    "start_time": "2022-06-29T15:23:49.388Z"
   },
   {
    "duration": 49,
    "start_time": "2022-06-29T15:23:49.398Z"
   },
   {
    "duration": 37,
    "start_time": "2022-06-29T15:23:49.449Z"
   },
   {
    "duration": 40,
    "start_time": "2022-06-29T15:23:49.488Z"
   },
   {
    "duration": 10,
    "start_time": "2022-06-29T15:23:49.530Z"
   },
   {
    "duration": 32,
    "start_time": "2022-06-29T15:23:49.542Z"
   },
   {
    "duration": 28,
    "start_time": "2022-06-29T15:23:49.576Z"
   },
   {
    "duration": 147,
    "start_time": "2022-06-29T15:23:49.606Z"
   },
   {
    "duration": 28,
    "start_time": "2022-06-29T15:23:49.757Z"
   },
   {
    "duration": 12,
    "start_time": "2022-06-29T15:23:49.787Z"
   },
   {
    "duration": 34,
    "start_time": "2022-06-29T15:23:49.801Z"
   },
   {
    "duration": 8,
    "start_time": "2022-06-29T15:23:49.838Z"
   },
   {
    "duration": 271,
    "start_time": "2022-06-29T15:23:49.848Z"
   },
   {
    "duration": 291,
    "start_time": "2022-06-29T15:23:50.120Z"
   },
   {
    "duration": 264,
    "start_time": "2022-06-29T15:23:50.414Z"
   },
   {
    "duration": 20,
    "start_time": "2022-06-29T15:23:50.680Z"
   },
   {
    "duration": 330,
    "start_time": "2022-06-29T15:23:50.704Z"
   },
   {
    "duration": 188,
    "start_time": "2022-06-29T15:23:51.035Z"
   },
   {
    "duration": 289,
    "start_time": "2022-06-29T15:23:51.227Z"
   },
   {
    "duration": 8,
    "start_time": "2022-06-29T15:23:51.526Z"
   },
   {
    "duration": 177,
    "start_time": "2022-06-29T15:23:51.536Z"
   },
   {
    "duration": 115,
    "start_time": "2022-06-29T15:23:51.715Z"
   },
   {
    "duration": 240,
    "start_time": "2022-06-29T15:23:51.833Z"
   },
   {
    "duration": 52,
    "start_time": "2022-06-29T15:24:25.708Z"
   },
   {
    "duration": 1124,
    "start_time": "2022-06-29T15:24:39.295Z"
   },
   {
    "duration": 393,
    "start_time": "2022-06-29T15:24:40.420Z"
   },
   {
    "duration": 39,
    "start_time": "2022-06-29T15:24:40.814Z"
   },
   {
    "duration": 82,
    "start_time": "2022-06-29T15:24:40.855Z"
   },
   {
    "duration": 47,
    "start_time": "2022-06-29T15:24:40.939Z"
   },
   {
    "duration": 53,
    "start_time": "2022-06-29T15:24:40.988Z"
   },
   {
    "duration": 11,
    "start_time": "2022-06-29T15:24:41.043Z"
   },
   {
    "duration": 83,
    "start_time": "2022-06-29T15:24:41.056Z"
   },
   {
    "duration": 30,
    "start_time": "2022-06-29T15:24:41.141Z"
   },
   {
    "duration": 52,
    "start_time": "2022-06-29T15:24:41.175Z"
   },
   {
    "duration": 29,
    "start_time": "2022-06-29T15:24:41.229Z"
   },
   {
    "duration": 6,
    "start_time": "2022-06-29T15:24:41.260Z"
   },
   {
    "duration": 13,
    "start_time": "2022-06-29T15:24:41.267Z"
   },
   {
    "duration": 54,
    "start_time": "2022-06-29T15:24:41.282Z"
   },
   {
    "duration": 15,
    "start_time": "2022-06-29T15:24:41.337Z"
   },
   {
    "duration": 7,
    "start_time": "2022-06-29T15:24:41.354Z"
   },
   {
    "duration": 20,
    "start_time": "2022-06-29T15:24:41.362Z"
   },
   {
    "duration": 48,
    "start_time": "2022-06-29T15:24:41.384Z"
   },
   {
    "duration": 216,
    "start_time": "2022-06-29T15:24:41.434Z"
   },
   {
    "duration": 33,
    "start_time": "2022-06-29T15:24:41.653Z"
   },
   {
    "duration": 12,
    "start_time": "2022-06-29T15:24:41.688Z"
   },
   {
    "duration": 37,
    "start_time": "2022-06-29T15:24:41.701Z"
   },
   {
    "duration": 8,
    "start_time": "2022-06-29T15:24:41.739Z"
   },
   {
    "duration": 254,
    "start_time": "2022-06-29T15:24:41.749Z"
   },
   {
    "duration": 229,
    "start_time": "2022-06-29T15:24:42.005Z"
   },
   {
    "duration": 228,
    "start_time": "2022-06-29T15:24:42.236Z"
   },
   {
    "duration": 13,
    "start_time": "2022-06-29T15:24:42.466Z"
   },
   {
    "duration": 361,
    "start_time": "2022-06-29T15:24:42.482Z"
   },
   {
    "duration": 199,
    "start_time": "2022-06-29T15:24:42.845Z"
   },
   {
    "duration": 259,
    "start_time": "2022-06-29T15:24:43.046Z"
   },
   {
    "duration": 9,
    "start_time": "2022-06-29T15:24:43.306Z"
   },
   {
    "duration": 140,
    "start_time": "2022-06-29T15:24:43.326Z"
   },
   {
    "duration": 94,
    "start_time": "2022-06-29T15:24:43.467Z"
   },
   {
    "duration": 239,
    "start_time": "2022-06-29T15:24:43.562Z"
   },
   {
    "duration": 129,
    "start_time": "2022-06-29T15:25:50.464Z"
   },
   {
    "duration": 3200,
    "start_time": "2022-06-29T15:31:23.473Z"
   },
   {
    "duration": 1491,
    "start_time": "2022-06-29T15:31:48.230Z"
   },
   {
    "duration": 702,
    "start_time": "2022-06-29T15:31:49.723Z"
   },
   {
    "duration": 47,
    "start_time": "2022-06-29T15:31:50.426Z"
   },
   {
    "duration": 90,
    "start_time": "2022-06-29T15:31:50.475Z"
   },
   {
    "duration": 67,
    "start_time": "2022-06-29T15:31:50.567Z"
   },
   {
    "duration": 54,
    "start_time": "2022-06-29T15:31:50.637Z"
   },
   {
    "duration": 35,
    "start_time": "2022-06-29T15:31:50.693Z"
   },
   {
    "duration": 80,
    "start_time": "2022-06-29T15:31:50.730Z"
   },
   {
    "duration": 47,
    "start_time": "2022-06-29T15:31:50.812Z"
   },
   {
    "duration": 42,
    "start_time": "2022-06-29T15:31:50.861Z"
   },
   {
    "duration": 43,
    "start_time": "2022-06-29T15:31:50.904Z"
   },
   {
    "duration": 6,
    "start_time": "2022-06-29T15:31:50.949Z"
   },
   {
    "duration": 18,
    "start_time": "2022-06-29T15:31:50.957Z"
   },
   {
    "duration": 24,
    "start_time": "2022-06-29T15:31:50.977Z"
   },
   {
    "duration": 39,
    "start_time": "2022-06-29T15:31:51.003Z"
   },
   {
    "duration": 10,
    "start_time": "2022-06-29T15:31:51.044Z"
   },
   {
    "duration": 27,
    "start_time": "2022-06-29T15:31:51.056Z"
   },
   {
    "duration": 52,
    "start_time": "2022-06-29T15:31:51.084Z"
   },
   {
    "duration": 134,
    "start_time": "2022-06-29T15:31:51.139Z"
   },
   {
    "duration": 31,
    "start_time": "2022-06-29T15:31:51.274Z"
   },
   {
    "duration": 28,
    "start_time": "2022-06-29T15:31:51.307Z"
   },
   {
    "duration": 19,
    "start_time": "2022-06-29T15:31:51.337Z"
   },
   {
    "duration": 8,
    "start_time": "2022-06-29T15:31:51.358Z"
   },
   {
    "duration": 347,
    "start_time": "2022-06-29T15:31:51.368Z"
   },
   {
    "duration": 244,
    "start_time": "2022-06-29T15:31:51.717Z"
   },
   {
    "duration": 242,
    "start_time": "2022-06-29T15:31:51.962Z"
   },
   {
    "duration": 22,
    "start_time": "2022-06-29T15:31:52.206Z"
   },
   {
    "duration": 406,
    "start_time": "2022-06-29T15:31:52.231Z"
   },
   {
    "duration": 226,
    "start_time": "2022-06-29T15:31:52.639Z"
   },
   {
    "duration": 306,
    "start_time": "2022-06-29T15:31:52.867Z"
   },
   {
    "duration": 13,
    "start_time": "2022-06-29T15:31:53.175Z"
   },
   {
    "duration": 200,
    "start_time": "2022-06-29T15:31:53.191Z"
   },
   {
    "duration": 108,
    "start_time": "2022-06-29T15:31:53.393Z"
   },
   {
    "duration": 265,
    "start_time": "2022-06-29T15:31:53.503Z"
   },
   {
    "duration": 81,
    "start_time": "2022-06-29T15:33:15.074Z"
   },
   {
    "duration": 51,
    "start_time": "2022-06-29T15:33:25.139Z"
   },
   {
    "duration": 1149,
    "start_time": "2022-06-29T15:33:31.994Z"
   },
   {
    "duration": 416,
    "start_time": "2022-06-29T15:33:33.146Z"
   },
   {
    "duration": 55,
    "start_time": "2022-06-29T15:33:33.564Z"
   },
   {
    "duration": 78,
    "start_time": "2022-06-29T15:33:33.626Z"
   },
   {
    "duration": 83,
    "start_time": "2022-06-29T15:33:33.707Z"
   },
   {
    "duration": 52,
    "start_time": "2022-06-29T15:33:33.792Z"
   },
   {
    "duration": 12,
    "start_time": "2022-06-29T15:33:33.846Z"
   },
   {
    "duration": 95,
    "start_time": "2022-06-29T15:33:33.861Z"
   },
   {
    "duration": 35,
    "start_time": "2022-06-29T15:33:33.958Z"
   },
   {
    "duration": 51,
    "start_time": "2022-06-29T15:33:33.996Z"
   },
   {
    "duration": 30,
    "start_time": "2022-06-29T15:33:34.048Z"
   },
   {
    "duration": 8,
    "start_time": "2022-06-29T15:33:34.081Z"
   },
   {
    "duration": 51,
    "start_time": "2022-06-29T15:33:34.090Z"
   },
   {
    "duration": 28,
    "start_time": "2022-06-29T15:33:34.143Z"
   },
   {
    "duration": 24,
    "start_time": "2022-06-29T15:33:34.173Z"
   },
   {
    "duration": 39,
    "start_time": "2022-06-29T15:33:34.199Z"
   },
   {
    "duration": 31,
    "start_time": "2022-06-29T15:33:34.240Z"
   },
   {
    "duration": 47,
    "start_time": "2022-06-29T15:33:34.273Z"
   },
   {
    "duration": 128,
    "start_time": "2022-06-29T15:33:34.322Z"
   },
   {
    "duration": 46,
    "start_time": "2022-06-29T15:33:34.452Z"
   },
   {
    "duration": 37,
    "start_time": "2022-06-29T15:33:34.500Z"
   },
   {
    "duration": 16,
    "start_time": "2022-06-29T15:33:34.539Z"
   },
   {
    "duration": 13,
    "start_time": "2022-06-29T15:33:34.557Z"
   },
   {
    "duration": 278,
    "start_time": "2022-06-29T15:33:34.572Z"
   },
   {
    "duration": 257,
    "start_time": "2022-06-29T15:33:34.852Z"
   },
   {
    "duration": 377,
    "start_time": "2022-06-29T15:33:35.111Z"
   },
   {
    "duration": 17,
    "start_time": "2022-06-29T15:33:35.490Z"
   },
   {
    "duration": 372,
    "start_time": "2022-06-29T15:33:35.510Z"
   },
   {
    "duration": 200,
    "start_time": "2022-06-29T15:33:35.884Z"
   },
   {
    "duration": 286,
    "start_time": "2022-06-29T15:33:36.086Z"
   },
   {
    "duration": 13,
    "start_time": "2022-06-29T15:33:36.375Z"
   },
   {
    "duration": 61,
    "start_time": "2022-06-29T15:33:36.389Z"
   },
   {
    "duration": 0,
    "start_time": "2022-06-29T15:33:36.452Z"
   },
   {
    "duration": 0,
    "start_time": "2022-06-29T15:33:36.454Z"
   },
   {
    "duration": 92,
    "start_time": "2022-06-29T15:33:44.422Z"
   },
   {
    "duration": 77,
    "start_time": "2022-06-29T15:33:59.683Z"
   },
   {
    "duration": 958,
    "start_time": "2022-06-29T15:34:18.253Z"
   },
   {
    "duration": 86,
    "start_time": "2022-06-29T15:34:33.953Z"
   },
   {
    "duration": 142,
    "start_time": "2022-06-29T15:34:44.833Z"
   },
   {
    "duration": 87,
    "start_time": "2022-06-29T15:35:01.834Z"
   },
   {
    "duration": 1149,
    "start_time": "2022-06-29T15:36:06.228Z"
   },
   {
    "duration": 462,
    "start_time": "2022-06-29T15:36:07.380Z"
   },
   {
    "duration": 42,
    "start_time": "2022-06-29T15:36:07.844Z"
   },
   {
    "duration": 113,
    "start_time": "2022-06-29T15:36:07.889Z"
   },
   {
    "duration": 61,
    "start_time": "2022-06-29T15:36:08.004Z"
   },
   {
    "duration": 63,
    "start_time": "2022-06-29T15:36:08.067Z"
   },
   {
    "duration": 17,
    "start_time": "2022-06-29T15:36:08.133Z"
   },
   {
    "duration": 129,
    "start_time": "2022-06-29T15:36:08.153Z"
   },
   {
    "duration": 47,
    "start_time": "2022-06-29T15:36:08.285Z"
   },
   {
    "duration": 41,
    "start_time": "2022-06-29T15:36:08.335Z"
   },
   {
    "duration": 51,
    "start_time": "2022-06-29T15:36:08.377Z"
   },
   {
    "duration": 8,
    "start_time": "2022-06-29T15:36:08.430Z"
   },
   {
    "duration": 31,
    "start_time": "2022-06-29T15:36:08.440Z"
   },
   {
    "duration": 58,
    "start_time": "2022-06-29T15:36:08.473Z"
   },
   {
    "duration": 23,
    "start_time": "2022-06-29T15:36:08.533Z"
   },
   {
    "duration": 11,
    "start_time": "2022-06-29T15:36:08.558Z"
   },
   {
    "duration": 58,
    "start_time": "2022-06-29T15:36:08.571Z"
   },
   {
    "duration": 33,
    "start_time": "2022-06-29T15:36:08.631Z"
   },
   {
    "duration": 156,
    "start_time": "2022-06-29T15:36:08.666Z"
   },
   {
    "duration": 31,
    "start_time": "2022-06-29T15:36:08.827Z"
   },
   {
    "duration": 13,
    "start_time": "2022-06-29T15:36:08.860Z"
   },
   {
    "duration": 13,
    "start_time": "2022-06-29T15:36:08.874Z"
   },
   {
    "duration": 42,
    "start_time": "2022-06-29T15:36:08.889Z"
   },
   {
    "duration": 272,
    "start_time": "2022-06-29T15:36:08.933Z"
   },
   {
    "duration": 252,
    "start_time": "2022-06-29T15:36:09.207Z"
   },
   {
    "duration": 289,
    "start_time": "2022-06-29T15:36:09.461Z"
   },
   {
    "duration": 16,
    "start_time": "2022-06-29T15:36:09.752Z"
   },
   {
    "duration": 369,
    "start_time": "2022-06-29T15:36:09.773Z"
   },
   {
    "duration": 205,
    "start_time": "2022-06-29T15:36:10.143Z"
   },
   {
    "duration": 282,
    "start_time": "2022-06-29T15:36:10.349Z"
   },
   {
    "duration": 9,
    "start_time": "2022-06-29T15:36:10.633Z"
   },
   {
    "duration": 159,
    "start_time": "2022-06-29T15:36:10.644Z"
   },
   {
    "duration": 91,
    "start_time": "2022-06-29T15:36:10.805Z"
   },
   {
    "duration": 251,
    "start_time": "2022-06-29T15:36:10.898Z"
   },
   {
    "duration": 65,
    "start_time": "2022-06-29T15:36:51.654Z"
   },
   {
    "duration": 66,
    "start_time": "2022-06-29T15:37:05.116Z"
   },
   {
    "duration": 66,
    "start_time": "2022-06-29T15:40:56.708Z"
   },
   {
    "duration": 103,
    "start_time": "2022-06-29T15:41:05.293Z"
   },
   {
    "duration": 347,
    "start_time": "2022-06-29T15:43:53.676Z"
   },
   {
    "duration": 1182,
    "start_time": "2022-06-29T15:44:06.409Z"
   },
   {
    "duration": 439,
    "start_time": "2022-06-29T15:44:07.594Z"
   },
   {
    "duration": 43,
    "start_time": "2022-06-29T15:44:08.035Z"
   },
   {
    "duration": 90,
    "start_time": "2022-06-29T15:44:08.081Z"
   },
   {
    "duration": 93,
    "start_time": "2022-06-29T15:44:08.173Z"
   },
   {
    "duration": 60,
    "start_time": "2022-06-29T15:44:08.269Z"
   },
   {
    "duration": 19,
    "start_time": "2022-06-29T15:44:08.331Z"
   },
   {
    "duration": 91,
    "start_time": "2022-06-29T15:44:08.353Z"
   },
   {
    "duration": 31,
    "start_time": "2022-06-29T15:44:08.445Z"
   },
   {
    "duration": 56,
    "start_time": "2022-06-29T15:44:08.479Z"
   },
   {
    "duration": 30,
    "start_time": "2022-06-29T15:44:08.537Z"
   },
   {
    "duration": 7,
    "start_time": "2022-06-29T15:44:08.570Z"
   },
   {
    "duration": 20,
    "start_time": "2022-06-29T15:44:08.579Z"
   },
   {
    "duration": 29,
    "start_time": "2022-06-29T15:44:08.627Z"
   },
   {
    "duration": 17,
    "start_time": "2022-06-29T15:44:08.658Z"
   },
   {
    "duration": 18,
    "start_time": "2022-06-29T15:44:08.676Z"
   },
   {
    "duration": 36,
    "start_time": "2022-06-29T15:44:08.696Z"
   },
   {
    "duration": 21,
    "start_time": "2022-06-29T15:44:08.734Z"
   },
   {
    "duration": 143,
    "start_time": "2022-06-29T15:44:08.757Z"
   },
   {
    "duration": 41,
    "start_time": "2022-06-29T15:44:08.901Z"
   },
   {
    "duration": 16,
    "start_time": "2022-06-29T15:44:08.944Z"
   },
   {
    "duration": 16,
    "start_time": "2022-06-29T15:44:08.962Z"
   },
   {
    "duration": 9,
    "start_time": "2022-06-29T15:44:08.980Z"
   },
   {
    "duration": 305,
    "start_time": "2022-06-29T15:44:08.991Z"
   },
   {
    "duration": 311,
    "start_time": "2022-06-29T15:44:09.299Z"
   },
   {
    "duration": 271,
    "start_time": "2022-06-29T15:44:09.613Z"
   },
   {
    "duration": 14,
    "start_time": "2022-06-29T15:44:09.886Z"
   },
   {
    "duration": 363,
    "start_time": "2022-06-29T15:44:09.904Z"
   },
   {
    "duration": 191,
    "start_time": "2022-06-29T15:44:10.269Z"
   },
   {
    "duration": 273,
    "start_time": "2022-06-29T15:44:10.461Z"
   },
   {
    "duration": 205,
    "start_time": "2022-06-29T15:44:10.736Z"
   },
   {
    "duration": 0,
    "start_time": "2022-06-29T15:44:10.943Z"
   },
   {
    "duration": 0,
    "start_time": "2022-06-29T15:44:10.944Z"
   },
   {
    "duration": 0,
    "start_time": "2022-06-29T15:44:10.945Z"
   },
   {
    "duration": 9,
    "start_time": "2022-06-29T15:44:27.627Z"
   },
   {
    "duration": 74,
    "start_time": "2022-06-29T15:46:09.681Z"
   },
   {
    "duration": 144,
    "start_time": "2022-06-29T15:46:24.045Z"
   },
   {
    "duration": 90,
    "start_time": "2022-06-29T15:46:27.618Z"
   },
   {
    "duration": 18,
    "start_time": "2022-06-29T15:47:27.068Z"
   },
   {
    "duration": 17,
    "start_time": "2022-06-29T15:49:25.807Z"
   },
   {
    "duration": 17,
    "start_time": "2022-06-29T15:49:41.979Z"
   },
   {
    "duration": 16,
    "start_time": "2022-06-29T15:51:14.756Z"
   },
   {
    "duration": 33,
    "start_time": "2022-06-29T15:51:30.704Z"
   },
   {
    "duration": 77,
    "start_time": "2022-06-29T15:52:05.363Z"
   },
   {
    "duration": 64,
    "start_time": "2022-06-29T15:52:59.727Z"
   },
   {
    "duration": 1141,
    "start_time": "2022-06-29T15:53:15.897Z"
   },
   {
    "duration": 402,
    "start_time": "2022-06-29T15:53:17.040Z"
   },
   {
    "duration": 20,
    "start_time": "2022-06-29T15:53:17.444Z"
   },
   {
    "duration": 76,
    "start_time": "2022-06-29T15:53:17.466Z"
   },
   {
    "duration": 48,
    "start_time": "2022-06-29T15:53:17.544Z"
   },
   {
    "duration": 62,
    "start_time": "2022-06-29T15:53:17.594Z"
   },
   {
    "duration": 11,
    "start_time": "2022-06-29T15:53:17.658Z"
   },
   {
    "duration": 91,
    "start_time": "2022-06-29T15:53:17.671Z"
   },
   {
    "duration": 33,
    "start_time": "2022-06-29T15:53:17.764Z"
   },
   {
    "duration": 56,
    "start_time": "2022-06-29T15:53:17.800Z"
   },
   {
    "duration": 28,
    "start_time": "2022-06-29T15:53:17.857Z"
   },
   {
    "duration": 6,
    "start_time": "2022-06-29T15:53:17.887Z"
   },
   {
    "duration": 40,
    "start_time": "2022-06-29T15:53:17.895Z"
   },
   {
    "duration": 26,
    "start_time": "2022-06-29T15:53:17.937Z"
   },
   {
    "duration": 16,
    "start_time": "2022-06-29T15:53:17.964Z"
   },
   {
    "duration": 19,
    "start_time": "2022-06-29T15:53:17.982Z"
   },
   {
    "duration": 43,
    "start_time": "2022-06-29T15:53:18.003Z"
   },
   {
    "duration": 20,
    "start_time": "2022-06-29T15:53:18.048Z"
   },
   {
    "duration": 158,
    "start_time": "2022-06-29T15:53:18.070Z"
   },
   {
    "duration": 31,
    "start_time": "2022-06-29T15:53:18.230Z"
   },
   {
    "duration": 13,
    "start_time": "2022-06-29T15:53:18.262Z"
   },
   {
    "duration": 13,
    "start_time": "2022-06-29T15:53:18.278Z"
   },
   {
    "duration": 40,
    "start_time": "2022-06-29T15:53:18.293Z"
   },
   {
    "duration": 15,
    "start_time": "2022-06-29T15:53:18.335Z"
   },
   {
    "duration": 301,
    "start_time": "2022-06-29T15:53:18.352Z"
   },
   {
    "duration": 271,
    "start_time": "2022-06-29T15:53:18.655Z"
   },
   {
    "duration": 257,
    "start_time": "2022-06-29T15:53:18.928Z"
   },
   {
    "duration": 15,
    "start_time": "2022-06-29T15:53:19.188Z"
   },
   {
    "duration": 351,
    "start_time": "2022-06-29T15:53:19.204Z"
   },
   {
    "duration": 187,
    "start_time": "2022-06-29T15:53:19.557Z"
   },
   {
    "duration": 253,
    "start_time": "2022-06-29T15:53:19.746Z"
   },
   {
    "duration": 16,
    "start_time": "2022-06-29T15:53:20.001Z"
   },
   {
    "duration": 9,
    "start_time": "2022-06-29T15:53:20.026Z"
   },
   {
    "duration": 95,
    "start_time": "2022-06-29T15:53:20.037Z"
   },
   {
    "duration": 0,
    "start_time": "2022-06-29T15:53:20.135Z"
   },
   {
    "duration": 0,
    "start_time": "2022-06-29T15:53:20.136Z"
   },
   {
    "duration": 72,
    "start_time": "2022-06-29T15:53:39.681Z"
   },
   {
    "duration": 60,
    "start_time": "2022-06-29T15:53:57.823Z"
   },
   {
    "duration": 113,
    "start_time": "2022-06-29T15:55:09.803Z"
   },
   {
    "duration": 15,
    "start_time": "2022-06-29T15:55:20.524Z"
   },
   {
    "duration": 14,
    "start_time": "2022-06-29T15:55:23.848Z"
   },
   {
    "duration": 1144,
    "start_time": "2022-06-29T15:55:29.837Z"
   },
   {
    "duration": 418,
    "start_time": "2022-06-29T15:55:30.983Z"
   },
   {
    "duration": 27,
    "start_time": "2022-06-29T15:55:31.402Z"
   },
   {
    "duration": 114,
    "start_time": "2022-06-29T15:55:31.432Z"
   },
   {
    "duration": 80,
    "start_time": "2022-06-29T15:55:31.548Z"
   },
   {
    "duration": 55,
    "start_time": "2022-06-29T15:55:31.630Z"
   },
   {
    "duration": 15,
    "start_time": "2022-06-29T15:55:31.687Z"
   },
   {
    "duration": 124,
    "start_time": "2022-06-29T15:55:31.704Z"
   },
   {
    "duration": 31,
    "start_time": "2022-06-29T15:55:31.829Z"
   },
   {
    "duration": 44,
    "start_time": "2022-06-29T15:55:31.862Z"
   },
   {
    "duration": 46,
    "start_time": "2022-06-29T15:55:31.907Z"
   },
   {
    "duration": 6,
    "start_time": "2022-06-29T15:55:31.955Z"
   },
   {
    "duration": 38,
    "start_time": "2022-06-29T15:55:31.963Z"
   },
   {
    "duration": 43,
    "start_time": "2022-06-29T15:55:32.002Z"
   },
   {
    "duration": 25,
    "start_time": "2022-06-29T15:55:32.047Z"
   },
   {
    "duration": 8,
    "start_time": "2022-06-29T15:55:32.074Z"
   },
   {
    "duration": 40,
    "start_time": "2022-06-29T15:55:32.084Z"
   },
   {
    "duration": 26,
    "start_time": "2022-06-29T15:55:32.126Z"
   },
   {
    "duration": 139,
    "start_time": "2022-06-29T15:55:32.153Z"
   },
   {
    "duration": 39,
    "start_time": "2022-06-29T15:55:32.294Z"
   },
   {
    "duration": 12,
    "start_time": "2022-06-29T15:55:32.334Z"
   },
   {
    "duration": 16,
    "start_time": "2022-06-29T15:55:32.347Z"
   },
   {
    "duration": 22,
    "start_time": "2022-06-29T15:55:32.364Z"
   },
   {
    "duration": 36,
    "start_time": "2022-06-29T15:55:32.387Z"
   },
   {
    "duration": 277,
    "start_time": "2022-06-29T15:55:32.425Z"
   },
   {
    "duration": 242,
    "start_time": "2022-06-29T15:55:32.703Z"
   },
   {
    "duration": 248,
    "start_time": "2022-06-29T15:55:32.947Z"
   },
   {
    "duration": 14,
    "start_time": "2022-06-29T15:55:33.198Z"
   },
   {
    "duration": 354,
    "start_time": "2022-06-29T15:55:33.227Z"
   },
   {
    "duration": 194,
    "start_time": "2022-06-29T15:55:33.583Z"
   },
   {
    "duration": 258,
    "start_time": "2022-06-29T15:55:33.778Z"
   },
   {
    "duration": 14,
    "start_time": "2022-06-29T15:55:34.037Z"
   },
   {
    "duration": 9,
    "start_time": "2022-06-29T15:55:34.052Z"
   },
   {
    "duration": 125,
    "start_time": "2022-06-29T15:55:34.062Z"
   },
   {
    "duration": 0,
    "start_time": "2022-06-29T15:55:34.188Z"
   },
   {
    "duration": 0,
    "start_time": "2022-06-29T15:55:34.190Z"
   },
   {
    "duration": 20,
    "start_time": "2022-06-29T15:56:11.227Z"
   },
   {
    "duration": 15,
    "start_time": "2022-06-29T15:56:31.977Z"
   },
   {
    "duration": 1094,
    "start_time": "2022-06-29T15:56:38.030Z"
   },
   {
    "duration": 395,
    "start_time": "2022-06-29T15:56:39.127Z"
   },
   {
    "duration": 21,
    "start_time": "2022-06-29T15:56:39.524Z"
   },
   {
    "duration": 100,
    "start_time": "2022-06-29T15:56:39.548Z"
   },
   {
    "duration": 48,
    "start_time": "2022-06-29T15:56:39.650Z"
   },
   {
    "duration": 54,
    "start_time": "2022-06-29T15:56:39.699Z"
   },
   {
    "duration": 11,
    "start_time": "2022-06-29T15:56:39.755Z"
   },
   {
    "duration": 102,
    "start_time": "2022-06-29T15:56:39.767Z"
   },
   {
    "duration": 33,
    "start_time": "2022-06-29T15:56:39.870Z"
   },
   {
    "duration": 61,
    "start_time": "2022-06-29T15:56:39.907Z"
   },
   {
    "duration": 28,
    "start_time": "2022-06-29T15:56:39.969Z"
   },
   {
    "duration": 6,
    "start_time": "2022-06-29T15:56:39.999Z"
   },
   {
    "duration": 40,
    "start_time": "2022-06-29T15:56:40.006Z"
   },
   {
    "duration": 24,
    "start_time": "2022-06-29T15:56:40.048Z"
   },
   {
    "duration": 16,
    "start_time": "2022-06-29T15:56:40.074Z"
   },
   {
    "duration": 35,
    "start_time": "2022-06-29T15:56:40.091Z"
   },
   {
    "duration": 40,
    "start_time": "2022-06-29T15:56:40.128Z"
   },
   {
    "duration": 36,
    "start_time": "2022-06-29T15:56:40.169Z"
   },
   {
    "duration": 131,
    "start_time": "2022-06-29T15:56:40.207Z"
   },
   {
    "duration": 30,
    "start_time": "2022-06-29T15:56:40.339Z"
   },
   {
    "duration": 27,
    "start_time": "2022-06-29T15:56:40.370Z"
   },
   {
    "duration": 24,
    "start_time": "2022-06-29T15:56:40.398Z"
   },
   {
    "duration": 13,
    "start_time": "2022-06-29T15:56:40.427Z"
   },
   {
    "duration": 33,
    "start_time": "2022-06-29T15:56:40.442Z"
   },
   {
    "duration": 291,
    "start_time": "2022-06-29T15:56:40.477Z"
   },
   {
    "duration": 245,
    "start_time": "2022-06-29T15:56:40.770Z"
   },
   {
    "duration": 241,
    "start_time": "2022-06-29T15:56:41.017Z"
   },
   {
    "duration": 14,
    "start_time": "2022-06-29T15:56:41.261Z"
   },
   {
    "duration": 429,
    "start_time": "2022-06-29T15:56:41.277Z"
   },
   {
    "duration": 190,
    "start_time": "2022-06-29T15:56:41.708Z"
   },
   {
    "duration": 259,
    "start_time": "2022-06-29T15:56:41.900Z"
   },
   {
    "duration": 15,
    "start_time": "2022-06-29T15:56:42.160Z"
   },
   {
    "duration": 30,
    "start_time": "2022-06-29T15:56:42.177Z"
   },
   {
    "duration": 38,
    "start_time": "2022-06-29T15:56:42.209Z"
   },
   {
    "duration": 118,
    "start_time": "2022-06-29T15:56:42.249Z"
   },
   {
    "duration": 0,
    "start_time": "2022-06-29T15:56:42.369Z"
   },
   {
    "duration": 0,
    "start_time": "2022-06-29T15:56:42.370Z"
   },
   {
    "duration": 25,
    "start_time": "2022-06-29T15:57:08.044Z"
   },
   {
    "duration": 12,
    "start_time": "2022-06-29T15:57:12.750Z"
   },
   {
    "duration": 1086,
    "start_time": "2022-06-29T15:59:32.935Z"
   },
   {
    "duration": 392,
    "start_time": "2022-06-29T15:59:34.022Z"
   },
   {
    "duration": 19,
    "start_time": "2022-06-29T15:59:34.416Z"
   },
   {
    "duration": 75,
    "start_time": "2022-06-29T15:59:34.437Z"
   },
   {
    "duration": 51,
    "start_time": "2022-06-29T15:59:34.526Z"
   },
   {
    "duration": 62,
    "start_time": "2022-06-29T15:59:34.578Z"
   },
   {
    "duration": 12,
    "start_time": "2022-06-29T15:59:34.642Z"
   },
   {
    "duration": 91,
    "start_time": "2022-06-29T15:59:34.656Z"
   },
   {
    "duration": 32,
    "start_time": "2022-06-29T15:59:34.748Z"
   },
   {
    "duration": 53,
    "start_time": "2022-06-29T15:59:34.782Z"
   },
   {
    "duration": 28,
    "start_time": "2022-06-29T15:59:34.837Z"
   },
   {
    "duration": 5,
    "start_time": "2022-06-29T15:59:34.867Z"
   },
   {
    "duration": 16,
    "start_time": "2022-06-29T15:59:34.874Z"
   },
   {
    "duration": 60,
    "start_time": "2022-06-29T15:59:34.892Z"
   },
   {
    "duration": 20,
    "start_time": "2022-06-29T15:59:34.954Z"
   },
   {
    "duration": 9,
    "start_time": "2022-06-29T15:59:34.975Z"
   },
   {
    "duration": 46,
    "start_time": "2022-06-29T15:59:34.986Z"
   },
   {
    "duration": 21,
    "start_time": "2022-06-29T15:59:35.034Z"
   },
   {
    "duration": 145,
    "start_time": "2022-06-29T15:59:35.057Z"
   },
   {
    "duration": 35,
    "start_time": "2022-06-29T15:59:35.204Z"
   },
   {
    "duration": 12,
    "start_time": "2022-06-29T15:59:35.240Z"
   },
   {
    "duration": 12,
    "start_time": "2022-06-29T15:59:35.254Z"
   },
   {
    "duration": 11,
    "start_time": "2022-06-29T15:59:35.267Z"
   },
   {
    "duration": 265,
    "start_time": "2022-06-29T15:59:35.279Z"
   },
   {
    "duration": 268,
    "start_time": "2022-06-29T15:59:35.546Z"
   },
   {
    "duration": 245,
    "start_time": "2022-06-29T15:59:35.816Z"
   },
   {
    "duration": 14,
    "start_time": "2022-06-29T15:59:36.063Z"
   },
   {
    "duration": 338,
    "start_time": "2022-06-29T15:59:36.080Z"
   },
   {
    "duration": 194,
    "start_time": "2022-06-29T15:59:36.419Z"
   },
   {
    "duration": 258,
    "start_time": "2022-06-29T15:59:36.614Z"
   },
   {
    "duration": 10,
    "start_time": "2022-06-29T15:59:36.874Z"
   },
   {
    "duration": 43,
    "start_time": "2022-06-29T15:59:36.885Z"
   },
   {
    "duration": 11,
    "start_time": "2022-06-29T15:59:36.929Z"
   },
   {
    "duration": 7,
    "start_time": "2022-06-29T15:59:36.942Z"
   },
   {
    "duration": 1584,
    "start_time": "2022-06-29T16:03:45.138Z"
   },
   {
    "duration": 1335,
    "start_time": "2022-06-29T16:04:00.046Z"
   },
   {
    "duration": 1088,
    "start_time": "2022-06-29T16:04:13.199Z"
   },
   {
    "duration": 388,
    "start_time": "2022-06-29T16:04:14.289Z"
   },
   {
    "duration": 20,
    "start_time": "2022-06-29T16:04:14.679Z"
   },
   {
    "duration": 74,
    "start_time": "2022-06-29T16:04:14.701Z"
   },
   {
    "duration": 52,
    "start_time": "2022-06-29T16:04:14.777Z"
   },
   {
    "duration": 40,
    "start_time": "2022-06-29T16:04:14.831Z"
   },
   {
    "duration": 11,
    "start_time": "2022-06-29T16:04:14.873Z"
   },
   {
    "duration": 99,
    "start_time": "2022-06-29T16:04:14.886Z"
   },
   {
    "duration": 47,
    "start_time": "2022-06-29T16:04:14.987Z"
   },
   {
    "duration": 43,
    "start_time": "2022-06-29T16:04:15.038Z"
   },
   {
    "duration": 46,
    "start_time": "2022-06-29T16:04:15.084Z"
   },
   {
    "duration": 5,
    "start_time": "2022-06-29T16:04:15.132Z"
   },
   {
    "duration": 16,
    "start_time": "2022-06-29T16:04:15.138Z"
   },
   {
    "duration": 23,
    "start_time": "2022-06-29T16:04:15.155Z"
   },
   {
    "duration": 15,
    "start_time": "2022-06-29T16:04:15.179Z"
   },
   {
    "duration": 13,
    "start_time": "2022-06-29T16:04:15.228Z"
   },
   {
    "duration": 21,
    "start_time": "2022-06-29T16:04:15.242Z"
   },
   {
    "duration": 20,
    "start_time": "2022-06-29T16:04:15.265Z"
   },
   {
    "duration": 142,
    "start_time": "2022-06-29T16:04:15.287Z"
   },
   {
    "duration": 29,
    "start_time": "2022-06-29T16:04:15.430Z"
   },
   {
    "duration": 12,
    "start_time": "2022-06-29T16:04:15.461Z"
   },
   {
    "duration": 17,
    "start_time": "2022-06-29T16:04:15.475Z"
   },
   {
    "duration": 38,
    "start_time": "2022-06-29T16:04:15.494Z"
   },
   {
    "duration": 262,
    "start_time": "2022-06-29T16:04:15.533Z"
   },
   {
    "duration": 237,
    "start_time": "2022-06-29T16:04:15.797Z"
   },
   {
    "duration": 236,
    "start_time": "2022-06-29T16:04:16.036Z"
   },
   {
    "duration": 13,
    "start_time": "2022-06-29T16:04:16.274Z"
   },
   {
    "duration": 347,
    "start_time": "2022-06-29T16:04:16.291Z"
   },
   {
    "duration": 200,
    "start_time": "2022-06-29T16:04:16.640Z"
   },
   {
    "duration": 265,
    "start_time": "2022-06-29T16:04:16.842Z"
   },
   {
    "duration": 19,
    "start_time": "2022-06-29T16:04:17.108Z"
   },
   {
    "duration": 28,
    "start_time": "2022-06-29T16:04:17.129Z"
   },
   {
    "duration": 13,
    "start_time": "2022-06-29T16:04:17.159Z"
   },
   {
    "duration": 18,
    "start_time": "2022-06-29T16:04:17.174Z"
   },
   {
    "duration": 1085,
    "start_time": "2022-06-29T16:04:43.415Z"
   },
   {
    "duration": 389,
    "start_time": "2022-06-29T16:04:44.502Z"
   },
   {
    "duration": 20,
    "start_time": "2022-06-29T16:04:44.893Z"
   },
   {
    "duration": 77,
    "start_time": "2022-06-29T16:04:44.915Z"
   },
   {
    "duration": 65,
    "start_time": "2022-06-29T16:04:44.994Z"
   },
   {
    "duration": 68,
    "start_time": "2022-06-29T16:04:45.061Z"
   },
   {
    "duration": 12,
    "start_time": "2022-06-29T16:04:45.131Z"
   },
   {
    "duration": 91,
    "start_time": "2022-06-29T16:04:45.146Z"
   },
   {
    "duration": 31,
    "start_time": "2022-06-29T16:04:45.239Z"
   },
   {
    "duration": 73,
    "start_time": "2022-06-29T16:04:45.275Z"
   },
   {
    "duration": 43,
    "start_time": "2022-06-29T16:04:45.350Z"
   },
   {
    "duration": 6,
    "start_time": "2022-06-29T16:04:45.394Z"
   },
   {
    "duration": 33,
    "start_time": "2022-06-29T16:04:45.401Z"
   },
   {
    "duration": 25,
    "start_time": "2022-06-29T16:04:45.436Z"
   },
   {
    "duration": 17,
    "start_time": "2022-06-29T16:04:45.463Z"
   },
   {
    "duration": 8,
    "start_time": "2022-06-29T16:04:45.482Z"
   },
   {
    "duration": 52,
    "start_time": "2022-06-29T16:04:45.491Z"
   },
   {
    "duration": 23,
    "start_time": "2022-06-29T16:04:45.544Z"
   },
   {
    "duration": 147,
    "start_time": "2022-06-29T16:04:45.568Z"
   },
   {
    "duration": 38,
    "start_time": "2022-06-29T16:04:45.717Z"
   },
   {
    "duration": 12,
    "start_time": "2022-06-29T16:04:45.757Z"
   },
   {
    "duration": 23,
    "start_time": "2022-06-29T16:04:45.770Z"
   },
   {
    "duration": 32,
    "start_time": "2022-06-29T16:04:45.795Z"
   },
   {
    "duration": 253,
    "start_time": "2022-06-29T16:04:45.829Z"
   },
   {
    "duration": 235,
    "start_time": "2022-06-29T16:04:46.083Z"
   },
   {
    "duration": 238,
    "start_time": "2022-06-29T16:04:46.319Z"
   },
   {
    "duration": 14,
    "start_time": "2022-06-29T16:04:46.558Z"
   },
   {
    "duration": 325,
    "start_time": "2022-06-29T16:04:46.575Z"
   },
   {
    "duration": 187,
    "start_time": "2022-06-29T16:04:46.902Z"
   },
   {
    "duration": 238,
    "start_time": "2022-06-29T16:04:47.091Z"
   },
   {
    "duration": 163,
    "start_time": "2022-06-29T16:04:47.330Z"
   },
   {
    "duration": 0,
    "start_time": "2022-06-29T16:04:47.495Z"
   },
   {
    "duration": 0,
    "start_time": "2022-06-29T16:04:47.496Z"
   },
   {
    "duration": 0,
    "start_time": "2022-06-29T16:04:47.497Z"
   },
   {
    "duration": 9,
    "start_time": "2022-06-29T16:05:00.351Z"
   },
   {
    "duration": 22,
    "start_time": "2022-06-29T16:05:13.628Z"
   },
   {
    "duration": 13,
    "start_time": "2022-06-29T16:05:17.329Z"
   },
   {
    "duration": 12,
    "start_time": "2022-06-29T16:05:21.941Z"
   },
   {
    "duration": 1129,
    "start_time": "2022-06-29T16:06:53.525Z"
   },
   {
    "duration": 412,
    "start_time": "2022-06-29T16:06:54.657Z"
   },
   {
    "duration": 33,
    "start_time": "2022-06-29T16:06:55.070Z"
   },
   {
    "duration": 105,
    "start_time": "2022-06-29T16:06:55.107Z"
   },
   {
    "duration": 69,
    "start_time": "2022-06-29T16:06:55.215Z"
   },
   {
    "duration": 57,
    "start_time": "2022-06-29T16:06:55.286Z"
   },
   {
    "duration": 11,
    "start_time": "2022-06-29T16:06:55.345Z"
   },
   {
    "duration": 89,
    "start_time": "2022-06-29T16:06:55.357Z"
   },
   {
    "duration": 33,
    "start_time": "2022-06-29T16:06:55.448Z"
   },
   {
    "duration": 72,
    "start_time": "2022-06-29T16:06:55.485Z"
   },
   {
    "duration": 29,
    "start_time": "2022-06-29T16:06:55.559Z"
   },
   {
    "duration": 7,
    "start_time": "2022-06-29T16:06:55.590Z"
   },
   {
    "duration": 49,
    "start_time": "2022-06-29T16:06:55.599Z"
   },
   {
    "duration": 47,
    "start_time": "2022-06-29T16:06:55.650Z"
   },
   {
    "duration": 27,
    "start_time": "2022-06-29T16:06:55.699Z"
   },
   {
    "duration": 10,
    "start_time": "2022-06-29T16:06:55.728Z"
   },
   {
    "duration": 39,
    "start_time": "2022-06-29T16:06:55.740Z"
   },
   {
    "duration": 23,
    "start_time": "2022-06-29T16:06:55.781Z"
   },
   {
    "duration": 145,
    "start_time": "2022-06-29T16:06:55.806Z"
   },
   {
    "duration": 31,
    "start_time": "2022-06-29T16:06:55.953Z"
   },
   {
    "duration": 14,
    "start_time": "2022-06-29T16:06:55.985Z"
   },
   {
    "duration": 40,
    "start_time": "2022-06-29T16:06:56.001Z"
   },
   {
    "duration": 10,
    "start_time": "2022-06-29T16:06:56.043Z"
   },
   {
    "duration": 305,
    "start_time": "2022-06-29T16:06:56.055Z"
   },
   {
    "duration": 260,
    "start_time": "2022-06-29T16:06:56.362Z"
   },
   {
    "duration": 263,
    "start_time": "2022-06-29T16:06:56.626Z"
   },
   {
    "duration": 18,
    "start_time": "2022-06-29T16:06:56.891Z"
   },
   {
    "duration": 424,
    "start_time": "2022-06-29T16:06:56.914Z"
   },
   {
    "duration": 197,
    "start_time": "2022-06-29T16:06:57.339Z"
   },
   {
    "duration": 273,
    "start_time": "2022-06-29T16:06:57.538Z"
   },
   {
    "duration": 17,
    "start_time": "2022-06-29T16:06:57.813Z"
   },
   {
    "duration": 22,
    "start_time": "2022-06-29T16:06:57.832Z"
   },
   {
    "duration": 12,
    "start_time": "2022-06-29T16:06:57.856Z"
   },
   {
    "duration": 9,
    "start_time": "2022-06-29T16:06:57.870Z"
   },
   {
    "duration": 1558,
    "start_time": "2022-06-29T16:10:35.630Z"
   },
   {
    "duration": 1107,
    "start_time": "2022-06-29T16:10:47.129Z"
   },
   {
    "duration": 408,
    "start_time": "2022-06-29T16:10:48.238Z"
   },
   {
    "duration": 26,
    "start_time": "2022-06-29T16:10:48.649Z"
   },
   {
    "duration": 84,
    "start_time": "2022-06-29T16:10:48.677Z"
   },
   {
    "duration": 65,
    "start_time": "2022-06-29T16:10:48.762Z"
   },
   {
    "duration": 43,
    "start_time": "2022-06-29T16:10:48.830Z"
   },
   {
    "duration": 12,
    "start_time": "2022-06-29T16:10:48.875Z"
   },
   {
    "duration": 107,
    "start_time": "2022-06-29T16:10:48.889Z"
   },
   {
    "duration": 45,
    "start_time": "2022-06-29T16:10:48.997Z"
   },
   {
    "duration": 41,
    "start_time": "2022-06-29T16:10:49.044Z"
   },
   {
    "duration": 41,
    "start_time": "2022-06-29T16:10:49.087Z"
   },
   {
    "duration": 7,
    "start_time": "2022-06-29T16:10:49.130Z"
   },
   {
    "duration": 24,
    "start_time": "2022-06-29T16:10:49.138Z"
   },
   {
    "duration": 26,
    "start_time": "2022-06-29T16:10:49.164Z"
   },
   {
    "duration": 40,
    "start_time": "2022-06-29T16:10:49.193Z"
   },
   {
    "duration": 8,
    "start_time": "2022-06-29T16:10:49.236Z"
   },
   {
    "duration": 22,
    "start_time": "2022-06-29T16:10:49.245Z"
   },
   {
    "duration": 21,
    "start_time": "2022-06-29T16:10:49.269Z"
   },
   {
    "duration": 153,
    "start_time": "2022-06-29T16:10:49.292Z"
   },
   {
    "duration": 36,
    "start_time": "2022-06-29T16:10:49.446Z"
   },
   {
    "duration": 18,
    "start_time": "2022-06-29T16:10:49.483Z"
   },
   {
    "duration": 37,
    "start_time": "2022-06-29T16:10:49.503Z"
   },
   {
    "duration": 8,
    "start_time": "2022-06-29T16:10:49.542Z"
   },
   {
    "duration": 279,
    "start_time": "2022-06-29T16:10:49.552Z"
   },
   {
    "duration": 250,
    "start_time": "2022-06-29T16:10:49.833Z"
   },
   {
    "duration": 242,
    "start_time": "2022-06-29T16:10:50.084Z"
   },
   {
    "duration": 14,
    "start_time": "2022-06-29T16:10:50.328Z"
   },
   {
    "duration": 339,
    "start_time": "2022-06-29T16:10:50.345Z"
   },
   {
    "duration": 200,
    "start_time": "2022-06-29T16:10:50.685Z"
   },
   {
    "duration": 260,
    "start_time": "2022-06-29T16:10:50.888Z"
   },
   {
    "duration": 10,
    "start_time": "2022-06-29T16:10:51.149Z"
   },
   {
    "duration": 21,
    "start_time": "2022-06-29T16:10:51.160Z"
   },
   {
    "duration": 15,
    "start_time": "2022-06-29T16:10:51.183Z"
   },
   {
    "duration": 33,
    "start_time": "2022-06-29T16:10:51.200Z"
   },
   {
    "duration": 1276,
    "start_time": "2022-06-29T16:11:12.605Z"
   },
   {
    "duration": 1164,
    "start_time": "2022-06-29T16:11:21.684Z"
   },
   {
    "duration": 495,
    "start_time": "2022-06-29T16:11:22.850Z"
   },
   {
    "duration": 20,
    "start_time": "2022-06-29T16:11:23.347Z"
   },
   {
    "duration": 94,
    "start_time": "2022-06-29T16:11:23.370Z"
   },
   {
    "duration": 51,
    "start_time": "2022-06-29T16:11:23.466Z"
   },
   {
    "duration": 43,
    "start_time": "2022-06-29T16:11:23.526Z"
   },
   {
    "duration": 12,
    "start_time": "2022-06-29T16:11:23.571Z"
   },
   {
    "duration": 103,
    "start_time": "2022-06-29T16:11:23.585Z"
   },
   {
    "duration": 43,
    "start_time": "2022-06-29T16:11:23.690Z"
   },
   {
    "duration": 39,
    "start_time": "2022-06-29T16:11:23.736Z"
   },
   {
    "duration": 31,
    "start_time": "2022-06-29T16:11:23.777Z"
   },
   {
    "duration": 5,
    "start_time": "2022-06-29T16:11:23.827Z"
   },
   {
    "duration": 31,
    "start_time": "2022-06-29T16:11:23.834Z"
   },
   {
    "duration": 32,
    "start_time": "2022-06-29T16:11:23.866Z"
   },
   {
    "duration": 16,
    "start_time": "2022-06-29T16:11:23.900Z"
   },
   {
    "duration": 19,
    "start_time": "2022-06-29T16:11:23.917Z"
   },
   {
    "duration": 29,
    "start_time": "2022-06-29T16:11:23.938Z"
   },
   {
    "duration": 25,
    "start_time": "2022-06-29T16:11:23.969Z"
   },
   {
    "duration": 136,
    "start_time": "2022-06-29T16:11:23.996Z"
   },
   {
    "duration": 31,
    "start_time": "2022-06-29T16:11:24.134Z"
   },
   {
    "duration": 16,
    "start_time": "2022-06-29T16:11:24.167Z"
   },
   {
    "duration": 36,
    "start_time": "2022-06-29T16:11:24.184Z"
   },
   {
    "duration": 15,
    "start_time": "2022-06-29T16:11:24.227Z"
   },
   {
    "duration": 263,
    "start_time": "2022-06-29T16:11:24.244Z"
   },
   {
    "duration": 259,
    "start_time": "2022-06-29T16:11:24.509Z"
   },
   {
    "duration": 247,
    "start_time": "2022-06-29T16:11:24.770Z"
   },
   {
    "duration": 20,
    "start_time": "2022-06-29T16:11:25.019Z"
   },
   {
    "duration": 337,
    "start_time": "2022-06-29T16:11:25.044Z"
   },
   {
    "duration": 189,
    "start_time": "2022-06-29T16:11:25.383Z"
   },
   {
    "duration": 279,
    "start_time": "2022-06-29T16:11:25.574Z"
   },
   {
    "duration": 9,
    "start_time": "2022-06-29T16:11:25.854Z"
   },
   {
    "duration": 63,
    "start_time": "2022-06-29T16:11:25.864Z"
   },
   {
    "duration": 26,
    "start_time": "2022-06-29T16:11:25.928Z"
   },
   {
    "duration": 20,
    "start_time": "2022-06-29T16:11:25.956Z"
   },
   {
    "duration": 1680,
    "start_time": "2022-06-29T16:14:50.525Z"
   },
   {
    "duration": 6,
    "start_time": "2022-06-29T16:15:16.724Z"
   },
   {
    "duration": 1887,
    "start_time": "2022-06-29T16:15:59.794Z"
   },
   {
    "duration": 1339,
    "start_time": "2022-06-29T16:16:12.502Z"
   },
   {
    "duration": 20,
    "start_time": "2022-06-29T16:17:13.676Z"
   },
   {
    "duration": 15,
    "start_time": "2022-06-29T16:18:08.015Z"
   },
   {
    "duration": 21,
    "start_time": "2022-06-29T16:20:07.101Z"
   },
   {
    "duration": 17,
    "start_time": "2022-06-29T16:21:59.753Z"
   },
   {
    "duration": 14,
    "start_time": "2022-06-29T16:22:15.660Z"
   },
   {
    "duration": 1130,
    "start_time": "2022-06-29T16:22:22.463Z"
   },
   {
    "duration": 413,
    "start_time": "2022-06-29T16:22:23.595Z"
   },
   {
    "duration": 21,
    "start_time": "2022-06-29T16:22:24.010Z"
   },
   {
    "duration": 102,
    "start_time": "2022-06-29T16:22:24.034Z"
   },
   {
    "duration": 51,
    "start_time": "2022-06-29T16:22:24.138Z"
   },
   {
    "duration": 60,
    "start_time": "2022-06-29T16:22:24.191Z"
   },
   {
    "duration": 12,
    "start_time": "2022-06-29T16:22:24.253Z"
   },
   {
    "duration": 115,
    "start_time": "2022-06-29T16:22:24.267Z"
   },
   {
    "duration": 33,
    "start_time": "2022-06-29T16:22:24.384Z"
   },
   {
    "duration": 39,
    "start_time": "2022-06-29T16:22:24.426Z"
   },
   {
    "duration": 30,
    "start_time": "2022-06-29T16:22:24.467Z"
   },
   {
    "duration": 29,
    "start_time": "2022-06-29T16:22:24.498Z"
   },
   {
    "duration": 16,
    "start_time": "2022-06-29T16:22:24.529Z"
   },
   {
    "duration": 34,
    "start_time": "2022-06-29T16:22:24.546Z"
   },
   {
    "duration": 19,
    "start_time": "2022-06-29T16:22:24.581Z"
   },
   {
    "duration": 31,
    "start_time": "2022-06-29T16:22:24.601Z"
   },
   {
    "duration": 34,
    "start_time": "2022-06-29T16:22:24.634Z"
   },
   {
    "duration": 31,
    "start_time": "2022-06-29T16:22:24.670Z"
   },
   {
    "duration": 142,
    "start_time": "2022-06-29T16:22:24.703Z"
   },
   {
    "duration": 27,
    "start_time": "2022-06-29T16:22:24.847Z"
   },
   {
    "duration": 18,
    "start_time": "2022-06-29T16:22:24.876Z"
   },
   {
    "duration": 34,
    "start_time": "2022-06-29T16:22:24.896Z"
   },
   {
    "duration": 32,
    "start_time": "2022-06-29T16:22:24.932Z"
   },
   {
    "duration": 298,
    "start_time": "2022-06-29T16:22:24.966Z"
   },
   {
    "duration": 397,
    "start_time": "2022-06-29T16:22:25.266Z"
   },
   {
    "duration": 312,
    "start_time": "2022-06-29T16:22:25.666Z"
   },
   {
    "duration": 14,
    "start_time": "2022-06-29T16:22:25.980Z"
   },
   {
    "duration": 33,
    "start_time": "2022-06-29T16:22:25.997Z"
   },
   {
    "duration": 350,
    "start_time": "2022-06-29T16:22:26.033Z"
   },
   {
    "duration": 196,
    "start_time": "2022-06-29T16:22:26.385Z"
   },
   {
    "duration": 263,
    "start_time": "2022-06-29T16:22:26.583Z"
   },
   {
    "duration": 116,
    "start_time": "2022-06-29T16:22:26.848Z"
   },
   {
    "duration": 0,
    "start_time": "2022-06-29T16:22:26.966Z"
   },
   {
    "duration": 0,
    "start_time": "2022-06-29T16:22:26.968Z"
   },
   {
    "duration": 0,
    "start_time": "2022-06-29T16:22:26.969Z"
   },
   {
    "duration": 0,
    "start_time": "2022-06-29T16:22:26.970Z"
   },
   {
    "duration": 0,
    "start_time": "2022-06-29T16:22:26.971Z"
   },
   {
    "duration": 12,
    "start_time": "2022-06-29T16:22:50.754Z"
   },
   {
    "duration": 1173,
    "start_time": "2022-06-29T16:23:00.066Z"
   },
   {
    "duration": 555,
    "start_time": "2022-06-29T16:23:01.242Z"
   },
   {
    "duration": 33,
    "start_time": "2022-06-29T16:23:01.799Z"
   },
   {
    "duration": 171,
    "start_time": "2022-06-29T16:23:01.835Z"
   },
   {
    "duration": 67,
    "start_time": "2022-06-29T16:23:02.008Z"
   },
   {
    "duration": 82,
    "start_time": "2022-06-29T16:23:02.078Z"
   },
   {
    "duration": 17,
    "start_time": "2022-06-29T16:23:02.163Z"
   },
   {
    "duration": 133,
    "start_time": "2022-06-29T16:23:02.183Z"
   },
   {
    "duration": 55,
    "start_time": "2022-06-29T16:23:02.318Z"
   },
   {
    "duration": 76,
    "start_time": "2022-06-29T16:23:02.377Z"
   },
   {
    "duration": 53,
    "start_time": "2022-06-29T16:23:02.455Z"
   },
   {
    "duration": 20,
    "start_time": "2022-06-29T16:23:02.510Z"
   },
   {
    "duration": 17,
    "start_time": "2022-06-29T16:23:02.532Z"
   },
   {
    "duration": 28,
    "start_time": "2022-06-29T16:23:02.551Z"
   },
   {
    "duration": 56,
    "start_time": "2022-06-29T16:23:02.581Z"
   },
   {
    "duration": 26,
    "start_time": "2022-06-29T16:23:02.639Z"
   },
   {
    "duration": 40,
    "start_time": "2022-06-29T16:23:02.670Z"
   },
   {
    "duration": 25,
    "start_time": "2022-06-29T16:23:02.712Z"
   },
   {
    "duration": 137,
    "start_time": "2022-06-29T16:23:02.738Z"
   },
   {
    "duration": 31,
    "start_time": "2022-06-29T16:23:02.877Z"
   },
   {
    "duration": 21,
    "start_time": "2022-06-29T16:23:02.927Z"
   },
   {
    "duration": 18,
    "start_time": "2022-06-29T16:23:02.949Z"
   },
   {
    "duration": 14,
    "start_time": "2022-06-29T16:23:02.969Z"
   },
   {
    "duration": 312,
    "start_time": "2022-06-29T16:23:02.985Z"
   },
   {
    "duration": 258,
    "start_time": "2022-06-29T16:23:03.298Z"
   },
   {
    "duration": 347,
    "start_time": "2022-06-29T16:23:03.558Z"
   },
   {
    "duration": 27,
    "start_time": "2022-06-29T16:23:03.907Z"
   },
   {
    "duration": 23,
    "start_time": "2022-06-29T16:23:03.939Z"
   },
   {
    "duration": 370,
    "start_time": "2022-06-29T16:23:03.964Z"
   },
   {
    "duration": 208,
    "start_time": "2022-06-29T16:23:04.337Z"
   },
   {
    "duration": 293,
    "start_time": "2022-06-29T16:23:04.546Z"
   },
   {
    "duration": 117,
    "start_time": "2022-06-29T16:23:04.842Z"
   },
   {
    "duration": 0,
    "start_time": "2022-06-29T16:23:04.961Z"
   },
   {
    "duration": 0,
    "start_time": "2022-06-29T16:23:04.963Z"
   },
   {
    "duration": 0,
    "start_time": "2022-06-29T16:23:04.964Z"
   },
   {
    "duration": 0,
    "start_time": "2022-06-29T16:23:04.966Z"
   },
   {
    "duration": 0,
    "start_time": "2022-06-29T16:23:04.968Z"
   },
   {
    "duration": 15,
    "start_time": "2022-06-29T16:23:40.007Z"
   },
   {
    "duration": 20,
    "start_time": "2022-06-29T16:23:59.993Z"
   },
   {
    "duration": 13,
    "start_time": "2022-06-29T16:24:15.148Z"
   },
   {
    "duration": 7,
    "start_time": "2022-06-29T16:24:58.034Z"
   },
   {
    "duration": 6,
    "start_time": "2022-06-29T16:25:31.938Z"
   },
   {
    "duration": 6,
    "start_time": "2022-06-29T16:26:40.799Z"
   },
   {
    "duration": 1096,
    "start_time": "2022-06-29T16:26:48.030Z"
   },
   {
    "duration": 447,
    "start_time": "2022-06-29T16:26:49.129Z"
   },
   {
    "duration": 27,
    "start_time": "2022-06-29T16:26:49.579Z"
   },
   {
    "duration": 83,
    "start_time": "2022-06-29T16:26:49.607Z"
   },
   {
    "duration": 92,
    "start_time": "2022-06-29T16:26:49.692Z"
   },
   {
    "duration": 58,
    "start_time": "2022-06-29T16:26:49.797Z"
   },
   {
    "duration": 11,
    "start_time": "2022-06-29T16:26:49.857Z"
   },
   {
    "duration": 85,
    "start_time": "2022-06-29T16:26:49.870Z"
   },
   {
    "duration": 33,
    "start_time": "2022-06-29T16:26:49.957Z"
   },
   {
    "duration": 59,
    "start_time": "2022-06-29T16:26:49.992Z"
   },
   {
    "duration": 44,
    "start_time": "2022-06-29T16:26:50.053Z"
   },
   {
    "duration": 7,
    "start_time": "2022-06-29T16:26:50.098Z"
   },
   {
    "duration": 17,
    "start_time": "2022-06-29T16:26:50.127Z"
   },
   {
    "duration": 29,
    "start_time": "2022-06-29T16:26:50.145Z"
   },
   {
    "duration": 53,
    "start_time": "2022-06-29T16:26:50.176Z"
   },
   {
    "duration": 9,
    "start_time": "2022-06-29T16:26:50.231Z"
   },
   {
    "duration": 24,
    "start_time": "2022-06-29T16:26:50.242Z"
   },
   {
    "duration": 32,
    "start_time": "2022-06-29T16:26:50.268Z"
   },
   {
    "duration": 218,
    "start_time": "2022-06-29T16:26:50.302Z"
   },
   {
    "duration": 32,
    "start_time": "2022-06-29T16:26:50.526Z"
   },
   {
    "duration": 19,
    "start_time": "2022-06-29T16:26:50.560Z"
   },
   {
    "duration": 48,
    "start_time": "2022-06-29T16:26:50.580Z"
   },
   {
    "duration": 11,
    "start_time": "2022-06-29T16:26:50.630Z"
   },
   {
    "duration": 289,
    "start_time": "2022-06-29T16:26:50.643Z"
   },
   {
    "duration": 235,
    "start_time": "2022-06-29T16:26:50.934Z"
   },
   {
    "duration": 242,
    "start_time": "2022-06-29T16:26:51.171Z"
   },
   {
    "duration": 27,
    "start_time": "2022-06-29T16:26:51.414Z"
   },
   {
    "duration": 409,
    "start_time": "2022-06-29T16:26:51.446Z"
   },
   {
    "duration": 194,
    "start_time": "2022-06-29T16:26:51.857Z"
   },
   {
    "duration": 261,
    "start_time": "2022-06-29T16:26:52.053Z"
   },
   {
    "duration": 15,
    "start_time": "2022-06-29T16:26:52.315Z"
   },
   {
    "duration": 122,
    "start_time": "2022-06-29T16:26:52.333Z"
   },
   {
    "duration": 0,
    "start_time": "2022-06-29T16:26:52.457Z"
   },
   {
    "duration": 0,
    "start_time": "2022-06-29T16:26:52.459Z"
   },
   {
    "duration": 0,
    "start_time": "2022-06-29T16:26:52.460Z"
   },
   {
    "duration": 0,
    "start_time": "2022-06-29T16:26:52.461Z"
   },
   {
    "duration": 0,
    "start_time": "2022-06-29T16:26:52.462Z"
   },
   {
    "duration": 0,
    "start_time": "2022-06-29T16:26:52.464Z"
   },
   {
    "duration": 1318,
    "start_time": "2022-06-29T16:27:31.595Z"
   },
   {
    "duration": 410,
    "start_time": "2022-06-29T16:27:32.915Z"
   },
   {
    "duration": 23,
    "start_time": "2022-06-29T16:27:33.327Z"
   },
   {
    "duration": 110,
    "start_time": "2022-06-29T16:27:33.353Z"
   },
   {
    "duration": 49,
    "start_time": "2022-06-29T16:27:33.466Z"
   },
   {
    "duration": 51,
    "start_time": "2022-06-29T16:27:33.528Z"
   },
   {
    "duration": 11,
    "start_time": "2022-06-29T16:27:33.581Z"
   },
   {
    "duration": 102,
    "start_time": "2022-06-29T16:27:33.594Z"
   },
   {
    "duration": 52,
    "start_time": "2022-06-29T16:27:33.697Z"
   },
   {
    "duration": 39,
    "start_time": "2022-06-29T16:27:33.753Z"
   },
   {
    "duration": 44,
    "start_time": "2022-06-29T16:27:33.794Z"
   },
   {
    "duration": 8,
    "start_time": "2022-06-29T16:27:33.839Z"
   },
   {
    "duration": 23,
    "start_time": "2022-06-29T16:27:33.849Z"
   },
   {
    "duration": 30,
    "start_time": "2022-06-29T16:27:33.874Z"
   },
   {
    "duration": 16,
    "start_time": "2022-06-29T16:27:33.927Z"
   },
   {
    "duration": 14,
    "start_time": "2022-06-29T16:27:33.946Z"
   },
   {
    "duration": 35,
    "start_time": "2022-06-29T16:27:33.962Z"
   },
   {
    "duration": 48,
    "start_time": "2022-06-29T16:27:33.999Z"
   },
   {
    "duration": 139,
    "start_time": "2022-06-29T16:27:34.049Z"
   },
   {
    "duration": 40,
    "start_time": "2022-06-29T16:27:34.189Z"
   },
   {
    "duration": 14,
    "start_time": "2022-06-29T16:27:34.230Z"
   },
   {
    "duration": 12,
    "start_time": "2022-06-29T16:27:34.245Z"
   },
   {
    "duration": 9,
    "start_time": "2022-06-29T16:27:34.259Z"
   },
   {
    "duration": 315,
    "start_time": "2022-06-29T16:27:34.270Z"
   },
   {
    "duration": 291,
    "start_time": "2022-06-29T16:27:34.587Z"
   },
   {
    "duration": 355,
    "start_time": "2022-06-29T16:27:34.880Z"
   },
   {
    "duration": 19,
    "start_time": "2022-06-29T16:27:35.237Z"
   },
   {
    "duration": 351,
    "start_time": "2022-06-29T16:27:35.260Z"
   },
   {
    "duration": 209,
    "start_time": "2022-06-29T16:27:35.613Z"
   },
   {
    "duration": 257,
    "start_time": "2022-06-29T16:27:35.824Z"
   },
   {
    "duration": 12,
    "start_time": "2022-06-29T16:27:36.083Z"
   },
   {
    "duration": 12,
    "start_time": "2022-06-29T16:27:36.097Z"
   },
   {
    "duration": 18,
    "start_time": "2022-06-29T16:27:36.110Z"
   },
   {
    "duration": 110,
    "start_time": "2022-06-29T16:27:36.130Z"
   },
   {
    "duration": 0,
    "start_time": "2022-06-29T16:27:36.241Z"
   },
   {
    "duration": 0,
    "start_time": "2022-06-29T16:27:36.244Z"
   },
   {
    "duration": 0,
    "start_time": "2022-06-29T16:27:36.245Z"
   },
   {
    "duration": 0,
    "start_time": "2022-06-29T16:27:36.247Z"
   },
   {
    "duration": 9,
    "start_time": "2022-06-29T16:28:30.114Z"
   },
   {
    "duration": 1143,
    "start_time": "2022-06-29T16:28:38.884Z"
   },
   {
    "duration": 398,
    "start_time": "2022-06-29T16:28:40.029Z"
   },
   {
    "duration": 22,
    "start_time": "2022-06-29T16:28:40.429Z"
   },
   {
    "duration": 105,
    "start_time": "2022-06-29T16:28:40.454Z"
   },
   {
    "duration": 66,
    "start_time": "2022-06-29T16:28:40.561Z"
   },
   {
    "duration": 54,
    "start_time": "2022-06-29T16:28:40.632Z"
   },
   {
    "duration": 26,
    "start_time": "2022-06-29T16:28:40.689Z"
   },
   {
    "duration": 104,
    "start_time": "2022-06-29T16:28:40.717Z"
   },
   {
    "duration": 30,
    "start_time": "2022-06-29T16:28:40.823Z"
   },
   {
    "duration": 37,
    "start_time": "2022-06-29T16:28:40.856Z"
   },
   {
    "duration": 49,
    "start_time": "2022-06-29T16:28:40.895Z"
   },
   {
    "duration": 7,
    "start_time": "2022-06-29T16:28:40.946Z"
   },
   {
    "duration": 41,
    "start_time": "2022-06-29T16:28:40.955Z"
   },
   {
    "duration": 27,
    "start_time": "2022-06-29T16:28:40.998Z"
   },
   {
    "duration": 17,
    "start_time": "2022-06-29T16:28:41.027Z"
   },
   {
    "duration": 26,
    "start_time": "2022-06-29T16:28:41.046Z"
   },
   {
    "duration": 46,
    "start_time": "2022-06-29T16:28:41.074Z"
   },
   {
    "duration": 20,
    "start_time": "2022-06-29T16:28:41.122Z"
   },
   {
    "duration": 126,
    "start_time": "2022-06-29T16:28:41.144Z"
   },
   {
    "duration": 28,
    "start_time": "2022-06-29T16:28:41.272Z"
   },
   {
    "duration": 34,
    "start_time": "2022-06-29T16:28:41.302Z"
   },
   {
    "duration": 27,
    "start_time": "2022-06-29T16:28:41.338Z"
   },
   {
    "duration": 15,
    "start_time": "2022-06-29T16:28:41.366Z"
   },
   {
    "duration": 400,
    "start_time": "2022-06-29T16:28:41.383Z"
   },
   {
    "duration": 244,
    "start_time": "2022-06-29T16:28:41.785Z"
   },
   {
    "duration": 246,
    "start_time": "2022-06-29T16:28:42.031Z"
   },
   {
    "duration": 14,
    "start_time": "2022-06-29T16:28:42.279Z"
   },
   {
    "duration": 385,
    "start_time": "2022-06-29T16:28:42.298Z"
   },
   {
    "duration": 186,
    "start_time": "2022-06-29T16:28:42.685Z"
   },
   {
    "duration": 260,
    "start_time": "2022-06-29T16:28:42.873Z"
   },
   {
    "duration": 13,
    "start_time": "2022-06-29T16:28:43.134Z"
   },
   {
    "duration": 7,
    "start_time": "2022-06-29T16:28:43.149Z"
   },
   {
    "duration": 9,
    "start_time": "2022-06-29T16:28:43.157Z"
   },
   {
    "duration": 8,
    "start_time": "2022-06-29T16:28:43.168Z"
   },
   {
    "duration": 8,
    "start_time": "2022-06-29T16:28:43.178Z"
   },
   {
    "duration": 59,
    "start_time": "2022-06-29T16:28:43.187Z"
   },
   {
    "duration": 12,
    "start_time": "2022-06-29T16:28:43.248Z"
   },
   {
    "duration": 12,
    "start_time": "2022-06-29T16:28:43.262Z"
   },
   {
    "duration": 6,
    "start_time": "2022-06-29T16:29:07.527Z"
   },
   {
    "duration": 5,
    "start_time": "2022-06-29T16:29:46.094Z"
   },
   {
    "duration": 1857,
    "start_time": "2022-06-29T16:30:02.383Z"
   },
   {
    "duration": 1282,
    "start_time": "2022-06-29T16:30:11.465Z"
   },
   {
    "duration": 419,
    "start_time": "2022-06-29T16:30:12.749Z"
   },
   {
    "duration": 29,
    "start_time": "2022-06-29T16:30:13.170Z"
   },
   {
    "duration": 99,
    "start_time": "2022-06-29T16:30:13.202Z"
   },
   {
    "duration": 60,
    "start_time": "2022-06-29T16:30:13.304Z"
   },
   {
    "duration": 43,
    "start_time": "2022-06-29T16:30:13.365Z"
   },
   {
    "duration": 30,
    "start_time": "2022-06-29T16:30:13.410Z"
   },
   {
    "duration": 117,
    "start_time": "2022-06-29T16:30:13.443Z"
   },
   {
    "duration": 37,
    "start_time": "2022-06-29T16:30:13.562Z"
   },
   {
    "duration": 56,
    "start_time": "2022-06-29T16:30:13.602Z"
   },
   {
    "duration": 29,
    "start_time": "2022-06-29T16:30:13.660Z"
   },
   {
    "duration": 6,
    "start_time": "2022-06-29T16:30:13.692Z"
   },
   {
    "duration": 37,
    "start_time": "2022-06-29T16:30:13.700Z"
   },
   {
    "duration": 31,
    "start_time": "2022-06-29T16:30:13.739Z"
   },
   {
    "duration": 18,
    "start_time": "2022-06-29T16:30:13.771Z"
   },
   {
    "duration": 37,
    "start_time": "2022-06-29T16:30:13.791Z"
   },
   {
    "duration": 37,
    "start_time": "2022-06-29T16:30:13.831Z"
   },
   {
    "duration": 22,
    "start_time": "2022-06-29T16:30:13.870Z"
   },
   {
    "duration": 166,
    "start_time": "2022-06-29T16:30:13.895Z"
   },
   {
    "duration": 32,
    "start_time": "2022-06-29T16:30:14.063Z"
   },
   {
    "duration": 29,
    "start_time": "2022-06-29T16:30:14.097Z"
   },
   {
    "duration": 15,
    "start_time": "2022-06-29T16:30:14.128Z"
   },
   {
    "duration": 8,
    "start_time": "2022-06-29T16:30:14.144Z"
   },
   {
    "duration": 296,
    "start_time": "2022-06-29T16:30:14.153Z"
   },
   {
    "duration": 279,
    "start_time": "2022-06-29T16:30:14.450Z"
   },
   {
    "duration": 285,
    "start_time": "2022-06-29T16:30:14.731Z"
   },
   {
    "duration": 23,
    "start_time": "2022-06-29T16:30:15.018Z"
   },
   {
    "duration": 348,
    "start_time": "2022-06-29T16:30:15.046Z"
   },
   {
    "duration": 218,
    "start_time": "2022-06-29T16:30:15.397Z"
   },
   {
    "duration": 298,
    "start_time": "2022-06-29T16:30:15.617Z"
   },
   {
    "duration": 24,
    "start_time": "2022-06-29T16:30:15.917Z"
   },
   {
    "duration": 41,
    "start_time": "2022-06-29T16:30:15.943Z"
   },
   {
    "duration": 19,
    "start_time": "2022-06-29T16:30:15.986Z"
   },
   {
    "duration": 24,
    "start_time": "2022-06-29T16:30:16.006Z"
   },
   {
    "duration": 27,
    "start_time": "2022-06-29T16:30:16.032Z"
   },
   {
    "duration": 41,
    "start_time": "2022-06-29T16:30:16.062Z"
   },
   {
    "duration": 16,
    "start_time": "2022-06-29T16:30:16.105Z"
   },
   {
    "duration": 18,
    "start_time": "2022-06-29T16:30:16.122Z"
   },
   {
    "duration": 1095,
    "start_time": "2022-06-29T16:31:34.892Z"
   },
   {
    "duration": 399,
    "start_time": "2022-06-29T16:31:35.990Z"
   },
   {
    "duration": 28,
    "start_time": "2022-06-29T16:31:36.391Z"
   },
   {
    "duration": 75,
    "start_time": "2022-06-29T16:31:36.421Z"
   },
   {
    "duration": 60,
    "start_time": "2022-06-29T16:31:36.497Z"
   },
   {
    "duration": 42,
    "start_time": "2022-06-29T16:31:36.558Z"
   },
   {
    "duration": 32,
    "start_time": "2022-06-29T16:31:36.601Z"
   },
   {
    "duration": 92,
    "start_time": "2022-06-29T16:31:36.635Z"
   },
   {
    "duration": 34,
    "start_time": "2022-06-29T16:31:36.729Z"
   },
   {
    "duration": 62,
    "start_time": "2022-06-29T16:31:36.766Z"
   },
   {
    "duration": 30,
    "start_time": "2022-06-29T16:31:36.830Z"
   },
   {
    "duration": 7,
    "start_time": "2022-06-29T16:31:36.861Z"
   },
   {
    "duration": 15,
    "start_time": "2022-06-29T16:31:36.870Z"
   },
   {
    "duration": 54,
    "start_time": "2022-06-29T16:31:36.887Z"
   },
   {
    "duration": 17,
    "start_time": "2022-06-29T16:31:36.943Z"
   },
   {
    "duration": 8,
    "start_time": "2022-06-29T16:31:36.962Z"
   },
   {
    "duration": 22,
    "start_time": "2022-06-29T16:31:36.972Z"
   },
   {
    "duration": 50,
    "start_time": "2022-06-29T16:31:36.996Z"
   },
   {
    "duration": 139,
    "start_time": "2022-06-29T16:31:37.047Z"
   },
   {
    "duration": 41,
    "start_time": "2022-06-29T16:31:37.188Z"
   },
   {
    "duration": 13,
    "start_time": "2022-06-29T16:31:37.230Z"
   },
   {
    "duration": 11,
    "start_time": "2022-06-29T16:31:37.245Z"
   },
   {
    "duration": 7,
    "start_time": "2022-06-29T16:31:37.258Z"
   },
   {
    "duration": 319,
    "start_time": "2022-06-29T16:31:37.267Z"
   },
   {
    "duration": 282,
    "start_time": "2022-06-29T16:31:37.589Z"
   },
   {
    "duration": 265,
    "start_time": "2022-06-29T16:31:37.873Z"
   },
   {
    "duration": 16,
    "start_time": "2022-06-29T16:31:38.140Z"
   },
   {
    "duration": 350,
    "start_time": "2022-06-29T16:31:38.160Z"
   },
   {
    "duration": 238,
    "start_time": "2022-06-29T16:31:38.512Z"
   },
   {
    "duration": 262,
    "start_time": "2022-06-29T16:31:38.753Z"
   },
   {
    "duration": 24,
    "start_time": "2022-06-29T16:31:39.017Z"
   },
   {
    "duration": 19,
    "start_time": "2022-06-29T16:31:39.043Z"
   },
   {
    "duration": 23,
    "start_time": "2022-06-29T16:31:39.064Z"
   },
   {
    "duration": 17,
    "start_time": "2022-06-29T16:31:39.089Z"
   },
   {
    "duration": 36,
    "start_time": "2022-06-29T16:31:39.109Z"
   },
   {
    "duration": 14,
    "start_time": "2022-06-29T16:31:39.147Z"
   },
   {
    "duration": 18,
    "start_time": "2022-06-29T16:31:39.163Z"
   },
   {
    "duration": 4,
    "start_time": "2022-06-29T16:35:15.337Z"
   },
   {
    "duration": 95,
    "start_time": "2022-06-29T16:37:21.210Z"
   },
   {
    "duration": 89,
    "start_time": "2022-06-29T16:37:30.956Z"
   },
   {
    "duration": 4,
    "start_time": "2022-06-29T16:38:01.244Z"
   },
   {
    "duration": 3,
    "start_time": "2022-06-29T16:39:27.517Z"
   },
   {
    "duration": 4,
    "start_time": "2022-06-29T16:40:56.427Z"
   },
   {
    "duration": 5,
    "start_time": "2022-06-29T16:41:21.185Z"
   },
   {
    "duration": 5,
    "start_time": "2022-06-29T16:42:47.066Z"
   },
   {
    "duration": 5,
    "start_time": "2022-06-29T16:43:23.601Z"
   },
   {
    "duration": 5,
    "start_time": "2022-06-29T16:43:57.159Z"
   },
   {
    "duration": 105,
    "start_time": "2022-06-29T16:46:06.445Z"
   },
   {
    "duration": 5,
    "start_time": "2022-06-29T16:46:13.920Z"
   },
   {
    "duration": 5,
    "start_time": "2022-06-29T16:47:16.287Z"
   },
   {
    "duration": 4,
    "start_time": "2022-06-29T16:47:34.555Z"
   },
   {
    "duration": 3,
    "start_time": "2022-06-29T16:48:45.829Z"
   },
   {
    "duration": 1194,
    "start_time": "2022-06-29T16:49:08.238Z"
   },
   {
    "duration": 516,
    "start_time": "2022-06-29T16:49:09.434Z"
   },
   {
    "duration": 23,
    "start_time": "2022-06-29T16:49:09.952Z"
   },
   {
    "duration": 128,
    "start_time": "2022-06-29T16:49:09.978Z"
   },
   {
    "duration": 92,
    "start_time": "2022-06-29T16:49:10.108Z"
   },
   {
    "duration": 78,
    "start_time": "2022-06-29T16:49:10.203Z"
   },
   {
    "duration": 18,
    "start_time": "2022-06-29T16:49:10.283Z"
   },
   {
    "duration": 129,
    "start_time": "2022-06-29T16:49:10.303Z"
   },
   {
    "duration": 36,
    "start_time": "2022-06-29T16:49:10.434Z"
   },
   {
    "duration": 59,
    "start_time": "2022-06-29T16:49:10.474Z"
   },
   {
    "duration": 30,
    "start_time": "2022-06-29T16:49:10.535Z"
   },
   {
    "duration": 9,
    "start_time": "2022-06-29T16:49:10.567Z"
   },
   {
    "duration": 51,
    "start_time": "2022-06-29T16:49:10.578Z"
   },
   {
    "duration": 38,
    "start_time": "2022-06-29T16:49:10.631Z"
   },
   {
    "duration": 35,
    "start_time": "2022-06-29T16:49:10.671Z"
   },
   {
    "duration": 26,
    "start_time": "2022-06-29T16:49:10.708Z"
   },
   {
    "duration": 45,
    "start_time": "2022-06-29T16:49:10.735Z"
   },
   {
    "duration": 30,
    "start_time": "2022-06-29T16:49:10.782Z"
   },
   {
    "duration": 226,
    "start_time": "2022-06-29T16:49:10.814Z"
   },
   {
    "duration": 44,
    "start_time": "2022-06-29T16:49:11.042Z"
   },
   {
    "duration": 16,
    "start_time": "2022-06-29T16:49:11.088Z"
   },
   {
    "duration": 17,
    "start_time": "2022-06-29T16:49:11.135Z"
   },
   {
    "duration": 11,
    "start_time": "2022-06-29T16:49:11.154Z"
   },
   {
    "duration": 307,
    "start_time": "2022-06-29T16:49:11.167Z"
   },
   {
    "duration": 349,
    "start_time": "2022-06-29T16:49:11.477Z"
   },
   {
    "duration": 258,
    "start_time": "2022-06-29T16:49:11.829Z"
   },
   {
    "duration": 16,
    "start_time": "2022-06-29T16:49:12.089Z"
   },
   {
    "duration": 397,
    "start_time": "2022-06-29T16:49:12.109Z"
   },
   {
    "duration": 255,
    "start_time": "2022-06-29T16:49:12.509Z"
   },
   {
    "duration": 276,
    "start_time": "2022-06-29T16:49:12.766Z"
   },
   {
    "duration": 18,
    "start_time": "2022-06-29T16:49:13.045Z"
   },
   {
    "duration": 11,
    "start_time": "2022-06-29T16:49:13.066Z"
   },
   {
    "duration": 9,
    "start_time": "2022-06-29T16:49:13.080Z"
   },
   {
    "duration": 37,
    "start_time": "2022-06-29T16:49:13.091Z"
   },
   {
    "duration": 4,
    "start_time": "2022-06-29T16:49:13.130Z"
   },
   {
    "duration": 27,
    "start_time": "2022-06-29T16:49:13.136Z"
   },
   {
    "duration": 16,
    "start_time": "2022-06-29T16:49:13.165Z"
   },
   {
    "duration": 44,
    "start_time": "2022-06-29T16:49:13.183Z"
   },
   {
    "duration": 5,
    "start_time": "2022-06-29T16:50:24.118Z"
   },
   {
    "duration": 1285,
    "start_time": "2022-06-29T16:50:51.432Z"
   },
   {
    "duration": 411,
    "start_time": "2022-06-29T16:50:52.720Z"
   },
   {
    "duration": 24,
    "start_time": "2022-06-29T16:50:53.133Z"
   },
   {
    "duration": 113,
    "start_time": "2022-06-29T16:50:53.160Z"
   },
   {
    "duration": 90,
    "start_time": "2022-06-29T16:50:53.275Z"
   },
   {
    "duration": 61,
    "start_time": "2022-06-29T16:50:53.367Z"
   },
   {
    "duration": 19,
    "start_time": "2022-06-29T16:50:53.431Z"
   },
   {
    "duration": 102,
    "start_time": "2022-06-29T16:50:53.452Z"
   },
   {
    "duration": 45,
    "start_time": "2022-06-29T16:50:53.556Z"
   },
   {
    "duration": 56,
    "start_time": "2022-06-29T16:50:53.604Z"
   },
   {
    "duration": 47,
    "start_time": "2022-06-29T16:50:53.663Z"
   },
   {
    "duration": 20,
    "start_time": "2022-06-29T16:50:53.712Z"
   },
   {
    "duration": 18,
    "start_time": "2022-06-29T16:50:53.734Z"
   },
   {
    "duration": 38,
    "start_time": "2022-06-29T16:50:53.754Z"
   },
   {
    "duration": 48,
    "start_time": "2022-06-29T16:50:53.795Z"
   },
   {
    "duration": 12,
    "start_time": "2022-06-29T16:50:53.845Z"
   },
   {
    "duration": 33,
    "start_time": "2022-06-29T16:50:53.859Z"
   },
   {
    "duration": 52,
    "start_time": "2022-06-29T16:50:53.894Z"
   },
   {
    "duration": 210,
    "start_time": "2022-06-29T16:50:53.949Z"
   },
   {
    "duration": 44,
    "start_time": "2022-06-29T16:50:54.162Z"
   },
   {
    "duration": 35,
    "start_time": "2022-06-29T16:50:54.208Z"
   },
   {
    "duration": 18,
    "start_time": "2022-06-29T16:50:54.245Z"
   },
   {
    "duration": 11,
    "start_time": "2022-06-29T16:50:54.266Z"
   },
   {
    "duration": 439,
    "start_time": "2022-06-29T16:50:54.281Z"
   },
   {
    "duration": 268,
    "start_time": "2022-06-29T16:50:54.726Z"
   },
   {
    "duration": 410,
    "start_time": "2022-06-29T16:50:54.996Z"
   },
   {
    "duration": 24,
    "start_time": "2022-06-29T16:50:55.408Z"
   },
   {
    "duration": 525,
    "start_time": "2022-06-29T16:50:55.437Z"
   },
   {
    "duration": 308,
    "start_time": "2022-06-29T16:50:55.967Z"
   },
   {
    "duration": 377,
    "start_time": "2022-06-29T16:50:56.277Z"
   },
   {
    "duration": 15,
    "start_time": "2022-06-29T16:50:56.656Z"
   },
   {
    "duration": 21,
    "start_time": "2022-06-29T16:50:56.673Z"
   },
   {
    "duration": 9,
    "start_time": "2022-06-29T16:50:56.697Z"
   },
   {
    "duration": 23,
    "start_time": "2022-06-29T16:50:56.708Z"
   },
   {
    "duration": 19,
    "start_time": "2022-06-29T16:50:56.733Z"
   },
   {
    "duration": 31,
    "start_time": "2022-06-29T16:50:56.754Z"
   },
   {
    "duration": 17,
    "start_time": "2022-06-29T16:50:56.788Z"
   },
   {
    "duration": 20,
    "start_time": "2022-06-29T16:50:56.807Z"
   },
   {
    "duration": 9,
    "start_time": "2022-06-29T16:51:44.638Z"
   },
   {
    "duration": 3,
    "start_time": "2022-06-29T16:52:11.509Z"
   },
   {
    "duration": 3,
    "start_time": "2022-06-29T16:52:41.056Z"
   },
   {
    "duration": 106,
    "start_time": "2022-06-30T12:20:30.627Z"
   },
   {
    "duration": 79,
    "start_time": "2022-06-30T12:20:31.289Z"
   },
   {
    "duration": 1293,
    "start_time": "2022-06-30T13:19:15.871Z"
   },
   {
    "duration": 1555,
    "start_time": "2022-06-30T13:19:17.166Z"
   },
   {
    "duration": 20,
    "start_time": "2022-06-30T13:19:18.722Z"
   },
   {
    "duration": 83,
    "start_time": "2022-06-30T13:19:18.744Z"
   },
   {
    "duration": 71,
    "start_time": "2022-06-30T13:19:18.829Z"
   },
   {
    "duration": 65,
    "start_time": "2022-06-30T13:19:18.902Z"
   },
   {
    "duration": 12,
    "start_time": "2022-06-30T13:19:18.969Z"
   },
   {
    "duration": 103,
    "start_time": "2022-06-30T13:19:18.983Z"
   },
   {
    "duration": 30,
    "start_time": "2022-06-30T13:19:19.087Z"
   },
   {
    "duration": 62,
    "start_time": "2022-06-30T13:19:19.119Z"
   },
   {
    "duration": 31,
    "start_time": "2022-06-30T13:19:19.183Z"
   },
   {
    "duration": 7,
    "start_time": "2022-06-30T13:19:19.216Z"
   },
   {
    "duration": 35,
    "start_time": "2022-06-30T13:19:19.224Z"
   },
   {
    "duration": 28,
    "start_time": "2022-06-30T13:19:19.261Z"
   },
   {
    "duration": 14,
    "start_time": "2022-06-30T13:19:19.290Z"
   },
   {
    "duration": 8,
    "start_time": "2022-06-30T13:19:19.306Z"
   },
   {
    "duration": 55,
    "start_time": "2022-06-30T13:19:19.315Z"
   },
   {
    "duration": 24,
    "start_time": "2022-06-30T13:19:19.372Z"
   },
   {
    "duration": 144,
    "start_time": "2022-06-30T13:19:19.398Z"
   },
   {
    "duration": 38,
    "start_time": "2022-06-30T13:19:19.544Z"
   },
   {
    "duration": 14,
    "start_time": "2022-06-30T13:19:19.583Z"
   },
   {
    "duration": 11,
    "start_time": "2022-06-30T13:19:19.599Z"
   },
   {
    "duration": 8,
    "start_time": "2022-06-30T13:19:19.612Z"
   },
   {
    "duration": 291,
    "start_time": "2022-06-30T13:19:19.622Z"
   },
   {
    "duration": 245,
    "start_time": "2022-06-30T13:19:19.914Z"
   },
   {
    "duration": 253,
    "start_time": "2022-06-30T13:19:20.161Z"
   },
   {
    "duration": 14,
    "start_time": "2022-06-30T13:19:20.416Z"
   },
   {
    "duration": 347,
    "start_time": "2022-06-30T13:19:20.434Z"
   },
   {
    "duration": 180,
    "start_time": "2022-06-30T13:19:20.782Z"
   },
   {
    "duration": 289,
    "start_time": "2022-06-30T13:19:20.965Z"
   },
   {
    "duration": 18,
    "start_time": "2022-06-30T13:19:21.257Z"
   },
   {
    "duration": 9,
    "start_time": "2022-06-30T13:19:21.277Z"
   },
   {
    "duration": 5,
    "start_time": "2022-06-30T13:19:21.288Z"
   },
   {
    "duration": 9,
    "start_time": "2022-06-30T13:19:21.295Z"
   },
   {
    "duration": 5,
    "start_time": "2022-06-30T13:19:21.305Z"
   },
   {
    "duration": 48,
    "start_time": "2022-06-30T13:19:21.311Z"
   },
   {
    "duration": 15,
    "start_time": "2022-06-30T13:19:21.361Z"
   },
   {
    "duration": 7,
    "start_time": "2022-06-30T13:19:21.378Z"
   },
   {
    "duration": 1099,
    "start_time": "2022-06-30T13:23:59.670Z"
   },
   {
    "duration": 448,
    "start_time": "2022-06-30T13:24:00.771Z"
   },
   {
    "duration": 21,
    "start_time": "2022-06-30T13:24:01.221Z"
   },
   {
    "duration": 78,
    "start_time": "2022-06-30T13:24:01.243Z"
   },
   {
    "duration": 56,
    "start_time": "2022-06-30T13:24:01.322Z"
   },
   {
    "duration": 37,
    "start_time": "2022-06-30T13:24:01.380Z"
   },
   {
    "duration": 10,
    "start_time": "2022-06-30T13:24:01.419Z"
   },
   {
    "duration": 88,
    "start_time": "2022-06-30T13:24:01.431Z"
   },
   {
    "duration": 39,
    "start_time": "2022-06-30T13:24:01.520Z"
   },
   {
    "duration": 36,
    "start_time": "2022-06-30T13:24:01.561Z"
   },
   {
    "duration": 30,
    "start_time": "2022-06-30T13:24:01.599Z"
   },
   {
    "duration": 24,
    "start_time": "2022-06-30T13:24:01.635Z"
   },
   {
    "duration": 20,
    "start_time": "2022-06-30T13:24:01.661Z"
   },
   {
    "duration": 25,
    "start_time": "2022-06-30T13:24:01.683Z"
   },
   {
    "duration": 16,
    "start_time": "2022-06-30T13:24:01.709Z"
   },
   {
    "duration": 40,
    "start_time": "2022-06-30T13:24:01.726Z"
   },
   {
    "duration": 35,
    "start_time": "2022-06-30T13:24:01.769Z"
   },
   {
    "duration": 21,
    "start_time": "2022-06-30T13:24:01.806Z"
   },
   {
    "duration": 132,
    "start_time": "2022-06-30T13:24:01.828Z"
   },
   {
    "duration": 32,
    "start_time": "2022-06-30T13:24:01.962Z"
   },
   {
    "duration": 12,
    "start_time": "2022-06-30T13:24:01.995Z"
   },
   {
    "duration": 17,
    "start_time": "2022-06-30T13:24:02.008Z"
   },
   {
    "duration": 32,
    "start_time": "2022-06-30T13:24:02.026Z"
   },
   {
    "duration": 254,
    "start_time": "2022-06-30T13:24:02.059Z"
   },
   {
    "duration": 249,
    "start_time": "2022-06-30T13:24:02.314Z"
   },
   {
    "duration": 211,
    "start_time": "2022-06-30T13:24:02.564Z"
   },
   {
    "duration": 15,
    "start_time": "2022-06-30T13:24:02.777Z"
   },
   {
    "duration": 326,
    "start_time": "2022-06-30T13:24:02.795Z"
   },
   {
    "duration": 173,
    "start_time": "2022-06-30T13:24:03.123Z"
   },
   {
    "duration": 250,
    "start_time": "2022-06-30T13:24:03.297Z"
   },
   {
    "duration": 12,
    "start_time": "2022-06-30T13:24:03.552Z"
   },
   {
    "duration": 12,
    "start_time": "2022-06-30T13:24:03.566Z"
   },
   {
    "duration": 12,
    "start_time": "2022-06-30T13:24:03.580Z"
   },
   {
    "duration": 6,
    "start_time": "2022-06-30T13:24:03.594Z"
   },
   {
    "duration": 5,
    "start_time": "2022-06-30T13:24:03.602Z"
   },
   {
    "duration": 23,
    "start_time": "2022-06-30T13:24:03.609Z"
   },
   {
    "duration": 10,
    "start_time": "2022-06-30T13:24:03.652Z"
   },
   {
    "duration": 10,
    "start_time": "2022-06-30T13:24:03.664Z"
   },
   {
    "duration": 1107,
    "start_time": "2022-06-30T13:25:25.352Z"
   },
   {
    "duration": 428,
    "start_time": "2022-06-30T13:25:26.461Z"
   },
   {
    "duration": 20,
    "start_time": "2022-06-30T13:25:26.891Z"
   },
   {
    "duration": 78,
    "start_time": "2022-06-30T13:25:26.913Z"
   },
   {
    "duration": 60,
    "start_time": "2022-06-30T13:25:26.993Z"
   },
   {
    "duration": 39,
    "start_time": "2022-06-30T13:25:27.055Z"
   },
   {
    "duration": 13,
    "start_time": "2022-06-30T13:25:27.096Z"
   },
   {
    "duration": 101,
    "start_time": "2022-06-30T13:25:27.111Z"
   },
   {
    "duration": 45,
    "start_time": "2022-06-30T13:25:27.214Z"
   },
   {
    "duration": 36,
    "start_time": "2022-06-30T13:25:27.262Z"
   },
   {
    "duration": 29,
    "start_time": "2022-06-30T13:25:27.300Z"
   },
   {
    "duration": 27,
    "start_time": "2022-06-30T13:25:27.331Z"
   },
   {
    "duration": 14,
    "start_time": "2022-06-30T13:25:27.360Z"
   },
   {
    "duration": 22,
    "start_time": "2022-06-30T13:25:27.376Z"
   },
   {
    "duration": 14,
    "start_time": "2022-06-30T13:25:27.400Z"
   },
   {
    "duration": 41,
    "start_time": "2022-06-30T13:25:27.416Z"
   },
   {
    "duration": 20,
    "start_time": "2022-06-30T13:25:27.459Z"
   },
   {
    "duration": 22,
    "start_time": "2022-06-30T13:25:27.480Z"
   },
   {
    "duration": 171,
    "start_time": "2022-06-30T13:25:27.504Z"
   },
   {
    "duration": 29,
    "start_time": "2022-06-30T13:25:27.677Z"
   },
   {
    "duration": 12,
    "start_time": "2022-06-30T13:25:27.708Z"
   },
   {
    "duration": 38,
    "start_time": "2022-06-30T13:25:27.722Z"
   },
   {
    "duration": 7,
    "start_time": "2022-06-30T13:25:27.762Z"
   },
   {
    "duration": 248,
    "start_time": "2022-06-30T13:25:27.771Z"
   },
   {
    "duration": 321,
    "start_time": "2022-06-30T13:25:28.020Z"
   },
   {
    "duration": 291,
    "start_time": "2022-06-30T13:25:28.343Z"
   },
   {
    "duration": 19,
    "start_time": "2022-06-30T13:25:28.635Z"
   },
   {
    "duration": 347,
    "start_time": "2022-06-30T13:25:28.657Z"
   },
   {
    "duration": 178,
    "start_time": "2022-06-30T13:25:29.006Z"
   },
   {
    "duration": 258,
    "start_time": "2022-06-30T13:25:29.185Z"
   },
   {
    "duration": 17,
    "start_time": "2022-06-30T13:25:29.445Z"
   },
   {
    "duration": 9,
    "start_time": "2022-06-30T13:25:29.464Z"
   },
   {
    "duration": 9,
    "start_time": "2022-06-30T13:25:29.474Z"
   },
   {
    "duration": 7,
    "start_time": "2022-06-30T13:25:29.484Z"
   },
   {
    "duration": 9,
    "start_time": "2022-06-30T13:25:29.492Z"
   },
   {
    "duration": 59,
    "start_time": "2022-06-30T13:25:29.502Z"
   },
   {
    "duration": 11,
    "start_time": "2022-06-30T13:25:29.563Z"
   },
   {
    "duration": 9,
    "start_time": "2022-06-30T13:25:29.576Z"
   },
   {
    "duration": 1467,
    "start_time": "2022-06-30T13:25:48.318Z"
   },
   {
    "duration": 0,
    "start_time": "2022-06-30T13:25:49.787Z"
   },
   {
    "duration": 1242,
    "start_time": "2022-06-30T13:27:05.164Z"
   },
   {
    "duration": 495,
    "start_time": "2022-06-30T13:27:06.408Z"
   },
   {
    "duration": 25,
    "start_time": "2022-06-30T13:27:06.905Z"
   },
   {
    "duration": 85,
    "start_time": "2022-06-30T13:27:06.933Z"
   },
   {
    "duration": 66,
    "start_time": "2022-06-30T13:27:07.020Z"
   },
   {
    "duration": 47,
    "start_time": "2022-06-30T13:27:07.088Z"
   },
   {
    "duration": 15,
    "start_time": "2022-06-30T13:27:07.152Z"
   },
   {
    "duration": 105,
    "start_time": "2022-06-30T13:27:07.169Z"
   },
   {
    "duration": 43,
    "start_time": "2022-06-30T13:27:07.276Z"
   },
   {
    "duration": 72,
    "start_time": "2022-06-30T13:27:07.322Z"
   },
   {
    "duration": 35,
    "start_time": "2022-06-30T13:27:07.396Z"
   },
   {
    "duration": 22,
    "start_time": "2022-06-30T13:27:07.433Z"
   },
   {
    "duration": 18,
    "start_time": "2022-06-30T13:27:07.457Z"
   },
   {
    "duration": 42,
    "start_time": "2022-06-30T13:27:07.478Z"
   },
   {
    "duration": 44,
    "start_time": "2022-06-30T13:27:07.523Z"
   },
   {
    "duration": 13,
    "start_time": "2022-06-30T13:27:07.570Z"
   },
   {
    "duration": 35,
    "start_time": "2022-06-30T13:27:07.585Z"
   },
   {
    "duration": 48,
    "start_time": "2022-06-30T13:27:07.623Z"
   },
   {
    "duration": 151,
    "start_time": "2022-06-30T13:27:07.673Z"
   },
   {
    "duration": 42,
    "start_time": "2022-06-30T13:27:07.826Z"
   },
   {
    "duration": 15,
    "start_time": "2022-06-30T13:27:07.870Z"
   },
   {
    "duration": 14,
    "start_time": "2022-06-30T13:27:07.887Z"
   },
   {
    "duration": 8,
    "start_time": "2022-06-30T13:27:07.903Z"
   },
   {
    "duration": 319,
    "start_time": "2022-06-30T13:27:07.912Z"
   },
   {
    "duration": 343,
    "start_time": "2022-06-30T13:27:08.234Z"
   },
   {
    "duration": 258,
    "start_time": "2022-06-30T13:27:08.580Z"
   },
   {
    "duration": 31,
    "start_time": "2022-06-30T13:27:08.841Z"
   },
   {
    "duration": 391,
    "start_time": "2022-06-30T13:27:08.876Z"
   },
   {
    "duration": 205,
    "start_time": "2022-06-30T13:27:09.269Z"
   },
   {
    "duration": 293,
    "start_time": "2022-06-30T13:27:09.476Z"
   },
   {
    "duration": 14,
    "start_time": "2022-06-30T13:27:09.771Z"
   },
   {
    "duration": 12,
    "start_time": "2022-06-30T13:27:09.787Z"
   },
   {
    "duration": 9,
    "start_time": "2022-06-30T13:27:09.801Z"
   },
   {
    "duration": 41,
    "start_time": "2022-06-30T13:27:09.812Z"
   },
   {
    "duration": 5,
    "start_time": "2022-06-30T13:27:09.855Z"
   },
   {
    "duration": 28,
    "start_time": "2022-06-30T13:27:09.862Z"
   },
   {
    "duration": 14,
    "start_time": "2022-06-30T13:27:09.892Z"
   },
   {
    "duration": 14,
    "start_time": "2022-06-30T13:27:09.908Z"
   },
   {
    "duration": 1137,
    "start_time": "2022-06-30T13:27:41.755Z"
   },
   {
    "duration": 471,
    "start_time": "2022-06-30T13:27:42.894Z"
   },
   {
    "duration": 22,
    "start_time": "2022-06-30T13:27:43.370Z"
   },
   {
    "duration": 118,
    "start_time": "2022-06-30T13:27:43.394Z"
   },
   {
    "duration": 62,
    "start_time": "2022-06-30T13:27:43.514Z"
   },
   {
    "duration": 43,
    "start_time": "2022-06-30T13:27:43.577Z"
   },
   {
    "duration": 30,
    "start_time": "2022-06-30T13:27:43.624Z"
   },
   {
    "duration": 89,
    "start_time": "2022-06-30T13:27:43.656Z"
   },
   {
    "duration": 35,
    "start_time": "2022-06-30T13:27:43.754Z"
   },
   {
    "duration": 41,
    "start_time": "2022-06-30T13:27:43.791Z"
   },
   {
    "duration": 47,
    "start_time": "2022-06-30T13:27:43.853Z"
   },
   {
    "duration": 8,
    "start_time": "2022-06-30T13:27:43.902Z"
   },
   {
    "duration": 43,
    "start_time": "2022-06-30T13:27:43.912Z"
   },
   {
    "duration": 38,
    "start_time": "2022-06-30T13:27:43.957Z"
   },
   {
    "duration": 17,
    "start_time": "2022-06-30T13:27:43.997Z"
   },
   {
    "duration": 11,
    "start_time": "2022-06-30T13:27:44.016Z"
   },
   {
    "duration": 22,
    "start_time": "2022-06-30T13:27:44.053Z"
   },
   {
    "duration": 22,
    "start_time": "2022-06-30T13:27:44.076Z"
   },
   {
    "duration": 154,
    "start_time": "2022-06-30T13:27:44.100Z"
   },
   {
    "duration": 31,
    "start_time": "2022-06-30T13:27:44.256Z"
   },
   {
    "duration": 14,
    "start_time": "2022-06-30T13:27:44.289Z"
   },
   {
    "duration": 18,
    "start_time": "2022-06-30T13:27:44.305Z"
   },
   {
    "duration": 11,
    "start_time": "2022-06-30T13:27:44.353Z"
   },
   {
    "duration": 302,
    "start_time": "2022-06-30T13:27:44.366Z"
   },
   {
    "duration": 305,
    "start_time": "2022-06-30T13:27:44.670Z"
   },
   {
    "duration": 262,
    "start_time": "2022-06-30T13:27:44.977Z"
   },
   {
    "duration": 32,
    "start_time": "2022-06-30T13:27:45.243Z"
   },
   {
    "duration": 340,
    "start_time": "2022-06-30T13:27:45.277Z"
   },
   {
    "duration": 197,
    "start_time": "2022-06-30T13:27:45.618Z"
   },
   {
    "duration": 268,
    "start_time": "2022-06-30T13:27:45.817Z"
   },
   {
    "duration": 12,
    "start_time": "2022-06-30T13:27:46.087Z"
   },
   {
    "duration": 10,
    "start_time": "2022-06-30T13:27:46.101Z"
   },
   {
    "duration": 7,
    "start_time": "2022-06-30T13:27:46.112Z"
   },
   {
    "duration": 33,
    "start_time": "2022-06-30T13:27:46.121Z"
   },
   {
    "duration": 3,
    "start_time": "2022-06-30T13:27:46.156Z"
   },
   {
    "duration": 29,
    "start_time": "2022-06-30T13:27:46.161Z"
   },
   {
    "duration": 13,
    "start_time": "2022-06-30T13:27:46.192Z"
   },
   {
    "duration": 11,
    "start_time": "2022-06-30T13:27:46.206Z"
   },
   {
    "duration": 1120,
    "start_time": "2022-06-30T14:41:46.137Z"
   },
   {
    "duration": 674,
    "start_time": "2022-06-30T14:41:47.259Z"
   },
   {
    "duration": 20,
    "start_time": "2022-06-30T14:41:47.935Z"
   },
   {
    "duration": 71,
    "start_time": "2022-06-30T14:41:47.956Z"
   },
   {
    "duration": 58,
    "start_time": "2022-06-30T14:41:48.030Z"
   },
   {
    "duration": 43,
    "start_time": "2022-06-30T14:41:48.090Z"
   },
   {
    "duration": 13,
    "start_time": "2022-06-30T14:41:48.152Z"
   },
   {
    "duration": 89,
    "start_time": "2022-06-30T14:41:48.167Z"
   },
   {
    "duration": 34,
    "start_time": "2022-06-30T14:41:48.258Z"
   },
   {
    "duration": 37,
    "start_time": "2022-06-30T14:41:48.294Z"
   },
   {
    "duration": 27,
    "start_time": "2022-06-30T14:41:48.351Z"
   },
   {
    "duration": 6,
    "start_time": "2022-06-30T14:41:48.379Z"
   },
   {
    "duration": 14,
    "start_time": "2022-06-30T14:41:48.386Z"
   },
   {
    "duration": 49,
    "start_time": "2022-06-30T14:41:48.403Z"
   },
   {
    "duration": 15,
    "start_time": "2022-06-30T14:41:48.454Z"
   },
   {
    "duration": 8,
    "start_time": "2022-06-30T14:41:48.471Z"
   },
   {
    "duration": 25,
    "start_time": "2022-06-30T14:41:48.480Z"
   },
   {
    "duration": 20,
    "start_time": "2022-06-30T14:41:48.506Z"
   },
   {
    "duration": 147,
    "start_time": "2022-06-30T14:41:48.528Z"
   },
   {
    "duration": 27,
    "start_time": "2022-06-30T14:41:48.677Z"
   },
   {
    "duration": 12,
    "start_time": "2022-06-30T14:41:48.705Z"
   },
   {
    "duration": 36,
    "start_time": "2022-06-30T14:41:48.719Z"
   },
   {
    "duration": 7,
    "start_time": "2022-06-30T14:41:48.757Z"
   },
   {
    "duration": 292,
    "start_time": "2022-06-30T14:41:48.765Z"
   },
   {
    "duration": 318,
    "start_time": "2022-06-30T14:41:49.059Z"
   },
   {
    "duration": 290,
    "start_time": "2022-06-30T14:41:49.378Z"
   },
   {
    "duration": 14,
    "start_time": "2022-06-30T14:41:49.670Z"
   },
   {
    "duration": 329,
    "start_time": "2022-06-30T14:41:49.685Z"
   },
   {
    "duration": 173,
    "start_time": "2022-06-30T14:41:50.016Z"
   },
   {
    "duration": 246,
    "start_time": "2022-06-30T14:41:50.191Z"
   },
   {
    "duration": 16,
    "start_time": "2022-06-30T14:41:50.439Z"
   },
   {
    "duration": 13,
    "start_time": "2022-06-30T14:41:50.457Z"
   },
   {
    "duration": 7,
    "start_time": "2022-06-30T14:41:50.472Z"
   },
   {
    "duration": 9,
    "start_time": "2022-06-30T14:41:50.481Z"
   },
   {
    "duration": 9,
    "start_time": "2022-06-30T14:41:50.492Z"
   },
   {
    "duration": 26,
    "start_time": "2022-06-30T14:41:50.502Z"
   },
   {
    "duration": 23,
    "start_time": "2022-06-30T14:41:50.529Z"
   },
   {
    "duration": 7,
    "start_time": "2022-06-30T14:41:50.554Z"
   },
   {
    "duration": 168,
    "start_time": "2022-06-30T14:43:24.099Z"
   },
   {
    "duration": 7,
    "start_time": "2022-06-30T14:45:33.051Z"
   },
   {
    "duration": 129,
    "start_time": "2022-06-30T14:45:36.899Z"
   },
   {
    "duration": 6,
    "start_time": "2022-06-30T14:46:05.499Z"
   },
   {
    "duration": 132,
    "start_time": "2022-06-30T14:46:09.513Z"
   },
   {
    "duration": 3,
    "start_time": "2022-06-30T14:47:16.105Z"
   },
   {
    "duration": 376,
    "start_time": "2022-06-30T14:47:16.110Z"
   },
   {
    "duration": 16,
    "start_time": "2022-06-30T14:47:16.488Z"
   },
   {
    "duration": 64,
    "start_time": "2022-06-30T14:47:16.506Z"
   },
   {
    "duration": 45,
    "start_time": "2022-06-30T14:47:16.572Z"
   },
   {
    "duration": 54,
    "start_time": "2022-06-30T14:47:16.619Z"
   },
   {
    "duration": 13,
    "start_time": "2022-06-30T14:47:16.674Z"
   },
   {
    "duration": 72,
    "start_time": "2022-06-30T14:47:16.688Z"
   },
   {
    "duration": 28,
    "start_time": "2022-06-30T14:47:16.762Z"
   },
   {
    "duration": 35,
    "start_time": "2022-06-30T14:47:16.792Z"
   },
   {
    "duration": 42,
    "start_time": "2022-06-30T14:47:16.830Z"
   },
   {
    "duration": 6,
    "start_time": "2022-06-30T14:47:16.873Z"
   },
   {
    "duration": 15,
    "start_time": "2022-06-30T14:47:16.880Z"
   },
   {
    "duration": 23,
    "start_time": "2022-06-30T14:47:16.897Z"
   },
   {
    "duration": 43,
    "start_time": "2022-06-30T14:47:16.922Z"
   },
   {
    "duration": 8,
    "start_time": "2022-06-30T14:47:16.967Z"
   },
   {
    "duration": 24,
    "start_time": "2022-06-30T14:47:16.976Z"
   },
   {
    "duration": 20,
    "start_time": "2022-06-30T14:47:17.001Z"
   },
   {
    "duration": 147,
    "start_time": "2022-06-30T14:47:17.023Z"
   },
   {
    "duration": 27,
    "start_time": "2022-06-30T14:47:17.172Z"
   },
   {
    "duration": 11,
    "start_time": "2022-06-30T14:47:17.201Z"
   },
   {
    "duration": 16,
    "start_time": "2022-06-30T14:47:17.214Z"
   },
   {
    "duration": 8,
    "start_time": "2022-06-30T14:47:17.252Z"
   },
   {
    "duration": 306,
    "start_time": "2022-06-30T14:47:17.262Z"
   },
   {
    "duration": 228,
    "start_time": "2022-06-30T14:47:17.570Z"
   },
   {
    "duration": 221,
    "start_time": "2022-06-30T14:47:17.799Z"
   },
   {
    "duration": 14,
    "start_time": "2022-06-30T14:47:18.021Z"
   },
   {
    "duration": 253,
    "start_time": "2022-06-30T14:47:18.037Z"
   },
   {
    "duration": 179,
    "start_time": "2022-06-30T14:47:18.294Z"
   },
   {
    "duration": 256,
    "start_time": "2022-06-30T14:47:18.475Z"
   },
   {
    "duration": 11,
    "start_time": "2022-06-30T14:47:18.733Z"
   },
   {
    "duration": 7,
    "start_time": "2022-06-30T14:47:18.751Z"
   },
   {
    "duration": 5,
    "start_time": "2022-06-30T14:47:18.760Z"
   },
   {
    "duration": 9,
    "start_time": "2022-06-30T14:47:18.766Z"
   },
   {
    "duration": 11,
    "start_time": "2022-06-30T14:47:18.777Z"
   },
   {
    "duration": 23,
    "start_time": "2022-06-30T14:47:18.789Z"
   },
   {
    "duration": 10,
    "start_time": "2022-06-30T14:47:18.814Z"
   },
   {
    "duration": 32,
    "start_time": "2022-06-30T14:47:18.826Z"
   },
   {
    "duration": 4,
    "start_time": "2022-06-30T14:48:07.187Z"
   },
   {
    "duration": 370,
    "start_time": "2022-06-30T14:48:07.192Z"
   },
   {
    "duration": 15,
    "start_time": "2022-06-30T14:48:07.564Z"
   },
   {
    "duration": 64,
    "start_time": "2022-06-30T14:48:07.581Z"
   },
   {
    "duration": 47,
    "start_time": "2022-06-30T14:48:07.647Z"
   },
   {
    "duration": 57,
    "start_time": "2022-06-30T14:48:07.695Z"
   },
   {
    "duration": 12,
    "start_time": "2022-06-30T14:48:07.754Z"
   },
   {
    "duration": 67,
    "start_time": "2022-06-30T14:48:07.768Z"
   },
   {
    "duration": 38,
    "start_time": "2022-06-30T14:48:07.837Z"
   },
   {
    "duration": 36,
    "start_time": "2022-06-30T14:48:07.877Z"
   },
   {
    "duration": 130,
    "start_time": "2022-06-30T14:48:07.914Z"
   },
   {
    "duration": 10,
    "start_time": "2022-06-30T14:48:08.046Z"
   },
   {
    "duration": 16,
    "start_time": "2022-06-30T14:48:08.058Z"
   },
   {
    "duration": 24,
    "start_time": "2022-06-30T14:48:08.076Z"
   },
   {
    "duration": 14,
    "start_time": "2022-06-30T14:48:08.102Z"
   },
   {
    "duration": 35,
    "start_time": "2022-06-30T14:48:08.118Z"
   },
   {
    "duration": 26,
    "start_time": "2022-06-30T14:48:08.155Z"
   },
   {
    "duration": 20,
    "start_time": "2022-06-30T14:48:08.182Z"
   },
   {
    "duration": 142,
    "start_time": "2022-06-30T14:48:08.204Z"
   },
   {
    "duration": 29,
    "start_time": "2022-06-30T14:48:08.348Z"
   },
   {
    "duration": 11,
    "start_time": "2022-06-30T14:48:08.379Z"
   },
   {
    "duration": 11,
    "start_time": "2022-06-30T14:48:08.391Z"
   },
   {
    "duration": 7,
    "start_time": "2022-06-30T14:48:08.403Z"
   },
   {
    "duration": 258,
    "start_time": "2022-06-30T14:48:08.412Z"
   },
   {
    "duration": 236,
    "start_time": "2022-06-30T14:48:08.671Z"
   },
   {
    "duration": 229,
    "start_time": "2022-06-30T14:48:08.909Z"
   },
   {
    "duration": 19,
    "start_time": "2022-06-30T14:48:09.140Z"
   },
   {
    "duration": 249,
    "start_time": "2022-06-30T14:48:09.161Z"
   },
   {
    "duration": 171,
    "start_time": "2022-06-30T14:48:09.411Z"
   },
   {
    "duration": 328,
    "start_time": "2022-06-30T14:48:09.584Z"
   },
   {
    "duration": 11,
    "start_time": "2022-06-30T14:48:09.913Z"
   },
   {
    "duration": 14,
    "start_time": "2022-06-30T14:48:09.926Z"
   },
   {
    "duration": 14,
    "start_time": "2022-06-30T14:48:09.942Z"
   },
   {
    "duration": 8,
    "start_time": "2022-06-30T14:48:09.958Z"
   },
   {
    "duration": 7,
    "start_time": "2022-06-30T14:48:09.968Z"
   },
   {
    "duration": 27,
    "start_time": "2022-06-30T14:48:09.976Z"
   },
   {
    "duration": 12,
    "start_time": "2022-06-30T14:48:10.004Z"
   },
   {
    "duration": 23,
    "start_time": "2022-06-30T14:48:10.017Z"
   }
  ],
  "kernelspec": {
   "display_name": "Python 3 (ipykernel)",
   "language": "python",
   "name": "python3"
  },
  "language_info": {
   "codemirror_mode": {
    "name": "ipython",
    "version": 3
   },
   "file_extension": ".py",
   "mimetype": "text/x-python",
   "name": "python",
   "nbconvert_exporter": "python",
   "pygments_lexer": "ipython3",
   "version": "3.9.12"
  },
  "toc": {
   "base_numbering": 1,
   "nav_menu": {},
   "number_sections": true,
   "sideBar": true,
   "skip_h1_title": true,
   "title_cell": "Table of Contents",
   "title_sidebar": "Contents",
   "toc_cell": false,
   "toc_position": {},
   "toc_section_display": true,
   "toc_window_display": false
  }
 },
 "nbformat": 4,
 "nbformat_minor": 2
}
