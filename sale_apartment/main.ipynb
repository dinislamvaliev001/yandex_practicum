{
 "cells": [
  {
   "cell_type": "markdown",
   "metadata": {
    "toc": true
   },
   "source": [
    "<h1>Содержание<span class=\"tocSkip\"></span></h1>\n",
    "<div class=\"toc\"><ul class=\"toc-item\"><li><span><a href=\"#Изучение-данных-из-файла\" data-toc-modified-id=\"Изучение-данных-из-файла-1\"><span class=\"toc-item-num\">1&nbsp;&nbsp;</span>Изучение данных из файла</a></span><ul class=\"toc-item\"><li><span><a href=\"#Вывод\" data-toc-modified-id=\"Вывод-1.1\"><span class=\"toc-item-num\">1.1&nbsp;&nbsp;</span>Вывод</a></span></li></ul></li><li><span><a href=\"#Предобработка-данных\" data-toc-modified-id=\"Предобработка-данных-2\"><span class=\"toc-item-num\">2&nbsp;&nbsp;</span>Предобработка данных</a></span></li><li><span><a href=\"#Расчёты-и-добавление-результатов-в-таблицу\" data-toc-modified-id=\"Расчёты-и-добавление-результатов-в-таблицу-3\"><span class=\"toc-item-num\">3&nbsp;&nbsp;</span>Расчёты и добавление результатов в таблицу</a></span></li><li><span><a href=\"#Исследовательский-анализ-данных\" data-toc-modified-id=\"Исследовательский-анализ-данных-4\"><span class=\"toc-item-num\">4&nbsp;&nbsp;</span>Исследовательский анализ данных</a></span></li><li><span><a href=\"#Общий-вывод\" data-toc-modified-id=\"Общий-вывод-5\"><span class=\"toc-item-num\">5&nbsp;&nbsp;</span>Общий вывод</a></span></li><li><span><a href=\"#Чек-лист-готовности-проекта\" data-toc-modified-id=\"Чек-лист-готовности-проекта-6\"><span class=\"toc-item-num\">6&nbsp;&nbsp;</span>Чек-лист готовности проекта</a></span></li></ul></div>"
   ]
  },
  {
   "cell_type": "markdown",
   "metadata": {},
   "source": [
    "# Исследование объявлений о продаже квартир\n",
    "\n",
    "В вашем распоряжении данные сервиса Яндекc Недвижимость — архив объявлений о продаже квартир в Санкт-Петербурге и соседних населённых пунктах за несколько лет. Нужно научиться определять рыночную стоимость объектов недвижимости. Ваша задача — установить параметры. Это позволит построить автоматизированную систему: она отследит аномалии и мошенническую деятельность. \n",
    "\n",
    "По каждой квартире на продажу доступны два вида данных. Первые вписаны пользователем, вторые получены автоматически на основе картографических данных. Например, расстояние до центра, аэропорта, ближайшего парка и водоёма. "
   ]
  },
  {
   "cell_type": "markdown",
   "metadata": {},
   "source": [
    "## Изучение данных из файла"
   ]
  },
  {
   "cell_type": "code",
   "execution_count": 1,
   "metadata": {},
   "outputs": [],
   "source": [
    "import pandas as pd\n",
    "import numpy as np\n",
    "import matplotlib.pyplot as plt\n",
    "import datetime"
   ]
  },
  {
   "cell_type": "code",
   "execution_count": 2,
   "metadata": {
    "scrolled": true
   },
   "outputs": [
    {
     "name": "stdout",
     "output_type": "stream",
     "text": [
      "<class 'pandas.core.frame.DataFrame'>\n",
      "RangeIndex: 23699 entries, 0 to 23698\n",
      "Data columns (total 22 columns):\n",
      " #   Column                Non-Null Count  Dtype  \n",
      "---  ------                --------------  -----  \n",
      " 0   total_images          23699 non-null  int64  \n",
      " 1   last_price            23699 non-null  float64\n",
      " 2   total_area            23699 non-null  float64\n",
      " 3   first_day_exposition  23699 non-null  object \n",
      " 4   rooms                 23699 non-null  int64  \n",
      " 5   ceiling_height        14504 non-null  float64\n",
      " 6   floors_total          23613 non-null  float64\n",
      " 7   living_area           21796 non-null  float64\n",
      " 8   floor                 23699 non-null  int64  \n",
      " 9   is_apartment          2775 non-null   object \n",
      " 10  studio                23699 non-null  bool   \n",
      " 11  open_plan             23699 non-null  bool   \n",
      " 12  kitchen_area          21421 non-null  float64\n",
      " 13  balcony               12180 non-null  float64\n",
      " 14  locality_name         23650 non-null  object \n",
      " 15  airports_nearest      18157 non-null  float64\n",
      " 16  cityCenters_nearest   18180 non-null  float64\n",
      " 17  parks_around3000      18181 non-null  float64\n",
      " 18  parks_nearest         8079 non-null   float64\n",
      " 19  ponds_around3000      18181 non-null  float64\n",
      " 20  ponds_nearest         9110 non-null   float64\n",
      " 21  days_exposition       20518 non-null  float64\n",
      "dtypes: bool(2), float64(14), int64(3), object(3)\n",
      "memory usage: 3.7+ MB\n",
      "None\n"
     ]
    }
   ],
   "source": [
    "data = pd.read_csv('/datasets/real_estate_data.csv', sep='\\t')\n",
    "#display(data.head())\n",
    "print(data.info())\n",
    "#print(sorted(data['floors_total'].unique()))\n"
   ]
  },
  {
   "cell_type": "markdown",
   "metadata": {},
   "source": [
    "### Вывод"
   ]
  },
  {
   "cell_type": "markdown",
   "metadata": {},
   "source": [
    "В столбцах ponds_around3000 и parks_around3000 вместо NaN можно поставить 0,скорее всего их нет и в обьявление не указали. \n",
    "Также в стобце balcony можно вместо NaN можно поставить 0.\n",
    "В столбце ceiling_height тоже есть значения NaN, но их трогать не будем, потому что это параметр нельзя заменить на 0 или средним.\n",
    "В столбце living_area и kitchen_area также имеються пропуски, пока их оставим и не будем менять.\n",
    "В столбце airports_nearest тоже есть пропуски, их оставляем, не понятно с дальностью до аэропортов.\n",
    "В столбце days_exposition есть пропуски, но их не трогаем, предпологаяя что обьявление еще висит."
   ]
  },
  {
   "cell_type": "markdown",
   "metadata": {},
   "source": [
    "## Предобработка данных"
   ]
  },
  {
   "cell_type": "markdown",
   "metadata": {},
   "source": [
    "В столбце is_apartment булев тип данных и есть пропуски, нужно заменить на int, где True будет равно 1, False = 0, все Nan заменим нулями.\n",
    "Столбец cityCenters_nearest переведем из float в in."
   ]
  },
  {
   "cell_type": "code",
   "execution_count": 3,
   "metadata": {},
   "outputs": [
    {
     "data": {
      "text/html": [
       "<div>\n",
       "<style scoped>\n",
       "    .dataframe tbody tr th:only-of-type {\n",
       "        vertical-align: middle;\n",
       "    }\n",
       "\n",
       "    .dataframe tbody tr th {\n",
       "        vertical-align: top;\n",
       "    }\n",
       "\n",
       "    .dataframe thead th {\n",
       "        text-align: right;\n",
       "    }\n",
       "</style>\n",
       "<table border=\"1\" class=\"dataframe\">\n",
       "  <thead>\n",
       "    <tr style=\"text-align: right;\">\n",
       "      <th></th>\n",
       "      <th>total_images</th>\n",
       "      <th>last_price</th>\n",
       "      <th>total_area</th>\n",
       "      <th>first_day_exposition</th>\n",
       "      <th>rooms</th>\n",
       "      <th>ceiling_height</th>\n",
       "      <th>floors_total</th>\n",
       "      <th>living_area</th>\n",
       "      <th>floor</th>\n",
       "      <th>is_apartment</th>\n",
       "      <th>...</th>\n",
       "      <th>kitchen_area</th>\n",
       "      <th>balcony</th>\n",
       "      <th>locality_name</th>\n",
       "      <th>airports_nearest</th>\n",
       "      <th>cityCenters_nearest</th>\n",
       "      <th>parks_around3000</th>\n",
       "      <th>parks_nearest</th>\n",
       "      <th>ponds_around3000</th>\n",
       "      <th>ponds_nearest</th>\n",
       "      <th>days_exposition</th>\n",
       "    </tr>\n",
       "  </thead>\n",
       "  <tbody>\n",
       "    <tr>\n",
       "      <th>0</th>\n",
       "      <td>20</td>\n",
       "      <td>13000000.0</td>\n",
       "      <td>108.000000</td>\n",
       "      <td>2019-03-07</td>\n",
       "      <td>3</td>\n",
       "      <td>2.70</td>\n",
       "      <td>16.0</td>\n",
       "      <td>51.000000</td>\n",
       "      <td>8</td>\n",
       "      <td>0</td>\n",
       "      <td>...</td>\n",
       "      <td>25.0</td>\n",
       "      <td>0</td>\n",
       "      <td>Санкт-Петербург</td>\n",
       "      <td>18863.0</td>\n",
       "      <td>16028.0</td>\n",
       "      <td>1</td>\n",
       "      <td>482.0</td>\n",
       "      <td>2</td>\n",
       "      <td>755.0</td>\n",
       "      <td>NaN</td>\n",
       "    </tr>\n",
       "    <tr>\n",
       "      <th>1</th>\n",
       "      <td>7</td>\n",
       "      <td>3350000.0</td>\n",
       "      <td>40.400002</td>\n",
       "      <td>2018-12-04</td>\n",
       "      <td>1</td>\n",
       "      <td>NaN</td>\n",
       "      <td>11.0</td>\n",
       "      <td>18.600000</td>\n",
       "      <td>1</td>\n",
       "      <td>0</td>\n",
       "      <td>...</td>\n",
       "      <td>11.0</td>\n",
       "      <td>2</td>\n",
       "      <td>посёлок Шушары</td>\n",
       "      <td>12817.0</td>\n",
       "      <td>18603.0</td>\n",
       "      <td>0</td>\n",
       "      <td>NaN</td>\n",
       "      <td>0</td>\n",
       "      <td>NaN</td>\n",
       "      <td>81.0</td>\n",
       "    </tr>\n",
       "    <tr>\n",
       "      <th>2</th>\n",
       "      <td>10</td>\n",
       "      <td>5196000.0</td>\n",
       "      <td>56.000000</td>\n",
       "      <td>2015-08-20</td>\n",
       "      <td>2</td>\n",
       "      <td>NaN</td>\n",
       "      <td>5.0</td>\n",
       "      <td>34.299999</td>\n",
       "      <td>4</td>\n",
       "      <td>0</td>\n",
       "      <td>...</td>\n",
       "      <td>8.3</td>\n",
       "      <td>0</td>\n",
       "      <td>Санкт-Петербург</td>\n",
       "      <td>21741.0</td>\n",
       "      <td>13933.0</td>\n",
       "      <td>1</td>\n",
       "      <td>90.0</td>\n",
       "      <td>2</td>\n",
       "      <td>574.0</td>\n",
       "      <td>558.0</td>\n",
       "    </tr>\n",
       "    <tr>\n",
       "      <th>3</th>\n",
       "      <td>0</td>\n",
       "      <td>64900000.0</td>\n",
       "      <td>159.000000</td>\n",
       "      <td>2015-07-24</td>\n",
       "      <td>3</td>\n",
       "      <td>NaN</td>\n",
       "      <td>14.0</td>\n",
       "      <td>NaN</td>\n",
       "      <td>9</td>\n",
       "      <td>0</td>\n",
       "      <td>...</td>\n",
       "      <td>NaN</td>\n",
       "      <td>0</td>\n",
       "      <td>Санкт-Петербург</td>\n",
       "      <td>28098.0</td>\n",
       "      <td>6800.0</td>\n",
       "      <td>2</td>\n",
       "      <td>84.0</td>\n",
       "      <td>3</td>\n",
       "      <td>234.0</td>\n",
       "      <td>424.0</td>\n",
       "    </tr>\n",
       "    <tr>\n",
       "      <th>4</th>\n",
       "      <td>2</td>\n",
       "      <td>10000000.0</td>\n",
       "      <td>100.000000</td>\n",
       "      <td>2018-06-19</td>\n",
       "      <td>2</td>\n",
       "      <td>3.03</td>\n",
       "      <td>14.0</td>\n",
       "      <td>32.000000</td>\n",
       "      <td>13</td>\n",
       "      <td>0</td>\n",
       "      <td>...</td>\n",
       "      <td>41.0</td>\n",
       "      <td>0</td>\n",
       "      <td>Санкт-Петербург</td>\n",
       "      <td>31856.0</td>\n",
       "      <td>8098.0</td>\n",
       "      <td>2</td>\n",
       "      <td>112.0</td>\n",
       "      <td>1</td>\n",
       "      <td>48.0</td>\n",
       "      <td>121.0</td>\n",
       "    </tr>\n",
       "  </tbody>\n",
       "</table>\n",
       "<p>5 rows × 22 columns</p>\n",
       "</div>"
      ],
      "text/plain": [
       "   total_images  last_price  total_area first_day_exposition  rooms  \\\n",
       "0            20  13000000.0  108.000000           2019-03-07      3   \n",
       "1             7   3350000.0   40.400002           2018-12-04      1   \n",
       "2            10   5196000.0   56.000000           2015-08-20      2   \n",
       "3             0  64900000.0  159.000000           2015-07-24      3   \n",
       "4             2  10000000.0  100.000000           2018-06-19      2   \n",
       "\n",
       "   ceiling_height  floors_total  living_area  floor  is_apartment  ...  \\\n",
       "0            2.70          16.0    51.000000      8             0  ...   \n",
       "1             NaN          11.0    18.600000      1             0  ...   \n",
       "2             NaN           5.0    34.299999      4             0  ...   \n",
       "3             NaN          14.0          NaN      9             0  ...   \n",
       "4            3.03          14.0    32.000000     13             0  ...   \n",
       "\n",
       "   kitchen_area  balcony    locality_name  airports_nearest  \\\n",
       "0          25.0        0  Санкт-Петербург           18863.0   \n",
       "1          11.0        2   посёлок Шушары           12817.0   \n",
       "2           8.3        0  Санкт-Петербург           21741.0   \n",
       "3           NaN        0  Санкт-Петербург           28098.0   \n",
       "4          41.0        0  Санкт-Петербург           31856.0   \n",
       "\n",
       "  cityCenters_nearest  parks_around3000  parks_nearest  ponds_around3000  \\\n",
       "0             16028.0                 1          482.0                 2   \n",
       "1             18603.0                 0            NaN                 0   \n",
       "2             13933.0                 1           90.0                 2   \n",
       "3              6800.0                 2           84.0                 3   \n",
       "4              8098.0                 2          112.0                 1   \n",
       "\n",
       "   ponds_nearest  days_exposition  \n",
       "0          755.0              NaN  \n",
       "1            NaN             81.0  \n",
       "2          574.0            558.0  \n",
       "3          234.0            424.0  \n",
       "4           48.0            121.0  \n",
       "\n",
       "[5 rows x 22 columns]"
      ]
     },
     "metadata": {},
     "output_type": "display_data"
    },
    {
     "name": "stdout",
     "output_type": "stream",
     "text": [
      "<class 'pandas.core.frame.DataFrame'>\n",
      "RangeIndex: 23699 entries, 0 to 23698\n",
      "Data columns (total 22 columns):\n",
      " #   Column                Non-Null Count  Dtype         \n",
      "---  ------                --------------  -----         \n",
      " 0   total_images          23699 non-null  int64         \n",
      " 1   last_price            23699 non-null  float32       \n",
      " 2   total_area            23699 non-null  float32       \n",
      " 3   first_day_exposition  23699 non-null  datetime64[ns]\n",
      " 4   rooms                 23699 non-null  int64         \n",
      " 5   ceiling_height        14504 non-null  float32       \n",
      " 6   floors_total          23613 non-null  float32       \n",
      " 7   living_area           21796 non-null  float32       \n",
      " 8   floor                 23699 non-null  int64         \n",
      " 9   is_apartment          23699 non-null  int64         \n",
      " 10  studio                23699 non-null  bool          \n",
      " 11  open_plan             23699 non-null  bool          \n",
      " 12  kitchen_area          21421 non-null  float32       \n",
      " 13  balcony               23699 non-null  int64         \n",
      " 14  locality_name         23650 non-null  object        \n",
      " 15  airports_nearest      18157 non-null  float32       \n",
      " 16  cityCenters_nearest   18180 non-null  float32       \n",
      " 17  parks_around3000      23699 non-null  int64         \n",
      " 18  parks_nearest         8079 non-null   float32       \n",
      " 19  ponds_around3000      23699 non-null  int64         \n",
      " 20  ponds_nearest         9110 non-null   float32       \n",
      " 21  days_exposition       20518 non-null  float32       \n",
      "dtypes: bool(2), datetime64[ns](1), float32(11), int64(7), object(1)\n",
      "memory usage: 2.7+ MB\n",
      "None\n"
     ]
    }
   ],
   "source": [
    "# заменим пропуски в столбце ponds_around3000 нулями.\n",
    "data['ponds_around3000'] = data['ponds_around3000'].fillna(0)\n",
    "# заменим пропуски в столбце parks_around3000 нулями.\n",
    "data['parks_around3000'] = data['parks_around3000'].fillna(0)\n",
    "# заменим пропуски в столбце balcony нулями.\n",
    "data['balcony'] = data['balcony'].fillna(0)\n",
    "# столбец 'first_day_exposition' приведем к фрмату to_datetime\n",
    "data['first_day_exposition'] = pd.to_datetime(data['first_day_exposition'],format='%Y-%m-%d')\n",
    "# заменим пропуски в столбце is_apartment нулями.\n",
    "data['is_apartment'] = data['is_apartment'].fillna(0)\n",
    "# переведем столбцы: is_apartment, balcony, cityCenters_nearest, parks_around3000, ponds_around3000, floors_total в int.\n",
    "data = data.astype(\n",
    "    {'is_apartment':int, 'balcony':int, 'parks_around3000':int, 'ponds_around3000':int}\n",
    ")\n",
    "\n",
    "data[data.select_dtypes(np.float64).columns] = data.select_dtypes(np.float64).astype(np.float32)\n",
    "display(data.head())\n",
    "print(data.info())"
   ]
  },
  {
   "cell_type": "markdown",
   "metadata": {},
   "source": [
    "## Расчёты и добавление результатов в таблицу"
   ]
  },
  {
   "cell_type": "markdown",
   "metadata": {},
   "source": [
    "# Находим стоимость квадратного метра жилья."
   ]
  },
  {
   "cell_type": "code",
   "execution_count": 4,
   "metadata": {},
   "outputs": [],
   "source": [
    "data['m2_price'] = data['last_price'] / data['total_area']"
   ]
  },
  {
   "cell_type": "markdown",
   "metadata": {},
   "source": [
    "# Находим и строим таблицу, по дням, месяцу и году"
   ]
  },
  {
   "cell_type": "code",
   "execution_count": 5,
   "metadata": {},
   "outputs": [
    {
     "data": {
      "text/html": [
       "<div>\n",
       "<style scoped>\n",
       "    .dataframe tbody tr th:only-of-type {\n",
       "        vertical-align: middle;\n",
       "    }\n",
       "\n",
       "    .dataframe tbody tr th {\n",
       "        vertical-align: top;\n",
       "    }\n",
       "\n",
       "    .dataframe thead th {\n",
       "        text-align: right;\n",
       "    }\n",
       "</style>\n",
       "<table border=\"1\" class=\"dataframe\">\n",
       "  <thead>\n",
       "    <tr style=\"text-align: right;\">\n",
       "      <th></th>\n",
       "      <th>total_images</th>\n",
       "      <th>last_price</th>\n",
       "      <th>total_area</th>\n",
       "      <th>first_day_exposition</th>\n",
       "      <th>rooms</th>\n",
       "      <th>ceiling_height</th>\n",
       "      <th>floors_total</th>\n",
       "      <th>living_area</th>\n",
       "      <th>floor</th>\n",
       "      <th>is_apartment</th>\n",
       "      <th>...</th>\n",
       "      <th>cityCenters_nearest</th>\n",
       "      <th>parks_around3000</th>\n",
       "      <th>parks_nearest</th>\n",
       "      <th>ponds_around3000</th>\n",
       "      <th>ponds_nearest</th>\n",
       "      <th>days_exposition</th>\n",
       "      <th>m2_price</th>\n",
       "      <th>day_exposition</th>\n",
       "      <th>month_exposition</th>\n",
       "      <th>year_exposition</th>\n",
       "    </tr>\n",
       "  </thead>\n",
       "  <tbody>\n",
       "    <tr>\n",
       "      <th>0</th>\n",
       "      <td>20</td>\n",
       "      <td>13000000.0</td>\n",
       "      <td>108.000000</td>\n",
       "      <td>2019-03-07</td>\n",
       "      <td>3</td>\n",
       "      <td>2.70</td>\n",
       "      <td>16.0</td>\n",
       "      <td>51.000000</td>\n",
       "      <td>8</td>\n",
       "      <td>0</td>\n",
       "      <td>...</td>\n",
       "      <td>16028.0</td>\n",
       "      <td>1</td>\n",
       "      <td>482.0</td>\n",
       "      <td>2</td>\n",
       "      <td>755.0</td>\n",
       "      <td>NaN</td>\n",
       "      <td>120370.367188</td>\n",
       "      <td>3</td>\n",
       "      <td>3</td>\n",
       "      <td>2019</td>\n",
       "    </tr>\n",
       "    <tr>\n",
       "      <th>1</th>\n",
       "      <td>7</td>\n",
       "      <td>3350000.0</td>\n",
       "      <td>40.400002</td>\n",
       "      <td>2018-12-04</td>\n",
       "      <td>1</td>\n",
       "      <td>NaN</td>\n",
       "      <td>11.0</td>\n",
       "      <td>18.600000</td>\n",
       "      <td>1</td>\n",
       "      <td>0</td>\n",
       "      <td>...</td>\n",
       "      <td>18603.0</td>\n",
       "      <td>0</td>\n",
       "      <td>NaN</td>\n",
       "      <td>0</td>\n",
       "      <td>NaN</td>\n",
       "      <td>81.0</td>\n",
       "      <td>82920.789062</td>\n",
       "      <td>1</td>\n",
       "      <td>12</td>\n",
       "      <td>2018</td>\n",
       "    </tr>\n",
       "    <tr>\n",
       "      <th>2</th>\n",
       "      <td>10</td>\n",
       "      <td>5196000.0</td>\n",
       "      <td>56.000000</td>\n",
       "      <td>2015-08-20</td>\n",
       "      <td>2</td>\n",
       "      <td>NaN</td>\n",
       "      <td>5.0</td>\n",
       "      <td>34.299999</td>\n",
       "      <td>4</td>\n",
       "      <td>0</td>\n",
       "      <td>...</td>\n",
       "      <td>13933.0</td>\n",
       "      <td>1</td>\n",
       "      <td>90.0</td>\n",
       "      <td>2</td>\n",
       "      <td>574.0</td>\n",
       "      <td>558.0</td>\n",
       "      <td>92785.710938</td>\n",
       "      <td>3</td>\n",
       "      <td>8</td>\n",
       "      <td>2015</td>\n",
       "    </tr>\n",
       "    <tr>\n",
       "      <th>3</th>\n",
       "      <td>0</td>\n",
       "      <td>64900000.0</td>\n",
       "      <td>159.000000</td>\n",
       "      <td>2015-07-24</td>\n",
       "      <td>3</td>\n",
       "      <td>NaN</td>\n",
       "      <td>14.0</td>\n",
       "      <td>NaN</td>\n",
       "      <td>9</td>\n",
       "      <td>0</td>\n",
       "      <td>...</td>\n",
       "      <td>6800.0</td>\n",
       "      <td>2</td>\n",
       "      <td>84.0</td>\n",
       "      <td>3</td>\n",
       "      <td>234.0</td>\n",
       "      <td>424.0</td>\n",
       "      <td>408176.093750</td>\n",
       "      <td>4</td>\n",
       "      <td>7</td>\n",
       "      <td>2015</td>\n",
       "    </tr>\n",
       "    <tr>\n",
       "      <th>4</th>\n",
       "      <td>2</td>\n",
       "      <td>10000000.0</td>\n",
       "      <td>100.000000</td>\n",
       "      <td>2018-06-19</td>\n",
       "      <td>2</td>\n",
       "      <td>3.03</td>\n",
       "      <td>14.0</td>\n",
       "      <td>32.000000</td>\n",
       "      <td>13</td>\n",
       "      <td>0</td>\n",
       "      <td>...</td>\n",
       "      <td>8098.0</td>\n",
       "      <td>2</td>\n",
       "      <td>112.0</td>\n",
       "      <td>1</td>\n",
       "      <td>48.0</td>\n",
       "      <td>121.0</td>\n",
       "      <td>100000.000000</td>\n",
       "      <td>1</td>\n",
       "      <td>6</td>\n",
       "      <td>2018</td>\n",
       "    </tr>\n",
       "    <tr>\n",
       "      <th>5</th>\n",
       "      <td>10</td>\n",
       "      <td>2890000.0</td>\n",
       "      <td>30.400000</td>\n",
       "      <td>2018-09-10</td>\n",
       "      <td>1</td>\n",
       "      <td>NaN</td>\n",
       "      <td>12.0</td>\n",
       "      <td>14.400000</td>\n",
       "      <td>5</td>\n",
       "      <td>0</td>\n",
       "      <td>...</td>\n",
       "      <td>NaN</td>\n",
       "      <td>0</td>\n",
       "      <td>NaN</td>\n",
       "      <td>0</td>\n",
       "      <td>NaN</td>\n",
       "      <td>55.0</td>\n",
       "      <td>95065.789062</td>\n",
       "      <td>0</td>\n",
       "      <td>9</td>\n",
       "      <td>2018</td>\n",
       "    </tr>\n",
       "    <tr>\n",
       "      <th>6</th>\n",
       "      <td>6</td>\n",
       "      <td>3700000.0</td>\n",
       "      <td>37.299999</td>\n",
       "      <td>2017-11-02</td>\n",
       "      <td>1</td>\n",
       "      <td>NaN</td>\n",
       "      <td>26.0</td>\n",
       "      <td>10.600000</td>\n",
       "      <td>6</td>\n",
       "      <td>0</td>\n",
       "      <td>...</td>\n",
       "      <td>19143.0</td>\n",
       "      <td>0</td>\n",
       "      <td>NaN</td>\n",
       "      <td>0</td>\n",
       "      <td>NaN</td>\n",
       "      <td>155.0</td>\n",
       "      <td>99195.710938</td>\n",
       "      <td>3</td>\n",
       "      <td>11</td>\n",
       "      <td>2017</td>\n",
       "    </tr>\n",
       "    <tr>\n",
       "      <th>7</th>\n",
       "      <td>5</td>\n",
       "      <td>7915000.0</td>\n",
       "      <td>71.599998</td>\n",
       "      <td>2019-04-18</td>\n",
       "      <td>2</td>\n",
       "      <td>NaN</td>\n",
       "      <td>24.0</td>\n",
       "      <td>NaN</td>\n",
       "      <td>22</td>\n",
       "      <td>0</td>\n",
       "      <td>...</td>\n",
       "      <td>11634.0</td>\n",
       "      <td>0</td>\n",
       "      <td>NaN</td>\n",
       "      <td>0</td>\n",
       "      <td>NaN</td>\n",
       "      <td>NaN</td>\n",
       "      <td>110544.695312</td>\n",
       "      <td>3</td>\n",
       "      <td>4</td>\n",
       "      <td>2019</td>\n",
       "    </tr>\n",
       "    <tr>\n",
       "      <th>8</th>\n",
       "      <td>20</td>\n",
       "      <td>2900000.0</td>\n",
       "      <td>33.160000</td>\n",
       "      <td>2018-05-23</td>\n",
       "      <td>1</td>\n",
       "      <td>NaN</td>\n",
       "      <td>27.0</td>\n",
       "      <td>15.430000</td>\n",
       "      <td>26</td>\n",
       "      <td>0</td>\n",
       "      <td>...</td>\n",
       "      <td>NaN</td>\n",
       "      <td>0</td>\n",
       "      <td>NaN</td>\n",
       "      <td>0</td>\n",
       "      <td>NaN</td>\n",
       "      <td>189.0</td>\n",
       "      <td>87454.765625</td>\n",
       "      <td>2</td>\n",
       "      <td>5</td>\n",
       "      <td>2018</td>\n",
       "    </tr>\n",
       "    <tr>\n",
       "      <th>9</th>\n",
       "      <td>18</td>\n",
       "      <td>5400000.0</td>\n",
       "      <td>61.000000</td>\n",
       "      <td>2017-02-26</td>\n",
       "      <td>3</td>\n",
       "      <td>2.50</td>\n",
       "      <td>9.0</td>\n",
       "      <td>43.599998</td>\n",
       "      <td>7</td>\n",
       "      <td>0</td>\n",
       "      <td>...</td>\n",
       "      <td>15008.0</td>\n",
       "      <td>0</td>\n",
       "      <td>NaN</td>\n",
       "      <td>0</td>\n",
       "      <td>NaN</td>\n",
       "      <td>289.0</td>\n",
       "      <td>88524.593750</td>\n",
       "      <td>6</td>\n",
       "      <td>2</td>\n",
       "      <td>2017</td>\n",
       "    </tr>\n",
       "  </tbody>\n",
       "</table>\n",
       "<p>10 rows × 26 columns</p>\n",
       "</div>"
      ],
      "text/plain": [
       "   total_images  last_price  total_area first_day_exposition  rooms  \\\n",
       "0            20  13000000.0  108.000000           2019-03-07      3   \n",
       "1             7   3350000.0   40.400002           2018-12-04      1   \n",
       "2            10   5196000.0   56.000000           2015-08-20      2   \n",
       "3             0  64900000.0  159.000000           2015-07-24      3   \n",
       "4             2  10000000.0  100.000000           2018-06-19      2   \n",
       "5            10   2890000.0   30.400000           2018-09-10      1   \n",
       "6             6   3700000.0   37.299999           2017-11-02      1   \n",
       "7             5   7915000.0   71.599998           2019-04-18      2   \n",
       "8            20   2900000.0   33.160000           2018-05-23      1   \n",
       "9            18   5400000.0   61.000000           2017-02-26      3   \n",
       "\n",
       "   ceiling_height  floors_total  living_area  floor  is_apartment  ...  \\\n",
       "0            2.70          16.0    51.000000      8             0  ...   \n",
       "1             NaN          11.0    18.600000      1             0  ...   \n",
       "2             NaN           5.0    34.299999      4             0  ...   \n",
       "3             NaN          14.0          NaN      9             0  ...   \n",
       "4            3.03          14.0    32.000000     13             0  ...   \n",
       "5             NaN          12.0    14.400000      5             0  ...   \n",
       "6             NaN          26.0    10.600000      6             0  ...   \n",
       "7             NaN          24.0          NaN     22             0  ...   \n",
       "8             NaN          27.0    15.430000     26             0  ...   \n",
       "9            2.50           9.0    43.599998      7             0  ...   \n",
       "\n",
       "   cityCenters_nearest  parks_around3000  parks_nearest  ponds_around3000  \\\n",
       "0              16028.0                 1          482.0                 2   \n",
       "1              18603.0                 0            NaN                 0   \n",
       "2              13933.0                 1           90.0                 2   \n",
       "3               6800.0                 2           84.0                 3   \n",
       "4               8098.0                 2          112.0                 1   \n",
       "5                  NaN                 0            NaN                 0   \n",
       "6              19143.0                 0            NaN                 0   \n",
       "7              11634.0                 0            NaN                 0   \n",
       "8                  NaN                 0            NaN                 0   \n",
       "9              15008.0                 0            NaN                 0   \n",
       "\n",
       "  ponds_nearest  days_exposition       m2_price  day_exposition  \\\n",
       "0         755.0              NaN  120370.367188               3   \n",
       "1           NaN             81.0   82920.789062               1   \n",
       "2         574.0            558.0   92785.710938               3   \n",
       "3         234.0            424.0  408176.093750               4   \n",
       "4          48.0            121.0  100000.000000               1   \n",
       "5           NaN             55.0   95065.789062               0   \n",
       "6           NaN            155.0   99195.710938               3   \n",
       "7           NaN              NaN  110544.695312               3   \n",
       "8           NaN            189.0   87454.765625               2   \n",
       "9           NaN            289.0   88524.593750               6   \n",
       "\n",
       "   month_exposition  year_exposition  \n",
       "0                 3             2019  \n",
       "1                12             2018  \n",
       "2                 8             2015  \n",
       "3                 7             2015  \n",
       "4                 6             2018  \n",
       "5                 9             2018  \n",
       "6                11             2017  \n",
       "7                 4             2019  \n",
       "8                 5             2018  \n",
       "9                 2             2017  \n",
       "\n",
       "[10 rows x 26 columns]"
      ]
     },
     "metadata": {},
     "output_type": "display_data"
    }
   ],
   "source": [
    "# Преобразуем данные столбца first_day_exposition, оставив только день, месяц и год, потому что время нулевое.\n",
    "data['first_day_exposition'] = pd.to_datetime(data['first_day_exposition'],format='%Y-%m-%d')\n",
    "\n",
    "data['day_exposition'] = data['first_day_exposition'].dt.weekday\n",
    "data['month_exposition'] = data['first_day_exposition'].dt.month\n",
    "data['year_exposition'] = data['first_day_exposition'].dt.year\n",
    "\n",
    "display(data.head(10))"
   ]
  },
  {
   "cell_type": "markdown",
   "metadata": {},
   "source": [
    "# Изучем этажность, соотношение жилой и общей площади, также площади кухни к общей"
   ]
  },
  {
   "cell_type": "code",
   "execution_count": 6,
   "metadata": {},
   "outputs": [
    {
     "name": "stdout",
     "output_type": "stream",
     "text": [
      "другой       17446\n",
      "последний     3336\n",
      "первый        2917\n",
      "Name: floor_total_category, dtype: int64\n"
     ]
    }
   ],
   "source": [
    "#напишем функцию категоризации по этажам, используя метод apply применимо к каждой строке датафрейма через axis = 1\n",
    "def floor_total_category(row):\n",
    "    floors_total = row['floors_total']\n",
    "    floor = row['floor']\n",
    "    if floor == 1:\n",
    "        return 'первый'\n",
    "    elif floor == floors_total:\n",
    "        return 'последний'\n",
    "    return 'другой'\n",
    "    \n",
    "#категоризуем этажи с помощью метода apply применимо к каждой строке датафрейма через axis = 1  \n",
    "data['floor_total_category'] = data.apply(floor_total_category, axis=1)\n",
    "print(data['floor_total_category'].value_counts())"
   ]
  },
  {
   "cell_type": "code",
   "execution_count": 7,
   "metadata": {},
   "outputs": [],
   "source": [
    "# соотношение жилой и общей площади\n",
    "data['liv_total_area'] = data['living_area'] / data['total_area']\n",
    "# отношение площади кухни к общей\n",
    "data['kit_total_area'] = data['kitchen_area'] / data ['total_area']"
   ]
  },
  {
   "cell_type": "markdown",
   "metadata": {},
   "source": [
    "# Изучим следующие параметры: площадь, цена, число комнат, высота потолков"
   ]
  },
  {
   "cell_type": "code",
   "execution_count": 8,
   "metadata": {
    "scrolled": true
   },
   "outputs": [
    {
     "name": "stdout",
     "output_type": "stream",
     "text": [
      "count    23699.000000\n",
      "mean        60.348648\n",
      "std         35.654083\n",
      "min         12.000000\n",
      "25%         40.000000\n",
      "50%         52.000000\n",
      "75%         69.900002\n",
      "max        900.000000\n",
      "Name: total_area, dtype: float64\n",
      "count        23699.0\n",
      "mean       6541548.5\n",
      "std       10887013.0\n",
      "min          12190.0\n",
      "25%        3400000.0\n",
      "50%        4650000.0\n",
      "75%        6800000.0\n",
      "max      763000000.0\n",
      "Name: last_price, dtype: float64\n",
      "count    23699.000000\n",
      "mean         2.070636\n",
      "std          1.078405\n",
      "min          0.000000\n",
      "25%          1.000000\n",
      "50%          2.000000\n",
      "75%          3.000000\n",
      "max         19.000000\n",
      "Name: rooms, dtype: float64\n",
      "count    14504.000000\n",
      "mean         2.771499\n",
      "std          1.261056\n",
      "min          1.000000\n",
      "25%          2.520000\n",
      "50%          2.650000\n",
      "75%          2.800000\n",
      "max        100.000000\n",
      "Name: ceiling_height, dtype: float64\n",
      "Медианное значение: 95.0\n"
     ]
    },
    {
     "data": {
      "text/html": [
       "<div>\n",
       "<style scoped>\n",
       "    .dataframe tbody tr th:only-of-type {\n",
       "        vertical-align: middle;\n",
       "    }\n",
       "\n",
       "    .dataframe tbody tr th {\n",
       "        vertical-align: top;\n",
       "    }\n",
       "\n",
       "    .dataframe thead th {\n",
       "        text-align: right;\n",
       "    }\n",
       "</style>\n",
       "<table border=\"1\" class=\"dataframe\">\n",
       "  <thead>\n",
       "    <tr style=\"text-align: right;\">\n",
       "      <th></th>\n",
       "      <th>total_images</th>\n",
       "      <th>last_price</th>\n",
       "      <th>total_area</th>\n",
       "      <th>first_day_exposition</th>\n",
       "      <th>rooms</th>\n",
       "      <th>ceiling_height</th>\n",
       "      <th>floors_total</th>\n",
       "      <th>living_area</th>\n",
       "      <th>floor</th>\n",
       "      <th>is_apartment</th>\n",
       "      <th>...</th>\n",
       "      <th>ponds_around3000</th>\n",
       "      <th>ponds_nearest</th>\n",
       "      <th>days_exposition</th>\n",
       "      <th>m2_price</th>\n",
       "      <th>day_exposition</th>\n",
       "      <th>month_exposition</th>\n",
       "      <th>year_exposition</th>\n",
       "      <th>floor_total_category</th>\n",
       "      <th>liv_total_area</th>\n",
       "      <th>kit_total_area</th>\n",
       "    </tr>\n",
       "  </thead>\n",
       "  <tbody>\n",
       "    <tr>\n",
       "      <th>0</th>\n",
       "      <td>20</td>\n",
       "      <td>13000000.0</td>\n",
       "      <td>108.000000</td>\n",
       "      <td>2019-03-07</td>\n",
       "      <td>3</td>\n",
       "      <td>2.70</td>\n",
       "      <td>16.0</td>\n",
       "      <td>51.000000</td>\n",
       "      <td>8</td>\n",
       "      <td>0</td>\n",
       "      <td>...</td>\n",
       "      <td>2</td>\n",
       "      <td>755.0</td>\n",
       "      <td>NaN</td>\n",
       "      <td>120370.367188</td>\n",
       "      <td>3</td>\n",
       "      <td>3</td>\n",
       "      <td>2019</td>\n",
       "      <td>другой</td>\n",
       "      <td>0.472222</td>\n",
       "      <td>0.231481</td>\n",
       "    </tr>\n",
       "    <tr>\n",
       "      <th>1</th>\n",
       "      <td>7</td>\n",
       "      <td>3350000.0</td>\n",
       "      <td>40.400002</td>\n",
       "      <td>2018-12-04</td>\n",
       "      <td>1</td>\n",
       "      <td>NaN</td>\n",
       "      <td>11.0</td>\n",
       "      <td>18.600000</td>\n",
       "      <td>1</td>\n",
       "      <td>0</td>\n",
       "      <td>...</td>\n",
       "      <td>0</td>\n",
       "      <td>NaN</td>\n",
       "      <td>81.0</td>\n",
       "      <td>82920.789062</td>\n",
       "      <td>1</td>\n",
       "      <td>12</td>\n",
       "      <td>2018</td>\n",
       "      <td>первый</td>\n",
       "      <td>0.460396</td>\n",
       "      <td>0.272277</td>\n",
       "    </tr>\n",
       "    <tr>\n",
       "      <th>2</th>\n",
       "      <td>10</td>\n",
       "      <td>5196000.0</td>\n",
       "      <td>56.000000</td>\n",
       "      <td>2015-08-20</td>\n",
       "      <td>2</td>\n",
       "      <td>NaN</td>\n",
       "      <td>5.0</td>\n",
       "      <td>34.299999</td>\n",
       "      <td>4</td>\n",
       "      <td>0</td>\n",
       "      <td>...</td>\n",
       "      <td>2</td>\n",
       "      <td>574.0</td>\n",
       "      <td>558.0</td>\n",
       "      <td>92785.710938</td>\n",
       "      <td>3</td>\n",
       "      <td>8</td>\n",
       "      <td>2015</td>\n",
       "      <td>другой</td>\n",
       "      <td>0.612500</td>\n",
       "      <td>0.148214</td>\n",
       "    </tr>\n",
       "    <tr>\n",
       "      <th>3</th>\n",
       "      <td>0</td>\n",
       "      <td>64900000.0</td>\n",
       "      <td>159.000000</td>\n",
       "      <td>2015-07-24</td>\n",
       "      <td>3</td>\n",
       "      <td>NaN</td>\n",
       "      <td>14.0</td>\n",
       "      <td>NaN</td>\n",
       "      <td>9</td>\n",
       "      <td>0</td>\n",
       "      <td>...</td>\n",
       "      <td>3</td>\n",
       "      <td>234.0</td>\n",
       "      <td>424.0</td>\n",
       "      <td>408176.093750</td>\n",
       "      <td>4</td>\n",
       "      <td>7</td>\n",
       "      <td>2015</td>\n",
       "      <td>другой</td>\n",
       "      <td>NaN</td>\n",
       "      <td>NaN</td>\n",
       "    </tr>\n",
       "    <tr>\n",
       "      <th>4</th>\n",
       "      <td>2</td>\n",
       "      <td>10000000.0</td>\n",
       "      <td>100.000000</td>\n",
       "      <td>2018-06-19</td>\n",
       "      <td>2</td>\n",
       "      <td>3.03</td>\n",
       "      <td>14.0</td>\n",
       "      <td>32.000000</td>\n",
       "      <td>13</td>\n",
       "      <td>0</td>\n",
       "      <td>...</td>\n",
       "      <td>1</td>\n",
       "      <td>48.0</td>\n",
       "      <td>121.0</td>\n",
       "      <td>100000.000000</td>\n",
       "      <td>1</td>\n",
       "      <td>6</td>\n",
       "      <td>2018</td>\n",
       "      <td>другой</td>\n",
       "      <td>0.320000</td>\n",
       "      <td>0.410000</td>\n",
       "    </tr>\n",
       "  </tbody>\n",
       "</table>\n",
       "<p>5 rows × 29 columns</p>\n",
       "</div>"
      ],
      "text/plain": [
       "   total_images  last_price  total_area first_day_exposition  rooms  \\\n",
       "0            20  13000000.0  108.000000           2019-03-07      3   \n",
       "1             7   3350000.0   40.400002           2018-12-04      1   \n",
       "2            10   5196000.0   56.000000           2015-08-20      2   \n",
       "3             0  64900000.0  159.000000           2015-07-24      3   \n",
       "4             2  10000000.0  100.000000           2018-06-19      2   \n",
       "\n",
       "   ceiling_height  floors_total  living_area  floor  is_apartment  ...  \\\n",
       "0            2.70          16.0    51.000000      8             0  ...   \n",
       "1             NaN          11.0    18.600000      1             0  ...   \n",
       "2             NaN           5.0    34.299999      4             0  ...   \n",
       "3             NaN          14.0          NaN      9             0  ...   \n",
       "4            3.03          14.0    32.000000     13             0  ...   \n",
       "\n",
       "   ponds_around3000  ponds_nearest  days_exposition       m2_price  \\\n",
       "0                 2          755.0              NaN  120370.367188   \n",
       "1                 0            NaN             81.0   82920.789062   \n",
       "2                 2          574.0            558.0   92785.710938   \n",
       "3                 3          234.0            424.0  408176.093750   \n",
       "4                 1           48.0            121.0  100000.000000   \n",
       "\n",
       "  day_exposition  month_exposition  year_exposition  floor_total_category  \\\n",
       "0              3                 3             2019                другой   \n",
       "1              1                12             2018                первый   \n",
       "2              3                 8             2015                другой   \n",
       "3              4                 7             2015                другой   \n",
       "4              1                 6             2018                другой   \n",
       "\n",
       "   liv_total_area  kit_total_area  \n",
       "0        0.472222        0.231481  \n",
       "1        0.460396        0.272277  \n",
       "2        0.612500        0.148214  \n",
       "3             NaN             NaN  \n",
       "4        0.320000        0.410000  \n",
       "\n",
       "[5 rows x 29 columns]"
      ]
     },
     "metadata": {},
     "output_type": "display_data"
    },
    {
     "data": {
      "image/png": "[encoded data removed]",
      "text/plain": [
       "<Figure size 360x216 with 1 Axes>"
      ]
     },
     "metadata": {
      "needs_background": "light"
     },
     "output_type": "display_data"
    },
    {
     "data": {
      "image/png": "[encoded data removed]",
      "text/plain": [
       "<Figure size 360x216 with 1 Axes>"
      ]
     },
     "metadata": {
      "needs_background": "light"
     },
     "output_type": "display_data"
    },
    {
     "data": {
      "image/png": "[encoded data removed]",
      "text/plain": [
       "<Figure size 360x216 with 1 Axes>"
      ]
     },
     "metadata": {
      "needs_background": "light"
     },
     "output_type": "display_data"
    },
    {
     "data": {
      "image/png": "[encoded data removed]",
      "text/plain": [
       "<Figure size 360x216 with 1 Axes>"
      ]
     },
     "metadata": {
      "needs_background": "light"
     },
     "output_type": "display_data"
    }
   ],
   "source": [
    "#изучены следующие параметры: площадь, цена, число комнат, высота потолков\n",
    "print(data['total_area'].describe())\n",
    "\n",
    "print(data['last_price'].describe())\n",
    "\n",
    "print(data['rooms'].describe())\n",
    "\n",
    "print(data['ceiling_height'].describe())\n",
    "# построили гистограмму для этих параметров\n",
    "data.plot(y = 'total_area', kind = 'hist', bins = 100, grid=True, figsize = (5,3), range = (0,500))\n",
    "\n",
    "data.plot(y = 'last_price', kind = 'hist', bins = 100, grid=True, figsize = (5,3), range = (0,17000000))\n",
    "\n",
    "data.plot(y = 'rooms', kind = 'hist', bins = 30, grid=True, figsize = (5,3))\n",
    "\n",
    "data.plot(y = 'ceiling_height', kind = 'hist', bins = 30, grid=True, figsize = (5,3), range = (2,5))\n",
    "\n",
    "print('Медианное значение:', data['days_exposition'].median())\n",
    "#print(data['days_exposition'].describe())\n",
    "display(data.head())"
   ]
  },
  {
   "cell_type": "markdown",
   "metadata": {},
   "source": [
    "# Изучим время продажи квартиры"
   ]
  },
  {
   "cell_type": "code",
   "execution_count": 9,
   "metadata": {},
   "outputs": [
    {
     "data": {
      "text/plain": [
       "count    20518.000000\n",
       "mean       180.888641\n",
       "std        219.727982\n",
       "min          1.000000\n",
       "25%         45.000000\n",
       "50%         95.000000\n",
       "75%        232.000000\n",
       "max       1580.000000\n",
       "Name: days_exposition, dtype: float64"
      ]
     },
     "execution_count": 9,
     "metadata": {},
     "output_type": "execute_result"
    },
    {
     "data": {
      "image/png": "[encoded data removed]",
      "text/plain": [
       "<Figure size 432x288 with 1 Axes>"
      ]
     },
     "metadata": {
      "needs_background": "light"
     },
     "output_type": "display_data"
    }
   ],
   "source": [
    "data.plot(y = 'days_exposition', kind = 'hist', bins = 20, grid = True, range = (1,1500))\n",
    "#data.plot(y = 'days_exposition', kind = 'hist', bins = 50, grid = True, range = (1,1000))\n",
    "\n",
    "data[data['days_exposition']!=0]['days_exposition'].describe()\n",
    "\n",
    "#data[data['days_exposition']!=0]['days_exposition'].value_counts()\n",
    "#print(data['days_exposition'])"
   ]
  },
  {
   "cell_type": "markdown",
   "metadata": {},
   "source": [
    "Вывод: Среднее значение - 180 дней, а медиана - 95 дней.Большое количество проданных квартир в 45,60,7,30 и 90 дней."
   ]
  },
  {
   "cell_type": "markdown",
   "metadata": {},
   "source": [
    "# Уберем редкие и выбивающиеся данные"
   ]
  },
  {
   "cell_type": "code",
   "execution_count": 10,
   "metadata": {},
   "outputs": [
    {
     "data": {
      "text/plain": [
       "count    19923.000000\n",
       "mean       155.976410\n",
       "std        165.082443\n",
       "min          3.000000\n",
       "25%         44.000000\n",
       "50%         91.000000\n",
       "75%        212.000000\n",
       "max        800.000000\n",
       "Name: days_exposition, dtype: float64"
      ]
     },
     "execution_count": 10,
     "metadata": {},
     "output_type": "execute_result"
    },
    {
     "data": {
      "image/png": "[encoded data removed]",
      "text/plain": [
       "<Figure size 432x288 with 1 Axes>"
      ]
     },
     "metadata": {
      "needs_background": "light"
     },
     "output_type": "display_data"
    }
   ],
   "source": [
    "#print(data['days_exposition'].value_counts().head(10))\n",
    "#Предположим что продажа кварртир свыше 800 дней аномальным и уберем эти значения, \n",
    "#так же уберем значения меньше трех дней,не кажеться что в течение 3х дней она могла продасться\n",
    "new_days = data.query('days_exposition <= 800 and days_exposition >= 3')\n",
    "\n",
    "new_days.plot(y = 'days_exposition', kind = 'hist', bins = 20, grid = True, range = (1,1000))\n",
    "#new_days.plot(y = 'days_exposition', kind = 'hist', bins = 50, grid = True, range = (1,1000))\n",
    "\n",
    "new_days['days_exposition'].describe()\n",
    "#new_days['days_exposition'].value_counts()"
   ]
  },
  {
   "cell_type": "markdown",
   "metadata": {},
   "source": [
    "Вывод:После того как убрали аномальные значения медиана теперь 91,  а среднее значение 155."
   ]
  },
  {
   "cell_type": "markdown",
   "metadata": {},
   "source": [
    "# Рассмотрим аномальные явления в столбцах площади, цены, числа комнат и высоты потолков"
   ]
  },
  {
   "cell_type": "code",
   "execution_count": 11,
   "metadata": {},
   "outputs": [
    {
     "data": {
      "text/plain": [
       "count    23445.000000\n",
       "mean        58.227680\n",
       "std         26.509516\n",
       "min         20.000000\n",
       "25%         40.000000\n",
       "50%         52.000000\n",
       "75%         69.000000\n",
       "max        200.000000\n",
       "Name: total_area, dtype: float64"
      ]
     },
     "execution_count": 11,
     "metadata": {},
     "output_type": "execute_result"
    },
    {
     "data": {
      "image/png": "[encoded data removed]",
      "text/plain": [
       "<Figure size 360x216 with 1 Axes>"
      ]
     },
     "metadata": {
      "needs_background": "light"
     },
     "output_type": "display_data"
    }
   ],
   "source": [
    "# Уберем значения в плоощади квартир больше 200 квадратных метров и меньше 20, они редкие и не отражают основную картину.\n",
    "new_total_area = data.query('20 <= total_area <= 200')\n",
    "new_total_area.plot(y = 'total_area', kind = 'hist', bins = 100, grid=True, figsize = (5,3), range = (0,500))\n",
    "new_total_area['total_area'].describe()"
   ]
  },
  {
   "cell_type": "code",
   "execution_count": 12,
   "metadata": {},
   "outputs": [
    {
     "data": {
      "text/plain": [
       "count       22495.00\n",
       "mean      5161535.00\n",
       "std       2715754.75\n",
       "min         12190.00\n",
       "25%       3366965.00\n",
       "50%       4500000.00\n",
       "75%       6300000.00\n",
       "max      15000000.00\n",
       "Name: last_price, dtype: float64"
      ]
     },
     "execution_count": 12,
     "metadata": {},
     "output_type": "execute_result"
    },
    {
     "data": {
      "image/png": "[encoded data removed]",
      "text/plain": [
       "<Figure size 360x216 with 1 Axes>"
      ]
     },
     "metadata": {
      "needs_background": "light"
     },
     "output_type": "display_data"
    }
   ],
   "source": [
    "# Уберем значения свыше 15млн рублей, они редкие и выпадают из общих данных\n",
    "new_last_price = data.query('last_price <= 15000000')\n",
    "new_last_price.plot(y = 'last_price', kind = 'hist', bins = 100, grid=True, figsize = (5,3), range = (0,16000000))\n",
    "new_last_price['last_price'].describe()"
   ]
  },
  {
   "cell_type": "code",
   "execution_count": 13,
   "metadata": {},
   "outputs": [
    {
     "data": {
      "text/plain": [
       "count    22981.000000\n",
       "mean         2.005526\n",
       "std          0.899190\n",
       "min          1.000000\n",
       "25%          1.000000\n",
       "50%          2.000000\n",
       "75%          3.000000\n",
       "max          4.000000\n",
       "Name: rooms, dtype: float64"
      ]
     },
     "execution_count": 13,
     "metadata": {},
     "output_type": "execute_result"
    },
    {
     "data": {
      "image/png": "[encoded data removed]",
      "text/plain": [
       "<Figure size 360x216 with 1 Axes>"
      ]
     },
     "metadata": {
      "needs_background": "light"
     },
     "output_type": "display_data"
    }
   ],
   "source": [
    "# Уберем значение комнат равных 0 и больше 5,это редкие и выпадающие значения.\n",
    "new_rooms = data.query('1 <= rooms < 5')\n",
    "new_rooms.plot(y = 'rooms', kind = 'hist', bins = 30, grid=True, figsize = (5,3))\n",
    "new_rooms['rooms'].describe()"
   ]
  },
  {
   "cell_type": "code",
   "execution_count": 14,
   "metadata": {},
   "outputs": [
    {
     "data": {
      "text/plain": [
       "count    13997.000000\n",
       "mean         2.698866\n",
       "std          0.210119\n",
       "min          2.500000\n",
       "25%          2.500000\n",
       "50%          2.650000\n",
       "75%          2.800000\n",
       "max          3.490000\n",
       "Name: ceiling_height, dtype: float64"
      ]
     },
     "execution_count": 14,
     "metadata": {},
     "output_type": "execute_result"
    },
    {
     "data": {
      "image/png": "[encoded data removed]",
      "text/plain": [
       "<Figure size 360x216 with 1 Axes>"
      ]
     },
     "metadata": {
      "needs_background": "light"
     },
     "output_type": "display_data"
    }
   ],
   "source": [
    "# Ограничем высоту потолков между 2,5 и 3,5 метрами, остальные значения несущественны и выпадают из общего.\n",
    "new_ceiling_height = data.query('2.5 <= ceiling_height < 3.5')\n",
    "new_ceiling_height.plot(y = 'ceiling_height', kind = 'hist', bins = 30, grid=True, figsize = (5,3), range = (2,5))\n",
    "new_ceiling_height['ceiling_height'].describe()"
   ]
  },
  {
   "cell_type": "markdown",
   "metadata": {},
   "source": [
    "## Исследовательский анализ данных"
   ]
  },
  {
   "cell_type": "markdown",
   "metadata": {},
   "source": [
    "# Изучим зависимость стоимости квартиры от квадратного метра, числа комнат, этажа (первого или последнего), удалённости от центра. Также зависимость от даты размещения: дня недели, месяца и года."
   ]
  },
  {
   "cell_type": "code",
   "execution_count": 15,
   "metadata": {},
   "outputs": [
    {
     "data": {
      "text/plain": [
       "0.3019602097609517"
      ]
     },
     "execution_count": 15,
     "metadata": {},
     "output_type": "execute_result"
    },
    {
     "data": {
      "image/png": "[encoded data removed]",
      "text/plain": [
       "<Figure size 432x288 with 1 Axes>"
      ]
     },
     "metadata": {
      "needs_background": "light"
     },
     "output_type": "display_data"
    }
   ],
   "source": [
    "# Зависимость от квадратного метра\n",
    "total_area_table = data.pivot_table(index = 'total_area', values = 'm2_price', aggfunc = ['mean', 'count', 'median'])\n",
    "total_area_table.columns = ['mean', 'count', 'median']\n",
    "total_area_table.plot(y = 'median', style = 'o')\n",
    "\n",
    "total_area_table.sort_values('median', ascending = False)\n",
    "\n",
    "data['total_area'].corr(data['m2_price'])"
   ]
  },
  {
   "cell_type": "markdown",
   "metadata": {},
   "source": [
    "Вывод: стоимость квартиры меняеться в цене с увеличением квадратного метра."
   ]
  },
  {
   "cell_type": "code",
   "execution_count": 16,
   "metadata": {},
   "outputs": [
    {
     "data": {
      "text/plain": [
       "1     8047\n",
       "2     7940\n",
       "3     5814\n",
       "4     1180\n",
       "5      326\n",
       "0      197\n",
       "6      105\n",
       "7       59\n",
       "8       12\n",
       "9        8\n",
       "10       3\n",
       "11       2\n",
       "14       2\n",
       "19       1\n",
       "16       1\n",
       "12       1\n",
       "15       1\n",
       "Name: rooms, dtype: int64"
      ]
     },
     "execution_count": 16,
     "metadata": {},
     "output_type": "execute_result"
    }
   ],
   "source": [
    "data['rooms'].value_counts()"
   ]
  },
  {
   "cell_type": "markdown",
   "metadata": {},
   "source": [
    "# Зависимость от количества комнат"
   ]
  },
  {
   "cell_type": "code",
   "execution_count": 17,
   "metadata": {},
   "outputs": [
    {
     "data": {
      "text/plain": [
       "0.055419655824170334"
      ]
     },
     "execution_count": 17,
     "metadata": {},
     "output_type": "execute_result"
    },
    {
     "data": {
      "image/png": "[encoded data removed]",
      "text/plain": [
       "<Figure size 432x288 with 1 Axes>"
      ]
     },
     "metadata": {
      "needs_background": "light"
     },
     "output_type": "display_data"
    }
   ],
   "source": [
    "# Зависимость от количества комнат\n",
    "\n",
    "rooms_table = data.pivot_table(index = 'rooms', values = 'm2_price', aggfunc = ['mean', 'count', 'median'])\n",
    "rooms_table.columns = ['mean', 'count', 'median']\n",
    "rooms_table.query('count > 20').plot(y = 'median')\n",
    "\n",
    "rooms_table.query('count > 20').sort_values('median', ascending = False)\n",
    "\n",
    "\n",
    "data['rooms'].corr(data['m2_price'])"
   ]
  },
  {
   "cell_type": "markdown",
   "metadata": {},
   "source": [
    "Вывод: квартиры с 3мя комнатами имеет меньшую стоимость."
   ]
  },
  {
   "cell_type": "markdown",
   "metadata": {},
   "source": [
    "# Зависимость от этажности"
   ]
  },
  {
   "cell_type": "code",
   "execution_count": 18,
   "metadata": {},
   "outputs": [
    {
     "data": {
      "text/plain": [
       "<AxesSubplot:xlabel='floor_total_category'>"
      ]
     },
     "execution_count": 18,
     "metadata": {},
     "output_type": "execute_result"
    },
    {
     "data": {
      "image/png": "[encoded data removed]",
      "text/plain": [
       "<Figure size 432x288 with 1 Axes>"
      ]
     },
     "metadata": {
      "needs_background": "light"
     },
     "output_type": "display_data"
    }
   ],
   "source": [
    "# Зависимость от этажа первый или последний\n",
    "floor_category_table = data.pivot_table(\n",
    "    index = 'floor_total_category', values = 'm2_price', aggfunc = ['mean', 'count', 'median']\n",
    ")\n",
    "floor_category_table.plot(y = 'median')"
   ]
  },
  {
   "cell_type": "markdown",
   "metadata": {},
   "source": [
    "# Зависимость удаленности от центра"
   ]
  },
  {
   "cell_type": "code",
   "execution_count": 19,
   "metadata": {},
   "outputs": [
    {
     "data": {
      "text/plain": [
       "-0.31795077146266576"
      ]
     },
     "execution_count": 19,
     "metadata": {},
     "output_type": "execute_result"
    },
    {
     "data": {
      "image/png": "[encoded data removed]",
      "text/plain": [
       "<Figure size 432x288 with 1 Axes>"
      ]
     },
     "metadata": {
      "needs_background": "light"
     },
     "output_type": "display_data"
    }
   ],
   "source": [
    "# Зависимость от удаленности от центра\n",
    "data.plot(y = 'm2_price', x = 'cityCenters_nearest', kind = 'scatter')\n",
    "\n",
    "data['cityCenters_nearest'].corr(data['m2_price'])"
   ]
  },
  {
   "cell_type": "markdown",
   "metadata": {},
   "source": [
    "Вывод: Чем ближе к центру, тем выше стоимость стоимость квадрратного метра."
   ]
  },
  {
   "cell_type": "markdown",
   "metadata": {},
   "source": [
    "# Зависимость от дня продажи квартиры"
   ]
  },
  {
   "cell_type": "code",
   "execution_count": 20,
   "metadata": {},
   "outputs": [
    {
     "data": {
      "text/html": [
       "<div>\n",
       "<style scoped>\n",
       "    .dataframe tbody tr th:only-of-type {\n",
       "        vertical-align: middle;\n",
       "    }\n",
       "\n",
       "    .dataframe tbody tr th {\n",
       "        vertical-align: top;\n",
       "    }\n",
       "\n",
       "    .dataframe thead th {\n",
       "        text-align: right;\n",
       "    }\n",
       "</style>\n",
       "<table border=\"1\" class=\"dataframe\">\n",
       "  <thead>\n",
       "    <tr style=\"text-align: right;\">\n",
       "      <th></th>\n",
       "      <th>mean</th>\n",
       "      <th>count</th>\n",
       "      <th>median</th>\n",
       "    </tr>\n",
       "    <tr>\n",
       "      <th>day_exposition</th>\n",
       "      <th></th>\n",
       "      <th></th>\n",
       "      <th></th>\n",
       "    </tr>\n",
       "  </thead>\n",
       "  <tbody>\n",
       "    <tr>\n",
       "      <th>1</th>\n",
       "      <td>99734.539062</td>\n",
       "      <td>4183</td>\n",
       "      <td>95634.101562</td>\n",
       "    </tr>\n",
       "    <tr>\n",
       "      <th>2</th>\n",
       "      <td>99617.179688</td>\n",
       "      <td>3974</td>\n",
       "      <td>95473.812500</td>\n",
       "    </tr>\n",
       "    <tr>\n",
       "      <th>3</th>\n",
       "      <td>100162.906250</td>\n",
       "      <td>4295</td>\n",
       "      <td>95143.890625</td>\n",
       "    </tr>\n",
       "    <tr>\n",
       "      <th>0</th>\n",
       "      <td>99438.429688</td>\n",
       "      <td>3612</td>\n",
       "      <td>94688.906250</td>\n",
       "    </tr>\n",
       "    <tr>\n",
       "      <th>4</th>\n",
       "      <td>99012.140625</td>\n",
       "      <td>4000</td>\n",
       "      <td>94616.156250</td>\n",
       "    </tr>\n",
       "    <tr>\n",
       "      <th>6</th>\n",
       "      <td>97708.375000</td>\n",
       "      <td>1699</td>\n",
       "      <td>94501.718750</td>\n",
       "    </tr>\n",
       "    <tr>\n",
       "      <th>5</th>\n",
       "      <td>99018.171875</td>\n",
       "      <td>1936</td>\n",
       "      <td>93545.718750</td>\n",
       "    </tr>\n",
       "  </tbody>\n",
       "</table>\n",
       "</div>"
      ],
      "text/plain": [
       "                         mean  count        median\n",
       "day_exposition                                    \n",
       "1                99734.539062   4183  95634.101562\n",
       "2                99617.179688   3974  95473.812500\n",
       "3               100162.906250   4295  95143.890625\n",
       "0                99438.429688   3612  94688.906250\n",
       "4                99012.140625   4000  94616.156250\n",
       "6                97708.375000   1699  94501.718750\n",
       "5                99018.171875   1936  93545.718750"
      ]
     },
     "execution_count": 20,
     "metadata": {},
     "output_type": "execute_result"
    },
    {
     "data": {
      "image/png": "[encoded data removed]",
      "text/plain": [
       "<Figure size 432x288 with 1 Axes>"
      ]
     },
     "metadata": {
      "needs_background": "light"
     },
     "output_type": "display_data"
    }
   ],
   "source": [
    "day_exposition_table = data.pivot_table(index = 'day_exposition', values = 'm2_price', aggfunc = ['mean', 'count', 'median'])\n",
    "day_exposition_table.columns = ['mean', 'count', 'median']\n",
    "day_exposition_table.plot(y = 'median')\n",
    "day_exposition_table.sort_values('median', ascending = False)"
   ]
  },
  {
   "cell_type": "markdown",
   "metadata": {},
   "source": [
    "Вывод: Самая высокая стоимость выставленных обьявлений во вторник, самая низкая в субботу."
   ]
  },
  {
   "cell_type": "markdown",
   "metadata": {},
   "source": [
    "# Зависимость от месяца продажи квартиры"
   ]
  },
  {
   "cell_type": "code",
   "execution_count": 21,
   "metadata": {},
   "outputs": [
    {
     "data": {
      "text/html": [
       "<div>\n",
       "<style scoped>\n",
       "    .dataframe tbody tr th:only-of-type {\n",
       "        vertical-align: middle;\n",
       "    }\n",
       "\n",
       "    .dataframe tbody tr th {\n",
       "        vertical-align: top;\n",
       "    }\n",
       "\n",
       "    .dataframe thead th {\n",
       "        text-align: right;\n",
       "    }\n",
       "</style>\n",
       "<table border=\"1\" class=\"dataframe\">\n",
       "  <thead>\n",
       "    <tr style=\"text-align: right;\">\n",
       "      <th></th>\n",
       "      <th>mean</th>\n",
       "      <th>count</th>\n",
       "      <th>median</th>\n",
       "    </tr>\n",
       "    <tr>\n",
       "      <th>month_exposition</th>\n",
       "      <th></th>\n",
       "      <th></th>\n",
       "      <th></th>\n",
       "    </tr>\n",
       "  </thead>\n",
       "  <tbody>\n",
       "    <tr>\n",
       "      <th>4</th>\n",
       "      <td>101949.023438</td>\n",
       "      <td>2379</td>\n",
       "      <td>96451.609375</td>\n",
       "    </tr>\n",
       "    <tr>\n",
       "      <th>8</th>\n",
       "      <td>100110.531250</td>\n",
       "      <td>1744</td>\n",
       "      <td>96026.312500</td>\n",
       "    </tr>\n",
       "    <tr>\n",
       "      <th>9</th>\n",
       "      <td>100464.273438</td>\n",
       "      <td>1981</td>\n",
       "      <td>95607.234375</td>\n",
       "    </tr>\n",
       "    <tr>\n",
       "      <th>11</th>\n",
       "      <td>99230.867188</td>\n",
       "      <td>2371</td>\n",
       "      <td>95588.234375</td>\n",
       "    </tr>\n",
       "    <tr>\n",
       "      <th>3</th>\n",
       "      <td>98973.218750</td>\n",
       "      <td>2587</td>\n",
       "      <td>95238.093750</td>\n",
       "    </tr>\n",
       "    <tr>\n",
       "      <th>1</th>\n",
       "      <td>99862.578125</td>\n",
       "      <td>1500</td>\n",
       "      <td>95222.437500</td>\n",
       "    </tr>\n",
       "    <tr>\n",
       "      <th>2</th>\n",
       "      <td>98768.734375</td>\n",
       "      <td>2640</td>\n",
       "      <td>95000.000000</td>\n",
       "    </tr>\n",
       "    <tr>\n",
       "      <th>7</th>\n",
       "      <td>99625.640625</td>\n",
       "      <td>1695</td>\n",
       "      <td>95000.000000</td>\n",
       "    </tr>\n",
       "    <tr>\n",
       "      <th>12</th>\n",
       "      <td>99574.726562</td>\n",
       "      <td>1641</td>\n",
       "      <td>94262.296875</td>\n",
       "    </tr>\n",
       "    <tr>\n",
       "      <th>10</th>\n",
       "      <td>97933.898438</td>\n",
       "      <td>2127</td>\n",
       "      <td>94202.898438</td>\n",
       "    </tr>\n",
       "    <tr>\n",
       "      <th>5</th>\n",
       "      <td>98543.765625</td>\n",
       "      <td>1274</td>\n",
       "      <td>92857.140625</td>\n",
       "    </tr>\n",
       "    <tr>\n",
       "      <th>6</th>\n",
       "      <td>97763.320312</td>\n",
       "      <td>1760</td>\n",
       "      <td>92799.539062</td>\n",
       "    </tr>\n",
       "  </tbody>\n",
       "</table>\n",
       "</div>"
      ],
      "text/plain": [
       "                           mean  count        median\n",
       "month_exposition                                    \n",
       "4                 101949.023438   2379  96451.609375\n",
       "8                 100110.531250   1744  96026.312500\n",
       "9                 100464.273438   1981  95607.234375\n",
       "11                 99230.867188   2371  95588.234375\n",
       "3                  98973.218750   2587  95238.093750\n",
       "1                  99862.578125   1500  95222.437500\n",
       "2                  98768.734375   2640  95000.000000\n",
       "7                  99625.640625   1695  95000.000000\n",
       "12                 99574.726562   1641  94262.296875\n",
       "10                 97933.898438   2127  94202.898438\n",
       "5                  98543.765625   1274  92857.140625\n",
       "6                  97763.320312   1760  92799.539062"
      ]
     },
     "execution_count": 21,
     "metadata": {},
     "output_type": "execute_result"
    },
    {
     "data": {
      "image/png": "[encoded data removed]",
      "text/plain": [
       "<Figure size 432x288 with 1 Axes>"
      ]
     },
     "metadata": {
      "needs_background": "light"
     },
     "output_type": "display_data"
    }
   ],
   "source": [
    "month_exposition_table = data.pivot_table(index = 'month_exposition', values = 'm2_price', aggfunc = ['mean', 'count', 'median'])\n",
    "month_exposition_table.columns = ['mean', 'count', 'median']\n",
    "month_exposition_table.plot(y = 'median')\n",
    "month_exposition_table.sort_values('median', ascending = False)"
   ]
  },
  {
   "cell_type": "markdown",
   "metadata": {},
   "source": [
    "Вывод: Самое большая стоимость в апреле, а самое низкое в мае и июне."
   ]
  },
  {
   "cell_type": "markdown",
   "metadata": {},
   "source": [
    "# Зависимость от года продажи квартиры"
   ]
  },
  {
   "cell_type": "code",
   "execution_count": 22,
   "metadata": {},
   "outputs": [
    {
     "data": {
      "text/html": [
       "<div>\n",
       "<style scoped>\n",
       "    .dataframe tbody tr th:only-of-type {\n",
       "        vertical-align: middle;\n",
       "    }\n",
       "\n",
       "    .dataframe tbody tr th {\n",
       "        vertical-align: top;\n",
       "    }\n",
       "\n",
       "    .dataframe thead th {\n",
       "        text-align: right;\n",
       "    }\n",
       "</style>\n",
       "<table border=\"1\" class=\"dataframe\">\n",
       "  <thead>\n",
       "    <tr style=\"text-align: right;\">\n",
       "      <th></th>\n",
       "      <th>mean</th>\n",
       "      <th>count</th>\n",
       "      <th>median</th>\n",
       "    </tr>\n",
       "    <tr>\n",
       "      <th>year_exposition</th>\n",
       "      <th></th>\n",
       "      <th></th>\n",
       "      <th></th>\n",
       "    </tr>\n",
       "  </thead>\n",
       "  <tbody>\n",
       "    <tr>\n",
       "      <th>2014</th>\n",
       "      <td>124830.429688</td>\n",
       "      <td>137</td>\n",
       "      <td>107000.000000</td>\n",
       "    </tr>\n",
       "    <tr>\n",
       "      <th>2019</th>\n",
       "      <td>107123.781250</td>\n",
       "      <td>2879</td>\n",
       "      <td>103305.789062</td>\n",
       "    </tr>\n",
       "    <tr>\n",
       "      <th>2018</th>\n",
       "      <td>97773.554688</td>\n",
       "      <td>8519</td>\n",
       "      <td>95689.656250</td>\n",
       "    </tr>\n",
       "    <tr>\n",
       "      <th>2015</th>\n",
       "      <td>104614.203125</td>\n",
       "      <td>1191</td>\n",
       "      <td>93414.632812</td>\n",
       "    </tr>\n",
       "    <tr>\n",
       "      <th>2017</th>\n",
       "      <td>97621.875000</td>\n",
       "      <td>8190</td>\n",
       "      <td>92565.093750</td>\n",
       "    </tr>\n",
       "    <tr>\n",
       "      <th>2016</th>\n",
       "      <td>98322.343750</td>\n",
       "      <td>2783</td>\n",
       "      <td>91743.117188</td>\n",
       "    </tr>\n",
       "  </tbody>\n",
       "</table>\n",
       "</div>"
      ],
      "text/plain": [
       "                          mean  count         median\n",
       "year_exposition                                     \n",
       "2014             124830.429688    137  107000.000000\n",
       "2019             107123.781250   2879  103305.789062\n",
       "2018              97773.554688   8519   95689.656250\n",
       "2015             104614.203125   1191   93414.632812\n",
       "2017              97621.875000   8190   92565.093750\n",
       "2016              98322.343750   2783   91743.117188"
      ]
     },
     "execution_count": 22,
     "metadata": {},
     "output_type": "execute_result"
    },
    {
     "data": {
      "image/png": "[encoded data removed]",
      "text/plain": [
       "<Figure size 432x288 with 1 Axes>"
      ]
     },
     "metadata": {
      "needs_background": "light"
     },
     "output_type": "display_data"
    }
   ],
   "source": [
    "year_exposition_table = data.pivot_table(index = 'year_exposition', values = 'm2_price', aggfunc = ['mean', 'count', 'median'])\n",
    "year_exposition_table.columns = ['mean', 'count', 'median']\n",
    "year_exposition_table.plot(y = 'median')\n",
    "year_exposition_table.sort_values('median', ascending = False)"
   ]
  },
  {
   "cell_type": "markdown",
   "metadata": {},
   "source": [
    "Вывод: в 2014 году была самая большая стоимость квартир, затем она падает где минимум 2016 год и опять начинаеть подниматься."
   ]
  },
  {
   "cell_type": "markdown",
   "metadata": {},
   "source": [
    "# Выведем 10 населённых пунктов с наибольшим числом объявлений."
   ]
  },
  {
   "cell_type": "code",
   "execution_count": 23,
   "metadata": {},
   "outputs": [
    {
     "name": "stdout",
     "output_type": "stream",
     "text": [
      "                 count           mean\n",
      "locality_name                        \n",
      "Санкт-Петербург  15721  114849.007812\n",
      "               count          mean\n",
      "locality_name                     \n",
      "Выборг           237  58141.910156\n",
      "                   count           mean\n",
      "locality_name                          \n",
      "Санкт-Петербург    15721  114849.007812\n",
      "посёлок Мурино       522   85752.187500\n",
      "посёлок Шушары       440   78677.367188\n",
      "Всеволожск           398   68654.476562\n",
      "Пушкин               369  103125.820312\n",
      "Колпино              338   75424.578125\n",
      "посёлок Парголово    327   90175.914062\n",
      "Гатчина              307   68746.148438\n",
      "деревня Кудрово      299   92473.546875\n",
      "Выборг               237   58141.910156\n"
     ]
    }
   ],
   "source": [
    "#print(data['locality_name'].value_counts().head(10))\n",
    "\n",
    "locality_table = data.pivot_table(index = 'locality_name', values = 'm2_price', aggfunc=['count', 'mean'])\n",
    "#print(locality_table.head(10))\n",
    "locality_table.columns = ['count', 'mean']\n",
    "#print(locality_table.head(10))\n",
    "locality_table = locality_table.sort_values('count', ascending = False).head(10)\n",
    "#самая высокая стоимость\n",
    "print(locality_table[locality_table['mean']==locality_table['mean'].max()])\n",
    "#самая низкая стоимость\n",
    "print(locality_table[locality_table['mean']==locality_table['mean'].min()])\n",
    "print(locality_table.head(10))\n"
   ]
  },
  {
   "cell_type": "markdown",
   "metadata": {},
   "source": [
    "Вывод: Самая высокое количество продаж в Санкт-Петербурге, самая низкая в Выборге."
   ]
  },
  {
   "cell_type": "markdown",
   "metadata": {},
   "source": [
    "# Определим какие квартиры могут входить в центр"
   ]
  },
  {
   "cell_type": "code",
   "execution_count": 24,
   "metadata": {},
   "outputs": [
    {
     "data": {
      "text/plain": [
       "<AxesSubplot:xlabel='cityCenters_nearest_km'>"
      ]
     },
     "execution_count": 24,
     "metadata": {},
     "output_type": "execute_result"
    },
    {
     "data": {
      "image/png": "[encoded data removed]",
      "text/plain": [
       "<Figure size 432x288 with 1 Axes>"
      ]
     },
     "metadata": {
      "needs_background": "light"
     },
     "output_type": "display_data"
    }
   ],
   "source": [
    "data['cityCenters_nearest_km'] = data['cityCenters_nearest']/1000\n",
    "#print(data['cityCenters_nearest_km'].head(10))\n",
    "Piter = data.query('locality_name == \"Санкт-Петербург\"')\n",
    "Piter = data.pivot_table(index = 'cityCenters_nearest_km', values = 'm2_price', aggfunc = 'mean')\n",
    "Piter.plot()"
   ]
  },
  {
   "cell_type": "markdown",
   "metadata": {},
   "source": [
    "Вывод:судя по графику,для точности берем 7 км расстоянием до центра."
   ]
  },
  {
   "cell_type": "markdown",
   "metadata": {},
   "source": [
    "# Выделим квартиры в Санкт-Петербурге, в центре и произведем расчеты"
   ]
  },
  {
   "cell_type": "code",
   "execution_count": 25,
   "metadata": {},
   "outputs": [
    {
     "data": {
      "text/html": [
       "<div>\n",
       "<style scoped>\n",
       "    .dataframe tbody tr th:only-of-type {\n",
       "        vertical-align: middle;\n",
       "    }\n",
       "\n",
       "    .dataframe tbody tr th {\n",
       "        vertical-align: top;\n",
       "    }\n",
       "\n",
       "    .dataframe thead th {\n",
       "        text-align: right;\n",
       "    }\n",
       "</style>\n",
       "<table border=\"1\" class=\"dataframe\">\n",
       "  <thead>\n",
       "    <tr style=\"text-align: right;\">\n",
       "      <th></th>\n",
       "      <th>total_images</th>\n",
       "      <th>last_price</th>\n",
       "      <th>total_area</th>\n",
       "      <th>first_day_exposition</th>\n",
       "      <th>rooms</th>\n",
       "      <th>ceiling_height</th>\n",
       "      <th>floors_total</th>\n",
       "      <th>living_area</th>\n",
       "      <th>floor</th>\n",
       "      <th>is_apartment</th>\n",
       "      <th>...</th>\n",
       "      <th>ponds_nearest</th>\n",
       "      <th>days_exposition</th>\n",
       "      <th>m2_price</th>\n",
       "      <th>day_exposition</th>\n",
       "      <th>month_exposition</th>\n",
       "      <th>year_exposition</th>\n",
       "      <th>floor_total_category</th>\n",
       "      <th>liv_total_area</th>\n",
       "      <th>kit_total_area</th>\n",
       "      <th>cityCenters_nearest_km</th>\n",
       "    </tr>\n",
       "  </thead>\n",
       "  <tbody>\n",
       "    <tr>\n",
       "      <th>3</th>\n",
       "      <td>0</td>\n",
       "      <td>64900000.0</td>\n",
       "      <td>159.000000</td>\n",
       "      <td>2015-07-24</td>\n",
       "      <td>3</td>\n",
       "      <td>NaN</td>\n",
       "      <td>14.0</td>\n",
       "      <td>NaN</td>\n",
       "      <td>9</td>\n",
       "      <td>0</td>\n",
       "      <td>...</td>\n",
       "      <td>234.0</td>\n",
       "      <td>424.0</td>\n",
       "      <td>408176.093750</td>\n",
       "      <td>4</td>\n",
       "      <td>7</td>\n",
       "      <td>2015</td>\n",
       "      <td>другой</td>\n",
       "      <td>NaN</td>\n",
       "      <td>NaN</td>\n",
       "      <td>6.800</td>\n",
       "    </tr>\n",
       "    <tr>\n",
       "      <th>24</th>\n",
       "      <td>8</td>\n",
       "      <td>6500000.0</td>\n",
       "      <td>97.199997</td>\n",
       "      <td>2015-10-31</td>\n",
       "      <td>2</td>\n",
       "      <td>NaN</td>\n",
       "      <td>3.0</td>\n",
       "      <td>46.500000</td>\n",
       "      <td>1</td>\n",
       "      <td>0</td>\n",
       "      <td>...</td>\n",
       "      <td>124.0</td>\n",
       "      <td>265.0</td>\n",
       "      <td>66872.429688</td>\n",
       "      <td>5</td>\n",
       "      <td>10</td>\n",
       "      <td>2015</td>\n",
       "      <td>первый</td>\n",
       "      <td>0.478395</td>\n",
       "      <td>0.201646</td>\n",
       "      <td>2.336</td>\n",
       "    </tr>\n",
       "    <tr>\n",
       "      <th>35</th>\n",
       "      <td>6</td>\n",
       "      <td>15500000.0</td>\n",
       "      <td>149.000000</td>\n",
       "      <td>2017-06-26</td>\n",
       "      <td>5</td>\n",
       "      <td>NaN</td>\n",
       "      <td>5.0</td>\n",
       "      <td>104.000000</td>\n",
       "      <td>4</td>\n",
       "      <td>0</td>\n",
       "      <td>...</td>\n",
       "      <td>779.0</td>\n",
       "      <td>644.0</td>\n",
       "      <td>104026.843750</td>\n",
       "      <td>0</td>\n",
       "      <td>6</td>\n",
       "      <td>2017</td>\n",
       "      <td>другой</td>\n",
       "      <td>0.697987</td>\n",
       "      <td>0.114094</td>\n",
       "      <td>3.502</td>\n",
       "    </tr>\n",
       "    <tr>\n",
       "      <th>51</th>\n",
       "      <td>7</td>\n",
       "      <td>45000000.0</td>\n",
       "      <td>161.000000</td>\n",
       "      <td>2017-10-17</td>\n",
       "      <td>3</td>\n",
       "      <td>3.2</td>\n",
       "      <td>8.0</td>\n",
       "      <td>38.000000</td>\n",
       "      <td>4</td>\n",
       "      <td>0</td>\n",
       "      <td>...</td>\n",
       "      <td>99.0</td>\n",
       "      <td>541.0</td>\n",
       "      <td>279503.093750</td>\n",
       "      <td>1</td>\n",
       "      <td>10</td>\n",
       "      <td>2017</td>\n",
       "      <td>другой</td>\n",
       "      <td>0.236025</td>\n",
       "      <td>0.310559</td>\n",
       "      <td>6.589</td>\n",
       "    </tr>\n",
       "    <tr>\n",
       "      <th>52</th>\n",
       "      <td>20</td>\n",
       "      <td>11795000.0</td>\n",
       "      <td>136.000000</td>\n",
       "      <td>2017-09-22</td>\n",
       "      <td>6</td>\n",
       "      <td>3.0</td>\n",
       "      <td>2.0</td>\n",
       "      <td>94.000000</td>\n",
       "      <td>2</td>\n",
       "      <td>0</td>\n",
       "      <td>...</td>\n",
       "      <td>NaN</td>\n",
       "      <td>NaN</td>\n",
       "      <td>86727.937500</td>\n",
       "      <td>4</td>\n",
       "      <td>9</td>\n",
       "      <td>2017</td>\n",
       "      <td>последний</td>\n",
       "      <td>0.691176</td>\n",
       "      <td>0.080882</td>\n",
       "      <td>6.582</td>\n",
       "    </tr>\n",
       "    <tr>\n",
       "      <th>61</th>\n",
       "      <td>18</td>\n",
       "      <td>7990000.0</td>\n",
       "      <td>74.000000</td>\n",
       "      <td>2017-08-24</td>\n",
       "      <td>2</td>\n",
       "      <td>NaN</td>\n",
       "      <td>4.0</td>\n",
       "      <td>43.000000</td>\n",
       "      <td>4</td>\n",
       "      <td>0</td>\n",
       "      <td>...</td>\n",
       "      <td>NaN</td>\n",
       "      <td>609.0</td>\n",
       "      <td>107972.976562</td>\n",
       "      <td>3</td>\n",
       "      <td>8</td>\n",
       "      <td>2017</td>\n",
       "      <td>последний</td>\n",
       "      <td>0.581081</td>\n",
       "      <td>0.270270</td>\n",
       "      <td>4.288</td>\n",
       "    </tr>\n",
       "    <tr>\n",
       "      <th>63</th>\n",
       "      <td>2</td>\n",
       "      <td>20000000.0</td>\n",
       "      <td>118.000000</td>\n",
       "      <td>2018-09-11</td>\n",
       "      <td>3</td>\n",
       "      <td>3.0</td>\n",
       "      <td>9.0</td>\n",
       "      <td>68.000000</td>\n",
       "      <td>7</td>\n",
       "      <td>0</td>\n",
       "      <td>...</td>\n",
       "      <td>779.0</td>\n",
       "      <td>37.0</td>\n",
       "      <td>169491.531250</td>\n",
       "      <td>1</td>\n",
       "      <td>9</td>\n",
       "      <td>2018</td>\n",
       "      <td>другой</td>\n",
       "      <td>0.576271</td>\n",
       "      <td>0.135593</td>\n",
       "      <td>4.800</td>\n",
       "    </tr>\n",
       "    <tr>\n",
       "      <th>99</th>\n",
       "      <td>32</td>\n",
       "      <td>9600000.0</td>\n",
       "      <td>90.000000</td>\n",
       "      <td>2017-09-26</td>\n",
       "      <td>4</td>\n",
       "      <td>NaN</td>\n",
       "      <td>5.0</td>\n",
       "      <td>67.000000</td>\n",
       "      <td>2</td>\n",
       "      <td>0</td>\n",
       "      <td>...</td>\n",
       "      <td>NaN</td>\n",
       "      <td>104.0</td>\n",
       "      <td>106666.664062</td>\n",
       "      <td>1</td>\n",
       "      <td>9</td>\n",
       "      <td>2017</td>\n",
       "      <td>другой</td>\n",
       "      <td>0.744444</td>\n",
       "      <td>0.088889</td>\n",
       "      <td>2.818</td>\n",
       "    </tr>\n",
       "    <tr>\n",
       "      <th>106</th>\n",
       "      <td>9</td>\n",
       "      <td>10500000.0</td>\n",
       "      <td>124.099998</td>\n",
       "      <td>2017-05-25</td>\n",
       "      <td>5</td>\n",
       "      <td>3.2</td>\n",
       "      <td>4.0</td>\n",
       "      <td>79.400002</td>\n",
       "      <td>3</td>\n",
       "      <td>0</td>\n",
       "      <td>...</td>\n",
       "      <td>NaN</td>\n",
       "      <td>6.0</td>\n",
       "      <td>84609.187500</td>\n",
       "      <td>3</td>\n",
       "      <td>5</td>\n",
       "      <td>2017</td>\n",
       "      <td>другой</td>\n",
       "      <td>0.639807</td>\n",
       "      <td>0.161160</td>\n",
       "      <td>5.527</td>\n",
       "    </tr>\n",
       "    <tr>\n",
       "      <th>111</th>\n",
       "      <td>4</td>\n",
       "      <td>4590000.0</td>\n",
       "      <td>40.000000</td>\n",
       "      <td>2017-05-29</td>\n",
       "      <td>1</td>\n",
       "      <td>NaN</td>\n",
       "      <td>6.0</td>\n",
       "      <td>18.000000</td>\n",
       "      <td>1</td>\n",
       "      <td>0</td>\n",
       "      <td>...</td>\n",
       "      <td>NaN</td>\n",
       "      <td>31.0</td>\n",
       "      <td>114750.000000</td>\n",
       "      <td>0</td>\n",
       "      <td>5</td>\n",
       "      <td>2017</td>\n",
       "      <td>первый</td>\n",
       "      <td>0.450000</td>\n",
       "      <td>0.250000</td>\n",
       "      <td>6.175</td>\n",
       "    </tr>\n",
       "  </tbody>\n",
       "</table>\n",
       "<p>10 rows × 30 columns</p>\n",
       "</div>"
      ],
      "text/plain": [
       "     total_images  last_price  total_area first_day_exposition  rooms  \\\n",
       "3               0  64900000.0  159.000000           2015-07-24      3   \n",
       "24              8   6500000.0   97.199997           2015-10-31      2   \n",
       "35              6  15500000.0  149.000000           2017-06-26      5   \n",
       "51              7  45000000.0  161.000000           2017-10-17      3   \n",
       "52             20  11795000.0  136.000000           2017-09-22      6   \n",
       "61             18   7990000.0   74.000000           2017-08-24      2   \n",
       "63              2  20000000.0  118.000000           2018-09-11      3   \n",
       "99             32   9600000.0   90.000000           2017-09-26      4   \n",
       "106             9  10500000.0  124.099998           2017-05-25      5   \n",
       "111             4   4590000.0   40.000000           2017-05-29      1   \n",
       "\n",
       "     ceiling_height  floors_total  living_area  floor  is_apartment  ...  \\\n",
       "3               NaN          14.0          NaN      9             0  ...   \n",
       "24              NaN           3.0    46.500000      1             0  ...   \n",
       "35              NaN           5.0   104.000000      4             0  ...   \n",
       "51              3.2           8.0    38.000000      4             0  ...   \n",
       "52              3.0           2.0    94.000000      2             0  ...   \n",
       "61              NaN           4.0    43.000000      4             0  ...   \n",
       "63              3.0           9.0    68.000000      7             0  ...   \n",
       "99              NaN           5.0    67.000000      2             0  ...   \n",
       "106             3.2           4.0    79.400002      3             0  ...   \n",
       "111             NaN           6.0    18.000000      1             0  ...   \n",
       "\n",
       "     ponds_nearest  days_exposition       m2_price  day_exposition  \\\n",
       "3            234.0            424.0  408176.093750               4   \n",
       "24           124.0            265.0   66872.429688               5   \n",
       "35           779.0            644.0  104026.843750               0   \n",
       "51            99.0            541.0  279503.093750               1   \n",
       "52             NaN              NaN   86727.937500               4   \n",
       "61             NaN            609.0  107972.976562               3   \n",
       "63           779.0             37.0  169491.531250               1   \n",
       "99             NaN            104.0  106666.664062               1   \n",
       "106            NaN              6.0   84609.187500               3   \n",
       "111            NaN             31.0  114750.000000               0   \n",
       "\n",
       "    month_exposition  year_exposition  floor_total_category  liv_total_area  \\\n",
       "3                  7             2015                другой             NaN   \n",
       "24                10             2015                первый        0.478395   \n",
       "35                 6             2017                другой        0.697987   \n",
       "51                10             2017                другой        0.236025   \n",
       "52                 9             2017             последний        0.691176   \n",
       "61                 8             2017             последний        0.581081   \n",
       "63                 9             2018                другой        0.576271   \n",
       "99                 9             2017                другой        0.744444   \n",
       "106                5             2017                другой        0.639807   \n",
       "111                5             2017                первый        0.450000   \n",
       "\n",
       "     kit_total_area  cityCenters_nearest_km  \n",
       "3               NaN                   6.800  \n",
       "24         0.201646                   2.336  \n",
       "35         0.114094                   3.502  \n",
       "51         0.310559                   6.589  \n",
       "52         0.080882                   6.582  \n",
       "61         0.270270                   4.288  \n",
       "63         0.135593                   4.800  \n",
       "99         0.088889                   2.818  \n",
       "106        0.161160                   5.527  \n",
       "111        0.250000                   6.175  \n",
       "\n",
       "[10 rows x 30 columns]"
      ]
     },
     "metadata": {},
     "output_type": "display_data"
    }
   ],
   "source": [
    "#выделим квартиры в центре, беря за радиус 7 км\n",
    "Piter_centr = data.query('cityCenters_nearest_km <= 7 and locality_name == \"Санкт-Петербург\"')\n",
    "display(Piter_centr.head(10))\n"
   ]
  },
  {
   "cell_type": "markdown",
   "metadata": {},
   "source": [
    "# Зависимость от количества комнат"
   ]
  },
  {
   "cell_type": "code",
   "execution_count": 26,
   "metadata": {},
   "outputs": [
    {
     "data": {
      "text/html": [
       "<div>\n",
       "<style scoped>\n",
       "    .dataframe tbody tr th:only-of-type {\n",
       "        vertical-align: middle;\n",
       "    }\n",
       "\n",
       "    .dataframe tbody tr th {\n",
       "        vertical-align: top;\n",
       "    }\n",
       "\n",
       "    .dataframe thead th {\n",
       "        text-align: right;\n",
       "    }\n",
       "</style>\n",
       "<table border=\"1\" class=\"dataframe\">\n",
       "  <thead>\n",
       "    <tr style=\"text-align: right;\">\n",
       "      <th></th>\n",
       "      <th>mean</th>\n",
       "      <th>count</th>\n",
       "      <th>median</th>\n",
       "    </tr>\n",
       "    <tr>\n",
       "      <th>rooms</th>\n",
       "      <th></th>\n",
       "      <th></th>\n",
       "      <th></th>\n",
       "    </tr>\n",
       "  </thead>\n",
       "  <tbody>\n",
       "    <tr>\n",
       "      <th>1</th>\n",
       "      <td>154891.359375</td>\n",
       "      <td>477</td>\n",
       "      <td>143750.000000</td>\n",
       "    </tr>\n",
       "    <tr>\n",
       "      <th>2</th>\n",
       "      <td>142549.078125</td>\n",
       "      <td>962</td>\n",
       "      <td>126094.968750</td>\n",
       "    </tr>\n",
       "    <tr>\n",
       "      <th>3</th>\n",
       "      <td>143165.906250</td>\n",
       "      <td>1015</td>\n",
       "      <td>117235.773438</td>\n",
       "    </tr>\n",
       "    <tr>\n",
       "      <th>7</th>\n",
       "      <td>167223.468750</td>\n",
       "      <td>54</td>\n",
       "      <td>109996.062500</td>\n",
       "    </tr>\n",
       "    <tr>\n",
       "      <th>4</th>\n",
       "      <td>137841.375000</td>\n",
       "      <td>466</td>\n",
       "      <td>108268.234375</td>\n",
       "    </tr>\n",
       "    <tr>\n",
       "      <th>5</th>\n",
       "      <td>145011.140625</td>\n",
       "      <td>214</td>\n",
       "      <td>104158.804688</td>\n",
       "    </tr>\n",
       "    <tr>\n",
       "      <th>6</th>\n",
       "      <td>153676.484375</td>\n",
       "      <td>81</td>\n",
       "      <td>103361.343750</td>\n",
       "    </tr>\n",
       "  </tbody>\n",
       "</table>\n",
       "</div>"
      ],
      "text/plain": [
       "                mean  count         median\n",
       "rooms                                     \n",
       "1      154891.359375    477  143750.000000\n",
       "2      142549.078125    962  126094.968750\n",
       "3      143165.906250   1015  117235.773438\n",
       "7      167223.468750     54  109996.062500\n",
       "4      137841.375000    466  108268.234375\n",
       "5      145011.140625    214  104158.804688\n",
       "6      153676.484375     81  103361.343750"
      ]
     },
     "execution_count": 26,
     "metadata": {},
     "output_type": "execute_result"
    },
    {
     "data": {
      "image/png": "[encoded data removed]",
      "text/plain": [
       "<Figure size 432x288 with 1 Axes>"
      ]
     },
     "metadata": {
      "needs_background": "light"
     },
     "output_type": "display_data"
    }
   ],
   "source": [
    "Piter_centr_rooms = Piter_centr.pivot_table(index = 'rooms', values = 'm2_price', aggfunc = ['mean', 'count', 'median'])\n",
    "Piter_centr_rooms.columns = ['mean', 'count', 'median']\n",
    "Piter_centr_rooms.query('count>30').plot(y = 'median')\n",
    "Piter_centr_rooms.query('count>30').sort_values('median', ascending = False)"
   ]
  },
  {
   "cell_type": "markdown",
   "metadata": {},
   "source": [
    "Вывод: с увеличением количества комнат стоимость жилья снижаеться. Минимальная цена 6 комнат."
   ]
  },
  {
   "cell_type": "markdown",
   "metadata": {},
   "source": [
    "# Зависимость от этажа"
   ]
  },
  {
   "cell_type": "code",
   "execution_count": 27,
   "metadata": {},
   "outputs": [
    {
     "data": {
      "text/html": [
       "<div>\n",
       "<style scoped>\n",
       "    .dataframe tbody tr th:only-of-type {\n",
       "        vertical-align: middle;\n",
       "    }\n",
       "\n",
       "    .dataframe tbody tr th {\n",
       "        vertical-align: top;\n",
       "    }\n",
       "\n",
       "    .dataframe thead th {\n",
       "        text-align: right;\n",
       "    }\n",
       "</style>\n",
       "<table border=\"1\" class=\"dataframe\">\n",
       "  <thead>\n",
       "    <tr style=\"text-align: right;\">\n",
       "      <th></th>\n",
       "      <th>mean</th>\n",
       "      <th>count</th>\n",
       "      <th>median</th>\n",
       "    </tr>\n",
       "    <tr>\n",
       "      <th>floor_total_category</th>\n",
       "      <th></th>\n",
       "      <th></th>\n",
       "      <th></th>\n",
       "    </tr>\n",
       "  </thead>\n",
       "  <tbody>\n",
       "    <tr>\n",
       "      <th>первый</th>\n",
       "      <td>122682.937500</td>\n",
       "      <td>371</td>\n",
       "      <td>109457.093750</td>\n",
       "    </tr>\n",
       "    <tr>\n",
       "      <th>последний</th>\n",
       "      <td>144072.203125</td>\n",
       "      <td>603</td>\n",
       "      <td>116666.664062</td>\n",
       "    </tr>\n",
       "    <tr>\n",
       "      <th>другой</th>\n",
       "      <td>148472.875000</td>\n",
       "      <td>2331</td>\n",
       "      <td>127551.023438</td>\n",
       "    </tr>\n",
       "  </tbody>\n",
       "</table>\n",
       "</div>"
      ],
      "text/plain": [
       "                               mean  count         median\n",
       "floor_total_category                                     \n",
       "первый                122682.937500    371  109457.093750\n",
       "последний             144072.203125    603  116666.664062\n",
       "другой                148472.875000   2331  127551.023438"
      ]
     },
     "execution_count": 27,
     "metadata": {},
     "output_type": "execute_result"
    },
    {
     "data": {
      "image/png": "[encoded data removed]",
      "text/plain": [
       "<Figure size 432x288 with 1 Axes>"
      ]
     },
     "metadata": {
      "needs_background": "light"
     },
     "output_type": "display_data"
    }
   ],
   "source": [
    "Piter_centr_floor = Piter_centr.pivot_table(index = 'floor_total_category', values = 'm2_price', aggfunc = ['mean', 'count', 'median'])\n",
    "Piter_centr_floor.columns = ['mean', 'count', 'median']\n",
    "Piter_centr_floor.plot(y = 'median')\n",
    "Piter_centr_floor.sort_values('median', ascending = True)\n",
    "#print(Piter_centr_floor)"
   ]
  },
  {
   "cell_type": "markdown",
   "metadata": {},
   "source": [
    "Вывод: Самые дорогие квартиры с этажностью другие, самые дешевые на первом этаже."
   ]
  },
  {
   "cell_type": "markdown",
   "metadata": {},
   "source": [
    "# Зависимость от удаленности от центра"
   ]
  },
  {
   "cell_type": "code",
   "execution_count": 28,
   "metadata": {},
   "outputs": [
    {
     "name": "stdout",
     "output_type": "stream",
     "text": [
      "-0.029526771783103457\n"
     ]
    },
    {
     "data": {
      "image/png": "[encoded data removed]",
      "text/plain": [
       "<Figure size 432x288 with 1 Axes>"
      ]
     },
     "metadata": {
      "needs_background": "light"
     },
     "output_type": "display_data"
    }
   ],
   "source": [
    "Piter_centr.plot(kind = 'scatter', y = 'm2_price', x = 'cityCenters_nearest', alpha = 0.5)\n",
    "print(Piter_centr['m2_price'].corr(Piter_centr['cityCenters_nearest']))"
   ]
  },
  {
   "cell_type": "markdown",
   "metadata": {},
   "source": [
    "Вывод: В пределах 7км все квартиры примерно стоят одинаково."
   ]
  },
  {
   "cell_type": "markdown",
   "metadata": {},
   "source": [
    "# Зависимость от дня недели"
   ]
  },
  {
   "cell_type": "code",
   "execution_count": 29,
   "metadata": {},
   "outputs": [
    {
     "data": {
      "text/html": [
       "<div>\n",
       "<style scoped>\n",
       "    .dataframe tbody tr th:only-of-type {\n",
       "        vertical-align: middle;\n",
       "    }\n",
       "\n",
       "    .dataframe tbody tr th {\n",
       "        vertical-align: top;\n",
       "    }\n",
       "\n",
       "    .dataframe thead th {\n",
       "        text-align: right;\n",
       "    }\n",
       "</style>\n",
       "<table border=\"1\" class=\"dataframe\">\n",
       "  <thead>\n",
       "    <tr style=\"text-align: right;\">\n",
       "      <th></th>\n",
       "      <th>mean</th>\n",
       "      <th>count</th>\n",
       "      <th>median</th>\n",
       "    </tr>\n",
       "    <tr>\n",
       "      <th>day_exposition</th>\n",
       "      <th></th>\n",
       "      <th></th>\n",
       "      <th></th>\n",
       "    </tr>\n",
       "  </thead>\n",
       "  <tbody>\n",
       "    <tr>\n",
       "      <th>6</th>\n",
       "      <td>147600.718750</td>\n",
       "      <td>180</td>\n",
       "      <td>129279.687500</td>\n",
       "    </tr>\n",
       "    <tr>\n",
       "      <th>5</th>\n",
       "      <td>155972.250000</td>\n",
       "      <td>237</td>\n",
       "      <td>128703.703125</td>\n",
       "    </tr>\n",
       "    <tr>\n",
       "      <th>0</th>\n",
       "      <td>144265.453125</td>\n",
       "      <td>510</td>\n",
       "      <td>126325.421875</td>\n",
       "    </tr>\n",
       "    <tr>\n",
       "      <th>4</th>\n",
       "      <td>143627.062500</td>\n",
       "      <td>557</td>\n",
       "      <td>125000.000000</td>\n",
       "    </tr>\n",
       "    <tr>\n",
       "      <th>2</th>\n",
       "      <td>142758.578125</td>\n",
       "      <td>586</td>\n",
       "      <td>124586.750000</td>\n",
       "    </tr>\n",
       "    <tr>\n",
       "      <th>3</th>\n",
       "      <td>145014.671875</td>\n",
       "      <td>681</td>\n",
       "      <td>120578.773438</td>\n",
       "    </tr>\n",
       "    <tr>\n",
       "      <th>1</th>\n",
       "      <td>142527.921875</td>\n",
       "      <td>554</td>\n",
       "      <td>118748.320312</td>\n",
       "    </tr>\n",
       "  </tbody>\n",
       "</table>\n",
       "</div>"
      ],
      "text/plain": [
       "                         mean  count         median\n",
       "day_exposition                                     \n",
       "6               147600.718750    180  129279.687500\n",
       "5               155972.250000    237  128703.703125\n",
       "0               144265.453125    510  126325.421875\n",
       "4               143627.062500    557  125000.000000\n",
       "2               142758.578125    586  124586.750000\n",
       "3               145014.671875    681  120578.773438\n",
       "1               142527.921875    554  118748.320312"
      ]
     },
     "execution_count": 29,
     "metadata": {},
     "output_type": "execute_result"
    },
    {
     "data": {
      "image/png": "[encoded data removed]",
      "text/plain": [
       "<Figure size 432x288 with 1 Axes>"
      ]
     },
     "metadata": {
      "needs_background": "light"
     },
     "output_type": "display_data"
    }
   ],
   "source": [
    "Piter_centr_day = Piter_centr.pivot_table(index = 'day_exposition', values = 'm2_price', aggfunc = ['mean', 'count', 'median'])\n",
    "Piter_centr_day.columns = ['mean', 'count', 'median']\n",
    "Piter_centr_day.plot(y = 'median')\n",
    "Piter_centr_day.sort_values('median', ascending = False)"
   ]
  },
  {
   "cell_type": "markdown",
   "metadata": {},
   "source": [
    "Вывод: Самые высокие цены в субботу и воскресенье, минимальная цена во вторник."
   ]
  },
  {
   "cell_type": "markdown",
   "metadata": {},
   "source": [
    "# Зависимость от месяца"
   ]
  },
  {
   "cell_type": "code",
   "execution_count": 30,
   "metadata": {},
   "outputs": [
    {
     "data": {
      "text/html": [
       "<div>\n",
       "<style scoped>\n",
       "    .dataframe tbody tr th:only-of-type {\n",
       "        vertical-align: middle;\n",
       "    }\n",
       "\n",
       "    .dataframe tbody tr th {\n",
       "        vertical-align: top;\n",
       "    }\n",
       "\n",
       "    .dataframe thead th {\n",
       "        text-align: right;\n",
       "    }\n",
       "</style>\n",
       "<table border=\"1\" class=\"dataframe\">\n",
       "  <thead>\n",
       "    <tr style=\"text-align: right;\">\n",
       "      <th></th>\n",
       "      <th>mean</th>\n",
       "      <th>count</th>\n",
       "      <th>median</th>\n",
       "    </tr>\n",
       "    <tr>\n",
       "      <th>month_exposition</th>\n",
       "      <th></th>\n",
       "      <th></th>\n",
       "      <th></th>\n",
       "    </tr>\n",
       "  </thead>\n",
       "  <tbody>\n",
       "    <tr>\n",
       "      <th>3</th>\n",
       "      <td>147665.875000</td>\n",
       "      <td>351</td>\n",
       "      <td>130333.335938</td>\n",
       "    </tr>\n",
       "    <tr>\n",
       "      <th>1</th>\n",
       "      <td>147892.187500</td>\n",
       "      <td>204</td>\n",
       "      <td>129334.851562</td>\n",
       "    </tr>\n",
       "    <tr>\n",
       "      <th>4</th>\n",
       "      <td>156002.515625</td>\n",
       "      <td>311</td>\n",
       "      <td>127574.156250</td>\n",
       "    </tr>\n",
       "    <tr>\n",
       "      <th>8</th>\n",
       "      <td>146001.171875</td>\n",
       "      <td>239</td>\n",
       "      <td>125000.000000</td>\n",
       "    </tr>\n",
       "    <tr>\n",
       "      <th>9</th>\n",
       "      <td>146258.625000</td>\n",
       "      <td>288</td>\n",
       "      <td>124052.437500</td>\n",
       "    </tr>\n",
       "    <tr>\n",
       "      <th>10</th>\n",
       "      <td>140581.078125</td>\n",
       "      <td>271</td>\n",
       "      <td>123497.992188</td>\n",
       "    </tr>\n",
       "    <tr>\n",
       "      <th>11</th>\n",
       "      <td>142519.671875</td>\n",
       "      <td>333</td>\n",
       "      <td>123333.335938</td>\n",
       "    </tr>\n",
       "    <tr>\n",
       "      <th>5</th>\n",
       "      <td>135036.531250</td>\n",
       "      <td>183</td>\n",
       "      <td>122077.921875</td>\n",
       "    </tr>\n",
       "    <tr>\n",
       "      <th>12</th>\n",
       "      <td>149976.203125</td>\n",
       "      <td>231</td>\n",
       "      <td>121328.218750</td>\n",
       "    </tr>\n",
       "    <tr>\n",
       "      <th>2</th>\n",
       "      <td>144605.625000</td>\n",
       "      <td>366</td>\n",
       "      <td>121285.187500</td>\n",
       "    </tr>\n",
       "    <tr>\n",
       "      <th>7</th>\n",
       "      <td>141620.843750</td>\n",
       "      <td>266</td>\n",
       "      <td>118236.578125</td>\n",
       "    </tr>\n",
       "    <tr>\n",
       "      <th>6</th>\n",
       "      <td>135257.250000</td>\n",
       "      <td>262</td>\n",
       "      <td>117086.218750</td>\n",
       "    </tr>\n",
       "  </tbody>\n",
       "</table>\n",
       "</div>"
      ],
      "text/plain": [
       "                           mean  count         median\n",
       "month_exposition                                     \n",
       "3                 147665.875000    351  130333.335938\n",
       "1                 147892.187500    204  129334.851562\n",
       "4                 156002.515625    311  127574.156250\n",
       "8                 146001.171875    239  125000.000000\n",
       "9                 146258.625000    288  124052.437500\n",
       "10                140581.078125    271  123497.992188\n",
       "11                142519.671875    333  123333.335938\n",
       "5                 135036.531250    183  122077.921875\n",
       "12                149976.203125    231  121328.218750\n",
       "2                 144605.625000    366  121285.187500\n",
       "7                 141620.843750    266  118236.578125\n",
       "6                 135257.250000    262  117086.218750"
      ]
     },
     "execution_count": 30,
     "metadata": {},
     "output_type": "execute_result"
    },
    {
     "data": {
      "image/png": "[encoded data removed]",
      "text/plain": [
       "<Figure size 432x288 with 1 Axes>"
      ]
     },
     "metadata": {
      "needs_background": "light"
     },
     "output_type": "display_data"
    }
   ],
   "source": [
    "Piter_centr_month = Piter_centr.pivot_table(index = 'month_exposition', values = 'm2_price', aggfunc = ['mean', 'count', 'median'])\n",
    "Piter_centr_month.columns = ['mean', 'count', 'median']\n",
    "Piter_centr_month.plot(y = 'median')\n",
    "Piter_centr_month.sort_values('median', ascending = False)"
   ]
  },
  {
   "cell_type": "markdown",
   "metadata": {},
   "source": [
    "Вывод: В январе и марте самые высокие цены, минимальная цена в июне месяце."
   ]
  },
  {
   "cell_type": "markdown",
   "metadata": {},
   "source": [
    "# Зависимость от года"
   ]
  },
  {
   "cell_type": "code",
   "execution_count": 31,
   "metadata": {},
   "outputs": [
    {
     "data": {
      "text/html": [
       "<div>\n",
       "<style scoped>\n",
       "    .dataframe tbody tr th:only-of-type {\n",
       "        vertical-align: middle;\n",
       "    }\n",
       "\n",
       "    .dataframe tbody tr th {\n",
       "        vertical-align: top;\n",
       "    }\n",
       "\n",
       "    .dataframe thead th {\n",
       "        text-align: right;\n",
       "    }\n",
       "</style>\n",
       "<table border=\"1\" class=\"dataframe\">\n",
       "  <thead>\n",
       "    <tr style=\"text-align: right;\">\n",
       "      <th></th>\n",
       "      <th>mean</th>\n",
       "      <th>count</th>\n",
       "      <th>median</th>\n",
       "    </tr>\n",
       "    <tr>\n",
       "      <th>year_exposition</th>\n",
       "      <th></th>\n",
       "      <th></th>\n",
       "      <th></th>\n",
       "    </tr>\n",
       "  </thead>\n",
       "  <tbody>\n",
       "    <tr>\n",
       "      <th>2014</th>\n",
       "      <td>195654.453125</td>\n",
       "      <td>27</td>\n",
       "      <td>143465.546875</td>\n",
       "    </tr>\n",
       "    <tr>\n",
       "      <th>2019</th>\n",
       "      <td>162670.703125</td>\n",
       "      <td>356</td>\n",
       "      <td>136305.218750</td>\n",
       "    </tr>\n",
       "    <tr>\n",
       "      <th>2018</th>\n",
       "      <td>141078.328125</td>\n",
       "      <td>990</td>\n",
       "      <td>124875.000000</td>\n",
       "    </tr>\n",
       "    <tr>\n",
       "      <th>2017</th>\n",
       "      <td>143165.406250</td>\n",
       "      <td>1180</td>\n",
       "      <td>121260.859375</td>\n",
       "    </tr>\n",
       "    <tr>\n",
       "      <th>2015</th>\n",
       "      <td>147424.796875</td>\n",
       "      <td>297</td>\n",
       "      <td>119568.101562</td>\n",
       "    </tr>\n",
       "    <tr>\n",
       "      <th>2016</th>\n",
       "      <td>138241.453125</td>\n",
       "      <td>455</td>\n",
       "      <td>116784.843750</td>\n",
       "    </tr>\n",
       "  </tbody>\n",
       "</table>\n",
       "</div>"
      ],
      "text/plain": [
       "                          mean  count         median\n",
       "year_exposition                                     \n",
       "2014             195654.453125     27  143465.546875\n",
       "2019             162670.703125    356  136305.218750\n",
       "2018             141078.328125    990  124875.000000\n",
       "2017             143165.406250   1180  121260.859375\n",
       "2015             147424.796875    297  119568.101562\n",
       "2016             138241.453125    455  116784.843750"
      ]
     },
     "execution_count": 31,
     "metadata": {},
     "output_type": "execute_result"
    },
    {
     "data": {
      "image/png": "[encoded data removed]",
      "text/plain": [
       "<Figure size 432x288 with 1 Axes>"
      ]
     },
     "metadata": {
      "needs_background": "light"
     },
     "output_type": "display_data"
    }
   ],
   "source": [
    "Piter_centr_year = Piter_centr.pivot_table(index = 'year_exposition', values = 'm2_price', aggfunc = ['mean', 'count', 'median'])\n",
    "Piter_centr_year.columns = ['mean', 'count', 'median']\n",
    "Piter_centr_year.plot(y = 'median')\n",
    "Piter_centr_year.sort_values('median', ascending = False)"
   ]
  },
  {
   "cell_type": "markdown",
   "metadata": {},
   "source": [
    "Вывод: В 2014 году были самые высокие цены, минимальные цены в 2016 году,затем они начали расти."
   ]
  },
  {
   "cell_type": "markdown",
   "metadata": {},
   "source": [
    "## Общий вывод"
   ]
  },
  {
   "cell_type": "markdown",
   "metadata": {},
   "source": [
    "Обработал полученный архив данных, заменил пропущенные значения, заменил типы данных где это требовалось для облегчения работы. Изучили следующие параметрры - площадь, цена, число комнат, высота потолков. Были определены аномалии. Были даты на которых были большое количество снятых обьявление, мы исключили эти данные.На стоимость квартиры большего всего влияют этажность, количество комнат и близость к центру.\n",
    "\n",
    "\n",
    "\n",
    "В общем графике квартиры с 3 мя комнатами имеет меньшую стоимость.В Санкт-Петербурге с увеличением количества комнат стоимость жилья снижаеться. Минимальная цена 6 комнат.\n",
    "\n",
    "Стоимость квартир по этажам совпадает в общем графике и в Санкт-Петербурге.\n",
    "\n",
    "В общем графике чем ближе к центру, тем выше стоимость стоимость квадрратного метра. В Санкт-Петербурге пределах 7км все квартиры примерно стоят одинаково.\n",
    "\n",
    "В общем графике обьявлений во вторник самая высокая цена, самая низкая в субботу. В Санкт-Петербурге высокие цены в субботу и воскресенье, минимальная цена во вторник.\n",
    "\n",
    "В общем графике самое большая стоимость в апреле, а самое низкое в мае и июне. В Санкт-Петербурге самая высокая стоимость в январе и марте, минимальная цена в июне месяце.\n",
    "\n",
    "Стоимость квартир по годам совпадает в общем графике и в Санкт-Петербурге. "
   ]
  }
 ],
 "metadata": {
  "ExecuteTimeLog": [
   {
    "duration": 805,
    "start_time": "2022-06-08T07:37:24.561Z"
   },
   {
    "duration": 105,
    "start_time": "2022-06-08T07:37:36.408Z"
   },
   {
    "duration": 124,
    "start_time": "2022-06-08T07:38:03.032Z"
   },
   {
    "duration": 107,
    "start_time": "2022-06-08T07:38:28.162Z"
   },
   {
    "duration": 119,
    "start_time": "2022-06-08T07:39:58.123Z"
   },
   {
    "duration": 149,
    "start_time": "2022-06-08T07:41:45.361Z"
   },
   {
    "duration": 125,
    "start_time": "2022-06-08T07:42:04.443Z"
   },
   {
    "duration": 123,
    "start_time": "2022-06-08T07:42:19.842Z"
   },
   {
    "duration": 138,
    "start_time": "2022-06-08T07:43:33.781Z"
   },
   {
    "duration": 117,
    "start_time": "2022-06-08T07:43:48.512Z"
   },
   {
    "duration": 119,
    "start_time": "2022-06-08T07:45:15.111Z"
   },
   {
    "duration": 121,
    "start_time": "2022-06-08T07:45:45.361Z"
   },
   {
    "duration": 148,
    "start_time": "2022-06-08T07:47:29.172Z"
   },
   {
    "duration": 118,
    "start_time": "2022-06-08T08:26:47.556Z"
   },
   {
    "duration": 206,
    "start_time": "2022-06-08T08:28:38.966Z"
   },
   {
    "duration": 134,
    "start_time": "2022-06-08T08:29:55.425Z"
   },
   {
    "duration": 130,
    "start_time": "2022-06-08T08:30:05.693Z"
   },
   {
    "duration": 152,
    "start_time": "2022-06-08T08:30:39.015Z"
   },
   {
    "duration": 131,
    "start_time": "2022-06-08T08:34:49.763Z"
   },
   {
    "duration": 132,
    "start_time": "2022-06-08T08:35:24.125Z"
   },
   {
    "duration": 115,
    "start_time": "2022-06-08T08:35:43.242Z"
   },
   {
    "duration": 136,
    "start_time": "2022-06-08T08:41:26.340Z"
   },
   {
    "duration": 4,
    "start_time": "2022-06-08T08:42:05.424Z"
   },
   {
    "duration": 119,
    "start_time": "2022-06-08T08:46:29.719Z"
   },
   {
    "duration": 154,
    "start_time": "2022-06-08T08:51:01.072Z"
   },
   {
    "duration": 143,
    "start_time": "2022-06-08T08:51:13.393Z"
   },
   {
    "duration": 26,
    "start_time": "2022-06-08T08:58:28.640Z"
   },
   {
    "duration": 39,
    "start_time": "2022-06-08T08:58:38.463Z"
   },
   {
    "duration": 46,
    "start_time": "2022-06-08T08:59:40.306Z"
   },
   {
    "duration": 24,
    "start_time": "2022-06-08T09:00:28.055Z"
   },
   {
    "duration": 11,
    "start_time": "2022-06-08T09:01:38.436Z"
   },
   {
    "duration": 8,
    "start_time": "2022-06-08T09:02:06.925Z"
   },
   {
    "duration": 64,
    "start_time": "2022-06-08T09:02:37.794Z"
   },
   {
    "duration": 44,
    "start_time": "2022-06-08T09:03:17.093Z"
   },
   {
    "duration": 574,
    "start_time": "2022-06-08T09:03:41.161Z"
   },
   {
    "duration": 45,
    "start_time": "2022-06-08T09:03:41.737Z"
   },
   {
    "duration": 46,
    "start_time": "2022-06-08T09:04:59.422Z"
   },
   {
    "duration": 603,
    "start_time": "2022-06-08T09:31:15.808Z"
   },
   {
    "duration": 7,
    "start_time": "2022-06-08T09:31:16.413Z"
   },
   {
    "duration": 69,
    "start_time": "2022-06-08T09:32:44.078Z"
   },
   {
    "duration": 115,
    "start_time": "2022-06-08T09:32:55.180Z"
   },
   {
    "duration": 60,
    "start_time": "2022-06-08T09:33:29.748Z"
   },
   {
    "duration": 17,
    "start_time": "2022-06-08T09:34:02.827Z"
   },
   {
    "duration": 15,
    "start_time": "2022-06-08T09:43:03.541Z"
   },
   {
    "duration": 54,
    "start_time": "2022-06-08T09:43:13.970Z"
   },
   {
    "duration": 16,
    "start_time": "2022-06-08T10:01:47.352Z"
   },
   {
    "duration": 16,
    "start_time": "2022-06-08T10:01:59.346Z"
   },
   {
    "duration": 15,
    "start_time": "2022-06-08T10:02:12.662Z"
   },
   {
    "duration": 613,
    "start_time": "2022-06-08T10:03:46.569Z"
   },
   {
    "duration": 5,
    "start_time": "2022-06-08T10:03:47.184Z"
   },
   {
    "duration": 0,
    "start_time": "2022-06-08T10:03:47.194Z"
   },
   {
    "duration": 93,
    "start_time": "2022-06-08T10:03:52.511Z"
   },
   {
    "duration": 16,
    "start_time": "2022-06-08T10:04:00.781Z"
   },
   {
    "duration": 14,
    "start_time": "2022-06-08T10:07:33.283Z"
   },
   {
    "duration": 53,
    "start_time": "2022-06-08T10:12:20.960Z"
   },
   {
    "duration": 10,
    "start_time": "2022-06-08T11:26:27.472Z"
   },
   {
    "duration": 8,
    "start_time": "2022-06-08T11:27:02.941Z"
   },
   {
    "duration": 9,
    "start_time": "2022-06-08T11:27:19.702Z"
   },
   {
    "duration": 7,
    "start_time": "2022-06-08T11:27:50.903Z"
   },
   {
    "duration": 564,
    "start_time": "2022-06-08T11:27:59.200Z"
   },
   {
    "duration": 51,
    "start_time": "2022-06-08T11:27:59.766Z"
   },
   {
    "duration": 79,
    "start_time": "2022-06-08T11:27:59.820Z"
   },
   {
    "duration": 8,
    "start_time": "2022-06-08T11:28:05.075Z"
   },
   {
    "duration": 7,
    "start_time": "2022-06-08T11:28:17.655Z"
   },
   {
    "duration": 25,
    "start_time": "2022-06-08T11:28:27.865Z"
   },
   {
    "duration": 3,
    "start_time": "2022-06-08T11:28:42.119Z"
   },
   {
    "duration": 425,
    "start_time": "2022-06-08T11:29:04.724Z"
   },
   {
    "duration": 29,
    "start_time": "2022-06-08T11:30:17.754Z"
   },
   {
    "duration": 9,
    "start_time": "2022-06-08T11:30:46.654Z"
   },
   {
    "duration": 10,
    "start_time": "2022-06-08T11:31:16.754Z"
   },
   {
    "duration": 525,
    "start_time": "2022-06-08T11:33:48.240Z"
   },
   {
    "duration": 48,
    "start_time": "2022-06-08T11:33:48.767Z"
   },
   {
    "duration": 83,
    "start_time": "2022-06-08T11:33:48.817Z"
   },
   {
    "duration": 10,
    "start_time": "2022-06-08T11:33:53.835Z"
   },
   {
    "duration": 3,
    "start_time": "2022-06-08T11:34:44.760Z"
   },
   {
    "duration": 25,
    "start_time": "2022-06-08T11:35:07.346Z"
   },
   {
    "duration": 50,
    "start_time": "2022-06-08T16:35:37.052Z"
   },
   {
    "duration": 487,
    "start_time": "2022-06-08T16:36:47.422Z"
   },
   {
    "duration": 0,
    "start_time": "2022-06-08T16:36:47.911Z"
   },
   {
    "duration": 0,
    "start_time": "2022-06-08T16:36:47.912Z"
   },
   {
    "duration": 200,
    "start_time": "2022-06-08T16:37:26.304Z"
   },
   {
    "duration": 9,
    "start_time": "2022-06-08T16:37:34.391Z"
   },
   {
    "duration": 19,
    "start_time": "2022-06-08T16:38:22.690Z"
   },
   {
    "duration": 152,
    "start_time": "2022-06-08T16:39:25.978Z"
   },
   {
    "duration": 88,
    "start_time": "2022-06-08T16:40:11.129Z"
   },
   {
    "duration": 23,
    "start_time": "2022-06-08T16:41:32.541Z"
   },
   {
    "duration": 15,
    "start_time": "2022-06-08T16:42:02.798Z"
   },
   {
    "duration": 8,
    "start_time": "2022-06-08T16:42:25.661Z"
   },
   {
    "duration": 74,
    "start_time": "2022-06-08T16:42:52.360Z"
   },
   {
    "duration": 14,
    "start_time": "2022-06-08T16:44:54.891Z"
   },
   {
    "duration": 9,
    "start_time": "2022-06-08T16:45:06.949Z"
   },
   {
    "duration": 22,
    "start_time": "2022-06-08T16:45:17.997Z"
   },
   {
    "duration": 15,
    "start_time": "2022-06-08T16:45:28.298Z"
   },
   {
    "duration": 20,
    "start_time": "2022-06-08T16:46:09.390Z"
   },
   {
    "duration": 534,
    "start_time": "2022-06-08T16:46:24.494Z"
   },
   {
    "duration": 88,
    "start_time": "2022-06-08T16:46:25.030Z"
   },
   {
    "duration": 0,
    "start_time": "2022-06-08T16:46:25.119Z"
   },
   {
    "duration": 19,
    "start_time": "2022-06-08T16:46:58.717Z"
   },
   {
    "duration": 88,
    "start_time": "2022-06-08T16:47:39.359Z"
   },
   {
    "duration": 20,
    "start_time": "2022-06-08T16:48:30.613Z"
   },
   {
    "duration": 36,
    "start_time": "2022-06-08T16:48:50.396Z"
   },
   {
    "duration": 65,
    "start_time": "2022-06-08T16:49:03.856Z"
   },
   {
    "duration": 63,
    "start_time": "2022-06-08T16:49:41.540Z"
   },
   {
    "duration": 70,
    "start_time": "2022-06-08T16:51:47.349Z"
   },
   {
    "duration": 61,
    "start_time": "2022-06-08T16:52:22.271Z"
   },
   {
    "duration": 29,
    "start_time": "2022-06-08T16:53:55.520Z"
   },
   {
    "duration": 38,
    "start_time": "2022-06-08T16:54:04.346Z"
   },
   {
    "duration": 41,
    "start_time": "2022-06-08T16:54:20.680Z"
   },
   {
    "duration": 37,
    "start_time": "2022-06-08T16:54:30.501Z"
   },
   {
    "duration": 36,
    "start_time": "2022-06-08T16:54:39.404Z"
   },
   {
    "duration": 55,
    "start_time": "2022-06-08T16:55:09.285Z"
   },
   {
    "duration": 53,
    "start_time": "2022-06-08T16:56:03.135Z"
   },
   {
    "duration": 38,
    "start_time": "2022-06-08T16:57:45.077Z"
   },
   {
    "duration": 10,
    "start_time": "2022-06-08T17:01:10.635Z"
   },
   {
    "duration": 569,
    "start_time": "2022-06-08T17:01:28.389Z"
   },
   {
    "duration": 65,
    "start_time": "2022-06-08T17:02:59.281Z"
   },
   {
    "duration": 70,
    "start_time": "2022-06-08T17:03:27.075Z"
   },
   {
    "duration": 63,
    "start_time": "2022-06-08T17:03:45.785Z"
   },
   {
    "duration": 73,
    "start_time": "2022-06-08T17:04:14.219Z"
   },
   {
    "duration": 598,
    "start_time": "2022-06-08T17:05:17.698Z"
   },
   {
    "duration": 112,
    "start_time": "2022-06-08T17:05:18.298Z"
   },
   {
    "duration": 0,
    "start_time": "2022-06-08T17:05:18.415Z"
   },
   {
    "duration": 31,
    "start_time": "2022-06-08T17:05:48.791Z"
   },
   {
    "duration": 130,
    "start_time": "2022-06-08T17:06:48.691Z"
   },
   {
    "duration": 31,
    "start_time": "2022-06-08T17:07:19.015Z"
   },
   {
    "duration": 61,
    "start_time": "2022-06-08T17:07:57.342Z"
   },
   {
    "duration": 61,
    "start_time": "2022-06-08T17:08:11.065Z"
   },
   {
    "duration": 23,
    "start_time": "2022-06-08T17:08:20.253Z"
   },
   {
    "duration": 59,
    "start_time": "2022-06-08T17:08:34.493Z"
   },
   {
    "duration": 34,
    "start_time": "2022-06-08T17:09:01.124Z"
   },
   {
    "duration": 44,
    "start_time": "2022-06-08T17:12:37.750Z"
   },
   {
    "duration": 33,
    "start_time": "2022-06-08T17:13:57.837Z"
   },
   {
    "duration": 34,
    "start_time": "2022-06-08T17:14:06.020Z"
   },
   {
    "duration": 519,
    "start_time": "2022-06-08T17:14:40.104Z"
   },
   {
    "duration": 58,
    "start_time": "2022-06-08T17:14:40.625Z"
   },
   {
    "duration": 118,
    "start_time": "2022-06-08T17:14:40.685Z"
   },
   {
    "duration": 17,
    "start_time": "2022-06-08T17:14:46.169Z"
   },
   {
    "duration": 15,
    "start_time": "2022-06-08T17:15:02.469Z"
   },
   {
    "duration": 194,
    "start_time": "2022-06-08T17:15:07.918Z"
   },
   {
    "duration": 54,
    "start_time": "2022-06-08T17:15:39.793Z"
   },
   {
    "duration": 43,
    "start_time": "2022-06-08T17:16:27.549Z"
   },
   {
    "duration": 79,
    "start_time": "2022-06-08T17:16:33.422Z"
   },
   {
    "duration": 588,
    "start_time": "2022-06-08T17:16:43.192Z"
   },
   {
    "duration": 60,
    "start_time": "2022-06-08T17:16:43.781Z"
   },
   {
    "duration": 64,
    "start_time": "2022-06-08T17:16:43.843Z"
   },
   {
    "duration": 61,
    "start_time": "2022-06-08T17:18:04.043Z"
   },
   {
    "duration": 52,
    "start_time": "2022-06-08T17:20:07.326Z"
   },
   {
    "duration": 28,
    "start_time": "2022-06-08T17:21:05.436Z"
   },
   {
    "duration": 70,
    "start_time": "2022-06-08T17:21:14.790Z"
   },
   {
    "duration": 3299,
    "start_time": "2022-06-08T17:25:59.510Z"
   },
   {
    "duration": 73,
    "start_time": "2022-06-08T17:26:57.809Z"
   },
   {
    "duration": 9,
    "start_time": "2022-06-08T17:27:15.106Z"
   },
   {
    "duration": 37,
    "start_time": "2022-06-08T17:39:17.789Z"
   },
   {
    "duration": 43,
    "start_time": "2022-06-08T17:39:23.137Z"
   },
   {
    "duration": 138,
    "start_time": "2022-06-08T17:39:56.919Z"
   },
   {
    "duration": 278,
    "start_time": "2022-06-08T17:40:23.749Z"
   },
   {
    "duration": 78,
    "start_time": "2022-06-08T17:40:39.005Z"
   },
   {
    "duration": 90,
    "start_time": "2022-06-08T17:41:16.344Z"
   },
   {
    "duration": 41,
    "start_time": "2022-06-08T17:41:27.125Z"
   },
   {
    "duration": 33,
    "start_time": "2022-06-08T17:41:44.670Z"
   },
   {
    "duration": 80,
    "start_time": "2022-06-08T17:42:02.198Z"
   },
   {
    "duration": 82,
    "start_time": "2022-06-08T17:42:29.417Z"
   },
   {
    "duration": 29,
    "start_time": "2022-06-08T17:42:48.712Z"
   },
   {
    "duration": 55,
    "start_time": "2022-06-08T17:42:56.049Z"
   },
   {
    "duration": 141,
    "start_time": "2022-06-08T17:43:19.909Z"
   },
   {
    "duration": 50,
    "start_time": "2022-06-08T17:43:45.621Z"
   },
   {
    "duration": 129,
    "start_time": "2022-06-08T17:51:41.922Z"
   },
   {
    "duration": 141,
    "start_time": "2022-06-08T17:52:00.969Z"
   },
   {
    "duration": 145,
    "start_time": "2022-06-08T17:53:10.438Z"
   },
   {
    "duration": 132,
    "start_time": "2022-06-08T17:53:18.938Z"
   },
   {
    "duration": 125,
    "start_time": "2022-06-08T17:53:42.145Z"
   },
   {
    "duration": 48,
    "start_time": "2022-06-08T17:53:56.269Z"
   },
   {
    "duration": 126,
    "start_time": "2022-06-08T17:54:42.851Z"
   },
   {
    "duration": 52,
    "start_time": "2022-06-08T17:54:56.492Z"
   },
   {
    "duration": 481,
    "start_time": "2022-06-08T17:57:44.066Z"
   },
   {
    "duration": 57,
    "start_time": "2022-06-08T17:59:21.271Z"
   },
   {
    "duration": 19,
    "start_time": "2022-06-08T18:19:31.567Z"
   },
   {
    "duration": 18,
    "start_time": "2022-06-08T18:19:42.827Z"
   },
   {
    "duration": 29,
    "start_time": "2022-06-08T18:20:00.320Z"
   },
   {
    "duration": 20,
    "start_time": "2022-06-08T18:20:20.164Z"
   },
   {
    "duration": 511,
    "start_time": "2022-06-08T18:22:39.949Z"
   },
   {
    "duration": 145,
    "start_time": "2022-06-08T18:22:54.195Z"
   },
   {
    "duration": 195,
    "start_time": "2022-06-08T18:23:20.499Z"
   },
   {
    "duration": 156,
    "start_time": "2022-06-08T18:23:58.302Z"
   },
   {
    "duration": 107,
    "start_time": "2022-06-08T18:25:39.244Z"
   },
   {
    "duration": 861,
    "start_time": "2022-06-08T18:25:50.000Z"
   },
   {
    "duration": 224,
    "start_time": "2022-06-08T18:26:21.109Z"
   },
   {
    "duration": 137,
    "start_time": "2022-06-08T18:26:48.202Z"
   },
   {
    "duration": 142,
    "start_time": "2022-06-08T18:26:58.786Z"
   },
   {
    "duration": 606,
    "start_time": "2022-06-08T18:28:00.937Z"
   },
   {
    "duration": 172,
    "start_time": "2022-06-08T18:28:13.870Z"
   },
   {
    "duration": 144,
    "start_time": "2022-06-08T18:28:35.753Z"
   },
   {
    "duration": 156,
    "start_time": "2022-06-08T18:29:50.342Z"
   },
   {
    "duration": 154,
    "start_time": "2022-06-08T18:30:11.062Z"
   },
   {
    "duration": 154,
    "start_time": "2022-06-08T18:30:22.279Z"
   },
   {
    "duration": 162,
    "start_time": "2022-06-08T18:30:36.840Z"
   },
   {
    "duration": 139,
    "start_time": "2022-06-08T18:30:50.615Z"
   },
   {
    "duration": 222,
    "start_time": "2022-06-08T18:30:57.640Z"
   },
   {
    "duration": 151,
    "start_time": "2022-06-08T18:31:12.313Z"
   },
   {
    "duration": 156,
    "start_time": "2022-06-08T18:32:53.004Z"
   },
   {
    "duration": 171,
    "start_time": "2022-06-08T18:34:39.451Z"
   },
   {
    "duration": 51,
    "start_time": "2022-06-10T05:08:54.978Z"
   },
   {
    "duration": 928,
    "start_time": "2022-06-10T05:09:07.917Z"
   },
   {
    "duration": 52,
    "start_time": "2022-06-10T05:09:08.848Z"
   },
   {
    "duration": 184,
    "start_time": "2022-06-10T05:09:08.902Z"
   },
   {
    "duration": 159,
    "start_time": "2022-06-10T05:10:13.783Z"
   },
   {
    "duration": 143,
    "start_time": "2022-06-10T05:10:34.272Z"
   },
   {
    "duration": 160,
    "start_time": "2022-06-10T05:11:08.826Z"
   },
   {
    "duration": 229,
    "start_time": "2022-06-10T05:11:47.212Z"
   },
   {
    "duration": 86,
    "start_time": "2022-06-10T05:18:04.044Z"
   },
   {
    "duration": 164,
    "start_time": "2022-06-10T05:27:07.796Z"
   },
   {
    "duration": 160,
    "start_time": "2022-06-10T05:27:22.722Z"
   },
   {
    "duration": 158,
    "start_time": "2022-06-10T05:27:49.169Z"
   },
   {
    "duration": 167,
    "start_time": "2022-06-10T05:28:45.012Z"
   },
   {
    "duration": 167,
    "start_time": "2022-06-10T05:28:55.067Z"
   },
   {
    "duration": 154,
    "start_time": "2022-06-10T05:29:07.675Z"
   },
   {
    "duration": 12,
    "start_time": "2022-06-10T05:39:16.865Z"
   },
   {
    "duration": 45,
    "start_time": "2022-06-10T05:40:07.385Z"
   },
   {
    "duration": 11,
    "start_time": "2022-06-10T05:40:13.914Z"
   },
   {
    "duration": 11,
    "start_time": "2022-06-10T05:40:36.895Z"
   },
   {
    "duration": 11,
    "start_time": "2022-06-10T05:42:18.324Z"
   },
   {
    "duration": 12,
    "start_time": "2022-06-10T05:42:49.341Z"
   },
   {
    "duration": 13,
    "start_time": "2022-06-10T05:43:03.983Z"
   },
   {
    "duration": 721,
    "start_time": "2022-06-10T05:43:54.396Z"
   },
   {
    "duration": 49,
    "start_time": "2022-06-10T05:43:55.119Z"
   },
   {
    "duration": 91,
    "start_time": "2022-06-10T05:43:55.170Z"
   },
   {
    "duration": 11,
    "start_time": "2022-06-10T05:44:00.872Z"
   },
   {
    "duration": 27,
    "start_time": "2022-06-10T05:50:06.230Z"
   },
   {
    "duration": 31,
    "start_time": "2022-06-10T05:50:45.352Z"
   },
   {
    "duration": 37,
    "start_time": "2022-06-10T05:51:15.726Z"
   },
   {
    "duration": 442,
    "start_time": "2022-06-10T05:57:33.218Z"
   },
   {
    "duration": 484,
    "start_time": "2022-06-10T05:59:52.970Z"
   },
   {
    "duration": 250,
    "start_time": "2022-06-10T06:01:09.471Z"
   },
   {
    "duration": 457,
    "start_time": "2022-06-10T06:04:38.777Z"
   },
   {
    "duration": 252,
    "start_time": "2022-06-10T06:06:16.288Z"
   },
   {
    "duration": 44,
    "start_time": "2022-06-10T06:06:37.759Z"
   },
   {
    "duration": 48,
    "start_time": "2022-06-10T06:06:48.207Z"
   },
   {
    "duration": 797,
    "start_time": "2022-06-10T06:07:16.031Z"
   },
   {
    "duration": 64,
    "start_time": "2022-06-10T06:07:16.830Z"
   },
   {
    "duration": 5,
    "start_time": "2022-06-10T06:07:16.895Z"
   },
   {
    "duration": 5,
    "start_time": "2022-06-10T06:07:27.115Z"
   },
   {
    "duration": 16,
    "start_time": "2022-06-10T06:07:42.162Z"
   },
   {
    "duration": 36,
    "start_time": "2022-06-10T06:08:23.007Z"
   },
   {
    "duration": 41,
    "start_time": "2022-06-10T06:08:33.494Z"
   },
   {
    "duration": 46,
    "start_time": "2022-06-10T06:08:56.286Z"
   },
   {
    "duration": 97,
    "start_time": "2022-06-10T06:09:15.701Z"
   },
   {
    "duration": 47,
    "start_time": "2022-06-10T06:09:30.555Z"
   },
   {
    "duration": 223,
    "start_time": "2022-06-10T06:19:51.097Z"
   },
   {
    "duration": 223,
    "start_time": "2022-06-10T06:30:54.997Z"
   },
   {
    "duration": 195,
    "start_time": "2022-06-10T06:32:17.987Z"
   },
   {
    "duration": 418,
    "start_time": "2022-06-10T06:32:51.962Z"
   },
   {
    "duration": 494,
    "start_time": "2022-06-10T06:33:18.391Z"
   },
   {
    "duration": 392,
    "start_time": "2022-06-10T06:33:27.842Z"
   },
   {
    "duration": 377,
    "start_time": "2022-06-10T06:33:36.431Z"
   },
   {
    "duration": 590,
    "start_time": "2022-06-10T06:33:49.338Z"
   },
   {
    "duration": 463,
    "start_time": "2022-06-10T06:34:07.727Z"
   },
   {
    "duration": 320,
    "start_time": "2022-06-10T06:34:26.912Z"
   },
   {
    "duration": 317,
    "start_time": "2022-06-10T06:34:40.376Z"
   },
   {
    "duration": 255,
    "start_time": "2022-06-10T06:34:49.697Z"
   },
   {
    "duration": 497,
    "start_time": "2022-06-10T06:35:02.624Z"
   },
   {
    "duration": 518,
    "start_time": "2022-06-10T06:36:08.602Z"
   },
   {
    "duration": 364,
    "start_time": "2022-06-10T06:36:39.682Z"
   },
   {
    "duration": 75,
    "start_time": "2022-06-10T06:37:10.111Z"
   },
   {
    "duration": 44,
    "start_time": "2022-06-10T06:37:31.473Z"
   },
   {
    "duration": 149,
    "start_time": "2022-06-10T06:38:12.487Z"
   },
   {
    "duration": 1006,
    "start_time": "2022-06-10T06:48:13.149Z"
   },
   {
    "duration": 73,
    "start_time": "2022-06-10T06:48:14.157Z"
   },
   {
    "duration": 433,
    "start_time": "2022-06-10T06:48:14.233Z"
   },
   {
    "duration": 147,
    "start_time": "2022-06-10T06:49:53.925Z"
   },
   {
    "duration": 83,
    "start_time": "2022-06-10T06:50:04.105Z"
   },
   {
    "duration": 143,
    "start_time": "2022-06-10T06:50:56.088Z"
   },
   {
    "duration": 341,
    "start_time": "2022-06-10T06:51:03.237Z"
   },
   {
    "duration": 501,
    "start_time": "2022-06-10T06:54:19.015Z"
   },
   {
    "duration": 760,
    "start_time": "2022-06-10T06:54:39.800Z"
   },
   {
    "duration": 48,
    "start_time": "2022-06-10T06:54:40.571Z"
   },
   {
    "duration": 341,
    "start_time": "2022-06-10T06:54:40.621Z"
   },
   {
    "duration": 590,
    "start_time": "2022-06-10T06:56:36.358Z"
   },
   {
    "duration": 500,
    "start_time": "2022-06-10T06:57:04.072Z"
   },
   {
    "duration": 479,
    "start_time": "2022-06-10T06:57:39.271Z"
   },
   {
    "duration": 537,
    "start_time": "2022-06-10T06:58:05.298Z"
   },
   {
    "duration": 579,
    "start_time": "2022-06-10T06:58:27.907Z"
   },
   {
    "duration": 759,
    "start_time": "2022-06-10T06:58:47.325Z"
   },
   {
    "duration": 51,
    "start_time": "2022-06-10T06:58:48.086Z"
   },
   {
    "duration": 487,
    "start_time": "2022-06-10T06:58:48.139Z"
   },
   {
    "duration": 505,
    "start_time": "2022-06-10T06:59:04.387Z"
   },
   {
    "duration": 500,
    "start_time": "2022-06-10T06:59:13.027Z"
   },
   {
    "duration": 136,
    "start_time": "2022-06-10T06:59:46.208Z"
   },
   {
    "duration": 942,
    "start_time": "2022-06-10T06:59:55.259Z"
   },
   {
    "duration": 66,
    "start_time": "2022-06-10T06:59:56.203Z"
   },
   {
    "duration": 413,
    "start_time": "2022-06-10T06:59:56.271Z"
   },
   {
    "duration": 571,
    "start_time": "2022-06-10T07:11:10.257Z"
   },
   {
    "duration": 825,
    "start_time": "2022-06-10T07:11:24.313Z"
   },
   {
    "duration": 65,
    "start_time": "2022-06-10T07:11:25.139Z"
   },
   {
    "duration": 370,
    "start_time": "2022-06-10T07:11:25.206Z"
   },
   {
    "duration": 1062,
    "start_time": "2022-06-10T07:20:44.889Z"
   },
   {
    "duration": 865,
    "start_time": "2022-06-10T07:20:53.735Z"
   },
   {
    "duration": 58,
    "start_time": "2022-06-10T07:20:54.603Z"
   },
   {
    "duration": 633,
    "start_time": "2022-06-10T07:20:54.663Z"
   },
   {
    "duration": 139,
    "start_time": "2022-06-10T07:21:21.348Z"
   },
   {
    "duration": 760,
    "start_time": "2022-06-10T07:23:35.916Z"
   },
   {
    "duration": 830,
    "start_time": "2022-06-10T07:23:43.903Z"
   },
   {
    "duration": 61,
    "start_time": "2022-06-10T07:23:44.736Z"
   },
   {
    "duration": 1006,
    "start_time": "2022-06-10T07:23:44.800Z"
   },
   {
    "duration": 825,
    "start_time": "2022-06-10T07:24:09.624Z"
   },
   {
    "duration": 69,
    "start_time": "2022-06-10T07:24:10.451Z"
   },
   {
    "duration": 1078,
    "start_time": "2022-06-10T07:24:10.521Z"
   },
   {
    "duration": 848,
    "start_time": "2022-06-10T07:24:32.285Z"
   },
   {
    "duration": 75,
    "start_time": "2022-06-10T07:24:33.135Z"
   },
   {
    "duration": 994,
    "start_time": "2022-06-10T07:24:33.212Z"
   },
   {
    "duration": 765,
    "start_time": "2022-06-10T07:25:03.083Z"
   },
   {
    "duration": 918,
    "start_time": "2022-06-10T07:25:11.207Z"
   },
   {
    "duration": 71,
    "start_time": "2022-06-10T07:25:12.127Z"
   },
   {
    "duration": 792,
    "start_time": "2022-06-10T07:25:12.200Z"
   },
   {
    "duration": 800,
    "start_time": "2022-06-10T07:26:15.209Z"
   },
   {
    "duration": 64,
    "start_time": "2022-06-10T07:26:16.011Z"
   },
   {
    "duration": 752,
    "start_time": "2022-06-10T07:26:16.077Z"
   },
   {
    "duration": 783,
    "start_time": "2022-06-10T07:26:52.423Z"
   },
   {
    "duration": 702,
    "start_time": "2022-06-10T07:27:23.606Z"
   },
   {
    "duration": 774,
    "start_time": "2022-06-10T07:27:39.706Z"
   },
   {
    "duration": 1210,
    "start_time": "2022-06-10T07:29:47.131Z"
   },
   {
    "duration": 240,
    "start_time": "2022-06-10T07:32:22.146Z"
   },
   {
    "duration": 4,
    "start_time": "2022-06-10T07:33:18.298Z"
   },
   {
    "duration": 858,
    "start_time": "2022-06-10T07:33:26.185Z"
   },
   {
    "duration": 68,
    "start_time": "2022-06-10T07:33:27.046Z"
   },
   {
    "duration": 16,
    "start_time": "2022-06-10T07:33:27.116Z"
   },
   {
    "duration": 3,
    "start_time": "2022-06-10T07:33:27.134Z"
   },
   {
    "duration": 120,
    "start_time": "2022-06-10T07:33:27.159Z"
   },
   {
    "duration": 4,
    "start_time": "2022-06-10T07:33:44.385Z"
   },
   {
    "duration": 122,
    "start_time": "2022-06-10T07:34:42.189Z"
   },
   {
    "duration": 839,
    "start_time": "2022-06-10T07:35:22.693Z"
   },
   {
    "duration": 77,
    "start_time": "2022-06-10T07:35:23.534Z"
   },
   {
    "duration": 10,
    "start_time": "2022-06-10T07:35:23.613Z"
   },
   {
    "duration": 97,
    "start_time": "2022-06-10T07:35:23.625Z"
   },
   {
    "duration": 0,
    "start_time": "2022-06-10T07:35:23.724Z"
   },
   {
    "duration": 136,
    "start_time": "2022-06-10T07:36:48.442Z"
   },
   {
    "duration": 22,
    "start_time": "2022-06-10T07:37:33.823Z"
   },
   {
    "duration": 9,
    "start_time": "2022-06-10T07:39:24.895Z"
   },
   {
    "duration": 317,
    "start_time": "2022-06-10T07:39:42.682Z"
   },
   {
    "duration": 340,
    "start_time": "2022-06-10T07:40:58.374Z"
   },
   {
    "duration": 21,
    "start_time": "2022-06-10T07:41:52.451Z"
   },
   {
    "duration": 288,
    "start_time": "2022-06-10T07:42:07.112Z"
   },
   {
    "duration": 1109,
    "start_time": "2022-06-10T07:42:33.216Z"
   },
   {
    "duration": 15,
    "start_time": "2022-06-10T07:50:25.324Z"
   },
   {
    "duration": 154,
    "start_time": "2022-06-10T07:51:59.593Z"
   },
   {
    "duration": 861,
    "start_time": "2022-06-10T09:19:34.050Z"
   },
   {
    "duration": 65,
    "start_time": "2022-06-10T09:19:34.913Z"
   },
   {
    "duration": 11,
    "start_time": "2022-06-10T09:19:34.980Z"
   },
   {
    "duration": 311,
    "start_time": "2022-06-10T09:19:34.993Z"
   },
   {
    "duration": 1107,
    "start_time": "2022-06-10T09:19:35.306Z"
   },
   {
    "duration": 177,
    "start_time": "2022-06-10T09:19:36.415Z"
   },
   {
    "duration": 173,
    "start_time": "2022-06-10T09:19:45.435Z"
   },
   {
    "duration": 160,
    "start_time": "2022-06-10T09:20:20.675Z"
   },
   {
    "duration": 167,
    "start_time": "2022-06-10T09:20:27.821Z"
   },
   {
    "duration": 158,
    "start_time": "2022-06-10T09:20:33.790Z"
   },
   {
    "duration": 169,
    "start_time": "2022-06-10T09:21:35.126Z"
   },
   {
    "duration": 373,
    "start_time": "2022-06-10T09:31:43.744Z"
   },
   {
    "duration": 382,
    "start_time": "2022-06-10T09:33:14.574Z"
   },
   {
    "duration": 822,
    "start_time": "2022-06-10T09:33:29.643Z"
   },
   {
    "duration": 52,
    "start_time": "2022-06-10T09:33:30.469Z"
   },
   {
    "duration": 10,
    "start_time": "2022-06-10T09:33:30.523Z"
   },
   {
    "duration": 319,
    "start_time": "2022-06-10T09:33:30.535Z"
   },
   {
    "duration": 412,
    "start_time": "2022-06-10T09:33:30.856Z"
   },
   {
    "duration": 339,
    "start_time": "2022-06-10T09:33:37.607Z"
   },
   {
    "duration": 181,
    "start_time": "2022-06-10T09:35:10.642Z"
   },
   {
    "duration": 1060,
    "start_time": "2022-06-10T09:35:38.836Z"
   },
   {
    "duration": 184,
    "start_time": "2022-06-10T09:35:44.406Z"
   },
   {
    "duration": 181,
    "start_time": "2022-06-10T09:41:29.874Z"
   },
   {
    "duration": 191,
    "start_time": "2022-06-10T09:42:36.977Z"
   },
   {
    "duration": 185,
    "start_time": "2022-06-10T09:42:46.487Z"
   },
   {
    "duration": 836,
    "start_time": "2022-06-10T09:42:53.836Z"
   },
   {
    "duration": 49,
    "start_time": "2022-06-10T09:42:54.674Z"
   },
   {
    "duration": 10,
    "start_time": "2022-06-10T09:42:54.725Z"
   },
   {
    "duration": 325,
    "start_time": "2022-06-10T09:42:54.737Z"
   },
   {
    "duration": 1059,
    "start_time": "2022-06-10T09:42:55.073Z"
   },
   {
    "duration": 224,
    "start_time": "2022-06-10T09:42:56.134Z"
   },
   {
    "duration": 26,
    "start_time": "2022-06-10T09:43:23.571Z"
   },
   {
    "duration": 114,
    "start_time": "2022-06-10T09:44:23.041Z"
   },
   {
    "duration": 208,
    "start_time": "2022-06-10T09:46:11.680Z"
   },
   {
    "duration": 172,
    "start_time": "2022-06-10T09:46:18.496Z"
   },
   {
    "duration": 177,
    "start_time": "2022-06-10T09:46:22.146Z"
   },
   {
    "duration": 210,
    "start_time": "2022-06-10T09:49:57.505Z"
   },
   {
    "duration": 148,
    "start_time": "2022-06-10T09:50:05.016Z"
   },
   {
    "duration": 106,
    "start_time": "2022-06-10T09:50:15.430Z"
   },
   {
    "duration": 30,
    "start_time": "2022-06-10T09:52:10.890Z"
   },
   {
    "duration": 777,
    "start_time": "2022-06-10T09:52:54.166Z"
   },
   {
    "duration": 68,
    "start_time": "2022-06-10T09:52:54.945Z"
   },
   {
    "duration": 15,
    "start_time": "2022-06-10T09:52:55.015Z"
   },
   {
    "duration": 356,
    "start_time": "2022-06-10T09:52:55.033Z"
   },
   {
    "duration": 1140,
    "start_time": "2022-06-10T09:52:55.391Z"
   },
   {
    "duration": 195,
    "start_time": "2022-06-10T09:52:56.534Z"
   },
   {
    "duration": 212,
    "start_time": "2022-06-10T09:52:56.731Z"
   },
   {
    "duration": 129,
    "start_time": "2022-06-10T09:52:56.945Z"
   },
   {
    "duration": 0,
    "start_time": "2022-06-10T09:52:57.077Z"
   },
   {
    "duration": 207,
    "start_time": "2022-06-10T09:54:03.877Z"
   },
   {
    "duration": 609,
    "start_time": "2022-06-10T09:54:07.377Z"
   },
   {
    "duration": 237,
    "start_time": "2022-06-10T09:54:36.131Z"
   },
   {
    "duration": 223,
    "start_time": "2022-06-10T09:56:17.938Z"
   },
   {
    "duration": 241,
    "start_time": "2022-06-10T09:57:34.747Z"
   },
   {
    "duration": 32,
    "start_time": "2022-06-10T09:58:15.976Z"
   },
   {
    "duration": 262,
    "start_time": "2022-06-10T09:58:28.247Z"
   },
   {
    "duration": 163,
    "start_time": "2022-06-10T09:59:01.079Z"
   },
   {
    "duration": 216,
    "start_time": "2022-06-10T10:02:23.187Z"
   },
   {
    "duration": 6,
    "start_time": "2022-06-10T10:08:28.505Z"
   },
   {
    "duration": 197,
    "start_time": "2022-06-10T10:10:13.856Z"
   },
   {
    "duration": 185,
    "start_time": "2022-06-10T10:10:30.667Z"
   },
   {
    "duration": 192,
    "start_time": "2022-06-10T10:11:05.587Z"
   },
   {
    "duration": 188,
    "start_time": "2022-06-10T10:11:55.023Z"
   },
   {
    "duration": 658,
    "start_time": "2022-06-10T11:29:26.437Z"
   },
   {
    "duration": 158,
    "start_time": "2022-06-10T11:29:27.097Z"
   },
   {
    "duration": 59,
    "start_time": "2022-06-10T11:29:27.257Z"
   },
   {
    "duration": 11,
    "start_time": "2022-06-10T11:29:27.319Z"
   },
   {
    "duration": 332,
    "start_time": "2022-06-10T11:29:27.331Z"
   },
   {
    "duration": 1198,
    "start_time": "2022-06-10T11:29:27.665Z"
   },
   {
    "duration": 186,
    "start_time": "2022-06-10T11:29:28.866Z"
   },
   {
    "duration": 6,
    "start_time": "2022-06-10T11:29:29.058Z"
   },
   {
    "duration": 202,
    "start_time": "2022-06-10T11:29:29.066Z"
   },
   {
    "duration": 169,
    "start_time": "2022-06-10T11:29:29.270Z"
   },
   {
    "duration": 248,
    "start_time": "2022-06-10T11:29:29.441Z"
   },
   {
    "duration": 1081,
    "start_time": "2022-06-10T11:43:44.752Z"
   },
   {
    "duration": 490,
    "start_time": "2022-06-10T11:44:32.614Z"
   },
   {
    "duration": 975,
    "start_time": "2022-06-10T11:44:42.922Z"
   },
   {
    "duration": 1158,
    "start_time": "2022-06-10T11:45:07.053Z"
   },
   {
    "duration": 180,
    "start_time": "2022-06-10T11:54:35.863Z"
   },
   {
    "duration": 720,
    "start_time": "2022-06-10T11:55:21.638Z"
   },
   {
    "duration": 111,
    "start_time": "2022-06-10T11:55:22.361Z"
   },
   {
    "duration": 60,
    "start_time": "2022-06-10T11:55:22.474Z"
   },
   {
    "duration": 26,
    "start_time": "2022-06-10T11:55:22.537Z"
   },
   {
    "duration": 340,
    "start_time": "2022-06-10T11:55:22.565Z"
   },
   {
    "duration": 6,
    "start_time": "2022-06-10T11:55:22.907Z"
   },
   {
    "duration": 1323,
    "start_time": "2022-06-10T11:55:22.915Z"
   },
   {
    "duration": 192,
    "start_time": "2022-06-10T11:55:24.240Z"
   },
   {
    "duration": 7,
    "start_time": "2022-06-10T11:55:24.434Z"
   },
   {
    "duration": 225,
    "start_time": "2022-06-10T11:55:24.444Z"
   },
   {
    "duration": 177,
    "start_time": "2022-06-10T11:55:24.672Z"
   },
   {
    "duration": 246,
    "start_time": "2022-06-10T11:55:24.851Z"
   },
   {
    "duration": 256,
    "start_time": "2022-06-10T11:55:52.621Z"
   },
   {
    "duration": 72,
    "start_time": "2022-06-12T16:52:34.633Z"
   },
   {
    "duration": 835,
    "start_time": "2022-06-12T16:52:42.311Z"
   },
   {
    "duration": 358,
    "start_time": "2022-06-12T16:52:43.149Z"
   },
   {
    "duration": 68,
    "start_time": "2022-06-12T16:52:43.509Z"
   },
   {
    "duration": 11,
    "start_time": "2022-06-12T16:52:43.579Z"
   },
   {
    "duration": 339,
    "start_time": "2022-06-12T16:52:43.592Z"
   },
   {
    "duration": 7,
    "start_time": "2022-06-12T16:52:43.933Z"
   },
   {
    "duration": 1042,
    "start_time": "2022-06-12T16:52:43.941Z"
   },
   {
    "duration": 160,
    "start_time": "2022-06-12T16:52:44.985Z"
   },
   {
    "duration": 6,
    "start_time": "2022-06-12T16:52:45.146Z"
   },
   {
    "duration": 220,
    "start_time": "2022-06-12T16:52:45.155Z"
   },
   {
    "duration": 154,
    "start_time": "2022-06-12T16:52:45.378Z"
   },
   {
    "duration": 215,
    "start_time": "2022-06-12T16:52:45.534Z"
   },
   {
    "duration": 198,
    "start_time": "2022-06-12T16:53:06.208Z"
   },
   {
    "duration": 201,
    "start_time": "2022-06-12T16:53:23.899Z"
   },
   {
    "duration": 158,
    "start_time": "2022-06-12T16:53:35.451Z"
   },
   {
    "duration": 1110,
    "start_time": "2022-06-12T17:05:03.732Z"
   },
   {
    "duration": 100,
    "start_time": "2022-06-12T17:06:42.721Z"
   },
   {
    "duration": 120,
    "start_time": "2022-06-12T17:09:25.470Z"
   },
   {
    "duration": 606,
    "start_time": "2022-06-12T17:09:53.560Z"
   },
   {
    "duration": 656,
    "start_time": "2022-06-12T17:10:16.473Z"
   },
   {
    "duration": 551,
    "start_time": "2022-06-12T17:10:23.167Z"
   },
   {
    "duration": 107,
    "start_time": "2022-06-12T17:10:23.721Z"
   },
   {
    "duration": 54,
    "start_time": "2022-06-12T17:10:23.830Z"
   },
   {
    "duration": 13,
    "start_time": "2022-06-12T17:10:23.887Z"
   },
   {
    "duration": 285,
    "start_time": "2022-06-12T17:10:23.901Z"
   },
   {
    "duration": 6,
    "start_time": "2022-06-12T17:10:24.187Z"
   },
   {
    "duration": 1073,
    "start_time": "2022-06-12T17:10:24.194Z"
   },
   {
    "duration": 560,
    "start_time": "2022-06-12T17:10:25.269Z"
   },
   {
    "duration": 144,
    "start_time": "2022-06-12T17:10:25.832Z"
   },
   {
    "duration": 19,
    "start_time": "2022-06-12T17:10:25.978Z"
   },
   {
    "duration": 182,
    "start_time": "2022-06-12T17:10:25.999Z"
   },
   {
    "duration": 208,
    "start_time": "2022-06-12T17:10:26.182Z"
   },
   {
    "duration": 284,
    "start_time": "2022-06-12T17:10:26.392Z"
   },
   {
    "duration": 3,
    "start_time": "2022-06-12T17:10:26.679Z"
   },
   {
    "duration": 7,
    "start_time": "2022-06-12T17:10:26.684Z"
   },
   {
    "duration": 9,
    "start_time": "2022-06-12T17:10:26.693Z"
   },
   {
    "duration": 590,
    "start_time": "2022-06-12T17:11:57.462Z"
   },
   {
    "duration": 410,
    "start_time": "2022-06-12T17:12:45.306Z"
   },
   {
    "duration": 528,
    "start_time": "2022-06-12T17:13:01.148Z"
   },
   {
    "duration": 608,
    "start_time": "2022-06-12T17:13:10.005Z"
   },
   {
    "duration": 426,
    "start_time": "2022-06-12T17:13:22.108Z"
   },
   {
    "duration": 561,
    "start_time": "2022-06-12T17:15:10.825Z"
   },
   {
    "duration": 585,
    "start_time": "2022-06-12T17:15:18.867Z"
   },
   {
    "duration": 107,
    "start_time": "2022-06-12T17:15:19.455Z"
   },
   {
    "duration": 47,
    "start_time": "2022-06-12T17:15:19.564Z"
   },
   {
    "duration": 22,
    "start_time": "2022-06-12T17:15:19.614Z"
   },
   {
    "duration": 302,
    "start_time": "2022-06-12T17:15:19.637Z"
   },
   {
    "duration": 6,
    "start_time": "2022-06-12T17:15:19.941Z"
   },
   {
    "duration": 1065,
    "start_time": "2022-06-12T17:15:19.949Z"
   },
   {
    "duration": 578,
    "start_time": "2022-06-12T17:15:21.017Z"
   },
   {
    "duration": 155,
    "start_time": "2022-06-12T17:15:21.597Z"
   },
   {
    "duration": 6,
    "start_time": "2022-06-12T17:15:21.754Z"
   },
   {
    "duration": 195,
    "start_time": "2022-06-12T17:15:21.762Z"
   },
   {
    "duration": 184,
    "start_time": "2022-06-12T17:15:21.959Z"
   },
   {
    "duration": 213,
    "start_time": "2022-06-12T17:15:22.144Z"
   },
   {
    "duration": 3,
    "start_time": "2022-06-12T17:15:22.359Z"
   },
   {
    "duration": 13,
    "start_time": "2022-06-12T17:15:22.364Z"
   },
   {
    "duration": 10,
    "start_time": "2022-06-12T17:15:22.379Z"
   },
   {
    "duration": 603,
    "start_time": "2022-06-12T17:15:42.309Z"
   },
   {
    "duration": 431,
    "start_time": "2022-06-12T17:16:24.276Z"
   },
   {
    "duration": 465,
    "start_time": "2022-06-12T17:19:10.601Z"
   },
   {
    "duration": 367,
    "start_time": "2022-06-12T17:25:50.593Z"
   },
   {
    "duration": 615,
    "start_time": "2022-06-12T17:25:58.595Z"
   },
   {
    "duration": 112,
    "start_time": "2022-06-12T17:25:59.212Z"
   },
   {
    "duration": 43,
    "start_time": "2022-06-12T17:25:59.326Z"
   },
   {
    "duration": 9,
    "start_time": "2022-06-12T17:25:59.371Z"
   },
   {
    "duration": 260,
    "start_time": "2022-06-12T17:25:59.382Z"
   },
   {
    "duration": 5,
    "start_time": "2022-06-12T17:25:59.643Z"
   },
   {
    "duration": 939,
    "start_time": "2022-06-12T17:25:59.649Z"
   },
   {
    "duration": 427,
    "start_time": "2022-06-12T17:26:00.590Z"
   },
   {
    "duration": 85,
    "start_time": "2022-06-12T17:26:01.019Z"
   },
   {
    "duration": 0,
    "start_time": "2022-06-12T17:26:01.107Z"
   },
   {
    "duration": 0,
    "start_time": "2022-06-12T17:26:01.108Z"
   },
   {
    "duration": 0,
    "start_time": "2022-06-12T17:26:01.109Z"
   },
   {
    "duration": 0,
    "start_time": "2022-06-12T17:26:01.110Z"
   },
   {
    "duration": 0,
    "start_time": "2022-06-12T17:26:01.110Z"
   },
   {
    "duration": 0,
    "start_time": "2022-06-12T17:26:01.112Z"
   },
   {
    "duration": 0,
    "start_time": "2022-06-12T17:26:01.127Z"
   },
   {
    "duration": 0,
    "start_time": "2022-06-12T17:26:01.128Z"
   },
   {
    "duration": 27,
    "start_time": "2022-06-12T17:26:12.499Z"
   },
   {
    "duration": 7,
    "start_time": "2022-06-12T17:26:32.736Z"
   },
   {
    "duration": 13,
    "start_time": "2022-06-12T17:27:16.360Z"
   },
   {
    "duration": 100,
    "start_time": "2022-06-12T17:27:31.059Z"
   },
   {
    "duration": 9,
    "start_time": "2022-06-12T17:28:34.000Z"
   },
   {
    "duration": 26,
    "start_time": "2022-06-12T17:29:48.982Z"
   },
   {
    "duration": 27,
    "start_time": "2022-06-12T17:29:58.144Z"
   },
   {
    "duration": 21,
    "start_time": "2022-06-12T17:30:10.990Z"
   },
   {
    "duration": 14,
    "start_time": "2022-06-12T17:30:18.960Z"
   },
   {
    "duration": 446,
    "start_time": "2022-06-12T17:31:24.619Z"
   },
   {
    "duration": 515,
    "start_time": "2022-06-12T17:32:32.115Z"
   },
   {
    "duration": 421,
    "start_time": "2022-06-12T17:33:38.256Z"
   },
   {
    "duration": 443,
    "start_time": "2022-06-12T17:33:47.438Z"
   },
   {
    "duration": 524,
    "start_time": "2022-06-12T17:34:07.052Z"
   },
   {
    "duration": 541,
    "start_time": "2022-06-12T17:34:19.077Z"
   },
   {
    "duration": 119,
    "start_time": "2022-06-12T17:34:19.620Z"
   },
   {
    "duration": 46,
    "start_time": "2022-06-12T17:34:19.740Z"
   },
   {
    "duration": 10,
    "start_time": "2022-06-12T17:34:19.788Z"
   },
   {
    "duration": 281,
    "start_time": "2022-06-12T17:34:19.799Z"
   },
   {
    "duration": 4,
    "start_time": "2022-06-12T17:34:20.082Z"
   },
   {
    "duration": 953,
    "start_time": "2022-06-12T17:34:20.088Z"
   },
   {
    "duration": 431,
    "start_time": "2022-06-12T17:34:21.042Z"
   },
   {
    "duration": 444,
    "start_time": "2022-06-12T17:34:21.474Z"
   },
   {
    "duration": 149,
    "start_time": "2022-06-12T17:34:21.920Z"
   },
   {
    "duration": 6,
    "start_time": "2022-06-12T17:34:22.070Z"
   },
   {
    "duration": 251,
    "start_time": "2022-06-12T17:34:22.077Z"
   },
   {
    "duration": 134,
    "start_time": "2022-06-12T17:34:22.330Z"
   },
   {
    "duration": 186,
    "start_time": "2022-06-12T17:34:22.465Z"
   },
   {
    "duration": 3,
    "start_time": "2022-06-12T17:34:22.652Z"
   },
   {
    "duration": 6,
    "start_time": "2022-06-12T17:34:22.656Z"
   },
   {
    "duration": 8,
    "start_time": "2022-06-12T17:34:22.663Z"
   },
   {
    "duration": 444,
    "start_time": "2022-06-12T17:35:08.774Z"
   },
   {
    "duration": 489,
    "start_time": "2022-06-12T17:35:15.939Z"
   },
   {
    "duration": 479,
    "start_time": "2022-06-12T17:35:28.037Z"
   },
   {
    "duration": 425,
    "start_time": "2022-06-12T17:37:19.404Z"
   },
   {
    "duration": 634,
    "start_time": "2022-06-12T17:38:06.802Z"
   },
   {
    "duration": 104,
    "start_time": "2022-06-12T17:38:07.438Z"
   },
   {
    "duration": 45,
    "start_time": "2022-06-12T17:38:07.544Z"
   },
   {
    "duration": 10,
    "start_time": "2022-06-12T17:38:07.591Z"
   },
   {
    "duration": 279,
    "start_time": "2022-06-12T17:38:07.602Z"
   },
   {
    "duration": 5,
    "start_time": "2022-06-12T17:38:07.882Z"
   },
   {
    "duration": 980,
    "start_time": "2022-06-12T17:38:07.889Z"
   },
   {
    "duration": 450,
    "start_time": "2022-06-12T17:38:08.871Z"
   },
   {
    "duration": 470,
    "start_time": "2022-06-12T17:38:09.327Z"
   },
   {
    "duration": 5,
    "start_time": "2022-06-12T17:38:09.799Z"
   },
   {
    "duration": 0,
    "start_time": "2022-06-12T17:38:09.805Z"
   },
   {
    "duration": 0,
    "start_time": "2022-06-12T17:38:09.806Z"
   },
   {
    "duration": 0,
    "start_time": "2022-06-12T17:38:09.807Z"
   },
   {
    "duration": 0,
    "start_time": "2022-06-12T17:38:09.809Z"
   },
   {
    "duration": 0,
    "start_time": "2022-06-12T17:38:09.827Z"
   },
   {
    "duration": 0,
    "start_time": "2022-06-12T17:38:09.829Z"
   },
   {
    "duration": 0,
    "start_time": "2022-06-12T17:38:09.830Z"
   },
   {
    "duration": 0,
    "start_time": "2022-06-12T17:38:09.831Z"
   },
   {
    "duration": 580,
    "start_time": "2022-06-12T17:38:31.895Z"
   },
   {
    "duration": 570,
    "start_time": "2022-06-12T17:38:46.214Z"
   },
   {
    "duration": 408,
    "start_time": "2022-06-12T17:39:02.621Z"
   },
   {
    "duration": 378,
    "start_time": "2022-06-12T17:39:30.362Z"
   },
   {
    "duration": 409,
    "start_time": "2022-06-12T17:39:44.894Z"
   },
   {
    "duration": 271,
    "start_time": "2022-06-12T17:40:51.553Z"
   },
   {
    "duration": 7,
    "start_time": "2022-06-12T17:40:52.945Z"
   },
   {
    "duration": 227,
    "start_time": "2022-06-12T17:40:57.966Z"
   },
   {
    "duration": 134,
    "start_time": "2022-06-12T17:40:58.907Z"
   },
   {
    "duration": 178,
    "start_time": "2022-06-12T17:40:59.936Z"
   },
   {
    "duration": 7,
    "start_time": "2022-06-12T17:51:47.065Z"
   },
   {
    "duration": 77,
    "start_time": "2022-06-12T17:54:48.733Z"
   },
   {
    "duration": 620,
    "start_time": "2022-06-12T17:55:03.343Z"
   },
   {
    "duration": 109,
    "start_time": "2022-06-12T17:55:03.965Z"
   },
   {
    "duration": 64,
    "start_time": "2022-06-12T17:55:04.075Z"
   },
   {
    "duration": 10,
    "start_time": "2022-06-12T17:55:04.142Z"
   },
   {
    "duration": 300,
    "start_time": "2022-06-12T17:55:04.154Z"
   },
   {
    "duration": 5,
    "start_time": "2022-06-12T17:55:04.456Z"
   },
   {
    "duration": 1052,
    "start_time": "2022-06-12T17:55:04.462Z"
   },
   {
    "duration": 400,
    "start_time": "2022-06-12T17:55:05.516Z"
   },
   {
    "duration": 453,
    "start_time": "2022-06-12T17:55:05.918Z"
   },
   {
    "duration": 194,
    "start_time": "2022-06-12T17:55:06.372Z"
   },
   {
    "duration": 7,
    "start_time": "2022-06-12T17:55:06.567Z"
   },
   {
    "duration": 198,
    "start_time": "2022-06-12T17:55:06.576Z"
   },
   {
    "duration": 148,
    "start_time": "2022-06-12T17:55:06.775Z"
   },
   {
    "duration": 278,
    "start_time": "2022-06-12T17:55:06.926Z"
   },
   {
    "duration": 85,
    "start_time": "2022-06-12T17:55:07.206Z"
   },
   {
    "duration": 19,
    "start_time": "2022-06-12T17:55:29.862Z"
   },
   {
    "duration": 22,
    "start_time": "2022-06-12T17:55:41.219Z"
   },
   {
    "duration": 20,
    "start_time": "2022-06-12T17:55:45.019Z"
   },
   {
    "duration": 550,
    "start_time": "2022-06-12T17:55:52.175Z"
   },
   {
    "duration": 119,
    "start_time": "2022-06-12T17:55:52.728Z"
   },
   {
    "duration": 47,
    "start_time": "2022-06-12T17:55:52.849Z"
   },
   {
    "duration": 16,
    "start_time": "2022-06-12T17:55:52.898Z"
   },
   {
    "duration": 326,
    "start_time": "2022-06-12T17:55:52.916Z"
   },
   {
    "duration": 6,
    "start_time": "2022-06-12T17:55:53.246Z"
   },
   {
    "duration": 1051,
    "start_time": "2022-06-12T17:55:53.256Z"
   },
   {
    "duration": 387,
    "start_time": "2022-06-12T17:55:54.309Z"
   },
   {
    "duration": 426,
    "start_time": "2022-06-12T17:55:54.698Z"
   },
   {
    "duration": 153,
    "start_time": "2022-06-12T17:55:55.128Z"
   },
   {
    "duration": 7,
    "start_time": "2022-06-12T17:55:55.282Z"
   },
   {
    "duration": 178,
    "start_time": "2022-06-12T17:55:55.290Z"
   },
   {
    "duration": 142,
    "start_time": "2022-06-12T17:55:55.469Z"
   },
   {
    "duration": 279,
    "start_time": "2022-06-12T17:55:55.613Z"
   },
   {
    "duration": 16,
    "start_time": "2022-06-12T17:55:55.894Z"
   },
   {
    "duration": 17,
    "start_time": "2022-06-12T17:55:58.657Z"
   },
   {
    "duration": 17,
    "start_time": "2022-06-12T17:56:01.805Z"
   },
   {
    "duration": 18,
    "start_time": "2022-06-12T17:56:29.741Z"
   },
   {
    "duration": 17,
    "start_time": "2022-06-12T17:56:38.163Z"
   },
   {
    "duration": 18,
    "start_time": "2022-06-12T17:57:09.864Z"
   },
   {
    "duration": 89,
    "start_time": "2022-06-12T17:58:18.561Z"
   },
   {
    "duration": 24,
    "start_time": "2022-06-12T17:58:58.087Z"
   },
   {
    "duration": 31,
    "start_time": "2022-06-12T17:59:14.846Z"
   },
   {
    "duration": 24,
    "start_time": "2022-06-12T17:59:45.177Z"
   },
   {
    "duration": 22,
    "start_time": "2022-06-12T18:00:22.982Z"
   },
   {
    "duration": 36,
    "start_time": "2022-06-12T18:00:55.547Z"
   },
   {
    "duration": 24,
    "start_time": "2022-06-12T18:01:15.295Z"
   },
   {
    "duration": 23,
    "start_time": "2022-06-12T18:01:39.355Z"
   },
   {
    "duration": 33,
    "start_time": "2022-06-12T18:01:49.754Z"
   },
   {
    "duration": 33,
    "start_time": "2022-06-12T18:02:49.167Z"
   },
   {
    "duration": 37,
    "start_time": "2022-06-12T18:03:16.247Z"
   },
   {
    "duration": 32,
    "start_time": "2022-06-12T18:03:32.359Z"
   },
   {
    "duration": 24,
    "start_time": "2022-06-12T18:03:38.807Z"
   },
   {
    "duration": 21,
    "start_time": "2022-06-12T18:05:29.696Z"
   },
   {
    "duration": 29,
    "start_time": "2022-06-12T18:05:46.526Z"
   },
   {
    "duration": 25,
    "start_time": "2022-06-12T18:06:16.155Z"
   },
   {
    "duration": 23,
    "start_time": "2022-06-12T18:07:23.594Z"
   },
   {
    "duration": 27,
    "start_time": "2022-06-12T18:08:28.326Z"
   },
   {
    "duration": 22,
    "start_time": "2022-06-12T18:08:41.521Z"
   },
   {
    "duration": 5,
    "start_time": "2022-06-12T18:10:12.567Z"
   },
   {
    "duration": 6,
    "start_time": "2022-06-12T18:13:17.378Z"
   },
   {
    "duration": 6,
    "start_time": "2022-06-12T18:13:29.170Z"
   },
   {
    "duration": 15,
    "start_time": "2022-06-12T18:14:50.388Z"
   },
   {
    "duration": 26,
    "start_time": "2022-06-12T18:18:07.539Z"
   },
   {
    "duration": 20,
    "start_time": "2022-06-12T18:18:35.361Z"
   },
   {
    "duration": 21,
    "start_time": "2022-06-12T18:19:55.387Z"
   },
   {
    "duration": 22,
    "start_time": "2022-06-12T18:20:31.944Z"
   },
   {
    "duration": 38,
    "start_time": "2022-06-12T18:22:12.290Z"
   },
   {
    "duration": 33,
    "start_time": "2022-06-12T18:22:30.851Z"
   },
   {
    "duration": 127,
    "start_time": "2022-06-12T18:22:57.281Z"
   },
   {
    "duration": 27,
    "start_time": "2022-06-12T18:23:44.461Z"
   },
   {
    "duration": 162,
    "start_time": "2022-06-12T18:23:50.591Z"
   },
   {
    "duration": 9,
    "start_time": "2022-06-12T18:29:28.448Z"
   },
   {
    "duration": 19,
    "start_time": "2022-06-12T18:29:56.929Z"
   },
   {
    "duration": 38,
    "start_time": "2022-06-12T18:30:09.618Z"
   },
   {
    "duration": 50,
    "start_time": "2022-06-12T18:32:36.376Z"
   },
   {
    "duration": 33,
    "start_time": "2022-06-12T18:33:48.448Z"
   },
   {
    "duration": 131,
    "start_time": "2022-06-12T18:34:01.058Z"
   },
   {
    "duration": 40,
    "start_time": "2022-06-12T18:35:22.009Z"
   },
   {
    "duration": 767,
    "start_time": "2022-06-13T11:14:32.468Z"
   },
   {
    "duration": 156,
    "start_time": "2022-06-13T11:14:33.237Z"
   },
   {
    "duration": 49,
    "start_time": "2022-06-13T11:14:33.394Z"
   },
   {
    "duration": 17,
    "start_time": "2022-06-13T11:14:33.445Z"
   },
   {
    "duration": 294,
    "start_time": "2022-06-13T11:14:33.464Z"
   },
   {
    "duration": 5,
    "start_time": "2022-06-13T11:14:33.760Z"
   },
   {
    "duration": 1062,
    "start_time": "2022-06-13T11:14:33.767Z"
   },
   {
    "duration": 433,
    "start_time": "2022-06-13T11:14:34.831Z"
   },
   {
    "duration": 444,
    "start_time": "2022-06-13T11:14:35.265Z"
   },
   {
    "duration": 185,
    "start_time": "2022-06-13T11:14:35.713Z"
   },
   {
    "duration": 5,
    "start_time": "2022-06-13T11:14:35.900Z"
   },
   {
    "duration": 189,
    "start_time": "2022-06-13T11:14:35.907Z"
   },
   {
    "duration": 171,
    "start_time": "2022-06-13T11:14:36.098Z"
   },
   {
    "duration": 289,
    "start_time": "2022-06-13T11:14:36.271Z"
   },
   {
    "duration": 26,
    "start_time": "2022-06-13T11:14:36.561Z"
   },
   {
    "duration": 178,
    "start_time": "2022-06-13T11:14:36.588Z"
   },
   {
    "duration": 32,
    "start_time": "2022-06-13T11:14:36.767Z"
   },
   {
    "duration": 135,
    "start_time": "2022-06-13T11:14:36.801Z"
   },
   {
    "duration": 12,
    "start_time": "2022-06-13T11:16:10.697Z"
   },
   {
    "duration": 21,
    "start_time": "2022-06-13T11:16:51.263Z"
   },
   {
    "duration": 18,
    "start_time": "2022-06-13T11:16:57.148Z"
   },
   {
    "duration": 581,
    "start_time": "2022-06-13T11:19:33.274Z"
   },
   {
    "duration": 622,
    "start_time": "2022-06-13T11:19:52.374Z"
   },
   {
    "duration": 659,
    "start_time": "2022-06-13T11:20:42.692Z"
   },
   {
    "duration": 604,
    "start_time": "2022-06-13T11:20:48.365Z"
   },
   {
    "duration": 104,
    "start_time": "2022-06-13T11:20:48.970Z"
   },
   {
    "duration": 48,
    "start_time": "2022-06-13T11:20:49.076Z"
   },
   {
    "duration": 10,
    "start_time": "2022-06-13T11:20:49.126Z"
   },
   {
    "duration": 298,
    "start_time": "2022-06-13T11:20:49.138Z"
   },
   {
    "duration": 6,
    "start_time": "2022-06-13T11:20:49.437Z"
   },
   {
    "duration": 1038,
    "start_time": "2022-06-13T11:20:49.444Z"
   },
   {
    "duration": 414,
    "start_time": "2022-06-13T11:20:50.484Z"
   },
   {
    "duration": 429,
    "start_time": "2022-06-13T11:20:50.900Z"
   },
   {
    "duration": 159,
    "start_time": "2022-06-13T11:20:51.332Z"
   },
   {
    "duration": 6,
    "start_time": "2022-06-13T11:20:51.492Z"
   },
   {
    "duration": 180,
    "start_time": "2022-06-13T11:20:51.500Z"
   },
   {
    "duration": 178,
    "start_time": "2022-06-13T11:20:51.682Z"
   },
   {
    "duration": 326,
    "start_time": "2022-06-13T11:20:51.862Z"
   },
   {
    "duration": 25,
    "start_time": "2022-06-13T11:20:52.190Z"
   },
   {
    "duration": 175,
    "start_time": "2022-06-13T11:20:52.216Z"
   },
   {
    "duration": 33,
    "start_time": "2022-06-13T11:20:52.393Z"
   },
   {
    "duration": 264,
    "start_time": "2022-06-13T11:20:52.427Z"
   },
   {
    "duration": 171,
    "start_time": "2022-06-13T11:21:32.176Z"
   },
   {
    "duration": 631,
    "start_time": "2022-06-13T11:22:36.611Z"
   },
   {
    "duration": 618,
    "start_time": "2022-06-13T11:23:15.376Z"
   },
   {
    "duration": 169,
    "start_time": "2022-06-13T11:23:34.751Z"
   },
   {
    "duration": 172,
    "start_time": "2022-06-13T11:23:59.426Z"
   },
   {
    "duration": 156,
    "start_time": "2022-06-13T11:24:16.581Z"
   },
   {
    "duration": 168,
    "start_time": "2022-06-13T11:25:04.638Z"
   },
   {
    "duration": 161,
    "start_time": "2022-06-13T11:25:42.644Z"
   },
   {
    "duration": 228,
    "start_time": "2022-06-13T11:25:52.868Z"
   },
   {
    "duration": 167,
    "start_time": "2022-06-13T11:26:01.236Z"
   },
   {
    "duration": 166,
    "start_time": "2022-06-13T11:28:36.621Z"
   },
   {
    "duration": 198,
    "start_time": "2022-06-13T11:28:59.750Z"
   },
   {
    "duration": 171,
    "start_time": "2022-06-13T11:29:14.906Z"
   },
   {
    "duration": 11,
    "start_time": "2022-06-13T11:33:13.698Z"
   },
   {
    "duration": 182,
    "start_time": "2022-06-13T11:33:25.150Z"
   },
   {
    "duration": 166,
    "start_time": "2022-06-13T11:33:51.601Z"
   },
   {
    "duration": 143,
    "start_time": "2022-06-13T11:34:24.011Z"
   },
   {
    "duration": 145,
    "start_time": "2022-06-13T11:35:16.491Z"
   },
   {
    "duration": 141,
    "start_time": "2022-06-13T11:35:30.570Z"
   },
   {
    "duration": 144,
    "start_time": "2022-06-13T11:35:37.771Z"
   },
   {
    "duration": 216,
    "start_time": "2022-06-13T11:35:47.681Z"
   },
   {
    "duration": 585,
    "start_time": "2022-06-13T11:35:55.392Z"
   },
   {
    "duration": 107,
    "start_time": "2022-06-13T11:35:55.979Z"
   },
   {
    "duration": 52,
    "start_time": "2022-06-13T11:35:56.088Z"
   },
   {
    "duration": 16,
    "start_time": "2022-06-13T11:35:56.142Z"
   },
   {
    "duration": 308,
    "start_time": "2022-06-13T11:35:56.160Z"
   },
   {
    "duration": 6,
    "start_time": "2022-06-13T11:35:56.470Z"
   },
   {
    "duration": 1048,
    "start_time": "2022-06-13T11:35:56.478Z"
   },
   {
    "duration": 430,
    "start_time": "2022-06-13T11:35:57.528Z"
   },
   {
    "duration": 431,
    "start_time": "2022-06-13T11:35:57.960Z"
   },
   {
    "duration": 157,
    "start_time": "2022-06-13T11:35:58.393Z"
   },
   {
    "duration": 12,
    "start_time": "2022-06-13T11:35:58.551Z"
   },
   {
    "duration": 177,
    "start_time": "2022-06-13T11:35:58.564Z"
   },
   {
    "duration": 161,
    "start_time": "2022-06-13T11:35:58.743Z"
   },
   {
    "duration": 300,
    "start_time": "2022-06-13T11:35:58.906Z"
   },
   {
    "duration": 25,
    "start_time": "2022-06-13T11:35:59.207Z"
   },
   {
    "duration": 181,
    "start_time": "2022-06-13T11:35:59.234Z"
   },
   {
    "duration": 45,
    "start_time": "2022-06-13T11:35:59.417Z"
   },
   {
    "duration": 207,
    "start_time": "2022-06-13T11:35:59.464Z"
   },
   {
    "duration": 166,
    "start_time": "2022-06-13T11:35:59.673Z"
   },
   {
    "duration": 141,
    "start_time": "2022-06-13T11:36:07.189Z"
   },
   {
    "duration": 141,
    "start_time": "2022-06-13T11:36:18.487Z"
   },
   {
    "duration": 145,
    "start_time": "2022-06-13T11:36:26.902Z"
   },
   {
    "duration": 149,
    "start_time": "2022-06-13T11:36:39.175Z"
   },
   {
    "duration": 141,
    "start_time": "2022-06-13T11:36:58.619Z"
   },
   {
    "duration": 142,
    "start_time": "2022-06-13T11:37:07.983Z"
   },
   {
    "duration": 72,
    "start_time": "2022-06-13T11:40:28.979Z"
   },
   {
    "duration": 209,
    "start_time": "2022-06-13T11:41:03.589Z"
   },
   {
    "duration": 280,
    "start_time": "2022-06-13T11:43:03.978Z"
   },
   {
    "duration": 629,
    "start_time": "2022-06-13T11:43:48.601Z"
   },
   {
    "duration": 116,
    "start_time": "2022-06-13T11:43:49.232Z"
   },
   {
    "duration": 68,
    "start_time": "2022-06-13T11:43:49.350Z"
   },
   {
    "duration": 10,
    "start_time": "2022-06-13T11:43:49.420Z"
   },
   {
    "duration": 307,
    "start_time": "2022-06-13T11:43:49.432Z"
   },
   {
    "duration": 5,
    "start_time": "2022-06-13T11:43:49.741Z"
   },
   {
    "duration": 1181,
    "start_time": "2022-06-13T11:43:49.747Z"
   },
   {
    "duration": 460,
    "start_time": "2022-06-13T11:43:50.930Z"
   },
   {
    "duration": 520,
    "start_time": "2022-06-13T11:43:51.392Z"
   },
   {
    "duration": 217,
    "start_time": "2022-06-13T11:43:51.917Z"
   },
   {
    "duration": 7,
    "start_time": "2022-06-13T11:43:52.137Z"
   },
   {
    "duration": 228,
    "start_time": "2022-06-13T11:43:52.146Z"
   },
   {
    "duration": 184,
    "start_time": "2022-06-13T11:43:52.378Z"
   },
   {
    "duration": 331,
    "start_time": "2022-06-13T11:43:52.563Z"
   },
   {
    "duration": 29,
    "start_time": "2022-06-13T11:43:52.896Z"
   },
   {
    "duration": 208,
    "start_time": "2022-06-13T11:43:52.927Z"
   },
   {
    "duration": 48,
    "start_time": "2022-06-13T11:43:53.136Z"
   },
   {
    "duration": 210,
    "start_time": "2022-06-13T11:43:53.186Z"
   },
   {
    "duration": 177,
    "start_time": "2022-06-13T11:43:53.398Z"
   },
   {
    "duration": 307,
    "start_time": "2022-06-13T11:43:53.578Z"
   },
   {
    "duration": 5,
    "start_time": "2022-06-13T11:44:32.336Z"
   },
   {
    "duration": 186,
    "start_time": "2022-06-13T11:44:47.845Z"
   },
   {
    "duration": 35,
    "start_time": "2022-06-13T11:56:25.186Z"
   },
   {
    "duration": 248,
    "start_time": "2022-06-13T11:57:12.018Z"
   },
   {
    "duration": 12,
    "start_time": "2022-06-13T11:59:23.495Z"
   },
   {
    "duration": 10,
    "start_time": "2022-06-13T11:59:36.074Z"
   },
   {
    "duration": 12,
    "start_time": "2022-06-13T12:03:05.810Z"
   },
   {
    "duration": 17,
    "start_time": "2022-06-13T12:03:23.566Z"
   },
   {
    "duration": 590,
    "start_time": "2022-06-13T12:03:32.013Z"
   },
   {
    "duration": 111,
    "start_time": "2022-06-13T12:03:32.605Z"
   },
   {
    "duration": 56,
    "start_time": "2022-06-13T12:03:32.718Z"
   },
   {
    "duration": 89,
    "start_time": "2022-06-13T12:03:32.775Z"
   },
   {
    "duration": 0,
    "start_time": "2022-06-13T12:03:32.866Z"
   },
   {
    "duration": 0,
    "start_time": "2022-06-13T12:03:32.868Z"
   },
   {
    "duration": 0,
    "start_time": "2022-06-13T12:03:32.869Z"
   },
   {
    "duration": 0,
    "start_time": "2022-06-13T12:03:32.870Z"
   },
   {
    "duration": 0,
    "start_time": "2022-06-13T12:03:32.872Z"
   },
   {
    "duration": 0,
    "start_time": "2022-06-13T12:03:32.873Z"
   },
   {
    "duration": 0,
    "start_time": "2022-06-13T12:03:32.875Z"
   },
   {
    "duration": 0,
    "start_time": "2022-06-13T12:03:32.876Z"
   },
   {
    "duration": 0,
    "start_time": "2022-06-13T12:03:32.877Z"
   },
   {
    "duration": 0,
    "start_time": "2022-06-13T12:03:32.878Z"
   },
   {
    "duration": 0,
    "start_time": "2022-06-13T12:03:32.879Z"
   },
   {
    "duration": 0,
    "start_time": "2022-06-13T12:03:32.880Z"
   },
   {
    "duration": 0,
    "start_time": "2022-06-13T12:03:32.881Z"
   },
   {
    "duration": 0,
    "start_time": "2022-06-13T12:03:32.883Z"
   },
   {
    "duration": 0,
    "start_time": "2022-06-13T12:03:32.884Z"
   },
   {
    "duration": 0,
    "start_time": "2022-06-13T12:03:32.885Z"
   },
   {
    "duration": 0,
    "start_time": "2022-06-13T12:03:32.886Z"
   },
   {
    "duration": 13,
    "start_time": "2022-06-13T12:03:44.005Z"
   },
   {
    "duration": 630,
    "start_time": "2022-06-13T12:03:50.224Z"
   },
   {
    "duration": 108,
    "start_time": "2022-06-13T12:03:50.856Z"
   },
   {
    "duration": 50,
    "start_time": "2022-06-13T12:03:50.965Z"
   },
   {
    "duration": 91,
    "start_time": "2022-06-13T12:03:51.017Z"
   },
   {
    "duration": 0,
    "start_time": "2022-06-13T12:03:51.110Z"
   },
   {
    "duration": 0,
    "start_time": "2022-06-13T12:03:51.112Z"
   },
   {
    "duration": 0,
    "start_time": "2022-06-13T12:03:51.113Z"
   },
   {
    "duration": 0,
    "start_time": "2022-06-13T12:03:51.113Z"
   },
   {
    "duration": 0,
    "start_time": "2022-06-13T12:03:51.114Z"
   },
   {
    "duration": 0,
    "start_time": "2022-06-13T12:03:51.116Z"
   },
   {
    "duration": 0,
    "start_time": "2022-06-13T12:03:51.117Z"
   },
   {
    "duration": 0,
    "start_time": "2022-06-13T12:03:51.118Z"
   },
   {
    "duration": 0,
    "start_time": "2022-06-13T12:03:51.119Z"
   },
   {
    "duration": 0,
    "start_time": "2022-06-13T12:03:51.121Z"
   },
   {
    "duration": 0,
    "start_time": "2022-06-13T12:03:51.121Z"
   },
   {
    "duration": 0,
    "start_time": "2022-06-13T12:03:51.122Z"
   },
   {
    "duration": 0,
    "start_time": "2022-06-13T12:03:51.123Z"
   },
   {
    "duration": 0,
    "start_time": "2022-06-13T12:03:51.124Z"
   },
   {
    "duration": 0,
    "start_time": "2022-06-13T12:03:51.125Z"
   },
   {
    "duration": 0,
    "start_time": "2022-06-13T12:03:51.127Z"
   },
   {
    "duration": 0,
    "start_time": "2022-06-13T12:03:51.128Z"
   },
   {
    "duration": 11,
    "start_time": "2022-06-13T12:05:11.734Z"
   },
   {
    "duration": 246,
    "start_time": "2022-06-13T12:05:13.195Z"
   },
   {
    "duration": 601,
    "start_time": "2022-06-13T12:07:00.394Z"
   },
   {
    "duration": 113,
    "start_time": "2022-06-13T12:07:00.998Z"
   },
   {
    "duration": 57,
    "start_time": "2022-06-13T12:07:01.113Z"
   },
   {
    "duration": 88,
    "start_time": "2022-06-13T12:07:01.173Z"
   },
   {
    "duration": 0,
    "start_time": "2022-06-13T12:07:01.263Z"
   },
   {
    "duration": 0,
    "start_time": "2022-06-13T12:07:01.264Z"
   },
   {
    "duration": 0,
    "start_time": "2022-06-13T12:07:01.265Z"
   },
   {
    "duration": 0,
    "start_time": "2022-06-13T12:07:01.266Z"
   },
   {
    "duration": 0,
    "start_time": "2022-06-13T12:07:01.267Z"
   },
   {
    "duration": 0,
    "start_time": "2022-06-13T12:07:01.268Z"
   },
   {
    "duration": 0,
    "start_time": "2022-06-13T12:07:01.269Z"
   },
   {
    "duration": 0,
    "start_time": "2022-06-13T12:07:01.270Z"
   },
   {
    "duration": 0,
    "start_time": "2022-06-13T12:07:01.271Z"
   },
   {
    "duration": 0,
    "start_time": "2022-06-13T12:07:01.272Z"
   },
   {
    "duration": 0,
    "start_time": "2022-06-13T12:07:01.273Z"
   },
   {
    "duration": 0,
    "start_time": "2022-06-13T12:07:01.274Z"
   },
   {
    "duration": 0,
    "start_time": "2022-06-13T12:07:01.275Z"
   },
   {
    "duration": 0,
    "start_time": "2022-06-13T12:07:01.276Z"
   },
   {
    "duration": 0,
    "start_time": "2022-06-13T12:07:01.277Z"
   },
   {
    "duration": 0,
    "start_time": "2022-06-13T12:07:01.278Z"
   },
   {
    "duration": 0,
    "start_time": "2022-06-13T12:07:01.279Z"
   },
   {
    "duration": 11,
    "start_time": "2022-06-13T12:07:08.563Z"
   },
   {
    "duration": 26,
    "start_time": "2022-06-13T12:09:49.214Z"
   },
   {
    "duration": 31,
    "start_time": "2022-06-13T12:10:00.312Z"
   },
   {
    "duration": 32,
    "start_time": "2022-06-13T12:10:14.086Z"
   },
   {
    "duration": 626,
    "start_time": "2022-06-13T12:10:22.484Z"
   },
   {
    "duration": 112,
    "start_time": "2022-06-13T12:10:23.112Z"
   },
   {
    "duration": 67,
    "start_time": "2022-06-13T12:10:23.226Z"
   },
   {
    "duration": 5,
    "start_time": "2022-06-13T12:10:23.296Z"
   },
   {
    "duration": 0,
    "start_time": "2022-06-13T12:10:23.303Z"
   },
   {
    "duration": 0,
    "start_time": "2022-06-13T12:10:23.304Z"
   },
   {
    "duration": 0,
    "start_time": "2022-06-13T12:10:23.305Z"
   },
   {
    "duration": 0,
    "start_time": "2022-06-13T12:10:23.306Z"
   },
   {
    "duration": 0,
    "start_time": "2022-06-13T12:10:23.308Z"
   },
   {
    "duration": 0,
    "start_time": "2022-06-13T12:10:23.309Z"
   },
   {
    "duration": 0,
    "start_time": "2022-06-13T12:10:23.309Z"
   },
   {
    "duration": 0,
    "start_time": "2022-06-13T12:10:23.311Z"
   },
   {
    "duration": 0,
    "start_time": "2022-06-13T12:10:23.312Z"
   },
   {
    "duration": 0,
    "start_time": "2022-06-13T12:10:23.313Z"
   },
   {
    "duration": 0,
    "start_time": "2022-06-13T12:10:23.314Z"
   },
   {
    "duration": 0,
    "start_time": "2022-06-13T12:10:23.315Z"
   },
   {
    "duration": 0,
    "start_time": "2022-06-13T12:10:23.316Z"
   },
   {
    "duration": 0,
    "start_time": "2022-06-13T12:10:23.317Z"
   },
   {
    "duration": 0,
    "start_time": "2022-06-13T12:10:23.319Z"
   },
   {
    "duration": 0,
    "start_time": "2022-06-13T12:10:23.320Z"
   },
   {
    "duration": 1,
    "start_time": "2022-06-13T12:10:23.320Z"
   },
   {
    "duration": 4,
    "start_time": "2022-06-13T12:10:38.438Z"
   },
   {
    "duration": 4,
    "start_time": "2022-06-13T12:10:55.049Z"
   },
   {
    "duration": 84,
    "start_time": "2022-06-13T12:12:00.595Z"
   },
   {
    "duration": 10,
    "start_time": "2022-06-13T12:12:15.496Z"
   },
   {
    "duration": 245,
    "start_time": "2022-06-13T12:12:16.988Z"
   },
   {
    "duration": 651,
    "start_time": "2022-06-13T12:12:23.725Z"
   },
   {
    "duration": 112,
    "start_time": "2022-06-13T12:12:24.378Z"
   },
   {
    "duration": 55,
    "start_time": "2022-06-13T12:12:24.492Z"
   },
   {
    "duration": 75,
    "start_time": "2022-06-13T12:12:24.558Z"
   },
   {
    "duration": 0,
    "start_time": "2022-06-13T12:12:24.637Z"
   },
   {
    "duration": 0,
    "start_time": "2022-06-13T12:12:24.638Z"
   },
   {
    "duration": 0,
    "start_time": "2022-06-13T12:12:24.639Z"
   },
   {
    "duration": 0,
    "start_time": "2022-06-13T12:12:24.641Z"
   },
   {
    "duration": 0,
    "start_time": "2022-06-13T12:12:24.659Z"
   },
   {
    "duration": 0,
    "start_time": "2022-06-13T12:12:24.660Z"
   },
   {
    "duration": 0,
    "start_time": "2022-06-13T12:12:24.662Z"
   },
   {
    "duration": 0,
    "start_time": "2022-06-13T12:12:24.663Z"
   },
   {
    "duration": 0,
    "start_time": "2022-06-13T12:12:24.665Z"
   },
   {
    "duration": 0,
    "start_time": "2022-06-13T12:12:24.666Z"
   },
   {
    "duration": 0,
    "start_time": "2022-06-13T12:12:24.668Z"
   },
   {
    "duration": 0,
    "start_time": "2022-06-13T12:12:24.669Z"
   },
   {
    "duration": 0,
    "start_time": "2022-06-13T12:12:24.671Z"
   },
   {
    "duration": 0,
    "start_time": "2022-06-13T12:12:24.672Z"
   },
   {
    "duration": 0,
    "start_time": "2022-06-13T12:12:24.674Z"
   },
   {
    "duration": 0,
    "start_time": "2022-06-13T12:12:24.676Z"
   },
   {
    "duration": 0,
    "start_time": "2022-06-13T12:12:24.677Z"
   },
   {
    "duration": 9,
    "start_time": "2022-06-13T12:12:34.470Z"
   },
   {
    "duration": 672,
    "start_time": "2022-06-13T12:14:00.261Z"
   },
   {
    "duration": 111,
    "start_time": "2022-06-13T12:14:00.936Z"
   },
   {
    "duration": 55,
    "start_time": "2022-06-13T12:14:01.050Z"
   },
   {
    "duration": 37,
    "start_time": "2022-06-13T12:14:01.108Z"
   },
   {
    "duration": 244,
    "start_time": "2022-06-13T12:14:01.147Z"
   },
   {
    "duration": 5,
    "start_time": "2022-06-13T12:14:01.393Z"
   },
   {
    "duration": 1255,
    "start_time": "2022-06-13T12:14:01.400Z"
   },
   {
    "duration": 441,
    "start_time": "2022-06-13T12:14:02.659Z"
   },
   {
    "duration": 460,
    "start_time": "2022-06-13T12:14:03.102Z"
   },
   {
    "duration": 164,
    "start_time": "2022-06-13T12:14:03.565Z"
   },
   {
    "duration": 8,
    "start_time": "2022-06-13T12:14:03.731Z"
   },
   {
    "duration": 193,
    "start_time": "2022-06-13T12:14:03.741Z"
   },
   {
    "duration": 169,
    "start_time": "2022-06-13T12:14:03.935Z"
   },
   {
    "duration": 209,
    "start_time": "2022-06-13T12:14:04.105Z"
   },
   {
    "duration": 21,
    "start_time": "2022-06-13T12:14:04.316Z"
   },
   {
    "duration": 39,
    "start_time": "2022-06-13T12:14:04.338Z"
   },
   {
    "duration": 178,
    "start_time": "2022-06-13T12:14:04.378Z"
   },
   {
    "duration": 32,
    "start_time": "2022-06-13T12:14:04.558Z"
   },
   {
    "duration": 194,
    "start_time": "2022-06-13T12:14:04.591Z"
   },
   {
    "duration": 271,
    "start_time": "2022-06-13T12:14:04.787Z"
   },
   {
    "duration": 174,
    "start_time": "2022-06-13T12:14:05.060Z"
   },
   {
    "duration": 76,
    "start_time": "2022-06-13T12:14:46.612Z"
   },
   {
    "duration": 14,
    "start_time": "2022-06-13T12:15:06.265Z"
   },
   {
    "duration": 10,
    "start_time": "2022-06-13T12:15:29.412Z"
   },
   {
    "duration": 35,
    "start_time": "2022-06-13T12:16:37.827Z"
   },
   {
    "duration": 19,
    "start_time": "2022-06-13T12:16:45.420Z"
   },
   {
    "duration": 39,
    "start_time": "2022-06-13T12:17:11.166Z"
   },
   {
    "duration": 37,
    "start_time": "2022-06-13T12:17:32.972Z"
   },
   {
    "duration": 635,
    "start_time": "2022-06-13T12:17:44.398Z"
   },
   {
    "duration": 122,
    "start_time": "2022-06-13T12:17:45.035Z"
   },
   {
    "duration": 68,
    "start_time": "2022-06-13T12:17:45.159Z"
   },
   {
    "duration": 107,
    "start_time": "2022-06-13T12:17:45.229Z"
   },
   {
    "duration": 0,
    "start_time": "2022-06-13T12:17:45.339Z"
   },
   {
    "duration": 0,
    "start_time": "2022-06-13T12:17:45.340Z"
   },
   {
    "duration": 0,
    "start_time": "2022-06-13T12:17:45.342Z"
   },
   {
    "duration": 0,
    "start_time": "2022-06-13T12:17:45.344Z"
   },
   {
    "duration": 0,
    "start_time": "2022-06-13T12:17:45.345Z"
   },
   {
    "duration": 0,
    "start_time": "2022-06-13T12:17:45.347Z"
   },
   {
    "duration": 0,
    "start_time": "2022-06-13T12:17:45.348Z"
   },
   {
    "duration": 0,
    "start_time": "2022-06-13T12:17:45.360Z"
   },
   {
    "duration": 0,
    "start_time": "2022-06-13T12:17:45.361Z"
   },
   {
    "duration": 1,
    "start_time": "2022-06-13T12:17:45.364Z"
   },
   {
    "duration": 0,
    "start_time": "2022-06-13T12:17:45.366Z"
   },
   {
    "duration": 0,
    "start_time": "2022-06-13T12:17:45.367Z"
   },
   {
    "duration": 0,
    "start_time": "2022-06-13T12:17:45.369Z"
   },
   {
    "duration": 0,
    "start_time": "2022-06-13T12:17:45.371Z"
   },
   {
    "duration": 0,
    "start_time": "2022-06-13T12:17:45.372Z"
   },
   {
    "duration": 0,
    "start_time": "2022-06-13T12:17:45.373Z"
   },
   {
    "duration": 0,
    "start_time": "2022-06-13T12:17:45.375Z"
   },
   {
    "duration": 40,
    "start_time": "2022-06-13T12:18:08.052Z"
   },
   {
    "duration": 19,
    "start_time": "2022-06-13T12:18:16.875Z"
   },
   {
    "duration": 41,
    "start_time": "2022-06-13T12:19:18.895Z"
   },
   {
    "duration": 22,
    "start_time": "2022-06-13T12:20:01.837Z"
   },
   {
    "duration": 76,
    "start_time": "2022-06-13T12:20:15.500Z"
   },
   {
    "duration": 64,
    "start_time": "2022-06-13T12:20:33.718Z"
   },
   {
    "duration": 636,
    "start_time": "2022-06-13T12:21:06.095Z"
   },
   {
    "duration": 121,
    "start_time": "2022-06-13T12:21:06.733Z"
   },
   {
    "duration": 62,
    "start_time": "2022-06-13T12:21:06.856Z"
   },
   {
    "duration": 67,
    "start_time": "2022-06-13T12:21:06.920Z"
   },
   {
    "duration": 325,
    "start_time": "2022-06-13T12:21:06.989Z"
   },
   {
    "duration": 6,
    "start_time": "2022-06-13T12:21:07.315Z"
   },
   {
    "duration": 1209,
    "start_time": "2022-06-13T12:21:07.323Z"
   },
   {
    "duration": 456,
    "start_time": "2022-06-13T12:21:08.534Z"
   },
   {
    "duration": 466,
    "start_time": "2022-06-13T12:21:08.992Z"
   },
   {
    "duration": 173,
    "start_time": "2022-06-13T12:21:09.462Z"
   },
   {
    "duration": 6,
    "start_time": "2022-06-13T12:21:09.636Z"
   },
   {
    "duration": 198,
    "start_time": "2022-06-13T12:21:09.644Z"
   },
   {
    "duration": 184,
    "start_time": "2022-06-13T12:21:09.844Z"
   },
   {
    "duration": 322,
    "start_time": "2022-06-13T12:21:10.030Z"
   },
   {
    "duration": 27,
    "start_time": "2022-06-13T12:21:10.364Z"
   },
   {
    "duration": 26,
    "start_time": "2022-06-13T12:21:10.393Z"
   },
   {
    "duration": 186,
    "start_time": "2022-06-13T12:21:10.420Z"
   },
   {
    "duration": 30,
    "start_time": "2022-06-13T12:21:10.608Z"
   },
   {
    "duration": 205,
    "start_time": "2022-06-13T12:21:10.640Z"
   },
   {
    "duration": 178,
    "start_time": "2022-06-13T12:21:10.847Z"
   },
   {
    "duration": 189,
    "start_time": "2022-06-13T12:21:11.027Z"
   },
   {
    "duration": 47,
    "start_time": "2022-06-13T12:28:27.267Z"
   },
   {
    "duration": 50,
    "start_time": "2022-06-13T12:29:12.536Z"
   },
   {
    "duration": 639,
    "start_time": "2022-06-13T12:29:36.820Z"
   },
   {
    "duration": 119,
    "start_time": "2022-06-13T12:29:37.461Z"
   },
   {
    "duration": 51,
    "start_time": "2022-06-13T12:29:37.582Z"
   },
   {
    "duration": 6,
    "start_time": "2022-06-13T12:29:37.635Z"
   },
   {
    "duration": 61,
    "start_time": "2022-06-13T12:29:37.643Z"
   },
   {
    "duration": 320,
    "start_time": "2022-06-13T12:29:37.706Z"
   },
   {
    "duration": 5,
    "start_time": "2022-06-13T12:29:38.027Z"
   },
   {
    "duration": 1159,
    "start_time": "2022-06-13T12:29:38.034Z"
   },
   {
    "duration": 455,
    "start_time": "2022-06-13T12:29:39.195Z"
   },
   {
    "duration": 470,
    "start_time": "2022-06-13T12:29:39.659Z"
   },
   {
    "duration": 191,
    "start_time": "2022-06-13T12:29:40.132Z"
   },
   {
    "duration": 6,
    "start_time": "2022-06-13T12:29:40.325Z"
   },
   {
    "duration": 214,
    "start_time": "2022-06-13T12:29:40.333Z"
   },
   {
    "duration": 182,
    "start_time": "2022-06-13T12:29:40.549Z"
   },
   {
    "duration": 353,
    "start_time": "2022-06-13T12:29:40.733Z"
   },
   {
    "duration": 19,
    "start_time": "2022-06-13T12:29:41.088Z"
   },
   {
    "duration": 24,
    "start_time": "2022-06-13T12:29:41.109Z"
   },
   {
    "duration": 209,
    "start_time": "2022-06-13T12:29:41.135Z"
   },
   {
    "duration": 46,
    "start_time": "2022-06-13T12:29:41.346Z"
   },
   {
    "duration": 222,
    "start_time": "2022-06-13T12:29:41.394Z"
   },
   {
    "duration": 184,
    "start_time": "2022-06-13T12:29:41.618Z"
   },
   {
    "duration": 219,
    "start_time": "2022-06-13T12:29:41.805Z"
   },
   {
    "duration": 191,
    "start_time": "2022-06-13T12:41:39.139Z"
   },
   {
    "duration": 175,
    "start_time": "2022-06-13T12:46:36.401Z"
   },
   {
    "duration": 183,
    "start_time": "2022-06-13T12:46:47.154Z"
   },
   {
    "duration": 182,
    "start_time": "2022-06-13T12:54:04.774Z"
   },
   {
    "duration": 172,
    "start_time": "2022-06-13T13:16:08.606Z"
   },
   {
    "duration": 186,
    "start_time": "2022-06-13T13:23:13.155Z"
   },
   {
    "duration": 365,
    "start_time": "2022-06-13T13:41:09.521Z"
   },
   {
    "duration": 192,
    "start_time": "2022-06-13T13:41:21.072Z"
   },
   {
    "duration": 208,
    "start_time": "2022-06-13T13:43:37.413Z"
   },
   {
    "duration": 196,
    "start_time": "2022-06-13T13:43:55.062Z"
   },
   {
    "duration": 46,
    "start_time": "2022-06-13T17:04:44.904Z"
   },
   {
    "duration": 566,
    "start_time": "2022-06-13T17:04:51.405Z"
   },
   {
    "duration": 347,
    "start_time": "2022-06-13T17:04:51.973Z"
   },
   {
    "duration": 51,
    "start_time": "2022-06-13T17:04:52.323Z"
   },
   {
    "duration": 6,
    "start_time": "2022-06-13T17:04:52.376Z"
   },
   {
    "duration": 43,
    "start_time": "2022-06-13T17:04:52.384Z"
   },
   {
    "duration": 293,
    "start_time": "2022-06-13T17:04:52.429Z"
   },
   {
    "duration": 5,
    "start_time": "2022-06-13T17:04:52.724Z"
   },
   {
    "duration": 1001,
    "start_time": "2022-06-13T17:04:52.731Z"
   },
   {
    "duration": 376,
    "start_time": "2022-06-13T17:04:53.734Z"
   },
   {
    "duration": 389,
    "start_time": "2022-06-13T17:04:54.112Z"
   },
   {
    "duration": 150,
    "start_time": "2022-06-13T17:04:54.503Z"
   },
   {
    "duration": 12,
    "start_time": "2022-06-13T17:04:54.655Z"
   },
   {
    "duration": 218,
    "start_time": "2022-06-13T17:04:54.668Z"
   },
   {
    "duration": 300,
    "start_time": "2022-06-13T17:04:54.890Z"
   },
   {
    "duration": 515,
    "start_time": "2022-06-13T17:04:55.191Z"
   },
   {
    "duration": 294,
    "start_time": "2022-06-13T17:04:55.708Z"
   },
   {
    "duration": 302,
    "start_time": "2022-06-13T17:04:56.004Z"
   },
   {
    "duration": 279,
    "start_time": "2022-06-13T17:04:56.307Z"
   },
   {
    "duration": 24,
    "start_time": "2022-06-13T17:04:56.587Z"
   },
   {
    "duration": 162,
    "start_time": "2022-06-13T17:04:56.612Z"
   },
   {
    "duration": 28,
    "start_time": "2022-06-13T17:04:56.775Z"
   },
   {
    "duration": 173,
    "start_time": "2022-06-13T17:04:56.805Z"
   },
   {
    "duration": 150,
    "start_time": "2022-06-13T17:04:56.980Z"
   },
   {
    "duration": 155,
    "start_time": "2022-06-13T17:04:57.131Z"
   },
   {
    "duration": 161,
    "start_time": "2022-06-13T17:04:57.288Z"
   },
   {
    "duration": 164,
    "start_time": "2022-06-13T17:04:57.451Z"
   },
   {
    "duration": 166,
    "start_time": "2022-06-13T17:04:57.617Z"
   },
   {
    "duration": 4,
    "start_time": "2022-06-13T17:05:28.152Z"
   },
   {
    "duration": 596,
    "start_time": "2022-06-13T17:06:45.057Z"
   },
   {
    "duration": 106,
    "start_time": "2022-06-13T17:06:45.655Z"
   },
   {
    "duration": 7,
    "start_time": "2022-06-13T17:06:45.763Z"
   },
   {
    "duration": 59,
    "start_time": "2022-06-13T17:06:45.772Z"
   },
   {
    "duration": 4,
    "start_time": "2022-06-13T17:06:45.833Z"
   },
   {
    "duration": 24,
    "start_time": "2022-06-13T17:06:45.838Z"
   },
   {
    "duration": 54,
    "start_time": "2022-06-13T17:06:45.864Z"
   },
   {
    "duration": 277,
    "start_time": "2022-06-13T17:06:45.920Z"
   },
   {
    "duration": 6,
    "start_time": "2022-06-13T17:06:46.199Z"
   },
   {
    "duration": 968,
    "start_time": "2022-06-13T17:06:46.208Z"
   },
   {
    "duration": 406,
    "start_time": "2022-06-13T17:06:47.178Z"
   },
   {
    "duration": 408,
    "start_time": "2022-06-13T17:06:47.585Z"
   },
   {
    "duration": 146,
    "start_time": "2022-06-13T17:06:47.995Z"
   },
   {
    "duration": 6,
    "start_time": "2022-06-13T17:06:48.142Z"
   },
   {
    "duration": 174,
    "start_time": "2022-06-13T17:06:48.149Z"
   },
   {
    "duration": 184,
    "start_time": "2022-06-13T17:06:48.325Z"
   },
   {
    "duration": 606,
    "start_time": "2022-06-13T17:06:48.564Z"
   },
   {
    "duration": 296,
    "start_time": "2022-06-13T17:06:49.171Z"
   },
   {
    "duration": 306,
    "start_time": "2022-06-13T17:06:49.469Z"
   },
   {
    "duration": 311,
    "start_time": "2022-06-13T17:06:49.777Z"
   },
   {
    "duration": 23,
    "start_time": "2022-06-13T17:06:50.089Z"
   },
   {
    "duration": 189,
    "start_time": "2022-06-13T17:06:50.114Z"
   },
   {
    "duration": 32,
    "start_time": "2022-06-13T17:06:50.304Z"
   },
   {
    "duration": 175,
    "start_time": "2022-06-13T17:06:50.337Z"
   },
   {
    "duration": 154,
    "start_time": "2022-06-13T17:06:50.513Z"
   },
   {
    "duration": 164,
    "start_time": "2022-06-13T17:06:50.668Z"
   },
   {
    "duration": 152,
    "start_time": "2022-06-13T17:06:50.833Z"
   },
   {
    "duration": 164,
    "start_time": "2022-06-13T17:06:50.988Z"
   },
   {
    "duration": 166,
    "start_time": "2022-06-13T17:06:51.154Z"
   },
   {
    "duration": 14,
    "start_time": "2022-06-13T17:07:34.740Z"
   },
   {
    "duration": 618,
    "start_time": "2022-06-13T17:08:14.049Z"
   },
   {
    "duration": 104,
    "start_time": "2022-06-13T17:08:14.669Z"
   },
   {
    "duration": 28,
    "start_time": "2022-06-13T17:08:14.775Z"
   },
   {
    "duration": 42,
    "start_time": "2022-06-13T17:08:14.805Z"
   },
   {
    "duration": 5,
    "start_time": "2022-06-13T17:08:14.865Z"
   },
   {
    "duration": 37,
    "start_time": "2022-06-13T17:08:14.872Z"
   },
   {
    "duration": 285,
    "start_time": "2022-06-13T17:08:14.911Z"
   },
   {
    "duration": 6,
    "start_time": "2022-06-13T17:08:15.198Z"
   },
   {
    "duration": 1033,
    "start_time": "2022-06-13T17:08:15.205Z"
   },
   {
    "duration": 406,
    "start_time": "2022-06-13T17:08:16.241Z"
   },
   {
    "duration": 395,
    "start_time": "2022-06-13T17:08:16.649Z"
   },
   {
    "duration": 154,
    "start_time": "2022-06-13T17:08:17.045Z"
   },
   {
    "duration": 5,
    "start_time": "2022-06-13T17:08:17.201Z"
   },
   {
    "duration": 174,
    "start_time": "2022-06-13T17:08:17.210Z"
   },
   {
    "duration": 153,
    "start_time": "2022-06-13T17:08:17.386Z"
   },
   {
    "duration": 284,
    "start_time": "2022-06-13T17:08:17.541Z"
   },
   {
    "duration": 163,
    "start_time": "2022-06-13T17:08:17.827Z"
   },
   {
    "duration": 166,
    "start_time": "2022-06-13T17:08:17.992Z"
   },
   {
    "duration": 179,
    "start_time": "2022-06-13T17:08:18.159Z"
   },
   {
    "duration": 34,
    "start_time": "2022-06-13T17:08:18.339Z"
   },
   {
    "duration": 171,
    "start_time": "2022-06-13T17:08:18.375Z"
   },
   {
    "duration": 49,
    "start_time": "2022-06-13T17:08:18.548Z"
   },
   {
    "duration": 194,
    "start_time": "2022-06-13T17:08:18.599Z"
   },
   {
    "duration": 182,
    "start_time": "2022-06-13T17:08:18.795Z"
   },
   {
    "duration": 184,
    "start_time": "2022-06-13T17:08:18.981Z"
   },
   {
    "duration": 160,
    "start_time": "2022-06-13T17:08:19.166Z"
   },
   {
    "duration": 164,
    "start_time": "2022-06-13T17:08:19.328Z"
   },
   {
    "duration": 164,
    "start_time": "2022-06-13T17:08:19.494Z"
   },
   {
    "duration": 28,
    "start_time": "2022-06-13T17:08:44.096Z"
   },
   {
    "duration": 51,
    "start_time": "2022-06-13T17:58:50.686Z"
   },
   {
    "duration": 981,
    "start_time": "2022-06-13T18:17:03.033Z"
   },
   {
    "duration": 157,
    "start_time": "2022-06-13T18:17:04.016Z"
   },
   {
    "duration": 89,
    "start_time": "2022-06-13T18:17:04.175Z"
   },
   {
    "duration": 0,
    "start_time": "2022-06-13T18:17:04.266Z"
   },
   {
    "duration": 0,
    "start_time": "2022-06-13T18:17:04.268Z"
   },
   {
    "duration": 0,
    "start_time": "2022-06-13T18:17:04.269Z"
   },
   {
    "duration": 0,
    "start_time": "2022-06-13T18:17:04.270Z"
   },
   {
    "duration": 0,
    "start_time": "2022-06-13T18:17:04.271Z"
   },
   {
    "duration": 0,
    "start_time": "2022-06-13T18:17:04.272Z"
   },
   {
    "duration": 0,
    "start_time": "2022-06-13T18:17:04.277Z"
   },
   {
    "duration": 0,
    "start_time": "2022-06-13T18:17:04.280Z"
   },
   {
    "duration": 0,
    "start_time": "2022-06-13T18:17:04.281Z"
   },
   {
    "duration": 0,
    "start_time": "2022-06-13T18:17:04.281Z"
   },
   {
    "duration": 0,
    "start_time": "2022-06-13T18:17:04.282Z"
   },
   {
    "duration": 0,
    "start_time": "2022-06-13T18:17:04.283Z"
   },
   {
    "duration": 0,
    "start_time": "2022-06-13T18:17:04.283Z"
   },
   {
    "duration": 0,
    "start_time": "2022-06-13T18:17:04.285Z"
   },
   {
    "duration": 0,
    "start_time": "2022-06-13T18:17:04.285Z"
   },
   {
    "duration": 0,
    "start_time": "2022-06-13T18:17:04.286Z"
   },
   {
    "duration": 0,
    "start_time": "2022-06-13T18:17:04.288Z"
   },
   {
    "duration": 0,
    "start_time": "2022-06-13T18:17:04.288Z"
   },
   {
    "duration": 0,
    "start_time": "2022-06-13T18:17:04.289Z"
   },
   {
    "duration": 0,
    "start_time": "2022-06-13T18:17:04.289Z"
   },
   {
    "duration": 0,
    "start_time": "2022-06-13T18:17:04.290Z"
   },
   {
    "duration": 0,
    "start_time": "2022-06-13T18:17:04.290Z"
   },
   {
    "duration": 0,
    "start_time": "2022-06-13T18:17:04.291Z"
   },
   {
    "duration": 0,
    "start_time": "2022-06-13T18:17:04.294Z"
   },
   {
    "duration": 67,
    "start_time": "2022-06-13T18:18:07.594Z"
   },
   {
    "duration": 404,
    "start_time": "2022-06-13T18:22:42.470Z"
   },
   {
    "duration": 425,
    "start_time": "2022-06-13T18:23:52.700Z"
   },
   {
    "duration": 373,
    "start_time": "2022-06-13T18:24:37.194Z"
   },
   {
    "duration": 354,
    "start_time": "2022-06-13T18:25:12.965Z"
   },
   {
    "duration": 379,
    "start_time": "2022-06-13T18:26:00.492Z"
   },
   {
    "duration": 329,
    "start_time": "2022-06-13T18:27:11.381Z"
   },
   {
    "duration": 491,
    "start_time": "2022-06-13T18:27:34.230Z"
   },
   {
    "duration": 97,
    "start_time": "2022-06-13T18:27:34.723Z"
   },
   {
    "duration": 55,
    "start_time": "2022-06-13T18:27:34.822Z"
   },
   {
    "duration": 6,
    "start_time": "2022-06-13T18:27:34.879Z"
   },
   {
    "duration": 44,
    "start_time": "2022-06-13T18:27:34.886Z"
   },
   {
    "duration": 276,
    "start_time": "2022-06-13T18:27:34.932Z"
   },
   {
    "duration": 4,
    "start_time": "2022-06-13T18:27:35.209Z"
   },
   {
    "duration": 887,
    "start_time": "2022-06-13T18:27:35.214Z"
   },
   {
    "duration": 361,
    "start_time": "2022-06-13T18:27:36.102Z"
   },
   {
    "duration": 348,
    "start_time": "2022-06-13T18:27:36.467Z"
   },
   {
    "duration": 147,
    "start_time": "2022-06-13T18:27:36.816Z"
   },
   {
    "duration": 13,
    "start_time": "2022-06-13T18:27:36.965Z"
   },
   {
    "duration": 147,
    "start_time": "2022-06-13T18:27:36.980Z"
   },
   {
    "duration": 211,
    "start_time": "2022-06-13T18:27:37.129Z"
   },
   {
    "duration": 175,
    "start_time": "2022-06-13T18:27:37.341Z"
   },
   {
    "duration": 134,
    "start_time": "2022-06-13T18:27:37.518Z"
   },
   {
    "duration": 151,
    "start_time": "2022-06-13T18:27:37.654Z"
   },
   {
    "duration": 181,
    "start_time": "2022-06-13T18:27:37.807Z"
   },
   {
    "duration": 29,
    "start_time": "2022-06-13T18:27:37.990Z"
   },
   {
    "duration": 107,
    "start_time": "2022-06-13T18:27:38.021Z"
   },
   {
    "duration": 0,
    "start_time": "2022-06-13T18:27:38.130Z"
   },
   {
    "duration": 0,
    "start_time": "2022-06-13T18:27:38.131Z"
   },
   {
    "duration": 0,
    "start_time": "2022-06-13T18:27:38.132Z"
   },
   {
    "duration": 0,
    "start_time": "2022-06-13T18:27:38.133Z"
   },
   {
    "duration": 0,
    "start_time": "2022-06-13T18:27:38.134Z"
   },
   {
    "duration": 0,
    "start_time": "2022-06-13T18:27:38.135Z"
   },
   {
    "duration": 0,
    "start_time": "2022-06-13T18:27:38.136Z"
   },
   {
    "duration": 31,
    "start_time": "2022-06-13T18:27:46.937Z"
   },
   {
    "duration": 146,
    "start_time": "2022-06-13T18:27:50.059Z"
   },
   {
    "duration": 133,
    "start_time": "2022-06-13T18:27:51.586Z"
   },
   {
    "duration": 144,
    "start_time": "2022-06-13T18:27:52.234Z"
   },
   {
    "duration": 189,
    "start_time": "2022-06-13T18:27:52.602Z"
   },
   {
    "duration": 144,
    "start_time": "2022-06-13T18:27:53.225Z"
   },
   {
    "duration": 126,
    "start_time": "2022-06-13T18:28:04.920Z"
   },
   {
    "duration": 225,
    "start_time": "2022-06-13T18:30:22.565Z"
   },
   {
    "duration": 133,
    "start_time": "2022-06-13T18:31:14.660Z"
   },
   {
    "duration": 329,
    "start_time": "2022-06-13T18:32:55.381Z"
   },
   {
    "duration": 364,
    "start_time": "2022-06-13T18:33:28.375Z"
   },
   {
    "duration": 350,
    "start_time": "2022-06-13T18:34:05.206Z"
   },
   {
    "duration": 145,
    "start_time": "2022-06-13T18:35:08.461Z"
   },
   {
    "duration": 389,
    "start_time": "2022-06-13T18:35:41.860Z"
   },
   {
    "duration": 415,
    "start_time": "2022-06-13T18:36:08.553Z"
   },
   {
    "duration": 381,
    "start_time": "2022-06-13T18:36:34.770Z"
   },
   {
    "duration": 330,
    "start_time": "2022-06-13T18:36:51.321Z"
   },
   {
    "duration": 366,
    "start_time": "2022-06-13T18:37:32.271Z"
   },
   {
    "duration": 366,
    "start_time": "2022-06-13T18:37:45.333Z"
   },
   {
    "duration": 428,
    "start_time": "2022-06-13T18:40:13.070Z"
   },
   {
    "duration": 347,
    "start_time": "2022-06-13T18:40:45.507Z"
   },
   {
    "duration": 360,
    "start_time": "2022-06-13T18:41:01.436Z"
   },
   {
    "duration": 394,
    "start_time": "2022-06-13T18:41:23.510Z"
   },
   {
    "duration": 7,
    "start_time": "2022-06-13T18:45:43.408Z"
   },
   {
    "duration": 420,
    "start_time": "2022-06-13T18:46:13.002Z"
   },
   {
    "duration": 234,
    "start_time": "2022-06-13T18:46:33.496Z"
   },
   {
    "duration": 284,
    "start_time": "2022-06-13T18:48:22.674Z"
   },
   {
    "duration": 391,
    "start_time": "2022-06-13T18:48:39.747Z"
   },
   {
    "duration": 284,
    "start_time": "2022-06-13T18:49:10.609Z"
   },
   {
    "duration": 257,
    "start_time": "2022-06-13T18:49:49.779Z"
   },
   {
    "duration": 313,
    "start_time": "2022-06-13T18:52:58.484Z"
   },
   {
    "duration": 323,
    "start_time": "2022-06-13T18:53:08.545Z"
   },
   {
    "duration": 484,
    "start_time": "2022-06-13T18:53:17.318Z"
   },
   {
    "duration": 251,
    "start_time": "2022-06-13T18:55:45.071Z"
   },
   {
    "duration": 248,
    "start_time": "2022-06-13T18:56:15.725Z"
   },
   {
    "duration": 282,
    "start_time": "2022-06-13T18:56:41.215Z"
   },
   {
    "duration": 263,
    "start_time": "2022-06-13T18:56:49.022Z"
   },
   {
    "duration": 301,
    "start_time": "2022-06-13T19:00:56.574Z"
   },
   {
    "duration": 157,
    "start_time": "2022-06-13T19:01:12.201Z"
   },
   {
    "duration": 177,
    "start_time": "2022-06-13T19:01:24.974Z"
   },
   {
    "duration": 252,
    "start_time": "2022-06-13T19:02:19.658Z"
   },
   {
    "duration": 152,
    "start_time": "2022-06-13T19:02:38.773Z"
   },
   {
    "duration": 511,
    "start_time": "2022-06-13T19:09:12.339Z"
   },
   {
    "duration": 95,
    "start_time": "2022-06-13T19:09:12.851Z"
   },
   {
    "duration": 51,
    "start_time": "2022-06-13T19:09:12.947Z"
   },
   {
    "duration": 4,
    "start_time": "2022-06-13T19:09:13.000Z"
   },
   {
    "duration": 37,
    "start_time": "2022-06-13T19:09:13.006Z"
   },
   {
    "duration": 260,
    "start_time": "2022-06-13T19:09:13.044Z"
   },
   {
    "duration": 5,
    "start_time": "2022-06-13T19:09:13.305Z"
   },
   {
    "duration": 889,
    "start_time": "2022-06-13T19:09:13.311Z"
   },
   {
    "duration": 336,
    "start_time": "2022-06-13T19:09:14.202Z"
   },
   {
    "duration": 332,
    "start_time": "2022-06-13T19:09:14.541Z"
   },
   {
    "duration": 249,
    "start_time": "2022-06-13T19:09:14.878Z"
   },
   {
    "duration": 325,
    "start_time": "2022-06-13T19:09:15.128Z"
   },
   {
    "duration": 161,
    "start_time": "2022-06-13T19:09:15.455Z"
   },
   {
    "duration": 166,
    "start_time": "2022-06-13T19:09:15.617Z"
   },
   {
    "duration": 137,
    "start_time": "2022-06-13T19:09:15.785Z"
   },
   {
    "duration": 6,
    "start_time": "2022-06-13T19:09:15.923Z"
   },
   {
    "duration": 155,
    "start_time": "2022-06-13T19:09:15.931Z"
   },
   {
    "duration": 139,
    "start_time": "2022-06-13T19:09:16.088Z"
   },
   {
    "duration": 172,
    "start_time": "2022-06-13T19:09:16.229Z"
   },
   {
    "duration": 134,
    "start_time": "2022-06-13T19:09:16.403Z"
   },
   {
    "duration": 147,
    "start_time": "2022-06-13T19:09:16.540Z"
   },
   {
    "duration": 146,
    "start_time": "2022-06-13T19:09:16.688Z"
   },
   {
    "duration": 21,
    "start_time": "2022-06-13T19:09:16.835Z"
   },
   {
    "duration": 225,
    "start_time": "2022-06-13T19:09:16.857Z"
   },
   {
    "duration": 26,
    "start_time": "2022-06-13T19:09:17.083Z"
   },
   {
    "duration": 154,
    "start_time": "2022-06-13T19:09:17.111Z"
   },
   {
    "duration": 150,
    "start_time": "2022-06-13T19:09:17.267Z"
   },
   {
    "duration": 142,
    "start_time": "2022-06-13T19:09:17.420Z"
   },
   {
    "duration": 179,
    "start_time": "2022-06-13T19:09:17.564Z"
   },
   {
    "duration": 170,
    "start_time": "2022-06-13T19:09:17.745Z"
   },
   {
    "duration": 140,
    "start_time": "2022-06-13T19:09:17.917Z"
   },
   {
    "duration": 47,
    "start_time": "2022-06-13T19:33:38.407Z"
   },
   {
    "duration": 93,
    "start_time": "2022-06-13T19:39:07.841Z"
   },
   {
    "duration": 30,
    "start_time": "2022-06-13T19:39:23.262Z"
   },
   {
    "duration": 613,
    "start_time": "2022-06-13T19:40:15.067Z"
   },
   {
    "duration": 109,
    "start_time": "2022-06-13T19:40:15.682Z"
   },
   {
    "duration": 99,
    "start_time": "2022-06-13T19:40:15.793Z"
   },
   {
    "duration": 0,
    "start_time": "2022-06-13T19:40:15.894Z"
   },
   {
    "duration": 0,
    "start_time": "2022-06-13T19:40:15.895Z"
   },
   {
    "duration": 0,
    "start_time": "2022-06-13T19:40:15.896Z"
   },
   {
    "duration": 0,
    "start_time": "2022-06-13T19:40:15.897Z"
   },
   {
    "duration": 0,
    "start_time": "2022-06-13T19:40:15.899Z"
   },
   {
    "duration": 0,
    "start_time": "2022-06-13T19:40:15.899Z"
   },
   {
    "duration": 0,
    "start_time": "2022-06-13T19:40:15.900Z"
   },
   {
    "duration": 0,
    "start_time": "2022-06-13T19:40:15.901Z"
   },
   {
    "duration": 0,
    "start_time": "2022-06-13T19:40:15.902Z"
   },
   {
    "duration": 0,
    "start_time": "2022-06-13T19:40:15.903Z"
   },
   {
    "duration": 0,
    "start_time": "2022-06-13T19:40:15.904Z"
   },
   {
    "duration": 0,
    "start_time": "2022-06-13T19:40:15.905Z"
   },
   {
    "duration": 0,
    "start_time": "2022-06-13T19:40:15.906Z"
   },
   {
    "duration": 0,
    "start_time": "2022-06-13T19:40:15.907Z"
   },
   {
    "duration": 0,
    "start_time": "2022-06-13T19:40:15.908Z"
   },
   {
    "duration": 0,
    "start_time": "2022-06-13T19:40:15.909Z"
   },
   {
    "duration": 0,
    "start_time": "2022-06-13T19:40:15.910Z"
   },
   {
    "duration": 0,
    "start_time": "2022-06-13T19:40:15.911Z"
   },
   {
    "duration": 0,
    "start_time": "2022-06-13T19:40:15.912Z"
   },
   {
    "duration": 0,
    "start_time": "2022-06-13T19:40:15.913Z"
   },
   {
    "duration": 0,
    "start_time": "2022-06-13T19:40:15.914Z"
   },
   {
    "duration": 0,
    "start_time": "2022-06-13T19:40:15.915Z"
   },
   {
    "duration": 0,
    "start_time": "2022-06-13T19:40:15.916Z"
   },
   {
    "duration": 0,
    "start_time": "2022-06-13T19:40:15.917Z"
   },
   {
    "duration": 0,
    "start_time": "2022-06-13T19:40:15.918Z"
   },
   {
    "duration": 0,
    "start_time": "2022-06-13T19:40:15.919Z"
   },
   {
    "duration": 0,
    "start_time": "2022-06-13T19:40:15.920Z"
   },
   {
    "duration": 0,
    "start_time": "2022-06-13T19:40:15.921Z"
   },
   {
    "duration": 25,
    "start_time": "2022-06-13T19:40:49.211Z"
   },
   {
    "duration": 35,
    "start_time": "2022-06-13T19:41:14.910Z"
   },
   {
    "duration": 49,
    "start_time": "2022-06-13T19:41:26.104Z"
   },
   {
    "duration": 23,
    "start_time": "2022-06-13T19:42:21.135Z"
   },
   {
    "duration": 84,
    "start_time": "2022-06-13T19:42:41.117Z"
   },
   {
    "duration": 35,
    "start_time": "2022-06-13T19:45:08.762Z"
   },
   {
    "duration": 528,
    "start_time": "2022-06-13T19:46:06.228Z"
   },
   {
    "duration": 103,
    "start_time": "2022-06-13T19:46:06.758Z"
   },
   {
    "duration": 89,
    "start_time": "2022-06-13T19:46:06.863Z"
   },
   {
    "duration": 0,
    "start_time": "2022-06-13T19:46:06.955Z"
   },
   {
    "duration": 0,
    "start_time": "2022-06-13T19:46:06.956Z"
   },
   {
    "duration": 0,
    "start_time": "2022-06-13T19:46:06.957Z"
   },
   {
    "duration": 0,
    "start_time": "2022-06-13T19:46:06.958Z"
   },
   {
    "duration": 0,
    "start_time": "2022-06-13T19:46:06.958Z"
   },
   {
    "duration": 0,
    "start_time": "2022-06-13T19:46:06.959Z"
   },
   {
    "duration": 0,
    "start_time": "2022-06-13T19:46:06.960Z"
   },
   {
    "duration": 0,
    "start_time": "2022-06-13T19:46:06.961Z"
   },
   {
    "duration": 0,
    "start_time": "2022-06-13T19:46:06.962Z"
   },
   {
    "duration": 0,
    "start_time": "2022-06-13T19:46:06.963Z"
   },
   {
    "duration": 0,
    "start_time": "2022-06-13T19:46:06.988Z"
   },
   {
    "duration": 0,
    "start_time": "2022-06-13T19:46:06.989Z"
   },
   {
    "duration": 0,
    "start_time": "2022-06-13T19:46:06.989Z"
   },
   {
    "duration": 0,
    "start_time": "2022-06-13T19:46:06.990Z"
   },
   {
    "duration": 0,
    "start_time": "2022-06-13T19:46:06.991Z"
   },
   {
    "duration": 0,
    "start_time": "2022-06-13T19:46:06.992Z"
   },
   {
    "duration": 0,
    "start_time": "2022-06-13T19:46:06.993Z"
   },
   {
    "duration": 0,
    "start_time": "2022-06-13T19:46:06.994Z"
   },
   {
    "duration": 0,
    "start_time": "2022-06-13T19:46:06.995Z"
   },
   {
    "duration": 0,
    "start_time": "2022-06-13T19:46:06.996Z"
   },
   {
    "duration": 0,
    "start_time": "2022-06-13T19:46:06.997Z"
   },
   {
    "duration": 0,
    "start_time": "2022-06-13T19:46:06.998Z"
   },
   {
    "duration": 0,
    "start_time": "2022-06-13T19:46:06.999Z"
   },
   {
    "duration": 0,
    "start_time": "2022-06-13T19:46:07.000Z"
   },
   {
    "duration": 0,
    "start_time": "2022-06-13T19:46:07.001Z"
   },
   {
    "duration": 0,
    "start_time": "2022-06-13T19:46:07.002Z"
   },
   {
    "duration": 0,
    "start_time": "2022-06-13T19:46:07.003Z"
   },
   {
    "duration": 0,
    "start_time": "2022-06-13T19:46:07.004Z"
   },
   {
    "duration": 58,
    "start_time": "2022-06-13T19:48:30.034Z"
   },
   {
    "duration": 55,
    "start_time": "2022-06-13T19:49:48.094Z"
   },
   {
    "duration": 47,
    "start_time": "2022-06-13T19:50:09.015Z"
   },
   {
    "duration": 575,
    "start_time": "2022-06-13T19:53:15.031Z"
   },
   {
    "duration": 104,
    "start_time": "2022-06-13T19:53:15.610Z"
   },
   {
    "duration": 78,
    "start_time": "2022-06-13T19:53:15.716Z"
   },
   {
    "duration": 4,
    "start_time": "2022-06-13T19:53:15.796Z"
   },
   {
    "duration": 40,
    "start_time": "2022-06-13T19:53:15.802Z"
   },
   {
    "duration": 287,
    "start_time": "2022-06-13T19:53:15.844Z"
   },
   {
    "duration": 5,
    "start_time": "2022-06-13T19:53:16.133Z"
   },
   {
    "duration": 917,
    "start_time": "2022-06-13T19:53:16.139Z"
   },
   {
    "duration": 360,
    "start_time": "2022-06-13T19:53:17.057Z"
   },
   {
    "duration": 408,
    "start_time": "2022-06-13T19:53:17.420Z"
   },
   {
    "duration": 358,
    "start_time": "2022-06-13T19:53:17.831Z"
   },
   {
    "duration": 419,
    "start_time": "2022-06-13T19:53:18.190Z"
   },
   {
    "duration": 185,
    "start_time": "2022-06-13T19:53:18.610Z"
   },
   {
    "duration": 180,
    "start_time": "2022-06-13T19:53:18.797Z"
   },
   {
    "duration": 136,
    "start_time": "2022-06-13T19:53:18.988Z"
   },
   {
    "duration": 5,
    "start_time": "2022-06-13T19:53:19.126Z"
   },
   {
    "duration": 165,
    "start_time": "2022-06-13T19:53:19.133Z"
   },
   {
    "duration": 157,
    "start_time": "2022-06-13T19:53:19.299Z"
   },
   {
    "duration": 183,
    "start_time": "2022-06-13T19:53:19.457Z"
   },
   {
    "duration": 151,
    "start_time": "2022-06-13T19:53:19.642Z"
   },
   {
    "duration": 154,
    "start_time": "2022-06-13T19:53:19.795Z"
   },
   {
    "duration": 147,
    "start_time": "2022-06-13T19:53:19.951Z"
   },
   {
    "duration": 24,
    "start_time": "2022-06-13T19:53:20.099Z"
   },
   {
    "duration": 245,
    "start_time": "2022-06-13T19:53:20.124Z"
   },
   {
    "duration": 34,
    "start_time": "2022-06-13T19:53:20.371Z"
   },
   {
    "duration": 188,
    "start_time": "2022-06-13T19:53:20.407Z"
   },
   {
    "duration": 152,
    "start_time": "2022-06-13T19:53:20.596Z"
   },
   {
    "duration": 189,
    "start_time": "2022-06-13T19:53:20.751Z"
   },
   {
    "duration": 159,
    "start_time": "2022-06-13T19:53:20.942Z"
   },
   {
    "duration": 153,
    "start_time": "2022-06-13T19:53:21.102Z"
   },
   {
    "duration": 148,
    "start_time": "2022-06-13T19:53:21.256Z"
   },
   {
    "duration": 640,
    "start_time": "2022-06-13T20:20:23.659Z"
   },
   {
    "duration": 103,
    "start_time": "2022-06-13T20:20:24.301Z"
   },
   {
    "duration": 63,
    "start_time": "2022-06-13T20:20:24.406Z"
   },
   {
    "duration": 10,
    "start_time": "2022-06-13T20:20:24.471Z"
   },
   {
    "duration": 51,
    "start_time": "2022-06-13T20:20:24.482Z"
   },
   {
    "duration": 293,
    "start_time": "2022-06-13T20:20:24.534Z"
   },
   {
    "duration": 5,
    "start_time": "2022-06-13T20:20:24.828Z"
   },
   {
    "duration": 1005,
    "start_time": "2022-06-13T20:20:24.835Z"
   },
   {
    "duration": 380,
    "start_time": "2022-06-13T20:20:25.841Z"
   },
   {
    "duration": 453,
    "start_time": "2022-06-13T20:20:26.223Z"
   },
   {
    "duration": 321,
    "start_time": "2022-06-13T20:20:26.678Z"
   },
   {
    "duration": 394,
    "start_time": "2022-06-13T20:20:27.001Z"
   },
   {
    "duration": 201,
    "start_time": "2022-06-13T20:20:27.397Z"
   },
   {
    "duration": 241,
    "start_time": "2022-06-13T20:20:27.600Z"
   },
   {
    "duration": 208,
    "start_time": "2022-06-13T20:20:27.843Z"
   },
   {
    "duration": 6,
    "start_time": "2022-06-13T20:20:28.053Z"
   },
   {
    "duration": 188,
    "start_time": "2022-06-13T20:20:28.061Z"
   },
   {
    "duration": 156,
    "start_time": "2022-06-13T20:20:28.251Z"
   },
   {
    "duration": 187,
    "start_time": "2022-06-13T20:20:28.409Z"
   },
   {
    "duration": 156,
    "start_time": "2022-06-13T20:20:28.598Z"
   },
   {
    "duration": 195,
    "start_time": "2022-06-13T20:20:28.756Z"
   },
   {
    "duration": 161,
    "start_time": "2022-06-13T20:20:28.952Z"
   },
   {
    "duration": 24,
    "start_time": "2022-06-13T20:20:29.115Z"
   },
   {
    "duration": 258,
    "start_time": "2022-06-13T20:20:29.140Z"
   },
   {
    "duration": 28,
    "start_time": "2022-06-13T20:20:29.400Z"
   },
   {
    "duration": 181,
    "start_time": "2022-06-13T20:20:29.429Z"
   },
   {
    "duration": 144,
    "start_time": "2022-06-13T20:20:29.612Z"
   },
   {
    "duration": 154,
    "start_time": "2022-06-13T20:20:29.758Z"
   },
   {
    "duration": 152,
    "start_time": "2022-06-13T20:20:29.914Z"
   },
   {
    "duration": 152,
    "start_time": "2022-06-13T20:20:30.078Z"
   },
   {
    "duration": 159,
    "start_time": "2022-06-13T20:20:30.232Z"
   },
   {
    "duration": 573,
    "start_time": "2022-06-13T20:22:37.509Z"
   },
   {
    "duration": 104,
    "start_time": "2022-06-13T20:22:38.085Z"
   },
   {
    "duration": 96,
    "start_time": "2022-06-13T20:22:38.190Z"
   },
   {
    "duration": 4,
    "start_time": "2022-06-13T20:22:38.289Z"
   },
   {
    "duration": 39,
    "start_time": "2022-06-13T20:22:38.295Z"
   },
   {
    "duration": 291,
    "start_time": "2022-06-13T20:22:38.336Z"
   },
   {
    "duration": 6,
    "start_time": "2022-06-13T20:22:38.629Z"
   },
   {
    "duration": 941,
    "start_time": "2022-06-13T20:22:38.637Z"
   },
   {
    "duration": 169,
    "start_time": "2022-06-13T20:22:39.579Z"
   },
   {
    "duration": 186,
    "start_time": "2022-06-13T20:22:39.750Z"
   },
   {
    "duration": 299,
    "start_time": "2022-06-13T20:22:39.937Z"
   },
   {
    "duration": 274,
    "start_time": "2022-06-13T20:22:40.237Z"
   },
   {
    "duration": 274,
    "start_time": "2022-06-13T20:22:40.513Z"
   },
   {
    "duration": 179,
    "start_time": "2022-06-13T20:22:40.789Z"
   },
   {
    "duration": 156,
    "start_time": "2022-06-13T20:22:40.970Z"
   },
   {
    "duration": 6,
    "start_time": "2022-06-13T20:22:41.128Z"
   },
   {
    "duration": 175,
    "start_time": "2022-06-13T20:22:41.136Z"
   },
   {
    "duration": 153,
    "start_time": "2022-06-13T20:22:41.313Z"
   },
   {
    "duration": 177,
    "start_time": "2022-06-13T20:22:41.467Z"
   },
   {
    "duration": 143,
    "start_time": "2022-06-13T20:22:41.646Z"
   },
   {
    "duration": 149,
    "start_time": "2022-06-13T20:22:41.791Z"
   },
   {
    "duration": 147,
    "start_time": "2022-06-13T20:22:41.941Z"
   },
   {
    "duration": 24,
    "start_time": "2022-06-13T20:22:42.090Z"
   },
   {
    "duration": 164,
    "start_time": "2022-06-13T20:22:42.115Z"
   },
   {
    "duration": 29,
    "start_time": "2022-06-13T20:22:42.281Z"
   },
   {
    "duration": 178,
    "start_time": "2022-06-13T20:22:42.312Z"
   },
   {
    "duration": 220,
    "start_time": "2022-06-13T20:22:42.491Z"
   },
   {
    "duration": 148,
    "start_time": "2022-06-13T20:22:42.713Z"
   },
   {
    "duration": 151,
    "start_time": "2022-06-13T20:22:42.863Z"
   },
   {
    "duration": 164,
    "start_time": "2022-06-13T20:22:43.016Z"
   },
   {
    "duration": 148,
    "start_time": "2022-06-13T20:22:43.181Z"
   }
  ],
  "kernelspec": {
   "display_name": "Python 3 (ipykernel)",
   "language": "python",
   "name": "python3"
  },
  "language_info": {
   "codemirror_mode": {
    "name": "ipython",
    "version": 3
   },
   "file_extension": ".py",
   "mimetype": "text/x-python",
   "name": "python",
   "nbconvert_exporter": "python",
   "pygments_lexer": "ipython3",
   "version": "3.9.5"
  },
  "toc": {
   "base_numbering": 1,
   "nav_menu": {},
   "number_sections": true,
   "sideBar": true,
   "skip_h1_title": true,
   "title_cell": "Содержание",
   "title_sidebar": "Contents",
   "toc_cell": true,
   "toc_position": {
    "height": "calc(100% - 180px)",
    "left": "10px",
    "top": "150px",
    "width": "165px"
   },
   "toc_section_display": true,
   "toc_window_display": true
  }
 },
 "nbformat": 4,
 "nbformat_minor": 4
}
