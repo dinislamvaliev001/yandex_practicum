{
 "cells": [
  {
   "cell_type": "markdown",
   "metadata": {
    "toc": true
   },
   "source": [
    "<h1>Содержание<span class=\"tocSkip\"></span></h1>\n",
    "<div class=\"toc\"><ul class=\"toc-item\"><li><span><a href=\"#Подготовка-данных\" data-toc-modified-id=\"Подготовка-данных-1\"><span class=\"toc-item-num\">1&nbsp;&nbsp;</span>Подготовка данных</a></span><ul class=\"toc-item\"><li><span><a href=\"#Коментарий-студента:-исправил.\" data-toc-modified-id=\"Коментарий-студента:-исправил.-1.1\"><span class=\"toc-item-num\">1.1&nbsp;&nbsp;</span>Коментарий студента: исправил.</a></span></li></ul></li><li><span><a href=\"#Исследование-задачи\" data-toc-modified-id=\"Исследование-задачи-2\"><span class=\"toc-item-num\">2&nbsp;&nbsp;</span>Исследование задачи</a></span><ul class=\"toc-item\"><li><span><a href=\"#Проверка-адекватности-модели\" data-toc-modified-id=\"Проверка-адекватности-модели-2.1\"><span class=\"toc-item-num\">2.1&nbsp;&nbsp;</span>Проверка адекватности модели</a></span></li><li><span><a href=\"#Проверка-DecisionTreeClassifier\" data-toc-modified-id=\"Проверка-DecisionTreeClassifier-2.2\"><span class=\"toc-item-num\">2.2&nbsp;&nbsp;</span>Проверка DecisionTreeClassifier</a></span></li><li><span><a href=\"#Проверка-RandomForestClassifier\" data-toc-modified-id=\"Проверка-RandomForestClassifier-2.3\"><span class=\"toc-item-num\">2.3&nbsp;&nbsp;</span>Проверка RandomForestClassifier</a></span></li><li><span><a href=\"#Проверка-LogisticRegression\" data-toc-modified-id=\"Проверка-LogisticRegression-2.4\"><span class=\"toc-item-num\">2.4&nbsp;&nbsp;</span>Проверка LogisticRegression</a></span></li><li><span><a href=\"#Коментарий-студента:-исправил.\" data-toc-modified-id=\"Коментарий-студента:-исправил.-2.5\"><span class=\"toc-item-num\">2.5&nbsp;&nbsp;</span>Коментарий студента: исправил.</a></span></li></ul></li><li><span><a href=\"#Борьба-с-дисбалансом\" data-toc-modified-id=\"Борьба-с-дисбалансом-3\"><span class=\"toc-item-num\">3&nbsp;&nbsp;</span>Борьба с дисбалансом</a></span><ul class=\"toc-item\"><li><span><a href=\"#Коментарий-студента:-Сколько-не-изучал-вопрос,-не-понял-что-надо-сделать-чтобы-посчитать-разницу.\" data-toc-modified-id=\"Коментарий-студента:-Сколько-не-изучал-вопрос,-не-понял-что-надо-сделать-чтобы-посчитать-разницу.-3.1\"><span class=\"toc-item-num\">3.1&nbsp;&nbsp;</span>Коментарий студента: Сколько не изучал вопрос, не понял что надо сделать чтобы посчитать разницу.</a></span></li><li><span><a href=\"#Коментарий-студента:-исправил.\" data-toc-modified-id=\"Коментарий-студента:-исправил.-3.2\"><span class=\"toc-item-num\">3.2&nbsp;&nbsp;</span>Коментарий студента: исправил.</a></span></li><li><span><a href=\"#Коментарий-студента:-исправил.\" data-toc-modified-id=\"Коментарий-студента:-исправил.-3.3\"><span class=\"toc-item-num\">3.3&nbsp;&nbsp;</span>Коментарий студента: исправил.</a></span></li><li><span><a href=\"#Коментарий-студента:-исправил.\" data-toc-modified-id=\"Коментарий-студента:-исправил.-3.4\"><span class=\"toc-item-num\">3.4&nbsp;&nbsp;</span>Коментарий студента: исправил.</a></span></li></ul></li><li><span><a href=\"#Тестирование-модели\" data-toc-modified-id=\"Тестирование-модели-4\"><span class=\"toc-item-num\">4&nbsp;&nbsp;</span>Тестирование модели</a></span></li><li><span><a href=\"#Вывод:-Благодаря-многочисленным-проверкам-модели,-мы-нашли-нужную-с-F1-мерой-больше-0,59.-Мы-увидели-что-не-все-модели-и-не-все-приемы-балансировки-классов-дают-хороший-показатель-F1-меры.\" data-toc-modified-id=\"Вывод:-Благодаря-многочисленным-проверкам-модели,-мы-нашли-нужную-с-F1-мерой-больше-0,59.-Мы-увидели-что-не-все-модели-и-не-все-приемы-балансировки-классов-дают-хороший-показатель-F1-меры.-5\"><span class=\"toc-item-num\">5&nbsp;&nbsp;</span>Вывод: Благодаря многочисленным проверкам модели, мы нашли нужную с F1 мерой больше 0,59. Мы увидели что не все модели и не все приемы балансировки классов дают хороший показатель F1 меры.</a></span></li></ul></div>"
   ]
  },
  {
   "cell_type": "markdown",
   "metadata": {},
   "source": [
    "# Отток клиентов"
   ]
  },
  {
   "cell_type": "markdown",
   "metadata": {},
   "source": [
    "Из «Бета-Банка» стали уходить клиенты. Каждый месяц. Немного, но заметно. Банковские маркетологи посчитали: сохранять текущих клиентов дешевле, чем привлекать новых.\n",
    "\n",
    "Нужно спрогнозировать, уйдёт клиент из банка в ближайшее время или нет. Вам предоставлены исторические данные о поведении клиентов и расторжении договоров с банком. \n",
    "\n",
    "Постройте модель с предельно большим значением *F1*-меры. Чтобы сдать проект успешно, нужно довести метрику до 0.59. Проверьте *F1*-меру на тестовой выборке самостоятельно.\n",
    "\n",
    "Дополнительно измеряйте *AUC-ROC*, сравнивайте её значение с *F1*-мерой.\n",
    "\n",
    "Источник данных: [https://www.kaggle.com/barelydedicated/bank-customer-churn-modeling](https://www.kaggle.com/barelydedicated/bank-customer-churn-modeling)"
   ]
  },
  {
   "cell_type": "markdown",
   "metadata": {},
   "source": [
    "# Инструкция по выполнению проекта\n",
    "\n",
    "Загрузил и подготовил данные, Пояснил порядок действий.\n",
    "\n",
    "Исследовал баланс классов, обучил модель без учёта дисбаланса. Кратко написал выводы.\n",
    "\n",
    "Улучшил качество модели, учитывая дисбаланс классов. Обучил разные модели и нашел лучшую. Кратко написал выводы.\n",
    "\n",
    "Провел финальное тестирование."
   ]
  },
  {
   "cell_type": "markdown",
   "metadata": {},
   "source": [
    "## Подготовка данных"
   ]
  },
  {
   "cell_type": "code",
   "execution_count": 1,
   "metadata": {},
   "outputs": [
    {
     "name": "stdout",
     "output_type": "stream",
     "text": [
      "Requirement already satisfied: fast_ml in /opt/conda/lib/python3.9/site-packages (3.68)\r\n"
     ]
    }
   ],
   "source": [
    "import pandas as pd\n",
    "import numpy as np\n",
    "import matplotlib.pyplot as plt\n",
    "from sklearn.tree import DecisionTreeClassifier\n",
    "from sklearn.ensemble import RandomForestClassifier\n",
    "from sklearn.linear_model import LogisticRegression\n",
    "!pip install fast_ml\n",
    "from fast_ml.model_development import train_valid_test_split\n",
    "from sklearn.preprocessing import OrdinalEncoder\n",
    "from sklearn.preprocessing import StandardScaler\n",
    "from sklearn.metrics import accuracy_score\n",
    "from sklearn.metrics import confusion_matrix\n",
    "from sklearn.metrics import recall_score\n",
    "from sklearn.metrics import precision_score\n",
    "from sklearn.metrics import f1_score\n",
    "from sklearn.utils import shuffle\n",
    "from sklearn.metrics import roc_curve\n",
    "from sklearn.metrics import roc_auc_score"
   ]
  },
  {
   "cell_type": "code",
   "execution_count": 2,
   "metadata": {},
   "outputs": [],
   "source": [
    "data = pd.read_csv('/datasets/Churn.csv')"
   ]
  },
  {
   "cell_type": "code",
   "execution_count": 3,
   "metadata": {},
   "outputs": [
    {
     "data": {
      "text/html": [
       "<div>\n",
       "<style scoped>\n",
       "    .dataframe tbody tr th:only-of-type {\n",
       "        vertical-align: middle;\n",
       "    }\n",
       "\n",
       "    .dataframe tbody tr th {\n",
       "        vertical-align: top;\n",
       "    }\n",
       "\n",
       "    .dataframe thead th {\n",
       "        text-align: right;\n",
       "    }\n",
       "</style>\n",
       "<table border=\"1\" class=\"dataframe\">\n",
       "  <thead>\n",
       "    <tr style=\"text-align: right;\">\n",
       "      <th></th>\n",
       "      <th>RowNumber</th>\n",
       "      <th>CustomerId</th>\n",
       "      <th>Surname</th>\n",
       "      <th>CreditScore</th>\n",
       "      <th>Geography</th>\n",
       "      <th>Gender</th>\n",
       "      <th>Age</th>\n",
       "      <th>Tenure</th>\n",
       "      <th>Balance</th>\n",
       "      <th>NumOfProducts</th>\n",
       "      <th>HasCrCard</th>\n",
       "      <th>IsActiveMember</th>\n",
       "      <th>EstimatedSalary</th>\n",
       "      <th>Exited</th>\n",
       "    </tr>\n",
       "  </thead>\n",
       "  <tbody>\n",
       "    <tr>\n",
       "      <th>0</th>\n",
       "      <td>1</td>\n",
       "      <td>15634602</td>\n",
       "      <td>Hargrave</td>\n",
       "      <td>619</td>\n",
       "      <td>France</td>\n",
       "      <td>Female</td>\n",
       "      <td>42</td>\n",
       "      <td>2.0</td>\n",
       "      <td>0.00</td>\n",
       "      <td>1</td>\n",
       "      <td>1</td>\n",
       "      <td>1</td>\n",
       "      <td>101348.88</td>\n",
       "      <td>1</td>\n",
       "    </tr>\n",
       "    <tr>\n",
       "      <th>1</th>\n",
       "      <td>2</td>\n",
       "      <td>15647311</td>\n",
       "      <td>Hill</td>\n",
       "      <td>608</td>\n",
       "      <td>Spain</td>\n",
       "      <td>Female</td>\n",
       "      <td>41</td>\n",
       "      <td>1.0</td>\n",
       "      <td>83807.86</td>\n",
       "      <td>1</td>\n",
       "      <td>0</td>\n",
       "      <td>1</td>\n",
       "      <td>112542.58</td>\n",
       "      <td>0</td>\n",
       "    </tr>\n",
       "    <tr>\n",
       "      <th>2</th>\n",
       "      <td>3</td>\n",
       "      <td>15619304</td>\n",
       "      <td>Onio</td>\n",
       "      <td>502</td>\n",
       "      <td>France</td>\n",
       "      <td>Female</td>\n",
       "      <td>42</td>\n",
       "      <td>8.0</td>\n",
       "      <td>159660.80</td>\n",
       "      <td>3</td>\n",
       "      <td>1</td>\n",
       "      <td>0</td>\n",
       "      <td>113931.57</td>\n",
       "      <td>1</td>\n",
       "    </tr>\n",
       "    <tr>\n",
       "      <th>3</th>\n",
       "      <td>4</td>\n",
       "      <td>15701354</td>\n",
       "      <td>Boni</td>\n",
       "      <td>699</td>\n",
       "      <td>France</td>\n",
       "      <td>Female</td>\n",
       "      <td>39</td>\n",
       "      <td>1.0</td>\n",
       "      <td>0.00</td>\n",
       "      <td>2</td>\n",
       "      <td>0</td>\n",
       "      <td>0</td>\n",
       "      <td>93826.63</td>\n",
       "      <td>0</td>\n",
       "    </tr>\n",
       "    <tr>\n",
       "      <th>4</th>\n",
       "      <td>5</td>\n",
       "      <td>15737888</td>\n",
       "      <td>Mitchell</td>\n",
       "      <td>850</td>\n",
       "      <td>Spain</td>\n",
       "      <td>Female</td>\n",
       "      <td>43</td>\n",
       "      <td>2.0</td>\n",
       "      <td>125510.82</td>\n",
       "      <td>1</td>\n",
       "      <td>1</td>\n",
       "      <td>1</td>\n",
       "      <td>79084.10</td>\n",
       "      <td>0</td>\n",
       "    </tr>\n",
       "  </tbody>\n",
       "</table>\n",
       "</div>"
      ],
      "text/plain": [
       "   RowNumber  CustomerId   Surname  CreditScore Geography  Gender  Age  \\\n",
       "0          1    15634602  Hargrave          619    France  Female   42   \n",
       "1          2    15647311      Hill          608     Spain  Female   41   \n",
       "2          3    15619304      Onio          502    France  Female   42   \n",
       "3          4    15701354      Boni          699    France  Female   39   \n",
       "4          5    15737888  Mitchell          850     Spain  Female   43   \n",
       "\n",
       "   Tenure    Balance  NumOfProducts  HasCrCard  IsActiveMember  \\\n",
       "0     2.0       0.00              1          1               1   \n",
       "1     1.0   83807.86              1          0               1   \n",
       "2     8.0  159660.80              3          1               0   \n",
       "3     1.0       0.00              2          0               0   \n",
       "4     2.0  125510.82              1          1               1   \n",
       "\n",
       "   EstimatedSalary  Exited  \n",
       "0        101348.88       1  \n",
       "1        112542.58       0  \n",
       "2        113931.57       1  \n",
       "3         93826.63       0  \n",
       "4         79084.10       0  "
      ]
     },
     "metadata": {},
     "output_type": "display_data"
    },
    {
     "name": "stdout",
     "output_type": "stream",
     "text": [
      "RowNumber            int64\n",
      "CustomerId           int64\n",
      "Surname             object\n",
      "CreditScore          int64\n",
      "Geography           object\n",
      "Gender              object\n",
      "Age                  int64\n",
      "Tenure             float64\n",
      "Balance            float64\n",
      "NumOfProducts        int64\n",
      "HasCrCard            int64\n",
      "IsActiveMember       int64\n",
      "EstimatedSalary    float64\n",
      "Exited               int64\n",
      "dtype: object\n"
     ]
    }
   ],
   "source": [
    "display(data.head())\n",
    "print(data.dtypes)"
   ]
  },
  {
   "cell_type": "markdown",
   "metadata": {},
   "source": [
    "В столбце Tenure, нашли значение None, заменим на 0."
   ]
  },
  {
   "cell_type": "code",
   "execution_count": 4,
   "metadata": {},
   "outputs": [
    {
     "name": "stdout",
     "output_type": "stream",
     "text": [
      "[ 0.  1.  2.  3.  4.  5.  6.  7.  8.  9. 10. nan]\n"
     ]
    }
   ],
   "source": [
    "print(np.unique(data['Tenure']))"
   ]
  },
  {
   "cell_type": "code",
   "execution_count": 5,
   "metadata": {},
   "outputs": [],
   "source": [
    "data['Tenure'] = data['Tenure'].fillna(0)"
   ]
  },
  {
   "cell_type": "code",
   "execution_count": 6,
   "metadata": {},
   "outputs": [
    {
     "name": "stdout",
     "output_type": "stream",
     "text": [
      "[ 0.  1.  2.  3.  4.  5.  6.  7.  8.  9. 10.]\n"
     ]
    }
   ],
   "source": [
    "print(np.unique(data['Tenure']))"
   ]
  },
  {
   "cell_type": "code",
   "execution_count": 7,
   "metadata": {},
   "outputs": [
    {
     "name": "stdout",
     "output_type": "stream",
     "text": [
      "   CreditScore Geography  Gender  Age  Tenure    Balance  NumOfProducts  \\\n",
      "0          619    France  Female   42     2.0       0.00              1   \n",
      "1          608     Spain  Female   41     1.0   83807.86              1   \n",
      "2          502    France  Female   42     8.0  159660.80              3   \n",
      "3          699    France  Female   39     1.0       0.00              2   \n",
      "4          850     Spain  Female   43     2.0  125510.82              1   \n",
      "\n",
      "   HasCrCard  IsActiveMember  EstimatedSalary  Exited  \n",
      "0          1               1        101348.88       1  \n",
      "1          0               1        112542.58       0  \n",
      "2          1               0        113931.57       1  \n",
      "3          0               0         93826.63       0  \n",
      "4          1               1         79084.10       0  \n"
     ]
    }
   ],
   "source": [
    "# Признаки row_number, customer_id и surname не пригодятся для обучения моделей, удаляем их.\n",
    "data = data.drop(['RowNumber','CustomerId','Surname'], axis = 1)\n",
    "print(data.head())"
   ]
  },
  {
   "cell_type": "code",
   "execution_count": 8,
   "metadata": {},
   "outputs": [],
   "source": [
    "# Применяем метод OHE, потому что он подходит для всех видов, убираем первый столбец чтобы не попасть в дамми-ловушку.\n",
    "data_ohe = pd.get_dummies(data, drop_first=True)"
   ]
  },
  {
   "cell_type": "markdown",
   "metadata": {},
   "source": [
    "Установим целевой признак 'Exited' запишем в target. Признаки запишем в features."
   ]
  },
  {
   "cell_type": "code",
   "execution_count": 10,
   "metadata": {},
   "outputs": [],
   "source": [
    "target = data_ohe['Exited']\n",
    "features = data_ohe.drop(['Exited'], axis=1)"
   ]
  },
  {
   "cell_type": "code",
   "execution_count": 11,
   "metadata": {},
   "outputs": [],
   "source": [
    "# Производим деление на выборки\n",
    "features_train, target_train, features_valid, target_valid, features_test, target_test = train_valid_test_split(data_ohe,\n",
    "                                                        target = 'Exited', train_size=0.6, valid_size=0.2, test_size=0.2)"
   ]
  },
  {
   "cell_type": "code",
   "execution_count": 12,
   "metadata": {},
   "outputs": [
    {
     "data": {
      "text/html": [
       "<div>\n",
       "<style scoped>\n",
       "    .dataframe tbody tr th:only-of-type {\n",
       "        vertical-align: middle;\n",
       "    }\n",
       "\n",
       "    .dataframe tbody tr th {\n",
       "        vertical-align: top;\n",
       "    }\n",
       "\n",
       "    .dataframe thead th {\n",
       "        text-align: right;\n",
       "    }\n",
       "</style>\n",
       "<table border=\"1\" class=\"dataframe\">\n",
       "  <thead>\n",
       "    <tr style=\"text-align: right;\">\n",
       "      <th></th>\n",
       "      <th>CreditScore</th>\n",
       "      <th>Age</th>\n",
       "      <th>Tenure</th>\n",
       "      <th>Balance</th>\n",
       "      <th>NumOfProducts</th>\n",
       "      <th>HasCrCard</th>\n",
       "      <th>IsActiveMember</th>\n",
       "      <th>EstimatedSalary</th>\n",
       "      <th>Exited</th>\n",
       "      <th>Geography_Germany</th>\n",
       "      <th>Geography_Spain</th>\n",
       "      <th>Gender_Male</th>\n",
       "    </tr>\n",
       "  </thead>\n",
       "  <tbody>\n",
       "    <tr>\n",
       "      <th>0</th>\n",
       "      <td>619</td>\n",
       "      <td>42</td>\n",
       "      <td>2.0</td>\n",
       "      <td>0.00</td>\n",
       "      <td>1</td>\n",
       "      <td>1</td>\n",
       "      <td>1</td>\n",
       "      <td>101348.88</td>\n",
       "      <td>1</td>\n",
       "      <td>0</td>\n",
       "      <td>0</td>\n",
       "      <td>0</td>\n",
       "    </tr>\n",
       "    <tr>\n",
       "      <th>1</th>\n",
       "      <td>608</td>\n",
       "      <td>41</td>\n",
       "      <td>1.0</td>\n",
       "      <td>83807.86</td>\n",
       "      <td>1</td>\n",
       "      <td>0</td>\n",
       "      <td>1</td>\n",
       "      <td>112542.58</td>\n",
       "      <td>0</td>\n",
       "      <td>0</td>\n",
       "      <td>1</td>\n",
       "      <td>0</td>\n",
       "    </tr>\n",
       "    <tr>\n",
       "      <th>2</th>\n",
       "      <td>502</td>\n",
       "      <td>42</td>\n",
       "      <td>8.0</td>\n",
       "      <td>159660.80</td>\n",
       "      <td>3</td>\n",
       "      <td>1</td>\n",
       "      <td>0</td>\n",
       "      <td>113931.57</td>\n",
       "      <td>1</td>\n",
       "      <td>0</td>\n",
       "      <td>0</td>\n",
       "      <td>0</td>\n",
       "    </tr>\n",
       "    <tr>\n",
       "      <th>3</th>\n",
       "      <td>699</td>\n",
       "      <td>39</td>\n",
       "      <td>1.0</td>\n",
       "      <td>0.00</td>\n",
       "      <td>2</td>\n",
       "      <td>0</td>\n",
       "      <td>0</td>\n",
       "      <td>93826.63</td>\n",
       "      <td>0</td>\n",
       "      <td>0</td>\n",
       "      <td>0</td>\n",
       "      <td>0</td>\n",
       "    </tr>\n",
       "    <tr>\n",
       "      <th>4</th>\n",
       "      <td>850</td>\n",
       "      <td>43</td>\n",
       "      <td>2.0</td>\n",
       "      <td>125510.82</td>\n",
       "      <td>1</td>\n",
       "      <td>1</td>\n",
       "      <td>1</td>\n",
       "      <td>79084.10</td>\n",
       "      <td>0</td>\n",
       "      <td>0</td>\n",
       "      <td>1</td>\n",
       "      <td>0</td>\n",
       "    </tr>\n",
       "  </tbody>\n",
       "</table>\n",
       "</div>"
      ],
      "text/plain": [
       "   CreditScore  Age  Tenure    Balance  NumOfProducts  HasCrCard  \\\n",
       "0          619   42     2.0       0.00              1          1   \n",
       "1          608   41     1.0   83807.86              1          0   \n",
       "2          502   42     8.0  159660.80              3          1   \n",
       "3          699   39     1.0       0.00              2          0   \n",
       "4          850   43     2.0  125510.82              1          1   \n",
       "\n",
       "   IsActiveMember  EstimatedSalary  Exited  Geography_Germany  \\\n",
       "0               1        101348.88       1                  0   \n",
       "1               1        112542.58       0                  0   \n",
       "2               0        113931.57       1                  0   \n",
       "3               0         93826.63       0                  0   \n",
       "4               1         79084.10       0                  0   \n",
       "\n",
       "   Geography_Spain  Gender_Male  \n",
       "0                0            0  \n",
       "1                1            0  \n",
       "2                0            0  \n",
       "3                0            0  \n",
       "4                1            0  "
      ]
     },
     "metadata": {},
     "output_type": "display_data"
    }
   ],
   "source": [
    "display(data_ohe.head())"
   ]
  },
  {
   "cell_type": "code",
   "execution_count": 13,
   "metadata": {},
   "outputs": [],
   "source": [
    "numeric = ['CreditScore', 'Age','Tenure','Balance', 'NumOfProducts', 'HasCrCard',\n",
    "           'IsActiveMember', 'EstimatedSalary', 'Geography_Germany', 'Geography_Spain', 'Gender_Male']"
   ]
  },
  {
   "cell_type": "code",
   "execution_count": 14,
   "metadata": {},
   "outputs": [],
   "source": [
    "# Применили стандартизацию данных\n",
    "scaler = StandardScaler()\n",
    "scaler.fit(features_train[numeric])\n",
    "features_train[numeric] = scaler.transform(features_train[numeric])\n",
    "features_valid[numeric] = scaler.transform(features_valid[numeric])\n",
    "features_test[numeric] = scaler.transform(features_test[numeric])"
   ]
  },
  {
   "cell_type": "markdown",
   "metadata": {},
   "source": [
    "## Исследование задачи"
   ]
  },
  {
   "cell_type": "markdown",
   "metadata": {},
   "source": [
    "### Проверка адекватности модели"
   ]
  },
  {
   "cell_type": "code",
   "execution_count": 15,
   "metadata": {},
   "outputs": [
    {
     "name": "stdout",
     "output_type": "stream",
     "text": [
      "0.7963\n"
     ]
    }
   ],
   "source": [
    "target_pred_constant = pd.Series(0, index=target.index)\n",
    "print(accuracy_score(target, target_pred_constant)) "
   ]
  },
  {
   "cell_type": "markdown",
   "metadata": {},
   "source": [
    "### Проверка DecisionTreeClassifier"
   ]
  },
  {
   "cell_type": "code",
   "execution_count": 16,
   "metadata": {},
   "outputs": [
    {
     "name": "stdout",
     "output_type": "stream",
     "text": [
      "max_depth = 1 : 0.0\n",
      "max_depth = 2 : 0.5333333333333333\n",
      "max_depth = 3 : 0.41444866920152096\n",
      "max_depth = 4 : 0.43902439024390244\n",
      "max_depth = 5 : 0.5627009646302251\n",
      "max_depth = 6 : 0.5920471281296024\n",
      "max_depth = 7 : 0.5799373040752351\n",
      "max_depth = 8 : 0.5993975903614458\n",
      "max_depth = 9 : 0.5783475783475783\n",
      "max_depth = 10 : 0.5597749648382561\n",
      "0    0.845\n",
      "1    0.155\n",
      "dtype: float64\n",
      "Полнота: 0.49625935162094764\n",
      "Точность: 0.6419354838709678\n",
      "\n",
      "f1_score лучшей модели Дерево решений на валидационной выборке: 0.5993975903614458\n",
      "[[1488  111]\n",
      " [ 202  199]]\n"
     ]
    },
    {
     "data": {
      "image/png": "[encoded data removed]",
      "text/plain": [
       "<Figure size 432x288 with 1 Axes>"
      ]
     },
     "metadata": {
      "needs_background": "light"
     },
     "output_type": "display_data"
    }
   ],
   "source": [
    "best_model_tree = None\n",
    "best_result_tree = 0\n",
    "for depth in range(1, 11):\n",
    "    model_tree = DecisionTreeClassifier(random_state=12345, max_depth=depth) # обучим модель с заданной глубиной дерева\n",
    "    model_tree.fit(features_train,target_train) # обучим модель на тренировочной выборке\n",
    "    predictions = model_tree.predict(features_valid) # получим предсказания модели\n",
    "    result_tree = accuracy_score(target_valid, predictions) # посчитаем качество модели\n",
    "    f1_tree = f1_score(target_valid, predictions)\n",
    "    print(\"max_depth =\", depth, \": \", end ='')\n",
    "    print(f1_score(target_valid, predictions))\n",
    " \n",
    "\n",
    "    if f1_tree > best_result_tree:\n",
    "        best_model_tree = model_tree\n",
    "        best_result_tree = f1_tree\n",
    "\n",
    "predicted_valid_tree = pd.Series(model_tree.predict(features_valid))\n",
    "class_frequency_tree = predicted_valid_tree.value_counts(normalize=1)\n",
    "print(class_frequency_tree)\n",
    "class_frequency_tree.plot(kind='bar')\n",
    "print('Полнота:', recall_score(target_valid, predictions))\n",
    "print('Точность:', precision_score(target_valid, predictions))\n",
    "print(\"\\nf1_score лучшей модели Дерево решений на валидационной выборке:\", best_result_tree)\n",
    "print(confusion_matrix(target_valid, predictions))"
   ]
  },
  {
   "cell_type": "markdown",
   "metadata": {},
   "source": [
    "Вывод: Лучший результат f1_score на глубине 8."
   ]
  },
  {
   "cell_type": "markdown",
   "metadata": {},
   "source": [
    "### Проверка RandomForestClassifier"
   ]
  },
  {
   "cell_type": "code",
   "execution_count": 17,
   "metadata": {},
   "outputs": [
    {
     "name": "stdout",
     "output_type": "stream",
     "text": [
      "n_estimators = 1 : 0.5162064825930373\n",
      "n_estimators = 2 : 0.42158516020236086\n",
      "n_estimators = 3 : 0.549738219895288\n",
      "n_estimators = 4 : 0.5429017160686428\n",
      "n_estimators = 5 : 0.5846994535519124\n",
      "n_estimators = 6 : 0.5409582689335395\n",
      "n_estimators = 7 : 0.5893854748603352\n",
      "n_estimators = 8 : 0.5567651632970451\n",
      "n_estimators = 9 : 0.5816618911174786\n",
      "n_estimators = 10 : 0.5521472392638037\n",
      "0    0.8745\n",
      "1    0.1255\n",
      "dtype: float64\n",
      "Полнота: 0.4488778054862843\n",
      "Точность: 0.7171314741035857\n",
      "\n",
      "f1_score лучшей модели Дерево решений на валидационной выборке: 0.5893854748603352\n",
      "[[1528   71]\n",
      " [ 221  180]]\n"
     ]
    },
    {
     "data": {
      "image/png": "[encoded data removed]",
      "text/plain": [
       "<Figure size 432x288 with 1 Axes>"
      ]
     },
     "metadata": {
      "needs_background": "light"
     },
     "output_type": "display_data"
    }
   ],
   "source": [
    "best_model = None\n",
    "best_result = 0\n",
    "for est in range(1, 11):\n",
    "    model = RandomForestClassifier(random_state=12345, n_estimators=est) # обучаем модель с заданным количеством деревьев\n",
    "    model.fit(features_train, target_train) # обучаем модель на тренировочной выборке\n",
    "    predictions = model.predict(features_valid)\n",
    "    result = model.score(features_valid, target_valid) # получаем качество модели на валидационной выборке\n",
    "    f1 = f1_score(target_valid, predictions)\n",
    "    print(\"n_estimators =\", est, \": \", end ='')\n",
    "    print(f1_score(target_valid, predictions))\n",
    "    \n",
    "    if f1 > best_result:\n",
    "        best_model = model # сохраним наилучшую модель\n",
    "        best_result = f1 #  сохраним наилучшее значение метрики accuracy на валидационных данных\n",
    "\n",
    "predicted_valid = pd.Series(model.predict(features_valid))\n",
    "class_frequency = predicted_valid.value_counts(normalize=1)\n",
    "print(class_frequency)\n",
    "class_frequency.plot(kind='bar')\n",
    "print('Полнота:', recall_score(target_valid, predictions))\n",
    "print('Точность:', precision_score(target_valid, predictions))\n",
    "print(\"\\nf1_score лучшей модели Дерево решений на валидационной выборке:\", best_result)\n",
    "print(confusion_matrix(target_valid, predictions))"
   ]
  },
  {
   "cell_type": "markdown",
   "metadata": {},
   "source": [
    "Вывод: Лучший результат f1_score на глубине 5."
   ]
  },
  {
   "cell_type": "markdown",
   "metadata": {},
   "source": [
    "### Проверка LogisticRegression"
   ]
  },
  {
   "cell_type": "code",
   "execution_count": 18,
   "metadata": {},
   "outputs": [
    {
     "name": "stdout",
     "output_type": "stream",
     "text": [
      "solver =  newton-cg \n",
      "f1_score лучшей модели: 0.3157894736842105\n",
      "solver =  lbfgs \n",
      "f1_score лучшей модели: 0.3157894736842105\n",
      "solver =  liblinear \n",
      "f1_score лучшей модели: 0.3157894736842105\n",
      "solver =  sag \n",
      "f1_score лучшей модели: 0.3157894736842105\n",
      "solver =  saga \n",
      "f1_score лучшей модели: 0.3157894736842105\n",
      "0    0.9345\n",
      "1    0.0655\n",
      "dtype: float64\n",
      "Полнота: 0.20947630922693267\n",
      "Точность: 0.6412213740458015\n"
     ]
    },
    {
     "data": {
      "image/png": "[encoded data removed]",
      "text/plain": [
       "<Figure size 432x288 with 1 Axes>"
      ]
     },
     "metadata": {
      "needs_background": "light"
     },
     "output_type": "display_data"
    }
   ],
   "source": [
    "solver = ['newton-cg', 'lbfgs', 'liblinear', 'sag', 'saga']\n",
    "for i in solver:\n",
    "    model = LogisticRegression(random_state=12345, solver=i, max_iter = 1000)\n",
    "    model.fit(features_train, target_train) # обучаем модель\n",
    "    predictions = model.predict(features_valid)\n",
    "    model.score(features_valid, target_valid) # получаем предсказания модели \n",
    "    accuracy_score(target_valid, predictions) # посчитаем качество модели\n",
    "            \n",
    "    print('solver = ', i, '\\nf1_score лучшей модели:', f1_score(target_valid, predictions))\n",
    "predicted_valid = pd.Series(model.predict(features_valid))\n",
    "class_frequency = predicted_valid.value_counts(normalize=1)\n",
    "print(class_frequency)\n",
    "class_frequency.plot(kind='bar')\n",
    "print('Полнота:', recall_score(target_valid, predictions))\n",
    "print('Точность:', precision_score(target_valid, predictions))"
   ]
  },
  {
   "cell_type": "markdown",
   "metadata": {},
   "source": [
    "Вывод: лучший результат f1_score во всех гиперпараметрах одинаков."
   ]
  },
  {
   "cell_type": "markdown",
   "metadata": {},
   "source": [
    "## Борьба с дисбалансом"
   ]
  },
  {
   "cell_type": "markdown",
   "metadata": {},
   "source": [
    "Попробуем увеличить выборку и уменьшить ее для борьбы с дисбалансом, также применим class_weight='balanced'. Проверим все модели и найдем f1 меру."
   ]
  },
  {
   "cell_type": "code",
   "execution_count": 19,
   "metadata": {},
   "outputs": [],
   "source": [
    "repeat = 10\n",
    "def upsample(features, target, repeat):\n",
    "    features_zeros = features[target == 0]\n",
    "    features_ones = features[target == 1]\n",
    "    target_zeros = target[target == 0]\n",
    "    target_ones = target[target == 1]\n",
    "\n",
    "    features_upsampled = pd.concat([features_zeros] + [features_ones] * repeat)\n",
    "    target_upsampled = pd.concat([target_zeros] + [target_ones] * repeat)\n",
    "    \n",
    "    features_upsampled, target_upsampled = shuffle(\n",
    "        features_upsampled, target_upsampled, random_state=12345)\n",
    "    \n",
    "    return features_upsampled, target_upsampled\n",
    "\n",
    "features_upsampled, target_upsampled = upsample(features_train, target_train, 3)"
   ]
  },
  {
   "cell_type": "code",
   "execution_count": 20,
   "metadata": {},
   "outputs": [],
   "source": [
    "def downsample(features, target, fraction):\n",
    "    features_zeros = features[target == 0]\n",
    "    features_ones = features[target == 1]\n",
    "    target_zeros = target[target == 0]\n",
    "    target_ones = target[target == 1]\n",
    "\n",
    "    features_downsampled = pd.concat(\n",
    "        [features_zeros.sample(frac=fraction, random_state=12345)] + [features_ones])\n",
    "    target_downsampled = pd.concat(\n",
    "        [target_zeros.sample(frac=fraction, random_state=12345)] + [target_ones])\n",
    "    \n",
    "    features_downsampled, target_downsampled = shuffle(\n",
    "        features_downsampled, target_downsampled, random_state=12345)\n",
    "    \n",
    "    return features_downsampled, target_downsampled\n",
    "\n",
    "features_downsampled, target_downsampled = downsample(features_train, target_train, 0.2)\n"
   ]
  },
  {
   "cell_type": "code",
   "execution_count": 21,
   "metadata": {},
   "outputs": [
    {
     "name": "stdout",
     "output_type": "stream",
     "text": [
      "max_depth = 1 : 0.5097276264591439\n",
      "max_depth = 2 : 0.5433962264150943\n",
      "max_depth = 3 : 0.5635467980295565\n",
      "max_depth = 4 : 0.5402201524132092\n",
      "max_depth = 5 : 0.5804701627486437\n",
      "max_depth = 6 : 0.5897204688908926\n",
      "max_depth = 7 : 0.5742574257425743\n",
      "max_depth = 8 : 0.5676691729323308\n",
      "max_depth = 9 : 0.5617103984450923\n",
      "max_depth = 10 : 0.5525291828793775\n",
      "0    0.6865\n",
      "1    0.3135\n",
      "dtype: float64\n",
      "\n",
      "f1_score лучшей модели Дерево решений на валидационной выборке: 0.5897204688908926\n",
      "[[1256  343]\n",
      " [ 117  284]]\n",
      "Полнота: 0.7082294264339152\n",
      "Точность: 0.4529505582137161\n"
     ]
    },
    {
     "data": {
      "image/png": "[encoded data removed]",
      "text/plain": [
       "<Figure size 432x288 with 1 Axes>"
      ]
     },
     "metadata": {
      "needs_background": "light"
     },
     "output_type": "display_data"
    }
   ],
   "source": [
    "best_model_tree = None\n",
    "best_result_tree = 0\n",
    "for depth in range(1, 11):\n",
    "    model_tree = DecisionTreeClassifier(random_state=12345, max_depth=depth, class_weight='balanced') # обучим модель с заданной глубиной дерева\n",
    "    model_tree.fit(features_train,target_train) # обучим модель на тренировочной выборке\n",
    "    predictions = model_tree.predict(features_valid) # получим предсказания модели\n",
    "    result_tree = accuracy_score(target_valid, predictions) # посчитаем качество модели\n",
    "    f1_tree = f1_score(target_valid, predictions)\n",
    "    print(\"max_depth =\", depth, \": \", end ='')\n",
    "    print(f1_tree)\n",
    " \n",
    "\n",
    "    if f1_tree > best_result_tree:\n",
    "        best_model_tree = model_tree\n",
    "        best_result_tree = f1_tree\n",
    "\n",
    "predicted_valid_tree = pd.Series(model_tree.predict(features_valid))\n",
    "class_frequency_tree = predicted_valid_tree.value_counts(normalize=1)\n",
    "print(class_frequency_tree)\n",
    "class_frequency_tree.plot(kind='bar')\n",
    "print(\"\\nf1_score лучшей модели Дерево решений на валидационной выборке:\", best_result_tree)\n",
    "print(confusion_matrix(target_valid, predictions))\n",
    "print('Полнота:', recall_score(target_valid, predictions))\n",
    "print('Точность:', precision_score(target_valid, predictions))"
   ]
  },
  {
   "cell_type": "markdown",
   "metadata": {},
   "source": [
    "Вывод: Лучший результат F1 меры на глубине дерева 6. Полнота = 0,70, значит модель ищет хорошо долю положительных ответов.Хотят видим что тоность равна 0,45, это не очень хороший показатель."
   ]
  },
  {
   "cell_type": "code",
   "execution_count": 22,
   "metadata": {},
   "outputs": [
    {
     "name": "stdout",
     "output_type": "stream",
     "text": [
      "max_depth = 1 : 0.5123966942148759\n",
      "max_depth = 2 : 0.5503489531405783\n",
      "max_depth = 3 : 0.5741525423728814\n",
      "max_depth = 4 : 0.5469026548672566\n",
      "max_depth = 5 : 0.6006389776357828\n",
      "max_depth = 6 : 0.5845272206303724\n",
      "max_depth = 7 : 0.6093117408906883\n",
      "max_depth = 8 : 0.5783619817997978\n",
      "max_depth = 9 : 0.5838779956427015\n",
      "max_depth = 10 : 0.565356004250797\n",
      "0    0.73\n",
      "1    0.27\n",
      "dtype: float64\n",
      "\n",
      "f1_score лучшей модели Дерево решений на валидационной выборке: 0.6093117408906883\n",
      "[[1325  274]\n",
      " [ 135  266]]\n",
      "Полнота: 0.6633416458852868\n",
      "Точность: 0.4925925925925926\n"
     ]
    },
    {
     "data": {
      "image/png": "[encoded data removed]",
      "text/plain": [
       "<Figure size 432x288 with 1 Axes>"
      ]
     },
     "metadata": {
      "needs_background": "light"
     },
     "output_type": "display_data"
    }
   ],
   "source": [
    "best_model_tree = None\n",
    "best_result_tree = 0\n",
    "for depth in range(1, 11):\n",
    "    model_tree = DecisionTreeClassifier(random_state=12345, max_depth=depth) # обучим модель с заданной глубиной дерева\n",
    "    model_tree.fit(features_upsampled,target_upsampled) # обучим модель на тренировочной выборке\n",
    "    predictions = model_tree.predict(features_valid) # получим предсказания модели\n",
    "    result_tree = accuracy_score(target_valid, predictions) # посчитаем качество модели\n",
    "    f1_tree = f1_score(target_valid, predictions)\n",
    "    print(\"max_depth =\", depth, \": \", end ='')\n",
    "    print(f1_tree)\n",
    " \n",
    "\n",
    "    if f1_tree > best_result_tree:\n",
    "        best_model_tree = model_tree\n",
    "        best_result_tree = f1_tree\n",
    "\n",
    "predicted_valid_tree = pd.Series(model_tree.predict(features_valid))\n",
    "class_frequency_tree = predicted_valid_tree.value_counts(normalize=1)\n",
    "print(class_frequency_tree)\n",
    "class_frequency_tree.plot(kind='bar') \n",
    "print(\"\\nf1_score лучшей модели Дерево решений на валидационной выборке:\", best_result_tree)\n",
    "print(confusion_matrix(target_valid, predictions))\n",
    "print('Полнота:', recall_score(target_valid, predictions))\n",
    "print('Точность:', precision_score(target_valid, predictions))"
   ]
  },
  {
   "cell_type": "markdown",
   "metadata": {},
   "source": [
    "Вывод: Лучший результат F1 меры на глубине дерева 7. Полнота = 0,66, значит модель ищет хорошо долю положительных ответов.Хотят видим что тоность равна 0,49, это не очень хороший показатель показатель."
   ]
  },
  {
   "cell_type": "code",
   "execution_count": 23,
   "metadata": {},
   "outputs": [
    {
     "name": "stdout",
     "output_type": "stream",
     "text": [
      "max_depth = 1 : 0.5097276264591439\n",
      "max_depth = 2 : 0.40816326530612246\n",
      "max_depth = 3 : 0.5255474452554745\n",
      "max_depth = 4 : 0.5658453695836874\n",
      "max_depth = 5 : 0.5656903765690378\n",
      "max_depth = 6 : 0.5511684125705077\n",
      "max_depth = 7 : 0.5240384615384616\n",
      "max_depth = 8 : 0.5299837925445704\n",
      "max_depth = 9 : 0.5088458298230835\n",
      "max_depth = 10 : 0.49638554216867464\n",
      "0    0.578\n",
      "1    0.422\n",
      "dtype: float64\n",
      "\n",
      "f1_score лучшей модели Дерево решений на валидационной выборке: 0.5658453695836874\n",
      "[[1064  535]\n",
      " [  92  309]]\n",
      "Полнота: 0.770573566084788\n",
      "Точность: 0.36611374407582936\n"
     ]
    },
    {
     "data": {
      "image/png": "[encoded data removed]",
      "text/plain": [
       "<Figure size 432x288 with 1 Axes>"
      ]
     },
     "metadata": {
      "needs_background": "light"
     },
     "output_type": "display_data"
    }
   ],
   "source": [
    "best_model_tree = None\n",
    "best_result_tree = 0\n",
    "for depth in range(1, 11):\n",
    "    model_tree = DecisionTreeClassifier(random_state=12345, max_depth=depth) # обучим модель с заданной глубиной дерева\n",
    "    model_tree.fit(features_downsampled,target_downsampled) # обучим модель на тренировочной выборке\n",
    "    predictions = model_tree.predict(features_valid) # получим предсказания модели\n",
    "    result_tree = accuracy_score(target_valid, predictions) # посчитаем качество модели\n",
    "    f1_tree = f1_score(target_valid, predictions) # посчитаем f1_score\n",
    "    print(\"max_depth =\", depth, \": \", end ='')\n",
    "    print(f1_tree)\n",
    " \n",
    "\n",
    "    if f1_tree > best_result_tree:\n",
    "        best_model_tree = model_tree\n",
    "        best_result_tree = f1_tree\n",
    "\n",
    "predicted_valid_tree = pd.Series(model_tree.predict(features_valid))\n",
    "class_frequency_tree = predicted_valid_tree.value_counts(normalize=1)\n",
    "print(class_frequency_tree)\n",
    "class_frequency_tree.plot(kind='bar')\n",
    "print(\"\\nf1_score лучшей модели Дерево решений на валидационной выборке:\", best_result_tree)\n",
    "print(confusion_matrix(target_valid, predictions))\n",
    "print('Полнота:', recall_score(target_valid, predictions))\n",
    "print('Точность:', precision_score(target_valid, predictions))"
   ]
  },
  {
   "cell_type": "markdown",
   "metadata": {},
   "source": [
    "Вывод: Лучший результат F1 меры на глубине дерева 5. Полнота = 0,77, значит модель ищет хорошо долю положительных ответов.Хотят видим что тоность равна 0,36, это не очень хороший показатель."
   ]
  },
  {
   "cell_type": "code",
   "execution_count": 24,
   "metadata": {
    "scrolled": true
   },
   "outputs": [
    {
     "name": "stdout",
     "output_type": "stream",
     "text": [
      "n_estimators = 1 : 0.49638554216867464\n",
      "n_estimators = 2 : 0.49638554216867464\n",
      "n_estimators = 3 : 0.49638554216867464\n",
      "n_estimators = 4 : 0.49638554216867464\n",
      "n_estimators = 5 : 0.49638554216867464\n",
      "n_estimators = 6 : 0.49638554216867464\n",
      "n_estimators = 7 : 0.49638554216867464\n",
      "n_estimators = 8 : 0.49638554216867464\n",
      "n_estimators = 9 : 0.49638554216867464\n",
      "n_estimators = 10 : 0.49638554216867464\n",
      "0    0.884\n",
      "1    0.116\n",
      "dtype: float64\n",
      "\n",
      "f1_score наилучшей модели на валидационной выборке: 0.49638554216867464\n",
      "[[1064  535]\n",
      " [  92  309]]\n",
      "Полнота: 0.770573566084788\n",
      "Точность: 0.36611374407582936\n"
     ]
    },
    {
     "data": {
      "image/png": "[encoded data removed]",
      "text/plain": [
       "<Figure size 432x288 with 1 Axes>"
      ]
     },
     "metadata": {
      "needs_background": "light"
     },
     "output_type": "display_data"
    }
   ],
   "source": [
    "best_model = None\n",
    "best_result = 0\n",
    "for est in range(1, 11):\n",
    "    model = RandomForestClassifier(random_state=12345, n_estimators=est, class_weight='balanced') # обучаем модель с заданным количеством деревьев\n",
    "    model.fit(features_train, target_train) # обучаем модель на тренировочной выборке\n",
    "    predicted_valid = model.predict(features_test)\n",
    "    result = model.score(features_valid, target_valid) # получаем качество модели на валидационной выборке\n",
    "    f1 = f1_score(target_valid, predictions) # посчитаем f1_score\n",
    "    print(\"n_estimators =\", est, \": \", end ='')\n",
    "    print(f1)\n",
    "    \n",
    "    if f1 > best_result:\n",
    "        best_model = model # сохраним наилучшую модель\n",
    "        best_result = f1 #  сохраним наилучшее значение метрики accuracy на валидационных данных\n",
    "\n",
    "predicted_valid = pd.Series(model.predict(features_valid))\n",
    "class_frequency = predicted_valid.value_counts(normalize=1)\n",
    "print(class_frequency)\n",
    "class_frequency.plot(kind='bar')\n",
    "print(\"\\nf1_score наилучшей модели на валидационной выборке:\", best_result)\n",
    "print(confusion_matrix(target_valid, predictions))\n",
    "print('Полнота:', recall_score(target_valid, predictions))\n",
    "print('Точность:', precision_score(target_valid, predictions))"
   ]
  },
  {
   "cell_type": "markdown",
   "metadata": {},
   "source": [
    "Вывод: Лучший результат F1 меры не выявлен во всех глубинах она одинакова. Полнота = 0,77, значит модель ищет хорошо долю положительных ответов.Хотят видим что тоность равна 0,36, это не очень хороший показатель."
   ]
  },
  {
   "cell_type": "code",
   "execution_count": 25,
   "metadata": {},
   "outputs": [
    {
     "name": "stdout",
     "output_type": "stream",
     "text": [
      "n_estimators = 1 : 0.49638554216867464\n",
      "n_estimators = 2 : 0.49638554216867464\n",
      "n_estimators = 3 : 0.49638554216867464\n",
      "n_estimators = 4 : 0.49638554216867464\n",
      "n_estimators = 5 : 0.49638554216867464\n",
      "n_estimators = 6 : 0.49638554216867464\n",
      "n_estimators = 7 : 0.49638554216867464\n",
      "n_estimators = 8 : 0.49638554216867464\n",
      "n_estimators = 9 : 0.49638554216867464\n",
      "n_estimators = 10 : 0.49638554216867464\n",
      "0    0.6125\n",
      "1    0.3875\n",
      "dtype: float64\n",
      "\n",
      "f1_score наилучшей модели на валидационной выборке: 0.49638554216867464\n",
      "[[1064  535]\n",
      " [  92  309]]\n",
      "Полнота: 0.770573566084788\n",
      "Точность: 0.36611374407582936\n"
     ]
    },
    {
     "data": {
      "image/png": "[encoded data removed]",
      "text/plain": [
       "<Figure size 432x288 with 1 Axes>"
      ]
     },
     "metadata": {
      "needs_background": "light"
     },
     "output_type": "display_data"
    }
   ],
   "source": [
    "best_model = None\n",
    "best_result = 0\n",
    "for est in range(1, 11):\n",
    "    model = RandomForestClassifier(random_state=12345, n_estimators=est) # обучаем модель с заданным количеством деревьев\n",
    "    model.fit(features_downsampled, target_downsampled) # обучаем модель на тренировочной выборке\n",
    "    result = model.score(features_valid, target_valid) # получаем качество модели на валидационной выборке\n",
    "    f1 = f1_score(target_valid, predictions) # посчитаем f1_score\n",
    "    print(\"n_estimators =\", est, \": \", end ='')\n",
    "    print(f1)\n",
    "    \n",
    "    if f1 > best_result:\n",
    "        best_model = model # сохраним наилучшую модель\n",
    "        best_result = f1 #  сохраним наилучшее значение метрики accuracy на валидационных данных\n",
    "\n",
    "predicted_valid = pd.Series(model.predict(features_valid))\n",
    "class_frequency = predicted_valid.value_counts(normalize=1)\n",
    "print(class_frequency)\n",
    "class_frequency.plot(kind='bar')\n",
    "print(\"\\nf1_score наилучшей модели на валидационной выборке:\", best_result)\n",
    "print(confusion_matrix(target_valid, predictions))\n",
    "print('Полнота:', recall_score(target_valid, predictions))\n",
    "print('Точность:', precision_score(target_valid, predictions))"
   ]
  },
  {
   "cell_type": "markdown",
   "metadata": {},
   "source": [
    "Вывод: Лучший результат F1 меры не выявлен во всех глубинах она одинакова. Полнота = 0,77, значит модель ищет хорошо долю положительных ответов.Хотят видим что тоность равна 0,36, это не очень хороший показатель."
   ]
  },
  {
   "cell_type": "code",
   "execution_count": 26,
   "metadata": {},
   "outputs": [
    {
     "name": "stdout",
     "output_type": "stream",
     "text": [
      "n_estimators = 1 : 0.49638554216867464\n",
      "n_estimators = 2 : 0.49638554216867464\n",
      "n_estimators = 3 : 0.49638554216867464\n",
      "n_estimators = 4 : 0.49638554216867464\n",
      "n_estimators = 5 : 0.49638554216867464\n",
      "n_estimators = 6 : 0.49638554216867464\n",
      "n_estimators = 7 : 0.49638554216867464\n",
      "n_estimators = 8 : 0.49638554216867464\n",
      "n_estimators = 9 : 0.49638554216867464\n",
      "n_estimators = 10 : 0.49638554216867464\n",
      "0    0.836\n",
      "1    0.164\n",
      "dtype: float64\n",
      "\n",
      "f1_score наилучшей модели на валидационной выборке: 0.49638554216867464\n",
      "[[1064  535]\n",
      " [  92  309]]\n",
      "Полнота: 0.770573566084788\n",
      "Точность: 0.36611374407582936\n"
     ]
    },
    {
     "data": {
      "image/png": "[encoded data removed]",
      "text/plain": [
       "<Figure size 432x288 with 1 Axes>"
      ]
     },
     "metadata": {
      "needs_background": "light"
     },
     "output_type": "display_data"
    }
   ],
   "source": [
    "best_model = None\n",
    "best_result = 0\n",
    "for est in range(1, 11):\n",
    "    model = RandomForestClassifier(random_state=12345, n_estimators=est) # обучаем модель с заданным количеством деревьев\n",
    "    model.fit(features_upsampled, target_upsampled) # обучаем модель\n",
    "    result = model.score(features_valid, target_valid) # получаем качество модели на валидационной выборке\n",
    "    f1 = f1_score(target_valid, predictions) # посчитаем f1_score\n",
    "    print(\"n_estimators =\", est, \": \", end ='')\n",
    "    print(f1)\n",
    "    \n",
    "    if f1 > best_result:\n",
    "        best_model = model # сохраним наилучшую модель\n",
    "        best_result = f1 #  сохраним наилучшее значение метрики f1_score на валидационных данных\n",
    "\n",
    "predicted_valid = pd.Series(model.predict(features_valid))\n",
    "class_frequency = predicted_valid.value_counts(normalize=1)\n",
    "print(class_frequency)\n",
    "class_frequency.plot(kind='bar')\n",
    "print(\"\\nf1_score наилучшей модели на валидационной выборке:\", best_result)\n",
    "print(confusion_matrix(target_valid, predictions))\n",
    "print('Полнота:', recall_score(target_valid, predictions))\n",
    "print('Точность:', precision_score(target_valid, predictions))"
   ]
  },
  {
   "cell_type": "markdown",
   "metadata": {},
   "source": [
    "Вывод: Лучший результат F1 меры не выявлен во всех глубинах она одинакова. Полнота = 0,77, значит модель ищет хорошо долю положительных ответов.Хотят видим что тоность равна 0,36, это не очень хороший показатель."
   ]
  },
  {
   "cell_type": "code",
   "execution_count": 27,
   "metadata": {},
   "outputs": [
    {
     "name": "stdout",
     "output_type": "stream",
     "text": [
      "solver =  newton-cg \n",
      "f1_score лучшей модели: 0.4763636363636364\n",
      "solver =  lbfgs \n",
      "f1_score лучшей модели: 0.4763636363636364\n",
      "solver =  liblinear \n",
      "f1_score лучшей модели: 0.4763636363636364\n",
      "solver =  sag \n",
      "f1_score лучшей модели: 0.4763636363636364\n",
      "solver =  saga \n",
      "f1_score лучшей модели: 0.4763636363636364\n",
      "0.6533665835411472\n",
      "0    0.6505\n",
      "1    0.3495\n",
      "dtype: float64\n",
      "Полнота: 0.6533665835411472\n",
      "Точность: 0.3748211731044349\n"
     ]
    },
    {
     "data": {
      "image/png": "[encoded data removed]",
      "text/plain": [
       "<Figure size 432x288 with 1 Axes>"
      ]
     },
     "metadata": {
      "needs_background": "light"
     },
     "output_type": "display_data"
    }
   ],
   "source": [
    "solver = ['newton-cg', 'lbfgs', 'liblinear', 'sag', 'saga']\n",
    "for i in solver:\n",
    "    model = LogisticRegression(random_state=12345, solver=i, class_weight='balanced', max_iter = 1000)\n",
    "    model.fit(features_train, target_train) # обучаем модель\n",
    "    predictions = model.predict(features_valid)\n",
    "    model.score(features_valid, target_valid) # получаем предсказания модели\n",
    "    accuracy_score(target_valid, predictions) # посчитаем качество модели\n",
    "            \n",
    "    print('solver = ', i, '\\nf1_score лучшей модели:', f1_score(target_valid, predictions))\n",
    "print(recall_score(target_valid, predictions))\n",
    "predicted_valid = pd.Series(model.predict(features_valid))\n",
    "class_frequency = predicted_valid.value_counts(normalize=1)\n",
    "print(class_frequency)\n",
    "class_frequency.plot(kind='bar')\n",
    "print('Полнота:', recall_score(target_valid, predictions))\n",
    "print('Точность:', precision_score(target_valid, predictions))"
   ]
  },
  {
   "cell_type": "markdown",
   "metadata": {},
   "source": [
    "Вывод: Лучший результат F1 меры не выявлен во всех гиперпараметрах она одинакова. Полнота = 0,65, значит модель ищет хорошо долю положительных ответов.Хотят видим что тоность равна 0,37, это не очень хороший показатель."
   ]
  },
  {
   "cell_type": "code",
   "execution_count": 28,
   "metadata": {},
   "outputs": [
    {
     "name": "stdout",
     "output_type": "stream",
     "text": [
      "solver =  newton-cg \n",
      "f1_score лучшей модели: 0.4689863842662633\n",
      "solver =  lbfgs \n",
      "f1_score лучшей модели: 0.4689863842662633\n",
      "solver =  liblinear \n",
      "f1_score лучшей модели: 0.4689863842662633\n",
      "solver =  sag \n",
      "f1_score лучшей модели: 0.4686318972033258\n",
      "solver =  saga \n",
      "f1_score лучшей модели: 0.4686318972033258\n",
      "0.773067331670823\n",
      "0    0.539\n",
      "1    0.461\n",
      "dtype: float64\n",
      "Полнота: 0.773067331670823\n",
      "Точность: 0.3362255965292842\n"
     ]
    },
    {
     "data": {
      "image/png": "[encoded data removed]",
      "text/plain": [
       "<Figure size 432x288 with 1 Axes>"
      ]
     },
     "metadata": {
      "needs_background": "light"
     },
     "output_type": "display_data"
    }
   ],
   "source": [
    "solver = ['newton-cg', 'lbfgs', 'liblinear', 'sag', 'saga']\n",
    "for i in solver:\n",
    "    model = LogisticRegression(random_state=12345, solver=i, max_iter = 1000)\n",
    "    model.fit(features_downsampled, target_downsampled) # обучаем модель\n",
    "    predictions = model.predict(features_valid)\n",
    "    model.score(features_valid, target_valid) # получаем предсказания модели\n",
    "    accuracy_score(target_valid, predictions) # посчитаем качество модели\n",
    "            \n",
    "    print('solver = ', i, '\\nf1_score лучшей модели:', f1_score(target_valid, predictions))\n",
    "print(recall_score(target_valid, predictions))\n",
    "predicted_valid = pd.Series(model.predict(features_valid))\n",
    "class_frequency = predicted_valid.value_counts(normalize=1)\n",
    "print(class_frequency)\n",
    "class_frequency.plot(kind='bar')\n",
    "print('Полнота:', recall_score(target_valid, predictions))\n",
    "print('Точность:', precision_score(target_valid, predictions))"
   ]
  },
  {
   "cell_type": "markdown",
   "metadata": {},
   "source": [
    "Вывод: Лучший результат F1 меры в гиперпараметре newton-cg, lbfgs, liblinear. Полнота = 0,77, значит модель ищет хорошо долю положительных ответов.Хотят видим что тоность равна 0,33, это не очень хороший показатель."
   ]
  },
  {
   "cell_type": "code",
   "execution_count": 29,
   "metadata": {},
   "outputs": [
    {
     "name": "stdout",
     "output_type": "stream",
     "text": [
      "solver =  newton-cg \n",
      "f1_score лучшей модели: 0.4801670146137787\n",
      "solver =  lbfgs \n",
      "f1_score лучшей модели: 0.4801670146137787\n",
      "solver =  liblinear \n",
      "f1_score лучшей модели: 0.4801670146137787\n",
      "solver =  sag \n",
      "f1_score лучшей модели: 0.4801670146137787\n",
      "solver =  saga \n",
      "f1_score лучшей модели: 0.4801670146137787\n",
      "0.57356608478803\n",
      "0    0.7215\n",
      "1    0.2785\n",
      "dtype: float64\n",
      "Полнота: 0.57356608478803\n",
      "Точность: 0.4129263913824057\n"
     ]
    },
    {
     "data": {
      "image/png": "[encoded data removed]",
      "text/plain": [
       "<Figure size 432x288 with 1 Axes>"
      ]
     },
     "metadata": {
      "needs_background": "light"
     },
     "output_type": "display_data"
    }
   ],
   "source": [
    "solver = ['newton-cg', 'lbfgs', 'liblinear', 'sag', 'saga']\n",
    "for i in solver:\n",
    "    model = LogisticRegression(random_state=12345, solver=i, max_iter = 1000)\n",
    "    model.fit(features_upsampled, target_upsampled) # обучаем модель\n",
    "    predictions = model.predict(features_valid)\n",
    "    model.score(features_valid, target_valid) # получаем предсказания модели\n",
    "    accuracy_score(target_valid, predictions) # посчитаем качество модели\n",
    "            \n",
    "    print('solver = ', i, '\\nf1_score лучшей модели:', f1_score(target_valid, predictions))\n",
    "print(recall_score(target_valid, predictions))\n",
    "predicted_valid = pd.Series(model.predict(features_valid))\n",
    "class_frequency = predicted_valid.value_counts(normalize=1)\n",
    "print(class_frequency)\n",
    "class_frequency.plot(kind='bar')\n",
    "print('Полнота:', recall_score(target_valid, predictions))\n",
    "print('Точность:', precision_score(target_valid, predictions))"
   ]
  },
  {
   "cell_type": "markdown",
   "metadata": {},
   "source": [
    "Вывод: Лучший результат F1 меры не выявлен во всех гиперпараметрах она одинакова. Полнота = 0,57, значит модель ищет хорошо долю положительных ответов.Хотят видим что тоность равна 0,41, это не очень хороший показатель."
   ]
  },
  {
   "cell_type": "markdown",
   "metadata": {},
   "source": [
    "## Тестирование модели"
   ]
  },
  {
   "cell_type": "markdown",
   "metadata": {},
   "source": [
    "Проверим модель на тестовой выборке с лучшими показателями."
   ]
  },
  {
   "cell_type": "code",
   "execution_count": 44,
   "metadata": {},
   "outputs": [
    {
     "name": "stdout",
     "output_type": "stream",
     "text": [
      "0.7675\n",
      "0.5650140318054256\n"
     ]
    }
   ],
   "source": [
    "model = DecisionTreeClassifier(random_state=12345, max_depth=6, class_weight='balanced') # обучим модель с заданной глубиной дерева\n",
    "model.fit(features_train,target_train) # обучим модель на тренировочной выборке\n",
    "predictions = model.predict(features_test) # получим предсказания модели\n",
    "result_tree = accuracy_score(target_test, predictions) # посчитаем качество модели\n",
    "\n",
    "print(result_tree)\n",
    "print(f1_score(target_test, predictions))"
   ]
  },
  {
   "cell_type": "code",
   "execution_count": 45,
   "metadata": {},
   "outputs": [
    {
     "name": "stdout",
     "output_type": "stream",
     "text": [
      "0.6895\n",
      "0.4963503649635037\n"
     ]
    }
   ],
   "source": [
    "model = DecisionTreeClassifier(random_state=12345, max_depth=7) # обучим модель с заданной глубиной дерева\n",
    "model.fit(features_downsampled,target_downsampled) # обучим модель на тренировочной выборке\n",
    "predictions = model.predict(features_test) # получим предсказания модели\n",
    "result_tree = accuracy_score(target_test, predictions) # посчитаем качество модели\n",
    "#probabilities = model.predict_proba(features_test)\n",
    "print(result_tree)\n",
    "print(f1_score(target_test, predictions))"
   ]
  },
  {
   "cell_type": "code",
   "execution_count": 32,
   "metadata": {},
   "outputs": [
    {
     "name": "stdout",
     "output_type": "stream",
     "text": [
      "0.8155\n",
      "0.5886287625418061\n"
     ]
    }
   ],
   "source": [
    "model = DecisionTreeClassifier(random_state=12345, max_depth=5) # обучим модель с заданной глубиной дерева\n",
    "model.fit(features_upsampled,target_upsampled) # обучим модель на тренировочной выборке\n",
    "predictions = model.predict(features_test) # получим предсказания модели\n",
    "result_tree = accuracy_score(target_test, predictions) # посчитаем качество модели\n",
    "\n",
    "print(result_tree)\n",
    "print(f1_score(target_test, predictions))"
   ]
  },
  {
   "cell_type": "code",
   "execution_count": 33,
   "metadata": {},
   "outputs": [
    {
     "name": "stdout",
     "output_type": "stream",
     "text": [
      "0.8695\n",
      "0.5769854132901134\n"
     ]
    }
   ],
   "source": [
    "model = RandomForestClassifier(random_state=12345, n_estimators=100, class_weight='balanced') # обучаем модель с заданным количеством деревьев\n",
    "model.fit(features_train, target_train) # обучаем модель на тренировочной выборке\n",
    "predicted_valid = model.predict(features_test)\n",
    "result = model.score(features_test, target_test) # получаем качество модели на тестовой выборке\n",
    "\n",
    "print(result)\n",
    "print(f1_score(target_test, predicted_valid))"
   ]
  },
  {
   "cell_type": "code",
   "execution_count": 34,
   "metadata": {},
   "outputs": [
    {
     "name": "stdout",
     "output_type": "stream",
     "text": [
      "0.728\n",
      "0.5405405405405406\n"
     ]
    }
   ],
   "source": [
    "model = RandomForestClassifier(random_state=12345, n_estimators=100, class_weight='balanced') # обучаем модель с заданным количеством деревьев\n",
    "model.fit(features_downsampled, target_downsampled) # обучаем модель\n",
    "predicted_valid = model.predict(features_test)\n",
    "result = model.score(features_test, target_test) # получаем качество модели на тестовой выборке\n",
    "\n",
    "print(result)\n",
    "print(f1_score(target_test, predicted_valid))"
   ]
  },
  {
   "cell_type": "code",
   "execution_count": 35,
   "metadata": {},
   "outputs": [
    {
     "name": "stdout",
     "output_type": "stream",
     "text": [
      "0.8605\n",
      "0.6097902097902098\n"
     ]
    }
   ],
   "source": [
    "model = RandomForestClassifier(random_state=12345, n_estimators=100, class_weight='balanced') # обучаем модель с заданным количеством деревьев\n",
    "model.fit(features_upsampled, target_upsampled) # обучаем модель\n",
    "predicted_valid = model.predict(features_test)\n",
    "result = model.score(features_test, target_test) # получаем качество модели на тестовой выборке\n",
    "\n",
    "print(result)\n",
    "print(f1_score(target_test, predicted_valid))"
   ]
  },
  {
   "cell_type": "code",
   "execution_count": 36,
   "metadata": {},
   "outputs": [
    {
     "name": "stdout",
     "output_type": "stream",
     "text": [
      "0.7165\n",
      "0.4793388429752065\n"
     ]
    }
   ],
   "source": [
    "model = LogisticRegression(random_state=12345, solver='newton-cg', class_weight='balanced', max_iter = 1000)\n",
    "model.fit(features_train, target_train) # обучаем модель\n",
    "predictions = model.predict(features_test)\n",
    "model.score(features_test, target_test) # получаем предсказания модели\n",
    "result = model.score(features_test, target_test) # получаем качество модели на тестовой выборке\n",
    "\n",
    "print(result)\n",
    "print(f1_score(target_test, predictions))"
   ]
  },
  {
   "cell_type": "code",
   "execution_count": 37,
   "metadata": {},
   "outputs": [
    {
     "name": "stdout",
     "output_type": "stream",
     "text": [
      "0.6445\n",
      "0.4551724137931034\n"
     ]
    }
   ],
   "source": [
    "model = LogisticRegression(random_state=12345, solver='liblinear', max_iter = 1000)\n",
    "model.fit(features_downsampled, target_downsampled) # обучаем модель\n",
    "predictions = model.predict(features_test)\n",
    "model.score(features_test, target_test) # получаем предсказания модели\n",
    "result = model.score(features_test, target_test) # получаем качество модели на тестовой выборке\n",
    "\n",
    "print(result)\n",
    "print(f1_score(target_test, predictions))"
   ]
  },
  {
   "cell_type": "code",
   "execution_count": 38,
   "metadata": {},
   "outputs": [
    {
     "name": "stdout",
     "output_type": "stream",
     "text": [
      "0.7575\n",
      "0.48017148981779206\n"
     ]
    }
   ],
   "source": [
    "model = LogisticRegression(random_state=12345, solver='newton-cg', max_iter = 1000)\n",
    "model.fit(features_upsampled, target_upsampled) # обучаем модель\n",
    "predictions = model.predict(features_test)\n",
    "model.score(features_test, target_test) # получаем предсказания модели\n",
    "result = model.score(features_test, target_test) # получаем качество модели на тестовой выборке\n",
    "\n",
    "print(result)\n",
    "print(f1_score(target_test, predictions))"
   ]
  },
  {
   "cell_type": "markdown",
   "metadata": {},
   "source": [
    "Вывод: лучший показатель F1 меры удалось достичь в RandomForestClassifier, с количеством д 100 и сбалансированном классе."
   ]
  },
  {
   "cell_type": "markdown",
   "metadata": {},
   "source": [
    "Построим ROC кривую и найдем ее площадь. Чем больше значение площади, тем лучше для модели."
   ]
  },
  {
   "cell_type": "code",
   "execution_count": 39,
   "metadata": {},
   "outputs": [
    {
     "data": {
      "image/png": "[encoded data removed]",
      "text/plain": [
       "<Figure size 432x288 with 1 Axes>"
      ]
     },
     "metadata": {
      "needs_background": "light"
     },
     "output_type": "display_data"
    }
   ],
   "source": [
    "probabilities_valid = model.predict_proba(features_test)\n",
    "probabilities_one_valid = probabilities_valid[:, 1]\n",
    "\n",
    "fpr, tpr, thresholds = roc_curve(target_test, probabilities_one_valid)\n",
    "\n",
    "plt.figure()\n",
    "plt.plot(fpr, tpr)\n",
    "plt.xlim([0.0, 1.0])\n",
    "plt.ylim([0.0, 1.0])\n",
    "plt.xlabel('False Positive Rate')\n",
    "plt.ylabel('True Positive Rate')\n",
    "plt.title('ROC-кривая')\n",
    "plt.show()"
   ]
  },
  {
   "cell_type": "code",
   "execution_count": 40,
   "metadata": {},
   "outputs": [
    {
     "name": "stdout",
     "output_type": "stream",
     "text": [
      "0.7742654358974359\n"
     ]
    }
   ],
   "source": [
    "auc_roc = roc_auc_score(target_test, probabilities_one_valid)\n",
    "print(auc_roc)"
   ]
  },
  {
   "cell_type": "markdown",
   "metadata": {},
   "source": [
    "Вывод: ROC кривая имеет значение 0,77, это говорит о хорошем качестве модели."
   ]
  },
  {
   "cell_type": "markdown",
   "metadata": {},
   "source": [
    "## Вывод: Благодаря многочисленным проверкам модели, мы нашли нужную с F1 мерой больше 0,59. Мы увидели что не все модели и не все приемы балансировки классов дают хороший показатель F1 меры."
   ]
  }
 ],
 "metadata": {
  "ExecuteTimeLog": [
   {
    "duration": 399,
    "start_time": "2022-08-02T16:45:50.032Z"
   },
   {
    "duration": 295,
    "start_time": "2022-08-02T16:45:50.782Z"
   },
   {
    "duration": 17,
    "start_time": "2022-08-02T16:46:17.183Z"
   },
   {
    "duration": 23,
    "start_time": "2022-08-02T16:50:09.698Z"
   },
   {
    "duration": 178,
    "start_time": "2022-08-02T16:53:20.070Z"
   },
   {
    "duration": 976,
    "start_time": "2022-08-02T17:06:35.589Z"
   },
   {
    "duration": 38,
    "start_time": "2022-08-02T17:06:36.567Z"
   },
   {
    "duration": 24,
    "start_time": "2022-08-02T17:06:36.607Z"
   },
   {
    "duration": 181,
    "start_time": "2022-08-02T17:06:36.632Z"
   },
   {
    "duration": 1250,
    "start_time": "2022-08-02T17:06:36.815Z"
   },
   {
    "duration": 118,
    "start_time": "2022-08-02T17:07:38.083Z"
   },
   {
    "duration": 355,
    "start_time": "2022-08-02T17:07:39.155Z"
   },
   {
    "duration": 1094,
    "start_time": "2022-08-02T18:10:03.768Z"
   },
   {
    "duration": 38,
    "start_time": "2022-08-02T18:10:04.865Z"
   },
   {
    "duration": 21,
    "start_time": "2022-08-02T18:10:04.904Z"
   },
   {
    "duration": 197,
    "start_time": "2022-08-02T18:10:04.928Z"
   },
   {
    "duration": 129,
    "start_time": "2022-08-02T18:10:05.126Z"
   },
   {
    "duration": 86,
    "start_time": "2022-08-02T18:10:05.257Z"
   },
   {
    "duration": 744,
    "start_time": "2022-08-02T18:10:42.825Z"
   },
   {
    "duration": 6,
    "start_time": "2022-08-02T18:11:22.054Z"
   },
   {
    "duration": 4,
    "start_time": "2022-08-02T18:11:30.929Z"
   },
   {
    "duration": 3,
    "start_time": "2022-08-02T18:13:47.536Z"
   },
   {
    "duration": 36,
    "start_time": "2022-08-02T18:14:02.337Z"
   },
   {
    "duration": 743,
    "start_time": "2022-08-02T18:15:09.268Z"
   },
   {
    "duration": 719,
    "start_time": "2022-08-02T18:15:22.833Z"
   },
   {
    "duration": 76,
    "start_time": "2022-08-02T18:17:00.787Z"
   },
   {
    "duration": 149,
    "start_time": "2022-08-02T18:17:09.164Z"
   },
   {
    "duration": 11,
    "start_time": "2022-08-02T18:32:19.347Z"
   },
   {
    "duration": 4,
    "start_time": "2022-08-02T18:33:45.725Z"
   },
   {
    "duration": 1177,
    "start_time": "2022-08-02T18:34:47.733Z"
   },
   {
    "duration": 38,
    "start_time": "2022-08-02T18:34:48.912Z"
   },
   {
    "duration": 28,
    "start_time": "2022-08-02T18:34:48.952Z"
   },
   {
    "duration": 221,
    "start_time": "2022-08-02T18:34:48.982Z"
   },
   {
    "duration": 0,
    "start_time": "2022-08-02T18:34:49.205Z"
   },
   {
    "duration": 0,
    "start_time": "2022-08-02T18:34:49.206Z"
   },
   {
    "duration": 0,
    "start_time": "2022-08-02T18:34:49.207Z"
   },
   {
    "duration": 0,
    "start_time": "2022-08-02T18:34:49.208Z"
   },
   {
    "duration": 0,
    "start_time": "2022-08-02T18:34:49.210Z"
   },
   {
    "duration": 4,
    "start_time": "2022-08-02T18:35:21.942Z"
   },
   {
    "duration": 5,
    "start_time": "2022-08-02T18:35:33.126Z"
   },
   {
    "duration": 4,
    "start_time": "2022-08-02T18:35:48.051Z"
   },
   {
    "duration": 5,
    "start_time": "2022-08-02T18:36:18.497Z"
   },
   {
    "duration": 5,
    "start_time": "2022-08-02T18:36:35.894Z"
   },
   {
    "duration": 6,
    "start_time": "2022-08-02T18:36:54.862Z"
   },
   {
    "duration": 5,
    "start_time": "2022-08-02T18:37:07.870Z"
   },
   {
    "duration": 6,
    "start_time": "2022-08-02T18:37:31.987Z"
   },
   {
    "duration": 6,
    "start_time": "2022-08-02T18:37:41.356Z"
   },
   {
    "duration": 6,
    "start_time": "2022-08-02T18:37:54.243Z"
   },
   {
    "duration": 5,
    "start_time": "2022-08-02T18:38:01.662Z"
   },
   {
    "duration": 10,
    "start_time": "2022-08-02T18:38:14.420Z"
   },
   {
    "duration": 5,
    "start_time": "2022-08-02T18:38:22.427Z"
   },
   {
    "duration": 4,
    "start_time": "2022-08-02T18:38:32.728Z"
   },
   {
    "duration": 5,
    "start_time": "2022-08-02T18:38:44.534Z"
   },
   {
    "duration": 189,
    "start_time": "2022-08-02T18:39:20.252Z"
   },
   {
    "duration": 126,
    "start_time": "2022-08-02T18:39:21.422Z"
   },
   {
    "duration": 815,
    "start_time": "2022-08-02T18:39:22.523Z"
   },
   {
    "duration": 2,
    "start_time": "2022-08-02T18:39:23.341Z"
   },
   {
    "duration": 195,
    "start_time": "2022-08-02T18:39:24.679Z"
   },
   {
    "duration": 15,
    "start_time": "2022-08-02T18:40:54.648Z"
   },
   {
    "duration": 11,
    "start_time": "2022-08-02T18:42:27.480Z"
   },
   {
    "duration": 4,
    "start_time": "2022-08-02T18:42:34.057Z"
   },
   {
    "duration": 4,
    "start_time": "2022-08-02T18:42:55.702Z"
   },
   {
    "duration": 1042,
    "start_time": "2022-08-02T18:43:07.777Z"
   },
   {
    "duration": 38,
    "start_time": "2022-08-02T18:43:08.821Z"
   },
   {
    "duration": 26,
    "start_time": "2022-08-02T18:43:08.861Z"
   },
   {
    "duration": 7,
    "start_time": "2022-08-02T18:43:08.888Z"
   },
   {
    "duration": 6,
    "start_time": "2022-08-02T18:43:08.897Z"
   },
   {
    "duration": 8,
    "start_time": "2022-08-02T18:43:08.904Z"
   },
   {
    "duration": 212,
    "start_time": "2022-08-02T18:43:08.913Z"
   },
   {
    "duration": 126,
    "start_time": "2022-08-02T18:43:09.126Z"
   },
   {
    "duration": 703,
    "start_time": "2022-08-02T18:43:09.254Z"
   },
   {
    "duration": 2,
    "start_time": "2022-08-02T18:43:09.959Z"
   },
   {
    "duration": 314,
    "start_time": "2022-08-02T18:43:09.962Z"
   },
   {
    "duration": 3,
    "start_time": "2022-08-02T18:43:50.783Z"
   },
   {
    "duration": 43,
    "start_time": "2022-08-02T18:43:51.341Z"
   },
   {
    "duration": 24,
    "start_time": "2022-08-02T18:43:51.800Z"
   },
   {
    "duration": 5,
    "start_time": "2022-08-02T18:43:52.294Z"
   },
   {
    "duration": 4,
    "start_time": "2022-08-02T18:43:52.757Z"
   },
   {
    "duration": 5,
    "start_time": "2022-08-02T18:43:53.284Z"
   },
   {
    "duration": 183,
    "start_time": "2022-08-02T18:43:53.939Z"
   },
   {
    "duration": 100,
    "start_time": "2022-08-02T18:43:55.101Z"
   },
   {
    "duration": 696,
    "start_time": "2022-08-02T18:43:56.155Z"
   },
   {
    "duration": 3,
    "start_time": "2022-08-02T18:43:56.852Z"
   },
   {
    "duration": 4099,
    "start_time": "2022-08-02T18:43:58.597Z"
   },
   {
    "duration": 9,
    "start_time": "2022-08-02T18:48:35.731Z"
   },
   {
    "duration": 1087,
    "start_time": "2022-08-02T18:49:09.150Z"
   },
   {
    "duration": 37,
    "start_time": "2022-08-02T18:49:10.239Z"
   },
   {
    "duration": 21,
    "start_time": "2022-08-02T18:49:10.277Z"
   },
   {
    "duration": 3,
    "start_time": "2022-08-02T18:49:10.300Z"
   },
   {
    "duration": 3,
    "start_time": "2022-08-02T18:49:10.305Z"
   },
   {
    "duration": 5,
    "start_time": "2022-08-02T18:49:10.309Z"
   },
   {
    "duration": 210,
    "start_time": "2022-08-02T18:49:10.315Z"
   },
   {
    "duration": 134,
    "start_time": "2022-08-02T18:49:10.527Z"
   },
   {
    "duration": 686,
    "start_time": "2022-08-02T18:49:10.663Z"
   },
   {
    "duration": 2,
    "start_time": "2022-08-02T18:49:11.352Z"
   },
   {
    "duration": 4043,
    "start_time": "2022-08-02T18:49:11.356Z"
   },
   {
    "duration": 6683,
    "start_time": "2022-08-02T18:49:15.401Z"
   },
   {
    "duration": 6954,
    "start_time": "2022-08-02T18:49:59.730Z"
   },
   {
    "duration": 1011,
    "start_time": "2022-08-02T18:53:23.837Z"
   },
   {
    "duration": 37,
    "start_time": "2022-08-02T18:53:24.850Z"
   },
   {
    "duration": 21,
    "start_time": "2022-08-02T18:53:24.889Z"
   },
   {
    "duration": 3,
    "start_time": "2022-08-02T18:53:24.912Z"
   },
   {
    "duration": 10,
    "start_time": "2022-08-02T18:53:24.917Z"
   },
   {
    "duration": 7,
    "start_time": "2022-08-02T18:53:24.929Z"
   },
   {
    "duration": 212,
    "start_time": "2022-08-02T18:53:24.938Z"
   },
   {
    "duration": 127,
    "start_time": "2022-08-02T18:53:25.152Z"
   },
   {
    "duration": 693,
    "start_time": "2022-08-02T18:53:25.280Z"
   },
   {
    "duration": 2,
    "start_time": "2022-08-02T18:53:25.975Z"
   },
   {
    "duration": 7,
    "start_time": "2022-08-02T18:53:25.979Z"
   },
   {
    "duration": 4254,
    "start_time": "2022-08-02T18:53:25.987Z"
   },
   {
    "duration": 6583,
    "start_time": "2022-08-02T18:53:30.244Z"
   },
   {
    "duration": 1157,
    "start_time": "2022-08-02T18:59:15.937Z"
   },
   {
    "duration": 39,
    "start_time": "2022-08-02T18:59:17.096Z"
   },
   {
    "duration": 22,
    "start_time": "2022-08-02T18:59:17.136Z"
   },
   {
    "duration": 4,
    "start_time": "2022-08-02T18:59:17.160Z"
   },
   {
    "duration": 5,
    "start_time": "2022-08-02T18:59:17.166Z"
   },
   {
    "duration": 6,
    "start_time": "2022-08-02T18:59:17.173Z"
   },
   {
    "duration": 213,
    "start_time": "2022-08-02T18:59:17.180Z"
   },
   {
    "duration": 124,
    "start_time": "2022-08-02T18:59:17.395Z"
   },
   {
    "duration": 678,
    "start_time": "2022-08-02T18:59:17.521Z"
   },
   {
    "duration": 2,
    "start_time": "2022-08-02T18:59:18.201Z"
   },
   {
    "duration": 6,
    "start_time": "2022-08-02T18:59:18.205Z"
   },
   {
    "duration": 110,
    "start_time": "2022-08-02T18:59:18.213Z"
   },
   {
    "duration": 1,
    "start_time": "2022-08-02T18:59:18.324Z"
   },
   {
    "duration": 0,
    "start_time": "2022-08-02T18:59:18.326Z"
   },
   {
    "duration": 0,
    "start_time": "2022-08-02T18:59:18.328Z"
   },
   {
    "duration": 3,
    "start_time": "2022-08-02T18:59:29.443Z"
   },
   {
    "duration": 4126,
    "start_time": "2022-08-02T18:59:30.862Z"
   },
   {
    "duration": 4108,
    "start_time": "2022-08-02T18:59:49.296Z"
   },
   {
    "duration": 6867,
    "start_time": "2022-08-02T19:00:34.092Z"
   },
   {
    "duration": 1071,
    "start_time": "2022-08-02T19:05:31.833Z"
   },
   {
    "duration": 37,
    "start_time": "2022-08-02T19:05:32.906Z"
   },
   {
    "duration": 20,
    "start_time": "2022-08-02T19:05:32.944Z"
   },
   {
    "duration": 7,
    "start_time": "2022-08-02T19:05:32.966Z"
   },
   {
    "duration": 4,
    "start_time": "2022-08-02T19:05:32.975Z"
   },
   {
    "duration": 7,
    "start_time": "2022-08-02T19:05:32.980Z"
   },
   {
    "duration": 8,
    "start_time": "2022-08-02T19:05:32.988Z"
   },
   {
    "duration": 224,
    "start_time": "2022-08-02T19:05:32.997Z"
   },
   {
    "duration": 128,
    "start_time": "2022-08-02T19:05:33.222Z"
   },
   {
    "duration": 103,
    "start_time": "2022-08-02T19:05:33.352Z"
   },
   {
    "duration": 0,
    "start_time": "2022-08-02T19:05:33.457Z"
   },
   {
    "duration": 0,
    "start_time": "2022-08-02T19:05:33.458Z"
   },
   {
    "duration": 0,
    "start_time": "2022-08-02T19:05:33.459Z"
   },
   {
    "duration": 0,
    "start_time": "2022-08-02T19:05:33.460Z"
   },
   {
    "duration": 0,
    "start_time": "2022-08-02T19:05:33.462Z"
   },
   {
    "duration": 0,
    "start_time": "2022-08-02T19:05:33.463Z"
   },
   {
    "duration": 692,
    "start_time": "2022-08-02T19:06:16.660Z"
   },
   {
    "duration": 2,
    "start_time": "2022-08-02T19:06:17.631Z"
   },
   {
    "duration": 5,
    "start_time": "2022-08-02T19:06:19.694Z"
   },
   {
    "duration": 3,
    "start_time": "2022-08-02T19:06:20.465Z"
   },
   {
    "duration": 4152,
    "start_time": "2022-08-02T19:06:21.745Z"
   },
   {
    "duration": 6646,
    "start_time": "2022-08-02T19:06:25.899Z"
   },
   {
    "duration": 20,
    "start_time": "2022-08-02T19:06:32.547Z"
   },
   {
    "duration": 29,
    "start_time": "2022-08-02T19:07:41.732Z"
   },
   {
    "duration": 1164,
    "start_time": "2022-08-03T18:12:32.942Z"
   },
   {
    "duration": 52,
    "start_time": "2022-08-03T18:12:34.111Z"
   },
   {
    "duration": 25,
    "start_time": "2022-08-03T18:12:34.165Z"
   },
   {
    "duration": 8,
    "start_time": "2022-08-03T18:12:34.198Z"
   },
   {
    "duration": 12,
    "start_time": "2022-08-03T18:12:34.208Z"
   },
   {
    "duration": 6,
    "start_time": "2022-08-03T18:12:34.221Z"
   },
   {
    "duration": 13,
    "start_time": "2022-08-03T18:12:34.229Z"
   },
   {
    "duration": 226,
    "start_time": "2022-08-03T18:12:34.244Z"
   },
   {
    "duration": 139,
    "start_time": "2022-08-03T18:12:34.472Z"
   },
   {
    "duration": 796,
    "start_time": "2022-08-03T18:12:34.613Z"
   },
   {
    "duration": 2,
    "start_time": "2022-08-03T18:12:35.412Z"
   },
   {
    "duration": 9,
    "start_time": "2022-08-03T18:12:35.416Z"
   },
   {
    "duration": 3,
    "start_time": "2022-08-03T18:12:35.427Z"
   },
   {
    "duration": 4936,
    "start_time": "2022-08-03T18:12:35.431Z"
   },
   {
    "duration": 7788,
    "start_time": "2022-08-03T18:12:40.369Z"
   },
   {
    "duration": 147,
    "start_time": "2022-08-03T18:12:48.159Z"
   },
   {
    "duration": 78,
    "start_time": "2022-08-03T18:14:52.203Z"
   },
   {
    "duration": 34,
    "start_time": "2022-08-03T18:15:07.436Z"
   },
   {
    "duration": 22,
    "start_time": "2022-08-03T18:15:39.044Z"
   },
   {
    "duration": 27,
    "start_time": "2022-08-03T18:17:00.340Z"
   },
   {
    "duration": 32,
    "start_time": "2022-08-03T18:17:05.478Z"
   },
   {
    "duration": 23,
    "start_time": "2022-08-03T18:17:20.059Z"
   },
   {
    "duration": 22,
    "start_time": "2022-08-03T18:17:48.732Z"
   },
   {
    "duration": 36,
    "start_time": "2022-08-03T18:17:55.585Z"
   },
   {
    "duration": 5256,
    "start_time": "2022-08-03T18:23:47.389Z"
   },
   {
    "duration": 47,
    "start_time": "2022-08-03T18:23:52.648Z"
   },
   {
    "duration": 23,
    "start_time": "2022-08-03T18:23:52.697Z"
   },
   {
    "duration": 5,
    "start_time": "2022-08-03T18:23:52.723Z"
   },
   {
    "duration": 5,
    "start_time": "2022-08-03T18:23:52.730Z"
   },
   {
    "duration": 6,
    "start_time": "2022-08-03T18:23:52.736Z"
   },
   {
    "duration": 3,
    "start_time": "2022-08-03T18:23:52.744Z"
   },
   {
    "duration": 256,
    "start_time": "2022-08-03T18:23:52.749Z"
   },
   {
    "duration": 68,
    "start_time": "2022-08-03T18:23:53.007Z"
   },
   {
    "duration": 139,
    "start_time": "2022-08-03T18:23:53.077Z"
   },
   {
    "duration": 604,
    "start_time": "2022-08-03T18:23:53.218Z"
   },
   {
    "duration": 3,
    "start_time": "2022-08-03T18:23:53.823Z"
   },
   {
    "duration": 13,
    "start_time": "2022-08-03T18:23:53.827Z"
   },
   {
    "duration": 7,
    "start_time": "2022-08-03T18:23:53.841Z"
   },
   {
    "duration": 3781,
    "start_time": "2022-08-03T18:23:53.850Z"
   },
   {
    "duration": 6001,
    "start_time": "2022-08-03T18:23:57.633Z"
   },
   {
    "duration": 0,
    "start_time": "2022-08-03T18:26:08.332Z"
   },
   {
    "duration": 0,
    "start_time": "2022-08-03T18:26:08.336Z"
   },
   {
    "duration": 0,
    "start_time": "2022-08-03T18:26:08.337Z"
   },
   {
    "duration": 4018,
    "start_time": "2022-08-03T18:26:08.846Z"
   },
   {
    "duration": 6094,
    "start_time": "2022-08-03T18:26:13.649Z"
   },
   {
    "duration": 0,
    "start_time": "2022-08-03T18:26:19.745Z"
   },
   {
    "duration": 4612,
    "start_time": "2022-08-03T18:27:00.039Z"
   },
   {
    "duration": 52,
    "start_time": "2022-08-03T18:27:04.654Z"
   },
   {
    "duration": 32,
    "start_time": "2022-08-03T18:27:04.718Z"
   },
   {
    "duration": 4,
    "start_time": "2022-08-03T18:27:04.752Z"
   },
   {
    "duration": 13,
    "start_time": "2022-08-03T18:27:04.758Z"
   },
   {
    "duration": 24,
    "start_time": "2022-08-03T18:27:04.773Z"
   },
   {
    "duration": 39,
    "start_time": "2022-08-03T18:27:04.802Z"
   },
   {
    "duration": 263,
    "start_time": "2022-08-03T18:27:04.843Z"
   },
   {
    "duration": 98,
    "start_time": "2022-08-03T18:27:05.111Z"
   },
   {
    "duration": 164,
    "start_time": "2022-08-03T18:27:05.211Z"
   },
   {
    "duration": 692,
    "start_time": "2022-08-03T18:27:05.378Z"
   },
   {
    "duration": 2,
    "start_time": "2022-08-03T18:27:06.072Z"
   },
   {
    "duration": 26,
    "start_time": "2022-08-03T18:27:06.076Z"
   },
   {
    "duration": 35,
    "start_time": "2022-08-03T18:27:06.105Z"
   },
   {
    "duration": 4098,
    "start_time": "2022-08-03T18:27:06.142Z"
   },
   {
    "duration": 0,
    "start_time": "2022-08-03T18:27:10.243Z"
   },
   {
    "duration": 0,
    "start_time": "2022-08-03T18:27:10.244Z"
   },
   {
    "duration": 0,
    "start_time": "2022-08-03T18:27:10.246Z"
   },
   {
    "duration": 3898,
    "start_time": "2022-08-03T18:28:10.552Z"
   },
   {
    "duration": 6138,
    "start_time": "2022-08-03T18:28:37.645Z"
   },
   {
    "duration": 115356,
    "start_time": "2022-08-03T18:28:55.460Z"
   },
   {
    "duration": 0,
    "start_time": "2022-08-03T18:30:50.902Z"
   },
   {
    "duration": 100,
    "start_time": "2022-08-03T18:31:07.136Z"
   },
   {
    "duration": 473,
    "start_time": "2022-08-03T18:32:00.904Z"
   },
   {
    "duration": 466,
    "start_time": "2022-08-03T18:32:16.798Z"
   },
   {
    "duration": 4541,
    "start_time": "2022-08-03T18:32:46.639Z"
   },
   {
    "duration": 55,
    "start_time": "2022-08-03T18:32:51.183Z"
   },
   {
    "duration": 21,
    "start_time": "2022-08-03T18:32:51.240Z"
   },
   {
    "duration": 5,
    "start_time": "2022-08-03T18:32:51.263Z"
   },
   {
    "duration": 7,
    "start_time": "2022-08-03T18:32:51.271Z"
   },
   {
    "duration": 8,
    "start_time": "2022-08-03T18:32:51.295Z"
   },
   {
    "duration": 34,
    "start_time": "2022-08-03T18:32:51.305Z"
   },
   {
    "duration": 231,
    "start_time": "2022-08-03T18:32:51.341Z"
   },
   {
    "duration": 79,
    "start_time": "2022-08-03T18:32:51.574Z"
   },
   {
    "duration": 167,
    "start_time": "2022-08-03T18:32:51.655Z"
   },
   {
    "duration": 717,
    "start_time": "2022-08-03T18:32:51.824Z"
   },
   {
    "duration": 7,
    "start_time": "2022-08-03T18:32:52.543Z"
   },
   {
    "duration": 18,
    "start_time": "2022-08-03T18:32:52.555Z"
   },
   {
    "duration": 4095,
    "start_time": "2022-08-03T18:32:52.576Z"
   },
   {
    "duration": 6540,
    "start_time": "2022-08-03T18:32:56.673Z"
   },
   {
    "duration": 115208,
    "start_time": "2022-08-03T18:33:03.214Z"
   },
   {
    "duration": 0,
    "start_time": "2022-08-03T18:34:58.426Z"
   },
   {
    "duration": 429,
    "start_time": "2022-08-03T18:38:11.184Z"
   },
   {
    "duration": 109,
    "start_time": "2022-08-03T18:43:28.438Z"
   },
   {
    "duration": 3960,
    "start_time": "2022-08-03T18:43:40.570Z"
   },
   {
    "duration": 42,
    "start_time": "2022-08-03T18:43:44.533Z"
   },
   {
    "duration": 27,
    "start_time": "2022-08-03T18:43:44.577Z"
   },
   {
    "duration": 5,
    "start_time": "2022-08-03T18:43:44.607Z"
   },
   {
    "duration": 4,
    "start_time": "2022-08-03T18:43:44.613Z"
   },
   {
    "duration": 5,
    "start_time": "2022-08-03T18:43:44.618Z"
   },
   {
    "duration": 5,
    "start_time": "2022-08-03T18:43:44.625Z"
   },
   {
    "duration": 246,
    "start_time": "2022-08-03T18:43:44.632Z"
   },
   {
    "duration": 74,
    "start_time": "2022-08-03T18:43:44.879Z"
   },
   {
    "duration": 147,
    "start_time": "2022-08-03T18:43:44.956Z"
   },
   {
    "duration": 618,
    "start_time": "2022-08-03T18:43:45.105Z"
   },
   {
    "duration": 5,
    "start_time": "2022-08-03T18:43:45.724Z"
   },
   {
    "duration": 4,
    "start_time": "2022-08-03T18:43:45.731Z"
   },
   {
    "duration": 3584,
    "start_time": "2022-08-03T18:43:45.737Z"
   },
   {
    "duration": 5805,
    "start_time": "2022-08-03T18:43:49.322Z"
   },
   {
    "duration": 136803,
    "start_time": "2022-08-03T18:43:55.129Z"
   },
   {
    "duration": 0,
    "start_time": "2022-08-03T18:46:11.934Z"
   },
   {
    "duration": 0,
    "start_time": "2022-08-03T18:46:11.936Z"
   },
   {
    "duration": 44,
    "start_time": "2022-08-04T16:52:18.836Z"
   },
   {
    "duration": 8,
    "start_time": "2022-08-04T16:52:41.343Z"
   },
   {
    "duration": 4446,
    "start_time": "2022-08-04T16:54:37.333Z"
   },
   {
    "duration": 165,
    "start_time": "2022-08-04T16:54:41.781Z"
   },
   {
    "duration": 19,
    "start_time": "2022-08-04T16:54:41.947Z"
   },
   {
    "duration": 6,
    "start_time": "2022-08-04T16:54:41.968Z"
   },
   {
    "duration": 17,
    "start_time": "2022-08-04T16:54:41.977Z"
   },
   {
    "duration": 23,
    "start_time": "2022-08-04T16:54:41.995Z"
   },
   {
    "duration": 10,
    "start_time": "2022-08-04T16:54:42.020Z"
   },
   {
    "duration": 12,
    "start_time": "2022-08-04T16:54:42.032Z"
   },
   {
    "duration": 11,
    "start_time": "2022-08-04T16:54:42.045Z"
   },
   {
    "duration": 109,
    "start_time": "2022-08-04T16:54:42.058Z"
   },
   {
    "duration": 0,
    "start_time": "2022-08-04T16:54:42.169Z"
   },
   {
    "duration": 0,
    "start_time": "2022-08-04T16:54:42.170Z"
   },
   {
    "duration": 0,
    "start_time": "2022-08-04T16:54:42.171Z"
   },
   {
    "duration": 0,
    "start_time": "2022-08-04T16:54:42.172Z"
   },
   {
    "duration": 0,
    "start_time": "2022-08-04T16:54:42.174Z"
   },
   {
    "duration": 0,
    "start_time": "2022-08-04T16:54:42.175Z"
   },
   {
    "duration": 0,
    "start_time": "2022-08-04T16:54:42.176Z"
   },
   {
    "duration": 0,
    "start_time": "2022-08-04T16:54:42.177Z"
   },
   {
    "duration": 0,
    "start_time": "2022-08-04T16:54:42.178Z"
   },
   {
    "duration": 11,
    "start_time": "2022-08-04T16:54:57.731Z"
   },
   {
    "duration": 19,
    "start_time": "2022-08-04T16:54:59.091Z"
   },
   {
    "duration": 3065,
    "start_time": "2022-08-04T16:55:44.685Z"
   },
   {
    "duration": 43,
    "start_time": "2022-08-04T16:55:47.752Z"
   },
   {
    "duration": 17,
    "start_time": "2022-08-04T16:55:47.797Z"
   },
   {
    "duration": 4,
    "start_time": "2022-08-04T16:55:47.817Z"
   },
   {
    "duration": 5,
    "start_time": "2022-08-04T16:55:47.823Z"
   },
   {
    "duration": 6,
    "start_time": "2022-08-04T16:55:47.829Z"
   },
   {
    "duration": 5,
    "start_time": "2022-08-04T16:55:47.836Z"
   },
   {
    "duration": 3,
    "start_time": "2022-08-04T16:55:47.855Z"
   },
   {
    "duration": 5,
    "start_time": "2022-08-04T16:55:47.859Z"
   },
   {
    "duration": 15,
    "start_time": "2022-08-04T16:55:47.866Z"
   },
   {
    "duration": 2,
    "start_time": "2022-08-04T16:55:47.882Z"
   },
   {
    "duration": 6,
    "start_time": "2022-08-04T16:55:47.886Z"
   },
   {
    "duration": 3,
    "start_time": "2022-08-04T16:55:47.894Z"
   },
   {
    "duration": 142,
    "start_time": "2022-08-04T16:55:47.899Z"
   },
   {
    "duration": 0,
    "start_time": "2022-08-04T16:55:48.042Z"
   },
   {
    "duration": 0,
    "start_time": "2022-08-04T16:55:48.043Z"
   },
   {
    "duration": 0,
    "start_time": "2022-08-04T16:55:48.044Z"
   },
   {
    "duration": 0,
    "start_time": "2022-08-04T16:55:48.045Z"
   },
   {
    "duration": 0,
    "start_time": "2022-08-04T16:55:48.055Z"
   },
   {
    "duration": 3095,
    "start_time": "2022-08-04T16:56:43.430Z"
   },
   {
    "duration": 38,
    "start_time": "2022-08-04T16:56:46.527Z"
   },
   {
    "duration": 16,
    "start_time": "2022-08-04T16:56:46.567Z"
   },
   {
    "duration": 7,
    "start_time": "2022-08-04T16:56:46.584Z"
   },
   {
    "duration": 7,
    "start_time": "2022-08-04T16:56:46.592Z"
   },
   {
    "duration": 7,
    "start_time": "2022-08-04T16:56:46.600Z"
   },
   {
    "duration": 14,
    "start_time": "2022-08-04T16:56:46.609Z"
   },
   {
    "duration": 17,
    "start_time": "2022-08-04T16:56:46.624Z"
   },
   {
    "duration": 104,
    "start_time": "2022-08-04T16:56:46.643Z"
   },
   {
    "duration": 0,
    "start_time": "2022-08-04T16:56:46.750Z"
   },
   {
    "duration": 0,
    "start_time": "2022-08-04T16:56:46.751Z"
   },
   {
    "duration": 0,
    "start_time": "2022-08-04T16:56:46.755Z"
   },
   {
    "duration": 0,
    "start_time": "2022-08-04T16:56:46.756Z"
   },
   {
    "duration": 0,
    "start_time": "2022-08-04T16:56:46.757Z"
   },
   {
    "duration": 0,
    "start_time": "2022-08-04T16:56:46.758Z"
   },
   {
    "duration": 0,
    "start_time": "2022-08-04T16:56:46.759Z"
   },
   {
    "duration": 0,
    "start_time": "2022-08-04T16:56:46.760Z"
   },
   {
    "duration": 0,
    "start_time": "2022-08-04T16:56:46.761Z"
   },
   {
    "duration": 0,
    "start_time": "2022-08-04T16:56:46.762Z"
   },
   {
    "duration": 177,
    "start_time": "2022-08-04T16:56:58.831Z"
   },
   {
    "duration": 65,
    "start_time": "2022-08-04T16:56:59.928Z"
   },
   {
    "duration": 108,
    "start_time": "2022-08-04T16:57:00.600Z"
   },
   {
    "duration": 534,
    "start_time": "2022-08-04T16:57:01.837Z"
   },
   {
    "duration": 4,
    "start_time": "2022-08-04T16:57:04.680Z"
   },
   {
    "duration": 2,
    "start_time": "2022-08-04T16:57:05.250Z"
   },
   {
    "duration": 3082,
    "start_time": "2022-08-04T16:57:06.361Z"
   },
   {
    "duration": 4852,
    "start_time": "2022-08-04T16:57:09.445Z"
   },
   {
    "duration": 97561,
    "start_time": "2022-08-04T16:57:14.299Z"
   },
   {
    "duration": 0,
    "start_time": "2022-08-04T16:58:51.862Z"
   },
   {
    "duration": 0,
    "start_time": "2022-08-04T16:58:51.866Z"
   },
   {
    "duration": 0,
    "start_time": "2022-08-04T16:58:51.867Z"
   },
   {
    "duration": 189,
    "start_time": "2022-08-04T16:58:59.871Z"
   },
   {
    "duration": 1120,
    "start_time": "2022-08-04T16:59:01.035Z"
   },
   {
    "duration": 341,
    "start_time": "2022-08-04T16:59:04.478Z"
   },
   {
    "duration": 1979,
    "start_time": "2022-08-04T17:01:30.681Z"
   },
   {
    "duration": 1161,
    "start_time": "2022-08-04T17:01:48.601Z"
   },
   {
    "duration": 654,
    "start_time": "2022-08-04T17:02:55.555Z"
   },
   {
    "duration": 722,
    "start_time": "2022-08-04T17:03:06.744Z"
   },
   {
    "duration": 13,
    "start_time": "2022-08-04T17:04:11.377Z"
   },
   {
    "duration": 437,
    "start_time": "2022-08-04T17:04:26.528Z"
   },
   {
    "duration": 3831,
    "start_time": "2022-08-04T18:29:50.162Z"
   },
   {
    "duration": 5025,
    "start_time": "2022-08-04T18:29:53.994Z"
   },
   {
    "duration": 1266,
    "start_time": "2022-08-04T18:32:36.461Z"
   },
   {
    "duration": 786,
    "start_time": "2022-08-04T18:34:20.747Z"
   },
   {
    "duration": 746,
    "start_time": "2022-08-04T18:34:38.816Z"
   },
   {
    "duration": 629,
    "start_time": "2022-08-04T18:38:03.302Z"
   },
   {
    "duration": 646,
    "start_time": "2022-08-04T18:39:07.469Z"
   },
   {
    "duration": 628,
    "start_time": "2022-08-04T18:40:48.662Z"
   },
   {
    "duration": 591,
    "start_time": "2022-08-04T18:41:39.442Z"
   },
   {
    "duration": 622,
    "start_time": "2022-08-04T18:41:57.818Z"
   },
   {
    "duration": 584,
    "start_time": "2022-08-04T18:42:19.418Z"
   },
   {
    "duration": 177,
    "start_time": "2022-08-04T18:44:16.395Z"
   },
   {
    "duration": 502,
    "start_time": "2022-08-04T18:45:13.442Z"
   },
   {
    "duration": 208,
    "start_time": "2022-08-04T18:45:35.041Z"
   },
   {
    "duration": 212,
    "start_time": "2022-08-04T18:45:53.377Z"
   },
   {
    "duration": 214,
    "start_time": "2022-08-04T18:46:00.104Z"
   },
   {
    "duration": 219,
    "start_time": "2022-08-04T18:47:37.997Z"
   },
   {
    "duration": 571,
    "start_time": "2022-08-04T18:49:02.366Z"
   },
   {
    "duration": 210,
    "start_time": "2022-08-04T18:49:08.240Z"
   },
   {
    "duration": 489,
    "start_time": "2022-08-04T18:49:37.114Z"
   },
   {
    "duration": 477,
    "start_time": "2022-08-04T18:50:38.595Z"
   },
   {
    "duration": 215,
    "start_time": "2022-08-04T18:50:46.212Z"
   },
   {
    "duration": 2027,
    "start_time": "2022-08-04T18:51:39.443Z"
   },
   {
    "duration": 642,
    "start_time": "2022-08-04T18:52:11.544Z"
   },
   {
    "duration": 109,
    "start_time": "2022-08-04T18:53:09.961Z"
   },
   {
    "duration": 888,
    "start_time": "2022-08-04T18:53:32.206Z"
   },
   {
    "duration": 273,
    "start_time": "2022-08-04T18:54:15.084Z"
   },
   {
    "duration": 350,
    "start_time": "2022-08-04T18:54:16.971Z"
   },
   {
    "duration": 133,
    "start_time": "2022-08-04T18:54:17.997Z"
   },
   {
    "duration": 848,
    "start_time": "2022-08-04T18:54:18.871Z"
   },
   {
    "duration": 638,
    "start_time": "2022-08-04T18:54:19.721Z"
   },
   {
    "duration": 244,
    "start_time": "2022-08-04T18:54:20.502Z"
   },
   {
    "duration": 2005,
    "start_time": "2022-08-04T18:54:21.739Z"
   },
   {
    "duration": 396,
    "start_time": "2022-08-04T18:54:33.905Z"
   },
   {
    "duration": 362,
    "start_time": "2022-08-04T18:54:35.306Z"
   },
   {
    "duration": 203,
    "start_time": "2022-08-04T18:54:36.435Z"
   },
   {
    "duration": 940,
    "start_time": "2022-08-04T18:54:36.993Z"
   },
   {
    "duration": 658,
    "start_time": "2022-08-04T18:54:37.935Z"
   },
   {
    "duration": 415,
    "start_time": "2022-08-04T18:54:38.594Z"
   },
   {
    "duration": 680,
    "start_time": "2022-08-04T18:54:53.286Z"
   },
   {
    "duration": 422,
    "start_time": "2022-08-04T18:54:53.969Z"
   },
   {
    "duration": 344,
    "start_time": "2022-08-04T18:54:55.092Z"
   },
   {
    "duration": 194,
    "start_time": "2022-08-04T18:54:55.675Z"
   },
   {
    "duration": 601,
    "start_time": "2022-08-04T18:54:56.274Z"
   },
   {
    "duration": 680,
    "start_time": "2022-08-04T18:54:56.877Z"
   },
   {
    "duration": 393,
    "start_time": "2022-08-04T18:54:57.558Z"
   },
   {
    "duration": 1347,
    "start_time": "2022-08-04T18:54:57.985Z"
   },
   {
    "duration": 817,
    "start_time": "2022-08-04T18:55:11.875Z"
   },
   {
    "duration": 413,
    "start_time": "2022-08-04T18:55:12.694Z"
   },
   {
    "duration": 339,
    "start_time": "2022-08-04T18:55:13.534Z"
   },
   {
    "duration": 193,
    "start_time": "2022-08-04T18:55:14.098Z"
   },
   {
    "duration": 1849,
    "start_time": "2022-08-04T18:55:14.681Z"
   },
   {
    "duration": 686,
    "start_time": "2022-08-04T18:55:16.532Z"
   },
   {
    "duration": 438,
    "start_time": "2022-08-04T18:55:17.219Z"
   },
   {
    "duration": 3089,
    "start_time": "2022-08-04T18:55:18.747Z"
   },
   {
    "duration": 662,
    "start_time": "2022-08-04T18:56:05.078Z"
   },
   {
    "duration": 410,
    "start_time": "2022-08-04T18:56:05.741Z"
   },
   {
    "duration": 369,
    "start_time": "2022-08-04T18:56:06.609Z"
   },
   {
    "duration": 212,
    "start_time": "2022-08-04T18:56:07.146Z"
   },
   {
    "duration": 466,
    "start_time": "2022-08-04T18:56:07.684Z"
   },
   {
    "duration": 634,
    "start_time": "2022-08-04T18:56:08.258Z"
   },
   {
    "duration": 407,
    "start_time": "2022-08-04T18:56:08.894Z"
   },
   {
    "duration": 1049,
    "start_time": "2022-08-04T18:56:09.303Z"
   },
   {
    "duration": 39,
    "start_time": "2022-08-04T18:56:21.138Z"
   },
   {
    "duration": 392,
    "start_time": "2022-08-04T18:56:21.739Z"
   },
   {
    "duration": 39,
    "start_time": "2022-08-04T18:56:36.839Z"
   },
   {
    "duration": 673,
    "start_time": "2022-08-04T18:56:51.702Z"
   },
   {
    "duration": 272,
    "start_time": "2022-08-04T18:56:57.161Z"
   },
   {
    "duration": 334,
    "start_time": "2022-08-04T18:56:58.234Z"
   },
   {
    "duration": 104,
    "start_time": "2022-08-04T18:56:58.758Z"
   },
   {
    "duration": 458,
    "start_time": "2022-08-04T18:56:59.261Z"
   },
   {
    "duration": 616,
    "start_time": "2022-08-04T18:56:59.770Z"
   },
   {
    "duration": 258,
    "start_time": "2022-08-04T18:57:00.388Z"
   },
   {
    "duration": 1029,
    "start_time": "2022-08-04T18:57:00.745Z"
   },
   {
    "duration": 2096,
    "start_time": "2022-08-04T18:57:53.490Z"
   },
   {
    "duration": 3028,
    "start_time": "2022-08-04T18:58:01.802Z"
   },
   {
    "duration": 40,
    "start_time": "2022-08-04T18:58:04.832Z"
   },
   {
    "duration": 15,
    "start_time": "2022-08-04T18:58:04.874Z"
   },
   {
    "duration": 4,
    "start_time": "2022-08-04T18:58:04.891Z"
   },
   {
    "duration": 8,
    "start_time": "2022-08-04T18:58:04.896Z"
   },
   {
    "duration": 13,
    "start_time": "2022-08-04T18:58:04.905Z"
   },
   {
    "duration": 17,
    "start_time": "2022-08-04T18:58:04.919Z"
   },
   {
    "duration": 199,
    "start_time": "2022-08-04T18:58:04.937Z"
   },
   {
    "duration": 67,
    "start_time": "2022-08-04T18:58:05.138Z"
   },
   {
    "duration": 116,
    "start_time": "2022-08-04T18:58:05.207Z"
   },
   {
    "duration": 545,
    "start_time": "2022-08-04T18:58:05.325Z"
   },
   {
    "duration": 4,
    "start_time": "2022-08-04T18:58:05.872Z"
   },
   {
    "duration": 14,
    "start_time": "2022-08-04T18:58:05.878Z"
   },
   {
    "duration": 3252,
    "start_time": "2022-08-04T18:58:05.893Z"
   },
   {
    "duration": 5061,
    "start_time": "2022-08-04T18:58:09.147Z"
   },
   {
    "duration": 105026,
    "start_time": "2022-08-04T18:58:14.210Z"
   },
   {
    "duration": 0,
    "start_time": "2022-08-04T18:59:59.238Z"
   },
   {
    "duration": 0,
    "start_time": "2022-08-04T18:59:59.239Z"
   },
   {
    "duration": 0,
    "start_time": "2022-08-04T18:59:59.254Z"
   },
   {
    "duration": 0,
    "start_time": "2022-08-04T18:59:59.256Z"
   },
   {
    "duration": 0,
    "start_time": "2022-08-04T18:59:59.257Z"
   },
   {
    "duration": 0,
    "start_time": "2022-08-04T18:59:59.258Z"
   },
   {
    "duration": 0,
    "start_time": "2022-08-04T18:59:59.259Z"
   },
   {
    "duration": 0,
    "start_time": "2022-08-04T18:59:59.261Z"
   },
   {
    "duration": 0,
    "start_time": "2022-08-04T18:59:59.262Z"
   },
   {
    "duration": 0,
    "start_time": "2022-08-04T18:59:59.263Z"
   },
   {
    "duration": 0,
    "start_time": "2022-08-04T18:59:59.265Z"
   },
   {
    "duration": 0,
    "start_time": "2022-08-04T18:59:59.266Z"
   },
   {
    "duration": 0,
    "start_time": "2022-08-04T18:59:59.267Z"
   },
   {
    "duration": 188,
    "start_time": "2022-08-04T19:00:23.695Z"
   },
   {
    "duration": 1117,
    "start_time": "2022-08-04T19:00:24.345Z"
   },
   {
    "duration": 3278,
    "start_time": "2022-08-04T19:00:25.465Z"
   },
   {
    "duration": 4924,
    "start_time": "2022-08-04T19:00:28.755Z"
   },
   {
    "duration": 670,
    "start_time": "2022-08-04T19:00:33.681Z"
   },
   {
    "duration": 272,
    "start_time": "2022-08-04T19:00:34.354Z"
   },
   {
    "duration": 377,
    "start_time": "2022-08-04T19:00:34.627Z"
   },
   {
    "duration": 140,
    "start_time": "2022-08-04T19:00:35.005Z"
   },
   {
    "duration": 477,
    "start_time": "2022-08-04T19:00:35.146Z"
   },
   {
    "duration": 636,
    "start_time": "2022-08-04T19:00:35.624Z"
   },
   {
    "duration": 264,
    "start_time": "2022-08-04T19:00:36.261Z"
   },
   {
    "duration": 1129,
    "start_time": "2022-08-04T19:00:36.527Z"
   },
   {
    "duration": 158,
    "start_time": "2022-08-04T19:01:38.172Z"
   },
   {
    "duration": 50,
    "start_time": "2022-08-04T19:01:38.803Z"
   },
   {
    "duration": 407,
    "start_time": "2022-08-04T19:01:40.169Z"
   },
   {
    "duration": 136,
    "start_time": "2022-08-04T19:01:40.599Z"
   },
   {
    "duration": 862,
    "start_time": "2022-08-04T19:01:41.053Z"
   },
   {
    "duration": 648,
    "start_time": "2022-08-04T19:01:41.917Z"
   },
   {
    "duration": 268,
    "start_time": "2022-08-04T19:01:42.567Z"
   },
   {
    "duration": 1973,
    "start_time": "2022-08-04T19:01:42.836Z"
   },
   {
    "duration": 115,
    "start_time": "2022-08-04T19:02:01.358Z"
   },
   {
    "duration": 55,
    "start_time": "2022-08-04T19:02:01.859Z"
   },
   {
    "duration": 351,
    "start_time": "2022-08-04T19:02:02.886Z"
   },
   {
    "duration": 150,
    "start_time": "2022-08-04T19:02:03.392Z"
   },
   {
    "duration": 571,
    "start_time": "2022-08-04T19:02:03.911Z"
   },
   {
    "duration": 627,
    "start_time": "2022-08-04T19:02:04.484Z"
   },
   {
    "duration": 310,
    "start_time": "2022-08-04T19:02:05.113Z"
   },
   {
    "duration": 1376,
    "start_time": "2022-08-04T19:02:05.514Z"
   },
   {
    "duration": 1232,
    "start_time": "2022-08-04T19:03:15.240Z"
   },
   {
    "duration": 104,
    "start_time": "2022-08-04T19:04:04.833Z"
   },
   {
    "duration": 49,
    "start_time": "2022-08-04T19:06:25.108Z"
   },
   {
    "duration": 95,
    "start_time": "2022-08-04T19:06:28.708Z"
   },
   {
    "duration": 48,
    "start_time": "2022-08-04T19:06:30.112Z"
   },
   {
    "duration": 87,
    "start_time": "2022-08-04T19:08:26.467Z"
   },
   {
    "duration": 52,
    "start_time": "2022-08-04T19:08:27.139Z"
   },
   {
    "duration": 5046,
    "start_time": "2022-08-04T19:08:28.009Z"
   },
   {
    "duration": 61,
    "start_time": "2022-08-04T19:08:33.057Z"
   },
   {
    "duration": 0,
    "start_time": "2022-08-04T19:08:33.119Z"
   },
   {
    "duration": 61,
    "start_time": "2022-08-04T19:09:08.032Z"
   },
   {
    "duration": 61,
    "start_time": "2022-08-04T19:10:15.533Z"
   },
   {
    "duration": 1186,
    "start_time": "2022-08-04T19:10:31.963Z"
   },
   {
    "duration": 1192,
    "start_time": "2022-08-04T19:10:38.166Z"
   },
   {
    "duration": 115,
    "start_time": "2022-08-04T19:11:15.497Z"
   },
   {
    "duration": 505,
    "start_time": "2022-08-04T19:11:28.938Z"
   },
   {
    "duration": 584,
    "start_time": "2022-08-04T19:12:01.670Z"
   },
   {
    "duration": 121,
    "start_time": "2022-08-04T19:12:31.007Z"
   },
   {
    "duration": 370,
    "start_time": "2022-08-04T19:12:33.354Z"
   },
   {
    "duration": 609,
    "start_time": "2022-08-04T19:12:49.469Z"
   },
   {
    "duration": 346,
    "start_time": "2022-08-04T19:13:33.036Z"
   },
   {
    "duration": 119,
    "start_time": "2022-08-04T19:13:33.688Z"
   },
   {
    "duration": 613,
    "start_time": "2022-08-04T19:13:34.394Z"
   },
   {
    "duration": 640,
    "start_time": "2022-08-04T19:13:51.145Z"
   },
   {
    "duration": 256,
    "start_time": "2022-08-04T19:13:51.788Z"
   },
   {
    "duration": 1373,
    "start_time": "2022-08-04T19:13:52.189Z"
   },
   {
    "duration": 1753,
    "start_time": "2022-08-04T19:15:29.995Z"
   },
   {
    "duration": 11002,
    "start_time": "2022-08-04T19:15:31.754Z"
   },
   {
    "duration": 1687,
    "start_time": "2022-08-04T19:15:55.340Z"
   },
   {
    "duration": 4998,
    "start_time": "2022-08-04T19:16:07.074Z"
   },
   {
    "duration": 207,
    "start_time": "2022-08-04T19:16:32.999Z"
   },
   {
    "duration": 808,
    "start_time": "2022-08-04T19:16:56.859Z"
   },
   {
    "duration": 224,
    "start_time": "2022-08-04T19:17:08.054Z"
   },
   {
    "duration": 1354,
    "start_time": "2022-08-04T19:17:16.709Z"
   },
   {
    "duration": 212,
    "start_time": "2022-08-04T19:17:35.199Z"
   },
   {
    "duration": 1772,
    "start_time": "2022-08-04T19:17:36.136Z"
   },
   {
    "duration": 142,
    "start_time": "2022-08-04T19:18:03.532Z"
   },
   {
    "duration": 54,
    "start_time": "2022-08-04T19:18:04.187Z"
   },
   {
    "duration": 7888,
    "start_time": "2022-08-04T19:18:04.895Z"
   },
   {
    "duration": 1134,
    "start_time": "2022-08-04T19:18:12.785Z"
   },
   {
    "duration": 4994,
    "start_time": "2022-08-04T19:18:13.921Z"
   },
   {
    "duration": 2274,
    "start_time": "2022-08-04T19:18:18.918Z"
   },
   {
    "duration": 15828,
    "start_time": "2022-08-04T19:18:21.195Z"
   },
   {
    "duration": 383,
    "start_time": "2022-08-04T19:18:37.025Z"
   },
   {
    "duration": 155,
    "start_time": "2022-08-04T19:18:37.410Z"
   },
   {
    "duration": 924,
    "start_time": "2022-08-04T19:18:37.567Z"
   },
   {
    "duration": 763,
    "start_time": "2022-08-04T19:18:38.492Z"
   },
   {
    "duration": 259,
    "start_time": "2022-08-04T19:18:39.258Z"
   },
   {
    "duration": 2469,
    "start_time": "2022-08-04T19:18:39.518Z"
   },
   {
    "duration": 76,
    "start_time": "2022-08-04T19:19:07.129Z"
   },
   {
    "duration": 55,
    "start_time": "2022-08-04T19:19:07.659Z"
   },
   {
    "duration": 4061,
    "start_time": "2022-08-04T19:19:08.280Z"
   },
   {
    "duration": 823,
    "start_time": "2022-08-04T19:19:12.342Z"
   },
   {
    "duration": 4939,
    "start_time": "2022-08-04T19:19:13.167Z"
   },
   {
    "duration": 1249,
    "start_time": "2022-08-04T19:19:18.109Z"
   },
   {
    "duration": 7966,
    "start_time": "2022-08-04T19:19:19.360Z"
   },
   {
    "duration": 385,
    "start_time": "2022-08-04T19:19:27.328Z"
   },
   {
    "duration": 92,
    "start_time": "2022-08-04T19:19:27.714Z"
   },
   {
    "duration": 499,
    "start_time": "2022-08-04T19:19:27.808Z"
   },
   {
    "duration": 749,
    "start_time": "2022-08-04T19:19:28.308Z"
   },
   {
    "duration": 169,
    "start_time": "2022-08-04T19:19:29.059Z"
   },
   {
    "duration": 1261,
    "start_time": "2022-08-04T19:19:29.230Z"
   },
   {
    "duration": 3013,
    "start_time": "2022-08-04T19:21:04.268Z"
   },
   {
    "duration": 77,
    "start_time": "2022-08-04T19:21:25.213Z"
   },
   {
    "duration": 92,
    "start_time": "2022-08-04T19:21:30.096Z"
   },
   {
    "duration": 88,
    "start_time": "2022-08-04T19:21:35.205Z"
   },
   {
    "duration": 85,
    "start_time": "2022-08-04T19:21:40.530Z"
   },
   {
    "duration": 439,
    "start_time": "2022-08-04T19:24:36.973Z"
   },
   {
    "duration": 332,
    "start_time": "2022-08-04T19:24:44.574Z"
   },
   {
    "duration": 68,
    "start_time": "2022-08-04T19:24:49.781Z"
   },
   {
    "duration": 72,
    "start_time": "2022-08-04T19:24:54.035Z"
   },
   {
    "duration": 76,
    "start_time": "2022-08-04T19:24:58.038Z"
   },
   {
    "duration": 87,
    "start_time": "2022-08-04T19:25:03.651Z"
   },
   {
    "duration": 97,
    "start_time": "2022-08-04T19:25:07.242Z"
   },
   {
    "duration": 91,
    "start_time": "2022-08-04T19:25:10.860Z"
   },
   {
    "duration": 87,
    "start_time": "2022-08-04T19:25:15.715Z"
   },
   {
    "duration": 87,
    "start_time": "2022-08-04T19:25:22.949Z"
   },
   {
    "duration": 85,
    "start_time": "2022-08-04T19:25:26.983Z"
   },
   {
    "duration": 130,
    "start_time": "2022-08-04T19:27:18.031Z"
   },
   {
    "duration": 106,
    "start_time": "2022-08-04T19:27:31.695Z"
   },
   {
    "duration": 4025,
    "start_time": "2022-08-06T09:09:10.661Z"
   },
   {
    "duration": 154,
    "start_time": "2022-08-06T09:09:14.688Z"
   },
   {
    "duration": 16,
    "start_time": "2022-08-06T09:09:14.843Z"
   },
   {
    "duration": 3,
    "start_time": "2022-08-06T09:09:14.861Z"
   },
   {
    "duration": 5,
    "start_time": "2022-08-06T09:09:14.865Z"
   },
   {
    "duration": 6,
    "start_time": "2022-08-06T09:09:14.871Z"
   },
   {
    "duration": 202,
    "start_time": "2022-08-06T09:09:14.878Z"
   },
   {
    "duration": 62,
    "start_time": "2022-08-06T09:09:15.081Z"
   },
   {
    "duration": 118,
    "start_time": "2022-08-06T09:09:15.145Z"
   },
   {
    "duration": 758,
    "start_time": "2022-08-06T09:09:15.265Z"
   },
   {
    "duration": 4,
    "start_time": "2022-08-06T09:09:16.025Z"
   },
   {
    "duration": 4,
    "start_time": "2022-08-06T09:09:16.030Z"
   },
   {
    "duration": 3001,
    "start_time": "2022-08-06T09:09:16.035Z"
   },
   {
    "duration": 4898,
    "start_time": "2022-08-06T09:09:19.038Z"
   },
   {
    "duration": 120609,
    "start_time": "2022-08-06T09:09:23.937Z"
   },
   {
    "duration": 0,
    "start_time": "2022-08-06T09:11:24.548Z"
   },
   {
    "duration": 1,
    "start_time": "2022-08-06T09:11:24.554Z"
   },
   {
    "duration": 0,
    "start_time": "2022-08-06T09:11:24.555Z"
   },
   {
    "duration": 0,
    "start_time": "2022-08-06T09:11:24.556Z"
   },
   {
    "duration": 0,
    "start_time": "2022-08-06T09:11:24.557Z"
   },
   {
    "duration": 0,
    "start_time": "2022-08-06T09:11:24.559Z"
   },
   {
    "duration": 0,
    "start_time": "2022-08-06T09:11:24.559Z"
   },
   {
    "duration": 0,
    "start_time": "2022-08-06T09:11:24.560Z"
   },
   {
    "duration": 0,
    "start_time": "2022-08-06T09:11:24.561Z"
   },
   {
    "duration": 0,
    "start_time": "2022-08-06T09:11:24.562Z"
   },
   {
    "duration": 0,
    "start_time": "2022-08-06T09:11:24.563Z"
   },
   {
    "duration": 0,
    "start_time": "2022-08-06T09:11:24.564Z"
   },
   {
    "duration": 0,
    "start_time": "2022-08-06T09:11:24.565Z"
   },
   {
    "duration": 0,
    "start_time": "2022-08-06T09:11:24.566Z"
   },
   {
    "duration": 0,
    "start_time": "2022-08-06T09:11:24.567Z"
   },
   {
    "duration": 14,
    "start_time": "2022-08-06T09:14:26.773Z"
   },
   {
    "duration": 3097,
    "start_time": "2022-08-06T09:17:02.338Z"
   },
   {
    "duration": 39,
    "start_time": "2022-08-06T09:17:05.437Z"
   },
   {
    "duration": 17,
    "start_time": "2022-08-06T09:17:05.478Z"
   },
   {
    "duration": 8,
    "start_time": "2022-08-06T09:17:05.497Z"
   },
   {
    "duration": 4,
    "start_time": "2022-08-06T09:17:05.507Z"
   },
   {
    "duration": 7,
    "start_time": "2022-08-06T09:17:05.512Z"
   },
   {
    "duration": 205,
    "start_time": "2022-08-06T09:17:05.521Z"
   },
   {
    "duration": 75,
    "start_time": "2022-08-06T09:17:05.728Z"
   },
   {
    "duration": 127,
    "start_time": "2022-08-06T09:17:05.805Z"
   },
   {
    "duration": 111,
    "start_time": "2022-08-06T09:17:05.934Z"
   },
   {
    "duration": 0,
    "start_time": "2022-08-06T09:17:06.047Z"
   },
   {
    "duration": 0,
    "start_time": "2022-08-06T09:17:06.054Z"
   },
   {
    "duration": 0,
    "start_time": "2022-08-06T09:17:06.055Z"
   },
   {
    "duration": 0,
    "start_time": "2022-08-06T09:17:06.056Z"
   },
   {
    "duration": 0,
    "start_time": "2022-08-06T09:17:06.057Z"
   },
   {
    "duration": 0,
    "start_time": "2022-08-06T09:17:06.058Z"
   },
   {
    "duration": 0,
    "start_time": "2022-08-06T09:17:06.059Z"
   },
   {
    "duration": 0,
    "start_time": "2022-08-06T09:17:06.060Z"
   },
   {
    "duration": 0,
    "start_time": "2022-08-06T09:17:06.061Z"
   },
   {
    "duration": 1,
    "start_time": "2022-08-06T09:17:06.061Z"
   },
   {
    "duration": 0,
    "start_time": "2022-08-06T09:17:06.062Z"
   },
   {
    "duration": 0,
    "start_time": "2022-08-06T09:17:06.063Z"
   },
   {
    "duration": 0,
    "start_time": "2022-08-06T09:17:06.064Z"
   },
   {
    "duration": 0,
    "start_time": "2022-08-06T09:17:06.065Z"
   },
   {
    "duration": 0,
    "start_time": "2022-08-06T09:17:06.066Z"
   },
   {
    "duration": 0,
    "start_time": "2022-08-06T09:17:06.067Z"
   },
   {
    "duration": 0,
    "start_time": "2022-08-06T09:17:06.068Z"
   },
   {
    "duration": 0,
    "start_time": "2022-08-06T09:17:06.070Z"
   },
   {
    "duration": 0,
    "start_time": "2022-08-06T09:17:06.071Z"
   },
   {
    "duration": 0,
    "start_time": "2022-08-06T09:17:06.072Z"
   },
   {
    "duration": 10,
    "start_time": "2022-08-06T09:17:29.011Z"
   },
   {
    "duration": 10,
    "start_time": "2022-08-06T09:19:08.744Z"
   },
   {
    "duration": 16,
    "start_time": "2022-08-06T09:19:50.043Z"
   },
   {
    "duration": 770,
    "start_time": "2022-08-06T09:20:02.895Z"
   },
   {
    "duration": 528,
    "start_time": "2022-08-06T09:21:24.439Z"
   },
   {
    "duration": 624,
    "start_time": "2022-08-06T09:23:38.440Z"
   },
   {
    "duration": 451,
    "start_time": "2022-08-06T09:24:00.810Z"
   },
   {
    "duration": 70,
    "start_time": "2022-08-06T09:24:07.683Z"
   },
   {
    "duration": 579,
    "start_time": "2022-08-06T09:24:12.578Z"
   },
   {
    "duration": 11,
    "start_time": "2022-08-06T09:24:43.778Z"
   },
   {
    "duration": 11,
    "start_time": "2022-08-06T09:24:50.582Z"
   },
   {
    "duration": 22,
    "start_time": "2022-08-06T09:24:57.552Z"
   },
   {
    "duration": 10,
    "start_time": "2022-08-06T09:25:06.235Z"
   },
   {
    "duration": 509,
    "start_time": "2022-08-06T09:29:14.865Z"
   },
   {
    "duration": 682,
    "start_time": "2022-08-06T09:30:02.903Z"
   },
   {
    "duration": 271,
    "start_time": "2022-08-06T09:32:15.652Z"
   },
   {
    "duration": 723,
    "start_time": "2022-08-06T09:32:38.949Z"
   },
   {
    "duration": 4,
    "start_time": "2022-08-06T09:32:45.287Z"
   },
   {
    "duration": 2,
    "start_time": "2022-08-06T09:32:45.848Z"
   },
   {
    "duration": 3111,
    "start_time": "2022-08-06T09:32:46.858Z"
   },
   {
    "duration": 4825,
    "start_time": "2022-08-06T09:32:49.971Z"
   },
   {
    "duration": 3128,
    "start_time": "2022-08-06T09:33:08.445Z"
   },
   {
    "duration": 37,
    "start_time": "2022-08-06T09:33:11.575Z"
   },
   {
    "duration": 16,
    "start_time": "2022-08-06T09:33:11.613Z"
   },
   {
    "duration": 5,
    "start_time": "2022-08-06T09:33:11.631Z"
   },
   {
    "duration": 3,
    "start_time": "2022-08-06T09:33:11.638Z"
   },
   {
    "duration": 13,
    "start_time": "2022-08-06T09:33:11.643Z"
   },
   {
    "duration": 186,
    "start_time": "2022-08-06T09:33:11.658Z"
   },
   {
    "duration": 69,
    "start_time": "2022-08-06T09:33:11.845Z"
   },
   {
    "duration": 119,
    "start_time": "2022-08-06T09:33:11.915Z"
   },
   {
    "duration": 715,
    "start_time": "2022-08-06T09:33:12.036Z"
   },
   {
    "duration": 5,
    "start_time": "2022-08-06T09:33:12.752Z"
   },
   {
    "duration": 4,
    "start_time": "2022-08-06T09:33:12.758Z"
   },
   {
    "duration": 2996,
    "start_time": "2022-08-06T09:33:12.763Z"
   },
   {
    "duration": 4931,
    "start_time": "2022-08-06T09:33:15.760Z"
   },
   {
    "duration": 132838,
    "start_time": "2022-08-06T09:33:20.692Z"
   },
   {
    "duration": 0,
    "start_time": "2022-08-06T09:35:33.532Z"
   },
   {
    "duration": 0,
    "start_time": "2022-08-06T09:35:33.533Z"
   },
   {
    "duration": 0,
    "start_time": "2022-08-06T09:35:33.534Z"
   },
   {
    "duration": 0,
    "start_time": "2022-08-06T09:35:33.535Z"
   },
   {
    "duration": 0,
    "start_time": "2022-08-06T09:35:33.536Z"
   },
   {
    "duration": 0,
    "start_time": "2022-08-06T09:35:33.537Z"
   },
   {
    "duration": 0,
    "start_time": "2022-08-06T09:35:33.554Z"
   },
   {
    "duration": 0,
    "start_time": "2022-08-06T09:35:33.557Z"
   },
   {
    "duration": 0,
    "start_time": "2022-08-06T09:35:33.558Z"
   },
   {
    "duration": 0,
    "start_time": "2022-08-06T09:35:33.568Z"
   },
   {
    "duration": 0,
    "start_time": "2022-08-06T09:35:33.569Z"
   },
   {
    "duration": 0,
    "start_time": "2022-08-06T09:35:33.570Z"
   },
   {
    "duration": 0,
    "start_time": "2022-08-06T09:35:33.571Z"
   },
   {
    "duration": 0,
    "start_time": "2022-08-06T09:35:33.572Z"
   },
   {
    "duration": 0,
    "start_time": "2022-08-06T09:35:33.574Z"
   },
   {
    "duration": 3164,
    "start_time": "2022-08-06T09:36:43.720Z"
   },
   {
    "duration": 39,
    "start_time": "2022-08-06T09:36:46.886Z"
   },
   {
    "duration": 17,
    "start_time": "2022-08-06T09:36:46.926Z"
   },
   {
    "duration": 4,
    "start_time": "2022-08-06T09:36:46.945Z"
   },
   {
    "duration": 6,
    "start_time": "2022-08-06T09:36:46.951Z"
   },
   {
    "duration": 6,
    "start_time": "2022-08-06T09:36:46.958Z"
   },
   {
    "duration": 194,
    "start_time": "2022-08-06T09:36:46.965Z"
   },
   {
    "duration": 109,
    "start_time": "2022-08-06T09:36:47.160Z"
   },
   {
    "duration": 101,
    "start_time": "2022-08-06T09:36:47.271Z"
   },
   {
    "duration": 456,
    "start_time": "2022-08-06T09:36:47.375Z"
   },
   {
    "duration": 668,
    "start_time": "2022-08-06T09:36:47.833Z"
   },
   {
    "duration": 5,
    "start_time": "2022-08-06T09:36:48.503Z"
   },
   {
    "duration": 4,
    "start_time": "2022-08-06T09:36:48.509Z"
   },
   {
    "duration": 2528,
    "start_time": "2022-08-06T09:36:48.514Z"
   },
   {
    "duration": 4446,
    "start_time": "2022-08-06T09:36:51.044Z"
   },
   {
    "duration": 114448,
    "start_time": "2022-08-06T09:36:55.492Z"
   },
   {
    "duration": 0,
    "start_time": "2022-08-06T09:38:49.942Z"
   },
   {
    "duration": 0,
    "start_time": "2022-08-06T09:38:49.943Z"
   },
   {
    "duration": 0,
    "start_time": "2022-08-06T09:38:49.955Z"
   },
   {
    "duration": 0,
    "start_time": "2022-08-06T09:38:49.955Z"
   },
   {
    "duration": 0,
    "start_time": "2022-08-06T09:38:49.956Z"
   },
   {
    "duration": 0,
    "start_time": "2022-08-06T09:38:49.960Z"
   },
   {
    "duration": 0,
    "start_time": "2022-08-06T09:38:49.961Z"
   },
   {
    "duration": 0,
    "start_time": "2022-08-06T09:38:49.962Z"
   },
   {
    "duration": 0,
    "start_time": "2022-08-06T09:38:49.964Z"
   },
   {
    "duration": 0,
    "start_time": "2022-08-06T09:38:49.965Z"
   },
   {
    "duration": 0,
    "start_time": "2022-08-06T09:38:49.966Z"
   },
   {
    "duration": 0,
    "start_time": "2022-08-06T09:38:49.967Z"
   },
   {
    "duration": 0,
    "start_time": "2022-08-06T09:38:49.968Z"
   },
   {
    "duration": 0,
    "start_time": "2022-08-06T09:38:49.969Z"
   },
   {
    "duration": 0,
    "start_time": "2022-08-06T09:38:49.971Z"
   },
   {
    "duration": 441,
    "start_time": "2022-08-06T09:39:21.915Z"
   },
   {
    "duration": 3,
    "start_time": "2022-08-06T09:39:35.858Z"
   },
   {
    "duration": 267,
    "start_time": "2022-08-06T09:39:38.056Z"
   },
   {
    "duration": 123,
    "start_time": "2022-08-06T09:39:38.642Z"
   },
   {
    "duration": 2525,
    "start_time": "2022-08-06T09:39:39.219Z"
   },
   {
    "duration": 3281,
    "start_time": "2022-08-06T09:39:41.746Z"
   },
   {
    "duration": 700,
    "start_time": "2022-08-06T09:39:45.029Z"
   },
   {
    "duration": 4633,
    "start_time": "2022-08-06T09:39:45.731Z"
   },
   {
    "duration": 1191,
    "start_time": "2022-08-06T09:39:50.366Z"
   },
   {
    "duration": 7305,
    "start_time": "2022-08-06T09:39:51.559Z"
   },
   {
    "duration": 287,
    "start_time": "2022-08-06T09:39:58.866Z"
   },
   {
    "duration": 75,
    "start_time": "2022-08-06T09:39:59.155Z"
   },
   {
    "duration": 393,
    "start_time": "2022-08-06T09:39:59.232Z"
   },
   {
    "duration": 808,
    "start_time": "2022-08-06T09:39:59.627Z"
   },
   {
    "duration": 239,
    "start_time": "2022-08-06T09:40:00.436Z"
   },
   {
    "duration": 1312,
    "start_time": "2022-08-06T09:40:00.676Z"
   },
   {
    "duration": 346,
    "start_time": "2022-08-06T09:41:35.358Z"
   },
   {
    "duration": 86,
    "start_time": "2022-08-06T09:41:40.922Z"
   },
   {
    "duration": 309,
    "start_time": "2022-08-06T09:41:46.177Z"
   },
   {
    "duration": 4548,
    "start_time": "2022-08-06T09:42:14.313Z"
   },
   {
    "duration": 253,
    "start_time": "2022-08-06T09:42:42.568Z"
   },
   {
    "duration": 80,
    "start_time": "2022-08-06T09:42:47.102Z"
   },
   {
    "duration": 353,
    "start_time": "2022-08-06T09:42:53.043Z"
   },
   {
    "duration": 705,
    "start_time": "2022-08-06T09:43:05.775Z"
   },
   {
    "duration": 204,
    "start_time": "2022-08-06T09:43:11.145Z"
   },
   {
    "duration": 1218,
    "start_time": "2022-08-06T09:43:16.581Z"
   },
   {
    "duration": 501,
    "start_time": "2022-08-06T09:44:36.161Z"
   },
   {
    "duration": 482,
    "start_time": "2022-08-06T09:44:54.774Z"
   },
   {
    "duration": 667,
    "start_time": "2022-08-06T09:44:59.146Z"
   },
   {
    "duration": 457,
    "start_time": "2022-08-06T09:45:00.508Z"
   },
   {
    "duration": 5,
    "start_time": "2022-08-06T09:47:27.161Z"
   },
   {
    "duration": 150002,
    "start_time": "2022-08-06T09:47:33.265Z"
   },
   {
    "duration": 687,
    "start_time": "2022-08-06T09:50:03.269Z"
   },
   {
    "duration": 3236,
    "start_time": "2022-08-06T09:51:27.042Z"
   },
   {
    "duration": 38,
    "start_time": "2022-08-06T09:51:30.279Z"
   },
   {
    "duration": 19,
    "start_time": "2022-08-06T09:51:30.319Z"
   },
   {
    "duration": 5,
    "start_time": "2022-08-06T09:51:30.340Z"
   },
   {
    "duration": 8,
    "start_time": "2022-08-06T09:51:30.347Z"
   },
   {
    "duration": 4,
    "start_time": "2022-08-06T09:51:30.356Z"
   },
   {
    "duration": 211,
    "start_time": "2022-08-06T09:51:30.361Z"
   },
   {
    "duration": 114,
    "start_time": "2022-08-06T09:51:30.574Z"
   },
   {
    "duration": 97,
    "start_time": "2022-08-06T09:51:30.689Z"
   },
   {
    "duration": 429,
    "start_time": "2022-08-06T09:51:30.788Z"
   },
   {
    "duration": 450,
    "start_time": "2022-08-06T09:51:31.219Z"
   },
   {
    "duration": 757,
    "start_time": "2022-08-06T09:51:31.756Z"
   },
   {
    "duration": 455,
    "start_time": "2022-08-06T09:51:32.514Z"
   },
   {
    "duration": 90,
    "start_time": "2022-08-06T09:51:32.972Z"
   },
   {
    "duration": 102,
    "start_time": "2022-08-06T09:51:33.064Z"
   },
   {
    "duration": 2511,
    "start_time": "2022-08-06T09:51:33.168Z"
   },
   {
    "duration": 4646,
    "start_time": "2022-08-06T09:51:35.680Z"
   },
   {
    "duration": 528,
    "start_time": "2022-08-06T09:51:40.328Z"
   },
   {
    "duration": 167571,
    "start_time": "2022-08-06T09:51:40.858Z"
   },
   {
    "duration": 0,
    "start_time": "2022-08-06T09:54:28.431Z"
   },
   {
    "duration": 0,
    "start_time": "2022-08-06T09:54:28.433Z"
   },
   {
    "duration": 0,
    "start_time": "2022-08-06T09:54:28.434Z"
   },
   {
    "duration": 0,
    "start_time": "2022-08-06T09:54:28.435Z"
   },
   {
    "duration": 0,
    "start_time": "2022-08-06T09:54:28.455Z"
   },
   {
    "duration": 0,
    "start_time": "2022-08-06T09:54:28.457Z"
   },
   {
    "duration": 0,
    "start_time": "2022-08-06T09:54:28.458Z"
   },
   {
    "duration": 0,
    "start_time": "2022-08-06T09:54:28.459Z"
   },
   {
    "duration": 0,
    "start_time": "2022-08-06T09:54:28.463Z"
   },
   {
    "duration": 0,
    "start_time": "2022-08-06T09:54:28.464Z"
   },
   {
    "duration": 0,
    "start_time": "2022-08-06T09:54:28.466Z"
   },
   {
    "duration": 0,
    "start_time": "2022-08-06T09:54:28.467Z"
   },
   {
    "duration": 0,
    "start_time": "2022-08-06T09:54:28.469Z"
   },
   {
    "duration": 0,
    "start_time": "2022-08-06T09:54:28.470Z"
   },
   {
    "duration": 0,
    "start_time": "2022-08-06T09:54:28.471Z"
   },
   {
    "duration": 158786,
    "start_time": "2022-08-06T09:54:55.277Z"
   },
   {
    "duration": 158087,
    "start_time": "2022-08-06T10:03:19.585Z"
   },
   {
    "duration": 157660,
    "start_time": "2022-08-06T10:08:22.712Z"
   },
   {
    "duration": 3188,
    "start_time": "2022-08-06T10:14:42.451Z"
   },
   {
    "duration": 41,
    "start_time": "2022-08-06T10:14:45.641Z"
   },
   {
    "duration": 17,
    "start_time": "2022-08-06T10:14:45.684Z"
   },
   {
    "duration": 5,
    "start_time": "2022-08-06T10:14:45.703Z"
   },
   {
    "duration": 5,
    "start_time": "2022-08-06T10:14:45.709Z"
   },
   {
    "duration": 37,
    "start_time": "2022-08-06T10:14:45.716Z"
   },
   {
    "duration": 222,
    "start_time": "2022-08-06T10:14:45.756Z"
   },
   {
    "duration": 119,
    "start_time": "2022-08-06T10:14:45.980Z"
   },
   {
    "duration": 97,
    "start_time": "2022-08-06T10:14:46.101Z"
   },
   {
    "duration": 428,
    "start_time": "2022-08-06T10:14:46.200Z"
   },
   {
    "duration": 544,
    "start_time": "2022-08-06T10:14:46.630Z"
   },
   {
    "duration": 807,
    "start_time": "2022-08-06T10:14:47.175Z"
   },
   {
    "duration": 393,
    "start_time": "2022-08-06T10:14:47.984Z"
   },
   {
    "duration": 6,
    "start_time": "2022-08-06T10:14:48.457Z"
   },
   {
    "duration": 111,
    "start_time": "2022-08-06T10:14:48.467Z"
   },
   {
    "duration": 2608,
    "start_time": "2022-08-06T10:14:48.580Z"
   },
   {
    "duration": 4490,
    "start_time": "2022-08-06T10:14:51.189Z"
   },
   {
    "duration": 473,
    "start_time": "2022-08-06T10:14:55.681Z"
   },
   {
    "duration": 583698,
    "start_time": "2022-08-06T10:14:56.158Z"
   },
   {
    "duration": 361,
    "start_time": "2022-08-06T10:24:39.859Z"
   },
   {
    "duration": 133,
    "start_time": "2022-08-06T10:24:40.222Z"
   },
   {
    "duration": 2656,
    "start_time": "2022-08-06T10:24:40.359Z"
   },
   {
    "duration": 3551,
    "start_time": "2022-08-06T10:24:43.016Z"
   },
   {
    "duration": 820,
    "start_time": "2022-08-06T10:24:46.570Z"
   },
   {
    "duration": 4665,
    "start_time": "2022-08-06T10:24:47.392Z"
   },
   {
    "duration": 1241,
    "start_time": "2022-08-06T10:24:52.059Z"
   },
   {
    "duration": 8099,
    "start_time": "2022-08-06T10:24:53.302Z"
   },
   {
    "duration": 655161,
    "start_time": "2022-08-06T10:25:01.404Z"
   },
   {
    "duration": 211001,
    "start_time": "2022-08-06T10:35:56.566Z"
   },
   {
    "duration": 772693,
    "start_time": "2022-08-06T10:39:27.569Z"
   },
   {
    "duration": 422,
    "start_time": "2022-08-06T10:52:20.264Z"
   },
   {
    "duration": 80,
    "start_time": "2022-08-06T10:52:20.688Z"
   },
   {
    "duration": 347,
    "start_time": "2022-08-06T10:52:20.770Z"
   },
   {
    "duration": 667,
    "start_time": "2022-08-06T10:52:21.119Z"
   },
   {
    "duration": 190,
    "start_time": "2022-08-06T10:52:21.788Z"
   },
   {
    "duration": 1238,
    "start_time": "2022-08-06T10:52:21.979Z"
   },
   {
    "duration": 2,
    "start_time": "2022-08-06T10:52:23.219Z"
   },
   {
    "duration": 314607,
    "start_time": "2022-08-06T10:55:35.849Z"
   },
   {
    "duration": 403,
    "start_time": "2022-08-06T11:00:50.458Z"
   },
   {
    "duration": 359095,
    "start_time": "2022-08-06T11:00:50.865Z"
   },
   {
    "duration": 372,
    "start_time": "2022-08-06T11:06:49.962Z"
   },
   {
    "duration": 0,
    "start_time": "2022-08-06T11:06:50.335Z"
   },
   {
    "duration": 0,
    "start_time": "2022-08-06T11:06:50.336Z"
   },
   {
    "duration": 2127,
    "start_time": "2022-08-06T11:09:25.135Z"
   },
   {
    "duration": 315,
    "start_time": "2022-08-06T11:09:37.922Z"
   },
   {
    "duration": 5,
    "start_time": "2022-08-06T11:09:41.416Z"
   },
   {
    "duration": 260,
    "start_time": "2022-08-06T11:11:29.979Z"
   },
   {
    "duration": 6,
    "start_time": "2022-08-06T11:11:32.033Z"
   },
   {
    "duration": 6,
    "start_time": "2022-08-06T11:11:44.620Z"
   },
   {
    "duration": 86,
    "start_time": "2022-08-06T11:21:39.506Z"
   },
   {
    "duration": 1098,
    "start_time": "2022-08-06T11:21:56.168Z"
   },
   {
    "duration": 100,
    "start_time": "2022-08-06T11:22:01.189Z"
   },
   {
    "duration": 674,
    "start_time": "2022-08-06T11:22:04.567Z"
   },
   {
    "duration": 139,
    "start_time": "2022-08-06T11:23:13.063Z"
   },
   {
    "duration": 80,
    "start_time": "2022-08-06T17:18:04.078Z"
   },
   {
    "duration": 42,
    "start_time": "2022-08-06T17:18:10.940Z"
   },
   {
    "duration": 5354,
    "start_time": "2022-08-06T17:28:09.869Z"
   },
   {
    "duration": 149,
    "start_time": "2022-08-06T17:28:15.225Z"
   },
   {
    "duration": 18,
    "start_time": "2022-08-06T17:28:15.375Z"
   },
   {
    "duration": 4,
    "start_time": "2022-08-06T17:28:15.395Z"
   },
   {
    "duration": 4,
    "start_time": "2022-08-06T17:28:15.401Z"
   },
   {
    "duration": 6,
    "start_time": "2022-08-06T17:28:15.406Z"
   },
   {
    "duration": 204,
    "start_time": "2022-08-06T17:28:15.413Z"
   },
   {
    "duration": 111,
    "start_time": "2022-08-06T17:28:15.618Z"
   },
   {
    "duration": 102,
    "start_time": "2022-08-06T17:28:15.731Z"
   },
   {
    "duration": 0,
    "start_time": "2022-08-06T17:28:15.837Z"
   },
   {
    "duration": 0,
    "start_time": "2022-08-06T17:28:15.838Z"
   },
   {
    "duration": 0,
    "start_time": "2022-08-06T17:28:15.840Z"
   },
   {
    "duration": 0,
    "start_time": "2022-08-06T17:28:15.841Z"
   },
   {
    "duration": 0,
    "start_time": "2022-08-06T17:28:15.855Z"
   },
   {
    "duration": 0,
    "start_time": "2022-08-06T17:28:15.856Z"
   },
   {
    "duration": 0,
    "start_time": "2022-08-06T17:28:15.858Z"
   },
   {
    "duration": 0,
    "start_time": "2022-08-06T17:28:15.859Z"
   },
   {
    "duration": 0,
    "start_time": "2022-08-06T17:28:15.860Z"
   },
   {
    "duration": 0,
    "start_time": "2022-08-06T17:28:15.862Z"
   },
   {
    "duration": 0,
    "start_time": "2022-08-06T17:28:15.863Z"
   },
   {
    "duration": 0,
    "start_time": "2022-08-06T17:28:15.864Z"
   },
   {
    "duration": 0,
    "start_time": "2022-08-06T17:28:15.866Z"
   },
   {
    "duration": 0,
    "start_time": "2022-08-06T17:28:15.867Z"
   },
   {
    "duration": 0,
    "start_time": "2022-08-06T17:28:15.868Z"
   },
   {
    "duration": 0,
    "start_time": "2022-08-06T17:28:15.869Z"
   },
   {
    "duration": 0,
    "start_time": "2022-08-06T17:28:15.870Z"
   },
   {
    "duration": 0,
    "start_time": "2022-08-06T17:28:15.872Z"
   },
   {
    "duration": 0,
    "start_time": "2022-08-06T17:28:15.873Z"
   },
   {
    "duration": 0,
    "start_time": "2022-08-06T17:28:15.874Z"
   },
   {
    "duration": 0,
    "start_time": "2022-08-06T17:28:15.876Z"
   },
   {
    "duration": 0,
    "start_time": "2022-08-06T17:28:15.877Z"
   },
   {
    "duration": 0,
    "start_time": "2022-08-06T17:28:15.878Z"
   },
   {
    "duration": 0,
    "start_time": "2022-08-06T17:28:15.880Z"
   },
   {
    "duration": 0,
    "start_time": "2022-08-06T17:28:15.881Z"
   },
   {
    "duration": 0,
    "start_time": "2022-08-06T17:28:15.882Z"
   },
   {
    "duration": 0,
    "start_time": "2022-08-06T17:28:15.884Z"
   },
   {
    "duration": 0,
    "start_time": "2022-08-06T17:28:15.885Z"
   },
   {
    "duration": 72,
    "start_time": "2022-08-06T17:29:10.503Z"
   },
   {
    "duration": 24,
    "start_time": "2022-08-06T17:30:08.386Z"
   },
   {
    "duration": 11,
    "start_time": "2022-08-06T17:31:00.195Z"
   },
   {
    "duration": 15,
    "start_time": "2022-08-06T17:31:27.664Z"
   },
   {
    "duration": 3016,
    "start_time": "2022-08-06T17:32:08.609Z"
   },
   {
    "duration": 40,
    "start_time": "2022-08-06T17:32:11.626Z"
   },
   {
    "duration": 17,
    "start_time": "2022-08-06T17:32:11.667Z"
   },
   {
    "duration": 5,
    "start_time": "2022-08-06T17:32:11.686Z"
   },
   {
    "duration": 4,
    "start_time": "2022-08-06T17:32:11.692Z"
   },
   {
    "duration": 7,
    "start_time": "2022-08-06T17:32:11.697Z"
   },
   {
    "duration": 206,
    "start_time": "2022-08-06T17:32:11.705Z"
   },
   {
    "duration": 110,
    "start_time": "2022-08-06T17:32:11.912Z"
   },
   {
    "duration": 108,
    "start_time": "2022-08-06T17:32:12.024Z"
   },
   {
    "duration": 0,
    "start_time": "2022-08-06T17:32:12.136Z"
   },
   {
    "duration": 0,
    "start_time": "2022-08-06T17:32:12.137Z"
   },
   {
    "duration": 0,
    "start_time": "2022-08-06T17:32:12.138Z"
   },
   {
    "duration": 0,
    "start_time": "2022-08-06T17:32:12.139Z"
   },
   {
    "duration": 0,
    "start_time": "2022-08-06T17:32:12.140Z"
   },
   {
    "duration": 0,
    "start_time": "2022-08-06T17:32:12.141Z"
   },
   {
    "duration": 0,
    "start_time": "2022-08-06T17:32:12.142Z"
   },
   {
    "duration": 0,
    "start_time": "2022-08-06T17:32:12.143Z"
   },
   {
    "duration": 0,
    "start_time": "2022-08-06T17:32:12.154Z"
   },
   {
    "duration": 0,
    "start_time": "2022-08-06T17:32:12.155Z"
   },
   {
    "duration": 0,
    "start_time": "2022-08-06T17:32:12.156Z"
   },
   {
    "duration": 0,
    "start_time": "2022-08-06T17:32:12.157Z"
   },
   {
    "duration": 0,
    "start_time": "2022-08-06T17:32:12.157Z"
   },
   {
    "duration": 0,
    "start_time": "2022-08-06T17:32:12.158Z"
   },
   {
    "duration": 0,
    "start_time": "2022-08-06T17:32:12.159Z"
   },
   {
    "duration": 0,
    "start_time": "2022-08-06T17:32:12.160Z"
   },
   {
    "duration": 0,
    "start_time": "2022-08-06T17:32:12.161Z"
   },
   {
    "duration": 0,
    "start_time": "2022-08-06T17:32:12.162Z"
   },
   {
    "duration": 0,
    "start_time": "2022-08-06T17:32:12.164Z"
   },
   {
    "duration": 0,
    "start_time": "2022-08-06T17:32:12.165Z"
   },
   {
    "duration": 0,
    "start_time": "2022-08-06T17:32:12.166Z"
   },
   {
    "duration": 0,
    "start_time": "2022-08-06T17:32:12.167Z"
   },
   {
    "duration": 0,
    "start_time": "2022-08-06T17:32:12.169Z"
   },
   {
    "duration": 0,
    "start_time": "2022-08-06T17:32:12.170Z"
   },
   {
    "duration": 0,
    "start_time": "2022-08-06T17:32:12.171Z"
   },
   {
    "duration": 0,
    "start_time": "2022-08-06T17:32:12.172Z"
   },
   {
    "duration": 0,
    "start_time": "2022-08-06T17:32:12.174Z"
   },
   {
    "duration": 0,
    "start_time": "2022-08-06T17:32:12.174Z"
   },
   {
    "duration": 186,
    "start_time": "2022-08-06T17:33:03.739Z"
   },
   {
    "duration": 77,
    "start_time": "2022-08-06T17:33:56.431Z"
   },
   {
    "duration": 13,
    "start_time": "2022-08-06T17:34:04.409Z"
   },
   {
    "duration": 9,
    "start_time": "2022-08-06T17:34:19.083Z"
   },
   {
    "duration": 14,
    "start_time": "2022-08-06T17:35:28.646Z"
   },
   {
    "duration": 3714,
    "start_time": "2022-08-06T17:35:48.689Z"
   },
   {
    "duration": 40,
    "start_time": "2022-08-06T17:35:52.405Z"
   },
   {
    "duration": 18,
    "start_time": "2022-08-06T17:35:52.446Z"
   },
   {
    "duration": 5,
    "start_time": "2022-08-06T17:35:52.467Z"
   },
   {
    "duration": 12,
    "start_time": "2022-08-06T17:35:52.473Z"
   },
   {
    "duration": 7,
    "start_time": "2022-08-06T17:35:52.486Z"
   },
   {
    "duration": 20,
    "start_time": "2022-08-06T17:35:52.495Z"
   },
   {
    "duration": 19,
    "start_time": "2022-08-06T17:35:52.517Z"
   },
   {
    "duration": 268,
    "start_time": "2022-08-06T17:35:52.538Z"
   },
   {
    "duration": 0,
    "start_time": "2022-08-06T17:35:52.809Z"
   },
   {
    "duration": 0,
    "start_time": "2022-08-06T17:35:52.810Z"
   },
   {
    "duration": 0,
    "start_time": "2022-08-06T17:35:52.812Z"
   },
   {
    "duration": 0,
    "start_time": "2022-08-06T17:35:52.813Z"
   },
   {
    "duration": 0,
    "start_time": "2022-08-06T17:35:52.814Z"
   },
   {
    "duration": 0,
    "start_time": "2022-08-06T17:35:52.816Z"
   },
   {
    "duration": 0,
    "start_time": "2022-08-06T17:35:52.817Z"
   },
   {
    "duration": 0,
    "start_time": "2022-08-06T17:35:52.818Z"
   },
   {
    "duration": 0,
    "start_time": "2022-08-06T17:35:52.820Z"
   },
   {
    "duration": 0,
    "start_time": "2022-08-06T17:35:52.821Z"
   },
   {
    "duration": 0,
    "start_time": "2022-08-06T17:35:52.822Z"
   },
   {
    "duration": 0,
    "start_time": "2022-08-06T17:35:52.824Z"
   },
   {
    "duration": 0,
    "start_time": "2022-08-06T17:35:52.825Z"
   },
   {
    "duration": 0,
    "start_time": "2022-08-06T17:35:52.826Z"
   },
   {
    "duration": 0,
    "start_time": "2022-08-06T17:35:52.828Z"
   },
   {
    "duration": 0,
    "start_time": "2022-08-06T17:35:52.829Z"
   },
   {
    "duration": 0,
    "start_time": "2022-08-06T17:35:52.830Z"
   },
   {
    "duration": 0,
    "start_time": "2022-08-06T17:35:52.831Z"
   },
   {
    "duration": 0,
    "start_time": "2022-08-06T17:35:52.832Z"
   },
   {
    "duration": 0,
    "start_time": "2022-08-06T17:35:52.833Z"
   },
   {
    "duration": 0,
    "start_time": "2022-08-06T17:35:52.834Z"
   },
   {
    "duration": 0,
    "start_time": "2022-08-06T17:35:52.836Z"
   },
   {
    "duration": 0,
    "start_time": "2022-08-06T17:35:52.837Z"
   },
   {
    "duration": 0,
    "start_time": "2022-08-06T17:35:52.838Z"
   },
   {
    "duration": 0,
    "start_time": "2022-08-06T17:35:52.839Z"
   },
   {
    "duration": 0,
    "start_time": "2022-08-06T17:35:52.840Z"
   },
   {
    "duration": 0,
    "start_time": "2022-08-06T17:35:52.841Z"
   },
   {
    "duration": 0,
    "start_time": "2022-08-06T17:35:52.842Z"
   },
   {
    "duration": 0,
    "start_time": "2022-08-06T17:35:52.843Z"
   },
   {
    "duration": 90,
    "start_time": "2022-08-06T17:36:49.644Z"
   },
   {
    "duration": 95,
    "start_time": "2022-08-06T17:37:06.501Z"
   },
   {
    "duration": 98,
    "start_time": "2022-08-06T17:37:17.854Z"
   },
   {
    "duration": 97,
    "start_time": "2022-08-06T17:37:21.225Z"
   },
   {
    "duration": 2,
    "start_time": "2022-08-06T17:37:31.218Z"
   },
   {
    "duration": 16,
    "start_time": "2022-08-06T17:37:33.148Z"
   },
   {
    "duration": 8,
    "start_time": "2022-08-06T17:37:34.289Z"
   },
   {
    "duration": 4,
    "start_time": "2022-08-06T17:37:45.099Z"
   },
   {
    "duration": 9,
    "start_time": "2022-08-06T17:37:46.085Z"
   },
   {
    "duration": 11,
    "start_time": "2022-08-06T17:37:47.398Z"
   },
   {
    "duration": 5,
    "start_time": "2022-08-06T17:37:51.218Z"
   },
   {
    "duration": 146,
    "start_time": "2022-08-06T17:37:52.367Z"
   },
   {
    "duration": 387,
    "start_time": "2022-08-06T17:37:54.563Z"
   },
   {
    "duration": 430,
    "start_time": "2022-08-06T17:38:34.203Z"
   },
   {
    "duration": 11647,
    "start_time": "2022-08-06T17:39:01.213Z"
   },
   {
    "duration": 451,
    "start_time": "2022-08-06T17:40:45.616Z"
   },
   {
    "duration": 435,
    "start_time": "2022-08-06T17:41:09.665Z"
   },
   {
    "duration": 28,
    "start_time": "2022-08-06T17:42:42.181Z"
   },
   {
    "duration": 25,
    "start_time": "2022-08-06T17:42:59.165Z"
   },
   {
    "duration": 24,
    "start_time": "2022-08-06T17:43:15.649Z"
   },
   {
    "duration": 25,
    "start_time": "2022-08-06T17:44:04.118Z"
   },
   {
    "duration": 3131,
    "start_time": "2022-08-06T17:44:14.760Z"
   },
   {
    "duration": 40,
    "start_time": "2022-08-06T17:44:17.893Z"
   },
   {
    "duration": 17,
    "start_time": "2022-08-06T17:44:17.934Z"
   },
   {
    "duration": 3,
    "start_time": "2022-08-06T17:44:17.953Z"
   },
   {
    "duration": 6,
    "start_time": "2022-08-06T17:44:17.957Z"
   },
   {
    "duration": 5,
    "start_time": "2022-08-06T17:44:17.965Z"
   },
   {
    "duration": 9,
    "start_time": "2022-08-06T17:44:17.971Z"
   },
   {
    "duration": 11,
    "start_time": "2022-08-06T17:44:17.982Z"
   },
   {
    "duration": 2,
    "start_time": "2022-08-06T17:44:17.994Z"
   },
   {
    "duration": 6,
    "start_time": "2022-08-06T17:44:17.998Z"
   },
   {
    "duration": 7,
    "start_time": "2022-08-06T17:44:18.006Z"
   },
   {
    "duration": 8,
    "start_time": "2022-08-06T17:44:18.015Z"
   },
   {
    "duration": 33,
    "start_time": "2022-08-06T17:44:18.024Z"
   },
   {
    "duration": 155,
    "start_time": "2022-08-06T17:44:18.059Z"
   },
   {
    "duration": 122,
    "start_time": "2022-08-06T17:44:18.216Z"
   },
   {
    "duration": 0,
    "start_time": "2022-08-06T17:44:18.341Z"
   },
   {
    "duration": 0,
    "start_time": "2022-08-06T17:44:18.342Z"
   },
   {
    "duration": 0,
    "start_time": "2022-08-06T17:44:18.344Z"
   },
   {
    "duration": 0,
    "start_time": "2022-08-06T17:44:18.355Z"
   },
   {
    "duration": 0,
    "start_time": "2022-08-06T17:44:18.356Z"
   },
   {
    "duration": 0,
    "start_time": "2022-08-06T17:44:18.356Z"
   },
   {
    "duration": 0,
    "start_time": "2022-08-06T17:44:18.357Z"
   },
   {
    "duration": 0,
    "start_time": "2022-08-06T17:44:18.358Z"
   },
   {
    "duration": 0,
    "start_time": "2022-08-06T17:44:18.360Z"
   },
   {
    "duration": 0,
    "start_time": "2022-08-06T17:44:18.361Z"
   },
   {
    "duration": 0,
    "start_time": "2022-08-06T17:44:18.362Z"
   },
   {
    "duration": 0,
    "start_time": "2022-08-06T17:44:18.363Z"
   },
   {
    "duration": 0,
    "start_time": "2022-08-06T17:44:18.364Z"
   },
   {
    "duration": 0,
    "start_time": "2022-08-06T17:44:18.365Z"
   },
   {
    "duration": 0,
    "start_time": "2022-08-06T17:44:18.366Z"
   },
   {
    "duration": 0,
    "start_time": "2022-08-06T17:44:18.367Z"
   },
   {
    "duration": 0,
    "start_time": "2022-08-06T17:44:18.368Z"
   },
   {
    "duration": 0,
    "start_time": "2022-08-06T17:44:18.369Z"
   },
   {
    "duration": 0,
    "start_time": "2022-08-06T17:44:18.370Z"
   },
   {
    "duration": 0,
    "start_time": "2022-08-06T17:44:18.371Z"
   },
   {
    "duration": 0,
    "start_time": "2022-08-06T17:44:18.372Z"
   },
   {
    "duration": 0,
    "start_time": "2022-08-06T17:44:18.373Z"
   },
   {
    "duration": 0,
    "start_time": "2022-08-06T17:44:18.374Z"
   },
   {
    "duration": 23,
    "start_time": "2022-08-06T18:35:03.522Z"
   },
   {
    "duration": 24,
    "start_time": "2022-08-06T18:35:20.520Z"
   },
   {
    "duration": 24,
    "start_time": "2022-08-06T18:35:53.874Z"
   },
   {
    "duration": 25,
    "start_time": "2022-08-06T18:36:02.671Z"
   },
   {
    "duration": 23,
    "start_time": "2022-08-06T18:36:06.499Z"
   },
   {
    "duration": 3148,
    "start_time": "2022-08-06T18:36:16.730Z"
   },
   {
    "duration": 39,
    "start_time": "2022-08-06T18:36:19.880Z"
   },
   {
    "duration": 18,
    "start_time": "2022-08-06T18:36:19.920Z"
   },
   {
    "duration": 4,
    "start_time": "2022-08-06T18:36:19.939Z"
   },
   {
    "duration": 5,
    "start_time": "2022-08-06T18:36:19.944Z"
   },
   {
    "duration": 5,
    "start_time": "2022-08-06T18:36:19.951Z"
   },
   {
    "duration": 9,
    "start_time": "2022-08-06T18:36:19.957Z"
   },
   {
    "duration": 13,
    "start_time": "2022-08-06T18:36:19.967Z"
   },
   {
    "duration": 2,
    "start_time": "2022-08-06T18:36:19.981Z"
   },
   {
    "duration": 8,
    "start_time": "2022-08-06T18:36:19.985Z"
   },
   {
    "duration": 11,
    "start_time": "2022-08-06T18:36:19.994Z"
   },
   {
    "duration": 8,
    "start_time": "2022-08-06T18:36:20.007Z"
   },
   {
    "duration": 5,
    "start_time": "2022-08-06T18:36:20.016Z"
   },
   {
    "duration": 178,
    "start_time": "2022-08-06T18:36:20.022Z"
   },
   {
    "duration": 480,
    "start_time": "2022-08-06T18:36:20.202Z"
   },
   {
    "duration": 13378,
    "start_time": "2022-08-06T18:36:20.683Z"
   },
   {
    "duration": 100,
    "start_time": "2022-08-06T18:36:34.155Z"
   },
   {
    "duration": 13,
    "start_time": "2022-08-06T18:36:34.257Z"
   },
   {
    "duration": 83,
    "start_time": "2022-08-06T18:36:34.272Z"
   },
   {
    "duration": 0,
    "start_time": "2022-08-06T18:36:34.357Z"
   },
   {
    "duration": 0,
    "start_time": "2022-08-06T18:36:34.358Z"
   },
   {
    "duration": 0,
    "start_time": "2022-08-06T18:36:34.360Z"
   },
   {
    "duration": 1,
    "start_time": "2022-08-06T18:36:34.361Z"
   },
   {
    "duration": 0,
    "start_time": "2022-08-06T18:36:34.363Z"
   },
   {
    "duration": 0,
    "start_time": "2022-08-06T18:36:34.364Z"
   },
   {
    "duration": 0,
    "start_time": "2022-08-06T18:36:34.366Z"
   },
   {
    "duration": 0,
    "start_time": "2022-08-06T18:36:34.367Z"
   },
   {
    "duration": 0,
    "start_time": "2022-08-06T18:36:34.368Z"
   },
   {
    "duration": 0,
    "start_time": "2022-08-06T18:36:34.370Z"
   },
   {
    "duration": 0,
    "start_time": "2022-08-06T18:36:34.371Z"
   },
   {
    "duration": 0,
    "start_time": "2022-08-06T18:36:34.373Z"
   },
   {
    "duration": 0,
    "start_time": "2022-08-06T18:36:34.374Z"
   },
   {
    "duration": 0,
    "start_time": "2022-08-06T18:36:34.375Z"
   },
   {
    "duration": 0,
    "start_time": "2022-08-06T18:36:34.376Z"
   },
   {
    "duration": 0,
    "start_time": "2022-08-06T18:36:34.377Z"
   },
   {
    "duration": 0,
    "start_time": "2022-08-06T18:36:34.379Z"
   },
   {
    "duration": 0,
    "start_time": "2022-08-06T18:36:34.380Z"
   },
   {
    "duration": 0,
    "start_time": "2022-08-06T18:36:34.381Z"
   },
   {
    "duration": 447,
    "start_time": "2022-08-06T18:37:12.169Z"
   },
   {
    "duration": 165,
    "start_time": "2022-08-06T18:38:52.955Z"
   },
   {
    "duration": 492,
    "start_time": "2022-08-06T18:41:14.942Z"
   },
   {
    "duration": 453,
    "start_time": "2022-08-06T18:41:49.370Z"
   },
   {
    "duration": 166,
    "start_time": "2022-08-06T18:42:57.611Z"
   },
   {
    "duration": 168,
    "start_time": "2022-08-06T18:44:34.156Z"
   },
   {
    "duration": 168,
    "start_time": "2022-08-06T18:44:58.750Z"
   },
   {
    "duration": 183,
    "start_time": "2022-08-06T18:47:11.934Z"
   },
   {
    "duration": 81,
    "start_time": "2022-08-06T18:48:49.586Z"
   },
   {
    "duration": 437,
    "start_time": "2022-08-06T18:50:56.077Z"
   },
   {
    "duration": 439,
    "start_time": "2022-08-06T18:52:34.535Z"
   },
   {
    "duration": 72,
    "start_time": "2022-08-06T18:52:59.578Z"
   },
   {
    "duration": 221,
    "start_time": "2022-08-06T18:53:37.007Z"
   },
   {
    "duration": 195,
    "start_time": "2022-08-06T18:54:33.397Z"
   },
   {
    "duration": 74,
    "start_time": "2022-08-06T18:54:35.094Z"
   },
   {
    "duration": 472,
    "start_time": "2022-08-06T18:54:41.773Z"
   },
   {
    "duration": 559,
    "start_time": "2022-08-06T18:55:17.154Z"
   },
   {
    "duration": 6189,
    "start_time": "2022-08-06T18:56:05.537Z"
   },
   {
    "duration": 10465,
    "start_time": "2022-08-06T18:56:31.690Z"
   },
   {
    "duration": 5684,
    "start_time": "2022-08-06T18:57:05.075Z"
   },
   {
    "duration": 10907,
    "start_time": "2022-08-06T18:57:10.761Z"
   },
   {
    "duration": 20,
    "start_time": "2022-08-06T18:57:52.463Z"
   },
   {
    "duration": 13,
    "start_time": "2022-08-06T18:57:53.000Z"
   },
   {
    "duration": 23,
    "start_time": "2022-08-06T18:57:53.510Z"
   },
   {
    "duration": 70,
    "start_time": "2022-08-06T18:57:53.942Z"
   },
   {
    "duration": 19,
    "start_time": "2022-08-06T18:57:54.411Z"
   },
   {
    "duration": 81,
    "start_time": "2022-08-06T18:57:54.866Z"
   },
   {
    "duration": 6758,
    "start_time": "2022-08-06T18:57:55.300Z"
   },
   {
    "duration": 118,
    "start_time": "2022-08-06T18:58:02.061Z"
   },
   {
    "duration": 8904,
    "start_time": "2022-08-06T18:58:02.255Z"
   },
   {
    "duration": 4225,
    "start_time": "2022-08-06T18:58:24.739Z"
   },
   {
    "duration": 6606,
    "start_time": "2022-08-06T18:58:29.056Z"
   },
   {
    "duration": 19,
    "start_time": "2022-08-06T18:59:23.024Z"
   },
   {
    "duration": 26,
    "start_time": "2022-08-06T18:59:26.846Z"
   },
   {
    "duration": 32,
    "start_time": "2022-08-06T18:59:32.849Z"
   },
   {
    "duration": 41,
    "start_time": "2022-08-06T18:59:39.571Z"
   },
   {
    "duration": 45,
    "start_time": "2022-08-06T18:59:45.096Z"
   },
   {
    "duration": 53,
    "start_time": "2022-08-06T18:59:50.468Z"
   },
   {
    "duration": 59,
    "start_time": "2022-08-06T18:59:54.355Z"
   },
   {
    "duration": 65,
    "start_time": "2022-08-06T19:00:00.336Z"
   },
   {
    "duration": 69,
    "start_time": "2022-08-06T19:00:05.758Z"
   },
   {
    "duration": 77,
    "start_time": "2022-08-06T19:00:09.947Z"
   },
   {
    "duration": 515,
    "start_time": "2022-08-06T19:00:14.481Z"
   },
   {
    "duration": 523,
    "start_time": "2022-08-06T19:00:19.624Z"
   },
   {
    "duration": 649,
    "start_time": "2022-08-06T19:00:27.372Z"
   },
   {
    "duration": 633,
    "start_time": "2022-08-06T19:00:33.670Z"
   },
   {
    "duration": 705,
    "start_time": "2022-08-06T19:00:38.313Z"
   },
   {
    "duration": 660,
    "start_time": "2022-08-06T19:00:44.786Z"
   },
   {
    "duration": 793,
    "start_time": "2022-08-06T19:00:52.776Z"
   },
   {
    "duration": 792,
    "start_time": "2022-08-06T19:00:59.101Z"
   },
   {
    "duration": 799,
    "start_time": "2022-08-06T19:01:05.217Z"
   },
   {
    "duration": 1263,
    "start_time": "2022-08-06T19:01:13.370Z"
   },
   {
    "duration": 15,
    "start_time": "2022-08-06T19:01:28.131Z"
   },
   {
    "duration": 22,
    "start_time": "2022-08-06T19:01:34.246Z"
   },
   {
    "duration": 665,
    "start_time": "2022-08-06T19:02:01.622Z"
   },
   {
    "duration": 1010,
    "start_time": "2022-08-06T19:02:08.643Z"
   },
   {
    "duration": 1021,
    "start_time": "2022-08-06T19:02:14.316Z"
   },
   {
    "duration": 7881,
    "start_time": "2022-08-06T19:02:59.679Z"
   },
   {
    "duration": 4602,
    "start_time": "2022-08-06T19:03:07.654Z"
   },
   {
    "duration": 8099,
    "start_time": "2022-08-06T19:03:12.257Z"
   },
   {
    "duration": 107,
    "start_time": "2022-08-06T19:06:09.748Z"
   },
   {
    "duration": 8,
    "start_time": "2022-08-06T19:06:26.612Z"
   },
   {
    "duration": 2,
    "start_time": "2022-08-06T19:17:33.757Z"
   },
   {
    "duration": 73,
    "start_time": "2022-08-06T19:18:24.785Z"
   },
   {
    "duration": 70,
    "start_time": "2022-08-06T19:18:46.437Z"
   },
   {
    "duration": 3712,
    "start_time": "2022-08-06T19:20:01.869Z"
   },
   {
    "duration": 40,
    "start_time": "2022-08-06T19:20:05.583Z"
   },
   {
    "duration": 19,
    "start_time": "2022-08-06T19:20:05.624Z"
   },
   {
    "duration": 4,
    "start_time": "2022-08-06T19:20:05.644Z"
   },
   {
    "duration": 6,
    "start_time": "2022-08-06T19:20:05.650Z"
   },
   {
    "duration": 6,
    "start_time": "2022-08-06T19:20:05.657Z"
   },
   {
    "duration": 9,
    "start_time": "2022-08-06T19:20:05.664Z"
   },
   {
    "duration": 12,
    "start_time": "2022-08-06T19:20:05.674Z"
   },
   {
    "duration": 3,
    "start_time": "2022-08-06T19:20:05.687Z"
   },
   {
    "duration": 6,
    "start_time": "2022-08-06T19:20:05.692Z"
   },
   {
    "duration": 8,
    "start_time": "2022-08-06T19:20:05.699Z"
   },
   {
    "duration": 9,
    "start_time": "2022-08-06T19:20:05.708Z"
   },
   {
    "duration": 2,
    "start_time": "2022-08-06T19:20:05.718Z"
   },
   {
    "duration": 7,
    "start_time": "2022-08-06T19:20:05.721Z"
   },
   {
    "duration": 132,
    "start_time": "2022-08-06T19:20:05.730Z"
   },
   {
    "duration": 0,
    "start_time": "2022-08-06T19:20:05.863Z"
   },
   {
    "duration": 0,
    "start_time": "2022-08-06T19:20:05.864Z"
   },
   {
    "duration": 0,
    "start_time": "2022-08-06T19:20:05.866Z"
   },
   {
    "duration": 1,
    "start_time": "2022-08-06T19:20:05.866Z"
   },
   {
    "duration": 1,
    "start_time": "2022-08-06T19:20:05.867Z"
   },
   {
    "duration": 0,
    "start_time": "2022-08-06T19:20:05.868Z"
   },
   {
    "duration": 0,
    "start_time": "2022-08-06T19:20:05.869Z"
   },
   {
    "duration": 0,
    "start_time": "2022-08-06T19:20:05.870Z"
   },
   {
    "duration": 0,
    "start_time": "2022-08-06T19:20:05.872Z"
   },
   {
    "duration": 0,
    "start_time": "2022-08-06T19:20:05.873Z"
   },
   {
    "duration": 0,
    "start_time": "2022-08-06T19:20:05.874Z"
   },
   {
    "duration": 0,
    "start_time": "2022-08-06T19:20:05.875Z"
   },
   {
    "duration": 0,
    "start_time": "2022-08-06T19:20:05.876Z"
   },
   {
    "duration": 0,
    "start_time": "2022-08-06T19:20:05.877Z"
   },
   {
    "duration": 0,
    "start_time": "2022-08-06T19:20:05.878Z"
   },
   {
    "duration": 0,
    "start_time": "2022-08-06T19:20:05.879Z"
   },
   {
    "duration": 0,
    "start_time": "2022-08-06T19:20:05.880Z"
   },
   {
    "duration": 0,
    "start_time": "2022-08-06T19:20:05.881Z"
   },
   {
    "duration": 0,
    "start_time": "2022-08-06T19:20:05.882Z"
   },
   {
    "duration": 0,
    "start_time": "2022-08-06T19:20:05.883Z"
   },
   {
    "duration": 0,
    "start_time": "2022-08-06T19:20:05.884Z"
   },
   {
    "duration": 0,
    "start_time": "2022-08-06T19:20:05.885Z"
   },
   {
    "duration": 0,
    "start_time": "2022-08-06T19:20:05.886Z"
   },
   {
    "duration": 0,
    "start_time": "2022-08-06T19:20:05.887Z"
   },
   {
    "duration": 93,
    "start_time": "2022-08-06T20:20:46.213Z"
   },
   {
    "duration": 2,
    "start_time": "2022-08-06T20:20:53.314Z"
   },
   {
    "duration": 5,
    "start_time": "2022-08-06T20:20:56.481Z"
   },
   {
    "duration": 17,
    "start_time": "2022-08-06T20:20:58.296Z"
   },
   {
    "duration": 23,
    "start_time": "2022-08-06T20:21:29.898Z"
   },
   {
    "duration": 289,
    "start_time": "2022-08-06T20:21:32.468Z"
   },
   {
    "duration": 4,
    "start_time": "2022-08-06T20:23:22.220Z"
   },
   {
    "duration": 3,
    "start_time": "2022-08-06T20:23:53.949Z"
   },
   {
    "duration": 113,
    "start_time": "2022-08-06T20:24:11.170Z"
   },
   {
    "duration": 84,
    "start_time": "2022-08-06T20:24:19.914Z"
   },
   {
    "duration": 83,
    "start_time": "2022-08-06T20:24:38.765Z"
   },
   {
    "duration": 88,
    "start_time": "2022-08-06T20:24:44.222Z"
   },
   {
    "duration": 83,
    "start_time": "2022-08-06T20:25:07.673Z"
   },
   {
    "duration": 2,
    "start_time": "2022-08-06T20:25:32.149Z"
   },
   {
    "duration": 21,
    "start_time": "2022-08-06T20:27:22.273Z"
   },
   {
    "duration": 6,
    "start_time": "2022-08-06T20:30:01.634Z"
   },
   {
    "duration": 3,
    "start_time": "2022-08-06T20:30:02.853Z"
   },
   {
    "duration": 2,
    "start_time": "2022-08-06T20:30:03.409Z"
   },
   {
    "duration": 5,
    "start_time": "2022-08-06T20:30:06.178Z"
   },
   {
    "duration": 3,
    "start_time": "2022-08-06T20:30:07.186Z"
   },
   {
    "duration": 3,
    "start_time": "2022-08-06T20:30:07.640Z"
   },
   {
    "duration": 17,
    "start_time": "2022-08-06T20:30:08.108Z"
   },
   {
    "duration": 3007,
    "start_time": "2022-08-06T20:30:19.376Z"
   },
   {
    "duration": 39,
    "start_time": "2022-08-06T20:30:22.385Z"
   },
   {
    "duration": 17,
    "start_time": "2022-08-06T20:30:22.426Z"
   },
   {
    "duration": 3,
    "start_time": "2022-08-06T20:30:22.445Z"
   },
   {
    "duration": 4,
    "start_time": "2022-08-06T20:30:22.450Z"
   },
   {
    "duration": 5,
    "start_time": "2022-08-06T20:30:22.455Z"
   },
   {
    "duration": 10,
    "start_time": "2022-08-06T20:30:22.461Z"
   },
   {
    "duration": 13,
    "start_time": "2022-08-06T20:30:22.473Z"
   },
   {
    "duration": 2,
    "start_time": "2022-08-06T20:30:22.487Z"
   },
   {
    "duration": 6,
    "start_time": "2022-08-06T20:30:22.492Z"
   },
   {
    "duration": 20,
    "start_time": "2022-08-06T20:30:22.500Z"
   },
   {
    "duration": 10,
    "start_time": "2022-08-06T20:30:22.521Z"
   },
   {
    "duration": 7,
    "start_time": "2022-08-06T20:30:22.532Z"
   },
   {
    "duration": 4,
    "start_time": "2022-08-06T20:30:22.540Z"
   },
   {
    "duration": 11,
    "start_time": "2022-08-06T20:30:22.545Z"
   },
   {
    "duration": 3,
    "start_time": "2022-08-06T20:30:22.557Z"
   },
   {
    "duration": 103,
    "start_time": "2022-08-06T20:30:22.562Z"
   },
   {
    "duration": 0,
    "start_time": "2022-08-06T20:30:22.667Z"
   },
   {
    "duration": 0,
    "start_time": "2022-08-06T20:30:22.669Z"
   },
   {
    "duration": 0,
    "start_time": "2022-08-06T20:30:22.670Z"
   },
   {
    "duration": 0,
    "start_time": "2022-08-06T20:30:22.671Z"
   },
   {
    "duration": 0,
    "start_time": "2022-08-06T20:30:22.672Z"
   },
   {
    "duration": 0,
    "start_time": "2022-08-06T20:30:22.674Z"
   },
   {
    "duration": 0,
    "start_time": "2022-08-06T20:30:22.675Z"
   },
   {
    "duration": 0,
    "start_time": "2022-08-06T20:30:22.676Z"
   },
   {
    "duration": 0,
    "start_time": "2022-08-06T20:30:22.677Z"
   },
   {
    "duration": 0,
    "start_time": "2022-08-06T20:30:22.679Z"
   },
   {
    "duration": 0,
    "start_time": "2022-08-06T20:30:22.680Z"
   },
   {
    "duration": 0,
    "start_time": "2022-08-06T20:30:22.681Z"
   },
   {
    "duration": 0,
    "start_time": "2022-08-06T20:30:22.682Z"
   },
   {
    "duration": 0,
    "start_time": "2022-08-06T20:30:22.684Z"
   },
   {
    "duration": 0,
    "start_time": "2022-08-06T20:30:22.685Z"
   },
   {
    "duration": 0,
    "start_time": "2022-08-06T20:30:22.687Z"
   },
   {
    "duration": 0,
    "start_time": "2022-08-06T20:30:22.688Z"
   },
   {
    "duration": 0,
    "start_time": "2022-08-06T20:30:22.689Z"
   },
   {
    "duration": 0,
    "start_time": "2022-08-06T20:30:22.691Z"
   },
   {
    "duration": 0,
    "start_time": "2022-08-06T20:30:22.692Z"
   },
   {
    "duration": 0,
    "start_time": "2022-08-06T20:30:22.694Z"
   },
   {
    "duration": 0,
    "start_time": "2022-08-06T20:30:22.695Z"
   },
   {
    "duration": 0,
    "start_time": "2022-08-06T20:30:22.696Z"
   },
   {
    "duration": 0,
    "start_time": "2022-08-06T20:30:22.697Z"
   },
   {
    "duration": 0,
    "start_time": "2022-08-06T20:30:22.698Z"
   },
   {
    "duration": 2,
    "start_time": "2022-08-06T20:31:03.146Z"
   },
   {
    "duration": 147,
    "start_time": "2022-08-06T20:31:03.900Z"
   },
   {
    "duration": 406,
    "start_time": "2022-08-06T20:31:09.599Z"
   },
   {
    "duration": 754,
    "start_time": "2022-08-06T20:31:11.207Z"
   },
   {
    "duration": 18,
    "start_time": "2022-08-06T20:31:14.839Z"
   },
   {
    "duration": 15,
    "start_time": "2022-08-06T20:31:15.368Z"
   },
   {
    "duration": 23,
    "start_time": "2022-08-06T20:33:20.981Z"
   },
   {
    "duration": 89,
    "start_time": "2022-08-06T20:33:53.458Z"
   },
   {
    "duration": 101,
    "start_time": "2022-08-06T20:34:04.820Z"
   },
   {
    "duration": 104,
    "start_time": "2022-08-06T20:34:14.892Z"
   },
   {
    "duration": 103,
    "start_time": "2022-08-06T20:34:52.963Z"
   },
   {
    "duration": 1442,
    "start_time": "2022-08-06T20:35:06.973Z"
   },
   {
    "duration": 9,
    "start_time": "2022-08-06T20:39:48.784Z"
   },
   {
    "duration": 3,
    "start_time": "2022-08-06T20:41:28.402Z"
   },
   {
    "duration": 6,
    "start_time": "2022-08-06T20:41:29.335Z"
   },
   {
    "duration": 2,
    "start_time": "2022-08-06T20:41:35.621Z"
   },
   {
    "duration": 14,
    "start_time": "2022-08-06T20:41:36.754Z"
   },
   {
    "duration": 2,
    "start_time": "2022-08-06T20:41:42.319Z"
   },
   {
    "duration": 4,
    "start_time": "2022-08-06T20:41:45.123Z"
   },
   {
    "duration": 147,
    "start_time": "2022-08-06T20:41:46.020Z"
   },
   {
    "duration": 407,
    "start_time": "2022-08-06T20:41:48.316Z"
   },
   {
    "duration": 687,
    "start_time": "2022-08-06T20:41:50.375Z"
   },
   {
    "duration": 17,
    "start_time": "2022-08-06T20:41:55.558Z"
   },
   {
    "duration": 16,
    "start_time": "2022-08-06T20:42:12.669Z"
   },
   {
    "duration": 2976,
    "start_time": "2022-08-06T20:42:52.090Z"
   },
   {
    "duration": 39,
    "start_time": "2022-08-06T20:42:55.068Z"
   },
   {
    "duration": 20,
    "start_time": "2022-08-06T20:42:55.109Z"
   },
   {
    "duration": 4,
    "start_time": "2022-08-06T20:42:55.130Z"
   },
   {
    "duration": 10,
    "start_time": "2022-08-06T20:42:55.136Z"
   },
   {
    "duration": 16,
    "start_time": "2022-08-06T20:42:55.147Z"
   },
   {
    "duration": 23,
    "start_time": "2022-08-06T20:42:55.164Z"
   },
   {
    "duration": 11,
    "start_time": "2022-08-06T20:42:55.189Z"
   },
   {
    "duration": 2,
    "start_time": "2022-08-06T20:42:55.201Z"
   },
   {
    "duration": 5,
    "start_time": "2022-08-06T20:42:55.205Z"
   },
   {
    "duration": 8,
    "start_time": "2022-08-06T20:42:55.211Z"
   },
   {
    "duration": 2,
    "start_time": "2022-08-06T20:42:55.221Z"
   },
   {
    "duration": 13,
    "start_time": "2022-08-06T20:42:55.224Z"
   },
   {
    "duration": 2,
    "start_time": "2022-08-06T20:42:55.238Z"
   },
   {
    "duration": 9,
    "start_time": "2022-08-06T20:42:55.241Z"
   },
   {
    "duration": 6,
    "start_time": "2022-08-06T20:42:55.251Z"
   },
   {
    "duration": 154,
    "start_time": "2022-08-06T20:42:55.259Z"
   },
   {
    "duration": 452,
    "start_time": "2022-08-06T20:42:55.415Z"
   },
   {
    "duration": 891,
    "start_time": "2022-08-06T20:42:55.868Z"
   },
   {
    "duration": 189,
    "start_time": "2022-08-06T20:42:56.761Z"
   },
   {
    "duration": 0,
    "start_time": "2022-08-06T20:42:56.955Z"
   },
   {
    "duration": 0,
    "start_time": "2022-08-06T20:42:56.957Z"
   },
   {
    "duration": 0,
    "start_time": "2022-08-06T20:42:56.958Z"
   },
   {
    "duration": 0,
    "start_time": "2022-08-06T20:42:56.959Z"
   },
   {
    "duration": 0,
    "start_time": "2022-08-06T20:42:56.960Z"
   },
   {
    "duration": 0,
    "start_time": "2022-08-06T20:42:56.962Z"
   },
   {
    "duration": 0,
    "start_time": "2022-08-06T20:42:56.963Z"
   },
   {
    "duration": 0,
    "start_time": "2022-08-06T20:42:56.964Z"
   },
   {
    "duration": 0,
    "start_time": "2022-08-06T20:42:56.965Z"
   },
   {
    "duration": 0,
    "start_time": "2022-08-06T20:42:56.966Z"
   },
   {
    "duration": 0,
    "start_time": "2022-08-06T20:42:56.967Z"
   },
   {
    "duration": 0,
    "start_time": "2022-08-06T20:42:56.969Z"
   },
   {
    "duration": 0,
    "start_time": "2022-08-06T20:42:56.970Z"
   },
   {
    "duration": 0,
    "start_time": "2022-08-06T20:42:56.971Z"
   },
   {
    "duration": 0,
    "start_time": "2022-08-06T20:42:56.971Z"
   },
   {
    "duration": 0,
    "start_time": "2022-08-06T20:42:56.972Z"
   },
   {
    "duration": 0,
    "start_time": "2022-08-06T20:42:56.973Z"
   },
   {
    "duration": 0,
    "start_time": "2022-08-06T20:42:56.974Z"
   },
   {
    "duration": 0,
    "start_time": "2022-08-06T20:42:56.975Z"
   },
   {
    "duration": 0,
    "start_time": "2022-08-06T20:42:56.976Z"
   },
   {
    "duration": 0,
    "start_time": "2022-08-06T20:42:56.977Z"
   },
   {
    "duration": 9,
    "start_time": "2022-08-06T20:43:53.468Z"
   },
   {
    "duration": 11,
    "start_time": "2022-08-06T20:45:03.580Z"
   },
   {
    "duration": 3,
    "start_time": "2022-08-06T20:46:38.418Z"
   },
   {
    "duration": 9,
    "start_time": "2022-08-06T20:46:39.318Z"
   },
   {
    "duration": 3021,
    "start_time": "2022-08-06T20:46:48.469Z"
   },
   {
    "duration": 41,
    "start_time": "2022-08-06T20:46:51.492Z"
   },
   {
    "duration": 18,
    "start_time": "2022-08-06T20:46:51.535Z"
   },
   {
    "duration": 4,
    "start_time": "2022-08-06T20:46:51.555Z"
   },
   {
    "duration": 5,
    "start_time": "2022-08-06T20:46:51.560Z"
   },
   {
    "duration": 5,
    "start_time": "2022-08-06T20:46:51.566Z"
   },
   {
    "duration": 9,
    "start_time": "2022-08-06T20:46:51.573Z"
   },
   {
    "duration": 16,
    "start_time": "2022-08-06T20:46:51.584Z"
   },
   {
    "duration": 2,
    "start_time": "2022-08-06T20:46:51.602Z"
   },
   {
    "duration": 5,
    "start_time": "2022-08-06T20:46:51.606Z"
   },
   {
    "duration": 7,
    "start_time": "2022-08-06T20:46:51.613Z"
   },
   {
    "duration": 9,
    "start_time": "2022-08-06T20:46:51.621Z"
   },
   {
    "duration": 24,
    "start_time": "2022-08-06T20:46:51.632Z"
   },
   {
    "duration": 37,
    "start_time": "2022-08-06T20:46:51.657Z"
   },
   {
    "duration": 2,
    "start_time": "2022-08-06T20:46:51.696Z"
   },
   {
    "duration": 5,
    "start_time": "2022-08-06T20:46:51.699Z"
   },
   {
    "duration": 7,
    "start_time": "2022-08-06T20:46:51.705Z"
   },
   {
    "duration": 190,
    "start_time": "2022-08-06T20:46:51.714Z"
   },
   {
    "duration": 473,
    "start_time": "2022-08-06T20:46:51.905Z"
   },
   {
    "duration": 982,
    "start_time": "2022-08-06T20:46:52.380Z"
   },
   {
    "duration": 96,
    "start_time": "2022-08-06T20:46:53.364Z"
   },
   {
    "duration": 105,
    "start_time": "2022-08-06T20:46:53.464Z"
   },
   {
    "duration": 169,
    "start_time": "2022-08-06T20:46:53.570Z"
   },
   {
    "duration": 269,
    "start_time": "2022-08-06T20:46:53.740Z"
   },
   {
    "duration": 97,
    "start_time": "2022-08-06T20:46:54.011Z"
   },
   {
    "duration": 462,
    "start_time": "2022-08-06T20:46:54.109Z"
   },
   {
    "duration": 204,
    "start_time": "2022-08-06T20:46:54.573Z"
   },
   {
    "duration": 741,
    "start_time": "2022-08-06T20:46:54.779Z"
   },
   {
    "duration": 946,
    "start_time": "2022-08-06T20:46:55.521Z"
   },
   {
    "duration": 795,
    "start_time": "2022-08-06T20:46:56.469Z"
   },
   {
    "duration": 1501,
    "start_time": "2022-08-06T20:46:57.355Z"
   },
   {
    "duration": 105,
    "start_time": "2022-08-06T20:46:58.857Z"
   },
   {
    "duration": 11,
    "start_time": "2022-08-06T20:46:58.964Z"
   },
   {
    "duration": 30,
    "start_time": "2022-08-06T20:46:58.977Z"
   },
   {
    "duration": 1299,
    "start_time": "2022-08-06T20:46:59.008Z"
   },
   {
    "duration": 19,
    "start_time": "2022-08-06T20:47:00.308Z"
   },
   {
    "duration": 1553,
    "start_time": "2022-08-06T20:47:00.329Z"
   },
   {
    "duration": 372,
    "start_time": "2022-08-06T20:47:01.883Z"
   },
   {
    "duration": 204,
    "start_time": "2022-08-06T20:47:02.257Z"
   },
   {
    "duration": 699,
    "start_time": "2022-08-06T20:47:02.463Z"
   },
   {
    "duration": 277,
    "start_time": "2022-08-06T20:47:03.257Z"
   },
   {
    "duration": 4,
    "start_time": "2022-08-06T20:47:03.536Z"
   },
   {
    "duration": 2965,
    "start_time": "2022-08-06T20:47:52.675Z"
   },
   {
    "duration": 40,
    "start_time": "2022-08-06T20:47:55.641Z"
   },
   {
    "duration": 17,
    "start_time": "2022-08-06T20:47:55.682Z"
   },
   {
    "duration": 7,
    "start_time": "2022-08-06T20:47:55.701Z"
   },
   {
    "duration": 7,
    "start_time": "2022-08-06T20:47:55.710Z"
   },
   {
    "duration": 8,
    "start_time": "2022-08-06T20:47:55.719Z"
   },
   {
    "duration": 8,
    "start_time": "2022-08-06T20:47:55.729Z"
   },
   {
    "duration": 11,
    "start_time": "2022-08-06T20:47:55.738Z"
   },
   {
    "duration": 1,
    "start_time": "2022-08-06T20:47:55.751Z"
   },
   {
    "duration": 7,
    "start_time": "2022-08-06T20:47:55.756Z"
   },
   {
    "duration": 9,
    "start_time": "2022-08-06T20:47:55.764Z"
   },
   {
    "duration": 10,
    "start_time": "2022-08-06T20:47:55.774Z"
   },
   {
    "duration": 7,
    "start_time": "2022-08-06T20:47:55.785Z"
   },
   {
    "duration": 43,
    "start_time": "2022-08-06T20:47:55.793Z"
   },
   {
    "duration": 2,
    "start_time": "2022-08-06T20:47:55.837Z"
   },
   {
    "duration": 6,
    "start_time": "2022-08-06T20:47:55.841Z"
   },
   {
    "duration": 10,
    "start_time": "2022-08-06T20:47:55.848Z"
   },
   {
    "duration": 179,
    "start_time": "2022-08-06T20:47:55.859Z"
   },
   {
    "duration": 460,
    "start_time": "2022-08-06T20:47:56.039Z"
   },
   {
    "duration": 862,
    "start_time": "2022-08-06T20:47:56.500Z"
   },
   {
    "duration": 191,
    "start_time": "2022-08-06T20:47:57.364Z"
   },
   {
    "duration": 9,
    "start_time": "2022-08-06T20:47:57.557Z"
   },
   {
    "duration": 181,
    "start_time": "2022-08-06T20:47:57.568Z"
   },
   {
    "duration": 262,
    "start_time": "2022-08-06T20:47:57.751Z"
   },
   {
    "duration": 93,
    "start_time": "2022-08-06T20:47:58.015Z"
   },
   {
    "duration": 452,
    "start_time": "2022-08-06T20:47:58.109Z"
   },
   {
    "duration": 203,
    "start_time": "2022-08-06T20:47:58.563Z"
   },
   {
    "duration": 668,
    "start_time": "2022-08-06T20:47:58.769Z"
   },
   {
    "duration": 934,
    "start_time": "2022-08-06T20:47:59.439Z"
   },
   {
    "duration": 781,
    "start_time": "2022-08-06T20:48:00.375Z"
   },
   {
    "duration": 1399,
    "start_time": "2022-08-06T20:48:01.157Z"
   },
   {
    "duration": 103,
    "start_time": "2022-08-06T20:48:02.558Z"
   },
   {
    "duration": 24,
    "start_time": "2022-08-06T20:48:02.662Z"
   },
   {
    "duration": 43,
    "start_time": "2022-08-06T20:48:02.688Z"
   },
   {
    "duration": 1260,
    "start_time": "2022-08-06T20:48:02.733Z"
   },
   {
    "duration": 21,
    "start_time": "2022-08-06T20:48:03.995Z"
   },
   {
    "duration": 1477,
    "start_time": "2022-08-06T20:48:04.017Z"
   },
   {
    "duration": 268,
    "start_time": "2022-08-06T20:48:05.495Z"
   },
   {
    "duration": 297,
    "start_time": "2022-08-06T20:48:05.764Z"
   },
   {
    "duration": 700,
    "start_time": "2022-08-06T20:48:06.063Z"
   },
   {
    "duration": 375,
    "start_time": "2022-08-06T20:48:06.767Z"
   },
   {
    "duration": 13,
    "start_time": "2022-08-06T20:48:07.144Z"
   },
   {
    "duration": 24,
    "start_time": "2022-08-06T20:49:33.090Z"
   },
   {
    "duration": 14,
    "start_time": "2022-08-06T20:49:39.058Z"
   },
   {
    "duration": 12,
    "start_time": "2022-08-06T20:49:46.919Z"
   },
   {
    "duration": 437,
    "start_time": "2022-08-06T20:49:58.586Z"
   },
   {
    "duration": 193,
    "start_time": "2022-08-06T20:50:03.025Z"
   },
   {
    "duration": 3001,
    "start_time": "2022-08-06T20:50:12.269Z"
   },
   {
    "duration": 39,
    "start_time": "2022-08-06T20:50:15.272Z"
   },
   {
    "duration": 18,
    "start_time": "2022-08-06T20:50:15.313Z"
   },
   {
    "duration": 4,
    "start_time": "2022-08-06T20:50:15.332Z"
   },
   {
    "duration": 4,
    "start_time": "2022-08-06T20:50:15.337Z"
   },
   {
    "duration": 5,
    "start_time": "2022-08-06T20:50:15.342Z"
   },
   {
    "duration": 11,
    "start_time": "2022-08-06T20:50:15.349Z"
   },
   {
    "duration": 14,
    "start_time": "2022-08-06T20:50:15.361Z"
   },
   {
    "duration": 2,
    "start_time": "2022-08-06T20:50:15.377Z"
   },
   {
    "duration": 5,
    "start_time": "2022-08-06T20:50:15.381Z"
   },
   {
    "duration": 12,
    "start_time": "2022-08-06T20:50:15.388Z"
   },
   {
    "duration": 10,
    "start_time": "2022-08-06T20:50:15.401Z"
   },
   {
    "duration": 9,
    "start_time": "2022-08-06T20:50:15.412Z"
   },
   {
    "duration": 43,
    "start_time": "2022-08-06T20:50:15.422Z"
   },
   {
    "duration": 2,
    "start_time": "2022-08-06T20:50:15.467Z"
   },
   {
    "duration": 5,
    "start_time": "2022-08-06T20:50:15.470Z"
   },
   {
    "duration": 8,
    "start_time": "2022-08-06T20:50:15.476Z"
   },
   {
    "duration": 177,
    "start_time": "2022-08-06T20:50:15.486Z"
   },
   {
    "duration": 461,
    "start_time": "2022-08-06T20:50:15.664Z"
   },
   {
    "duration": 929,
    "start_time": "2022-08-06T20:50:16.126Z"
   },
   {
    "duration": 100,
    "start_time": "2022-08-06T20:50:17.057Z"
   },
   {
    "duration": 8,
    "start_time": "2022-08-06T20:50:17.159Z"
   },
   {
    "duration": 188,
    "start_time": "2022-08-06T20:50:17.168Z"
   },
   {
    "duration": 270,
    "start_time": "2022-08-06T20:50:17.358Z"
   },
   {
    "duration": 89,
    "start_time": "2022-08-06T20:50:17.629Z"
   },
   {
    "duration": 439,
    "start_time": "2022-08-06T20:50:17.720Z"
   },
   {
    "duration": 198,
    "start_time": "2022-08-06T20:50:18.161Z"
   },
   {
    "duration": 696,
    "start_time": "2022-08-06T20:50:18.361Z"
   },
   {
    "duration": 912,
    "start_time": "2022-08-06T20:50:19.058Z"
   },
   {
    "duration": 689,
    "start_time": "2022-08-06T20:50:19.971Z"
   },
   {
    "duration": 1493,
    "start_time": "2022-08-06T20:50:20.662Z"
   },
   {
    "duration": 109,
    "start_time": "2022-08-06T20:50:22.157Z"
   },
   {
    "duration": 12,
    "start_time": "2022-08-06T20:50:22.267Z"
   },
   {
    "duration": 27,
    "start_time": "2022-08-06T20:50:22.280Z"
   },
   {
    "duration": 1242,
    "start_time": "2022-08-06T20:50:22.309Z"
   },
   {
    "duration": 18,
    "start_time": "2022-08-06T20:50:23.554Z"
   },
   {
    "duration": 1473,
    "start_time": "2022-08-06T20:50:23.573Z"
   },
   {
    "duration": 317,
    "start_time": "2022-08-06T20:50:25.047Z"
   },
   {
    "duration": 203,
    "start_time": "2022-08-06T20:50:25.456Z"
   },
   {
    "duration": 598,
    "start_time": "2022-08-06T20:50:25.661Z"
   },
   {
    "duration": 364,
    "start_time": "2022-08-06T20:50:26.264Z"
   },
   {
    "duration": 6,
    "start_time": "2022-08-06T20:50:26.629Z"
   },
   {
    "duration": 17,
    "start_time": "2022-08-06T20:51:37.277Z"
   },
   {
    "duration": 9,
    "start_time": "2022-08-06T20:52:49.450Z"
   },
   {
    "duration": 3027,
    "start_time": "2022-08-06T20:54:25.795Z"
   },
   {
    "duration": 41,
    "start_time": "2022-08-06T20:54:28.824Z"
   },
   {
    "duration": 18,
    "start_time": "2022-08-06T20:54:28.866Z"
   },
   {
    "duration": 4,
    "start_time": "2022-08-06T20:54:28.885Z"
   },
   {
    "duration": 5,
    "start_time": "2022-08-06T20:54:28.890Z"
   },
   {
    "duration": 5,
    "start_time": "2022-08-06T20:54:28.896Z"
   },
   {
    "duration": 9,
    "start_time": "2022-08-06T20:54:28.902Z"
   },
   {
    "duration": 10,
    "start_time": "2022-08-06T20:54:28.912Z"
   },
   {
    "duration": 2,
    "start_time": "2022-08-06T20:54:28.923Z"
   },
   {
    "duration": 31,
    "start_time": "2022-08-06T20:54:28.928Z"
   },
   {
    "duration": 9,
    "start_time": "2022-08-06T20:54:28.961Z"
   },
   {
    "duration": 10,
    "start_time": "2022-08-06T20:54:28.972Z"
   },
   {
    "duration": 4,
    "start_time": "2022-08-06T20:54:28.984Z"
   },
   {
    "duration": 37,
    "start_time": "2022-08-06T20:54:28.990Z"
   },
   {
    "duration": 4,
    "start_time": "2022-08-06T20:54:29.028Z"
   },
   {
    "duration": 189,
    "start_time": "2022-08-06T20:54:29.033Z"
   },
   {
    "duration": 454,
    "start_time": "2022-08-06T20:54:29.223Z"
   },
   {
    "duration": 984,
    "start_time": "2022-08-06T20:54:29.678Z"
   },
   {
    "duration": 191,
    "start_time": "2022-08-06T20:54:30.664Z"
   },
   {
    "duration": 22,
    "start_time": "2022-08-06T20:54:30.857Z"
   },
   {
    "duration": 167,
    "start_time": "2022-08-06T20:54:30.880Z"
   },
   {
    "duration": 186,
    "start_time": "2022-08-06T20:54:31.049Z"
   },
   {
    "duration": 89,
    "start_time": "2022-08-06T20:54:31.236Z"
   },
   {
    "duration": 457,
    "start_time": "2022-08-06T20:54:31.327Z"
   },
   {
    "duration": 192,
    "start_time": "2022-08-06T20:54:31.785Z"
   },
   {
    "duration": 491,
    "start_time": "2022-08-06T20:54:31.978Z"
   },
   {
    "duration": 985,
    "start_time": "2022-08-06T20:54:32.470Z"
   },
   {
    "duration": 698,
    "start_time": "2022-08-06T20:54:33.459Z"
   },
   {
    "duration": 1114,
    "start_time": "2022-08-06T20:54:34.158Z"
   },
   {
    "duration": 198,
    "start_time": "2022-08-06T20:54:35.273Z"
   },
   {
    "duration": 13,
    "start_time": "2022-08-06T20:54:35.473Z"
   },
   {
    "duration": 24,
    "start_time": "2022-08-06T20:54:35.488Z"
   },
   {
    "duration": 1330,
    "start_time": "2022-08-06T20:54:35.513Z"
   },
   {
    "duration": 20,
    "start_time": "2022-08-06T20:54:36.844Z"
   },
   {
    "duration": 1131,
    "start_time": "2022-08-06T20:54:36.865Z"
   },
   {
    "duration": 358,
    "start_time": "2022-08-06T20:54:37.998Z"
   },
   {
    "duration": 109,
    "start_time": "2022-08-06T20:54:38.359Z"
   },
   {
    "duration": 686,
    "start_time": "2022-08-06T20:54:38.470Z"
   },
   {
    "duration": 376,
    "start_time": "2022-08-06T20:54:39.159Z"
   },
   {
    "duration": 21,
    "start_time": "2022-08-06T20:54:39.536Z"
   },
   {
    "duration": 21,
    "start_time": "2022-08-06T20:55:00.766Z"
   },
   {
    "duration": 9,
    "start_time": "2022-08-06T20:55:30.374Z"
   },
   {
    "duration": 169,
    "start_time": "2022-08-06T20:55:31.401Z"
   },
   {
    "duration": 179,
    "start_time": "2022-08-06T20:55:32.304Z"
   },
   {
    "duration": 88,
    "start_time": "2022-08-06T20:55:34.111Z"
   },
   {
    "duration": 435,
    "start_time": "2022-08-06T20:55:35.864Z"
   },
   {
    "duration": 240,
    "start_time": "2022-08-06T20:55:36.800Z"
   },
   {
    "duration": 530,
    "start_time": "2022-08-06T20:55:37.767Z"
   },
   {
    "duration": 874,
    "start_time": "2022-08-06T20:55:38.698Z"
   },
   {
    "duration": 564,
    "start_time": "2022-08-06T20:55:39.998Z"
   },
   {
    "duration": 985,
    "start_time": "2022-08-06T20:55:40.887Z"
   },
   {
    "duration": 19,
    "start_time": "2022-08-06T20:55:43.425Z"
   },
   {
    "duration": 12,
    "start_time": "2022-08-06T20:55:43.881Z"
   },
   {
    "duration": 21,
    "start_time": "2022-08-06T20:55:44.329Z"
   },
   {
    "duration": 1234,
    "start_time": "2022-08-06T20:55:44.876Z"
   },
   {
    "duration": 19,
    "start_time": "2022-08-06T20:55:46.111Z"
   },
   {
    "duration": 1049,
    "start_time": "2022-08-06T20:55:46.131Z"
   },
   {
    "duration": 373,
    "start_time": "2022-08-06T20:55:47.182Z"
   },
   {
    "duration": 106,
    "start_time": "2022-08-06T20:55:47.560Z"
   },
   {
    "duration": 588,
    "start_time": "2022-08-06T20:55:47.668Z"
   },
   {
    "duration": 2994,
    "start_time": "2022-08-06T20:56:21.447Z"
   },
   {
    "duration": 40,
    "start_time": "2022-08-06T20:56:24.443Z"
   },
   {
    "duration": 17,
    "start_time": "2022-08-06T20:56:24.485Z"
   },
   {
    "duration": 4,
    "start_time": "2022-08-06T20:56:24.503Z"
   },
   {
    "duration": 6,
    "start_time": "2022-08-06T20:56:24.508Z"
   },
   {
    "duration": 6,
    "start_time": "2022-08-06T20:56:24.516Z"
   },
   {
    "duration": 10,
    "start_time": "2022-08-06T20:56:24.524Z"
   },
   {
    "duration": 18,
    "start_time": "2022-08-06T20:56:24.535Z"
   },
   {
    "duration": 2,
    "start_time": "2022-08-06T20:56:24.554Z"
   },
   {
    "duration": 6,
    "start_time": "2022-08-06T20:56:24.559Z"
   },
   {
    "duration": 9,
    "start_time": "2022-08-06T20:56:24.567Z"
   },
   {
    "duration": 10,
    "start_time": "2022-08-06T20:56:24.577Z"
   },
   {
    "duration": 4,
    "start_time": "2022-08-06T20:56:24.589Z"
   },
   {
    "duration": 35,
    "start_time": "2022-08-06T20:56:24.594Z"
   },
   {
    "duration": 26,
    "start_time": "2022-08-06T20:56:24.631Z"
   },
   {
    "duration": 185,
    "start_time": "2022-08-06T20:56:24.659Z"
   },
   {
    "duration": 510,
    "start_time": "2022-08-06T20:56:24.845Z"
   },
   {
    "duration": 905,
    "start_time": "2022-08-06T20:56:25.357Z"
   },
   {
    "duration": 92,
    "start_time": "2022-08-06T20:56:26.264Z"
   },
   {
    "duration": 103,
    "start_time": "2022-08-06T20:56:26.358Z"
   },
   {
    "duration": 170,
    "start_time": "2022-08-06T20:56:26.462Z"
   },
   {
    "duration": 206,
    "start_time": "2022-08-06T20:56:26.633Z"
   },
   {
    "duration": 92,
    "start_time": "2022-08-06T20:56:26.841Z"
   },
   {
    "duration": 464,
    "start_time": "2022-08-06T20:56:26.934Z"
   },
   {
    "duration": 230,
    "start_time": "2022-08-06T20:56:27.400Z"
   },
   {
    "duration": 496,
    "start_time": "2022-08-06T20:56:27.632Z"
   },
   {
    "duration": 942,
    "start_time": "2022-08-06T20:56:28.130Z"
   },
   {
    "duration": 786,
    "start_time": "2022-08-06T20:56:29.075Z"
   },
   {
    "duration": 1193,
    "start_time": "2022-08-06T20:56:29.862Z"
   },
   {
    "duration": 103,
    "start_time": "2022-08-06T20:56:31.057Z"
   },
   {
    "duration": 13,
    "start_time": "2022-08-06T20:56:31.162Z"
   },
   {
    "duration": 21,
    "start_time": "2022-08-06T20:56:31.176Z"
   },
   {
    "duration": 1252,
    "start_time": "2022-08-06T20:56:31.199Z"
   },
   {
    "duration": 20,
    "start_time": "2022-08-06T20:56:32.455Z"
   },
   {
    "duration": 1005,
    "start_time": "2022-08-06T20:56:32.477Z"
   },
   {
    "duration": 277,
    "start_time": "2022-08-06T20:56:33.484Z"
   },
   {
    "duration": 191,
    "start_time": "2022-08-06T20:56:33.763Z"
   },
   {
    "duration": 403,
    "start_time": "2022-08-06T20:56:33.956Z"
   },
   {
    "duration": 366,
    "start_time": "2022-08-06T20:56:34.361Z"
   },
   {
    "duration": 5,
    "start_time": "2022-08-06T20:56:34.729Z"
   },
   {
    "duration": 23,
    "start_time": "2022-08-06T20:58:23.427Z"
   },
   {
    "duration": 19,
    "start_time": "2022-08-06T20:58:28.852Z"
   },
   {
    "duration": 24,
    "start_time": "2022-08-06T20:58:35.482Z"
   },
   {
    "duration": 3077,
    "start_time": "2022-08-06T21:00:02.665Z"
   },
   {
    "duration": 39,
    "start_time": "2022-08-06T21:00:05.744Z"
   },
   {
    "duration": 17,
    "start_time": "2022-08-06T21:00:05.785Z"
   },
   {
    "duration": 4,
    "start_time": "2022-08-06T21:00:05.803Z"
   },
   {
    "duration": 10,
    "start_time": "2022-08-06T21:00:05.809Z"
   },
   {
    "duration": 5,
    "start_time": "2022-08-06T21:00:05.821Z"
   },
   {
    "duration": 10,
    "start_time": "2022-08-06T21:00:05.828Z"
   },
   {
    "duration": 15,
    "start_time": "2022-08-06T21:00:05.839Z"
   },
   {
    "duration": 3,
    "start_time": "2022-08-06T21:00:05.855Z"
   },
   {
    "duration": 7,
    "start_time": "2022-08-06T21:00:05.861Z"
   },
   {
    "duration": 10,
    "start_time": "2022-08-06T21:00:05.869Z"
   },
   {
    "duration": 10,
    "start_time": "2022-08-06T21:00:05.880Z"
   },
   {
    "duration": 7,
    "start_time": "2022-08-06T21:00:05.891Z"
   },
   {
    "duration": 32,
    "start_time": "2022-08-06T21:00:05.900Z"
   },
   {
    "duration": 4,
    "start_time": "2022-08-06T21:00:05.934Z"
   },
   {
    "duration": 183,
    "start_time": "2022-08-06T21:00:05.955Z"
   },
   {
    "duration": 477,
    "start_time": "2022-08-06T21:00:06.139Z"
   },
   {
    "duration": 946,
    "start_time": "2022-08-06T21:00:06.617Z"
   },
   {
    "duration": 102,
    "start_time": "2022-08-06T21:00:07.654Z"
   },
   {
    "duration": 11,
    "start_time": "2022-08-06T21:00:07.758Z"
   },
   {
    "duration": 182,
    "start_time": "2022-08-06T21:00:07.770Z"
   },
   {
    "duration": 193,
    "start_time": "2022-08-06T21:00:07.954Z"
   },
   {
    "duration": 91,
    "start_time": "2022-08-06T21:00:08.149Z"
   },
   {
    "duration": 464,
    "start_time": "2022-08-06T21:00:08.241Z"
   },
   {
    "duration": 230,
    "start_time": "2022-08-06T21:00:08.706Z"
   },
   {
    "duration": 518,
    "start_time": "2022-08-06T21:00:08.938Z"
   },
   {
    "duration": 914,
    "start_time": "2022-08-06T21:00:09.458Z"
   },
   {
    "duration": 881,
    "start_time": "2022-08-06T21:00:10.375Z"
   },
   {
    "duration": 1115,
    "start_time": "2022-08-06T21:00:11.258Z"
   },
   {
    "duration": 187,
    "start_time": "2022-08-06T21:00:12.375Z"
   },
   {
    "duration": 12,
    "start_time": "2022-08-06T21:00:12.564Z"
   },
   {
    "duration": 20,
    "start_time": "2022-08-06T21:00:12.578Z"
   },
   {
    "duration": 1277,
    "start_time": "2022-08-06T21:00:12.600Z"
   },
   {
    "duration": 20,
    "start_time": "2022-08-06T21:00:13.879Z"
   },
   {
    "duration": 1039,
    "start_time": "2022-08-06T21:00:13.901Z"
   },
   {
    "duration": 315,
    "start_time": "2022-08-06T21:00:14.941Z"
   },
   {
    "duration": 105,
    "start_time": "2022-08-06T21:00:15.257Z"
   },
   {
    "duration": 493,
    "start_time": "2022-08-06T21:00:15.364Z"
   },
   {
    "duration": 281,
    "start_time": "2022-08-06T21:00:15.858Z"
   },
   {
    "duration": 17,
    "start_time": "2022-08-06T21:00:16.141Z"
   },
   {
    "duration": 252,
    "start_time": "2022-08-06T21:08:29.349Z"
   },
   {
    "duration": 2975,
    "start_time": "2022-08-06T21:08:58.682Z"
   },
   {
    "duration": 41,
    "start_time": "2022-08-06T21:09:01.659Z"
   },
   {
    "duration": 18,
    "start_time": "2022-08-06T21:09:01.701Z"
   },
   {
    "duration": 4,
    "start_time": "2022-08-06T21:09:01.720Z"
   },
   {
    "duration": 13,
    "start_time": "2022-08-06T21:09:01.725Z"
   },
   {
    "duration": 8,
    "start_time": "2022-08-06T21:09:01.739Z"
   },
   {
    "duration": 21,
    "start_time": "2022-08-06T21:09:01.748Z"
   },
   {
    "duration": 18,
    "start_time": "2022-08-06T21:09:01.771Z"
   },
   {
    "duration": 2,
    "start_time": "2022-08-06T21:09:01.790Z"
   },
   {
    "duration": 16,
    "start_time": "2022-08-06T21:09:01.794Z"
   },
   {
    "duration": 8,
    "start_time": "2022-08-06T21:09:01.812Z"
   },
   {
    "duration": 11,
    "start_time": "2022-08-06T21:09:01.821Z"
   },
   {
    "duration": 13,
    "start_time": "2022-08-06T21:09:01.833Z"
   },
   {
    "duration": 39,
    "start_time": "2022-08-06T21:09:01.847Z"
   },
   {
    "duration": 4,
    "start_time": "2022-08-06T21:09:01.887Z"
   },
   {
    "duration": 272,
    "start_time": "2022-08-06T21:09:01.892Z"
   },
   {
    "duration": 0,
    "start_time": "2022-08-06T21:09:02.166Z"
   },
   {
    "duration": 0,
    "start_time": "2022-08-06T21:09:02.167Z"
   },
   {
    "duration": 0,
    "start_time": "2022-08-06T21:09:02.168Z"
   },
   {
    "duration": 0,
    "start_time": "2022-08-06T21:09:02.169Z"
   },
   {
    "duration": 0,
    "start_time": "2022-08-06T21:09:02.170Z"
   },
   {
    "duration": 0,
    "start_time": "2022-08-06T21:09:02.171Z"
   },
   {
    "duration": 0,
    "start_time": "2022-08-06T21:09:02.172Z"
   },
   {
    "duration": 0,
    "start_time": "2022-08-06T21:09:02.173Z"
   },
   {
    "duration": 0,
    "start_time": "2022-08-06T21:09:02.174Z"
   },
   {
    "duration": 0,
    "start_time": "2022-08-06T21:09:02.175Z"
   },
   {
    "duration": 0,
    "start_time": "2022-08-06T21:09:02.176Z"
   },
   {
    "duration": 0,
    "start_time": "2022-08-06T21:09:02.177Z"
   },
   {
    "duration": 0,
    "start_time": "2022-08-06T21:09:02.178Z"
   },
   {
    "duration": 0,
    "start_time": "2022-08-06T21:09:02.179Z"
   },
   {
    "duration": 0,
    "start_time": "2022-08-06T21:09:02.180Z"
   },
   {
    "duration": 0,
    "start_time": "2022-08-06T21:09:02.181Z"
   },
   {
    "duration": 0,
    "start_time": "2022-08-06T21:09:02.182Z"
   },
   {
    "duration": 0,
    "start_time": "2022-08-06T21:09:02.183Z"
   },
   {
    "duration": 0,
    "start_time": "2022-08-06T21:09:02.185Z"
   },
   {
    "duration": 0,
    "start_time": "2022-08-06T21:09:02.186Z"
   },
   {
    "duration": 1,
    "start_time": "2022-08-06T21:09:02.186Z"
   },
   {
    "duration": 0,
    "start_time": "2022-08-06T21:09:02.187Z"
   },
   {
    "duration": 0,
    "start_time": "2022-08-06T21:09:02.188Z"
   },
   {
    "duration": 0,
    "start_time": "2022-08-06T21:09:02.189Z"
   },
   {
    "duration": 167,
    "start_time": "2022-08-06T21:11:41.574Z"
   },
   {
    "duration": 166,
    "start_time": "2022-08-06T21:11:57.797Z"
   },
   {
    "duration": 261,
    "start_time": "2022-08-06T21:13:02.412Z"
   },
   {
    "duration": 50,
    "start_time": "2022-08-07T16:00:28.104Z"
   },
   {
    "duration": 4584,
    "start_time": "2022-08-07T16:00:46.476Z"
   },
   {
    "duration": 84,
    "start_time": "2022-08-07T16:00:51.062Z"
   },
   {
    "duration": 19,
    "start_time": "2022-08-07T16:00:51.148Z"
   },
   {
    "duration": 4,
    "start_time": "2022-08-07T16:00:51.169Z"
   },
   {
    "duration": 28,
    "start_time": "2022-08-07T16:00:51.174Z"
   },
   {
    "duration": 7,
    "start_time": "2022-08-07T16:00:51.204Z"
   },
   {
    "duration": 11,
    "start_time": "2022-08-07T16:00:51.212Z"
   },
   {
    "duration": 12,
    "start_time": "2022-08-07T16:00:51.225Z"
   },
   {
    "duration": 2,
    "start_time": "2022-08-07T16:00:51.239Z"
   },
   {
    "duration": 5,
    "start_time": "2022-08-07T16:00:51.243Z"
   },
   {
    "duration": 9,
    "start_time": "2022-08-07T16:00:51.250Z"
   },
   {
    "duration": 40,
    "start_time": "2022-08-07T16:00:51.260Z"
   },
   {
    "duration": 5,
    "start_time": "2022-08-07T16:00:51.302Z"
   },
   {
    "duration": 39,
    "start_time": "2022-08-07T16:00:51.309Z"
   },
   {
    "duration": 4,
    "start_time": "2022-08-07T16:00:51.350Z"
   },
   {
    "duration": 334,
    "start_time": "2022-08-07T16:00:51.355Z"
   },
   {
    "duration": 0,
    "start_time": "2022-08-07T16:00:51.692Z"
   },
   {
    "duration": 0,
    "start_time": "2022-08-07T16:00:51.694Z"
   },
   {
    "duration": 0,
    "start_time": "2022-08-07T16:00:51.695Z"
   },
   {
    "duration": 0,
    "start_time": "2022-08-07T16:00:51.697Z"
   },
   {
    "duration": 0,
    "start_time": "2022-08-07T16:00:51.699Z"
   },
   {
    "duration": 0,
    "start_time": "2022-08-07T16:00:51.701Z"
   },
   {
    "duration": 0,
    "start_time": "2022-08-07T16:00:51.702Z"
   },
   {
    "duration": 0,
    "start_time": "2022-08-07T16:00:51.705Z"
   },
   {
    "duration": 0,
    "start_time": "2022-08-07T16:00:51.706Z"
   },
   {
    "duration": 0,
    "start_time": "2022-08-07T16:00:51.708Z"
   },
   {
    "duration": 0,
    "start_time": "2022-08-07T16:00:51.709Z"
   },
   {
    "duration": 0,
    "start_time": "2022-08-07T16:00:51.710Z"
   },
   {
    "duration": 0,
    "start_time": "2022-08-07T16:00:51.712Z"
   },
   {
    "duration": 0,
    "start_time": "2022-08-07T16:00:51.713Z"
   },
   {
    "duration": 0,
    "start_time": "2022-08-07T16:00:51.714Z"
   },
   {
    "duration": 0,
    "start_time": "2022-08-07T16:00:51.716Z"
   },
   {
    "duration": 0,
    "start_time": "2022-08-07T16:00:51.717Z"
   },
   {
    "duration": 0,
    "start_time": "2022-08-07T16:00:51.719Z"
   },
   {
    "duration": 0,
    "start_time": "2022-08-07T16:00:51.720Z"
   },
   {
    "duration": 0,
    "start_time": "2022-08-07T16:00:51.722Z"
   },
   {
    "duration": 0,
    "start_time": "2022-08-07T16:00:51.723Z"
   },
   {
    "duration": 0,
    "start_time": "2022-08-07T16:00:51.724Z"
   },
   {
    "duration": 0,
    "start_time": "2022-08-07T16:00:51.726Z"
   },
   {
    "duration": 0,
    "start_time": "2022-08-07T16:00:51.727Z"
   },
   {
    "duration": 329,
    "start_time": "2022-08-07T16:02:01.836Z"
   },
   {
    "duration": 273,
    "start_time": "2022-08-07T16:02:35.117Z"
   },
   {
    "duration": 16,
    "start_time": "2022-08-07T16:03:05.896Z"
   },
   {
    "duration": 515,
    "start_time": "2022-08-07T16:03:21.389Z"
   },
   {
    "duration": 1114,
    "start_time": "2022-08-07T16:03:24.173Z"
   },
   {
    "duration": 9,
    "start_time": "2022-08-07T16:03:28.782Z"
   },
   {
    "duration": 9,
    "start_time": "2022-08-07T16:03:29.446Z"
   },
   {
    "duration": 279,
    "start_time": "2022-08-07T16:03:30.895Z"
   },
   {
    "duration": 358,
    "start_time": "2022-08-07T16:03:32.214Z"
   },
   {
    "duration": 179,
    "start_time": "2022-08-07T16:03:44.055Z"
   },
   {
    "duration": 603,
    "start_time": "2022-08-07T16:04:56.685Z"
   },
   {
    "duration": 348,
    "start_time": "2022-08-07T16:05:18.988Z"
   },
   {
    "duration": 626,
    "start_time": "2022-08-07T16:05:33.305Z"
   },
   {
    "duration": 1412,
    "start_time": "2022-08-07T16:06:09.200Z"
   },
   {
    "duration": 927,
    "start_time": "2022-08-07T16:06:18.741Z"
   },
   {
    "duration": 1334,
    "start_time": "2022-08-07T16:06:27.563Z"
   },
   {
    "duration": 27,
    "start_time": "2022-08-07T16:06:37.711Z"
   },
   {
    "duration": 13,
    "start_time": "2022-08-07T16:06:38.229Z"
   },
   {
    "duration": 23,
    "start_time": "2022-08-07T16:06:38.703Z"
   },
   {
    "duration": 1390,
    "start_time": "2022-08-07T16:06:39.204Z"
   },
   {
    "duration": 23,
    "start_time": "2022-08-07T16:06:40.596Z"
   },
   {
    "duration": 1111,
    "start_time": "2022-08-07T16:06:40.927Z"
   },
   {
    "duration": 466,
    "start_time": "2022-08-07T16:06:42.226Z"
   },
   {
    "duration": 193,
    "start_time": "2022-08-07T16:06:42.695Z"
   },
   {
    "duration": 445,
    "start_time": "2022-08-07T16:06:44.545Z"
   },
   {
    "duration": 23,
    "start_time": "2022-08-07T16:07:04.387Z"
   },
   {
    "duration": 930,
    "start_time": "2022-08-07T16:07:09.519Z"
   },
   {
    "duration": 761,
    "start_time": "2022-08-07T16:07:15.414Z"
   },
   {
    "duration": 958,
    "start_time": "2022-08-07T16:07:21.179Z"
   },
   {
    "duration": 364,
    "start_time": "2022-08-07T16:07:27.133Z"
   },
   {
    "duration": 665,
    "start_time": "2022-08-07T16:07:34.137Z"
   },
   {
    "duration": 158,
    "start_time": "2022-08-07T16:07:47.091Z"
   },
   {
    "duration": 6,
    "start_time": "2022-08-07T16:07:47.565Z"
   },
   {
    "duration": 3359,
    "start_time": "2022-08-07T16:08:01.935Z"
   },
   {
    "duration": 42,
    "start_time": "2022-08-07T16:08:05.296Z"
   },
   {
    "duration": 20,
    "start_time": "2022-08-07T16:08:05.340Z"
   },
   {
    "duration": 4,
    "start_time": "2022-08-07T16:08:05.362Z"
   },
   {
    "duration": 5,
    "start_time": "2022-08-07T16:08:05.367Z"
   },
   {
    "duration": 14,
    "start_time": "2022-08-07T16:08:05.373Z"
   },
   {
    "duration": 9,
    "start_time": "2022-08-07T16:08:05.388Z"
   },
   {
    "duration": 16,
    "start_time": "2022-08-07T16:08:05.398Z"
   },
   {
    "duration": 3,
    "start_time": "2022-08-07T16:08:05.415Z"
   },
   {
    "duration": 8,
    "start_time": "2022-08-07T16:08:05.420Z"
   },
   {
    "duration": 10,
    "start_time": "2022-08-07T16:08:05.429Z"
   },
   {
    "duration": 11,
    "start_time": "2022-08-07T16:08:05.440Z"
   },
   {
    "duration": 35,
    "start_time": "2022-08-07T16:08:05.453Z"
   },
   {
    "duration": 38,
    "start_time": "2022-08-07T16:08:05.490Z"
   },
   {
    "duration": 5,
    "start_time": "2022-08-07T16:08:05.529Z"
   },
   {
    "duration": 357,
    "start_time": "2022-08-07T16:08:05.537Z"
   },
   {
    "duration": 602,
    "start_time": "2022-08-07T16:08:05.896Z"
   },
   {
    "duration": 991,
    "start_time": "2022-08-07T16:08:06.499Z"
   },
   {
    "duration": 97,
    "start_time": "2022-08-07T16:08:07.493Z"
   },
   {
    "duration": 28,
    "start_time": "2022-08-07T16:08:07.592Z"
   },
   {
    "duration": 304,
    "start_time": "2022-08-07T16:08:07.622Z"
   },
   {
    "duration": 367,
    "start_time": "2022-08-07T16:08:07.928Z"
   },
   {
    "duration": 305,
    "start_time": "2022-08-07T16:08:08.297Z"
   },
   {
    "duration": 629,
    "start_time": "2022-08-07T16:08:08.604Z"
   },
   {
    "duration": 396,
    "start_time": "2022-08-07T16:08:09.235Z"
   },
   {
    "duration": 713,
    "start_time": "2022-08-07T16:08:09.633Z"
   },
   {
    "duration": 2613,
    "start_time": "2022-08-07T16:08:10.348Z"
   },
   {
    "duration": 892,
    "start_time": "2022-08-07T16:08:12.964Z"
   },
   {
    "duration": 1501,
    "start_time": "2022-08-07T16:08:13.859Z"
   },
   {
    "duration": 43,
    "start_time": "2022-08-07T16:08:15.362Z"
   },
   {
    "duration": 14,
    "start_time": "2022-08-07T16:08:15.406Z"
   },
   {
    "duration": 29,
    "start_time": "2022-08-07T16:08:15.421Z"
   },
   {
    "duration": 744,
    "start_time": "2022-08-07T16:08:15.451Z"
   },
   {
    "duration": 461,
    "start_time": "2022-08-07T16:08:16.196Z"
   },
   {
    "duration": 937,
    "start_time": "2022-08-07T16:08:16.659Z"
   },
   {
    "duration": 489,
    "start_time": "2022-08-07T16:08:17.599Z"
   },
   {
    "duration": 204,
    "start_time": "2022-08-07T16:08:18.090Z"
   },
   {
    "duration": 495,
    "start_time": "2022-08-07T16:08:18.297Z"
   },
   {
    "duration": 382,
    "start_time": "2022-08-07T16:08:18.795Z"
   },
   {
    "duration": 8,
    "start_time": "2022-08-07T16:08:19.179Z"
   },
   {
    "duration": 67,
    "start_time": "2022-08-07T16:13:34.823Z"
   },
   {
    "duration": 276,
    "start_time": "2022-08-07T16:13:42.582Z"
   },
   {
    "duration": 2100,
    "start_time": "2022-08-07T16:14:58.175Z"
   },
   {
    "duration": 294,
    "start_time": "2022-08-07T16:15:41.363Z"
   },
   {
    "duration": 306,
    "start_time": "2022-08-07T16:16:20.571Z"
   },
   {
    "duration": 297,
    "start_time": "2022-08-07T16:17:16.762Z"
   },
   {
    "duration": 600,
    "start_time": "2022-08-07T16:18:31.711Z"
   },
   {
    "duration": 1433,
    "start_time": "2022-08-07T16:19:06.139Z"
   },
   {
    "duration": 3568,
    "start_time": "2022-08-07T16:20:55.884Z"
   },
   {
    "duration": 43,
    "start_time": "2022-08-07T16:20:59.454Z"
   },
   {
    "duration": 19,
    "start_time": "2022-08-07T16:20:59.498Z"
   },
   {
    "duration": 5,
    "start_time": "2022-08-07T16:20:59.519Z"
   },
   {
    "duration": 6,
    "start_time": "2022-08-07T16:20:59.526Z"
   },
   {
    "duration": 9,
    "start_time": "2022-08-07T16:20:59.533Z"
   },
   {
    "duration": 11,
    "start_time": "2022-08-07T16:20:59.544Z"
   },
   {
    "duration": 40,
    "start_time": "2022-08-07T16:20:59.557Z"
   },
   {
    "duration": 3,
    "start_time": "2022-08-07T16:20:59.599Z"
   },
   {
    "duration": 8,
    "start_time": "2022-08-07T16:20:59.604Z"
   },
   {
    "duration": 10,
    "start_time": "2022-08-07T16:20:59.614Z"
   },
   {
    "duration": 12,
    "start_time": "2022-08-07T16:20:59.626Z"
   },
   {
    "duration": 5,
    "start_time": "2022-08-07T16:20:59.640Z"
   },
   {
    "duration": 71,
    "start_time": "2022-08-07T16:20:59.646Z"
   },
   {
    "duration": 4,
    "start_time": "2022-08-07T16:20:59.719Z"
   },
   {
    "duration": 353,
    "start_time": "2022-08-07T16:20:59.724Z"
   },
   {
    "duration": 653,
    "start_time": "2022-08-07T16:21:00.079Z"
   },
   {
    "duration": 1239,
    "start_time": "2022-08-07T16:21:00.735Z"
   },
   {
    "duration": 10,
    "start_time": "2022-08-07T16:21:01.987Z"
   },
   {
    "duration": 19,
    "start_time": "2022-08-07T16:21:01.999Z"
   },
   {
    "duration": 403,
    "start_time": "2022-08-07T16:21:02.020Z"
   },
   {
    "duration": 322,
    "start_time": "2022-08-07T16:21:02.425Z"
   },
   {
    "duration": 205,
    "start_time": "2022-08-07T16:21:02.749Z"
   },
   {
    "duration": 598,
    "start_time": "2022-08-07T16:21:02.955Z"
   },
   {
    "duration": 393,
    "start_time": "2022-08-07T16:21:03.555Z"
   },
   {
    "duration": 712,
    "start_time": "2022-08-07T16:21:03.951Z"
   },
   {
    "duration": 1765,
    "start_time": "2022-08-07T16:21:04.665Z"
   },
   {
    "duration": 1217,
    "start_time": "2022-08-07T16:21:06.434Z"
   },
   {
    "duration": 1878,
    "start_time": "2022-08-07T16:21:07.653Z"
   },
   {
    "duration": 27,
    "start_time": "2022-08-07T16:21:09.533Z"
   },
   {
    "duration": 36,
    "start_time": "2022-08-07T16:21:09.562Z"
   },
   {
    "duration": 35,
    "start_time": "2022-08-07T16:21:09.600Z"
   },
   {
    "duration": 791,
    "start_time": "2022-08-07T16:21:09.637Z"
   },
   {
    "duration": 400,
    "start_time": "2022-08-07T16:21:10.430Z"
   },
   {
    "duration": 942,
    "start_time": "2022-08-07T16:21:10.832Z"
   },
   {
    "duration": 712,
    "start_time": "2022-08-07T16:21:11.775Z"
   },
   {
    "duration": 109,
    "start_time": "2022-08-07T16:21:12.489Z"
   },
   {
    "duration": 703,
    "start_time": "2022-08-07T16:21:12.600Z"
   },
   {
    "duration": 307,
    "start_time": "2022-08-07T16:21:13.388Z"
   },
   {
    "duration": 7,
    "start_time": "2022-08-07T16:21:13.697Z"
   },
   {
    "duration": 310,
    "start_time": "2022-08-07T16:30:09.955Z"
   },
   {
    "duration": 312,
    "start_time": "2022-08-07T16:30:32.842Z"
   },
   {
    "duration": 49,
    "start_time": "2022-08-07T16:58:29.502Z"
   },
   {
    "duration": 25,
    "start_time": "2022-08-07T16:58:35.107Z"
   },
   {
    "duration": 17,
    "start_time": "2022-08-07T16:58:43.799Z"
   }
  ],
  "kernelspec": {
   "display_name": "Python 3 (ipykernel)",
   "language": "python",
   "name": "python3"
  },
  "language_info": {
   "codemirror_mode": {
    "name": "ipython",
    "version": 3
   },
   "file_extension": ".py",
   "mimetype": "text/x-python",
   "name": "python",
   "nbconvert_exporter": "python",
   "pygments_lexer": "ipython3",
   "version": "3.9.12"
  },
  "toc": {
   "base_numbering": 1,
   "nav_menu": {},
   "number_sections": true,
   "sideBar": true,
   "skip_h1_title": true,
   "title_cell": "Содержание",
   "title_sidebar": "Contents",
   "toc_cell": true,
   "toc_position": {
    "height": "calc(100% - 180px)",
    "left": "10px",
    "top": "150px",
    "width": "165px"
   },
   "toc_section_display": true,
   "toc_window_display": true
  }
 },
 "nbformat": 4,
 "nbformat_minor": 2
}
