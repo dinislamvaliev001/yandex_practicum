{
 "cells": [
  {
   "cell_type": "markdown",
   "metadata": {},
   "source": [
    "# Выбор локации для скважины"
   ]
  },
  {
   "cell_type": "markdown",
   "metadata": {},
   "source": [
    "Допустим, мы работаем в добывающей компании «ГлавРосГосНефть». Нужно решить, где бурить новую скважину.\n",
    "\n",
    "Нам предоставлены пробы нефти в трёх регионах: в каждом 10 000 месторождений, где измерили качество нефти и объём её запасов. Построем модель машинного обучения, которая поможет определить регион, где добыча принесёт наибольшую прибыль. Проанализируем возможную прибыль и риски техникой *Bootstrap.*\n",
    "\n",
    "Шаги для выбора локации:\n",
    "\n",
    "- В избранном регионе ищут месторождения, для каждого определяют значения признаков;\n",
    "- Строят модель и оценивают объём запасов;\n",
    "- Выбирают месторождения с самым высокими оценками значений. Количество месторождений зависит от бюджета компании и стоимости разработки одной скважины;\n",
    "- Прибыль равна суммарной прибыли отобранных месторождений."
   ]
  },
  {
   "cell_type": "markdown",
   "metadata": {},
   "source": [
    "## Загрузка и подготовка данных"
   ]
  },
  {
   "cell_type": "code",
   "execution_count": 1,
   "metadata": {},
   "outputs": [],
   "source": [
    "import pandas as pd\n",
    "import numpy as np\n",
    "import matplotlib.pyplot as plt \n",
    "\n",
    "from sklearn.model_selection import train_test_split\n",
    "from sklearn.linear_model import LinearRegression\n",
    "from sklearn.preprocessing import StandardScaler\n",
    "from sklearn.metrics import mean_squared_error\n",
    "from sklearn.metrics import mean_absolute_error\n",
    "from sklearn.metrics import mean_squared_error\n",
    "from numpy.random import RandomState\n",
    "from scipy import stats\n",
    "\n",
    "RANDOM = 42\n",
    "state = RandomState(RANDOM) "
   ]
  },
  {
   "cell_type": "markdown",
   "metadata": {},
   "source": [
    "Запишем данные нужные для расчета прибыли"
   ]
  },
  {
   "cell_type": "code",
   "execution_count": 2,
   "metadata": {},
   "outputs": [],
   "source": [
    "BUDGET = 10**10\n",
    "LOSSES = 2.5\n",
    "INCOME_MATERIALS = 450\n",
    "INCOME_PRODUCT = 450000\n",
    "NUMBER_WELLS = 200"
   ]
  },
  {
   "cell_type": "code",
   "execution_count": 3,
   "metadata": {},
   "outputs": [],
   "source": [
    "data_0 = pd.read_csv('/datasets/geo_data_0.csv')\n",
    "data_1 = pd.read_csv('/datasets/geo_data_1.csv')\n",
    "data_2 = pd.read_csv('/datasets/geo_data_2.csv')"
   ]
  },
  {
   "cell_type": "code",
   "execution_count": 4,
   "metadata": {},
   "outputs": [
    {
     "data": {
      "text/html": [
       "<div>\n",
       "<style scoped>\n",
       "    .dataframe tbody tr th:only-of-type {\n",
       "        vertical-align: middle;\n",
       "    }\n",
       "\n",
       "    .dataframe tbody tr th {\n",
       "        vertical-align: top;\n",
       "    }\n",
       "\n",
       "    .dataframe thead th {\n",
       "        text-align: right;\n",
       "    }\n",
       "</style>\n",
       "<table border=\"1\" class=\"dataframe\">\n",
       "  <thead>\n",
       "    <tr style=\"text-align: right;\">\n",
       "      <th></th>\n",
       "      <th>id</th>\n",
       "      <th>f0</th>\n",
       "      <th>f1</th>\n",
       "      <th>f2</th>\n",
       "      <th>product</th>\n",
       "    </tr>\n",
       "  </thead>\n",
       "  <tbody>\n",
       "    <tr>\n",
       "      <th>0</th>\n",
       "      <td>txEyH</td>\n",
       "      <td>0.705745</td>\n",
       "      <td>-0.497823</td>\n",
       "      <td>1.221170</td>\n",
       "      <td>105.280062</td>\n",
       "    </tr>\n",
       "    <tr>\n",
       "      <th>1</th>\n",
       "      <td>2acmU</td>\n",
       "      <td>1.334711</td>\n",
       "      <td>-0.340164</td>\n",
       "      <td>4.365080</td>\n",
       "      <td>73.037750</td>\n",
       "    </tr>\n",
       "    <tr>\n",
       "      <th>2</th>\n",
       "      <td>409Wp</td>\n",
       "      <td>1.022732</td>\n",
       "      <td>0.151990</td>\n",
       "      <td>1.419926</td>\n",
       "      <td>85.265647</td>\n",
       "    </tr>\n",
       "    <tr>\n",
       "      <th>3</th>\n",
       "      <td>iJLyR</td>\n",
       "      <td>-0.032172</td>\n",
       "      <td>0.139033</td>\n",
       "      <td>2.978566</td>\n",
       "      <td>168.620776</td>\n",
       "    </tr>\n",
       "    <tr>\n",
       "      <th>4</th>\n",
       "      <td>Xdl7t</td>\n",
       "      <td>1.988431</td>\n",
       "      <td>0.155413</td>\n",
       "      <td>4.751769</td>\n",
       "      <td>154.036647</td>\n",
       "    </tr>\n",
       "  </tbody>\n",
       "</table>\n",
       "</div>"
      ],
      "text/plain": [
       "      id        f0        f1        f2     product\n",
       "0  txEyH  0.705745 -0.497823  1.221170  105.280062\n",
       "1  2acmU  1.334711 -0.340164  4.365080   73.037750\n",
       "2  409Wp  1.022732  0.151990  1.419926   85.265647\n",
       "3  iJLyR -0.032172  0.139033  2.978566  168.620776\n",
       "4  Xdl7t  1.988431  0.155413  4.751769  154.036647"
      ]
     },
     "metadata": {},
     "output_type": "display_data"
    },
    {
     "name": "stdout",
     "output_type": "stream",
     "text": [
      "<class 'pandas.core.frame.DataFrame'>\n",
      "RangeIndex: 100000 entries, 0 to 99999\n",
      "Data columns (total 5 columns):\n",
      " #   Column   Non-Null Count   Dtype  \n",
      "---  ------   --------------   -----  \n",
      " 0   id       100000 non-null  object \n",
      " 1   f0       100000 non-null  float64\n",
      " 2   f1       100000 non-null  float64\n",
      " 3   f2       100000 non-null  float64\n",
      " 4   product  100000 non-null  float64\n",
      "dtypes: float64(4), object(1)\n",
      "memory usage: 3.8+ MB\n"
     ]
    },
    {
     "data": {
      "text/html": [
       "<div>\n",
       "<style scoped>\n",
       "    .dataframe tbody tr th:only-of-type {\n",
       "        vertical-align: middle;\n",
       "    }\n",
       "\n",
       "    .dataframe tbody tr th {\n",
       "        vertical-align: top;\n",
       "    }\n",
       "\n",
       "    .dataframe thead th {\n",
       "        text-align: right;\n",
       "    }\n",
       "</style>\n",
       "<table border=\"1\" class=\"dataframe\">\n",
       "  <thead>\n",
       "    <tr style=\"text-align: right;\">\n",
       "      <th></th>\n",
       "      <th>f0</th>\n",
       "      <th>f1</th>\n",
       "      <th>f2</th>\n",
       "      <th>product</th>\n",
       "    </tr>\n",
       "  </thead>\n",
       "  <tbody>\n",
       "    <tr>\n",
       "      <th>count</th>\n",
       "      <td>100000.000000</td>\n",
       "      <td>100000.000000</td>\n",
       "      <td>100000.000000</td>\n",
       "      <td>100000.000000</td>\n",
       "    </tr>\n",
       "    <tr>\n",
       "      <th>mean</th>\n",
       "      <td>0.500419</td>\n",
       "      <td>0.250143</td>\n",
       "      <td>2.502647</td>\n",
       "      <td>92.500000</td>\n",
       "    </tr>\n",
       "    <tr>\n",
       "      <th>std</th>\n",
       "      <td>0.871832</td>\n",
       "      <td>0.504433</td>\n",
       "      <td>3.248248</td>\n",
       "      <td>44.288691</td>\n",
       "    </tr>\n",
       "    <tr>\n",
       "      <th>min</th>\n",
       "      <td>-1.408605</td>\n",
       "      <td>-0.848218</td>\n",
       "      <td>-12.088328</td>\n",
       "      <td>0.000000</td>\n",
       "    </tr>\n",
       "    <tr>\n",
       "      <th>25%</th>\n",
       "      <td>-0.072580</td>\n",
       "      <td>-0.200881</td>\n",
       "      <td>0.287748</td>\n",
       "      <td>56.497507</td>\n",
       "    </tr>\n",
       "    <tr>\n",
       "      <th>50%</th>\n",
       "      <td>0.502360</td>\n",
       "      <td>0.250252</td>\n",
       "      <td>2.515969</td>\n",
       "      <td>91.849972</td>\n",
       "    </tr>\n",
       "    <tr>\n",
       "      <th>75%</th>\n",
       "      <td>1.073581</td>\n",
       "      <td>0.700646</td>\n",
       "      <td>4.715088</td>\n",
       "      <td>128.564089</td>\n",
       "    </tr>\n",
       "    <tr>\n",
       "      <th>max</th>\n",
       "      <td>2.362331</td>\n",
       "      <td>1.343769</td>\n",
       "      <td>16.003790</td>\n",
       "      <td>185.364347</td>\n",
       "    </tr>\n",
       "  </tbody>\n",
       "</table>\n",
       "</div>"
      ],
      "text/plain": [
       "                  f0             f1             f2        product\n",
       "count  100000.000000  100000.000000  100000.000000  100000.000000\n",
       "mean        0.500419       0.250143       2.502647      92.500000\n",
       "std         0.871832       0.504433       3.248248      44.288691\n",
       "min        -1.408605      -0.848218     -12.088328       0.000000\n",
       "25%        -0.072580      -0.200881       0.287748      56.497507\n",
       "50%         0.502360       0.250252       2.515969      91.849972\n",
       "75%         1.073581       0.700646       4.715088     128.564089\n",
       "max         2.362331       1.343769      16.003790     185.364347"
      ]
     },
     "execution_count": 4,
     "metadata": {},
     "output_type": "execute_result"
    }
   ],
   "source": [
    "display(data_0.head())\n",
    "data_0.info()\n",
    "data_0.describe()"
   ]
  },
  {
   "cell_type": "code",
   "execution_count": 5,
   "metadata": {},
   "outputs": [
    {
     "data": {
      "text/html": [
       "<div>\n",
       "<style scoped>\n",
       "    .dataframe tbody tr th:only-of-type {\n",
       "        vertical-align: middle;\n",
       "    }\n",
       "\n",
       "    .dataframe tbody tr th {\n",
       "        vertical-align: top;\n",
       "    }\n",
       "\n",
       "    .dataframe thead th {\n",
       "        text-align: right;\n",
       "    }\n",
       "</style>\n",
       "<table border=\"1\" class=\"dataframe\">\n",
       "  <thead>\n",
       "    <tr style=\"text-align: right;\">\n",
       "      <th></th>\n",
       "      <th>id</th>\n",
       "      <th>f0</th>\n",
       "      <th>f1</th>\n",
       "      <th>f2</th>\n",
       "      <th>product</th>\n",
       "    </tr>\n",
       "  </thead>\n",
       "  <tbody>\n",
       "    <tr>\n",
       "      <th>0</th>\n",
       "      <td>kBEdx</td>\n",
       "      <td>-15.001348</td>\n",
       "      <td>-8.276000</td>\n",
       "      <td>-0.005876</td>\n",
       "      <td>3.179103</td>\n",
       "    </tr>\n",
       "    <tr>\n",
       "      <th>1</th>\n",
       "      <td>62mP7</td>\n",
       "      <td>14.272088</td>\n",
       "      <td>-3.475083</td>\n",
       "      <td>0.999183</td>\n",
       "      <td>26.953261</td>\n",
       "    </tr>\n",
       "    <tr>\n",
       "      <th>2</th>\n",
       "      <td>vyE1P</td>\n",
       "      <td>6.263187</td>\n",
       "      <td>-5.948386</td>\n",
       "      <td>5.001160</td>\n",
       "      <td>134.766305</td>\n",
       "    </tr>\n",
       "    <tr>\n",
       "      <th>3</th>\n",
       "      <td>KcrkZ</td>\n",
       "      <td>-13.081196</td>\n",
       "      <td>-11.506057</td>\n",
       "      <td>4.999415</td>\n",
       "      <td>137.945408</td>\n",
       "    </tr>\n",
       "    <tr>\n",
       "      <th>4</th>\n",
       "      <td>AHL4O</td>\n",
       "      <td>12.702195</td>\n",
       "      <td>-8.147433</td>\n",
       "      <td>5.004363</td>\n",
       "      <td>134.766305</td>\n",
       "    </tr>\n",
       "  </tbody>\n",
       "</table>\n",
       "</div>"
      ],
      "text/plain": [
       "      id         f0         f1        f2     product\n",
       "0  kBEdx -15.001348  -8.276000 -0.005876    3.179103\n",
       "1  62mP7  14.272088  -3.475083  0.999183   26.953261\n",
       "2  vyE1P   6.263187  -5.948386  5.001160  134.766305\n",
       "3  KcrkZ -13.081196 -11.506057  4.999415  137.945408\n",
       "4  AHL4O  12.702195  -8.147433  5.004363  134.766305"
      ]
     },
     "metadata": {},
     "output_type": "display_data"
    },
    {
     "name": "stdout",
     "output_type": "stream",
     "text": [
      "<class 'pandas.core.frame.DataFrame'>\n",
      "RangeIndex: 100000 entries, 0 to 99999\n",
      "Data columns (total 5 columns):\n",
      " #   Column   Non-Null Count   Dtype  \n",
      "---  ------   --------------   -----  \n",
      " 0   id       100000 non-null  object \n",
      " 1   f0       100000 non-null  float64\n",
      " 2   f1       100000 non-null  float64\n",
      " 3   f2       100000 non-null  float64\n",
      " 4   product  100000 non-null  float64\n",
      "dtypes: float64(4), object(1)\n",
      "memory usage: 3.8+ MB\n"
     ]
    },
    {
     "data": {
      "text/html": [
       "<div>\n",
       "<style scoped>\n",
       "    .dataframe tbody tr th:only-of-type {\n",
       "        vertical-align: middle;\n",
       "    }\n",
       "\n",
       "    .dataframe tbody tr th {\n",
       "        vertical-align: top;\n",
       "    }\n",
       "\n",
       "    .dataframe thead th {\n",
       "        text-align: right;\n",
       "    }\n",
       "</style>\n",
       "<table border=\"1\" class=\"dataframe\">\n",
       "  <thead>\n",
       "    <tr style=\"text-align: right;\">\n",
       "      <th></th>\n",
       "      <th>f0</th>\n",
       "      <th>f1</th>\n",
       "      <th>f2</th>\n",
       "      <th>product</th>\n",
       "    </tr>\n",
       "  </thead>\n",
       "  <tbody>\n",
       "    <tr>\n",
       "      <th>count</th>\n",
       "      <td>100000.000000</td>\n",
       "      <td>100000.000000</td>\n",
       "      <td>100000.000000</td>\n",
       "      <td>100000.000000</td>\n",
       "    </tr>\n",
       "    <tr>\n",
       "      <th>mean</th>\n",
       "      <td>1.141296</td>\n",
       "      <td>-4.796579</td>\n",
       "      <td>2.494541</td>\n",
       "      <td>68.825000</td>\n",
       "    </tr>\n",
       "    <tr>\n",
       "      <th>std</th>\n",
       "      <td>8.965932</td>\n",
       "      <td>5.119872</td>\n",
       "      <td>1.703572</td>\n",
       "      <td>45.944423</td>\n",
       "    </tr>\n",
       "    <tr>\n",
       "      <th>min</th>\n",
       "      <td>-31.609576</td>\n",
       "      <td>-26.358598</td>\n",
       "      <td>-0.018144</td>\n",
       "      <td>0.000000</td>\n",
       "    </tr>\n",
       "    <tr>\n",
       "      <th>25%</th>\n",
       "      <td>-6.298551</td>\n",
       "      <td>-8.267985</td>\n",
       "      <td>1.000021</td>\n",
       "      <td>26.953261</td>\n",
       "    </tr>\n",
       "    <tr>\n",
       "      <th>50%</th>\n",
       "      <td>1.153055</td>\n",
       "      <td>-4.813172</td>\n",
       "      <td>2.011479</td>\n",
       "      <td>57.085625</td>\n",
       "    </tr>\n",
       "    <tr>\n",
       "      <th>75%</th>\n",
       "      <td>8.621015</td>\n",
       "      <td>-1.332816</td>\n",
       "      <td>3.999904</td>\n",
       "      <td>107.813044</td>\n",
       "    </tr>\n",
       "    <tr>\n",
       "      <th>max</th>\n",
       "      <td>29.421755</td>\n",
       "      <td>18.734063</td>\n",
       "      <td>5.019721</td>\n",
       "      <td>137.945408</td>\n",
       "    </tr>\n",
       "  </tbody>\n",
       "</table>\n",
       "</div>"
      ],
      "text/plain": [
       "                  f0             f1             f2        product\n",
       "count  100000.000000  100000.000000  100000.000000  100000.000000\n",
       "mean        1.141296      -4.796579       2.494541      68.825000\n",
       "std         8.965932       5.119872       1.703572      45.944423\n",
       "min       -31.609576     -26.358598      -0.018144       0.000000\n",
       "25%        -6.298551      -8.267985       1.000021      26.953261\n",
       "50%         1.153055      -4.813172       2.011479      57.085625\n",
       "75%         8.621015      -1.332816       3.999904     107.813044\n",
       "max        29.421755      18.734063       5.019721     137.945408"
      ]
     },
     "execution_count": 5,
     "metadata": {},
     "output_type": "execute_result"
    }
   ],
   "source": [
    "display(data_1.head())\n",
    "data_1.info()\n",
    "data_1.describe()"
   ]
  },
  {
   "cell_type": "code",
   "execution_count": 6,
   "metadata": {},
   "outputs": [
    {
     "data": {
      "text/html": [
       "<div>\n",
       "<style scoped>\n",
       "    .dataframe tbody tr th:only-of-type {\n",
       "        vertical-align: middle;\n",
       "    }\n",
       "\n",
       "    .dataframe tbody tr th {\n",
       "        vertical-align: top;\n",
       "    }\n",
       "\n",
       "    .dataframe thead th {\n",
       "        text-align: right;\n",
       "    }\n",
       "</style>\n",
       "<table border=\"1\" class=\"dataframe\">\n",
       "  <thead>\n",
       "    <tr style=\"text-align: right;\">\n",
       "      <th></th>\n",
       "      <th>id</th>\n",
       "      <th>f0</th>\n",
       "      <th>f1</th>\n",
       "      <th>f2</th>\n",
       "      <th>product</th>\n",
       "    </tr>\n",
       "  </thead>\n",
       "  <tbody>\n",
       "    <tr>\n",
       "      <th>0</th>\n",
       "      <td>fwXo0</td>\n",
       "      <td>-1.146987</td>\n",
       "      <td>0.963328</td>\n",
       "      <td>-0.828965</td>\n",
       "      <td>27.758673</td>\n",
       "    </tr>\n",
       "    <tr>\n",
       "      <th>1</th>\n",
       "      <td>WJtFt</td>\n",
       "      <td>0.262778</td>\n",
       "      <td>0.269839</td>\n",
       "      <td>-2.530187</td>\n",
       "      <td>56.069697</td>\n",
       "    </tr>\n",
       "    <tr>\n",
       "      <th>2</th>\n",
       "      <td>ovLUW</td>\n",
       "      <td>0.194587</td>\n",
       "      <td>0.289035</td>\n",
       "      <td>-5.586433</td>\n",
       "      <td>62.871910</td>\n",
       "    </tr>\n",
       "    <tr>\n",
       "      <th>3</th>\n",
       "      <td>q6cA6</td>\n",
       "      <td>2.236060</td>\n",
       "      <td>-0.553760</td>\n",
       "      <td>0.930038</td>\n",
       "      <td>114.572842</td>\n",
       "    </tr>\n",
       "    <tr>\n",
       "      <th>4</th>\n",
       "      <td>WPMUX</td>\n",
       "      <td>-0.515993</td>\n",
       "      <td>1.716266</td>\n",
       "      <td>5.899011</td>\n",
       "      <td>149.600746</td>\n",
       "    </tr>\n",
       "  </tbody>\n",
       "</table>\n",
       "</div>"
      ],
      "text/plain": [
       "      id        f0        f1        f2     product\n",
       "0  fwXo0 -1.146987  0.963328 -0.828965   27.758673\n",
       "1  WJtFt  0.262778  0.269839 -2.530187   56.069697\n",
       "2  ovLUW  0.194587  0.289035 -5.586433   62.871910\n",
       "3  q6cA6  2.236060 -0.553760  0.930038  114.572842\n",
       "4  WPMUX -0.515993  1.716266  5.899011  149.600746"
      ]
     },
     "metadata": {},
     "output_type": "display_data"
    },
    {
     "name": "stdout",
     "output_type": "stream",
     "text": [
      "<class 'pandas.core.frame.DataFrame'>\n",
      "RangeIndex: 100000 entries, 0 to 99999\n",
      "Data columns (total 5 columns):\n",
      " #   Column   Non-Null Count   Dtype  \n",
      "---  ------   --------------   -----  \n",
      " 0   id       100000 non-null  object \n",
      " 1   f0       100000 non-null  float64\n",
      " 2   f1       100000 non-null  float64\n",
      " 3   f2       100000 non-null  float64\n",
      " 4   product  100000 non-null  float64\n",
      "dtypes: float64(4), object(1)\n",
      "memory usage: 3.8+ MB\n"
     ]
    },
    {
     "data": {
      "text/html": [
       "<div>\n",
       "<style scoped>\n",
       "    .dataframe tbody tr th:only-of-type {\n",
       "        vertical-align: middle;\n",
       "    }\n",
       "\n",
       "    .dataframe tbody tr th {\n",
       "        vertical-align: top;\n",
       "    }\n",
       "\n",
       "    .dataframe thead th {\n",
       "        text-align: right;\n",
       "    }\n",
       "</style>\n",
       "<table border=\"1\" class=\"dataframe\">\n",
       "  <thead>\n",
       "    <tr style=\"text-align: right;\">\n",
       "      <th></th>\n",
       "      <th>f0</th>\n",
       "      <th>f1</th>\n",
       "      <th>f2</th>\n",
       "      <th>product</th>\n",
       "    </tr>\n",
       "  </thead>\n",
       "  <tbody>\n",
       "    <tr>\n",
       "      <th>count</th>\n",
       "      <td>100000.000000</td>\n",
       "      <td>100000.000000</td>\n",
       "      <td>100000.000000</td>\n",
       "      <td>100000.000000</td>\n",
       "    </tr>\n",
       "    <tr>\n",
       "      <th>mean</th>\n",
       "      <td>0.002023</td>\n",
       "      <td>-0.002081</td>\n",
       "      <td>2.495128</td>\n",
       "      <td>95.000000</td>\n",
       "    </tr>\n",
       "    <tr>\n",
       "      <th>std</th>\n",
       "      <td>1.732045</td>\n",
       "      <td>1.730417</td>\n",
       "      <td>3.473445</td>\n",
       "      <td>44.749921</td>\n",
       "    </tr>\n",
       "    <tr>\n",
       "      <th>min</th>\n",
       "      <td>-8.760004</td>\n",
       "      <td>-7.084020</td>\n",
       "      <td>-11.970335</td>\n",
       "      <td>0.000000</td>\n",
       "    </tr>\n",
       "    <tr>\n",
       "      <th>25%</th>\n",
       "      <td>-1.162288</td>\n",
       "      <td>-1.174820</td>\n",
       "      <td>0.130359</td>\n",
       "      <td>59.450441</td>\n",
       "    </tr>\n",
       "    <tr>\n",
       "      <th>50%</th>\n",
       "      <td>0.009424</td>\n",
       "      <td>-0.009482</td>\n",
       "      <td>2.484236</td>\n",
       "      <td>94.925613</td>\n",
       "    </tr>\n",
       "    <tr>\n",
       "      <th>75%</th>\n",
       "      <td>1.158535</td>\n",
       "      <td>1.163678</td>\n",
       "      <td>4.858794</td>\n",
       "      <td>130.595027</td>\n",
       "    </tr>\n",
       "    <tr>\n",
       "      <th>max</th>\n",
       "      <td>7.238262</td>\n",
       "      <td>7.844801</td>\n",
       "      <td>16.739402</td>\n",
       "      <td>190.029838</td>\n",
       "    </tr>\n",
       "  </tbody>\n",
       "</table>\n",
       "</div>"
      ],
      "text/plain": [
       "                  f0             f1             f2        product\n",
       "count  100000.000000  100000.000000  100000.000000  100000.000000\n",
       "mean        0.002023      -0.002081       2.495128      95.000000\n",
       "std         1.732045       1.730417       3.473445      44.749921\n",
       "min        -8.760004      -7.084020     -11.970335       0.000000\n",
       "25%        -1.162288      -1.174820       0.130359      59.450441\n",
       "50%         0.009424      -0.009482       2.484236      94.925613\n",
       "75%         1.158535       1.163678       4.858794     130.595027\n",
       "max         7.238262       7.844801      16.739402     190.029838"
      ]
     },
     "execution_count": 6,
     "metadata": {},
     "output_type": "execute_result"
    }
   ],
   "source": [
    "display(data_2.head())\n",
    "data_2.info()\n",
    "data_2.describe()"
   ]
  },
  {
   "cell_type": "code",
   "execution_count": 7,
   "metadata": {},
   "outputs": [
    {
     "name": "stdout",
     "output_type": "stream",
     "text": [
      "0\n",
      "0\n",
      "0\n"
     ]
    }
   ],
   "source": [
    "print(data_0.duplicated().sum())\n",
    "print(data_1.duplicated().sum())\n",
    "print(data_2.duplicated().sum())"
   ]
  },
  {
   "cell_type": "code",
   "execution_count": 8,
   "metadata": {},
   "outputs": [
    {
     "data": {
      "text/plain": [
       "<bound method DataFrame.corr of           id        f0        f1        f2     product\n",
       "0      txEyH  0.705745 -0.497823  1.221170  105.280062\n",
       "1      2acmU  1.334711 -0.340164  4.365080   73.037750\n",
       "2      409Wp  1.022732  0.151990  1.419926   85.265647\n",
       "3      iJLyR -0.032172  0.139033  2.978566  168.620776\n",
       "4      Xdl7t  1.988431  0.155413  4.751769  154.036647\n",
       "...      ...       ...       ...       ...         ...\n",
       "99995  DLsed  0.971957  0.370953  6.075346  110.744026\n",
       "99996  QKivN  1.392429 -0.382606  1.273912  122.346843\n",
       "99997  3rnvd  1.029585  0.018787 -1.348308   64.375443\n",
       "99998  7kl59  0.998163 -0.528582  1.583869   74.040764\n",
       "99999  1CWhH  1.764754 -0.266417  5.722849  149.633246\n",
       "\n",
       "[100000 rows x 5 columns]>"
      ]
     },
     "metadata": {},
     "output_type": "display_data"
    },
    {
     "data": {
      "text/plain": [
       "<bound method DataFrame.corr of           id         f0         f1        f2     product\n",
       "0      kBEdx -15.001348  -8.276000 -0.005876    3.179103\n",
       "1      62mP7  14.272088  -3.475083  0.999183   26.953261\n",
       "2      vyE1P   6.263187  -5.948386  5.001160  134.766305\n",
       "3      KcrkZ -13.081196 -11.506057  4.999415  137.945408\n",
       "4      AHL4O  12.702195  -8.147433  5.004363  134.766305\n",
       "...      ...        ...        ...       ...         ...\n",
       "99995  QywKC   9.535637  -6.878139  1.998296   53.906522\n",
       "99996  ptvty -10.160631 -12.558096  5.005581  137.945408\n",
       "99997  09gWa  -7.378891  -3.084104  4.998651  137.945408\n",
       "99998  rqwUm   0.665714  -6.152593  1.000146   30.132364\n",
       "99999  relB0  -3.426139  -7.794274 -0.003299    3.179103\n",
       "\n",
       "[100000 rows x 5 columns]>"
      ]
     },
     "metadata": {},
     "output_type": "display_data"
    },
    {
     "data": {
      "text/plain": [
       "<bound method DataFrame.corr of           id        f0        f1        f2     product\n",
       "0      fwXo0 -1.146987  0.963328 -0.828965   27.758673\n",
       "1      WJtFt  0.262778  0.269839 -2.530187   56.069697\n",
       "2      ovLUW  0.194587  0.289035 -5.586433   62.871910\n",
       "3      q6cA6  2.236060 -0.553760  0.930038  114.572842\n",
       "4      WPMUX -0.515993  1.716266  5.899011  149.600746\n",
       "...      ...       ...       ...       ...         ...\n",
       "99995  4GxBu -1.777037  1.125220  6.263374  172.327046\n",
       "99996  YKFjq -1.261523 -0.894828  2.524545  138.748846\n",
       "99997  tKPY3 -1.199934 -2.957637  5.219411  157.080080\n",
       "99998  nmxp2 -2.419896  2.417221 -5.548444   51.795253\n",
       "99999  V9kWn -2.551421 -2.025625  6.090891  102.775767\n",
       "\n",
       "[100000 rows x 5 columns]>"
      ]
     },
     "metadata": {},
     "output_type": "display_data"
    }
   ],
   "source": [
    "display(data_0.corr)\n",
    "display(data_1.corr)\n",
    "display(data_2.corr)"
   ]
  },
  {
   "cell_type": "markdown",
   "metadata": {},
   "source": [
    "## Обучение и проверка модели"
   ]
  },
  {
   "cell_type": "code",
   "execution_count": 9,
   "metadata": {},
   "outputs": [],
   "source": [
    "features_0 = data_0.drop(['product', 'id'], axis=1)  # извлекаем признаки \n",
    "target_0 = data_0['product'] # извлекаем целевой признак\n",
    "\n",
    "features_train_0, features_valid_0, target_train_0, target_valid_0 = train_test_split(\n",
    "    features_0, target_0, test_size=0.25, random_state=12345)"
   ]
  },
  {
   "cell_type": "code",
   "execution_count": 10,
   "metadata": {},
   "outputs": [],
   "source": [
    "features_1 = data_1.drop(['product', 'id'], axis=1)  # извлекаем признаки \n",
    "target_1 = data_1['product'] # извлекаем целевой признак\n",
    "\n",
    "features_train_1, features_valid_1, target_train_1, target_valid_1 = train_test_split(\n",
    "    features_1, target_1, test_size=0.25, random_state=12345)"
   ]
  },
  {
   "cell_type": "code",
   "execution_count": 11,
   "metadata": {},
   "outputs": [],
   "source": [
    "features_2 = data_2.drop(['product', 'id'], axis=1)  # извлекаем признаки \n",
    "target_2 = data_2['product'] # извлекаем целевой признак\n",
    "\n",
    "features_train_2, features_valid_2, target_train_2, target_valid_2 = train_test_split(\n",
    "    features_2, target_2, test_size=0.25, random_state=12345)"
   ]
  },
  {
   "cell_type": "code",
   "execution_count": 12,
   "metadata": {},
   "outputs": [
    {
     "name": "stdout",
     "output_type": "stream",
     "text": [
      "RMSE для региона №0 37.5794217150813\n",
      "Cредний запас предсказанного сырья для региона 92.59256778438035 \n",
      "\n",
      "RMSE для региона №1 0.893099286775617\n",
      "Cредний запас предсказанного сырья для региона 68.728546895446 \n",
      "\n",
      "RMSE для региона №2 40.02970873393434\n",
      "Cредний запас предсказанного сырья для региона 94.96504596800489 \n",
      "\n"
     ]
    }
   ],
   "source": [
    "# Обучим модель, для удобства создадим массив с тренировочными и валидными наборами\n",
    "train_features_general = [features_train_0, features_train_1, features_train_2]\n",
    "train_targets_general = [target_train_0, target_train_1, target_train_2]\n",
    "\n",
    "valid_features_general = [features_valid_0, features_valid_1, features_valid_2]\n",
    "valid_targets_general = [target_valid_0, target_valid_1, target_valid_2]\n",
    "\n",
    "predictions_general = []\n",
    "\n",
    "for num_geo in range(len(train_features_general)):\n",
    "    model = LinearRegression()\n",
    "    model.fit(train_features_general[num_geo], train_targets_general[num_geo])\n",
    "    predictions = model.predict(valid_features_general[num_geo])\n",
    "    predictions_general.append(pd.Series(predictions))\n",
    "    print('RMSE для региона №' + str(num_geo + 0), mean_squared_error(valid_targets_general[num_geo], predictions) ** 0.5)\n",
    "    print('Cредний запас предсказанного сырья для региона', predictions.mean(), '\\n')"
   ]
  },
  {
   "cell_type": "markdown",
   "metadata": {},
   "source": [
    "# Вывод: \n",
    "Нулевой регион: по среднему объему запасов региона на втором месте\n",
    "\n",
    "Первый регион: Ошибка в первом регионе самая маленькая, средний запас проигрывает другим регионам\n",
    "\n",
    "Второй регион: Самый большой средний объем запасов\n",
    "\n",
    "По полученным данным мы определили, что в нулевом и втором регионе наша модель предсказывает значения хуже чем в первом. Но самый большой запас сырья по предсказаниям находится в третьем регионе.       "
   ]
  },
  {
   "cell_type": "markdown",
   "metadata": {},
   "source": [
    "## Подготовка к расчёту прибыли"
   ]
  },
  {
   "cell_type": "code",
   "execution_count": 13,
   "metadata": {},
   "outputs": [
    {
     "name": "stdout",
     "output_type": "stream",
     "text": [
      "111.11111111111111\n"
     ]
    }
   ],
   "source": [
    "# Достаточное количество добычи нефти, для безубыточности\n",
    "PRODUCT = BUDGET / INCOME_PRODUCT / NUMBER_WELLS\n",
    "\n",
    "print(PRODUCT)"
   ]
  },
  {
   "cell_type": "markdown",
   "metadata": {},
   "source": [
    "Вывод: скважина должна получать минимум 111 баррелей, таких скважин нет, все производят меньше."
   ]
  },
  {
   "cell_type": "markdown",
   "metadata": {},
   "source": [
    "## Расчёт прибыли и рисков "
   ]
  },
  {
   "cell_type": "code",
   "execution_count": 14,
   "metadata": {},
   "outputs": [
    {
     "name": "stdout",
     "output_type": "stream",
     "text": [
      "Прибыль региона №0 3.3208260431398506\n",
      "Прибыль региона №1 2.4150866966815108\n",
      "Прибыль региона №2 2.7103499635998327\n"
     ]
    }
   ],
   "source": [
    "def profit(target, probabilities, count):\n",
    "    probs_sorted = probabilities.sort_values(ascending=False)\n",
    "    selected = target[probs_sorted.index][:count].sum()\n",
    "    price = selected * INCOME_PRODUCT\n",
    "    return (price - BUDGET) / 10 ** 9\n",
    "\n",
    "for i in range(3):\n",
    "    print('Прибыль региона №' +  str(i + 0), profit(valid_targets_general[i].reset_index(drop=True), predictions_general[i], 200))"
   ]
  },
  {
   "cell_type": "code",
   "execution_count": 15,
   "metadata": {},
   "outputs": [
    {
     "name": "stdout",
     "output_type": "stream",
     "text": [
      "95%-й доверительный интервал: (-0.10209009483793655 : 0.9479763533583688)\n",
      "Средняя прибыль: 0.42593852691059236\n",
      "Риск убытка: 6.0\n"
     ]
    },
    {
     "data": {
      "image/png": "[encoded data removed]",
      "text/plain": [
       "<Figure size 432x288 with 1 Axes>"
      ]
     },
     "metadata": {
      "needs_background": "light"
     },
     "output_type": "display_data"
    },
    {
     "name": "stdout",
     "output_type": "stream",
     "text": [
      "95%-й доверительный интервал: (0.12812323143308443 : 0.9536129820669085)\n",
      "Средняя прибыль: 0.5182594936973248\n",
      "Риск убытка: 0.3\n"
     ]
    },
    {
     "data": {
      "image/png": "[encoded data removed]",
      "text/plain": [
       "<Figure size 432x288 with 1 Axes>"
      ]
     },
     "metadata": {
      "needs_background": "light"
     },
     "output_type": "display_data"
    },
    {
     "name": "stdout",
     "output_type": "stream",
     "text": [
      "95%-й доверительный интервал: (-0.11585260916001143 : 0.9896299398445739)\n",
      "Средняя прибыль: 0.4201940053440501\n",
      "Риск убытка: 6.2\n"
     ]
    },
    {
     "data": {
      "image/png": "[encoded data removed]",
      "text/plain": [
       "<Figure size 432x288 with 1 Axes>"
      ]
     },
     "metadata": {
      "needs_background": "light"
     },
     "output_type": "display_data"
    }
   ],
   "source": [
    "# Bootstrap\n",
    "values = [[],[],[]]\n",
    "state = np.random.RandomState(12345)\n",
    "\n",
    "for i in range(3):\n",
    "    for j in range(1000):\n",
    "        target_sample = valid_targets_general[i].reset_index(drop=True).sample(n = 500, replace = True, random_state=state)\n",
    "        probs_subsample = predictions_general[i].reset_index(drop=True)[target_sample.index]\n",
    "        \n",
    "        values[i].append(profit(target_sample.reset_index(drop = True), probs_subsample.reset_index(drop = True), 200))\n",
    "        \n",
    "    values[i] = pd.Series(values[i])\n",
    "    values[i].hist()\n",
    "    print('95%-й доверительный интервал: (' + str(values[i].quantile(0.025)) + ' : ' + str(values[i].quantile(0.975)) + ')')\n",
    "    print('Средняя прибыль:', values[i].mean())\n",
    "    print('Риск убытка:', (values[i] < 0).mean()*100)\n",
    "    plt.show()"
   ]
  },
  {
   "cell_type": "markdown",
   "metadata": {},
   "source": [
    "# Вывод:\n",
    "По полученным данным можно сделать вывод, что третий регион больше подходит:\n",
    "\n",
    "Доверительный интервал: (0.12812323143308443 : 0.9536129820669085)\n",
    "Средняя прибыль в первом регионе: 0.5182594936973248\n",
    "Риски: 0.3 %"
   ]
  }
 ],
 "metadata": {
  "ExecuteTimeLog": [
   {
    "duration": 363,
    "start_time": "2022-08-15T18:01:03.020Z"
   },
   {
    "duration": 1610,
    "start_time": "2022-08-15T18:02:49.727Z"
   },
   {
    "duration": 18,
    "start_time": "2022-08-15T18:03:15.866Z"
   },
   {
    "duration": 9,
    "start_time": "2022-08-15T18:03:40.983Z"
   },
   {
    "duration": 10,
    "start_time": "2022-08-15T18:03:41.840Z"
   },
   {
    "duration": 61,
    "start_time": "2022-08-15T18:05:22.000Z"
   },
   {
    "duration": 2,
    "start_time": "2022-08-15T18:05:40.917Z"
   },
   {
    "duration": 336,
    "start_time": "2022-08-15T18:05:41.502Z"
   },
   {
    "duration": 9,
    "start_time": "2022-08-15T18:05:41.981Z"
   },
   {
    "duration": 64,
    "start_time": "2022-08-15T18:05:42.441Z"
   },
   {
    "duration": 8,
    "start_time": "2022-08-15T18:05:42.895Z"
   },
   {
    "duration": 65,
    "start_time": "2022-08-15T18:05:43.327Z"
   },
   {
    "duration": 8,
    "start_time": "2022-08-15T18:05:43.817Z"
   },
   {
    "duration": 77,
    "start_time": "2022-08-15T18:05:44.297Z"
   },
   {
    "duration": 11,
    "start_time": "2022-08-15T18:06:06.617Z"
   },
   {
    "duration": 10,
    "start_time": "2022-08-15T18:06:07.241Z"
   },
   {
    "duration": 11,
    "start_time": "2022-08-15T18:06:07.754Z"
   },
   {
    "duration": 9,
    "start_time": "2022-08-15T18:06:08.190Z"
   },
   {
    "duration": 11,
    "start_time": "2022-08-15T18:06:08.776Z"
   },
   {
    "duration": 11,
    "start_time": "2022-08-15T18:06:26.027Z"
   },
   {
    "duration": 8,
    "start_time": "2022-08-15T18:06:26.573Z"
   },
   {
    "duration": 11,
    "start_time": "2022-08-15T18:06:26.986Z"
   },
   {
    "duration": 8,
    "start_time": "2022-08-15T18:06:27.471Z"
   },
   {
    "duration": 10,
    "start_time": "2022-08-15T18:06:28.921Z"
   },
   {
    "duration": 9,
    "start_time": "2022-08-15T18:12:11.056Z"
   },
   {
    "duration": 651,
    "start_time": "2022-08-15T18:12:19.601Z"
   },
   {
    "duration": 334,
    "start_time": "2022-08-15T18:12:20.254Z"
   },
   {
    "duration": 9,
    "start_time": "2022-08-15T18:12:20.590Z"
   },
   {
    "duration": 10,
    "start_time": "2022-08-15T18:12:20.978Z"
   },
   {
    "duration": 8,
    "start_time": "2022-08-15T18:12:21.413Z"
   },
   {
    "duration": 10,
    "start_time": "2022-08-15T18:12:21.857Z"
   },
   {
    "duration": 8,
    "start_time": "2022-08-15T18:12:22.297Z"
   },
   {
    "duration": 10,
    "start_time": "2022-08-15T18:12:22.731Z"
   },
   {
    "duration": 20,
    "start_time": "2022-08-15T18:12:23.648Z"
   },
   {
    "duration": 58,
    "start_time": "2022-08-15T18:12:24.518Z"
   },
   {
    "duration": 13,
    "start_time": "2022-08-15T18:13:00.162Z"
   },
   {
    "duration": 25,
    "start_time": "2022-08-15T18:13:01.115Z"
   },
   {
    "duration": 11,
    "start_time": "2022-08-15T18:13:58.335Z"
   },
   {
    "duration": 18,
    "start_time": "2022-08-15T18:13:58.849Z"
   },
   {
    "duration": 13,
    "start_time": "2022-08-15T18:13:59.343Z"
   },
   {
    "duration": 28,
    "start_time": "2022-08-15T18:13:59.845Z"
   },
   {
    "duration": 3,
    "start_time": "2022-08-15T18:15:24.403Z"
   },
   {
    "duration": 358,
    "start_time": "2022-08-15T18:15:24.904Z"
   },
   {
    "duration": 9,
    "start_time": "2022-08-15T18:15:25.385Z"
   },
   {
    "duration": 12,
    "start_time": "2022-08-15T18:15:25.809Z"
   },
   {
    "duration": 8,
    "start_time": "2022-08-15T18:15:26.277Z"
   },
   {
    "duration": 11,
    "start_time": "2022-08-15T18:15:26.642Z"
   },
   {
    "duration": 9,
    "start_time": "2022-08-15T18:15:27.094Z"
   },
   {
    "duration": 11,
    "start_time": "2022-08-15T18:15:27.501Z"
   },
   {
    "duration": 12,
    "start_time": "2022-08-15T18:15:28.376Z"
   },
   {
    "duration": 26,
    "start_time": "2022-08-15T18:15:28.872Z"
   },
   {
    "duration": 11,
    "start_time": "2022-08-15T18:15:29.346Z"
   },
   {
    "duration": 21,
    "start_time": "2022-08-15T18:15:29.942Z"
   },
   {
    "duration": 12,
    "start_time": "2022-08-15T18:15:30.363Z"
   },
   {
    "duration": 20,
    "start_time": "2022-08-15T18:15:30.828Z"
   },
   {
    "duration": 20,
    "start_time": "2022-08-15T18:36:42.207Z"
   },
   {
    "duration": 22,
    "start_time": "2022-08-15T18:37:22.408Z"
   },
   {
    "duration": 23,
    "start_time": "2022-08-15T18:37:45.816Z"
   },
   {
    "duration": 21,
    "start_time": "2022-08-15T18:37:59.419Z"
   },
   {
    "duration": 22,
    "start_time": "2022-08-15T18:38:09.378Z"
   },
   {
    "duration": 22,
    "start_time": "2022-08-15T18:38:27.531Z"
   },
   {
    "duration": 23,
    "start_time": "2022-08-15T18:38:44.386Z"
   },
   {
    "duration": 21,
    "start_time": "2022-08-15T18:38:54.188Z"
   },
   {
    "duration": 1117,
    "start_time": "2022-08-15T18:39:10.377Z"
   },
   {
    "duration": 349,
    "start_time": "2022-08-15T18:39:11.496Z"
   },
   {
    "duration": 16,
    "start_time": "2022-08-15T18:39:11.847Z"
   },
   {
    "duration": 11,
    "start_time": "2022-08-15T18:39:11.865Z"
   },
   {
    "duration": 10,
    "start_time": "2022-08-15T18:39:11.877Z"
   },
   {
    "duration": 17,
    "start_time": "2022-08-15T18:39:11.905Z"
   },
   {
    "duration": 10,
    "start_time": "2022-08-15T18:39:11.924Z"
   },
   {
    "duration": 15,
    "start_time": "2022-08-15T18:39:11.935Z"
   },
   {
    "duration": 15,
    "start_time": "2022-08-15T18:39:11.952Z"
   },
   {
    "duration": 48,
    "start_time": "2022-08-15T18:39:11.970Z"
   },
   {
    "duration": 92,
    "start_time": "2022-08-15T18:39:12.023Z"
   },
   {
    "duration": 116,
    "start_time": "2022-08-15T18:39:12.116Z"
   },
   {
    "duration": 77,
    "start_time": "2022-08-15T18:39:12.234Z"
   },
   {
    "duration": 119,
    "start_time": "2022-08-15T18:39:12.312Z"
   },
   {
    "duration": 2,
    "start_time": "2022-08-15T18:39:12.433Z"
   },
   {
    "duration": 51,
    "start_time": "2022-08-17T18:11:48.906Z"
   },
   {
    "duration": 1108,
    "start_time": "2022-08-17T18:11:56.817Z"
   },
   {
    "duration": 2106,
    "start_time": "2022-08-17T18:11:57.927Z"
   },
   {
    "duration": 19,
    "start_time": "2022-08-17T18:12:00.035Z"
   },
   {
    "duration": 15,
    "start_time": "2022-08-17T18:12:00.056Z"
   },
   {
    "duration": 13,
    "start_time": "2022-08-17T18:12:00.073Z"
   },
   {
    "duration": 27,
    "start_time": "2022-08-17T18:12:00.089Z"
   },
   {
    "duration": 11,
    "start_time": "2022-08-17T18:12:00.118Z"
   },
   {
    "duration": 45,
    "start_time": "2022-08-17T18:12:00.132Z"
   },
   {
    "duration": 19,
    "start_time": "2022-08-17T18:12:00.179Z"
   },
   {
    "duration": 78,
    "start_time": "2022-08-17T18:12:00.201Z"
   },
   {
    "duration": 96,
    "start_time": "2022-08-17T18:12:00.282Z"
   },
   {
    "duration": 85,
    "start_time": "2022-08-17T18:12:00.382Z"
   },
   {
    "duration": 119,
    "start_time": "2022-08-17T18:12:00.473Z"
   },
   {
    "duration": 40,
    "start_time": "2022-08-17T18:12:00.594Z"
   },
   {
    "duration": 3,
    "start_time": "2022-08-17T18:12:00.670Z"
   },
   {
    "duration": 4,
    "start_time": "2022-08-17T18:21:40.652Z"
   },
   {
    "duration": 4,
    "start_time": "2022-08-17T18:21:50.274Z"
   },
   {
    "duration": 14,
    "start_time": "2022-08-17T18:22:37.291Z"
   },
   {
    "duration": 4,
    "start_time": "2022-08-17T18:22:37.909Z"
   },
   {
    "duration": 4,
    "start_time": "2022-08-17T18:23:15.356Z"
   },
   {
    "duration": 4,
    "start_time": "2022-08-17T18:24:07.010Z"
   },
   {
    "duration": 3,
    "start_time": "2022-08-17T18:24:45.913Z"
   },
   {
    "duration": 3,
    "start_time": "2022-08-17T18:25:09.352Z"
   },
   {
    "duration": 122,
    "start_time": "2022-08-17T18:25:55.258Z"
   },
   {
    "duration": 89,
    "start_time": "2022-08-17T18:26:23.903Z"
   },
   {
    "duration": 87,
    "start_time": "2022-08-17T18:26:52.324Z"
   },
   {
    "duration": 86,
    "start_time": "2022-08-17T18:27:26.978Z"
   },
   {
    "duration": 6,
    "start_time": "2022-08-17T18:27:41.323Z"
   },
   {
    "duration": 7,
    "start_time": "2022-08-17T18:28:14.493Z"
   },
   {
    "duration": 3,
    "start_time": "2022-08-17T18:28:49.557Z"
   },
   {
    "duration": 4,
    "start_time": "2022-08-17T18:35:59.902Z"
   },
   {
    "duration": 4,
    "start_time": "2022-08-17T18:36:28.421Z"
   },
   {
    "duration": 4,
    "start_time": "2022-08-17T18:36:28.995Z"
   },
   {
    "duration": 4,
    "start_time": "2022-08-17T18:36:29.541Z"
   },
   {
    "duration": 3,
    "start_time": "2022-08-17T18:36:35.609Z"
   },
   {
    "duration": 4,
    "start_time": "2022-08-17T18:36:40.322Z"
   },
   {
    "duration": 7,
    "start_time": "2022-08-17T18:36:44.368Z"
   },
   {
    "duration": 9,
    "start_time": "2022-08-17T18:42:35.636Z"
   },
   {
    "duration": 3,
    "start_time": "2022-08-17T18:42:40.930Z"
   },
   {
    "duration": 3,
    "start_time": "2022-08-17T18:42:41.426Z"
   },
   {
    "duration": 4,
    "start_time": "2022-08-17T18:42:46.897Z"
   },
   {
    "duration": 4,
    "start_time": "2022-08-17T18:42:47.289Z"
   },
   {
    "duration": 3,
    "start_time": "2022-08-17T18:42:47.647Z"
   },
   {
    "duration": 3,
    "start_time": "2022-08-17T18:42:48.051Z"
   },
   {
    "duration": 3,
    "start_time": "2022-08-17T18:45:37.410Z"
   },
   {
    "duration": 4,
    "start_time": "2022-08-17T18:46:04.917Z"
   },
   {
    "duration": 3,
    "start_time": "2022-08-17T18:46:39.906Z"
   },
   {
    "duration": 4,
    "start_time": "2022-08-17T18:46:40.551Z"
   },
   {
    "duration": 3,
    "start_time": "2022-08-17T18:46:58.531Z"
   },
   {
    "duration": 10,
    "start_time": "2022-08-17T18:47:06.265Z"
   },
   {
    "duration": 11,
    "start_time": "2022-08-17T18:47:09.676Z"
   },
   {
    "duration": 4,
    "start_time": "2022-08-17T18:47:21.690Z"
   },
   {
    "duration": 3,
    "start_time": "2022-08-17T18:47:22.095Z"
   },
   {
    "duration": 3,
    "start_time": "2022-08-17T18:47:22.462Z"
   },
   {
    "duration": 2,
    "start_time": "2022-08-17T18:50:57.456Z"
   },
   {
    "duration": 3,
    "start_time": "2022-08-17T18:50:57.907Z"
   },
   {
    "duration": 3,
    "start_time": "2022-08-17T18:50:58.315Z"
   },
   {
    "duration": 4,
    "start_time": "2022-08-17T18:50:58.719Z"
   },
   {
    "duration": 5,
    "start_time": "2022-08-17T18:53:16.691Z"
   },
   {
    "duration": 3,
    "start_time": "2022-08-17T18:53:30.363Z"
   },
   {
    "duration": 6,
    "start_time": "2022-08-17T18:53:50.186Z"
   },
   {
    "duration": 4,
    "start_time": "2022-08-17T18:54:31.684Z"
   },
   {
    "duration": 3,
    "start_time": "2022-08-17T18:54:32.137Z"
   },
   {
    "duration": 4,
    "start_time": "2022-08-17T18:54:32.516Z"
   },
   {
    "duration": 3,
    "start_time": "2022-08-17T18:54:32.920Z"
   },
   {
    "duration": 4,
    "start_time": "2022-08-17T18:54:33.415Z"
   },
   {
    "duration": 7,
    "start_time": "2022-08-17T18:56:10.092Z"
   },
   {
    "duration": 3,
    "start_time": "2022-08-17T18:56:19.850Z"
   },
   {
    "duration": 4,
    "start_time": "2022-08-17T18:56:38.608Z"
   },
   {
    "duration": 4,
    "start_time": "2022-08-17T18:57:12.914Z"
   },
   {
    "duration": 3,
    "start_time": "2022-08-17T18:57:25.998Z"
   },
   {
    "duration": 4,
    "start_time": "2022-08-17T18:57:39.719Z"
   },
   {
    "duration": 3,
    "start_time": "2022-08-17T18:57:51.003Z"
   },
   {
    "duration": 4,
    "start_time": "2022-08-17T18:58:03.394Z"
   },
   {
    "duration": 4,
    "start_time": "2022-08-17T18:58:12.896Z"
   },
   {
    "duration": 13,
    "start_time": "2022-08-17T18:58:26.170Z"
   },
   {
    "duration": 3,
    "start_time": "2022-08-17T18:58:31.134Z"
   },
   {
    "duration": 3,
    "start_time": "2022-08-17T18:58:39.857Z"
   },
   {
    "duration": 1033,
    "start_time": "2022-08-18T17:24:50.179Z"
   },
   {
    "duration": 703,
    "start_time": "2022-08-18T17:24:51.214Z"
   },
   {
    "duration": 15,
    "start_time": "2022-08-18T17:24:51.919Z"
   },
   {
    "duration": 7,
    "start_time": "2022-08-18T17:24:51.936Z"
   },
   {
    "duration": 13,
    "start_time": "2022-08-18T17:24:51.945Z"
   },
   {
    "duration": 17,
    "start_time": "2022-08-18T17:24:51.959Z"
   },
   {
    "duration": 43,
    "start_time": "2022-08-18T17:24:51.978Z"
   },
   {
    "duration": 188,
    "start_time": "2022-08-18T17:24:52.023Z"
   },
   {
    "duration": 29,
    "start_time": "2022-08-18T17:24:52.213Z"
   },
   {
    "duration": 108,
    "start_time": "2022-08-18T17:24:52.312Z"
   },
   {
    "duration": 22,
    "start_time": "2022-08-18T17:24:52.422Z"
   },
   {
    "duration": 67,
    "start_time": "2022-08-18T17:24:52.446Z"
   },
   {
    "duration": 103,
    "start_time": "2022-08-18T17:24:52.515Z"
   },
   {
    "duration": 7,
    "start_time": "2022-08-18T17:24:52.620Z"
   },
   {
    "duration": 14,
    "start_time": "2022-08-18T17:24:52.629Z"
   },
   {
    "duration": 11,
    "start_time": "2022-08-18T17:24:52.645Z"
   },
   {
    "duration": 9,
    "start_time": "2022-08-18T17:24:52.657Z"
   },
   {
    "duration": 12,
    "start_time": "2022-08-18T17:24:52.668Z"
   },
   {
    "duration": 13,
    "start_time": "2022-08-18T17:24:52.681Z"
   },
   {
    "duration": 1044,
    "start_time": "2022-08-18T17:34:09.617Z"
   },
   {
    "duration": 340,
    "start_time": "2022-08-18T17:34:10.663Z"
   },
   {
    "duration": 16,
    "start_time": "2022-08-18T17:34:11.005Z"
   },
   {
    "duration": 8,
    "start_time": "2022-08-18T17:34:11.023Z"
   },
   {
    "duration": 18,
    "start_time": "2022-08-18T17:34:11.034Z"
   },
   {
    "duration": 18,
    "start_time": "2022-08-18T17:34:11.054Z"
   },
   {
    "duration": 53,
    "start_time": "2022-08-18T17:34:11.074Z"
   },
   {
    "duration": 182,
    "start_time": "2022-08-18T17:34:11.129Z"
   },
   {
    "duration": 284,
    "start_time": "2022-08-18T17:34:11.313Z"
   },
   {
    "duration": 0,
    "start_time": "2022-08-18T17:34:11.599Z"
   },
   {
    "duration": 0,
    "start_time": "2022-08-18T17:34:11.599Z"
   },
   {
    "duration": 0,
    "start_time": "2022-08-18T17:34:11.611Z"
   },
   {
    "duration": 0,
    "start_time": "2022-08-18T17:34:11.612Z"
   },
   {
    "duration": 0,
    "start_time": "2022-08-18T17:34:11.613Z"
   },
   {
    "duration": 0,
    "start_time": "2022-08-18T17:34:11.614Z"
   },
   {
    "duration": 0,
    "start_time": "2022-08-18T17:34:11.616Z"
   },
   {
    "duration": 0,
    "start_time": "2022-08-18T17:34:11.616Z"
   },
   {
    "duration": 0,
    "start_time": "2022-08-18T17:34:11.617Z"
   },
   {
    "duration": 0,
    "start_time": "2022-08-18T17:34:11.618Z"
   },
   {
    "duration": 8,
    "start_time": "2022-08-18T17:36:12.838Z"
   },
   {
    "duration": 3,
    "start_time": "2022-08-18T17:36:17.883Z"
   },
   {
    "duration": 3,
    "start_time": "2022-08-18T17:36:18.450Z"
   },
   {
    "duration": 9,
    "start_time": "2022-08-18T17:37:40.428Z"
   },
   {
    "duration": 11,
    "start_time": "2022-08-18T17:39:51.657Z"
   },
   {
    "duration": 27,
    "start_time": "2022-08-18T17:39:52.158Z"
   },
   {
    "duration": 19,
    "start_time": "2022-08-18T17:40:05.120Z"
   },
   {
    "duration": 11,
    "start_time": "2022-08-18T17:40:13.155Z"
   },
   {
    "duration": 24,
    "start_time": "2022-08-18T17:40:13.765Z"
   },
   {
    "duration": 3,
    "start_time": "2022-08-18T17:40:53.034Z"
   },
   {
    "duration": 3,
    "start_time": "2022-08-18T17:40:53.527Z"
   },
   {
    "duration": 3,
    "start_time": "2022-08-18T17:40:54.058Z"
   },
   {
    "duration": 3,
    "start_time": "2022-08-18T17:40:54.512Z"
   },
   {
    "duration": 3,
    "start_time": "2022-08-18T17:40:54.930Z"
   },
   {
    "duration": 3,
    "start_time": "2022-08-18T17:40:55.342Z"
   },
   {
    "duration": 3,
    "start_time": "2022-08-18T17:40:55.777Z"
   },
   {
    "duration": 8,
    "start_time": "2022-08-19T17:06:40.579Z"
   },
   {
    "duration": 1130,
    "start_time": "2022-08-19T17:06:47.922Z"
   },
   {
    "duration": 760,
    "start_time": "2022-08-19T17:06:49.054Z"
   },
   {
    "duration": 16,
    "start_time": "2022-08-19T17:06:49.816Z"
   },
   {
    "duration": 9,
    "start_time": "2022-08-19T17:06:49.834Z"
   },
   {
    "duration": 13,
    "start_time": "2022-08-19T17:06:49.844Z"
   },
   {
    "duration": 19,
    "start_time": "2022-08-19T17:06:49.859Z"
   },
   {
    "duration": 28,
    "start_time": "2022-08-19T17:06:49.880Z"
   },
   {
    "duration": 152,
    "start_time": "2022-08-19T17:06:49.910Z"
   },
   {
    "duration": 30,
    "start_time": "2022-08-19T17:06:50.063Z"
   },
   {
    "duration": 101,
    "start_time": "2022-08-19T17:06:50.158Z"
   },
   {
    "duration": 37,
    "start_time": "2022-08-19T17:06:50.261Z"
   },
   {
    "duration": 200,
    "start_time": "2022-08-19T17:06:50.361Z"
   },
   {
    "duration": 0,
    "start_time": "2022-08-19T17:06:50.563Z"
   },
   {
    "duration": 0,
    "start_time": "2022-08-19T17:06:50.564Z"
   },
   {
    "duration": 0,
    "start_time": "2022-08-19T17:06:50.565Z"
   },
   {
    "duration": 0,
    "start_time": "2022-08-19T17:06:50.567Z"
   },
   {
    "duration": 3,
    "start_time": "2022-08-19T17:07:17.188Z"
   },
   {
    "duration": 4,
    "start_time": "2022-08-19T17:07:17.648Z"
   },
   {
    "duration": 3,
    "start_time": "2022-08-19T17:07:19.514Z"
   },
   {
    "duration": 11,
    "start_time": "2022-08-19T17:07:20.228Z"
   },
   {
    "duration": 31,
    "start_time": "2022-08-19T17:08:16.457Z"
   },
   {
    "duration": 32,
    "start_time": "2022-08-19T17:08:27.462Z"
   },
   {
    "duration": 28,
    "start_time": "2022-08-19T17:09:00.776Z"
   },
   {
    "duration": 32,
    "start_time": "2022-08-19T17:09:05.530Z"
   },
   {
    "duration": 31,
    "start_time": "2022-08-19T17:09:14.966Z"
   },
   {
    "duration": 26,
    "start_time": "2022-08-19T17:09:39.774Z"
   },
   {
    "duration": 27,
    "start_time": "2022-08-19T17:09:53.487Z"
   },
   {
    "duration": 2,
    "start_time": "2022-08-19T17:10:16.411Z"
   },
   {
    "duration": 3,
    "start_time": "2022-08-19T17:10:16.790Z"
   },
   {
    "duration": 10,
    "start_time": "2022-08-19T17:12:57.545Z"
   },
   {
    "duration": 991,
    "start_time": "2022-08-19T17:13:39.193Z"
   },
   {
    "duration": 361,
    "start_time": "2022-08-19T17:13:40.186Z"
   },
   {
    "duration": 18,
    "start_time": "2022-08-19T17:13:40.549Z"
   },
   {
    "duration": 19,
    "start_time": "2022-08-19T17:13:40.570Z"
   },
   {
    "duration": 19,
    "start_time": "2022-08-19T17:13:40.591Z"
   },
   {
    "duration": 48,
    "start_time": "2022-08-19T17:13:40.612Z"
   },
   {
    "duration": 271,
    "start_time": "2022-08-19T17:13:40.661Z"
   },
   {
    "duration": 0,
    "start_time": "2022-08-19T17:13:40.934Z"
   },
   {
    "duration": 0,
    "start_time": "2022-08-19T17:13:40.936Z"
   },
   {
    "duration": 0,
    "start_time": "2022-08-19T17:13:40.937Z"
   },
   {
    "duration": 0,
    "start_time": "2022-08-19T17:13:40.958Z"
   },
   {
    "duration": 0,
    "start_time": "2022-08-19T17:13:40.959Z"
   },
   {
    "duration": 0,
    "start_time": "2022-08-19T17:13:40.960Z"
   },
   {
    "duration": 0,
    "start_time": "2022-08-19T17:13:40.961Z"
   },
   {
    "duration": 0,
    "start_time": "2022-08-19T17:13:40.963Z"
   },
   {
    "duration": 27,
    "start_time": "2022-08-19T17:14:04.926Z"
   },
   {
    "duration": 15,
    "start_time": "2022-08-19T17:14:06.073Z"
   },
   {
    "duration": 26,
    "start_time": "2022-08-19T17:14:11.069Z"
   },
   {
    "duration": 14,
    "start_time": "2022-08-19T17:14:12.150Z"
   },
   {
    "duration": 25,
    "start_time": "2022-08-19T17:14:17.780Z"
   },
   {
    "duration": 2,
    "start_time": "2022-08-19T17:14:19.891Z"
   },
   {
    "duration": 3,
    "start_time": "2022-08-19T17:14:20.290Z"
   },
   {
    "duration": 10,
    "start_time": "2022-08-19T17:14:21.972Z"
   },
   {
    "duration": 13,
    "start_time": "2022-08-19T17:15:24.480Z"
   },
   {
    "duration": 1065,
    "start_time": "2022-08-19T17:16:13.417Z"
   },
   {
    "duration": 367,
    "start_time": "2022-08-19T17:16:14.484Z"
   },
   {
    "duration": 23,
    "start_time": "2022-08-19T17:16:14.853Z"
   },
   {
    "duration": 11,
    "start_time": "2022-08-19T17:16:14.878Z"
   },
   {
    "duration": 16,
    "start_time": "2022-08-19T17:16:14.890Z"
   },
   {
    "duration": 15,
    "start_time": "2022-08-19T17:16:14.907Z"
   },
   {
    "duration": 46,
    "start_time": "2022-08-19T17:16:14.923Z"
   },
   {
    "duration": 99,
    "start_time": "2022-08-19T17:16:14.970Z"
   },
   {
    "duration": 192,
    "start_time": "2022-08-19T17:16:15.071Z"
   },
   {
    "duration": 100,
    "start_time": "2022-08-19T17:16:15.265Z"
   },
   {
    "duration": 31,
    "start_time": "2022-08-19T17:16:15.370Z"
   },
   {
    "duration": 58,
    "start_time": "2022-08-19T17:16:15.402Z"
   },
   {
    "duration": 112,
    "start_time": "2022-08-19T17:16:15.462Z"
   },
   {
    "duration": 112,
    "start_time": "2022-08-19T17:16:15.577Z"
   },
   {
    "duration": 0,
    "start_time": "2022-08-19T17:16:15.691Z"
   },
   {
    "duration": 9,
    "start_time": "2022-08-19T17:16:24.010Z"
   },
   {
    "duration": 13,
    "start_time": "2022-08-19T17:16:33.052Z"
   },
   {
    "duration": 13,
    "start_time": "2022-08-19T17:16:37.675Z"
   },
   {
    "duration": 14,
    "start_time": "2022-08-19T17:18:32.320Z"
   },
   {
    "duration": 13,
    "start_time": "2022-08-19T17:18:42.133Z"
   },
   {
    "duration": 13,
    "start_time": "2022-08-19T17:18:56.192Z"
   },
   {
    "duration": 18,
    "start_time": "2022-08-19T17:19:05.598Z"
   },
   {
    "duration": 13,
    "start_time": "2022-08-19T17:19:09.428Z"
   },
   {
    "duration": 13,
    "start_time": "2022-08-19T17:19:15.949Z"
   },
   {
    "duration": 10,
    "start_time": "2022-08-19T17:19:51.679Z"
   },
   {
    "duration": 14,
    "start_time": "2022-08-19T17:19:57.596Z"
   },
   {
    "duration": 13,
    "start_time": "2022-08-19T17:21:22.312Z"
   },
   {
    "duration": 13,
    "start_time": "2022-08-19T17:21:41.945Z"
   },
   {
    "duration": 9,
    "start_time": "2022-08-19T17:23:27.930Z"
   },
   {
    "duration": 1136,
    "start_time": "2022-08-19T17:24:45.916Z"
   },
   {
    "duration": 13,
    "start_time": "2022-08-19T17:25:42.739Z"
   },
   {
    "duration": 1028,
    "start_time": "2022-08-19T17:27:21.003Z"
   },
   {
    "duration": 345,
    "start_time": "2022-08-19T17:27:22.032Z"
   },
   {
    "duration": 16,
    "start_time": "2022-08-19T17:27:22.379Z"
   },
   {
    "duration": 14,
    "start_time": "2022-08-19T17:27:22.396Z"
   },
   {
    "duration": 27,
    "start_time": "2022-08-19T17:27:22.412Z"
   },
   {
    "duration": 22,
    "start_time": "2022-08-19T17:27:22.441Z"
   },
   {
    "duration": 28,
    "start_time": "2022-08-19T17:27:22.465Z"
   },
   {
    "duration": 169,
    "start_time": "2022-08-19T17:27:22.495Z"
   },
   {
    "duration": 35,
    "start_time": "2022-08-19T17:27:22.666Z"
   },
   {
    "duration": 101,
    "start_time": "2022-08-19T17:27:22.757Z"
   },
   {
    "duration": 50,
    "start_time": "2022-08-19T17:27:22.859Z"
   },
   {
    "duration": 49,
    "start_time": "2022-08-19T17:27:22.910Z"
   },
   {
    "duration": 96,
    "start_time": "2022-08-19T17:27:22.963Z"
   },
   {
    "duration": 113,
    "start_time": "2022-08-19T17:27:23.061Z"
   },
   {
    "duration": 0,
    "start_time": "2022-08-19T17:27:23.176Z"
   },
   {
    "duration": 16,
    "start_time": "2022-08-19T17:27:35.753Z"
   },
   {
    "duration": 1127,
    "start_time": "2022-08-19T17:29:38.938Z"
   },
   {
    "duration": 1136,
    "start_time": "2022-08-19T17:29:50.073Z"
   },
   {
    "duration": 12,
    "start_time": "2022-08-19T17:35:45.287Z"
   },
   {
    "duration": 13,
    "start_time": "2022-08-19T17:37:53.215Z"
   },
   {
    "duration": 13,
    "start_time": "2022-08-19T17:39:05.941Z"
   },
   {
    "duration": 3,
    "start_time": "2022-08-19T17:41:34.227Z"
   },
   {
    "duration": 3,
    "start_time": "2022-08-19T17:42:28.757Z"
   },
   {
    "duration": 13,
    "start_time": "2022-08-19T17:43:20.035Z"
   },
   {
    "duration": 3,
    "start_time": "2022-08-19T17:43:25.781Z"
   },
   {
    "duration": 1084,
    "start_time": "2022-08-19T17:43:35.456Z"
   },
   {
    "duration": 349,
    "start_time": "2022-08-19T17:43:36.542Z"
   },
   {
    "duration": 16,
    "start_time": "2022-08-19T17:43:36.893Z"
   },
   {
    "duration": 9,
    "start_time": "2022-08-19T17:43:36.911Z"
   },
   {
    "duration": 9,
    "start_time": "2022-08-19T17:43:36.922Z"
   },
   {
    "duration": 36,
    "start_time": "2022-08-19T17:43:36.933Z"
   },
   {
    "duration": 90,
    "start_time": "2022-08-19T17:43:36.970Z"
   },
   {
    "duration": 103,
    "start_time": "2022-08-19T17:43:37.065Z"
   },
   {
    "duration": 94,
    "start_time": "2022-08-19T17:43:37.170Z"
   },
   {
    "duration": 94,
    "start_time": "2022-08-19T17:43:37.267Z"
   },
   {
    "duration": 27,
    "start_time": "2022-08-19T17:43:37.363Z"
   },
   {
    "duration": 69,
    "start_time": "2022-08-19T17:43:37.392Z"
   },
   {
    "duration": 96,
    "start_time": "2022-08-19T17:43:37.463Z"
   },
   {
    "duration": 868,
    "start_time": "2022-08-19T17:43:37.561Z"
   },
   {
    "duration": 0,
    "start_time": "2022-08-19T17:43:38.431Z"
   },
   {
    "duration": 0,
    "start_time": "2022-08-19T17:43:38.433Z"
   },
   {
    "duration": 0,
    "start_time": "2022-08-19T17:43:38.434Z"
   },
   {
    "duration": 0,
    "start_time": "2022-08-19T17:43:38.435Z"
   },
   {
    "duration": 827,
    "start_time": "2022-08-19T17:43:42.797Z"
   },
   {
    "duration": 0,
    "start_time": "2022-08-19T17:43:43.626Z"
   },
   {
    "duration": 4,
    "start_time": "2022-08-19T17:43:44.885Z"
   },
   {
    "duration": 3,
    "start_time": "2022-08-19T17:43:49.287Z"
   },
   {
    "duration": 1210,
    "start_time": "2022-08-19T17:44:43.860Z"
   },
   {
    "duration": 908,
    "start_time": "2022-08-19T17:45:06.868Z"
   },
   {
    "duration": 1103,
    "start_time": "2022-08-19T17:45:18.550Z"
   },
   {
    "duration": 369,
    "start_time": "2022-08-19T17:45:19.655Z"
   },
   {
    "duration": 17,
    "start_time": "2022-08-19T17:45:20.026Z"
   },
   {
    "duration": 19,
    "start_time": "2022-08-19T17:45:20.046Z"
   },
   {
    "duration": 19,
    "start_time": "2022-08-19T17:45:20.067Z"
   },
   {
    "duration": 23,
    "start_time": "2022-08-19T17:45:20.088Z"
   },
   {
    "duration": 49,
    "start_time": "2022-08-19T17:45:20.114Z"
   },
   {
    "duration": 193,
    "start_time": "2022-08-19T17:45:20.165Z"
   },
   {
    "duration": 27,
    "start_time": "2022-08-19T17:45:20.360Z"
   },
   {
    "duration": 106,
    "start_time": "2022-08-19T17:45:20.457Z"
   },
   {
    "duration": 27,
    "start_time": "2022-08-19T17:45:20.565Z"
   },
   {
    "duration": 66,
    "start_time": "2022-08-19T17:45:20.594Z"
   },
   {
    "duration": 97,
    "start_time": "2022-08-19T17:45:20.662Z"
   },
   {
    "duration": 834,
    "start_time": "2022-08-19T17:45:20.761Z"
   },
   {
    "duration": 0,
    "start_time": "2022-08-19T17:45:21.597Z"
   },
   {
    "duration": 0,
    "start_time": "2022-08-19T17:45:21.599Z"
   },
   {
    "duration": 0,
    "start_time": "2022-08-19T17:45:21.600Z"
   },
   {
    "duration": 0,
    "start_time": "2022-08-19T17:45:21.601Z"
   },
   {
    "duration": 823,
    "start_time": "2022-08-19T17:45:28.663Z"
   },
   {
    "duration": 809,
    "start_time": "2022-08-19T17:45:36.845Z"
   },
   {
    "duration": 755,
    "start_time": "2022-08-19T17:46:07.775Z"
   },
   {
    "duration": 914,
    "start_time": "2022-08-19T17:46:49.501Z"
   },
   {
    "duration": 14,
    "start_time": "2022-08-19T17:47:11.308Z"
   },
   {
    "duration": 7,
    "start_time": "2022-08-19T17:47:38.756Z"
   },
   {
    "duration": 4,
    "start_time": "2022-08-19T17:48:19.343Z"
   },
   {
    "duration": 3,
    "start_time": "2022-08-19T17:48:48.775Z"
   },
   {
    "duration": 7,
    "start_time": "2022-08-19T17:48:56.032Z"
   },
   {
    "duration": 13,
    "start_time": "2022-08-19T17:49:38.537Z"
   },
   {
    "duration": 12,
    "start_time": "2022-08-19T17:49:55.505Z"
   },
   {
    "duration": 14,
    "start_time": "2022-08-19T17:49:59.693Z"
   },
   {
    "duration": 7,
    "start_time": "2022-08-19T17:50:09.126Z"
   },
   {
    "duration": 7,
    "start_time": "2022-08-19T17:53:42.888Z"
   },
   {
    "duration": 6,
    "start_time": "2022-08-19T17:54:06.520Z"
   },
   {
    "duration": 6,
    "start_time": "2022-08-19T17:54:12.526Z"
   },
   {
    "duration": 6,
    "start_time": "2022-08-19T17:54:41.211Z"
   },
   {
    "duration": 13,
    "start_time": "2022-08-19T17:59:00.877Z"
   },
   {
    "duration": 15,
    "start_time": "2022-08-19T17:59:26.942Z"
   },
   {
    "duration": 11,
    "start_time": "2022-08-19T17:59:39.394Z"
   },
   {
    "duration": 18,
    "start_time": "2022-08-19T18:00:55.657Z"
   },
   {
    "duration": 1047,
    "start_time": "2022-08-19T18:01:27.388Z"
   },
   {
    "duration": 365,
    "start_time": "2022-08-19T18:01:28.436Z"
   },
   {
    "duration": 17,
    "start_time": "2022-08-19T18:01:28.803Z"
   },
   {
    "duration": 10,
    "start_time": "2022-08-19T18:01:28.822Z"
   },
   {
    "duration": 31,
    "start_time": "2022-08-19T18:01:28.834Z"
   },
   {
    "duration": 24,
    "start_time": "2022-08-19T18:01:28.867Z"
   },
   {
    "duration": 35,
    "start_time": "2022-08-19T18:01:28.893Z"
   },
   {
    "duration": 104,
    "start_time": "2022-08-19T18:01:28.958Z"
   },
   {
    "duration": 94,
    "start_time": "2022-08-19T18:01:29.064Z"
   },
   {
    "duration": 100,
    "start_time": "2022-08-19T18:01:29.160Z"
   },
   {
    "duration": 45,
    "start_time": "2022-08-19T18:01:29.262Z"
   },
   {
    "duration": 4,
    "start_time": "2022-08-19T18:01:29.357Z"
   },
   {
    "duration": 109,
    "start_time": "2022-08-19T18:01:29.362Z"
   },
   {
    "duration": 16,
    "start_time": "2022-08-19T18:01:29.474Z"
   },
   {
    "duration": 7,
    "start_time": "2022-08-19T18:01:29.492Z"
   },
   {
    "duration": 10,
    "start_time": "2022-08-19T18:01:29.501Z"
   },
   {
    "duration": 121,
    "start_time": "2022-08-19T18:01:29.512Z"
   },
   {
    "duration": 11,
    "start_time": "2022-08-19T18:01:46.132Z"
   },
   {
    "duration": 14,
    "start_time": "2022-08-19T18:02:05.943Z"
   },
   {
    "duration": 15,
    "start_time": "2022-08-19T18:02:13.963Z"
   },
   {
    "duration": 1074,
    "start_time": "2022-08-19T18:02:22.466Z"
   },
   {
    "duration": 353,
    "start_time": "2022-08-19T18:02:23.542Z"
   },
   {
    "duration": 15,
    "start_time": "2022-08-19T18:02:23.896Z"
   },
   {
    "duration": 18,
    "start_time": "2022-08-19T18:02:23.914Z"
   },
   {
    "duration": 20,
    "start_time": "2022-08-19T18:02:23.934Z"
   },
   {
    "duration": 21,
    "start_time": "2022-08-19T18:02:23.956Z"
   },
   {
    "duration": 28,
    "start_time": "2022-08-19T18:02:23.979Z"
   },
   {
    "duration": 100,
    "start_time": "2022-08-19T18:02:24.057Z"
   },
   {
    "duration": 26,
    "start_time": "2022-08-19T18:02:24.160Z"
   },
   {
    "duration": 169,
    "start_time": "2022-08-19T18:02:24.189Z"
   },
   {
    "duration": 32,
    "start_time": "2022-08-19T18:02:24.360Z"
   },
   {
    "duration": 64,
    "start_time": "2022-08-19T18:02:24.394Z"
   },
   {
    "duration": 113,
    "start_time": "2022-08-19T18:02:24.460Z"
   },
   {
    "duration": 14,
    "start_time": "2022-08-19T18:02:24.574Z"
   },
   {
    "duration": 8,
    "start_time": "2022-08-19T18:02:24.590Z"
   },
   {
    "duration": 7,
    "start_time": "2022-08-19T18:02:24.599Z"
   },
   {
    "duration": 103,
    "start_time": "2022-08-19T18:02:24.608Z"
   },
   {
    "duration": 17,
    "start_time": "2022-08-19T18:03:33.444Z"
   },
   {
    "duration": 49,
    "start_time": "2022-08-19T18:04:54.629Z"
   },
   {
    "duration": 18,
    "start_time": "2022-08-19T18:05:05.395Z"
   },
   {
    "duration": 9,
    "start_time": "2022-08-19T18:06:04.876Z"
   },
   {
    "duration": 10,
    "start_time": "2022-08-19T18:06:20.966Z"
   },
   {
    "duration": 1146,
    "start_time": "2022-08-19T18:06:30.828Z"
   },
   {
    "duration": 388,
    "start_time": "2022-08-19T18:06:31.975Z"
   },
   {
    "duration": 17,
    "start_time": "2022-08-19T18:06:32.365Z"
   },
   {
    "duration": 23,
    "start_time": "2022-08-19T18:06:32.384Z"
   },
   {
    "duration": 10,
    "start_time": "2022-08-19T18:06:32.409Z"
   },
   {
    "duration": 27,
    "start_time": "2022-08-19T18:06:32.421Z"
   },
   {
    "duration": 30,
    "start_time": "2022-08-19T18:06:32.449Z"
   },
   {
    "duration": 89,
    "start_time": "2022-08-19T18:06:32.482Z"
   },
   {
    "duration": 113,
    "start_time": "2022-08-19T18:06:32.573Z"
   },
   {
    "duration": 172,
    "start_time": "2022-08-19T18:06:32.688Z"
   },
   {
    "duration": 30,
    "start_time": "2022-08-19T18:06:32.862Z"
   },
   {
    "duration": 66,
    "start_time": "2022-08-19T18:06:32.895Z"
   },
   {
    "duration": 96,
    "start_time": "2022-08-19T18:06:32.963Z"
   },
   {
    "duration": 15,
    "start_time": "2022-08-19T18:06:33.062Z"
   },
   {
    "duration": 13,
    "start_time": "2022-08-19T18:06:33.081Z"
   },
   {
    "duration": 14,
    "start_time": "2022-08-19T18:06:33.096Z"
   },
   {
    "duration": 100,
    "start_time": "2022-08-19T18:06:33.112Z"
   },
   {
    "duration": 0,
    "start_time": "2022-08-19T18:06:33.214Z"
   },
   {
    "duration": 11,
    "start_time": "2022-08-19T18:07:06.925Z"
   },
   {
    "duration": 10,
    "start_time": "2022-08-19T18:07:21.455Z"
   },
   {
    "duration": 13,
    "start_time": "2022-08-19T18:07:25.352Z"
   },
   {
    "duration": 10,
    "start_time": "2022-08-19T18:08:33.063Z"
   },
   {
    "duration": 10,
    "start_time": "2022-08-19T18:08:44.696Z"
   },
   {
    "duration": 11,
    "start_time": "2022-08-19T18:08:55.649Z"
   },
   {
    "duration": 11,
    "start_time": "2022-08-19T18:11:04.342Z"
   },
   {
    "duration": 11,
    "start_time": "2022-08-19T18:11:11.731Z"
   },
   {
    "duration": 1141,
    "start_time": "2022-08-19T18:11:28.533Z"
   },
   {
    "duration": 366,
    "start_time": "2022-08-19T18:11:29.676Z"
   },
   {
    "duration": 20,
    "start_time": "2022-08-19T18:11:30.044Z"
   },
   {
    "duration": 10,
    "start_time": "2022-08-19T18:11:30.067Z"
   },
   {
    "duration": 14,
    "start_time": "2022-08-19T18:11:30.078Z"
   },
   {
    "duration": 19,
    "start_time": "2022-08-19T18:11:30.093Z"
   },
   {
    "duration": 47,
    "start_time": "2022-08-19T18:11:30.114Z"
   },
   {
    "duration": 108,
    "start_time": "2022-08-19T18:11:30.163Z"
   },
   {
    "duration": 106,
    "start_time": "2022-08-19T18:11:30.272Z"
   },
   {
    "duration": 179,
    "start_time": "2022-08-19T18:11:30.380Z"
   },
   {
    "duration": 47,
    "start_time": "2022-08-19T18:11:30.561Z"
   },
   {
    "duration": 4,
    "start_time": "2022-08-19T18:11:30.656Z"
   },
   {
    "duration": 101,
    "start_time": "2022-08-19T18:11:30.661Z"
   },
   {
    "duration": 10,
    "start_time": "2022-08-19T18:11:30.764Z"
   },
   {
    "duration": 22,
    "start_time": "2022-08-19T18:11:30.776Z"
   },
   {
    "duration": 29,
    "start_time": "2022-08-19T18:11:30.800Z"
   },
   {
    "duration": 120,
    "start_time": "2022-08-19T18:11:30.830Z"
   },
   {
    "duration": 0,
    "start_time": "2022-08-19T18:11:30.952Z"
   },
   {
    "duration": 0,
    "start_time": "2022-08-19T18:11:30.953Z"
   },
   {
    "duration": 11,
    "start_time": "2022-08-19T18:13:25.061Z"
   },
   {
    "duration": 6,
    "start_time": "2022-08-19T18:13:39.455Z"
   },
   {
    "duration": 6,
    "start_time": "2022-08-19T18:13:42.078Z"
   },
   {
    "duration": 14,
    "start_time": "2022-08-19T18:13:42.724Z"
   },
   {
    "duration": 1052,
    "start_time": "2022-08-19T18:13:51.725Z"
   },
   {
    "duration": 344,
    "start_time": "2022-08-19T18:13:52.779Z"
   },
   {
    "duration": 15,
    "start_time": "2022-08-19T18:13:53.125Z"
   },
   {
    "duration": 17,
    "start_time": "2022-08-19T18:13:53.142Z"
   },
   {
    "duration": 15,
    "start_time": "2022-08-19T18:13:53.161Z"
   },
   {
    "duration": 17,
    "start_time": "2022-08-19T18:13:53.177Z"
   },
   {
    "duration": 64,
    "start_time": "2022-08-19T18:13:53.195Z"
   },
   {
    "duration": 105,
    "start_time": "2022-08-19T18:13:53.261Z"
   },
   {
    "duration": 90,
    "start_time": "2022-08-19T18:13:53.368Z"
   },
   {
    "duration": 106,
    "start_time": "2022-08-19T18:13:53.461Z"
   },
   {
    "duration": 89,
    "start_time": "2022-08-19T18:13:53.569Z"
   },
   {
    "duration": 3,
    "start_time": "2022-08-19T18:13:53.660Z"
   },
   {
    "duration": 99,
    "start_time": "2022-08-19T18:13:53.665Z"
   },
   {
    "duration": 12,
    "start_time": "2022-08-19T18:13:53.765Z"
   },
   {
    "duration": 11,
    "start_time": "2022-08-19T18:13:53.778Z"
   },
   {
    "duration": 10,
    "start_time": "2022-08-19T18:13:53.790Z"
   },
   {
    "duration": 102,
    "start_time": "2022-08-19T18:13:53.801Z"
   },
   {
    "duration": 0,
    "start_time": "2022-08-19T18:13:53.905Z"
   },
   {
    "duration": 0,
    "start_time": "2022-08-19T18:13:53.906Z"
   },
   {
    "duration": 14,
    "start_time": "2022-08-19T18:14:36.416Z"
   },
   {
    "duration": 7,
    "start_time": "2022-08-19T18:14:45.118Z"
   },
   {
    "duration": 7,
    "start_time": "2022-08-19T18:14:59.259Z"
   },
   {
    "duration": 14,
    "start_time": "2022-08-19T18:15:00.028Z"
   },
   {
    "duration": 12,
    "start_time": "2022-08-19T18:15:08.546Z"
   },
   {
    "duration": 7,
    "start_time": "2022-08-19T18:16:01.181Z"
   },
   {
    "duration": 7,
    "start_time": "2022-08-19T18:16:01.653Z"
   },
   {
    "duration": 14,
    "start_time": "2022-08-19T18:16:12.907Z"
   },
   {
    "duration": 15,
    "start_time": "2022-08-19T18:18:50.347Z"
   },
   {
    "duration": 12,
    "start_time": "2022-08-19T18:20:32.227Z"
   },
   {
    "duration": 12,
    "start_time": "2022-08-19T18:21:00.156Z"
   },
   {
    "duration": 1024,
    "start_time": "2022-08-19T18:21:13.703Z"
   },
   {
    "duration": 362,
    "start_time": "2022-08-19T18:21:14.729Z"
   },
   {
    "duration": 16,
    "start_time": "2022-08-19T18:21:15.093Z"
   },
   {
    "duration": 10,
    "start_time": "2022-08-19T18:21:15.111Z"
   },
   {
    "duration": 13,
    "start_time": "2022-08-19T18:21:15.123Z"
   },
   {
    "duration": 31,
    "start_time": "2022-08-19T18:21:15.138Z"
   },
   {
    "duration": 28,
    "start_time": "2022-08-19T18:21:15.171Z"
   },
   {
    "duration": 159,
    "start_time": "2022-08-19T18:21:15.201Z"
   },
   {
    "duration": 56,
    "start_time": "2022-08-19T18:21:15.362Z"
   },
   {
    "duration": 104,
    "start_time": "2022-08-19T18:21:15.458Z"
   },
   {
    "duration": 28,
    "start_time": "2022-08-19T18:21:15.565Z"
   },
   {
    "duration": 3,
    "start_time": "2022-08-19T18:21:15.595Z"
   },
   {
    "duration": 192,
    "start_time": "2022-08-19T18:21:15.600Z"
   },
   {
    "duration": 12,
    "start_time": "2022-08-19T18:21:15.794Z"
   },
   {
    "duration": 10,
    "start_time": "2022-08-19T18:21:15.807Z"
   },
   {
    "duration": 11,
    "start_time": "2022-08-19T18:21:15.819Z"
   },
   {
    "duration": 131,
    "start_time": "2022-08-19T18:21:15.832Z"
   },
   {
    "duration": 0,
    "start_time": "2022-08-19T18:21:15.965Z"
   },
   {
    "duration": 0,
    "start_time": "2022-08-19T18:21:15.966Z"
   },
   {
    "duration": 0,
    "start_time": "2022-08-19T18:21:15.967Z"
   },
   {
    "duration": 14,
    "start_time": "2022-08-19T18:21:26.104Z"
   },
   {
    "duration": 10,
    "start_time": "2022-08-19T18:21:26.729Z"
   },
   {
    "duration": 15,
    "start_time": "2022-08-19T18:21:27.446Z"
   },
   {
    "duration": 11,
    "start_time": "2022-08-19T18:23:13.195Z"
   },
   {
    "duration": 11,
    "start_time": "2022-08-19T18:23:31.036Z"
   },
   {
    "duration": 4,
    "start_time": "2022-08-19T18:26:12.851Z"
   },
   {
    "duration": 80,
    "start_time": "2022-08-19T18:26:46.007Z"
   },
   {
    "duration": 11,
    "start_time": "2022-08-19T18:26:51.939Z"
   },
   {
    "duration": 12,
    "start_time": "2022-08-19T18:27:25.777Z"
   },
   {
    "duration": 13,
    "start_time": "2022-08-19T18:27:49.180Z"
   },
   {
    "duration": 11,
    "start_time": "2022-08-19T18:27:59.920Z"
   },
   {
    "duration": 12,
    "start_time": "2022-08-19T18:28:17.077Z"
   },
   {
    "duration": 14,
    "start_time": "2022-08-19T18:28:35.215Z"
   },
   {
    "duration": 1030,
    "start_time": "2022-08-19T18:29:09.015Z"
   },
   {
    "duration": 416,
    "start_time": "2022-08-19T18:29:10.047Z"
   },
   {
    "duration": 19,
    "start_time": "2022-08-19T18:29:10.464Z"
   },
   {
    "duration": 25,
    "start_time": "2022-08-19T18:29:10.485Z"
   },
   {
    "duration": 41,
    "start_time": "2022-08-19T18:29:10.512Z"
   },
   {
    "duration": 29,
    "start_time": "2022-08-19T18:29:10.554Z"
   },
   {
    "duration": 38,
    "start_time": "2022-08-19T18:29:10.585Z"
   },
   {
    "duration": 133,
    "start_time": "2022-08-19T18:29:10.625Z"
   },
   {
    "duration": 97,
    "start_time": "2022-08-19T18:29:10.760Z"
   },
   {
    "duration": 98,
    "start_time": "2022-08-19T18:29:10.860Z"
   },
   {
    "duration": 31,
    "start_time": "2022-08-19T18:29:10.959Z"
   },
   {
    "duration": 67,
    "start_time": "2022-08-19T18:29:10.992Z"
   },
   {
    "duration": 98,
    "start_time": "2022-08-19T18:29:11.061Z"
   },
   {
    "duration": 34,
    "start_time": "2022-08-19T18:29:11.160Z"
   },
   {
    "duration": 17,
    "start_time": "2022-08-19T18:29:11.196Z"
   },
   {
    "duration": 33,
    "start_time": "2022-08-19T18:29:11.215Z"
   },
   {
    "duration": 137,
    "start_time": "2022-08-19T18:29:11.250Z"
   },
   {
    "duration": 0,
    "start_time": "2022-08-19T18:29:11.389Z"
   },
   {
    "duration": 0,
    "start_time": "2022-08-19T18:29:11.390Z"
   },
   {
    "duration": 0,
    "start_time": "2022-08-19T18:29:11.391Z"
   },
   {
    "duration": 12,
    "start_time": "2022-08-19T18:29:17.735Z"
   },
   {
    "duration": 14,
    "start_time": "2022-08-19T18:29:18.271Z"
   },
   {
    "duration": 13,
    "start_time": "2022-08-19T18:29:18.888Z"
   },
   {
    "duration": 11,
    "start_time": "2022-08-19T18:31:10.536Z"
   },
   {
    "duration": 14,
    "start_time": "2022-08-19T18:31:16.811Z"
   },
   {
    "duration": 23,
    "start_time": "2022-08-19T18:33:09.412Z"
   },
   {
    "duration": 16,
    "start_time": "2022-08-19T18:33:23.923Z"
   },
   {
    "duration": 12,
    "start_time": "2022-08-19T18:33:37.882Z"
   },
   {
    "duration": 1452,
    "start_time": "2022-08-19T18:34:26.243Z"
   },
   {
    "duration": 348,
    "start_time": "2022-08-19T18:34:27.697Z"
   },
   {
    "duration": 18,
    "start_time": "2022-08-19T18:34:28.047Z"
   },
   {
    "duration": 11,
    "start_time": "2022-08-19T18:34:28.067Z"
   },
   {
    "duration": 27,
    "start_time": "2022-08-19T18:34:28.080Z"
   },
   {
    "duration": 24,
    "start_time": "2022-08-19T18:34:28.109Z"
   },
   {
    "duration": 34,
    "start_time": "2022-08-19T18:34:28.135Z"
   },
   {
    "duration": 101,
    "start_time": "2022-08-19T18:34:28.171Z"
   },
   {
    "duration": 126,
    "start_time": "2022-08-19T18:34:28.277Z"
   },
   {
    "duration": 59,
    "start_time": "2022-08-19T18:34:28.409Z"
   },
   {
    "duration": 43,
    "start_time": "2022-08-19T18:34:28.556Z"
   },
   {
    "duration": 53,
    "start_time": "2022-08-19T18:34:28.603Z"
   },
   {
    "duration": 9,
    "start_time": "2022-08-19T18:34:28.659Z"
   },
   {
    "duration": 100,
    "start_time": "2022-08-19T18:34:28.669Z"
   },
   {
    "duration": 9,
    "start_time": "2022-08-19T18:34:28.772Z"
   },
   {
    "duration": 18,
    "start_time": "2022-08-19T18:34:28.783Z"
   },
   {
    "duration": 146,
    "start_time": "2022-08-19T18:34:28.803Z"
   },
   {
    "duration": 0,
    "start_time": "2022-08-19T18:34:28.958Z"
   },
   {
    "duration": 0,
    "start_time": "2022-08-19T18:34:28.959Z"
   },
   {
    "duration": 0,
    "start_time": "2022-08-19T18:34:28.961Z"
   },
   {
    "duration": 929,
    "start_time": "2022-08-19T18:39:02.528Z"
   },
   {
    "duration": 745,
    "start_time": "2022-08-19T18:39:24.076Z"
   },
   {
    "duration": 823,
    "start_time": "2022-08-19T18:41:47.620Z"
   },
   {
    "duration": 966,
    "start_time": "2022-08-19T18:42:09.390Z"
   },
   {
    "duration": 13,
    "start_time": "2022-08-19T18:44:19.331Z"
   },
   {
    "duration": 805,
    "start_time": "2022-08-19T18:44:39.458Z"
   },
   {
    "duration": 1689,
    "start_time": "2022-08-19T18:45:02.969Z"
   },
   {
    "duration": 917,
    "start_time": "2022-08-19T18:50:58.768Z"
   },
   {
    "duration": 7,
    "start_time": "2022-08-19T18:51:39.302Z"
   },
   {
    "duration": 809,
    "start_time": "2022-08-19T18:51:41.000Z"
   },
   {
    "duration": 0,
    "start_time": "2022-08-19T18:51:41.810Z"
   },
   {
    "duration": 8,
    "start_time": "2022-08-19T18:53:52.671Z"
   },
   {
    "duration": 6,
    "start_time": "2022-08-19T18:53:53.211Z"
   },
   {
    "duration": 801,
    "start_time": "2022-08-19T18:54:23.712Z"
   },
   {
    "duration": 14,
    "start_time": "2022-08-19T18:55:39.165Z"
   },
   {
    "duration": 33,
    "start_time": "2022-08-19T18:55:39.804Z"
   },
   {
    "duration": 15,
    "start_time": "2022-08-19T18:55:41.361Z"
   },
   {
    "duration": 28,
    "start_time": "2022-08-19T18:55:41.870Z"
   },
   {
    "duration": 12,
    "start_time": "2022-08-19T18:56:01.781Z"
   },
   {
    "duration": 23,
    "start_time": "2022-08-19T18:56:02.763Z"
   },
   {
    "duration": 3,
    "start_time": "2022-08-19T18:56:11.980Z"
   },
   {
    "duration": 3,
    "start_time": "2022-08-19T18:56:12.501Z"
   },
   {
    "duration": 6,
    "start_time": "2022-08-19T18:56:14.336Z"
   },
   {
    "duration": 8,
    "start_time": "2022-08-19T18:56:14.958Z"
   },
   {
    "duration": 9,
    "start_time": "2022-08-19T18:56:15.505Z"
   },
   {
    "duration": 888,
    "start_time": "2022-08-19T18:56:16.686Z"
   },
   {
    "duration": 6,
    "start_time": "2022-08-19T18:56:42.413Z"
   },
   {
    "duration": 6,
    "start_time": "2022-08-19T18:56:51.635Z"
   },
   {
    "duration": 8,
    "start_time": "2022-08-19T18:56:52.334Z"
   },
   {
    "duration": 7,
    "start_time": "2022-08-19T18:56:54.002Z"
   },
   {
    "duration": 812,
    "start_time": "2022-08-19T18:56:58.443Z"
   },
   {
    "duration": 21,
    "start_time": "2022-08-19T18:57:48.065Z"
   },
   {
    "duration": 16,
    "start_time": "2022-08-19T18:57:50.376Z"
   },
   {
    "duration": 35,
    "start_time": "2022-08-19T18:57:50.939Z"
   },
   {
    "duration": 12,
    "start_time": "2022-08-19T18:58:25.836Z"
   },
   {
    "duration": 31,
    "start_time": "2022-08-19T18:58:26.595Z"
   },
   {
    "duration": 12,
    "start_time": "2022-08-19T18:59:11.277Z"
   },
   {
    "duration": 27,
    "start_time": "2022-08-19T18:59:11.798Z"
   },
   {
    "duration": 9,
    "start_time": "2022-08-19T18:59:42.781Z"
   },
   {
    "duration": 7,
    "start_time": "2022-08-19T18:59:43.394Z"
   },
   {
    "duration": 6,
    "start_time": "2022-08-19T18:59:44.642Z"
   },
   {
    "duration": 756,
    "start_time": "2022-08-19T18:59:48.629Z"
   },
   {
    "duration": 986,
    "start_time": "2022-08-19T18:59:59.604Z"
   },
   {
    "duration": 1320,
    "start_time": "2022-08-19T19:00:14.867Z"
   },
   {
    "duration": 355,
    "start_time": "2022-08-19T19:00:16.190Z"
   },
   {
    "duration": 15,
    "start_time": "2022-08-19T19:00:16.547Z"
   },
   {
    "duration": 15,
    "start_time": "2022-08-19T19:00:16.564Z"
   },
   {
    "duration": 21,
    "start_time": "2022-08-19T19:00:16.581Z"
   },
   {
    "duration": 20,
    "start_time": "2022-08-19T19:00:16.603Z"
   },
   {
    "duration": 33,
    "start_time": "2022-08-19T19:00:16.625Z"
   },
   {
    "duration": 105,
    "start_time": "2022-08-19T19:00:16.660Z"
   },
   {
    "duration": 111,
    "start_time": "2022-08-19T19:00:16.767Z"
   },
   {
    "duration": 83,
    "start_time": "2022-08-19T19:00:16.881Z"
   },
   {
    "duration": 117,
    "start_time": "2022-08-19T19:00:16.966Z"
   },
   {
    "duration": 3,
    "start_time": "2022-08-19T19:00:17.085Z"
   },
   {
    "duration": 99,
    "start_time": "2022-08-19T19:00:17.158Z"
   },
   {
    "duration": 102,
    "start_time": "2022-08-19T19:00:17.260Z"
   },
   {
    "duration": 0,
    "start_time": "2022-08-19T19:00:17.364Z"
   },
   {
    "duration": 0,
    "start_time": "2022-08-19T19:00:17.365Z"
   },
   {
    "duration": 0,
    "start_time": "2022-08-19T19:00:17.366Z"
   },
   {
    "duration": 0,
    "start_time": "2022-08-19T19:00:17.367Z"
   },
   {
    "duration": 0,
    "start_time": "2022-08-19T19:00:17.368Z"
   },
   {
    "duration": 0,
    "start_time": "2022-08-19T19:00:17.369Z"
   },
   {
    "duration": 0,
    "start_time": "2022-08-19T19:00:17.370Z"
   },
   {
    "duration": 7,
    "start_time": "2022-08-19T19:02:05.622Z"
   },
   {
    "duration": 8,
    "start_time": "2022-08-19T19:02:13.725Z"
   },
   {
    "duration": 7,
    "start_time": "2022-08-19T19:02:20.998Z"
   },
   {
    "duration": 1243,
    "start_time": "2022-08-19T19:02:53.981Z"
   },
   {
    "duration": 392,
    "start_time": "2022-08-19T19:02:55.228Z"
   },
   {
    "duration": 16,
    "start_time": "2022-08-19T19:02:55.621Z"
   },
   {
    "duration": 21,
    "start_time": "2022-08-19T19:02:55.641Z"
   },
   {
    "duration": 47,
    "start_time": "2022-08-19T19:02:55.664Z"
   },
   {
    "duration": 40,
    "start_time": "2022-08-19T19:02:55.713Z"
   },
   {
    "duration": 43,
    "start_time": "2022-08-19T19:02:55.755Z"
   },
   {
    "duration": 105,
    "start_time": "2022-08-19T19:02:55.858Z"
   },
   {
    "duration": 23,
    "start_time": "2022-08-19T19:02:55.965Z"
   },
   {
    "duration": 166,
    "start_time": "2022-08-19T19:02:55.991Z"
   },
   {
    "duration": 25,
    "start_time": "2022-08-19T19:02:56.159Z"
   },
   {
    "duration": 4,
    "start_time": "2022-08-19T19:02:56.257Z"
   },
   {
    "duration": 104,
    "start_time": "2022-08-19T19:02:56.263Z"
   },
   {
    "duration": 10,
    "start_time": "2022-08-19T19:02:56.368Z"
   },
   {
    "duration": 10,
    "start_time": "2022-08-19T19:02:56.380Z"
   },
   {
    "duration": 7,
    "start_time": "2022-08-19T19:02:56.391Z"
   },
   {
    "duration": 1086,
    "start_time": "2022-08-19T19:02:56.399Z"
   },
   {
    "duration": 0,
    "start_time": "2022-08-19T19:02:57.487Z"
   },
   {
    "duration": 0,
    "start_time": "2022-08-19T19:02:57.488Z"
   },
   {
    "duration": 0,
    "start_time": "2022-08-19T19:02:57.489Z"
   },
   {
    "duration": 0,
    "start_time": "2022-08-19T19:02:57.490Z"
   },
   {
    "duration": 16,
    "start_time": "2022-08-19T19:04:19.113Z"
   },
   {
    "duration": 110,
    "start_time": "2022-08-19T19:04:19.548Z"
   },
   {
    "duration": 14,
    "start_time": "2022-08-19T19:05:07.654Z"
   },
   {
    "duration": 31,
    "start_time": "2022-08-19T19:05:08.253Z"
   },
   {
    "duration": 18,
    "start_time": "2022-08-19T19:05:56.350Z"
   },
   {
    "duration": 119,
    "start_time": "2022-08-19T19:05:56.838Z"
   },
   {
    "duration": 6,
    "start_time": "2022-08-19T19:06:07.992Z"
   },
   {
    "duration": 6,
    "start_time": "2022-08-19T19:06:09.173Z"
   },
   {
    "duration": 6,
    "start_time": "2022-08-19T19:06:11.781Z"
   },
   {
    "duration": 1761,
    "start_time": "2022-08-19T19:06:15.890Z"
   },
   {
    "duration": 1052,
    "start_time": "2022-08-19T19:06:30.816Z"
   },
   {
    "duration": 1346,
    "start_time": "2022-08-19T19:06:42.304Z"
   },
   {
    "duration": 1051,
    "start_time": "2022-08-19T19:06:58.265Z"
   },
   {
    "duration": 808,
    "start_time": "2022-08-19T19:07:51.036Z"
   },
   {
    "duration": 1036,
    "start_time": "2022-08-19T19:08:02.496Z"
   },
   {
    "duration": 954,
    "start_time": "2022-08-19T19:09:15.294Z"
   },
   {
    "duration": 859,
    "start_time": "2022-08-19T19:18:18.589Z"
   },
   {
    "duration": 14,
    "start_time": "2022-08-19T19:21:15.925Z"
   },
   {
    "duration": 14,
    "start_time": "2022-08-19T19:21:33.789Z"
   },
   {
    "duration": 834,
    "start_time": "2022-08-19T19:23:25.467Z"
   },
   {
    "duration": 801,
    "start_time": "2022-08-19T19:31:38.128Z"
   },
   {
    "duration": 20,
    "start_time": "2022-08-19T19:33:38.513Z"
   },
   {
    "duration": 15,
    "start_time": "2022-08-19T19:34:46.344Z"
   },
   {
    "duration": 12,
    "start_time": "2022-08-19T19:35:21.861Z"
   },
   {
    "duration": 16,
    "start_time": "2022-08-19T19:35:28.381Z"
   },
   {
    "duration": 9,
    "start_time": "2022-08-19T19:36:15.640Z"
   },
   {
    "duration": 9,
    "start_time": "2022-08-19T19:38:43.734Z"
   },
   {
    "duration": 800,
    "start_time": "2022-08-19T19:38:56.249Z"
   },
   {
    "duration": 952,
    "start_time": "2022-08-19T19:39:07.970Z"
   },
   {
    "duration": 858,
    "start_time": "2022-08-19T19:40:15.253Z"
   },
   {
    "duration": 17,
    "start_time": "2022-08-19T19:40:39.941Z"
   },
   {
    "duration": 16,
    "start_time": "2022-08-19T19:41:03.384Z"
   },
   {
    "duration": 897,
    "start_time": "2022-08-19T19:41:14.843Z"
   },
   {
    "duration": 9,
    "start_time": "2022-08-19T19:41:26.635Z"
   },
   {
    "duration": 734,
    "start_time": "2022-08-19T19:41:33.170Z"
   },
   {
    "duration": 697,
    "start_time": "2022-08-19T19:41:39.780Z"
   },
   {
    "duration": 1104,
    "start_time": "2022-08-19T19:42:05.334Z"
   },
   {
    "duration": 1395,
    "start_time": "2022-08-19T19:42:20.518Z"
   },
   {
    "duration": 1398,
    "start_time": "2022-08-20T08:37:03.133Z"
   },
   {
    "duration": 765,
    "start_time": "2022-08-20T08:37:04.533Z"
   },
   {
    "duration": 14,
    "start_time": "2022-08-20T08:37:05.302Z"
   },
   {
    "duration": 12,
    "start_time": "2022-08-20T08:37:05.318Z"
   },
   {
    "duration": 17,
    "start_time": "2022-08-20T08:37:05.331Z"
   },
   {
    "duration": 18,
    "start_time": "2022-08-20T08:37:05.350Z"
   },
   {
    "duration": 43,
    "start_time": "2022-08-20T08:37:05.370Z"
   },
   {
    "duration": 99,
    "start_time": "2022-08-20T08:37:05.501Z"
   },
   {
    "duration": 46,
    "start_time": "2022-08-20T08:37:05.604Z"
   },
   {
    "duration": 149,
    "start_time": "2022-08-20T08:37:05.651Z"
   },
   {
    "duration": 29,
    "start_time": "2022-08-20T08:37:05.802Z"
   },
   {
    "duration": 72,
    "start_time": "2022-08-20T08:37:05.833Z"
   },
   {
    "duration": 98,
    "start_time": "2022-08-20T08:37:05.907Z"
   },
   {
    "duration": 11,
    "start_time": "2022-08-20T08:37:06.007Z"
   },
   {
    "duration": 14,
    "start_time": "2022-08-20T08:37:06.020Z"
   },
   {
    "duration": 7,
    "start_time": "2022-08-20T08:37:06.036Z"
   },
   {
    "duration": 126,
    "start_time": "2022-08-20T08:37:06.045Z"
   },
   {
    "duration": 0,
    "start_time": "2022-08-20T08:37:06.173Z"
   },
   {
    "duration": 0,
    "start_time": "2022-08-20T08:37:06.174Z"
   },
   {
    "duration": 9,
    "start_time": "2022-08-20T08:39:02.753Z"
   },
   {
    "duration": 9,
    "start_time": "2022-08-20T08:39:41.341Z"
   },
   {
    "duration": 829,
    "start_time": "2022-08-20T08:39:53.228Z"
   },
   {
    "duration": 1452,
    "start_time": "2022-08-20T08:40:02.439Z"
   },
   {
    "duration": 825,
    "start_time": "2022-08-20T08:40:44.475Z"
   },
   {
    "duration": 810,
    "start_time": "2022-08-20T08:40:55.977Z"
   },
   {
    "duration": 943,
    "start_time": "2022-08-20T08:41:13.136Z"
   },
   {
    "duration": 11,
    "start_time": "2022-08-20T08:43:16.516Z"
   },
   {
    "duration": 14,
    "start_time": "2022-08-20T08:43:31.887Z"
   },
   {
    "duration": 833,
    "start_time": "2022-08-20T08:44:13.435Z"
   },
   {
    "duration": 754,
    "start_time": "2022-08-20T08:44:26.695Z"
   },
   {
    "duration": 16,
    "start_time": "2022-08-20T08:48:03.532Z"
   },
   {
    "duration": 1114,
    "start_time": "2022-08-20T08:49:36.367Z"
   },
   {
    "duration": 859,
    "start_time": "2022-08-20T08:50:07.384Z"
   },
   {
    "duration": 15,
    "start_time": "2022-08-20T08:50:17.560Z"
   },
   {
    "duration": 783,
    "start_time": "2022-08-20T08:50:25.750Z"
   },
   {
    "duration": 762,
    "start_time": "2022-08-20T08:50:33.628Z"
   },
   {
    "duration": 1044,
    "start_time": "2022-08-20T08:50:41.128Z"
   },
   {
    "duration": 11,
    "start_time": "2022-08-20T08:53:01.929Z"
   },
   {
    "duration": 349,
    "start_time": "2022-08-20T08:53:29.550Z"
   },
   {
    "duration": 9,
    "start_time": "2022-08-20T08:53:30.080Z"
   },
   {
    "duration": 10,
    "start_time": "2022-08-20T08:53:30.867Z"
   },
   {
    "duration": 13,
    "start_time": "2022-08-20T08:53:31.428Z"
   },
   {
    "duration": 16,
    "start_time": "2022-08-20T08:53:34.080Z"
   },
   {
    "duration": 48,
    "start_time": "2022-08-20T08:53:35.260Z"
   },
   {
    "duration": 54,
    "start_time": "2022-08-20T09:00:09.150Z"
   },
   {
    "duration": 27,
    "start_time": "2022-08-20T09:00:32.704Z"
   },
   {
    "duration": 32,
    "start_time": "2022-08-20T09:00:45.693Z"
   },
   {
    "duration": 55,
    "start_time": "2022-08-20T09:00:57.646Z"
   },
   {
    "duration": 232,
    "start_time": "2022-08-20T09:04:37.099Z"
   },
   {
    "duration": 1349,
    "start_time": "2022-08-20T09:04:49.791Z"
   },
   {
    "duration": 373,
    "start_time": "2022-08-20T09:04:51.142Z"
   },
   {
    "duration": 18,
    "start_time": "2022-08-20T09:04:51.517Z"
   },
   {
    "duration": 17,
    "start_time": "2022-08-20T09:04:51.537Z"
   },
   {
    "duration": 22,
    "start_time": "2022-08-20T09:04:51.556Z"
   },
   {
    "duration": 38,
    "start_time": "2022-08-20T09:04:51.580Z"
   },
   {
    "duration": 121,
    "start_time": "2022-08-20T09:04:51.621Z"
   },
   {
    "duration": 0,
    "start_time": "2022-08-20T09:04:51.744Z"
   },
   {
    "duration": 0,
    "start_time": "2022-08-20T09:04:51.745Z"
   },
   {
    "duration": 0,
    "start_time": "2022-08-20T09:04:51.746Z"
   },
   {
    "duration": 0,
    "start_time": "2022-08-20T09:04:51.748Z"
   },
   {
    "duration": 0,
    "start_time": "2022-08-20T09:04:51.749Z"
   },
   {
    "duration": 0,
    "start_time": "2022-08-20T09:04:51.750Z"
   },
   {
    "duration": 0,
    "start_time": "2022-08-20T09:04:51.751Z"
   },
   {
    "duration": 0,
    "start_time": "2022-08-20T09:04:51.752Z"
   },
   {
    "duration": 0,
    "start_time": "2022-08-20T09:04:51.753Z"
   },
   {
    "duration": 0,
    "start_time": "2022-08-20T09:04:51.754Z"
   },
   {
    "duration": 0,
    "start_time": "2022-08-20T09:04:51.755Z"
   },
   {
    "duration": 0,
    "start_time": "2022-08-20T09:04:51.756Z"
   },
   {
    "duration": 222,
    "start_time": "2022-08-20T09:05:31.785Z"
   },
   {
    "duration": 35,
    "start_time": "2022-08-20T09:06:23.820Z"
   },
   {
    "duration": 20,
    "start_time": "2022-08-20T09:07:37.729Z"
   },
   {
    "duration": 33,
    "start_time": "2022-08-20T09:07:38.168Z"
   },
   {
    "duration": 18,
    "start_time": "2022-08-20T09:08:46.454Z"
   },
   {
    "duration": 37,
    "start_time": "2022-08-20T09:08:46.897Z"
   },
   {
    "duration": 3,
    "start_time": "2022-08-20T09:08:49.321Z"
   },
   {
    "duration": 4,
    "start_time": "2022-08-20T09:08:49.725Z"
   },
   {
    "duration": 9,
    "start_time": "2022-08-20T09:09:21.450Z"
   },
   {
    "duration": 8,
    "start_time": "2022-08-20T09:09:22.163Z"
   },
   {
    "duration": 7,
    "start_time": "2022-08-20T09:09:22.727Z"
   },
   {
    "duration": 11,
    "start_time": "2022-08-20T09:09:28.121Z"
   },
   {
    "duration": 895,
    "start_time": "2022-08-20T09:09:42.586Z"
   },
   {
    "duration": 810,
    "start_time": "2022-08-20T09:09:52.090Z"
   },
   {
    "duration": 1004,
    "start_time": "2022-08-20T09:09:56.665Z"
   },
   {
    "duration": 15,
    "start_time": "2022-08-20T09:12:26.750Z"
   },
   {
    "duration": 16,
    "start_time": "2022-08-20T09:12:44.085Z"
   },
   {
    "duration": 132,
    "start_time": "2022-08-20T09:13:01.201Z"
   },
   {
    "duration": 123,
    "start_time": "2022-08-20T09:13:42.405Z"
   },
   {
    "duration": 124,
    "start_time": "2022-08-20T09:15:36.350Z"
   },
   {
    "duration": 139,
    "start_time": "2022-08-20T09:16:12.909Z"
   },
   {
    "duration": 128,
    "start_time": "2022-08-20T09:18:27.363Z"
   },
   {
    "duration": 140,
    "start_time": "2022-08-20T09:18:40.097Z"
   },
   {
    "duration": 224,
    "start_time": "2022-08-20T09:18:46.635Z"
   },
   {
    "duration": 178,
    "start_time": "2022-08-20T09:20:00.781Z"
   },
   {
    "duration": 1304,
    "start_time": "2022-08-20T09:20:28.528Z"
   },
   {
    "duration": 389,
    "start_time": "2022-08-20T09:20:29.835Z"
   },
   {
    "duration": 13,
    "start_time": "2022-08-20T09:20:30.226Z"
   },
   {
    "duration": 34,
    "start_time": "2022-08-20T09:20:30.242Z"
   },
   {
    "duration": 20,
    "start_time": "2022-08-20T09:20:30.278Z"
   },
   {
    "duration": 26,
    "start_time": "2022-08-20T09:20:30.301Z"
   },
   {
    "duration": 72,
    "start_time": "2022-08-20T09:20:30.329Z"
   },
   {
    "duration": 117,
    "start_time": "2022-08-20T09:20:30.405Z"
   },
   {
    "duration": 81,
    "start_time": "2022-08-20T09:20:30.523Z"
   },
   {
    "duration": 113,
    "start_time": "2022-08-20T09:20:30.608Z"
   },
   {
    "duration": 81,
    "start_time": "2022-08-20T09:20:30.723Z"
   },
   {
    "duration": 6,
    "start_time": "2022-08-20T09:20:30.806Z"
   },
   {
    "duration": 102,
    "start_time": "2022-08-20T09:20:30.814Z"
   },
   {
    "duration": 32,
    "start_time": "2022-08-20T09:20:30.917Z"
   },
   {
    "duration": 27,
    "start_time": "2022-08-20T09:20:30.950Z"
   },
   {
    "duration": 24,
    "start_time": "2022-08-20T09:20:30.979Z"
   },
   {
    "duration": 159,
    "start_time": "2022-08-20T09:20:31.005Z"
   },
   {
    "duration": 161,
    "start_time": "2022-08-20T09:20:31.166Z"
   },
   {
    "duration": 174,
    "start_time": "2022-08-20T09:20:31.328Z"
   },
   {
    "duration": 157,
    "start_time": "2022-08-20T09:22:33.654Z"
   },
   {
    "duration": 124,
    "start_time": "2022-08-20T09:24:14.067Z"
   },
   {
    "duration": 155,
    "start_time": "2022-08-20T09:24:43.372Z"
   },
   {
    "duration": 227,
    "start_time": "2022-08-20T09:25:15.541Z"
   },
   {
    "duration": 1290,
    "start_time": "2022-08-20T09:25:41.851Z"
   },
   {
    "duration": 362,
    "start_time": "2022-08-20T09:25:43.143Z"
   },
   {
    "duration": 18,
    "start_time": "2022-08-20T09:25:43.506Z"
   },
   {
    "duration": 9,
    "start_time": "2022-08-20T09:25:43.527Z"
   },
   {
    "duration": 13,
    "start_time": "2022-08-20T09:25:43.537Z"
   },
   {
    "duration": 19,
    "start_time": "2022-08-20T09:25:43.552Z"
   },
   {
    "duration": 50,
    "start_time": "2022-08-20T09:25:43.573Z"
   },
   {
    "duration": 80,
    "start_time": "2022-08-20T09:25:43.624Z"
   },
   {
    "duration": 192,
    "start_time": "2022-08-20T09:25:43.708Z"
   },
   {
    "duration": 96,
    "start_time": "2022-08-20T09:25:43.904Z"
   },
   {
    "duration": 27,
    "start_time": "2022-08-20T09:25:44.002Z"
   },
   {
    "duration": 3,
    "start_time": "2022-08-20T09:25:44.031Z"
   },
   {
    "duration": 12,
    "start_time": "2022-08-20T09:25:44.101Z"
   },
   {
    "duration": 10,
    "start_time": "2022-08-20T09:25:44.201Z"
   },
   {
    "duration": 12,
    "start_time": "2022-08-20T09:25:44.212Z"
   },
   {
    "duration": 8,
    "start_time": "2022-08-20T09:25:44.226Z"
   },
   {
    "duration": 126,
    "start_time": "2022-08-20T09:25:44.236Z"
   },
   {
    "duration": 0,
    "start_time": "2022-08-20T09:25:44.364Z"
   },
   {
    "duration": 0,
    "start_time": "2022-08-20T09:25:44.365Z"
   },
   {
    "duration": 0,
    "start_time": "2022-08-20T09:25:44.366Z"
   },
   {
    "duration": 142,
    "start_time": "2022-08-20T09:26:03.084Z"
   },
   {
    "duration": 165,
    "start_time": "2022-08-20T09:26:07.057Z"
   },
   {
    "duration": 141,
    "start_time": "2022-08-20T09:26:08.530Z"
   },
   {
    "duration": 199,
    "start_time": "2022-08-20T09:26:10.056Z"
   },
   {
    "duration": 23,
    "start_time": "2022-08-20T09:30:05.351Z"
   },
   {
    "duration": 29,
    "start_time": "2022-08-20T09:30:15.485Z"
   },
   {
    "duration": 36,
    "start_time": "2022-08-20T09:30:23.697Z"
   },
   {
    "duration": 59,
    "start_time": "2022-08-20T09:31:59.314Z"
   },
   {
    "duration": 51,
    "start_time": "2022-08-20T09:32:26.499Z"
   },
   {
    "duration": 55,
    "start_time": "2022-08-20T09:32:26.992Z"
   },
   {
    "duration": 115,
    "start_time": "2022-08-20T09:34:17.748Z"
   },
   {
    "duration": 4,
    "start_time": "2022-08-20T09:40:22.828Z"
   },
   {
    "duration": 4,
    "start_time": "2022-08-20T09:41:22.274Z"
   },
   {
    "duration": 8,
    "start_time": "2022-08-20T09:41:27.923Z"
   },
   {
    "duration": 5,
    "start_time": "2022-08-20T09:41:53.000Z"
   },
   {
    "duration": 5,
    "start_time": "2022-08-20T09:41:56.015Z"
   },
   {
    "duration": 6,
    "start_time": "2022-08-20T09:42:01.267Z"
   },
   {
    "duration": 359,
    "start_time": "2022-08-20T09:54:45.132Z"
   },
   {
    "duration": 1374,
    "start_time": "2022-08-20T09:55:26.564Z"
   },
   {
    "duration": 361,
    "start_time": "2022-08-20T09:55:27.940Z"
   },
   {
    "duration": 55,
    "start_time": "2022-08-20T09:55:28.303Z"
   },
   {
    "duration": 65,
    "start_time": "2022-08-20T09:55:28.359Z"
   },
   {
    "duration": 50,
    "start_time": "2022-08-20T09:55:28.426Z"
   },
   {
    "duration": 137,
    "start_time": "2022-08-20T09:55:28.478Z"
   },
   {
    "duration": 12,
    "start_time": "2022-08-20T09:55:28.616Z"
   },
   {
    "duration": 74,
    "start_time": "2022-08-20T09:55:28.629Z"
   },
   {
    "duration": 99,
    "start_time": "2022-08-20T09:55:28.705Z"
   },
   {
    "duration": 24,
    "start_time": "2022-08-20T09:55:28.806Z"
   },
   {
    "duration": 72,
    "start_time": "2022-08-20T09:55:28.833Z"
   },
   {
    "duration": 123,
    "start_time": "2022-08-20T09:55:28.907Z"
   },
   {
    "duration": 3,
    "start_time": "2022-08-20T09:55:29.032Z"
   },
   {
    "duration": 102,
    "start_time": "2022-08-20T09:55:29.101Z"
   },
   {
    "duration": 13,
    "start_time": "2022-08-20T09:55:29.205Z"
   },
   {
    "duration": 7,
    "start_time": "2022-08-20T09:55:29.220Z"
   },
   {
    "duration": 6,
    "start_time": "2022-08-20T09:55:29.229Z"
   },
   {
    "duration": 413,
    "start_time": "2022-08-20T09:55:29.237Z"
   },
   {
    "duration": 373,
    "start_time": "2022-08-20T09:55:29.652Z"
   },
   {
    "duration": 385,
    "start_time": "2022-08-20T09:55:30.027Z"
   },
   {
    "duration": 487,
    "start_time": "2022-08-20T10:00:56.407Z"
   },
   {
    "duration": 383,
    "start_time": "2022-08-20T10:02:02.754Z"
   },
   {
    "duration": 433,
    "start_time": "2022-08-20T10:02:31.385Z"
   },
   {
    "duration": 430,
    "start_time": "2022-08-20T10:02:43.119Z"
   },
   {
    "duration": 1471,
    "start_time": "2022-08-20T10:05:42.005Z"
   },
   {
    "duration": 379,
    "start_time": "2022-08-20T10:05:43.478Z"
   },
   {
    "duration": 73,
    "start_time": "2022-08-20T10:05:43.859Z"
   },
   {
    "duration": 69,
    "start_time": "2022-08-20T10:05:43.934Z"
   },
   {
    "duration": 53,
    "start_time": "2022-08-20T10:05:44.005Z"
   },
   {
    "duration": 151,
    "start_time": "2022-08-20T10:05:44.060Z"
   },
   {
    "duration": 14,
    "start_time": "2022-08-20T10:05:44.215Z"
   },
   {
    "duration": 79,
    "start_time": "2022-08-20T10:05:44.230Z"
   },
   {
    "duration": 93,
    "start_time": "2022-08-20T10:05:44.312Z"
   },
   {
    "duration": 32,
    "start_time": "2022-08-20T10:05:44.407Z"
   },
   {
    "duration": 82,
    "start_time": "2022-08-20T10:05:44.441Z"
   },
   {
    "duration": 38,
    "start_time": "2022-08-20T10:05:44.606Z"
   },
   {
    "duration": 2,
    "start_time": "2022-08-20T10:05:44.646Z"
   },
   {
    "duration": 156,
    "start_time": "2022-08-20T10:05:44.649Z"
   },
   {
    "duration": 17,
    "start_time": "2022-08-20T10:05:44.806Z"
   },
   {
    "duration": 6,
    "start_time": "2022-08-20T10:05:44.825Z"
   },
   {
    "duration": 9,
    "start_time": "2022-08-20T10:05:44.832Z"
   },
   {
    "duration": 415,
    "start_time": "2022-08-20T10:05:44.842Z"
   },
   {
    "duration": 397,
    "start_time": "2022-08-20T10:05:45.259Z"
   },
   {
    "duration": 364,
    "start_time": "2022-08-20T10:05:45.657Z"
   },
   {
    "duration": 16,
    "start_time": "2022-08-20T19:04:37.506Z"
   },
   {
    "duration": 1984,
    "start_time": "2022-08-20T19:27:56.178Z"
   },
   {
    "duration": 1187,
    "start_time": "2022-08-20T19:28:01.315Z"
   },
   {
    "duration": 91,
    "start_time": "2022-08-20T19:28:02.808Z"
   },
   {
    "duration": 80,
    "start_time": "2022-08-20T19:28:03.660Z"
   },
   {
    "duration": 88,
    "start_time": "2022-08-20T19:28:04.446Z"
   },
   {
    "duration": 130,
    "start_time": "2022-08-20T19:28:11.321Z"
   },
   {
    "duration": 18,
    "start_time": "2022-08-20T19:28:16.349Z"
   },
   {
    "duration": 38,
    "start_time": "2022-08-20T19:28:16.745Z"
   },
   {
    "duration": 14,
    "start_time": "2022-08-20T19:28:17.114Z"
   },
   {
    "duration": 29,
    "start_time": "2022-08-20T19:28:17.687Z"
   },
   {
    "duration": 18,
    "start_time": "2022-08-20T19:28:17.994Z"
   },
   {
    "duration": 31,
    "start_time": "2022-08-20T19:28:18.593Z"
   },
   {
    "duration": 8,
    "start_time": "2022-08-20T19:28:23.893Z"
   },
   {
    "duration": 6,
    "start_time": "2022-08-20T19:28:28.499Z"
   },
   {
    "duration": 7,
    "start_time": "2022-08-20T19:28:30.377Z"
   },
   {
    "duration": 9,
    "start_time": "2022-08-20T19:28:30.878Z"
   },
   {
    "duration": 11,
    "start_time": "2022-08-20T19:28:31.354Z"
   },
   {
    "duration": 493,
    "start_time": "2022-08-20T19:28:37.034Z"
   },
   {
    "duration": 139,
    "start_time": "2022-08-20T19:29:04.157Z"
   },
   {
    "duration": 5,
    "start_time": "2022-08-20T19:29:42.226Z"
   },
   {
    "duration": 22,
    "start_time": "2022-08-20T19:32:08.364Z"
   },
   {
    "duration": 3,
    "start_time": "2022-08-20T19:37:16.888Z"
   },
   {
    "duration": 14,
    "start_time": "2022-08-20T19:38:43.185Z"
   },
   {
    "duration": 1467,
    "start_time": "2022-08-20T20:02:14.331Z"
   },
   {
    "duration": 3,
    "start_time": "2022-08-20T20:02:15.799Z"
   },
   {
    "duration": 809,
    "start_time": "2022-08-20T20:02:15.803Z"
   },
   {
    "duration": 57,
    "start_time": "2022-08-20T20:02:16.614Z"
   },
   {
    "duration": 46,
    "start_time": "2022-08-20T20:02:16.674Z"
   },
   {
    "duration": 58,
    "start_time": "2022-08-20T20:02:16.722Z"
   },
   {
    "duration": 108,
    "start_time": "2022-08-20T20:02:16.781Z"
   },
   {
    "duration": 9,
    "start_time": "2022-08-20T20:02:16.890Z"
   },
   {
    "duration": 60,
    "start_time": "2022-08-20T20:02:16.901Z"
   },
   {
    "duration": 97,
    "start_time": "2022-08-20T20:02:16.970Z"
   },
   {
    "duration": 25,
    "start_time": "2022-08-20T20:02:17.069Z"
   },
   {
    "duration": 75,
    "start_time": "2022-08-20T20:02:17.097Z"
   },
   {
    "duration": 122,
    "start_time": "2022-08-20T20:02:17.174Z"
   },
   {
    "duration": 3,
    "start_time": "2022-08-20T20:02:17.299Z"
   },
   {
    "duration": 192,
    "start_time": "2022-08-20T20:02:17.358Z"
   },
   {
    "duration": 0,
    "start_time": "2022-08-20T20:02:17.552Z"
   },
   {
    "duration": 0,
    "start_time": "2022-08-20T20:02:17.559Z"
   },
   {
    "duration": 0,
    "start_time": "2022-08-20T20:02:17.560Z"
   },
   {
    "duration": 0,
    "start_time": "2022-08-20T20:02:17.561Z"
   },
   {
    "duration": 0,
    "start_time": "2022-08-20T20:02:17.563Z"
   },
   {
    "duration": 0,
    "start_time": "2022-08-20T20:02:17.564Z"
   },
   {
    "duration": 0,
    "start_time": "2022-08-20T20:02:17.564Z"
   },
   {
    "duration": 3,
    "start_time": "2022-08-20T20:04:04.843Z"
   },
   {
    "duration": 6,
    "start_time": "2022-08-20T20:04:06.670Z"
   },
   {
    "duration": 6,
    "start_time": "2022-08-20T20:04:07.122Z"
   },
   {
    "duration": 6,
    "start_time": "2022-08-20T20:04:07.470Z"
   },
   {
    "duration": 384,
    "start_time": "2022-08-20T20:04:08.323Z"
   },
   {
    "duration": 356,
    "start_time": "2022-08-20T20:04:08.772Z"
   },
   {
    "duration": 370,
    "start_time": "2022-08-20T20:04:09.152Z"
   },
   {
    "duration": 48,
    "start_time": "2022-08-20T20:04:09.570Z"
   },
   {
    "duration": 13,
    "start_time": "2022-08-20T20:04:20.672Z"
   },
   {
    "duration": 12,
    "start_time": "2022-08-20T20:04:45.392Z"
   },
   {
    "duration": 12,
    "start_time": "2022-08-20T20:05:39.240Z"
   },
   {
    "duration": 13,
    "start_time": "2022-08-20T20:05:49.670Z"
   },
   {
    "duration": 12,
    "start_time": "2022-08-20T20:06:03.132Z"
   },
   {
    "duration": 12,
    "start_time": "2022-08-20T20:06:14.273Z"
   },
   {
    "duration": 129,
    "start_time": "2022-08-20T20:13:40.029Z"
   },
   {
    "duration": 18,
    "start_time": "2022-08-20T20:19:10.191Z"
   },
   {
    "duration": 18,
    "start_time": "2022-08-20T20:19:55.472Z"
   },
   {
    "duration": 22,
    "start_time": "2022-08-20T20:20:05.202Z"
   },
   {
    "duration": 12,
    "start_time": "2022-08-20T20:22:08.955Z"
   },
   {
    "duration": 4969,
    "start_time": "2022-08-20T20:22:29.580Z"
   },
   {
    "duration": 1231,
    "start_time": "2022-08-20T20:23:23.162Z"
   },
   {
    "duration": 3,
    "start_time": "2022-08-20T20:23:24.395Z"
   },
   {
    "duration": 352,
    "start_time": "2022-08-20T20:23:24.399Z"
   },
   {
    "duration": 55,
    "start_time": "2022-08-20T20:23:24.753Z"
   },
   {
    "duration": 63,
    "start_time": "2022-08-20T20:23:24.809Z"
   },
   {
    "duration": 48,
    "start_time": "2022-08-20T20:23:24.873Z"
   },
   {
    "duration": 124,
    "start_time": "2022-08-20T20:23:24.923Z"
   },
   {
    "duration": 17,
    "start_time": "2022-08-20T20:23:25.049Z"
   },
   {
    "duration": 19,
    "start_time": "2022-08-20T20:23:25.068Z"
   },
   {
    "duration": 18,
    "start_time": "2022-08-20T20:23:25.090Z"
   },
   {
    "duration": 158,
    "start_time": "2022-08-20T20:23:25.110Z"
   },
   {
    "duration": 87,
    "start_time": "2022-08-20T20:23:25.270Z"
   },
   {
    "duration": 124,
    "start_time": "2022-08-20T20:23:25.359Z"
   },
   {
    "duration": 125,
    "start_time": "2022-08-20T20:23:25.485Z"
   },
   {
    "duration": 0,
    "start_time": "2022-08-20T20:23:25.612Z"
   },
   {
    "duration": 0,
    "start_time": "2022-08-20T20:23:25.613Z"
   },
   {
    "duration": 0,
    "start_time": "2022-08-20T20:23:25.615Z"
   },
   {
    "duration": 12,
    "start_time": "2022-08-20T20:24:09.553Z"
   },
   {
    "duration": 12,
    "start_time": "2022-08-20T20:24:10.282Z"
   },
   {
    "duration": 4832,
    "start_time": "2022-08-20T20:24:11.013Z"
   },
   {
    "duration": 1280,
    "start_time": "2022-08-20T20:26:25.072Z"
   },
   {
    "duration": 3,
    "start_time": "2022-08-20T20:26:26.353Z"
   },
   {
    "duration": 336,
    "start_time": "2022-08-20T20:26:26.358Z"
   },
   {
    "duration": 62,
    "start_time": "2022-08-20T20:26:26.696Z"
   },
   {
    "duration": 50,
    "start_time": "2022-08-20T20:26:26.760Z"
   },
   {
    "duration": 63,
    "start_time": "2022-08-20T20:26:26.812Z"
   },
   {
    "duration": 117,
    "start_time": "2022-08-20T20:26:26.877Z"
   },
   {
    "duration": 10,
    "start_time": "2022-08-20T20:26:26.996Z"
   },
   {
    "duration": 15,
    "start_time": "2022-08-20T20:26:27.007Z"
   },
   {
    "duration": 33,
    "start_time": "2022-08-20T20:26:27.024Z"
   },
   {
    "duration": 103,
    "start_time": "2022-08-20T20:26:27.059Z"
   },
   {
    "duration": 3,
    "start_time": "2022-08-20T20:26:27.164Z"
   },
   {
    "duration": 212,
    "start_time": "2022-08-20T20:26:27.168Z"
   },
   {
    "duration": 102,
    "start_time": "2022-08-20T20:26:27.381Z"
   },
   {
    "duration": 0,
    "start_time": "2022-08-20T20:26:27.485Z"
   },
   {
    "duration": 0,
    "start_time": "2022-08-20T20:26:27.486Z"
   },
   {
    "duration": 0,
    "start_time": "2022-08-20T20:26:27.488Z"
   },
   {
    "duration": 4860,
    "start_time": "2022-08-20T20:26:36.248Z"
   },
   {
    "duration": 18,
    "start_time": "2022-08-20T20:30:05.679Z"
   },
   {
    "duration": 1322,
    "start_time": "2022-08-21T16:26:41.007Z"
   },
   {
    "duration": 3,
    "start_time": "2022-08-21T16:26:42.330Z"
   },
   {
    "duration": 1550,
    "start_time": "2022-08-21T16:26:42.334Z"
   },
   {
    "duration": 54,
    "start_time": "2022-08-21T16:26:43.885Z"
   },
   {
    "duration": 45,
    "start_time": "2022-08-21T16:26:43.941Z"
   },
   {
    "duration": 55,
    "start_time": "2022-08-21T16:26:43.988Z"
   },
   {
    "duration": 118,
    "start_time": "2022-08-21T16:26:44.045Z"
   },
   {
    "duration": 13,
    "start_time": "2022-08-21T16:26:44.165Z"
   },
   {
    "duration": 27,
    "start_time": "2022-08-21T16:26:44.179Z"
   },
   {
    "duration": 15,
    "start_time": "2022-08-21T16:26:44.207Z"
   },
   {
    "duration": 13,
    "start_time": "2022-08-21T16:26:44.224Z"
   },
   {
    "duration": 173,
    "start_time": "2022-08-21T16:26:44.239Z"
   },
   {
    "duration": 94,
    "start_time": "2022-08-21T16:26:44.413Z"
   },
   {
    "duration": 114,
    "start_time": "2022-08-21T16:26:44.509Z"
   },
   {
    "duration": 4285,
    "start_time": "2022-08-21T16:26:44.624Z"
   },
   {
    "duration": 1492,
    "start_time": "2022-08-21T16:30:11.237Z"
   },
   {
    "duration": 4543,
    "start_time": "2022-08-21T16:30:34.830Z"
   },
   {
    "duration": 1613,
    "start_time": "2022-08-21T16:31:15.497Z"
   },
   {
    "duration": 4328,
    "start_time": "2022-08-21T16:31:25.050Z"
   },
   {
    "duration": 5,
    "start_time": "2022-08-21T16:31:52.757Z"
   },
   {
    "duration": 5,
    "start_time": "2022-08-21T16:31:58.996Z"
   },
   {
    "duration": 6,
    "start_time": "2022-08-21T16:32:04.931Z"
   },
   {
    "duration": 24,
    "start_time": "2022-08-21T16:32:59.702Z"
   },
   {
    "duration": 22,
    "start_time": "2022-08-21T16:33:12.726Z"
   },
   {
    "duration": 1793,
    "start_time": "2022-08-21T16:33:50.239Z"
   },
   {
    "duration": 4366,
    "start_time": "2022-08-21T16:34:01.909Z"
   },
   {
    "duration": 1900,
    "start_time": "2022-08-21T16:34:34.767Z"
   },
   {
    "duration": 4368,
    "start_time": "2022-08-21T16:34:43.153Z"
   },
   {
    "duration": 1443,
    "start_time": "2022-08-21T16:35:25.956Z"
   },
   {
    "duration": 1470,
    "start_time": "2022-08-21T16:35:39.274Z"
   },
   {
    "duration": 4382,
    "start_time": "2022-08-21T16:35:47.751Z"
   },
   {
    "duration": 13,
    "start_time": "2022-08-21T16:41:52.535Z"
   },
   {
    "duration": 22,
    "start_time": "2022-08-21T16:41:59.946Z"
   },
   {
    "duration": 11,
    "start_time": "2022-08-21T16:42:08.346Z"
   },
   {
    "duration": 24,
    "start_time": "2022-08-21T16:43:05.694Z"
   },
   {
    "duration": 1631,
    "start_time": "2022-08-21T16:44:02.828Z"
   },
   {
    "duration": 1577,
    "start_time": "2022-08-21T16:44:19.295Z"
   },
   {
    "duration": 14,
    "start_time": "2022-08-21T16:47:44.728Z"
   },
   {
    "duration": 4392,
    "start_time": "2022-08-21T16:47:54.856Z"
   },
   {
    "duration": 13,
    "start_time": "2022-08-21T16:48:44.669Z"
   },
   {
    "duration": 15,
    "start_time": "2022-08-21T16:48:51.242Z"
   },
   {
    "duration": 102,
    "start_time": "2022-08-21T16:48:57.238Z"
   },
   {
    "duration": 13,
    "start_time": "2022-08-21T16:50:38.294Z"
   },
   {
    "duration": 1905,
    "start_time": "2022-08-21T16:53:46.370Z"
   },
   {
    "duration": 4122,
    "start_time": "2022-08-21T16:54:01.769Z"
   },
   {
    "duration": 13,
    "start_time": "2022-08-21T16:54:33.136Z"
   },
   {
    "duration": 3861,
    "start_time": "2022-08-21T16:54:42.744Z"
   },
   {
    "duration": 1994,
    "start_time": "2022-08-22T04:54:10.742Z"
   },
   {
    "duration": 3,
    "start_time": "2022-08-22T04:54:54.576Z"
   },
   {
    "duration": 1543,
    "start_time": "2022-08-22T04:57:58.942Z"
   },
   {
    "duration": 2,
    "start_time": "2022-08-22T04:58:00.488Z"
   },
   {
    "duration": 911,
    "start_time": "2022-08-22T04:58:00.492Z"
   },
   {
    "duration": 62,
    "start_time": "2022-08-22T04:58:01.405Z"
   },
   {
    "duration": 54,
    "start_time": "2022-08-22T04:58:01.468Z"
   },
   {
    "duration": 102,
    "start_time": "2022-08-22T04:58:01.524Z"
   },
   {
    "duration": 170,
    "start_time": "2022-08-22T04:58:01.628Z"
   },
   {
    "duration": 17,
    "start_time": "2022-08-22T04:58:01.799Z"
   },
   {
    "duration": 13,
    "start_time": "2022-08-22T04:58:01.818Z"
   },
   {
    "duration": 24,
    "start_time": "2022-08-22T04:58:01.856Z"
   },
   {
    "duration": 34,
    "start_time": "2022-08-22T04:58:01.883Z"
   },
   {
    "duration": 341,
    "start_time": "2022-08-22T04:58:01.921Z"
   },
   {
    "duration": 5,
    "start_time": "2022-08-22T04:58:02.264Z"
   },
   {
    "duration": 108,
    "start_time": "2022-08-22T04:58:02.271Z"
   },
   {
    "duration": 4796,
    "start_time": "2022-08-22T04:58:02.381Z"
   },
   {
    "duration": 4573,
    "start_time": "2022-08-22T04:59:59.015Z"
   },
   {
    "duration": 4731,
    "start_time": "2022-08-22T05:09:08.329Z"
   },
   {
    "duration": 1678,
    "start_time": "2022-08-22T16:46:39.958Z"
   },
   {
    "duration": 3,
    "start_time": "2022-08-22T16:46:41.638Z"
   },
   {
    "duration": 2066,
    "start_time": "2022-08-22T16:46:41.643Z"
   },
   {
    "duration": 62,
    "start_time": "2022-08-22T16:46:43.710Z"
   },
   {
    "duration": 59,
    "start_time": "2022-08-22T16:46:43.774Z"
   },
   {
    "duration": 75,
    "start_time": "2022-08-22T16:46:43.835Z"
   },
   {
    "duration": 131,
    "start_time": "2022-08-22T16:46:43.911Z"
   },
   {
    "duration": 17,
    "start_time": "2022-08-22T16:46:44.043Z"
   },
   {
    "duration": 45,
    "start_time": "2022-08-22T16:46:44.062Z"
   },
   {
    "duration": 21,
    "start_time": "2022-08-22T16:46:44.111Z"
   },
   {
    "duration": 22,
    "start_time": "2022-08-22T16:46:44.135Z"
   },
   {
    "duration": 142,
    "start_time": "2022-08-22T16:46:44.159Z"
   },
   {
    "duration": 6,
    "start_time": "2022-08-22T16:46:44.305Z"
   },
   {
    "duration": 111,
    "start_time": "2022-08-22T16:46:44.314Z"
   },
   {
    "duration": 5947,
    "start_time": "2022-08-22T16:46:44.427Z"
   },
   {
    "duration": 149,
    "start_time": "2022-08-22T16:47:20.190Z"
   },
   {
    "duration": 37,
    "start_time": "2022-08-22T16:48:06.500Z"
   },
   {
    "duration": 1519,
    "start_time": "2022-08-22T16:48:14.942Z"
   },
   {
    "duration": 3,
    "start_time": "2022-08-22T16:48:16.463Z"
   },
   {
    "duration": 460,
    "start_time": "2022-08-22T16:48:16.467Z"
   },
   {
    "duration": 65,
    "start_time": "2022-08-22T16:48:16.929Z"
   },
   {
    "duration": 62,
    "start_time": "2022-08-22T16:48:16.996Z"
   },
   {
    "duration": 77,
    "start_time": "2022-08-22T16:48:17.060Z"
   },
   {
    "duration": 147,
    "start_time": "2022-08-22T16:48:17.138Z"
   },
   {
    "duration": 23,
    "start_time": "2022-08-22T16:48:17.295Z"
   },
   {
    "duration": 17,
    "start_time": "2022-08-22T16:48:17.321Z"
   },
   {
    "duration": 21,
    "start_time": "2022-08-22T16:48:17.342Z"
   },
   {
    "duration": 33,
    "start_time": "2022-08-22T16:48:17.365Z"
   },
   {
    "duration": 115,
    "start_time": "2022-08-22T16:48:17.404Z"
   },
   {
    "duration": 75,
    "start_time": "2022-08-22T16:48:17.521Z"
   },
   {
    "duration": 145,
    "start_time": "2022-08-22T16:48:17.597Z"
   },
   {
    "duration": 138,
    "start_time": "2022-08-22T16:48:17.744Z"
   },
   {
    "duration": 5595,
    "start_time": "2022-08-22T16:48:34.469Z"
   },
   {
    "duration": 6158,
    "start_time": "2022-08-22T16:49:03.720Z"
   },
   {
    "duration": 5975,
    "start_time": "2022-08-22T16:51:24.132Z"
   },
   {
    "duration": 51,
    "start_time": "2022-08-22T21:36:56.066Z"
   },
   {
    "duration": 1811,
    "start_time": "2022-08-22T21:37:00.157Z"
   },
   {
    "duration": 4,
    "start_time": "2022-08-22T21:37:06.942Z"
   },
   {
    "duration": 8,
    "start_time": "2022-08-22T21:37:27.904Z"
   },
   {
    "duration": 7,
    "start_time": "2022-08-22T21:37:38.370Z"
   },
   {
    "duration": 10,
    "start_time": "2022-08-22T21:37:46.498Z"
   },
   {
    "duration": 6,
    "start_time": "2022-08-22T21:37:50.078Z"
   },
   {
    "duration": 7,
    "start_time": "2022-08-22T21:37:55.636Z"
   },
   {
    "duration": 7,
    "start_time": "2022-08-22T21:37:58.660Z"
   },
   {
    "duration": 8,
    "start_time": "2022-08-22T21:38:03.333Z"
   },
   {
    "duration": 9,
    "start_time": "2022-08-22T21:38:05.580Z"
   },
   {
    "duration": 8,
    "start_time": "2022-08-22T21:38:10.718Z"
   },
   {
    "duration": 8,
    "start_time": "2022-08-22T21:38:12.970Z"
   },
   {
    "duration": 7,
    "start_time": "2022-08-22T21:38:17.196Z"
   },
   {
    "duration": 6,
    "start_time": "2022-08-22T21:38:22.319Z"
   },
   {
    "duration": 43,
    "start_time": "2022-08-23T04:29:14.353Z"
   },
   {
    "duration": 1367,
    "start_time": "2022-08-23T04:29:22.943Z"
   },
   {
    "duration": 3,
    "start_time": "2022-08-23T04:29:24.311Z"
   },
   {
    "duration": 1553,
    "start_time": "2022-08-23T04:29:24.315Z"
   },
   {
    "duration": 52,
    "start_time": "2022-08-23T04:29:25.870Z"
   },
   {
    "duration": 45,
    "start_time": "2022-08-23T04:29:25.923Z"
   },
   {
    "duration": 65,
    "start_time": "2022-08-23T04:29:25.969Z"
   },
   {
    "duration": 135,
    "start_time": "2022-08-23T04:29:26.035Z"
   },
   {
    "duration": 34,
    "start_time": "2022-08-23T04:29:26.172Z"
   },
   {
    "duration": 11,
    "start_time": "2022-08-23T04:29:26.207Z"
   },
   {
    "duration": 13,
    "start_time": "2022-08-23T04:29:26.220Z"
   },
   {
    "duration": 13,
    "start_time": "2022-08-23T04:29:26.235Z"
   },
   {
    "duration": 266,
    "start_time": "2022-08-23T04:29:26.249Z"
   },
   {
    "duration": 5,
    "start_time": "2022-08-23T04:29:26.605Z"
   },
   {
    "duration": 104,
    "start_time": "2022-08-23T04:29:26.612Z"
   },
   {
    "duration": 4559,
    "start_time": "2022-08-23T04:29:26.717Z"
   },
   {
    "duration": 3,
    "start_time": "2022-08-23T04:29:31.277Z"
   },
   {
    "duration": 46,
    "start_time": "2022-08-23T04:29:31.282Z"
   },
   {
    "duration": 12,
    "start_time": "2022-08-23T04:29:31.329Z"
   },
   {
    "duration": 8,
    "start_time": "2022-08-23T04:29:31.342Z"
   },
   {
    "duration": 15,
    "start_time": "2022-08-23T04:29:31.351Z"
   },
   {
    "duration": 5,
    "start_time": "2022-08-23T04:29:31.368Z"
   },
   {
    "duration": 5,
    "start_time": "2022-08-23T04:29:31.375Z"
   },
   {
    "duration": 6,
    "start_time": "2022-08-23T04:29:31.381Z"
   },
   {
    "duration": 11,
    "start_time": "2022-08-23T04:29:31.389Z"
   },
   {
    "duration": 6,
    "start_time": "2022-08-23T04:29:31.401Z"
   },
   {
    "duration": 5,
    "start_time": "2022-08-23T04:29:31.408Z"
   },
   {
    "duration": 6,
    "start_time": "2022-08-23T04:29:31.415Z"
   },
   {
    "duration": 5,
    "start_time": "2022-08-23T04:29:31.423Z"
   }
  ],
  "kernelspec": {
   "display_name": "Python 3 (ipykernel)",
   "language": "python",
   "name": "python3"
  },
  "language_info": {
   "codemirror_mode": {
    "name": "ipython",
    "version": 3
   },
   "file_extension": ".py",
   "mimetype": "text/x-python",
   "name": "python",
   "nbconvert_exporter": "python",
   "pygments_lexer": "ipython3",
   "version": "3.9.12"
  },
  "toc": {
   "base_numbering": 1,
   "nav_menu": {},
   "number_sections": true,
   "sideBar": true,
   "skip_h1_title": true,
   "title_cell": "Table of Contents",
   "title_sidebar": "Contents",
   "toc_cell": false,
   "toc_position": {},
   "toc_section_display": true,
   "toc_window_display": false
  }
 },
 "nbformat": 4,
 "nbformat_minor": 2
}
